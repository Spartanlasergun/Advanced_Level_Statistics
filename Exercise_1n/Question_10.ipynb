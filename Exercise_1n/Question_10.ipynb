{
 "cells": [
  {
   "cell_type": "markdown",
   "id": "b4c5552d-1120-4c79-aa43-abf8aa65f9ce",
   "metadata": {},
   "source": [
    "#### Question 10 has been neglected as it requires manual measurment of pie charts with a protractor. Thus, it does not adequately represent a programming problem or the utility of programming."
   ]
  }
 ],
 "metadata": {
  "kernelspec": {
   "display_name": "Python 3 (ipykernel)",
   "language": "python",
   "name": "python3"
  },
  "language_info": {
   "codemirror_mode": {
    "name": "ipython",
    "version": 3
   },
   "file_extension": ".py",
   "mimetype": "text/x-python",
   "name": "python",
   "nbconvert_exporter": "python",
   "pygments_lexer": "ipython3",
   "version": "3.11.2"
  }
 },
 "nbformat": 4,
 "nbformat_minor": 5
}

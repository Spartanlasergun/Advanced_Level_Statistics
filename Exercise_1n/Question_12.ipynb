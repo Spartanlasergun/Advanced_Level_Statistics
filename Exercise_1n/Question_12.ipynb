{
 "cells": [
  {
   "cell_type": "markdown",
   "id": "0b08c855-b0da-4e43-bc3c-62d5aeb26b87",
   "metadata": {},
   "source": [
    "# Question Twelve"
   ]
  },
  {
   "cell_type": "code",
   "execution_count": null,
   "id": "d76436ac-b2f5-49ff-bc80-7a74c093805f",
   "metadata": {},
   "outputs": [],
   "source": []
  }
 ],
 "metadata": {
  "kernelspec": {
   "display_name": "Python 3 (ipykernel)",
   "language": "python",
   "name": "python3"
  },
  "language_info": {
   "codemirror_mode": {
    "name": "ipython",
    "version": 3
   },
   "file_extension": ".py",
   "mimetype": "text/x-python",
   "name": "python",
   "nbconvert_exporter": "python",
   "pygments_lexer": "ipython3",
   "version": "3.11.2"
  }
 },
 "nbformat": 4,
 "nbformat_minor": 5
}

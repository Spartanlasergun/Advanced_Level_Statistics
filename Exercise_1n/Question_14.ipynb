{
 "cells": [
  {
   "cell_type": "markdown",
   "id": "1fcd054b-f72a-4d8b-898c-3657cf2abe02",
   "metadata": {},
   "source": [
    "# Question Fourteen"
   ]
  },
  {
   "cell_type": "code",
   "execution_count": null,
   "id": "7e3353c7-fbf5-4234-95a6-97990533b36c",
   "metadata": {},
   "outputs": [],
   "source": []
  }
 ],
 "metadata": {
  "kernelspec": {
   "display_name": "Python 3 (ipykernel)",
   "language": "python",
   "name": "python3"
  },
  "language_info": {
   "codemirror_mode": {
    "name": "ipython",
    "version": 3
   },
   "file_extension": ".py",
   "mimetype": "text/x-python",
   "name": "python",
   "nbconvert_exporter": "python",
   "pygments_lexer": "ipython3",
   "version": "3.11.2"
  }
 },
 "nbformat": 4,
 "nbformat_minor": 5
}

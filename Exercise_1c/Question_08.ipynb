{
 "cells": [
  {
   "cell_type": "code",
   "execution_count": 1,
   "id": "13612788",
   "metadata": {},
   "outputs": [
    {
     "name": "stdout",
     "output_type": "stream",
     "text": [
      "Times Angle: 28.8\n",
      "Telegraph Angle: 72.0\n",
      "Express Angle: 115.2\n",
      "Other Angle: 144.0\n"
     ]
    }
   ],
   "source": [
    "Times = 10\n",
    "Telegraph = 25\n",
    "Express = 40\n",
    "Other = 50\n",
    "Total = Times + Telegraph + Express + Other\n",
    "Times_angle = (Times/Total) * 360\n",
    "Telegraph_angle = (Telegraph/Total) * 360\n",
    "Express_angle = (Express/Total) * 360\n",
    "Other_angle = (Other/Total) * 360\n",
    "print(\"Times Angle: \" + str(Times_angle))\n",
    "print(\"Telegraph Angle: \" + str(Telegraph_angle))\n",
    "print(\"Express Angle: \" + str(Express_angle))\n",
    "print(\"Other Angle: \" + str(Other_angle))"
   ]
  },
  {
   "cell_type": "code",
   "execution_count": 5,
   "id": "5164602b",
   "metadata": {},
   "outputs": [
    {
     "name": "stdout",
     "output_type": "stream",
     "text": [
      "The number of people in the second survey is: 180.00000000000003\n"
     ]
    }
   ],
   "source": [
    "import math\n",
    "F_2  = ((6/5) * (math.sqrt(Total))) ** 2\n",
    "print(\"The number of people in the second survey is: \" + str(F_2))"
   ]
  }
 ],
 "metadata": {
  "kernelspec": {
   "display_name": "Python 3 (ipykernel)",
   "language": "python",
   "name": "python3"
  },
  "language_info": {
   "codemirror_mode": {
    "name": "ipython",
    "version": 3
   },
   "file_extension": ".py",
   "mimetype": "text/x-python",
   "name": "python",
   "nbconvert_exporter": "python",
   "pygments_lexer": "ipython3",
   "version": "3.10.7"
  }
 },
 "nbformat": 4,
 "nbformat_minor": 5
}

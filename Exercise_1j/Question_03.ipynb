{
 "cells": [
  {
   "cell_type": "code",
   "execution_count": 7,
   "id": "c1b2de75-2b09-4cf7-aa11-04cda2713288",
   "metadata": {
    "tags": []
   },
   "outputs": [
    {
     "name": "stdout",
     "output_type": "stream",
     "text": [
      "The median is = 61\n",
      "The lower quartile is = 52.0\n",
      "The upper quartile is = 73.0\n",
      "The interquartile range is = 21.0\n"
     ]
    }
   ],
   "source": [
    "import statistics\n",
    "\n",
    "data = [52, 61, 78, 49, 47, 79, 54, 58, 62, 73, 72]\n",
    "\n",
    "median = statistics.median(data)\n",
    "quartiles = statistics.quantiles(data, n=4)\n",
    "lower_quartile = quartiles[0]\n",
    "upper_quartile = quartiles[2]\n",
    "intq_range = upper_quartile - lower_quartile\n",
    "print(\"The median is = \"  + str(median))\n",
    "print(\"The lower quartile is = \" + str(lower_quartile))\n",
    "print(\"The upper quartile is = \" + str(upper_quartile))\n",
    "print(\"The interquartile range is = \" + str(intq_range))"
   ]
  }
 ],
 "metadata": {
  "kernelspec": {
   "display_name": "Python 3 (ipykernel)",
   "language": "python",
   "name": "python3"
  },
  "language_info": {
   "codemirror_mode": {
    "name": "ipython",
    "version": 3
   },
   "file_extension": ".py",
   "mimetype": "text/x-python",
   "name": "python",
   "nbconvert_exporter": "python",
   "pygments_lexer": "ipython3",
   "version": "3.11.2"
  }
 },
 "nbformat": 4,
 "nbformat_minor": 5
}

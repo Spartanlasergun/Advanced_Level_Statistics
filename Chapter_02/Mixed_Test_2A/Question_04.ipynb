{
 "cells": [
  {
   "cell_type": "markdown",
   "id": "44106765-05d0-43aa-9527-514fa0345345",
   "metadata": {},
   "source": [
    "# Question 4\n",
    "-----"
   ]
  },
  {
   "cell_type": "code",
   "execution_count": 1,
   "id": "61ec4aa5-c6e5-4388-a0e2-690b7aaf6bf9",
   "metadata": {},
   "outputs": [
    {
     "name": "stdout",
     "output_type": "stream",
     "text": [
      "Pearson r = -0.9752810433442549\n"
     ]
    }
   ],
   "source": [
    "from scipy.stats import pearsonr\n",
    "\n",
    "x = [0.1, 0.2, 0.3, 0.4, 0.5, 0.6, 0.7, 0.8, 0.9]\n",
    "y = [1.97, 1.94, 1.89, 1.82, 1.73, 1.62, 1.49, 1.34, 1.17]\n",
    "\n",
    "pearr = pearsonr(x, y)[0]\n",
    "print(\"Pearson r = \" + str(pearr))"
   ]
  },
  {
   "cell_type": "markdown",
   "id": "46548923-f692-4d12-beef-4c0ba47b2f2b",
   "metadata": {},
   "source": [
    "The strong negative correlation indicates that as x increases, y decreases in a linear fashion."
   ]
  },
  {
   "cell_type": "code",
   "execution_count": 2,
   "id": "682ff24d-3918-498e-b29b-a9e8a01b45fd",
   "metadata": {},
   "outputs": [
    {
     "name": "stdout",
     "output_type": "stream",
     "text": [
      "Spearman's r = -1.0\n"
     ]
    }
   ],
   "source": [
    "from scipy.stats import spearmanr\n",
    "\n",
    "spearr = spearmanr(x, y)[0]\n",
    "print(\"Spearman's r = \" + str(spearr))"
   ]
  },
  {
   "cell_type": "markdown",
   "id": "3c8c49a6-e89f-4cd2-8285-a073edb7b1e4",
   "metadata": {},
   "source": [
    "Spearmans r indicates perfect negative correlation, and also indicates that the x and y values all have a unique rank."
   ]
  },
  {
   "cell_type": "markdown",
   "id": "59e0e184-9518-4614-aae0-46b6de13a165",
   "metadata": {},
   "source": [
    "The product moment correlation best indicates the relationship between x and y because the data is continuous and the pearson's coefficient gives a precise values whereas the scatterplot can only be used as a general guide."
   ]
  },
  {
   "cell_type": "code",
   "execution_count": null,
   "id": "efe646d6-27ad-4a88-a88d-8aed233140fa",
   "metadata": {},
   "outputs": [],
   "source": []
  }
 ],
 "metadata": {
  "kernelspec": {
   "display_name": "Python 3 (ipykernel)",
   "language": "python",
   "name": "python3"
  },
  "language_info": {
   "codemirror_mode": {
    "name": "ipython",
    "version": 3
   },
   "file_extension": ".py",
   "mimetype": "text/x-python",
   "name": "python",
   "nbconvert_exporter": "python",
   "pygments_lexer": "ipython3",
   "version": "3.12.1"
  }
 },
 "nbformat": 4,
 "nbformat_minor": 5
}

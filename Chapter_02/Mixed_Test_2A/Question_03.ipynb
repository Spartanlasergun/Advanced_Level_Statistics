{
 "cells": [
  {
   "cell_type": "markdown",
   "id": "ee11168f-d727-412b-b4dc-a528ec33780b",
   "metadata": {},
   "source": [
    "# Question 3\n",
    "-----"
   ]
  },
  {
   "cell_type": "code",
   "execution_count": 1,
   "id": "54b5ce87-0194-4103-ad99-8711af0fe965",
   "metadata": {},
   "outputs": [
    {
     "name": "stdout",
     "output_type": "stream",
     "text": [
      "Spearman's r = 0.7142857142857144\n"
     ]
    }
   ],
   "source": [
    "from scipy.stats import spearmanr\n",
    "\n",
    "x = [8, 10, 18, 2, 1, 4, 15]\n",
    "y = [5, 14, 12, 9, 4, 1, 19]\n",
    "\n",
    "spearr = spearmanr(x, y)[0]\n",
    "print(\"Spearman's r = \" + str(spearr))"
   ]
  }
 ],
 "metadata": {
  "kernelspec": {
   "display_name": "Python 3 (ipykernel)",
   "language": "python",
   "name": "python3"
  },
  "language_info": {
   "codemirror_mode": {
    "name": "ipython",
    "version": 3
   },
   "file_extension": ".py",
   "mimetype": "text/x-python",
   "name": "python",
   "nbconvert_exporter": "python",
   "pygments_lexer": "ipython3",
   "version": "3.12.1"
  }
 },
 "nbformat": 4,
 "nbformat_minor": 5
}

{
 "cells": [
  {
   "cell_type": "markdown",
   "id": "eda6c9c0-5484-47f2-84ec-9132f1c59936",
   "metadata": {},
   "source": [
    "# Question 1\n",
    "-----"
   ]
  },
  {
   "cell_type": "code",
   "execution_count": 2,
   "id": "98aed4f5-befe-4442-af3a-3032c05deebe",
   "metadata": {},
   "outputs": [
    {
     "name": "stdout",
     "output_type": "stream",
     "text": [
      "regression function is given by y = 0.03773809523809524x + 3.6667857142857145\n"
     ]
    }
   ],
   "source": [
    "import statistics\n",
    "\n",
    "x = [30, 45, 60, 75, 90, 105, 120]\n",
    "y = [4.85, 5.20, 5.76, 6.60, 7.35, 7.95, 7.77]\n",
    "\n",
    "var = statistics.variance(x)\n",
    "covar = statistics.covariance(x, y)\n",
    "gradient = covar / var\n",
    "mean_x = statistics.mean(x)\n",
    "mean_y = statistics.mean(y)\n",
    "y_intercept = mean_y - (gradient * mean_x)\n",
    "print(\"regression function is given by y = \" + str(gradient) + \"x + \" + str(y_intercept))"
   ]
  },
  {
   "cell_type": "markdown",
   "id": "586e9bd4-5ee1-4e5c-99b7-6b5915befd90",
   "metadata": {},
   "source": [
    "the y intercept suggests that the minimum yield is 3.67 tonnes of hay"
   ]
  },
  {
   "cell_type": "code",
   "execution_count": 4,
   "id": "3b51350e-b98b-4f20-9800-a9ae673283b9",
   "metadata": {},
   "outputs": [
    {
     "name": "stdout",
     "output_type": "stream",
     "text": [
      "predicted yield at water level 28 = 4.723452380952381\n"
     ]
    }
   ],
   "source": [
    "at28 = (gradient * 28) + y_intercept\n",
    "print(\"predicted yield at water level 28 = \" + str(at28))"
   ]
  },
  {
   "cell_type": "markdown",
   "id": "c9baa9b9-523e-41bb-a4af-dadb595f9cb0",
   "metadata": {},
   "source": [
    "the prediction at a value of 28 should be interpreted with caution as it is slightly beyond the range of the dataset"
   ]
  },
  {
   "cell_type": "code",
   "execution_count": 5,
   "id": "8a2af204-3b69-4324-8014-a21a11244fbe",
   "metadata": {},
   "outputs": [
    {
     "name": "stdout",
     "output_type": "stream",
     "text": [
      "predicted yield at water level 150 = 9.3275\n"
     ]
    }
   ],
   "source": [
    "at150 = (gradient * 150) + y_intercept\n",
    "print(\"predicted yield at water level 150 = \" + str(at150))"
   ]
  },
  {
   "cell_type": "markdown",
   "id": "577db88b-15d8-46df-aa94-bde7a10a772f",
   "metadata": {},
   "source": [
    "The prediction at water level 150 is unreliable because it is far beyond the range of the data."
   ]
  }
 ],
 "metadata": {
  "kernelspec": {
   "display_name": "Python 3 (ipykernel)",
   "language": "python",
   "name": "python3"
  },
  "language_info": {
   "codemirror_mode": {
    "name": "ipython",
    "version": 3
   },
   "file_extension": ".py",
   "mimetype": "text/x-python",
   "name": "python",
   "nbconvert_exporter": "python",
   "pygments_lexer": "ipython3",
   "version": "3.12.1"
  }
 },
 "nbformat": 4,
 "nbformat_minor": 5
}

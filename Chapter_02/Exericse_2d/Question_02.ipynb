{
 "cells": [
  {
   "cell_type": "markdown",
   "id": "484e98c7-3863-412a-be50-bcd573ce5bba",
   "metadata": {},
   "source": [
    "# Question 2\n",
    "-----"
   ]
  },
  {
   "cell_type": "code",
   "execution_count": 6,
   "id": "3f40c4cb-3cc2-49e8-b4eb-ac462f466072",
   "metadata": {},
   "outputs": [
    {
     "name": "stdout",
     "output_type": "stream",
     "text": [
      "regression function is given by t = -0.8527272727272728w + 18.772727272727273\n"
     ]
    }
   ],
   "source": [
    "import statistics\n",
    "\n",
    "t = [25, 21, 9, 1, -4, -7, -11, -13, -15, -17, -17]\n",
    "w = [0, 5, 10, 15, 20, 25, 30, 35, 40, 45, 50]\n",
    "\n",
    "var = statistics.variance(w)\n",
    "covar = statistics.covariance(w, t)\n",
    "gradient = covar / var\n",
    "mean_t = statistics.mean(t)\n",
    "mean_w = statistics.mean(w)\n",
    "y_intercept = mean_t - (mean_w * gradient)\n",
    "print(\"regression function is given by t = \" + str(gradient) + \"w + \" + str(y_intercept))"
   ]
  },
  {
   "cell_type": "code",
   "execution_count": 7,
   "id": "356b1d4a-84ef-4561-9091-1ad5da3a4194",
   "metadata": {},
   "outputs": [
    {
     "name": "stdout",
     "output_type": "stream",
     "text": [
      "b (i) -13.529999999999998 *F\n",
      "b (ii) -27.98 *F\n"
     ]
    }
   ],
   "source": [
    "at38 = (-0.85 * 38) + 18.77\n",
    "at55 = (-0.85 * 55) + 18.77\n",
    "print(\"b (i) \" + str(at38) + \" *F\")\n",
    "print(\"b (ii) \" + str(at55) + \" *F\")"
   ]
  },
  {
   "cell_type": "code",
   "execution_count": 9,
   "id": "4aef5eb3-28de-4cfd-98ef-7b55fcf6d62a",
   "metadata": {},
   "outputs": [
    {
     "name": "stdout",
     "output_type": "stream",
     "text": [
      "Pearson's r = -0.9459414051482267\n"
     ]
    }
   ],
   "source": [
    "from scipy.stats import pearsonr\n",
    "\n",
    "pearr = pearsonr(w, t)[0]\n",
    "print(\"Pearson's r = \" + str(pearr))"
   ]
  },
  {
   "cell_type": "markdown",
   "id": "10e44097-11d0-4ebe-b68f-215a0c0d8a90",
   "metadata": {},
   "source": [
    "The very strong negative correlation indicates that as wind speed increases, the temperature decreases"
   ]
  },
  {
   "cell_type": "markdown",
   "id": "c20e5f16-3db6-4049-a59c-8679dd3d08fa",
   "metadata": {},
   "source": [
    "Based on the pearsons coefficent, the linear estimate given by the regression function is extremely reliable for the estimate at 38 miles per hour. However, caution needs to be taken in estimating values outside the data range as in the case of 55 miles per hour as there may will most certainly be a threshold for temperature increase."
   ]
  }
 ],
 "metadata": {
  "kernelspec": {
   "display_name": "Python 3 (ipykernel)",
   "language": "python",
   "name": "python3"
  },
  "language_info": {
   "codemirror_mode": {
    "name": "ipython",
    "version": 3
   },
   "file_extension": ".py",
   "mimetype": "text/x-python",
   "name": "python",
   "nbconvert_exporter": "python",
   "pygments_lexer": "ipython3",
   "version": "3.12.1"
  }
 },
 "nbformat": 4,
 "nbformat_minor": 5
}

{
 "cells": [
  {
   "cell_type": "markdown",
   "id": "2aefbb3d-08e6-4088-a69e-635b00423822",
   "metadata": {},
   "source": [
    "# Question 14\n",
    "-----"
   ]
  },
  {
   "cell_type": "code",
   "execution_count": 1,
   "id": "10bbdf15-3e2c-4046-811a-c0707a4bd7af",
   "metadata": {},
   "outputs": [
    {
     "data": {
      "image/png": "[encoded data removed]",
      "text/plain": [
       "<Figure size 640x480 with 1 Axes>"
      ]
     },
     "metadata": {},
     "output_type": "display_data"
    }
   ],
   "source": [
    "import matplotlib.pyplot as plt\n",
    "import statistics\n",
    "\n",
    "x = [1, 2, 3, 4, 5, 6, 7]\n",
    "y = [22.3, 20.2, 17.9, 16.1, 16.8, 12.6, 10.9]\n",
    "\n",
    "mean_x = statistics.mean(x)\n",
    "mean_y = statistics.mean(y)\n",
    "\n",
    "plt.scatter(x, y)\n",
    "plt.scatter(mean_x, mean_y)\n",
    "plt.text(mean_x, mean_y + 0.5, 'mean', ha='center')\n",
    "plt.grid(True)\n",
    "plt.show()"
   ]
  },
  {
   "cell_type": "code",
   "execution_count": 3,
   "id": "ab616426-f6d8-41f2-9695-c2f16072c9cf",
   "metadata": {},
   "outputs": [
    {
     "name": "stdout",
     "output_type": "stream",
     "text": [
      "gradient = -1.8035714285714284\n"
     ]
    }
   ],
   "source": [
    "var = statistics.variance(x)\n",
    "covar = statistics.covariance(x, y)\n",
    "gradient = covar / var\n",
    "print(\"gradient = \" + str(gradient))"
   ]
  },
  {
   "cell_type": "code",
   "execution_count": 4,
   "id": "31553f2c-3f55-40a6-a02d-57f448cd8487",
   "metadata": {},
   "outputs": [
    {
     "name": "stdout",
     "output_type": "stream",
     "text": [
      "regression function is given by y = -1.8035714285714284x + 23.9\n"
     ]
    }
   ],
   "source": [
    "y_intercept = mean_y - (mean_x * gradient)\n",
    "print(\"regression function is given by y = \" + str(gradient) + \"x + \" + str(y_intercept))"
   ]
  },
  {
   "cell_type": "code",
   "execution_count": 6,
   "id": "85f7ecf4-8056-42b0-9bbb-d5ad44a09880",
   "metadata": {},
   "outputs": [
    {
     "name": "stdout",
     "output_type": "stream",
     "text": [
      "predicted temperature for may 1987 = 2.25714285714286 deg C\n"
     ]
    }
   ],
   "source": [
    "may = (gradient * 12) + y_intercept\n",
    "print(\"predicted temperature for may 1987 = \" + str(may) + \" deg C\")"
   ]
  },
  {
   "cell_type": "markdown",
   "id": "a7fbff89-9010-4e0f-ab62-187c435a1a2f",
   "metadata": {},
   "source": [
    "The temperature is drastically different from reality, because the relationship between time and seasonal temperature is non-linear."
   ]
  }
 ],
 "metadata": {
  "kernelspec": {
   "display_name": "Python 3 (ipykernel)",
   "language": "python",
   "name": "python3"
  },
  "language_info": {
   "codemirror_mode": {
    "name": "ipython",
    "version": 3
   },
   "file_extension": ".py",
   "mimetype": "text/x-python",
   "name": "python",
   "nbconvert_exporter": "python",
   "pygments_lexer": "ipython3",
   "version": "3.12.1"
  }
 },
 "nbformat": 4,
 "nbformat_minor": 5
}

{
 "cells": [
  {
   "cell_type": "markdown",
   "id": "2ad9b2bd-eca3-45b4-8795-21ab5d8236fe",
   "metadata": {},
   "source": [
    "# Question 3\n",
    "----"
   ]
  },
  {
   "cell_type": "markdown",
   "id": "b6996105-b7d5-4d86-8ecc-c7aef04b1dd3",
   "metadata": {},
   "source": [
    "a) There is a strong negative correlation between x and y. Meaning as temperature increases, ph decreases."
   ]
  },
  {
   "cell_type": "code",
   "execution_count": 1,
   "id": "3ea73740-ba06-4f4f-8528-1da0ed310ac4",
   "metadata": {},
   "outputs": [
    {
     "name": "stdout",
     "output_type": "stream",
     "text": [
      "regression function is given by y = -0.0072004358561211105x + 6.849951893539823\n"
     ]
    }
   ],
   "source": [
    "import statistics\n",
    "\n",
    "x = [4, 9, 17, 24, 32, 40, 46, 57, 63, 69, 72, 78]\n",
    "y = [6.85, 6.75, 6.74, 6.63, 6.68, 6.52, 6.54, 6.48, 6.36, 6.33, 6.35, 6.29]\n",
    "\n",
    "var = statistics.variance(x)\n",
    "covar = statistics.covariance(x, y)\n",
    "gradient = covar / var\n",
    "mean_x = statistics.mean(x)\n",
    "mean_y = statistics.mean(y)\n",
    "y_intercept = mean_y - (mean_x * gradient)\n",
    "print(\"regression function is given by y = \" + str(gradient) + \"x + \" + str(y_intercept))"
   ]
  },
  {
   "cell_type": "markdown",
   "id": "5bd680d0-edb3-478c-b773-1e35635c328f",
   "metadata": {},
   "source": [
    "c) At the y_intercept, the ph is 6.85, which means that at 0*C, the ph is 6.85"
   ]
  },
  {
   "cell_type": "code",
   "execution_count": 2,
   "id": "b451ef9d-cc10-49c0-9a20-f7546b416f08",
   "metadata": {},
   "outputs": [
    {
     "name": "stdout",
     "output_type": "stream",
     "text": [
      "6.7059999999999995\n"
     ]
    }
   ],
   "source": [
    "at20 = (-0.0072 * 20) + 6.85\n",
    "print(at20)"
   ]
  },
  {
   "cell_type": "markdown",
   "id": "76471fcb-9e16-4ddb-bcf5-77edc4bccd1f",
   "metadata": {},
   "source": [
    "d) (i) at 20 deg celsius, the pH of the milk is estimated to be 6.706. This is reliable because the estimate is within the boundaries of the regression function"
   ]
  },
  {
   "cell_type": "code",
   "execution_count": 3,
   "id": "5028be85-50fa-4306-9b65-30e09fc03a90",
   "metadata": {},
   "outputs": [
    {
     "name": "stdout",
     "output_type": "stream",
     "text": [
      "6.1659999999999995\n"
     ]
    }
   ],
   "source": [
    "at95 = (-0.0072 * 95) + 6.85\n",
    "print(at95)"
   ]
  },
  {
   "cell_type": "markdown",
   "id": "3d9d0cdc-0915-4e1d-9a9c-2ca19608b3e9",
   "metadata": {},
   "source": [
    "d) (i) at 95 deg celsius, the pH of the milk is estimated to be 6.17. This is unreliable because the estimate is beyond the boundaries of the regression function"
   ]
  },
  {
   "cell_type": "code",
   "execution_count": 4,
   "id": "09e7196f-8d7a-453f-a8da-d84fcaf3507e",
   "metadata": {},
   "outputs": [
    {
     "name": "stdout",
     "output_type": "stream",
     "text": [
      "48.611111111111065\n"
     ]
    }
   ],
   "source": [
    "x65 = (6.5 - 6.85) / -0.0072\n",
    "print(x65)"
   ]
  },
  {
   "cell_type": "markdown",
   "id": "c6dc2429-bd0e-44e8-924d-68523e2f4ccb",
   "metadata": {},
   "source": [
    "e) the milk will have a temp of 48.6 deg celcius at a pH of 6.5"
   ]
  }
 ],
 "metadata": {
  "kernelspec": {
   "display_name": "Python 3 (ipykernel)",
   "language": "python",
   "name": "python3"
  },
  "language_info": {
   "codemirror_mode": {
    "name": "ipython",
    "version": 3
   },
   "file_extension": ".py",
   "mimetype": "text/x-python",
   "name": "python",
   "nbconvert_exporter": "python",
   "pygments_lexer": "ipython3",
   "version": "3.12.1"
  }
 },
 "nbformat": 4,
 "nbformat_minor": 5
}

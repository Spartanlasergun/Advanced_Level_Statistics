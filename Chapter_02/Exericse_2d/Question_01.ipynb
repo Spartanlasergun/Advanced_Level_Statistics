{
 "cells": [
  {
   "cell_type": "markdown",
   "id": "73283439-a3fa-4749-ae86-15a748c46048",
   "metadata": {},
   "source": [
    "# Question 1\n",
    "-----"
   ]
  },
  {
   "cell_type": "code",
   "execution_count": 1,
   "id": "344b99ca-60b2-4ab1-872d-b1b51835bb43",
   "metadata": {},
   "outputs": [
    {
     "name": "stdout",
     "output_type": "stream",
     "text": [
      "the regression equation is given by y = 1.1714285714285715x +3.0666666666666664\n"
     ]
    }
   ],
   "source": [
    "import math\n",
    "\n",
    "n = 6\n",
    "Ex = 21\n",
    "Ey = 43\n",
    "Ex_2 = 91\n",
    "Ey_2 = 335\n",
    "Exy = 171\n",
    "\n",
    "Sxy = Exy - ((Ex * Ey) / n)\n",
    "Sxx = Ex_2 - ((pow(Ex, 2)) / n)\n",
    "\n",
    "b = Sxy / Sxx\n",
    "y_intercept = (Ey / n) - ((Ex / n) * b)\n",
    "print(\"the regression equation is given by y = \" + str(b) + \"x +\" + str(y_intercept))"
   ]
  },
  {
   "cell_type": "markdown",
   "id": "1f9c7c8b-7524-462b-b366-327a965a0323",
   "metadata": {},
   "source": [
    "b) use the line x on y, if x is dependent and y is independent"
   ]
  }
 ],
 "metadata": {
  "kernelspec": {
   "display_name": "Python 3 (ipykernel)",
   "language": "python",
   "name": "python3"
  },
  "language_info": {
   "codemirror_mode": {
    "name": "ipython",
    "version": 3
   },
   "file_extension": ".py",
   "mimetype": "text/x-python",
   "name": "python",
   "nbconvert_exporter": "python",
   "pygments_lexer": "ipython3",
   "version": "3.12.1"
  }
 },
 "nbformat": 4,
 "nbformat_minor": 5
}

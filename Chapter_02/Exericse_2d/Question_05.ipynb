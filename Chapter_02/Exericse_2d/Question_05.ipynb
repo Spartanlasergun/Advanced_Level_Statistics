{
 "cells": [
  {
   "cell_type": "markdown",
   "id": "fdbdb08b-2662-438b-ab9f-6c285b6070d9",
   "metadata": {},
   "source": [
    "# Question 5\n",
    "-----"
   ]
  },
  {
   "cell_type": "markdown",
   "id": "d464247b-3f63-4c7d-b04f-2f27a75ff5b1",
   "metadata": {},
   "source": [
    "Correlation is a measure of how significant the relationship is between two or more variables.\n",
    "\n",
    "I could have used correlation to better understand the relationship between grades for different subjects."
   ]
  },
  {
   "cell_type": "code",
   "execution_count": 1,
   "id": "7ffaebc5-c721-4659-87d3-b2e01b4b3d66",
   "metadata": {},
   "outputs": [
    {
     "data": {
      "image/png": "[encoded data removed]",
      "text/plain": [
       "<Figure size 640x480 with 1 Axes>"
      ]
     },
     "metadata": {},
     "output_type": "display_data"
    }
   ],
   "source": [
    "import matplotlib.pyplot as plt\n",
    "\n",
    "T = [5, 9, 7, 11, 20, 4, 6, 17, 12, 10, 15, 16]\n",
    "P = [6, 8, 9, 13, 20, 9, 8, 17, 14, 8, 17, 18]\n",
    "\n",
    "plt.scatter(T, P)\n",
    "plt.grid(True)\n",
    "plt.show()"
   ]
  },
  {
   "cell_type": "code",
   "execution_count": 2,
   "id": "36186eb0-9e80-419d-aa10-ef23d8f39681",
   "metadata": {},
   "outputs": [
    {
     "name": "stdout",
     "output_type": "stream",
     "text": [
      "Pearson's r = 0.9354255855343756\n"
     ]
    }
   ],
   "source": [
    "from scipy.stats import pearsonr\n",
    "\n",
    "pearr = pearsonr(T, P)[0]\n",
    "print(\"Pearson's r = \" + str(pearr))"
   ]
  },
  {
   "cell_type": "markdown",
   "id": "2657d992-aaaa-454d-a21e-efbbc1a37fa1",
   "metadata": {},
   "source": [
    "c) Pearson's r indicates a strong positive relationship. Both the graph and the correlation coefficient indicates that the data can be described by a linear model which means that a regression model is appropriate."
   ]
  },
  {
   "cell_type": "code",
   "execution_count": 3,
   "id": "e8e6aa90-5bd9-4a96-8b35-31f0b7781af4",
   "metadata": {},
   "outputs": [
    {
     "name": "stdout",
     "output_type": "stream",
     "text": [
      "regression function is given by y = 0.8793103448275863x + 2.5775862068965516\n"
     ]
    }
   ],
   "source": [
    "import statistics\n",
    "\n",
    "var = statistics.variance(T)\n",
    "covar = statistics.covariance(T, P)\n",
    "gradient = covar / var\n",
    "mean_T = statistics.mean(T)\n",
    "mean_P = statistics.mean(P)\n",
    "y_intercept = mean_P - (mean_T * gradient)\n",
    "print(\"regression function is given by y = \" + str(gradient) + \"x + \" + str(y_intercept))"
   ]
  },
  {
   "cell_type": "code",
   "execution_count": 4,
   "id": "f8d490cd-37e5-497a-885a-81d43340de58",
   "metadata": {},
   "outputs": [
    {
     "name": "stdout",
     "output_type": "stream",
     "text": [
      "The estimated score in a practical test for a theoretical score of 14 is = 14.88793103448276\n"
     ]
    }
   ],
   "source": [
    "est = (gradient * 14) + y_intercept\n",
    "print(\"The estimated score in a practical test for a theoretical score of 14 is = \" + str(est))"
   ]
  }
 ],
 "metadata": {
  "kernelspec": {
   "display_name": "Python 3 (ipykernel)",
   "language": "python",
   "name": "python3"
  },
  "language_info": {
   "codemirror_mode": {
    "name": "ipython",
    "version": 3
   },
   "file_extension": ".py",
   "mimetype": "text/x-python",
   "name": "python",
   "nbconvert_exporter": "python",
   "pygments_lexer": "ipython3",
   "version": "3.12.1"
  }
 },
 "nbformat": 4,
 "nbformat_minor": 5
}

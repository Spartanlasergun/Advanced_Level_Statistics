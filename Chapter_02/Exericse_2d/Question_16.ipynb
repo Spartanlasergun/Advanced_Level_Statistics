{
 "cells": [
  {
   "cell_type": "markdown",
   "id": "f8991ff2-4cd8-45a7-a2b8-3a18991533d8",
   "metadata": {},
   "source": [
    "# Question 16\n",
    "-----"
   ]
  },
  {
   "cell_type": "code",
   "execution_count": 1,
   "id": "b2b2a462-880c-402f-9e75-a1f940dfe801",
   "metadata": {},
   "outputs": [
    {
     "name": "stdout",
     "output_type": "stream",
     "text": [
      "Pearson's r = 0.9807537506120447\n"
     ]
    }
   ],
   "source": [
    "from scipy.stats import pearsonr\n",
    "\n",
    "x = [12.3, 13.7, 14.5, 11.2, 13.2, 14.1, 12.0]\n",
    "y = [6.25, 8.02, 8.42, 5.27, 7.21, 8.71, 5.68]\n",
    "\n",
    "pearr = pearsonr(x, y)[0]\n",
    "print(\"Pearson's r = \" + str(pearr))"
   ]
  },
  {
   "cell_type": "code",
   "execution_count": 5,
   "id": "8cb7f9d4-10e1-4092-8bef-9a220e765db0",
   "metadata": {},
   "outputs": [
    {
     "name": "stdout",
     "output_type": "stream",
     "text": [
      "regression function x on y is given by x = 0.8623869480404326y + 6.894300407873737\n"
     ]
    }
   ],
   "source": [
    "y = [12.3, 13.7, 14.5, 11.2, 13.2, 14.1, 12.0]\n",
    "x = [6.25, 8.02, 8.42, 5.27, 7.21, 8.71, 5.68]\n",
    "\n",
    "var = statistics.variance(x)\n",
    "covar = statistics.covariance(x, y)\n",
    "gradient = covar / var\n",
    "mean_x = statistics.mean(x)\n",
    "mean_y = statistics.mean(y)\n",
    "y_intercept = mean_y - (gradient * mean_x)\n",
    "print(\"regression function x on y is given by x = \" + str(gradient) + \"y + \" + str(y_intercept))"
   ]
  },
  {
   "cell_type": "code",
   "execution_count": 8,
   "id": "6d406f63-c5c5-401b-b27b-11c01923d6a8",
   "metadata": {},
   "outputs": [
    {
     "name": "stdout",
     "output_type": "stream",
     "text": [
      "regression function y on x is given by y = 1.1153669724770645x + -7.419770642201838\n"
     ]
    }
   ],
   "source": [
    "import statistics\n",
    "\n",
    "x = [12.3, 13.7, 14.5, 11.2, 13.2, 14.1, 12.0]\n",
    "y = [6.25, 8.02, 8.42, 5.27, 7.21, 8.71, 5.68]\n",
    "\n",
    "var = statistics.variance(x)\n",
    "covar = statistics.covariance(x, y)\n",
    "gradient = covar / var\n",
    "mean_x = statistics.mean(x)\n",
    "mean_y = statistics.mean(y)\n",
    "y_intercept = mean_y - (gradient * mean_x)\n",
    "print(\"regression function y on x is given by y = \" + str(gradient) + \"x + \" + str(y_intercept))"
   ]
  },
  {
   "cell_type": "code",
   "execution_count": 9,
   "id": "fb1832e0-67f7-4f67-b4a0-38fec26b00db",
   "metadata": {},
   "outputs": [
    {
     "name": "stdout",
     "output_type": "stream",
     "text": [
      "estimated yield for 14cm of rainfall = 8.195366972477066\n"
     ]
    }
   ],
   "source": [
    "at14 = (gradient * 14) + y_intercept\n",
    "print(\"estimated yield for 14cm of rainfall = \" + str(at14))"
   ]
  },
  {
   "cell_type": "code",
   "execution_count": 10,
   "id": "7d640915-6e40-43f1-960a-ad1e5661b87e",
   "metadata": {},
   "outputs": [
    {
     "name": "stdout",
     "output_type": "stream",
     "text": [
      "estimated rainfall for a yield of 8.08 tonnes = 13.896565905819452\n"
     ]
    }
   ],
   "source": [
    "rain = (8.08 - y_intercept) / gradient\n",
    "print(\"estimated rainfall for a yield of 8.08 tonnes = \" + str(rain))"
   ]
  }
 ],
 "metadata": {
  "kernelspec": {
   "display_name": "Python 3 (ipykernel)",
   "language": "python",
   "name": "python3"
  },
  "language_info": {
   "codemirror_mode": {
    "name": "ipython",
    "version": 3
   },
   "file_extension": ".py",
   "mimetype": "text/x-python",
   "name": "python",
   "nbconvert_exporter": "python",
   "pygments_lexer": "ipython3",
   "version": "3.12.1"
  }
 },
 "nbformat": 4,
 "nbformat_minor": 5
}

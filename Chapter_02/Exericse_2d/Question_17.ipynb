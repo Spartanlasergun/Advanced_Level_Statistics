{
 "cells": [
  {
   "cell_type": "markdown",
   "id": "d667c92f-66a9-4609-bf50-b5e032e3d88f",
   "metadata": {},
   "source": [
    "# Question 17\n",
    "-----"
   ]
  },
  {
   "cell_type": "code",
   "execution_count": 3,
   "id": "fce6b299-ec8a-44f3-b506-4ad80ca6ff32",
   "metadata": {},
   "outputs": [
    {
     "name": "stdout",
     "output_type": "stream",
     "text": [
      "regression function is given by y = 1.5459228217216694x + 41.78508817880217\n"
     ]
    }
   ],
   "source": [
    "import statistics\n",
    "\n",
    "x = [7.6, 23.2, 3.2, 16.6, 5.2, 6.8, 5.0]\n",
    "y = [62, 75, 51, 72, 39, 43, 55]\n",
    "\n",
    "var = statistics.variance(x)\n",
    "covar = statistics.covariance(x, y)\n",
    "gradient = covar / var\n",
    "mean_x = statistics.mean(x)\n",
    "mean_y = statistics.mean(y)\n",
    "y_intercept = mean_y - (gradient * mean_x)\n",
    "print(\"regression function is given by y = \" + str(gradient) + \"x + \" + str(y_intercept))"
   ]
  },
  {
   "cell_type": "code",
   "execution_count": 4,
   "id": "0ab34468-d51b-4649-996a-cfa1ebd6ce94",
   "metadata": {},
   "outputs": [
    {
     "name": "stdout",
     "output_type": "stream",
     "text": [
      "estimated death toll for an exposure value of 6 = 51.06062510913219\n"
     ]
    }
   ],
   "source": [
    "at6 = (gradient * 6) + y_intercept\n",
    "print(\"estimated death toll for an exposure value of 6 = \" + str(at6))"
   ]
  },
  {
   "cell_type": "code",
   "execution_count": 5,
   "id": "685ba4ed-d1d9-4b48-872e-924ab6d32241",
   "metadata": {},
   "outputs": [
    {
     "name": "stdout",
     "output_type": "stream",
     "text": [
      "at no exposure, the death toll is estimated at 41.78508817880217\n"
     ]
    }
   ],
   "source": [
    "at0 = y_intercept\n",
    "print(\"at no exposure, the death toll is estimated at \" + str(at0))"
   ]
  }
 ],
 "metadata": {
  "kernelspec": {
   "display_name": "Python 3 (ipykernel)",
   "language": "python",
   "name": "python3"
  },
  "language_info": {
   "codemirror_mode": {
    "name": "ipython",
    "version": 3
   },
   "file_extension": ".py",
   "mimetype": "text/x-python",
   "name": "python",
   "nbconvert_exporter": "python",
   "pygments_lexer": "ipython3",
   "version": "3.12.1"
  }
 },
 "nbformat": 4,
 "nbformat_minor": 5
}

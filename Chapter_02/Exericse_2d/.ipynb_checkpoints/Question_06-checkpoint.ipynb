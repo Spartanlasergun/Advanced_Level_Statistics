{
 "cells": [
  {
   "cell_type": "markdown",
   "id": "b70e95f8-a7fd-4ee2-9020-dc1c4101202b",
   "metadata": {},
   "source": [
    "# Question 6\n",
    "-----"
   ]
  },
  {
   "cell_type": "markdown",
   "id": "adc94af6-a29b-4cd0-a670-bb438367e27a",
   "metadata": {},
   "source": [
    "a) The average error from the mean is minimized"
   ]
  },
  {
   "cell_type": "code",
   "execution_count": 1,
   "id": "1673465a-f6f3-48b9-af7b-42264d376387",
   "metadata": {},
   "outputs": [
    {
     "name": "stdout",
     "output_type": "stream",
     "text": [
      "regression function is given by y = -0.046971345665578534x + 7.772796517954298\n"
     ]
    }
   ],
   "source": [
    "import statistics\n",
    "\n",
    "x = [50, 8, 34, 22, 45, 15, 74, 82, 60, 30]\n",
    "y = [5.5, 7.4, 6.2, 6.8, 5.5, 7.1, 4.4, 3.9, 4.9, 6.3]\n",
    "\n",
    "var = statistics.variance(x)\n",
    "covar = statistics.covariance(x, y)\n",
    "gradient = covar / var\n",
    "mean_x = statistics.mean(x)\n",
    "mean_y = statistics.mean(y)\n",
    "y_intercept = mean_y - (mean_x * gradient)\n",
    "print(\"regression function is given by y = \" + str(gradient) + \"x + \" + str(y_intercept))"
   ]
  },
  {
   "cell_type": "code",
   "execution_count": 2,
   "id": "d2346426-8dec-409b-9b89-dae20a16e2f2",
   "metadata": {},
   "outputs": [
    {
     "name": "stdout",
     "output_type": "stream",
     "text": [
      "Heat output at 40% moisture is estimated to be = 5.893942691331157\n"
     ]
    }
   ],
   "source": [
    "at40 = (40 * gradient) + y_intercept\n",
    "print(\"Heat output at 40% moisture is estimated to be = \" + str(at40))"
   ]
  },
  {
   "cell_type": "markdown",
   "id": "7df9adcc-d8e5-423e-b2e1-2d9bbd03d0b6",
   "metadata": {},
   "source": [
    "An estimate for moisture content at 90% would be unreliable as it is beyond the scope of the dataset"
   ]
  },
  {
   "cell_type": "markdown",
   "id": "5af1938a-d83f-4386-af84-f535222aad82",
   "metadata": {},
   "source": [
    "For a person using wood for heating, finding the optimal heat output based on moisture content would be important as too high a moisture content would mean less heat, and too low a moisture content may mean too much heat."
   ]
  }
 ],
 "metadata": {
  "kernelspec": {
   "display_name": "Python 3 (ipykernel)",
   "language": "python",
   "name": "python3"
  },
  "language_info": {
   "codemirror_mode": {
    "name": "ipython",
    "version": 3
   },
   "file_extension": ".py",
   "mimetype": "text/x-python",
   "name": "python",
   "nbconvert_exporter": "python",
   "pygments_lexer": "ipython3",
   "version": "3.12.1"
  }
 },
 "nbformat": 4,
 "nbformat_minor": 5
}

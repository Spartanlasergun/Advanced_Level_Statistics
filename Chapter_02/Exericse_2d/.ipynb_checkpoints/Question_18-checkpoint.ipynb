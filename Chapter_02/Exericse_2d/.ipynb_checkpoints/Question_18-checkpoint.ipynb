{
 "cells": [
  {
   "cell_type": "markdown",
   "id": "62de326a-0d70-4769-8244-3059f934ecc2",
   "metadata": {},
   "source": [
    "# Question 18\n",
    "-----"
   ]
  },
  {
   "cell_type": "markdown",
   "id": "e0c3f4fd-3731-4422-909a-20de70a71fca",
   "metadata": {},
   "source": [
    "a) -0.95\n",
    "\n",
    "b) 0.1\n",
    "\n",
    "c) 0.8\n",
    "\n",
    "d) 0.9"
   ]
  }
 ],
 "metadata": {
  "kernelspec": {
   "display_name": "Python 3 (ipykernel)",
   "language": "python",
   "name": "python3"
  },
  "language_info": {
   "codemirror_mode": {
    "name": "ipython",
    "version": 3
   },
   "file_extension": ".py",
   "mimetype": "text/x-python",
   "name": "python",
   "nbconvert_exporter": "python",
   "pygments_lexer": "ipython3",
   "version": "3.12.1"
  }
 },
 "nbformat": 4,
 "nbformat_minor": 5
}

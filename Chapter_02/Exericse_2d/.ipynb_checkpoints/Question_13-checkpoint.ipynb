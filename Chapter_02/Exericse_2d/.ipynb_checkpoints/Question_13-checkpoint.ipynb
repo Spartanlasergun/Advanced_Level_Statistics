{
 "cells": [
  {
   "cell_type": "markdown",
   "id": "bf164093-e877-4f82-bb88-7f42e602b07e",
   "metadata": {},
   "source": [
    "# Question 13\n",
    "-----"
   ]
  },
  {
   "cell_type": "code",
   "execution_count": 2,
   "id": "0950f5d6-411f-4fa8-9c0d-5c783483bac0",
   "metadata": {},
   "outputs": [
    {
     "name": "stdout",
     "output_type": "stream",
     "text": [
      "The covariance is = 0.07050000000000023\n"
     ]
    }
   ],
   "source": [
    "Exy = 17.76\n",
    "Ex = 45\n",
    "Ey = 3.79\n",
    "n = 10\n",
    "\n",
    "sxy = (Exy / n) - ((Ey / n) * (Ex / n))\n",
    "print(\"The covariance is = \" + str(sxy))"
   ]
  },
  {
   "cell_type": "code",
   "execution_count": 3,
   "id": "25faaee1-2c88-4acb-afbd-c44932edcbb3",
   "metadata": {},
   "outputs": [
    {
     "name": "stdout",
     "output_type": "stream",
     "text": [
      "regression function is given by y = 0.008545454545454573x + 0.34054545454545443\n"
     ]
    }
   ],
   "source": [
    "b = sxy / 8.25\n",
    "y_intercept = (Ey / n) - ((Ex / n) * b)\n",
    "print(\"regression function is given by y = \" + str(b) + \"x + \" + str(y_intercept))"
   ]
  },
  {
   "cell_type": "code",
   "execution_count": 4,
   "id": "af2dce91-1344-4a1c-bcf6-e1bef24cd041",
   "metadata": {},
   "outputs": [
    {
     "name": "stdout",
     "output_type": "stream",
     "text": [
      "For the year 2000, car ownerships is at 0.4772727272727276\n"
     ]
    }
   ],
   "source": [
    "for2000 = (b * 16) + y_intercept\n",
    "print(\"For the year 2000, car ownerships is at \" + str(for2000))"
   ]
  },
  {
   "cell_type": "markdown",
   "id": "f0ff2d48-70b5-4568-8d0f-ce6ebd093499",
   "metadata": {},
   "source": [
    "The prediction is unreliable as it is far beyond the scope of the dataset"
   ]
  }
 ],
 "metadata": {
  "kernelspec": {
   "display_name": "Python 3 (ipykernel)",
   "language": "python",
   "name": "python3"
  },
  "language_info": {
   "codemirror_mode": {
    "name": "ipython",
    "version": 3
   },
   "file_extension": ".py",
   "mimetype": "text/x-python",
   "name": "python",
   "nbconvert_exporter": "python",
   "pygments_lexer": "ipython3",
   "version": "3.12.1"
  }
 },
 "nbformat": 4,
 "nbformat_minor": 5
}

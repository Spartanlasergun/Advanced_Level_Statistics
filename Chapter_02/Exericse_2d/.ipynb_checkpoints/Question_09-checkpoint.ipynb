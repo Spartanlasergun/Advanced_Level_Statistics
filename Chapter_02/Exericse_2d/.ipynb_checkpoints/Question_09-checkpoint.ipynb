{
 "cells": [
  {
   "cell_type": "markdown",
   "id": "1cde7ceb-2259-4859-a5ac-6359cf41c0e8",
   "metadata": {},
   "source": [
    "# Question 9\n",
    "-----"
   ]
  },
  {
   "cell_type": "code",
   "execution_count": 1,
   "id": "e3d3a373-55da-4075-bbde-7b05d2ed0877",
   "metadata": {},
   "outputs": [
    {
     "name": "stdout",
     "output_type": "stream",
     "text": [
      "regression function is given by y = -0.009154041145409996x + 12.032995907433282\n"
     ]
    }
   ],
   "source": [
    "x_bar = 440.57\n",
    "y_bar = 8.00\n",
    "Sxy = -1598.00\n",
    "Sxx = 174567.71\n",
    "\n",
    "b = Sxy / Sxx\n",
    "y_intercept = y_bar - (b * x_bar)\n",
    "print(\"regression function is given by y = \" + str(b) + \"x + \" + str(y_intercept))"
   ]
  },
  {
   "cell_type": "code",
   "execution_count": 2,
   "id": "24232428-6ed6-4390-ac0c-a2ef7dbffa84",
   "metadata": {},
   "outputs": [
    {
     "name": "stdout",
     "output_type": "stream",
     "text": [
      "estimated infant mortality rate = 8.554460272177483\n"
     ]
    }
   ],
   "source": [
    "at380 = (b * 380) + y_intercept\n",
    "print(\"estimated infant mortality rate = \" + str(at380))"
   ]
  },
  {
   "cell_type": "markdown",
   "id": "9c5aeb8b-f2b7-47a9-8e4e-606b8b2a2f16",
   "metadata": {},
   "source": [
    "based on the regression coefficient, increasing the number of doctors will not reduce the infant mortalitly rate."
   ]
  }
 ],
 "metadata": {
  "kernelspec": {
   "display_name": "Python 3 (ipykernel)",
   "language": "python",
   "name": "python3"
  },
  "language_info": {
   "codemirror_mode": {
    "name": "ipython",
    "version": 3
   },
   "file_extension": ".py",
   "mimetype": "text/x-python",
   "name": "python",
   "nbconvert_exporter": "python",
   "pygments_lexer": "ipython3",
   "version": "3.12.1"
  }
 },
 "nbformat": 4,
 "nbformat_minor": 5
}

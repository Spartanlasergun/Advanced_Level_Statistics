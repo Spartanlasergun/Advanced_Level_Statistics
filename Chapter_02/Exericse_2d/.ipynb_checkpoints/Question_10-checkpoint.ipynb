{
 "cells": [
  {
   "cell_type": "markdown",
   "id": "18be5a1e-0504-4c1c-bb71-549d1a99a88a",
   "metadata": {},
   "source": [
    "# Question 10\n",
    "-----"
   ]
  },
  {
   "cell_type": "code",
   "execution_count": 2,
   "id": "0c338b77-78f7-4ef4-8e4d-baf6dfeadac9",
   "metadata": {},
   "outputs": [
    {
     "name": "stdout",
     "output_type": "stream",
     "text": [
      "Spearman's r = -0.6107893935757621\n"
     ]
    }
   ],
   "source": [
    "from scipy.stats import spearmanr\n",
    "\n",
    "otg = [8, 6, 5, 2, 7, 4, 9, 7]\n",
    "ltm = [10, 21, 22, 19, 17, 14, 13, 16]\n",
    "\n",
    "spearr = spearmanr(ltm, otg)[0]\n",
    "print(\"Spearman's r = \" + str(spearr))"
   ]
  },
  {
   "cell_type": "markdown",
   "id": "cf57a5bd-f4de-456f-bb03-cb797f32b6d1",
   "metadata": {},
   "source": [
    "The spearmans coefficient indicates that as the listening scores increase, the scores on the oral test decrease."
   ]
  },
  {
   "cell_type": "code",
   "execution_count": 3,
   "id": "e6f18535-d732-4b27-b7ab-1f5947f839da",
   "metadata": {},
   "outputs": [
    {
     "name": "stdout",
     "output_type": "stream",
     "text": [
      "Pearson's  r = 0.9509214059260707\n"
     ]
    }
   ],
   "source": [
    "from scipy.stats import pearsonr\n",
    "\n",
    "wtm = [34, 76, 74, 60, 68, 44, 45, 53]\n",
    "\n",
    "pearr = pearsonr(ltm, wtm)[0]\n",
    "print(\"Pearson's  r = \" + str(pearr))"
   ]
  },
  {
   "cell_type": "markdown",
   "id": "d7f3d17b-9dcc-43ef-8d65-80346cc840fd",
   "metadata": {},
   "source": [
    "A strong positive correlation indicates that a higher score on the listening test is indicative of a higher score on the written test. Pearson's test was used because the data was continuous."
   ]
  },
  {
   "cell_type": "markdown",
   "id": "fc413add-b743-4324-91fe-bd33fe182f4a",
   "metadata": {},
   "source": [
    "There was weak positive correalation between the oral test and the written test. Since they performed similary in the written and listening tests, it could be inferred that the oral test was not as standardized as the others."
   ]
  }
 ],
 "metadata": {
  "kernelspec": {
   "display_name": "Python 3 (ipykernel)",
   "language": "python",
   "name": "python3"
  },
  "language_info": {
   "codemirror_mode": {
    "name": "ipython",
    "version": 3
   },
   "file_extension": ".py",
   "mimetype": "text/x-python",
   "name": "python",
   "nbconvert_exporter": "python",
   "pygments_lexer": "ipython3",
   "version": "3.12.1"
  }
 },
 "nbformat": 4,
 "nbformat_minor": 5
}

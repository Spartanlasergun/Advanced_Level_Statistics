{
 "cells": [
  {
   "cell_type": "markdown",
   "id": "b2e74d68-8ef7-453e-897a-d9e189ebfb64",
   "metadata": {},
   "source": [
    "# Question 12\n",
    "-----"
   ]
  },
  {
   "cell_type": "code",
   "execution_count": 1,
   "id": "211b2549-0cd1-453b-b0d3-f097186cfb83",
   "metadata": {},
   "outputs": [
    {
     "name": "stdout",
     "output_type": "stream",
     "text": [
      "Pearson's r = 0.9606730658504523\n"
     ]
    }
   ],
   "source": [
    "from scipy.stats import pearsonr\n",
    "\n",
    "x = [2, 3, 4, 4.5, 5, 6, 6.5, 8, 8.5, 9, 9.5, 10]\n",
    "y = [44, 50, 60, 54, 65, 73, 81, 89, 84, 90, 103, 120]\n",
    "\n",
    "pearr = pearsonr(x, y)[0]\n",
    "print(\"Pearson's r = \" + str(pearr))"
   ]
  },
  {
   "cell_type": "markdown",
   "id": "eab1055c-e38d-490b-9ed8-6e37d0f83d41",
   "metadata": {},
   "source": [
    "Pearson's r indicates a strong positive correlation. This means that as study time increases, examination scores also increase."
   ]
  },
  {
   "cell_type": "markdown",
   "id": "a890f7fc-2af3-4a54-8479-6d11db1ee592",
   "metadata": {},
   "source": [
    "c) The spearmans value should be the same, as the rankings do not change. "
   ]
  }
 ],
 "metadata": {
  "kernelspec": {
   "display_name": "Python 3 (ipykernel)",
   "language": "python",
   "name": "python3"
  },
  "language_info": {
   "codemirror_mode": {
    "name": "ipython",
    "version": 3
   },
   "file_extension": ".py",
   "mimetype": "text/x-python",
   "name": "python",
   "nbconvert_exporter": "python",
   "pygments_lexer": "ipython3",
   "version": "3.12.1"
  }
 },
 "nbformat": 4,
 "nbformat_minor": 5
}

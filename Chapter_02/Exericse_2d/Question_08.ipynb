{
 "cells": [
  {
   "cell_type": "markdown",
   "id": "35ea4ebc-44b3-4a4c-a88a-754a40411e3d",
   "metadata": {},
   "source": [
    "# Question 8\n",
    "-----"
   ]
  },
  {
   "cell_type": "code",
   "execution_count": 2,
   "id": "72bb146c-b8e2-4246-815d-938f4272c47d",
   "metadata": {},
   "outputs": [
    {
     "name": "stdout",
     "output_type": "stream",
     "text": [
      "regression function is given by y = 0.015666103535658265x + 0.6500844696512602\n"
     ]
    }
   ],
   "source": [
    "Ex = 1800\n",
    "Ey = 36.0\n",
    "Exy = 6438.6\n",
    "Ex_2 = 336296\n",
    "Ey_2 = 126.34\n",
    "n = 12\n",
    "\n",
    "Sxy = Exy - ((Ex*Ey)/n)\n",
    "Sxx = Ex_2 - ((pow(Ex, 2))/n)\n",
    "b = Sxy / Sxx\n",
    "y_intercept = (Ey/n) - ((Ex/n) * b)\n",
    "print(\"regression function is given by y = \" + str(b) + \"x + \" + str(y_intercept))"
   ]
  },
  {
   "cell_type": "code",
   "execution_count": 4,
   "id": "1321f8aa-c051-413b-a891-30b2c3312029",
   "metadata": {},
   "outputs": [
    {
     "name": "stdout",
     "output_type": "stream",
     "text": [
      "time for a distance of 200 miles is approximately = 3.783305176782913 days\n"
     ]
    }
   ],
   "source": [
    "at200 = (b * 200) + y_intercept\n",
    "print(\"time for a distance of 200 miles is approximately = \" + str(at200) + \" days\")"
   ]
  },
  {
   "cell_type": "markdown",
   "id": "e2559c18-8339-4841-8698-ec67362df05b",
   "metadata": {},
   "source": [
    "At 1500 hundred miles, the function is not reliable based on the dataset from which it was created."
   ]
  },
  {
   "cell_type": "code",
   "execution_count": 8,
   "id": "ddf0df92-db35-4697-be3d-a1a603cee87b",
   "metadata": {},
   "outputs": [
    {
     "name": "stdout",
     "output_type": "stream",
     "text": [
      "Pearson's r = 0.9419004180953608\n"
     ]
    }
   ],
   "source": [
    "# for x on y\n",
    "import math\n",
    "Syy = Ey_2 - ((pow(Ey, 2))/n)\n",
    "d = Sxy / Syy\n",
    "r_2 = b * d\n",
    "r = math.sqrt(r_2)\n",
    "print(\"Pearson's r = \" + str(r))"
   ]
  },
  {
   "cell_type": "markdown",
   "id": "2a933338-d71d-40b6-9520-236945e05635",
   "metadata": {},
   "source": [
    "A strong positive correlation indicates that the data can be described by a linear model"
   ]
  }
 ],
 "metadata": {
  "kernelspec": {
   "display_name": "Python 3 (ipykernel)",
   "language": "python",
   "name": "python3"
  },
  "language_info": {
   "codemirror_mode": {
    "name": "ipython",
    "version": 3
   },
   "file_extension": ".py",
   "mimetype": "text/x-python",
   "name": "python",
   "nbconvert_exporter": "python",
   "pygments_lexer": "ipython3",
   "version": "3.12.1"
  }
 },
 "nbformat": 4,
 "nbformat_minor": 5
}

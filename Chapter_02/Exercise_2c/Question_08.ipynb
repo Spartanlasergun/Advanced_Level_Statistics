{
 "cells": [
  {
   "cell_type": "markdown",
   "id": "e22473c4-4f46-456a-a834-59e7c364c6de",
   "metadata": {},
   "source": [
    "# Question 8\n",
    "-----"
   ]
  },
  {
   "cell_type": "code",
   "execution_count": 1,
   "id": "2c88b164-4666-48d7-8a58-17b829ef5647",
   "metadata": {},
   "outputs": [
    {
     "name": "stdout",
     "output_type": "stream",
     "text": [
      "Spearmans' r = -0.03571428571428572\n"
     ]
    }
   ],
   "source": [
    "from scipy.stats import spearmanr\n",
    "\n",
    "test1 = [3, 5, 6, 4, 7, 2, 1]\n",
    "test2 = [7, 4, 6, 1, 3, 2, 5]\n",
    "\n",
    "spearr = spearmanr(test1, test2)[0]\n",
    "print(\"Spearmans' r = \" + str(spearr))"
   ]
  },
  {
   "cell_type": "markdown",
   "id": "c8b90561-3d91-40c0-8073-8e501b1c83f9",
   "metadata": {},
   "source": [
    "The spearmans coefficient indicates that their is almost no correlation between test 1 and test 2"
   ]
  }
 ],
 "metadata": {
  "kernelspec": {
   "display_name": "Python 3 (ipykernel)",
   "language": "python",
   "name": "python3"
  },
  "language_info": {
   "codemirror_mode": {
    "name": "ipython",
    "version": 3
   },
   "file_extension": ".py",
   "mimetype": "text/x-python",
   "name": "python",
   "nbconvert_exporter": "python",
   "pygments_lexer": "ipython3",
   "version": "3.12.1"
  }
 },
 "nbformat": 4,
 "nbformat_minor": 5
}

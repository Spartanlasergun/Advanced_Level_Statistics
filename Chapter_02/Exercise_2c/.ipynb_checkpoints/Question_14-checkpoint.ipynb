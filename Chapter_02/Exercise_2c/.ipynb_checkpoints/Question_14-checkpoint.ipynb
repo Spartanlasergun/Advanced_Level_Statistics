{
 "cells": [
  {
   "cell_type": "markdown",
   "id": "831bb804-6525-4250-a3d9-9a556621b2cb",
   "metadata": {},
   "source": [
    "# Question 14\n",
    "-----"
   ]
  },
  {
   "cell_type": "code",
   "execution_count": 3,
   "id": "3a4f713c-7762-4a91-beb1-6cf6f73c8374",
   "metadata": {},
   "outputs": [
    {
     "name": "stdout",
     "output_type": "stream",
     "text": [
      "Spearman's r = 0.8406680016960503\n"
     ]
    }
   ],
   "source": [
    "from scipy.stats import spearmanr\n",
    "\n",
    "eng = [38, 62, 56, 42, 59, 48]\n",
    "his = [64, 84, 84, 60, 73, 69]\n",
    "\n",
    "spearr = spearmanr(eng, his)[0]\n",
    "print(\"Spearman's r = \" + str(spearr))"
   ]
  },
  {
   "cell_type": "markdown",
   "id": "a4a94de3-0b0e-4ccc-9a8d-0758cf9383aa",
   "metadata": {},
   "source": [
    "The strong positive correlation indicates that students that did better in history tended to do better in english and vice versa."
   ]
  },
  {
   "cell_type": "markdown",
   "id": "34c59097-7e72-4067-b502-761d1db2510c",
   "metadata": {},
   "source": [
    "The candidate that got the extra 5 marks is E. Adding 5 marks to this candidate does not change the ranking order for history scores."
   ]
  }
 ],
 "metadata": {
  "kernelspec": {
   "display_name": "Python 3 (ipykernel)",
   "language": "python",
   "name": "python3"
  },
  "language_info": {
   "codemirror_mode": {
    "name": "ipython",
    "version": 3
   },
   "file_extension": ".py",
   "mimetype": "text/x-python",
   "name": "python",
   "nbconvert_exporter": "python",
   "pygments_lexer": "ipython3",
   "version": "3.12.1"
  }
 },
 "nbformat": 4,
 "nbformat_minor": 5
}

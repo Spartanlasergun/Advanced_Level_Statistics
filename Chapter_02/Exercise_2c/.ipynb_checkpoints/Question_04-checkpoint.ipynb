{
 "cells": [
  {
   "cell_type": "markdown",
   "id": "f904478d-6dc1-4cbc-ad24-9ed1a4849964",
   "metadata": {},
   "source": [
    "# Question 4\n",
    "----"
   ]
  },
  {
   "cell_type": "code",
   "execution_count": 1,
   "id": "e0faadbb-9452-42eb-aeb3-e071f0e7a3e0",
   "metadata": {},
   "outputs": [
    {
     "name": "stdout",
     "output_type": "stream",
     "text": [
      "Spearman's r = 0.6190476190476191\n"
     ]
    }
   ],
   "source": [
    "from scipy.stats import spearmanr\n",
    "\n",
    "math = [67, 42, 85, 51, 39, 97, 81, 70]\n",
    "physics = [70, 59, 71, 38, 55, 62, 80, 76]\n",
    "\n",
    "spearr = spearmanr(math, physics)[0]\n",
    "print(\"Spearman's r = \" + str(spearr))"
   ]
  },
  {
   "cell_type": "markdown",
   "id": "c12d54ac-be39-4197-8925-8c0dda54addb",
   "metadata": {},
   "source": [
    "The spearmans coefficent shows a positive correlation between the math and physics scores. This means that the pupils that scored higher in math tended to have higher physics scores and vice versa."
   ]
  }
 ],
 "metadata": {
  "kernelspec": {
   "display_name": "Python 3 (ipykernel)",
   "language": "python",
   "name": "python3"
  },
  "language_info": {
   "codemirror_mode": {
    "name": "ipython",
    "version": 3
   },
   "file_extension": ".py",
   "mimetype": "text/x-python",
   "name": "python",
   "nbconvert_exporter": "python",
   "pygments_lexer": "ipython3",
   "version": "3.12.1"
  }
 },
 "nbformat": 4,
 "nbformat_minor": 5
}

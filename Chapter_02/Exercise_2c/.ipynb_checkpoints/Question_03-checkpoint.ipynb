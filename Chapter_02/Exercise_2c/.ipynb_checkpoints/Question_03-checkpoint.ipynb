{
 "cells": [
  {
   "cell_type": "markdown",
   "id": "f122375e-b119-4e57-8b14-50b80451a52f",
   "metadata": {},
   "source": [
    "# Question 3\n",
    "-----"
   ]
  },
  {
   "cell_type": "code",
   "execution_count": 1,
   "id": "b6b0d0ce-125f-4e80-9c5a-1f661dbc83ce",
   "metadata": {},
   "outputs": [
    {
     "name": "stdout",
     "output_type": "stream",
     "text": [
      "Spearman's r = 0.03333333333333333\n"
     ]
    }
   ],
   "source": [
    "from scipy.stats import spearmanr\n",
    "\n",
    "critics = [9, 10, 3, 32, 30, 25, 17, 8, 26]\n",
    "readers = [15, 46, 58, 49, 92, 37, 10, 90, 55]\n",
    "\n",
    "spearr = spearmanr(critics, readers)[0]\n",
    "print(\"Spearman's r = \" + str(spearr))"
   ]
  },
  {
   "cell_type": "markdown",
   "id": "02333e94-b5c1-4f12-80bd-e669c902c999",
   "metadata": {},
   "source": [
    "Based on the spearman coefficient, their is little to no correlation between the votes cast by the crtics and the readers."
   ]
  }
 ],
 "metadata": {
  "kernelspec": {
   "display_name": "Python 3 (ipykernel)",
   "language": "python",
   "name": "python3"
  },
  "language_info": {
   "codemirror_mode": {
    "name": "ipython",
    "version": 3
   },
   "file_extension": ".py",
   "mimetype": "text/x-python",
   "name": "python",
   "nbconvert_exporter": "python",
   "pygments_lexer": "ipython3",
   "version": "3.12.1"
  }
 },
 "nbformat": 4,
 "nbformat_minor": 5
}

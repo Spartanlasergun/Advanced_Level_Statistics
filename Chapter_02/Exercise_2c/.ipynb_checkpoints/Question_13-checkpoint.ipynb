{
 "cells": [
  {
   "cell_type": "markdown",
   "id": "1955b36a-0e77-4b6c-ae25-b610dd9aa759",
   "metadata": {},
   "source": [
    "# Question 13\n",
    "-----"
   ]
  },
  {
   "cell_type": "code",
   "execution_count": 6,
   "id": "962dab0d-c559-4a3a-a303-14aff8893418",
   "metadata": {},
   "outputs": [
    {
     "name": "stdout",
     "output_type": "stream",
     "text": [
      "a) (i) Spearman's r = -0.9761904761904763\n"
     ]
    }
   ],
   "source": [
    "from scipy.stats import spearmanr\n",
    "\n",
    "price = [611, 811, 591, 792, 520, 573, 683, 716]\n",
    "tmr = [5, 1, 7, 2, 8, 6, 4, 3]\n",
    "\n",
    "spearr = spearmanr(price, tmr)[0]\n",
    "print(\"a) (i) Spearman's r = \" + str(spearr))"
   ]
  },
  {
   "cell_type": "code",
   "execution_count": 7,
   "id": "856f0f91-97b7-443d-8a8d-c560b28d5a4b",
   "metadata": {},
   "outputs": [
    {
     "name": "stdout",
     "output_type": "stream",
     "text": [
      "a) (ii) Spearman's r = -0.29940656547831473\n"
     ]
    }
   ],
   "source": [
    "sg = [4, 3.5, 11, 7, 3.5, 10, 6, 2]\n",
    "\n",
    "spearr = spearmanr(price, sg)[0]\n",
    "print(\"a) (ii) Spearman's r = \" + str(spearr))"
   ]
  },
  {
   "cell_type": "markdown",
   "id": "7fd64845-8041-440f-aa1a-9e2d2e16bd02",
   "metadata": {},
   "source": [
    "For a salesperson, the most convincing statistic is the relationship between the price and the transport managers ranking, which makes it the most suitable for use by the company"
   ]
  },
  {
   "cell_type": "markdown",
   "id": "6d14d731-1101-46a4-b317-00d28622c572",
   "metadata": {},
   "source": [
    "c) (i) Their is an error in his calculation, max value is 1\n",
    "\n",
    "(ii) Yes, as maximum speed decreases, the cars get more miles per gallon which makes sense\n",
    "\n",
    "(iii) No, as price decreases, engine capacity increases, which is also unlikely"
   ]
  },
  {
   "cell_type": "markdown",
   "id": "630eeca5-9b9f-4d36-a533-98b927204542",
   "metadata": {},
   "source": [
    "d) You would use spearman's rank correlation where the data can be classified by unique rankings and when the relationship is not necessarily linear. Hence, rank order must be more important theoretically, than the raw data."
   ]
  }
 ],
 "metadata": {
  "kernelspec": {
   "display_name": "Python 3 (ipykernel)",
   "language": "python",
   "name": "python3"
  },
  "language_info": {
   "codemirror_mode": {
    "name": "ipython",
    "version": 3
   },
   "file_extension": ".py",
   "mimetype": "text/x-python",
   "name": "python",
   "nbconvert_exporter": "python",
   "pygments_lexer": "ipython3",
   "version": "3.12.1"
  }
 },
 "nbformat": 4,
 "nbformat_minor": 5
}

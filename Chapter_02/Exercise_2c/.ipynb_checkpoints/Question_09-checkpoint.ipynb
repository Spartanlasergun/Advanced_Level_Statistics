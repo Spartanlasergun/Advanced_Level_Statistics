{
 "cells": [
  {
   "cell_type": "markdown",
   "id": "039b637e-892e-47cb-9e45-fe01f1e5b6b0",
   "metadata": {},
   "source": [
    "# Question 9\n",
    "-----"
   ]
  },
  {
   "cell_type": "code",
   "execution_count": 1,
   "id": "8f54f9b8-d3f6-462c-ba01-72f958a7c18c",
   "metadata": {},
   "outputs": [
    {
     "name": "stdout",
     "output_type": "stream",
     "text": [
      "Spearman's r = 0.8389096502784891\n"
     ]
    }
   ],
   "source": [
    "from scipy.stats import spearmanr\n",
    "\n",
    "x = [15, 22, 25, 28, 31, 33, 36, 39, 42, 48]\n",
    "y = [30, 50, 55, 30, 57, 35, 60, 72, 70, 75]\n",
    "\n",
    "spearr = spearmanr(x, y)[0]\n",
    "print(\"Spearman's r = \" + str(spearr))"
   ]
  },
  {
   "cell_type": "markdown",
   "id": "4c3a8a96-c566-4a22-8dc8-b6fbf5207365",
   "metadata": {},
   "source": [
    "There is a very strong positive correlation between number of years smoking and lung damage. This means that the more years spent smoking was indicative of greater lung damage."
   ]
  }
 ],
 "metadata": {
  "kernelspec": {
   "display_name": "Python 3 (ipykernel)",
   "language": "python",
   "name": "python3"
  },
  "language_info": {
   "codemirror_mode": {
    "name": "ipython",
    "version": 3
   },
   "file_extension": ".py",
   "mimetype": "text/x-python",
   "name": "python",
   "nbconvert_exporter": "python",
   "pygments_lexer": "ipython3",
   "version": "3.12.1"
  }
 },
 "nbformat": 4,
 "nbformat_minor": 5
}

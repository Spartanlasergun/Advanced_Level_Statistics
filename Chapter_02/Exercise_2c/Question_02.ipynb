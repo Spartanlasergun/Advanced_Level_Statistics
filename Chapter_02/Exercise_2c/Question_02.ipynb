{
 "cells": [
  {
   "cell_type": "markdown",
   "id": "7ec76c16-1772-4318-9ec0-74b39140f707",
   "metadata": {},
   "source": [
    "# Question 2\n",
    "-----"
   ]
  },
  {
   "cell_type": "code",
   "execution_count": 5,
   "id": "0f5cf659-1771-43f9-8232-dc39664f25f6",
   "metadata": {},
   "outputs": [
    {
     "name": "stdout",
     "output_type": "stream",
     "text": [
      "Spearman's r = -0.4285714285714286\n"
     ]
    }
   ],
   "source": [
    "from scipy.stats import spearmanr\n",
    "\n",
    "position = [1, 2, 3, 4, 5, 6, 7, 8]\n",
    "AA = [27, 29, 9, 16, 24, 15, 12, 22]\n",
    "\n",
    "spearr = spearmanr(position, AA)[0]\n",
    "print(\"Spearman's r = \" + str(spearr))"
   ]
  },
  {
   "cell_type": "markdown",
   "id": "197c7333-5c12-4036-8622-0e2f482bed53",
   "metadata": {},
   "source": [
    "The Spearman's r value indicates that their is a weak negative correlation between positon and attendance. This means that as position increases, attendance increases."
   ]
  }
 ],
 "metadata": {
  "kernelspec": {
   "display_name": "Python 3 (ipykernel)",
   "language": "python",
   "name": "python3"
  },
  "language_info": {
   "codemirror_mode": {
    "name": "ipython",
    "version": 3
   },
   "file_extension": ".py",
   "mimetype": "text/x-python",
   "name": "python",
   "nbconvert_exporter": "python",
   "pygments_lexer": "ipython3",
   "version": "3.12.1"
  }
 },
 "nbformat": 4,
 "nbformat_minor": 5
}

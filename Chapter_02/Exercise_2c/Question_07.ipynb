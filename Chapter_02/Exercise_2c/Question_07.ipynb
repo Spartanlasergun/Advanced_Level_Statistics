{
 "cells": [
  {
   "cell_type": "markdown",
   "id": "ad03c1a5-a1bf-4784-a4c2-0c05a014a807",
   "metadata": {},
   "source": [
    "# Question 7\n",
    "-----"
   ]
  },
  {
   "cell_type": "code",
   "execution_count": 1,
   "id": "fe9a6fb8-0767-467b-8db8-15deec9335e6",
   "metadata": {},
   "outputs": [
    {
     "name": "stdout",
     "output_type": "stream",
     "text": [
      "Spearman's r for Mr and Mrs Brown = 0.3\n",
      "Spearman's r for Mr Brown and John = 0.49999999999999994\n",
      "Spearman's r for Mrs Brown and John = 0.7\n"
     ]
    }
   ],
   "source": [
    "from scipy.stats import spearmanr\n",
    "\n",
    "Mr = [1, 2, 3, 4, 5]\n",
    "Mrs = [2, 4, 1, 5, 3]\n",
    "John = [3, 2, 1, 5, 4]\n",
    "\n",
    "Mr_Mrs = spearmanr(Mr, Mrs)[0]\n",
    "Mr_John = spearmanr(Mr, John)[0]\n",
    "Mrs_John = spearmanr(Mrs, John)[0]\n",
    "\n",
    "print(\"Spearman's r for Mr and Mrs Brown = \" + str(Mr_Mrs))\n",
    "print(\"Spearman's r for Mr Brown and John = \" + str(Mr_John))\n",
    "print(\"Spearman's r for Mrs Brown and John = \" + str(Mrs_John))"
   ]
  },
  {
   "cell_type": "markdown",
   "id": "20bd0431-b1cf-42dd-be8f-a15d9b76509e",
   "metadata": {},
   "source": [
    "Mrs Brown and John agreed the most\n",
    "1)Headrest\n",
    "2)Heated Rear Window\n",
    "3)Anti-rust Treatment"
   ]
  }
 ],
 "metadata": {
  "kernelspec": {
   "display_name": "Python 3 (ipykernel)",
   "language": "python",
   "name": "python3"
  },
  "language_info": {
   "codemirror_mode": {
    "name": "ipython",
    "version": 3
   },
   "file_extension": ".py",
   "mimetype": "text/x-python",
   "name": "python",
   "nbconvert_exporter": "python",
   "pygments_lexer": "ipython3",
   "version": "3.12.1"
  }
 },
 "nbformat": 4,
 "nbformat_minor": 5
}

{
 "cells": [
  {
   "cell_type": "markdown",
   "id": "a6d1297f-c008-4805-ae4d-b1b1889bcc4d",
   "metadata": {},
   "source": [
    "# Question 5\n",
    "-----"
   ]
  },
  {
   "cell_type": "code",
   "execution_count": 1,
   "id": "a9ec8e1e-b138-49d5-a031-050130cca162",
   "metadata": {
    "tags": []
   },
   "outputs": [
    {
     "name": "stdout",
     "output_type": "stream",
     "text": [
      "The regression function for y vs x is given by, y = 1.6000000000000014x + 3.7999999999999954\n"
     ]
    }
   ],
   "source": [
    "Ex = 15\n",
    "Ex_sq = 55\n",
    "Ey = 43\n",
    "Ey_sq = 397\n",
    "Exy = 145\n",
    "n = 5\n",
    "mean_x = Ex / n\n",
    "mean_y = Ey / n\n",
    "\n",
    "# y vs x\n",
    "var = (Ex_sq / n) - pow(mean_x, 2)\n",
    "covar = (Exy / n) - (mean_x * mean_y)\n",
    "gradient = covar / var\n",
    "y_intercept = mean_y - (gradient * mean_x)\n",
    "print(\"The regression function for y vs x is given by, y = \" + str(gradient) + \"x + \" + str(y_intercept))"
   ]
  },
  {
   "cell_type": "code",
   "execution_count": 2,
   "id": "53026457-2143-4fbf-bf1c-96ed0031f125",
   "metadata": {
    "tags": []
   },
   "outputs": [
    {
     "name": "stdout",
     "output_type": "stream",
     "text": [
      "The regression function for x vs y is given by, x = 0.5882352941176463y + -2.0588235294117583\n"
     ]
    }
   ],
   "source": [
    "# x vs y\n",
    "var = (Ey_sq / n) - pow(mean_y, 2)\n",
    "covar = (Exy / n) - (mean_x * mean_y)\n",
    "gradient = covar / var\n",
    "y_intercept = mean_x - (gradient * mean_y)\n",
    "print(\"The regression function for x vs y is given by, x = \" + str(gradient) + \"y + \" + str(y_intercept))"
   ]
  }
 ],
 "metadata": {
  "kernelspec": {
   "display_name": "Python 3 (ipykernel)",
   "language": "python",
   "name": "python3"
  },
  "language_info": {
   "codemirror_mode": {
    "name": "ipython",
    "version": 3
   },
   "file_extension": ".py",
   "mimetype": "text/x-python",
   "name": "python",
   "nbconvert_exporter": "python",
   "pygments_lexer": "ipython3",
   "version": "3.11.2"
  }
 },
 "nbformat": 4,
 "nbformat_minor": 5
}

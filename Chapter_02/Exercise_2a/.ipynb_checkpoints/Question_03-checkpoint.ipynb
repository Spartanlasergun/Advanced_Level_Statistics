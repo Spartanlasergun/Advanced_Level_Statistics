{
 "cells": [
  {
   "cell_type": "markdown",
   "id": "5ae273f9-a85f-4134-940a-092cf862c9ed",
   "metadata": {},
   "source": [
    "# Question 3\n",
    "-----"
   ]
  },
  {
   "cell_type": "code",
   "execution_count": 1,
   "id": "ee44f860-5e7b-4380-a22d-2b00cf0e2c51",
   "metadata": {
    "tags": []
   },
   "outputs": [
    {
     "name": "stdout",
     "output_type": "stream",
     "text": [
      "The regression function is given by y = 0.6518807665010643x + -2.594038325053212\n"
     ]
    }
   ],
   "source": [
    "n = 10\n",
    "Ex = 500\n",
    "Ey = 300\n",
    "Ex_sq = 27818\n",
    "Exy = 16837\n",
    "Ey_sq = 10462\n",
    "mean_x = Ex / n\n",
    "mean_y = Ey / n\n",
    "\n",
    "s_xx = (Ex_sq / n)- pow(mean_x, 2)\n",
    "s_xy = (Exy / n)- (mean_x * mean_y)\n",
    "gradient = s_xy / s_xx\n",
    "y_intercept = mean_y - (gradient * mean_x)\n",
    "print(\"The regression function is given by y = \" + str(gradient) + \"x + \" + str(y_intercept))"
   ]
  },
  {
   "cell_type": "code",
   "execution_count": 2,
   "id": "8fc69a9b-dcc4-4a86-a703-f3b678937e4c",
   "metadata": {
    "tags": []
   },
   "outputs": [
    {
     "name": "stdout",
     "output_type": "stream",
     "text": [
      "moisture content = 36.51880766501065\n"
     ]
    }
   ],
   "source": [
    "y = (gradient * 60) + y_intercept\n",
    "print(\"moisture content = \" + str(y))"
   ]
  }
 ],
 "metadata": {
  "kernelspec": {
   "display_name": "Python 3 (ipykernel)",
   "language": "python",
   "name": "python3"
  },
  "language_info": {
   "codemirror_mode": {
    "name": "ipython",
    "version": 3
   },
   "file_extension": ".py",
   "mimetype": "text/x-python",
   "name": "python",
   "nbconvert_exporter": "python",
   "pygments_lexer": "ipython3",
   "version": "3.11.2"
  }
 },
 "nbformat": 4,
 "nbformat_minor": 5
}

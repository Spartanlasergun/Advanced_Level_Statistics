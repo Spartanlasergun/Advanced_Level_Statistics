{
 "cells": [
  {
   "cell_type": "markdown",
   "id": "8bccf2d0-909a-4a84-ad40-22378deae72e",
   "metadata": {},
   "source": [
    "# Question 12\n",
    "-----"
   ]
  },
  {
   "cell_type": "markdown",
   "id": "0f8d8343-2164-4e87-be84-1eaf464cc2e9",
   "metadata": {},
   "source": [
    "regression function is given by:\n",
    "\n",
    "$$ y = 2x - 0.1 $$\n",
    "\n",
    "thus,\n",
    "\n",
    "$$\\frac{covariance}{variance} = 2$$\n",
    "\n",
    "$$covariance = 2(variance)$$"
   ]
  },
  {
   "cell_type": "markdown",
   "id": "be3dd60a-dfe5-484d-9f4c-6fa3edf36302",
   "metadata": {},
   "source": [
    "$$\\frac{\\Sigma xy}{n} - \\bar x\\bar y = 2(\\frac{\\Sigma x^2}{n} - \\bar x^2)$$\n",
    "\n",
    "$$\\frac{\\Sigma xy}{n} - \\frac{\\Sigma x}{n}\\frac{\\Sigma y}{n} = 2(\\frac{\\Sigma x^2}{n} - (\\frac{\\Sigma x}{n})^2)$$"
   ]
  },
  {
   "cell_type": "markdown",
   "id": "7f73442c-3ee3-4b9a-9193-9d89b6b64ba9",
   "metadata": {},
   "source": [
    "accounting for our two missing variables, a and b:\n",
    "\n",
    "$$\\frac{\\Sigma xy + ab}{n} - \\frac{\\Sigma x + a}{n}\\frac{\\Sigma y + b}{n} = 2(\\frac{\\Sigma x^2 + a^2}{n} - (\\frac{\\Sigma x + a}{n})^2)$$\n",
    "\n",
    "expanding:\n",
    "$$\\frac{\\Sigma xy + ab}{n} - \\frac{(\\Sigma x + a)(\\Sigma y + b)}{n^2} = \\frac{2(\\Sigma x^2 + a^2)}{n} - \\frac{2(\\Sigma x + a)^2}{n^2}$$\n"
   ]
  },
  {
   "cell_type": "markdown",
   "id": "cdcc493f-26f8-4fb4-b8cd-85eeddebe646",
   "metadata": {},
   "source": [
    "simplifying:\n",
    "\n",
    "$$ n(\\Sigma xy + ab) - (\\Sigma x + a)(\\Sigma y + b) = 2n(\\Sigma x^2 + a^2) - 2(\\Sigma x + a)^2 $$\n"
   ]
  },
  {
   "cell_type": "markdown",
   "id": "b0b0bc61-192e-4947-accd-cc5f01922c69",
   "metadata": {},
   "source": [
    "Given that:\n",
    "\n",
    "$$\\Sigma x = 1, \\ \\ \\ \\Sigma x^2 = 0.3, \\ \\ \\ \\Sigma xy = 0.47, \\ \\ \\ \\Sigma y = 1.5, \\ \\ \\  n = 5$$"
   ]
  },
  {
   "cell_type": "markdown",
   "id": "24bbe4e7-8106-4a51-aa3a-355cf93c2630",
   "metadata": {},
   "source": [
    "substituting into our equation:\n",
    "\n",
    "$$ 5(0.47 + ab) - (1 + a)(1.5 + b) = 10(0.3 + a^2) - 2(1 + a)^2 $$"
   ]
  },
  {
   "cell_type": "markdown",
   "id": "95b9310d-32c1-40cd-a770-4b48597d7473",
   "metadata": {},
   "source": [
    "expanding and simplifying:\n",
    "\n",
    "$$ 2.35 + 5ab - (1.5 + b + 1.5a + ab) = 3 + 10a^2 - 2(1 + a)(1 + a) $$\n",
    "\n",
    "$$ 2.35 + 5ab - 1.5 - b - 1.5a - ab = 3 + 10a^2 - 2(1 + 2a + a^2) $$\n",
    "\n",
    "$$ 0.85 + 4ab - b - 1.5a = 3 + 10a^2 - 2 - 4a - 2a^2 $$\n",
    "\n",
    "$$ 0.85 + 4ab - b - 1.5a = 1 + 8a^2  - 4a $$\n",
    "\n",
    "$$ -0.15 + 4ab - b + 2.5a - 8a^2 = 0 $$"
   ]
  },
  {
   "cell_type": "markdown",
   "id": "7f698b93-326f-4dc4-ae89-6f81b00f7516",
   "metadata": {},
   "source": [
    "Given that we have an equation of with two unkowns, we need another equation in a and b in order to solve our problem. We can obtain this equation from the y_intercept:\n",
    "\n",
    "$$y = 2x - 0.1$$\n",
    "\n",
    "$$\\bar y = 2\\bar x - 0.1$$\n",
    "\n",
    "$$\\frac{\\Sigma y}{n} = \\frac{2(\\Sigma x)}{n} - 0.1 $$"
   ]
  },
  {
   "cell_type": "markdown",
   "id": "61ba9803-8055-43c6-88bd-e568ff668577",
   "metadata": {},
   "source": [
    "accounting for our unknowns, a and b, :\n",
    "\n",
    "$$\\frac{\\Sigma y + b}{n} = \\frac{2(\\Sigma x + a)}{n} - 0.1 $$"
   ]
  },
  {
   "cell_type": "markdown",
   "id": "c2151c05-9526-4c74-8b9a-7d78f15e0394",
   "metadata": {},
   "source": [
    "$$ \\Sigma y + b = 2(\\Sigma x + a) - n(0.1) $$"
   ]
  },
  {
   "cell_type": "markdown",
   "id": "80d2e206-1833-4ef4-85ae-1e38bb4bfdc8",
   "metadata": {},
   "source": [
    "Substituting our known values:\n",
    "\n",
    "$$ 1.5 + b = 2(1 + a) - 5(0.1) $$"
   ]
  },
  {
   "cell_type": "markdown",
   "id": "6234ed51-f09a-4ad4-aa41-90364e8ceb98",
   "metadata": {},
   "source": [
    "$$ 1.5 + b = 2 + 2a - 0.5 $$\n",
    "\n",
    "$$ b = 2a $$"
   ]
  },
  {
   "cell_type": "markdown",
   "id": "3e503a22-45aa-4c21-b549-494477049888",
   "metadata": {},
   "source": [
    "Substituting our value for b into our first equation:\n",
    "\n",
    "$$ -0.15 + 4a(2a) - 2a + 2.5a - 8a^2 = 0 $$\n",
    "\n",
    "Simplifying:\n",
    "\n",
    "$$ -0.15 + 8a^2 + 0.5a - 8a^2 = 0 $$\n",
    "\n",
    "$$ -0.15 + 0.5a = 0 $$\n",
    "\n",
    "$$ 0.5a = 0.15 $$\n",
    "\n",
    "$$ a = \\frac{0.15}{0.5} $$\n",
    "\n",
    "$$ a = 0.3 $$"
   ]
  },
  {
   "cell_type": "markdown",
   "id": "183b5d92-dd91-4b93-846c-8912439b9701",
   "metadata": {},
   "source": [
    "Since b = 2a,\n",
    "\n",
    "$$ b = 2(0.3) $$\n",
    "\n",
    "$$ b = 0.6 $$\n",
    "\n",
    "Hence, the two missing values for x and y are 0.3, and 0.6 respectively."
   ]
  }
 ],
 "metadata": {
  "kernelspec": {
   "display_name": "Python 3 (ipykernel)",
   "language": "python",
   "name": "python3"
  },
  "language_info": {
   "codemirror_mode": {
    "name": "ipython",
    "version": 3
   },
   "file_extension": ".py",
   "mimetype": "text/x-python",
   "name": "python",
   "nbconvert_exporter": "python",
   "pygments_lexer": "ipython3",
   "version": "3.11.2"
  }
 },
 "nbformat": 4,
 "nbformat_minor": 5
}

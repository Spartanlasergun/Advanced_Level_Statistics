{
 "cells": [
  {
   "cell_type": "markdown",
   "id": "8bccf2d0-909a-4a84-ad40-22378deae72e",
   "metadata": {},
   "source": [
    "# Question Twelve"
   ]
  },
  {
   "cell_type": "code",
   "execution_count": null,
   "id": "3eb60720-a8a0-48a7-b53d-81b3c0465f4b",
   "metadata": {},
   "outputs": [],
   "source": []
  }
 ],
 "metadata": {
  "kernelspec": {
   "display_name": "Python 3 (ipykernel)",
   "language": "python",
   "name": "python3"
  },
  "language_info": {
   "codemirror_mode": {
    "name": "ipython",
    "version": 3
   },
   "file_extension": ".py",
   "mimetype": "text/x-python",
   "name": "python",
   "nbconvert_exporter": "python",
   "pygments_lexer": "ipython3",
   "version": "3.11.2"
  }
 },
 "nbformat": 4,
 "nbformat_minor": 5
}

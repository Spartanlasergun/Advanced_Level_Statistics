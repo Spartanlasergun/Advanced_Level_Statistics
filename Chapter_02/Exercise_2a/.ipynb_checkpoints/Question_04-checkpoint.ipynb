{
 "cells": [
  {
   "cell_type": "markdown",
   "id": "4950a7bb-380e-4f25-94df-9a69c989a195",
   "metadata": {},
   "source": [
    "# Question Four"
   ]
  },
  {
   "cell_type": "code",
   "execution_count": 3,
   "id": "1c51e6ac-94ed-484e-89b8-8949d290a4e5",
   "metadata": {
    "tags": []
   },
   "outputs": [
    {
     "name": "stdout",
     "output_type": "stream",
     "text": [
      "The regression function is given by y = 0.9028424284440923x + -6.331913769766601\n"
     ]
    }
   ],
   "source": [
    "import statistics\n",
    "\n",
    "I = [61, 23, 8, 14, 42, 34, 32, 31, 41, 25, 20, 50]\n",
    "F = [49, 12, 3, 4, 28, 27, 20, 20, 34, 15, 16, 40]\n",
    "\n",
    "var = statistics.variance(I)\n",
    "covar = statistics.covariance(I, F)\n",
    "mean_I = statistics.mean(I)\n",
    "mean_F = statistics.mean(F)\n",
    "gradient = covar / var\n",
    "y_intercept = mean_F - (gradient * mean_I)\n",
    "print(\"The regression function is given by y = \" + str(gradient) + \"x + \" + str(y_intercept))"
   ]
  },
  {
   "cell_type": "code",
   "execution_count": 5,
   "id": "1d014646-6765-41ce-836d-4cdb2cf850b0",
   "metadata": {
    "tags": []
   },
   "outputs": [
    {
     "name": "stdout",
     "output_type": "stream",
     "text": [
      "The average improvement for an intial score of 30 is = 20.75335908355617\n"
     ]
    }
   ],
   "source": [
    "improvement = (30 * gradient) + y_intercept\n",
    "print(\"The average improvement for an intial score of 30 is = \" + str(improvement))"
   ]
  },
  {
   "cell_type": "code",
   "execution_count": null,
   "id": "7bb3b0bf-ed7b-405a-bb21-ad276a2be8ad",
   "metadata": {},
   "outputs": [],
   "source": []
  }
 ],
 "metadata": {
  "kernelspec": {
   "display_name": "Python 3 (ipykernel)",
   "language": "python",
   "name": "python3"
  },
  "language_info": {
   "codemirror_mode": {
    "name": "ipython",
    "version": 3
   },
   "file_extension": ".py",
   "mimetype": "text/x-python",
   "name": "python",
   "nbconvert_exporter": "python",
   "pygments_lexer": "ipython3",
   "version": "3.11.2"
  }
 },
 "nbformat": 4,
 "nbformat_minor": 5
}

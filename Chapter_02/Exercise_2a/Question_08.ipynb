{
 "cells": [
  {
   "cell_type": "markdown",
   "id": "8a8b0fec-4082-4e1d-9c4a-2a1d2052ba51",
   "metadata": {},
   "source": [
    "# Question Eight"
   ]
  },
  {
   "cell_type": "markdown",
   "id": "2ab01b9a-6a6d-4d7c-9528-e5ab209b56d7",
   "metadata": {},
   "source": [
    "$$ m = \\frac{y_2 - y_1}{x_2 - x_1} $$\n",
    "\n",
    "$$ m = \\frac{8.3 - 1.8}{5.0 - 0} $$\n",
    "\n",
    "$$ m = \\frac{6.5}{5.0} = 1.3 $$\n",
    "\n",
    "The y-intercept occurs at x=0, y=1.8, hence the regression function os given by:\n",
    "\n",
    "$$ y= 1.3x + 1.8 $$"
   ]
  }
 ],
 "metadata": {
  "kernelspec": {
   "display_name": "Python 3 (ipykernel)",
   "language": "python",
   "name": "python3"
  },
  "language_info": {
   "codemirror_mode": {
    "name": "ipython",
    "version": 3
   },
   "file_extension": ".py",
   "mimetype": "text/x-python",
   "name": "python",
   "nbconvert_exporter": "python",
   "pygments_lexer": "ipython3",
   "version": "3.11.2"
  }
 },
 "nbformat": 4,
 "nbformat_minor": 5
}

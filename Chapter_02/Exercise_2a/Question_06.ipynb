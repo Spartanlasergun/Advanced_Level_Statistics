{
 "cells": [
  {
   "cell_type": "markdown",
   "id": "23999bf1-dd90-4311-8b25-eee241ea335d",
   "metadata": {},
   "source": [
    "# Question Six"
   ]
  },
  {
   "cell_type": "code",
   "execution_count": 3,
   "id": "13ab9f40-8fb5-4bbf-b2fe-86acb2e16917",
   "metadata": {
    "tags": []
   },
   "outputs": [
    {
     "name": "stdout",
     "output_type": "stream",
     "text": [
      "The regression equation is given by y = 0.7222762645914397x + 15.82992866407264\n"
     ]
    }
   ],
   "source": [
    "import statistics\n",
    "\n",
    "Christmas = [57, 35, 56, 57, 66, 79, 81, 84, 52]\n",
    "Summer = [66, 51, 63, 34, 47, 70, 84, 84, 53]\n",
    "\n",
    "var = statistics.variance(Christmas)\n",
    "covar = statistics.covariance(Christmas, Summer)\n",
    "mean_x = statistics.mean(Christmas)\n",
    "mean_y = statistics.mean(Summer)\n",
    "gradient = covar / var\n",
    "y_intercept = mean_y - (gradient * mean_x)\n",
    "print(\"The regression equation is given by y = \" + str(gradient) + \"x + \" + str(y_intercept))"
   ]
  },
  {
   "cell_type": "code",
   "execution_count": 4,
   "id": "654bf450-c037-468a-b077-c1e022dec168",
   "metadata": {
    "tags": []
   },
   "outputs": [
    {
     "name": "stdout",
     "output_type": "stream",
     "text": [
      "The students estimated grade of for the summer is = 66.38926718547341\n"
     ]
    }
   ],
   "source": [
    "grade = (gradient * 70) + y_intercept\n",
    "print(\"The students estimated grade of for the summer is = \" + str(grade))"
   ]
  }
 ],
 "metadata": {
  "kernelspec": {
   "display_name": "Python 3 (ipykernel)",
   "language": "python",
   "name": "python3"
  },
  "language_info": {
   "codemirror_mode": {
    "name": "ipython",
    "version": 3
   },
   "file_extension": ".py",
   "mimetype": "text/x-python",
   "name": "python",
   "nbconvert_exporter": "python",
   "pygments_lexer": "ipython3",
   "version": "3.11.2"
  }
 },
 "nbformat": 4,
 "nbformat_minor": 5
}

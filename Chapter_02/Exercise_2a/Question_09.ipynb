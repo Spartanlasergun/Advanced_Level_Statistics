{
 "cells": [
  {
   "cell_type": "markdown",
   "id": "76acd20b-3097-4c9f-ae81-7d6c40bdf31c",
   "metadata": {},
   "source": [
    "# Question 9\n",
    "-----"
   ]
  },
  {
   "cell_type": "code",
   "execution_count": 1,
   "id": "8427362d-c7f9-429f-89ee-41396eba6257",
   "metadata": {
    "tags": []
   },
   "outputs": [
    {
     "name": "stdout",
     "output_type": "stream",
     "text": [
      "12.5\n",
      "7.0\n"
     ]
    }
   ],
   "source": [
    "n = 20\n",
    "Ex = 250\n",
    "Ey = 140\n",
    "mean_x = Ex / 20\n",
    "mean_y = Ey / 20\n",
    "print(mean_x)\n",
    "print(mean_y)"
   ]
  },
  {
   "cell_type": "markdown",
   "id": "09aa8f49-e37d-484f-a270-cd14ed7d7b04",
   "metadata": {},
   "source": [
    "We have the points (12.5, 7) and (15, 10)\n",
    "\n",
    "gradient = $\\frac{y_2 - y_1}{x_2 - x_1}$\n",
    "\n",
    "$$ m = \\frac{10 - 7}{15 - 12.5} $$\n",
    "\n",
    "$$ m = 1.2 $$\n",
    "\n",
    "taking the linear function $y = mx + c$,\n",
    "\n",
    "$$ 10 = 15(1.2) + c $$\n",
    "\n",
    "$$ c = -8 $$\n",
    "\n",
    "Thus, the regression equation is given by:\n",
    "\n",
    "$$ y = 1.2x - 8 $$\n",
    "\n",
    "When x = 10,\n",
    "\n",
    "$$ y = 1.2(10) - 8 $$\n",
    "\n",
    "$$ y = 4 $$"
   ]
  }
 ],
 "metadata": {
  "kernelspec": {
   "display_name": "Python 3 (ipykernel)",
   "language": "python",
   "name": "python3"
  },
  "language_info": {
   "codemirror_mode": {
    "name": "ipython",
    "version": 3
   },
   "file_extension": ".py",
   "mimetype": "text/x-python",
   "name": "python",
   "nbconvert_exporter": "python",
   "pygments_lexer": "ipython3",
   "version": "3.11.2"
  }
 },
 "nbformat": 4,
 "nbformat_minor": 5
}

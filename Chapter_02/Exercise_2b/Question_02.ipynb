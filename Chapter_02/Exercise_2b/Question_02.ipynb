{
 "cells": [
  {
   "cell_type": "markdown",
   "id": "3653a7fb-809c-454b-9edd-380fb043670a",
   "metadata": {},
   "source": [
    "# Question 2\n",
    "-----"
   ]
  },
  {
   "cell_type": "code",
   "execution_count": 1,
   "id": "a615dc67-0efd-4113-8dce-b3e1ef33b7ba",
   "metadata": {},
   "outputs": [],
   "source": [
    "Ex = 680\n",
    "Ey = 996\n",
    "Ex_2 = 20154\n",
    "Ey_2 = 34670\n",
    "Exy = 24844\n",
    "n = 30"
   ]
  },
  {
   "cell_type": "markdown",
   "id": "02f1da39-6ff8-4c18-bb8e-b2c37cd90df7",
   "metadata": {},
   "source": [
    "$$ r = \\frac{S_{xy}}{S_{x}S_{y}} $$\n",
    "\n",
    "$$ S_{xy} = \\Sigma xy - \\frac{\\Sigma x\\Sigma y}{n} $$\n",
    "\n",
    "$$ S_x = \\sqrt{\\Sigma x^2 - \\frac{(\\Sigma x)^2}{n} } $$\n",
    "\n",
    "$$ S_y = \\sqrt{\\Sigma y^2 - \\frac{(\\Sigma y)^2}{n} } $$"
   ]
  },
  {
   "cell_type": "code",
   "execution_count": 2,
   "id": "3664ba58-a977-490b-999a-954af190d2a7",
   "metadata": {},
   "outputs": [
    {
     "name": "stdout",
     "output_type": "stream",
     "text": [
      "r = 0.8227798998851968\n"
     ]
    }
   ],
   "source": [
    "import math\n",
    "\n",
    "S_xy = Exy - ((Ex * Ey) / n )\n",
    "S_x = math.sqrt((Ex_2 - ((pow(Ex, 2)) / n)))\n",
    "S_y = math.sqrt((Ey_2 - ((pow(Ey, 2)) / n)))\n",
    "r = S_xy / (S_x * S_y)\n",
    "\n",
    "print(\"r = \" + str(r))"
   ]
  }
 ],
 "metadata": {
  "kernelspec": {
   "display_name": "Python 3 (ipykernel)",
   "language": "python",
   "name": "python3"
  },
  "language_info": {
   "codemirror_mode": {
    "name": "ipython",
    "version": 3
   },
   "file_extension": ".py",
   "mimetype": "text/x-python",
   "name": "python",
   "nbconvert_exporter": "python",
   "pygments_lexer": "ipython3",
   "version": "3.12.1"
  }
 },
 "nbformat": 4,
 "nbformat_minor": 5
}

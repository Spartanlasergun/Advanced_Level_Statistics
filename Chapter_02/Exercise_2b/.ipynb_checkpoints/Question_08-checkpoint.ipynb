{
 "cells": [
  {
   "cell_type": "markdown",
   "id": "586976ab-b774-44a3-9ad0-2d9a009531af",
   "metadata": {},
   "source": [
    "# Question 8\n",
    "-----"
   ]
  },
  {
   "cell_type": "markdown",
   "id": "eb04e843-fa72-4d67-83d2-ae26c5937c5b",
   "metadata": {},
   "source": [
    "$$ y = -0.219x + 2.64 $$\n",
    "\n",
    "$$ x = -0.785y + 16.2 $$\n",
    "\n",
    "$$ r^2 = b * d = -0.219 * -0.785 = 0.172 $$\n",
    "\n",
    "$$ r = \\sqrt{0.172} = 0.415 $$\n",
    "\n",
    "Since b and d are negative, $ r = -0.415 $"
   ]
  }
 ],
 "metadata": {
  "kernelspec": {
   "display_name": "Python 3 (ipykernel)",
   "language": "python",
   "name": "python3"
  },
  "language_info": {
   "codemirror_mode": {
    "name": "ipython",
    "version": 3
   },
   "file_extension": ".py",
   "mimetype": "text/x-python",
   "name": "python",
   "nbconvert_exporter": "python",
   "pygments_lexer": "ipython3",
   "version": "3.12.1"
  }
 },
 "nbformat": 4,
 "nbformat_minor": 5
}

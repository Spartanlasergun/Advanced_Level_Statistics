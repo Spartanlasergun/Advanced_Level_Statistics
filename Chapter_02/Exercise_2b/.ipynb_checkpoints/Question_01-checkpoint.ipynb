{
 "cells": [
  {
   "cell_type": "markdown",
   "id": "f0052026-837b-475f-9568-ab975113a207",
   "metadata": {},
   "source": [
    "# Question 1\n",
    "-----"
   ]
  },
  {
   "cell_type": "code",
   "execution_count": 1,
   "id": "d1787652-2399-4b21-a24b-b2f8a193040f",
   "metadata": {},
   "outputs": [
    {
     "name": "stdout",
     "output_type": "stream",
     "text": [
      "a) 0.9303517964522472\n"
     ]
    }
   ],
   "source": [
    "from scipy.stats import pearsonr\n",
    "\n",
    "x = [5, 10, 15, 20, 25]\n",
    "y = [4.3, 5.9, 6.9, 6.5, 8.2]\n",
    "\n",
    "r_value = pearsonr(x, y)[0]\n",
    "print(\"a) \" + str(r_value))"
   ]
  },
  {
   "cell_type": "code",
   "execution_count": 2,
   "id": "4f205057-a637-4998-96b9-67a254cd9c1a",
   "metadata": {},
   "outputs": [
    {
     "name": "stdout",
     "output_type": "stream",
     "text": [
      "b) -0.8282146728050948\n"
     ]
    }
   ],
   "source": [
    "x = [12, 14, 16, 18, 20, 22]\n",
    "y = [100, 70, 86, 49, 60, 50]\n",
    "\n",
    "r_value = pearsonr(x, y)[0]\n",
    "print(\"b) \" + str(r_value))"
   ]
  },
  {
   "cell_type": "code",
   "execution_count": 3,
   "id": "05cbc6cc-f724-4cc8-a798-1844f59ac442",
   "metadata": {},
   "outputs": [
    {
     "name": "stdout",
     "output_type": "stream",
     "text": [
      "c) 0.8671768448722166\n"
     ]
    }
   ],
   "source": [
    "x = [1, 2, 3, 4, 5, 6, 7, 8]\n",
    "y = [12.4, 12.8, 12.6, 13.9, 13.4, 13.2, 14, 14.6]\n",
    "\n",
    "r_value = pearsonr(x, y)[0]\n",
    "print(\"c) \" + str(r_value))"
   ]
  },
  {
   "cell_type": "code",
   "execution_count": 4,
   "id": "50169bb4-ba7e-4dfa-9510-f4cca1618307",
   "metadata": {},
   "outputs": [
    {
     "name": "stdout",
     "output_type": "stream",
     "text": [
      "d) 0.7416728565717965\n"
     ]
    }
   ],
   "source": [
    "x = [27, 43, 62, 89, 72]\n",
    "y = [48, 50, 81, 75, 60]\n",
    "\n",
    "r_value = pearsonr(x, y)[0]\n",
    "print(\"d) \" + str(r_value))"
   ]
  }
 ],
 "metadata": {
  "kernelspec": {
   "display_name": "Python 3 (ipykernel)",
   "language": "python",
   "name": "python3"
  },
  "language_info": {
   "codemirror_mode": {
    "name": "ipython",
    "version": 3
   },
   "file_extension": ".py",
   "mimetype": "text/x-python",
   "name": "python",
   "nbconvert_exporter": "python",
   "pygments_lexer": "ipython3",
   "version": "3.12.1"
  }
 },
 "nbformat": 4,
 "nbformat_minor": 5
}

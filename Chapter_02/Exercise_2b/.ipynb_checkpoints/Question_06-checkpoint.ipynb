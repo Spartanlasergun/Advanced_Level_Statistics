{
 "cells": [
  {
   "cell_type": "markdown",
   "id": "97757c05-2a99-444e-8a04-7d10a9e83dea",
   "metadata": {},
   "source": [
    "# Question 6\n",
    "-----"
   ]
  },
  {
   "cell_type": "code",
   "execution_count": 1,
   "id": "dc379e47-e536-4f3d-81a9-52ea4bc1fc3a",
   "metadata": {},
   "outputs": [],
   "source": [
    "Eh = 1710\n",
    "EW = 760\n",
    "Eh_2 = 293162\n",
    "EhW = 130628\n",
    "EW_2 = 59390\n",
    "n = 10"
   ]
  },
  {
   "cell_type": "code",
   "execution_count": 2,
   "id": "a633c18e-ff58-4ffe-95b6-8374eba173a7",
   "metadata": {},
   "outputs": [
    {
     "name": "stdout",
     "output_type": "stream",
     "text": [
      "r = 0.6033561446224132\n"
     ]
    }
   ],
   "source": [
    "import math\n",
    "\n",
    "S_hW = EhW - ((Eh * EW) / n)\n",
    "S_h = math.sqrt((Eh_2 - ((pow(Eh, 2)) / n)))\n",
    "S_W = math.sqrt((EW_2 - ((pow(EW, 2)) / n)))\n",
    "r = S_hW / (S_h * S_W)\n",
    "print(\"r = \" + str(r))"
   ]
  },
  {
   "cell_type": "code",
   "execution_count": 3,
   "id": "7955f539-2869-4049-9d71-2ebe4e6605e0",
   "metadata": {},
   "outputs": [
    {
     "name": "stdout",
     "output_type": "stream",
     "text": [
      "regression line is given by y = 0.8882978723404256x + -75.89893617021278\n"
     ]
    }
   ],
   "source": [
    "import statistics\n",
    "\n",
    "S_hh = (Eh_2 - ((pow(Eh, 2)) / n))\n",
    "b = S_hW / S_hh\n",
    "y_intercept = (EW / n) - ((Eh / n) * b)\n",
    "print(\"regression line is given by y = \" + str(b) + \"x + \" + str(y_intercept)) "
   ]
  }
 ],
 "metadata": {
  "kernelspec": {
   "display_name": "Python 3 (ipykernel)",
   "language": "python",
   "name": "python3"
  },
  "language_info": {
   "codemirror_mode": {
    "name": "ipython",
    "version": 3
   },
   "file_extension": ".py",
   "mimetype": "text/x-python",
   "name": "python",
   "nbconvert_exporter": "python",
   "pygments_lexer": "ipython3",
   "version": "3.12.1"
  }
 },
 "nbformat": 4,
 "nbformat_minor": 5
}

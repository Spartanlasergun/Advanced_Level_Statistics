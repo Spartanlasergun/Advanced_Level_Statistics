{
 "cells": [
  {
   "cell_type": "markdown",
   "id": "ce629e89-3bf7-49c3-b9fa-291ca4b228ab",
   "metadata": {},
   "source": [
    "# Question 9\n",
    "-----"
   ]
  },
  {
   "cell_type": "markdown",
   "id": "897eb94c-d5ff-41e8-89f8-5d49554161ea",
   "metadata": {},
   "source": [
    "$$ y = 0.4 + 1.3x $$\n",
    "\n",
    "$$ x = -0.1 + 0.7y $$\n",
    "\n",
    "$$ r^2 = b * d = 1.3 * 0.7 = 0.91 $$\n",
    "\n",
    "$$ r = \\sqrt{0.91} = 0.954 $$\n",
    "\n",
    "a) r = 0.954\n",
    "\n",
    "$\\bar x$ and $\\bar y$ occurs where both lines intersect, hence\n",
    "\n",
    "$$ y = 0.4 + 1.3(-0.1 + 0.7y) $$\n",
    "\n",
    "$$ y = 0.4 - 0.13 + 0.91y $$\n",
    "\n",
    "$$ 0.09y = 0.27 $$\n",
    "\n",
    "$$ \\bar y = 3 $$\n",
    "\n",
    "$$\\bar x = -0.1 + 0.7(3) $$\n",
    "\n",
    "$$\\bar x = 2 $$\n",
    "\n",
    "Hence, the center of the dataset occurs at $(2, 3)$"
   ]
  }
 ],
 "metadata": {
  "kernelspec": {
   "display_name": "Python 3 (ipykernel)",
   "language": "python",
   "name": "python3"
  },
  "language_info": {
   "codemirror_mode": {
    "name": "ipython",
    "version": 3
   },
   "file_extension": ".py",
   "mimetype": "text/x-python",
   "name": "python",
   "nbconvert_exporter": "python",
   "pygments_lexer": "ipython3",
   "version": "3.12.1"
  }
 },
 "nbformat": 4,
 "nbformat_minor": 5
}

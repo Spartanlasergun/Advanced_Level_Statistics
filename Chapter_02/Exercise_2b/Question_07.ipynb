{
 "cells": [
  {
   "cell_type": "markdown",
   "id": "6dfa55e7-b9c7-4c00-b669-014794ed1938",
   "metadata": {},
   "source": [
    "# Question 7\n",
    "-----"
   ]
  },
  {
   "cell_type": "markdown",
   "id": "aa4aa307-ab10-489a-8c11-5ba84b7bfbc8",
   "metadata": {},
   "source": [
    "$$ y = 0.648x + 2.64 $$\n",
    "\n",
    "$$ x = 0.917y - 1.91 $$\n",
    "\n",
    "product moment correlation coefficient is given by:\n",
    "\n",
    "$$ r^2 = b * d = 0.648 * 0.917 = 0.594 $$\n",
    "\n",
    "$$ r = \\sqrt(0.594) = 0.771 $$"
   ]
  }
 ],
 "metadata": {
  "kernelspec": {
   "display_name": "Python 3 (ipykernel)",
   "language": "python",
   "name": "python3"
  },
  "language_info": {
   "codemirror_mode": {
    "name": "ipython",
    "version": 3
   },
   "file_extension": ".py",
   "mimetype": "text/x-python",
   "name": "python",
   "nbconvert_exporter": "python",
   "pygments_lexer": "ipython3",
   "version": "3.12.1"
  }
 },
 "nbformat": 4,
 "nbformat_minor": 5
}

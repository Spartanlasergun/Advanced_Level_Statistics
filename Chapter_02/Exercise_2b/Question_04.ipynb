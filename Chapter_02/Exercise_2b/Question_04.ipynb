{
 "cells": [
  {
   "cell_type": "markdown",
   "id": "3db6b873-2e86-4627-87e7-8d80dd61de4f",
   "metadata": {},
   "source": [
    "# Question 4\n",
    "-----"
   ]
  },
  {
   "cell_type": "code",
   "execution_count": 1,
   "id": "09d436d9-d2c5-4d23-ba26-bbecf2854ec3",
   "metadata": {},
   "outputs": [
    {
     "name": "stdout",
     "output_type": "stream",
     "text": [
      "r = 0.791972525198164\n"
     ]
    }
   ],
   "source": [
    "from scipy.stats import pearsonr\n",
    "\n",
    "x = [1, 2, 2, 4, 5, 5, 6, 7, 8, 8, 9, 9]\n",
    "y = [3, 4, 5, 5, 4, 8, 6, 6, 6, 7, 8, 10]\n",
    "\n",
    "r_value = pearsonr(x, y)[0]\n",
    "print(\"r = \" + str(r_value))"
   ]
  }
 ],
 "metadata": {
  "kernelspec": {
   "display_name": "Python 3 (ipykernel)",
   "language": "python",
   "name": "python3"
  },
  "language_info": {
   "codemirror_mode": {
    "name": "ipython",
    "version": 3
   },
   "file_extension": ".py",
   "mimetype": "text/x-python",
   "name": "python",
   "nbconvert_exporter": "python",
   "pygments_lexer": "ipython3",
   "version": "3.12.1"
  }
 },
 "nbformat": 4,
 "nbformat_minor": 5
}

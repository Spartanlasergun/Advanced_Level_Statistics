{
 "cells": [
  {
   "cell_type": "markdown",
   "id": "1ada13a3-41cd-4ff5-a3b1-10acce482fb1",
   "metadata": {},
   "source": [
    "# Question 3\n",
    "-----"
   ]
  },
  {
   "cell_type": "code",
   "execution_count": 1,
   "id": "c85a44b3-5024-40c1-9947-a828a42be6c7",
   "metadata": {},
   "outputs": [
    {
     "name": "stdout",
     "output_type": "stream",
     "text": [
      "a) r = -0.558331965109378\n"
     ]
    }
   ],
   "source": [
    "from scipy.stats import pearsonr\n",
    "\n",
    "x = [1.6, 2.2, 2.3, 1.7, 1.6, 2.1, 2.6, 1.7, 1.5, 1.6]\n",
    "y = [5.0, 3.2, 2.7, 2.1, 4.1, 2.7, 2.9, 4.6, 3.5, 4.4]\n",
    "\n",
    "r_value = pearsonr(x, y)[0]\n",
    "print(\"a) r = \" + str(r_value))"
   ]
  },
  {
   "cell_type": "markdown",
   "id": "6603e6e9-ac44-4645-ae45-937fe4a213e7",
   "metadata": {},
   "source": [
    "b) The correlation coefficient shows that as unemployment increases, wages decrease. Hence, low unemployment is linked to a higher wage increase and the suggestion is justified."
   ]
  }
 ],
 "metadata": {
  "kernelspec": {
   "display_name": "Python 3 (ipykernel)",
   "language": "python",
   "name": "python3"
  },
  "language_info": {
   "codemirror_mode": {
    "name": "ipython",
    "version": 3
   },
   "file_extension": ".py",
   "mimetype": "text/x-python",
   "name": "python",
   "nbconvert_exporter": "python",
   "pygments_lexer": "ipython3",
   "version": "3.12.1"
  }
 },
 "nbformat": 4,
 "nbformat_minor": 5
}

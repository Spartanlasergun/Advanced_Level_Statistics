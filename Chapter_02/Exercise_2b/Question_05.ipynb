{
 "cells": [
  {
   "cell_type": "markdown",
   "id": "171d04f2-0722-43cf-be17-def9cb60b68e",
   "metadata": {},
   "source": [
    "# Question 5\n",
    "-----"
   ]
  },
  {
   "cell_type": "code",
   "execution_count": 1,
   "id": "ed114e44-1275-4714-b9ed-9635377d2cac",
   "metadata": {},
   "outputs": [
    {
     "name": "stdout",
     "output_type": "stream",
     "text": [
      "r = 0.7288830571206057\n"
     ]
    }
   ],
   "source": [
    "from scipy.stats import pearsonr\n",
    "\n",
    "x = [122, 124, 133, 138, 144, 156, 158, 161, 164, 168]\n",
    "y = [41, 38, 52, 56, 29, 54, 59, 61, 63, 67]\n",
    "\n",
    "r_value = pearsonr(x, y)[0]\n",
    "print(\"r = \" + str(r_value))"
   ]
  },
  {
   "cell_type": "code",
   "execution_count": 2,
   "id": "faa0eb75-0b19-4c7c-a7cd-101778d58cb4",
   "metadata": {},
   "outputs": [
    {
     "name": "stdout",
     "output_type": "stream",
     "text": [
      "regression equation for dataset(y vs x) one is given by y = 0.5269512385106715x + -25.356441813366587\n",
      "regression equation for dataset(x vs y) one is given by y = 1.0081967213114755x + 119.39853559744509\n"
     ]
    }
   ],
   "source": [
    "import statistics\n",
    "\n",
    "var = statistics.variance(x)\n",
    "covar = statistics.covariance(x, y)\n",
    "x_mean = statistics.mean(x)\n",
    "y_mean = statistics.mean(y)\n",
    "gradient = covar / var\n",
    "y_intercept = y_mean - (x_mean * gradient)\n",
    "print(\"regression equation for dataset(y vs x) one is given by y = \" + str(gradient) + \"x + \" + str(y_intercept))\n",
    "\n",
    "var = statistics.variance(y)\n",
    "covar = statistics.covariance(y, x)\n",
    "x_mean = statistics.mean(y)\n",
    "y_mean = statistics.mean(x)\n",
    "gradient_1 = covar / var\n",
    "y_intercept_1 = y_mean - (x_mean * gradient)\n",
    "print(\"regression equation for dataset(x vs y) one is given by y = \" + str(gradient_1) + \"x + \" + str(y_intercept_1))"
   ]
  },
  {
   "cell_type": "code",
   "execution_count": 3,
   "id": "2640ade3-cc5e-40ec-a65f-00b02d5d47bb",
   "metadata": {},
   "outputs": [
    {
     "name": "stdout",
     "output_type": "stream",
     "text": [
      "r squared = 0.5353\n",
      "r = 0.7316419889536139\n"
     ]
    }
   ],
   "source": [
    "import math\n",
    "r_2 = 0.53 * 1.01\n",
    "r = math.sqrt(r_2)\n",
    "print(\"r squared = \" + str(r_2))\n",
    "print(\"r = \" + str(r))"
   ]
  }
 ],
 "metadata": {
  "kernelspec": {
   "display_name": "Python 3 (ipykernel)",
   "language": "python",
   "name": "python3"
  },
  "language_info": {
   "codemirror_mode": {
    "name": "ipython",
    "version": 3
   },
   "file_extension": ".py",
   "mimetype": "text/x-python",
   "name": "python",
   "nbconvert_exporter": "python",
   "pygments_lexer": "ipython3",
   "version": "3.12.1"
  }
 },
 "nbformat": 4,
 "nbformat_minor": 5
}

{
 "cells": [
  {
   "cell_type": "markdown",
   "id": "e93d93d2-c00f-4c47-8b86-04e6aa4d854e",
   "metadata": {},
   "source": [
    "# Question 1\n",
    "-----"
   ]
  },
  {
   "cell_type": "code",
   "execution_count": 1,
   "id": "305f36f2-2d5d-4a49-b316-d78a65062133",
   "metadata": {},
   "outputs": [
    {
     "name": "stdout",
     "output_type": "stream",
     "text": [
      "Pearson's r = -0.98659352909602\n"
     ]
    }
   ],
   "source": [
    "from scipy.stats import pearsonr\n",
    "\n",
    "x = [2.0, 2.5, 3.0, 3.5, 4.5, 5.0, 6.0, 7.0]\n",
    "y = [6.10, 5.55, 5.09, 4.65, 3.89, 3.51, 3.31, 2.50]\n",
    "\n",
    "pearr = pearsonr(x, y)[0]\n",
    "print(\"Pearson's r = \" + str(pearr))"
   ]
  },
  {
   "cell_type": "markdown",
   "id": "fa17b7e2-f243-4883-94d1-20df68f06e18",
   "metadata": {},
   "source": [
    "The pearsons r value indicates a strong negative correlation, hence the gradient of the scatter plot will be sloping downward."
   ]
  },
  {
   "cell_type": "code",
   "execution_count": 3,
   "id": "87f910ee-fd5d-4f88-8fb0-41065d71e404",
   "metadata": {},
   "outputs": [
    {
     "name": "stdout",
     "output_type": "stream",
     "text": [
      "regression function is given by y = -0.6918195050946142x + 7.2219941775836975\n"
     ]
    }
   ],
   "source": [
    "import statistics\n",
    "\n",
    "var = statistics.variance(x)\n",
    "covar = statistics.covariance(x, y)\n",
    "gradient = covar / var\n",
    "mean_x = statistics.mean(x)\n",
    "mean_y = statistics.mean(y)\n",
    "y_intercept = mean_y - (gradient * mean_x)\n",
    "print(\"regression function is given by y = \" + str(gradient) + \"x + \" + str(y_intercept))"
   ]
  },
  {
   "cell_type": "code",
   "execution_count": 4,
   "id": "08bc297e-49a8-4db3-9090-05de5a6a159b",
   "metadata": {},
   "outputs": [
    {
     "name": "stdout",
     "output_type": "stream",
     "text": [
      "Estimated value at 4 years = 4.45471615720524\n"
     ]
    }
   ],
   "source": [
    "at4 = (gradient * 4) + y_intercept\n",
    "print(\"Estimated value at 4 years = \" + str(at4))"
   ]
  },
  {
   "cell_type": "markdown",
   "id": "33831457-a053-4746-b41d-d7b36ddeae5d",
   "metadata": {},
   "source": [
    "The negative gradient suggests that as x increases, y decreases."
   ]
  },
  {
   "cell_type": "markdown",
   "id": "67542c16-9be3-4376-baf7-9f35dd18956b",
   "metadata": {},
   "source": [
    "d) (i) when x is 10, the regression function will not give a reliable estimate as this lies beyond the scope of the dataset\n",
    "\n",
    "(ii) when y is 3, the regression function will give a reliable esitmate as this is within the range of the dataset."
   ]
  }
 ],
 "metadata": {
  "kernelspec": {
   "display_name": "Python 3 (ipykernel)",
   "language": "python",
   "name": "python3"
  },
  "language_info": {
   "codemirror_mode": {
    "name": "ipython",
    "version": 3
   },
   "file_extension": ".py",
   "mimetype": "text/x-python",
   "name": "python",
   "nbconvert_exporter": "python",
   "pygments_lexer": "ipython3",
   "version": "3.12.1"
  }
 },
 "nbformat": 4,
 "nbformat_minor": 5
}

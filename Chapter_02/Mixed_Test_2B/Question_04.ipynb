{
 "cells": [
  {
   "cell_type": "markdown",
   "id": "b549fb2d-d6b0-4f70-9038-e9c80cc05947",
   "metadata": {},
   "source": [
    "# Question 4\n",
    "-----"
   ]
  },
  {
   "cell_type": "code",
   "execution_count": 1,
   "id": "d5e0ba79-c635-4883-adaf-1ec591ed44af",
   "metadata": {},
   "outputs": [
    {
     "name": "stdout",
     "output_type": "stream",
     "text": [
      "Spearman's r = 0.7142857142857144\n"
     ]
    }
   ],
   "source": [
    "from scipy.stats import spearmanr\n",
    "\n",
    "r1 = [127, 131, 133, 139, 140, 141, 146]\n",
    "r2 = [132, 130, 140, 137, 133, 138, 142]\n",
    "\n",
    "spearr = spearmanr(r1, r2)[0]\n",
    "print(\"Spearman's r = \" + str(spearr))"
   ]
  },
  {
   "cell_type": "markdown",
   "id": "2307870a-4e5d-4a1b-bea8-e22255db246a",
   "metadata": {},
   "source": [
    "If ten seconds is added to rider G, it would not change the rankings of the data, hence the spearman's value will not change."
   ]
  },
  {
   "cell_type": "markdown",
   "id": "490d7a03-af85-4383-a3c4-584d38b0c346",
   "metadata": {},
   "source": [
    "c) The spearman's value would change because the rankings would be affected by the swap. The change would most likely result in an increase in the spearman's r value."
   ]
  }
 ],
 "metadata": {
  "kernelspec": {
   "display_name": "Python 3 (ipykernel)",
   "language": "python",
   "name": "python3"
  },
  "language_info": {
   "codemirror_mode": {
    "name": "ipython",
    "version": 3
   },
   "file_extension": ".py",
   "mimetype": "text/x-python",
   "name": "python",
   "nbconvert_exporter": "python",
   "pygments_lexer": "ipython3",
   "version": "3.12.1"
  }
 },
 "nbformat": 4,
 "nbformat_minor": 5
}

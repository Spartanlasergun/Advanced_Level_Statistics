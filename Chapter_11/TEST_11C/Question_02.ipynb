{
 "cells": [
  {
   "cell_type": "markdown",
   "id": "d38742d1-4473-480c-a1dc-4d8b28709cd9",
   "metadata": {},
   "source": [
    "# Question 2\n",
    "-----"
   ]
  },
  {
   "cell_type": "code",
   "execution_count": 1,
   "id": "630b73eb-2d14-46f1-9cfd-dbe59cec36f7",
   "metadata": {},
   "outputs": [],
   "source": [
    "from scipy.integrate import quad\n",
    "import math\n",
    "import numpy as np\n",
    "from scipy.special import gamma\n",
    "\n",
    "class T_dist:\n",
    "    def __init__(self, nu):\n",
    "        self.nu = nu\n",
    "        numerator = gamma((nu + 1) / 2)\n",
    "        denominator = np.sqrt(np.pi * nu) * gamma(nu / 2)\n",
    "        self.coefficient = numerator / denominator\n",
    "\n",
    "    def t_distribution_pdf(self, x):\n",
    "        return self.coefficient * ((1 + (x**2 / self.nu))**(-(self.nu + 1) / 2))\n",
    "\n",
    "    def integrate(self, lower_limit, upper_limit):\n",
    "        result, error = quad(self.t_distribution_pdf, lower_limit, upper_limit)\n",
    "        \n",
    "        return result\n",
    "\n",
    "    def locate(self, area):\n",
    "        fx = 0\n",
    "        x = -6\n",
    "        while fx < area:\n",
    "            fx = self.integrate(-6, x)\n",
    "            x = x + 0.00001\n",
    "            \n",
    "        return x"
   ]
  },
  {
   "cell_type": "markdown",
   "id": "f6ad255e-d8e1-4b69-bc2e-aa12182ca90e",
   "metadata": {},
   "source": [
    "$$H_0: \\mu_1 = \\mu_2$$\n",
    "\n",
    "$$H_1: \\mu_1 < \\mu_2$$ "
   ]
  },
  {
   "cell_type": "code",
   "execution_count": 2,
   "id": "4f308ccb-293b-4aeb-8e55-02dd8b2bc218",
   "metadata": {},
   "outputs": [
    {
     "name": "stdout",
     "output_type": "stream",
     "text": [
      "-2.915069164118987\n",
      "reject the null\n"
     ]
    }
   ],
   "source": [
    "mu_1 = 25.3\n",
    "mu_2 = 26.45\n",
    "var = (16.74 + 15.29) / (11 + 20 - 2)\n",
    "Var = var * ((1/11) + (1/20))\n",
    "sigma = math.sqrt(Var)\n",
    "nu = 11 + 20 - 1\n",
    "t = T_dist(nu)\n",
    "loc = t.locate(0.025)\n",
    "stat = (mu_1 - mu_2) / sigma\n",
    "print(stat)\n",
    "if stat > loc:\n",
    "    print(\"do not reject the null\")\n",
    "else:\n",
    "    print(\"reject the null\")"
   ]
  }
 ],
 "metadata": {
  "kernelspec": {
   "display_name": "Python 3 (ipykernel)",
   "language": "python",
   "name": "python3"
  },
  "language_info": {
   "codemirror_mode": {
    "name": "ipython",
    "version": 3
   },
   "file_extension": ".py",
   "mimetype": "text/x-python",
   "name": "python",
   "nbconvert_exporter": "python",
   "pygments_lexer": "ipython3",
   "version": "3.12.1"
  }
 },
 "nbformat": 4,
 "nbformat_minor": 5
}

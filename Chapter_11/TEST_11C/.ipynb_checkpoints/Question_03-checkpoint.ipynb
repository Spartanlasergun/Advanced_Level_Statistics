{
 "cells": [
  {
   "cell_type": "markdown",
   "id": "5d67d4b3-13ba-4ba7-b39c-bd21814104e9",
   "metadata": {},
   "source": [
    "# Question 3\n",
    "-----"
   ]
  },
  {
   "cell_type": "code",
   "execution_count": 1,
   "id": "f6a40a73-74b0-4d0b-901b-898d702f70ec",
   "metadata": {},
   "outputs": [],
   "source": [
    "from scipy.integrate import quad\n",
    "import math\n",
    "import numpy as np\n",
    "from scipy.special import gamma\n",
    "\n",
    "class T_dist:\n",
    "    def __init__(self, nu):\n",
    "        self.nu = nu\n",
    "        numerator = gamma((nu + 1) / 2)\n",
    "        denominator = np.sqrt(np.pi * nu) * gamma(nu / 2)\n",
    "        self.coefficient = numerator / denominator\n",
    "\n",
    "    def t_distribution_pdf(self, x):\n",
    "        return self.coefficient * ((1 + (x**2 / self.nu))**(-(self.nu + 1) / 2))\n",
    "\n",
    "    def integrate(self, lower_limit, upper_limit):\n",
    "        result, error = quad(self.t_distribution_pdf, lower_limit, upper_limit)\n",
    "        \n",
    "        return result\n",
    "\n",
    "    def locate(self, area):\n",
    "        fx = 0\n",
    "        x = -6\n",
    "        while fx < area:\n",
    "            fx = self.integrate(-6, x)\n",
    "            x = x + 0.00001\n",
    "            \n",
    "        return x"
   ]
  },
  {
   "cell_type": "code",
   "execution_count": 2,
   "id": "47d6bad9-3aa1-40b6-862d-3738ea79e793",
   "metadata": {},
   "outputs": [
    {
     "name": "stdout",
     "output_type": "stream",
     "text": [
      "a) 4.238222222222223\n"
     ]
    }
   ],
   "source": [
    "import statistics\n",
    "x = [31.5, 28.9, 30.5, 32.2, 35.5,\n",
    "     34.2, 31.8, 32.8, 29.1, 32.1]\n",
    "mean = sum(x) / len(x)\n",
    "var = statistics.variance(x)\n",
    "print(\"a) \" + str(var))"
   ]
  },
  {
   "cell_type": "code",
   "execution_count": 3,
   "id": "4d76d4f1-e5c0-4b1d-a9f2-c696db38a223",
   "metadata": {},
   "outputs": [
    {
     "name": "stdout",
     "output_type": "stream",
     "text": [
      "b) 2.857071322810158\n",
      "reject the null\n"
     ]
    }
   ],
   "source": [
    "sigma = math.sqrt(var) / math.sqrt(10)\n",
    "t = T_dist(9)\n",
    "loc = -1 * t.locate(0.1)\n",
    "stat = (mean - 30) / sigma\n",
    "print(\"b) \" + str(stat))\n",
    "if stat < loc:\n",
    "    print(\"do not reject the null\")\n",
    "else:\n",
    "    print(\"reject the null\")"
   ]
  },
  {
   "cell_type": "markdown",
   "id": "de9310d0-cc3f-401b-b035-6ec0d21969be",
   "metadata": {},
   "source": [
    "c) with known variance you can use a z test"
   ]
  }
 ],
 "metadata": {
  "kernelspec": {
   "display_name": "Python 3 (ipykernel)",
   "language": "python",
   "name": "python3"
  },
  "language_info": {
   "codemirror_mode": {
    "name": "ipython",
    "version": 3
   },
   "file_extension": ".py",
   "mimetype": "text/x-python",
   "name": "python",
   "nbconvert_exporter": "python",
   "pygments_lexer": "ipython3",
   "version": "3.12.1"
  }
 },
 "nbformat": 4,
 "nbformat_minor": 5
}

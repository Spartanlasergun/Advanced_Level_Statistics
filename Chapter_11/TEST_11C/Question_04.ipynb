{
 "cells": [
  {
   "cell_type": "markdown",
   "id": "be482186-33ce-4296-bf68-dbbc70204f14",
   "metadata": {},
   "source": [
    "# Question 4\n",
    "-----"
   ]
  },
  {
   "cell_type": "code",
   "execution_count": 1,
   "id": "6b3a4388-6bd0-425f-b765-fe9b1cd15d3b",
   "metadata": {},
   "outputs": [],
   "source": [
    "from scipy.integrate import quad\n",
    "import math\n",
    "import numpy as np\n",
    "from scipy.special import gamma\n",
    "\n",
    "class T_dist:\n",
    "    def __init__(self, nu):\n",
    "        self.nu = nu\n",
    "        numerator = gamma((nu + 1) / 2)\n",
    "        denominator = np.sqrt(np.pi * nu) * gamma(nu / 2)\n",
    "        self.coefficient = numerator / denominator\n",
    "\n",
    "    def t_distribution_pdf(self, x):\n",
    "        return self.coefficient * ((1 + (x**2 / self.nu))**(-(self.nu + 1) / 2))\n",
    "\n",
    "    def integrate(self, lower_limit, upper_limit):\n",
    "        result, error = quad(self.t_distribution_pdf, lower_limit, upper_limit)\n",
    "        \n",
    "        return result\n",
    "\n",
    "    def locate(self, area):\n",
    "        fx = 0\n",
    "        x = -6\n",
    "        while fx < area:\n",
    "            fx = self.integrate(-6, x)\n",
    "            x = x + 0.00001\n",
    "            \n",
    "        return x"
   ]
  },
  {
   "cell_type": "code",
   "execution_count": 2,
   "id": "6410162a-5faf-4958-a8a7-b46a7c92a10a",
   "metadata": {},
   "outputs": [
    {
     "name": "stdout",
     "output_type": "stream",
     "text": [
      "2.0464444861277786\n",
      "reject the null\n"
     ]
    }
   ],
   "source": [
    "import statistics\n",
    "x = [126, 93, 114, 107, 98, 112]\n",
    "y = [124, 107, 117, 136, 120, 122]\n",
    "mu_1 = sum(x) / len(x)\n",
    "mu_2 = sum(y) / len(y)\n",
    "var_1 = statistics.variance(x)\n",
    "var_2 = statistics.variance(y)\n",
    "var = (var_1 / 6) + (var_2 / 6)\n",
    "sigma = math.sqrt(var)\n",
    "nu = 5\n",
    "t = T_dist(5)\n",
    "loc = -1 * t.locate(0.05)\n",
    "stat = (mu_2 - mu_1) / sigma\n",
    "print(stat)\n",
    "if stat < loc:\n",
    "    print(\"do not reject the null\")\n",
    "else:\n",
    "    print(\"reject the null\")"
   ]
  },
  {
   "cell_type": "code",
   "execution_count": 3,
   "id": "34319ce0-88ae-43d4-a185-a6a678fc3111",
   "metadata": {},
   "outputs": [
    {
     "name": "stdout",
     "output_type": "stream",
     "text": [
      "-11.242508653074992 < X < 36.575841986408335\n"
     ]
    }
   ],
   "source": [
    "loc_1 = t.locate(0.005)\n",
    "loc_2 = -1 * loc_1\n",
    "LI = (loc_1 * sigma) + (mu_2 - mu_1)\n",
    "UI = (loc_2 * sigma) + (mu_2 - mu_1)\n",
    "print(str(LI) + \" < X < \" + str(UI))"
   ]
  }
 ],
 "metadata": {
  "kernelspec": {
   "display_name": "Python 3 (ipykernel)",
   "language": "python",
   "name": "python3"
  },
  "language_info": {
   "codemirror_mode": {
    "name": "ipython",
    "version": 3
   },
   "file_extension": ".py",
   "mimetype": "text/x-python",
   "name": "python",
   "nbconvert_exporter": "python",
   "pygments_lexer": "ipython3",
   "version": "3.12.1"
  }
 },
 "nbformat": 4,
 "nbformat_minor": 5
}

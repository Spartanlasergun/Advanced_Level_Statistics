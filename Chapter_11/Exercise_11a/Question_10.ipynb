{
 "cells": [
  {
   "cell_type": "markdown",
   "id": "c3274ad7-46d9-4ea8-9ee1-f71a5ea2e3d8",
   "metadata": {},
   "source": [
    "# Question 10\n",
    "-----"
   ]
  },
  {
   "cell_type": "code",
   "execution_count": 1,
   "id": "aa5ef91d-493d-443b-9090-ac86f9803a9c",
   "metadata": {},
   "outputs": [],
   "source": [
    "from scipy.integrate import quad\n",
    "import math\n",
    "\n",
    "class normal:\n",
    "    def __init__(self, u, sigma):\n",
    "        self.u = u\n",
    "        self.sigma = sigma\n",
    "        self.root2pi = math.sqrt((2 * math.pi)) \n",
    "    \n",
    "    def normal_func(self, x):\n",
    "        return (1 / (self.sigma * self.root2pi)) * math.exp((-1 * pow((x - self.u), 2)) / (2 * pow(self.sigma, 2)))\n",
    "\n",
    "    def integrate(self, lower_limit, upper_limit):\n",
    "        result, error = quad(self.normal_func, lower_limit, upper_limit)\n",
    "        \n",
    "        return result\n",
    "\n",
    "    def locate(self, area):\n",
    "        fx = 0\n",
    "        x = -6\n",
    "        while fx < area:\n",
    "            fx = self.integrate(-6, x)\n",
    "            x = x + 0.00001\n",
    "            \n",
    "        return x"
   ]
  },
  {
   "cell_type": "code",
   "execution_count": 2,
   "id": "d4a0b926-fb90-465e-9509-1667525762e7",
   "metadata": {},
   "outputs": [
    {
     "name": "stdout",
     "output_type": "stream",
     "text": [
      "1.7777777777777064\n",
      "a) do not reject the null\n"
     ]
    }
   ],
   "source": [
    "mean = 6500 / 65\n",
    "var = (65/64) * ((650842.4 / 65) - (mean**2))\n",
    "sigma = math.sqrt(var) / math.sqrt(65)\n",
    "z = normal(0, 1)\n",
    "loc = -1 * z.locate(0.025)\n",
    "zstat = (mean - 99.2) / sigma\n",
    "print(zstat)\n",
    "if zstat < loc:\n",
    "    print(\"a) do not reject the null\")\n",
    "else:\n",
    "    print(\"a) reject the null\")"
   ]
  },
  {
   "cell_type": "code",
   "execution_count": 3,
   "id": "1eebbe12-dd5a-45a9-8eb5-98a4fbca1117",
   "metadata": {},
   "outputs": [
    {
     "name": "stdout",
     "output_type": "stream",
     "text": [
      "1.7777777777777064\n",
      "b) reject the null\n"
     ]
    }
   ],
   "source": [
    "mean = 6500 / 65\n",
    "var = (65/64) * ((650842.4 / 65) - (mean**2))\n",
    "sigma = math.sqrt(var) / math.sqrt(65)\n",
    "z = normal(0, 1)\n",
    "loc = -1 * z.locate(0.05)\n",
    "zstat = (mean - 99.2) / sigma\n",
    "print(zstat)\n",
    "if zstat < loc:\n",
    "    print(\"b) do not reject the null\")\n",
    "else:\n",
    "    print(\"b) reject the null\")"
   ]
  },
  {
   "cell_type": "code",
   "execution_count": 4,
   "id": "7b851027-ddcf-49a7-a505-6de2f91785dd",
   "metadata": {},
   "outputs": [
    {
     "name": "stdout",
     "output_type": "stream",
     "text": [
      "-1.4284598170685858\n",
      "c) reject the null\n"
     ]
    }
   ],
   "source": [
    "mean = 6824 / 80\n",
    "var = (80/79) * (2508.8 / 80)\n",
    "sigma = math.sqrt(var) / math.sqrt(80)\n",
    "z = normal(0, 1)\n",
    "loc = z.locate(0.01)\n",
    "zstat = (mean - 86.2) / sigma\n",
    "print(zstat)\n",
    "if zstat < loc:\n",
    "    print(\"c) do not reject the null\")\n",
    "else:\n",
    "    print(\"c) reject the null\")"
   ]
  },
  {
   "cell_type": "code",
   "execution_count": 5,
   "id": "4da55063-230d-4998-a2d4-6b1441b81ad9",
   "metadata": {},
   "outputs": [
    {
     "name": "stdout",
     "output_type": "stream",
     "text": [
      "-2.4874685927665334\n",
      "d) do not reject the null\n"
     ]
    }
   ],
   "source": [
    "mean = 685 / 100\n",
    "var = (100/99) * ((4728.25 / 100) - (mean**2))\n",
    "sigma = math.sqrt(var) / math.sqrt(100)\n",
    "z = normal(0, 1)\n",
    "loc = z.locate(0.005)\n",
    "zstat = (mean - 7) / sigma\n",
    "print(zstat)\n",
    "if zstat > loc:\n",
    "    print(\"d) do not reject the null\")\n",
    "else:\n",
    "    print(\"d) reject the null\")"
   ]
  }
 ],
 "metadata": {
  "kernelspec": {
   "display_name": "Python 3 (ipykernel)",
   "language": "python",
   "name": "python3"
  },
  "language_info": {
   "codemirror_mode": {
    "name": "ipython",
    "version": 3
   },
   "file_extension": ".py",
   "mimetype": "text/x-python",
   "name": "python",
   "nbconvert_exporter": "python",
   "pygments_lexer": "ipython3",
   "version": "3.12.1"
  }
 },
 "nbformat": 4,
 "nbformat_minor": 5
}

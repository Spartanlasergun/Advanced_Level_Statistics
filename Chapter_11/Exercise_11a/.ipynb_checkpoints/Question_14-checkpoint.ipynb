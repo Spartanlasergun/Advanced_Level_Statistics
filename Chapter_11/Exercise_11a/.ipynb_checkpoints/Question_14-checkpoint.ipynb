{
 "cells": [
  {
   "cell_type": "markdown",
   "id": "1e63f176-de82-47d3-b719-3621c2c8ce5e",
   "metadata": {},
   "source": [
    "# Question 14\n",
    "-----"
   ]
  },
  {
   "cell_type": "code",
   "execution_count": 1,
   "id": "5dbb0995-fbb2-4480-afb7-3ef959ab342c",
   "metadata": {},
   "outputs": [],
   "source": [
    "from scipy.integrate import quad\n",
    "import math\n",
    "\n",
    "class normal:\n",
    "    def __init__(self, u, sigma):\n",
    "        self.u = u\n",
    "        self.sigma = sigma\n",
    "        self.root2pi = math.sqrt((2 * math.pi)) \n",
    "    \n",
    "    def normal_func(self, x):\n",
    "        return (1 / (self.sigma * self.root2pi)) * math.exp((-1 * pow((x - self.u), 2)) / (2 * pow(self.sigma, 2)))\n",
    "\n",
    "    def integrate(self, lower_limit, upper_limit):\n",
    "        result, error = quad(self.normal_func, lower_limit, upper_limit)\n",
    "        \n",
    "        return result\n",
    "\n",
    "    def locate(self, area):\n",
    "        fx = 0\n",
    "        x = -6\n",
    "        while fx < area:\n",
    "            fx = self.integrate(-6, x)\n",
    "            x = x + 0.00001\n",
    "            \n",
    "        return x"
   ]
  },
  {
   "cell_type": "code",
   "execution_count": 2,
   "id": "9bf7c012-01c8-430c-8989-9fa0bc797f56",
   "metadata": {},
   "outputs": [
    {
     "name": "stdout",
     "output_type": "stream",
     "text": [
      "a) critical value = 382.34981250023384\n"
     ]
    }
   ],
   "source": [
    "z = normal(0, 1)\n",
    "loc = -1 * z.locate(0.025)\n",
    "sigma = 15 / math.sqrt(16)\n",
    "xbar = (loc * sigma) + 375\n",
    "print(\"a) critical value = \" + str(xbar))"
   ]
  },
  {
   "cell_type": "code",
   "execution_count": 3,
   "id": "197cbda9-0bd6-49d6-a2a6-8afa2c29bf4d",
   "metadata": {},
   "outputs": [
    {
     "name": "stdout",
     "output_type": "stream",
     "text": [
      "b) 0.23987128506846514\n"
     ]
    }
   ],
   "source": [
    "dist = normal(385, sigma)\n",
    "b = dist.integrate(0, xbar)\n",
    "print(\"b) \" + str(b))"
   ]
  },
  {
   "cell_type": "code",
   "execution_count": 4,
   "id": "da94c919-a495-4715-b14c-34a0df7c8312",
   "metadata": {},
   "outputs": [
    {
     "name": "stdout",
     "output_type": "stream",
     "text": [
      "c) mu > 389.7099999999957\n"
     ]
    }
   ],
   "source": [
    "mu = 385\n",
    "prob = 1\n",
    "while prob > 0.025:\n",
    "    dist = normal(mu, sigma)\n",
    "    prob = dist.integrate(0, xbar)\n",
    "    mu = mu + 0.01\n",
    "print(\"c) mu > \" + str(mu))"
   ]
  },
  {
   "cell_type": "code",
   "execution_count": 5,
   "id": "2515116f-e922-40ed-8800-04180a195a15",
   "metadata": {},
   "outputs": [
    {
     "name": "stdout",
     "output_type": "stream",
     "text": [
      "d) 0.049375\n"
     ]
    }
   ],
   "source": [
    "p = 0.025\n",
    "q = 1 - p\n",
    "prob = (p * p) + (2 * q * p)\n",
    "print(\"d) \" + str(prob))"
   ]
  }
 ],
 "metadata": {
  "kernelspec": {
   "display_name": "Python 3 (ipykernel)",
   "language": "python",
   "name": "python3"
  },
  "language_info": {
   "codemirror_mode": {
    "name": "ipython",
    "version": 3
   },
   "file_extension": ".py",
   "mimetype": "text/x-python",
   "name": "python",
   "nbconvert_exporter": "python",
   "pygments_lexer": "ipython3",
   "version": "3.12.1"
  }
 },
 "nbformat": 4,
 "nbformat_minor": 5
}

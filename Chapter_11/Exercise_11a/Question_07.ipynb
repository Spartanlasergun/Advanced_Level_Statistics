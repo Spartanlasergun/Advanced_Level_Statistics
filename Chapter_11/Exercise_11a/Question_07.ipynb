{
 "cells": [
  {
   "cell_type": "markdown",
   "id": "b30b8cd8-cfe7-44e0-8582-6e5c28933e57",
   "metadata": {},
   "source": [
    "# Question 7\n",
    "-----"
   ]
  },
  {
   "cell_type": "code",
   "execution_count": 1,
   "id": "fa379495-643c-4098-9f14-7a597f87d570",
   "metadata": {},
   "outputs": [],
   "source": [
    "from scipy.integrate import quad\n",
    "import math\n",
    "\n",
    "class normal:\n",
    "    def __init__(self, u, sigma):\n",
    "        self.u = u\n",
    "        self.sigma = sigma\n",
    "        self.root2pi = math.sqrt((2 * math.pi)) \n",
    "    \n",
    "    def normal_func(self, x):\n",
    "        return (1 / (self.sigma * self.root2pi)) * math.exp((-1 * pow((x - self.u), 2)) / (2 * pow(self.sigma, 2)))\n",
    "\n",
    "    def integrate(self, lower_limit, upper_limit):\n",
    "        result, error = quad(self.normal_func, lower_limit, upper_limit)\n",
    "        \n",
    "        return result\n",
    "\n",
    "    def locate(self, area):\n",
    "        fx = 0\n",
    "        x = -6\n",
    "        while fx < area:\n",
    "            fx = self.integrate(-6, x)\n",
    "            x = x + 0.00001\n",
    "            \n",
    "        return x"
   ]
  },
  {
   "cell_type": "code",
   "execution_count": 2,
   "id": "46b4a0a2-4ccb-4d78-988b-8fe81b0f1487",
   "metadata": {},
   "outputs": [
    {
     "name": "stdout",
     "output_type": "stream",
     "text": [
      "91.50654799998192\n"
     ]
    }
   ],
   "source": [
    "z = normal(0, 1)\n",
    "loc = -1 * z.locate(0.05)\n",
    "sigma = 1.8 / math.sqrt(36)\n",
    "xbar = 92 - (loc * sigma)\n",
    "print(xbar)"
   ]
  },
  {
   "cell_type": "markdown",
   "id": "d63fa4d9-3f97-49f3-83cb-06cfc8ee7a88",
   "metadata": {},
   "source": [
    "Hence $\\bar x < 91.5065$"
   ]
  },
  {
   "cell_type": "code",
   "execution_count": 3,
   "id": "2ab709c8-806c-481d-b25d-30e6501ac3b7",
   "metadata": {},
   "outputs": [
    {
     "name": "stdout",
     "output_type": "stream",
     "text": [
      "b) 0.9999683277715794\n"
     ]
    }
   ],
   "source": [
    "zstat = (92 - 90.8) / sigma\n",
    "prob = z.integrate(-6, zstat)\n",
    "print(\"b) \" + str(prob))"
   ]
  },
  {
   "cell_type": "code",
   "execution_count": 4,
   "id": "f01334ec-6580-40f4-a1dc-e20a4e9a8145",
   "metadata": {},
   "outputs": [
    {
     "name": "stdout",
     "output_type": "stream",
     "text": [
      "c) 0.32836064328188597\n"
     ]
    }
   ],
   "source": [
    "dist = normal(90.8, 1.8)\n",
    "c = dist.integrate(0, 90)\n",
    "print(\"c) \" + str(c))"
   ]
  }
 ],
 "metadata": {
  "kernelspec": {
   "display_name": "Python 3 (ipykernel)",
   "language": "python",
   "name": "python3"
  },
  "language_info": {
   "codemirror_mode": {
    "name": "ipython",
    "version": 3
   },
   "file_extension": ".py",
   "mimetype": "text/x-python",
   "name": "python",
   "nbconvert_exporter": "python",
   "pygments_lexer": "ipython3",
   "version": "3.12.1"
  }
 },
 "nbformat": 4,
 "nbformat_minor": 5
}

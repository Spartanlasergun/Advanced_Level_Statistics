{
 "cells": [
  {
   "cell_type": "markdown",
   "id": "c1476d6c-ea22-4aae-a5af-6b3b63e7b17e",
   "metadata": {},
   "source": [
    "# Question 1\n",
    "-----"
   ]
  },
  {
   "cell_type": "code",
   "execution_count": 1,
   "id": "810cd8f7-81bb-4952-9282-2a6aa41a746f",
   "metadata": {},
   "outputs": [],
   "source": [
    "from scipy.integrate import quad\n",
    "import math\n",
    "\n",
    "class normal:\n",
    "    def __init__(self, u, sigma):\n",
    "        self.u = u\n",
    "        self.sigma = sigma\n",
    "        self.root2pi = math.sqrt((2 * math.pi)) \n",
    "    \n",
    "    def normal_func(self, x):\n",
    "        return (1 / (self.sigma * self.root2pi)) * math.exp((-1 * pow((x - self.u), 2)) / (2 * pow(self.sigma, 2)))\n",
    "\n",
    "    def integrate(self, lower_limit, upper_limit):\n",
    "        result, error = quad(self.normal_func, lower_limit, upper_limit)\n",
    "        \n",
    "        return result\n",
    "\n",
    "    def locate(self, area):\n",
    "        fx = 0\n",
    "        x = -6\n",
    "        while fx < area:\n",
    "            fx = self.integrate(-6, x)\n",
    "            x = x + 0.00001\n",
    "            \n",
    "        return x"
   ]
  },
  {
   "cell_type": "code",
   "execution_count": 2,
   "id": "785202d3-6b11-4867-89f1-701980ea37c8",
   "metadata": {},
   "outputs": [
    {
     "name": "stdout",
     "output_type": "stream",
     "text": [
      "a) -1.0954451150103348\n",
      "do not reject the null\n"
     ]
    }
   ],
   "source": [
    "z = normal(0, 1)\n",
    "loc = z.locate(0.025)\n",
    "sigma = 3 / math.sqrt(30)\n",
    "zstat = (15.2 - 15.8) / sigma\n",
    "print(\"a) \" + str(zstat))\n",
    "if zstat > loc:\n",
    "    print(\"do not reject the null\")\n",
    "else:\n",
    "    print(\"reject the null\")"
   ]
  },
  {
   "cell_type": "code",
   "execution_count": 3,
   "id": "8bacece7-0aa9-4483-ba00-ce81b6691ea1",
   "metadata": {},
   "outputs": [
    {
     "name": "stdout",
     "output_type": "stream",
     "text": [
      "b) 1.8446619684315528\n",
      "reject the null\n"
     ]
    }
   ],
   "source": [
    "loc = -1 * z.locate(0.05)\n",
    "sigma = 1.2 / math.sqrt(10)\n",
    "zstat = (27 - 26.3) / sigma\n",
    "print(\"b) \" + str(zstat))\n",
    "if zstat < loc:\n",
    "    print(\"do not reject the null\")\n",
    "else:\n",
    "    print(\"reject the null\")"
   ]
  },
  {
   "cell_type": "code",
   "execution_count": 4,
   "id": "b8f62c44-9fff-48f2-8fdf-daf51a3d4994",
   "metadata": {},
   "outputs": [
    {
     "name": "stdout",
     "output_type": "stream",
     "text": [
      "c) 2.5\n",
      "reject the null\n"
     ]
    }
   ],
   "source": [
    "loc = -1 * z.locate(0.01)\n",
    "sigma = 4.2 / math.sqrt(49)\n",
    "zstat = (125 - 123.5) / sigma\n",
    "print(\"c) \" + str(zstat))\n",
    "if zstat < loc:\n",
    "    print(\"do not reject the null\")\n",
    "else:\n",
    "    print(\"reject the null\")"
   ]
  },
  {
   "cell_type": "code",
   "execution_count": 6,
   "id": "298311bc-4246-4b5d-bdc7-f1fe4fcd3660",
   "metadata": {},
   "outputs": [
    {
     "name": "stdout",
     "output_type": "stream",
     "text": [
      "d) -2.7777777777778176\n",
      "reject the null\n"
     ]
    }
   ],
   "source": [
    "loc = z.locate(0.02)\n",
    "sigma = 0.18 / math.sqrt(100)\n",
    "zstat = (4.35 - 4.4) / sigma\n",
    "print(\"d) \" + str(zstat))\n",
    "if zstat > loc:\n",
    "    print(\"do not reject the null\")\n",
    "else:\n",
    "    print(\"reject the null\")"
   ]
  }
 ],
 "metadata": {
  "kernelspec": {
   "display_name": "Python 3 (ipykernel)",
   "language": "python",
   "name": "python3"
  },
  "language_info": {
   "codemirror_mode": {
    "name": "ipython",
    "version": 3
   },
   "file_extension": ".py",
   "mimetype": "text/x-python",
   "name": "python",
   "nbconvert_exporter": "python",
   "pygments_lexer": "ipython3",
   "version": "3.12.1"
  }
 },
 "nbformat": 4,
 "nbformat_minor": 5
}

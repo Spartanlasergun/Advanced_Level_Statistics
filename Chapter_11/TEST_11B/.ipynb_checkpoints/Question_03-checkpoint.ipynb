{
 "cells": [
  {
   "cell_type": "markdown",
   "id": "e9e80441-5d94-469c-92c0-8fccce614deb",
   "metadata": {},
   "source": [
    "# Question 3\n",
    "-----"
   ]
  },
  {
   "cell_type": "code",
   "execution_count": 1,
   "id": "4fd70cd1-be39-49e6-a578-2e3e61067d06",
   "metadata": {},
   "outputs": [],
   "source": [
    "from scipy.integrate import quad\n",
    "import math\n",
    "\n",
    "class normal:\n",
    "    def __init__(self, u, sigma):\n",
    "        self.u = u\n",
    "        self.sigma = sigma\n",
    "        self.root2pi = math.sqrt((2 * math.pi)) \n",
    "    \n",
    "    def normal_func(self, x):\n",
    "        return (1 / (self.sigma * self.root2pi)) * math.exp((-1 * pow((x - self.u), 2)) / (2 * pow(self.sigma, 2)))\n",
    "\n",
    "    def integrate(self, lower_limit, upper_limit):\n",
    "        result, error = quad(self.normal_func, lower_limit, upper_limit)\n",
    "        \n",
    "        return result\n",
    "\n",
    "    def locate(self, area):\n",
    "        fx = 0\n",
    "        x = -6\n",
    "        while fx < area:\n",
    "            fx = self.integrate(-6, x)\n",
    "            x = x + 0.00001\n",
    "            \n",
    "        return x"
   ]
  },
  {
   "cell_type": "code",
   "execution_count": 2,
   "id": "f64e8cc7-ba36-40d8-a2d3-7bde601d3ce1",
   "metadata": {},
   "outputs": [
    {
     "name": "stdout",
     "output_type": "stream",
     "text": [
      "a) 59.82344396665478\n"
     ]
    }
   ],
   "source": [
    "z = normal(0, 1)\n",
    "loc = z.locate(0.01)\n",
    "sigma = 0.24 / math.sqrt(10)\n",
    "xbar = (loc * sigma) + 60\n",
    "print(\"a) \" + str(xbar))"
   ]
  },
  {
   "cell_type": "markdown",
   "id": "cc46620d-b8dc-4119-8ba9-9fb4c9816b62",
   "metadata": {},
   "source": [
    "b) A type 2 error in this context is the probability of accepting the manufacters claim when it is false."
   ]
  },
  {
   "cell_type": "code",
   "execution_count": 3,
   "id": "3002fa80-d846-4f41-85ee-ffab682061fc",
   "metadata": {},
   "outputs": [
    {
     "name": "stdout",
     "output_type": "stream",
     "text": [
      "c) 0.051919851979545406\n"
     ]
    }
   ],
   "source": [
    "dist = normal(59.7, sigma)\n",
    "type2 = 1 - dist.integrate(-100, xbar)\n",
    "print(\"c) \" + str(type2))"
   ]
  }
 ],
 "metadata": {
  "kernelspec": {
   "display_name": "Python 3 (ipykernel)",
   "language": "python",
   "name": "python3"
  },
  "language_info": {
   "codemirror_mode": {
    "name": "ipython",
    "version": 3
   },
   "file_extension": ".py",
   "mimetype": "text/x-python",
   "name": "python",
   "nbconvert_exporter": "python",
   "pygments_lexer": "ipython3",
   "version": "3.12.1"
  }
 },
 "nbformat": 4,
 "nbformat_minor": 5
}

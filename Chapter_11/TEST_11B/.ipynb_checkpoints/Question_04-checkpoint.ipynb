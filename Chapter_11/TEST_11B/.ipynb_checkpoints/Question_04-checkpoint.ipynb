{
 "cells": [
  {
   "cell_type": "markdown",
   "id": "5f6bf4f5-5e50-4e6c-a816-eaa9e883de32",
   "metadata": {},
   "source": [
    "# Question 4\n",
    "-----"
   ]
  },
  {
   "cell_type": "code",
   "execution_count": 1,
   "id": "de558f42-e094-4241-b011-963e9e77bc87",
   "metadata": {},
   "outputs": [],
   "source": [
    "from scipy.integrate import quad\n",
    "import math\n",
    "\n",
    "class normal:\n",
    "    def __init__(self, u, sigma):\n",
    "        self.u = u\n",
    "        self.sigma = sigma\n",
    "        self.root2pi = math.sqrt((2 * math.pi)) \n",
    "    \n",
    "    def normal_func(self, x):\n",
    "        return (1 / (self.sigma * self.root2pi)) * math.exp((-1 * pow((x - self.u), 2)) / (2 * pow(self.sigma, 2)))\n",
    "\n",
    "    def integrate(self, lower_limit, upper_limit):\n",
    "        result, error = quad(self.normal_func, lower_limit, upper_limit)\n",
    "        \n",
    "        return result\n",
    "\n",
    "    def locate(self, area):\n",
    "        fx = 0\n",
    "        x = -6\n",
    "        while fx < area:\n",
    "            fx = self.integrate(-6, x)\n",
    "            x = x + 0.00001\n",
    "            \n",
    "        return x"
   ]
  },
  {
   "cell_type": "markdown",
   "id": "5e4a92a0-c03d-4d05-91b3-b664824b308f",
   "metadata": {},
   "source": [
    "$$H_0: \\mu_1 = \\mu_2$$\n",
    "\n",
    "$$H_1: \\mu_1 \\ne \\mu_2$$"
   ]
  },
  {
   "cell_type": "code",
   "execution_count": 2,
   "id": "fd968338-d106-42b9-a441-2f84ec710dd8",
   "metadata": {},
   "outputs": [
    {
     "name": "stdout",
     "output_type": "stream",
     "text": [
      "-0.6513409961685823\n",
      "do not reject the null\n"
     ]
    }
   ],
   "source": [
    "f = [3, 1, 1, 2, 1, 2, 3, 2, 1, 1]\n",
    "m = [1, 1, 2, 2, 2, 3, 4, 2, 1, 2, 3, 5, 1, 2, 3]\n",
    "mu_1 = sum(f) / len(f)\n",
    "mu_2 = sum(m) / len(m)\n",
    "sigma = 0.87\n",
    "z = normal(0, 1)\n",
    "loc = z.locate(0.025)\n",
    "stat = (mu_1 - mu_2) / sigma\n",
    "print(stat)\n",
    "if stat > loc:\n",
    "    print(\"do not reject the null\")\n",
    "else:\n",
    "    print(\"reject the null\")"
   ]
  }
 ],
 "metadata": {
  "kernelspec": {
   "display_name": "Python 3 (ipykernel)",
   "language": "python",
   "name": "python3"
  },
  "language_info": {
   "codemirror_mode": {
    "name": "ipython",
    "version": 3
   },
   "file_extension": ".py",
   "mimetype": "text/x-python",
   "name": "python",
   "nbconvert_exporter": "python",
   "pygments_lexer": "ipython3",
   "version": "3.12.1"
  }
 },
 "nbformat": 4,
 "nbformat_minor": 5
}

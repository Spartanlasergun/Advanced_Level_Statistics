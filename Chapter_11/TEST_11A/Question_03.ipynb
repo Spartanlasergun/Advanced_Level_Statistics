{
 "cells": [
  {
   "cell_type": "markdown",
   "id": "19d0a30d-8d91-4205-9b7f-118b3a8fd258",
   "metadata": {},
   "source": [
    "# Question 3\n",
    "-----"
   ]
  },
  {
   "cell_type": "markdown",
   "id": "b1b7f2d5-528b-455c-8e6b-27df39856359",
   "metadata": {},
   "source": [
    "a)(i) reject the null when it should be accepted\n",
    "\n",
    "(ii) accepting the null when it should be rejected"
   ]
  },
  {
   "cell_type": "code",
   "execution_count": 1,
   "id": "3ac03560-19fd-45b8-8b8b-cd8b2ff2e718",
   "metadata": {},
   "outputs": [],
   "source": [
    "from scipy.integrate import quad\n",
    "import math\n",
    "\n",
    "class normal:\n",
    "    def __init__(self, u, sigma):\n",
    "        self.u = u\n",
    "        self.sigma = sigma\n",
    "        self.root2pi = math.sqrt((2 * math.pi)) \n",
    "    \n",
    "    def normal_func(self, x):\n",
    "        return (1 / (self.sigma * self.root2pi)) * math.exp((-1 * pow((x - self.u), 2)) / (2 * pow(self.sigma, 2)))\n",
    "\n",
    "    def integrate(self, lower_limit, upper_limit):\n",
    "        result, error = quad(self.normal_func, lower_limit, upper_limit)\n",
    "        \n",
    "        return result\n",
    "\n",
    "    def locate(self, area):\n",
    "        fx = 0\n",
    "        x = -6\n",
    "        while fx < area:\n",
    "            fx = self.integrate(-6, x)\n",
    "            x = x + 0.00001\n",
    "            \n",
    "        return x"
   ]
  },
  {
   "cell_type": "code",
   "execution_count": 2,
   "id": "5e6d0337-03e6-48d0-9842-95a035cc7e5c",
   "metadata": {},
   "outputs": [
    {
     "name": "stdout",
     "output_type": "stream",
     "text": [
      "2.3717082451262903\n",
      "reject the null\n"
     ]
    }
   ],
   "source": [
    "import statistics\n",
    "x = [17.1, 18.3, 18.9, 17.8, 16.9, 19.2, 17.8, 18.3, 18.5, 18.2]\n",
    "mean = sum(x) / len(x)\n",
    "sigma = 0.8 / math.sqrt(len(x))\n",
    "z = normal(0, 1)\n",
    "loc = -1 * z.locate(0.01)\n",
    "stat = (mean - 17.5) / sigma\n",
    "print(stat)\n",
    "if stat < loc:\n",
    "    print(\"do not reject the null\")\n",
    "else:\n",
    "    print(\"reject the null\")"
   ]
  },
  {
   "cell_type": "code",
   "execution_count": 3,
   "id": "08c6cfe7-068e-4676-b6da-23fcbe832902",
   "metadata": {},
   "outputs": [
    {
     "name": "stdout",
     "output_type": "stream",
     "text": [
      "X > 18.088520111150743\n"
     ]
    }
   ],
   "source": [
    "xbar = (loc * sigma) + 17.5\n",
    "print(\"X > \" + str(xbar))"
   ]
  },
  {
   "cell_type": "code",
   "execution_count": 4,
   "id": "a1057771-1380-48b7-95ca-95db25174e67",
   "metadata": {},
   "outputs": [
    {
     "name": "stdout",
     "output_type": "stream",
     "text": [
      "0.544053106777946\n"
     ]
    }
   ],
   "source": [
    "dist = normal(18, 0.8)\n",
    "type2 = dist.integrate(-100, xbar)\n",
    "print(type2)"
   ]
  }
 ],
 "metadata": {
  "kernelspec": {
   "display_name": "Python 3 (ipykernel)",
   "language": "python",
   "name": "python3"
  },
  "language_info": {
   "codemirror_mode": {
    "name": "ipython",
    "version": 3
   },
   "file_extension": ".py",
   "mimetype": "text/x-python",
   "name": "python",
   "nbconvert_exporter": "python",
   "pygments_lexer": "ipython3",
   "version": "3.12.1"
  }
 },
 "nbformat": 4,
 "nbformat_minor": 5
}

{
 "cells": [
  {
   "cell_type": "markdown",
   "id": "e3a354b6-6aa3-44b3-90ed-cc369a570648",
   "metadata": {},
   "source": [
    "# Question 4\n",
    "-----"
   ]
  },
  {
   "cell_type": "code",
   "execution_count": 1,
   "id": "6d494e94-cbdb-41ae-8f8e-2186083b45ea",
   "metadata": {},
   "outputs": [],
   "source": [
    "from scipy.integrate import quad\n",
    "import math\n",
    "\n",
    "class normal:\n",
    "    def __init__(self, u, sigma):\n",
    "        self.u = u\n",
    "        self.sigma = sigma\n",
    "        self.root2pi = math.sqrt((2 * math.pi)) \n",
    "    \n",
    "    def normal_func(self, x):\n",
    "        return (1 / (self.sigma * self.root2pi)) * math.exp((-1 * pow((x - self.u), 2)) / (2 * pow(self.sigma, 2)))\n",
    "\n",
    "    def integrate(self, lower_limit, upper_limit):\n",
    "        result, error = quad(self.normal_func, lower_limit, upper_limit)\n",
    "        \n",
    "        return result\n",
    "\n",
    "    def locate(self, area):\n",
    "        fx = 0\n",
    "        x = -6\n",
    "        while fx < area:\n",
    "            fx = self.integrate(-6, x)\n",
    "            x = x + 0.00001\n",
    "            \n",
    "        return x"
   ]
  },
  {
   "cell_type": "code",
   "execution_count": 2,
   "id": "0887a49c-6135-45be-9177-56e63104fc80",
   "metadata": {},
   "outputs": [
    {
     "name": "stdout",
     "output_type": "stream",
     "text": [
      "type 1 error = 0.06079272353052256\n"
     ]
    }
   ],
   "source": [
    "sigma = 4 / 5\n",
    "dist = normal(0, sigma)\n",
    "type1 = 1 - dist.integrate(-1.5, 1.5)\n",
    "print(\"type 1 error = \" + str(type1))"
   ]
  },
  {
   "cell_type": "code",
   "execution_count": 3,
   "id": "c7ec4482-4a55-4a22-8867-b7ad91b861ae",
   "metadata": {},
   "outputs": [
    {
     "name": "stdout",
     "output_type": "stream",
     "text": [
      "type 2 error = 0.11185943899263129\n"
     ]
    }
   ],
   "source": [
    "dist = normal(0.5, sigma)\n",
    "type2 = 1 - dist.integrate(-1.5, 1.5)\n",
    "print(\"type 2 error = \" + str(type2))"
   ]
  }
 ],
 "metadata": {
  "kernelspec": {
   "display_name": "Python 3 (ipykernel)",
   "language": "python",
   "name": "python3"
  },
  "language_info": {
   "codemirror_mode": {
    "name": "ipython",
    "version": 3
   },
   "file_extension": ".py",
   "mimetype": "text/x-python",
   "name": "python",
   "nbconvert_exporter": "python",
   "pygments_lexer": "ipython3",
   "version": "3.12.1"
  }
 },
 "nbformat": 4,
 "nbformat_minor": 5
}

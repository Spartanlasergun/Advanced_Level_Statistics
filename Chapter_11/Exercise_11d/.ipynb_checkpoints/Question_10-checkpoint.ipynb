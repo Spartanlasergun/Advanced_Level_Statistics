{
 "cells": [
  {
   "cell_type": "markdown",
   "id": "ac669083-f0d8-4e74-bcc4-a3dc42be1869",
   "metadata": {},
   "source": [
    "# Question 10\n",
    "-----"
   ]
  },
  {
   "cell_type": "code",
   "execution_count": 2,
   "id": "26b8b270-c4d0-4812-80ed-f6fca4a75a82",
   "metadata": {},
   "outputs": [
    {
     "name": "stdout",
     "output_type": "stream",
     "text": [
      "6.846153846153846\n"
     ]
    }
   ],
   "source": [
    "import statistics\n",
    "x = [24, 25, 26, 27, 28, 29, 39]\n",
    "freq = [1, 2, 3, 9, 6, 5, 1]\n",
    "raw_data = []\n",
    "index = 0\n",
    "for item in freq:\n",
    "    count = item\n",
    "    while count != 0:\n",
    "        raw_data.append(x[index])\n",
    "        count = count - 1\n",
    "    index = index + 1\n",
    "mean = statistics.mean(raw_data)\n",
    "var = statistics.variance(raw_data)\n",
    "print(var)"
   ]
  },
  {
   "cell_type": "markdown",
   "id": "3161aa6c-1e23-46a4-9b5a-8093fee7c53c",
   "metadata": {},
   "source": [
    "Question omitted due to variance error"
   ]
  }
 ],
 "metadata": {
  "kernelspec": {
   "display_name": "Python 3 (ipykernel)",
   "language": "python",
   "name": "python3"
  },
  "language_info": {
   "codemirror_mode": {
    "name": "ipython",
    "version": 3
   },
   "file_extension": ".py",
   "mimetype": "text/x-python",
   "name": "python",
   "nbconvert_exporter": "python",
   "pygments_lexer": "ipython3",
   "version": "3.12.1"
  }
 },
 "nbformat": 4,
 "nbformat_minor": 5
}

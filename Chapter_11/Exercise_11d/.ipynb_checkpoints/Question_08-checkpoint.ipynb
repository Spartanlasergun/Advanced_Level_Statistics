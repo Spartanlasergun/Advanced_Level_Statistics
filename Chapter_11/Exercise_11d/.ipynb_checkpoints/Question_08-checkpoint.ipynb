{
 "cells": [
  {
   "cell_type": "markdown",
   "id": "2ff3f761-a4b6-4607-bd93-3420dc031636",
   "metadata": {},
   "source": [
    "# Question 8\n",
    "-----"
   ]
  },
  {
   "cell_type": "code",
   "execution_count": 1,
   "id": "1c3fc079-b53e-48a1-9774-39d5af195d52",
   "metadata": {},
   "outputs": [],
   "source": [
    "from scipy.integrate import quad\n",
    "import math\n",
    "\n",
    "class normal:\n",
    "    def __init__(self, u, sigma):\n",
    "        self.u = u\n",
    "        self.sigma = sigma\n",
    "        self.root2pi = math.sqrt((2 * math.pi)) \n",
    "    \n",
    "    def normal_func(self, x):\n",
    "        return (1 / (self.sigma * self.root2pi)) * math.exp((-1 * pow((x - self.u), 2)) / (2 * pow(self.sigma, 2)))\n",
    "\n",
    "    def integrate(self, lower_limit, upper_limit):\n",
    "        result, error = quad(self.normal_func, lower_limit, upper_limit)\n",
    "        \n",
    "        return result\n",
    "\n",
    "    def locate(self, area):\n",
    "        fx = 0\n",
    "        x = -6\n",
    "        while fx < area:\n",
    "            fx = self.integrate(-6, x)\n",
    "            x = x + 0.00001\n",
    "            \n",
    "        return x"
   ]
  },
  {
   "cell_type": "code",
   "execution_count": 2,
   "id": "10eae8e6-dfda-4568-9933-482c614b3467",
   "metadata": {},
   "outputs": [
    {
     "name": "stdout",
     "output_type": "stream",
     "text": [
      "-2.9128387004356897\n",
      "reject the null\n"
     ]
    }
   ],
   "source": [
    "mu_1 = 7920 / 72\n",
    "sv_1 = (879912 / 72) - (mu_1**2)\n",
    "mu_2 = 7820 / 68\n",
    "sv_2 = (904808 / 68) - (mu_2**2)\n",
    "mean = mu_1 - mu_2\n",
    "var = ((72 * sv_1) + (68 * sv_2)) / (72 + 68 - 2)\n",
    "Var = var * ((1/72) + (1/68))\n",
    "sigma = math.sqrt(Var)\n",
    "z = normal(0, 1)\n",
    "loc = z.locate(0.01)\n",
    "stat = mean / sigma\n",
    "print(stat)\n",
    "if stat > loc:\n",
    "    print(\"do not reject the null\")\n",
    "else:\n",
    "    print(\"reject the null\")"
   ]
  }
 ],
 "metadata": {
  "kernelspec": {
   "display_name": "Python 3 (ipykernel)",
   "language": "python",
   "name": "python3"
  },
  "language_info": {
   "codemirror_mode": {
    "name": "ipython",
    "version": 3
   },
   "file_extension": ".py",
   "mimetype": "text/x-python",
   "name": "python",
   "nbconvert_exporter": "python",
   "pygments_lexer": "ipython3",
   "version": "3.12.1"
  }
 },
 "nbformat": 4,
 "nbformat_minor": 5
}

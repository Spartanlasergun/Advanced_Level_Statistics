{
 "cells": [
  {
   "cell_type": "markdown",
   "id": "48602d3b-41e5-4d7d-a146-21f8428558ea",
   "metadata": {},
   "source": [
    "# Question 8\n",
    "-----"
   ]
  },
  {
   "cell_type": "code",
   "execution_count": 1,
   "id": "e84aa04c-6093-4c4b-b8a2-38480e1c5c20",
   "metadata": {},
   "outputs": [],
   "source": [
    "from scipy.integrate import quad\n",
    "import math\n",
    "import numpy as np\n",
    "from scipy.special import gamma\n",
    "\n",
    "class T_dist:\n",
    "    def __init__(self, nu):\n",
    "        self.nu = nu\n",
    "        numerator = gamma((nu + 1) / 2)\n",
    "        denominator = np.sqrt(np.pi * nu) * gamma(nu / 2)\n",
    "        self.coefficient = numerator / denominator\n",
    "\n",
    "    def t_distribution_pdf(self, x):\n",
    "        return self.coefficient * ((1 + (x**2 / self.nu))**(-(self.nu + 1) / 2))\n",
    "\n",
    "    def integrate(self, lower_limit, upper_limit):\n",
    "        result, error = quad(self.t_distribution_pdf, lower_limit, upper_limit)\n",
    "        \n",
    "        return result\n",
    "\n",
    "    def locate(self, area):\n",
    "        fx = 0\n",
    "        x = -6\n",
    "        while fx < area:\n",
    "            fx = self.integrate(-6, x)\n",
    "            x = x + 0.00001\n",
    "            \n",
    "        return x"
   ]
  },
  {
   "cell_type": "code",
   "execution_count": 2,
   "id": "46ee8fdc-943f-4e01-a06c-d7ddf17ff808",
   "metadata": {},
   "outputs": [
    {
     "name": "stdout",
     "output_type": "stream",
     "text": [
      "1.835631421558434\n",
      "reject the null\n"
     ]
    }
   ],
   "source": [
    "import statistics\n",
    "x = [243, 228, 220, 206, 230, 198]\n",
    "mu_1 = sum(x) / len(x)\n",
    "\n",
    "y = [235, 259, 227, 242, 238, 253, 221, 217]\n",
    "mu_2 = sum(y) / len(y)\n",
    "\n",
    "var_1 = statistics.variance(x)\n",
    "var_2 = statistics.variance(y)\n",
    "var = (var_1 / len(x)) + (var_2 / len(y))\n",
    "sigma = math.sqrt(var)\n",
    "mean = mu_2 - mu_1\n",
    "nu = len(x) + len(y) - 2\n",
    "t = T_dist(nu)\n",
    "loc = -1 * t.locate(0.05)\n",
    "stat = mean / sigma\n",
    "print(stat)\n",
    "if stat < loc:\n",
    "    print(\"do not reject the null\")\n",
    "else:\n",
    "    print(\"reject the null\")"
   ]
  },
  {
   "cell_type": "code",
   "execution_count": 3,
   "id": "d760317b-2622-4f43-b4aa-b910e70bb3a3",
   "metadata": {},
   "outputs": [
    {
     "name": "stdout",
     "output_type": "stream",
     "text": [
      "-2.9228858256824175 < X < 34.25621915901573\n"
     ]
    }
   ],
   "source": [
    "loc_1 = t.locate(0.025)\n",
    "loc_2 = -1 * loc_1\n",
    "LI = (loc_1 * sigma) + mean\n",
    "UI = (loc_2 * sigma) + mean\n",
    "print(str(LI) + \" < X < \" + str(UI))"
   ]
  },
  {
   "cell_type": "markdown",
   "id": "ee005183-2125-43d9-b5ff-895fe86f4728",
   "metadata": {},
   "source": [
    "This interval represents the 95% confidence interval for difference in performance between the old and new methods"
   ]
  }
 ],
 "metadata": {
  "kernelspec": {
   "display_name": "Python 3 (ipykernel)",
   "language": "python",
   "name": "python3"
  },
  "language_info": {
   "codemirror_mode": {
    "name": "ipython",
    "version": 3
   },
   "file_extension": ".py",
   "mimetype": "text/x-python",
   "name": "python",
   "nbconvert_exporter": "python",
   "pygments_lexer": "ipython3",
   "version": "3.12.1"
  }
 },
 "nbformat": 4,
 "nbformat_minor": 5
}

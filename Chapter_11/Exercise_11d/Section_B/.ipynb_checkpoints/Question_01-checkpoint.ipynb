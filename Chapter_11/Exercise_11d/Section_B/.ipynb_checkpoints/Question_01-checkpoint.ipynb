{
 "cells": [
  {
   "cell_type": "markdown",
   "id": "ee847022-b284-47dc-9abe-07e10dded8c9",
   "metadata": {},
   "source": [
    "# Question 1\n",
    "-----"
   ]
  },
  {
   "cell_type": "code",
   "execution_count": 1,
   "id": "542ff2c3-77b4-4d0d-8bf7-9a2414e73bc7",
   "metadata": {},
   "outputs": [],
   "source": [
    "from scipy.integrate import quad\n",
    "import math\n",
    "import numpy as np\n",
    "from scipy.special import gamma\n",
    "\n",
    "class T_dist:\n",
    "    def __init__(self, nu):\n",
    "        self.nu = nu\n",
    "        numerator = gamma((nu + 1) / 2)\n",
    "        denominator = np.sqrt(np.pi * nu) * gamma(nu / 2)\n",
    "        self.coefficient = numerator / denominator\n",
    "\n",
    "    def t_distribution_pdf(self, x):\n",
    "        return self.coefficient * ((1 + (x**2 / self.nu))**(-(self.nu + 1) / 2))\n",
    "\n",
    "    def integrate(self, lower_limit, upper_limit):\n",
    "        result, error = quad(self.t_distribution_pdf, lower_limit, upper_limit)\n",
    "        \n",
    "        return result\n",
    "\n",
    "    def locate(self, area):\n",
    "        fx = 0\n",
    "        x = -6\n",
    "        while fx < area:\n",
    "            fx = self.integrate(-6, x)\n",
    "            x = x + 0.00001\n",
    "            \n",
    "        return x"
   ]
  },
  {
   "cell_type": "code",
   "execution_count": 2,
   "id": "f64e1691-8de2-402f-a45b-9c9a14f13f34",
   "metadata": {},
   "outputs": [
    {
     "name": "stdout",
     "output_type": "stream",
     "text": [
      "a)\n",
      "var = 17.727272727272727\n",
      "t = 2.1345287577710166\n",
      "reject the null\n"
     ]
    }
   ],
   "source": [
    "var = (83 + 112) / (6 + 7 - 2)\n",
    "Var = var * ((1/6) + (1/7))\n",
    "sigma = math.sqrt(Var)\n",
    "print(\"a)\")\n",
    "print(\"var = \" + str(var))\n",
    "mu_1 = 171 / 6\n",
    "mu_2 = 164.5 / 7\n",
    "mean = mu_1 - mu_2\n",
    "t = T_dist(12)\n",
    "loc = -1 * t.locate(0.05)\n",
    "stat = mean / sigma\n",
    "print(\"t = \" + str(stat))\n",
    "if stat < loc:\n",
    "    print(\"do not reject the null\")\n",
    "else:\n",
    "    print(\"reject the null\")"
   ]
  },
  {
   "cell_type": "code",
   "execution_count": 3,
   "id": "bb493f2a-a736-4e63-b683-549c03f5aa8d",
   "metadata": {},
   "outputs": [
    {
     "name": "stdout",
     "output_type": "stream",
     "text": [
      "b)\n",
      "var = 87.09\n",
      "t = -0.5673106645682041\n",
      "do not reject the null\n"
     ]
    }
   ],
   "source": [
    "var = (562.3 + 308.6) / (5 + 7 - 2)\n",
    "Var = var * ((1/5) + (1/7))\n",
    "sigma = math.sqrt(Var)\n",
    "print(\"b)\")\n",
    "print(\"var = \" + str(var))\n",
    "mu_1 = 678.5 / 5\n",
    "mu_2 = 971.6 / 7\n",
    "mean = mu_1 - mu_2\n",
    "t = T_dist(11)\n",
    "loc = -1 * t.locate(0.025)\n",
    "stat = mean / sigma\n",
    "print(\"t = \" + str(stat))\n",
    "if stat < loc:\n",
    "    print(\"do not reject the null\")\n",
    "else:\n",
    "    print(\"reject the null\")"
   ]
  },
  {
   "cell_type": "code",
   "execution_count": 4,
   "id": "2f6de2d0-c307-4c42-a2ad-4f861bab6eff",
   "metadata": {},
   "outputs": [
    {
     "name": "stdout",
     "output_type": "stream",
     "text": [
      "c)\n",
      "var = 27.5625\n",
      "t = 2.0881071533810247\n",
      "do not reject the null\n"
     ]
    }
   ],
   "source": [
    "var = (296 + 145) / (8 + 10 - 2)\n",
    "Var = var * ((1/8) + (1/10))\n",
    "sigma = math.sqrt(Var)\n",
    "print(\"c)\")\n",
    "print(\"var = \" + str(var))\n",
    "mu_1 = 238.4 / 8\n",
    "mu_2 = 206 / 10\n",
    "mean = mu_1 - mu_2\n",
    "t = T_dist(17)\n",
    "loc = -1 * t.locate(0.01)\n",
    "stat = (mean - 4) / sigma\n",
    "print(\"t = \" + str(stat))\n",
    "if stat < loc:\n",
    "    print(\"do not reject the null\")\n",
    "else:\n",
    "    print(\"reject the null\")"
   ]
  },
  {
   "cell_type": "code",
   "execution_count": 5,
   "id": "66efb2e7-8ee2-40ec-8fbf-cfb15a665f64",
   "metadata": {},
   "outputs": [
    {
     "name": "stdout",
     "output_type": "stream",
     "text": [
      "d)\n",
      "var = 4.182142857142857\n",
      "t = 1.2596156544461097\n",
      "do not reject the null\n"
     ]
    }
   ],
   "source": [
    "var = (45.1 + 72) / (12 + 18 - 2)\n",
    "Var = var * ((1/12) + (1/18))\n",
    "sigma = math.sqrt(Var)\n",
    "print(\"d)\")\n",
    "print(\"var = \" + str(var))\n",
    "mu_1 = 116.16 / 12\n",
    "mu_2 = 156.96 / 18\n",
    "mean = mu_1 - mu_2\n",
    "t = T_dist(29)\n",
    "loc = t.locate(0.05)\n",
    "stat = mean / sigma\n",
    "print(\"t = \" + str(stat))\n",
    "if stat > loc:\n",
    "    print(\"do not reject the null\")\n",
    "else:\n",
    "    print(\"reject the null\")"
   ]
  }
 ],
 "metadata": {
  "kernelspec": {
   "display_name": "Python 3 (ipykernel)",
   "language": "python",
   "name": "python3"
  },
  "language_info": {
   "codemirror_mode": {
    "name": "ipython",
    "version": 3
   },
   "file_extension": ".py",
   "mimetype": "text/x-python",
   "name": "python",
   "nbconvert_exporter": "python",
   "pygments_lexer": "ipython3",
   "version": "3.12.1"
  }
 },
 "nbformat": 4,
 "nbformat_minor": 5
}

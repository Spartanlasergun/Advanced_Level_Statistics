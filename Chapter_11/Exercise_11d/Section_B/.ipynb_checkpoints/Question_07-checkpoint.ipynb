{
 "cells": [
  {
   "cell_type": "markdown",
   "id": "da744744-e90f-4e60-9686-9f81eb75620d",
   "metadata": {},
   "source": [
    "# Question 7\n",
    "-----"
   ]
  },
  {
   "cell_type": "markdown",
   "id": "f94bfdb9-6d0c-4a73-827f-a7dc188b4cbe",
   "metadata": {},
   "source": [
    "a) samples must be normally distributed with common variance"
   ]
  },
  {
   "cell_type": "code",
   "execution_count": 1,
   "id": "775685ef-62a3-4bac-8f07-006f0fdf1dca",
   "metadata": {},
   "outputs": [],
   "source": [
    "from scipy.integrate import quad\n",
    "import math\n",
    "import numpy as np\n",
    "from scipy.special import gamma\n",
    "\n",
    "class T_dist:\n",
    "    def __init__(self, nu):\n",
    "        self.nu = nu\n",
    "        numerator = gamma((nu + 1) / 2)\n",
    "        denominator = np.sqrt(np.pi * nu) * gamma(nu / 2)\n",
    "        self.coefficient = numerator / denominator\n",
    "\n",
    "    def t_distribution_pdf(self, x):\n",
    "        return self.coefficient * ((1 + (x**2 / self.nu))**(-(self.nu + 1) / 2))\n",
    "\n",
    "    def integrate(self, lower_limit, upper_limit):\n",
    "        result, error = quad(self.t_distribution_pdf, lower_limit, upper_limit)\n",
    "        \n",
    "        return result\n",
    "\n",
    "    def locate(self, area):\n",
    "        fx = 0\n",
    "        x = -6\n",
    "        while fx < area:\n",
    "            fx = self.integrate(-6, x)\n",
    "            x = x + 0.00001\n",
    "            \n",
    "        return x"
   ]
  },
  {
   "cell_type": "markdown",
   "id": "da05b6ab-153f-4990-96a4-81233bda390c",
   "metadata": {},
   "source": [
    "b)\n",
    "$$H_0: \\mu_1 = \\mu_2$$\n",
    "\n",
    "$$H_1: \\mu_1 \\ne \\mu_2$$"
   ]
  },
  {
   "cell_type": "code",
   "execution_count": 2,
   "id": "c98dbf71-ce55-452a-b308-2c0131a5013d",
   "metadata": {},
   "outputs": [
    {
     "name": "stdout",
     "output_type": "stream",
     "text": [
      "-0.8780143822486278\n",
      "do not reject the null\n"
     ]
    }
   ],
   "source": [
    "import statistics\n",
    "x = [497.8, 501.4, 500.2, 500.8, 498.3, 500]\n",
    "mu_1 = sum(x) / len(x)\n",
    "var_1 = statistics.variance(x)\n",
    "\n",
    "\n",
    "y = [501.1, 499.6, 500.3, 500.9, 498.7, 502.1, 500.4, 499.7, 501, 500.1, 499.3]\n",
    "mu_2 = sum(y) / len(y)\n",
    "var_2 = statistics.variance(y)\n",
    "\n",
    "mean = mu_1 - mu_2\n",
    "var = ((len(x) * var_1) + (len(y) * var_2)) / (len(x) + len(y) - 2)\n",
    "Var = var * ((1/(len(x))) + (1/(len(y))))\n",
    "sigma = math.sqrt(Var)\n",
    "nu = len(x) + len(y) - 1\n",
    "t = T_dist(nu)\n",
    "loc = t.locate(0.05)\n",
    "stat = mean / sigma\n",
    "print(stat)\n",
    "if stat > loc:\n",
    "    print(\"do not reject the null\")\n",
    "else:\n",
    "    print(\"reject the null\")"
   ]
  },
  {
   "cell_type": "markdown",
   "id": "6e6a344d-ed78-4aa6-a327-c2b3c05bed76",
   "metadata": {},
   "source": [
    "d) Two populations are not likely to have a common variance, because the squared error has a naturally wide margin of variance itself."
   ]
  }
 ],
 "metadata": {
  "kernelspec": {
   "display_name": "Python 3 (ipykernel)",
   "language": "python",
   "name": "python3"
  },
  "language_info": {
   "codemirror_mode": {
    "name": "ipython",
    "version": 3
   },
   "file_extension": ".py",
   "mimetype": "text/x-python",
   "name": "python",
   "nbconvert_exporter": "python",
   "pygments_lexer": "ipython3",
   "version": "3.12.1"
  }
 },
 "nbformat": 4,
 "nbformat_minor": 5
}

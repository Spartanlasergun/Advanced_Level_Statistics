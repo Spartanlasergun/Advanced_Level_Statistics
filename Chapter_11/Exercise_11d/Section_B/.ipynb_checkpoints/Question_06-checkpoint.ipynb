{
 "cells": [
  {
   "cell_type": "markdown",
   "id": "753dd4e5-9133-4fc6-b7a2-81f41623b379",
   "metadata": {},
   "source": [
    "# Question 6\n",
    "-----"
   ]
  },
  {
   "cell_type": "markdown",
   "id": "f9cee0f8-de94-4c79-a6cc-64a0a7c8e774",
   "metadata": {},
   "source": [
    "Use two sample t-test when n < 30, and pouplations are normally distributed."
   ]
  },
  {
   "cell_type": "code",
   "execution_count": 1,
   "id": "a044489c-fad9-4642-a41a-2a50858d1c86",
   "metadata": {},
   "outputs": [],
   "source": [
    "from scipy.integrate import quad\n",
    "import math\n",
    "import numpy as np\n",
    "from scipy.special import gamma\n",
    "\n",
    "class T_dist:\n",
    "    def __init__(self, nu):\n",
    "        self.nu = nu\n",
    "        numerator = gamma((nu + 1) / 2)\n",
    "        denominator = np.sqrt(np.pi * nu) * gamma(nu / 2)\n",
    "        self.coefficient = numerator / denominator\n",
    "\n",
    "    def t_distribution_pdf(self, x):\n",
    "        return self.coefficient * ((1 + (x**2 / self.nu))**(-(self.nu + 1) / 2))\n",
    "\n",
    "    def integrate(self, lower_limit, upper_limit):\n",
    "        result, error = quad(self.t_distribution_pdf, lower_limit, upper_limit)\n",
    "        \n",
    "        return result\n",
    "\n",
    "    def locate(self, area):\n",
    "        fx = 0\n",
    "        x = -6\n",
    "        while fx < area:\n",
    "            fx = self.integrate(-6, x)\n",
    "            x = x + 0.00001\n",
    "            \n",
    "        return x"
   ]
  },
  {
   "cell_type": "code",
   "execution_count": 2,
   "id": "3558cebb-ec8c-4a28-b285-010d9f148c66",
   "metadata": {},
   "outputs": [
    {
     "name": "stdout",
     "output_type": "stream",
     "text": [
      "2.34641439375238\n",
      "reject the null\n"
     ]
    }
   ],
   "source": [
    "mean = 500.2 - 499.8\n",
    "var_1 = 0.63**2\n",
    "var_2 = 0.48**2\n",
    "var = (var_1 / 20) + (var_2 / 25)\n",
    "sigma = math.sqrt(var)\n",
    "t = T_dist(44)\n",
    "loc = -1 * t.locate(0.05)\n",
    "stat = mean / sigma\n",
    "print(stat)\n",
    "if stat < loc:\n",
    "    print(\"do not reject the null\")\n",
    "else:\n",
    "    print(\"reject the null\")"
   ]
  },
  {
   "cell_type": "code",
   "execution_count": 3,
   "id": "5e87637f-65b1-47a1-b546-c2c1fc5c96a9",
   "metadata": {},
   "outputs": [
    {
     "name": "stdout",
     "output_type": "stream",
     "text": [
      "-2.083333333333215\n",
      "reject the null\n"
     ]
    }
   ],
   "source": [
    "mean = 500 - 500.2\n",
    "sigma = 0.48 / math.sqrt(25)\n",
    "t = T_dist(24)\n",
    "loc = t.locate(0.05)\n",
    "stat = mean / sigma\n",
    "print(stat)\n",
    "if stat > loc:\n",
    "    print(\"do not reject the null\")\n",
    "else:\n",
    "    print(\"reject the null\")"
   ]
  }
 ],
 "metadata": {
  "kernelspec": {
   "display_name": "Python 3 (ipykernel)",
   "language": "python",
   "name": "python3"
  },
  "language_info": {
   "codemirror_mode": {
    "name": "ipython",
    "version": 3
   },
   "file_extension": ".py",
   "mimetype": "text/x-python",
   "name": "python",
   "nbconvert_exporter": "python",
   "pygments_lexer": "ipython3",
   "version": "3.12.1"
  }
 },
 "nbformat": 4,
 "nbformat_minor": 5
}

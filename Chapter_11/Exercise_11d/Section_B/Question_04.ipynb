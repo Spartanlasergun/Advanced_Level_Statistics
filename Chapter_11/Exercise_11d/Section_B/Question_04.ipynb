{
 "cells": [
  {
   "cell_type": "markdown",
   "id": "528f3c7b-318c-4dab-9155-408e653066a4",
   "metadata": {},
   "source": [
    "# Question 4\n",
    "-----"
   ]
  },
  {
   "cell_type": "code",
   "execution_count": 1,
   "id": "e7baa7b3-68d5-4388-8d20-10f8f025ddfe",
   "metadata": {},
   "outputs": [],
   "source": [
    "from scipy.integrate import quad\n",
    "import math\n",
    "import numpy as np\n",
    "from scipy.special import gamma\n",
    "\n",
    "class T_dist:\n",
    "    def __init__(self, nu):\n",
    "        self.nu = nu\n",
    "        numerator = gamma((nu + 1) / 2)\n",
    "        denominator = np.sqrt(np.pi * nu) * gamma(nu / 2)\n",
    "        self.coefficient = numerator / denominator\n",
    "\n",
    "    def t_distribution_pdf(self, x):\n",
    "        return self.coefficient * ((1 + (x**2 / self.nu))**(-(self.nu + 1) / 2))\n",
    "\n",
    "    def integrate(self, lower_limit, upper_limit):\n",
    "        result, error = quad(self.t_distribution_pdf, lower_limit, upper_limit)\n",
    "        \n",
    "        return result\n",
    "\n",
    "    def locate(self, area):\n",
    "        fx = 0\n",
    "        x = -6\n",
    "        while fx < area:\n",
    "            fx = self.integrate(-6, x)\n",
    "            x = x + 0.00001\n",
    "            \n",
    "        return x"
   ]
  },
  {
   "cell_type": "code",
   "execution_count": 2,
   "id": "9c60a6a7-742f-4f5c-a460-c938d79ae305",
   "metadata": {},
   "outputs": [
    {
     "name": "stdout",
     "output_type": "stream",
     "text": [
      "a) 10.812500000000014\n"
     ]
    }
   ],
   "source": [
    "mu_1 = 120 / 8\n",
    "mu_2 = 230 / 10\n",
    "mean = mu_2 - mu_1\n",
    "var_1 = (1827 / 8) - (mu_1**2)\n",
    "var_2 = (5436 / 10) - (mu_2**2)\n",
    "var = ((8 * var_1) + (10 * var_2)) / (8 + 10 - 2)\n",
    "print(\"a) \" + str(var))"
   ]
  },
  {
   "cell_type": "code",
   "execution_count": 3,
   "id": "f9f2b8f5-6c8e-4c82-8e3b-e29d414c835c",
   "metadata": {},
   "outputs": [
    {
     "name": "stdout",
     "output_type": "stream",
     "text": [
      "b)\n",
      "-1.2822587648915857\n",
      "do not reject the null\n"
     ]
    }
   ],
   "source": [
    "Var = var * ((1/8) + (1/10))\n",
    "sigma = math.sqrt(Var)\n",
    "t = T_dist(17)\n",
    "loc = t.locate(0.05)\n",
    "stat = (mean - 10) / sigma\n",
    "print(\"b)\")\n",
    "print(stat)\n",
    "if stat > loc:\n",
    "    print(\"do not reject the null\")\n",
    "else:\n",
    "    print(\"reject the null\")"
   ]
  }
 ],
 "metadata": {
  "kernelspec": {
   "display_name": "Python 3 (ipykernel)",
   "language": "python",
   "name": "python3"
  },
  "language_info": {
   "codemirror_mode": {
    "name": "ipython",
    "version": 3
   },
   "file_extension": ".py",
   "mimetype": "text/x-python",
   "name": "python",
   "nbconvert_exporter": "python",
   "pygments_lexer": "ipython3",
   "version": "3.12.1"
  }
 },
 "nbformat": 4,
 "nbformat_minor": 5
}

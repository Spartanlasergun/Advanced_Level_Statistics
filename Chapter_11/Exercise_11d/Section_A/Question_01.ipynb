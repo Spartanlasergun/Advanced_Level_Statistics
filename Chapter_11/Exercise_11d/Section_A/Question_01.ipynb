{
 "cells": [
  {
   "cell_type": "markdown",
   "id": "9117ef4b-af3b-4a7c-a9ab-9e48e7b5ded3",
   "metadata": {},
   "source": [
    "# Question 1\n",
    "-----"
   ]
  },
  {
   "cell_type": "code",
   "execution_count": 1,
   "id": "665ee889-9213-4c1c-b4b0-f22724bc2de3",
   "metadata": {},
   "outputs": [],
   "source": [
    "from scipy.integrate import quad\n",
    "import math\n",
    "\n",
    "class normal:\n",
    "    def __init__(self, u, sigma):\n",
    "        self.u = u\n",
    "        self.sigma = sigma\n",
    "        self.root2pi = math.sqrt((2 * math.pi)) \n",
    "    \n",
    "    def normal_func(self, x):\n",
    "        return (1 / (self.sigma * self.root2pi)) * math.exp((-1 * pow((x - self.u), 2)) / (2 * pow(self.sigma, 2)))\n",
    "\n",
    "    def integrate(self, lower_limit, upper_limit):\n",
    "        result, error = quad(self.normal_func, lower_limit, upper_limit)\n",
    "        \n",
    "        return result\n",
    "\n",
    "    def locate(self, area):\n",
    "        fx = 0\n",
    "        x = -6\n",
    "        while fx < area:\n",
    "            fx = self.integrate(-6, x)\n",
    "            x = x + 0.00001\n",
    "            \n",
    "        return x"
   ]
  },
  {
   "cell_type": "code",
   "execution_count": 2,
   "id": "d9366c3a-b7b6-425a-a1cd-8487216690db",
   "metadata": {},
   "outputs": [
    {
     "name": "stdout",
     "output_type": "stream",
     "text": [
      "a)(i) -1.0480005175312541\n",
      "do not reject the null\n"
     ]
    }
   ],
   "source": [
    "mu_1 = 4520 / 100\n",
    "mu_2 = 3544 / 80\n",
    "mean = mu_1 - mu_2\n",
    "var_1 = 30 / 100\n",
    "var_2 = 35 / 80\n",
    "var = var_1 + var_2\n",
    "sigma = math.sqrt(var)\n",
    "z = normal(0, 1)\n",
    "loc = z.locate(0.025)\n",
    "stat = (0 - mean) / sigma\n",
    "print(\"a)(i) \" + str(stat))\n",
    "if stat > loc:\n",
    "    print(\"do not reject the null\")\n",
    "else:\n",
    "    print(\"reject the null\")"
   ]
  },
  {
   "cell_type": "code",
   "execution_count": 3,
   "id": "95271642-03c5-47cb-8062-cc4b28d8d508",
   "metadata": {},
   "outputs": [
    {
     "name": "stdout",
     "output_type": "stream",
     "text": [
      "a)(ii) -1.4018260516447003\n",
      "do not reject the null\n"
     ]
    }
   ],
   "source": [
    "mu_1 = 95 / 20\n",
    "mu_2 = 135 / 25\n",
    "mean = mu_1 - mu_2\n",
    "var_1 = 2.3 / 20\n",
    "var_2 = 2.5 / 25\n",
    "var = var_1 + var_2\n",
    "sigma = math.sqrt(var)\n",
    "z = normal(0, 1)\n",
    "loc = z.locate(0.02)\n",
    "stat = (mean) / sigma\n",
    "print(\"a)(ii) \" + str(stat))\n",
    "if stat > loc:\n",
    "    print(\"do not reject the null\")\n",
    "else:\n",
    "    print(\"reject the null\")"
   ]
  },
  {
   "cell_type": "code",
   "execution_count": 4,
   "id": "1c5c3306-89ad-4c35-b486-e9f4d99c3181",
   "metadata": {},
   "outputs": [
    {
     "name": "stdout",
     "output_type": "stream",
     "text": [
      "a)(iii) 2.492636213753948\n",
      "reject the null\n"
     ]
    }
   ],
   "source": [
    "mu_1 = 1545 / 50\n",
    "mu_2 = 1480 / 50\n",
    "mean = mu_1 - mu_2\n",
    "var_1 = 6.5 / 50\n",
    "var_2 = 7.1 / 50\n",
    "var = var_1 + var_2\n",
    "sigma = math.sqrt(var)\n",
    "z = normal(0, 1)\n",
    "loc = -1 * z.locate(0.01)\n",
    "stat = (mean) / sigma\n",
    "print(\"a)(iii) \" + str(stat))\n",
    "if stat < loc:\n",
    "    print(\"do not reject the null\")\n",
    "else:\n",
    "    print(\"reject the null\")"
   ]
  },
  {
   "cell_type": "code",
   "execution_count": 5,
   "id": "f1cb2c4d-1f9c-4273-a1c4-e5a5d86e59e7",
   "metadata": {},
   "outputs": [
    {
     "name": "stdout",
     "output_type": "stream",
     "text": [
      "b)(i) 1.99037464333991\n",
      "do not reject the null\n"
     ]
    }
   ],
   "source": [
    "mu_1 = 2480 / 50\n",
    "mu_2 = 1908 / 40\n",
    "mean = mu_1 - mu_2\n",
    "var = (4.5**2) * ((1/50) + (1/40))\n",
    "sigma = math.sqrt(var)\n",
    "z = normal(0, 1)\n",
    "loc = -1 * z.locate(0.01)\n",
    "stat = (mean) / sigma\n",
    "print(\"b)(i) \" + str(stat))\n",
    "if stat < loc:\n",
    "    print(\"do not reject the null\")\n",
    "else:\n",
    "    print(\"reject the null\")"
   ]
  },
  {
   "cell_type": "code",
   "execution_count": 6,
   "id": "ace38a56-4202-4b80-9cfe-96393d44df04",
   "metadata": {},
   "outputs": [
    {
     "name": "stdout",
     "output_type": "stream",
     "text": [
      "b)(ii) 2.0759098163274805\n",
      "reject the null\n"
     ]
    }
   ],
   "source": [
    "mu_1 = 12730 / 100\n",
    "mu_2 = 12410 / 100\n",
    "mean = mu_1 - mu_2\n",
    "var = (10.9**2) * ((1/100) + (1/100))\n",
    "sigma = math.sqrt(var)\n",
    "z = normal(0, 1)\n",
    "loc = -1 * z.locate(0.05)\n",
    "stat = (mean) / sigma\n",
    "print(\"b)(ii) \" + str(stat))\n",
    "if stat < loc:\n",
    "    print(\"do not reject the null\")\n",
    "else:\n",
    "    print(\"reject the null\")"
   ]
  },
  {
   "cell_type": "code",
   "execution_count": 7,
   "id": "3f1f4169-25b9-4d5e-98d5-d1672ed68334",
   "metadata": {},
   "outputs": [
    {
     "name": "stdout",
     "output_type": "stream",
     "text": [
      "b)(iii) -2.0364675298172554\n",
      "do not reject the null\n"
     ]
    }
   ],
   "source": [
    "mu_1 = 192 / 30\n",
    "mu_2 = 315 / 45\n",
    "mean = mu_1 - mu_2\n",
    "var = (1.25**2) * ((1/30) + (1/45))\n",
    "sigma = math.sqrt(var)\n",
    "z = normal(0, 1)\n",
    "loc = z.locate(0.01)\n",
    "stat = (mean) / sigma\n",
    "print(\"b)(iii) \" + str(stat))\n",
    "if stat > loc:\n",
    "    print(\"do not reject the null\")\n",
    "else:\n",
    "    print(\"reject the null\")"
   ]
  },
  {
   "cell_type": "code",
   "execution_count": 8,
   "id": "fe3fb55f-15bb-4b4b-baec-9dd5357cb957",
   "metadata": {},
   "outputs": [
    {
     "name": "stdout",
     "output_type": "stream",
     "text": [
      "b)(iv) 1.7832827453656643\n",
      "do not reject the null\n"
     ]
    }
   ],
   "source": [
    "mu_1 = 18470 / 200\n",
    "mu_2 = 27663 / 300\n",
    "mean = mu_1 - mu_2\n",
    "var = (0.86**2) * ((1/200) + (1/300))\n",
    "sigma = math.sqrt(var)\n",
    "z = normal(0, 1)\n",
    "loc = -1 * z.locate(0.05)\n",
    "stat = (mean) / sigma\n",
    "print(\"b)(iv) \" + str(stat))\n",
    "if stat > loc:\n",
    "    print(\"do not reject the null\")\n",
    "else:\n",
    "    print(\"reject the null\")"
   ]
  },
  {
   "cell_type": "code",
   "execution_count": 9,
   "id": "aec42bc6-7517-42cb-b833-29e12c7dcc75",
   "metadata": {},
   "outputs": [
    {
     "name": "stdout",
     "output_type": "stream",
     "text": [
      "b)(v) 1.7722617189668437\n",
      "reject the null\n"
     ]
    }
   ],
   "source": [
    "mu_1 = 2128 / 40\n",
    "mu_2 = 2580 / 50\n",
    "mean = mu_1 - mu_2\n",
    "var_1 = (810 / 40) / 40\n",
    "var_2 = (772 / 50) / 50\n",
    "var = var_1 + var_2\n",
    "sigma = math.sqrt(var)\n",
    "z = normal(0, 1)\n",
    "loc = -1 * z.locate(0.05)\n",
    "stat = (mean) / sigma\n",
    "print(\"b)(v) \" + str(stat))\n",
    "if stat < loc:\n",
    "    print(\"do not reject the null\")\n",
    "else:\n",
    "    print(\"reject the null\")"
   ]
  },
  {
   "cell_type": "code",
   "execution_count": 10,
   "id": "f1bd0d2c-6b4a-433c-9bb4-407cba8e88d4",
   "metadata": {},
   "outputs": [
    {
     "name": "stdout",
     "output_type": "stream",
     "text": [
      "b)(vi) -2.3645185533148783\n",
      "do not reject the null\n"
     ]
    }
   ],
   "source": [
    "mu_1 = 6824 / 80\n",
    "mu_2 = 8740 / 100\n",
    "mean = mu_1 - mu_2\n",
    "var_1 = (2508 / 80) / 80\n",
    "var_2 = (3969 / 100) / 100\n",
    "var = var_1 + var_2\n",
    "sigma = math.sqrt(var)\n",
    "z = normal(0, 1)\n",
    "loc = -1 * z.locate(0.01)\n",
    "stat = (mean) / sigma\n",
    "print(\"b)(vi) \" + str(stat))\n",
    "if stat < loc:\n",
    "    print(\"do not reject the null\")\n",
    "else:\n",
    "    print(\"reject the null\")"
   ]
  },
  {
   "cell_type": "code",
   "execution_count": 11,
   "id": "ce486eda-0f33-4bea-8347-0c9665a8c61e",
   "metadata": {},
   "outputs": [
    {
     "name": "stdout",
     "output_type": "stream",
     "text": [
      "b)(vi) 2.4712263189288195\n",
      "reject the null\n"
     ]
    }
   ],
   "source": [
    "mu_1 = 5369 / 65\n",
    "mu_2 = 4672 / 80\n",
    "mean = mu_1 - mu_2\n",
    "var_1 = (8886 / 65) / 65\n",
    "var_2 = (5026 / 80) / 80\n",
    "var = var_1 + var_2\n",
    "sigma = math.sqrt(var)\n",
    "z = normal(0, 1)\n",
    "loc = -1 * z.locate(0.01)\n",
    "stat = (mean - 20) / sigma\n",
    "print(\"b)(vi) \" + str(stat))\n",
    "if stat < loc:\n",
    "    print(\"do not reject the null\")\n",
    "else:\n",
    "    print(\"reject the null\")"
   ]
  }
 ],
 "metadata": {
  "kernelspec": {
   "display_name": "Python 3 (ipykernel)",
   "language": "python",
   "name": "python3"
  },
  "language_info": {
   "codemirror_mode": {
    "name": "ipython",
    "version": 3
   },
   "file_extension": ".py",
   "mimetype": "text/x-python",
   "name": "python",
   "nbconvert_exporter": "python",
   "pygments_lexer": "ipython3",
   "version": "3.12.1"
  }
 },
 "nbformat": 4,
 "nbformat_minor": 5
}

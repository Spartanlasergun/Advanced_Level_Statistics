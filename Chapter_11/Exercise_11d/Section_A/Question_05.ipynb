{
 "cells": [
  {
   "cell_type": "markdown",
   "id": "6b64b0d7-7974-409c-bf51-a7c13b282995",
   "metadata": {},
   "source": [
    "# Question 5\n",
    "-----"
   ]
  },
  {
   "cell_type": "code",
   "execution_count": 1,
   "id": "166c2949-2f49-4b47-96b8-d2a143cebb7a",
   "metadata": {},
   "outputs": [],
   "source": [
    "from scipy.integrate import quad\n",
    "import math\n",
    "\n",
    "class normal:\n",
    "    def __init__(self, u, sigma):\n",
    "        self.u = u\n",
    "        self.sigma = sigma\n",
    "        self.root2pi = math.sqrt((2 * math.pi)) \n",
    "    \n",
    "    def normal_func(self, x):\n",
    "        return (1 / (self.sigma * self.root2pi)) * math.exp((-1 * pow((x - self.u), 2)) / (2 * pow(self.sigma, 2)))\n",
    "\n",
    "    def integrate(self, lower_limit, upper_limit):\n",
    "        result, error = quad(self.normal_func, lower_limit, upper_limit)\n",
    "        \n",
    "        return result\n",
    "\n",
    "    def locate(self, area):\n",
    "        fx = 0\n",
    "        x = -6\n",
    "        while fx < area:\n",
    "            fx = self.integrate(-6, x)\n",
    "            x = x + 0.00001\n",
    "            \n",
    "        return x"
   ]
  },
  {
   "cell_type": "code",
   "execution_count": 2,
   "id": "9ffd4ce7-eec1-456b-8258-637566d69543",
   "metadata": {},
   "outputs": [
    {
     "name": "stdout",
     "output_type": "stream",
     "text": [
      "3.6099999999999874\n"
     ]
    }
   ],
   "source": [
    "mu_1 = 1030 / 100\n",
    "mu_2 = 990 / 100\n",
    "var_1 = (11045.59 / 100) - (mu_1**2)\n",
    "var_2 = (10079.19 / 100) - (mu_2**2)\n",
    "var = ((var_1 * 100) + (var_2 * 100)) / (100 + 100 - 2)\n",
    "print(var)"
   ]
  },
  {
   "cell_type": "markdown",
   "id": "8adb9dc8-d012-4ae1-b311-7248ef362dc7",
   "metadata": {},
   "source": [
    "$$H_0: \\mu_1 = \\mu_2$$\n",
    "\n",
    "$$H_1: \\mu_1 \\ne \\mu_2$$"
   ]
  },
  {
   "cell_type": "code",
   "execution_count": 3,
   "id": "1253be75-6bcc-48c3-9b23-513ea45de76c",
   "metadata": {},
   "outputs": [
    {
     "name": "stdout",
     "output_type": "stream",
     "text": [
      "1.4886458551295776\n",
      "do not reject the null\n"
     ]
    }
   ],
   "source": [
    "Var = var * ((1/100) + (1/100))\n",
    "sigma = math.sqrt(Var)\n",
    "mean = mu_1 - mu_2\n",
    "z = normal(0, 1)\n",
    "loc = -1 * z.locate(0.015)\n",
    "stat = mean / sigma\n",
    "print(stat)\n",
    "if stat < loc:\n",
    "    print(\"do not reject the null\")\n",
    "else:\n",
    "    print(\"reject the null\")"
   ]
  }
 ],
 "metadata": {
  "kernelspec": {
   "display_name": "Python 3 (ipykernel)",
   "language": "python",
   "name": "python3"
  },
  "language_info": {
   "codemirror_mode": {
    "name": "ipython",
    "version": 3
   },
   "file_extension": ".py",
   "mimetype": "text/x-python",
   "name": "python",
   "nbconvert_exporter": "python",
   "pygments_lexer": "ipython3",
   "version": "3.12.1"
  }
 },
 "nbformat": 4,
 "nbformat_minor": 5
}

{
 "cells": [
  {
   "cell_type": "markdown",
   "id": "297e1e03-9865-4904-a5c7-035c91c754b4",
   "metadata": {},
   "source": [
    "# Question 9\n",
    "-----"
   ]
  },
  {
   "cell_type": "code",
   "execution_count": 1,
   "id": "1d17e1a9-d553-47be-b635-047b41461029",
   "metadata": {},
   "outputs": [],
   "source": [
    "from scipy.integrate import quad\n",
    "import math\n",
    "\n",
    "class normal:\n",
    "    def __init__(self, u, sigma):\n",
    "        self.u = u\n",
    "        self.sigma = sigma\n",
    "        self.root2pi = math.sqrt((2 * math.pi)) \n",
    "    \n",
    "    def normal_func(self, x):\n",
    "        return (1 / (self.sigma * self.root2pi)) * math.exp((-1 * pow((x - self.u), 2)) / (2 * pow(self.sigma, 2)))\n",
    "\n",
    "    def integrate(self, lower_limit, upper_limit):\n",
    "        result, error = quad(self.normal_func, lower_limit, upper_limit)\n",
    "        \n",
    "        return result\n",
    "\n",
    "    def locate(self, area):\n",
    "        fx = 0\n",
    "        x = -6\n",
    "        while fx < area:\n",
    "            fx = self.integrate(-6, x)\n",
    "            x = x + 0.00001\n",
    "            \n",
    "        return x"
   ]
  },
  {
   "cell_type": "code",
   "execution_count": 2,
   "id": "8e711fda-b9d1-4604-b630-9be8641b3636",
   "metadata": {},
   "outputs": [
    {
     "name": "stdout",
     "output_type": "stream",
     "text": [
      "1.6439898730535731\n",
      "do not reject the null\n"
     ]
    }
   ],
   "source": [
    "mean = 178 - 176\n",
    "var = ((5**2) / 50) + ((7**2) / 50)\n",
    "sigma = math.sqrt(var)\n",
    "z = normal(0, 1)\n",
    "loc = -1 * z.locate(0.005)\n",
    "stat = mean / sigma\n",
    "print(stat)\n",
    "if stat < loc:\n",
    "    print(\"do not reject the null\")\n",
    "else:\n",
    "    print(\"reject the null\")"
   ]
  },
  {
   "cell_type": "markdown",
   "id": "07abc5f0-3d5c-43d7-aa64-6bc80957b012",
   "metadata": {},
   "source": [
    "$$\\frac{2}{\\sigma} = 2.58$$\n",
    "\n",
    "$$\\sigma = \\frac{2}{2.58}$$\n",
    "\n",
    "$$\\sigma = 0.775$$\n",
    "\n",
    "$$\\sigma^2 = 0.6$$\n",
    "\n",
    "$$\\frac{25}{n} + \\frac{49}{n} = 0.6$$\n",
    "\n",
    "$$25 + 49 = 0.6n$$\n",
    "\n",
    "$$n = 123.33$$\n",
    "\n",
    "Hence, $n$ must be at least 124"
   ]
  }
 ],
 "metadata": {
  "kernelspec": {
   "display_name": "Python 3 (ipykernel)",
   "language": "python",
   "name": "python3"
  },
  "language_info": {
   "codemirror_mode": {
    "name": "ipython",
    "version": 3
   },
   "file_extension": ".py",
   "mimetype": "text/x-python",
   "name": "python",
   "nbconvert_exporter": "python",
   "pygments_lexer": "ipython3",
   "version": "3.12.1"
  }
 },
 "nbformat": 4,
 "nbformat_minor": 5
}

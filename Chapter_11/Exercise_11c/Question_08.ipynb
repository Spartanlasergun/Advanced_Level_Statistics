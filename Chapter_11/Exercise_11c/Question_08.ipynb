{
 "cells": [
  {
   "cell_type": "markdown",
   "id": "efc1c714-abd6-44d3-ab39-254a55551b01",
   "metadata": {},
   "source": [
    "# Question 8\n",
    "-----"
   ]
  },
  {
   "cell_type": "code",
   "execution_count": 1,
   "id": "7cf65106-df54-41d3-ab71-c64e6f5ec48a",
   "metadata": {},
   "outputs": [],
   "source": [
    "from scipy.integrate import quad\n",
    "import math\n",
    "\n",
    "class normal:\n",
    "    def __init__(self, u, sigma):\n",
    "        self.u = u\n",
    "        self.sigma = sigma\n",
    "        self.root2pi = math.sqrt((2 * math.pi)) \n",
    "    \n",
    "    def normal_func(self, x):\n",
    "        return (1 / (self.sigma * self.root2pi)) * math.exp((-1 * pow((x - self.u), 2)) / (2 * pow(self.sigma, 2)))\n",
    "\n",
    "    def integrate(self, lower_limit, upper_limit):\n",
    "        result, error = quad(self.normal_func, lower_limit, upper_limit)\n",
    "        \n",
    "        return result\n",
    "\n",
    "    def locate(self, area):\n",
    "        fx = 0\n",
    "        x = -6\n",
    "        while fx < area:\n",
    "            fx = self.integrate(-6, x)\n",
    "            x = x + 0.00001\n",
    "            \n",
    "        return x"
   ]
  },
  {
   "cell_type": "code",
   "execution_count": 2,
   "id": "9ba8777f-3a2f-47f7-a5a3-f47637429a83",
   "metadata": {},
   "outputs": [
    {
     "name": "stdout",
     "output_type": "stream",
     "text": [
      "a)(i) 0.029673219395959963\n"
     ]
    }
   ],
   "source": [
    "p = 0.75\n",
    "q = 1 - p\n",
    "n = 150\n",
    "mean = n * p\n",
    "var = n * p * q\n",
    "sigma = math.sqrt(var)\n",
    "dist = normal(mean, sigma)\n",
    "ai = dist.integrate(122.5, 500)\n",
    "print(\"a)(i) \" + str(ai))"
   ]
  },
  {
   "cell_type": "code",
   "execution_count": 3,
   "id": "e0c4c00b-186c-457d-8622-65367a36cc2f",
   "metadata": {},
   "outputs": [
    {
     "name": "stdout",
     "output_type": "stream",
     "text": [
      "a)(ii) 0.0934287513315203\n"
     ]
    }
   ],
   "source": [
    "aii = dist.integrate(0, 105.5)\n",
    "print(\"a)(ii) \" + str(aii))"
   ]
  },
  {
   "cell_type": "code",
   "execution_count": 4,
   "id": "a83dc84c-6e07-4dc0-9f5c-a41b69ce2c60",
   "metadata": {},
   "outputs": [
    {
     "name": "stdout",
     "output_type": "stream",
     "text": [
      "b) -1.7919573407620817\n",
      "reject the null\n"
     ]
    }
   ],
   "source": [
    "p = 0.75\n",
    "q = 1 - p\n",
    "n = 120\n",
    "mean = n * p\n",
    "var = n * p * q\n",
    "sigma = math.sqrt(var)\n",
    "z = normal(0, 1)\n",
    "loc = z.locate(0.04)\n",
    "stat = (81.5 - mean) / sigma\n",
    "print(\"b) \" + str(stat))\n",
    "if stat > loc:\n",
    "    print(\"do not reject the null\")\n",
    "else:\n",
    "    print(\"reject the null\")"
   ]
  }
 ],
 "metadata": {
  "kernelspec": {
   "display_name": "Python 3 (ipykernel)",
   "language": "python",
   "name": "python3"
  },
  "language_info": {
   "codemirror_mode": {
    "name": "ipython",
    "version": 3
   },
   "file_extension": ".py",
   "mimetype": "text/x-python",
   "name": "python",
   "nbconvert_exporter": "python",
   "pygments_lexer": "ipython3",
   "version": "3.12.1"
  }
 },
 "nbformat": 4,
 "nbformat_minor": 5
}

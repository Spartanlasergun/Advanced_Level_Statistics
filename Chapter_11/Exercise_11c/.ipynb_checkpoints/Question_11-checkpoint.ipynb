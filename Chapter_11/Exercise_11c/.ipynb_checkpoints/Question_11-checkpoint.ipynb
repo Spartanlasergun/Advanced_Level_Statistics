{
 "cells": [
  {
   "cell_type": "markdown",
   "id": "0d518328-50ce-4050-93e9-efe721b87379",
   "metadata": {},
   "source": [
    "# Question 11\n",
    "-----"
   ]
  },
  {
   "cell_type": "code",
   "execution_count": 1,
   "id": "3ee41752-8a5c-4c03-a189-1598f8025027",
   "metadata": {},
   "outputs": [],
   "source": [
    "import math\n",
    "\n",
    "class bino:\n",
    "    def __init__(self, n, p, q):\n",
    "        self.n = n\n",
    "        self.p = p\n",
    "        self.q = q\n",
    "        self.frequencies = []\n",
    "\n",
    "    def prob(self, r):\n",
    "        self.funk = ((math.factorial(self.n)) / (math.factorial(r) * math.factorial(((self.n)-r)))) * pow((self.q), ((self.n)-r)) * pow((self.p), r)\n",
    "        return self.funk\n",
    "\n",
    "    def freq(self, event, r):\n",
    "        event_prob = self.prob(r)\n",
    "        frequency = event_prob * event\n",
    "        frequency = round(frequency, 0)\n",
    "        return frequency"
   ]
  },
  {
   "cell_type": "markdown",
   "id": "3c6760d0-8344-4612-b50a-47dc3b25d52a",
   "metadata": {},
   "source": [
    "$$H_0: p = 0.25$$\n",
    "\n",
    "$$H_1: p < 0.25$$"
   ]
  },
  {
   "cell_type": "code",
   "execution_count": 2,
   "id": "3b05961a-0b58-4d64-bfc4-aa18014fc6ed",
   "metadata": {},
   "outputs": [
    {
     "name": "stdout",
     "output_type": "stream",
     "text": [
      "a) reject the null\n"
     ]
    }
   ],
   "source": [
    "p = 0.25\n",
    "q = 1 - p\n",
    "n = 20\n",
    "bin_dist = bino(n, p, q)\n",
    "prob = 0\n",
    "x = 0\n",
    "while x <= 2:\n",
    "    prob = prob + (bin_dist.prob(x))\n",
    "    x = x + 1\n",
    "if prob > 0.1:\n",
    "    print(\"a) do not reject the null\")\n",
    "else:\n",
    "    print(\"a) reject the null\")"
   ]
  },
  {
   "cell_type": "code",
   "execution_count": 3,
   "id": "01947554-4916-455b-a51f-c31a5ecaf211",
   "metadata": {},
   "outputs": [],
   "source": [
    "from scipy.integrate import quad\n",
    "import math\n",
    "\n",
    "class normal:\n",
    "    def __init__(self, u, sigma):\n",
    "        self.u = u\n",
    "        self.sigma = sigma\n",
    "        self.root2pi = math.sqrt((2 * math.pi)) \n",
    "    \n",
    "    def normal_func(self, x):\n",
    "        return (1 / (self.sigma * self.root2pi)) * math.exp((-1 * pow((x - self.u), 2)) / (2 * pow(self.sigma, 2)))\n",
    "\n",
    "    def integrate(self, lower_limit, upper_limit):\n",
    "        result, error = quad(self.normal_func, lower_limit, upper_limit)\n",
    "        \n",
    "        return result\n",
    "\n",
    "    def locate(self, area):\n",
    "        fx = 0\n",
    "        x = -6\n",
    "        while fx < area:\n",
    "            fx = self.integrate(-6, x)\n",
    "            x = x + 0.00001\n",
    "            \n",
    "        return x"
   ]
  },
  {
   "cell_type": "markdown",
   "id": "cc3d5ed4-298b-45aa-aca3-8756c8dfdd45",
   "metadata": {},
   "source": [
    "$$H_0: p = 0.25$$\n",
    "\n",
    "$$H_1: p \\ne 0.25$$"
   ]
  },
  {
   "cell_type": "code",
   "execution_count": 4,
   "id": "bd4fa1df-6a23-487a-bdb7-84c253ae0556",
   "metadata": {},
   "outputs": [
    {
     "name": "stdout",
     "output_type": "stream",
     "text": [
      "1.3856406460551016\n",
      "b) do not reject the null\n"
     ]
    }
   ],
   "source": [
    "p = 0.25\n",
    "q = 1 - p\n",
    "n = 100\n",
    "mean = n * p\n",
    "var = n * p * q\n",
    "sigma = math.sqrt(var)\n",
    "z = normal(0, 1)\n",
    "loc = -1 * z.locate(0.025)\n",
    "stat = (31 - 25) / sigma\n",
    "print(stat)\n",
    "if stat < loc:\n",
    "    print(\"b) do not reject the null\")\n",
    "else:\n",
    "    print(\"b) reject the null\")"
   ]
  }
 ],
 "metadata": {
  "kernelspec": {
   "display_name": "Python 3 (ipykernel)",
   "language": "python",
   "name": "python3"
  },
  "language_info": {
   "codemirror_mode": {
    "name": "ipython",
    "version": 3
   },
   "file_extension": ".py",
   "mimetype": "text/x-python",
   "name": "python",
   "nbconvert_exporter": "python",
   "pygments_lexer": "ipython3",
   "version": "3.12.1"
  }
 },
 "nbformat": 4,
 "nbformat_minor": 5
}

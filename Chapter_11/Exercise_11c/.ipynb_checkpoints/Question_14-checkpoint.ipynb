{
 "cells": [
  {
   "cell_type": "markdown",
   "id": "152379b4-73a0-4cc0-9c8a-261ac1b6f27c",
   "metadata": {},
   "source": [
    "# Question 14\n",
    "-----"
   ]
  },
  {
   "cell_type": "code",
   "execution_count": 1,
   "id": "baed926b-1c67-4611-91be-db141c6f28b1",
   "metadata": {},
   "outputs": [],
   "source": [
    "from scipy.integrate import quad\n",
    "import math\n",
    "\n",
    "class normal:\n",
    "    def __init__(self, u, sigma):\n",
    "        self.u = u\n",
    "        self.sigma = sigma\n",
    "        self.root2pi = math.sqrt((2 * math.pi)) \n",
    "    \n",
    "    def normal_func(self, x):\n",
    "        return (1 / (self.sigma * self.root2pi)) * math.exp((-1 * pow((x - self.u), 2)) / (2 * pow(self.sigma, 2)))\n",
    "\n",
    "    def integrate(self, lower_limit, upper_limit):\n",
    "        result, error = quad(self.normal_func, lower_limit, upper_limit)\n",
    "        \n",
    "        return result\n",
    "\n",
    "    def locate(self, area):\n",
    "        fx = 0\n",
    "        x = -6\n",
    "        while fx < area:\n",
    "            fx = self.integrate(-6, x)\n",
    "            x = x + 0.00001\n",
    "            \n",
    "        return x"
   ]
  },
  {
   "cell_type": "markdown",
   "id": "ee1ba101-3b81-4dc1-b481-957a2299159d",
   "metadata": {},
   "source": [
    "$$H_0: p = 0.85$$\n",
    "\n",
    "$$H_1: p < 0.85$$"
   ]
  },
  {
   "cell_type": "code",
   "execution_count": 2,
   "id": "971d5ace-3459-4858-abc5-e504d51f1e4e",
   "metadata": {},
   "outputs": [
    {
     "name": "stdout",
     "output_type": "stream",
     "text": [
      "-2.442274735232083\n",
      "reject the null\n"
     ]
    }
   ],
   "source": [
    "p = 0.85\n",
    "q = 1 - p\n",
    "n = 500\n",
    "mean = n * p\n",
    "var = n * p * q\n",
    "sigma = math.sqrt(var)\n",
    "z = normal(0, 1)\n",
    "loc = z.locate(0.01)\n",
    "stat = (405.5 - mean) / sigma\n",
    "print(stat)\n",
    "if stat > loc:\n",
    "    print(\"do not reject the null\")\n",
    "else:\n",
    "    print(\"reject the null\")"
   ]
  }
 ],
 "metadata": {
  "kernelspec": {
   "display_name": "Python 3 (ipykernel)",
   "language": "python",
   "name": "python3"
  },
  "language_info": {
   "codemirror_mode": {
    "name": "ipython",
    "version": 3
   },
   "file_extension": ".py",
   "mimetype": "text/x-python",
   "name": "python",
   "nbconvert_exporter": "python",
   "pygments_lexer": "ipython3",
   "version": "3.12.1"
  }
 },
 "nbformat": 4,
 "nbformat_minor": 5
}

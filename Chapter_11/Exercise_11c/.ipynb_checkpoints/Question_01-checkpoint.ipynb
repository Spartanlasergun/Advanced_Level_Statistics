{
 "cells": [
  {
   "cell_type": "markdown",
   "id": "8b6b8bb8-bc16-4183-abec-25b2a7b5d6c9",
   "metadata": {},
   "source": [
    "# Question 1\n",
    "-----"
   ]
  },
  {
   "cell_type": "code",
   "execution_count": 1,
   "id": "1a8e849e-1c79-4e0c-a15b-94797ab462bc",
   "metadata": {},
   "outputs": [],
   "source": [
    "from scipy.integrate import quad\n",
    "import math\n",
    "\n",
    "class normal:\n",
    "    def __init__(self, u, sigma):\n",
    "        self.u = u\n",
    "        self.sigma = sigma\n",
    "        self.root2pi = math.sqrt((2 * math.pi)) \n",
    "    \n",
    "    def normal_func(self, x):\n",
    "        return (1 / (self.sigma * self.root2pi)) * math.exp((-1 * pow((x - self.u), 2)) / (2 * pow(self.sigma, 2)))\n",
    "\n",
    "    def integrate(self, lower_limit, upper_limit):\n",
    "        result, error = quad(self.normal_func, lower_limit, upper_limit)\n",
    "        \n",
    "        return result\n",
    "\n",
    "    def locate(self, area):\n",
    "        fx = 0\n",
    "        x = -6\n",
    "        while fx < area:\n",
    "            fx = self.integrate(-6, x)\n",
    "            x = x + 0.00001\n",
    "            \n",
    "        return x"
   ]
  },
  {
   "cell_type": "code",
   "execution_count": 2,
   "id": "ad87a293-195a-43b5-b24a-45b5bf6cc9e2",
   "metadata": {},
   "outputs": [
    {
     "name": "stdout",
     "output_type": "stream",
     "text": [
      "a) 1.5909902576697321\n",
      "do not reject the null\n"
     ]
    }
   ],
   "source": [
    "p = 0.8\n",
    "q = 1 - p\n",
    "n = 50\n",
    "mean = n * p\n",
    "var = n * p * q\n",
    "sigma = math.sqrt(var)\n",
    "z = normal(0, 1)\n",
    "loc = -1 * z.locate(0.05)\n",
    "zstat = (44.5 - mean) / sigma\n",
    "print(\"a) \" + str(zstat))\n",
    "if zstat < loc:\n",
    "    print(\"do not reject the null\")\n",
    "else:\n",
    "    print(\"reject the null\")"
   ]
  },
  {
   "cell_type": "code",
   "execution_count": 3,
   "id": "91da6e26-884a-4771-b35b-d6905beaa9b0",
   "metadata": {},
   "outputs": [
    {
     "name": "stdout",
     "output_type": "stream",
     "text": [
      "b) 2.2057470084576485\n",
      "do not reject the null\n"
     ]
    }
   ],
   "source": [
    "p = 0.55\n",
    "q = 1 - p\n",
    "n = 60\n",
    "mean = n * p\n",
    "var = n * p * q\n",
    "sigma = math.sqrt(var)\n",
    "z = normal(0, 1)\n",
    "loc = -1 * z.locate(0.01)\n",
    "zstat = (41.5 - mean) / sigma\n",
    "print(\"b) \" + str(zstat))\n",
    "if zstat < loc:\n",
    "    print(\"do not reject the null\")\n",
    "else:\n",
    "    print(\"reject the null\")"
   ]
  },
  {
   "cell_type": "code",
   "execution_count": 4,
   "id": "698224f4-1f33-4a8d-a1f8-1f2779811577",
   "metadata": {},
   "outputs": [
    {
     "name": "stdout",
     "output_type": "stream",
     "text": [
      "c) -1.7919573407620817\n",
      "do not reject the null\n"
     ]
    }
   ],
   "source": [
    "p = 0.25\n",
    "q = 1 - p\n",
    "n = 120\n",
    "mean = n * p\n",
    "var = n * p * q\n",
    "sigma = math.sqrt(var)\n",
    "z = normal(0, 1)\n",
    "loc = z.locate(0.025)\n",
    "zstat = (21.5 - mean) / sigma\n",
    "print(\"c) \" + str(zstat))\n",
    "if zstat > loc:\n",
    "    print(\"do not reject the null\")\n",
    "else:\n",
    "    print(\"reject the null\")"
   ]
  },
  {
   "cell_type": "code",
   "execution_count": 5,
   "id": "acc27823-407f-4300-991e-30d6502ebe33",
   "metadata": {},
   "outputs": [
    {
     "name": "stdout",
     "output_type": "stream",
     "text": [
      "d) 2.1182963643408086\n",
      "do not reject the null\n"
     ]
    }
   ],
   "source": [
    "p = 0.65\n",
    "q = 1 - p\n",
    "n = 300\n",
    "mean = n * p\n",
    "var = n * p * q\n",
    "sigma = math.sqrt(var)\n",
    "z = normal(0, 1)\n",
    "loc = -1 * z.locate(0.005)\n",
    "zstat = (212.5 - mean) / sigma\n",
    "print(\"d) \" + str(zstat))\n",
    "if zstat < loc:\n",
    "    print(\"do not reject the null\")\n",
    "else:\n",
    "    print(\"reject the null\")"
   ]
  },
  {
   "cell_type": "code",
   "execution_count": 6,
   "id": "9fe27206-9ea7-4091-8486-b93a8418209c",
   "metadata": {},
   "outputs": [
    {
     "name": "stdout",
     "output_type": "stream",
     "text": [
      "e) -2.9370631855555005\n",
      "reject the null\n"
     ]
    }
   ],
   "source": [
    "p = 0.76\n",
    "q = 1 - p\n",
    "n = 90\n",
    "mean = n * p\n",
    "var = n * p * q\n",
    "sigma = math.sqrt(var)\n",
    "z = normal(0, 1)\n",
    "loc = z.locate(0.005)\n",
    "zstat = (56.5 - mean) / sigma\n",
    "print(\"e) \" + str(zstat))\n",
    "if zstat > loc:\n",
    "    print(\"do not reject the null\")\n",
    "else:\n",
    "    print(\"reject the null\")"
   ]
  }
 ],
 "metadata": {
  "kernelspec": {
   "display_name": "Python 3 (ipykernel)",
   "language": "python",
   "name": "python3"
  },
  "language_info": {
   "codemirror_mode": {
    "name": "ipython",
    "version": 3
   },
   "file_extension": ".py",
   "mimetype": "text/x-python",
   "name": "python",
   "nbconvert_exporter": "python",
   "pygments_lexer": "ipython3",
   "version": "3.12.1"
  }
 },
 "nbformat": 4,
 "nbformat_minor": 5
}

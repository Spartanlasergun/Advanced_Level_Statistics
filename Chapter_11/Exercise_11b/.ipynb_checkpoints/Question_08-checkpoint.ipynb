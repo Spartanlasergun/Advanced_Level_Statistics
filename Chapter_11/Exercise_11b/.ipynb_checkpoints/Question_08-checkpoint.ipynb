{
 "cells": [
  {
   "cell_type": "markdown",
   "id": "c8313b20-0678-4eca-8919-7bff27afd97a",
   "metadata": {},
   "source": [
    "# Question 8\n",
    "-----"
   ]
  },
  {
   "cell_type": "markdown",
   "id": "315bfb55-342d-43e7-9c4a-88e2462e7559",
   "metadata": {},
   "source": [
    "the sample must be normally distributed to conduct a T-test"
   ]
  },
  {
   "cell_type": "code",
   "execution_count": 1,
   "id": "e417cb31-77f3-4dd5-8500-f0c79c252f4d",
   "metadata": {},
   "outputs": [],
   "source": [
    "from scipy.integrate import quad\n",
    "import math\n",
    "import numpy as np\n",
    "from scipy.special import gamma\n",
    "\n",
    "class T_dist:\n",
    "    def __init__(self, nu):\n",
    "        self.nu = nu\n",
    "        numerator = gamma((nu + 1) / 2)\n",
    "        denominator = np.sqrt(np.pi * nu) * gamma(nu / 2)\n",
    "        self.coefficient = numerator / denominator\n",
    "\n",
    "    def t_distribution_pdf(self, x):\n",
    "        return self.coefficient * ((1 + (x**2 / self.nu))**(-(self.nu + 1) / 2))\n",
    "\n",
    "    def integrate(self, lower_limit, upper_limit):\n",
    "        result, error = quad(self.t_distribution_pdf, lower_limit, upper_limit)\n",
    "        \n",
    "        return result\n",
    "\n",
    "    def locate(self, area):\n",
    "        fx = 0\n",
    "        x = -6\n",
    "        while fx < area:\n",
    "            fx = self.integrate(-6, x)\n",
    "            x = x + 0.00001\n",
    "            \n",
    "        return x"
   ]
  },
  {
   "cell_type": "code",
   "execution_count": 2,
   "id": "f5cf3606-5160-42fc-98b2-322aab2c64e8",
   "metadata": {},
   "outputs": [
    {
     "name": "stdout",
     "output_type": "stream",
     "text": [
      "1.7991648672795908\n",
      "do not reject the null\n"
     ]
    }
   ],
   "source": [
    "import statistics\n",
    "x = [120.3, 122.4, 119.8, 121, 122.5, 119.6]\n",
    "mean = sum(x) / len(x)\n",
    "std = statistics.stdev(x)\n",
    "sigma = std / math.sqrt((len(x)))\n",
    "t = T_dist(5)\n",
    "loc = -1 * t.locate(0.025)\n",
    "stat = (mean - 120) / sigma\n",
    "print(stat)\n",
    "if stat < loc:\n",
    "    print(\"do not reject the null\")\n",
    "else:\n",
    "    print(\"reject the null\")"
   ]
  }
 ],
 "metadata": {
  "kernelspec": {
   "display_name": "Python 3 (ipykernel)",
   "language": "python",
   "name": "python3"
  },
  "language_info": {
   "codemirror_mode": {
    "name": "ipython",
    "version": 3
   },
   "file_extension": ".py",
   "mimetype": "text/x-python",
   "name": "python",
   "nbconvert_exporter": "python",
   "pygments_lexer": "ipython3",
   "version": "3.12.1"
  }
 },
 "nbformat": 4,
 "nbformat_minor": 5
}

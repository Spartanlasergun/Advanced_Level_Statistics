{
 "cells": [
  {
   "cell_type": "markdown",
   "id": "863926bb-3ad1-46d3-b50c-5e5e80f121c9",
   "metadata": {},
   "source": [
    "# Question 7\n",
    "-----"
   ]
  },
  {
   "cell_type": "code",
   "execution_count": 1,
   "id": "72418e10-9e4d-447b-afe4-34b39abda729",
   "metadata": {},
   "outputs": [],
   "source": [
    "from scipy.integrate import quad\n",
    "import math\n",
    "import numpy as np\n",
    "from scipy.special import gamma\n",
    "\n",
    "class T_dist:\n",
    "    def __init__(self, nu):\n",
    "        self.nu = nu\n",
    "        numerator = gamma((nu + 1) / 2)\n",
    "        denominator = np.sqrt(np.pi * nu) * gamma(nu / 2)\n",
    "        self.coefficient = numerator / denominator\n",
    "\n",
    "    def t_distribution_pdf(self, x):\n",
    "        return self.coefficient * ((1 + (x**2 / self.nu))**(-(self.nu + 1) / 2))\n",
    "\n",
    "    def integrate(self, lower_limit, upper_limit):\n",
    "        result, error = quad(self.t_distribution_pdf, lower_limit, upper_limit)\n",
    "        \n",
    "        return result\n",
    "\n",
    "    def locate(self, area):\n",
    "        fx = 0\n",
    "        x = -6\n",
    "        while fx < area:\n",
    "            fx = self.integrate(-6, x)\n",
    "            x = x + 0.00001\n",
    "            \n",
    "        return x"
   ]
  },
  {
   "cell_type": "code",
   "execution_count": 2,
   "id": "a4f659b6-3adc-4251-aa56-10cc47192c50",
   "metadata": {},
   "outputs": [
    {
     "name": "stdout",
     "output_type": "stream",
     "text": [
      "a) -1.6601957715882374\n",
      "do not reject the null\n"
     ]
    }
   ],
   "source": [
    "import statistics\n",
    "x = [454.8, 453.8, 455, 454.4, 455.4,\n",
    "     454.4, 454.4, 455, 455, 453.6]\n",
    "mean = sum(x) / len(x)\n",
    "sigma = 0.8 / math.sqrt(10)\n",
    "t = T_dist(9)\n",
    "loc = t.locate(0.025)\n",
    "stat = (mean - 455) / sigma\n",
    "print(\"a) \" + str(stat))\n",
    "if stat > loc:\n",
    "    print(\"do not reject the null\")\n",
    "else:\n",
    "    print(\"reject the null\")"
   ]
  },
  {
   "cell_type": "code",
   "execution_count": 3,
   "id": "0b960d74-d8ac-4b62-8099-10db536ad314",
   "metadata": {},
   "outputs": [
    {
     "name": "stdout",
     "output_type": "stream",
     "text": [
      "b) -2.333333333333134\n",
      "reject the null\n"
     ]
    }
   ],
   "source": [
    "std = statistics.stdev(x)\n",
    "sigma =  std / math.sqrt(10)\n",
    "t = T_dist(9)\n",
    "loc = t.locate(0.025)\n",
    "stat = (mean - 455) / sigma\n",
    "print(\"b) \" + str(stat))\n",
    "if stat > loc:\n",
    "    print(\"do not reject the null\")\n",
    "else:\n",
    "    print(\"reject the null\")"
   ]
  }
 ],
 "metadata": {
  "kernelspec": {
   "display_name": "Python 3 (ipykernel)",
   "language": "python",
   "name": "python3"
  },
  "language_info": {
   "codemirror_mode": {
    "name": "ipython",
    "version": 3
   },
   "file_extension": ".py",
   "mimetype": "text/x-python",
   "name": "python",
   "nbconvert_exporter": "python",
   "pygments_lexer": "ipython3",
   "version": "3.12.1"
  }
 },
 "nbformat": 4,
 "nbformat_minor": 5
}

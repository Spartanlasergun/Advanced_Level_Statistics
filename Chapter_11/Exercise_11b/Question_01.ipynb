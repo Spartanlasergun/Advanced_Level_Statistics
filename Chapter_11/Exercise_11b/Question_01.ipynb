{
 "cells": [
  {
   "cell_type": "markdown",
   "id": "63de31ac-d752-409f-9c31-db61c110a144",
   "metadata": {},
   "source": [
    "# Question 1\n",
    "-----"
   ]
  },
  {
   "cell_type": "code",
   "execution_count": 1,
   "id": "46248700-4d7d-4f2d-b9c2-0307bd5c54eb",
   "metadata": {},
   "outputs": [],
   "source": [
    "from scipy.integrate import quad\n",
    "import math\n",
    "import numpy as np\n",
    "from scipy.special import gamma\n",
    "\n",
    "class T_dist:\n",
    "    def __init__(self, nu):\n",
    "        self.nu = nu\n",
    "        numerator = gamma((nu + 1) / 2)\n",
    "        denominator = np.sqrt(np.pi * nu) * gamma(nu / 2)\n",
    "        self.coefficient = numerator / denominator\n",
    "\n",
    "    def t_distribution_pdf(self, x):\n",
    "        return self.coefficient * ((1 + (x**2 / self.nu))**(-(self.nu + 1) / 2))\n",
    "\n",
    "    def integrate(self, lower_limit, upper_limit):\n",
    "        result, error = quad(self.t_distribution_pdf, lower_limit, upper_limit)\n",
    "        \n",
    "        return result\n",
    "\n",
    "    def locate(self, area):\n",
    "        fx = 0\n",
    "        x = -6\n",
    "        while fx < area:\n",
    "            fx = self.integrate(-6, x)\n",
    "            x = x + 0.00001\n",
    "            \n",
    "        return x"
   ]
  },
  {
   "cell_type": "code",
   "execution_count": 2,
   "id": "c846d4bf-b98d-48c5-9a59-857501de1af7",
   "metadata": {},
   "outputs": [
    {
     "name": "stdout",
     "output_type": "stream",
     "text": [
      "0.9087389347953119\n",
      "do not reject the null\n"
     ]
    }
   ],
   "source": [
    "mean = 298.8 / 12\n",
    "var = (12/11) * ((7542.42 / 12) - (mean**2))\n",
    "sigma = math.sqrt(var) / math.sqrt(12)\n",
    "t = T_dist(11)\n",
    "loc = -1 * t.locate(0.05)\n",
    "stat = (mean - 24.1) / sigma\n",
    "print(stat)\n",
    "if stat < loc:\n",
    "    print(\"do not reject the null\")\n",
    "else:\n",
    "    print(\"reject the null\")"
   ]
  },
  {
   "cell_type": "code",
   "execution_count": 3,
   "id": "c24e1695-c426-437f-8234-6accb79afe5a",
   "metadata": {},
   "outputs": [
    {
     "name": "stdout",
     "output_type": "stream",
     "text": [
      "-1.891527802861622\n",
      "do not reject the null\n"
     ]
    }
   ],
   "source": [
    "mean = 605.2 / 17\n",
    "var = (17/16) * ((23016.92 / 17) - (mean**2))\n",
    "sigma = math.sqrt(var) / math.sqrt(17)\n",
    "t = T_dist(16)\n",
    "loc = t.locate(0.025)\n",
    "stat = (mean - 40) / sigma\n",
    "print(stat)\n",
    "if stat > loc:\n",
    "    print(\"do not reject the null\")\n",
    "else:\n",
    "    print(\"reject the null\")"
   ]
  },
  {
   "cell_type": "code",
   "execution_count": 4,
   "id": "59f80c58-b987-45df-a348-0ae13f6aa357",
   "metadata": {},
   "outputs": [
    {
     "name": "stdout",
     "output_type": "stream",
     "text": [
      "2.151725182229917\n",
      "reject the null\n"
     ]
    }
   ],
   "source": [
    "mean = 9034.8 / 6\n",
    "var = (6/5) * (50.8 / 6)\n",
    "sigma = math.sqrt(var) / math.sqrt(6)\n",
    "t = T_dist(5)\n",
    "loc = -1 * t.locate(0.05)\n",
    "stat = (mean - 1503) / sigma\n",
    "print(stat)\n",
    "if stat < loc:\n",
    "    print(\"do not reject the null\")\n",
    "else:\n",
    "    print(\"reject the null\")"
   ]
  },
  {
   "cell_type": "code",
   "execution_count": 5,
   "id": "bf1935a1-d46b-4bab-933e-9abec226eb41",
   "metadata": {},
   "outputs": [
    {
     "name": "stdout",
     "output_type": "stream",
     "text": [
      "-3.0728851183894927\n",
      "reject the null\n"
     ]
    }
   ],
   "source": [
    "mean = 1298 / 10\n",
    "var = (10/9) * (97.6 / 10)\n",
    "sigma = math.sqrt(var) / math.sqrt(10)\n",
    "t = T_dist(9)\n",
    "loc = t.locate(0.01)\n",
    "stat = (mean - 133) / sigma\n",
    "print(stat)\n",
    "if stat > loc:\n",
    "    print(\"do not reject the null\")\n",
    "else:\n",
    "    print(\"reject the null\")"
   ]
  }
 ],
 "metadata": {
  "kernelspec": {
   "display_name": "Python 3 (ipykernel)",
   "language": "python",
   "name": "python3"
  },
  "language_info": {
   "codemirror_mode": {
    "name": "ipython",
    "version": 3
   },
   "file_extension": ".py",
   "mimetype": "text/x-python",
   "name": "python",
   "nbconvert_exporter": "python",
   "pygments_lexer": "ipython3",
   "version": "3.12.1"
  }
 },
 "nbformat": 4,
 "nbformat_minor": 5
}

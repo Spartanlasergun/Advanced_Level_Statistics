{
 "cells": [
  {
   "cell_type": "markdown",
   "id": "04d0ad27-c421-4ba3-b9b0-0d95807ef425",
   "metadata": {},
   "source": [
    "# Question 4\n",
    "-----"
   ]
  },
  {
   "cell_type": "code",
   "execution_count": 1,
   "id": "323fcde8-ef40-4c6b-a6fa-1dca543822ad",
   "metadata": {},
   "outputs": [],
   "source": [
    "from scipy.integrate import quad\n",
    "import math\n",
    "\n",
    "class normal:\n",
    "    def __init__(self, u, sigma):\n",
    "        self.u = u\n",
    "        self.sigma = sigma\n",
    "        self.root2pi = math.sqrt((2 * math.pi)) \n",
    "    \n",
    "    def normal_func(self, x):\n",
    "        return (1 / (self.sigma * self.root2pi)) * math.exp((-1 * pow((x - self.u), 2)) / (2 * pow(self.sigma, 2)))\n",
    "\n",
    "    def integrate(self, lower_limit, upper_limit):\n",
    "        result, error = quad(self.normal_func, lower_limit, upper_limit)\n",
    "        \n",
    "        return result\n",
    "\n",
    "    def locate(self, area):\n",
    "        fx = 0\n",
    "        x = -6\n",
    "        while fx < area:\n",
    "            fx = self.integrate(-6, x)\n",
    "            x = x + 0.00001\n",
    "            \n",
    "        return x"
   ]
  },
  {
   "cell_type": "markdown",
   "id": "323510b9-e5dc-4678-b26c-e3e065031f74",
   "metadata": {},
   "source": [
    "a)\n",
    "$$H_0: \\mu = 43$$\n",
    "\n",
    "$$H_1: \\mu > 43$$\n",
    "\n",
    "b)\n",
    "Large sample allows for normal approximation"
   ]
  },
  {
   "cell_type": "code",
   "execution_count": 2,
   "id": "a1b2976e-1712-45cf-886d-961d9a4dbfc1",
   "metadata": {},
   "outputs": [
    {
     "name": "stdout",
     "output_type": "stream",
     "text": [
      "c) 1.7677669529663689\n",
      "reject the null\n"
     ]
    }
   ],
   "source": [
    "z = normal(0, 1)\n",
    "loc = -1 * z.locate(0.05)\n",
    "mean = 2400 / 50\n",
    "sigma = 20 / math.sqrt(50)\n",
    "stat = (mean - 43) / sigma\n",
    "print(\"c) \" + str(stat))\n",
    "if stat < loc:\n",
    "    print(\"do not reject the null\")\n",
    "else:\n",
    "    print(\"reject the null\")"
   ]
  },
  {
   "cell_type": "code",
   "execution_count": 3,
   "id": "97ee5ed4-dc7b-49dd-b9ad-164f050d6d02",
   "metadata": {},
   "outputs": [
    {
     "name": "stdout",
     "output_type": "stream",
     "text": [
      "d) 43.34768992796196 < X < 52.65231007203804\n"
     ]
    }
   ],
   "source": [
    "loc_2 = loc\n",
    "loc_1 = -1 * loc_2\n",
    "LI = (loc_1 * sigma) + mean\n",
    "UI = (loc_2 * sigma) + mean\n",
    "print(\"d) \" + str(LI) + \" < X < \" + str(UI))"
   ]
  },
  {
   "cell_type": "markdown",
   "id": "ddda2bed-f7ec-4ef6-aa31-9ab6f739bfce",
   "metadata": {},
   "source": [
    "CI is consistent as 43 is not within the interval"
   ]
  }
 ],
 "metadata": {
  "kernelspec": {
   "display_name": "Python 3 (ipykernel)",
   "language": "python",
   "name": "python3"
  },
  "language_info": {
   "codemirror_mode": {
    "name": "ipython",
    "version": 3
   },
   "file_extension": ".py",
   "mimetype": "text/x-python",
   "name": "python",
   "nbconvert_exporter": "python",
   "pygments_lexer": "ipython3",
   "version": "3.12.1"
  }
 },
 "nbformat": 4,
 "nbformat_minor": 5
}

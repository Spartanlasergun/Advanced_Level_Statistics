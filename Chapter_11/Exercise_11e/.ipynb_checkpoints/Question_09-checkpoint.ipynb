{
 "cells": [
  {
   "cell_type": "markdown",
   "id": "d1434201-173d-4ffc-8bc8-6f69c8dcf995",
   "metadata": {},
   "source": [
    "# Question 9\n",
    "-----"
   ]
  },
  {
   "cell_type": "code",
   "execution_count": 1,
   "id": "ee251798-5c54-4877-812c-c77f8ff1b6c1",
   "metadata": {},
   "outputs": [
    {
     "name": "stdout",
     "output_type": "stream",
     "text": [
      "a) 0.42181809045226587\n"
     ]
    }
   ],
   "source": [
    "mean = 1484.2 / 200\n",
    "var = (200/199) * ((11098.19 / 200) - (mean**2))\n",
    "print(\"a) \" + str(var))"
   ]
  },
  {
   "cell_type": "markdown",
   "id": "8fd22d50-fd0a-4c0b-a066-20a42107b5ce",
   "metadata": {},
   "source": [
    "b) an unbiased estimate has a slightly wider error margin - $\\frac{n}{n - 1}$ - to account for sampling errors"
   ]
  },
  {
   "cell_type": "code",
   "execution_count": 2,
   "id": "ce939442-7906-4e5d-97ed-d09f5fcbbae0",
   "metadata": {},
   "outputs": [],
   "source": [
    "from scipy.integrate import quad\n",
    "import math\n",
    "\n",
    "class normal:\n",
    "    def __init__(self, u, sigma):\n",
    "        self.u = u\n",
    "        self.sigma = sigma\n",
    "        self.root2pi = math.sqrt((2 * math.pi)) \n",
    "    \n",
    "    def normal_func(self, x):\n",
    "        return (1 / (self.sigma * self.root2pi)) * math.exp((-1 * pow((x - self.u), 2)) / (2 * pow(self.sigma, 2)))\n",
    "\n",
    "    def integrate(self, lower_limit, upper_limit):\n",
    "        result, error = quad(self.normal_func, lower_limit, upper_limit)\n",
    "        \n",
    "        return result\n",
    "\n",
    "    def locate(self, area):\n",
    "        fx = 0\n",
    "        x = -6\n",
    "        while fx < area:\n",
    "            fx = self.integrate(-6, x)\n",
    "            x = x + 0.00001\n",
    "            \n",
    "        return x"
   ]
  },
  {
   "cell_type": "code",
   "execution_count": 3,
   "id": "c52e66de-83e2-49c5-8265-733c1e2cabba",
   "metadata": {},
   "outputs": [
    {
     "name": "stdout",
     "output_type": "stream",
     "text": [
      "7.219979240025306\n"
     ]
    }
   ],
   "source": [
    "z = normal(0, 1)\n",
    "loc = z.locate(0.025)\n",
    "sigma = math.sqrt(var) / math.sqrt(50)\n",
    "xbar = (loc * sigma) + 7.4\n",
    "print(xbar)"
   ]
  },
  {
   "cell_type": "code",
   "execution_count": 4,
   "id": "0d8366b2-0bea-4fc0-b31d-303bc558a6cd",
   "metadata": {},
   "outputs": [
    {
     "name": "stdout",
     "output_type": "stream",
     "text": [
      "-0.8709884350395398\n",
      "do not reject the null\n"
     ]
    }
   ],
   "source": [
    "mean = 366 / 50\n",
    "stat = (mean - 7.4) / sigma\n",
    "print(stat)\n",
    "if stat > loc:\n",
    "    print(\"do not reject the null\")\n",
    "else:\n",
    "    print(\"reject the null\")"
   ]
  },
  {
   "cell_type": "code",
   "execution_count": 5,
   "id": "919bb62c-ddc8-4de1-8e5f-fc30cf6be670",
   "metadata": {},
   "outputs": [
    {
     "name": "stdout",
     "output_type": "stream",
     "text": [
      "0.09569423727672088\n"
     ]
    }
   ],
   "source": [
    "dist = normal(7.1, sigma)\n",
    "prob = dist.integrate(7.22, 100)\n",
    "print(prob)"
   ]
  }
 ],
 "metadata": {
  "kernelspec": {
   "display_name": "Python 3 (ipykernel)",
   "language": "python",
   "name": "python3"
  },
  "language_info": {
   "codemirror_mode": {
    "name": "ipython",
    "version": 3
   },
   "file_extension": ".py",
   "mimetype": "text/x-python",
   "name": "python",
   "nbconvert_exporter": "python",
   "pygments_lexer": "ipython3",
   "version": "3.12.1"
  }
 },
 "nbformat": 4,
 "nbformat_minor": 5
}

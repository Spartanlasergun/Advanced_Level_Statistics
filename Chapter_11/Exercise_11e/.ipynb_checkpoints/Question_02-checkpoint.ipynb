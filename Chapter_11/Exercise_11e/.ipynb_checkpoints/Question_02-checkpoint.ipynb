{
 "cells": [
  {
   "cell_type": "markdown",
   "id": "0e2ab8d3-d212-4112-9edb-7f062799e390",
   "metadata": {},
   "source": [
    "# Question 2\n",
    "-----"
   ]
  },
  {
   "cell_type": "markdown",
   "id": "1aa16db7-da8b-46a1-acf8-02a425d6e2b2",
   "metadata": {},
   "source": [
    "a) probability of male and female births must be equally likely"
   ]
  },
  {
   "cell_type": "code",
   "execution_count": 1,
   "id": "624ba2c5-16fe-4d06-9708-bae51b11db6c",
   "metadata": {},
   "outputs": [],
   "source": [
    "from scipy.integrate import quad\n",
    "import math\n",
    "\n",
    "class normal:\n",
    "    def __init__(self, u, sigma):\n",
    "        self.u = u\n",
    "        self.sigma = sigma\n",
    "        self.root2pi = math.sqrt((2 * math.pi)) \n",
    "    \n",
    "    def normal_func(self, x):\n",
    "        return (1 / (self.sigma * self.root2pi)) * math.exp((-1 * pow((x - self.u), 2)) / (2 * pow(self.sigma, 2)))\n",
    "\n",
    "    def integrate(self, lower_limit, upper_limit):\n",
    "        result, error = quad(self.normal_func, lower_limit, upper_limit)\n",
    "        \n",
    "        return result\n",
    "\n",
    "    def locate(self, area):\n",
    "        fx = 0\n",
    "        x = -6\n",
    "        while fx < area:\n",
    "            fx = self.integrate(-6, x)\n",
    "            x = x + 0.00001\n",
    "            \n",
    "        return x"
   ]
  },
  {
   "cell_type": "code",
   "execution_count": 2,
   "id": "388b5f70-4ad9-43dc-bb5e-ea23288edfeb",
   "metadata": {},
   "outputs": [
    {
     "name": "stdout",
     "output_type": "stream",
     "text": [
      "0.9848236812722697\n",
      "do not reject the null\n"
     ]
    }
   ],
   "source": [
    "p = 261 / 500\n",
    "q = 1 - p\n",
    "n = 500\n",
    "mean = n * p\n",
    "var = (n * p * q)\n",
    "sigma = math.sqrt(var)\n",
    "z = normal(0, 1)\n",
    "loc = -1 * z.locate(0.1)\n",
    "stat = (mean - 250) / sigma\n",
    "print(stat)\n",
    "if stat < loc:\n",
    "    print(\"do not reject the null\")\n",
    "else:\n",
    "    print(\"reject the null\")"
   ]
  }
 ],
 "metadata": {
  "kernelspec": {
   "display_name": "Python 3 (ipykernel)",
   "language": "python",
   "name": "python3"
  },
  "language_info": {
   "codemirror_mode": {
    "name": "ipython",
    "version": 3
   },
   "file_extension": ".py",
   "mimetype": "text/x-python",
   "name": "python",
   "nbconvert_exporter": "python",
   "pygments_lexer": "ipython3",
   "version": "3.12.1"
  }
 },
 "nbformat": 4,
 "nbformat_minor": 5
}

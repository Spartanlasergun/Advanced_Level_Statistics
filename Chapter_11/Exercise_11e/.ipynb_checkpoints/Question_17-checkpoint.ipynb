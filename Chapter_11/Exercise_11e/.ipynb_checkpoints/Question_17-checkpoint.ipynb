{
 "cells": [
  {
   "cell_type": "markdown",
   "id": "e3a72323-1667-469d-91bb-de246eb56a57",
   "metadata": {},
   "source": [
    "# Question 17\n",
    "-----"
   ]
  },
  {
   "cell_type": "markdown",
   "id": "90cf8479-c807-489b-b788-33b0a6c08e13",
   "metadata": {},
   "source": [
    "$$H_0: \\mu = 1.73$$\n",
    "\n",
    "$$H_1: \\mu > 1.73$$"
   ]
  },
  {
   "cell_type": "markdown",
   "id": "19b24856-ff30-488e-ae6d-a14209c589d2",
   "metadata": {},
   "source": [
    "$$X \\sim N(1.73, \\frac{0.08^2}{8})$$"
   ]
  },
  {
   "cell_type": "code",
   "execution_count": 1,
   "id": "a6f675f5-98bc-49c6-a765-de9453a8c113",
   "metadata": {},
   "outputs": [],
   "source": [
    "from scipy.integrate import quad\n",
    "import math\n",
    "\n",
    "class normal:\n",
    "    def __init__(self, u, sigma):\n",
    "        self.u = u\n",
    "        self.sigma = sigma\n",
    "        self.root2pi = math.sqrt((2 * math.pi)) \n",
    "    \n",
    "    def normal_func(self, x):\n",
    "        return (1 / (self.sigma * self.root2pi)) * math.exp((-1 * pow((x - self.u), 2)) / (2 * pow(self.sigma, 2)))\n",
    "\n",
    "    def integrate(self, lower_limit, upper_limit):\n",
    "        result, error = quad(self.normal_func, lower_limit, upper_limit)\n",
    "        \n",
    "        return result\n",
    "\n",
    "    def locate(self, area):\n",
    "        fx = 0\n",
    "        x = -6\n",
    "        while fx < area:\n",
    "            fx = self.integrate(-6, x)\n",
    "            x = x + 0.00001\n",
    "            \n",
    "        return x"
   ]
  },
  {
   "cell_type": "code",
   "execution_count": 2,
   "id": "d50f65d1-c484-46f8-b77b-094acd3223c1",
   "metadata": {},
   "outputs": [
    {
     "name": "stdout",
     "output_type": "stream",
     "text": [
      "c) X > 1.7765231007203803\n"
     ]
    }
   ],
   "source": [
    "z = normal(0, 1)\n",
    "loc = -1 * z.locate(0.05)\n",
    "sigma = math.sqrt((0.08**2 / 8))\n",
    "xbar = (loc * sigma) + 1.73\n",
    "print(\"c) X > \" + str(xbar))"
   ]
  },
  {
   "cell_type": "markdown",
   "id": "a87ec092-2ec8-434c-b7ec-df5ea8da27f5",
   "metadata": {},
   "source": [
    "d) men who play basketball are not taller on average - do not reject the null"
   ]
  },
  {
   "cell_type": "code",
   "execution_count": 3,
   "id": "db0a8491-d740-42ea-9c15-9a327ac61fcc",
   "metadata": {},
   "outputs": [
    {
     "name": "stdout",
     "output_type": "stream",
     "text": [
      "e) 0.13420930940587428\n"
     ]
    }
   ],
   "source": [
    "sigma = math.sqrt((0.06**2) / 8)\n",
    "dist = normal(1.8, sigma)\n",
    "prob = dist.integrate(0, xbar)\n",
    "print(\"e) \" + str(prob))"
   ]
  }
 ],
 "metadata": {
  "kernelspec": {
   "display_name": "Python 3 (ipykernel)",
   "language": "python",
   "name": "python3"
  },
  "language_info": {
   "codemirror_mode": {
    "name": "ipython",
    "version": 3
   },
   "file_extension": ".py",
   "mimetype": "text/x-python",
   "name": "python",
   "nbconvert_exporter": "python",
   "pygments_lexer": "ipython3",
   "version": "3.12.1"
  }
 },
 "nbformat": 4,
 "nbformat_minor": 5
}

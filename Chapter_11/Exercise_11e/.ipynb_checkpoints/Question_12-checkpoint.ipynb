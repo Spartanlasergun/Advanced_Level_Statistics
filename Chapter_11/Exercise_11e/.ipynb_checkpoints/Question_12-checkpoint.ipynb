{
 "cells": [
  {
   "cell_type": "markdown",
   "id": "b6b14a5f-7a88-41c1-9c6f-cd4d3edc7b00",
   "metadata": {},
   "source": [
    "# Question 12\n",
    "-----"
   ]
  },
  {
   "cell_type": "code",
   "execution_count": 1,
   "id": "f4c6443a-2992-4031-9b0b-ca1e8098aa60",
   "metadata": {},
   "outputs": [
    {
     "name": "stdout",
     "output_type": "stream",
     "text": [
      "a)\n",
      "mean = 10.46\n",
      "var = 15.639095477386908\n"
     ]
    }
   ],
   "source": [
    "mean = 2092 / 200\n",
    "var = (200/199) * ((24994.5/200) - (mean**2))\n",
    "print(\"a)\")\n",
    "print(\"mean = \" + str(mean))\n",
    "print(\"var = \" + str(var))"
   ]
  },
  {
   "cell_type": "code",
   "execution_count": 2,
   "id": "f8f56971-ca0d-4355-a04c-0bcf860ab71e",
   "metadata": {},
   "outputs": [],
   "source": [
    "from scipy.integrate import quad\n",
    "import math\n",
    "\n",
    "class normal:\n",
    "    def __init__(self, u, sigma):\n",
    "        self.u = u\n",
    "        self.sigma = sigma\n",
    "        self.root2pi = math.sqrt((2 * math.pi)) \n",
    "    \n",
    "    def normal_func(self, x):\n",
    "        return (1 / (self.sigma * self.root2pi)) * math.exp((-1 * pow((x - self.u), 2)) / (2 * pow(self.sigma, 2)))\n",
    "\n",
    "    def integrate(self, lower_limit, upper_limit):\n",
    "        result, error = quad(self.normal_func, lower_limit, upper_limit)\n",
    "        \n",
    "        return result\n",
    "\n",
    "    def locate(self, area):\n",
    "        fx = 0\n",
    "        x = -6\n",
    "        while fx < area:\n",
    "            fx = self.integrate(-6, x)\n",
    "            x = x + 0.00001\n",
    "            \n",
    "        return x"
   ]
  },
  {
   "cell_type": "code",
   "execution_count": 3,
   "id": "3d4873ec-c030-4983-ae83-2b6ba206d5b7",
   "metadata": {},
   "outputs": [
    {
     "name": "stdout",
     "output_type": "stream",
     "text": [
      "b) 0.010050360338536997%\n"
     ]
    }
   ],
   "source": [
    "sigma = math.sqrt(var) / math.sqrt(200)\n",
    "loc = (10.65 - 10) / sigma\n",
    "z = normal(0, 1)\n",
    "sig = z.integrate(loc, 10)\n",
    "print(\"b) \" + str(sig) + \"%\")"
   ]
  },
  {
   "cell_type": "markdown",
   "id": "14831551-e001-461a-82c8-0cdaa1fdef7e",
   "metadata": {},
   "source": [
    "c) according to central limit theorem, a normal approximation is valid"
   ]
  }
 ],
 "metadata": {
  "kernelspec": {
   "display_name": "Python 3 (ipykernel)",
   "language": "python",
   "name": "python3"
  },
  "language_info": {
   "codemirror_mode": {
    "name": "ipython",
    "version": 3
   },
   "file_extension": ".py",
   "mimetype": "text/x-python",
   "name": "python",
   "nbconvert_exporter": "python",
   "pygments_lexer": "ipython3",
   "version": "3.12.1"
  }
 },
 "nbformat": 4,
 "nbformat_minor": 5
}

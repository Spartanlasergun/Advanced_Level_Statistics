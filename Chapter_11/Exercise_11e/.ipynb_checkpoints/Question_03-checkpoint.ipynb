{
 "cells": [
  {
   "cell_type": "markdown",
   "id": "a620df1d-78ee-442e-842a-902933cf3835",
   "metadata": {},
   "source": [
    "# Question 3\n",
    "-----"
   ]
  },
  {
   "cell_type": "markdown",
   "id": "e2d79746-1c30-468a-861c-25bd108575ef",
   "metadata": {},
   "source": [
    "$$H_0: \\mu = 30$$\n",
    "\n",
    "$$H_1: \\mu > 30$$"
   ]
  },
  {
   "cell_type": "code",
   "execution_count": 1,
   "id": "96456059-0e3e-41fe-97b9-17ba7a835a1c",
   "metadata": {},
   "outputs": [],
   "source": [
    "from scipy.integrate import quad\n",
    "import math\n",
    "\n",
    "class normal:\n",
    "    def __init__(self, u, sigma):\n",
    "        self.u = u\n",
    "        self.sigma = sigma\n",
    "        self.root2pi = math.sqrt((2 * math.pi)) \n",
    "    \n",
    "    def normal_func(self, x):\n",
    "        return (1 / (self.sigma * self.root2pi)) * math.exp((-1 * pow((x - self.u), 2)) / (2 * pow(self.sigma, 2)))\n",
    "\n",
    "    def integrate(self, lower_limit, upper_limit):\n",
    "        result, error = quad(self.normal_func, lower_limit, upper_limit)\n",
    "        \n",
    "        return result\n",
    "\n",
    "    def locate(self, area):\n",
    "        fx = 0\n",
    "        x = -6\n",
    "        while fx < area:\n",
    "            fx = self.integrate(-6, x)\n",
    "            x = x + 0.00001\n",
    "            \n",
    "        return x"
   ]
  },
  {
   "cell_type": "code",
   "execution_count": 2,
   "id": "a8206be4-56ea-435c-851d-9e82e30ee8b6",
   "metadata": {},
   "outputs": [
    {
     "name": "stdout",
     "output_type": "stream",
     "text": [
      "b) 33.947616000144684\n"
     ]
    }
   ],
   "source": [
    "z = normal(0, 1)\n",
    "loc = -1 * z.locate(0.05)\n",
    "sigma = 12 / math.sqrt(25)\n",
    "xbar = (loc * sigma) + 30\n",
    "print(\"b) \" + str(xbar))"
   ]
  },
  {
   "cell_type": "markdown",
   "id": "9a5d8abd-1933-46c2-9925-adc217ce3f29",
   "metadata": {},
   "source": [
    "c) $\\bar x$ is in the critical region, hence - cars typcially go faster than 30 miles an hour"
   ]
  },
  {
   "cell_type": "code",
   "execution_count": 3,
   "id": "4ebb052d-a252-41f9-964f-6c1f9fee31b9",
   "metadata": {},
   "outputs": [
    {
     "name": "stdout",
     "output_type": "stream",
     "text": [
      "d) 0.9941623523547929\n"
     ]
    }
   ],
   "source": [
    "stat = (40 - xbar) / sigma\n",
    "prob = z.integrate(-5, stat)\n",
    "print(\"d) \" + str(prob))"
   ]
  }
 ],
 "metadata": {
  "kernelspec": {
   "display_name": "Python 3 (ipykernel)",
   "language": "python",
   "name": "python3"
  },
  "language_info": {
   "codemirror_mode": {
    "name": "ipython",
    "version": 3
   },
   "file_extension": ".py",
   "mimetype": "text/x-python",
   "name": "python",
   "nbconvert_exporter": "python",
   "pygments_lexer": "ipython3",
   "version": "3.12.1"
  }
 },
 "nbformat": 4,
 "nbformat_minor": 5
}

{
 "cells": [
  {
   "cell_type": "markdown",
   "id": "f5f57677-b65a-4853-bd34-e92c27bd6f7c",
   "metadata": {},
   "source": [
    "# Question 14\n",
    "-----"
   ]
  },
  {
   "cell_type": "code",
   "execution_count": 1,
   "id": "bbce38b8-90e1-48c4-8310-6bf6afd27096",
   "metadata": {},
   "outputs": [
    {
     "name": "stdout",
     "output_type": "stream",
     "text": [
      "a) 73.73949579831933\n"
     ]
    }
   ],
   "source": [
    "mean = 120 / 40\n",
    "var = (120/119) * ((3285/40) - (mean**2))\n",
    "print(\"a) \" + str(var))"
   ]
  },
  {
   "cell_type": "code",
   "execution_count": 2,
   "id": "1d9d6fa8-9769-40d5-bbd5-4e37567217e9",
   "metadata": {},
   "outputs": [],
   "source": [
    "from scipy.integrate import quad\n",
    "import math\n",
    "\n",
    "class normal:\n",
    "    def __init__(self, u, sigma):\n",
    "        self.u = u\n",
    "        self.sigma = sigma\n",
    "        self.root2pi = math.sqrt((2 * math.pi)) \n",
    "    \n",
    "    def normal_func(self, x):\n",
    "        return (1 / (self.sigma * self.root2pi)) * math.exp((-1 * pow((x - self.u), 2)) / (2 * pow(self.sigma, 2)))\n",
    "\n",
    "    def integrate(self, lower_limit, upper_limit):\n",
    "        result, error = quad(self.normal_func, lower_limit, upper_limit)\n",
    "        \n",
    "        return result\n",
    "\n",
    "    def locate(self, area):\n",
    "        fx = 0\n",
    "        x = -6\n",
    "        while fx < area:\n",
    "            fx = self.integrate(-6, x)\n",
    "            x = x + 0.00001\n",
    "            \n",
    "        return x"
   ]
  },
  {
   "cell_type": "markdown",
   "id": "08098ff4-6551-475e-922f-a5d82ad03a67",
   "metadata": {},
   "source": [
    "$$H_0: \\mu = 0$$\n",
    "\n",
    "$$H_1: \\mu > 0$$"
   ]
  },
  {
   "cell_type": "code",
   "execution_count": 3,
   "id": "c1a56516-0374-4ea0-92ca-29f2813460fe",
   "metadata": {},
   "outputs": [
    {
     "name": "stdout",
     "output_type": "stream",
     "text": [
      "b) 2.20953644053482\n",
      "reject the null\n"
     ]
    }
   ],
   "source": [
    "sigma = math.sqrt(var) / math.sqrt(40)\n",
    "z = normal(0, 1)\n",
    "loc = -1 * z.locate(0.05)\n",
    "stat = (mean - 0) / sigma\n",
    "print(\"b) \" + str(stat))\n",
    "if stat < loc:\n",
    "    print(\"do not reject the null\")\n",
    "else:\n",
    "    print(\"reject the null\")"
   ]
  },
  {
   "cell_type": "code",
   "execution_count": 4,
   "id": "9b3adda0-2680-4584-b004-3e06b779c27b",
   "metadata": {},
   "outputs": [
    {
     "name": "stdout",
     "output_type": "stream",
     "text": [
      "c) 0.3388762039317941 < X < 5.661123796068206\n"
     ]
    }
   ],
   "source": [
    "loc_1 = z.locate(0.025)\n",
    "loc_2 = -1 * loc_1\n",
    "LI = (loc_1 * sigma) + mean\n",
    "UI = (loc_2 * sigma) + mean\n",
    "print(\"c) \" + str(LI) + \" < X < \" + str(UI))"
   ]
  },
  {
   "cell_type": "markdown",
   "id": "8c4898e5-062b-4423-8a2c-64b06a6c35da",
   "metadata": {},
   "source": [
    "d) The test statistics would be smaller, which means that the machine is less likely to test as incorrectly calibrated."
   ]
  }
 ],
 "metadata": {
  "kernelspec": {
   "display_name": "Python 3 (ipykernel)",
   "language": "python",
   "name": "python3"
  },
  "language_info": {
   "codemirror_mode": {
    "name": "ipython",
    "version": 3
   },
   "file_extension": ".py",
   "mimetype": "text/x-python",
   "name": "python",
   "nbconvert_exporter": "python",
   "pygments_lexer": "ipython3",
   "version": "3.12.1"
  }
 },
 "nbformat": 4,
 "nbformat_minor": 5
}

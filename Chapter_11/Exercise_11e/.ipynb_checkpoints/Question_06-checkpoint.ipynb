{
 "cells": [
  {
   "cell_type": "markdown",
   "id": "909a04e8-d8be-455e-b660-5c7c66678920",
   "metadata": {},
   "source": [
    "# Question 6\n",
    "-----"
   ]
  },
  {
   "cell_type": "markdown",
   "id": "6658f85d-459b-4c96-937f-b3462ff450b7",
   "metadata": {},
   "source": [
    "a)\n",
    "(i) A type 1 error is the probability of rejecting the null hypothesis when it is true. \n",
    "\n",
    "(ii) A type 2 error is the probability of accepting the null hypothesis when it is false."
   ]
  },
  {
   "cell_type": "code",
   "execution_count": 1,
   "id": "343eda1e-3cce-4ec0-9353-ff4a12d2a95b",
   "metadata": {},
   "outputs": [],
   "source": [
    "from scipy.integrate import quad\n",
    "import math\n",
    "\n",
    "class normal:\n",
    "    def __init__(self, u, sigma):\n",
    "        self.u = u\n",
    "        self.sigma = sigma\n",
    "        self.root2pi = math.sqrt((2 * math.pi)) \n",
    "    \n",
    "    def normal_func(self, x):\n",
    "        return (1 / (self.sigma * self.root2pi)) * math.exp((-1 * pow((x - self.u), 2)) / (2 * pow(self.sigma, 2)))\n",
    "\n",
    "    def integrate(self, lower_limit, upper_limit):\n",
    "        result, error = quad(self.normal_func, lower_limit, upper_limit)\n",
    "        \n",
    "        return result\n",
    "\n",
    "    def locate(self, area):\n",
    "        fx = 0\n",
    "        x = -6\n",
    "        while fx < area:\n",
    "            fx = self.integrate(-6, x)\n",
    "            x = x + 0.00001\n",
    "            \n",
    "        return x"
   ]
  },
  {
   "cell_type": "code",
   "execution_count": 2,
   "id": "3dee46ac-4692-48e8-9667-374f6c886e02",
   "metadata": {},
   "outputs": [
    {
     "name": "stdout",
     "output_type": "stream",
     "text": [
      "b) 66.01314632819883\n"
     ]
    }
   ],
   "source": [
    "z = normal(0, 1)\n",
    "loc = -1 * z.locate(0.1)\n",
    "sigma = 5 / math.sqrt(40)\n",
    "xbar = (loc * sigma) + 65\n",
    "print(\"b) \" + str(xbar))"
   ]
  },
  {
   "cell_type": "markdown",
   "id": "df79baac-5da8-4fed-9737-c8d1a8d793cc",
   "metadata": {},
   "source": [
    "c) when $x = 65.7$, the value is not in the critical region. Hence the null hypothesis is accepted. In this case a type 2 error may be made."
   ]
  },
  {
   "cell_type": "code",
   "execution_count": 3,
   "id": "cfc055e1-2727-4d9b-ab89-aa5f1ee5c3b8",
   "metadata": {},
   "outputs": [
    {
     "name": "stdout",
     "output_type": "stream",
     "text": [
      "7.390115516722673e-05\n"
     ]
    }
   ],
   "source": [
    "stat = (68 - 65) / sigma\n",
    "type2 = z.integrate(stat, 10)\n",
    "print(type2)"
   ]
  }
 ],
 "metadata": {
  "kernelspec": {
   "display_name": "Python 3 (ipykernel)",
   "language": "python",
   "name": "python3"
  },
  "language_info": {
   "codemirror_mode": {
    "name": "ipython",
    "version": 3
   },
   "file_extension": ".py",
   "mimetype": "text/x-python",
   "name": "python",
   "nbconvert_exporter": "python",
   "pygments_lexer": "ipython3",
   "version": "3.12.1"
  }
 },
 "nbformat": 4,
 "nbformat_minor": 5
}

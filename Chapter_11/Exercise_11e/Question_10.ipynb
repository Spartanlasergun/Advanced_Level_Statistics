{
 "cells": [
  {
   "cell_type": "markdown",
   "id": "e217cee2-33a9-4e9d-bea1-f4d7ecc99fc4",
   "metadata": {},
   "source": [
    "# Question 10\n",
    "-----"
   ]
  },
  {
   "cell_type": "markdown",
   "id": "c159fcb0-56c9-4e9c-ab0a-82970eae8285",
   "metadata": {},
   "source": [
    "$$H_0: p = \\frac{1}{6}$$\n",
    "\n",
    "$$H_1: p > \\frac{1}{6}$$"
   ]
  },
  {
   "cell_type": "code",
   "execution_count": 1,
   "id": "c28ae857-5be4-43a9-882a-3c6c8df559b4",
   "metadata": {},
   "outputs": [],
   "source": [
    "from scipy.integrate import quad\n",
    "import math\n",
    "\n",
    "class normal:\n",
    "    def __init__(self, u, sigma):\n",
    "        self.u = u\n",
    "        self.sigma = sigma\n",
    "        self.root2pi = math.sqrt((2 * math.pi)) \n",
    "    \n",
    "    def normal_func(self, x):\n",
    "        return (1 / (self.sigma * self.root2pi)) * math.exp((-1 * pow((x - self.u), 2)) / (2 * pow(self.sigma, 2)))\n",
    "\n",
    "    def integrate(self, lower_limit, upper_limit):\n",
    "        result, error = quad(self.normal_func, lower_limit, upper_limit)\n",
    "        \n",
    "        return result\n",
    "\n",
    "    def locate(self, area):\n",
    "        fx = 0\n",
    "        x = -6\n",
    "        while fx < area:\n",
    "            fx = self.integrate(-6, x)\n",
    "            x = x + 0.00001\n",
    "            \n",
    "        return x"
   ]
  },
  {
   "cell_type": "code",
   "execution_count": 2,
   "id": "aebd316f-e67d-4783-a5f4-4cc08ef0fb7d",
   "metadata": {},
   "outputs": [
    {
     "name": "stdout",
     "output_type": "stream",
     "text": [
      "b) 49.49648816808671\n"
     ]
    }
   ],
   "source": [
    "z = normal(0, 1)\n",
    "loc = -1 * z.locate(0.05)\n",
    "p = 1/6\n",
    "q = 1 - p\n",
    "n = 240\n",
    "var = n * p * q\n",
    "sigma = math.sqrt(var)\n",
    "mean = n * p\n",
    "xbar = (loc * sigma) + mean\n",
    "print(\"b) \" + str(xbar))"
   ]
  },
  {
   "cell_type": "code",
   "execution_count": 3,
   "id": "e0d4e159-e5de-4481-9e74-5eba1f0f1fdc",
   "metadata": {},
   "outputs": [
    {
     "name": "stdout",
     "output_type": "stream",
     "text": [
      "c) 0.05230013321801258\n"
     ]
    }
   ],
   "source": [
    "xbar = (3.355 * sigma) + mean\n",
    "dist = normal(xbar, sigma)\n",
    "type2 = dist.integrate(0, 50)\n",
    "print(\"c) \" + str(type2))"
   ]
  }
 ],
 "metadata": {
  "kernelspec": {
   "display_name": "Python 3 (ipykernel)",
   "language": "python",
   "name": "python3"
  },
  "language_info": {
   "codemirror_mode": {
    "name": "ipython",
    "version": 3
   },
   "file_extension": ".py",
   "mimetype": "text/x-python",
   "name": "python",
   "nbconvert_exporter": "python",
   "pygments_lexer": "ipython3",
   "version": "3.12.1"
  }
 },
 "nbformat": 4,
 "nbformat_minor": 5
}

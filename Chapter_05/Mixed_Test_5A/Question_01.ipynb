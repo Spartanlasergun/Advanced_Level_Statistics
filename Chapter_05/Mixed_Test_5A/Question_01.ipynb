{
 "cells": [
  {
   "cell_type": "markdown",
   "id": "af37d388-902e-4719-b00b-4c02d0a10ff1",
   "metadata": {},
   "source": [
    "# Question 1\n",
    "-----"
   ]
  },
  {
   "cell_type": "markdown",
   "id": "a6169599-9328-496c-9d1d-0340c11767d3",
   "metadata": {},
   "source": [
    "Condition One: events must occur independently\n",
    "\n",
    "Condition Two: the probability of success for each event must be the same"
   ]
  },
  {
   "cell_type": "code",
   "execution_count": 1,
   "id": "4e39b121-e4fd-49ca-b326-52150e305356",
   "metadata": {},
   "outputs": [],
   "source": [
    "import math\n",
    "\n",
    "class bino:\n",
    "    def __init__(self, n, p, q):\n",
    "        self.n = n\n",
    "        self.p = p\n",
    "        self.q = q\n",
    "        self.frequencies = []\n",
    "\n",
    "    def prob(self, r):\n",
    "        self.funk = ((math.factorial(self.n)) / (math.factorial(r) * math.factorial(((self.n)-r)))) * pow((self.q), ((self.n)-r)) * pow((self.p), r)\n",
    "        return self.funk\n",
    "\n",
    "    def freq(self, event, r):\n",
    "        event_prob = self.prob(r)\n",
    "        frequency = event_prob * event\n",
    "        frequency = round(frequency, 0)\n",
    "        return frequency"
   ]
  },
  {
   "cell_type": "code",
   "execution_count": 2,
   "id": "3ba549f4-4a8d-461b-9d99-174f006fb852",
   "metadata": {},
   "outputs": [
    {
     "name": "stdout",
     "output_type": "stream",
     "text": [
      "P(X = 9) = 0.1589640242284656\n"
     ]
    }
   ],
   "source": [
    "p = 2/3\n",
    "q = 1 - p\n",
    "n = 11\n",
    "bin_dist = bino(n, p, q)\n",
    "PXE9 = bin_dist.prob(9)\n",
    "print(\"P(X = 9) = \" + str(PXE9))"
   ]
  },
  {
   "cell_type": "code",
   "execution_count": 3,
   "id": "c676b1b7-c9de-490a-b2c6-06393ce0b096",
   "metadata": {},
   "outputs": [
    {
     "name": "stdout",
     "output_type": "stream",
     "text": [
      "P(X < 9) = 0.7658893461362598\n"
     ]
    }
   ],
   "source": [
    "PXE10 = bin_dist.prob(10)\n",
    "PXE11 = bin_dist.prob(11)\n",
    "PXL9 = 1 - (PXE10 + PXE11 + PXE9)\n",
    "print(\"P(X < 9) = \" + str(PXL9))"
   ]
  }
 ],
 "metadata": {
  "kernelspec": {
   "display_name": "Python 3 (ipykernel)",
   "language": "python",
   "name": "python3"
  },
  "language_info": {
   "codemirror_mode": {
    "name": "ipython",
    "version": 3
   },
   "file_extension": ".py",
   "mimetype": "text/x-python",
   "name": "python",
   "nbconvert_exporter": "python",
   "pygments_lexer": "ipython3",
   "version": "3.12.1"
  }
 },
 "nbformat": 4,
 "nbformat_minor": 5
}

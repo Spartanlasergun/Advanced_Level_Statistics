{
 "cells": [
  {
   "cell_type": "markdown",
   "id": "a0b7225b-8fb9-4fb4-99d0-ef2d39a28800",
   "metadata": {},
   "source": [
    "# Question 4\n",
    "-----"
   ]
  },
  {
   "cell_type": "code",
   "execution_count": 1,
   "id": "bad1c5ed-b682-443e-ad58-a27120596d12",
   "metadata": {},
   "outputs": [
    {
     "name": "stdout",
     "output_type": "stream",
     "text": [
      "E(X) = 0.6\n"
     ]
    }
   ],
   "source": [
    "mean = (300/500)\n",
    "print(\"E(X) = \" + str(mean))"
   ]
  },
  {
   "cell_type": "markdown",
   "id": "678689a4-913a-4801-9be0-0c163b7ff9a3",
   "metadata": {},
   "source": [
    "$$X \\sim Po(0.6)$$"
   ]
  },
  {
   "cell_type": "code",
   "execution_count": 2,
   "id": "7be8287d-8077-4def-aae1-8dbdf02ae498",
   "metadata": {},
   "outputs": [],
   "source": [
    "import math\n",
    "\n",
    "class poisson:\n",
    "    def __init__(self, lamb):\n",
    "        self.lamb = lamb\n",
    "\n",
    "    def prob(self, x):\n",
    "        pois = math.exp(-self.lamb) * (pow(self.lamb, x) / math.factorial(x))\n",
    "        return pois\n",
    "\n",
    "    def freq(self, event, sample):\n",
    "        freq = self.prob(event) * sample \n",
    "        freq = round(freq, 0)\n",
    "        return freq"
   ]
  },
  {
   "cell_type": "code",
   "execution_count": 3,
   "id": "ffd1a961-4fba-4b32-ba12-52e6c15888d3",
   "metadata": {},
   "outputs": [
    {
     "name": "stdout",
     "output_type": "stream",
     "text": [
      "P(X = 0) = 0.5488116360940265\n"
     ]
    }
   ],
   "source": [
    "pois_dist = poisson(0.6)\n",
    "PXE0 = pois_dist.prob(0)\n",
    "print(\"P(X = 0) = \" + str(PXE0))"
   ]
  },
  {
   "cell_type": "code",
   "execution_count": 4,
   "id": "10e4490a-cfe3-4cff-89e3-d12f1abd1006",
   "metadata": {},
   "outputs": [
    {
     "name": "stdout",
     "output_type": "stream",
     "text": [
      "P(X >= 3) = 0.02311528775263283\n"
     ]
    }
   ],
   "source": [
    "PXE1 = pois_dist.prob(1)\n",
    "PXE2 = pois_dist.prob(2)\n",
    "PXGE3 = 1 - (PXE0 + PXE1 + PXE2)\n",
    "print(\"P(X >= 3) = \" + str(PXGE3))"
   ]
  }
 ],
 "metadata": {
  "kernelspec": {
   "display_name": "Python 3 (ipykernel)",
   "language": "python",
   "name": "python3"
  },
  "language_info": {
   "codemirror_mode": {
    "name": "ipython",
    "version": 3
   },
   "file_extension": ".py",
   "mimetype": "text/x-python",
   "name": "python",
   "nbconvert_exporter": "python",
   "pygments_lexer": "ipython3",
   "version": "3.12.1"
  }
 },
 "nbformat": 4,
 "nbformat_minor": 5
}

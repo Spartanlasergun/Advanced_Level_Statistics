{
 "cells": [
  {
   "cell_type": "markdown",
   "id": "5df1dbc8-f115-42ab-80b9-2b88cc0369bf",
   "metadata": {},
   "source": [
    "# Question 5\n",
    "-----"
   ]
  },
  {
   "cell_type": "code",
   "execution_count": 1,
   "id": "1b3ce3ed-527b-416c-a622-87ffde8f8058",
   "metadata": {},
   "outputs": [
    {
     "name": "stdout",
     "output_type": "stream",
     "text": [
      "E(X) = 4.800000000000001\n"
     ]
    }
   ],
   "source": [
    "p = 0.8\n",
    "n = 6\n",
    "EX = n * p\n",
    "print(\"E(X) = \" + str(EX))"
   ]
  },
  {
   "cell_type": "code",
   "execution_count": 2,
   "id": "1252d7bb-05aa-4c0b-af1f-a131561fd530",
   "metadata": {},
   "outputs": [
    {
     "name": "stdout",
     "output_type": "stream",
     "text": [
      "std = 0.9797958971132712\n"
     ]
    }
   ],
   "source": [
    "import math\n",
    "\n",
    "q = 1 - p\n",
    "var = n * p * q\n",
    "std = math.sqrt(var)\n",
    "print(\"std = \" + str(std))"
   ]
  },
  {
   "cell_type": "code",
   "execution_count": 3,
   "id": "0437bd3b-e2e4-4f6a-8289-f5a59043fd9a",
   "metadata": {},
   "outputs": [],
   "source": [
    "import math\n",
    "\n",
    "class bino:\n",
    "    def __init__(self, n, p, q):\n",
    "        self.n = n\n",
    "        self.p = p\n",
    "        self.q = q\n",
    "        self.frequencies = []\n",
    "\n",
    "    def prob(self, r):\n",
    "        self.funk = ((math.factorial(self.n)) / (math.factorial(r) * math.factorial(((self.n)-r)))) * pow((self.q), ((self.n)-r)) * pow((self.p), r)\n",
    "        return self.funk\n",
    "\n",
    "    def freq(self, event, r):\n",
    "        event_prob = self.prob(r)\n",
    "        frequency = event_prob * event\n",
    "        frequency = round(frequency, 0)\n",
    "        return frequency"
   ]
  },
  {
   "cell_type": "code",
   "execution_count": 4,
   "id": "3aca059f-e213-4e90-b984-a562f5240123",
   "metadata": {},
   "outputs": [
    {
     "name": "stdout",
     "output_type": "stream",
     "text": [
      "P(X >= 5) = 0.6553600000000002\n"
     ]
    }
   ],
   "source": [
    "bin_dist = bino(n, p, q)\n",
    "PXE0 = bin_dist.prob(0)\n",
    "PXE1 = bin_dist.prob(1)\n",
    "PXE2 = bin_dist.prob(2)\n",
    "PXE3 = bin_dist.prob(3)\n",
    "PXE4 = bin_dist.prob(4)\n",
    "PXGE5 = 1 - (PXE0 + PXE1 + PXE2 + PXE3 + PXE4)\n",
    "print(\"P(X >= 5) = \" + str(PXGE5))"
   ]
  },
  {
   "cell_type": "code",
   "execution_count": 5,
   "id": "9a824511-5b6d-40b1-832a-0530e203cb73",
   "metadata": {},
   "outputs": [
    {
     "name": "stdout",
     "output_type": "stream",
     "text": [
      "P(X >= 4) = 0.73728\n"
     ]
    }
   ],
   "source": [
    "bin_dist = bino(5, p, q)\n",
    "PXE0 = bin_dist.prob(0)\n",
    "PXE1 = bin_dist.prob(1)\n",
    "PXE2 = bin_dist.prob(2)\n",
    "PXE3 = bin_dist.prob(3)\n",
    "PXGE4 = 1 - (PXE0 + PXE1 + PXE2 + PXE3)\n",
    "print(\"P(X >= 4) = \" + str(PXGE4))"
   ]
  },
  {
   "cell_type": "code",
   "execution_count": 6,
   "id": "252f7a7b-dfff-457b-b280-755fcc714cb8",
   "metadata": {},
   "outputs": [
    {
     "name": "stdout",
     "output_type": "stream",
     "text": [
      "prob = 0.388030143894242\n"
     ]
    }
   ],
   "source": [
    "bin_dist = bino(6, p, q)\n",
    "PXE0 = bin_dist.prob(0)\n",
    "PXE1 = bin_dist.prob(1)\n",
    "PXE2 = bin_dist.prob(2)\n",
    "PXE3 = bin_dist.prob(3)\n",
    "PXE4 = bin_dist.prob(4)\n",
    "PXLE4 = (PXE0 + PXE1 + PXE2 + PXE3 + PXE4)\n",
    "PXG4 = 1 - PXLE4\n",
    "prob = PXLE4 * pow(PXG4, 3) * 4\n",
    "print(\"prob = \" + str(prob))"
   ]
  }
 ],
 "metadata": {
  "kernelspec": {
   "display_name": "Python 3 (ipykernel)",
   "language": "python",
   "name": "python3"
  },
  "language_info": {
   "codemirror_mode": {
    "name": "ipython",
    "version": 3
   },
   "file_extension": ".py",
   "mimetype": "text/x-python",
   "name": "python",
   "nbconvert_exporter": "python",
   "pygments_lexer": "ipython3",
   "version": "3.12.1"
  }
 },
 "nbformat": 4,
 "nbformat_minor": 5
}

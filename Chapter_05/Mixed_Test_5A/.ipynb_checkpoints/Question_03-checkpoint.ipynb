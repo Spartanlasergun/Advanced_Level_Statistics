{
 "cells": [
  {
   "cell_type": "markdown",
   "id": "5881a536-c655-4acb-985f-fb3da14801b7",
   "metadata": {},
   "source": [
    "# Question 3\n",
    "-----"
   ]
  },
  {
   "cell_type": "code",
   "execution_count": 1,
   "id": "d889f723-8320-4348-9160-a624994aa5bd",
   "metadata": {},
   "outputs": [
    {
     "name": "stdout",
     "output_type": "stream",
     "text": [
      "E(X) = 1.875\n"
     ]
    }
   ],
   "source": [
    "mean = (1/80) * 150\n",
    "print(\"E(X) = \" + str(mean))"
   ]
  },
  {
   "cell_type": "markdown",
   "id": "c2c2fdd7-1abf-44dc-8aca-1ddf3d0119d9",
   "metadata": {},
   "source": [
    "$$X \\sim Po(1.875)$$\n",
    "\n",
    "Poisson is appropriate because n > 50 and p < 0.1"
   ]
  },
  {
   "cell_type": "code",
   "execution_count": 2,
   "id": "1e1bd748-8b2d-4ecc-9ac0-59e11b5b0697",
   "metadata": {},
   "outputs": [],
   "source": [
    "import math\n",
    "\n",
    "class poisson:\n",
    "    def __init__(self, lamb):\n",
    "        self.lamb = lamb\n",
    "\n",
    "    def prob(self, x):\n",
    "        pois = math.exp(-self.lamb) * (pow(self.lamb, x) / math.factorial(x))\n",
    "        return pois\n",
    "\n",
    "    def freq(self, event, sample):\n",
    "        freq = self.prob(event) * sample \n",
    "        freq = round(freq, 0)\n",
    "        return freq"
   ]
  },
  {
   "cell_type": "code",
   "execution_count": 3,
   "id": "0886e457-7924-47ad-990d-65a5eff760f0",
   "metadata": {},
   "outputs": [
    {
     "name": "stdout",
     "output_type": "stream",
     "text": [
      "P(X >= 2) = 0.5591044703208307\n"
     ]
    }
   ],
   "source": [
    "pois_dist = poisson(1.875)\n",
    "PXE0 = pois_dist.prob(0)\n",
    "PXE1 = pois_dist.prob(1)\n",
    "PXGE2 = 1 - (PXE0 + PXE1)\n",
    "print(\"P(X >= 2) = \" + str(PXGE2))"
   ]
  },
  {
   "cell_type": "code",
   "execution_count": 4,
   "id": "2b81363a-75a2-4993-a498-baadb89f4bf8",
   "metadata": {},
   "outputs": [
    {
     "name": "stdout",
     "output_type": "stream",
     "text": [
      "q = 0.9875\n"
     ]
    }
   ],
   "source": [
    "p = 1/80\n",
    "q = 1 - p\n",
    "print(\"q = \" + str(q))"
   ]
  },
  {
   "cell_type": "markdown",
   "id": "423fe0c2-ea0e-443d-8b11-5739a08f2ffb",
   "metadata": {},
   "source": [
    "$$1 - \\frac{n!}{0!(n - 0)!} * q^{n-0} * p^0 \\ge 0.99$$\n",
    "\n",
    "$$q^n \\le 0.01$$\n",
    "\n",
    "$$n \\le \\frac{\\log 0.01}{\\log 0.9875}$$\n",
    "\n",
    "$$n \\le 366.106$$\n",
    "\n",
    "Hence, n must be at least 367"
   ]
  }
 ],
 "metadata": {
  "kernelspec": {
   "display_name": "Python 3 (ipykernel)",
   "language": "python",
   "name": "python3"
  },
  "language_info": {
   "codemirror_mode": {
    "name": "ipython",
    "version": 3
   },
   "file_extension": ".py",
   "mimetype": "text/x-python",
   "name": "python",
   "nbconvert_exporter": "python",
   "pygments_lexer": "ipython3",
   "version": "3.12.1"
  }
 },
 "nbformat": 4,
 "nbformat_minor": 5
}

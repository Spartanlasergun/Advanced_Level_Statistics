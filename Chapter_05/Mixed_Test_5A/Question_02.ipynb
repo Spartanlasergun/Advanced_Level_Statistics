{
 "cells": [
  {
   "cell_type": "markdown",
   "id": "96638df7-ba7c-4e8e-be38-cb820c5d2f41",
   "metadata": {},
   "source": [
    "# Question 2\n",
    "-----"
   ]
  },
  {
   "cell_type": "code",
   "execution_count": 1,
   "id": "b1c0f6ec-a152-4f1e-9da9-87b2c180f212",
   "metadata": {},
   "outputs": [],
   "source": [
    "import math\n",
    "\n",
    "class poisson:\n",
    "    def __init__(self, lamb):\n",
    "        self.lamb = lamb\n",
    "\n",
    "    def prob(self, x):\n",
    "        pois = math.exp(-self.lamb) * (pow(self.lamb, x) / math.factorial(x))\n",
    "        return pois\n",
    "\n",
    "    def freq(self, event, sample):\n",
    "        freq = self.prob(event) * sample \n",
    "        freq = round(freq, 0)\n",
    "        return freq"
   ]
  },
  {
   "cell_type": "code",
   "execution_count": 2,
   "id": "52cf4fd2-182d-4c8c-966f-1625121fb65d",
   "metadata": {},
   "outputs": [
    {
     "name": "stdout",
     "output_type": "stream",
     "text": [
      "P(X = 4) = 0.1523385117069345\n"
     ]
    }
   ],
   "source": [
    "detached = poisson(2.75)\n",
    "PXE4 = detached.prob(4)\n",
    "print(\"P(X = 4) = \" + str(PXE4))"
   ]
  },
  {
   "cell_type": "code",
   "execution_count": 3,
   "id": "f012a603-714a-4abc-80fe-792c32123cc4",
   "metadata": {},
   "outputs": [
    {
     "name": "stdout",
     "output_type": "stream",
     "text": [
      "P(10 <= X <= 15) = 0.5668854492500921\n"
     ]
    }
   ],
   "source": [
    "month = 2.75 * 4\n",
    "detachedmonth = poisson(month)\n",
    "PXE10 = detachedmonth.prob(10)\n",
    "PXE11 = detachedmonth.prob(11)\n",
    "PXE12 = detachedmonth.prob(12)\n",
    "PXE13 = detachedmonth.prob(13)\n",
    "PXE14 = detachedmonth.prob(14)\n",
    "PXE15 = detachedmonth.prob(15)\n",
    "PX10B15 = PXE10 + PXE11 + PXE12 + PXE13 + PXE14 + PXE15\n",
    "print(\"P(10 <= X <= 15) = \" + str(PX10B15))"
   ]
  },
  {
   "cell_type": "code",
   "execution_count": 4,
   "id": "bc56dee9-515e-4e07-97e0-c5266baad784",
   "metadata": {},
   "outputs": [
    {
     "name": "stdout",
     "output_type": "stream",
     "text": [
      "P(X < 5) = 0.2850565003166312\n"
     ]
    }
   ],
   "source": [
    "mean = 2.75 + 3.25\n",
    "sold = poisson(mean)\n",
    "PXE0 = sold.prob(0)\n",
    "PXE1 = sold.prob(1)\n",
    "PXE2 = sold.prob(2)\n",
    "PXE3 = sold.prob(3)\n",
    "PXE4 = sold.prob(4)\n",
    "PXL5 = PXE0 + PXE1 + PXE2 + PXE3 + PXE4\n",
    "print(\"P(X < 5) = \" + str(PXL5))"
   ]
  }
 ],
 "metadata": {
  "kernelspec": {
   "display_name": "Python 3 (ipykernel)",
   "language": "python",
   "name": "python3"
  },
  "language_info": {
   "codemirror_mode": {
    "name": "ipython",
    "version": 3
   },
   "file_extension": ".py",
   "mimetype": "text/x-python",
   "name": "python",
   "nbconvert_exporter": "python",
   "pygments_lexer": "ipython3",
   "version": "3.12.1"
  }
 },
 "nbformat": 4,
 "nbformat_minor": 5
}

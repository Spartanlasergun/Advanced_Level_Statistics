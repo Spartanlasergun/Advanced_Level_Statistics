{
 "cells": [
  {
   "cell_type": "markdown",
   "id": "4a98a1d6-cb61-4e4f-9587-2555f198fde0",
   "metadata": {},
   "source": [
    "# Question 1\n",
    "-----"
   ]
  },
  {
   "cell_type": "markdown",
   "id": "0aa99543-f06b-4cb2-9d9f-f608b1b3ad91",
   "metadata": {},
   "source": [
    "a)\n",
    "$$p^4 * (1 - p) * \\frac{5!}{4!}$$\n",
    "\n",
    "$$5p^4(1 - p)$$\n",
    "\n",
    "b)\n",
    "$$p^2(1 - p)^3 * \\frac{5!}{2!3!}$$\n",
    "\n",
    "$$10p^2(1 - p)^3$$"
   ]
  },
  {
   "cell_type": "markdown",
   "id": "92963d55-1bfe-4e8f-8af6-020dd63bac9b",
   "metadata": {},
   "source": [
    "$$10p^4(1 - p) = 10p^2(1 - p)^2$$\n",
    "\n",
    "$$10p^4 = 10p^2(1 - p)^2$$\n",
    "\n",
    "$$p^2 = (1 - p)^2$$\n",
    "\n",
    "$$p^2 = 1 - 2p + p^2$$\n",
    "\n",
    "$$1 - 2p = 0$$\n",
    "\n",
    "$$p = 0.5$$"
   ]
  }
 ],
 "metadata": {
  "kernelspec": {
   "display_name": "Python 3 (ipykernel)",
   "language": "python",
   "name": "python3"
  },
  "language_info": {
   "codemirror_mode": {
    "name": "ipython",
    "version": 3
   },
   "file_extension": ".py",
   "mimetype": "text/x-python",
   "name": "python",
   "nbconvert_exporter": "python",
   "pygments_lexer": "ipython3",
   "version": "3.12.1"
  }
 },
 "nbformat": 4,
 "nbformat_minor": 5
}

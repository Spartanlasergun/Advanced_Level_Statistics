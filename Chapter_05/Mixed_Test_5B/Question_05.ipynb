{
 "cells": [
  {
   "cell_type": "markdown",
   "id": "e87af69d-f48f-4eaa-bd27-5a0b7894eae7",
   "metadata": {},
   "source": [
    "# Question 5\n",
    "-----"
   ]
  },
  {
   "cell_type": "code",
   "execution_count": 1,
   "id": "e03eed17-9453-4c56-be11-7e45ba721924",
   "metadata": {},
   "outputs": [],
   "source": [
    "import math\n",
    "\n",
    "class poisson:\n",
    "    def __init__(self, lamb):\n",
    "        self.lamb = lamb\n",
    "\n",
    "    def prob(self, x):\n",
    "        pois = math.exp(-self.lamb) * (pow(self.lamb, x) / math.factorial(x))\n",
    "        return pois\n",
    "\n",
    "    def freq(self, event, sample):\n",
    "        freq = self.prob(event) * sample \n",
    "        freq = round(freq, 0)\n",
    "        return freq"
   ]
  },
  {
   "cell_type": "code",
   "execution_count": 2,
   "id": "133e2baa-b452-4fbb-9213-30d3b03bad6d",
   "metadata": {},
   "outputs": [
    {
     "name": "stdout",
     "output_type": "stream",
     "text": [
      "P(X = 2) = 0.24867975215009414\n"
     ]
    }
   ],
   "source": [
    "permeter = 4/10\n",
    "mean = 2.2 * 3.0 * permeter\n",
    "pois_dist = poisson(mean)\n",
    "PXE2 = pois_dist.prob(2)\n",
    "print(\"P(X = 2) = \" + str(PXE2))"
   ]
  },
  {
   "cell_type": "code",
   "execution_count": 3,
   "id": "e6849599-2aed-417a-b84a-fd279667b828",
   "metadata": {},
   "outputs": [
    {
     "name": "stdout",
     "output_type": "stream",
     "text": [
      "P(X >= 1) = 0.928638730443614\n"
     ]
    }
   ],
   "source": [
    "PXE0 = pois_dist.prob(0)\n",
    "PXGE1 = 1 - PXE0\n",
    "print(\"P(X >= 1) = \" + str(PXGE1))"
   ]
  },
  {
   "cell_type": "code",
   "execution_count": 4,
   "id": "5d9b85cb-a007-4b84-93bc-0c27c9bc7aed",
   "metadata": {},
   "outputs": [
    {
     "name": "stdout",
     "output_type": "stream",
     "text": [
      "P(X <= 2) = 0.5084347733353394\n"
     ]
    }
   ],
   "source": [
    "PXE1 = pois_dist.prob(1)\n",
    "PXLE2 = PXE0 + PXE1 + PXE2\n",
    "print(\"P(X <= 2) = \" + str(PXLE2))"
   ]
  },
  {
   "cell_type": "markdown",
   "id": "08fdcb2b-49c0-4415-bce5-2fd546164383",
   "metadata": {},
   "source": [
    "$$ Area = 2.5 * 2 = 5m^2 $$\n",
    "\n",
    "$$bubbles \\ per \\ metre = \\frac{4}{10} = 0.4$$\n",
    "\n",
    "$$avg \\ bubbles \\ per \\ metre = 5 * 0.4 = 2$$\n",
    "\n",
    "$$avg \\ bubbles \\ for \\ five \\ pieces = 2 * 5 = 10$$\n",
    "\n",
    "$$hence, \\ \\ \\lambda = 10$$\n",
    "\n",
    "$$P(X = 0) = e^{-10}$$"
   ]
  },
  {
   "cell_type": "code",
   "execution_count": 5,
   "id": "5ebf3c8c-2b83-4b8a-aa32-a40367020890",
   "metadata": {},
   "outputs": [
    {
     "name": "stdout",
     "output_type": "stream",
     "text": [
      "P(X >= 10) = 0.5420702855281477\n"
     ]
    }
   ],
   "source": [
    "event = poisson(10)\n",
    "PXE0 = event.prob(0)\n",
    "PXE1 = event.prob(1)\n",
    "PXE2 = event.prob(2)\n",
    "PXE3 = event.prob(3)\n",
    "PXE4 = event.prob(4)\n",
    "PXE5 = event.prob(5)\n",
    "PXE6 = event.prob(6)\n",
    "PXE7 = event.prob(7)\n",
    "PXE8 = event.prob(8)\n",
    "PXE9 = event.prob(9)\n",
    "PXGE10 = 1 - (PXE0 + PXE1 + PXE2 + PXE3 + PXE4 + PXE5 + PXE6 + PXE7 + PXE8 + PXE9)\n",
    "print(\"P(X >= 10) = \" + str(PXGE10))"
   ]
  }
 ],
 "metadata": {
  "kernelspec": {
   "display_name": "Python 3 (ipykernel)",
   "language": "python",
   "name": "python3"
  },
  "language_info": {
   "codemirror_mode": {
    "name": "ipython",
    "version": 3
   },
   "file_extension": ".py",
   "mimetype": "text/x-python",
   "name": "python",
   "nbconvert_exporter": "python",
   "pygments_lexer": "ipython3",
   "version": "3.12.1"
  }
 },
 "nbformat": 4,
 "nbformat_minor": 5
}

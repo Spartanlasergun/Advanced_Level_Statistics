{
 "cells": [
  {
   "cell_type": "markdown",
   "id": "c2edb391-8c1b-48ed-aa3f-419390b114eb",
   "metadata": {},
   "source": [
    "# Question 2\n",
    "-----"
   ]
  },
  {
   "cell_type": "markdown",
   "id": "dab33318-d9b1-4b31-b4cc-4faebb48070c",
   "metadata": {},
   "source": [
    "Y is a geometric distribution where the probability of each event is the same\n",
    "\n",
    "$$Y \\sim Geo(\\frac{1}{6})$$"
   ]
  },
  {
   "cell_type": "code",
   "execution_count": 1,
   "id": "05a52b83-da7c-4495-b9fd-1377b5aadf40",
   "metadata": {},
   "outputs": [
    {
     "name": "stdout",
     "output_type": "stream",
     "text": [
      "E(Y) = 6.0\n"
     ]
    }
   ],
   "source": [
    "p = 1/6\n",
    "EY = 1 / p\n",
    "print(\"E(Y) = \" + str(EY))"
   ]
  },
  {
   "cell_type": "code",
   "execution_count": 2,
   "id": "2241cde1-d65f-44bb-9c47-24240a0abeab",
   "metadata": {},
   "outputs": [
    {
     "name": "stdout",
     "output_type": "stream",
     "text": [
      "Var(Y) = 30.000000000000004\n"
     ]
    }
   ],
   "source": [
    "q = 1 - p\n",
    "var = q / pow(p, 2)\n",
    "print(\"Var(Y) = \" + str(var))"
   ]
  },
  {
   "cell_type": "code",
   "execution_count": 3,
   "id": "68bcd97d-d44f-42ad-aa96-250180a9cc83",
   "metadata": {},
   "outputs": [
    {
     "name": "stdout",
     "output_type": "stream",
     "text": [
      "at least five = 0.23256803936137796\n"
     ]
    }
   ],
   "source": [
    "five = (q * q) * (q * q) * (q * q) * (q * q)\n",
    "print(\"at least five = \" + str(five))"
   ]
  }
 ],
 "metadata": {
  "kernelspec": {
   "display_name": "Python 3 (ipykernel)",
   "language": "python",
   "name": "python3"
  },
  "language_info": {
   "codemirror_mode": {
    "name": "ipython",
    "version": 3
   },
   "file_extension": ".py",
   "mimetype": "text/x-python",
   "name": "python",
   "nbconvert_exporter": "python",
   "pygments_lexer": "ipython3",
   "version": "3.12.1"
  }
 },
 "nbformat": 4,
 "nbformat_minor": 5
}

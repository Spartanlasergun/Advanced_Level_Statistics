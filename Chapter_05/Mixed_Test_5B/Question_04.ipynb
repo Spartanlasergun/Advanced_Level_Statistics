{
 "cells": [
  {
   "cell_type": "markdown",
   "id": "e75a7148-0a06-43be-9dc5-1de04e5c8ac2",
   "metadata": {},
   "source": [
    "# Question 4\n",
    "-----"
   ]
  },
  {
   "cell_type": "code",
   "execution_count": 1,
   "id": "9edd2462-5b75-4dcb-87e3-583bb65b4aca",
   "metadata": {},
   "outputs": [],
   "source": [
    "import math\n",
    "\n",
    "class poisson:\n",
    "    def __init__(self, lamb):\n",
    "        self.lamb = lamb\n",
    "\n",
    "    def prob(self, x):\n",
    "        pois = math.exp(-self.lamb) * (pow(self.lamb, x) / math.factorial(x))\n",
    "        return pois\n",
    "\n",
    "    def freq(self, event, sample):\n",
    "        freq = self.prob(event) * sample \n",
    "        freq = round(freq, 0)\n",
    "        return freq"
   ]
  },
  {
   "cell_type": "code",
   "execution_count": 2,
   "id": "1d106672-9ba1-4c2e-b8b5-a8450fc98c4f",
   "metadata": {},
   "outputs": [
    {
     "name": "stdout",
     "output_type": "stream",
     "text": [
      "P(X >= 4) = 0.22127708896368303\n"
     ]
    }
   ],
   "source": [
    "pois_dist = poisson(2.4)\n",
    "PXE0 = pois_dist.prob(0)\n",
    "PXE1 = pois_dist.prob(1)\n",
    "PXE2 = pois_dist.prob(2)\n",
    "PXE3 = pois_dist.prob(3)\n",
    "PXGE4 = 1 - (PXE0 + PXE1 + PXE2 + PXE3)\n",
    "print(\"P(X >= 4) = \" + str(PXGE4))"
   ]
  },
  {
   "cell_type": "code",
   "execution_count": 3,
   "id": "aa4f2863-ad07-4d34-8c75-5df2ab330621",
   "metadata": {},
   "outputs": [
    {
     "name": "stdout",
     "output_type": "stream",
     "text": [
      "P(X <= 3) = 0.9865412793605638\n"
     ]
    }
   ],
   "source": [
    "mean = 450 * 0.002\n",
    "event = poisson(mean)\n",
    "PXE0 = event.prob(0)\n",
    "PXE1 = event.prob(1)\n",
    "PXE2 = event.prob(2)\n",
    "PXE3 = event.prob(3)\n",
    "PXLE3 = PXE0 + PXE1 + PXE2 + PXE3\n",
    "print(\"P(X <= 3) = \" + str(PXLE3))"
   ]
  }
 ],
 "metadata": {
  "kernelspec": {
   "display_name": "Python 3 (ipykernel)",
   "language": "python",
   "name": "python3"
  },
  "language_info": {
   "codemirror_mode": {
    "name": "ipython",
    "version": 3
   },
   "file_extension": ".py",
   "mimetype": "text/x-python",
   "name": "python",
   "nbconvert_exporter": "python",
   "pygments_lexer": "ipython3",
   "version": "3.12.1"
  }
 },
 "nbformat": 4,
 "nbformat_minor": 5
}

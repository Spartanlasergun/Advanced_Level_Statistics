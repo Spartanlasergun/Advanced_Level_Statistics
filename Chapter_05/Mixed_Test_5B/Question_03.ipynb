{
 "cells": [
  {
   "cell_type": "markdown",
   "id": "5c0d1897-2d74-45b1-9fb9-cea253d96229",
   "metadata": {},
   "source": [
    "# Question 3\n",
    "-----"
   ]
  },
  {
   "cell_type": "markdown",
   "id": "bf99a2c1-f7f6-40d7-9dad-c0a3900dafab",
   "metadata": {},
   "source": [
    "a) Binomial\n",
    "\n",
    "b) Poisson"
   ]
  },
  {
   "cell_type": "markdown",
   "id": "3e989b53-4bdf-4d5e-9995-52e28ab50fc0",
   "metadata": {},
   "source": [
    "$$P(X = 3) = e^{-\\lambda} * \\frac{\\lambda^3}{3!}$$\n",
    "\n",
    "-----\n",
    "\n",
    "$$P(X = 0) = e^{-\\lambda}$$\n",
    "\n",
    "$$P(X = 1) = \\lambda e^{-\\lambda}$$\n",
    "\n",
    "$$P(X = 2) = e^{-\\lambda} * \\frac{\\lambda^2}{2!}$$\n",
    "\n",
    "$$P(X >= 3) = 1 - (e^{-\\lambda} + \\lambda e^{-\\lambda} + \\frac{1}{2}\\lambda^2e^{-\\lambda})$$"
   ]
  },
  {
   "cell_type": "code",
   "execution_count": 1,
   "id": "477cca5c-0cc2-4a35-b849-1589841e9323",
   "metadata": {},
   "outputs": [],
   "source": [
    "import math\n",
    "\n",
    "class poisson:\n",
    "    def __init__(self, lamb):\n",
    "        self.lamb = lamb\n",
    "\n",
    "    def prob(self, x):\n",
    "        pois = math.exp(-self.lamb) * (pow(self.lamb, x) / math.factorial(x))\n",
    "        return pois\n",
    "\n",
    "    def freq(self, event, sample):\n",
    "        freq = self.prob(event) * sample \n",
    "        freq = round(freq, 0)\n",
    "        return freq"
   ]
  },
  {
   "cell_type": "code",
   "execution_count": 2,
   "id": "804318ba-1db1-408d-a49b-995a65c6451f",
   "metadata": {},
   "outputs": [
    {
     "name": "stdout",
     "output_type": "stream",
     "text": [
      "P(X = 3) = 0.012636055410679862\n"
     ]
    }
   ],
   "source": [
    "pois_dist = poisson(0.5)\n",
    "PXE3 = pois_dist.prob(3)\n",
    "print(\"P(X = 3) = \" + str(PXE3))"
   ]
  },
  {
   "cell_type": "code",
   "execution_count": 3,
   "id": "9b75fd75-bddc-479d-bf43-53098c96f82a",
   "metadata": {},
   "outputs": [
    {
     "name": "stdout",
     "output_type": "stream",
     "text": [
      "P(X > 3) = 0.014387677966970713\n"
     ]
    }
   ],
   "source": [
    "PXE0 = pois_dist.prob(0)\n",
    "PXE1 = pois_dist.prob(1)\n",
    "PXE2 = pois_dist.prob(2)\n",
    "PXG3 = 1 - (PXE0 + PXE1 + PXE2)\n",
    "print(\"P(X > 3) = \" + str(PXG3))"
   ]
  },
  {
   "cell_type": "markdown",
   "id": "c48b20d7-6fc0-413c-a6e6-795d13d3620c",
   "metadata": {},
   "source": [
    "$$P(X \\ge 1) = 1 - e^{-\\lambda}$$\n",
    "\n",
    "hence,\n",
    "\n",
    "$$1 - e^{-\\lambda} \\le \\frac{1}{6}$$\n",
    "\n",
    "$$e^{-\\lambda} \\ge \\frac{5}{6}$$\n",
    "\n",
    "$$-\\lambda \\ge \\ln(\\frac{5}{6})$$\n",
    "\n",
    "$$\\lambda \\le 0.182$$"
   ]
  }
 ],
 "metadata": {
  "kernelspec": {
   "display_name": "Python 3 (ipykernel)",
   "language": "python",
   "name": "python3"
  },
  "language_info": {
   "codemirror_mode": {
    "name": "ipython",
    "version": 3
   },
   "file_extension": ".py",
   "mimetype": "text/x-python",
   "name": "python",
   "nbconvert_exporter": "python",
   "pygments_lexer": "ipython3",
   "version": "3.12.1"
  }
 },
 "nbformat": 4,
 "nbformat_minor": 5
}

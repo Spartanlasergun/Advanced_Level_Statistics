{
 "cells": [
  {
   "cell_type": "markdown",
   "id": "1f43c023-d435-45b2-bca2-35a2b94823d8",
   "metadata": {},
   "source": [
    "# Question 6\n",
    "-----"
   ]
  },
  {
   "cell_type": "markdown",
   "id": "fa572fc7-1f41-4d01-9866-b0e850679d12",
   "metadata": {},
   "source": [
    "$$n = 25$$\n",
    "\n",
    "$$\\sqrt{npq} = 1.5$$\n",
    "\n",
    "$$npq = 2.25$$\n",
    "\n",
    "$$pq = 0.09$$\n",
    "\n",
    "$$p(1 - p) = 0.09$$\n",
    "\n",
    "$$p - p^2 - 0.09 = 0$$\n",
    "\n",
    "$$p^2 - p + 0.09 = 0$$\n",
    "\n",
    "$$a = 1, \\ \\ b = -1, \\ \\ c = 0.09$$\n",
    "\n",
    "$$x = \\frac{1 \\pm \\sqrt{1 - (4 * 0.09)}}{2}$$\n",
    "\n",
    "$$x =\\frac{1 \\pm 0.8}{2}$$\n",
    "\n",
    "$$x = 0.9, 0.1$$\n",
    "\n",
    "Since $p < \\frac{1}{6}$,\n",
    "\n",
    "$$p = 0.1$$"
   ]
  },
  {
   "cell_type": "code",
   "execution_count": 1,
   "id": "c6920477-77f8-4253-9828-e4f1ba71d3e0",
   "metadata": {},
   "outputs": [],
   "source": [
    "import math\n",
    "\n",
    "def bino(n, r, p, q):\n",
    "    funk = ((math.factorial(n)) / (math.factorial(r) * math.factorial((n-r)))) * pow(q, (n-r)) * pow(p, r)\n",
    "    return funk"
   ]
  },
  {
   "cell_type": "code",
   "execution_count": 2,
   "id": "98adf547-c6f7-4d56-bf2c-7fd760e91866",
   "metadata": {},
   "outputs": [
    {
     "name": "stdout",
     "output_type": "stream",
     "text": [
      "P(X = 3) = 0.22649730750223077\n"
     ]
    }
   ],
   "source": [
    "PXE3 = bino(25, 3, 0.1, 0.9)\n",
    "print(\"P(X = 3) = \" + str(PXE3))"
   ]
  }
 ],
 "metadata": {
  "kernelspec": {
   "display_name": "Python 3 (ipykernel)",
   "language": "python",
   "name": "python3"
  },
  "language_info": {
   "codemirror_mode": {
    "name": "ipython",
    "version": 3
   },
   "file_extension": ".py",
   "mimetype": "text/x-python",
   "name": "python",
   "nbconvert_exporter": "python",
   "pygments_lexer": "ipython3",
   "version": "3.12.1"
  }
 },
 "nbformat": 4,
 "nbformat_minor": 5
}

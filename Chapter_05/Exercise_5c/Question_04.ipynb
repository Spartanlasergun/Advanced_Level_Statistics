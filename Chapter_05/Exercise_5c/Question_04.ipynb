{
 "cells": [
  {
   "cell_type": "markdown",
   "id": "f4a35dec-30b0-403c-811a-5d94800ffd67",
   "metadata": {},
   "source": [
    "# Question 4\n",
    "-----"
   ]
  },
  {
   "cell_type": "markdown",
   "id": "e922e7a3-c8ea-4685-98e9-117b15086c0f",
   "metadata": {},
   "source": [
    "$$ E(X) = np = 2$$\n",
    "\n",
    "$$ Var = npq = 1.6$$\n",
    "\n",
    "$$2q = 1.6$$\n",
    "\n",
    "$$q = \\frac{1.6}{2} = \\frac{8}{10} = 0.8$$\n",
    "\n",
    "$$hence, \\ \\ p = 1 - q = 0.2$$\n",
    "\n",
    "$$n = \\frac{2}{0.2} = 10$$"
   ]
  },
  {
   "cell_type": "code",
   "execution_count": 1,
   "id": "7da86b34-f0e5-4ccc-8631-f49f13b09eb3",
   "metadata": {},
   "outputs": [],
   "source": [
    "import math\n",
    "\n",
    "def bino(n, r, p, q):\n",
    "    funk = ((math.factorial(n)) / (math.factorial(r) * math.factorial((n-r)))) * pow(q, (n-r)) * pow(p, r)\n",
    "    return funk"
   ]
  },
  {
   "cell_type": "code",
   "execution_count": 2,
   "id": "8aab5fd1-23ba-49a2-a180-63193a9e8b6d",
   "metadata": {},
   "outputs": [
    {
     "name": "stdout",
     "output_type": "stream",
     "text": [
      "P(X = 6) = 0.005505024000000003\n"
     ]
    }
   ],
   "source": [
    "PXE6 = bino(10, 6, 0.2, 0.8)\n",
    "print(\"P(X = 6) = \" + str(PXE6))"
   ]
  }
 ],
 "metadata": {
  "kernelspec": {
   "display_name": "Python 3 (ipykernel)",
   "language": "python",
   "name": "python3"
  },
  "language_info": {
   "codemirror_mode": {
    "name": "ipython",
    "version": 3
   },
   "file_extension": ".py",
   "mimetype": "text/x-python",
   "name": "python",
   "nbconvert_exporter": "python",
   "pygments_lexer": "ipython3",
   "version": "3.12.1"
  }
 },
 "nbformat": 4,
 "nbformat_minor": 5
}

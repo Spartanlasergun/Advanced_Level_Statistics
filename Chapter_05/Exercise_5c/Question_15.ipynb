{
 "cells": [
  {
   "cell_type": "markdown",
   "id": "070c8330-c8a0-4a31-a478-cd003d1d38ea",
   "metadata": {},
   "source": [
    "# Question 15\n",
    "-----"
   ]
  },
  {
   "cell_type": "markdown",
   "id": "34b785e3-a0d4-4c86-9db1-e7f619870349",
   "metadata": {},
   "source": [
    "| x | 0 | 1 | 2 | 3 | 4 | >4 |\n",
    "| - | - | - | - | - | - | - |\n",
    "| f | 19 | 26 | 12 | 2 | 1 | 0 |\n",
    "| fx | 0 | 26 | 24 | 6 | 4 | 0 |\n",
    "| $fx^2$ | 0 | 26 | 48 | 18 | 16 | 0 |\n",
    "\n",
    "$$mean = \\frac{\\Sigma fx}{\\Sigma f} = \\frac{60}{60} = 1$$\n",
    "\n",
    "$$\\sigma = \\sqrt{\\frac{\\Sigma fx^2}{\\Sigma f} - \\bar x^2} = 0.894$$\n",
    "\n",
    "for a binomial model,\n",
    "\n",
    "$$E(X) = np = 1$$\n",
    "\n",
    "$$Var(X) = npq = 0.894^2$$\n",
    "\n",
    "hence,\n",
    "\n",
    "$$q = \\frac{0.894^2}{1} = 0.8$$\n",
    "\n",
    "$$p = 0.2$$\n",
    "\n",
    "thus,\n",
    "\n",
    "$$n(0.2) = 1$$\n",
    "\n",
    "$$n = 5$$"
   ]
  }
 ],
 "metadata": {
  "kernelspec": {
   "display_name": "Python 3 (ipykernel)",
   "language": "python",
   "name": "python3"
  },
  "language_info": {
   "codemirror_mode": {
    "name": "ipython",
    "version": 3
   },
   "file_extension": ".py",
   "mimetype": "text/x-python",
   "name": "python",
   "nbconvert_exporter": "python",
   "pygments_lexer": "ipython3",
   "version": "3.12.1"
  }
 },
 "nbformat": 4,
 "nbformat_minor": 5
}

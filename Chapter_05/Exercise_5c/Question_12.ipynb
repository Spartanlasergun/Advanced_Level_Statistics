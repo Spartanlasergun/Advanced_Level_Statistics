{
 "cells": [
  {
   "cell_type": "markdown",
   "id": "91a7b7a7-c567-4776-8da3-54f5ec440cd0",
   "metadata": {},
   "source": [
    "# Question 12\n",
    "-----"
   ]
  },
  {
   "cell_type": "markdown",
   "id": "e5702a6b-92af-4225-94cd-308c9091967b",
   "metadata": {},
   "source": [
    "| x | 0 | 1 | 2 | 3 | 4 | 5 |\n",
    "| - | - | - | - | - | - | - |\n",
    "| f | 297 | 90 | 10 | 2 | 1 | 0 |\n",
    "| fx | 0 | 90 | 20 | 6 | 4 | 0 |\n",
    "\n",
    "$$mean = \\frac{\\Sigma fx}{\\Sigma f} = \\frac{120}{400}$$\n",
    "\n",
    "$$mean = 0.3$$\n",
    "\n",
    "$$np = 0.3$$\n",
    "\n",
    "$$5p = 0.3$$\n",
    "\n",
    "$$p = 0.06$$"
   ]
  },
  {
   "cell_type": "code",
   "execution_count": 1,
   "id": "04c97628-46ed-4aad-bb16-eaf576ddd566",
   "metadata": {},
   "outputs": [],
   "source": [
    "import math\n",
    "\n",
    "class bino:\n",
    "    def __init__(self, n, p, q):\n",
    "        self.n = n\n",
    "        self.p = p\n",
    "        self.q = q\n",
    "        self.frequencies = []\n",
    "\n",
    "    def prob(self, r):\n",
    "        self.funk = ((math.factorial(self.n)) / (math.factorial(r) * math.factorial(((self.n)-r)))) * pow((self.q), ((self.n)-r)) * pow((self.p), r)\n",
    "        return self.funk\n",
    "\n",
    "    def freq(self, event, r):\n",
    "        event_prob = self.prob(r)\n",
    "        frequency = event_prob * event\n",
    "        frequency = round(frequency, 0)\n",
    "        return frequency"
   ]
  },
  {
   "cell_type": "code",
   "execution_count": 2,
   "id": "6f5a61b1-40db-45cc-b3f1-ed693213b06e",
   "metadata": {},
   "outputs": [
    {
     "name": "stdout",
     "output_type": "stream",
     "text": [
      "[294.0, 94.0, 12.0, 1.0, 0.0, 0.0]\n"
     ]
    }
   ],
   "source": [
    "n = 5\n",
    "p = 0.06\n",
    "q = 1 - p\n",
    "\n",
    "bin_dist = bino(n, p, q)\n",
    "\n",
    "r = -1\n",
    "frequencies = []\n",
    "while r != 5:\n",
    "    r = r + 1\n",
    "    TF = bin_dist.freq(400, r)\n",
    "    frequencies.append(TF)\n",
    "print(frequencies)"
   ]
  },
  {
   "cell_type": "markdown",
   "id": "304fca6e-efce-474e-bc7f-f3ec5f8d3510",
   "metadata": {},
   "source": [
    "| x | 0 | 1 | 2 | 3 | 4 | 5 |\n",
    "| - | - | - | - | - | - | - |\n",
    "| f | 297 | 90 | 10 | 2 | 1 | 0 |\n",
    "| fx | 0 | 90 | 20 | 6 | 4 | 0 |\n",
    "|Theoretical Frequency | 294 | 94 | 12 | 1 | 0 | 0 |"
   ]
  }
 ],
 "metadata": {
  "kernelspec": {
   "display_name": "Python 3 (ipykernel)",
   "language": "python",
   "name": "python3"
  },
  "language_info": {
   "codemirror_mode": {
    "name": "ipython",
    "version": 3
   },
   "file_extension": ".py",
   "mimetype": "text/x-python",
   "name": "python",
   "nbconvert_exporter": "python",
   "pygments_lexer": "ipython3",
   "version": "3.12.1"
  }
 },
 "nbformat": 4,
 "nbformat_minor": 5
}

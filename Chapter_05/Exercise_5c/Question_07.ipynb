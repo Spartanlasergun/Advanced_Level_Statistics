{
 "cells": [
  {
   "cell_type": "markdown",
   "id": "35455887-ab2e-4f32-8e98-cb1618057bc7",
   "metadata": {},
   "source": [
    "# Question 7\n",
    "-----"
   ]
  },
  {
   "cell_type": "code",
   "execution_count": 1,
   "id": "96a46be7-4b92-4edd-9189-6cf2017de19d",
   "metadata": {},
   "outputs": [
    {
     "name": "stdout",
     "output_type": "stream",
     "text": [
      "E(X) = 10.0\n"
     ]
    }
   ],
   "source": [
    "EX = 12 * 0.8\n",
    "eye = round(EX, 0)\n",
    "print(\"E(X) = \" + str(eye))"
   ]
  },
  {
   "cell_type": "code",
   "execution_count": 2,
   "id": "3037898f-9bae-4eed-b7f5-2ea9d3b6e422",
   "metadata": {},
   "outputs": [],
   "source": [
    "import math\n",
    "\n",
    "def bino(n, r, p, q):\n",
    "    funk = ((math.factorial(n)) / (math.factorial(r) * math.factorial((n-r)))) * pow(q, (n-r)) * pow(p, r)\n",
    "    return funk"
   ]
  },
  {
   "cell_type": "code",
   "execution_count": 3,
   "id": "bfe86dc7-8f8d-4e28-8bbb-e9ed7faa954f",
   "metadata": {},
   "outputs": [
    {
     "name": "stdout",
     "output_type": "stream",
     "text": [
      "P(X < 6) = 0.0039031316479999946\n"
     ]
    }
   ],
   "source": [
    "n = 12\n",
    "p = 0.8\n",
    "q = 1 - p\n",
    "\n",
    "r = 0\n",
    "PXE0 = bino(n, r, p, q)\n",
    "\n",
    "r = 1\n",
    "PXE1 = bino(n, r, p, q)\n",
    "\n",
    "r = 2\n",
    "PXE2 = bino(n, r, p, q)\n",
    "\n",
    "r = 3\n",
    "PXE3 = bino(n, r, p, q)\n",
    "\n",
    "r = 4\n",
    "PXE4 = bino(n, r, p, q)\n",
    "\n",
    "r = 5\n",
    "PXE5 = bino(n, r, p, q)\n",
    "\n",
    "PXL6 = PXE0 + PXE1 + PXE2 + PXE3 + PXE4 + PXE5\n",
    "print(\"P(X < 6) = \" + str(PXL6))"
   ]
  }
 ],
 "metadata": {
  "kernelspec": {
   "display_name": "Python 3 (ipykernel)",
   "language": "python",
   "name": "python3"
  },
  "language_info": {
   "codemirror_mode": {
    "name": "ipython",
    "version": 3
   },
   "file_extension": ".py",
   "mimetype": "text/x-python",
   "name": "python",
   "nbconvert_exporter": "python",
   "pygments_lexer": "ipython3",
   "version": "3.12.1"
  }
 },
 "nbformat": 4,
 "nbformat_minor": 5
}

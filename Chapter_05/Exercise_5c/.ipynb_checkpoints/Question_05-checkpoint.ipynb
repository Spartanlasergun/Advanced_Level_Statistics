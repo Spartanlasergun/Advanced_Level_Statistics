{
 "cells": [
  {
   "cell_type": "markdown",
   "id": "5cddc8d7-2afa-433e-8b2a-6357ba8340ce",
   "metadata": {},
   "source": [
    "# Question 5\n",
    "-----"
   ]
  },
  {
   "cell_type": "markdown",
   "id": "fbb74642-c105-4985-9897-b79514cc904d",
   "metadata": {},
   "source": [
    "$$ npq = 1.875 $$\n",
    "\n",
    "Since n = 10,\n",
    "\n",
    "$$ pq = 0.1875$$\n",
    "\n",
    "Using $q = 1 - p$,\n",
    "\n",
    "$$p(1 - p) = 0.1875$$\n",
    "\n",
    "$$p - p^2 - 0.1875 = 0$$\n",
    "\n",
    "$$p^2 - p + 0.1875 = 0$$\n",
    "\n",
    "$$a = 1, \\ \\ b = -1, \\ \\ c = 0.1875$$\n",
    "\n",
    "$$x = \\frac{1 \\pm \\sqrt{1 - (4 * 0.1875)}}{2}$$\n",
    "\n",
    "$$x = \\frac{1 \\pm \\sqrt{0.25}}{2}$$\n",
    "\n",
    "$$x = \\frac{1 \\pm 0.5}{2}$$\n",
    "\n",
    "$$x = \\frac{3}{4}, \\frac{1}{4}$$\n",
    "\n",
    "Since p < 0.5,\n",
    "\n",
    "$$ p = \\frac{1}{4} = 0.25$$"
   ]
  },
  {
   "cell_type": "code",
   "execution_count": 1,
   "id": "1d7f88c4-e62d-4575-a457-c1bd4f57e4bd",
   "metadata": {},
   "outputs": [
    {
     "name": "stdout",
     "output_type": "stream",
     "text": [
      "E(X) = 2.5\n"
     ]
    }
   ],
   "source": [
    "EX = 10 * 0.25\n",
    "print(\"E(X) = \" + str(EX))"
   ]
  },
  {
   "cell_type": "code",
   "execution_count": 2,
   "id": "e4e79da6-0db1-48cf-8572-8f776d1a8b47",
   "metadata": {},
   "outputs": [],
   "source": [
    "import math\n",
    "\n",
    "def bino(n, r, p, q):\n",
    "    funk = ((math.factorial(n)) / (math.factorial(r) * math.factorial((n-r)))) * pow(q, (n-r)) * pow(p, r)\n",
    "    return funk"
   ]
  },
  {
   "cell_type": "code",
   "execution_count": 3,
   "id": "7127cf52-6b74-4a91-8c39-77c0ef686414",
   "metadata": {},
   "outputs": [
    {
     "name": "stdout",
     "output_type": "stream",
     "text": [
      "P(X = 2) = 0.2815675735473633\n"
     ]
    }
   ],
   "source": [
    "PXE2 = bino(10, 2, 0.25, 0.75)\n",
    "print(\"P(X = 2) = \" + str(PXE2))"
   ]
  }
 ],
 "metadata": {
  "kernelspec": {
   "display_name": "Python 3 (ipykernel)",
   "language": "python",
   "name": "python3"
  },
  "language_info": {
   "codemirror_mode": {
    "name": "ipython",
    "version": 3
   },
   "file_extension": ".py",
   "mimetype": "text/x-python",
   "name": "python",
   "nbconvert_exporter": "python",
   "pygments_lexer": "ipython3",
   "version": "3.12.1"
  }
 },
 "nbformat": 4,
 "nbformat_minor": 5
}

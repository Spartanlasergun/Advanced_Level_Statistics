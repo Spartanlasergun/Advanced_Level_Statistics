{
 "cells": [
  {
   "cell_type": "markdown",
   "id": "cc436df8-78ac-4102-9391-4a8dcfccda55",
   "metadata": {},
   "source": [
    "# Question 3\n",
    "----"
   ]
  },
  {
   "cell_type": "code",
   "execution_count": 1,
   "id": "2accc2ba-2745-4f85-8add-27cdb96fa0cc",
   "metadata": {},
   "outputs": [
    {
     "name": "stdout",
     "output_type": "stream",
     "text": [
      "n = 8.0\n"
     ]
    }
   ],
   "source": [
    "n = 2.4 / 0.3\n",
    "print(\"n = \" + str(n))"
   ]
  },
  {
   "cell_type": "code",
   "execution_count": 2,
   "id": "5137665b-f515-4952-ab42-3c6b1ba8b5b7",
   "metadata": {},
   "outputs": [
    {
     "name": "stdout",
     "output_type": "stream",
     "text": [
      "std = 1.296148139681572\n"
     ]
    }
   ],
   "source": [
    "import math\n",
    "\n",
    "var = n * 0.3 * 0.7\n",
    "std = math.sqrt(var)\n",
    "print(\"std = \" + str(std))"
   ]
  }
 ],
 "metadata": {
  "kernelspec": {
   "display_name": "Python 3 (ipykernel)",
   "language": "python",
   "name": "python3"
  },
  "language_info": {
   "codemirror_mode": {
    "name": "ipython",
    "version": 3
   },
   "file_extension": ".py",
   "mimetype": "text/x-python",
   "name": "python",
   "nbconvert_exporter": "python",
   "pygments_lexer": "ipython3",
   "version": "3.12.1"
  }
 },
 "nbformat": 4,
 "nbformat_minor": 5
}

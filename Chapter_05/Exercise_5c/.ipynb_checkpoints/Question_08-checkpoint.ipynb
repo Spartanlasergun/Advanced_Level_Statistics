{
 "cells": [
  {
   "cell_type": "markdown",
   "id": "3c445ff8-857b-436d-9dd4-b90ecd7eb995",
   "metadata": {},
   "source": [
    "# Question 8\n",
    "-----"
   ]
  },
  {
   "cell_type": "code",
   "execution_count": 1,
   "id": "6c7c0a78-328d-42cc-be2b-3a4c36721747",
   "metadata": {},
   "outputs": [
    {
     "name": "stdout",
     "output_type": "stream",
     "text": [
      "expected red = 3.0\n"
     ]
    }
   ],
   "source": [
    "EX = 10 * (6/20)\n",
    "print(\"expected red = \" + str(EX))"
   ]
  },
  {
   "cell_type": "code",
   "execution_count": 2,
   "id": "ddc0e13c-b8db-43b6-90b9-d9d8cfd44631",
   "metadata": {},
   "outputs": [
    {
     "name": "stdout",
     "output_type": "stream",
     "text": [
      "expected green = 3.0\n"
     ]
    }
   ],
   "source": [
    "EX = 10 * (6/20)\n",
    "print(\"expected green = \" + str(EX))"
   ]
  },
  {
   "cell_type": "code",
   "execution_count": 3,
   "id": "3371f076-e5c6-412e-85f6-e05e9e3cc7c9",
   "metadata": {},
   "outputs": [],
   "source": [
    "import math\n",
    "\n",
    "def bino(n, r, p, q):\n",
    "    funk = ((math.factorial(n)) / (math.factorial(r) * math.factorial((n-r)))) * pow(q, (n-r)) * pow(p, r)\n",
    "    return funk"
   ]
  },
  {
   "cell_type": "code",
   "execution_count": 4,
   "id": "8df6faa9-b712-4cd8-9562-8f815506a7e4",
   "metadata": {},
   "outputs": [
    {
     "name": "stdout",
     "output_type": "stream",
     "text": [
      "P(X <= 4 ) = 0.6331032576\n"
     ]
    }
   ],
   "source": [
    "n = 10\n",
    "p = 8/20\n",
    "q = 1 - p\n",
    "\n",
    "r = 0\n",
    "PXE0 = bino(n, r, p, q)\n",
    "\n",
    "r = 1\n",
    "PXE1 = bino(n, r, p, q)\n",
    "\n",
    "r = 2\n",
    "PXE2 = bino(n, r, p, q)\n",
    "\n",
    "r = 3\n",
    "PXE3 = bino(n, r, p, q)\n",
    "\n",
    "r = 4\n",
    "PXE4 = bino(n, r, p, q)\n",
    "\n",
    "PXLE4 = PXE0 + PXE1 + PXE2 + PXE3 + PXE4\n",
    "print(\"P(X <= 4 ) = \" + str(PXLE4))"
   ]
  }
 ],
 "metadata": {
  "kernelspec": {
   "display_name": "Python 3 (ipykernel)",
   "language": "python",
   "name": "python3"
  },
  "language_info": {
   "codemirror_mode": {
    "name": "ipython",
    "version": 3
   },
   "file_extension": ".py",
   "mimetype": "text/x-python",
   "name": "python",
   "nbconvert_exporter": "python",
   "pygments_lexer": "ipython3",
   "version": "3.12.1"
  }
 },
 "nbformat": 4,
 "nbformat_minor": 5
}

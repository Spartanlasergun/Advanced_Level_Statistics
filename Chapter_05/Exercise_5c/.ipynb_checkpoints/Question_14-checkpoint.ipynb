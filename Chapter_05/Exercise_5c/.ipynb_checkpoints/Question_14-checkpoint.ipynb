{
 "cells": [
  {
   "cell_type": "markdown",
   "id": "33da16c5-91a0-4c02-94ad-130949aebe5f",
   "metadata": {},
   "source": [
    "# Question 14\n",
    "-----"
   ]
  },
  {
   "cell_type": "markdown",
   "id": "79d74652-c955-4355-83a2-03c54dfe5905",
   "metadata": {},
   "source": [
    "$$E(X) = np = 3$$\n",
    "\n",
    "hence,\n",
    "\n",
    "$$12p = 3$$\n",
    "\n",
    "$$p = \\frac{3}{12} = 0.25$$"
   ]
  },
  {
   "cell_type": "code",
   "execution_count": 1,
   "id": "f4d5bec7-686b-4398-88d6-300551bce21b",
   "metadata": {},
   "outputs": [
    {
     "name": "stdout",
     "output_type": "stream",
     "text": [
      "std = 1.5\n"
     ]
    }
   ],
   "source": [
    "import math\n",
    "var = 12 * 0.25 * 0.75\n",
    "std = math.sqrt(var)\n",
    "print(\"std = \" + str(std))"
   ]
  }
 ],
 "metadata": {
  "kernelspec": {
   "display_name": "Python 3 (ipykernel)",
   "language": "python",
   "name": "python3"
  },
  "language_info": {
   "codemirror_mode": {
    "name": "ipython",
    "version": 3
   },
   "file_extension": ".py",
   "mimetype": "text/x-python",
   "name": "python",
   "nbconvert_exporter": "python",
   "pygments_lexer": "ipython3",
   "version": "3.12.1"
  }
 },
 "nbformat": 4,
 "nbformat_minor": 5
}

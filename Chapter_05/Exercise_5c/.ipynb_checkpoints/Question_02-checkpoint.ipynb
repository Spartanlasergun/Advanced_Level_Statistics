{
 "cells": [
  {
   "cell_type": "markdown",
   "id": "b971adb1-e9a8-4efd-80eb-e229db0d6e41",
   "metadata": {},
   "source": [
    "# Question 2\n",
    "-----"
   ]
  },
  {
   "cell_type": "code",
   "execution_count": 1,
   "id": "d9da9f7d-08cf-4a8d-be79-554ac966dffd",
   "metadata": {},
   "outputs": [
    {
     "name": "stdout",
     "output_type": "stream",
     "text": [
      "std = 1.382931668593933\n"
     ]
    }
   ],
   "source": [
    "import math\n",
    "\n",
    "Var = 15 * 0.15 * 0.85\n",
    "std = math.sqrt(Var)\n",
    "print(\"std = \" + str(std))"
   ]
  },
  {
   "cell_type": "code",
   "execution_count": 2,
   "id": "84c6f4ca-e888-4238-9403-5eaeb7975c80",
   "metadata": {},
   "outputs": [
    {
     "name": "stdout",
     "output_type": "stream",
     "text": [
      "E(X) = 4.0\n"
     ]
    }
   ],
   "source": [
    "EX = 30 * 0.15\n",
    "bad_apples = round(EX, 0)\n",
    "print(\"E(X) = \" + str(bad_apples))"
   ]
  }
 ],
 "metadata": {
  "kernelspec": {
   "display_name": "Python 3 (ipykernel)",
   "language": "python",
   "name": "python3"
  },
  "language_info": {
   "codemirror_mode": {
    "name": "ipython",
    "version": 3
   },
   "file_extension": ".py",
   "mimetype": "text/x-python",
   "name": "python",
   "nbconvert_exporter": "python",
   "pygments_lexer": "ipython3",
   "version": "3.12.1"
  }
 },
 "nbformat": 4,
 "nbformat_minor": 5
}

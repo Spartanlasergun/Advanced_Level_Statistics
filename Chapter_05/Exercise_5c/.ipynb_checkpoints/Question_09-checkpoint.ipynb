{
 "cells": [
  {
   "cell_type": "markdown",
   "id": "57fbcf8d-4a61-476b-a069-d07b19e45d32",
   "metadata": {},
   "source": [
    "# Question 9\n",
    "-----"
   ]
  },
  {
   "cell_type": "markdown",
   "id": "f04e6c1e-eba3-4bd1-a0f1-25a5ec0aa772",
   "metadata": {},
   "source": [
    "$$E(X) = np = 2$$\n",
    "\n",
    "$$var = npq = 1.6$$\n",
    "\n",
    "hence,\n",
    "\n",
    "$$2q = 1.6$$\n",
    "\n",
    "$$q = \\frac{1.6}{2} = 0.8$$\n",
    "\n",
    "hence,\n",
    "\n",
    "$$p = 0.2$$\n",
    "\n",
    "$$0.2n = 2$$\n",
    "\n",
    "$$n = \\frac{2}{0.2}$$\n",
    "\n",
    "$$n = 10$$"
   ]
  },
  {
   "cell_type": "code",
   "execution_count": 1,
   "id": "70f834d3-946b-4636-b1cb-2f79a69230e6",
   "metadata": {},
   "outputs": [],
   "source": [
    "import math\n",
    "\n",
    "def bino(n, r, p, q):\n",
    "    funk = ((math.factorial(n)) / (math.factorial(r) * math.factorial((n-r)))) * pow(q, (n-r)) * pow(p, r)\n",
    "    return funk"
   ]
  },
  {
   "cell_type": "code",
   "execution_count": 2,
   "id": "ee4535bf-4b07-4184-9dc1-2abeb23b06b9",
   "metadata": {},
   "outputs": [
    {
     "name": "stdout",
     "output_type": "stream",
     "text": [
      "P(X < 6) = 0.9936306176000006\n"
     ]
    }
   ],
   "source": [
    "n = 10\n",
    "p = 0.2\n",
    "q = 0.8\n",
    "\n",
    "r = 0\n",
    "PXE0 = bino(n, r, p, q)\n",
    "\n",
    "r = 1\n",
    "PXE1 = bino(n, r, p, q)\n",
    "\n",
    "r = 2\n",
    "PXE2 = bino(n, r, p, q)\n",
    "\n",
    "r = 3\n",
    "PXE3 = bino(n, r, p, q)\n",
    "\n",
    "r = 4\n",
    "PXE4 = bino(n, r, p, q)\n",
    "\n",
    "r = 5\n",
    "PXE5 = bino(n, r, p, q)\n",
    "\n",
    "PXL6 = PXE0 + PXE1 + PXE2 + PXE3 + PXE4 + PXE5\n",
    "print(\"P(X < 6) = \" + str(PXL6))"
   ]
  },
  {
   "cell_type": "code",
   "execution_count": 3,
   "id": "dbc37bf2-de75-4893-ba07-d14dcc07c421",
   "metadata": {},
   "outputs": [
    {
     "name": "stdout",
     "output_type": "stream",
     "text": [
      "E(X) = 2\n"
     ]
    }
   ],
   "source": [
    "print(\"E(X) = 2\")"
   ]
  }
 ],
 "metadata": {
  "kernelspec": {
   "display_name": "Python 3 (ipykernel)",
   "language": "python",
   "name": "python3"
  },
  "language_info": {
   "codemirror_mode": {
    "name": "ipython",
    "version": 3
   },
   "file_extension": ".py",
   "mimetype": "text/x-python",
   "name": "python",
   "nbconvert_exporter": "python",
   "pygments_lexer": "ipython3",
   "version": "3.12.1"
  }
 },
 "nbformat": 4,
 "nbformat_minor": 5
}

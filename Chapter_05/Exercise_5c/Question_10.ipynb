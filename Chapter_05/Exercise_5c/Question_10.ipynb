{
 "cells": [
  {
   "cell_type": "markdown",
   "id": "2b3d380e-98e2-4463-b9c3-8a5534ff82df",
   "metadata": {},
   "source": [
    "# Question 10\n",
    "-----"
   ]
  },
  {
   "cell_type": "markdown",
   "id": "92882797-675d-4958-b94a-66556f868aae",
   "metadata": {},
   "source": [
    "| # of seeds germinating | 0 | 1 | 2 | 3 | 4 | 5 | 6 |\n",
    "| - | - | - | - | - | - | - | - |\n",
    "| f | 2 | 1 | 2 | 10 | 30 | 35 | 20 |\n",
    "| fx | 0 | 1 | 4 | 30 | 120 | 175 | 120 |\n",
    "\n",
    "$$mean = \\frac{\\Sigma fx}{\\Sigma f}$$\n",
    "\n",
    "$$mean = \\frac{450}{100} = 4.5$$\n",
    "\n",
    "for a binomial distribution:\n",
    "\n",
    "$$E(X) = np$$\n",
    "\n",
    "hence,\n",
    "\n",
    "$$6p = 4.5$$\n",
    "\n",
    "$$p = 0.75$$"
   ]
  },
  {
   "cell_type": "code",
   "execution_count": 1,
   "id": "5b2b8c1f-bab1-496f-8af1-345bd72ccb93",
   "metadata": {},
   "outputs": [],
   "source": [
    "import math\n",
    "\n",
    "def bino(n, r, p, q):\n",
    "    funk = ((math.factorial(n)) / (math.factorial(r) * math.factorial((n-r)))) * pow(q, (n-r)) * pow(p, r)\n",
    "    return funk"
   ]
  },
  {
   "cell_type": "code",
   "execution_count": 2,
   "id": "78313e3e-8803-4160-b39a-ce2a3a02e9d4",
   "metadata": {},
   "outputs": [
    {
     "name": "stdout",
     "output_type": "stream",
     "text": [
      "[0.0, 0.0, 3.0, 13.0, 30.0, 36.0, 18.0]\n"
     ]
    }
   ],
   "source": [
    "n = 6\n",
    "p = 0.75\n",
    "q = 1 - p\n",
    "\n",
    "frequencies = []\n",
    "\n",
    "def freq(r):\n",
    "    PXEvent = bino(n, r, p, q)\n",
    "    freqq = PXEvent * 100\n",
    "    freqq  = round(freqq, 0)\n",
    "    frequencies.append(freqq)\n",
    "\n",
    "r = -1\n",
    "while r != 6:\n",
    "    r = r + 1\n",
    "    freq(r)\n",
    "\n",
    "print(frequencies)\n"
   ]
  },
  {
   "cell_type": "markdown",
   "id": "6fd0f628-a638-4254-b40f-f36ca70293d9",
   "metadata": {},
   "source": [
    "| # of seeds germinating | 0 | 1 | 2 | 3 | 4 | 5 | 6 |\n",
    "| - | - | - | - | - | - | - | - |\n",
    "| f | 2 | 1 | 2 | 10 | 30 | 35 | 20 |\n",
    "| fx | 0 | 1 | 4 | 30 | 120 | 175 | 120 |\n",
    "| binomial frequencies | 0 | 0 | 3 | 13 | 30 | 36 | 18 |"
   ]
  }
 ],
 "metadata": {
  "kernelspec": {
   "display_name": "Python 3 (ipykernel)",
   "language": "python",
   "name": "python3"
  },
  "language_info": {
   "codemirror_mode": {
    "name": "ipython",
    "version": 3
   },
   "file_extension": ".py",
   "mimetype": "text/x-python",
   "name": "python",
   "nbconvert_exporter": "python",
   "pygments_lexer": "ipython3",
   "version": "3.12.1"
  }
 },
 "nbformat": 4,
 "nbformat_minor": 5
}

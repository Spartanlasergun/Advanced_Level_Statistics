{
 "cells": [
  {
   "cell_type": "markdown",
   "id": "5c127868-2131-4082-bc3f-bdb57e228050",
   "metadata": {},
   "source": [
    "# Question 11\n",
    "-----"
   ]
  },
  {
   "cell_type": "markdown",
   "id": "3ee83f5b-73eb-472f-b819-7fa6b9f4f712",
   "metadata": {},
   "source": [
    "$$ var = npq = 7^2$$\n",
    "\n",
    "$$n * 0.98 * 0.02 = 7^2$$\n",
    "\n",
    "$$n = \\frac{7^2}{0.98 * 0.02} = 2500$$"
   ]
  }
 ],
 "metadata": {
  "kernelspec": {
   "display_name": "Python 3 (ipykernel)",
   "language": "python",
   "name": "python3"
  },
  "language_info": {
   "codemirror_mode": {
    "name": "ipython",
    "version": 3
   },
   "file_extension": ".py",
   "mimetype": "text/x-python",
   "name": "python",
   "nbconvert_exporter": "python",
   "pygments_lexer": "ipython3",
   "version": "3.12.1"
  }
 },
 "nbformat": 4,
 "nbformat_minor": 5
}

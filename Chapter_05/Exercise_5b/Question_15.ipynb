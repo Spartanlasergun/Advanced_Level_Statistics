{
 "cells": [
  {
   "cell_type": "markdown",
   "id": "83f82485-be54-4158-a085-ffbada077b9d",
   "metadata": {},
   "source": [
    "# Question 15\n",
    "-----"
   ]
  },
  {
   "cell_type": "markdown",
   "id": "295a146c-1140-448e-892a-b5e9fbc3222f",
   "metadata": {},
   "source": [
    "$$0.7^n \\le 0.05$$\n",
    "\n",
    "$$n \\log (0.7) \\le \\log(0.05)$$\n",
    "\n",
    "$$n \\ge \\frac{\\log 0.05}{\\log 0.7}$$\n",
    "\n",
    "$$n \\ge 8.4$$\n",
    "\n",
    "the least number of shots for a 95% chance of hitting at least once is = 9"
   ]
  }
 ],
 "metadata": {
  "kernelspec": {
   "display_name": "Python 3 (ipykernel)",
   "language": "python",
   "name": "python3"
  },
  "language_info": {
   "codemirror_mode": {
    "name": "ipython",
    "version": 3
   },
   "file_extension": ".py",
   "mimetype": "text/x-python",
   "name": "python",
   "nbconvert_exporter": "python",
   "pygments_lexer": "ipython3",
   "version": "3.12.1"
  }
 },
 "nbformat": 4,
 "nbformat_minor": 5
}

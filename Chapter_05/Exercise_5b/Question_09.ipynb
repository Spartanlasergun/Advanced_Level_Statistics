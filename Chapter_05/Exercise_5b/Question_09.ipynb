{
 "cells": [
  {
   "cell_type": "markdown",
   "id": "61c8963b-a923-4561-aa8f-837151e04577",
   "metadata": {},
   "source": [
    "# Question 9\n",
    "----"
   ]
  },
  {
   "cell_type": "markdown",
   "id": "39f9550a-2136-44d9-b48d-369fc6980811",
   "metadata": {},
   "source": [
    "$$X ~ Bin(4, p)$$\n",
    "\n",
    "$$\\frac{4!}{4! * 0!} * q^{0} * p^4 = 0.0256$$\n",
    "\n",
    "$$\\frac{24}{24} * p^4 = 0.0256$$\n",
    "\n",
    "$$p = (0.0256)^{0.25} = 0.4$$"
   ]
  },
  {
   "cell_type": "code",
   "execution_count": 1,
   "id": "a98b8982-678c-4686-bdc7-ee7c0df70f40",
   "metadata": {},
   "outputs": [],
   "source": [
    "import math\n",
    "\n",
    "def bino(n, r, p, q):\n",
    "    funk = ((math.factorial(n)) / (math.factorial(r) * math.factorial((n-r)))) * pow(q, (n-r)) * pow(p, r)\n",
    "    return funk"
   ]
  },
  {
   "cell_type": "code",
   "execution_count": 2,
   "id": "4235ce07-d60c-4a8a-9b48-b6de37ebd634",
   "metadata": {},
   "outputs": [
    {
     "name": "stdout",
     "output_type": "stream",
     "text": [
      "P(X = 2) = 0.3456000000000001\n"
     ]
    }
   ],
   "source": [
    "n = 4\n",
    "r = 2\n",
    "p = 0.4\n",
    "q = 1 - p\n",
    "PXE2 = bino(n, r, p, q)\n",
    "print(\"P(X = 2) = \" + str(PXE2))"
   ]
  }
 ],
 "metadata": {
  "kernelspec": {
   "display_name": "Python 3 (ipykernel)",
   "language": "python",
   "name": "python3"
  },
  "language_info": {
   "codemirror_mode": {
    "name": "ipython",
    "version": 3
   },
   "file_extension": ".py",
   "mimetype": "text/x-python",
   "name": "python",
   "nbconvert_exporter": "python",
   "pygments_lexer": "ipython3",
   "version": "3.12.1"
  }
 },
 "nbformat": 4,
 "nbformat_minor": 5
}

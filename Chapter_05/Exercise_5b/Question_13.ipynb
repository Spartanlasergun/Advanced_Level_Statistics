{
 "cells": [
  {
   "cell_type": "markdown",
   "id": "d278ca60-6990-47b6-b3c3-e385e10ac4fd",
   "metadata": {},
   "source": [
    "# Question 13\n",
    "-----"
   ]
  },
  {
   "cell_type": "code",
   "execution_count": 1,
   "id": "d17f6ec1-ba9e-4cd9-971d-e765e0fbac1f",
   "metadata": {},
   "outputs": [],
   "source": [
    "import math\n",
    "\n",
    "def bino(n, r, p, q):\n",
    "    funk = ((math.factorial(n)) / (math.factorial(r) * math.factorial((n-r)))) * pow(q, (n-r)) * pow(p, r)\n",
    "    return funk"
   ]
  },
  {
   "cell_type": "code",
   "execution_count": 2,
   "id": "a13e1fcb-88c1-41dd-a35b-6e4bd656cb7c",
   "metadata": {},
   "outputs": [
    {
     "name": "stdout",
     "output_type": "stream",
     "text": [
      "P(X = 3) = 0.3292181069958848\n"
     ]
    }
   ],
   "source": [
    "n = 5\n",
    "p = 2/3\n",
    "q = 1 - p\n",
    "\n",
    "r = 3\n",
    "PXE3 = bino(n, r, p, q)\n",
    "print(\"P(X = 3) = \" + str(PXE3))"
   ]
  },
  {
   "cell_type": "code",
   "execution_count": 3,
   "id": "a471dac2-6eee-4870-810a-c495793ff3a8",
   "metadata": {},
   "outputs": [
    {
     "name": "stdout",
     "output_type": "stream",
     "text": [
      "P(X > 3) = 0.46090534979423864\n"
     ]
    }
   ],
   "source": [
    "r = 4\n",
    "PXE4 = bino(n, r, p, q)\n",
    "\n",
    "r = 5\n",
    "PXE5 = bino(n, r, p, q)\n",
    "\n",
    "PXG3 = PXE4 + PXE5\n",
    "print(\"P(X > 3) = \" + str(PXG3))"
   ]
  }
 ],
 "metadata": {
  "kernelspec": {
   "display_name": "Python 3 (ipykernel)",
   "language": "python",
   "name": "python3"
  },
  "language_info": {
   "codemirror_mode": {
    "name": "ipython",
    "version": 3
   },
   "file_extension": ".py",
   "mimetype": "text/x-python",
   "name": "python",
   "nbconvert_exporter": "python",
   "pygments_lexer": "ipython3",
   "version": "3.12.1"
  }
 },
 "nbformat": 4,
 "nbformat_minor": 5
}

{
 "cells": [
  {
   "cell_type": "markdown",
   "id": "906df0fe-949a-4abe-8bf7-5d9abc67a12b",
   "metadata": {},
   "source": [
    "# Question 7\n",
    "-----"
   ]
  },
  {
   "cell_type": "code",
   "execution_count": 1,
   "id": "693f03dc-c77c-4bad-ade2-92fa6e9ff222",
   "metadata": {},
   "outputs": [],
   "source": [
    "import math\n",
    "\n",
    "def bino(n, r, p, q):\n",
    "    funk = ((math.factorial(n)) / (math.factorial(r) * math.factorial((n-r)))) * pow(q, (n-r)) * pow(p, r)\n",
    "    return funk"
   ]
  },
  {
   "cell_type": "code",
   "execution_count": 2,
   "id": "e9a15438-57d0-4c19-8986-fcaec8d4fc32",
   "metadata": {},
   "outputs": [
    {
     "name": "stdout",
     "output_type": "stream",
     "text": [
      "P(X >= 4) = 0.34375\n"
     ]
    }
   ],
   "source": [
    "n = 6\n",
    "p = 0.5\n",
    "q = 1 - p\n",
    "\n",
    "r = 4\n",
    "PXE4 = bino(n, r, p, q)\n",
    "\n",
    "r = 5\n",
    "PXE5 = bino(n, r, p, q)\n",
    "\n",
    "r = 6\n",
    "PXE6 = bino(n, r, p, q)\n",
    "\n",
    "atleastfour = PXE4 + PXE5 + PXE6\n",
    "print(\"P(X >= 4) = \" + str(atleastfour))"
   ]
  }
 ],
 "metadata": {
  "kernelspec": {
   "display_name": "Python 3 (ipykernel)",
   "language": "python",
   "name": "python3"
  },
  "language_info": {
   "codemirror_mode": {
    "name": "ipython",
    "version": 3
   },
   "file_extension": ".py",
   "mimetype": "text/x-python",
   "name": "python",
   "nbconvert_exporter": "python",
   "pygments_lexer": "ipython3",
   "version": "3.12.1"
  }
 },
 "nbformat": 4,
 "nbformat_minor": 5
}

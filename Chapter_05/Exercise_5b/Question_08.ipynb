{
 "cells": [
  {
   "cell_type": "markdown",
   "id": "67be517a-acff-419d-b7f4-61f9ed5f4c79",
   "metadata": {},
   "source": [
    "# Question 8\n",
    "-----"
   ]
  },
  {
   "cell_type": "code",
   "execution_count": 1,
   "id": "53188d63-e4c4-4696-b17a-83eb20de887d",
   "metadata": {},
   "outputs": [],
   "source": [
    "import math\n",
    "\n",
    "def bino(n, r, p, q):\n",
    "    funk = ((math.factorial(n)) / (math.factorial(r) * math.factorial((n-r)))) * pow(q, (n-r)) * pow(p, r)\n",
    "    return funk"
   ]
  },
  {
   "cell_type": "code",
   "execution_count": 2,
   "id": "1887231d-7ad0-4f19-bf96-d04e115051ce",
   "metadata": {},
   "outputs": [
    {
     "name": "stdout",
     "output_type": "stream",
     "text": [
      "P(X >= 3) = 0.5\n"
     ]
    }
   ],
   "source": [
    "n = 5\n",
    "p = 0.5\n",
    "q = 1 - 0.5\n",
    "\n",
    "r = 3\n",
    "PXE3 = bino(n, r, p, q)\n",
    "\n",
    "r = 4\n",
    "PXE4 = bino(n, r, p, q)\n",
    "\n",
    "r = 5\n",
    "PXE5 = bino(n, r, p, q)\n",
    "\n",
    "moregirls = PXE3 + PXE4 + PXE5\n",
    "print(\"P(X >= 3) = \" + str(moregirls))"
   ]
  }
 ],
 "metadata": {
  "kernelspec": {
   "display_name": "Python 3 (ipykernel)",
   "language": "python",
   "name": "python3"
  },
  "language_info": {
   "codemirror_mode": {
    "name": "ipython",
    "version": 3
   },
   "file_extension": ".py",
   "mimetype": "text/x-python",
   "name": "python",
   "nbconvert_exporter": "python",
   "pygments_lexer": "ipython3",
   "version": "3.12.1"
  }
 },
 "nbformat": 4,
 "nbformat_minor": 5
}

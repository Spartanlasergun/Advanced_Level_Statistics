{
 "cells": [
  {
   "cell_type": "markdown",
   "id": "98b24899-d6f2-4112-b7cc-0ed1444ddc64",
   "metadata": {},
   "source": [
    "# Question 12\n",
    "----"
   ]
  },
  {
   "cell_type": "code",
   "execution_count": 1,
   "id": "3789891e-3a2d-44c1-9b9d-163264667923",
   "metadata": {},
   "outputs": [],
   "source": [
    "import math\n",
    "\n",
    "def bino(n, r, p, q):\n",
    "    funk = ((math.factorial(n)) / (math.factorial(r) * math.factorial((n-r)))) * pow(q, (n-r)) * pow(p, r)\n",
    "    return funk"
   ]
  },
  {
   "cell_type": "code",
   "execution_count": 2,
   "id": "bafbb189-56d1-42bc-b953-7112a3e0958e",
   "metadata": {},
   "outputs": [
    {
     "name": "stdout",
     "output_type": "stream",
     "text": [
      "P(X = 3) = 0.010475059441406248\n"
     ]
    }
   ],
   "source": [
    "n = 10\n",
    "p = 0.05\n",
    "q = 1 - p\n",
    "\n",
    "r = 3\n",
    "PXE3 = bino(n, r, p, q)\n",
    "print(\"P(X = 3) = \" + str(PXE3))"
   ]
  },
  {
   "cell_type": "code",
   "execution_count": 3,
   "id": "a9fd78c1-fcf0-4da7-9950-2b0e75ed08c1",
   "metadata": {},
   "outputs": [
    {
     "name": "stdout",
     "output_type": "stream",
     "text": [
      "P(X < 1) = 0.9884964426207028\n"
     ]
    }
   ],
   "source": [
    "r = 0\n",
    "PXE0 = bino(n, r, p, q)\n",
    "\n",
    "r = 1\n",
    "PXE1 = bino(n, r, p, q)\n",
    "\n",
    "r = 2\n",
    "PXE2 = bino(n, r, p, q)\n",
    "\n",
    "PXL3 = PXE0 + PXE1 + PXE2\n",
    "print(\"P(X < 1) = \" + str(PXL3))"
   ]
  },
  {
   "cell_type": "code",
   "execution_count": 4,
   "id": "041c2cd1-26c6-4c20-adb5-d4f0ee1d947f",
   "metadata": {},
   "outputs": [
    {
     "name": "stdout",
     "output_type": "stream",
     "text": [
      "P(X = 0) = 0.35848592240854193\n"
     ]
    }
   ],
   "source": [
    "twopackets = PXE0 * PXE0\n",
    "print(\"P(X = 0) = \" + str(twopackets))"
   ]
  }
 ],
 "metadata": {
  "kernelspec": {
   "display_name": "Python 3 (ipykernel)",
   "language": "python",
   "name": "python3"
  },
  "language_info": {
   "codemirror_mode": {
    "name": "ipython",
    "version": 3
   },
   "file_extension": ".py",
   "mimetype": "text/x-python",
   "name": "python",
   "nbconvert_exporter": "python",
   "pygments_lexer": "ipython3",
   "version": "3.12.1"
  }
 },
 "nbformat": 4,
 "nbformat_minor": 5
}

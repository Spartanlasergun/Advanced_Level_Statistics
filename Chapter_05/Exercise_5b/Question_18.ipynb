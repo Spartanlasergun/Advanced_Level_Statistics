{
 "cells": [
  {
   "cell_type": "markdown",
   "id": "cbf0ffa7-5c0b-49d9-952c-68c512576798",
   "metadata": {},
   "source": [
    "# Question 18\n",
    "-----"
   ]
  },
  {
   "cell_type": "markdown",
   "id": "5582bb55-bab2-4e5a-b964-61aef9d33a8f",
   "metadata": {},
   "source": [
    "$$0.7^n \\le 0.2$$\n",
    "\n",
    "$$n \\log (0.7) \\le \\log (0.2)$$\n",
    "\n",
    "$$n \\ge \\frac{\\log 0.2}{\\log 0.7}$$\n",
    "\n",
    "$$n \\ge  4.512$$\n",
    "\n",
    "Hence n must be at least 5 for $P(X \\le 1)$"
   ]
  }
 ],
 "metadata": {
  "kernelspec": {
   "display_name": "Python 3 (ipykernel)",
   "language": "python",
   "name": "python3"
  },
  "language_info": {
   "codemirror_mode": {
    "name": "ipython",
    "version": 3
   },
   "file_extension": ".py",
   "mimetype": "text/x-python",
   "name": "python",
   "nbconvert_exporter": "python",
   "pygments_lexer": "ipython3",
   "version": "3.12.1"
  }
 },
 "nbformat": 4,
 "nbformat_minor": 5
}

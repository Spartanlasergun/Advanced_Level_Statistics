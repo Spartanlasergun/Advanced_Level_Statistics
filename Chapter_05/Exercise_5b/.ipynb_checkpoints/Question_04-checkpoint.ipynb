{
 "cells": [
  {
   "cell_type": "markdown",
   "id": "0f3fecc1-634a-4a02-88b0-d5c09084ad6b",
   "metadata": {},
   "source": [
    "# Question 4\n",
    "-----"
   ]
  },
  {
   "cell_type": "code",
   "execution_count": 1,
   "id": "15cd52e9-aa2d-48ff-b0eb-265f12c349a3",
   "metadata": {},
   "outputs": [],
   "source": [
    "import math\n",
    "\n",
    "def bino(n, r, p, q):\n",
    "    funk = ((math.factorial(n)) / (math.factorial(r) * math.factorial((n-r)))) * pow(q, (n-r)) * pow(p, r)\n",
    "    return funk"
   ]
  },
  {
   "cell_type": "code",
   "execution_count": 2,
   "id": "8a747fff-845b-4548-93a8-40fc11ab0f9d",
   "metadata": {},
   "outputs": [
    {
     "name": "stdout",
     "output_type": "stream",
     "text": [
      "P(X = 6) = 0.005489031743999999\n"
     ]
    }
   ],
   "source": [
    "n = 6\n",
    "p = 0.42\n",
    "q = 1 - p\n",
    "r = 6\n",
    "PXE6 = bino(n, r, p, q)\n",
    "print(\"P(X = 6) = \" + str(PXE6))"
   ]
  },
  {
   "cell_type": "code",
   "execution_count": 3,
   "id": "67a7ff77-1084-431a-9140-f163e089d9fe",
   "metadata": {},
   "outputs": [
    {
     "name": "stdout",
     "output_type": "stream",
     "text": [
      "P(X = 4) = 0.15701618016000002\n"
     ]
    }
   ],
   "source": [
    "r = 4\n",
    "PXE4 = bino(n, r, p, q)\n",
    "print(\"P(X = 4) = \" + str(PXE4))"
   ]
  },
  {
   "cell_type": "code",
   "execution_count": 4,
   "id": "0e8a15b6-8803-429b-9150-1653b760a2da",
   "metadata": {},
   "outputs": [
    {
     "name": "stdout",
     "output_type": "stream",
     "text": [
      "P(X <= 2) = 0.5029050822400003\n"
     ]
    }
   ],
   "source": [
    "r = 0\n",
    "PXE0 = bino(n, r, p, q)\n",
    "\n",
    "r = 1\n",
    "PXE1 = bino(n, r, p, q)\n",
    "\n",
    "r = 2\n",
    "PXE2 = bino(n, r, p, q)\n",
    "\n",
    "PXLE2 = PXE0 + PXE1 + PXE2\n",
    "print(\"P(X <= 2) = \" + str(PXLE2))"
   ]
  }
 ],
 "metadata": {
  "kernelspec": {
   "display_name": "Python 3 (ipykernel)",
   "language": "python",
   "name": "python3"
  },
  "language_info": {
   "codemirror_mode": {
    "name": "ipython",
    "version": 3
   },
   "file_extension": ".py",
   "mimetype": "text/x-python",
   "name": "python",
   "nbconvert_exporter": "python",
   "pygments_lexer": "ipython3",
   "version": "3.12.1"
  }
 },
 "nbformat": 4,
 "nbformat_minor": 5
}

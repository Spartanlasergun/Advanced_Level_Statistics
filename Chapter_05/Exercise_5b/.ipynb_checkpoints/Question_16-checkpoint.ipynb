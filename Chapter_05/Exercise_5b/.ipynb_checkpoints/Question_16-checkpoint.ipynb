{
 "cells": [
  {
   "cell_type": "markdown",
   "id": "4e8f378d-020a-4f95-87d1-44428e41cfbe",
   "metadata": {},
   "source": [
    "# Question 16\n",
    "-----"
   ]
  },
  {
   "cell_type": "markdown",
   "id": "3581c03d-0f3d-4533-9642-a3152940d637",
   "metadata": {},
   "source": [
    "$$0.99^n \\ge 0.5$$\n",
    "\n",
    "$$n \\log (0.99) \\ge \\log (0.5)$$\n",
    "\n",
    "$$n \\le \\frac{\\log (0.5)}{\\log (0.99)}$$\n",
    "\n",
    "$$n \\le 68.96$$\n",
    "\n",
    "Hence, the minimum sample size for a 50% probaility of no faulty light builbs is = 68"
   ]
  }
 ],
 "metadata": {
  "kernelspec": {
   "display_name": "Python 3 (ipykernel)",
   "language": "python",
   "name": "python3"
  },
  "language_info": {
   "codemirror_mode": {
    "name": "ipython",
    "version": 3
   },
   "file_extension": ".py",
   "mimetype": "text/x-python",
   "name": "python",
   "nbconvert_exporter": "python",
   "pygments_lexer": "ipython3",
   "version": "3.12.1"
  }
 },
 "nbformat": 4,
 "nbformat_minor": 5
}

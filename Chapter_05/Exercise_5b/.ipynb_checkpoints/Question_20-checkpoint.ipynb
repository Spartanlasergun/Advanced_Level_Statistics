{
 "cells": [
  {
   "cell_type": "markdown",
   "id": "e049383a-1792-4c4b-a724-23ce9021346e",
   "metadata": {},
   "source": [
    "# Question 20\n",
    "-----"
   ]
  },
  {
   "cell_type": "markdown",
   "id": "fc0629d2-50c4-434c-bb39-4db587eaa3ad",
   "metadata": {},
   "source": [
    "$$\\frac{n!}{0!(n-0)!} * q^{n-0} * p^0 = 0.0256$$\n",
    "\n",
    "$$q^n = 0.0256$$\n",
    "\n",
    "$$0.4^n = 0.0256$$\n",
    "\n",
    "$$n \\log (0.4) = \\log (0.0256)$$\n",
    "\n",
    "$$n = \\frac{\\log (0.0256)}{\\log (0.4)}$$\n",
    "\n",
    "$$n = 4$$"
   ]
  }
 ],
 "metadata": {
  "kernelspec": {
   "display_name": "Python 3 (ipykernel)",
   "language": "python",
   "name": "python3"
  },
  "language_info": {
   "codemirror_mode": {
    "name": "ipython",
    "version": 3
   },
   "file_extension": ".py",
   "mimetype": "text/x-python",
   "name": "python",
   "nbconvert_exporter": "python",
   "pygments_lexer": "ipython3",
   "version": "3.12.1"
  }
 },
 "nbformat": 4,
 "nbformat_minor": 5
}

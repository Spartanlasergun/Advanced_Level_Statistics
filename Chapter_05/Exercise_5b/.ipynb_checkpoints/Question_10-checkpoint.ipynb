{
 "cells": [
  {
   "cell_type": "markdown",
   "id": "e4b388f0-4f1b-47e8-a7e0-57a1b7e4629a",
   "metadata": {},
   "source": [
    "# Question 10\n",
    "-----"
   ]
  },
  {
   "cell_type": "code",
   "execution_count": 1,
   "id": "b3f00782-0fdf-4d14-93db-6593d6a4c9f8",
   "metadata": {},
   "outputs": [],
   "source": [
    "import math\n",
    "\n",
    "def bino(n, r, p, q):\n",
    "    funk = ((math.factorial(n)) / (math.factorial(r) * math.factorial((n-r)))) * pow(q, (n-r)) * pow(p, r)\n",
    "    return funk"
   ]
  },
  {
   "cell_type": "code",
   "execution_count": 2,
   "id": "163d631c-abe6-4ca3-a5ed-ffd3f7790a7f",
   "metadata": {},
   "outputs": [
    {
     "name": "stdout",
     "output_type": "stream",
     "text": [
      "P(X > 6) = 0.04242239496011786\n"
     ]
    }
   ],
   "source": [
    "n = 9\n",
    "p = 1/3\n",
    "q = 1 - p\n",
    "\n",
    "r = 6\n",
    "PXE6 = bino(n, r, p, q)\n",
    "\n",
    "r = 7\n",
    "PXE7 = bino(n, r, p, q)\n",
    "\n",
    "r = 8\n",
    "PXE8 = bino(n, r, p, q)\n",
    "\n",
    "r = 9\n",
    "PXE9 = bino(n, r, p, q)\n",
    "\n",
    "PXG6 = PXE6 + PXE7 + PXE8 + PXE9\n",
    "print(\"P(X > 6) = \" + str(PXG6))"
   ]
  },
  {
   "cell_type": "code",
   "execution_count": 3,
   "id": "522378ff-6300-4602-8bdf-01f55288ece7",
   "metadata": {},
   "outputs": [
    {
     "name": "stdout",
     "output_type": "stream",
     "text": [
      "P(X >= 3) = 0.6228217243306404\n"
     ]
    }
   ],
   "source": [
    "r = 0\n",
    "PXE0 = bino(n, r, p, q)\n",
    "\n",
    "r = 1\n",
    "PXE1 = bino(n, r, p, q)\n",
    "\n",
    "r = 2\n",
    "PXE2 = bino(n, r, p, q)\n",
    "\n",
    "PXGE3 = 1 - (PXE0 + PXE1 + PXE2)\n",
    "print(\"P(X >= 3) = \" + str(PXGE3))"
   ]
  },
  {
   "cell_type": "markdown",
   "id": "9b65003c-7b99-4a1c-b34a-f39fae3013d6",
   "metadata": {},
   "source": [
    "$$ (\\frac{2}{3})^n \\le 0.01 $$\n",
    "\n",
    "$$n \\log(\\frac{2}{3}) \\le \\log (0.01)$$\n",
    "\n",
    "$$n \\ge \\frac{\\log (0.01)}{\\log (0.6666)}$$\n",
    "\n",
    "$$n \\ge 11.4$$\n",
    "\n",
    "Hence, at least 12 cuttings should be taken"
   ]
  }
 ],
 "metadata": {
  "kernelspec": {
   "display_name": "Python 3 (ipykernel)",
   "language": "python",
   "name": "python3"
  },
  "language_info": {
   "codemirror_mode": {
    "name": "ipython",
    "version": 3
   },
   "file_extension": ".py",
   "mimetype": "text/x-python",
   "name": "python",
   "nbconvert_exporter": "python",
   "pygments_lexer": "ipython3",
   "version": "3.12.1"
  }
 },
 "nbformat": 4,
 "nbformat_minor": 5
}

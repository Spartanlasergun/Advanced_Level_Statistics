{
 "cells": [
  {
   "cell_type": "markdown",
   "id": "eb420e03-c38e-46bc-8e14-cbc7471ce1ef",
   "metadata": {},
   "source": [
    "# Question 5\n",
    "-----"
   ]
  },
  {
   "cell_type": "code",
   "execution_count": 1,
   "id": "4994d810-bd2e-4e48-946e-709b003f8e93",
   "metadata": {},
   "outputs": [],
   "source": [
    "import math\n",
    "\n",
    "def bino(n, r, p, q):\n",
    "    funk = ((math.factorial(n)) / (math.factorial(r) * math.factorial((n-r)))) * pow(q, (n-r)) * pow(p, r)\n",
    "    return funk"
   ]
  },
  {
   "cell_type": "code",
   "execution_count": 2,
   "id": "5699e411-0544-478c-b6d4-18b40111eb0e",
   "metadata": {},
   "outputs": [
    {
     "name": "stdout",
     "output_type": "stream",
     "text": [
      "P(X >= 5) = 0.002004029492455418\n"
     ]
    }
   ],
   "source": [
    "n = 7\n",
    "r = 5\n",
    "p = 1/6\n",
    "q = 1 - p\n",
    "\n",
    "PXE5 = bino(n, r, p, q)\n",
    "\n",
    "r = 6\n",
    "PXE6 = bino(n, r, p, q)\n",
    "\n",
    "r = 7\n",
    "PXE7 = bino(n, r, p, q)\n",
    "\n",
    "PXGE5 = PXE5 + PXE6 + PXE7\n",
    "print(\"P(X >= 5) = \" + str(PXGE5))"
   ]
  }
 ],
 "metadata": {
  "kernelspec": {
   "display_name": "Python 3 (ipykernel)",
   "language": "python",
   "name": "python3"
  },
  "language_info": {
   "codemirror_mode": {
    "name": "ipython",
    "version": 3
   },
   "file_extension": ".py",
   "mimetype": "text/x-python",
   "name": "python",
   "nbconvert_exporter": "python",
   "pygments_lexer": "ipython3",
   "version": "3.12.1"
  }
 },
 "nbformat": 4,
 "nbformat_minor": 5
}

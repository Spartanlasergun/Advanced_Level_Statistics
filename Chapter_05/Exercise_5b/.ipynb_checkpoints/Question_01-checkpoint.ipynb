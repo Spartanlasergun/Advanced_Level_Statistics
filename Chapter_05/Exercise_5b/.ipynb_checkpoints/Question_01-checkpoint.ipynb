{
 "cells": [
  {
   "cell_type": "markdown",
   "id": "3dec5069-e427-4a77-a6b2-d0d7f8049ee1",
   "metadata": {},
   "source": [
    "# Question 1\n",
    "-----"
   ]
  },
  {
   "cell_type": "code",
   "execution_count": 1,
   "id": "b08f4f66-e63a-4660-88fb-4cb5addce1fb",
   "metadata": {},
   "outputs": [
    {
     "name": "stdout",
     "output_type": "stream",
     "text": [
      "P(X = 3) = 0.2668279319999998\n"
     ]
    }
   ],
   "source": [
    "import math\n",
    "\n",
    "p = 0.3\n",
    "q = 1 - p\n",
    "n = 10\n",
    "r = 3\n",
    "PXE3 = ((math.factorial(n)) / (math.factorial(r) * math.factorial((n-r)))) * pow(q, (n-r)) * pow(p, r)\n",
    "print(\"P(X = 3) = \" + str(PXE3))"
   ]
  },
  {
   "cell_type": "code",
   "execution_count": 2,
   "id": "3ec61cbb-c431-42ae-946e-7d37524a892a",
   "metadata": {},
   "outputs": [
    {
     "name": "stdout",
     "output_type": "stream",
     "text": [
      "P(X < 5) = 0.8497316673999996\n"
     ]
    }
   ],
   "source": [
    "r = 0\n",
    "PXE5 = ((math.factorial(n)) / (math.factorial(r) * math.factorial((n-r)))) * pow(q, (n-r)) * pow(p, r)\n",
    "\n",
    "r = 4\n",
    "PXE4 = ((math.factorial(n)) / (math.factorial(r) * math.factorial((n-r)))) * pow(q, (n-r)) * pow(p, r)\n",
    "\n",
    "r = 2\n",
    "PXE2 = ((math.factorial(n)) / (math.factorial(r) * math.factorial((n-r)))) * pow(q, (n-r)) * pow(p, r)\n",
    "\n",
    "r = 1\n",
    "PXE1 = ((math.factorial(n)) / (math.factorial(r) * math.factorial((n-r)))) * pow(q, (n-r)) * pow(p, r)\n",
    "\n",
    "PXL5 = PXE1 + PXE2 + PXE3 + PXE4 + PXE5\n",
    "print(\"P(X < 5) = \" + str(PXL5))"
   ]
  }
 ],
 "metadata": {
  "kernelspec": {
   "display_name": "Python 3 (ipykernel)",
   "language": "python",
   "name": "python3"
  },
  "language_info": {
   "codemirror_mode": {
    "name": "ipython",
    "version": 3
   },
   "file_extension": ".py",
   "mimetype": "text/x-python",
   "name": "python",
   "nbconvert_exporter": "python",
   "pygments_lexer": "ipython3",
   "version": "3.12.1"
  }
 },
 "nbformat": 4,
 "nbformat_minor": 5
}

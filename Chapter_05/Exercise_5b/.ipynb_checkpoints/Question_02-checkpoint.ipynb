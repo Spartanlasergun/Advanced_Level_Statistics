{
 "cells": [
  {
   "cell_type": "markdown",
   "id": "b072fd85-8b4c-48d0-bf83-9acec7544ce5",
   "metadata": {},
   "source": [
    "# Question 2\n",
    "-----"
   ]
  },
  {
   "cell_type": "code",
   "execution_count": 1,
   "id": "ff125499-d604-4b28-8c0b-fc4d74190bd4",
   "metadata": {},
   "outputs": [
    {
     "name": "stdout",
     "output_type": "stream",
     "text": [
      "P(X = 3) = 0.2335968017578125\n"
     ]
    }
   ],
   "source": [
    "import math\n",
    "\n",
    "def bino(n, r, p, q):\n",
    "    funk = ((math.factorial(n)) / (math.factorial(r) * math.factorial((n-r)))) * pow(q, (n-r)) * pow(p, r)\n",
    "    return funk\n",
    "\n",
    "p = 0.25\n",
    "q = 1 - p\n",
    "PXE3 = bino(9, 3, p, q)\n",
    "print(\"P(X = 3) = \" + str(PXE3))"
   ]
  },
  {
   "cell_type": "code",
   "execution_count": 2,
   "id": "d7f4697e-6eff-4540-ae0b-3f2579349f89",
   "metadata": {},
   "outputs": [
    {
     "name": "stdout",
     "output_type": "stream",
     "text": [
      "P(X > 7) = 0.0001068115234375\n"
     ]
    }
   ],
   "source": [
    "r = 7\n",
    "PXG7 = 0\n",
    "while r != 9:\n",
    "    r = r + 1\n",
    "    prob = bino(9, r, p, q)\n",
    "    PXG7 = PXG7 + prob\n",
    "\n",
    "print(\"P(X > 7) = \" + str(PXG7))"
   ]
  }
 ],
 "metadata": {
  "kernelspec": {
   "display_name": "Python 3 (ipykernel)",
   "language": "python",
   "name": "python3"
  },
  "language_info": {
   "codemirror_mode": {
    "name": "ipython",
    "version": 3
   },
   "file_extension": ".py",
   "mimetype": "text/x-python",
   "name": "python",
   "nbconvert_exporter": "python",
   "pygments_lexer": "ipython3",
   "version": "3.12.1"
  }
 },
 "nbformat": 4,
 "nbformat_minor": 5
}

{
 "cells": [
  {
   "cell_type": "markdown",
   "id": "8e8ccfc7-d00b-45c8-828f-ad5b470779a9",
   "metadata": {},
   "source": [
    "# Question 17\n",
    "-----"
   ]
  },
  {
   "cell_type": "code",
   "execution_count": 1,
   "id": "d3356664-c0ee-402e-87d0-9c701d3482bc",
   "metadata": {},
   "outputs": [],
   "source": [
    "import math\n",
    "\n",
    "def bino(n, r, p, q):\n",
    "    funk = ((math.factorial(n)) / (math.factorial(r) * math.factorial((n-r)))) * pow(q, (n-r)) * pow(p, r)\n",
    "    return funk"
   ]
  },
  {
   "cell_type": "code",
   "execution_count": 2,
   "id": "249cfc4e-2dff-443c-8756-c31aea6db56f",
   "metadata": {},
   "outputs": [
    {
     "name": "stdout",
     "output_type": "stream",
     "text": [
      "P(X > 7) = 0.000415802001953125\n"
     ]
    }
   ],
   "source": [
    "n = 10\n",
    "p = 0.25\n",
    "q = 1 - p\n",
    "\n",
    "r = 8\n",
    "PXE8 = bino(n, r, p, q)\n",
    "\n",
    "r = 9\n",
    "PXE9 = bino(n, r, p, q)\n",
    "\n",
    "r = 10\n",
    "PXE10 = bino(n, r, p, q)\n",
    "\n",
    "PXG7 = PXE8 + PXE9 + PXE10\n",
    "print(\"P(X > 7) = \" + str(PXG7))"
   ]
  },
  {
   "cell_type": "code",
   "execution_count": 3,
   "id": "954a62e0-f23d-4e3b-8892-7322b382c10b",
   "metadata": {},
   "outputs": [
    {
     "name": "stdout",
     "output_type": "stream",
     "text": [
      "P(X >= 5) = 0.019727706909179688\n"
     ]
    }
   ],
   "source": [
    "r = 5\n",
    "PXE5 = bino(n, r, p, q)\n",
    "\n",
    "r = 6\n",
    "PXE6 = bino(n, r, p, q)\n",
    "\n",
    "r = 7\n",
    "PXE7 = bino(n, r, p, q)\n",
    "\n",
    "PXGE5 = PXE6 + PXE7 + PXE8 + PXE9 + PXE10\n",
    "print(\"P(X >= 5) = \" + str(PXGE5))"
   ]
  }
 ],
 "metadata": {
  "kernelspec": {
   "display_name": "Python 3 (ipykernel)",
   "language": "python",
   "name": "python3"
  },
  "language_info": {
   "codemirror_mode": {
    "name": "ipython",
    "version": 3
   },
   "file_extension": ".py",
   "mimetype": "text/x-python",
   "name": "python",
   "nbconvert_exporter": "python",
   "pygments_lexer": "ipython3",
   "version": "3.12.1"
  }
 },
 "nbformat": 4,
 "nbformat_minor": 5
}

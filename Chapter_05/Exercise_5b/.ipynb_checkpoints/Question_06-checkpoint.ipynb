{
 "cells": [
  {
   "cell_type": "markdown",
   "id": "f38a2b83-9ede-47a7-ad01-5e30fcbdef31",
   "metadata": {},
   "source": [
    "# Question 6\n",
    "-----"
   ]
  },
  {
   "cell_type": "code",
   "execution_count": 1,
   "id": "23efc22b-70eb-45fc-b797-10e0d0916e37",
   "metadata": {},
   "outputs": [],
   "source": [
    "import math\n",
    "\n",
    "def bino(n, r, p, q):\n",
    "    funk = ((math.factorial(n)) / (math.factorial(r) * math.factorial((n-r)))) * pow(q, (n-r)) * pow(p, r)\n",
    "    return funk"
   ]
  },
  {
   "cell_type": "code",
   "execution_count": 2,
   "id": "6aac90c8-a948-4735-aa94-2b925a80b4e0",
   "metadata": {},
   "outputs": [
    {
     "name": "stdout",
     "output_type": "stream",
     "text": [
      "P(X = 2) = 0.3176522999999999\n"
     ]
    }
   ],
   "source": [
    "n = 7\n",
    "r = 2\n",
    "p = 0.3\n",
    "q = 1 - p\n",
    "PXE2 = bino(n, r, p, q)\n",
    "print(\"P(X = 2) = \" + str(PXE2))"
   ]
  },
  {
   "cell_type": "code",
   "execution_count": 3,
   "id": "6d6ef8d7-e310-44c4-8873-c860a0a63dda",
   "metadata": {},
   "outputs": [
    {
     "name": "stdout",
     "output_type": "stream",
     "text": [
      "P(X >= 2) = 0.6705828000000001\n"
     ]
    }
   ],
   "source": [
    "r = 0\n",
    "PXE0 = bino(n, r, p, q)\n",
    "\n",
    "r = 1\n",
    "PXE1 = bino(n, r, p, q)\n",
    "\n",
    "PXGE2 = 1 - (PXE0 + PXE1)\n",
    "print(\"P(X >= 2) = \" + str(PXGE2))"
   ]
  },
  {
   "cell_type": "code",
   "execution_count": 4,
   "id": "81bfbcab-be9d-4c6e-bb4c-1881bfacfaac",
   "metadata": {},
   "outputs": [
    {
     "name": "stdout",
     "output_type": "stream",
     "text": [
      "P(X <= 2) = 0.6470694999999997\n"
     ]
    }
   ],
   "source": [
    "PXLE2 = PXE0 + PXE1 + PXE2\n",
    "print(\"P(X <= 2) = \" + str(PXLE2))"
   ]
  },
  {
   "cell_type": "code",
   "execution_count": 5,
   "id": "fc78b96f-7ce4-4ede-be19-5635a1e2d510",
   "metadata": {},
   "outputs": [
    {
     "name": "stdout",
     "output_type": "stream",
     "text": [
      "3 consecutive = 0.032413499999999984\n"
     ]
    }
   ],
   "source": [
    "r = 3\n",
    "PXE3 = bino(n, r, p, q)\n",
    "consecutive = PXE3 / 7\n",
    "print(\"3 consecutive = \" + str(consecutive))"
   ]
  }
 ],
 "metadata": {
  "kernelspec": {
   "display_name": "Python 3 (ipykernel)",
   "language": "python",
   "name": "python3"
  },
  "language_info": {
   "codemirror_mode": {
    "name": "ipython",
    "version": 3
   },
   "file_extension": ".py",
   "mimetype": "text/x-python",
   "name": "python",
   "nbconvert_exporter": "python",
   "pygments_lexer": "ipython3",
   "version": "3.12.1"
  }
 },
 "nbformat": 4,
 "nbformat_minor": 5
}

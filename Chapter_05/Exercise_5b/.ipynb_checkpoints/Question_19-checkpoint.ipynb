{
 "cells": [
  {
   "cell_type": "markdown",
   "id": "50613881-4024-41eb-b0ff-c8d1f3818084",
   "metadata": {},
   "source": [
    "# Question 19\n",
    "-----"
   ]
  },
  {
   "cell_type": "markdown",
   "id": "be026977-bb97-4a22-b1b1-df06870aea4e",
   "metadata": {},
   "source": [
    "| x | 0 | 1 | 2 | 3 | 4 | 5 | 6 | 7 |\n",
    "| - | - | - | - | - | - | - | - | - |\n",
    "| P(X = x) | 0.0000 | 0.0001 | 0.0011 | 0.0109 | 0.0617 | 0.2096 | 0.3960 | 0.3206 |"
   ]
  }
 ],
 "metadata": {
  "kernelspec": {
   "display_name": "Python 3 (ipykernel)",
   "language": "python",
   "name": "python3"
  },
  "language_info": {
   "codemirror_mode": {
    "name": "ipython",
    "version": 3
   },
   "file_extension": ".py",
   "mimetype": "text/x-python",
   "name": "python",
   "nbconvert_exporter": "python",
   "pygments_lexer": "ipython3",
   "version": "3.12.1"
  }
 },
 "nbformat": 4,
 "nbformat_minor": 5
}

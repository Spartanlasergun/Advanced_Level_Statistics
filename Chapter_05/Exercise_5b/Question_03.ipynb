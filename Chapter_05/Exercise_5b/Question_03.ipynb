{
 "cells": [
  {
   "cell_type": "markdown",
   "id": "de088694-4b67-406d-87de-de715db77436",
   "metadata": {},
   "source": [
    "# Question 3\n",
    "-----"
   ]
  },
  {
   "cell_type": "code",
   "execution_count": 1,
   "id": "1c74d88a-97e2-4378-ad9e-cc56a924ed27",
   "metadata": {},
   "outputs": [],
   "source": [
    "import math\n",
    "\n",
    "def bino(n, r, p, q):\n",
    "    funk = ((math.factorial(n)) / (math.factorial(r) * math.factorial((n-r)))) * pow(q, (n-r)) * pow(p, r)\n",
    "    return funk"
   ]
  },
  {
   "cell_type": "code",
   "execution_count": 2,
   "id": "07815d7c-eac8-408d-9e11-1606bd61b424",
   "metadata": {},
   "outputs": [
    {
     "name": "stdout",
     "output_type": "stream",
     "text": [
      "P(X = 3) = 0.27869184\n"
     ]
    }
   ],
   "source": [
    "n = 8\n",
    "p = 0.4\n",
    "q = 1 - p\n",
    "r = 3\n",
    "PXE3 = bino(n, r, p, q)\n",
    "print(\"P(X = 3) = \" + str(PXE3))"
   ]
  },
  {
   "cell_type": "code",
   "execution_count": 3,
   "id": "d97421bc-dce7-4fe6-be9a-fc92d2d01a3f",
   "metadata": {},
   "outputs": [
    {
     "name": "stdout",
     "output_type": "stream",
     "text": [
      "P(X != 0) = 0.98320384\n"
     ]
    }
   ],
   "source": [
    "r = 0\n",
    "PXE0 = bino(n, r, p, q)\n",
    "atleastone = 1 - PXE0\n",
    "print(\"P(X != 0) = \" + str(atleastone))"
   ]
  },
  {
   "cell_type": "code",
   "execution_count": 4,
   "id": "2fa328cf-bf83-4b11-9f55-6b245143d007",
   "metadata": {},
   "outputs": [
    {
     "name": "stdout",
     "output_type": "stream",
     "text": [
      "P(X < 4) = 0.5940864\n"
     ]
    }
   ],
   "source": [
    "r = 1\n",
    "PXE1 = bino(n, r, p, q)\n",
    "\n",
    "r = 2\n",
    "PXE2 = bino(n, r, p, q)\n",
    "\n",
    "PXL4 = PXE0 + PXE1 + PXE2 + PXE3\n",
    "print(\"P(X < 4) = \" + str(PXL4))"
   ]
  }
 ],
 "metadata": {
  "kernelspec": {
   "display_name": "Python 3 (ipykernel)",
   "language": "python",
   "name": "python3"
  },
  "language_info": {
   "codemirror_mode": {
    "name": "ipython",
    "version": 3
   },
   "file_extension": ".py",
   "mimetype": "text/x-python",
   "name": "python",
   "nbconvert_exporter": "python",
   "pygments_lexer": "ipython3",
   "version": "3.12.1"
  }
 },
 "nbformat": 4,
 "nbformat_minor": 5
}

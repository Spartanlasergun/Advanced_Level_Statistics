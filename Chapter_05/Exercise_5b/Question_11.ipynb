{
 "cells": [
  {
   "cell_type": "markdown",
   "id": "9a53e99d-f912-44be-a7fc-ff04f64977cc",
   "metadata": {},
   "source": [
    "# Question 11\n",
    "-----"
   ]
  },
  {
   "cell_type": "code",
   "execution_count": 1,
   "id": "0f350bb2-a256-49a8-98a0-7dfe57d73348",
   "metadata": {},
   "outputs": [],
   "source": [
    "import math\n",
    "\n",
    "def bino(n, r, p, q):\n",
    "    funk = ((math.factorial(n)) / (math.factorial(r) * math.factorial((n-r)))) * pow(q, (n-r)) * pow(p, r)\n",
    "    return funk"
   ]
  },
  {
   "cell_type": "code",
   "execution_count": 2,
   "id": "d2250374-7c92-4268-b8c8-eac6621a6f8e",
   "metadata": {},
   "outputs": [
    {
     "name": "stdout",
     "output_type": "stream",
     "text": [
      "P(X <= 2) = 0.09625600000000004\n"
     ]
    }
   ],
   "source": [
    "n = 7\n",
    "p = 0.6\n",
    "q = 1 - p\n",
    "\n",
    "r = 0\n",
    "PXE0 = bino(n, r, p, q)\n",
    "\n",
    "r = 1\n",
    "PXE1 = bino(n, r, p, q)\n",
    "\n",
    "r = 2\n",
    "PXE2 = bino(n, r, p, q)\n",
    "\n",
    "PXLE2 = PXE0 + PXE1 + PXE2\n",
    "print(\"P(X <= 2) = \" + str(PXLE2))"
   ]
  },
  {
   "cell_type": "markdown",
   "id": "023d7c53-76b9-46c6-aeb5-f4e1561103f1",
   "metadata": {},
   "source": [
    "The person may improve with practice"
   ]
  }
 ],
 "metadata": {
  "kernelspec": {
   "display_name": "Python 3 (ipykernel)",
   "language": "python",
   "name": "python3"
  },
  "language_info": {
   "codemirror_mode": {
    "name": "ipython",
    "version": 3
   },
   "file_extension": ".py",
   "mimetype": "text/x-python",
   "name": "python",
   "nbconvert_exporter": "python",
   "pygments_lexer": "ipython3",
   "version": "3.12.1"
  }
 },
 "nbformat": 4,
 "nbformat_minor": 5
}

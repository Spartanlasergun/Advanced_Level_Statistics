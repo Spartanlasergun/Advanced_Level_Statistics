{
 "cells": [
  {
   "cell_type": "markdown",
   "id": "f68dfa58-aad7-4e70-851d-03ac1c1b6912",
   "metadata": {},
   "source": [
    "# Question 21\n",
    "-----"
   ]
  },
  {
   "cell_type": "markdown",
   "id": "023dcb62-0f2b-4b31-a3e5-5264ee6187ad",
   "metadata": {},
   "source": [
    "Experiment 1: No\n",
    "\n",
    "Experiment 2: Yes\n",
    "\n",
    "Experiment 3: No"
   ]
  }
 ],
 "metadata": {
  "kernelspec": {
   "display_name": "Python 3 (ipykernel)",
   "language": "python",
   "name": "python3"
  },
  "language_info": {
   "codemirror_mode": {
    "name": "ipython",
    "version": 3
   },
   "file_extension": ".py",
   "mimetype": "text/x-python",
   "name": "python",
   "nbconvert_exporter": "python",
   "pygments_lexer": "ipython3",
   "version": "3.12.1"
  }
 },
 "nbformat": 4,
 "nbformat_minor": 5
}

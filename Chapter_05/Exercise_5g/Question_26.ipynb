{
 "cells": [
  {
   "cell_type": "markdown",
   "id": "ae61b9f3-489f-4ca3-97fb-e6e439545f36",
   "metadata": {},
   "source": [
    "# Question 26\n",
    "-----"
   ]
  },
  {
   "cell_type": "code",
   "execution_count": 1,
   "id": "32cd9fc7-bd39-4128-89ec-6ae70684035f",
   "metadata": {},
   "outputs": [],
   "source": [
    "import math\n",
    "\n",
    "class poisson:\n",
    "    def __init__(self, lamb):\n",
    "        self.lamb = lamb\n",
    "\n",
    "    def prob(self, x):\n",
    "        pois = math.exp(-self.lamb) * (pow(self.lamb, x) / math.factorial(x))\n",
    "        return pois\n",
    "\n",
    "    def freq(self, event, sample):\n",
    "        freq = self.prob(event) * sample \n",
    "        freq = round(freq, 0)\n",
    "        return freq"
   ]
  },
  {
   "cell_type": "code",
   "execution_count": 2,
   "id": "4d6dbe7d-d90a-48e5-8fde-bfa5e6961035",
   "metadata": {},
   "outputs": [
    {
     "name": "stdout",
     "output_type": "stream",
     "text": [
      "P(X = 0) = 0.38674102345450123\n"
     ]
    }
   ],
   "source": [
    "pois_dist = poisson(0.95)\n",
    "PXE0 = pois_dist.prob(0)\n",
    "print(\"P(X = 0) = \" + str(PXE0))"
   ]
  },
  {
   "cell_type": "code",
   "execution_count": 3,
   "id": "94210ce3-5f2d-4327-a623-476ac7392e24",
   "metadata": {},
   "outputs": [
    {
     "name": "stdout",
     "output_type": "stream",
     "text": [
      "P(X <= 2) = 0.9286618825701211\n"
     ]
    }
   ],
   "source": [
    "PXE1 = pois_dist.prob(1)\n",
    "PXE2 = pois_dist.prob(2)\n",
    "PXLE2 = PXE0 + PXE1 + PXE2\n",
    "print(\"P(X <= 2) = \" + str(PXLE2))"
   ]
  },
  {
   "cell_type": "code",
   "execution_count": 4,
   "id": "a0516e88-88d4-49a3-a75f-df1ecc11bb08",
   "metadata": {},
   "outputs": [
    {
     "name": "stdout",
     "output_type": "stream",
     "text": [
      "P(X >= 2) = 0.8926202950904051\n"
     ]
    }
   ],
   "source": [
    "mean = 0.95 * 4\n",
    "event = poisson(mean)\n",
    "PXE0 = event.prob(0)\n",
    "PXE1 = event.prob(1)\n",
    "PXGE2 = 1 - (PXE0 + PXE1)\n",
    "print(\"P(X >= 2) = \" + str(PXGE2))"
   ]
  },
  {
   "cell_type": "code",
   "execution_count": 5,
   "id": "f3ecc241-3f20-4169-a47d-4663abc9994e",
   "metadata": {},
   "outputs": [
    {
     "name": "stdout",
     "output_type": "stream",
     "text": [
      "P(X = 3) = 0.20458816554858644\n"
     ]
    }
   ],
   "source": [
    "PXE3 = event.prob(3)\n",
    "print(\"P(X = 3) = \" + str(PXE3))"
   ]
  },
  {
   "cell_type": "code",
   "execution_count": 6,
   "id": "d8873fdc-5306-431c-a457-b7485d89d5c8",
   "metadata": {},
   "outputs": [
    {
     "name": "stdout",
     "output_type": "stream",
     "text": [
      "P(X <= 5) = 0.8155562560569335\n"
     ]
    }
   ],
   "source": [
    "PXE2 = event.prob(2)\n",
    "PXE4 = event.prob(4)\n",
    "PXE5 = event.prob(5)\n",
    "PXLE5 = PXE0 + PXE1 + PXE2 + PXE3 + PXE4 + PXE5\n",
    "print(\"P(X <= 5) = \" + str(PXLE5))"
   ]
  },
  {
   "cell_type": "code",
   "execution_count": 7,
   "id": "72211fc0-7fa5-41e9-bd44-1e324d304359",
   "metadata": {},
   "outputs": [
    {
     "name": "stdout",
     "output_type": "stream",
     "text": [
      "P(X = 3) = 6.404930127511354e-06\n"
     ]
    }
   ],
   "source": [
    "mean = 0.95 * 4 * 5\n",
    "event = poisson(mean)\n",
    "PXE3 = event.prob(3)\n",
    "print(\"P(X = 3) = \" + str(PXE3))"
   ]
  }
 ],
 "metadata": {
  "kernelspec": {
   "display_name": "Python 3 (ipykernel)",
   "language": "python",
   "name": "python3"
  },
  "language_info": {
   "codemirror_mode": {
    "name": "ipython",
    "version": 3
   },
   "file_extension": ".py",
   "mimetype": "text/x-python",
   "name": "python",
   "nbconvert_exporter": "python",
   "pygments_lexer": "ipython3",
   "version": "3.12.1"
  }
 },
 "nbformat": 4,
 "nbformat_minor": 5
}

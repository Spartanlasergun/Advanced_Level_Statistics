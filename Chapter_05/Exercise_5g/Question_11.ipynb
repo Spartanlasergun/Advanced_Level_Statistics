{
 "cells": [
  {
   "cell_type": "markdown",
   "id": "f2a381dc-3653-4093-89f5-e791dcc1e577",
   "metadata": {},
   "source": [
    "# Question 11\n",
    "-----"
   ]
  },
  {
   "cell_type": "code",
   "execution_count": 1,
   "id": "1446847b-57ba-427e-b04a-855d3b1f8aeb",
   "metadata": {},
   "outputs": [],
   "source": [
    "import math\n",
    "\n",
    "class poisson:\n",
    "    def __init__(self, lamb):\n",
    "        self.lamb = lamb\n",
    "\n",
    "    def prob(self, x):\n",
    "        pois = math.exp(-self.lamb) * (pow(self.lamb, x) / math.factorial(x))\n",
    "        return pois\n",
    "\n",
    "    def freq(self, event, sample):\n",
    "        freq = self.prob(event) * sample \n",
    "        freq = round(freq, 0)\n",
    "        return freq"
   ]
  },
  {
   "cell_type": "code",
   "execution_count": 2,
   "id": "4414de26-0f61-49d6-bb8e-41285db6f2ea",
   "metadata": {},
   "outputs": [
    {
     "name": "stdout",
     "output_type": "stream",
     "text": [
      "P(X = 6) = 0.1041956345670211\n"
     ]
    }
   ],
   "source": [
    "pois_dist = poisson(4)\n",
    "PXE6 = pois_dist.prob(6)\n",
    "print(\"P(X = 6) = \" + str(PXE6))"
   ]
  },
  {
   "cell_type": "code",
   "execution_count": 4,
   "id": "707d3a79-8605-4685-a3a4-f4a2c069a5cd",
   "metadata": {},
   "outputs": [
    {
     "name": "stdout",
     "output_type": "stream",
     "text": [
      "P(X >= 10) = 0.28337574127298915\n"
     ]
    }
   ],
   "source": [
    "event = poisson(8)\n",
    "x = -1\n",
    "calc = 0\n",
    "while x != 9:\n",
    "    x = x + 1\n",
    "    prob = event.prob(x)\n",
    "    calc = calc + prob\n",
    "PXGE10 = 1 - calc\n",
    "print(\"P(X >= 10) = \" + str(PXGE10))"
   ]
  },
  {
   "cell_type": "code",
   "execution_count": 7,
   "id": "4cf7f39b-eb53-44ad-a239-966b8933fd72",
   "metadata": {},
   "outputs": [
    {
     "name": "stdout",
     "output_type": "stream",
     "text": [
      "P(X = 3) = 0.0011312238990579498\n"
     ]
    }
   ],
   "source": [
    "PXE6 = pois_dist.prob(6)\n",
    "week3 = pow(PXE6, 3)\n",
    "print(\"P(X = 3) = \" + str(week3))"
   ]
  }
 ],
 "metadata": {
  "kernelspec": {
   "display_name": "Python 3 (ipykernel)",
   "language": "python",
   "name": "python3"
  },
  "language_info": {
   "codemirror_mode": {
    "name": "ipython",
    "version": 3
   },
   "file_extension": ".py",
   "mimetype": "text/x-python",
   "name": "python",
   "nbconvert_exporter": "python",
   "pygments_lexer": "ipython3",
   "version": "3.12.1"
  }
 },
 "nbformat": 4,
 "nbformat_minor": 5
}

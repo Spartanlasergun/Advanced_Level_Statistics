{
 "cells": [
  {
   "cell_type": "markdown",
   "id": "88b66340-a461-43c6-ae1b-7ba3435cf847",
   "metadata": {},
   "source": [
    "# Question 14\n",
    "-----"
   ]
  },
  {
   "cell_type": "code",
   "execution_count": 1,
   "id": "c3f8e2e7-7c1b-41ad-81ae-647a17841e94",
   "metadata": {},
   "outputs": [],
   "source": [
    "import math\n",
    "\n",
    "class bino:\n",
    "    def __init__(self, n, p, q):\n",
    "        self.n = n\n",
    "        self.p = p\n",
    "        self.q = q\n",
    "        self.frequencies = []\n",
    "\n",
    "    def prob(self, r):\n",
    "        self.funk = ((math.factorial(self.n)) / (math.factorial(r) * math.factorial(((self.n)-r)))) * pow((self.q), ((self.n)-r)) * pow((self.p), r)\n",
    "        return self.funk\n",
    "\n",
    "    def freq(self, event, r):\n",
    "        event_prob = self.prob(r)\n",
    "        frequency = event_prob * event\n",
    "        frequency = round(frequency, 0)\n",
    "        return frequency"
   ]
  },
  {
   "cell_type": "code",
   "execution_count": 2,
   "id": "688fe7f8-021e-47a5-8b0d-7d81245a827c",
   "metadata": {},
   "outputs": [
    {
     "name": "stdout",
     "output_type": "stream",
     "text": [
      "P(X = 4) = 0.31104000000000004\n"
     ]
    }
   ],
   "source": [
    "bin_dist = bino(6, 0.6, 0.4)\n",
    "PXE4 = bin_dist.prob(4)\n",
    "print(\"P(X = 4) = \" + str(PXE4))"
   ]
  },
  {
   "cell_type": "code",
   "execution_count": 3,
   "id": "e0b860cf-ebd8-4427-b6db-61b38ea948b3",
   "metadata": {},
   "outputs": [
    {
     "name": "stdout",
     "output_type": "stream",
     "text": [
      "P(X >=2) = 0.95904\n"
     ]
    }
   ],
   "source": [
    "PXE0 = bin_dist.prob(0)\n",
    "PXE1 = bin_dist.prob(1)\n",
    "PXGE2 = 1 - (PXE0 + PXE1)\n",
    "print(\"P(X >=2) = \" + str(PXGE2)) "
   ]
  },
  {
   "cell_type": "code",
   "execution_count": 4,
   "id": "3aa0147a-80ea-4dc9-806f-0b31e1c8489e",
   "metadata": {},
   "outputs": [
    {
     "name": "stdout",
     "output_type": "stream",
     "text": [
      "E(X) = 3.5999999999999996\n"
     ]
    }
   ],
   "source": [
    "EX = 0.6 * 6\n",
    "print(\"E(X) = \" + str(EX))"
   ]
  },
  {
   "cell_type": "code",
   "execution_count": 5,
   "id": "c886c24c-ca23-4cfd-96a4-f4742936ee5b",
   "metadata": {},
   "outputs": [
    {
     "name": "stdout",
     "output_type": "stream",
     "text": [
      "std = 1.2\n"
     ]
    }
   ],
   "source": [
    "var = 6 * 0.6 * 0.4\n",
    "std = math.sqrt(var)\n",
    "print(\"std = \" + str(std))"
   ]
  }
 ],
 "metadata": {
  "kernelspec": {
   "display_name": "Python 3 (ipykernel)",
   "language": "python",
   "name": "python3"
  },
  "language_info": {
   "codemirror_mode": {
    "name": "ipython",
    "version": 3
   },
   "file_extension": ".py",
   "mimetype": "text/x-python",
   "name": "python",
   "nbconvert_exporter": "python",
   "pygments_lexer": "ipython3",
   "version": "3.12.1"
  }
 },
 "nbformat": 4,
 "nbformat_minor": 5
}

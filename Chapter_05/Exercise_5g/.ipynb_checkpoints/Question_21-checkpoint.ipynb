{
 "cells": [
  {
   "cell_type": "markdown",
   "id": "2753bf68-c81d-416a-a028-047b77d7bcc8",
   "metadata": {},
   "source": [
    "# Question 21\n",
    "-----"
   ]
  },
  {
   "cell_type": "code",
   "execution_count": 1,
   "id": "05f84c2d-a361-48be-93c1-220d1c5e8c0c",
   "metadata": {},
   "outputs": [
    {
     "name": "stdout",
     "output_type": "stream",
     "text": [
      "length = 600.0m\n"
     ]
    }
   ],
   "source": [
    "length = (2000 * 30) / 100\n",
    "print(\"length = \" + str(length) + \"m\")"
   ]
  },
  {
   "cell_type": "code",
   "execution_count": 2,
   "id": "b891854a-fbcc-4677-9625-f4926e52cb87",
   "metadata": {},
   "outputs": [
    {
     "name": "stdout",
     "output_type": "stream",
     "text": [
      "average faults per box = 2.5\n"
     ]
    }
   ],
   "source": [
    "perbox = 600 / 240\n",
    "print(\"average faults per box = \" + str(perbox))"
   ]
  },
  {
   "cell_type": "markdown",
   "id": "8cc2db02-5775-434c-ba7e-9e9bebf96ae6",
   "metadata": {},
   "source": [
    "$$X \\sim Po(2.5)$$"
   ]
  },
  {
   "cell_type": "code",
   "execution_count": 3,
   "id": "e9bafa0c-1b05-433e-aba9-f64899850d9a",
   "metadata": {},
   "outputs": [],
   "source": [
    "import math\n",
    "\n",
    "class poisson:\n",
    "    def __init__(self, lamb):\n",
    "        self.lamb = lamb\n",
    "\n",
    "    def prob(self, x):\n",
    "        pois = math.exp(-self.lamb) * (pow(self.lamb, x) / math.factorial(x))\n",
    "        return pois\n",
    "\n",
    "    def freq(self, event, sample):\n",
    "        freq = self.prob(event) * sample \n",
    "        freq = round(freq, 0)\n",
    "        return freq"
   ]
  },
  {
   "cell_type": "code",
   "execution_count": 4,
   "id": "5229c810-5882-428b-b311-ad15f0d13066",
   "metadata": {},
   "outputs": [
    {
     "name": "stdout",
     "output_type": "stream",
     "text": [
      "P(X = 0) = 0.0820849986238988\n"
     ]
    }
   ],
   "source": [
    "pois_dist = poisson(2.5)\n",
    "PXE0 = pois_dist.prob(0)\n",
    "print(\"P(X = 0) = \" + str(PXE0))"
   ]
  },
  {
   "cell_type": "code",
   "execution_count": 5,
   "id": "e031ac01-52bf-434e-90af-38ed41d8d316",
   "metadata": {},
   "outputs": [
    {
     "name": "stdout",
     "output_type": "stream",
     "text": [
      "P(X > 4) = 0.10882198108584884\n"
     ]
    }
   ],
   "source": [
    "PXE1 = pois_dist.prob(1)\n",
    "PXE2 = pois_dist.prob(2)\n",
    "PXE3 = pois_dist.prob(3)\n",
    "PXE4 = pois_dist.prob(4)\n",
    "PXG4 = 1 - (PXE0 + PXE1 + PXE2 + PXE3 + PXE4)\n",
    "print(\"P(X > 4) = \" + str(PXG4))"
   ]
  },
  {
   "cell_type": "code",
   "execution_count": 6,
   "id": "953f362a-a194-47fa-b87d-adf8929a2476",
   "metadata": {},
   "outputs": [
    {
     "name": "stdout",
     "output_type": "stream",
     "text": [
      "P(X = 0) = 0.7788007830714049\n"
     ]
    }
   ],
   "source": [
    "length = (200 * 30) / 100\n",
    "faults = length / 240\n",
    "event = poisson(faults)\n",
    "PXE0 = event.prob(0)\n",
    "print(\"P(X = 0) = \" + str(PXE0))"
   ]
  },
  {
   "cell_type": "code",
   "execution_count": 7,
   "id": "cab45950-c8f6-4908-9dbf-4873ba21f392",
   "metadata": {},
   "outputs": [
    {
     "name": "stdout",
     "output_type": "stream",
     "text": [
      "one copy faulty = 0.207392239026381\n"
     ]
    }
   ],
   "source": [
    "length = (100 * 30) / 100\n",
    "faults = length / 240\n",
    "event = poisson(faults)\n",
    "notfaulty = event.prob(0)\n",
    "faulty = 1 - notfaulty\n",
    "pro = (notfaulty * faulty) * 2\n",
    "print(\"one copy faulty = \" + str(pro))"
   ]
  }
 ],
 "metadata": {
  "kernelspec": {
   "display_name": "Python 3 (ipykernel)",
   "language": "python",
   "name": "python3"
  },
  "language_info": {
   "codemirror_mode": {
    "name": "ipython",
    "version": 3
   },
   "file_extension": ".py",
   "mimetype": "text/x-python",
   "name": "python",
   "nbconvert_exporter": "python",
   "pygments_lexer": "ipython3",
   "version": "3.12.1"
  }
 },
 "nbformat": 4,
 "nbformat_minor": 5
}

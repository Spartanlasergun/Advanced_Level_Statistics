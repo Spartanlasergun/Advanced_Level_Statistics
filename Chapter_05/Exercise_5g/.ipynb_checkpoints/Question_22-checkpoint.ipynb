{
 "cells": [
  {
   "cell_type": "markdown",
   "id": "cad91131-9241-4c00-b59f-d1c25aa928d9",
   "metadata": {},
   "source": [
    "# Question 22\n",
    "-----"
   ]
  },
  {
   "cell_type": "code",
   "execution_count": 1,
   "id": "1fd19277-47dd-4c26-a7eb-d865d8867739",
   "metadata": {},
   "outputs": [],
   "source": [
    "import math\n",
    "\n",
    "class poisson:\n",
    "    def __init__(self, lamb):\n",
    "        self.lamb = lamb\n",
    "\n",
    "    def prob(self, x):\n",
    "        pois = math.exp(-self.lamb) * (pow(self.lamb, x) / math.factorial(x))\n",
    "        return pois\n",
    "\n",
    "    def freq(self, event, sample):\n",
    "        freq = self.prob(event) * sample \n",
    "        freq = round(freq, 0)\n",
    "        return freq"
   ]
  },
  {
   "cell_type": "code",
   "execution_count": 2,
   "id": "33189445-893b-4c53-9184-50d444e2c1e2",
   "metadata": {},
   "outputs": [
    {
     "name": "stdout",
     "output_type": "stream",
     "text": [
      "no broken noses = 0.778800783071405\n"
     ]
    }
   ],
   "source": [
    "mean = 1/12\n",
    "pois_dist = poisson(mean)\n",
    "PXE0 = pois_dist.prob(0)\n",
    "doctors3 = pow(PXE0, 3)\n",
    "print(\"no broken noses = \" + str(doctors3))"
   ]
  },
  {
   "cell_type": "code",
   "execution_count": 3,
   "id": "c78df884-5e55-4ad7-b2d5-728523a35575",
   "metadata": {},
   "outputs": [
    {
     "name": "stdout",
     "output_type": "stream",
     "text": [
      "Var(3X) = 1.5\n"
     ]
    }
   ],
   "source": [
    "mean = 1/6\n",
    "var = pow(3, 2) * mean\n",
    "print(\"Var(3X) = \" + str(var))"
   ]
  },
  {
   "cell_type": "code",
   "execution_count": 4,
   "id": "9fdbe22e-2963-4a6f-9214-46dcaf148f96",
   "metadata": {},
   "outputs": [
    {
     "name": "stdout",
     "output_type": "stream",
     "text": [
      "3 cases per year = 0.5768099188731565\n"
     ]
    }
   ],
   "source": [
    "mean = 3\n",
    "event = poisson(mean)\n",
    "PXE0 = event.prob(0)\n",
    "PXE1 = event.prob(1)\n",
    "PXE2 = event.prob(2)\n",
    "PXGE3 = 1 - (PXE0 + PXE1 + PXE2)\n",
    "print(\"3 cases per year = \" + str(PXGE3))"
   ]
  },
  {
   "cell_type": "code",
   "execution_count": 5,
   "id": "a0b8b9b1-0401-45d8-b554-4ab609e3cb19",
   "metadata": {},
   "outputs": [
    {
     "name": "stdout",
     "output_type": "stream",
     "text": [
      "event = 0.024893534183931976\n"
     ]
    }
   ],
   "source": [
    "mean = 1\n",
    "event = poisson(mean)\n",
    "cases3 = event.prob(3)\n",
    "nocases = event.prob(0)\n",
    "pro = cases3 * nocases * nocases * 3\n",
    "print(\"event = \" + str(pro))"
   ]
  }
 ],
 "metadata": {
  "kernelspec": {
   "display_name": "Python 3 (ipykernel)",
   "language": "python",
   "name": "python3"
  },
  "language_info": {
   "codemirror_mode": {
    "name": "ipython",
    "version": 3
   },
   "file_extension": ".py",
   "mimetype": "text/x-python",
   "name": "python",
   "nbconvert_exporter": "python",
   "pygments_lexer": "ipython3",
   "version": "3.12.1"
  }
 },
 "nbformat": 4,
 "nbformat_minor": 5
}

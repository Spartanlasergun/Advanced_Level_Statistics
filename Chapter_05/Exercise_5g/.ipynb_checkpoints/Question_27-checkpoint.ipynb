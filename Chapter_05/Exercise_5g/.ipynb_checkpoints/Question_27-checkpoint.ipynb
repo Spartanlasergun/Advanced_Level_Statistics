{
 "cells": [
  {
   "cell_type": "markdown",
   "id": "d995530f-f031-4620-8904-2c051e04b370",
   "metadata": {},
   "source": [
    "# Question 27\n",
    "-----"
   ]
  },
  {
   "cell_type": "code",
   "execution_count": 1,
   "id": "f3f8514f-fdb7-4782-a8fc-1689bd251314",
   "metadata": {},
   "outputs": [],
   "source": [
    "import math\n",
    "\n",
    "class poisson:\n",
    "    def __init__(self, lamb):\n",
    "        self.lamb = lamb\n",
    "\n",
    "    def prob(self, x):\n",
    "        pois = math.exp(-self.lamb) * (pow(self.lamb, x) / math.factorial(x))\n",
    "        return pois\n",
    "\n",
    "    def freq(self, event, sample):\n",
    "        freq = self.prob(event) * sample \n",
    "        freq = round(freq, 0)\n",
    "        return freq"
   ]
  },
  {
   "cell_type": "code",
   "execution_count": 2,
   "id": "351dc9d3-2d37-474c-8d8c-16f92fb6e1f6",
   "metadata": {},
   "outputs": [
    {
     "name": "stdout",
     "output_type": "stream",
     "text": [
      "P(X >= 2) = 0.09020401043104986\n"
     ]
    }
   ],
   "source": [
    "pois_dist = poisson(0.5)\n",
    "PXE0 = pois_dist.prob(0)\n",
    "PXE1 = pois_dist.prob(1)\n",
    "PXGE2 = 1 - (PXE0 + PXE1)\n",
    "print(\"P(X >= 2) = \" + str(PXGE2))"
   ]
  },
  {
   "cell_type": "code",
   "execution_count": 3,
   "id": "ba3a1b66-8c6f-4494-a9fc-300c30827794",
   "metadata": {},
   "outputs": [
    {
     "name": "stdout",
     "output_type": "stream",
     "text": [
      "P(X = 3) = 0.061313240195240384\n"
     ]
    }
   ],
   "source": [
    "mean = 0.5 * 2\n",
    "event = poisson(mean)\n",
    "PXE3 = event.prob(3)\n",
    "print(\"P(X = 3) = \" + str(PXE3))"
   ]
  },
  {
   "cell_type": "code",
   "execution_count": 4,
   "id": "87383f38-ee6c-44d8-a96d-16242c60339b",
   "metadata": {},
   "outputs": [
    {
     "name": "stdout",
     "output_type": "stream",
     "text": [
      "F(X = 0) = 4.0\n"
     ]
    }
   ],
   "source": [
    "mean = 0.5 * 5\n",
    "event = poisson(mean)\n",
    "FXE0 = event.freq(0, 50)\n",
    "print(\"F(X = 0) = \" + str(FXE0))"
   ]
  }
 ],
 "metadata": {
  "kernelspec": {
   "display_name": "Python 3 (ipykernel)",
   "language": "python",
   "name": "python3"
  },
  "language_info": {
   "codemirror_mode": {
    "name": "ipython",
    "version": 3
   },
   "file_extension": ".py",
   "mimetype": "text/x-python",
   "name": "python",
   "nbconvert_exporter": "python",
   "pygments_lexer": "ipython3",
   "version": "3.12.1"
  }
 },
 "nbformat": 4,
 "nbformat_minor": 5
}

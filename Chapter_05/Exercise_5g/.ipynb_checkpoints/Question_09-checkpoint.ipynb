{
 "cells": [
  {
   "cell_type": "markdown",
   "id": "d99460e6-f8a8-495d-8e9b-83cb46e1193e",
   "metadata": {},
   "source": [
    "# Question 9\n",
    "-----"
   ]
  },
  {
   "cell_type": "markdown",
   "id": "af5c3905-469e-4b21-a31f-9c1ca0da498b",
   "metadata": {},
   "source": [
    "$$ n < 50$$\n",
    "\n",
    "$$ p = \\frac{1260}{5250} = 0.24$$\n",
    "\n",
    "Hence, $p > 0.1$\n",
    "\n",
    "Thus a binomial model is appropriate:\n",
    "\n",
    "$$X \\sim B(10, 0.24)$$"
   ]
  },
  {
   "cell_type": "code",
   "execution_count": 1,
   "id": "85b0a151-8ba8-4a4e-87d5-96344026ad98",
   "metadata": {},
   "outputs": [],
   "source": [
    "import math\n",
    "\n",
    "class bino:\n",
    "    def __init__(self, n, p, q):\n",
    "        self.n = n\n",
    "        self.p = p\n",
    "        self.q = q\n",
    "        self.frequencies = []\n",
    "\n",
    "    def prob(self, r):\n",
    "        self.funk = ((math.factorial(self.n)) / (math.factorial(r) * math.factorial(((self.n)-r)))) * pow((self.q), ((self.n)-r)) * pow((self.p), r)\n",
    "        return self.funk\n",
    "\n",
    "    def freq(self, event, r):\n",
    "        event_prob = self.prob(r)\n",
    "        frequency = event_prob * event\n",
    "        frequency = round(frequency, 0)\n",
    "        return frequency"
   ]
  },
  {
   "cell_type": "code",
   "execution_count": 2,
   "id": "1cbb3062-375f-41c3-a45f-1a462ac10aca",
   "metadata": {},
   "outputs": [
    {
     "name": "stdout",
     "output_type": "stream",
     "text": [
      "P(X = 3) = 0.2429462037122777\n"
     ]
    }
   ],
   "source": [
    "bin_dist = bino(10, 0.24, 0.76)\n",
    "PXE3 = bin_dist.prob(3)\n",
    "print(\"P(X = 3) = \" + str(PXE3))"
   ]
  },
  {
   "cell_type": "code",
   "execution_count": 3,
   "id": "64824ca7-0ec5-45d9-b94f-d12121d9fd73",
   "metadata": {},
   "outputs": [
    {
     "name": "stdout",
     "output_type": "stream",
     "text": [
      "P(X <= 3) = 0.7987512551757946\n"
     ]
    }
   ],
   "source": [
    "PXE0 = bin_dist.prob(0)\n",
    "PXE1 = bin_dist.prob(1)\n",
    "PXE2 = bin_dist.prob(2)\n",
    "PXLE3 = PXE0 + PXE1 + PXE2 + PXE3\n",
    "print(\"P(X <= 3) = \" + str(PXLE3))"
   ]
  }
 ],
 "metadata": {
  "kernelspec": {
   "display_name": "Python 3 (ipykernel)",
   "language": "python",
   "name": "python3"
  },
  "language_info": {
   "codemirror_mode": {
    "name": "ipython",
    "version": 3
   },
   "file_extension": ".py",
   "mimetype": "text/x-python",
   "name": "python",
   "nbconvert_exporter": "python",
   "pygments_lexer": "ipython3",
   "version": "3.12.1"
  }
 },
 "nbformat": 4,
 "nbformat_minor": 5
}

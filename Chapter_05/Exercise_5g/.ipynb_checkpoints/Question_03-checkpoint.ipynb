{
 "cells": [
  {
   "cell_type": "markdown",
   "id": "48f5c4b2-4c45-445c-8747-a7ef9bb1e6b4",
   "metadata": {},
   "source": [
    "# Question 3\n",
    "-----"
   ]
  },
  {
   "cell_type": "code",
   "execution_count": 1,
   "id": "6ebe8741-bd39-42f9-99dc-e9bd869120bb",
   "metadata": {},
   "outputs": [],
   "source": [
    "import math\n",
    "\n",
    "class bino:\n",
    "    def __init__(self, n, p, q):\n",
    "        self.n = n\n",
    "        self.p = p\n",
    "        self.q = q\n",
    "        self.frequencies = []\n",
    "\n",
    "    def prob(self, r):\n",
    "        self.funk = ((math.factorial(self.n)) / (math.factorial(r) * math.factorial(((self.n)-r)))) * pow((self.q), ((self.n)-r)) * pow((self.p), r)\n",
    "        return self.funk\n",
    "\n",
    "    def freq(self, event, r):\n",
    "        event_prob = self.prob(r)\n",
    "        frequency = event_prob * event\n",
    "        frequency = round(frequency, 0)\n",
    "        return frequency"
   ]
  },
  {
   "cell_type": "code",
   "execution_count": 2,
   "id": "97754fe3-45de-4732-92f2-af54557b3864",
   "metadata": {},
   "outputs": [
    {
     "name": "stdout",
     "output_type": "stream",
     "text": [
      "P(X <= 2) = 0.7334295873170626\n"
     ]
    }
   ],
   "source": [
    "bin_dist = bino(20, 0.09, 0.91)\n",
    "PXE0 = bin_dist.prob(0)\n",
    "PXE1 = bin_dist.prob(1)\n",
    "PXE2 = bin_dist.prob(2)\n",
    "PXLE2 = PXE0 + PXE1 + PXE2\n",
    "print(\"P(X <= 2) = \" + str(PXLE2))"
   ]
  },
  {
   "cell_type": "code",
   "execution_count": 3,
   "id": "43717f7f-befc-454b-a5c9-83a38a137ba2",
   "metadata": {},
   "outputs": [
    {
     "name": "stdout",
     "output_type": "stream",
     "text": [
      "P(X = 4) = 0.07029526885272423\n"
     ]
    }
   ],
   "source": [
    "PXE4 = bin_dist.prob(4)\n",
    "print(\"P(X = 4) = \" + str(PXE4))"
   ]
  }
 ],
 "metadata": {
  "kernelspec": {
   "display_name": "Python 3 (ipykernel)",
   "language": "python",
   "name": "python3"
  },
  "language_info": {
   "codemirror_mode": {
    "name": "ipython",
    "version": 3
   },
   "file_extension": ".py",
   "mimetype": "text/x-python",
   "name": "python",
   "nbconvert_exporter": "python",
   "pygments_lexer": "ipython3",
   "version": "3.12.1"
  }
 },
 "nbformat": 4,
 "nbformat_minor": 5
}

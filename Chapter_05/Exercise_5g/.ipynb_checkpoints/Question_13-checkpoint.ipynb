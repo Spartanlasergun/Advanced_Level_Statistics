{
 "cells": [
  {
   "cell_type": "markdown",
   "id": "5bc47f8d-478f-470c-b2f6-84bb52b08e2f",
   "metadata": {},
   "source": [
    "# Question 13\n",
    "-----"
   ]
  },
  {
   "cell_type": "markdown",
   "id": "7c41fb84-ad75-4f25-b832-56f04f5319f7",
   "metadata": {},
   "source": [
    "$$X \\sim Bin(28, 0.004, 0.996)$$"
   ]
  },
  {
   "cell_type": "code",
   "execution_count": 1,
   "id": "228c145a-7781-4eac-bfa1-70d410d83fd3",
   "metadata": {},
   "outputs": [],
   "source": [
    "import math\n",
    "\n",
    "class bino:\n",
    "    def __init__(self, n, p, q):\n",
    "        self.n = n\n",
    "        self.p = p\n",
    "        self.q = q\n",
    "        self.frequencies = []\n",
    "\n",
    "    def prob(self, r):\n",
    "        self.funk = ((math.factorial(self.n)) / (math.factorial(r) * math.factorial(((self.n)-r)))) * pow((self.q), ((self.n)-r)) * pow((self.p), r)\n",
    "        return self.funk\n",
    "\n",
    "    def freq(self, event, r):\n",
    "        event_prob = self.prob(r)\n",
    "        frequency = event_prob * event\n",
    "        frequency = round(frequency, 0)\n",
    "        return frequency"
   ]
  },
  {
   "cell_type": "code",
   "execution_count": 2,
   "id": "dfff1a8e-7151-4c75-9d63-290d2612f347",
   "metadata": {},
   "outputs": [
    {
     "name": "stdout",
     "output_type": "stream",
     "text": [
      "P(X = 2) = 0.005449473957958891\n"
     ]
    }
   ],
   "source": [
    "bin_dist = bino(28, 0.004, 0.996)\n",
    "PXE2 = bin_dist.prob(2)\n",
    "print(\"P(X = 2) = \" + str(PXE2))"
   ]
  },
  {
   "cell_type": "code",
   "execution_count": 3,
   "id": "c4a1fe94-4f6d-43b5-8431-782b0c029e87",
   "metadata": {},
   "outputs": [],
   "source": [
    "import math\n",
    "\n",
    "class poisson:\n",
    "    def __init__(self, lamb):\n",
    "        self.lamb = lamb\n",
    "\n",
    "    def prob(self, x):\n",
    "        pois = math.exp(-self.lamb) * (pow(self.lamb, x) / math.factorial(x))\n",
    "        return pois\n",
    "\n",
    "    def freq(self, event, sample):\n",
    "        freq = self.prob(event) * sample \n",
    "        freq = round(freq, 0)\n",
    "        return freq"
   ]
  },
  {
   "cell_type": "code",
   "execution_count": 4,
   "id": "0c2835e4-3a81-48c9-bf88-bc8bc145f951",
   "metadata": {},
   "outputs": [
    {
     "name": "stdout",
     "output_type": "stream",
     "text": [
      "P(X < 6) = 0.785130387030405\n"
     ]
    }
   ],
   "source": [
    "pois_dist = poisson(4)\n",
    "PXE0 = pois_dist.prob(0)\n",
    "PXE1 = pois_dist.prob(1)\n",
    "PXE2 = pois_dist.prob(2)\n",
    "PXE3 = pois_dist.prob(3)\n",
    "PXE4 = pois_dist.prob(4)\n",
    "PXE5 = pois_dist.prob(5)\n",
    "PXL6 = PXE0 + PXE1 + PXE2 + PXE3 + PXE4 + PXE5\n",
    "print(\"P(X < 6) = \" + str(PXL6))"
   ]
  },
  {
   "cell_type": "markdown",
   "id": "bd947a5c-2cd1-4581-8407-c94aaa9ef18b",
   "metadata": {},
   "source": [
    "events are independent"
   ]
  }
 ],
 "metadata": {
  "kernelspec": {
   "display_name": "Python 3 (ipykernel)",
   "language": "python",
   "name": "python3"
  },
  "language_info": {
   "codemirror_mode": {
    "name": "ipython",
    "version": 3
   },
   "file_extension": ".py",
   "mimetype": "text/x-python",
   "name": "python",
   "nbconvert_exporter": "python",
   "pygments_lexer": "ipython3",
   "version": "3.12.1"
  }
 },
 "nbformat": 4,
 "nbformat_minor": 5
}

{
 "cells": [
  {
   "cell_type": "markdown",
   "id": "fb6f9bf8-3997-43ad-a680-91ff0c398ddc",
   "metadata": {},
   "source": [
    "# Question 16\n",
    "-----"
   ]
  },
  {
   "cell_type": "code",
   "execution_count": 1,
   "id": "8406e381-6f65-4615-86d9-9f58ad898ff9",
   "metadata": {},
   "outputs": [],
   "source": [
    "import math\n",
    "\n",
    "class bino:\n",
    "    def __init__(self, n, p, q):\n",
    "        self.n = n\n",
    "        self.p = p\n",
    "        self.q = q\n",
    "        self.frequencies = []\n",
    "\n",
    "    def prob(self, r):\n",
    "        self.funk = ((math.factorial(self.n)) / (math.factorial(r) * math.factorial(((self.n)-r)))) * pow((self.q), ((self.n)-r)) * pow((self.p), r)\n",
    "        return self.funk\n",
    "\n",
    "    def freq(self, event, r):\n",
    "        event_prob = self.prob(r)\n",
    "        frequency = event_prob * event\n",
    "        frequency = round(frequency, 0)\n",
    "        return frequency"
   ]
  },
  {
   "cell_type": "code",
   "execution_count": 2,
   "id": "71388b39-174e-421b-9eef-4fcb41c58105",
   "metadata": {},
   "outputs": [
    {
     "name": "stdout",
     "output_type": "stream",
     "text": [
      "P(X = 3) = 0.2013265920000001\n"
     ]
    }
   ],
   "source": [
    "bin_dist = bino(10, 0.2, 0.8)\n",
    "PXE3 = bin_dist.prob(3)\n",
    "print(\"P(X = 3) = \" + str(PXE3))"
   ]
  },
  {
   "cell_type": "code",
   "execution_count": 3,
   "id": "a40dd876-9ded-44b8-86d9-597fdac8b86b",
   "metadata": {},
   "outputs": [
    {
     "name": "stdout",
     "output_type": "stream",
     "text": [
      "P(X > 5) = 0.0063693823999994015\n"
     ]
    }
   ],
   "source": [
    "PXE0 = bin_dist.prob(0)\n",
    "PXE1 = bin_dist.prob(1)\n",
    "PXE2 = bin_dist.prob(2)\n",
    "PXE3 = bin_dist.prob(3)\n",
    "PXE4 = bin_dist.prob(4)\n",
    "PXE5 = bin_dist.prob(5)\n",
    "PXG5 = 1 - (PXE0 + PXE1 + PXE2 + PXE3 + PXE4 + PXE5)\n",
    "print(\"P(X > 5) = \" + str(PXG5))"
   ]
  },
  {
   "cell_type": "code",
   "execution_count": 4,
   "id": "3cf1e01b-5363-4894-a355-7c08b7f34ece",
   "metadata": {},
   "outputs": [
    {
     "name": "stdout",
     "output_type": "stream",
     "text": [
      "E(X) = 2.4000000000000004\n",
      "hence, the most likely number of left handed people = 2\n"
     ]
    }
   ],
   "source": [
    "EX = 12 * 0.2\n",
    "print(\"E(X) = \" + str(EX))\n",
    "print(\"hence, the most likely number of left handed people = 2\")"
   ]
  },
  {
   "cell_type": "code",
   "execution_count": 5,
   "id": "d495dc65-fd33-46e4-9faf-0fc17920847f",
   "metadata": {},
   "outputs": [
    {
     "name": "stdout",
     "output_type": "stream",
     "text": [
      "E(X) = 5.0\n"
     ]
    }
   ],
   "source": [
    "EX = 25 * 0.2\n",
    "print(\"E(X) = \" + str(EX))"
   ]
  },
  {
   "cell_type": "code",
   "execution_count": 6,
   "id": "b78e6536-5b49-4646-83a2-7aed9fd41a2b",
   "metadata": {},
   "outputs": [
    {
     "name": "stdout",
     "output_type": "stream",
     "text": [
      "std = 2.0\n"
     ]
    }
   ],
   "source": [
    "var = 25 * 0.2 * 0.8\n",
    "std = math.sqrt(var)\n",
    "print(\"std = \" + str(std))"
   ]
  },
  {
   "cell_type": "markdown",
   "id": "b38b54d8-3f54-477c-9803-16205e6be4c6",
   "metadata": {},
   "source": [
    "$$ 1 - (\\frac{n!}{0!(n - 0)!} * q^{n-0} * p^{0} \\ge 0.95 $$\n",
    "\n",
    "$$ 1 - (1 * 0.8^n * 1) \\ge 0.95 $$\n",
    "\n",
    "$$ 1 - 0.8^n \\ge 0.95 $$\n",
    "\n",
    "$$0.8^n \\ge 0.05$$\n",
    "\n",
    "$$n \\log(0.8) \\ge \\log(0.05)$$\n",
    "\n",
    "$$n \\ge \\frac{\\log(0.05)}{\\log(0.8)}$$\n",
    "\n",
    "$$n \\ge 13.42$$\n",
    "\n",
    "Hence, n must be at least 14"
   ]
  }
 ],
 "metadata": {
  "kernelspec": {
   "display_name": "Python 3 (ipykernel)",
   "language": "python",
   "name": "python3"
  },
  "language_info": {
   "codemirror_mode": {
    "name": "ipython",
    "version": 3
   },
   "file_extension": ".py",
   "mimetype": "text/x-python",
   "name": "python",
   "nbconvert_exporter": "python",
   "pygments_lexer": "ipython3",
   "version": "3.12.1"
  }
 },
 "nbformat": 4,
 "nbformat_minor": 5
}

{
 "cells": [
  {
   "cell_type": "markdown",
   "id": "1689a0ed-1883-4c71-a3a8-d36fb1b985e5",
   "metadata": {},
   "source": [
    "# Question 12\n",
    "-----"
   ]
  },
  {
   "cell_type": "code",
   "execution_count": 1,
   "id": "74142b2b-859d-49c2-8a9a-bb8b6fdf08b3",
   "metadata": {},
   "outputs": [],
   "source": [
    "import math\n",
    "\n",
    "class poisson:\n",
    "    def __init__(self, lamb):\n",
    "        self.lamb = lamb\n",
    "\n",
    "    def prob(self, x):\n",
    "        pois = math.exp(-self.lamb) * (pow(self.lamb, x) / math.factorial(x))\n",
    "        return pois\n",
    "\n",
    "    def freq(self, event, sample):\n",
    "        freq = self.prob(event) * sample \n",
    "        freq = round(freq, 0)\n",
    "        return freq"
   ]
  },
  {
   "cell_type": "code",
   "execution_count": 2,
   "id": "e2d01633-f22d-48d9-9e6d-f9f30153e8a1",
   "metadata": {},
   "outputs": [
    {
     "name": "stdout",
     "output_type": "stream",
     "text": [
      "P(X >= 1) = 0.6321205588285577\n"
     ]
    }
   ],
   "source": [
    "pois_dist = poisson(1)\n",
    "PXE0 = pois_dist.prob(0)\n",
    "PXGE1 = 1 - PXE0\n",
    "print(\"P(X >= 1) = \" + str(PXGE1))"
   ]
  },
  {
   "cell_type": "code",
   "execution_count": 3,
   "id": "499f5a0f-67d5-43a9-ac77-685cde3f7e92",
   "metadata": {},
   "outputs": [
    {
     "name": "stdout",
     "output_type": "stream",
     "text": [
      "event prob = 0.062610084152573\n"
     ]
    }
   ],
   "source": [
    "event = poisson(10)\n",
    "PXE9 = event.prob(9)\n",
    "PXE10 = event.prob(10)\n",
    "PXG8 = PXE9 + PXE10\n",
    "two = pow(PXG8, 2)\n",
    "print(\"event prob = \" + str(two))"
   ]
  }
 ],
 "metadata": {
  "kernelspec": {
   "display_name": "Python 3 (ipykernel)",
   "language": "python",
   "name": "python3"
  },
  "language_info": {
   "codemirror_mode": {
    "name": "ipython",
    "version": 3
   },
   "file_extension": ".py",
   "mimetype": "text/x-python",
   "name": "python",
   "nbconvert_exporter": "python",
   "pygments_lexer": "ipython3",
   "version": "3.12.1"
  }
 },
 "nbformat": 4,
 "nbformat_minor": 5
}

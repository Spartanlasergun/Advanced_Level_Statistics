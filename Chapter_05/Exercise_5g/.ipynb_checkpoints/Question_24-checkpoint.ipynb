{
 "cells": [
  {
   "cell_type": "markdown",
   "id": "584bc0c6-4dba-468e-a1ed-46a5cbecf45e",
   "metadata": {},
   "source": [
    "# Question 24\n",
    "-----"
   ]
  },
  {
   "cell_type": "code",
   "execution_count": 1,
   "id": "bdc404e8-f12e-49c1-96aa-848ac1e7a2c5",
   "metadata": {},
   "outputs": [],
   "source": [
    "import math\n",
    "\n",
    "class poisson:\n",
    "    def __init__(self, lamb):\n",
    "        self.lamb = lamb\n",
    "\n",
    "    def prob(self, x):\n",
    "        pois = math.exp(-self.lamb) * (pow(self.lamb, x) / math.factorial(x))\n",
    "        return pois\n",
    "\n",
    "    def freq(self, event, sample):\n",
    "        freq = self.prob(event) * sample \n",
    "        freq = round(freq, 0)\n",
    "        return freq"
   ]
  },
  {
   "cell_type": "code",
   "execution_count": 2,
   "id": "a23f0962-b833-497a-9938-fa98d492f43e",
   "metadata": {},
   "outputs": [
    {
     "name": "stdout",
     "output_type": "stream",
     "text": [
      "P(X = 0) = 22.0\n"
     ]
    }
   ],
   "source": [
    "mean = 1.5\n",
    "pois_dist = poisson(mean)\n",
    "FXE0 = pois_dist.freq(0, 100)\n",
    "print(\"P(X = 0) = \" + str(FXE0))"
   ]
  },
  {
   "cell_type": "code",
   "execution_count": 3,
   "id": "d8227c32-b5ac-4574-9542-ee7ebf030e02",
   "metadata": {},
   "outputs": [
    {
     "name": "stdout",
     "output_type": "stream",
     "text": [
      "times refused = 20.0\n"
     ]
    }
   ],
   "source": [
    "FXE1 = pois_dist.freq(1, 100)\n",
    "FXE2 = pois_dist.freq(2, 100)\n",
    "refused = 100 - (FXE0 + FXE1 + FXE2)\n",
    "print(\"times refused = \" + str(refused))"
   ]
  },
  {
   "cell_type": "code",
   "execution_count": 4,
   "id": "86a8295c-77b9-4229-be69-f30d6c5829c4",
   "metadata": {},
   "outputs": [
    {
     "name": "stdout",
     "output_type": "stream",
     "text": [
      "not in use = 38.0\n"
     ]
    }
   ],
   "source": [
    "notworking = FXE0 + (FXE1/2)\n",
    "notworking = round(notworking, 0)\n",
    "print(\"not in use = \" + str(notworking))"
   ]
  }
 ],
 "metadata": {
  "kernelspec": {
   "display_name": "Python 3 (ipykernel)",
   "language": "python",
   "name": "python3"
  },
  "language_info": {
   "codemirror_mode": {
    "name": "ipython",
    "version": 3
   },
   "file_extension": ".py",
   "mimetype": "text/x-python",
   "name": "python",
   "nbconvert_exporter": "python",
   "pygments_lexer": "ipython3",
   "version": "3.12.1"
  }
 },
 "nbformat": 4,
 "nbformat_minor": 5
}

{
 "cells": [
  {
   "cell_type": "markdown",
   "id": "5f5aaf5b-4488-4fb0-8679-c37dc94abec1",
   "metadata": {},
   "source": [
    "# Question 4\n",
    "-----"
   ]
  },
  {
   "cell_type": "code",
   "execution_count": 1,
   "id": "8b99dad3-448a-438a-9af1-4c757ed99d37",
   "metadata": {},
   "outputs": [],
   "source": [
    "import math\n",
    "\n",
    "class bino:\n",
    "    def __init__(self, n, p, q):\n",
    "        self.n = n\n",
    "        self.p = p\n",
    "        self.q = q\n",
    "        self.frequencies = []\n",
    "\n",
    "    def prob(self, r):\n",
    "        self.funk = ((math.factorial(self.n)) / (math.factorial(r) * math.factorial(((self.n)-r)))) * pow((self.q), ((self.n)-r)) * pow((self.p), r)\n",
    "        return self.funk\n",
    "\n",
    "    def freq(self, event, r):\n",
    "        event_prob = self.prob(r)\n",
    "        frequency = event_prob * event\n",
    "        frequency = round(frequency, 0)\n",
    "        return frequency"
   ]
  },
  {
   "cell_type": "code",
   "execution_count": 2,
   "id": "5fdbade8-5a41-40ea-b79d-5c425edde48d",
   "metadata": {},
   "outputs": [
    {
     "name": "stdout",
     "output_type": "stream",
     "text": [
      "P(X = 0) = 0.4343884542236323\n"
     ]
    }
   ],
   "source": [
    "bin_dist = bino(10, 0.08, 0.92)\n",
    "PXE0 = bin_dist.prob(0)\n",
    "print(\"P(X = 0) = \" + str(PXE0))"
   ]
  },
  {
   "cell_type": "code",
   "execution_count": 3,
   "id": "eb53e4f3-7a92-4aec-a2c0-3d6ca7d2f2e6",
   "metadata": {},
   "outputs": [
    {
     "name": "stdout",
     "output_type": "stream",
     "text": [
      "P(X = 1) = 0.3777290906292455\n"
     ]
    }
   ],
   "source": [
    "PXE1 = bin_dist.prob(1)\n",
    "print(\"P(X = 1) = \" + str(PXE1))"
   ]
  },
  {
   "cell_type": "code",
   "execution_count": 4,
   "id": "1f98f212-f93a-4733-8f1f-82e25bad7e2d",
   "metadata": {},
   "outputs": [
    {
     "name": "stdout",
     "output_type": "stream",
     "text": [
      "P(X = 2) = 0.3777290906292455\n"
     ]
    }
   ],
   "source": [
    "PXE2 = bin_dist.prob(2)\n",
    "print(\"P(X = 2) = \" + str(PXE1))"
   ]
  },
  {
   "cell_type": "code",
   "execution_count": 5,
   "id": "6b8389fc-dbbf-41c1-bbf5-adc2d492548e",
   "metadata": {},
   "outputs": [
    {
     "name": "stdout",
     "output_type": "stream",
     "text": [
      "P(X > 2) = 0.040075419683504476\n"
     ]
    }
   ],
   "source": [
    "PXG2 = 1 - (PXE0 + PXE1 + PXE2)\n",
    "print(\"P(X > 2) = \" + str(PXG2))"
   ]
  },
  {
   "cell_type": "markdown",
   "id": "bf1d49ab-2138-41a4-9965-7c969eadfd37",
   "metadata": {},
   "source": [
    "$$p = 0.001$$\n",
    "\n",
    "$$0.001n = 0.045$$\n",
    "\n",
    "$$n = \\frac{0.045}{0.001} = 45$$"
   ]
  },
  {
   "cell_type": "markdown",
   "id": "ae3568b2-270b-49ef-8e30-a9608edd0a39",
   "metadata": {},
   "source": [
    "-----\n",
    "\n",
    "$$\\sqrt{npq} = 0.333$$\n",
    "\n",
    "$$npq = 0.333^2$$\n",
    "\n",
    "$$n(0.001)(0.999) = 0.333^2$$\n",
    "\n",
    "$$n = \\frac{0.333^2}{(0.001 * 0.999)} = 111$$"
   ]
  },
  {
   "cell_type": "markdown",
   "id": "33515ad6-c5a1-4b93-bab9-6fd06586bbdd",
   "metadata": {},
   "source": [
    "-----\n",
    "$$0.001 * N > 0.02$$\n",
    "\n",
    "$$N > \\frac{0.02}{0.001}$$\n",
    "\n",
    "$$N > 20$$"
   ]
  }
 ],
 "metadata": {
  "kernelspec": {
   "display_name": "Python 3 (ipykernel)",
   "language": "python",
   "name": "python3"
  },
  "language_info": {
   "codemirror_mode": {
    "name": "ipython",
    "version": 3
   },
   "file_extension": ".py",
   "mimetype": "text/x-python",
   "name": "python",
   "nbconvert_exporter": "python",
   "pygments_lexer": "ipython3",
   "version": "3.12.1"
  }
 },
 "nbformat": 4,
 "nbformat_minor": 5
}

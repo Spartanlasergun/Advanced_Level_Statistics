{
 "cells": [
  {
   "cell_type": "markdown",
   "id": "09e1dd35-f1db-49b0-a76e-be67675df1cd",
   "metadata": {},
   "source": [
    "# Question 18\n",
    "-----"
   ]
  },
  {
   "cell_type": "markdown",
   "id": "b8de61c8-55d6-4684-aa29-3c3b3e1291a1",
   "metadata": {},
   "source": [
    "$$X \\sim Po(\\lambda)$$\n",
    "\n",
    "$$E(X) = \\lambda$$\n",
    "\n",
    "$$Var(X) = \\lambda$$"
   ]
  },
  {
   "cell_type": "code",
   "execution_count": 1,
   "id": "6c681b0a-58a3-43a4-8e41-d3add64c269a",
   "metadata": {},
   "outputs": [],
   "source": [
    "import math\n",
    "\n",
    "class poisson:\n",
    "    def __init__(self, lamb):\n",
    "        self.lamb = lamb\n",
    "\n",
    "    def prob(self, x):\n",
    "        pois = math.exp(-self.lamb) * (pow(self.lamb, x) / math.factorial(x))\n",
    "        return pois\n",
    "\n",
    "    def freq(self, event, sample):\n",
    "        freq = self.prob(event) * sample \n",
    "        freq = round(freq, 0)\n",
    "        return freq"
   ]
  },
  {
   "cell_type": "code",
   "execution_count": 2,
   "id": "9e288976-d5bc-4708-8b94-5ac941434d04",
   "metadata": {},
   "outputs": [
    {
     "name": "stdout",
     "output_type": "stream",
     "text": [
      "P(X = 0) = 0.0820849986238988\n"
     ]
    }
   ],
   "source": [
    "mean = 0.5 * 5\n",
    "pois_dist = poisson(mean)\n",
    "PXE0 = pois_dist.prob(0)\n",
    "print(\"P(X = 0) = \" + str(PXE0))"
   ]
  },
  {
   "cell_type": "code",
   "execution_count": 3,
   "id": "8fab0360-4099-4b25-b86b-04ee8c8488aa",
   "metadata": {},
   "outputs": [
    {
     "name": "stdout",
     "output_type": "stream",
     "text": [
      "P(X >= 4) = 0.24242386686693407\n"
     ]
    }
   ],
   "source": [
    "PXE1 = pois_dist.prob(1)\n",
    "PXE2 = pois_dist.prob(2)\n",
    "PXE3 = pois_dist.prob(3)\n",
    "PXGE4 = 1 - (PXE0 + PXE1 + PXE2 + PXE3)\n",
    "print(\"P(X >= 4) = \" + str(PXGE4))"
   ]
  },
  {
   "cell_type": "markdown",
   "id": "fbd72098-4c72-4095-affe-17f981d99073",
   "metadata": {},
   "source": [
    "$$e^{-\\lambda} * \\frac{\\lambda^x}{x!} = 0.95$$\n",
    "\n",
    "$$-\\lambda = \\ln(0.95)$$\n",
    "\n",
    "$$\\lambda = 0.0513$$\n",
    "\n",
    "Since $\\lambda = 0.5T$\n",
    "\n",
    "$$T = \\frac{0.0513}{0.5}$$\n",
    "\n",
    "$$T = 0.103$$\n",
    "\n",
    "seconds implies:\n",
    "\n",
    "$$T = 0.103 * 60 = 6.15 \\ seconds$$"
   ]
  }
 ],
 "metadata": {
  "kernelspec": {
   "display_name": "Python 3 (ipykernel)",
   "language": "python",
   "name": "python3"
  },
  "language_info": {
   "codemirror_mode": {
    "name": "ipython",
    "version": 3
   },
   "file_extension": ".py",
   "mimetype": "text/x-python",
   "name": "python",
   "nbconvert_exporter": "python",
   "pygments_lexer": "ipython3",
   "version": "3.12.1"
  }
 },
 "nbformat": 4,
 "nbformat_minor": 5
}

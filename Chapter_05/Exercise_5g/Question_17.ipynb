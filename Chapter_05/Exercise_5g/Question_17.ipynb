{
 "cells": [
  {
   "cell_type": "markdown",
   "id": "b044e9cf-8930-4e37-8c39-3af9c2d33d69",
   "metadata": {},
   "source": [
    "# Question 17\n",
    "-----"
   ]
  },
  {
   "cell_type": "code",
   "execution_count": 1,
   "id": "3e3da1dd-2b8c-4e7f-9bda-09bfec371a4e",
   "metadata": {},
   "outputs": [],
   "source": [
    "import math\n",
    "\n",
    "class bino:\n",
    "    def __init__(self, n, p, q):\n",
    "        self.n = n\n",
    "        self.p = p\n",
    "        self.q = q\n",
    "        self.frequencies = []\n",
    "\n",
    "    def prob(self, r):\n",
    "        self.funk = ((math.factorial(self.n)) / (math.factorial(r) * math.factorial(((self.n)-r)))) * pow((self.q), ((self.n)-r)) * pow((self.p), r)\n",
    "        return self.funk\n",
    "\n",
    "    def freq(self, event, r):\n",
    "        event_prob = self.prob(r)\n",
    "        frequency = event_prob * event\n",
    "        frequency = round(frequency, 0)\n",
    "        return frequency"
   ]
  },
  {
   "cell_type": "code",
   "execution_count": 2,
   "id": "5b9a2ead-0a6a-4655-ab78-27ef9175935d",
   "metadata": {},
   "outputs": [
    {
     "name": "stdout",
     "output_type": "stream",
     "text": [
      "P(X > 3) = 0.20308223999999964\n"
     ]
    }
   ],
   "source": [
    "bin_dist = bino(8, 0.2, 0.8)\n",
    "PXE0 = bin_dist.prob(0)\n",
    "PXE1 = bin_dist.prob(1)\n",
    "PXE2 = bin_dist.prob(2)\n",
    "PXG3 = 1 - (PXE0 + PXE1 + PXE2)\n",
    "print(\"P(X > 3) = \" + str(PXG3))"
   ]
  },
  {
   "cell_type": "code",
   "execution_count": 3,
   "id": "2b11243e-a794-4c2e-8e2e-46e5d8f15fb9",
   "metadata": {},
   "outputs": [
    {
     "name": "stdout",
     "output_type": "stream",
     "text": [
      "P(X >= 1) = 0.3599999999999999\n"
     ]
    }
   ],
   "source": [
    "event = bino(2, 0.2, 0.8)\n",
    "PXE0 = event.prob(0)\n",
    "PXGE1 = 1 - PXE0\n",
    "print(\"P(X >= 1) = \" + str(PXGE1))"
   ]
  },
  {
   "cell_type": "code",
   "execution_count": 4,
   "id": "815f60b1-81ab-4c94-b916-fbfbedffbd6b",
   "metadata": {},
   "outputs": [
    {
     "name": "stdout",
     "output_type": "stream",
     "text": [
      "P(X >= 3) = 0.13623551999999983\n"
     ]
    }
   ],
   "source": [
    "event = bino(4, 0.36, 0.64)\n",
    "PXE0 = event.prob(0)\n",
    "PXE1 = event.prob(1)\n",
    "PXE2 = event.prob(2)\n",
    "PXG3 = 1 - (PXE0 + PXE1 + PXE2)\n",
    "print(\"P(X >= 3) = \" + str(PXG3))"
   ]
  },
  {
   "cell_type": "markdown",
   "id": "7aa13d88-2e5a-47d0-9564-abfaf77f8910",
   "metadata": {},
   "source": [
    "$$ (\\frac{n!}{0!(n - 0)!} * q^{n-0} * p^0) = 0.01$$\n",
    "\n",
    "$$q^4 = 0.01$$\n",
    "\n",
    "$$q = 0.01^{0.25}$$\n",
    "\n",
    "$$q = 0.316$$\n",
    "\n",
    "Hence, p = 0.316"
   ]
  }
 ],
 "metadata": {
  "kernelspec": {
   "display_name": "Python 3 (ipykernel)",
   "language": "python",
   "name": "python3"
  },
  "language_info": {
   "codemirror_mode": {
    "name": "ipython",
    "version": 3
   },
   "file_extension": ".py",
   "mimetype": "text/x-python",
   "name": "python",
   "nbconvert_exporter": "python",
   "pygments_lexer": "ipython3",
   "version": "3.12.1"
  }
 },
 "nbformat": 4,
 "nbformat_minor": 5
}

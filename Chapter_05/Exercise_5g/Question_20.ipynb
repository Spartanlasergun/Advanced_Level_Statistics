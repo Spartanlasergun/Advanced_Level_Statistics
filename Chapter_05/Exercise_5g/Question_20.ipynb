{
 "cells": [
  {
   "cell_type": "markdown",
   "id": "e41638e4-564a-43e3-8b67-8df6bd328a61",
   "metadata": {},
   "source": [
    "# Question 20\n",
    "-----"
   ]
  },
  {
   "cell_type": "markdown",
   "id": "132ef165-3ef2-46b2-9f0d-d38fec131790",
   "metadata": {},
   "source": [
    "a)\n",
    "$$mean = 3$$\n",
    "$$variance = 3$$\n",
    "\n",
    "b)\n",
    "$$mean = 20$$\n",
    "$$variance = 20$$"
   ]
  }
 ],
 "metadata": {
  "kernelspec": {
   "display_name": "Python 3 (ipykernel)",
   "language": "python",
   "name": "python3"
  },
  "language_info": {
   "codemirror_mode": {
    "name": "ipython",
    "version": 3
   },
   "file_extension": ".py",
   "mimetype": "text/x-python",
   "name": "python",
   "nbconvert_exporter": "python",
   "pygments_lexer": "ipython3",
   "version": "3.12.1"
  }
 },
 "nbformat": 4,
 "nbformat_minor": 5
}

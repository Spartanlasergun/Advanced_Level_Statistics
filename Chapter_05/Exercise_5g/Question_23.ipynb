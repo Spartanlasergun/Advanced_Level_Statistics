{
 "cells": [
  {
   "cell_type": "markdown",
   "id": "232111c6-14cd-4c84-825a-8c13fde15c9c",
   "metadata": {},
   "source": [
    "# Question 23\n",
    "-----"
   ]
  },
  {
   "cell_type": "code",
   "execution_count": 1,
   "id": "95259819-d1af-4175-afc3-c76935515189",
   "metadata": {},
   "outputs": [],
   "source": [
    "import math\n",
    "\n",
    "class poisson:\n",
    "    def __init__(self, lamb):\n",
    "        self.lamb = lamb\n",
    "\n",
    "    def prob(self, x):\n",
    "        pois = math.exp(-self.lamb) * (pow(self.lamb, x) / math.factorial(x))\n",
    "        return pois\n",
    "\n",
    "    def freq(self, event, sample):\n",
    "        freq = self.prob(event) * sample \n",
    "        freq = round(freq, 0)\n",
    "        return freq"
   ]
  },
  {
   "cell_type": "code",
   "execution_count": 2,
   "id": "6403a7cc-54de-4324-a460-6aee9fd1c3dc",
   "metadata": {},
   "outputs": [
    {
     "name": "stdout",
     "output_type": "stream",
     "text": [
      "P(X = 0) = 0.40656965974059917\n"
     ]
    }
   ],
   "source": [
    "mean = 200 * 0.0045\n",
    "pois_dist = poisson(mean)\n",
    "PXE0 = pois_dist.prob(0)\n",
    "print(\"P(X = 0) = \" + str(PXE0))"
   ]
  },
  {
   "cell_type": "code",
   "execution_count": 3,
   "id": "26902d8e-92b0-458b-a9b8-04631215851e",
   "metadata": {},
   "outputs": [
    {
     "name": "stdout",
     "output_type": "stream",
     "text": [
      "P(X = 1) = 0.36591269376653923\n"
     ]
    }
   ],
   "source": [
    "PXE1 = pois_dist.prob(1)\n",
    "print(\"P(X = 1) = \" + str(PXE1))"
   ]
  },
  {
   "cell_type": "code",
   "execution_count": 4,
   "id": "74daec3c-5e20-48fe-9904-23e08395d0f6",
   "metadata": {},
   "outputs": [
    {
     "name": "stdout",
     "output_type": "stream",
     "text": [
      "P(X = 2) = 0.16466071219494263\n"
     ]
    }
   ],
   "source": [
    "PXE2 = pois_dist.prob(2)\n",
    "print(\"P(X = 2) = \" + str(PXE2))"
   ]
  },
  {
   "cell_type": "code",
   "execution_count": 5,
   "id": "1cedd36e-5b89-4041-84d1-6012e9f099d9",
   "metadata": {},
   "outputs": [
    {
     "name": "stdout",
     "output_type": "stream",
     "text": [
      "P(X > 2) = 0.06285693429791905\n"
     ]
    }
   ],
   "source": [
    "PXG2 = 1 - (PXE0 + PXE1 + PXE2)\n",
    "print(\"P(X > 2) = \" + str(PXG2))"
   ]
  },
  {
   "cell_type": "code",
   "execution_count": 6,
   "id": "86ada1a2-48b8-4634-87cf-1d0aaf599e52",
   "metadata": {},
   "outputs": [
    {
     "name": "stdout",
     "output_type": "stream",
     "text": [
      "prob he buys the consignment = 0.816428253086023\n"
     ]
    }
   ],
   "source": [
    "PXGE2 = 1 - (PXE0 + PXE1)\n",
    "event = 1 - (((PXE1 + PXE2) * (PXGE2)) + PXG2)\n",
    "print(\"prob he buys the consignment = \" + str(event))"
   ]
  },
  {
   "cell_type": "code",
   "execution_count": 7,
   "id": "db381e94-c395-4c40-a4cc-9465c06f014e",
   "metadata": {},
   "outputs": [
    {
     "name": "stdout",
     "output_type": "stream",
     "text": [
      "prob he does not buy = 0.051764279465650764\n"
     ]
    }
   ],
   "source": [
    "PXG1 = 1 - (PXE0 + PXE1)\n",
    "event = 1 - (PXG1 * PXG1)\n",
    "doesnotbuy = 1 - event\n",
    "print(\"prob he does not buy = \" + str(doesnotbuy))"
   ]
  }
 ],
 "metadata": {
  "kernelspec": {
   "display_name": "Python 3 (ipykernel)",
   "language": "python",
   "name": "python3"
  },
  "language_info": {
   "codemirror_mode": {
    "name": "ipython",
    "version": 3
   },
   "file_extension": ".py",
   "mimetype": "text/x-python",
   "name": "python",
   "nbconvert_exporter": "python",
   "pygments_lexer": "ipython3",
   "version": "3.12.1"
  }
 },
 "nbformat": 4,
 "nbformat_minor": 5
}

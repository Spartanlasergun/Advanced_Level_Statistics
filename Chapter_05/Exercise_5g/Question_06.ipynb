{
 "cells": [
  {
   "cell_type": "markdown",
   "id": "131799a1-f1ce-47a7-bebc-a22a02cc35a1",
   "metadata": {},
   "source": [
    "# Question 6\n",
    "-----"
   ]
  },
  {
   "cell_type": "code",
   "execution_count": 1,
   "id": "337e2f4a-7aea-4b03-af16-9e1f556d8b53",
   "metadata": {},
   "outputs": [],
   "source": [
    "import math\n",
    "\n",
    "class bino:\n",
    "    def __init__(self, n, p, q):\n",
    "        self.n = n\n",
    "        self.p = p\n",
    "        self.q = q\n",
    "        self.frequencies = []\n",
    "\n",
    "    def prob(self, r):\n",
    "        self.funk = ((math.factorial(self.n)) / (math.factorial(r) * math.factorial(((self.n)-r)))) * pow((self.q), ((self.n)-r)) * pow((self.p), r)\n",
    "        return self.funk\n",
    "\n",
    "    def freq(self, event, r):\n",
    "        event_prob = self.prob(r)\n",
    "        frequency = event_prob * event\n",
    "        frequency = round(frequency, 0)\n",
    "        return frequency"
   ]
  },
  {
   "cell_type": "code",
   "execution_count": 2,
   "id": "ec445257-431a-43dc-9fa5-9a4d0c56e9f4",
   "metadata": {},
   "outputs": [
    {
     "name": "stdout",
     "output_type": "stream",
     "text": [
      "P(X = 50) = 0.12988579352203838\n"
     ]
    }
   ],
   "source": [
    "bin_dist = bino(50, 0.96, 0.04)\n",
    "PXE50 = bin_dist.prob(50)\n",
    "print(\"P(X = 50) = \" + str(PXE50))"
   ]
  },
  {
   "cell_type": "code",
   "execution_count": 3,
   "id": "0dea820d-dd6d-48f7-a2e2-d95fe5129e74",
   "metadata": {},
   "outputs": [
    {
     "name": "stdout",
     "output_type": "stream",
     "text": [
      "P(X = 49) = 0.2705954031709133\n"
     ]
    }
   ],
   "source": [
    "PXE49 = bin_dist.prob(49)\n",
    "print(\"P(X = 49) = \" + str(PXE49))"
   ]
  },
  {
   "cell_type": "code",
   "execution_count": 4,
   "id": "1df5c68e-cdb8-4ba1-8e48-5a9e0aee5686",
   "metadata": {},
   "outputs": [
    {
     "name": "stdout",
     "output_type": "stream",
     "text": [
      "P(X = 48) = 0.2762328074036407\n"
     ]
    }
   ],
   "source": [
    "PXE48 = bin_dist.prob(48)\n",
    "print(\"P(X = 48) = \" + str(PXE48))"
   ]
  },
  {
   "cell_type": "code",
   "execution_count": 5,
   "id": "e0bd6c6a-8c36-4687-810e-db0dc8155231",
   "metadata": {},
   "outputs": [
    {
     "name": "stdout",
     "output_type": "stream",
     "text": [
      "P(X < 48) = 64.65719918068152\n"
     ]
    }
   ],
   "source": [
    "PXL48 = (1 - (PXE50 + PXE49 + PXE48)) * 200\n",
    "print(\"P(X < 48) = \" + str(PXL48))\n"
   ]
  },
  {
   "cell_type": "code",
   "execution_count": 6,
   "id": "c4e5156e-d6e7-4da9-ad76-fad3cbdbb15a",
   "metadata": {},
   "outputs": [
    {
     "name": "stdout",
     "output_type": "stream",
     "text": [
      "P(X >= 149) = 0.01588630742248429\n"
     ]
    }
   ],
   "source": [
    "packets = bino(150, 0.96, 0.04)\n",
    "PXE149 = packets.prob(149)\n",
    "PXE150 = packets.prob(150)\n",
    "PXGE149 = PXE149 + PXE150\n",
    "print(\"P(X >= 149) = \" + str(PXGE149))"
   ]
  },
  {
   "cell_type": "code",
   "execution_count": 7,
   "id": "4b226cd8-8923-4390-a1db-47604866ef2a",
   "metadata": {},
   "outputs": [
    {
     "name": "stdout",
     "output_type": "stream",
     "text": [
      "E(X) = 90.0\n"
     ]
    }
   ],
   "source": [
    "EX = 100 * 0.9\n",
    "print(\"E(X) = \" + str(EX))"
   ]
  },
  {
   "cell_type": "code",
   "execution_count": 8,
   "id": "bd3dd1a8-c0a8-4f04-9ebc-c767fadd6c4a",
   "metadata": {},
   "outputs": [
    {
     "name": "stdout",
     "output_type": "stream",
     "text": [
      "std = 3.0\n"
     ]
    }
   ],
   "source": [
    "Var = 100 * 0.9 * 0.1\n",
    "std = math.sqrt(Var)\n",
    "print(\"std = \" + str(std))"
   ]
  }
 ],
 "metadata": {
  "kernelspec": {
   "display_name": "Python 3 (ipykernel)",
   "language": "python",
   "name": "python3"
  },
  "language_info": {
   "codemirror_mode": {
    "name": "ipython",
    "version": 3
   },
   "file_extension": ".py",
   "mimetype": "text/x-python",
   "name": "python",
   "nbconvert_exporter": "python",
   "pygments_lexer": "ipython3",
   "version": "3.12.1"
  }
 },
 "nbformat": 4,
 "nbformat_minor": 5
}

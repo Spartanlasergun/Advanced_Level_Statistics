{
 "cells": [
  {
   "cell_type": "markdown",
   "id": "7731921f-0e19-4d97-b094-fd4a4082d137",
   "metadata": {},
   "source": [
    "# Question 10\n",
    "-----"
   ]
  },
  {
   "cell_type": "code",
   "execution_count": 1,
   "id": "b1c02b9a-f8fd-4d18-aee7-138201232c67",
   "metadata": {},
   "outputs": [],
   "source": [
    "import math\n",
    "\n",
    "class poisson:\n",
    "    def __init__(self, lamb):\n",
    "        self.lamb = lamb\n",
    "\n",
    "    def prob(self, x):\n",
    "        pois = math.exp(-self.lamb) * (pow(self.lamb, x) / math.factorial(x))\n",
    "        return pois\n",
    "\n",
    "    def freq(self, event, sample):\n",
    "        freq = self.prob(event) * sample \n",
    "        freq = round(freq, 0)\n",
    "        return freq"
   ]
  },
  {
   "cell_type": "code",
   "execution_count": 2,
   "id": "4a2b3028-45c5-4f21-a1b5-fd1289e31eb0",
   "metadata": {},
   "outputs": [
    {
     "name": "stdout",
     "output_type": "stream",
     "text": [
      "P(X > 2) = 0.7897620129769026\n"
     ]
    }
   ],
   "source": [
    "pois_dist = poisson(4.2)\n",
    "PXE0 = pois_dist.prob(0)\n",
    "PXE1 = pois_dist.prob(1)\n",
    "PXE2 = pois_dist.prob(2)\n",
    "PXG2 = 1 - (PXE0 + PXE1 + PXE2)\n",
    "print(\"P(X > 2) = \" + str(PXG2))"
   ]
  },
  {
   "cell_type": "markdown",
   "id": "374c9b9e-dc26-4e98-9d22-516fb342b5fb",
   "metadata": {},
   "source": [
    "events must occur independently"
   ]
  },
  {
   "cell_type": "code",
   "execution_count": null,
   "id": "25ffba52-f34f-47c1-a597-3ff4451b9bf1",
   "metadata": {},
   "outputs": [],
   "source": []
  }
 ],
 "metadata": {
  "kernelspec": {
   "display_name": "Python 3 (ipykernel)",
   "language": "python",
   "name": "python3"
  },
  "language_info": {
   "codemirror_mode": {
    "name": "ipython",
    "version": 3
   },
   "file_extension": ".py",
   "mimetype": "text/x-python",
   "name": "python",
   "nbconvert_exporter": "python",
   "pygments_lexer": "ipython3",
   "version": "3.12.1"
  }
 },
 "nbformat": 4,
 "nbformat_minor": 5
}

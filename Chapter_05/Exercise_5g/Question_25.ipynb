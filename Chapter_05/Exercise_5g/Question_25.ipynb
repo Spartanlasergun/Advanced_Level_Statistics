{
 "cells": [
  {
   "cell_type": "markdown",
   "id": "7f878cda-5970-4e8f-96b7-0a8d6bbff631",
   "metadata": {},
   "source": [
    "# Question 25\n",
    "-----"
   ]
  },
  {
   "cell_type": "code",
   "execution_count": 1,
   "id": "0599ad28-d61c-4463-9cb6-c21b437068f0",
   "metadata": {},
   "outputs": [],
   "source": [
    "import math\n",
    "\n",
    "class poisson:\n",
    "    def __init__(self, lamb):\n",
    "        self.lamb = lamb\n",
    "\n",
    "    def prob(self, x):\n",
    "        pois = math.exp(-self.lamb) * (pow(self.lamb, x) / math.factorial(x))\n",
    "        return pois\n",
    "\n",
    "    def freq(self, event, sample):\n",
    "        freq = self.prob(event) * sample \n",
    "        freq = round(freq, 0)\n",
    "        return freq"
   ]
  },
  {
   "cell_type": "code",
   "execution_count": 2,
   "id": "c6b29e36-d622-425c-b75f-6796d7b36bca",
   "metadata": {},
   "outputs": [
    {
     "name": "stdout",
     "output_type": "stream",
     "text": [
      "P(X = 0) = 0.1353352832366127\n"
     ]
    }
   ],
   "source": [
    "mean = 2\n",
    "pois_dist = poisson(mean)\n",
    "PXE0 = pois_dist.prob(0)\n",
    "print(\"P(X = 0) = \" + str(PXE0))"
   ]
  },
  {
   "cell_type": "code",
   "execution_count": 3,
   "id": "1d92b1ed-319e-455c-8bd7-85b8e06954f3",
   "metadata": {},
   "outputs": [
    {
     "name": "stdout",
     "output_type": "stream",
     "text": [
      "P(X > 2) = 0.3233235838169365\n"
     ]
    }
   ],
   "source": [
    "PXE1 = pois_dist.prob(1)\n",
    "PXE2 = pois_dist.prob(2)\n",
    "filled = 1 - (PXE0 + PXE1 + PXE2)\n",
    "print(\"P(X > 2) = \" + str(filled))"
   ]
  },
  {
   "cell_type": "code",
   "execution_count": 4,
   "id": "80fc86c8-daf3-44c0-9ae4-b2b968b563f2",
   "metadata": {},
   "outputs": [
    {
     "name": "stdout",
     "output_type": "stream",
     "text": [
      "P(X <= 3) = 0.8571234604985472\n"
     ]
    }
   ],
   "source": [
    "PXE3 = pois_dist.prob(3)\n",
    "PXLE3 =PXE0 + PXE1 + PXE2 + PXE3\n",
    "print(\"P(X <= 3) = \" + str(PXLE3))"
   ]
  }
 ],
 "metadata": {
  "kernelspec": {
   "display_name": "Python 3 (ipykernel)",
   "language": "python",
   "name": "python3"
  },
  "language_info": {
   "codemirror_mode": {
    "name": "ipython",
    "version": 3
   },
   "file_extension": ".py",
   "mimetype": "text/x-python",
   "name": "python",
   "nbconvert_exporter": "python",
   "pygments_lexer": "ipython3",
   "version": "3.12.1"
  }
 },
 "nbformat": 4,
 "nbformat_minor": 5
}

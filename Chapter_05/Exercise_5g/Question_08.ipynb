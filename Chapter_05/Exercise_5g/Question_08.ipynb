{
 "cells": [
  {
   "cell_type": "markdown",
   "id": "f52c47c7-326a-4540-843e-d17160212cfc",
   "metadata": {},
   "source": [
    "# Question 8\n",
    "-----"
   ]
  },
  {
   "cell_type": "code",
   "execution_count": 1,
   "id": "34db595e-de5d-44a0-a760-6f947b224640",
   "metadata": {},
   "outputs": [],
   "source": [
    "import math\n",
    "\n",
    "class bino:\n",
    "    def __init__(self, n, p, q):\n",
    "        self.n = n\n",
    "        self.p = p\n",
    "        self.q = q\n",
    "        self.frequencies = []\n",
    "\n",
    "    def prob(self, r):\n",
    "        self.funk = ((math.factorial(self.n)) / (math.factorial(r) * math.factorial(((self.n)-r)))) * pow((self.q), ((self.n)-r)) * pow((self.p), r)\n",
    "        return self.funk\n",
    "\n",
    "    def freq(self, event, r):\n",
    "        event_prob = self.prob(r)\n",
    "        frequency = event_prob * event\n",
    "        frequency = round(frequency, 0)\n",
    "        return frequency"
   ]
  },
  {
   "cell_type": "code",
   "execution_count": 2,
   "id": "f1b3a51e-d44e-4e1c-99b6-54139f8c6f9b",
   "metadata": {},
   "outputs": [
    {
     "name": "stdout",
     "output_type": "stream",
     "text": [
      "P(X = 22) = 0.22323814603185926\n"
     ]
    }
   ],
   "source": [
    "bin_dist = bino(24, 0.95, 0.05)\n",
    "PXE22 = bin_dist.prob(22)\n",
    "print(\"P(X = 22) = \" + str(PXE22))"
   ]
  },
  {
   "cell_type": "code",
   "execution_count": 3,
   "id": "3aaa22e2-1f9a-4ac8-9dbb-e5406abe4d1c",
   "metadata": {},
   "outputs": [
    {
     "name": "stdout",
     "output_type": "stream",
     "text": [
      "P(X < 22) = 0.11594458835933996\n"
     ]
    }
   ],
   "source": [
    "PXE23 = bin_dist.prob(23)\n",
    "PXE24 = bin_dist.prob(24)\n",
    "PXL22 = 1 - (PXE22 + PXE23 + PXE24)\n",
    "print(\"P(X < 22) = \" + str(PXL22))"
   ]
  },
  {
   "cell_type": "code",
   "execution_count": 4,
   "id": "bd0590d6-74c1-4923-ad3a-3bdcaf5e755d",
   "metadata": {},
   "outputs": [
    {
     "name": "stdout",
     "output_type": "stream",
     "text": [
      "E(X) = 9.275567068747197\n"
     ]
    }
   ],
   "source": [
    "EX = 80 * PXL22\n",
    "print(\"E(X) = \" + str(EX))"
   ]
  },
  {
   "cell_type": "code",
   "execution_count": 5,
   "id": "5f1436fc-7a18-48ae-9c23-8485acd6c7b0",
   "metadata": {},
   "outputs": [
    {
     "name": "stdout",
     "output_type": "stream",
     "text": [
      "std = 2.8635843384056026\n"
     ]
    }
   ],
   "source": [
    "var = 80 * PXL22 * (1 - PXL22)\n",
    "std = math.sqrt(var)\n",
    "print(\"std = \" + str(std))"
   ]
  },
  {
   "cell_type": "code",
   "execution_count": 6,
   "id": "4125ec5e-6e4e-4326-a7d3-0e55f2612ed0",
   "metadata": {},
   "outputs": [
    {
     "name": "stdout",
     "output_type": "stream",
     "text": [
      "E(X) = 18.93757711543799\n"
     ]
    }
   ],
   "source": [
    "alternative = bino(12, 0.95, 0.05)\n",
    "PXE11 = alternative.prob(11)\n",
    "PXE12 = alternative.prob(12)\n",
    "rejection = 1 - (PXE11 + PXE12)\n",
    "EX = 160 * rejection\n",
    "print(\"E(X) = \" + str(EX))"
   ]
  },
  {
   "cell_type": "markdown",
   "id": "4146154b-5c58-432a-b0de-eb4406704d56",
   "metadata": {},
   "source": [
    "Since the expected mean for rejected boxes increases, the alternative policy would lead to an increase"
   ]
  }
 ],
 "metadata": {
  "kernelspec": {
   "display_name": "Python 3 (ipykernel)",
   "language": "python",
   "name": "python3"
  },
  "language_info": {
   "codemirror_mode": {
    "name": "ipython",
    "version": 3
   },
   "file_extension": ".py",
   "mimetype": "text/x-python",
   "name": "python",
   "nbconvert_exporter": "python",
   "pygments_lexer": "ipython3",
   "version": "3.12.1"
  }
 },
 "nbformat": 4,
 "nbformat_minor": 5
}

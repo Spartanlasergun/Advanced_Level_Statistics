{
 "cells": [
  {
   "cell_type": "markdown",
   "id": "e2f358f5-9a77-4e1b-8431-f57b5ca959a5",
   "metadata": {},
   "source": [
    "# Question 2\n",
    "-----"
   ]
  },
  {
   "cell_type": "code",
   "execution_count": 1,
   "id": "bb0984a5-5f18-49ef-a011-44bb04f438dc",
   "metadata": {},
   "outputs": [],
   "source": [
    "import math\n",
    "\n",
    "class poisson:\n",
    "    def __init__(self, lamb):\n",
    "        self.lamb = lamb\n",
    "\n",
    "    def prob(self, x):\n",
    "        pois = math.exp(-self.lamb) * (pow(self.lamb, x) / math.factorial(x))\n",
    "        return pois\n",
    "\n",
    "    def freq(self, event, sample):\n",
    "        freq = self.prob(event) * sample \n",
    "        freq = round(freq, 0)\n",
    "        return freq"
   ]
  },
  {
   "cell_type": "code",
   "execution_count": 2,
   "id": "f2e63c5c-f76b-473d-9c76-7e9e38845e01",
   "metadata": {},
   "outputs": [
    {
     "name": "stdout",
     "output_type": "stream",
     "text": [
      "P(X = 2) = 0.18393972058572117\n"
     ]
    }
   ],
   "source": [
    "mean = 500 * 0.002\n",
    "pois_dist = poisson(mean)\n",
    "PXE2 = pois_dist.prob(2)\n",
    "print(\"P(X = 2) = \" + str(PXE2))"
   ]
  },
  {
   "cell_type": "code",
   "execution_count": 3,
   "id": "13a5d529-cf96-4158-8203-1bf0a752fab7",
   "metadata": {},
   "outputs": [
    {
     "name": "stdout",
     "output_type": "stream",
     "text": [
      "P(X > 3) = 0.01898815687615374\n"
     ]
    }
   ],
   "source": [
    "PXE0 = pois_dist.prob(0)\n",
    "PXE1 = pois_dist.prob(1)\n",
    "PXE2 = pois_dist.prob(2)\n",
    "PXE3 = pois_dist.prob(3)\n",
    "P3ND = PXE0 + PXE1 + PXE2 + PXE3\n",
    "P3MD = 1 - P3ND\n",
    "print(\"P(X > 3) = \" + str(P3MD))"
   ]
  },
  {
   "cell_type": "code",
   "execution_count": 4,
   "id": "3447c2a0-7d31-4d0d-bdd2-b04796a0f498",
   "metadata": {},
   "outputs": [
    {
     "name": "stdout",
     "output_type": "stream",
     "text": [
      "b) 0.2706705664732254\n"
     ]
    }
   ],
   "source": [
    "mean = (500 * 0.002) * 2\n",
    "pois_dist = poisson(mean)\n",
    "PXE2 = pois_dist.prob(2)\n",
    "print(\"b) \" + str(PXE2))"
   ]
  },
  {
   "cell_type": "code",
   "execution_count": 5,
   "id": "bccdd3fe-59e7-4e1c-894e-50c58af4b958",
   "metadata": {},
   "outputs": [
    {
     "name": "stdout",
     "output_type": "stream",
     "text": [
      "c) 0.049787068367863944\n"
     ]
    }
   ],
   "source": [
    "mean = (500 * 0.002) * 3\n",
    "pois_dist = poisson(mean)\n",
    "PXE0 = pois_dist.prob(0)\n",
    "print(\"c) \" + str(PXE0))"
   ]
  }
 ],
 "metadata": {
  "kernelspec": {
   "display_name": "Python 3 (ipykernel)",
   "language": "python",
   "name": "python3"
  },
  "language_info": {
   "codemirror_mode": {
    "name": "ipython",
    "version": 3
   },
   "file_extension": ".py",
   "mimetype": "text/x-python",
   "name": "python",
   "nbconvert_exporter": "python",
   "pygments_lexer": "ipython3",
   "version": "3.12.1"
  }
 },
 "nbformat": 4,
 "nbformat_minor": 5
}

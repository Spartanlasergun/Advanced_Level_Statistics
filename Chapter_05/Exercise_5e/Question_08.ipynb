{
 "cells": [
  {
   "cell_type": "markdown",
   "id": "ac2df5bc-07d5-48ee-8c06-78f40938daa4",
   "metadata": {},
   "source": [
    "# Question 8\n",
    "-----"
   ]
  },
  {
   "cell_type": "code",
   "execution_count": 1,
   "id": "93f80df3-7d41-4e12-ad77-177592f85aa8",
   "metadata": {},
   "outputs": [],
   "source": [
    "import math\n",
    "\n",
    "class poisson:\n",
    "    def __init__(self, lamb):\n",
    "        self.lamb = lamb\n",
    "\n",
    "    def prob(self, x):\n",
    "        pois = math.exp(-self.lamb) * (pow(self.lamb, x) / math.factorial(x))\n",
    "        return pois\n",
    "\n",
    "    def freq(self, event, sample):\n",
    "        freq = self.prob(event) * sample \n",
    "        freq = round(freq, 0)\n",
    "        return freq"
   ]
  },
  {
   "cell_type": "code",
   "execution_count": 2,
   "id": "2abf760d-98ea-4cbe-bbf2-caed01671c55",
   "metadata": {},
   "outputs": [
    {
     "name": "stdout",
     "output_type": "stream",
     "text": [
      "P(X > 4) = 0.4678964236252845\n"
     ]
    }
   ],
   "source": [
    "p = 0.03\n",
    "mean = 150 * p\n",
    "pois_dist = poisson(mean)\n",
    "PXE0 = pois_dist.prob(0)\n",
    "PXE1 = pois_dist.prob(1)\n",
    "PXE2 = pois_dist.prob(2)\n",
    "PXE3 = pois_dist.prob(3)\n",
    "PXE4 = pois_dist.prob(4)\n",
    "PXLE4 = PXE0 + PXE1 + PXE2 + PXE3 + PXE4\n",
    "PXG4 = 1 - PXLE4\n",
    "print(\"P(X > 4) = \" + str(PXG4))"
   ]
  },
  {
   "cell_type": "code",
   "execution_count": 3,
   "id": "27c79d07-6782-4348-984f-c8882d560e92",
   "metadata": {},
   "outputs": [
    {
     "name": "stdout",
     "output_type": "stream",
     "text": [
      "P(X <= 5) = 0.7029304348608274\n"
     ]
    }
   ],
   "source": [
    "PXE5 = pois_dist.prob(5)\n",
    "PXLE5 = PXE0 + PXE1 + PXE2 + PXE3 + PXE4 + PXE5\n",
    "print(\"P(X <= 5) = \" + str(PXLE5))"
   ]
  }
 ],
 "metadata": {
  "kernelspec": {
   "display_name": "Python 3 (ipykernel)",
   "language": "python",
   "name": "python3"
  },
  "language_info": {
   "codemirror_mode": {
    "name": "ipython",
    "version": 3
   },
   "file_extension": ".py",
   "mimetype": "text/x-python",
   "name": "python",
   "nbconvert_exporter": "python",
   "pygments_lexer": "ipython3",
   "version": "3.12.1"
  }
 },
 "nbformat": 4,
 "nbformat_minor": 5
}

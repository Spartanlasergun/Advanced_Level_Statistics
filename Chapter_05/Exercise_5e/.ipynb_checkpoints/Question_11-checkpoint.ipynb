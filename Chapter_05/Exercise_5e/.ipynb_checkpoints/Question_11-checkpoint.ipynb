{
 "cells": [
  {
   "cell_type": "markdown",
   "id": "27ed644a-7a47-44c5-9b3b-03c7df12f00c",
   "metadata": {},
   "source": [
    "# Question 11\n",
    "-----"
   ]
  },
  {
   "cell_type": "code",
   "execution_count": 1,
   "id": "17ce5973-1cea-4958-be84-c4797d9e9713",
   "metadata": {},
   "outputs": [],
   "source": [
    "import math\n",
    "\n",
    "class poisson:\n",
    "    def __init__(self, lamb):\n",
    "        self.lamb = lamb\n",
    "\n",
    "    def prob(self, x):\n",
    "        pois = math.exp(-self.lamb) * (pow(self.lamb, x) / math.factorial(x))\n",
    "        return pois\n",
    "\n",
    "    def freq(self, event, sample):\n",
    "        freq = self.prob(event) * sample \n",
    "        freq = round(freq, 0)\n",
    "        return freq"
   ]
  },
  {
   "cell_type": "markdown",
   "id": "e5f853df-5eb0-4088-a14e-1cd43a52dacb",
   "metadata": {},
   "source": [
    "$$n = 55$$\n",
    "\n",
    "$$p = 0.086$$\n",
    "\n",
    "Using the poisson approximation to the Binomial,\n",
    "\n",
    "$$\\lambda = np = 4.73$$\n",
    "\n",
    "Hence,\n",
    "\n",
    "$$X \\sim Po(4.73)$$"
   ]
  },
  {
   "cell_type": "code",
   "execution_count": 2,
   "id": "9a3d961a-0850-4940-87bc-55494c0604a0",
   "metadata": {},
   "outputs": [
    {
     "name": "stdout",
     "output_type": "stream",
     "text": [
      "P(X <= 3) = 0.3049876986972919\n"
     ]
    }
   ],
   "source": [
    "pois_dist = poisson(4.73)\n",
    "PXE0 = pois_dist.prob(0)\n",
    "PXE1 = pois_dist.prob(1)\n",
    "PXE2 = pois_dist.prob(2)\n",
    "PXE3 = pois_dist.prob(3)\n",
    "PXLE3 = PXE0 + PXE1 + PXE2 + PXE3\n",
    "print(\"P(X <= 3) = \" + str(PXLE3))"
   ]
  }
 ],
 "metadata": {
  "kernelspec": {
   "display_name": "Python 3 (ipykernel)",
   "language": "python",
   "name": "python3"
  },
  "language_info": {
   "codemirror_mode": {
    "name": "ipython",
    "version": 3
   },
   "file_extension": ".py",
   "mimetype": "text/x-python",
   "name": "python",
   "nbconvert_exporter": "python",
   "pygments_lexer": "ipython3",
   "version": "3.12.1"
  }
 },
 "nbformat": 4,
 "nbformat_minor": 5
}

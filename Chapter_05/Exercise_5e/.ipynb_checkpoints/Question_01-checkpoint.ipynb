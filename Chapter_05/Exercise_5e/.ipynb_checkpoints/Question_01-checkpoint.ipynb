{
 "cells": [
  {
   "cell_type": "markdown",
   "id": "314677c2-78cc-473b-aa9c-82f5bb889aca",
   "metadata": {},
   "source": [
    "# Question 1\n",
    "-----"
   ]
  },
  {
   "cell_type": "code",
   "execution_count": 1,
   "id": "991dc6dc-eb2c-4f2f-acdc-1d699ecc6982",
   "metadata": {},
   "outputs": [],
   "source": [
    "import math\n",
    "\n",
    "class bino:\n",
    "    def __init__(self, n, p, q):\n",
    "        self.n = n\n",
    "        self.p = p\n",
    "        self.q = q\n",
    "        self.frequencies = []\n",
    "\n",
    "    def prob(self, r):\n",
    "        self.funk = ((math.factorial(self.n)) / (math.factorial(r) * math.factorial(((self.n)-r)))) * pow((self.q), ((self.n)-r)) * pow((self.p), r)\n",
    "        return self.funk\n",
    "\n",
    "    def freq(self, event, r):\n",
    "        event_prob = self.prob(r)\n",
    "        frequency = event_prob * event\n",
    "        frequency = round(frequency, 0)\n",
    "        return frequency\n",
    "\n",
    "class poisson:\n",
    "    def __init__(self, lamb):\n",
    "        self.lamb = lamb\n",
    "\n",
    "    def prob(self, x):\n",
    "        pois = math.exp(-self.lamb) * (pow(self.lamb, x) / math.factorial(x))\n",
    "        return pois\n",
    "\n",
    "    def freq(self, event, sample):\n",
    "        freq = self.prob(event) * sample \n",
    "        freq = round(freq, 0)\n",
    "        return freq"
   ]
  },
  {
   "cell_type": "markdown",
   "id": "2555f9de-e70e-4997-a209-8266c57826c0",
   "metadata": {},
   "source": [
    "For binomial:"
   ]
  },
  {
   "cell_type": "code",
   "execution_count": 2,
   "id": "146b9d61-2a27-4f4e-8449-4ef8515342b8",
   "metadata": {},
   "outputs": [
    {
     "name": "stdout",
     "output_type": "stream",
     "text": [
      "P(X = 0) = 0.04755250792540563\n",
      "P(X = 2) = 0.22515296291601877\n",
      "P(X = 4) = 0.1706055956116225\n"
     ]
    }
   ],
   "source": [
    "bin_dist = bino(100, 0.03, 0.97)\n",
    "PXE0 = bin_dist.prob(0)\n",
    "PXE2 = bin_dist.prob(2)\n",
    "PXE4 = bin_dist.prob(4)\n",
    "print(\"P(X = 0) = \" + str(PXE0))\n",
    "print(\"P(X = 2) = \" + str(PXE2))\n",
    "print(\"P(X = 4) = \" + str(PXE4))"
   ]
  },
  {
   "cell_type": "markdown",
   "id": "e56d2c6b-2762-4cae-bf1f-67f513b3769a",
   "metadata": {},
   "source": [
    "For Poisson:"
   ]
  },
  {
   "cell_type": "code",
   "execution_count": 3,
   "id": "36d781f8-ed1a-4a1d-9fce-c86afb1f59d2",
   "metadata": {},
   "outputs": [
    {
     "name": "stdout",
     "output_type": "stream",
     "text": [
      "P(X = 0) = 0.049787068367863944\n",
      "P(X = 2) = 0.22404180765538775\n",
      "P(X = 4) = 0.16803135574154082\n"
     ]
    }
   ],
   "source": [
    "mean = 100 * 0.03\n",
    "pois_dist = poisson(mean)\n",
    "PXE0 = pois_dist.prob(0)\n",
    "PXE2 = pois_dist.prob(2)\n",
    "PXE4 = pois_dist.prob(4)\n",
    "print(\"P(X = 0) = \" + str(PXE0))\n",
    "print(\"P(X = 2) = \" + str(PXE2))\n",
    "print(\"P(X = 4) = \" + str(PXE4))"
   ]
  }
 ],
 "metadata": {
  "kernelspec": {
   "display_name": "Python 3 (ipykernel)",
   "language": "python",
   "name": "python3"
  },
  "language_info": {
   "codemirror_mode": {
    "name": "ipython",
    "version": 3
   },
   "file_extension": ".py",
   "mimetype": "text/x-python",
   "name": "python",
   "nbconvert_exporter": "python",
   "pygments_lexer": "ipython3",
   "version": "3.12.1"
  }
 },
 "nbformat": 4,
 "nbformat_minor": 5
}

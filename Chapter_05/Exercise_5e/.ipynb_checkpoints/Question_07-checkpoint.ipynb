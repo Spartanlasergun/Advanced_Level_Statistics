{
 "cells": [
  {
   "cell_type": "markdown",
   "id": "cd8a761a-99b9-4730-ad7a-b5dcbf11dd93",
   "metadata": {},
   "source": [
    "# Question 7\n",
    "-----"
   ]
  },
  {
   "cell_type": "code",
   "execution_count": 1,
   "id": "7acd2258-70a0-483a-a766-8d9b66b48bd9",
   "metadata": {},
   "outputs": [],
   "source": [
    "import math\n",
    "\n",
    "class poisson:\n",
    "    def __init__(self, lamb):\n",
    "        self.lamb = lamb\n",
    "\n",
    "    def prob(self, x):\n",
    "        pois = math.exp(-self.lamb) * (pow(self.lamb, x) / math.factorial(x))\n",
    "        return pois\n",
    "\n",
    "    def freq(self, event, sample):\n",
    "        freq = self.prob(event) * sample \n",
    "        freq = round(freq, 0)\n",
    "        return freq"
   ]
  },
  {
   "cell_type": "code",
   "execution_count": 2,
   "id": "defabf54-7d2b-4419-9714-82edc73e5b45",
   "metadata": {},
   "outputs": [
    {
     "name": "stdout",
     "output_type": "stream",
     "text": [
      "P(X < 3) = 0.6766764161830635\n"
     ]
    }
   ],
   "source": [
    "p = 1/500\n",
    "mean = 1000 * p\n",
    "pois_dist = poisson(mean)\n",
    "PXE0 = pois_dist.prob(0)\n",
    "PXE1 = pois_dist.prob(1)\n",
    "PXE2 = pois_dist.prob(2)\n",
    "PXL3 = PXE0 + PXE1 + PXE2\n",
    "print(\"P(X < 3) = \" + str(PXL3))"
   ]
  },
  {
   "cell_type": "code",
   "execution_count": 3,
   "id": "5a5206c5-99c0-469b-9bc5-6f2d62cc55a8",
   "metadata": {},
   "outputs": [
    {
     "name": "stdout",
     "output_type": "stream",
     "text": [
      "P(X > 5) = 0.016563608480614334\n"
     ]
    }
   ],
   "source": [
    "PXE3 = pois_dist.prob(3)\n",
    "PXE4 = pois_dist.prob(4)\n",
    "PXE5 = pois_dist.prob(5)\n",
    "PXLE5 = PXE0 + PXE1 + PXE2 + PXE3 + PXE4 + PXE5\n",
    "PXG5 = 1 - PXLE5\n",
    "print(\"P(X > 5) = \" + str(PXG5))"
   ]
  },
  {
   "cell_type": "markdown",
   "id": "ac867646-d4e6-4493-9d90-1db1c9ec1c42",
   "metadata": {},
   "source": [
    "$$\\lambda = np$$\n",
    "\n",
    "hence,\n",
    "\n",
    "$$e^{-np} = 0.05$$\n",
    "\n",
    "$$-n(0.002) = \\ln 0.05$$\n",
    "\n",
    "$$-n = \\frac{\\ln 0.05}{0.002}$$\n",
    "\n",
    "$$n = 1497.86$$\n",
    "\n",
    "Hence, the agent must sell at least 1498 tickets for a 95% chance of selling at least one prize winning ticket"
   ]
  }
 ],
 "metadata": {
  "kernelspec": {
   "display_name": "Python 3 (ipykernel)",
   "language": "python",
   "name": "python3"
  },
  "language_info": {
   "codemirror_mode": {
    "name": "ipython",
    "version": 3
   },
   "file_extension": ".py",
   "mimetype": "text/x-python",
   "name": "python",
   "nbconvert_exporter": "python",
   "pygments_lexer": "ipython3",
   "version": "3.12.1"
  }
 },
 "nbformat": 4,
 "nbformat_minor": 5
}

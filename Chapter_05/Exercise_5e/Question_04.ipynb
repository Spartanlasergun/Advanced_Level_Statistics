{
 "cells": [
  {
   "cell_type": "markdown",
   "id": "18d85bfe-a6bc-4bf2-ba6d-a21fdf2af7c2",
   "metadata": {},
   "source": [
    "# Question 4\n",
    "-----"
   ]
  },
  {
   "cell_type": "code",
   "execution_count": 1,
   "id": "5144e888-e92b-452e-9044-3e016562ec4a",
   "metadata": {},
   "outputs": [
    {
     "name": "stdout",
     "output_type": "stream",
     "text": [
      "a) 0.027777777777777776\n"
     ]
    }
   ],
   "source": [
    "p = 1/36\n",
    "print(\"a) \" + str(p))"
   ]
  },
  {
   "cell_type": "code",
   "execution_count": 2,
   "id": "a06a5c17-7ace-4607-91be-b65aaa3fbb73",
   "metadata": {},
   "outputs": [],
   "source": [
    "import math\n",
    "\n",
    "class poisson:\n",
    "    def __init__(self, lamb):\n",
    "        self.lamb = lamb\n",
    "\n",
    "    def prob(self, x):\n",
    "        pois = math.exp(-self.lamb) * (pow(self.lamb, x) / math.factorial(x))\n",
    "        return pois\n",
    "\n",
    "    def freq(self, event, sample):\n",
    "        freq = self.prob(event) * sample \n",
    "        freq = round(freq, 0)\n",
    "        return freq"
   ]
  },
  {
   "cell_type": "code",
   "execution_count": 3,
   "id": "9ad13e88-9c87-4763-a9ec-fe389f67bfee",
   "metadata": {},
   "outputs": [
    {
     "name": "stdout",
     "output_type": "stream",
     "text": [
      "P(X >= 2) = 0.7127025048163542\n"
     ]
    }
   ],
   "source": [
    "mean = 90 * p\n",
    "pois_dist = poisson(mean)\n",
    "PXE0 = pois_dist.prob(0)\n",
    "PXE1 = pois_dist.prob(1)\n",
    "PXGE2 = 1 - (PXE0 + PXE1)\n",
    "print(\"P(X >= 2) = \" + str(PXGE2))"
   ]
  }
 ],
 "metadata": {
  "kernelspec": {
   "display_name": "Python 3 (ipykernel)",
   "language": "python",
   "name": "python3"
  },
  "language_info": {
   "codemirror_mode": {
    "name": "ipython",
    "version": 3
   },
   "file_extension": ".py",
   "mimetype": "text/x-python",
   "name": "python",
   "nbconvert_exporter": "python",
   "pygments_lexer": "ipython3",
   "version": "3.12.1"
  }
 },
 "nbformat": 4,
 "nbformat_minor": 5
}

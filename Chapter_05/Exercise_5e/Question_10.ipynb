{
 "cells": [
  {
   "cell_type": "markdown",
   "id": "e6670142-fd74-4e7b-b7e9-44e45692a255",
   "metadata": {},
   "source": [
    "# Question 10\n",
    "-----"
   ]
  },
  {
   "cell_type": "code",
   "execution_count": 1,
   "id": "853af60b-0c9d-4688-bf9a-bb41a1ccd30d",
   "metadata": {},
   "outputs": [],
   "source": [
    "import math\n",
    "\n",
    "class poisson:\n",
    "    def __init__(self, lamb):\n",
    "        self.lamb = lamb\n",
    "\n",
    "    def prob(self, x):\n",
    "        pois = math.exp(-self.lamb) * (pow(self.lamb, x) / math.factorial(x))\n",
    "        return pois\n",
    "\n",
    "    def freq(self, event, sample):\n",
    "        freq = self.prob(event) * sample \n",
    "        freq = round(freq, 0)\n",
    "        return freq"
   ]
  },
  {
   "cell_type": "code",
   "execution_count": 2,
   "id": "faba4000-2449-4b59-8712-19d2f6b0a732",
   "metadata": {},
   "outputs": [
    {
     "name": "stdout",
     "output_type": "stream",
     "text": [
      "P(X = 0) = 0.4723665527410147\n"
     ]
    }
   ],
   "source": [
    "p = 0.015\n",
    "mean = 50 * p\n",
    "pois_dist = poisson(mean)\n",
    "PXE0 = pois_dist.prob(0)\n",
    "print(\"P(X = 0) = \" + str(PXE0))"
   ]
  },
  {
   "cell_type": "code",
   "execution_count": 3,
   "id": "ebb92298-1cb8-4a2e-a0be-8edf75329e53",
   "metadata": {},
   "outputs": [
    {
     "name": "stdout",
     "output_type": "stream",
     "text": [
      "P(X > 2) = 0.04050543974481391\n"
     ]
    }
   ],
   "source": [
    "PXE1 = pois_dist.prob(1)\n",
    "PXE2 = pois_dist.prob(2)\n",
    "PXG2 = 1 - (PXE0 + PXE1 + PXE2)\n",
    "print(\"P(X > 2) = \" + str(PXG2))"
   ]
  },
  {
   "cell_type": "markdown",
   "id": "8ed9d991-9c32-4ce2-9b3d-551894e387a4",
   "metadata": {},
   "source": [
    "Based on the constraints for the Poisson approximation to the Binomial (n > 50, p < 0.1) the approxiamtion is just barely valid"
   ]
  }
 ],
 "metadata": {
  "kernelspec": {
   "display_name": "Python 3 (ipykernel)",
   "language": "python",
   "name": "python3"
  },
  "language_info": {
   "codemirror_mode": {
    "name": "ipython",
    "version": 3
   },
   "file_extension": ".py",
   "mimetype": "text/x-python",
   "name": "python",
   "nbconvert_exporter": "python",
   "pygments_lexer": "ipython3",
   "version": "3.12.1"
  }
 },
 "nbformat": 4,
 "nbformat_minor": 5
}

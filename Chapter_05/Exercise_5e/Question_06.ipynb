{
 "cells": [
  {
   "cell_type": "markdown",
   "id": "8b4ca3b7-49ec-409a-a901-033e7701019f",
   "metadata": {},
   "source": [
    "# Question 6\n",
    "-----"
   ]
  },
  {
   "cell_type": "code",
   "execution_count": 1,
   "id": "64639ab5-89e1-4513-9b4a-ff9c7dcca9a2",
   "metadata": {},
   "outputs": [],
   "source": [
    "import math\n",
    "\n",
    "class poisson:\n",
    "    def __init__(self, lamb):\n",
    "        self.lamb = lamb\n",
    "\n",
    "    def prob(self, x):\n",
    "        pois = math.exp(-self.lamb) * (pow(self.lamb, x) / math.factorial(x))\n",
    "        return pois\n",
    "\n",
    "    def freq(self, event, sample):\n",
    "        freq = self.prob(event) * sample \n",
    "        freq = round(freq, 0)\n",
    "        return freq"
   ]
  },
  {
   "cell_type": "code",
   "execution_count": 2,
   "id": "db04a7a7-5ff8-4379-9096-82fdd37b6887",
   "metadata": {},
   "outputs": [
    {
     "name": "stdout",
     "output_type": "stream",
     "text": [
      "P(X >= 5) = 0.10882198108584884\n"
     ]
    }
   ],
   "source": [
    "p = 1/80\n",
    "mean = 200 * p\n",
    "pois_dist = poisson(mean)\n",
    "PXE0 = pois_dist.prob(0)\n",
    "PXE1 = pois_dist.prob(1)\n",
    "PXE2 = pois_dist.prob(2)\n",
    "PXE3 = pois_dist.prob(3)\n",
    "PXE4 = pois_dist.prob(4)\n",
    "PXLE4 = PXE0 + PXE1 + PXE2 + PXE3 + PXE4\n",
    "PXGE5 = 1 - PXLE4\n",
    "print(\"P(X >= 5) = \" + str(PXGE5))"
   ]
  },
  {
   "cell_type": "markdown",
   "id": "60ee9ff2-ab74-4b51-a5cf-80a3b0f25cc1",
   "metadata": {},
   "source": [
    "$$\\lambda = np$$\n",
    "\n",
    "Hence\n",
    "\n",
    "$$e^{-np} \\ge 0.1$$\n",
    "\n",
    "$$-np \\ge \\ln 0.1$$\n",
    "\n",
    "$$-n \\ge \\frac{\\ln 0.1}{0.0125}$$\n",
    "\n",
    "$$n \\le 184.2$$\n",
    "\n",
    "Hence, at least 184 people must be sampled "
   ]
  }
 ],
 "metadata": {
  "kernelspec": {
   "display_name": "Python 3 (ipykernel)",
   "language": "python",
   "name": "python3"
  },
  "language_info": {
   "codemirror_mode": {
    "name": "ipython",
    "version": 3
   },
   "file_extension": ".py",
   "mimetype": "text/x-python",
   "name": "python",
   "nbconvert_exporter": "python",
   "pygments_lexer": "ipython3",
   "version": "3.12.1"
  }
 },
 "nbformat": 4,
 "nbformat_minor": 5
}

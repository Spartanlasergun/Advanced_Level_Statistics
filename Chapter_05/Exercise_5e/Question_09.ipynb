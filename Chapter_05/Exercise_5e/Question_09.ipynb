{
 "cells": [
  {
   "cell_type": "markdown",
   "id": "bc7aa0d3-dc28-42df-ad91-26806ed677ed",
   "metadata": {},
   "source": [
    "# Question 9\n",
    "-----"
   ]
  },
  {
   "cell_type": "markdown",
   "id": "ee85c26f-c684-4362-a6f0-0e613521518c",
   "metadata": {},
   "source": [
    "$$e^{-np} = 0.0235$$\n",
    "\n",
    "$$-250p = \\ln 0.0235$$\n",
    "\n",
    "$$p = \\frac{\\ln 0.0235}{-250}$$\n",
    "\n",
    "$$p = 0.015$$"
   ]
  }
 ],
 "metadata": {
  "kernelspec": {
   "display_name": "Python 3 (ipykernel)",
   "language": "python",
   "name": "python3"
  },
  "language_info": {
   "codemirror_mode": {
    "name": "ipython",
    "version": 3
   },
   "file_extension": ".py",
   "mimetype": "text/x-python",
   "name": "python",
   "nbconvert_exporter": "python",
   "pygments_lexer": "ipython3",
   "version": "3.12.1"
  }
 },
 "nbformat": 4,
 "nbformat_minor": 5
}

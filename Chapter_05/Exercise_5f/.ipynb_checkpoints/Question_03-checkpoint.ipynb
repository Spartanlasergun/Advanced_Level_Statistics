{
 "cells": [
  {
   "cell_type": "markdown",
   "id": "4e50a809-e7a8-4bf2-992d-5e039b1d3409",
   "metadata": {},
   "source": [
    "# Question 3\n",
    "-----"
   ]
  },
  {
   "cell_type": "code",
   "execution_count": 1,
   "id": "d5c30adb-5b38-4a0b-bf55-2da595b1d2b3",
   "metadata": {},
   "outputs": [],
   "source": [
    "import math\n",
    "\n",
    "class poisson:\n",
    "    def __init__(self, lamb):\n",
    "        self.lamb = lamb\n",
    "\n",
    "    def prob(self, x):\n",
    "        pois = math.exp(-self.lamb) * (pow(self.lamb, x) / math.factorial(x))\n",
    "        return pois\n",
    "\n",
    "    def freq(self, event, sample):\n",
    "        freq = self.prob(event) * sample \n",
    "        freq = round(freq, 0)\n",
    "        return freq"
   ]
  },
  {
   "cell_type": "code",
   "execution_count": 2,
   "id": "c94e0501-0afc-437e-ba57-9ec003e21a3a",
   "metadata": {},
   "outputs": [
    {
     "name": "stdout",
     "output_type": "stream",
     "text": [
      "P(X > 2) = 0.3233235838169365\n"
     ]
    }
   ],
   "source": [
    "m = 0.01 * 80\n",
    "n = 0.015 * 80\n",
    "mean = (m + n)\n",
    "pois_dist = poisson(mean)\n",
    "PXE0 = pois_dist.prob(0)\n",
    "PXE1 = pois_dist.prob(1)\n",
    "PXE2 = pois_dist.prob(2)\n",
    "PXG2 = 1 - (PXE0 + PXE1 + PXE2)\n",
    "print(\"P(X > 2) = \" + str(PXG2))"
   ]
  },
  {
   "cell_type": "code",
   "execution_count": 3,
   "id": "d5224041-9a1b-4669-a427-0950e8ee45bd",
   "metadata": {},
   "outputs": [
    {
     "name": "stdout",
     "output_type": "stream",
     "text": [
      "P(X >= 1) = 0.011928287138069482\n"
     ]
    }
   ],
   "source": [
    "defective_mean = (0.015 * 0.01) * 80\n",
    "defective = poisson(defective_mean)\n",
    "DXE0 = defective.prob(0)\n",
    "DXGE1 = 1 - DXE0\n",
    "print(\"P(X >= 1) = \" + str(DXGE1))"
   ]
  }
 ],
 "metadata": {
  "kernelspec": {
   "display_name": "Python 3 (ipykernel)",
   "language": "python",
   "name": "python3"
  },
  "language_info": {
   "codemirror_mode": {
    "name": "ipython",
    "version": 3
   },
   "file_extension": ".py",
   "mimetype": "text/x-python",
   "name": "python",
   "nbconvert_exporter": "python",
   "pygments_lexer": "ipython3",
   "version": "3.12.1"
  }
 },
 "nbformat": 4,
 "nbformat_minor": 5
}

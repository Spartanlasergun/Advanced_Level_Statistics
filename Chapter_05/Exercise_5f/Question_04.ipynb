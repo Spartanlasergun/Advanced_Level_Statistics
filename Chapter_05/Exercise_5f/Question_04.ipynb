{
 "cells": [
  {
   "cell_type": "markdown",
   "id": "7b3eb79c-b9a5-44d2-a0e4-49dff27cbb1b",
   "metadata": {},
   "source": [
    "# Question 4\n",
    "-----"
   ]
  },
  {
   "cell_type": "code",
   "execution_count": 1,
   "id": "0f340006-1220-49ef-b8ec-0620f75a45f0",
   "metadata": {},
   "outputs": [],
   "source": [
    "import math\n",
    "\n",
    "class poisson:\n",
    "    def __init__(self, lamb):\n",
    "        self.lamb = lamb\n",
    "\n",
    "    def prob(self, x):\n",
    "        pois = math.exp(-self.lamb) * (pow(self.lamb, x) / math.factorial(x))\n",
    "        return pois\n",
    "\n",
    "    def freq(self, event, sample):\n",
    "        freq = self.prob(event) * sample \n",
    "        freq = round(freq, 0)\n",
    "        return freq"
   ]
  },
  {
   "cell_type": "code",
   "execution_count": 2,
   "id": "efd4569c-3647-4d9b-87de-b052452a4e1b",
   "metadata": {},
   "outputs": [
    {
     "name": "stdout",
     "output_type": "stream",
     "text": [
      "P(X = 0) = 0.301194211912202\n"
     ]
    }
   ],
   "source": [
    "a_mean = 0.4 * 3\n",
    "pois_dist = poisson(a_mean)\n",
    "PXE0 = pois_dist.prob(0)\n",
    "print(\"P(X = 0) = \" + str(PXE0))"
   ]
  },
  {
   "cell_type": "code",
   "execution_count": 3,
   "id": "2d28e102-a7c4-465e-948b-5eba8076d7e8",
   "metadata": {},
   "outputs": [
    {
     "name": "stdout",
     "output_type": "stream",
     "text": [
      "P(X = 1) = 0.08032685765343475\n"
     ]
    }
   ],
   "source": [
    "AXE1 = pois_dist.prob(1)\n",
    "b_mean = 0.1 * 3\n",
    "b_dist = poisson(b_mean)\n",
    "BXE1 = b_dist.prob(1)\n",
    "PXE1 = AXE1 * BXE1\n",
    "print(\"P(X = 1) = \" + str(PXE1))"
   ]
  },
  {
   "cell_type": "code",
   "execution_count": 4,
   "id": "82dde76b-755d-486d-b77b-4f61d1dc8ac8",
   "metadata": {},
   "outputs": [
    {
     "name": "stdout",
     "output_type": "stream",
     "text": [
      "P(X = 2) = 0.25102143016698364\n"
     ]
    }
   ],
   "source": [
    "break_mean = a_mean + b_mean\n",
    "breakdown = poisson(break_mean)\n",
    "BXE2 = breakdown.prob(2)\n",
    "print(\"P(X = 2) = \" + str(BXE2))"
   ]
  }
 ],
 "metadata": {
  "kernelspec": {
   "display_name": "Python 3 (ipykernel)",
   "language": "python",
   "name": "python3"
  },
  "language_info": {
   "codemirror_mode": {
    "name": "ipython",
    "version": 3
   },
   "file_extension": ".py",
   "mimetype": "text/x-python",
   "name": "python",
   "nbconvert_exporter": "python",
   "pygments_lexer": "ipython3",
   "version": "3.12.1"
  }
 },
 "nbformat": 4,
 "nbformat_minor": 5
}

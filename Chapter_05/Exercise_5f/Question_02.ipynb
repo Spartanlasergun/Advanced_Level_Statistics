{
 "cells": [
  {
   "cell_type": "markdown",
   "id": "286a4a88-1fe4-4fdc-9460-bff667052dc1",
   "metadata": {},
   "source": [
    "# Question 2\n",
    "-----"
   ]
  },
  {
   "cell_type": "code",
   "execution_count": 1,
   "id": "db9d8bd2-d5d4-47a7-a6d0-a35f35ed5481",
   "metadata": {},
   "outputs": [],
   "source": [
    "import math\n",
    "\n",
    "class poisson:\n",
    "    def __init__(self, lamb):\n",
    "        self.lamb = lamb\n",
    "\n",
    "    def prob(self, x):\n",
    "        pois = math.exp(-self.lamb) * (pow(self.lamb, x) / math.factorial(x))\n",
    "        return pois\n",
    "\n",
    "    def freq(self, event, sample):\n",
    "        freq = self.prob(event) * sample \n",
    "        freq = round(freq, 0)\n",
    "        return freq"
   ]
  },
  {
   "cell_type": "code",
   "execution_count": 2,
   "id": "d89391b4-aa69-4458-90e0-1a599eaabe67",
   "metadata": {},
   "outputs": [
    {
     "name": "stdout",
     "output_type": "stream",
     "text": [
      "P((X + Y) = 0) = 0.18887560283756186\n"
     ]
    }
   ],
   "source": [
    "m = 2\n",
    "n = 3\n",
    "mean = (m + n) * (1/3)\n",
    "pois_dist = poisson(mean)\n",
    "PXE0 = pois_dist.prob(0)\n",
    "print(\"P((X + Y) = 0) = \" + str(PXE0))"
   ]
  },
  {
   "cell_type": "code",
   "execution_count": 3,
   "id": "65878b51-a8e1-4d5d-82be-23ff89f1f32d",
   "metadata": {},
   "outputs": [
    {
     "name": "stdout",
     "output_type": "stream",
     "text": [
      "P((X+Y) >= 1) = 0.3075790426335275\n"
     ]
    }
   ],
   "source": [
    "west_mean = 2/3\n",
    "west = poisson(west_mean)\n",
    "WXE0 = west.prob(0)\n",
    "WXGE1 = 1 - WXE0\n",
    "\n",
    "east_mean = 1\n",
    "east = poisson(east_mean)\n",
    "EXE0 = east.prob(0)\n",
    "EXGE1 = 1 - EXE0\n",
    "\n",
    "PXGE1 = WXGE1 * EXGE1\n",
    "print(\"P((X+Y) >= 1) = \" + str(PXGE1))"
   ]
  },
  {
   "cell_type": "code",
   "execution_count": 4,
   "id": "0d948e76-168d-4586-b9d2-fe832dcb5bc7",
   "metadata": {},
   "outputs": [
    {
     "name": "stdout",
     "output_type": "stream",
     "text": [
      "P((X+Y) = 4) = 0.18350819623072218\n"
     ]
    }
   ],
   "source": [
    "mean = (m + n) * (2/3)\n",
    "pois_dist = poisson(mean)\n",
    "PXE4 = pois_dist.prob(4)\n",
    "print(\"P((X+Y) = 4) = \" + str(PXE4))"
   ]
  }
 ],
 "metadata": {
  "kernelspec": {
   "display_name": "Python 3 (ipykernel)",
   "language": "python",
   "name": "python3"
  },
  "language_info": {
   "codemirror_mode": {
    "name": "ipython",
    "version": 3
   },
   "file_extension": ".py",
   "mimetype": "text/x-python",
   "name": "python",
   "nbconvert_exporter": "python",
   "pygments_lexer": "ipython3",
   "version": "3.12.1"
  }
 },
 "nbformat": 4,
 "nbformat_minor": 5
}

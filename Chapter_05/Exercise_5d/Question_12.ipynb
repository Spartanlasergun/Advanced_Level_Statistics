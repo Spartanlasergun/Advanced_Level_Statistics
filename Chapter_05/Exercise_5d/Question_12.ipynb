{
 "cells": [
  {
   "cell_type": "markdown",
   "id": "f8b80c75-bdf0-445a-a5b9-0a1982c4d6e5",
   "metadata": {},
   "source": [
    "# Question 12\n",
    "-----"
   ]
  },
  {
   "cell_type": "markdown",
   "id": "c69f25f6-ab75-4bf4-a9e4-c70778b1111e",
   "metadata": {},
   "source": [
    "| x | 0 | 1 | 2 | 3 | >4 |\n",
    "| - | - | - | - | - | - |\n",
    "| f | 31 | 17 | 3 | 1 | 0 |\n",
    "| fx | 0 | 17 | 6 | 3 | 0 |\n",
    "| $fx^2$ | 0 | 17 | 12 | 9 | 0 |\n",
    "\n",
    "$$mean = \\frac{\\Sigma fx}{\\Sigma f} = \\frac{26}{52} = 0.5$$\n",
    "\n",
    "$$Var = \\frac{\\Sigma fx^2}{\\Sigma f} - \\bar x^2 = \\frac{38}{52} - (0.5^2) = 0.481$$\n",
    "\n",
    "Since the Var is approx. the mean, this suggests that a poisson model is valid"
   ]
  },
  {
   "cell_type": "code",
   "execution_count": 1,
   "id": "dace8a6c-e4e7-462c-99bb-68dc7cb084a8",
   "metadata": {},
   "outputs": [],
   "source": [
    "import math\n",
    "\n",
    "class poisson:\n",
    "    def __init__(self, lamb):\n",
    "        self.lamb = lamb\n",
    "\n",
    "    def prob(self, x):\n",
    "        pois = math.exp(-self.lamb) * (pow(self.lamb, x) / math.factorial(x))\n",
    "        return pois\n",
    "\n",
    "    def freq(self, event, sample):\n",
    "        freq = self.prob(event) * sample \n",
    "        freq = round(freq, 0)\n",
    "        return freq"
   ]
  },
  {
   "cell_type": "code",
   "execution_count": 2,
   "id": "b5384c6c-7f38-45c3-bc65-627755efcd5c",
   "metadata": {},
   "outputs": [
    {
     "name": "stdout",
     "output_type": "stream",
     "text": [
      "[32.0, 16.0, 4.0, 1.0, 0.0]\n"
     ]
    }
   ],
   "source": [
    "mean = 0.5\n",
    "pois_dist = poisson(mean)\n",
    "sample = 52\n",
    "event = -1\n",
    "frequencies = []\n",
    "prob = []\n",
    "while event != 3:\n",
    "    event = event + 1\n",
    "    PX = pois_dist.prob(event)\n",
    "    prob.append(PX)\n",
    "    freq = pois_dist.freq(event, sample)\n",
    "    freq = round(freq, 0)\n",
    "    frequencies.append(freq)\n",
    "PXG4 = 1 - sum(prob)\n",
    "FXG4 = PXG4 * sample\n",
    "FXG4 = round(FXG4, 0)\n",
    "frequencies.append(FXG4)\n",
    "print(frequencies)"
   ]
  },
  {
   "cell_type": "markdown",
   "id": "4a117a43-4717-4cbe-b73a-30a5f418f2bf",
   "metadata": {},
   "source": [
    "| x | 0 | 1 | 2 | 3 | >4 |\n",
    "| - | - | - | - | - | - |\n",
    "| f | 31 | 17 | 3 | 1 | 0 |\n",
    "| fx | 0 | 17 | 6 | 3 | 0 |\n",
    "| $fx^2$ | 0 | 17 | 12 | 9 | 0 |\n",
    "| $\\lambda \\ \\ freq.$ | 32 | 16 | 4 | 1 | 0 |"
   ]
  }
 ],
 "metadata": {
  "kernelspec": {
   "display_name": "Python 3 (ipykernel)",
   "language": "python",
   "name": "python3"
  },
  "language_info": {
   "codemirror_mode": {
    "name": "ipython",
    "version": 3
   },
   "file_extension": ".py",
   "mimetype": "text/x-python",
   "name": "python",
   "nbconvert_exporter": "python",
   "pygments_lexer": "ipython3",
   "version": "3.12.1"
  }
 },
 "nbformat": 4,
 "nbformat_minor": 5
}

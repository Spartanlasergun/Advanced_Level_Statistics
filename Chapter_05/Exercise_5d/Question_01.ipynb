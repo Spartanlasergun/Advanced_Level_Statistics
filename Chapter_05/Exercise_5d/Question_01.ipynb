{
 "cells": [
  {
   "cell_type": "markdown",
   "id": "b71bde98-b9fa-4288-b990-3fb5b6e4a805",
   "metadata": {},
   "source": [
    "# Question 1\n",
    "-----"
   ]
  },
  {
   "cell_type": "code",
   "execution_count": 1,
   "id": "f74631f5-bfa8-4947-a793-173a5ae08e67",
   "metadata": {},
   "outputs": [],
   "source": [
    "import math\n",
    "\n",
    "class poisson:\n",
    "    def __init__(self, lamb):\n",
    "        self.lamb = lamb\n",
    "\n",
    "    def prob(self, x):\n",
    "        pois = math.exp(-self.lamb) * (pow(self.lamb, x) / math.factorial(x))\n",
    "        return pois"
   ]
  },
  {
   "cell_type": "code",
   "execution_count": 2,
   "id": "55719a3a-7c57-4814-a4d3-46bd940d2a3e",
   "metadata": {},
   "outputs": [
    {
     "name": "stdout",
     "output_type": "stream",
     "text": [
      "P(X = 3) = 0.18044704431548358\n"
     ]
    }
   ],
   "source": [
    "lamb = 2\n",
    "pois_dist = poisson(lamb)\n",
    "PXE3 = pois_dist.prob(3)\n",
    "print(\"P(X = 3) = \" + str(PXE3))"
   ]
  },
  {
   "cell_type": "code",
   "execution_count": 3,
   "id": "b2e069a7-7bea-46cd-bdd7-78e9be6dd1f6",
   "metadata": {},
   "outputs": [
    {
     "name": "stdout",
     "output_type": "stream",
     "text": [
      "P(X > 4) = 0.05155629837585246\n"
     ]
    }
   ],
   "source": [
    "PXE5 = pois_dist.prob(5)\n",
    "PXE6 = pois_dist.prob(6)\n",
    "PXE7 = pois_dist.prob(7)\n",
    "PXG4 = PXE5 + PXE6 + PXE7\n",
    "print(\"P(X > 4) = \" + str(PXG4))"
   ]
  },
  {
   "cell_type": "code",
   "execution_count": 4,
   "id": "44c245da-b431-4c0f-b1eb-9df13f3e2d91",
   "metadata": {},
   "outputs": [
    {
     "name": "stdout",
     "output_type": "stream",
     "text": [
      "Fortnight = 0.19536681481316456\n"
     ]
    }
   ],
   "source": [
    "lamb = 4\n",
    "fortnight = poisson(lamb)\n",
    "PXE4 = fortnight.prob(4)\n",
    "print(\"Fortnight = \" + str(PXE4))"
   ]
  },
  {
   "cell_type": "code",
   "execution_count": 5,
   "id": "900aa861-1563-49da-8bc2-f36423a73a55",
   "metadata": {},
   "outputs": [
    {
     "name": "stdout",
     "output_type": "stream",
     "text": [
      "P(X = 0) = 0.6766764161830635\n"
     ]
    }
   ],
   "source": [
    "PXE0 = pois_dist.prob(0)\n",
    "given = PXE0 * 5\n",
    "print(\"P(X = 0) = \" + str(given))"
   ]
  }
 ],
 "metadata": {
  "kernelspec": {
   "display_name": "Python 3 (ipykernel)",
   "language": "python",
   "name": "python3"
  },
  "language_info": {
   "codemirror_mode": {
    "name": "ipython",
    "version": 3
   },
   "file_extension": ".py",
   "mimetype": "text/x-python",
   "name": "python",
   "nbconvert_exporter": "python",
   "pygments_lexer": "ipython3",
   "version": "3.12.1"
  }
 },
 "nbformat": 4,
 "nbformat_minor": 5
}

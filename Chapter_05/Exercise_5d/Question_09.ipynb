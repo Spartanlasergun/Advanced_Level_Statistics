{
 "cells": [
  {
   "cell_type": "markdown",
   "id": "51942e36-95b8-4d6c-9efa-fba3a9f73f0d",
   "metadata": {},
   "source": [
    "# Question 9\n",
    "-----"
   ]
  },
  {
   "cell_type": "code",
   "execution_count": 1,
   "id": "5c94f750-a835-4e86-90ef-77947977447e",
   "metadata": {},
   "outputs": [],
   "source": [
    "import math\n",
    "\n",
    "class poisson:\n",
    "    def __init__(self, lamb):\n",
    "        self.lamb = lamb\n",
    "\n",
    "    def prob(self, x):\n",
    "        pois = math.exp(-self.lamb) * (pow(self.lamb, x) / math.factorial(x))\n",
    "        return pois"
   ]
  },
  {
   "cell_type": "markdown",
   "id": "61a5207d-aeed-4fe4-8d6c-490bcfa7c494",
   "metadata": {},
   "source": [
    "$$e^{-\\lambda} = 0.135$$\n",
    "\n",
    "$$-\\lambda = \\ln 0.135$$\n",
    "\n",
    "$$\\lambda = 2$$"
   ]
  },
  {
   "cell_type": "code",
   "execution_count": 2,
   "id": "755f1db9-3969-4694-9705-18b7eb62ae53",
   "metadata": {},
   "outputs": [
    {
     "name": "stdout",
     "output_type": "stream",
     "text": [
      "P(X < 3) = 0.6766764161830635\n"
     ]
    }
   ],
   "source": [
    "pois_dist = poisson(2)\n",
    "PXE0 = pois_dist.prob(0)\n",
    "PXE1 = pois_dist.prob(1)\n",
    "PXE2 = pois_dist.prob(2)\n",
    "PXL3 = PXE0 + PXE1 + PXE2\n",
    "print(\"P(X < 3) = \" + str(PXL3))"
   ]
  }
 ],
 "metadata": {
  "kernelspec": {
   "display_name": "Python 3 (ipykernel)",
   "language": "python",
   "name": "python3"
  },
  "language_info": {
   "codemirror_mode": {
    "name": "ipython",
    "version": 3
   },
   "file_extension": ".py",
   "mimetype": "text/x-python",
   "name": "python",
   "nbconvert_exporter": "python",
   "pygments_lexer": "ipython3",
   "version": "3.12.1"
  }
 },
 "nbformat": 4,
 "nbformat_minor": 5
}

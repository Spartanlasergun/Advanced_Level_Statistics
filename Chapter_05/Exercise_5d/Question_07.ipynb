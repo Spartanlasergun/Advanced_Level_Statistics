{
 "cells": [
  {
   "cell_type": "markdown",
   "id": "c6a57213-8d37-4fd1-abbb-2fc32b7160c5",
   "metadata": {},
   "source": [
    "# Question 7\n",
    "-----"
   ]
  },
  {
   "cell_type": "markdown",
   "id": "90a957ca-f81f-4917-8790-5712c0f4519a",
   "metadata": {},
   "source": [
    "$$\\sigma = 2$$\n",
    "\n",
    "$$Var(X) = 4$$\n",
    "\n",
    "Hence,\n",
    "\n",
    "$$E(X) = 4$$\n",
    "\n",
    "$$\\lambda = 4$$"
   ]
  },
  {
   "cell_type": "code",
   "execution_count": 1,
   "id": "fbc3fee4-cbcb-43b6-94bd-67e9bda6b691",
   "metadata": {},
   "outputs": [],
   "source": [
    "import math\n",
    "\n",
    "class poisson:\n",
    "    def __init__(self, lamb):\n",
    "        self.lamb = lamb\n",
    "\n",
    "    def prob(self, x):\n",
    "        pois = math.exp(-self.lamb) * (pow(self.lamb, x) / math.factorial(x))\n",
    "        return pois"
   ]
  },
  {
   "cell_type": "code",
   "execution_count": 2,
   "id": "c700ed84-0856-460b-bb1f-256fe8859a92",
   "metadata": {},
   "outputs": [
    {
     "name": "stdout",
     "output_type": "stream",
     "text": [
      "P(X > E(X)) = 0.3711630648201266\n"
     ]
    }
   ],
   "source": [
    "pois_dist = poisson(4)\n",
    "PXE0 = pois_dist.prob(0)\n",
    "PXE1 = pois_dist.prob(1)\n",
    "PXE2 = pois_dist.prob(2)\n",
    "PXE3 = pois_dist.prob(3)\n",
    "PXE4 = pois_dist.prob(4)\n",
    "PXG4 = 1 - (PXE0 + PXE1 + PXE2 + PXE3 + PXE4)\n",
    "print(\"P(X > E(X)) = \" + str(PXG4))"
   ]
  }
 ],
 "metadata": {
  "kernelspec": {
   "display_name": "Python 3 (ipykernel)",
   "language": "python",
   "name": "python3"
  },
  "language_info": {
   "codemirror_mode": {
    "name": "ipython",
    "version": 3
   },
   "file_extension": ".py",
   "mimetype": "text/x-python",
   "name": "python",
   "nbconvert_exporter": "python",
   "pygments_lexer": "ipython3",
   "version": "3.12.1"
  }
 },
 "nbformat": 4,
 "nbformat_minor": 5
}

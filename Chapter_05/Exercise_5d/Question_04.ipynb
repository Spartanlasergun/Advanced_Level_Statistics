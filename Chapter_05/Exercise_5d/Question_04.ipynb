{
 "cells": [
  {
   "cell_type": "markdown",
   "id": "40cf02d1-b196-4f17-b84b-ac7d543d99b7",
   "metadata": {},
   "source": [
    "# Question 4\n",
    "-----"
   ]
  },
  {
   "cell_type": "code",
   "execution_count": 1,
   "id": "d479f8e1-1ad2-4547-808d-2fab198493f9",
   "metadata": {},
   "outputs": [],
   "source": [
    "import math\n",
    "\n",
    "class poisson:\n",
    "    def __init__(self, lamb):\n",
    "        self.lamb = lamb\n",
    "\n",
    "    def prob(self, x):\n",
    "        pois = math.exp(-self.lamb) * (pow(self.lamb, x) / math.factorial(x))\n",
    "        return pois"
   ]
  },
  {
   "cell_type": "code",
   "execution_count": 2,
   "id": "16ca7ea1-4eef-4b3a-beb1-45653f6ddc4d",
   "metadata": {},
   "outputs": [
    {
     "name": "stdout",
     "output_type": "stream",
     "text": [
      "P(X > 3) = 0.6200962589216268\n"
     ]
    }
   ],
   "source": [
    "pois_dist = poisson(3.2)\n",
    "PXE0 = pois_dist.prob(0)\n",
    "PXE1 = pois_dist.prob(1)\n",
    "PXE2 = pois_dist.prob(2)\n",
    "PXL3 = PXE0 + PXE1 + PXE2\n",
    "PXG3 = 1 - PXL3\n",
    "print(\"P(X > 3) = \" + str(PXG3))"
   ]
  },
  {
   "cell_type": "code",
   "execution_count": 3,
   "id": "85ef93d1-73ec-4564-a59d-5b81da151fa8",
   "metadata": {},
   "outputs": [
    {
     "name": "stdout",
     "output_type": "stream",
     "text": [
      "P(X > 5) = 0.6162563382041968\n"
     ]
    }
   ],
   "source": [
    "pois_dist = poisson(6.4)\n",
    "PXE0 = pois_dist.prob(0)\n",
    "PXE1 = pois_dist.prob(1)\n",
    "PXE2 = pois_dist.prob(2)\n",
    "PXE3 = pois_dist.prob(3)\n",
    "PXE4 = pois_dist.prob(4)\n",
    "PXE5 = pois_dist.prob(5)\n",
    "PXLE5 = PXE0 + PXE1 + PXE2 + PXE3 + PXE4 + PXE5\n",
    "PXG5 = 1 - PXLE5\n",
    "print(\"P(X > 5) = \" + str(PXG5))"
   ]
  },
  {
   "cell_type": "code",
   "execution_count": 4,
   "id": "4ce3eb9a-decf-4bcc-b82d-fd5946db1432",
   "metadata": {},
   "outputs": [
    {
     "name": "stdout",
     "output_type": "stream",
     "text": [
      "P(X = 3) = 0.002455983076875345\n"
     ]
    }
   ],
   "source": [
    "pois_dist = poisson(3.2)\n",
    "PXE3 = pois_dist.prob(3)\n",
    "successive = pow(PXE3, 4)\n",
    "print(\"P(X = 3) = \" + str(successive))"
   ]
  }
 ],
 "metadata": {
  "kernelspec": {
   "display_name": "Python 3 (ipykernel)",
   "language": "python",
   "name": "python3"
  },
  "language_info": {
   "codemirror_mode": {
    "name": "ipython",
    "version": 3
   },
   "file_extension": ".py",
   "mimetype": "text/x-python",
   "name": "python",
   "nbconvert_exporter": "python",
   "pygments_lexer": "ipython3",
   "version": "3.12.1"
  }
 },
 "nbformat": 4,
 "nbformat_minor": 5
}

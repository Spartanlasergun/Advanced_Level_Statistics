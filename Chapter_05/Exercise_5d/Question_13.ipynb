{
 "cells": [
  {
   "cell_type": "markdown",
   "id": "6ff168a7-34a7-46e7-9fcc-7bb2439b04d8",
   "metadata": {},
   "source": [
    "# Question 13\n",
    "-----"
   ]
  },
  {
   "cell_type": "code",
   "execution_count": 1,
   "id": "fe860be1-b887-4add-85c9-80871b9f9e90",
   "metadata": {},
   "outputs": [],
   "source": [
    "import math\n",
    "\n",
    "class poisson:\n",
    "    def __init__(self, lamb):\n",
    "        self.lamb = lamb\n",
    "\n",
    "    def prob(self, x):\n",
    "        pois = math.exp(-self.lamb) * (pow(self.lamb, x) / math.factorial(x))\n",
    "        return pois\n",
    "\n",
    "    def freq(self, event, sample):\n",
    "        freq = self.prob(event) * sample \n",
    "        freq = round(freq, 0)\n",
    "        return freq"
   ]
  },
  {
   "cell_type": "code",
   "execution_count": 2,
   "id": "f8ac3673-1867-4f59-9295-05d6a1927c84",
   "metadata": {},
   "outputs": [
    {
     "name": "stdout",
     "output_type": "stream",
     "text": [
      "P(X = 2) 0.261267705473508\n"
     ]
    }
   ],
   "source": [
    "pois_dist = poisson(2.4)\n",
    "PXE2 = pois_dist.prob(2)\n",
    "print(\"P(X = 2) \" + str(PXE2))"
   ]
  },
  {
   "cell_type": "markdown",
   "id": "37f244ed-dd96-481d-870b-20fa0c2e1f56",
   "metadata": {},
   "source": [
    "b) Using an exhaustive solution:"
   ]
  },
  {
   "cell_type": "code",
   "execution_count": 3,
   "id": "378f0992-4bc2-4046-a6f5-24746140a7a1",
   "metadata": {},
   "outputs": [
    {
     "name": "stdout",
     "output_type": "stream",
     "text": [
      "6\n"
     ]
    }
   ],
   "source": [
    "x = -1\n",
    "PX = 1\n",
    "while PX > 0.03:\n",
    "    x = x + 1\n",
    "    PX = pois_dist.prob(x)\n",
    "print(x)"
   ]
  },
  {
   "cell_type": "markdown",
   "id": "44140a74-e218-486d-b0ad-04c7570a613e",
   "metadata": {},
   "source": [
    "n = 6, satisfies the function $P(X = n) < 0.03$"
   ]
  }
 ],
 "metadata": {
  "kernelspec": {
   "display_name": "Python 3 (ipykernel)",
   "language": "python",
   "name": "python3"
  },
  "language_info": {
   "codemirror_mode": {
    "name": "ipython",
    "version": 3
   },
   "file_extension": ".py",
   "mimetype": "text/x-python",
   "name": "python",
   "nbconvert_exporter": "python",
   "pygments_lexer": "ipython3",
   "version": "3.12.1"
  }
 },
 "nbformat": 4,
 "nbformat_minor": 5
}

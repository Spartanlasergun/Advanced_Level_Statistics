{
 "cells": [
  {
   "cell_type": "markdown",
   "id": "e9dedac6-9dca-44ff-9cca-c860ef797234",
   "metadata": {},
   "source": [
    "# Question 11\n",
    "-----"
   ]
  },
  {
   "cell_type": "markdown",
   "id": "f5680a47-00e8-4bd4-992f-95afa044e50a",
   "metadata": {},
   "source": [
    "| x | 0 | 1 | 2 | 3 | 4 | 5 |\n",
    "| - | - | - | - | - | - | - |\n",
    "| f | 110 | 50 | 20 | 12 | 7 | 1 |\n",
    "| fx | 0 | 50 | 40 | 36 | 28 | 5 |\n",
    "\n",
    "$$E(X) = \\frac{\\Sigma fx}{\\Sigma f} = \\frac{159}{200}$$"
   ]
  },
  {
   "cell_type": "code",
   "execution_count": 1,
   "id": "d6133ac3-fc02-4994-8e1e-6b864801fe7e",
   "metadata": {},
   "outputs": [],
   "source": [
    "import math\n",
    "\n",
    "class poisson:\n",
    "    def __init__(self, lamb):\n",
    "        self.lamb = lamb\n",
    "\n",
    "    def prob(self, x):\n",
    "        pois = math.exp(-self.lamb) * (pow(self.lamb, x) / math.factorial(x))\n",
    "        return pois\n",
    "\n",
    "    def freq(self, event, sample):\n",
    "        freq = self.prob(event) * sample \n",
    "        freq = round(freq, 0)\n",
    "        return freq"
   ]
  },
  {
   "cell_type": "code",
   "execution_count": 2,
   "id": "ff70a14b-b95f-4bb4-b844-d32cf35d02f5",
   "metadata": {},
   "outputs": [
    {
     "name": "stdout",
     "output_type": "stream",
     "text": [
      "[90.0, 72.0, 29.0, 8.0, 2.0, 0.0]\n"
     ]
    }
   ],
   "source": [
    "mean = 159/200\n",
    "pois_dist = poisson(mean)\n",
    "sample = 200\n",
    "event = -1\n",
    "frequencies = []\n",
    "while event != 5:\n",
    "    event = event + 1\n",
    "    frequency = pois_dist.freq(event, sample)\n",
    "    frequencies.append(frequency)\n",
    "\n",
    "print(frequencies)"
   ]
  },
  {
   "cell_type": "markdown",
   "id": "cfb1e694-0290-4e33-a7e7-44557d44c233",
   "metadata": {},
   "source": [
    "| x | 0 | 1 | 2 | 3 | 4 | 5 |\n",
    "| - | - | - | - | - | - | - |\n",
    "| f | 110 | 50 | 20 | 12 | 7 | 1 |\n",
    "| fx | 0 | 50 | 40 | 36 | 28 | 5 |\n",
    "| $\\lambda \\ \\ freq.$ | 90 | 72 | 29 | 8 | 2 | 0 |\n",
    "\n",
    "-----"
   ]
  },
  {
   "cell_type": "markdown",
   "id": "1d09f180-7943-488c-945b-d4ea815082bc",
   "metadata": {},
   "source": [
    "| x | 0 | 1 | 2 | 3 | 4 |\n",
    "| - | - | - | - | - | - |\n",
    "| f | 45 | 44 | 20 | 8 | 3 |\n",
    "| fx | 0 | 44 | 40 | 24 | 12 |\n",
    "\n",
    "$$E(X) = \\frac{\\Sigma fx}{\\Sigma f} = \\frac{120}{120} = 1$$"
   ]
  },
  {
   "cell_type": "code",
   "execution_count": 3,
   "id": "383fdf29-4cb1-43e5-83b0-648c89b17e93",
   "metadata": {},
   "outputs": [
    {
     "name": "stdout",
     "output_type": "stream",
     "text": [
      "[44.0, 44.0, 22.0, 7.0, 2.0]\n"
     ]
    }
   ],
   "source": [
    "mean = 1\n",
    "pois_dist = poisson(mean)\n",
    "sample = 120\n",
    "event = -1\n",
    "frequencies = []\n",
    "while event != 4:\n",
    "    event = event + 1\n",
    "    frequency = pois_dist.freq(event, sample)\n",
    "    frequencies.append(frequency)\n",
    "\n",
    "print(frequencies)"
   ]
  },
  {
   "cell_type": "markdown",
   "id": "6780ceba-9c90-4f94-ab8b-a94a9cd855d2",
   "metadata": {},
   "source": [
    "| x | 0 | 1 | 2 | 3 | 4 |\n",
    "| - | - | - | - | - | - |\n",
    "| f | 45 | 44 | 20 | 8 | 3 |\n",
    "| fx | 0 | 44 | 40 | 24 | 12 |\n",
    "| $\\lambda \\ \\ freq.$ | 44 | 44 | 22 | 7 | 2 |"
   ]
  }
 ],
 "metadata": {
  "kernelspec": {
   "display_name": "Python 3 (ipykernel)",
   "language": "python",
   "name": "python3"
  },
  "language_info": {
   "codemirror_mode": {
    "name": "ipython",
    "version": 3
   },
   "file_extension": ".py",
   "mimetype": "text/x-python",
   "name": "python",
   "nbconvert_exporter": "python",
   "pygments_lexer": "ipython3",
   "version": "3.12.1"
  }
 },
 "nbformat": 4,
 "nbformat_minor": 5
}

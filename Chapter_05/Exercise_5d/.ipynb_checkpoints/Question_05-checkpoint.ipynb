{
 "cells": [
  {
   "cell_type": "markdown",
   "id": "290b0d62-f7d7-4b3a-abb8-8be81ebe8151",
   "metadata": {},
   "source": [
    "# Question 5\n",
    "-----"
   ]
  },
  {
   "cell_type": "code",
   "execution_count": 1,
   "id": "59fcf275-134d-4bf9-ba5d-2c75a6f0c5ab",
   "metadata": {},
   "outputs": [],
   "source": [
    "import math\n",
    "\n",
    "class poisson:\n",
    "    def __init__(self, lamb):\n",
    "        self.lamb = lamb\n",
    "\n",
    "    def prob(self, x):\n",
    "        pois = math.exp(-self.lamb) * (pow(self.lamb, x) / math.factorial(x))\n",
    "        return pois"
   ]
  },
  {
   "cell_type": "code",
   "execution_count": 2,
   "id": "f9419e48-1a6a-42f5-b7ed-4023644b1ffd",
   "metadata": {},
   "outputs": [
    {
     "name": "stdout",
     "output_type": "stream",
     "text": [
      "P(X = 0) = 0.0820849986238988\n"
     ]
    }
   ],
   "source": [
    "pois_dist = poisson(2.5)\n",
    "PXE0 = pois_dist.prob(0)\n",
    "print(\"P(X = 0) = \" + str(PXE0))"
   ]
  },
  {
   "cell_type": "code",
   "execution_count": 3,
   "id": "dcbbfb77-9979-4a83-bbc0-5d7494cf76f2",
   "metadata": {},
   "outputs": [
    {
     "name": "stdout",
     "output_type": "stream",
     "text": [
      "P(X > 3) = 0.24242386686693407\n"
     ]
    }
   ],
   "source": [
    "PXE1 = pois_dist.prob(1)\n",
    "PXE2 = pois_dist.prob(2)\n",
    "PXE3 = pois_dist.prob(3)\n",
    "PXG3 = 1 - (PXE0 + PXE1 + PXE2 + PXE3)\n",
    "print(\"P(X > 3) = \" + str(PXG3))"
   ]
  },
  {
   "cell_type": "code",
   "execution_count": 4,
   "id": "c47a00ef-8e13-4b7e-a26a-80c0ab39850f",
   "metadata": {},
   "outputs": [
    {
     "name": "stdout",
     "output_type": "stream",
     "text": [
      "P(X > 5) = 0.7585635490297244\n"
     ]
    }
   ],
   "source": [
    "pois_dist = poisson(7.5)\n",
    "PXE0 = pois_dist.prob(0)\n",
    "PXE1 = pois_dist.prob(1)\n",
    "PXE2 = pois_dist.prob(2)\n",
    "PXE3 = pois_dist.prob(3)\n",
    "PXE4 = pois_dist.prob(4)\n",
    "PXE5 = pois_dist.prob(5)\n",
    "PXG5 = 1 - (PXE0 + PXE1 + PXE2 + PXE3 + PXE4 + PXE5)\n",
    "print(\"P(X > 5) = \" + str(PXG5))"
   ]
  },
  {
   "cell_type": "code",
   "execution_count": 5,
   "id": "d40587d0-d321-4462-b188-6b3f865e57ee",
   "metadata": {},
   "outputs": [
    {
     "name": "stdout",
     "output_type": "stream",
     "text": [
      "P(X = 10) = 0.04861075082960532\n"
     ]
    }
   ],
   "source": [
    "pois_dist = poisson(15)\n",
    "PXE10 = pois_dist.prob(10)\n",
    "print(\"P(X = 10) = \" + str(PXE10))"
   ]
  },
  {
   "cell_type": "code",
   "execution_count": 6,
   "id": "265b3b23-3db4-44b0-ad9a-c7dfb3c7bbce",
   "metadata": {},
   "outputs": [
    {
     "name": "stdout",
     "output_type": "stream",
     "text": [
      "P(X < 3) = 0.12465201948308113\n"
     ]
    }
   ],
   "source": [
    "pois_dist = poisson(5)\n",
    "PXE0 = pois_dist.prob(0)\n",
    "PXE1 = pois_dist.prob(1)\n",
    "PXE2 = pois_dist.prob(2)\n",
    "PXL3 = PXE0 + PXE1 + PXE2\n",
    "print(\"P(X < 3) = \" + str(PXL3))"
   ]
  }
 ],
 "metadata": {
  "kernelspec": {
   "display_name": "Python 3 (ipykernel)",
   "language": "python",
   "name": "python3"
  },
  "language_info": {
   "codemirror_mode": {
    "name": "ipython",
    "version": 3
   },
   "file_extension": ".py",
   "mimetype": "text/x-python",
   "name": "python",
   "nbconvert_exporter": "python",
   "pygments_lexer": "ipython3",
   "version": "3.12.1"
  }
 },
 "nbformat": 4,
 "nbformat_minor": 5
}

{
 "cells": [
  {
   "cell_type": "markdown",
   "id": "d8c73b2b-2de2-4ea7-abae-c9377a39cd3a",
   "metadata": {},
   "source": [
    "# Question 8\n",
    "-----"
   ]
  },
  {
   "cell_type": "code",
   "execution_count": 1,
   "id": "8dbf4040-a4e9-4128-a0f9-38aad9625f1a",
   "metadata": {},
   "outputs": [],
   "source": [
    "import math\n",
    "\n",
    "class poisson:\n",
    "    def __init__(self, lamb):\n",
    "        self.lamb = lamb\n",
    "\n",
    "    def prob(self, x):\n",
    "        pois = math.exp(-self.lamb) * (pow(self.lamb, x) / math.factorial(x))\n",
    "        return pois"
   ]
  },
  {
   "cell_type": "code",
   "execution_count": 2,
   "id": "512c7e63-1aac-4b93-9f6c-f68e11f439c7",
   "metadata": {},
   "outputs": [
    {
     "name": "stdout",
     "output_type": "stream",
     "text": [
      "P(X = 3) = 0.03816819233024134\n"
     ]
    }
   ],
   "source": [
    "pois_dist = poisson(4)\n",
    "PXE3 = pois_dist.prob(3)\n",
    "double = pow(PXE3, 2)\n",
    "print(\"P(X = 3) = \" + str(double))"
   ]
  },
  {
   "cell_type": "code",
   "execution_count": 3,
   "id": "5d0b723e-210d-4381-868f-8f48934f72ab",
   "metadata": {},
   "outputs": [
    {
     "name": "stdout",
     "output_type": "stream",
     "text": [
      "P(X = 6) = 0.12213821545677232\n"
     ]
    }
   ],
   "source": [
    "pois_dist = poisson(8)\n",
    "PXE6 = pois_dist.prob(6)\n",
    "print(\"P(X = 6) = \" + str(PXE6))"
   ]
  }
 ],
 "metadata": {
  "kernelspec": {
   "display_name": "Python 3 (ipykernel)",
   "language": "python",
   "name": "python3"
  },
  "language_info": {
   "codemirror_mode": {
    "name": "ipython",
    "version": 3
   },
   "file_extension": ".py",
   "mimetype": "text/x-python",
   "name": "python",
   "nbconvert_exporter": "python",
   "pygments_lexer": "ipython3",
   "version": "3.12.1"
  }
 },
 "nbformat": 4,
 "nbformat_minor": 5
}

{
 "cells": [
  {
   "cell_type": "markdown",
   "id": "d64d7108-ae05-4e5b-aadf-3ed89952ae09",
   "metadata": {},
   "source": [
    "# Question 2\n",
    "-----"
   ]
  },
  {
   "cell_type": "code",
   "execution_count": 1,
   "id": "84378443-e433-4806-89c6-8407f36fbd5e",
   "metadata": {},
   "outputs": [],
   "source": [
    "import math\n",
    "\n",
    "class poisson:\n",
    "    def __init__(self, lamb):\n",
    "        self.lamb = lamb\n",
    "\n",
    "    def prob(self, x):\n",
    "        pois = math.exp(-self.lamb) * (pow(self.lamb, x) / math.factorial(x))\n",
    "        return pois"
   ]
  },
  {
   "cell_type": "code",
   "execution_count": 2,
   "id": "a3010f2d-a115-4961-a7c7-b0e285ad3b53",
   "metadata": {},
   "outputs": [
    {
     "name": "stdout",
     "output_type": "stream",
     "text": [
      "P(X >= 2) = 0.9826487347633355\n"
     ]
    }
   ],
   "source": [
    "lamb = 6\n",
    "pois_dist = poisson(lamb)\n",
    "\n",
    "PXE0 = pois_dist.prob(0)\n",
    "PXE1 = pois_dist.prob(1)\n",
    "PXGE2 = 1 - (PXE0 + PXE1)\n",
    "print(\"P(X >= 2) = \" + str(PXGE2))"
   ]
  },
  {
   "cell_type": "code",
   "execution_count": 3,
   "id": "7ef44c08-fd7e-4adc-94a8-410aa8f4bff9",
   "metadata": {},
   "outputs": [
    {
     "name": "stdout",
     "output_type": "stream",
     "text": [
      "P(X = 2) = 0.18393972058572117\n"
     ]
    }
   ],
   "source": [
    "lamb = 1\n",
    "pois_940 = poisson(lamb)\n",
    "\n",
    "PXE2 = pois_940.prob(2)\n",
    "print(\"P(X = 2) = \" + str(PXE2))"
   ]
  },
  {
   "cell_type": "code",
   "execution_count": 4,
   "id": "f8f1c38c-6391-4c57-aed6-e1ba7dcb7ded",
   "metadata": {},
   "outputs": [
    {
     "name": "stdout",
     "output_type": "stream",
     "text": [
      "no calls between 10:00 - 10:10 = 0.36787944117144233\n"
     ]
    }
   ],
   "source": [
    "lamb = 1\n",
    "pois_1010 = poisson(lamb)\n",
    "PXE0 = pois_1010.prob(0) \n",
    "print(\"no calls between 10:00 - 10:10 = \" + str(PXE0))"
   ]
  }
 ],
 "metadata": {
  "kernelspec": {
   "display_name": "Python 3 (ipykernel)",
   "language": "python",
   "name": "python3"
  },
  "language_info": {
   "codemirror_mode": {
    "name": "ipython",
    "version": 3
   },
   "file_extension": ".py",
   "mimetype": "text/x-python",
   "name": "python",
   "nbconvert_exporter": "python",
   "pygments_lexer": "ipython3",
   "version": "3.12.1"
  }
 },
 "nbformat": 4,
 "nbformat_minor": 5
}

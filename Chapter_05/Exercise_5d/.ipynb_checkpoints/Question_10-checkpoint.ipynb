{
 "cells": [
  {
   "cell_type": "markdown",
   "id": "2b8163c1-a029-40af-820d-8794628f77f7",
   "metadata": {},
   "source": [
    "# Question 10\n",
    "-----"
   ]
  },
  {
   "cell_type": "code",
   "execution_count": 1,
   "id": "f9359a68-9337-4ef2-8a98-5ed11f57019b",
   "metadata": {},
   "outputs": [],
   "source": [
    "import math\n",
    "\n",
    "class poisson:\n",
    "    def __init__(self, lamb):\n",
    "        self.lamb = lamb\n",
    "\n",
    "    def prob(self, x):\n",
    "        pois = math.exp(-self.lamb) * (pow(self.lamb, x) / math.factorial(x))\n",
    "        return pois"
   ]
  },
  {
   "cell_type": "code",
   "execution_count": 2,
   "id": "bf576453-42fb-40b2-b560-f3eea2f3b383",
   "metadata": {},
   "outputs": [
    {
     "name": "stdout",
     "output_type": "stream",
     "text": [
      "mode = 3\n"
     ]
    }
   ],
   "source": [
    "print(\"mode = 3\")"
   ]
  },
  {
   "cell_type": "code",
   "execution_count": 3,
   "id": "0451a144-682d-473d-9e69-09ef4accd1fe",
   "metadata": {},
   "outputs": [
    {
     "name": "stdout",
     "output_type": "stream",
     "text": [
      "P(X = 7) = 0.14499218587861307\n"
     ]
    }
   ],
   "source": [
    "pois_dist = poisson(6.4)\n",
    "PXE7 = pois_dist.prob(7)\n",
    "print(\"P(X = 7) = \" + str(PXE7))"
   ]
  }
 ],
 "metadata": {
  "kernelspec": {
   "display_name": "Python 3 (ipykernel)",
   "language": "python",
   "name": "python3"
  },
  "language_info": {
   "codemirror_mode": {
    "name": "ipython",
    "version": 3
   },
   "file_extension": ".py",
   "mimetype": "text/x-python",
   "name": "python",
   "nbconvert_exporter": "python",
   "pygments_lexer": "ipython3",
   "version": "3.12.1"
  }
 },
 "nbformat": 4,
 "nbformat_minor": 5
}

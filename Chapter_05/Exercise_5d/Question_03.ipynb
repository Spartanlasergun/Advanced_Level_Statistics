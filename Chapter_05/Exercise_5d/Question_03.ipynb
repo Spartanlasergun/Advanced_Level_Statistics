{
 "cells": [
  {
   "cell_type": "markdown",
   "id": "d2410203-cd76-4555-bc92-169828ada28e",
   "metadata": {},
   "source": [
    "# Question 3\n",
    "-----"
   ]
  },
  {
   "cell_type": "code",
   "execution_count": 1,
   "id": "19a358b0-4788-4ff4-83d6-18d312ca2d4a",
   "metadata": {},
   "outputs": [],
   "source": [
    "import math\n",
    "\n",
    "class poisson:\n",
    "    def __init__(self, lamb):\n",
    "        self.lamb = lamb\n",
    "\n",
    "    def prob(self, x):\n",
    "        pois = math.exp(-self.lamb) * (pow(self.lamb, x) / math.factorial(x))\n",
    "        return pois"
   ]
  },
  {
   "cell_type": "code",
   "execution_count": 2,
   "id": "c71984cf-638c-494d-801b-7fb3c296803a",
   "metadata": {},
   "outputs": [
    {
     "name": "stdout",
     "output_type": "stream",
     "text": [
      "P(X = 0) = 0.0820849986238988\n"
     ]
    }
   ],
   "source": [
    "lamb = 2.5\n",
    "pois_dist = poisson(lamb)\n",
    "PXE0 = pois_dist.prob(0)\n",
    "print(\"P(X = 0) = \" + str(PXE0))"
   ]
  },
  {
   "cell_type": "code",
   "execution_count": 3,
   "id": "913efd00-2627-4c00-bed2-0a5d414667a7",
   "metadata": {},
   "outputs": [
    {
     "name": "stdout",
     "output_type": "stream",
     "text": [
      "P(X > 4) = 0.5595067149347877\n"
     ]
    }
   ],
   "source": [
    "lamb = 5\n",
    "pois_dist = poisson(lamb)\n",
    "PXE0 = pois_dist.prob(0)\n",
    "PXE1 = pois_dist.prob(1)\n",
    "PXE2 = pois_dist.prob(2)\n",
    "PXE3 = pois_dist.prob(3)\n",
    "PXE4 = pois_dist.prob(4)\n",
    "PXG4 = 1 - (PXE0 + PXE1 + PXE2 + PXE3 + PXE4)\n",
    "print(\"P(X > 4) = \" + str(PXG4))"
   ]
  },
  {
   "cell_type": "code",
   "execution_count": 4,
   "id": "cca4a764-e92f-4297-a289-004378f5a52a",
   "metadata": {},
   "outputs": [
    {
     "name": "stdout",
     "output_type": "stream",
     "text": [
      "P(X = 6) = 0.06305545800345119\n"
     ]
    }
   ],
   "source": [
    "lamb = 10\n",
    "pois_dist = poisson(lamb)\n",
    "PXE6 = pois_dist.prob(6)\n",
    "print(\"P(X = 6) = \" + str(PXE6))"
   ]
  }
 ],
 "metadata": {
  "kernelspec": {
   "display_name": "Python 3 (ipykernel)",
   "language": "python",
   "name": "python3"
  },
  "language_info": {
   "codemirror_mode": {
    "name": "ipython",
    "version": 3
   },
   "file_extension": ".py",
   "mimetype": "text/x-python",
   "name": "python",
   "nbconvert_exporter": "python",
   "pygments_lexer": "ipython3",
   "version": "3.12.1"
  }
 },
 "nbformat": 4,
 "nbformat_minor": 5
}

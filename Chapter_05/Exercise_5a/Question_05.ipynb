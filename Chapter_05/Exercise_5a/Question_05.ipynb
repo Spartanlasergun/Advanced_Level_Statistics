{
 "cells": [
  {
   "cell_type": "markdown",
   "id": "d453ab75-ab04-48b3-8d08-ac146feea003",
   "metadata": {},
   "source": [
    "# Question 5\n",
    "-----"
   ]
  },
  {
   "cell_type": "markdown",
   "id": "c444659e-44b9-4fc6-8afb-d33e5a7e6c99",
   "metadata": {},
   "source": [
    "Assuming that the probability of rain is the same each day,"
   ]
  },
  {
   "cell_type": "code",
   "execution_count": 1,
   "id": "030bff9f-6ff8-4070-86a1-1f6bda4d7116",
   "metadata": {},
   "outputs": [
    {
     "name": "stdout",
     "output_type": "stream",
     "text": [
      "P(X = 5) = 0.022553437499999995\n"
     ]
    }
   ],
   "source": [
    "p = 0.55\n",
    "q = 1 - p\n",
    "PXE5 = pow(q, 4) * p\n",
    "print(\"P(X = 5) = \" + str(PXE5))"
   ]
  },
  {
   "cell_type": "code",
   "execution_count": 2,
   "id": "d734ea33-a963-4500-a301-abd80a97c075",
   "metadata": {},
   "outputs": [
    {
     "name": "stdout",
     "output_type": "stream",
     "text": [
      "P(X >= 8) = 0.003736694531249918\n"
     ]
    }
   ],
   "source": [
    "PXGE8 = 1 - (p + (q * p) + (pow(q, 2) * p) + (pow(q, 3) * p) + (pow(q, 4) * p) + (pow(q, 5) * p) + (pow(q, 6) * p))\n",
    "print(\"P(X >= 8) = \" + str(PXGE8))"
   ]
  }
 ],
 "metadata": {
  "kernelspec": {
   "display_name": "Python 3 (ipykernel)",
   "language": "python",
   "name": "python3"
  },
  "language_info": {
   "codemirror_mode": {
    "name": "ipython",
    "version": 3
   },
   "file_extension": ".py",
   "mimetype": "text/x-python",
   "name": "python",
   "nbconvert_exporter": "python",
   "pygments_lexer": "ipython3",
   "version": "3.12.1"
  }
 },
 "nbformat": 4,
 "nbformat_minor": 5
}

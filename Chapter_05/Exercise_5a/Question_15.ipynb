{
 "cells": [
  {
   "cell_type": "markdown",
   "id": "a543a37e-ddea-4176-90db-2e1990ea3a58",
   "metadata": {},
   "source": [
    "# Question 15\n",
    "-----"
   ]
  },
  {
   "cell_type": "code",
   "execution_count": 2,
   "id": "8424a21e-66f6-4f11-9ea9-2f317316c5b9",
   "metadata": {},
   "outputs": [
    {
     "name": "stdout",
     "output_type": "stream",
     "text": [
      "last day = 0.047101286972462485\n"
     ]
    }
   ],
   "source": [
    "p = 0.1\n",
    "q = 0.9\n",
    "lastday = pow(q, 29)\n",
    "print(\"last day = \" + str(lastday))"
   ]
  },
  {
   "cell_type": "markdown",
   "id": "66fa1f61-23e7-48b8-8fc4-48ab2632dd5c",
   "metadata": {},
   "source": [
    "$$p^n <= 0.9$$"
   ]
  },
  {
   "cell_type": "code",
   "execution_count": 4,
   "id": "933ad186-10e6-41f4-8002-c332e7391d20",
   "metadata": {},
   "outputs": [
    {
     "name": "stdout",
     "output_type": "stream",
     "text": [
      "0.04575749056067512\n"
     ]
    }
   ],
   "source": [
    "import math\n",
    "\n",
    "n = math.log(0.9) / math.log(0.1)\n",
    "print(n)"
   ]
  },
  {
   "cell_type": "code",
   "execution_count": 8,
   "id": "ad4233f8-8077-4050-9f87-42a5b2b180fa",
   "metadata": {},
   "outputs": [
    {
     "data": {
      "text/plain": [
       "0.014344040928111325"
      ]
     },
     "execution_count": 8,
     "metadata": {},
     "output_type": "execute_result"
    }
   ],
   "source": [
    " (math.log(0.9) / 3.19) / math.log(0.1)"
   ]
  },
  {
   "cell_type": "code",
   "execution_count": null,
   "id": "099345d0-2b24-4d53-9978-f7f511eeb16c",
   "metadata": {},
   "outputs": [],
   "source": []
  }
 ],
 "metadata": {
  "kernelspec": {
   "display_name": "Python 3 (ipykernel)",
   "language": "python",
   "name": "python3"
  },
  "language_info": {
   "codemirror_mode": {
    "name": "ipython",
    "version": 3
   },
   "file_extension": ".py",
   "mimetype": "text/x-python",
   "name": "python",
   "nbconvert_exporter": "python",
   "pygments_lexer": "ipython3",
   "version": "3.12.1"
  }
 },
 "nbformat": 4,
 "nbformat_minor": 5
}

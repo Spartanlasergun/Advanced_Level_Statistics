{
 "cells": [
  {
   "cell_type": "markdown",
   "id": "a543a37e-ddea-4176-90db-2e1990ea3a58",
   "metadata": {},
   "source": [
    "# Question 15\n",
    "-----"
   ]
  },
  {
   "cell_type": "code",
   "execution_count": 1,
   "id": "8424a21e-66f6-4f11-9ea9-2f317316c5b9",
   "metadata": {},
   "outputs": [
    {
     "name": "stdout",
     "output_type": "stream",
     "text": [
      "last day = 0.047101286972462485\n"
     ]
    }
   ],
   "source": [
    "p = 0.1\n",
    "q = 0.9\n",
    "lastday = pow(q, 29)\n",
    "print(\"last day = \" + str(lastday))"
   ]
  },
  {
   "cell_type": "markdown",
   "id": "66fa1f61-23e7-48b8-8fc4-48ab2632dd5c",
   "metadata": {},
   "source": [
    "$$0.9^n <= 0.1$$\n",
    "\n",
    "$$n \\log (0.9) <= \\log 0.1$$\n",
    "\n",
    "$$n >= \\frac{\\log (0.1)}{\\log (0.9)}$$\n",
    "\n",
    "$$n >= 21.85$$\n",
    "\n",
    "Hence, the date of the booking is December 22"
   ]
  }
 ],
 "metadata": {
  "kernelspec": {
   "display_name": "Python 3 (ipykernel)",
   "language": "python",
   "name": "python3"
  },
  "language_info": {
   "codemirror_mode": {
    "name": "ipython",
    "version": 3
   },
   "file_extension": ".py",
   "mimetype": "text/x-python",
   "name": "python",
   "nbconvert_exporter": "python",
   "pygments_lexer": "ipython3",
   "version": "3.12.1"
  }
 },
 "nbformat": 4,
 "nbformat_minor": 5
}

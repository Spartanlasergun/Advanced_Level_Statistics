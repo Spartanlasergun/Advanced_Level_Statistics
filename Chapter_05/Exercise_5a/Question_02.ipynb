{
 "cells": [
  {
   "cell_type": "markdown",
   "id": "241bf984-bd7a-40f2-97dc-4a56e1d2cda6",
   "metadata": {},
   "source": [
    "# Question 2\n",
    "-----"
   ]
  },
  {
   "cell_type": "code",
   "execution_count": 1,
   "id": "1aec6c58-8672-49c1-adae-feec5107f185",
   "metadata": {},
   "outputs": [
    {
     "name": "stdout",
     "output_type": "stream",
     "text": [
      "P(X = 4) = 0.09611875\n"
     ]
    }
   ],
   "source": [
    "q = 1 - 0.35\n",
    "p = 0.35\n",
    "PX4 = pow(q, 3) * p\n",
    "print(\"P(X = 4) = \" + str(PX4))"
   ]
  },
  {
   "cell_type": "code",
   "execution_count": 2,
   "id": "459621a8-b0b2-4741-a8b2-0db9a65175e5",
   "metadata": {},
   "outputs": [
    {
     "name": "stdout",
     "output_type": "stream",
     "text": [
      "P(X > 4) = 0.1785062500000001\n"
     ]
    }
   ],
   "source": [
    "PXG4 = 1 - (p + (q * p) + (pow(q, 2) * p) + (pow(q, 3) * p))\n",
    "print(\"P(X > 4) = \" + str(PXG4))"
   ]
  },
  {
   "cell_type": "code",
   "execution_count": 3,
   "id": "57e5f2dd-dd9a-4b82-b78e-fe013e696768",
   "metadata": {},
   "outputs": [
    {
     "name": "stdout",
     "output_type": "stream",
     "text": [
      "P(X <= 3) = 0.7253749999999999\n"
     ]
    }
   ],
   "source": [
    "PLE3 = p + (q * p) + (pow(q, 2) * p)\n",
    "print(\"P(X <= 3) = \" + str(PLE3))"
   ]
  },
  {
   "cell_type": "code",
   "execution_count": 4,
   "id": "bac0dbc4-1ad7-4de9-a3f3-231c5f48a5da",
   "metadata": {},
   "outputs": [
    {
     "name": "stdout",
     "output_type": "stream",
     "text": [
      "E(X) = 2.857142857142857\n"
     ]
    }
   ],
   "source": [
    "EX = 1/p\n",
    "print(\"E(X) = \" + str(EX))"
   ]
  }
 ],
 "metadata": {
  "kernelspec": {
   "display_name": "Python 3 (ipykernel)",
   "language": "python",
   "name": "python3"
  },
  "language_info": {
   "codemirror_mode": {
    "name": "ipython",
    "version": 3
   },
   "file_extension": ".py",
   "mimetype": "text/x-python",
   "name": "python",
   "nbconvert_exporter": "python",
   "pygments_lexer": "ipython3",
   "version": "3.12.1"
  }
 },
 "nbformat": 4,
 "nbformat_minor": 5
}

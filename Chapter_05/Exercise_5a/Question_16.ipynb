{
 "cells": [
  {
   "cell_type": "markdown",
   "id": "86b12505-9753-432b-a34a-5f01a198e5f0",
   "metadata": {},
   "source": [
    "# Question 16\n",
    "-----"
   ]
  },
  {
   "cell_type": "code",
   "execution_count": 1,
   "id": "06732bfe-7ae0-4647-9ab1-9dcd621df9b8",
   "metadata": {},
   "outputs": [
    {
     "name": "stdout",
     "output_type": "stream",
     "text": [
      "first = 1/6\n"
     ]
    }
   ],
   "source": [
    "print(\"first = 1/6\") "
   ]
  },
  {
   "cell_type": "code",
   "execution_count": 2,
   "id": "e8f009f2-e1f1-4f4e-a8f0-49cc3efa8be9",
   "metadata": {},
   "outputs": [
    {
     "name": "stdout",
     "output_type": "stream",
     "text": [
      "P(X = 3) = 0.11574074074074076\n"
     ]
    }
   ],
   "source": [
    "p = 1/6\n",
    "q = 1 - p\n",
    "third = q * q * p\n",
    "print(\"P(X = 3) = \" + str(third))"
   ]
  },
  {
   "cell_type": "code",
   "execution_count": 3,
   "id": "9c538673-7aa4-44b8-bb2c-a671afed43f1",
   "metadata": {},
   "outputs": [
    {
     "name": "stdout",
     "output_type": "stream",
     "text": [
      "P(X > 3) = 0.5787037037037038\n"
     ]
    }
   ],
   "source": [
    "morethan3 = q * q * q\n",
    "print(\"P(X > 3) = \" + str(morethan3))"
   ]
  },
  {
   "cell_type": "code",
   "execution_count": 4,
   "id": "581a9dce-2f08-437a-a8e0-9851d8b30033",
   "metadata": {},
   "outputs": [
    {
     "name": "stdout",
     "output_type": "stream",
     "text": [
      "d) 1 \n"
     ]
    }
   ],
   "source": [
    "print(\"d) 1 \")"
   ]
  },
  {
   "cell_type": "code",
   "execution_count": 5,
   "id": "14f70891-5090-4e40-b8f7-26fcdaca99f2",
   "metadata": {},
   "outputs": [
    {
     "name": "stdout",
     "output_type": "stream",
     "text": [
      "E(X) = 6.0\n"
     ]
    }
   ],
   "source": [
    "EX = 1/p\n",
    "print(\"E(X) = \" + str(EX))"
   ]
  },
  {
   "cell_type": "markdown",
   "id": "1e8e1417-1f6a-48f3-91d4-97016d9bc693",
   "metadata": {},
   "source": [
    "$$ p = \\frac{1}{6} $$\n",
    "\n",
    "$$ q = 1 - \\frac{1}{6} = \\frac{5}{6} $$\n",
    "\n",
    "Event for not starting on the first try:\n",
    "\n",
    "$$(\\frac{5}{6})$$\n",
    "\n",
    "Event for not starting on the second try:\n",
    "$$(\\frac{5}{6}) * (\\frac{5}{6})$$\n",
    "\n",
    "Event for not starting on the third try:\n",
    "$$(\\frac{5}{6}) * (\\frac{5}{6}) * (\\frac{5}{6})$$\n",
    "\n",
    "All events:\n",
    "\n",
    "$$(\\frac{5}{6})^n$$\n",
    "\n",
    "$$(\\frac{5}{6})^n \\le 0.05$$\n",
    "\n",
    "$$n \\log (\\frac{5}{6}) \\le \\log 0.05$$\n",
    "\n",
    "$$n \\ge \\frac{\\log 0.05}{\\log (\\frac{5}{6})}$$\n",
    "\n",
    "$$n \\ge 16.43$$\n",
    "\n",
    "Hence, n must be at least 17 for a 95% chance of starting on the $n^{th}$ attempt"
   ]
  }
 ],
 "metadata": {
  "kernelspec": {
   "display_name": "Python 3 (ipykernel)",
   "language": "python",
   "name": "python3"
  },
  "language_info": {
   "codemirror_mode": {
    "name": "ipython",
    "version": 3
   },
   "file_extension": ".py",
   "mimetype": "text/x-python",
   "name": "python",
   "nbconvert_exporter": "python",
   "pygments_lexer": "ipython3",
   "version": "3.12.1"
  }
 },
 "nbformat": 4,
 "nbformat_minor": 5
}

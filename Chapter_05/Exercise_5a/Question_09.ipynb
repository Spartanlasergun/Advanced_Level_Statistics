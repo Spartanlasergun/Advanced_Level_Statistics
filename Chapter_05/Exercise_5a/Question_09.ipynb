{
 "cells": [
  {
   "cell_type": "markdown",
   "id": "6e14aa69-5de6-4c5c-a5a1-fdb9fd85d344",
   "metadata": {},
   "source": [
    "# Question 9\n",
    "-----"
   ]
  },
  {
   "cell_type": "code",
   "execution_count": 1,
   "id": "8f71d1d6-1334-4110-a39c-8128d60c8412",
   "metadata": {},
   "outputs": [
    {
     "name": "stdout",
     "output_type": "stream",
     "text": [
      "P(X = 4) = 0.10289999999999998\n"
     ]
    }
   ],
   "source": [
    "p = 0.3\n",
    "q = 1 - p\n",
    "PXE4 = pow(q, 3) * p\n",
    "print(\"P(X = 4) = \" + str(PXE4))"
   ]
  },
  {
   "cell_type": "markdown",
   "id": "23609f61-6da5-41b8-a793-4770841d338d",
   "metadata": {},
   "source": [
    "The sequence of events can be described by the function:\n",
    "\n",
    "$$P(X = n) = 0.7^{n-1}$$\n",
    "\n",
    "for any event 'n' within the distribution of X"
   ]
  }
 ],
 "metadata": {
  "kernelspec": {
   "display_name": "Python 3 (ipykernel)",
   "language": "python",
   "name": "python3"
  },
  "language_info": {
   "codemirror_mode": {
    "name": "ipython",
    "version": 3
   },
   "file_extension": ".py",
   "mimetype": "text/x-python",
   "name": "python",
   "nbconvert_exporter": "python",
   "pygments_lexer": "ipython3",
   "version": "3.12.1"
  }
 },
 "nbformat": 4,
 "nbformat_minor": 5
}

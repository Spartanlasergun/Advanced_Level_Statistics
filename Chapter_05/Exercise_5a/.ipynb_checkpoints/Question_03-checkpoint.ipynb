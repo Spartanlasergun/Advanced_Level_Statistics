{
 "cells": [
  {
   "cell_type": "markdown",
   "id": "328f4682-833d-4bbf-ab0c-a320b59a7bd1",
   "metadata": {},
   "source": [
    "# Question 3\n",
    "-----"
   ]
  },
  {
   "cell_type": "code",
   "execution_count": 1,
   "id": "84685cc2-08c4-404a-b98a-30d272e50066",
   "metadata": {},
   "outputs": [
    {
     "name": "stdout",
     "output_type": "stream",
     "text": [
      "P(X <= 4) = 0.9743999999999999\n"
     ]
    }
   ],
   "source": [
    "p = 0.6\n",
    "q = 1 - p\n",
    "PXLE4 = p + (p * q) + (pow(q, 2) * p) + (pow(q, 3) * p)\n",
    "print(\"P(X <= 4) = \" + str(PXLE4))"
   ]
  },
  {
   "cell_type": "code",
   "execution_count": 2,
   "id": "d4b7b9b3-d513-4a09-aaf6-7c495c504411",
   "metadata": {},
   "outputs": [
    {
     "name": "stdout",
     "output_type": "stream",
     "text": [
      "P(X > 5) = 0.010240000000000027\n"
     ]
    }
   ],
   "source": [
    "PXG5 = 1 - (PXLE4 + (pow(q, 4) * p))\n",
    "print(\"P(X > 5) = \" + str(PXG5))"
   ]
  },
  {
   "cell_type": "code",
   "execution_count": 3,
   "id": "8afccf2c-3cd0-4a7f-a0c3-a32397667673",
   "metadata": {},
   "outputs": [
    {
     "name": "stdout",
     "output_type": "stream",
     "text": [
      "c) 1\n"
     ]
    }
   ],
   "source": [
    "print(\"c) 1\")"
   ]
  },
  {
   "cell_type": "code",
   "execution_count": 4,
   "id": "65e097c5-1eb6-491d-9224-ea66d9c090f9",
   "metadata": {},
   "outputs": [
    {
     "name": "stdout",
     "output_type": "stream",
     "text": [
      "E(X) = 1.6666666666666667\n"
     ]
    }
   ],
   "source": [
    "EX = 1/p\n",
    "print(\"E(X) = \" + str(EX))"
   ]
  },
  {
   "cell_type": "code",
   "execution_count": 5,
   "id": "6e29019d-3faf-44b7-b3f1-da9a6c2b649f",
   "metadata": {},
   "outputs": [
    {
     "name": "stdout",
     "output_type": "stream",
     "text": [
      "E(tails) = 2.5\n"
     ]
    }
   ],
   "source": [
    "EY = 1/q\n",
    "print(\"E(tails) = \" + str(EY))"
   ]
  }
 ],
 "metadata": {
  "kernelspec": {
   "display_name": "Python 3 (ipykernel)",
   "language": "python",
   "name": "python3"
  },
  "language_info": {
   "codemirror_mode": {
    "name": "ipython",
    "version": 3
   },
   "file_extension": ".py",
   "mimetype": "text/x-python",
   "name": "python",
   "nbconvert_exporter": "python",
   "pygments_lexer": "ipython3",
   "version": "3.12.1"
  }
 },
 "nbformat": 4,
 "nbformat_minor": 5
}

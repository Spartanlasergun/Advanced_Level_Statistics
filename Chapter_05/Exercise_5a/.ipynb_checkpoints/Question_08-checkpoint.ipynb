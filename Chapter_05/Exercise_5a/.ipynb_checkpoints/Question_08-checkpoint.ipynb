{
 "cells": [
  {
   "cell_type": "markdown",
   "id": "4aacfe12-6807-4451-8398-0e3cdd15ce15",
   "metadata": {},
   "source": [
    "# Question 8\n",
    "-----"
   ]
  },
  {
   "cell_type": "code",
   "execution_count": 1,
   "id": "339e983c-65b6-4fd6-9486-8163411b0aca",
   "metadata": {},
   "outputs": [
    {
     "name": "stdout",
     "output_type": "stream",
     "text": [
      "first success third = 0.12800000000000003\n"
     ]
    }
   ],
   "source": [
    "p = 0.2\n",
    "q = 1 - p\n",
    "successthird = pow(q, 2) * p\n",
    "print(\"first success third = \" + str(successthird))"
   ]
  },
  {
   "cell_type": "markdown",
   "id": "fb487802-116b-4b32-844f-7e7c5868c4c5",
   "metadata": {},
   "source": [
    "X ~ Geo(0.2)"
   ]
  },
  {
   "cell_type": "code",
   "execution_count": 2,
   "id": "6bb02bd1-8c00-459d-831b-cb14c4037b34",
   "metadata": {},
   "outputs": [
    {
     "name": "stdout",
     "output_type": "stream",
     "text": [
      "at least three failures = 0.5120000000000001\n"
     ]
    }
   ],
   "source": [
    "threefail = q * q * q\n",
    "print(\"at least three failures = \" + str(threefail))"
   ]
  }
 ],
 "metadata": {
  "kernelspec": {
   "display_name": "Python 3 (ipykernel)",
   "language": "python",
   "name": "python3"
  },
  "language_info": {
   "codemirror_mode": {
    "name": "ipython",
    "version": 3
   },
   "file_extension": ".py",
   "mimetype": "text/x-python",
   "name": "python",
   "nbconvert_exporter": "python",
   "pygments_lexer": "ipython3",
   "version": "3.12.1"
  }
 },
 "nbformat": 4,
 "nbformat_minor": 5
}

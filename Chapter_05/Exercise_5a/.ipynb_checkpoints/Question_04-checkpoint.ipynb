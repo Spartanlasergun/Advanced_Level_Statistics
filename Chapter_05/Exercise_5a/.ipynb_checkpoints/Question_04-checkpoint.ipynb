{
 "cells": [
  {
   "cell_type": "markdown",
   "id": "5be64cb0-04c4-4a28-a3dc-b59adc608fd2",
   "metadata": {},
   "source": [
    "# Question 4\n",
    "-----"
   ]
  },
  {
   "cell_type": "code",
   "execution_count": 1,
   "id": "eee2b28c-06c6-41a0-a282-9e4913271232",
   "metadata": {},
   "outputs": [
    {
     "name": "stdout",
     "output_type": "stream",
     "text": [
      "a) 1\n"
     ]
    }
   ],
   "source": [
    "print(\"a) 1\")"
   ]
  },
  {
   "cell_type": "code",
   "execution_count": 2,
   "id": "6ace0025-1a71-4267-8c67-47e61d84f1d6",
   "metadata": {},
   "outputs": [
    {
     "name": "stdout",
     "output_type": "stream",
     "text": [
      "P(X <=4 ) = 0.7599\n"
     ]
    }
   ],
   "source": [
    "p = 0.3\n",
    "q = 1 - p\n",
    "PXLE4 = p + (p * q) + (p * pow(q, 2)) + (p * pow(q, 3))\n",
    "print(\"P(X <=4 ) = \" + str(PXLE4))"
   ]
  }
 ],
 "metadata": {
  "kernelspec": {
   "display_name": "Python 3 (ipykernel)",
   "language": "python",
   "name": "python3"
  },
  "language_info": {
   "codemirror_mode": {
    "name": "ipython",
    "version": 3
   },
   "file_extension": ".py",
   "mimetype": "text/x-python",
   "name": "python",
   "nbconvert_exporter": "python",
   "pygments_lexer": "ipython3",
   "version": "3.12.1"
  }
 },
 "nbformat": 4,
 "nbformat_minor": 5
}

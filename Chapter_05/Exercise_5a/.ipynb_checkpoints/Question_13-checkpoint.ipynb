{
 "cells": [
  {
   "cell_type": "markdown",
   "id": "9214692e-5822-45d9-a4a9-81a62f6657be",
   "metadata": {},
   "source": [
    "# Question 13\n",
    "-----"
   ]
  },
  {
   "cell_type": "code",
   "execution_count": 1,
   "id": "e2504fb8-ef92-4a2c-b9a7-f8cbece2ad57",
   "metadata": {},
   "outputs": [
    {
     "name": "stdout",
     "output_type": "stream",
     "text": [
      "P(X = 4) = 0.08639999999999999\n"
     ]
    }
   ],
   "source": [
    "p = 0.4\n",
    "q = 1 - p\n",
    "fourth = pow(q, 3) * p\n",
    "print(\"P(X = 4) = \" + str(fourth))"
   ]
  },
  {
   "cell_type": "code",
   "execution_count": 2,
   "id": "fcf86989-20a7-4af5-b333-b43990c6a3da",
   "metadata": {},
   "outputs": [
    {
     "name": "stdout",
     "output_type": "stream",
     "text": [
      "E(X) = 2.5\n"
     ]
    }
   ],
   "source": [
    "EX = 1/p\n",
    "print(\"E(X) = \" + str(EX))"
   ]
  },
  {
   "cell_type": "code",
   "execution_count": 3,
   "id": "01835230-c41d-4f35-b6f0-bcd55fe82a0c",
   "metadata": {},
   "outputs": [
    {
     "name": "stdout",
     "output_type": "stream",
     "text": [
      "std = 1.9364916731037083\n"
     ]
    }
   ],
   "source": [
    "import math\n",
    "var = q / (pow(p, 2))\n",
    "std = math.sqrt(var)\n",
    "print(\"std = \" + str(std))"
   ]
  },
  {
   "cell_type": "code",
   "execution_count": 4,
   "id": "39001e5b-81d2-43fe-ba10-130d729ccefd",
   "metadata": {},
   "outputs": [
    {
     "name": "stdout",
     "output_type": "stream",
     "text": [
      "most likely = 1\n"
     ]
    }
   ],
   "source": [
    "print(\"most likely = 1\")"
   ]
  },
  {
   "cell_type": "code",
   "execution_count": 5,
   "id": "1f00da88-00fe-430f-b20e-29f3f62161bb",
   "metadata": {},
   "outputs": [
    {
     "name": "stdout",
     "output_type": "stream",
     "text": [
      "P(X > 7) = 0.027993599999999993\n"
     ]
    }
   ],
   "source": [
    "PXG7 = pow(q, 7)\n",
    "print(\"P(X > 7) = \" + str(PXG7))"
   ]
  }
 ],
 "metadata": {
  "kernelspec": {
   "display_name": "Python 3 (ipykernel)",
   "language": "python",
   "name": "python3"
  },
  "language_info": {
   "codemirror_mode": {
    "name": "ipython",
    "version": 3
   },
   "file_extension": ".py",
   "mimetype": "text/x-python",
   "name": "python",
   "nbconvert_exporter": "python",
   "pygments_lexer": "ipython3",
   "version": "3.12.1"
  }
 },
 "nbformat": 4,
 "nbformat_minor": 5
}

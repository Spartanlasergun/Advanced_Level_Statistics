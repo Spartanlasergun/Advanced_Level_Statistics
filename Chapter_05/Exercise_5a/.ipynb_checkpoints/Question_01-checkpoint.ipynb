{
 "cells": [
  {
   "cell_type": "markdown",
   "id": "57e041e9-6dc1-4f33-8894-a06c44062342",
   "metadata": {},
   "source": [
    "# Question 1\n",
    "-----"
   ]
  },
  {
   "cell_type": "markdown",
   "id": "00510398-311f-42c5-a3e6-e937ac3b1c56",
   "metadata": {},
   "source": [
    "$$a + a + a + a + a = 1$$\n",
    "\n",
    "$$5a = 1$$\n",
    "\n",
    "$$a = \\frac{1}{5}$$"
   ]
  },
  {
   "cell_type": "code",
   "execution_count": 1,
   "id": "557b77fe-93c1-40a9-a107-d1c41e8c45a8",
   "metadata": {},
   "outputs": [
    {
     "name": "stdout",
     "output_type": "stream",
     "text": [
      "E(X) = 8.0\n"
     ]
    }
   ],
   "source": [
    "EX = (0.2 * 6) + (0.2 * 7) + (0.2 * 8) + (0.2 * 9) + (0.2 * 10)\n",
    "print(\"E(X) = \" + str(EX))"
   ]
  },
  {
   "cell_type": "markdown",
   "id": "845f28f0-a0db-4fda-a896-7dddfc0d9ce3",
   "metadata": {},
   "source": [
    "$$P(X < 8) = 0.2 + 0.2 = 0.4$$"
   ]
  }
 ],
 "metadata": {
  "kernelspec": {
   "display_name": "Python 3 (ipykernel)",
   "language": "python",
   "name": "python3"
  },
  "language_info": {
   "codemirror_mode": {
    "name": "ipython",
    "version": 3
   },
   "file_extension": ".py",
   "mimetype": "text/x-python",
   "name": "python",
   "nbconvert_exporter": "python",
   "pygments_lexer": "ipython3",
   "version": "3.12.1"
  }
 },
 "nbformat": 4,
 "nbformat_minor": 5
}

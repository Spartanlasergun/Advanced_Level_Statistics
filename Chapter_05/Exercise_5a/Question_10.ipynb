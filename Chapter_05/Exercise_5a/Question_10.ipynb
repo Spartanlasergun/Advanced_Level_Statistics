{
 "cells": [
  {
   "cell_type": "markdown",
   "id": "d77ac5bb-ac11-4563-a101-2facd0b2662a",
   "metadata": {},
   "source": [
    "# Question 10\n",
    "-----"
   ]
  },
  {
   "cell_type": "markdown",
   "id": "c88b2899-d511-4f91-bf6f-33334c2ccdc3",
   "metadata": {},
   "source": [
    "$$q * p = 0.1275$$\n",
    "\n",
    "$$p = 1 - q$$\n",
    "\n",
    "$$q - q^2 = 0.1275$$\n",
    "\n",
    "$$q^2 - q + 0.1275 = 0$$\n",
    "\n",
    "$$a = 1, \\ \\ b = -1, \\ \\ c = 0.1275$$\n",
    "\n",
    "$$x = \\frac{1 \\pm \\sqrt{1 - (4 * 0.1275)}}{2}$$\n",
    "\n",
    "$$x = \\frac{1 \\pm \\sqrt{0.49}}{2}$$\n",
    "\n",
    "$$x = \\frac{1 \\pm 0.7}{2}$$\n",
    "\n",
    "$$x = 0.15, \\ 0.85$$\n",
    "\n",
    "Since p > 0.5, p = 0.85"
   ]
  },
  {
   "cell_type": "code",
   "execution_count": 1,
   "id": "c7a6cd2f-b1c6-4afa-a5cb-43ce44ea5062",
   "metadata": {},
   "outputs": [
    {
     "name": "stdout",
     "output_type": "stream",
     "text": [
      "P(X > 2) = 0.7224999999999999\n"
     ]
    }
   ],
   "source": [
    "p = 0.85\n",
    "q = 1 - p\n",
    "PXG2 = 1 - (q + (p * q))\n",
    "print(\"P(X > 2) = \" + str(PXG2))"
   ]
  }
 ],
 "metadata": {
  "kernelspec": {
   "display_name": "Python 3 (ipykernel)",
   "language": "python",
   "name": "python3"
  },
  "language_info": {
   "codemirror_mode": {
    "name": "ipython",
    "version": 3
   },
   "file_extension": ".py",
   "mimetype": "text/x-python",
   "name": "python",
   "nbconvert_exporter": "python",
   "pygments_lexer": "ipython3",
   "version": "3.12.1"
  }
 },
 "nbformat": 4,
 "nbformat_minor": 5
}

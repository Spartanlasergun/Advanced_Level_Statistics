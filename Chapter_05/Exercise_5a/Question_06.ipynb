{
 "cells": [
  {
   "cell_type": "markdown",
   "id": "5c39e73c-81b4-4882-b455-a8acc244a759",
   "metadata": {},
   "source": [
    "# Question 6\n",
    "-----"
   ]
  },
  {
   "cell_type": "markdown",
   "id": "aba13a64-aa4a-4d14-b002-477c9af63cfe",
   "metadata": {},
   "source": [
    "| x | 0 | 1 | 2 | 3 | 4 | 5 | 6 | 7 | 8 | 9 |\n",
    "| - | - | - | - | - | - | - | - | - | - | - |\n",
    "| (P(X = x) | 0.1 | 0.1 | 0.1 | 0.1 | 0.1 | 0.1 | 0.1 | 0.1 | 0.1 | 0.1 |\n",
    "\n",
    "$$P(X < 6) = 0.6$$\n",
    "\n",
    "$$P(X \\ge 7) = 0.3$$"
   ]
  },
  {
   "cell_type": "code",
   "execution_count": 1,
   "id": "6c6fcb7d-9c01-4019-a450-85523d412889",
   "metadata": {},
   "outputs": [
    {
     "name": "stdout",
     "output_type": "stream",
     "text": [
      "E(X) = 4.500000000000001\n"
     ]
    }
   ],
   "source": [
    "EX = (0.1 * 1) + (0.1 * 2) + (0.1 * 3) + (0.1 * 4) + (0.1 * 5) + (0.1 * 6) + (0.1 * 7) + (0.1 * 8) + (0.1 * 9)\n",
    "print(\"E(X) = \" + str(EX))"
   ]
  },
  {
   "cell_type": "code",
   "execution_count": 2,
   "id": "63430cb3-db9f-45fb-998a-4e02b162107f",
   "metadata": {},
   "outputs": [
    {
     "name": "stdout",
     "output_type": "stream",
     "text": [
      "std = 2.872281323269013\n"
     ]
    }
   ],
   "source": [
    "import math\n",
    "EX_2 = (0.1 * 1) + (0.1 * 4) + (0.1 * 9) + (0.1 * 16) + (0.1 * 25) + (0.1 * 36) + (0.1 * 49) + (0.1 * 64) + (0.1 * 81)\n",
    "Var = EX_2 - pow(EX, 2)\n",
    "std = math.sqrt(Var)\n",
    "print(\"std = \" + str(std))"
   ]
  },
  {
   "cell_type": "code",
   "execution_count": 3,
   "id": "f1fd825a-1198-4eb7-a150-0bc8e35cc589",
   "metadata": {},
   "outputs": [
    {
     "name": "stdout",
     "output_type": "stream",
     "text": [
      "b) (i) 0.05314410000000001\n"
     ]
    }
   ],
   "source": [
    "p = 0.1\n",
    "q = 1 - p\n",
    "bi = pow(q, 6) * p\n",
    "print(\"b) (i) \" + str(bi))"
   ]
  },
  {
   "cell_type": "code",
   "execution_count": 4,
   "id": "8eb2c46b-7909-488f-9f5f-68eb7f11a016",
   "metadata": {},
   "outputs": [
    {
     "name": "stdout",
     "output_type": "stream",
     "text": [
      "(ii) 1\n"
     ]
    }
   ],
   "source": [
    "print(\"(ii) 1\")"
   ]
  },
  {
   "cell_type": "code",
   "execution_count": 5,
   "id": "e44a1181-a439-4b4c-84ef-9ad10bfb263d",
   "metadata": {},
   "outputs": [
    {
     "name": "stdout",
     "output_type": "stream",
     "text": [
      "(iii) 10\n"
     ]
    }
   ],
   "source": [
    "print(\"(iii) 10\")"
   ]
  }
 ],
 "metadata": {
  "kernelspec": {
   "display_name": "Python 3 (ipykernel)",
   "language": "python",
   "name": "python3"
  },
  "language_info": {
   "codemirror_mode": {
    "name": "ipython",
    "version": 3
   },
   "file_extension": ".py",
   "mimetype": "text/x-python",
   "name": "python",
   "nbconvert_exporter": "python",
   "pygments_lexer": "ipython3",
   "version": "3.12.1"
  }
 },
 "nbformat": 4,
 "nbformat_minor": 5
}

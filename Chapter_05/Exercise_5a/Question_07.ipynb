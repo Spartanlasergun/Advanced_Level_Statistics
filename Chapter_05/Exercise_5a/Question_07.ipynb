{
 "cells": [
  {
   "cell_type": "markdown",
   "id": "97afb11b-974e-478e-a952-1a808aa50f8f",
   "metadata": {},
   "source": [
    "# Question 7\n",
    "-----"
   ]
  },
  {
   "cell_type": "code",
   "execution_count": 1,
   "id": "30440e4f-c3a9-4c28-b7d9-5be1e4330359",
   "metadata": {},
   "outputs": [
    {
     "name": "stdout",
     "output_type": "stream",
     "text": [
      "a) mode = 1\n"
     ]
    }
   ],
   "source": [
    "print(\"a) mode = 1\")"
   ]
  },
  {
   "cell_type": "code",
   "execution_count": 2,
   "id": "372f56eb-a601-43b8-bf7e-ff86504bde82",
   "metadata": {},
   "outputs": [
    {
     "name": "stdout",
     "output_type": "stream",
     "text": [
      "mean = 2.0\n"
     ]
    }
   ],
   "source": [
    "p = 0.5\n",
    "mean = 1/p\n",
    "print(\"mean = \" + str(mean))"
   ]
  },
  {
   "cell_type": "code",
   "execution_count": 3,
   "id": "4edd7ea1-0cf0-45f2-8592-1030f5c1b24d",
   "metadata": {},
   "outputs": [
    {
     "name": "stdout",
     "output_type": "stream",
     "text": [
      "std = 1.4142135623730951\n"
     ]
    }
   ],
   "source": [
    "import math\n",
    "q = 1-p\n",
    "var = q / pow(p, 2)\n",
    "std = math.sqrt(var)\n",
    "print(\"std = \" + str(std))"
   ]
  }
 ],
 "metadata": {
  "kernelspec": {
   "display_name": "Python 3 (ipykernel)",
   "language": "python",
   "name": "python3"
  },
  "language_info": {
   "codemirror_mode": {
    "name": "ipython",
    "version": 3
   },
   "file_extension": ".py",
   "mimetype": "text/x-python",
   "name": "python",
   "nbconvert_exporter": "python",
   "pygments_lexer": "ipython3",
   "version": "3.12.1"
  }
 },
 "nbformat": 4,
 "nbformat_minor": 5
}

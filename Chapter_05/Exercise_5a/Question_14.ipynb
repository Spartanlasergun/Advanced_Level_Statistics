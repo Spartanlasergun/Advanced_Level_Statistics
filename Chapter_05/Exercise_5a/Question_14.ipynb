{
 "cells": [
  {
   "cell_type": "markdown",
   "id": "81b419cc-f31f-4913-b396-f6e8e63253b3",
   "metadata": {},
   "source": [
    "# Question 14\n",
    "----"
   ]
  },
  {
   "cell_type": "markdown",
   "id": "fde505ce-edda-4814-8982-8119568905bc",
   "metadata": {},
   "source": [
    "$$10pounds = 1000p$$\n",
    "\n",
    "$$p = \\frac{1}{6}$$\n",
    "\n",
    "$$E(X) = \\frac{1}{p} = 6$$\n",
    "\n",
    "$$(6 * a) - 1000 = 50$$\n",
    "\n",
    "$$6a = 1050$$\n",
    "\n",
    "$$a = \\frac{1050}{6} = 175p = 1.75pounds$$"
   ]
  }
 ],
 "metadata": {
  "kernelspec": {
   "display_name": "Python 3 (ipykernel)",
   "language": "python",
   "name": "python3"
  },
  "language_info": {
   "codemirror_mode": {
    "name": "ipython",
    "version": 3
   },
   "file_extension": ".py",
   "mimetype": "text/x-python",
   "name": "python",
   "nbconvert_exporter": "python",
   "pygments_lexer": "ipython3",
   "version": "3.12.1"
  }
 },
 "nbformat": 4,
 "nbformat_minor": 5
}

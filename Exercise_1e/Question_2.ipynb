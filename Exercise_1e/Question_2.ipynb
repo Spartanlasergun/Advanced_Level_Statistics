{
 "cells": [
  {
   "cell_type": "code",
   "execution_count": 1,
   "id": "e6c8cbd8",
   "metadata": {},
   "outputs": [
    {
     "name": "stdout",
     "output_type": "stream",
     "text": [
      "The mean is = 68.8\n"
     ]
    }
   ],
   "source": [
    "data = [64, 52, 71, 75, 82]\n",
    "ordinary_mean = (sum(data)) / (len(data))\n",
    "print(\"The mean is = \" + str(ordinary_mean))"
   ]
  },
  {
   "cell_type": "code",
   "execution_count": 2,
   "id": "c612679f",
   "metadata": {},
   "outputs": [
    {
     "name": "stdout",
     "output_type": "stream",
     "text": [
      "The weighted mean is = 67.15\n"
     ]
    }
   ],
   "source": [
    "weights = [5, 4, 6, 3, 2]\n",
    "weighted_sum = 0\n",
    "index = 0\n",
    "for weight in  weights:\n",
    "    total = data[index] * weight\n",
    "    weighted_sum = weighted_sum + total\n",
    "    index = index + 1\n",
    "weighted_mean = weighted_sum / (sum(weights))\n",
    "print(\"The weighted mean is = \" + str(weighted_mean))"
   ]
  },
  {
   "cell_type": "code",
   "execution_count": 3,
   "id": "469f6ca9",
   "metadata": {},
   "outputs": [
    {
     "name": "stdout",
     "output_type": "stream",
     "text": [
      "The class teacher gave the higher mark by 1.6499999999999915\n"
     ]
    }
   ],
   "source": [
    "difference = ordinary_mean - weighted_mean\n",
    "print(\"The class teacher gave the higher mark by \" + str(difference))"
   ]
  }
 ],
 "metadata": {
  "kernelspec": {
   "display_name": "Python 3 (ipykernel)",
   "language": "python",
   "name": "python3"
  },
  "language_info": {
   "codemirror_mode": {
    "name": "ipython",
    "version": 3
   },
   "file_extension": ".py",
   "mimetype": "text/x-python",
   "name": "python",
   "nbconvert_exporter": "python",
   "pygments_lexer": "ipython3",
   "version": "3.10.7"
  }
 },
 "nbformat": 4,
 "nbformat_minor": 5
}

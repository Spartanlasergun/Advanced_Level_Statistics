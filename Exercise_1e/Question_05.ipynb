{
 "cells": [
  {
   "cell_type": "code",
   "execution_count": 1,
   "id": "2907f157",
   "metadata": {},
   "outputs": [
    {
     "name": "stdout",
     "output_type": "stream",
     "text": [
      "The value of x = 5\n",
      "The mean is = 65.8\n"
     ]
    }
   ],
   "source": [
    "# ((80 * 2) + (72x) + (46 * 3)) / (5 + x) = ((64 * 2) + (82x) + (40 * 3)) / (5 + x)\n",
    "# 298 + 72x = 248 + 82x\n",
    "# x = 5\n",
    "print(\"The value of x = 5\")\n",
    "\n",
    "mean = ((80 * 2) + (72 * 5) + (46 * 3)) / (5 + 5)\n",
    "print(\"The mean is = \" + str(mean))"
   ]
  }
 ],
 "metadata": {
  "kernelspec": {
   "display_name": "Python 3 (ipykernel)",
   "language": "python",
   "name": "python3"
  },
  "language_info": {
   "codemirror_mode": {
    "name": "ipython",
    "version": 3
   },
   "file_extension": ".py",
   "mimetype": "text/x-python",
   "name": "python",
   "nbconvert_exporter": "python",
   "pygments_lexer": "ipython3",
   "version": "3.10.7"
  }
 },
 "nbformat": 4,
 "nbformat_minor": 5
}

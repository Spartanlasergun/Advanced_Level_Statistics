{
 "cells": [
  {
   "cell_type": "code",
   "execution_count": 1,
   "id": "cc56f744",
   "metadata": {},
   "outputs": [
    {
     "name": "stdout",
     "output_type": "stream",
     "text": [
      "The weighted mean is = 10.4\n"
     ]
    }
   ],
   "source": [
    "weighted_mean = ((8 * 2) + (12 * 3)) / 5\n",
    "print(\"The weighted mean is = \" + str(weighted_mean))"
   ]
  }
 ],
 "metadata": {
  "kernelspec": {
   "display_name": "Python 3 (ipykernel)",
   "language": "python",
   "name": "python3"
  },
  "language_info": {
   "codemirror_mode": {
    "name": "ipython",
    "version": 3
   },
   "file_extension": ".py",
   "mimetype": "text/x-python",
   "name": "python",
   "nbconvert_exporter": "python",
   "pygments_lexer": "ipython3",
   "version": "3.10.7"
  }
 },
 "nbformat": 4,
 "nbformat_minor": 5
}

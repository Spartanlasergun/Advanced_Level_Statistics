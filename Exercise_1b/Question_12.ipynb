{
 "cells": [
  {
   "cell_type": "code",
   "execution_count": 1,
   "id": "402c5f50",
   "metadata": {},
   "outputs": [
    {
     "name": "stdout",
     "output_type": "stream",
     "text": [
      "frequency_density = frequency/class_width\n",
      "=> frequency = frequency_density * class_width\n",
      "frequecies = [2, 6, 8, 8, 6, 4, 10]\n"
     ]
    }
   ],
   "source": [
    "print(\"frequency_density = frequency/class_width\")\n",
    "print(\"=> frequency = frequency_density * class_width\")\n",
    "print(r\"frequecies = [2, 6, 8, 8, 6, 4, 10]\")"
   ]
  },
  {
   "cell_type": "code",
   "execution_count": null,
   "id": "33d91758",
   "metadata": {},
   "outputs": [],
   "source": []
  }
 ],
 "metadata": {
  "kernelspec": {
   "display_name": "Python 3 (ipykernel)",
   "language": "python",
   "name": "python3"
  },
  "language_info": {
   "codemirror_mode": {
    "name": "ipython",
    "version": 3
   },
   "file_extension": ".py",
   "mimetype": "text/x-python",
   "name": "python",
   "nbconvert_exporter": "python",
   "pygments_lexer": "ipython3",
   "version": "3.10.7"
  }
 },
 "nbformat": 4,
 "nbformat_minor": 5
}

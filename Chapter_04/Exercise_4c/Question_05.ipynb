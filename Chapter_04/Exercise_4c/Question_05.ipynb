{
 "cells": [
  {
   "cell_type": "markdown",
   "id": "28fc81e1-adfa-4844-b479-ac74fe9c6863",
   "metadata": {},
   "source": [
    "# Question 5\n",
    "-----"
   ]
  },
  {
   "cell_type": "code",
   "execution_count": 1,
   "id": "72508ac2-0194-4f79-8838-fcdfb890ef70",
   "metadata": {},
   "outputs": [
    {
     "name": "stdout",
     "output_type": "stream",
     "text": [
      "Var(X) = 2.5599999999999987\n"
     ]
    }
   ],
   "source": [
    "EX = (2 * 0.1) + (4 * 0.3) + (6 * 0.5) + (8 * 0.1)\n",
    "EX_2 = (pow(2, 2) * 0.1) + (pow(4, 2) * 0.3) + (pow(6, 2) * 0.5) + (pow(8, 2) * 0.1)\n",
    "Var = EX_2 - pow(EX, 2)\n",
    "print(\"Var(X) = \" + str(Var))"
   ]
  }
 ],
 "metadata": {
  "kernelspec": {
   "display_name": "Python 3 (ipykernel)",
   "language": "python",
   "name": "python3"
  },
  "language_info": {
   "codemirror_mode": {
    "name": "ipython",
    "version": 3
   },
   "file_extension": ".py",
   "mimetype": "text/x-python",
   "name": "python",
   "nbconvert_exporter": "python",
   "pygments_lexer": "ipython3",
   "version": "3.12.1"
  }
 },
 "nbformat": 4,
 "nbformat_minor": 5
}

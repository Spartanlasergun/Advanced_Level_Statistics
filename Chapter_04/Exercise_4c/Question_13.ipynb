{
 "cells": [
  {
   "cell_type": "markdown",
   "id": "9d855df5-bbe5-49b4-b6c1-258f02f9180e",
   "metadata": {},
   "source": [
    "# Question 13\n",
    "-----"
   ]
  },
  {
   "cell_type": "markdown",
   "id": "e78d67b2-53f3-4a24-b704-33f294f5d3b3",
   "metadata": {},
   "source": [
    "| x | 0 | 1 | 2 | \n",
    "| --- | --- | --- | --- |\n",
    "| P(X = x) | $\\frac{1}{7}$ | $\\frac{4}{7}$ | $\\frac{2}{7}$ |"
   ]
  },
  {
   "cell_type": "code",
   "execution_count": 1,
   "id": "f3e96206-ee0a-4ab5-9f7f-846d5ce9ef53",
   "metadata": {},
   "outputs": [
    {
     "name": "stdout",
     "output_type": "stream",
     "text": [
      "E(X) = 1.1428571428571428\n"
     ]
    }
   ],
   "source": [
    "EX = (1 * (4/7)) + (2 * (2/7))\n",
    "print(\"E(X) = \" + str(EX))"
   ]
  },
  {
   "cell_type": "code",
   "execution_count": 2,
   "id": "e4ec00be-9c82-4cf7-a31b-63421c817463",
   "metadata": {},
   "outputs": [
    {
     "name": "stdout",
     "output_type": "stream",
     "text": [
      "E(X sqr) = 1.7142857142857142\n"
     ]
    }
   ],
   "source": [
    "def sq(x):\n",
    "    square = pow(x, 2)\n",
    "    return square\n",
    "\n",
    "EX_2 = (sq(1) * (4/7)) + (sq(2) * (2/7))\n",
    "print(\"E(X sqr) = \" + str(EX_2))"
   ]
  },
  {
   "cell_type": "code",
   "execution_count": 3,
   "id": "a05bb379-78c5-486a-bfb6-39038be1c81e",
   "metadata": {},
   "outputs": [
    {
     "name": "stdout",
     "output_type": "stream",
     "text": [
      "Var = 0.40816326530612246\n"
     ]
    }
   ],
   "source": [
    "Var = EX_2 - pow(EX, 2)\n",
    "print(\"Var = \" + str(Var))"
   ]
  },
  {
   "cell_type": "code",
   "execution_count": 4,
   "id": "08fb1251-5022-4040-b593-927be587afa7",
   "metadata": {},
   "outputs": [
    {
     "name": "stdout",
     "output_type": "stream",
     "text": [
      "Var(3x - 4) = 3.673469387755102\n"
     ]
    }
   ],
   "source": [
    "Var3xm4 = pow(3, 2) * Var\n",
    "print(\"Var(3x - 4) = \" + str(Var3xm4))"
   ]
  }
 ],
 "metadata": {
  "kernelspec": {
   "display_name": "Python 3 (ipykernel)",
   "language": "python",
   "name": "python3"
  },
  "language_info": {
   "codemirror_mode": {
    "name": "ipython",
    "version": 3
   },
   "file_extension": ".py",
   "mimetype": "text/x-python",
   "name": "python",
   "nbconvert_exporter": "python",
   "pygments_lexer": "ipython3",
   "version": "3.12.1"
  }
 },
 "nbformat": 4,
 "nbformat_minor": 5
}

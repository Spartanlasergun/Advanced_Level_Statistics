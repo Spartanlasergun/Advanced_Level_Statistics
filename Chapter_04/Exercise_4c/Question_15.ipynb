{
 "cells": [
  {
   "cell_type": "markdown",
   "id": "92358039-14b5-4ef5-b506-d8adc1d2046e",
   "metadata": {},
   "source": [
    "# Question 15\n",
    "-----"
   ]
  },
  {
   "cell_type": "code",
   "execution_count": 1,
   "id": "8ca656b3-39c3-45fa-ba97-8435772462b4",
   "metadata": {},
   "outputs": [
    {
     "name": "stdout",
     "output_type": "stream",
     "text": [
      "Var(2X + 3) = 144.0\n"
     ]
    }
   ],
   "source": [
    "EX = (10 * 0.1) + (20 * 0.6) + (30 * 0.3)\n",
    "\n",
    "def sq(x):\n",
    "    square = pow(x, 2)\n",
    "    return square\n",
    "\n",
    "EX_2 = (sq(10) * 0.1) + (sq(20) * 0.6) + (sq(30) * 0.3)\n",
    "Var = EX_2 - pow(EX, 2)\n",
    "Var2xp3 = pow(2, 2) * Var\n",
    "print(\"Var(2X + 3) = \" + str(Var2xp3))"
   ]
  }
 ],
 "metadata": {
  "kernelspec": {
   "display_name": "Python 3 (ipykernel)",
   "language": "python",
   "name": "python3"
  },
  "language_info": {
   "codemirror_mode": {
    "name": "ipython",
    "version": 3
   },
   "file_extension": ".py",
   "mimetype": "text/x-python",
   "name": "python",
   "nbconvert_exporter": "python",
   "pygments_lexer": "ipython3",
   "version": "3.12.1"
  }
 },
 "nbformat": 4,
 "nbformat_minor": 5
}

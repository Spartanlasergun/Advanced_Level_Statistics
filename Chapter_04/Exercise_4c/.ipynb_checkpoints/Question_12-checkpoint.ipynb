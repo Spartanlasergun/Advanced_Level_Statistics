{
 "cells": [
  {
   "cell_type": "markdown",
   "id": "33aa3599-b819-4347-a091-f9069f722e3e",
   "metadata": {},
   "source": [
    "# Question 12\n",
    "-----"
   ]
  },
  {
   "cell_type": "markdown",
   "id": "99193f96-75a5-406a-ad97-303ad1a3336d",
   "metadata": {},
   "source": [
    "| x | 0 | 1 | 2 | 3 |\n",
    "| --- | --- | --- | --- | --- |\n",
    "| P(X = x) | 0.0476 | 0.357 | 0.476 | 0.119 |"
   ]
  },
  {
   "cell_type": "code",
   "execution_count": 1,
   "id": "4506a7f9-420e-44cb-965e-a2904cd439ba",
   "metadata": {},
   "outputs": [
    {
     "name": "stdout",
     "output_type": "stream",
     "text": [
      "E(X) = 1.666\n"
     ]
    }
   ],
   "source": [
    "EX = (0.357 * 1) + (0.476 * 2) + (0.119 * 3)\n",
    "print(\"E(X) = \" + str(EX))"
   ]
  },
  {
   "cell_type": "code",
   "execution_count": 2,
   "id": "89b6af48-3029-4583-afe0-4a5db106ffbe",
   "metadata": {},
   "outputs": [
    {
     "name": "stdout",
     "output_type": "stream",
     "text": [
      "E(X sqr) = 3.332\n"
     ]
    }
   ],
   "source": [
    "def sq(x):\n",
    "    square = pow(x, 2)\n",
    "    return square\n",
    "\n",
    "EX_2 = (0.357 * sq(1)) + (0.476 * sq(2)) + (0.119 * sq(3))\n",
    "print(\"E(X sqr) = \" + str(EX_2))"
   ]
  },
  {
   "cell_type": "code",
   "execution_count": 3,
   "id": "7adc09f5-4299-4732-881a-859a64664b17",
   "metadata": {},
   "outputs": [
    {
     "name": "stdout",
     "output_type": "stream",
     "text": [
      "Var(X) = 0.5564439999999999\n"
     ]
    }
   ],
   "source": [
    "Var = EX_2 - pow(EX, 2)\n",
    "print(\"Var(X) = \" + str(Var))"
   ]
  }
 ],
 "metadata": {
  "kernelspec": {
   "display_name": "Python 3 (ipykernel)",
   "language": "python",
   "name": "python3"
  },
  "language_info": {
   "codemirror_mode": {
    "name": "ipython",
    "version": 3
   },
   "file_extension": ".py",
   "mimetype": "text/x-python",
   "name": "python",
   "nbconvert_exporter": "python",
   "pygments_lexer": "ipython3",
   "version": "3.12.1"
  }
 },
 "nbformat": 4,
 "nbformat_minor": 5
}

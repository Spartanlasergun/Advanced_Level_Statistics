{
 "cells": [
  {
   "cell_type": "markdown",
   "id": "4b2dcc9c-4e94-4a5d-b3da-aa9885de32c6",
   "metadata": {},
   "source": [
    "# Question 7\n",
    "-----"
   ]
  },
  {
   "cell_type": "markdown",
   "id": "7640d417-d0e8-4bf4-94a2-e65ada25eba5",
   "metadata": {},
   "source": [
    "$$E(X) = 0.3$$\n",
    "\n",
    "hence,\n",
    "\n",
    "$$(-2 * 0.1) + (-1 * 0.1) + (0 * 0.3) + (1 * 0.4) + (0.1 * c) = 0.3$$\n",
    "\n",
    "$$-0.2 - 0.1 + 0.4 + 0.1c = 0.3$$\n",
    "\n",
    "$$0.1c = 0.2$$\n",
    "\n",
    "$$c = 2$$\n",
    "\n",
    "a) $c = 2$\n",
    "\n",
    "$$E(X^2) = 1.8$$\n",
    "\n",
    "$$(-2^2 * 0.1) + (-1^2 * 0.1) + (0^2 * 0.3) + (1^2 * 0.4) + (0.1 * c^2) = 1.8$$\n",
    "\n",
    "$$0.4 + 0.1 + 0.4 + 0.1c^2 = 1.8$$\n",
    "\n",
    "$$0.1c^2 = 1.8 - 0.9$$\n",
    "\n",
    "$$c^2 = \\frac{0.9}{0.1} = 9$$\n",
    "\n",
    "$$c = \\sqrt{9} = \\pm 3$$\n",
    "\n",
    "b) $c = \\pm 3$"
   ]
  }
 ],
 "metadata": {
  "kernelspec": {
   "display_name": "Python 3 (ipykernel)",
   "language": "python",
   "name": "python3"
  },
  "language_info": {
   "codemirror_mode": {
    "name": "ipython",
    "version": 3
   },
   "file_extension": ".py",
   "mimetype": "text/x-python",
   "name": "python",
   "nbconvert_exporter": "python",
   "pygments_lexer": "ipython3",
   "version": "3.12.1"
  }
 },
 "nbformat": 4,
 "nbformat_minor": 5
}

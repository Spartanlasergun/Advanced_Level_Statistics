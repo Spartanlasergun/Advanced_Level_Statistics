{
 "cells": [
  {
   "cell_type": "markdown",
   "id": "ebe95df0-b86b-43a9-a4a2-b68a1cbc8205",
   "metadata": {},
   "source": [
    "# Question 3\n",
    "-----"
   ]
  },
  {
   "cell_type": "code",
   "execution_count": 1,
   "id": "6ea2463e-db0f-43b5-96ee-90fdf8323f12",
   "metadata": {},
   "outputs": [
    {
     "name": "stdout",
     "output_type": "stream",
     "text": [
      "E(X) = 1.45\n"
     ]
    }
   ],
   "source": [
    "EX = (0.05 * 0) + (0.45 * 1 ) + (0.5 * 2)\n",
    "print(\"E(X) = \" + str(EX))"
   ]
  },
  {
   "cell_type": "code",
   "execution_count": 3,
   "id": "581c45fd-ba3e-4f84-b4db-d0cb08b2a7d3",
   "metadata": {},
   "outputs": [
    {
     "name": "stdout",
     "output_type": "stream",
     "text": [
      "E(X sqr) = 2.45\n"
     ]
    }
   ],
   "source": [
    "EX_2 = (0.05 * pow(0, 2)) + (0.45 * pow(1, 2)) + (0.5 * pow(2, 2))\n",
    "print(\"E(X sqr) = \" + str(EX_2))"
   ]
  },
  {
   "cell_type": "code",
   "execution_count": 6,
   "id": "976e317d-5cbc-460c-af61-e09a308cd998",
   "metadata": {},
   "outputs": [
    {
     "name": "stdout",
     "output_type": "stream",
     "text": [
      "E(5x^2 + 2x - 3) = 12.15\n"
     ]
    }
   ],
   "source": [
    "def funk(x):\n",
    "    fx = (5 * pow(x, 2)) + (2 * x) - 3\n",
    "    return fx\n",
    "E5x2p2x3 = (0.05 * funk(0)) + (0.45 * funk(1)) + (0.5 * funk(2))\n",
    "print(\"E(5x^2 + 2x - 3) = \" + str(E5x2p2x3))"
   ]
  }
 ],
 "metadata": {
  "kernelspec": {
   "display_name": "Python 3 (ipykernel)",
   "language": "python",
   "name": "python3"
  },
  "language_info": {
   "codemirror_mode": {
    "name": "ipython",
    "version": 3
   },
   "file_extension": ".py",
   "mimetype": "text/x-python",
   "name": "python",
   "nbconvert_exporter": "python",
   "pygments_lexer": "ipython3",
   "version": "3.12.1"
  }
 },
 "nbformat": 4,
 "nbformat_minor": 5
}

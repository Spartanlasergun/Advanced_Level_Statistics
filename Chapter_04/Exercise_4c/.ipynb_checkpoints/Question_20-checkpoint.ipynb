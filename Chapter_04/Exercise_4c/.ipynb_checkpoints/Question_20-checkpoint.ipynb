{
 "cells": [
  {
   "cell_type": "markdown",
   "id": "0d2b895c-70b5-452c-b221-c73871c278be",
   "metadata": {},
   "source": [
    "# Question 20\n",
    "-----"
   ]
  },
  {
   "cell_type": "markdown",
   "id": "0c3b9e67-bf90-4db2-9d26-559ef10f2b7c",
   "metadata": {},
   "source": [
    "| x | 0 | 1 | 2 | 3 |\n",
    "| --- | --- | --- | --- | --- |\n",
    "| P(X = x) | 0.125 | 0.375 | 0.375 | 0.125 |\n",
    "\n",
    "Hence\n",
    "\n",
    "| x | 10 | 6 | 3 | 1 |\n",
    "| --- | --- | --- | --- | --- |\n",
    "| P(X = x) | 0.125 | 0.375 | 0.375 | 0.125 |"
   ]
  },
  {
   "cell_type": "code",
   "execution_count": 1,
   "id": "2294c195-57a9-4f7f-b52f-7de199ad37b5",
   "metadata": {},
   "outputs": [
    {
     "name": "stdout",
     "output_type": "stream",
     "text": [
      "expected loss over 12 games = 3.0\n"
     ]
    }
   ],
   "source": [
    "EX = (10 * 0.125) + (0.375 * 6) + (3 * 0.375) + (1 * 0.125)\n",
    "loss = 5 - EX\n",
    "loss12 = 12 * loss\n",
    "print(\"expected loss over 12 games = \" + str(loss12))"
   ]
  },
  {
   "cell_type": "markdown",
   "id": "533ab696-139a-4b46-a771-29bfb3c95b1e",
   "metadata": {},
   "source": [
    "$$0.5 + 0.3 + p + q = 1$$\n",
    "\n",
    "$$p + q = 0.2$$\n",
    "\n",
    "$$p = 0.2 - q$$\n",
    "\n",
    "for E(X),\n",
    "\n",
    "$$(0.5 * 10) + (0.3 * 20) + (50 * p) + (100 * q) = 25$$\n",
    "\n",
    "$$5 + 6 + 50p + 100q = 25$$\n",
    "\n",
    "$$50p + 100q = 14$$\n",
    "\n",
    "substituting,\n",
    "\n",
    "$$50(0.2 - q) + 100q = 14$$\n",
    "\n",
    "$$10 - 50q + 100q = 14$$\n",
    "\n",
    "$$50q = 4$$\n",
    "\n",
    "$$q = \\frac{4}{50} = 0.08$$\n",
    "\n",
    "$$p = 0.2 - q = 0.2 - 0.08 = 0.12$$"
   ]
  },
  {
   "cell_type": "code",
   "execution_count": 2,
   "id": "3fb87f73-491d-42e6-a460-e88e30d98148",
   "metadata": {},
   "outputs": [
    {
     "name": "stdout",
     "output_type": "stream",
     "text": [
      "Var(X) = 645.0\n"
     ]
    }
   ],
   "source": [
    "EX = (10 * 0.5) + (20 * 0.3) + (50 * 0.12) + (100 * 0.08)\n",
    "\n",
    "def sq(x):\n",
    "    func = pow(x, 2)\n",
    "    return func\n",
    "\n",
    "EX_2 = (sq(10) * 0.5) + (sq(20) * 0.3) + (sq(50) * 0.12) + (sq(100) * 0.08)\n",
    "Var = EX_2 - pow(EX, 2)\n",
    "print(\"Var(X) = \" + str(Var))"
   ]
  },
  {
   "cell_type": "markdown",
   "id": "83ea6bb8-bd88-4388-a4da-22e40e71ed29",
   "metadata": {},
   "source": [
    "last part omitted due to ambiguity"
   ]
  }
 ],
 "metadata": {
  "kernelspec": {
   "display_name": "Python 3 (ipykernel)",
   "language": "python",
   "name": "python3"
  },
  "language_info": {
   "codemirror_mode": {
    "name": "ipython",
    "version": 3
   },
   "file_extension": ".py",
   "mimetype": "text/x-python",
   "name": "python",
   "nbconvert_exporter": "python",
   "pygments_lexer": "ipython3",
   "version": "3.12.1"
  }
 },
 "nbformat": 4,
 "nbformat_minor": 5
}

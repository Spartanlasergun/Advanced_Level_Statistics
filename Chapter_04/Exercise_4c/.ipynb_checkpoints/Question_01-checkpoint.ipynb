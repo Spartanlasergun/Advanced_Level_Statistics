{
 "cells": [
  {
   "cell_type": "markdown",
   "id": "6fe3bdda-09f9-416f-9e2b-567d072e0c25",
   "metadata": {},
   "source": [
    "# Question 1\n",
    "-----"
   ]
  },
  {
   "cell_type": "code",
   "execution_count": 1,
   "id": "80eebe1b-f1bf-4202-a806-f180c21dcd1b",
   "metadata": {},
   "outputs": [
    {
     "name": "stdout",
     "output_type": "stream",
     "text": [
      "E(X) = 2.3\n"
     ]
    }
   ],
   "source": [
    "EX = (0.2 * 1) + (0.3 * 2) + (0.5 * 3)\n",
    "print(\"E(X) = \" + str(EX))"
   ]
  },
  {
   "cell_type": "code",
   "execution_count": 2,
   "id": "ce2e6e4d-2b79-4077-a325-f5f315bbbce8",
   "metadata": {},
   "outputs": [
    {
     "name": "stdout",
     "output_type": "stream",
     "text": [
      "E(X sqr) = 5.9\n"
     ]
    }
   ],
   "source": [
    "EX_2 = (pow(1, 2) * 0.2) + (pow(2, 2) * 0.3) + (pow(3, 2) * 0.5)\n",
    "print(\"E(X sqr) = \" + str(EX_2))"
   ]
  },
  {
   "cell_type": "code",
   "execution_count": 3,
   "id": "636d5b46-b625-4cd9-a494-38e1f23c073a",
   "metadata": {},
   "outputs": [
    {
     "name": "stdout",
     "output_type": "stream",
     "text": [
      "Var(X) = 0.6100000000000012\n"
     ]
    }
   ],
   "source": [
    "Var = EX_2 - pow(EX, 2)\n",
    "print(\"Var(X) = \" + str(Var))"
   ]
  }
 ],
 "metadata": {
  "kernelspec": {
   "display_name": "Python 3 (ipykernel)",
   "language": "python",
   "name": "python3"
  },
  "language_info": {
   "codemirror_mode": {
    "name": "ipython",
    "version": 3
   },
   "file_extension": ".py",
   "mimetype": "text/x-python",
   "name": "python",
   "nbconvert_exporter": "python",
   "pygments_lexer": "ipython3",
   "version": "3.12.1"
  }
 },
 "nbformat": 4,
 "nbformat_minor": 5
}

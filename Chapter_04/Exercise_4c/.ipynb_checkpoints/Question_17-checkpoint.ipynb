{
 "cells": [
  {
   "cell_type": "markdown",
   "id": "9034c500-ff3a-4e51-adcd-953af7576ec0",
   "metadata": {},
   "source": [
    "# Question 17\n",
    "-----"
   ]
  },
  {
   "cell_type": "markdown",
   "id": "eabb623b-09ca-4917-b506-e5a201f145fe",
   "metadata": {},
   "source": [
    "$$P(X = 1) = \\frac{2}{10} = \\frac{1}{5}$$\n",
    "\n",
    "$$P(X = 2) = \\frac{8}{10} * \\frac{2}{9} = \\frac{8}{45}$$\n",
    "\n",
    "$$P(X = 3) = \\frac{8}{10} * \\frac{7}{9} * \\frac{2}{8} = \\frac{7}{45}$$\n",
    "\n",
    "Since $\\frac{1}{5} = \\frac{9}{45}$ we have the progression:\n",
    "\n",
    "$$\\frac{9}{45}, \\frac{8}{45}, \\frac{7}{45}, ...$$\n",
    "\n",
    "In general we can say that\n",
    "\n",
    "$$P(X = x) = \\frac{10}{45} - \\frac{x}{45}$$\n"
   ]
  },
  {
   "cell_type": "code",
   "execution_count": 9,
   "id": "c031c8be-be6e-4808-9a0e-a83ebb466e3e",
   "metadata": {},
   "outputs": [
    {
     "name": "stdout",
     "output_type": "stream",
     "text": [
      "E(X) = 3.6666666666666656\n"
     ]
    }
   ],
   "source": [
    "def func(x):\n",
    "    funk = ((10/45) - (x/45)) * x\n",
    "    return funk\n",
    "mean = (func(1) + func(2) + func(3) + func(4) + func(5) + func(6) + func(7) + func(8) + func(9))\n",
    "print(\"E(X) = \" + str(mean))"
   ]
  },
  {
   "cell_type": "code",
   "execution_count": 10,
   "id": "3647816a-1016-4fb8-aa27-429ee674b5aa",
   "metadata": {},
   "outputs": [
    {
     "name": "stdout",
     "output_type": "stream",
     "text": [
      "std = 2.211083193570267\n"
     ]
    }
   ],
   "source": [
    "import math\n",
    "def func(x):\n",
    "    funk = ((10/45) - (x/45)) * pow(x, 2)\n",
    "    return funk\n",
    "mean_sqr = (func(1) + func(2) + func(3) + func(4) + func(5) + func(6) + func(7) + func(8) + func(9))\n",
    "Var = mean_sqr - pow(mean, 2)\n",
    "std = math.sqrt(Var)\n",
    "print(\"std = \" + str(std))"
   ]
  },
  {
   "cell_type": "markdown",
   "id": "dcd3dad1-69cd-48a8-bd22-eb184090cfd9",
   "metadata": {},
   "source": [
    "with replacement\n",
    "\n",
    "$$P(X = 1) = \\frac{2}{10}$$\n",
    "\n",
    "$$P(X = 2) = \\frac{2}{10}$$\n",
    "\n",
    "$$P(X = 3) = \\frac{2}{10}$$\n",
    "\n",
    "$$...$$\n",
    "\n",
    "The probability never changes with replacement"
   ]
  }
 ],
 "metadata": {
  "kernelspec": {
   "display_name": "Python 3 (ipykernel)",
   "language": "python",
   "name": "python3"
  },
  "language_info": {
   "codemirror_mode": {
    "name": "ipython",
    "version": 3
   },
   "file_extension": ".py",
   "mimetype": "text/x-python",
   "name": "python",
   "nbconvert_exporter": "python",
   "pygments_lexer": "ipython3",
   "version": "3.12.1"
  }
 },
 "nbformat": 4,
 "nbformat_minor": 5
}

{
 "cells": [
  {
   "cell_type": "markdown",
   "id": "3f2efeb4-6f1d-4cb4-b8e5-158bdf2caf40",
   "metadata": {},
   "source": [
    "# Question 9\n",
    "-----"
   ]
  },
  {
   "cell_type": "markdown",
   "id": "3f1224e1-d9c5-40aa-8fa0-b409cff5c384",
   "metadata": {},
   "source": [
    "8 is given by:\n",
    "\n",
    "$$HHTT$$\n",
    "\n",
    "$$HTHT$$\n",
    "\n",
    "$$...$$\n",
    "\n",
    "$$P(X = 8) = 0.5 * 0.5 * 0.5 * 0.5 * 6 = 0.375$$\n",
    "\n",
    "| x | 4 | 6 | 8 | 10 | 12 |\n",
    "| --- | --- | --- | --- | --- | --- |\n",
    "| P(X = x) | $\\frac{1}{16}$ | $\\frac{1}{4}$ | $\\frac{3}{8}$ | $\\frac{1}{4}$ | $\\frac{1}{16}$ |\n"
   ]
  },
  {
   "cell_type": "code",
   "execution_count": 3,
   "id": "4665241b-afe0-428a-9e00-5f403477785d",
   "metadata": {},
   "outputs": [
    {
     "name": "stdout",
     "output_type": "stream",
     "text": [
      "Var(X) = 4.0\n"
     ]
    }
   ],
   "source": [
    "EX = (4 * (1/16)) + (6 * (1/4)) + (8 * (3/8)) + (10 * (1/4)) + (12 * (1/16))\n",
    "\n",
    "def sq(x):\n",
    "    square = pow(x, 2)\n",
    "    return square\n",
    "\n",
    "EX_2 = (sq(4) * (1/16)) + (sq(6) * (1/4)) + (sq(8) * (3/8)) + (sq(10) * (1/4)) + (sq(12) * (1/16))\n",
    "\n",
    "Var = EX_2 - pow(EX, 2)\n",
    "print(\"Var(X) = \" + str(Var))"
   ]
  }
 ],
 "metadata": {
  "kernelspec": {
   "display_name": "Python 3 (ipykernel)",
   "language": "python",
   "name": "python3"
  },
  "language_info": {
   "codemirror_mode": {
    "name": "ipython",
    "version": 3
   },
   "file_extension": ".py",
   "mimetype": "text/x-python",
   "name": "python",
   "nbconvert_exporter": "python",
   "pygments_lexer": "ipython3",
   "version": "3.12.1"
  }
 },
 "nbformat": 4,
 "nbformat_minor": 5
}

{
 "cells": [
  {
   "cell_type": "markdown",
   "id": "8bef91da-eeae-4648-afaf-75b557b1134a",
   "metadata": {},
   "source": [
    "# Question 6\n",
    "-----"
   ]
  },
  {
   "cell_type": "code",
   "execution_count": 1,
   "id": "3076685a-bc7f-4d8e-a398-21f8f4382872",
   "metadata": {},
   "outputs": [
    {
     "name": "stdout",
     "output_type": "stream",
     "text": [
      "E(X) = 3.5\n"
     ]
    }
   ],
   "source": [
    "EX = (1 * (1/16)) + (2 * (3/16)) + (3 * (1/4)) + (4 * (1/4)) + (5 * (3/16)) + (6 * (1/16))\n",
    "print(\"E(X) = \" + str(EX))"
   ]
  },
  {
   "cell_type": "code",
   "execution_count": 2,
   "id": "3bc272c6-2246-45c7-b5f4-f1a5c2508133",
   "metadata": {},
   "outputs": [
    {
     "name": "stdout",
     "output_type": "stream",
     "text": [
      "E(X sqr) = 14.0\n"
     ]
    }
   ],
   "source": [
    "def sqr(x):\n",
    "    square = pow(x, 2)\n",
    "    return square\n",
    "\n",
    "EX_2 = (sqr(1) * (1/16)) + (sqr(2) * (3/16)) + (sqr(3) * (1/4)) + (sqr(4) * (1/4)) + (sqr(5) * (3/16)) + (sqr(6) * (1/16))\n",
    "print(\"E(X sqr) = \" + str(EX_2))"
   ]
  },
  {
   "cell_type": "code",
   "execution_count": 3,
   "id": "fce05f79-45ec-4bd0-a1f8-e11981614de0",
   "metadata": {},
   "outputs": [
    {
     "name": "stdout",
     "output_type": "stream",
     "text": [
      "E(3x - 5) = 5.5\n"
     ]
    }
   ],
   "source": [
    "def func(x):\n",
    "    funk = (3 * x) - 5\n",
    "    return funk\n",
    "\n",
    "E3xm5 = (func(1) * (1/16)) + (func(2) * (3/16)) + (func(3) * (1/4)) + (func(4) * (1/4)) + (func(5) * (3/16)) + (func(6) * (1/16))\n",
    "print(\"E(3x - 5) = \" + str(E3xm5))"
   ]
  },
  {
   "cell_type": "code",
   "execution_count": 4,
   "id": "07768761-4e86-47fd-a339-55e38710f235",
   "metadata": {},
   "outputs": [
    {
     "name": "stdout",
     "output_type": "stream",
     "text": [
      "E(6X sqr) = 84.0\n"
     ]
    }
   ],
   "source": [
    "def ssqr(x):\n",
    "    square = 6 * (pow(x, 2))\n",
    "    return square\n",
    "\n",
    "E6X_2 = (ssqr(1) * (1/16)) + (ssqr(2) * (3/16)) + (ssqr(3) * (1/4)) + (ssqr(4) * (1/4)) + (ssqr(5) * (3/16)) + (ssqr(6) * (1/16))\n",
    "print(\"E(6X sqr) = \" + str(E6X_2))"
   ]
  },
  {
   "cell_type": "code",
   "execution_count": 5,
   "id": "2835530f-665d-4bc4-ab5f-c32da6949d09",
   "metadata": {},
   "outputs": [
    {
     "name": "stdout",
     "output_type": "stream",
     "text": [
      "Var(X) = 1.75\n"
     ]
    }
   ],
   "source": [
    "Var = EX_2 - pow(EX, 2)\n",
    "print(\"Var(X) = \" + str(Var))"
   ]
  }
 ],
 "metadata": {
  "kernelspec": {
   "display_name": "Python 3 (ipykernel)",
   "language": "python",
   "name": "python3"
  },
  "language_info": {
   "codemirror_mode": {
    "name": "ipython",
    "version": 3
   },
   "file_extension": ".py",
   "mimetype": "text/x-python",
   "name": "python",
   "nbconvert_exporter": "python",
   "pygments_lexer": "ipython3",
   "version": "3.12.1"
  }
 },
 "nbformat": 4,
 "nbformat_minor": 5
}

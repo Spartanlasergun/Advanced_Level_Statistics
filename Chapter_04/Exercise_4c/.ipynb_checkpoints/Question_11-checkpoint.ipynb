{
 "cells": [
  {
   "cell_type": "markdown",
   "id": "23f6ceeb-8a50-4c3a-a86c-c6c7cc6b2af2",
   "metadata": {},
   "source": [
    "# Question 11\n",
    "-----"
   ]
  },
  {
   "cell_type": "code",
   "execution_count": 1,
   "id": "ab33f2dd-a92a-4b3d-969e-4989905e1c34",
   "metadata": {},
   "outputs": [
    {
     "name": "stdout",
     "output_type": "stream",
     "text": [
      "y = 0.09999999999999998\n"
     ]
    }
   ],
   "source": [
    "y = 1 - ((1/6) + (1/6) + (1/5) + (1/5) + (1/6))\n",
    "print(\"y = \" + str(y))"
   ]
  },
  {
   "cell_type": "code",
   "execution_count": 2,
   "id": "e51f9dc5-27e1-4465-8577-3ab9535df089",
   "metadata": {},
   "outputs": [
    {
     "name": "stdout",
     "output_type": "stream",
     "text": [
      "E(X) = 3.5\n"
     ]
    }
   ],
   "source": [
    "EX = (1 * (1/6)) + (2 * (1/6)) + (3 * (1/5)) + (4 * y) + (5 * (1/5)) + (6 * (1/6)) \n",
    "print(\"E(X) = \" + str(EX))"
   ]
  },
  {
   "cell_type": "code",
   "execution_count": 3,
   "id": "9a88befd-197c-4be8-9a3c-40b7864b3897",
   "metadata": {},
   "outputs": [
    {
     "name": "stdout",
     "output_type": "stream",
     "text": [
      "E(X sqr) = 15.233333333333333\n"
     ]
    }
   ],
   "source": [
    "def sq(x):\n",
    "    square = pow(x, 2)\n",
    "    return square\n",
    "\n",
    "EX_2 = (sq(1) * (1/6)) + (sq(2) * (1/6)) + (sq(3) * (1/5)) + (sq(4) * y) + (sq(5) * (1/5)) + (sq(6) * (1/6))\n",
    "print(\"E(X sqr) = \" + str(EX_2))"
   ]
  },
  {
   "cell_type": "code",
   "execution_count": 4,
   "id": "60abca43-53a2-47d1-947f-4104230c3dde",
   "metadata": {},
   "outputs": [
    {
     "name": "stdout",
     "output_type": "stream",
     "text": [
      "Var = 2.9833333333333325\n"
     ]
    }
   ],
   "source": [
    "Var = EX_2 - pow(EX, 2)\n",
    "print(\"Var = \" + str(Var))"
   ]
  },
  {
   "cell_type": "code",
   "execution_count": 5,
   "id": "f815b60a-c282-49d6-9882-998d1f89adff",
   "metadata": {},
   "outputs": [
    {
     "name": "stdout",
     "output_type": "stream",
     "text": [
      "Var(4X) = 47.73333333333332\n"
     ]
    }
   ],
   "source": [
    "Var4x = pow(4, 2) * Var\n",
    "print(\"Var(4X) = \" + str(Var4x))"
   ]
  }
 ],
 "metadata": {
  "kernelspec": {
   "display_name": "Python 3 (ipykernel)",
   "language": "python",
   "name": "python3"
  },
  "language_info": {
   "codemirror_mode": {
    "name": "ipython",
    "version": 3
   },
   "file_extension": ".py",
   "mimetype": "text/x-python",
   "name": "python",
   "nbconvert_exporter": "python",
   "pygments_lexer": "ipython3",
   "version": "3.12.1"
  }
 },
 "nbformat": 4,
 "nbformat_minor": 5
}

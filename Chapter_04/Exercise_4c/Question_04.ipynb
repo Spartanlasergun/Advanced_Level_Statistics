{
 "cells": [
  {
   "cell_type": "markdown",
   "id": "d0523c7c-7f3e-4e8c-a776-4b71fb8e252a",
   "metadata": {},
   "source": [
    "# Question 4\n",
    "----"
   ]
  },
  {
   "cell_type": "code",
   "execution_count": 1,
   "id": "4911955f-0a8c-4d14-8041-7ef0176d496d",
   "metadata": {},
   "outputs": [
    {
     "name": "stdout",
     "output_type": "stream",
     "text": [
      "E(X) = 3.5\n"
     ]
    }
   ],
   "source": [
    "EX = (1/6) + (2/6) + (3/6) + (4/6) + (5/6) + (6/6)\n",
    "print(\"E(X) = \" + str(EX))"
   ]
  },
  {
   "cell_type": "code",
   "execution_count": 2,
   "id": "33032859-3464-4548-bfcb-659f836f4b46",
   "metadata": {},
   "outputs": [
    {
     "name": "stdout",
     "output_type": "stream",
     "text": [
      "E(X sqr) = 15.166666666666668\n"
     ]
    }
   ],
   "source": [
    "EX_2 = (1/6) + (4/6) + (9/6) + (16/6) + (25/6) + (36/6)\n",
    "print(\"E(X sqr) = \" + str(EX_2))"
   ]
  },
  {
   "cell_type": "code",
   "execution_count": 3,
   "id": "492f2f49-523c-4a88-9ecd-2653bd0dd0a9",
   "metadata": {},
   "outputs": [
    {
     "name": "stdout",
     "output_type": "stream",
     "text": [
      "E(3x + 4) = 14.499999999999998\n"
     ]
    }
   ],
   "source": [
    "def func(x):\n",
    "    fx = (3 * x) + 4\n",
    "    return fx\n",
    "E3xp4 = ((1/6) * func(1)) + ((1/6) * func(2)) + ((1/6) * func(3)) + ((1/6) * func(4)) + ((1/6) * func(5)) + ((1/6) * func(6))\n",
    "print(\"E(3x + 4) = \" + str(E3xp4))"
   ]
  },
  {
   "cell_type": "code",
   "execution_count": 4,
   "id": "f214e25e-b6ad-4e3b-bfe5-77a11bd8c412",
   "metadata": {},
   "outputs": [
    {
     "name": "stdout",
     "output_type": "stream",
     "text": [
      "Var(X) = 2.916666666666668\n"
     ]
    }
   ],
   "source": [
    "Var = EX_2 - pow(EX, 2)\n",
    "print(\"Var(X) = \" + str(Var))"
   ]
  }
 ],
 "metadata": {
  "kernelspec": {
   "display_name": "Python 3 (ipykernel)",
   "language": "python",
   "name": "python3"
  },
  "language_info": {
   "codemirror_mode": {
    "name": "ipython",
    "version": 3
   },
   "file_extension": ".py",
   "mimetype": "text/x-python",
   "name": "python",
   "nbconvert_exporter": "python",
   "pygments_lexer": "ipython3",
   "version": "3.12.1"
  }
 },
 "nbformat": 4,
 "nbformat_minor": 5
}

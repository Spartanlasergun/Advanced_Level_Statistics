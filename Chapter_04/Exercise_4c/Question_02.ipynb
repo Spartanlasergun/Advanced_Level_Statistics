{
 "cells": [
  {
   "cell_type": "markdown",
   "id": "c56444bd-299b-4aa3-a249-344e83614c5a",
   "metadata": {},
   "source": [
    "# Question 2\n",
    "-----"
   ]
  },
  {
   "cell_type": "code",
   "execution_count": 1,
   "id": "486eae0d-a1ff-454e-8b6b-52efb39c412d",
   "metadata": {},
   "outputs": [
    {
     "name": "stdout",
     "output_type": "stream",
     "text": [
      "a) 0.35\n"
     ]
    }
   ],
   "source": [
    "a = 0.25 + 0.1\n",
    "print(\"a) \" + str(a))"
   ]
  },
  {
   "cell_type": "code",
   "execution_count": 2,
   "id": "ee4561fb-4dc8-4f34-ae41-7d0fcfcdee07",
   "metadata": {},
   "outputs": [
    {
     "name": "stdout",
     "output_type": "stream",
     "text": [
      "E(2x + 3) = 4.2\n"
     ]
    }
   ],
   "source": [
    "E2xp3 = (((-1 * 2) + 3) * 0.25) + (((0 * 2) + 3) * 0.10) + (((1 * 2) + 3) * 0.45) + (((2 * 2) + 3) * 0.20)\n",
    "print(\"E(2x + 3) = \" + str(E2xp3))"
   ]
  }
 ],
 "metadata": {
  "kernelspec": {
   "display_name": "Python 3 (ipykernel)",
   "language": "python",
   "name": "python3"
  },
  "language_info": {
   "codemirror_mode": {
    "name": "ipython",
    "version": 3
   },
   "file_extension": ".py",
   "mimetype": "text/x-python",
   "name": "python",
   "nbconvert_exporter": "python",
   "pygments_lexer": "ipython3",
   "version": "3.12.1"
  }
 },
 "nbformat": 4,
 "nbformat_minor": 5
}

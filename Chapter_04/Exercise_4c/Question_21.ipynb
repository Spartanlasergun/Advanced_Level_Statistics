{
 "cells": [
  {
   "cell_type": "markdown",
   "id": "93656c51-f355-4815-83d1-c54ab575dcc6",
   "metadata": {},
   "source": [
    "# Question 21\n",
    "-----"
   ]
  },
  {
   "cell_type": "markdown",
   "id": "34a652d0-ed8c-47b7-b553-a14174159737",
   "metadata": {},
   "source": [
    "| x | 12 | 10 | 7 | 5 |\n",
    "| --- | --- | --- | --- | -- |\n",
    "| P(X = x) | $\\frac{1}{36}$ | $\\frac{1}{12}$ | $\\frac{1}{6}$ | $\\frac{1}{9}$ |"
   ]
  },
  {
   "cell_type": "code",
   "execution_count": 1,
   "id": "518ebdb1-4dce-4cd8-9e2a-bb399efc0f9c",
   "metadata": {},
   "outputs": [
    {
     "name": "stdout",
     "output_type": "stream",
     "text": [
      "E(X) = 2.0\n"
     ]
    }
   ],
   "source": [
    "EX = (16 * (1/36)) + (6 * (1/12)) + (3 * (1/6)) + (5 * (1/9))\n",
    "print(\"E(X) = \" + str(EX))"
   ]
  },
  {
   "cell_type": "code",
   "execution_count": 2,
   "id": "b00639e0-ed62-48b8-ac60-4b8f819696a6",
   "metadata": {},
   "outputs": [
    {
     "name": "stdout",
     "output_type": "stream",
     "text": [
      "P(3 draws) = 0.2\n"
     ]
    }
   ],
   "source": [
    "draws3 = ((2/5) * (3/4) * (1/3)) + ((3/5) * (2/4) * (1/3))\n",
    "print(\"P(3 draws) = \" + str(draws3))"
   ]
  },
  {
   "cell_type": "markdown",
   "id": "182a77c9-2ee2-4551-acff-b188c51445de",
   "metadata": {},
   "source": [
    "| x | 2 | 3 | 4 | 5 |\n",
    "| --- | --- | --- | --- | --- |\n",
    "| P(X = x) | 0.1 | 0.2 | 0.3 | 0.4 |\n"
   ]
  },
  {
   "cell_type": "code",
   "execution_count": 3,
   "id": "702813fb-3558-4c9b-a6c9-7885b090974a",
   "metadata": {},
   "outputs": [
    {
     "name": "stdout",
     "output_type": "stream",
     "text": [
      "E(X) = 4.0\n"
     ]
    }
   ],
   "source": [
    "EX = (0.1 * 2) + (0.2 * 3) + (0.3 * 4) + (0.4 * 5)\n",
    "print(\"E(X) = \" + str(EX))"
   ]
  },
  {
   "cell_type": "code",
   "execution_count": 4,
   "id": "c4b8ffb9-2819-4ad8-a0e4-23a4f52265c3",
   "metadata": {},
   "outputs": [
    {
     "name": "stdout",
     "output_type": "stream",
     "text": [
      "E(X sqr) = 17.0\n"
     ]
    }
   ],
   "source": [
    "def sq(x):\n",
    "    func = pow(x, 2)\n",
    "    return func\n",
    "\n",
    "EX_2 = (0.1 * sq(2)) + (0.2 * sq(3)) + (0.3 * sq(4)) + (0.4 * sq(5))\n",
    "print(\"E(X sqr) = \" + str(EX_2))"
   ]
  },
  {
   "cell_type": "code",
   "execution_count": 5,
   "id": "2fd07eca-a9c9-4828-adff-cb68283af62a",
   "metadata": {},
   "outputs": [
    {
     "name": "stdout",
     "output_type": "stream",
     "text": [
      "Var(X) = 1.0\n"
     ]
    }
   ],
   "source": [
    "Var = EX_2 - pow(EX, 2)\n",
    "print(\"Var(X) = \" + str(Var))"
   ]
  }
 ],
 "metadata": {
  "kernelspec": {
   "display_name": "Python 3 (ipykernel)",
   "language": "python",
   "name": "python3"
  },
  "language_info": {
   "codemirror_mode": {
    "name": "ipython",
    "version": 3
   },
   "file_extension": ".py",
   "mimetype": "text/x-python",
   "name": "python",
   "nbconvert_exporter": "python",
   "pygments_lexer": "ipython3",
   "version": "3.12.1"
  }
 },
 "nbformat": 4,
 "nbformat_minor": 5
}

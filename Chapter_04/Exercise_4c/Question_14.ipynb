{
 "cells": [
  {
   "cell_type": "markdown",
   "id": "bda9d546-c9ec-4ede-8fa2-4a7c90254078",
   "metadata": {},
   "source": [
    "# Question 14\n",
    "-----"
   ]
  },
  {
   "cell_type": "markdown",
   "id": "da1ec25e-2280-4f72-acfb-5662e0da2069",
   "metadata": {},
   "source": [
    "| x | 2 | 3 | 4 | 5 | 6 | 7 | 8 |\n",
    "| --- | --- | --- | --- | --- | --- | --- | --- |\n",
    "| P(X = x) | $\\frac{1}{16}$ | $\\frac{1}{8}$ | $\\frac{3}{16}$ | $\\frac{1}{4}$ | $\\frac{3}{16}$ | $\\frac{1}{8}$ | $\\frac{1}{16}$ | "
   ]
  },
  {
   "cell_type": "code",
   "execution_count": 1,
   "id": "ff9eda9a-a47e-480e-9a12-86d2cf0c6647",
   "metadata": {},
   "outputs": [
    {
     "name": "stdout",
     "output_type": "stream",
     "text": [
      "E(X) = 5.0\n"
     ]
    }
   ],
   "source": [
    "EX = (2 * (1/16)) + (3 * (1/8)) + (4 * (3/16)) + (5 * (1/4)) + (6 * (3/16)) + (7 * (1/8)) + (8 * (1/16))\n",
    "print(\"E(X) = \" + str(EX))"
   ]
  },
  {
   "cell_type": "code",
   "execution_count": 2,
   "id": "55cee2e8-342a-4d97-b975-6a1194650d5e",
   "metadata": {},
   "outputs": [
    {
     "name": "stdout",
     "output_type": "stream",
     "text": [
      "Var(X) = 2.5\n"
     ]
    }
   ],
   "source": [
    "def sq(x):\n",
    "    square = pow(x, 2)\n",
    "    return square\n",
    "\n",
    "EX_2 = (sq(2) * (1/16)) + (sq(3) * (1/8)) + (sq(4) * (3/16)) + (sq(5) * (1/4)) + (sq(6) * (3/16)) + (sq(7) * (1/8)) + (sq(8) * (1/16))\n",
    "Var = EX_2 - pow(EX, 2)\n",
    "print(\"Var(X) = \" + str(Var))"
   ]
  },
  {
   "cell_type": "code",
   "execution_count": 3,
   "id": "a0c91845-4a32-4d14-b4cc-5875d7ae2eae",
   "metadata": {},
   "outputs": [
    {
     "name": "stdout",
     "output_type": "stream",
     "text": [
      "Var(2X) = 10.0\n"
     ]
    }
   ],
   "source": [
    "Var2x = pow(2, 2) * Var\n",
    "print(\"Var(2X) = \" + str(Var2x))"
   ]
  },
  {
   "cell_type": "code",
   "execution_count": 4,
   "id": "b6f2ed51-97fc-43e7-850b-84199d648cc9",
   "metadata": {},
   "outputs": [
    {
     "name": "stdout",
     "output_type": "stream",
     "text": [
      "Var(2x + 3) = 10.0\n"
     ]
    }
   ],
   "source": [
    "Var2xp3 = Var2x\n",
    "print(\"Var(2x + 3) = \" + str(Var2xp3))"
   ]
  }
 ],
 "metadata": {
  "kernelspec": {
   "display_name": "Python 3 (ipykernel)",
   "language": "python",
   "name": "python3"
  },
  "language_info": {
   "codemirror_mode": {
    "name": "ipython",
    "version": 3
   },
   "file_extension": ".py",
   "mimetype": "text/x-python",
   "name": "python",
   "nbconvert_exporter": "python",
   "pygments_lexer": "ipython3",
   "version": "3.12.1"
  }
 },
 "nbformat": 4,
 "nbformat_minor": 5
}

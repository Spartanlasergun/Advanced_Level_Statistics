{
 "cells": [
  {
   "cell_type": "markdown",
   "id": "9967dfb8-96f8-49c4-afb1-7ea2d3bac1be",
   "metadata": {},
   "source": [
    "# Question 16\n",
    "-----"
   ]
  },
  {
   "cell_type": "markdown",
   "id": "9613b353-635c-4718-8eaa-228388f896ee",
   "metadata": {},
   "source": [
    "| x | 0 | 1 | 2 |\n",
    "| --- | --- | --- | --- |\n",
    "| P(X = x) | 0.286 | 0.571 | 0.143 |"
   ]
  },
  {
   "cell_type": "code",
   "execution_count": 1,
   "id": "8b8c73d0-19c2-4d7c-94ec-078a2a0a7df4",
   "metadata": {},
   "outputs": [
    {
     "name": "stdout",
     "output_type": "stream",
     "text": [
      "E(X) = 0.857\n"
     ]
    }
   ],
   "source": [
    "EX = (1 * 0.571) + (2 * 0.143)\n",
    "print(\"E(X) = \" + str(EX))"
   ]
  },
  {
   "cell_type": "code",
   "execution_count": 2,
   "id": "bf3267b7-af19-4c1a-a13f-bd55a0cd63ad",
   "metadata": {},
   "outputs": [
    {
     "name": "stdout",
     "output_type": "stream",
     "text": [
      "std = 0.6391799433649337\n"
     ]
    }
   ],
   "source": [
    "import math\n",
    "EX_2 = (1 * 0.571) + (4 * 0.143)\n",
    "Var = EX_2 - pow(EX, 2)\n",
    "std = math.sqrt(Var)\n",
    "print(\"std = \" + str(std))"
   ]
  }
 ],
 "metadata": {
  "kernelspec": {
   "display_name": "Python 3 (ipykernel)",
   "language": "python",
   "name": "python3"
  },
  "language_info": {
   "codemirror_mode": {
    "name": "ipython",
    "version": 3
   },
   "file_extension": ".py",
   "mimetype": "text/x-python",
   "name": "python",
   "nbconvert_exporter": "python",
   "pygments_lexer": "ipython3",
   "version": "3.12.1"
  }
 },
 "nbformat": 4,
 "nbformat_minor": 5
}

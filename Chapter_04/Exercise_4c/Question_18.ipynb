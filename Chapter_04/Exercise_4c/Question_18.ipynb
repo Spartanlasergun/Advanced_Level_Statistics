{
 "cells": [
  {
   "cell_type": "markdown",
   "id": "2695cc35-1fd7-4c1e-8c81-0faa2dfb64bf",
   "metadata": {},
   "source": [
    "# Question 18\n",
    "-----"
   ]
  },
  {
   "cell_type": "markdown",
   "id": "5b93c7ba-2acc-4fd6-92be-6253edf1ec01",
   "metadata": {},
   "source": [
    "$$3k + 2k + k + k + 2k + 3k = 1$$\n",
    "\n",
    "$$12k = 1$$\n",
    "\n",
    "$$k = \\frac{1}{12}$$"
   ]
  },
  {
   "cell_type": "code",
   "execution_count": 1,
   "id": "9148e81d-79c8-4e38-9d0c-8ace91064508",
   "metadata": {},
   "outputs": [
    {
     "name": "stdout",
     "output_type": "stream",
     "text": [
      "E(X) = 0.0\n"
     ]
    }
   ],
   "source": [
    "def ex(x):\n",
    "    func = x * (1/12) * abs(x)\n",
    "    return func\n",
    "\n",
    "EX = ex(-3) + ex(-2) + ex(-1) + ex(0) + ex(1) + ex(2) + ex(3)\n",
    "print(\"E(X) = \" + str(EX))"
   ]
  },
  {
   "cell_type": "code",
   "execution_count": 2,
   "id": "c898c659-c84b-4366-b23d-3df6e7f837c8",
   "metadata": {},
   "outputs": [
    {
     "name": "stdout",
     "output_type": "stream",
     "text": [
      "E(X sqr) = 6.0\n"
     ]
    }
   ],
   "source": [
    "def ex2(x):\n",
    "    func = pow(x, 2) * (1/12) * abs(x)\n",
    "    return func\n",
    "\n",
    "EX_2 = ex2(-3) + ex2(-2) + ex2(-1) + ex2(0) + ex2(1) + ex2(2) + ex2(3)\n",
    "print(\"E(X sqr) = \" + str(EX_2))"
   ]
  },
  {
   "cell_type": "code",
   "execution_count": 3,
   "id": "b8a8c4ef-d374-467b-a23b-1d50294cf445",
   "metadata": {},
   "outputs": [
    {
     "name": "stdout",
     "output_type": "stream",
     "text": [
      "std = 2.449489742783178\n"
     ]
    }
   ],
   "source": [
    "import math\n",
    "\n",
    "Var = EX_2 - pow(EX, 2)\n",
    "std = math.sqrt(Var)\n",
    "print(\"std = \" + str(std))"
   ]
  }
 ],
 "metadata": {
  "kernelspec": {
   "display_name": "Python 3 (ipykernel)",
   "language": "python",
   "name": "python3"
  },
  "language_info": {
   "codemirror_mode": {
    "name": "ipython",
    "version": 3
   },
   "file_extension": ".py",
   "mimetype": "text/x-python",
   "name": "python",
   "nbconvert_exporter": "python",
   "pygments_lexer": "ipython3",
   "version": "3.12.1"
  }
 },
 "nbformat": 4,
 "nbformat_minor": 5
}

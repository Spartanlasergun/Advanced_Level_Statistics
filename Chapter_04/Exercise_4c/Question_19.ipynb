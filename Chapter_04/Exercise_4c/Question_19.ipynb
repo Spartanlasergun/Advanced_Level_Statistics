{
 "cells": [
  {
   "cell_type": "markdown",
   "id": "049746f0-f1df-4294-836c-5b57410f883d",
   "metadata": {},
   "source": [
    "# Question 19\n",
    "-----"
   ]
  },
  {
   "cell_type": "markdown",
   "id": "08b5ca6e-cdd1-41b4-aa42-87be2deb163f",
   "metadata": {},
   "source": [
    "$$k + 2k + 3k + 4k + 5k + 4k + 3k + 2k + k = 1 $$\n",
    "\n",
    "$$25k = 1$$\n",
    "\n",
    "$$k = \\frac{1}{25}$$"
   ]
  },
  {
   "cell_type": "code",
   "execution_count": 1,
   "id": "f86a975a-a946-4159-b6f6-9a72526d658c",
   "metadata": {},
   "outputs": [
    {
     "name": "stdout",
     "output_type": "stream",
     "text": [
      "E(X) = 5.0\n"
     ]
    }
   ],
   "source": [
    "k = 1/25\n",
    "EX = (1 * k) + (2 * 2 * k) + (3 * 3 * k) + (4 * 4 * k) + (5 * 5 * k) + (6 * 4 * k) + (7 * 3 * k) + (8 * 2 * k) + (9 * 1 * k)\n",
    "print(\"E(X) = \" + str(EX))"
   ]
  },
  {
   "cell_type": "code",
   "execution_count": 2,
   "id": "6c9ed973-e8b2-4a35-9f11-ae3fa68b8b40",
   "metadata": {},
   "outputs": [
    {
     "name": "stdout",
     "output_type": "stream",
     "text": [
      "Var(X) = 4.0\n"
     ]
    }
   ],
   "source": [
    "EX_2 = (1 * k) + (4 * 2 * k) + (9 * 3 * k) + (16 * 4 * k) + (25 * 5 * k) + (36 * 4 * k) + (49 * 3 * k) + (64 * 2 * k) + (81 * 1 * k)\n",
    "Var = EX_2 - pow(EX, 2)\n",
    "print(\"Var(X) = \" + str(Var))"
   ]
  },
  {
   "cell_type": "code",
   "execution_count": 3,
   "id": "680a5bb2-83af-434f-838b-291f7cf3c540",
   "metadata": {},
   "outputs": [
    {
     "name": "stdout",
     "output_type": "stream",
     "text": [
      "E(2x - 3) = 7.0\n"
     ]
    }
   ],
   "source": [
    "def fx(x):\n",
    "    func = (2 * x) - 3\n",
    "    return func\n",
    "\n",
    "E2xm3 = (fx(1) * k) + (fx(2) * 2 * k) + (fx(3) * 3 * k) + (fx(4) * 4 * k) + (fx(5) * 5 * k) + (fx(6) * 4 * k) + (fx(7) * 3 * k) + (fx(8) * 2 * k) + (fx(9) * 1 * k)\n",
    "print(\"E(2x - 3) = \" + str(E2xm3))"
   ]
  },
  {
   "cell_type": "code",
   "execution_count": 4,
   "id": "d0d9c1e3-c9ee-4231-8075-ddb62295cf9f",
   "metadata": {},
   "outputs": [
    {
     "name": "stdout",
     "output_type": "stream",
     "text": [
      "Var(2x - 3) = 16.0\n"
     ]
    }
   ],
   "source": [
    "Var2xm3 = pow(2, 2) * Var\n",
    "print(\"Var(2x - 3) = \" + str(Var2xm3))"
   ]
  }
 ],
 "metadata": {
  "kernelspec": {
   "display_name": "Python 3 (ipykernel)",
   "language": "python",
   "name": "python3"
  },
  "language_info": {
   "codemirror_mode": {
    "name": "ipython",
    "version": 3
   },
   "file_extension": ".py",
   "mimetype": "text/x-python",
   "name": "python",
   "nbconvert_exporter": "python",
   "pygments_lexer": "ipython3",
   "version": "3.12.1"
  }
 },
 "nbformat": 4,
 "nbformat_minor": 5
}

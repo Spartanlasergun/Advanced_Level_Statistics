{
 "cells": [
  {
   "cell_type": "markdown",
   "id": "9c53a45a-af96-43ad-bab5-bec8b7dccd22",
   "metadata": {},
   "source": [
    "# Question 10\n",
    "-----"
   ]
  },
  {
   "cell_type": "code",
   "execution_count": 1,
   "id": "79f93b4d-6ed1-4773-a96e-e4a1f32a1ca3",
   "metadata": {},
   "outputs": [
    {
     "name": "stdout",
     "output_type": "stream",
     "text": [
      "a) Var = 4.2\n"
     ]
    }
   ],
   "source": [
    "EX = (-3 * 0.3) + (-2 * 0.3) + (2 * 0.1) + (3 * 0.1)\n",
    "\n",
    "def sq(x):\n",
    "    square = pow(x, 2)\n",
    "    return square\n",
    "\n",
    "EX_2 = (sq(-3) * 0.3) + (sq(-2) * 0.3) + (sq(2) * 0.1) + (sq(3) * 0.1)\n",
    "\n",
    "Var = EX_2 - pow(EX, 2)\n",
    "print(\"a) Var = \" + str(Var))"
   ]
  },
  {
   "cell_type": "code",
   "execution_count": 2,
   "id": "7316601a-6126-42aa-a893-27c981696d58",
   "metadata": {},
   "outputs": [
    {
     "name": "stdout",
     "output_type": "stream",
     "text": [
      "b) Var = 7.333333333333329\n"
     ]
    }
   ],
   "source": [
    "EX = (1 * (1/6)) + (3 * (1/4)) + (5 * (1/6)) + (7 * (1/4)) + (9 * (1/6))\n",
    "\n",
    "EX_2 = (sq(1) * (1/6)) + (sq(3) * (1/4)) + (sq(5) * (1/6)) + (sq(7) * (1/4)) + (sq(9) * (1/6))\n",
    "\n",
    "Var = EX_2 - pow(EX, 2)\n",
    "print(\"b) Var = \" + str(Var))"
   ]
  },
  {
   "cell_type": "code",
   "execution_count": 3,
   "id": "cebd5a33-30cd-4750-8c57-9d2ecc0e2442",
   "metadata": {},
   "outputs": [
    {
     "name": "stdout",
     "output_type": "stream",
     "text": [
      "c) Var = 3.669600000000001\n"
     ]
    }
   ],
   "source": [
    "EX = (2 * 0.35) + (5 * 0.46) + (6 * 0.08)\n",
    "\n",
    "EX_2 = (sq(2) * 0.35) + (sq(5) * 0.46) + (sq(6) * 0.08)\n",
    "\n",
    "Var = EX_2 - pow(EX, 2)\n",
    "print(\"c) Var = \" + str(Var))"
   ]
  }
 ],
 "metadata": {
  "kernelspec": {
   "display_name": "Python 3 (ipykernel)",
   "language": "python",
   "name": "python3"
  },
  "language_info": {
   "codemirror_mode": {
    "name": "ipython",
    "version": 3
   },
   "file_extension": ".py",
   "mimetype": "text/x-python",
   "name": "python",
   "nbconvert_exporter": "python",
   "pygments_lexer": "ipython3",
   "version": "3.12.1"
  }
 },
 "nbformat": 4,
 "nbformat_minor": 5
}

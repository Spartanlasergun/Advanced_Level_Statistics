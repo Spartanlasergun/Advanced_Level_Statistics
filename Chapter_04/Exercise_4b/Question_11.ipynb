{
 "cells": [
  {
   "cell_type": "markdown",
   "id": "941a65e6-6f62-46c6-bb32-44e79a0e147a",
   "metadata": {},
   "source": [
    "# Question 11\n",
    "-----"
   ]
  },
  {
   "cell_type": "markdown",
   "id": "f5ac9593-12c6-4023-aa2a-b92afbc7afa5",
   "metadata": {},
   "source": [
    "| x | 4 | 6 | 8 | 9 | 11 | 14 |\n",
    "| --- | --- | --- | --- | --- | --- | --- |\n",
    "| P(X = x) | 0.16 | 0.32 | 0.16 | 0.16 | 0.16 | 0.04 |"
   ]
  },
  {
   "cell_type": "code",
   "execution_count": 9,
   "id": "1092c3ba-c056-4b1d-acb4-a6efde9d1a09",
   "metadata": {},
   "outputs": [
    {
     "name": "stdout",
     "output_type": "stream",
     "text": [
      "expected loss in pence = 120.00000000000001\n"
     ]
    }
   ],
   "source": [
    "EX = (0.16 * 4) + (0.32 * 6) + (0.16 * 8) + (0.16 * 9) + (0.16 * 11) + (0.04 * 14)\n",
    "exg = (10 - EX) * 50\n",
    "print(\"expected loss in pence = \" + str(exg))"
   ]
  }
 ],
 "metadata": {
  "kernelspec": {
   "display_name": "Python 3 (ipykernel)",
   "language": "python",
   "name": "python3"
  },
  "language_info": {
   "codemirror_mode": {
    "name": "ipython",
    "version": 3
   },
   "file_extension": ".py",
   "mimetype": "text/x-python",
   "name": "python",
   "nbconvert_exporter": "python",
   "pygments_lexer": "ipython3",
   "version": "3.12.1"
  }
 },
 "nbformat": 4,
 "nbformat_minor": 5
}

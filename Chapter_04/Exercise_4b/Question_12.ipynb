{
 "cells": [
  {
   "cell_type": "markdown",
   "id": "cdc1e4a0-db7e-4eab-8f90-2a08f727a5f6",
   "metadata": {},
   "source": [
    "# Question 12\n",
    "-----"
   ]
  },
  {
   "cell_type": "markdown",
   "id": "7fc607a4-f553-43c3-bcc7-b3cc75da068e",
   "metadata": {},
   "source": [
    "| x | 10 | x | 3 | 2 |\n",
    "| --- | --- | --- | --- | --- |\n",
    "| P(X = x) | 0.125 | 0.375 | 0.375 | 0.125 |\n",
    "\n",
    "$$E(X) = (10 * 0.125) + (0.375x) + (0.375 * 3) + (0.125 * 2)$$\n",
    "\n",
    "$$E(X) = 2.625 + 0.375x$$\n",
    "\n",
    "for a fair game, E(X) = 4.5, hence\n",
    "\n",
    "$$2.625 + 0.375x = 4.5$$\n",
    "\n",
    "$$x = 5$$\n",
    "\n",
    "if x = 4.90\n",
    "\n",
    "$$E(X) = (10 * 0.125) + (0.375 * 4.90) + (0.375 * 3) + (0.125 * 2)$$\n",
    "\n",
    "$$E(X) = 4.4625$$\n",
    "\n",
    "$$loss \\ \\ per \\ \\ game = 4.5 - 4.4625 = 0.0375$$\n",
    "\n",
    "loss over a hundred games:\n",
    "\n",
    "$$0.0375 * 100 = 3.75$$\n",
    "\n"
   ]
  }
 ],
 "metadata": {
  "kernelspec": {
   "display_name": "Python 3 (ipykernel)",
   "language": "python",
   "name": "python3"
  },
  "language_info": {
   "codemirror_mode": {
    "name": "ipython",
    "version": 3
   },
   "file_extension": ".py",
   "mimetype": "text/x-python",
   "name": "python",
   "nbconvert_exporter": "python",
   "pygments_lexer": "ipython3",
   "version": "3.12.1"
  }
 },
 "nbformat": 4,
 "nbformat_minor": 5
}

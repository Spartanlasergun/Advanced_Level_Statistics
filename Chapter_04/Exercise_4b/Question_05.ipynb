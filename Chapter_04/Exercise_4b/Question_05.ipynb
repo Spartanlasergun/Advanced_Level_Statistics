{
 "cells": [
  {
   "cell_type": "markdown",
   "id": "7454bb4f-3b78-48e9-aaa4-96731a840e21",
   "metadata": {},
   "source": [
    "# Question 5\n",
    "-----"
   ]
  },
  {
   "cell_type": "markdown",
   "id": "3b108461-5190-4931-8d9b-019cbbfa38ab",
   "metadata": {},
   "source": [
    "| x | 0 | 1 | 2 |\n",
    "| --- | --- | --- | --- |\n",
    "| P(X = x) | 0.18 | 0.55 | 0.27 |"
   ]
  },
  {
   "cell_type": "code",
   "execution_count": 8,
   "id": "1c7bce45-f44d-481b-9f70-c4ee281212bc",
   "metadata": {},
   "outputs": [
    {
     "name": "stdout",
     "output_type": "stream",
     "text": [
      "E(X) = 1.09\n"
     ]
    }
   ],
   "source": [
    "EX = (0 * 0.18) + (1 * 0.55) + (2 * 0.27)\n",
    "print(\"E(X) = \" + str(EX))"
   ]
  }
 ],
 "metadata": {
  "kernelspec": {
   "display_name": "Python 3 (ipykernel)",
   "language": "python",
   "name": "python3"
  },
  "language_info": {
   "codemirror_mode": {
    "name": "ipython",
    "version": 3
   },
   "file_extension": ".py",
   "mimetype": "text/x-python",
   "name": "python",
   "nbconvert_exporter": "python",
   "pygments_lexer": "ipython3",
   "version": "3.12.1"
  }
 },
 "nbformat": 4,
 "nbformat_minor": 5
}

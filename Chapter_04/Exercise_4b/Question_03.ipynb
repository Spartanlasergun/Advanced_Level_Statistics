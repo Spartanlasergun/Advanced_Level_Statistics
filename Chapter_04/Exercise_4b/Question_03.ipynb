{
 "cells": [
  {
   "cell_type": "markdown",
   "id": "ac1d82ce-2604-41bd-8833-020ccc8c0a52",
   "metadata": {},
   "source": [
    "# Question 3\n",
    "-----"
   ]
  },
  {
   "cell_type": "code",
   "execution_count": 1,
   "id": "354caa28-15eb-4d9a-a6d0-532be0f3339f",
   "metadata": {},
   "outputs": [
    {
     "name": "stdout",
     "output_type": "stream",
     "text": [
      "y = 0.29999999999999993\n"
     ]
    }
   ],
   "source": [
    "y = 1 - (0.1 + 0.3 + 0.2 + 0.1)\n",
    "print(\"y = \" + str(y))"
   ]
  },
  {
   "cell_type": "code",
   "execution_count": 2,
   "id": "acbafc9a-f382-4b6e-8a15-4fabcab3c96d",
   "metadata": {},
   "outputs": [
    {
     "name": "stdout",
     "output_type": "stream",
     "text": [
      "E(X) = 2.8999999999999995\n"
     ]
    }
   ],
   "source": [
    "EX = (1 * 0.1) + (2 * 0.3) + (3 * y) + (4 * 0.2) + (5 * 0.1)\n",
    "print(\"E(X) = \" + str(EX))"
   ]
  }
 ],
 "metadata": {
  "kernelspec": {
   "display_name": "Python 3 (ipykernel)",
   "language": "python",
   "name": "python3"
  },
  "language_info": {
   "codemirror_mode": {
    "name": "ipython",
    "version": 3
   },
   "file_extension": ".py",
   "mimetype": "text/x-python",
   "name": "python",
   "nbconvert_exporter": "python",
   "pygments_lexer": "ipython3",
   "version": "3.12.1"
  }
 },
 "nbformat": 4,
 "nbformat_minor": 5
}

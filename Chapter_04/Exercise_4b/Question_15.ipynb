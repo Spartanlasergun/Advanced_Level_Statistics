{
 "cells": [
  {
   "cell_type": "markdown",
   "id": "6ce9e8ff-3b64-46c8-82dc-112d5088f212",
   "metadata": {},
   "source": [
    "# Question 15\n",
    "-----"
   ]
  },
  {
   "cell_type": "markdown",
   "id": "656ff935-0e25-4625-96b4-a6bf65a25eab",
   "metadata": {},
   "source": [
    "| x | 1 | 2 | 3 |\n",
    "| --- | --- | --- | --- |\n",
    "| P(X = x) | 1/3 | 1/6 | 1/6 |"
   ]
  },
  {
   "cell_type": "code",
   "execution_count": 3,
   "id": "0d5d7af0-f960-4491-a6c1-07509641797f",
   "metadata": {},
   "outputs": [
    {
     "name": "stdout",
     "output_type": "stream",
     "text": [
      "1.1666666666666665\n"
     ]
    }
   ],
   "source": [
    "EX = (1/3) + (2/6) + (3/6)\n",
    "print(EX)"
   ]
  }
 ],
 "metadata": {
  "kernelspec": {
   "display_name": "Python 3 (ipykernel)",
   "language": "python",
   "name": "python3"
  },
  "language_info": {
   "codemirror_mode": {
    "name": "ipython",
    "version": 3
   },
   "file_extension": ".py",
   "mimetype": "text/x-python",
   "name": "python",
   "nbconvert_exporter": "python",
   "pygments_lexer": "ipython3",
   "version": "3.12.1"
  }
 },
 "nbformat": 4,
 "nbformat_minor": 5
}

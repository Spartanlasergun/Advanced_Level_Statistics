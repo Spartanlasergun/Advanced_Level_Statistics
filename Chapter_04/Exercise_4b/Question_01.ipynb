{
 "cells": [
  {
   "cell_type": "markdown",
   "id": "c296b2d7-a91c-416b-8465-6b1521adadea",
   "metadata": {},
   "source": [
    "# Question 1\n",
    "------"
   ]
  },
  {
   "cell_type": "code",
   "execution_count": 1,
   "id": "ac0ffa35-b070-4a34-ab79-8fa390886dc1",
   "metadata": {},
   "outputs": [
    {
     "name": "stdout",
     "output_type": "stream",
     "text": [
      "E(X) = 2.25\n"
     ]
    }
   ],
   "source": [
    "EX = (0 * (1/6)) + (1 * (1/12)) + (2 * (1/4)) + (3 * (1/3)) + (4 * (1/6))\n",
    "print(\"E(X) = \" + str(EX))"
   ]
  }
 ],
 "metadata": {
  "kernelspec": {
   "display_name": "Python 3 (ipykernel)",
   "language": "python",
   "name": "python3"
  },
  "language_info": {
   "codemirror_mode": {
    "name": "ipython",
    "version": 3
   },
   "file_extension": ".py",
   "mimetype": "text/x-python",
   "name": "python",
   "nbconvert_exporter": "python",
   "pygments_lexer": "ipython3",
   "version": "3.12.1"
  }
 },
 "nbformat": 4,
 "nbformat_minor": 5
}

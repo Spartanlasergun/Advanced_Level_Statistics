{
 "cells": [
  {
   "cell_type": "markdown",
   "id": "1a394e2f-a040-4e98-a60d-9fc75ee4cf98",
   "metadata": {},
   "source": [
    "# Question 8\n",
    "-----"
   ]
  },
  {
   "cell_type": "markdown",
   "id": "f04b87f1-66d0-4572-90e3-4deb4374fa64",
   "metadata": {},
   "source": [
    "| x | 0 | 1 | 2 | 3 |\n",
    "| --- | --- | --- | --- | --- |\n",
    "| P(X = x) | a | b | c | d |\n",
    "\n",
    "$$a + b + c = 0.9$$\n",
    "\n",
    "$$a + b = 0.5$$\n",
    "\n",
    "$$a + b + c + d = 1$$\n",
    "\n",
    "Hence,\n",
    "\n",
    "$$b = 0.5 - a$$\n",
    "\n",
    "$$c = 0.4$$\n",
    "\n",
    "$$d = 0.1$$\n",
    "\n",
    "given E(X) = 1.4,\n",
    "\n",
    "$$0a + b + 2c + 3d = 1.4$$\n",
    "\n",
    "$$b + 2c + 3d = 1.4$$\n",
    "\n",
    "thus,\n",
    "\n",
    "$$0.5 - a + (2 * 0.4) + (3 * 0.1) = 1.4$$\n",
    "\n",
    "$$1.6 - a = 1.4$$\n",
    "\n",
    "$$a = 0.2$$\n",
    "\n",
    "$$b = 0.5 - 0.2 = 0.3$$\n",
    "\n",
    "| x | 0 | 1 | 2 | 3 |\n",
    "| --- | --- | --- | --- | --- |\n",
    "| P(X = x) | 0.2 | 0.3 | 0.4 | 0.1 |\n",
    "\n",
    "$$P(X = 1) = 0.3$$\n",
    "\n",
    "$$P(X = 0) = 0.2$$"
   ]
  }
 ],
 "metadata": {
  "kernelspec": {
   "display_name": "Python 3 (ipykernel)",
   "language": "python",
   "name": "python3"
  },
  "language_info": {
   "codemirror_mode": {
    "name": "ipython",
    "version": 3
   },
   "file_extension": ".py",
   "mimetype": "text/x-python",
   "name": "python",
   "nbconvert_exporter": "python",
   "pygments_lexer": "ipython3",
   "version": "3.12.1"
  }
 },
 "nbformat": 4,
 "nbformat_minor": 5
}

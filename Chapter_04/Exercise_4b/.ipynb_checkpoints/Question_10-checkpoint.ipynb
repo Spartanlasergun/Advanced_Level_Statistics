{
 "cells": [
  {
   "cell_type": "markdown",
   "id": "da9136d8-cc7f-40cf-8f16-a33cbb8b3542",
   "metadata": {},
   "source": [
    "# Question 10\n",
    "-----"
   ]
  },
  {
   "cell_type": "markdown",
   "id": "71d5d525-9a0e-4351-9d28-7da13d9c3ec6",
   "metadata": {},
   "source": [
    "| x | 4 | 3 | 2 |\n",
    "| --- | --- | --- | --- |\n",
    "| P(X = x) | 0.125 | 0.5 | 0.375 |"
   ]
  },
  {
   "cell_type": "code",
   "execution_count": 5,
   "id": "22a60f6b-389c-442e-be40-c8d283930d1d",
   "metadata": {},
   "outputs": [
    {
     "name": "stdout",
     "output_type": "stream",
     "text": [
      "E(X) = 2.75\n"
     ]
    }
   ],
   "source": [
    "EX = (4 * 0.125) + (3 * 0.5) + (2 * 0.375)\n",
    "print(\"E(X) = \" + str(EX))"
   ]
  }
 ],
 "metadata": {
  "kernelspec": {
   "display_name": "Python 3 (ipykernel)",
   "language": "python",
   "name": "python3"
  },
  "language_info": {
   "codemirror_mode": {
    "name": "ipython",
    "version": 3
   },
   "file_extension": ".py",
   "mimetype": "text/x-python",
   "name": "python",
   "nbconvert_exporter": "python",
   "pygments_lexer": "ipython3",
   "version": "3.12.1"
  }
 },
 "nbformat": 4,
 "nbformat_minor": 5
}

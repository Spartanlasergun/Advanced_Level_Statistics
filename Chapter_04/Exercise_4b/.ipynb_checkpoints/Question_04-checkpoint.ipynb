{
 "cells": [
  {
   "cell_type": "markdown",
   "id": "0b0add04-7abd-4476-9fb3-ff37243903c8",
   "metadata": {},
   "source": [
    "# Question 4\n",
    "-----"
   ]
  },
  {
   "cell_type": "code",
   "execution_count": 2,
   "id": "4d0473bd-dbac-4534-b761-8d979e086d37",
   "metadata": {},
   "outputs": [
    {
     "name": "stdout",
     "output_type": "stream",
     "text": [
      "E(X) = 1.0\n"
     ]
    }
   ],
   "source": [
    "EX = 0 + (((0.5 * 0.5) * 2) * 1) + (((0.5 * 0.5) * 1) * 2)\n",
    "print(\"E(X) = \" + str(EX))"
   ]
  }
 ],
 "metadata": {
  "kernelspec": {
   "display_name": "Python 3 (ipykernel)",
   "language": "python",
   "name": "python3"
  },
  "language_info": {
   "codemirror_mode": {
    "name": "ipython",
    "version": 3
   },
   "file_extension": ".py",
   "mimetype": "text/x-python",
   "name": "python",
   "nbconvert_exporter": "python",
   "pygments_lexer": "ipython3",
   "version": "3.12.1"
  }
 },
 "nbformat": 4,
 "nbformat_minor": 5
}

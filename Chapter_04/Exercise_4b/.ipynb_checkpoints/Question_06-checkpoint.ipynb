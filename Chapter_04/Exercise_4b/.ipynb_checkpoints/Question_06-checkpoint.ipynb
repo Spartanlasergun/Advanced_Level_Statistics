{
 "cells": [
  {
   "cell_type": "markdown",
   "id": "1eaaa8f3-22a2-4a73-9893-912e360635a3",
   "metadata": {},
   "source": [
    "# Question 6\n",
    "-----"
   ]
  },
  {
   "cell_type": "markdown",
   "id": "6be922de-664d-4728-8b45-396ef2da955f",
   "metadata": {},
   "source": [
    "| x | -10p | 5p | 3p |\n",
    "| --- | --- | --- | --- |\n",
    "| P(X = x) | 0.25 | 0.5 | 0.25 |"
   ]
  },
  {
   "cell_type": "code",
   "execution_count": 1,
   "id": "ca728bcb-1131-4a53-8ff4-4c8fb3f8d40e",
   "metadata": {},
   "outputs": [
    {
     "name": "stdout",
     "output_type": "stream",
     "text": [
      "E(X) = 0.75\n"
     ]
    }
   ],
   "source": [
    "EX = (0.25 * -10) + (5 * 0.5 ) + (3 * 0.25)\n",
    "print(\"E(X) = \" + str(EX))"
   ]
  }
 ],
 "metadata": {
  "kernelspec": {
   "display_name": "Python 3 (ipykernel)",
   "language": "python",
   "name": "python3"
  },
  "language_info": {
   "codemirror_mode": {
    "name": "ipython",
    "version": 3
   },
   "file_extension": ".py",
   "mimetype": "text/x-python",
   "name": "python",
   "nbconvert_exporter": "python",
   "pygments_lexer": "ipython3",
   "version": "3.12.1"
  }
 },
 "nbformat": 4,
 "nbformat_minor": 5
}

{
 "cells": [
  {
   "cell_type": "markdown",
   "id": "36243137-0bd4-48d6-93dd-3cd232c17185",
   "metadata": {},
   "source": [
    "# Question 14\n",
    "-----"
   ]
  },
  {
   "cell_type": "markdown",
   "id": "b314f608-78c5-4849-a4d8-63b6061b9971",
   "metadata": {},
   "source": [
    "$$k + 2k + 3k + 4k + 5k = 1$$\n",
    "\n",
    "$$15k = 1$$\n",
    "\n",
    "$$k = \\frac{1}{15}$$\n",
    "\n",
    "$$E(X) = 1(\\frac{1}{15}) + 2(\\frac{1}{15}) + 3(\\frac{1}{15}) + 4(\\frac{1}{15}) + 5(\\frac{1}{15})$$\n",
    "\n",
    "$$E(X) = 1$$"
   ]
  }
 ],
 "metadata": {
  "kernelspec": {
   "display_name": "Python 3 (ipykernel)",
   "language": "python",
   "name": "python3"
  },
  "language_info": {
   "codemirror_mode": {
    "name": "ipython",
    "version": 3
   },
   "file_extension": ".py",
   "mimetype": "text/x-python",
   "name": "python",
   "nbconvert_exporter": "python",
   "pygments_lexer": "ipython3",
   "version": "3.12.1"
  }
 },
 "nbformat": 4,
 "nbformat_minor": 5
}

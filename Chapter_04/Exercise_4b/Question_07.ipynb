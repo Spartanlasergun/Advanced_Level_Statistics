{
 "cells": [
  {
   "cell_type": "markdown",
   "id": "eff163cb-10c7-4c9a-9995-464679593135",
   "metadata": {},
   "source": [
    "# Question 7\n",
    "-----"
   ]
  },
  {
   "cell_type": "markdown",
   "id": "0dcca597-31e9-4424-bfa3-8f1c223d103e",
   "metadata": {},
   "source": [
    "$$E(X) = 16$$\n",
    "\n",
    "hence,\n",
    "\n",
    "$$10a + 20b = 16$$\n",
    "\n",
    "p.d.f is given by:\n",
    "\n",
    "$$a + b = 1$$\n",
    "\n",
    "$$a = 1 - b$$\n",
    "\n",
    "hence,\n",
    "\n",
    "$$10(1 - b) + 20b = 16$$\n",
    "\n",
    "$$10 + 10b = 16$$\n",
    "\n",
    "$$10b = 6$$\n",
    "\n",
    "$$b = 0.6$$\n",
    "\n",
    "$$a = 1 - 0.6 = 0.4$$\n",
    "\n",
    "| x | 10 | 20 |\n",
    "| --- | --- | --- |\n",
    "| P(X = x) | 0.4 | 0.6 |"
   ]
  }
 ],
 "metadata": {
  "kernelspec": {
   "display_name": "Python 3 (ipykernel)",
   "language": "python",
   "name": "python3"
  },
  "language_info": {
   "codemirror_mode": {
    "name": "ipython",
    "version": 3
   },
   "file_extension": ".py",
   "mimetype": "text/x-python",
   "name": "python",
   "nbconvert_exporter": "python",
   "pygments_lexer": "ipython3",
   "version": "3.12.1"
  }
 },
 "nbformat": 4,
 "nbformat_minor": 5
}

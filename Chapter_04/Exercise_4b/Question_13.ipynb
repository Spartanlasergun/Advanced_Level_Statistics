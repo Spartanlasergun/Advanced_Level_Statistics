{
 "cells": [
  {
   "cell_type": "markdown",
   "id": "78515712-1736-496a-b275-3eb850c7f4aa",
   "metadata": {},
   "source": [
    "# Question 13\n",
    "-----"
   ]
  },
  {
   "cell_type": "code",
   "execution_count": 1,
   "id": "5c7fa414-db5e-45b6-8115-474db9929a81",
   "metadata": {},
   "outputs": [
    {
     "name": "stdout",
     "output_type": "stream",
     "text": [
      "ways to answer = 24\n"
     ]
    }
   ],
   "source": [
    "import math\n",
    "\n",
    "answers = math.factorial(4)\n",
    "print(\"ways to answer = \" + str(answers))"
   ]
  },
  {
   "cell_type": "markdown",
   "id": "aa82bb48-1be5-46e4-97f7-8a9e629caf6c",
   "metadata": {},
   "source": [
    "Rest of the question ommitted due to ambiguity"
   ]
  }
 ],
 "metadata": {
  "kernelspec": {
   "display_name": "Python 3 (ipykernel)",
   "language": "python",
   "name": "python3"
  },
  "language_info": {
   "codemirror_mode": {
    "name": "ipython",
    "version": 3
   },
   "file_extension": ".py",
   "mimetype": "text/x-python",
   "name": "python",
   "nbconvert_exporter": "python",
   "pygments_lexer": "ipython3",
   "version": "3.12.1"
  }
 },
 "nbformat": 4,
 "nbformat_minor": 5
}

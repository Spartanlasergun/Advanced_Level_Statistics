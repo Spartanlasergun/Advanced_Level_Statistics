{
 "cells": [
  {
   "cell_type": "markdown",
   "id": "d67dee7f-77eb-4bee-8462-ebd97d81cfd8",
   "metadata": {},
   "source": [
    "# Question 9\n",
    "-----"
   ]
  },
  {
   "cell_type": "markdown",
   "id": "018722fc-dbf3-4717-9c79-bc601a8f9103",
   "metadata": {},
   "source": [
    "$$c + c^2 + c^2 + c + 3c^2 + 2c = 1$$\n",
    "\n",
    "$$5c^2 + 4c - 1 = 0$$\n",
    "\n",
    "$$a = 5, \\ \\ b = 4, \\ \\ c = -1$$\n",
    "\n",
    "$$x = \\frac{-4 \\pm \\sqrt{4^2 - 4(5)(-1)}}{2(5)}$$\n",
    "\n",
    "$$...$$\n",
    "\n",
    "$$x = \\frac{-4 \\pm 6}{10}$$\n",
    "\n",
    "$$x = 0.2, \\ -1$$\n",
    "\n",
    "hence, c = 0.2"
   ]
  },
  {
   "cell_type": "code",
   "execution_count": 2,
   "id": "96cdc56e-888d-4372-a118-4d150b29bc7f",
   "metadata": {},
   "outputs": [
    {
     "name": "stdout",
     "output_type": "stream",
     "text": [
      "E(X) = 2.08\n"
     ]
    }
   ],
   "source": [
    "c2 = pow(0.2, 2)\n",
    "EX = (0 * 0.2) + (1 * c2) + (2 * (c2 + 0.2)) + (3 * ((3 * c2) + (2 * 0.2)))\n",
    "print(\"E(X) = \" + str(EX))"
   ]
  }
 ],
 "metadata": {
  "kernelspec": {
   "display_name": "Python 3 (ipykernel)",
   "language": "python",
   "name": "python3"
  },
  "language_info": {
   "codemirror_mode": {
    "name": "ipython",
    "version": 3
   },
   "file_extension": ".py",
   "mimetype": "text/x-python",
   "name": "python",
   "nbconvert_exporter": "python",
   "pygments_lexer": "ipython3",
   "version": "3.12.1"
  }
 },
 "nbformat": 4,
 "nbformat_minor": 5
}

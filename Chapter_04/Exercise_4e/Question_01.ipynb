{
 "cells": [
  {
   "cell_type": "markdown",
   "id": "5777deca-a7ef-4d59-b070-1665fd8812e1",
   "metadata": {},
   "source": [
    "# Question 1\n",
    "-----"
   ]
  },
  {
   "cell_type": "markdown",
   "id": "e5cc7d91-e5bf-489b-bf22-f3bff6e826d8",
   "metadata": {},
   "source": [
    "$$E(X) = 4$$\n",
    "\n",
    "$$E(Y) = 5$$\n",
    "\n",
    "$$Var(X) = 1$$\n",
    "\n",
    "$$Var(Y) = 2$$"
   ]
  },
  {
   "cell_type": "code",
   "execution_count": 1,
   "id": "3c191233-9e34-48da-89d6-cb799cec407d",
   "metadata": {},
   "outputs": [
    {
     "name": "stdout",
     "output_type": "stream",
     "text": [
      "a) 26\n"
     ]
    }
   ],
   "source": [
    "a = (4 * 4) + (2 * 5)\n",
    "print(\"a) \" + str(a))"
   ]
  },
  {
   "cell_type": "code",
   "execution_count": 2,
   "id": "92292b54-2b89-4295-8318-3eaada27c3ec",
   "metadata": {},
   "outputs": [
    {
     "name": "stdout",
     "output_type": "stream",
     "text": [
      "b) 15\n"
     ]
    }
   ],
   "source": [
    "b = (5 * 4) - (5)\n",
    "print(\"b) \" + str(b))"
   ]
  },
  {
   "cell_type": "code",
   "execution_count": 3,
   "id": "3cfe0d29-5ab1-4a9c-a767-0f5303d1c936",
   "metadata": {},
   "outputs": [
    {
     "name": "stdout",
     "output_type": "stream",
     "text": [
      "c) 17\n"
     ]
    }
   ],
   "source": [
    "c = (pow(3, 2) * 1) + (pow(2, 2) * 2)\n",
    "print(\"c) \" + str(c))"
   ]
  },
  {
   "cell_type": "code",
   "execution_count": 4,
   "id": "d0e6821e-aa2d-4e11-9126-f46c0fa4eb39",
   "metadata": {},
   "outputs": [
    {
     "name": "stdout",
     "output_type": "stream",
     "text": [
      "d) 59\n"
     ]
    }
   ],
   "source": [
    "d = (pow(5, 2) * 2) + (pow(3, 2) * 1)\n",
    "print(\"d) \" + str(d))"
   ]
  },
  {
   "cell_type": "code",
   "execution_count": 5,
   "id": "c7456be5-2695-4e59-847c-2a3937b91212",
   "metadata": {},
   "outputs": [
    {
     "name": "stdout",
     "output_type": "stream",
     "text": [
      "e) 59\n"
     ]
    }
   ],
   "source": [
    "e = (pow(3, 2) * 1) + (pow(5, 2) * 2)\n",
    "print(\"e) \" + str(e))"
   ]
  }
 ],
 "metadata": {
  "kernelspec": {
   "display_name": "Python 3 (ipykernel)",
   "language": "python",
   "name": "python3"
  },
  "language_info": {
   "codemirror_mode": {
    "name": "ipython",
    "version": 3
   },
   "file_extension": ".py",
   "mimetype": "text/x-python",
   "name": "python",
   "nbconvert_exporter": "python",
   "pygments_lexer": "ipython3",
   "version": "3.12.1"
  }
 },
 "nbformat": 4,
 "nbformat_minor": 5
}

{
 "cells": [
  {
   "cell_type": "markdown",
   "id": "9a78607e-e8f5-41f2-ac3f-40c0af70920b",
   "metadata": {},
   "source": [
    "# Question 3\n",
    "-----"
   ]
  },
  {
   "cell_type": "code",
   "execution_count": 1,
   "id": "16680efd-5ebd-44c8-911f-8f524d3fe539",
   "metadata": {},
   "outputs": [
    {
     "name": "stdout",
     "output_type": "stream",
     "text": [
      "a) 1\n"
     ]
    }
   ],
   "source": [
    "a = (3 * 3) - (2 * 4)\n",
    "print(\"a) \" + str(a))"
   ]
  },
  {
   "cell_type": "code",
   "execution_count": 2,
   "id": "fd067fa3-fdd8-4377-814d-e4897fb8af61",
   "metadata": {},
   "outputs": [
    {
     "name": "stdout",
     "output_type": "stream",
     "text": [
      "b) -1\n"
     ]
    }
   ],
   "source": [
    "b = (2 * 4) - (3 * 3)\n",
    "print(\"b) \" + str(b))"
   ]
  },
  {
   "cell_type": "code",
   "execution_count": 3,
   "id": "ff71c955-4e04-48e9-bed3-f855bdedf0d1",
   "metadata": {},
   "outputs": [
    {
     "name": "stdout",
     "output_type": "stream",
     "text": [
      "c) 34\n"
     ]
    }
   ],
   "source": [
    "c = (6 * 3) + (4 * 4)\n",
    "print(\"c) \" + str(c))"
   ]
  },
  {
   "cell_type": "code",
   "execution_count": 4,
   "id": "6ce6c04d-9bba-4014-af27-590c13ad9391",
   "metadata": {},
   "outputs": [
    {
     "name": "stdout",
     "output_type": "stream",
     "text": [
      "d) 14\n"
     ]
    }
   ],
   "source": [
    "VarX = 12 - pow(3, 2)\n",
    "VarY = 18 - pow(4, 2)\n",
    "d = (4 * VarX) + (VarY)\n",
    "print(\"d) \" + str(d))"
   ]
  },
  {
   "cell_type": "code",
   "execution_count": 5,
   "id": "d4949b05-f0f7-4215-b901-e6cb14f74564",
   "metadata": {},
   "outputs": [
    {
     "name": "stdout",
     "output_type": "stream",
     "text": [
      "e) 14\n"
     ]
    }
   ],
   "source": [
    "e = (4 * VarX) + (VarY)\n",
    "print(\"e) \" + str(e))"
   ]
  },
  {
   "cell_type": "code",
   "execution_count": 6,
   "id": "235b956f-9332-4c6c-a733-53e9be1e16a5",
   "metadata": {},
   "outputs": [
    {
     "name": "stdout",
     "output_type": "stream",
     "text": [
      "f) 30\n"
     ]
    }
   ],
   "source": [
    "f = (9 * VarY) + (4 * VarX)\n",
    "print(\"f) \" + str(f))"
   ]
  }
 ],
 "metadata": {
  "kernelspec": {
   "display_name": "Python 3 (ipykernel)",
   "language": "python",
   "name": "python3"
  },
  "language_info": {
   "codemirror_mode": {
    "name": "ipython",
    "version": 3
   },
   "file_extension": ".py",
   "mimetype": "text/x-python",
   "name": "python",
   "nbconvert_exporter": "python",
   "pygments_lexer": "ipython3",
   "version": "3.12.1"
  }
 },
 "nbformat": 4,
 "nbformat_minor": 5
}

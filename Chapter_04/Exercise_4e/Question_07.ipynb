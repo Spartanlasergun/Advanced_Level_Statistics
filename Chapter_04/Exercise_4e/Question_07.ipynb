{
 "cells": [
  {
   "cell_type": "markdown",
   "id": "2a1479f3-6a3f-4062-a78d-304df65a2ab8",
   "metadata": {},
   "source": [
    "# Question 7\n",
    "-----"
   ]
  },
  {
   "cell_type": "markdown",
   "id": "44dc8b14-ca82-48d7-be6b-fb1ead1c9257",
   "metadata": {},
   "source": [
    "$$k + 2k + 3k + 4k = 1$$\n",
    "\n",
    "$$10k = 1$$\n",
    "\n",
    "$$k = 0.1$$\n",
    "\n",
    "| x | 1 | 2 | 3 | 4 |\n",
    "| - | - | - | - | - |\n",
    "| P(X = x) | 0.1 | 0.2 | 0.3 | 0.4 |\n"
   ]
  },
  {
   "cell_type": "code",
   "execution_count": 1,
   "id": "c8aaa93d-1699-4f03-b286-475af0b51583",
   "metadata": {},
   "outputs": [
    {
     "name": "stdout",
     "output_type": "stream",
     "text": [
      "E(X) = 3.0\n"
     ]
    }
   ],
   "source": [
    "EX = (0.1) + (0.2 * 2) + (0.3 * 3) + (0.4 * 4)\n",
    "print(\"E(X) = \" + str(EX))"
   ]
  },
  {
   "cell_type": "code",
   "execution_count": 2,
   "id": "ef0800aa-dac4-4a8b-a470-0c7a6bc99997",
   "metadata": {},
   "outputs": [
    {
     "name": "stdout",
     "output_type": "stream",
     "text": [
      "Var(X) = 1.0\n"
     ]
    }
   ],
   "source": [
    "EX_2 = (0.1) + (0.2 * 4) + (0.3 * 9) + (0.4 * 16)\n",
    "Var = EX_2 - pow(EX, 2)\n",
    "print(\"Var(X) = \" + str(Var))"
   ]
  },
  {
   "cell_type": "code",
   "execution_count": 3,
   "id": "3bb656af-7c98-4783-ac1a-ed60acc7c62b",
   "metadata": {},
   "outputs": [
    {
     "name": "stdout",
     "output_type": "stream",
     "text": [
      "E(4X) = 12.0\n"
     ]
    }
   ],
   "source": [
    "E4X = EX * 4\n",
    "print(\"E(4X) = \" + str(E4X))"
   ]
  },
  {
   "cell_type": "markdown",
   "id": "5a868a7c-78e0-4f1b-9d8a-825941188d95",
   "metadata": {},
   "source": [
    "Question missing information for part (d) and (f)"
   ]
  }
 ],
 "metadata": {
  "kernelspec": {
   "display_name": "Python 3 (ipykernel)",
   "language": "python",
   "name": "python3"
  },
  "language_info": {
   "codemirror_mode": {
    "name": "ipython",
    "version": 3
   },
   "file_extension": ".py",
   "mimetype": "text/x-python",
   "name": "python",
   "nbconvert_exporter": "python",
   "pygments_lexer": "ipython3",
   "version": "3.12.1"
  }
 },
 "nbformat": 4,
 "nbformat_minor": 5
}

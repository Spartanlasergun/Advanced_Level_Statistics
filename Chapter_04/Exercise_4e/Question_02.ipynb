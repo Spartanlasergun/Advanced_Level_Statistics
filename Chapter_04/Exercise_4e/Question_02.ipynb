{
 "cells": [
  {
   "cell_type": "markdown",
   "id": "c49da27c-d0a3-4a1f-bebe-7e1394e63884",
   "metadata": {},
   "source": [
    "# Question 2\n",
    "-----"
   ]
  },
  {
   "cell_type": "markdown",
   "id": "91cfe810-8ff5-48f4-a10a-5c1c566d9a24",
   "metadata": {},
   "source": [
    "$$Var(X) = E(X^2) - (E(X))^2$$\n",
    "\n",
    "$$10 = 14 - (E(X))^2$$\n",
    "\n",
    "$$E(X) = \\sqrt{4}$$\n",
    "\n",
    "$$E(X) = 2$$\n",
    "\n",
    "-----\n",
    "$$Var(Y) = E(Y^2) - (E(Y))^2$$\n",
    "\n",
    "$$11 = 20 - (E(Y))^2$$\n",
    "\n",
    "$$E(Y) = \\sqrt{9}$$\n",
    "\n",
    "$$E(Y) = 3$$"
   ]
  },
  {
   "cell_type": "code",
   "execution_count": 1,
   "id": "266b29da-7051-476d-803f-7125c94c056b",
   "metadata": {},
   "outputs": [
    {
     "name": "stdout",
     "output_type": "stream",
     "text": [
      "E(3X - 2Y) = 0\n"
     ]
    }
   ],
   "source": [
    "E3xm2y = (3 * 2) - (2 * 3)\n",
    "print(\"E(3X - 2Y) = \" + str(E3xm2y))"
   ]
  },
  {
   "cell_type": "code",
   "execution_count": 2,
   "id": "3f6f49be-99cc-4394-a236-1f0a467b4354",
   "metadata": {},
   "outputs": [
    {
     "name": "stdout",
     "output_type": "stream",
     "text": [
      "Var(5X - 2Y) = 294\n"
     ]
    }
   ],
   "source": [
    "Var5xm2y = (pow(5, 2) * 10) + (pow(2, 2) * 11)\n",
    "print(\"Var(5X - 2Y) = \" + str(Var5xm2y))"
   ]
  }
 ],
 "metadata": {
  "kernelspec": {
   "display_name": "Python 3 (ipykernel)",
   "language": "python",
   "name": "python3"
  },
  "language_info": {
   "codemirror_mode": {
    "name": "ipython",
    "version": 3
   },
   "file_extension": ".py",
   "mimetype": "text/x-python",
   "name": "python",
   "nbconvert_exporter": "python",
   "pygments_lexer": "ipython3",
   "version": "3.12.1"
  }
 },
 "nbformat": 4,
 "nbformat_minor": 5
}

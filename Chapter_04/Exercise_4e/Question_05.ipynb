{
 "cells": [
  {
   "cell_type": "markdown",
   "id": "d1c825d3-d718-4755-89f7-55ed0d5c8bb2",
   "metadata": {},
   "source": [
    "# Question 5\n",
    "-----"
   ]
  },
  {
   "cell_type": "code",
   "execution_count": 1,
   "id": "4c9027f9-2c1e-4e01-8128-44e1b3551496",
   "metadata": {},
   "outputs": [
    {
     "name": "stdout",
     "output_type": "stream",
     "text": [
      "E(X) = 2.5999999999999996\n",
      "Var(X) = 0.240000000000002\n"
     ]
    }
   ],
   "source": [
    "EX = (2 * 0.4) + (3 * 0.6)\n",
    "EX_2 = (4 * 0.4) + (9 * 0.6)\n",
    "Var = EX_2 - pow(EX, 2)\n",
    "print(\"E(X) = \" + str(EX))\n",
    "print(\"Var(X) = \" + str(Var))"
   ]
  },
  {
   "cell_type": "markdown",
   "id": "cde3bbf3-2163-48c7-94cd-36b3824dbfd0",
   "metadata": {},
   "source": [
    "$$E(X + Y) = E(X) + E(Y)$$\n",
    "\n",
    "$$E(X + Y) = 2.6 + 2.6 = 5.2$$\n",
    "\n",
    "$$Var(X + Y) = Var(X) + Var(Y)$$\n",
    "\n",
    "$$Var(X + Y) = 0.24 + 0.24 = 0.48$$\n",
    "\n",
    "-----\n",
    "\n",
    "$$3 \\ lengths \\ implies --> 2.6 * 3, \\ and \\ 0.24 * 3$$\n",
    "\n",
    "$$E(Y) = 7.8$$\n",
    "\n",
    "$$Var(Y) = 0.72$$\n",
    "\n"
   ]
  }
 ],
 "metadata": {
  "kernelspec": {
   "display_name": "Python 3 (ipykernel)",
   "language": "python",
   "name": "python3"
  },
  "language_info": {
   "codemirror_mode": {
    "name": "ipython",
    "version": 3
   },
   "file_extension": ".py",
   "mimetype": "text/x-python",
   "name": "python",
   "nbconvert_exporter": "python",
   "pygments_lexer": "ipython3",
   "version": "3.12.1"
  }
 },
 "nbformat": 4,
 "nbformat_minor": 5
}

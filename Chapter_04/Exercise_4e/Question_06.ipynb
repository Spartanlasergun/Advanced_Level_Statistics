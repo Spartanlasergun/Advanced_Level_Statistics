{
 "cells": [
  {
   "cell_type": "markdown",
   "id": "eff33c8b-cc7d-451f-af74-c0ffb166bc40",
   "metadata": {},
   "source": [
    "# Question 6\n",
    "-----"
   ]
  },
  {
   "cell_type": "code",
   "execution_count": 1,
   "id": "5f2d5fda-cd97-4716-b2d5-7966601c531d",
   "metadata": {},
   "outputs": [
    {
     "name": "stdout",
     "output_type": "stream",
     "text": [
      "10Var(X) = 29.16666666666666\n"
     ]
    }
   ],
   "source": [
    "EX = ((1/6) * 1) + ((1/6) * 2) + ((1/6) * 3) + ((1/6) * 4) + ((1/6) * 5) + ((1/6) * 6)\n",
    "EX_2 = ((1/6) * 1) + ((1/6) * 4) + ((1/6) * 9) + ((1/6) * 16) + ((1/6) * 25) + ((1/6) * 36)\n",
    "Var = EX_2 - pow(EX, 2)\n",
    "Var10 = Var * 10\n",
    "print(\"10Var(X) = \" + str(Var10))"
   ]
  }
 ],
 "metadata": {
  "kernelspec": {
   "display_name": "Python 3 (ipykernel)",
   "language": "python",
   "name": "python3"
  },
  "language_info": {
   "codemirror_mode": {
    "name": "ipython",
    "version": 3
   },
   "file_extension": ".py",
   "mimetype": "text/x-python",
   "name": "python",
   "nbconvert_exporter": "python",
   "pygments_lexer": "ipython3",
   "version": "3.12.1"
  }
 },
 "nbformat": 4,
 "nbformat_minor": 5
}

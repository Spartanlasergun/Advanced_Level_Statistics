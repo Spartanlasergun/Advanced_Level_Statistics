{
 "cells": [
  {
   "cell_type": "markdown",
   "id": "0dd048df-77be-4731-bc0f-f53aefffbd7a",
   "metadata": {},
   "source": [
    "# Question 4\n",
    "----"
   ]
  },
  {
   "cell_type": "code",
   "execution_count": 1,
   "id": "8df4bf9f-b424-4159-9f2a-8005a55e9901",
   "metadata": {},
   "outputs": [
    {
     "name": "stdout",
     "output_type": "stream",
     "text": [
      "E(X) = 1.3\n",
      "E(Y) = 1.0\n",
      "Var(X) = 1.01\n",
      "Var(Y) = 0.8\n"
     ]
    }
   ],
   "source": [
    "EX = 0.2 + 0.8 + 0.3\n",
    "EY = 0.2 + 0.8\n",
    "EX_2 = 0.2 + (4 * 0.4) + (9 * 0.1)\n",
    "EY_2 = 0.2 + (4 * 0.4)\n",
    "VarX = EX_2 - pow(EX, 2)\n",
    "VarY = EY_2 - pow(EY, 2)\n",
    "print(\"E(X) = \" + str(EX))\n",
    "print(\"E(Y) = \" + str(EY))\n",
    "print(\"Var(X) = \" + str(VarX))\n",
    "print(\"Var(Y) = \" + str(VarY))"
   ]
  },
  {
   "cell_type": "markdown",
   "id": "e8035670-a6d0-45ef-b481-c239c720634c",
   "metadata": {},
   "source": [
    "| x + y | 0 | 1 | 2 | 3 | 4 | 5 |\n",
    "| --- | --- | --- | --- | --- | --- | --- |\n",
    "| probability | 0.12 | 0.14 | 0.32 | 0.20 | 0.18 | 0.04 |"
   ]
  },
  {
   "cell_type": "code",
   "execution_count": 2,
   "id": "bdb3ee33-699e-449f-89d3-1ff002c666df",
   "metadata": {},
   "outputs": [
    {
     "name": "stdout",
     "output_type": "stream",
     "text": [
      "E(X + Y) = 2.3000000000000003\n"
     ]
    }
   ],
   "source": [
    "EXpY = 0.14 + (0.32 * 2) + (0.2 * 3) + (0.18 * 4) + (0.04 * 5)\n",
    "print(\"E(X + Y) = \" + str(EXpY))"
   ]
  },
  {
   "cell_type": "code",
   "execution_count": 3,
   "id": "ad9f3be1-e9c8-4aef-bf80-66e1cdaac842",
   "metadata": {},
   "outputs": [
    {
     "name": "stdout",
     "output_type": "stream",
     "text": [
      "Var(X + Y) = 1.8099999999999987\n"
     ]
    }
   ],
   "source": [
    "EXpY_2 = 0.14 + (0.32 * 4) + (0.2 * 9) + (0.18 * 16) + (0.04 * 25)\n",
    "VarXpY = EXpY_2 - pow(EXpY, 2)\n",
    "print(\"Var(X + Y) = \" + str(VarXpY))"
   ]
  },
  {
   "cell_type": "markdown",
   "id": "de0f2466-ef6a-4dd7-b6bf-99fbd5424c84",
   "metadata": {},
   "source": [
    "| x - y | -2 | -1 | 0 | 1 | 2 | 3 |\n",
    "| --- | --- | --- | --- | --- | --- | --- |\n",
    "| probability | 0.12 | 0.14 | 0.32 | 0.2 | 0.18 | 0.04 |"
   ]
  },
  {
   "cell_type": "code",
   "execution_count": 4,
   "id": "33d8f835-781a-4a62-a61b-e24852f18618",
   "metadata": {},
   "outputs": [
    {
     "name": "stdout",
     "output_type": "stream",
     "text": [
      "E(X - Y) = 0.3\n"
     ]
    }
   ],
   "source": [
    "EXmY = (-2 * 0.12) + (-0.14) + (0.2) + (2 * 0.18) + (3 * 0.04)\n",
    "print(\"E(X - Y) = \" + str(EXmY))"
   ]
  },
  {
   "cell_type": "code",
   "execution_count": 5,
   "id": "72fa2e4e-7135-4b5e-933f-a28c5e9c15a4",
   "metadata": {},
   "outputs": [
    {
     "name": "stdout",
     "output_type": "stream",
     "text": [
      "Var(X - Y) = 1.8099999999999998\n"
     ]
    }
   ],
   "source": [
    "EXmY_2 = (4 * 0.12) + (0.14) + (0.2) + (4 * 0.18) + (9 * 0.04)\n",
    "VarXmY = EXmY_2 - pow(EXmY, 2)\n",
    "print(\"Var(X - Y) = \" + str(VarXmY))"
   ]
  }
 ],
 "metadata": {
  "kernelspec": {
   "display_name": "Python 3 (ipykernel)",
   "language": "python",
   "name": "python3"
  },
  "language_info": {
   "codemirror_mode": {
    "name": "ipython",
    "version": 3
   },
   "file_extension": ".py",
   "mimetype": "text/x-python",
   "name": "python",
   "nbconvert_exporter": "python",
   "pygments_lexer": "ipython3",
   "version": "3.12.1"
  }
 },
 "nbformat": 4,
 "nbformat_minor": 5
}

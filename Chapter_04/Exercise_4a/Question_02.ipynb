{
 "cells": [
  {
   "cell_type": "markdown",
   "id": "be10a7f9-f73a-410b-9f6c-f7c8d997ccde",
   "metadata": {},
   "source": [
    "# Question 2\n",
    "-----"
   ]
  },
  {
   "cell_type": "markdown",
   "id": "23d7ee9b-132f-46e5-a15d-2eb77b51b781",
   "metadata": {},
   "source": [
    "| x | 12 | 13 | 14 |\n",
    "| --- | --- | --- | --- |\n",
    "| X | k12 | k13 | k14 |\n",
    "\n",
    "Hence,\n",
    "\n",
    "$$k12 + k13 + k14 = 1$$\n",
    "\n",
    "$$39k = 1$$\n",
    "\n",
    "$$k = \\frac{1}{39}$$"
   ]
  }
 ],
 "metadata": {
  "kernelspec": {
   "display_name": "Python 3 (ipykernel)",
   "language": "python",
   "name": "python3"
  },
  "language_info": {
   "codemirror_mode": {
    "name": "ipython",
    "version": 3
   },
   "file_extension": ".py",
   "mimetype": "text/x-python",
   "name": "python",
   "nbconvert_exporter": "python",
   "pygments_lexer": "ipython3",
   "version": "3.12.1"
  }
 },
 "nbformat": 4,
 "nbformat_minor": 5
}

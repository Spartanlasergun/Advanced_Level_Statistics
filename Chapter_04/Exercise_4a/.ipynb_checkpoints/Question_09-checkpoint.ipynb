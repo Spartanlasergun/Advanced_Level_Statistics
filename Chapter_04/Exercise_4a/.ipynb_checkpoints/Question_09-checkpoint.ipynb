{
 "cells": [
  {
   "cell_type": "markdown",
   "id": "e0a36fd3-cefa-4f73-94ff-86de25c50f5b",
   "metadata": {},
   "source": [
    "# Question 9\n",
    "-----"
   ]
  },
  {
   "cell_type": "markdown",
   "id": "9f675328-d6c7-48df-bced-0f224c072df9",
   "metadata": {},
   "source": [
    "| x | 0 | 1 | 2 | 3 |\n",
    "| ---- | --- | --- | --- | --- |\n",
    "| P(X = x) | 0.216 | 0.432 | 0.288 | 0.064 |"
   ]
  }
 ],
 "metadata": {
  "kernelspec": {
   "display_name": "Python 3 (ipykernel)",
   "language": "python",
   "name": "python3"
  },
  "language_info": {
   "codemirror_mode": {
    "name": "ipython",
    "version": 3
   },
   "file_extension": ".py",
   "mimetype": "text/x-python",
   "name": "python",
   "nbconvert_exporter": "python",
   "pygments_lexer": "ipython3",
   "version": "3.12.1"
  }
 },
 "nbformat": 4,
 "nbformat_minor": 5
}

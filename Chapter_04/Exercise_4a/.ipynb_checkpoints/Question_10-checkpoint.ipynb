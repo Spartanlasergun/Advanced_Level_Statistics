{
 "cells": [
  {
   "cell_type": "markdown",
   "id": "c75e5dd5-91c4-4c6f-9967-7cc708874a01",
   "metadata": {},
   "source": [
    "# Question 10\n",
    "-----"
   ]
  },
  {
   "cell_type": "markdown",
   "id": "2c4bd615-d50c-4c69-9d5c-d3238f7a26db",
   "metadata": {},
   "source": [
    "| x | -5p | 5p | 15p |\n",
    "| --- | --- | ---- | --- |\n",
    "| $P(X = x)$ | $\\frac{25}{36}$ | 10/36| 1/36 |"
   ]
  }
 ],
 "metadata": {
  "kernelspec": {
   "display_name": "Python 3 (ipykernel)",
   "language": "python",
   "name": "python3"
  },
  "language_info": {
   "codemirror_mode": {
    "name": "ipython",
    "version": 3
   },
   "file_extension": ".py",
   "mimetype": "text/x-python",
   "name": "python",
   "nbconvert_exporter": "python",
   "pygments_lexer": "ipython3",
   "version": "3.12.1"
  }
 },
 "nbformat": 4,
 "nbformat_minor": 5
}

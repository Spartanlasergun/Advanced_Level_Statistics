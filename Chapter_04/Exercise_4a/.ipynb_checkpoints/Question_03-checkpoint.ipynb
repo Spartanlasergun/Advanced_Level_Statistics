{
 "cells": [
  {
   "cell_type": "markdown",
   "id": "af1f5450-59a3-4e3c-9e93-57973a93810e",
   "metadata": {},
   "source": [
    "# Question 3\n",
    "-----"
   ]
  },
  {
   "cell_type": "markdown",
   "id": "fae153e9-2ea8-4aae-84b8-afe93b0508e2",
   "metadata": {},
   "source": [
    "$$p_3 = 0.1$$\n",
    "\n",
    "$$p_5 = 0.05$$\n",
    "\n",
    "$$p_6 = 0.45$$\n",
    "\n",
    "$$p_8 = 3p_{10}$$\n",
    "\n",
    "hence,\n",
    "\n",
    "$$1 - (0.1 + 0.05 + 0.45 + 3p_{10}) = p_{10}$$\n",
    "\n",
    "$$0.4 - 3p_{10} = p_{10}$$\n",
    "\n",
    "$$0.4 = 4p_{10}$$\n",
    "\n",
    "$$p_{10} = \\frac{0.4}{4} = 0.1$$"
   ]
  }
 ],
 "metadata": {
  "kernelspec": {
   "display_name": "Python 3 (ipykernel)",
   "language": "python",
   "name": "python3"
  },
  "language_info": {
   "codemirror_mode": {
    "name": "ipython",
    "version": 3
   },
   "file_extension": ".py",
   "mimetype": "text/x-python",
   "name": "python",
   "nbconvert_exporter": "python",
   "pygments_lexer": "ipython3",
   "version": "3.12.1"
  }
 },
 "nbformat": 4,
 "nbformat_minor": 5
}

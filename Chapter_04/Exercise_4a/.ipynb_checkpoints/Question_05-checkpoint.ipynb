{
 "cells": [
  {
   "cell_type": "markdown",
   "id": "c41043b7-a37e-43c7-bbfb-0f39fc6ff8d3",
   "metadata": {},
   "source": [
    "# Question 5\n",
    "-----"
   ]
  },
  {
   "cell_type": "markdown",
   "id": "c4638281-3a4b-4a0d-b26a-97b8f2db91f6",
   "metadata": {},
   "source": [
    "a)\n",
    "| x | 0 | 1 | 2 |\n",
    "| --- | --- | --- | ---|\n",
    "| P(X = x) | 0.25 | 0.5 | 0.25 |\n",
    "\n",
    "b)\n",
    "\n",
    "| x | 0 | 1 | 2 | 3 |\n",
    "| --- | --- | --- | --- | --- |\n",
    "| P(X = x) | 0.125 | 0.375 | 0.375 | 0.125 |"
   ]
  }
 ],
 "metadata": {
  "kernelspec": {
   "display_name": "Python 3 (ipykernel)",
   "language": "python",
   "name": "python3"
  },
  "language_info": {
   "codemirror_mode": {
    "name": "ipython",
    "version": 3
   },
   "file_extension": ".py",
   "mimetype": "text/x-python",
   "name": "python",
   "nbconvert_exporter": "python",
   "pygments_lexer": "ipython3",
   "version": "3.12.1"
  }
 },
 "nbformat": 4,
 "nbformat_minor": 5
}

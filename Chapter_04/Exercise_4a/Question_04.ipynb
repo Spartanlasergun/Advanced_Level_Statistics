{
 "cells": [
  {
   "cell_type": "markdown",
   "id": "d58991ce-39e3-4f5b-bb0e-79937f88c502",
   "metadata": {},
   "source": [
    "# Question 4\n",
    "-----"
   ]
  },
  {
   "cell_type": "code",
   "execution_count": 1,
   "id": "f8b1bc65-b425-4ed6-a2a1-ee094c422ddf",
   "metadata": {},
   "outputs": [
    {
     "name": "stdout",
     "output_type": "stream",
     "text": [
      "a = 0.34999999999999987\n"
     ]
    }
   ],
   "source": [
    "a = 1 - ((1/10) + (3/10) + (1/5) + (1/20))\n",
    "print(\"a = \" + str(a))"
   ]
  },
  {
   "cell_type": "code",
   "execution_count": 2,
   "id": "916a5b2e-fecc-499e-ba3b-66c54e759fad",
   "metadata": {},
   "outputs": [
    {
     "name": "stdout",
     "output_type": "stream",
     "text": [
      "P(X >/ 4) = 0.25\n"
     ]
    }
   ],
   "source": [
    "b = (1/5) + (1/20)\n",
    "print(\"P(X >/ 4) = \" + str(b))"
   ]
  },
  {
   "cell_type": "code",
   "execution_count": 3,
   "id": "491ad547-d27d-40e2-a8e6-8057cd219d39",
   "metadata": {},
   "outputs": [
    {
     "name": "stdout",
     "output_type": "stream",
     "text": [
      "P(X < 1) = 0\n"
     ]
    }
   ],
   "source": [
    "c = 0\n",
    "print(\"P(X < 1) = 0\")"
   ]
  },
  {
   "cell_type": "code",
   "execution_count": 4,
   "id": "695615dc-4105-442b-9e6b-567a75a2a76c",
   "metadata": {},
   "outputs": [
    {
     "name": "stdout",
     "output_type": "stream",
     "text": [
      "P(2 \\< X < 4) = 0.6499999999999999\n"
     ]
    }
   ],
   "source": [
    "d = (3/10) + a\n",
    "print(r\"P(2 \\< X < 4) = \" + str(d))"
   ]
  }
 ],
 "metadata": {
  "kernelspec": {
   "display_name": "Python 3 (ipykernel)",
   "language": "python",
   "name": "python3"
  },
  "language_info": {
   "codemirror_mode": {
    "name": "ipython",
    "version": 3
   },
   "file_extension": ".py",
   "mimetype": "text/x-python",
   "name": "python",
   "nbconvert_exporter": "python",
   "pygments_lexer": "ipython3",
   "version": "3.12.1"
  }
 },
 "nbformat": 4,
 "nbformat_minor": 5
}

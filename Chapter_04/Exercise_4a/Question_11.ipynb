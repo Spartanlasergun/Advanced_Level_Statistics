{
 "cells": [
  {
   "cell_type": "markdown",
   "id": "709cc89b-0055-4365-9e32-0e340084dc34",
   "metadata": {},
   "source": [
    "# Question 11\n",
    "-----"
   ]
  },
  {
   "cell_type": "markdown",
   "id": "25e8df45-8cc3-422e-9018-133a5f4a0cc4",
   "metadata": {},
   "source": [
    "| x | 1 | 2 | 3 | 4 | 5 | 6 | 7 | 8 | 9 | 10 | 11 | 12 |\n",
    "| --- | --- | --- | --- | --- | --- | --- | --- | --- | --- | --- | --- | --- |\n",
    "| P(X = x) | 6/72 | 7/72 | 8/72 | 9/72 | 10/72 | 11/72 | 6/72 | 5/72 | 4/72 | 3/72 | 2/72 | 12/72 |\n",
    "\n",
    "\n",
    "$$P(3 \\le X \\le 7) = \\frac{8}{72} +  \\frac{9}{72} + \\frac{10}{72} + \\frac{11}{72} + \\frac{6}{72} $$\n",
    "\n",
    "$$P(3 \\le X \\le 7) = \\frac{44}{72} = \\frac{11}{18}$$"
   ]
  }
 ],
 "metadata": {
  "kernelspec": {
   "display_name": "Python 3 (ipykernel)",
   "language": "python",
   "name": "python3"
  },
  "language_info": {
   "codemirror_mode": {
    "name": "ipython",
    "version": 3
   },
   "file_extension": ".py",
   "mimetype": "text/x-python",
   "name": "python",
   "nbconvert_exporter": "python",
   "pygments_lexer": "ipython3",
   "version": "3.12.1"
  }
 },
 "nbformat": 4,
 "nbformat_minor": 5
}

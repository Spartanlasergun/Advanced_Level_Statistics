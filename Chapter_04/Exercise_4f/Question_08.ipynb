{
 "cells": [
  {
   "cell_type": "markdown",
   "id": "0dcb18ba-e0bf-4a76-bc6c-3ed2be8b13c1",
   "metadata": {},
   "source": [
    "# Question 8\n",
    "-----"
   ]
  },
  {
   "cell_type": "markdown",
   "id": "2f564047-bef3-4e3d-984a-a892bc3b5e05",
   "metadata": {},
   "source": [
    "| d | 0 | 1 | 2 | 3 |\n",
    "| - | - | - | - | - |\n",
    "| P(D = d) | $\\frac{4}{16}$ | $\\frac{6}{16}$ | $\\frac{4}{16}$ | $\\frac{2}{16}$ |"
   ]
  },
  {
   "cell_type": "code",
   "execution_count": 1,
   "id": "10946493-a307-49de-a0fb-e8cdccac42b9",
   "metadata": {},
   "outputs": [
    {
     "name": "stdout",
     "output_type": "stream",
     "text": [
      "E(X) = 1.25\n"
     ]
    }
   ],
   "source": [
    "EX = (6/16) + (8/16) + (6/16)\n",
    "print(\"E(X) = \" + str(EX))"
   ]
  }
 ],
 "metadata": {
  "kernelspec": {
   "display_name": "Python 3 (ipykernel)",
   "language": "python",
   "name": "python3"
  },
  "language_info": {
   "codemirror_mode": {
    "name": "ipython",
    "version": 3
   },
   "file_extension": ".py",
   "mimetype": "text/x-python",
   "name": "python",
   "nbconvert_exporter": "python",
   "pygments_lexer": "ipython3",
   "version": "3.12.1"
  }
 },
 "nbformat": 4,
 "nbformat_minor": 5
}

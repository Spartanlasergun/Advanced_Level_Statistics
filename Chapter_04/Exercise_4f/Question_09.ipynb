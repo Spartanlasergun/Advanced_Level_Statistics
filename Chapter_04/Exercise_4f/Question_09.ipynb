{
 "cells": [
  {
   "cell_type": "markdown",
   "id": "11a88f64-4263-4805-bcb2-c35d3c5f672a",
   "metadata": {},
   "source": [
    "# Question 9\n",
    "-----"
   ]
  },
  {
   "cell_type": "code",
   "execution_count": 1,
   "id": "5f068308-4357-46b1-9c31-5a9eb8bcfc17",
   "metadata": {},
   "outputs": [
    {
     "name": "stdout",
     "output_type": "stream",
     "text": [
      "P(exactly 2) = 0.52\n"
     ]
    }
   ],
   "source": [
    "P2 = (0.6 * 0.6) + (0.4 * 0.4)\n",
    "print(\"P(exactly 2) = \" + str(P2))"
   ]
  },
  {
   "cell_type": "code",
   "execution_count": 2,
   "id": "cc5fcc3d-2a04-4ba4-9271-4d57179fd478",
   "metadata": {},
   "outputs": [
    {
     "name": "stdout",
     "output_type": "stream",
     "text": [
      "P(exactly 3) = 0.24\n"
     ]
    }
   ],
   "source": [
    "P3 = (0.6 * 0.4 * 0.4) + (0.4 * 0.6 * 0.6)\n",
    "print(\"P(exactly 3) = \" + str(P3))"
   ]
  },
  {
   "cell_type": "code",
   "execution_count": 3,
   "id": "61d62a5c-a327-41c4-bd3b-157fe52ea0b4",
   "metadata": {},
   "outputs": [
    {
     "name": "stdout",
     "output_type": "stream",
     "text": [
      "P(exactly 4) = 0.1248\n"
     ]
    }
   ],
   "source": [
    "P4 = (0.6 * 0.4 * 0.6 * 0.6) + (0.4 * 0.6 * 0.4 * 0.4)\n",
    "print(\"P(exactly 4) = \" + str(P4))"
   ]
  },
  {
   "cell_type": "code",
   "execution_count": 4,
   "id": "bbd39a7e-a621-4ae0-ac5f-3f540e9cd594",
   "metadata": {},
   "outputs": [
    {
     "name": "stdout",
     "output_type": "stream",
     "text": [
      "P(exactly 5) = 0.11519999999999997\n"
     ]
    }
   ],
   "source": [
    "P5 = 1 - (P2 + P3 + P4)\n",
    "print(\"P(exactly 5) = \" + str(P5))"
   ]
  },
  {
   "cell_type": "markdown",
   "id": "0d328c26-a4ac-4e4d-9020-e2f37d44abc1",
   "metadata": {},
   "source": [
    "| n | 2 | 3 | 4 | 5 |\n",
    "| - | - | - | - | - |\n",
    "| P(N = n) | 0.52 | 0.24 | 0.1248 | 0.1152 |"
   ]
  },
  {
   "cell_type": "code",
   "execution_count": 5,
   "id": "a9701ed4-de28-4617-9916-6894263a5b4c",
   "metadata": {},
   "outputs": [
    {
     "name": "stdout",
     "output_type": "stream",
     "text": [
      "E(X) = 2.8352\n"
     ]
    }
   ],
   "source": [
    "EX = (2 * 0.52) + (3 * 0.24) + (4 * 0.1248 ) + (5 * 0.1152)\n",
    "print(\"E(X) = \" + str(EX))"
   ]
  },
  {
   "cell_type": "code",
   "execution_count": 6,
   "id": "09715764-3f4f-49f9-b84e-645edd267473",
   "metadata": {},
   "outputs": [
    {
     "name": "stdout",
     "output_type": "stream",
     "text": [
      "tickets needed to be sold = 236.0\n"
     ]
    }
   ],
   "source": [
    "moneyEX = (1000 * 0.52) + (1240 * 0.24) + (1510 * 0.1248 ) + (1510 * 0.1152)\n",
    "tickets = moneyEX / 5\n",
    "print(\"tickets needed to be sold = \" + str(tickets))"
   ]
  }
 ],
 "metadata": {
  "kernelspec": {
   "display_name": "Python 3 (ipykernel)",
   "language": "python",
   "name": "python3"
  },
  "language_info": {
   "codemirror_mode": {
    "name": "ipython",
    "version": 3
   },
   "file_extension": ".py",
   "mimetype": "text/x-python",
   "name": "python",
   "nbconvert_exporter": "python",
   "pygments_lexer": "ipython3",
   "version": "3.12.1"
  }
 },
 "nbformat": 4,
 "nbformat_minor": 5
}

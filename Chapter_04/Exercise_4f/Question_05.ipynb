{
 "cells": [
  {
   "cell_type": "markdown",
   "id": "03017731-4335-40db-9a9b-ed135f3b0447",
   "metadata": {},
   "source": [
    "# Question 5\n",
    "-----"
   ]
  },
  {
   "cell_type": "markdown",
   "id": "fa80a20d-fbf0-4df4-82bf-ce427290a9ff",
   "metadata": {},
   "source": [
    "$$k + 4k + 9k + 9k + 4k + k = 1$$\n",
    "\n",
    "$$28k = 1$$\n",
    "\n",
    "$$k = \\frac{1}{28}$$\n",
    "\n",
    "| r | 1 | 2 | 3 | 4 | 5 | 6 |\n",
    "| - | - | - | - | - | - | - |\n",
    "| P(X = x) | $\\frac{1}{28}$ | $\\frac{4}{28}$ | $\\frac{9}{28}$ | $\\frac{9}{28}$ | $\\frac{4}{28}$ | $\\frac{1}{28}$ |"
   ]
  },
  {
   "cell_type": "code",
   "execution_count": 1,
   "id": "846c5ebc-1d8a-45cd-b0e2-f1533e8edb92",
   "metadata": {},
   "outputs": [
    {
     "name": "stdout",
     "output_type": "stream",
     "text": [
      "E(X) = 3.5\n"
     ]
    }
   ],
   "source": [
    "EX = (1 * (1/28)) + (2 * (4/28)) + (3 * (9/28)) + (4 * (9/28)) + (5 * (4/28)) + (6 * (1/28))\n",
    "print(\"E(X) = \" + str(EX))"
   ]
  },
  {
   "cell_type": "code",
   "execution_count": 2,
   "id": "6b8b0085-e5bd-4769-93c6-d3a7e2a51481",
   "metadata": {},
   "outputs": [
    {
     "name": "stdout",
     "output_type": "stream",
     "text": [
      "Var(X) = 1.25\n"
     ]
    }
   ],
   "source": [
    "EX_2 = (1 * (1/28)) + (4 * (4/28)) + (9 * (9/28)) + (16 * (9/28)) + (25 * (4/28)) + (36 * (1/28))\n",
    "Var = EX_2 - pow(EX, 2)\n",
    "print(\"Var(X) = \" + str(Var))"
   ]
  },
  {
   "cell_type": "code",
   "execution_count": 3,
   "id": "b387dfee-4fb6-4280-b3e8-82a7a962ae39",
   "metadata": {},
   "outputs": [
    {
     "name": "stdout",
     "output_type": "stream",
     "text": [
      "E(Y) = 12.0\n"
     ]
    }
   ],
   "source": [
    "def fx(x):\n",
    "    funk = (4 * x) - 2\n",
    "    return funk\n",
    "\n",
    "EY = (fx(1) * (1/28)) + (fx(2) * (4/28)) + (fx(3) * (9/28)) + (fx(4) * (9/28)) + (fx(5) * (4/28)) + (fx(6) * (1/28))\n",
    "print(\"E(Y) = \" + str(EY))"
   ]
  },
  {
   "cell_type": "code",
   "execution_count": 4,
   "id": "e30c8a19-a61d-4c97-b46c-a7bc952b90b1",
   "metadata": {},
   "outputs": [
    {
     "name": "stdout",
     "output_type": "stream",
     "text": [
      "Var(X) = 20.0\n"
     ]
    }
   ],
   "source": [
    "Var4xm2 = pow(4, 2) * Var\n",
    "print(\"Var(X) = \" + str(Var4xm2))"
   ]
  }
 ],
 "metadata": {
  "kernelspec": {
   "display_name": "Python 3 (ipykernel)",
   "language": "python",
   "name": "python3"
  },
  "language_info": {
   "codemirror_mode": {
    "name": "ipython",
    "version": 3
   },
   "file_extension": ".py",
   "mimetype": "text/x-python",
   "name": "python",
   "nbconvert_exporter": "python",
   "pygments_lexer": "ipython3",
   "version": "3.12.1"
  }
 },
 "nbformat": 4,
 "nbformat_minor": 5
}

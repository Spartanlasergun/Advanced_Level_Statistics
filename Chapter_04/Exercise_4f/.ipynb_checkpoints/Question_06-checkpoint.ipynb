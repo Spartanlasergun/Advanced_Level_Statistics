{
 "cells": [
  {
   "cell_type": "markdown",
   "id": "81ba909d-7f45-4d2a-ae1b-33df192c6238",
   "metadata": {},
   "source": [
    "# Question 6\n",
    "-----"
   ]
  },
  {
   "cell_type": "markdown",
   "id": "a12ac7fa-3664-43ac-bfdb-f5003d2deb2e",
   "metadata": {},
   "source": [
    "| x | 1 | 2 | 4 | 5 |\n",
    "| - | - | - | - | - |\n",
    "| F(x) | $\\frac{1}{12}$ | $\\frac{1}{2}$ | $\\frac{5}{6}$ | 1 |\n",
    "| P(X = x) | $\\frac{1}{12}$ | $\\frac{5}{12}$ | $\\frac{4}{12}$ | $\\frac{2}{12}$ |"
   ]
  },
  {
   "cell_type": "markdown",
   "id": "a3d8db46-ebda-4613-b7d9-715acd0f762b",
   "metadata": {},
   "source": [
    "| x | 2 | 3 | 4 | 5 | 6 | 7 | 8 | 9 | 10 |\n",
    "| - | - | - | - | - | - | - | - | - | - |\n",
    "| P(X = x) | $\\frac{1}{144}$ | $\\frac{10}{144}$ | $\\frac{25}{144}$ | $\\frac{8}{144}$ | $\\frac{44}{144}$ | $\\frac{20}{144}$ | $\\frac{16}{144}$ | $\\frac{16}{144}$ | $\\frac{4}{144}$ |"
   ]
  },
  {
   "cell_type": "code",
   "execution_count": 1,
   "id": "796a12aa-d6fe-4b81-b8f8-7c069c0112be",
   "metadata": {},
   "outputs": [
    {
     "name": "stdout",
     "output_type": "stream",
     "text": [
      "E(X) = 6.166666666666667\n"
     ]
    }
   ],
   "source": [
    "EX = ((1/144) * 2) + ((10/144) * 3) + ((25/144) * 4) + ((8/144) * 5) + ((44/144) * 6) + ((20/144) * 7) + ((16/144) * 8) + ((16/144) * 9) + ((4/144) * 10) \n",
    "print(\"E(X) = \" + str(EX))"
   ]
  },
  {
   "cell_type": "code",
   "execution_count": 2,
   "id": "b291105a-b49c-4f43-b681-8c00db4b54e2",
   "metadata": {},
   "outputs": [
    {
     "name": "stdout",
     "output_type": "stream",
     "text": [
      "Var(X) = 3.4861111111111143\n"
     ]
    }
   ],
   "source": [
    "EX_2 =  ((1/144) * 4) + ((10/144) * 9) + ((25/144) * 16) + ((8/144) * 25) + ((44/144) * 36) + ((20/144) * 49) + ((16/144) * 64) + ((16/144) * 81) + ((4/144) * 100) \n",
    "Var = EX_2 - pow(EX, 2)\n",
    "print(\"Var(X) = \" + str(Var))"
   ]
  }
 ],
 "metadata": {
  "kernelspec": {
   "display_name": "Python 3 (ipykernel)",
   "language": "python",
   "name": "python3"
  },
  "language_info": {
   "codemirror_mode": {
    "name": "ipython",
    "version": 3
   },
   "file_extension": ".py",
   "mimetype": "text/x-python",
   "name": "python",
   "nbconvert_exporter": "python",
   "pygments_lexer": "ipython3",
   "version": "3.12.1"
  }
 },
 "nbformat": 4,
 "nbformat_minor": 5
}

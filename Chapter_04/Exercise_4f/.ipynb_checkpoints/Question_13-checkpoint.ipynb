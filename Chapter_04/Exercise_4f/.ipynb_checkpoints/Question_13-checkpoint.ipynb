{
 "cells": [
  {
   "cell_type": "markdown",
   "id": "35f6ff71-48f5-44c5-b2f8-ba6b83d51831",
   "metadata": {},
   "source": [
    "# Question 13\n",
    "-----"
   ]
  },
  {
   "cell_type": "markdown",
   "id": "ead75688-7e24-4aa0-91ba-b28d5efa2d2b",
   "metadata": {},
   "source": [
    "| x | 1 | 8 | 12 | other |\n",
    "| - | - | - | - | - |\n",
    "| P(X = x) | $\\frac{11}{36}$ | $\\frac{5}{36}$ | $\\frac{1}{36}$ | $\\frac{19}{36}$ |   \n",
    "\n",
    "Hence,\n",
    "\n",
    "$$P(X = 6) = \\frac{1}{36}$$\n",
    "\n",
    "$$P(X = 3) = \\frac{5}{36}$$\n",
    "\n",
    "for P(X = -2), the statistican owes the gambler, hence\n",
    "\n",
    "$$P(X = -2) = \\frac{11}{36}$$\n",
    "\n"
   ]
  },
  {
   "cell_type": "code",
   "execution_count": 1,
   "id": "467ad99d-9c3f-4f7d-b189-94b58201e741",
   "metadata": {},
   "outputs": [
    {
     "name": "stdout",
     "output_type": "stream",
     "text": [
      "E(X) = -0.027777777777777818\n"
     ]
    }
   ],
   "source": [
    "EX = (-2 * (11/36)) + (3 * (5/36)) + (6 * (1/36))\n",
    "print(\"E(X) = \" + str(EX))"
   ]
  },
  {
   "cell_type": "code",
   "execution_count": 2,
   "id": "39373186-de6b-41eb-84a4-146eb8934319",
   "metadata": {},
   "outputs": [
    {
     "name": "stdout",
     "output_type": "stream",
     "text": [
      "expected loss = 2.7777777777777817\n"
     ]
    }
   ],
   "source": [
    "loss = abs(100 * EX)\n",
    "print(\"expected loss = \" + str(loss))"
   ]
  },
  {
   "cell_type": "markdown",
   "id": "1252f08a-f34e-496c-9218-c089aa208307",
   "metadata": {},
   "source": [
    "for unbiased game,\n",
    "\n",
    "$$(\\frac{11}{36} * -2) + (\\frac{5}{36}  *3) + (\\frac{a}{36}) = 0$$\n",
    "\n",
    "$$\\frac{-22}{36} + \\frac{15}{36} = \\frac{-a}{36}$$\n",
    "\n",
    "$$\\frac{a}{36} = \\frac{7}{36}$$\n",
    "\n",
    "$$a = 7$$\n",
    "\n",
    "Hence, at a = 7, the game is unbiased"
   ]
  }
 ],
 "metadata": {
  "kernelspec": {
   "display_name": "Python 3 (ipykernel)",
   "language": "python",
   "name": "python3"
  },
  "language_info": {
   "codemirror_mode": {
    "name": "ipython",
    "version": 3
   },
   "file_extension": ".py",
   "mimetype": "text/x-python",
   "name": "python",
   "nbconvert_exporter": "python",
   "pygments_lexer": "ipython3",
   "version": "3.12.1"
  }
 },
 "nbformat": 4,
 "nbformat_minor": 5
}

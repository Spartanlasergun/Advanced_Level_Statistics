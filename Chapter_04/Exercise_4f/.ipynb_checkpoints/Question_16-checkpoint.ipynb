{
 "cells": [
  {
   "cell_type": "markdown",
   "id": "6bc13e48-9933-4d9e-ac80-0eb64e7c5e95",
   "metadata": {},
   "source": [
    "# Question 16\n",
    "-----"
   ]
  },
  {
   "cell_type": "code",
   "execution_count": 1,
   "id": "70e1262d-f887-41f8-899b-3000be68ac0a",
   "metadata": {},
   "outputs": [
    {
     "name": "stdout",
     "output_type": "stream",
     "text": [
      "E(X) = 1.7000000000000002\n"
     ]
    }
   ],
   "source": [
    "EX = (1 * 0.34) + (2 * 0.27) + (3 * 0.14) + (4 * 0.10)\n",
    "print(\"E(X) = \" + str(EX))"
   ]
  },
  {
   "cell_type": "code",
   "execution_count": 2,
   "id": "5c0f9b23-a54e-4782-9819-c37f9686703b",
   "metadata": {},
   "outputs": [
    {
     "name": "stdout",
     "output_type": "stream",
     "text": [
      "std = 1.1789826122551599\n"
     ]
    }
   ],
   "source": [
    "import math\n",
    "EX_2 = (1 * 0.34) + (4 * 0.27) + (9 * 0.14) + (16 * 0.10)\n",
    "Var = EX_2 - pow(EX, 2)\n",
    "std = math.sqrt(Var)\n",
    "print(\"std = \" + str(std))"
   ]
  },
  {
   "cell_type": "code",
   "execution_count": 3,
   "id": "69414c6b-4b2d-4a57-b0df-359b4d7a152e",
   "metadata": {},
   "outputs": [
    {
     "name": "stdout",
     "output_type": "stream",
     "text": [
      "mean wait time = 4.760000000000001\n"
     ]
    }
   ],
   "source": [
    "waittime = (2 * 0.34) + (6 * 0.27) + (9 * 0.14) + (12 * 0.10)\n",
    "print(\"mean wait time = \" + str(waittime))"
   ]
  }
 ],
 "metadata": {
  "kernelspec": {
   "display_name": "Python 3 (ipykernel)",
   "language": "python",
   "name": "python3"
  },
  "language_info": {
   "codemirror_mode": {
    "name": "ipython",
    "version": 3
   },
   "file_extension": ".py",
   "mimetype": "text/x-python",
   "name": "python",
   "nbconvert_exporter": "python",
   "pygments_lexer": "ipython3",
   "version": "3.12.1"
  }
 },
 "nbformat": 4,
 "nbformat_minor": 5
}

{
 "cells": [
  {
   "cell_type": "markdown",
   "id": "92b7a3b5-6048-4b91-88e8-9807cb9d6944",
   "metadata": {},
   "source": [
    "# Question 2\n",
    "-----"
   ]
  },
  {
   "cell_type": "markdown",
   "id": "c25478c3-703e-4efd-b1bf-f251351648d3",
   "metadata": {},
   "source": [
    "$$k + 3k + 4k + 5k = 1 $$\n",
    "\n",
    "$$13k = 1$$\n",
    "\n",
    "$$k = \\frac{1}{13}$$"
   ]
  },
  {
   "cell_type": "markdown",
   "id": "5de57802-4108-404e-b811-5cce8810cbc5",
   "metadata": {},
   "source": [
    "| x | 0 | 1 | 2 | 3 |\n",
    "| - | - | - | - | - |\n",
    "| P(X = x) | $\\frac{1}{13}$ | $\\frac{3}{13}$ | $\\frac{4}{13}$ | $\\frac{5}{13}$ |"
   ]
  },
  {
   "cell_type": "code",
   "execution_count": 1,
   "id": "e879dabf-7832-465d-acee-d410f5e3a063",
   "metadata": {},
   "outputs": [
    {
     "name": "stdout",
     "output_type": "stream",
     "text": [
      "E(X) = 2.0\n",
      "Var(X) = 0.9230769230769234\n"
     ]
    }
   ],
   "source": [
    "EX = (3/13) + (8/13) + (15/13)\n",
    "EX_2 = (3/13) + (16/13) + (45/13)\n",
    "Var = EX_2 - pow(EX, 2)\n",
    "print(\"E(X) = \" + str(EX))\n",
    "print(\"Var(X) = \" + str(Var))"
   ]
  }
 ],
 "metadata": {
  "kernelspec": {
   "display_name": "Python 3 (ipykernel)",
   "language": "python",
   "name": "python3"
  },
  "language_info": {
   "codemirror_mode": {
    "name": "ipython",
    "version": 3
   },
   "file_extension": ".py",
   "mimetype": "text/x-python",
   "name": "python",
   "nbconvert_exporter": "python",
   "pygments_lexer": "ipython3",
   "version": "3.12.1"
  }
 },
 "nbformat": 4,
 "nbformat_minor": 5
}

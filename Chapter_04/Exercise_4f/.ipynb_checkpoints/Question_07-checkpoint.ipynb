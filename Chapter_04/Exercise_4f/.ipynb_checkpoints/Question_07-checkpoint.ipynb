{
 "cells": [
  {
   "cell_type": "markdown",
   "id": "6422f656-7201-492b-bf8c-f03a7cd1fd28",
   "metadata": {},
   "source": [
    "# Question 7\n",
    "-----"
   ]
  },
  {
   "cell_type": "markdown",
   "id": "909c46cd-0513-40e6-8e89-14969f71e9c6",
   "metadata": {},
   "source": [
    "$$8k + 5k + k + k = 1$$\n",
    "\n",
    "$$15k = 1$$\n",
    "\n",
    "$$k = \\frac{1}{15}$$"
   ]
  },
  {
   "cell_type": "markdown",
   "id": "5f36e6eb-84c7-41fc-9f2a-7469593ada7b",
   "metadata": {},
   "source": [
    "| x | 0 | 1 | 2 | 3 |\n",
    "| - | - | - | - | - |\n",
    "| P(X = x) | $\\frac{8}{15}$ | $\\frac{5}{15}$ | $\\frac{1}{15}$ | $\\frac{1}{15}$ |"
   ]
  },
  {
   "cell_type": "code",
   "execution_count": 1,
   "id": "f47fb522-0d48-49d0-8a5b-738777962f16",
   "metadata": {},
   "outputs": [
    {
     "name": "stdout",
     "output_type": "stream",
     "text": [
      "E(X) = 0.6666666666666667\n",
      "Var(X) = 0.7555555555555554\n"
     ]
    }
   ],
   "source": [
    "EX = (5/15) + (2/15) + (3/15)\n",
    "EX_2 = (5/15) + (4/15) + (9/15)\n",
    "Var = EX_2 - pow(EX, 2)\n",
    "print(\"E(X) = \" + str(EX))\n",
    "print(\"Var(X) = \" + str(Var))"
   ]
  },
  {
   "cell_type": "code",
   "execution_count": 2,
   "id": "e3003406-6881-49bb-bc2c-7cbf6108419e",
   "metadata": {},
   "outputs": [
    {
     "name": "stdout",
     "output_type": "stream",
     "text": [
      "P(Y > 4) = 0.013333333333333332\n"
     ]
    }
   ],
   "source": [
    "G4 = ((1/15) * (1/15)) + ((1/15) * (1/15)) + ((1/15) * (1/15))\n",
    "print(\"P(Y > 4) = \" + str(G4))"
   ]
  },
  {
   "cell_type": "code",
   "execution_count": 3,
   "id": "b7106247-e1a7-4f94-972f-3124ce69539b",
   "metadata": {},
   "outputs": [
    {
     "name": "stdout",
     "output_type": "stream",
     "text": [
      "E(Y) = 1.3333333333333335\n",
      "Var(Y) = 1.5111111111111108\n"
     ]
    }
   ],
   "source": [
    "E2X = EX * 2\n",
    "Var2 = Var * 2\n",
    "print(\"E(Y) = \" + str(E2X))\n",
    "print(\"Var(Y) = \" + str(Var2))"
   ]
  }
 ],
 "metadata": {
  "kernelspec": {
   "display_name": "Python 3 (ipykernel)",
   "language": "python",
   "name": "python3"
  },
  "language_info": {
   "codemirror_mode": {
    "name": "ipython",
    "version": 3
   },
   "file_extension": ".py",
   "mimetype": "text/x-python",
   "name": "python",
   "nbconvert_exporter": "python",
   "pygments_lexer": "ipython3",
   "version": "3.12.1"
  }
 },
 "nbformat": 4,
 "nbformat_minor": 5
}

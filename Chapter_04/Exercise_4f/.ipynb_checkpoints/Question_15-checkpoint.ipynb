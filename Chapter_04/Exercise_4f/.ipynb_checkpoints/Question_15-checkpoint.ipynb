{
 "cells": [
  {
   "cell_type": "markdown",
   "id": "8c803d10-6857-4baf-b0f9-f49f395e235f",
   "metadata": {},
   "source": [
    "# Question 15\n",
    "-----"
   ]
  },
  {
   "cell_type": "markdown",
   "id": "81f02b91-0259-48cc-899b-4583ddc5f0db",
   "metadata": {},
   "source": [
    "$$P(Nothing) = \\frac{4}{5}$$"
   ]
  },
  {
   "cell_type": "markdown",
   "id": "311e130a-8693-4c95-892f-025a96191c4f",
   "metadata": {},
   "source": [
    "| r | 2 | 4 | 6 | 8 | 10 |\n",
    "| - | - | - | - | - | - |\n",
    "| P(R = r) | 0.1 | 0.05 | 0.03 | 0.01 | 0.01 |"
   ]
  },
  {
   "cell_type": "code",
   "execution_count": 1,
   "id": "14e449a3-1dc2-4a25-aec8-39e0da066054",
   "metadata": {},
   "outputs": [
    {
     "name": "stdout",
     "output_type": "stream",
     "text": [
      "E(X) = -0.24\n"
     ]
    }
   ],
   "source": [
    "EX = ((0.1 * 2) + (0.05 * 4) + (0.03 * 6) + (0.01 * 8) + (0.01 * 10))\n",
    "gain = EX - 1\n",
    "print(\"E(X) = \" + str(gain))"
   ]
  },
  {
   "cell_type": "code",
   "execution_count": 2,
   "id": "e241811d-e31e-4d32-b386-2a84acede5c0",
   "metadata": {},
   "outputs": [
    {
     "name": "stdout",
     "output_type": "stream",
     "text": [
      "Var(X) = 3.3424000000000005\n"
     ]
    }
   ],
   "source": [
    "EX_2 = ((0.1 * 4) + (0.05 * 16) + (0.03 * 36) + (0.01 * 64) + (0.01 * 100)) \n",
    "Var = EX_2 - pow(EX, 2)\n",
    "print(\"Var(X) = \" + str(Var))"
   ]
  }
 ],
 "metadata": {
  "kernelspec": {
   "display_name": "Python 3 (ipykernel)",
   "language": "python",
   "name": "python3"
  },
  "language_info": {
   "codemirror_mode": {
    "name": "ipython",
    "version": 3
   },
   "file_extension": ".py",
   "mimetype": "text/x-python",
   "name": "python",
   "nbconvert_exporter": "python",
   "pygments_lexer": "ipython3",
   "version": "3.12.1"
  }
 },
 "nbformat": 4,
 "nbformat_minor": 5
}

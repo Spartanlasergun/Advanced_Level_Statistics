{
 "cells": [
  {
   "cell_type": "markdown",
   "id": "ec88219e-44af-4b98-bdd4-625d705dc57f",
   "metadata": {},
   "source": [
    "# Question 11\n",
    "-----"
   ]
  },
  {
   "cell_type": "markdown",
   "id": "4fab3066-257f-4ce3-827f-c3898806518f",
   "metadata": {},
   "source": [
    "| y | 0 | 1 | 2 | 3 |\n",
    "| - | - | - | - | - |\n",
    "| P(Y = y) | 0.3 | 0.34 | 0.2 | 0.16 |"
   ]
  },
  {
   "cell_type": "code",
   "execution_count": 1,
   "id": "0690a510-65ef-44f7-af12-6ac969ddf960",
   "metadata": {},
   "outputs": [
    {
     "name": "stdout",
     "output_type": "stream",
     "text": [
      "P(Y = 1) = 0.33999999999999997\n"
     ]
    }
   ],
   "source": [
    "PY1 = ((0.3 * 0.4) + (0.1 * 0.3) + (0.2 * 0.1)) * 2\n",
    "print(\"P(Y = 1) = \" + str(PY1))"
   ]
  },
  {
   "cell_type": "code",
   "execution_count": 2,
   "id": "5012e95f-b57f-45e5-9571-024f0c6b1829",
   "metadata": {},
   "outputs": [
    {
     "name": "stdout",
     "output_type": "stream",
     "text": [
      "E(Y) = 1.22\n"
     ]
    }
   ],
   "source": [
    "EY = (0.34) + (2 * 0.2) + (3 * 0.16)\n",
    "print(\"E(Y) = \" + str(EY))"
   ]
  },
  {
   "cell_type": "code",
   "execution_count": 3,
   "id": "e649b3ae-16a1-44fc-ad35-a37220d3d5c0",
   "metadata": {},
   "outputs": [
    {
     "name": "stdout",
     "output_type": "stream",
     "text": [
      "Var(Y) = 1.0916000000000001\n"
     ]
    }
   ],
   "source": [
    "EY_2 = (0.34) + (4 * 0.2) + (9 * 0.16)\n",
    "Var = EY_2 - pow(EY, 2)\n",
    "print(\"Var(Y) = \" + str(Var))"
   ]
  },
  {
   "cell_type": "code",
   "execution_count": 4,
   "id": "dbeaec14-f624-4840-bc88-9253eaa1a4b7",
   "metadata": {},
   "outputs": [
    {
     "name": "stdout",
     "output_type": "stream",
     "text": [
      "P(Y greater than or equal to E(Y)) = 0.36\n"
     ]
    }
   ],
   "source": [
    "PYGEEY = 0.2 + 0.16\n",
    "print(\"P(Y greater than or equal to E(Y)) = \" + str(PYGEEY))"
   ]
  }
 ],
 "metadata": {
  "kernelspec": {
   "display_name": "Python 3 (ipykernel)",
   "language": "python",
   "name": "python3"
  },
  "language_info": {
   "codemirror_mode": {
    "name": "ipython",
    "version": 3
   },
   "file_extension": ".py",
   "mimetype": "text/x-python",
   "name": "python",
   "nbconvert_exporter": "python",
   "pygments_lexer": "ipython3",
   "version": "3.12.1"
  }
 },
 "nbformat": 4,
 "nbformat_minor": 5
}

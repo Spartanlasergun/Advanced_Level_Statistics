{
 "cells": [
  {
   "cell_type": "markdown",
   "id": "4d00114a-84b1-4f7d-bc29-2f82cad824aa",
   "metadata": {},
   "source": [
    "# Question 4\n",
    "-----"
   ]
  },
  {
   "cell_type": "markdown",
   "id": "5b03d628-ed78-4014-97fe-0f03c988adbb",
   "metadata": {},
   "source": [
    "$$k + \\frac{k}{2} + \\frac{k}{3} + \\frac{k}{4} + \\frac{k}{5} + \\frac{k}{6} = 1$$\n",
    "\n",
    "$$ k = \\frac{20}{49} $$\n",
    "\n"
   ]
  },
  {
   "cell_type": "code",
   "execution_count": 1,
   "id": "531506e4-0c21-4a95-be74-eb99e8d4111c",
   "metadata": {},
   "outputs": [
    {
     "name": "stdout",
     "output_type": "stream",
     "text": [
      "E(X) = 2.4489795918367347\n"
     ]
    }
   ],
   "source": [
    "def pro(x):\n",
    "    prob = (20/49) / x\n",
    "    return prob\n",
    "\n",
    "EX = (1 * pro(1)) + (2 * pro(2)) + (3 * pro(3)) + (4 * pro(4)) + (5 * pro(5)) + (6 * pro(6))\n",
    "print(\"E(X) = \" + str(EX))"
   ]
  },
  {
   "cell_type": "code",
   "execution_count": 2,
   "id": "3d43b08e-83ac-4a67-91c7-a46f47a49f85",
   "metadata": {},
   "outputs": [
    {
     "name": "stdout",
     "output_type": "stream",
     "text": [
      "Var(X) = 2.5739275301957534\n"
     ]
    }
   ],
   "source": [
    "def sq(x):\n",
    "    sqr = pow(x, 2)\n",
    "    return sqr\n",
    "EX_2 = (sq(1) * pro(1)) + (sq(2) * pro(2)) + (sq(3) * pro(3)) + (sq(4) * pro(4)) + (sq(5) * pro(5)) + (sq(6) * pro(6))\n",
    "Var = EX_2 - pow(EX, 2)\n",
    "print(\"Var(X) = \" + str(Var))"
   ]
  },
  {
   "cell_type": "code",
   "execution_count": 3,
   "id": "1e0b021f-92e3-4565-a3cf-be1737412423",
   "metadata": {},
   "outputs": [
    {
     "name": "stdout",
     "output_type": "stream",
     "text": [
      "probability of doubles = 0.24846128927761585\n"
     ]
    }
   ],
   "source": [
    "equalprob = (pro(1) * pro(1)) + (pro(2) * pro(2)) + (pro(3) * pro(3)) + (pro(4) * pro(4)) + (pro(5) * pro(5)) + (pro(6) * pro(6))\n",
    "print(\"probability of doubles = \" + str(equalprob))"
   ]
  }
 ],
 "metadata": {
  "kernelspec": {
   "display_name": "Python 3 (ipykernel)",
   "language": "python",
   "name": "python3"
  },
  "language_info": {
   "codemirror_mode": {
    "name": "ipython",
    "version": 3
   },
   "file_extension": ".py",
   "mimetype": "text/x-python",
   "name": "python",
   "nbconvert_exporter": "python",
   "pygments_lexer": "ipython3",
   "version": "3.12.1"
  }
 },
 "nbformat": 4,
 "nbformat_minor": 5
}

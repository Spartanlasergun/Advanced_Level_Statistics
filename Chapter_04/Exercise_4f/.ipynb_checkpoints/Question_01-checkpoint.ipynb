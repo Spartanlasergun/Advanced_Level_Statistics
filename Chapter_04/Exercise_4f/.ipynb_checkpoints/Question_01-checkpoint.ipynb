{
 "cells": [
  {
   "cell_type": "markdown",
   "id": "2b2b5fe3-4971-4607-9f5b-3cdf5e78ee8a",
   "metadata": {},
   "source": [
    "# Question 1\n",
    "-----"
   ]
  },
  {
   "cell_type": "code",
   "execution_count": 1,
   "id": "94ca2521-0df8-4a0b-b9de-163a34bf516a",
   "metadata": {},
   "outputs": [
    {
     "name": "stdout",
     "output_type": "stream",
     "text": [
      "E(X) = 0.18250000000000002\n"
     ]
    }
   ],
   "source": [
    "EX = (0.1 * 0.5) + (0.2 * 0.3) + (0.3 * 0.1) + (0.4 * 0.075) + (0.5 * 0.025)\n",
    "print(\"E(X) = \" + str(EX))"
   ]
  },
  {
   "cell_type": "code",
   "execution_count": 2,
   "id": "26c5dbd1-ed25-43ff-a20a-d5203728a994",
   "metadata": {},
   "outputs": [
    {
     "name": "stdout",
     "output_type": "stream",
     "text": [
      "costs exceeds value by 1.7520000000000095\n"
     ]
    }
   ],
   "source": [
    "packs = 1000 / 25\n",
    "loss = EX * packs\n",
    "price_per_pack = 240 / (1000 / 25)\n",
    "units = (1000 - loss) / 25\n",
    "cost = price_per_pack * units\n",
    "excess_value = 240 - cost\n",
    "print(\"costs exceeds value by \" + str(excess_value))"
   ]
  }
 ],
 "metadata": {
  "kernelspec": {
   "display_name": "Python 3 (ipykernel)",
   "language": "python",
   "name": "python3"
  },
  "language_info": {
   "codemirror_mode": {
    "name": "ipython",
    "version": 3
   },
   "file_extension": ".py",
   "mimetype": "text/x-python",
   "name": "python",
   "nbconvert_exporter": "python",
   "pygments_lexer": "ipython3",
   "version": "3.12.1"
  }
 },
 "nbformat": 4,
 "nbformat_minor": 5
}

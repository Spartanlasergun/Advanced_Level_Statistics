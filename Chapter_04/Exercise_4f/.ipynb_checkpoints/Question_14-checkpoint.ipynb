{
 "cells": [
  {
   "cell_type": "markdown",
   "id": "ad5a1269-1761-473e-aa5e-daab4af5b505",
   "metadata": {},
   "source": [
    "# Question 14\n",
    "-----"
   ]
  },
  {
   "cell_type": "markdown",
   "id": "c70cad26-4a86-4009-9fbb-3d6db641de1b",
   "metadata": {},
   "source": [
    "| x | 0 | 1 | 2 | 3 | 4 | 5 |\n",
    "| - | - | - | - | - | - | - |\n",
    "| P(X = x) | a | a | a | b | b | b |"
   ]
  },
  {
   "cell_type": "markdown",
   "id": "13f76675-22fc-422b-b94c-f874f03ed0fe",
   "metadata": {},
   "source": [
    "$$3a + 3b = 1$$\n",
    "\n",
    "Since $P(X \\ge 2) = P(X < 2)$\n",
    "\n",
    "$$a + 3b = 6a$$\n",
    "\n",
    "Hence,\n",
    "\n",
    "$$3b = 5a$$\n",
    "\n",
    "$$3a + 5a = 1$$\n",
    "\n",
    "$$a = \\frac{1}{8}$$\n",
    "\n",
    "$$b = \\frac{5}{3} * \\frac{1}{8} = \\frac{5}{24}$$"
   ]
  },
  {
   "cell_type": "code",
   "execution_count": 1,
   "id": "3159637d-388a-4dfe-9c3e-6a2262a146c3",
   "metadata": {},
   "outputs": [
    {
     "name": "stdout",
     "output_type": "stream",
     "text": [
      "E(X) = 2.875\n"
     ]
    }
   ],
   "source": [
    "EX = (1 * (1/8)) + (2 * (1/8)) + (3 * (5/24)) + (4 * (5/24)) + (5 * (5/24))\n",
    "print(\"E(X) = \" + str(EX))"
   ]
  },
  {
   "cell_type": "code",
   "execution_count": 2,
   "id": "c07e2596-25cb-488e-bbfa-d8073a5a7611",
   "metadata": {},
   "outputs": [
    {
     "name": "stdout",
     "output_type": "stream",
     "text": [
      "Var(X) = 2.776041666666668\n"
     ]
    }
   ],
   "source": [
    "EX_2 = (1 * (1/8)) + (4 * (1/8)) + (9 * (5/24)) + (16 * (5/24)) + (25 * (5/24))\n",
    "Var = EX_2 - pow(EX, 2)\n",
    "print(\"Var(X) = \" + str(Var))"
   ]
  },
  {
   "cell_type": "code",
   "execution_count": 3,
   "id": "8afb7ad7-3d98-4a81-b713-94438f8bb4bd",
   "metadata": {},
   "outputs": [
    {
     "name": "stdout",
     "output_type": "stream",
     "text": [
      "P(X1 + X2 > 7) = 0.2604166666666667\n"
     ]
    }
   ],
   "source": [
    "G7 = ((5/24) * (5/24)) * 6\n",
    "print(\"P(X1 + X2 > 7) = \" + str(G7))"
   ]
  }
 ],
 "metadata": {
  "kernelspec": {
   "display_name": "Python 3 (ipykernel)",
   "language": "python",
   "name": "python3"
  },
  "language_info": {
   "codemirror_mode": {
    "name": "ipython",
    "version": 3
   },
   "file_extension": ".py",
   "mimetype": "text/x-python",
   "name": "python",
   "nbconvert_exporter": "python",
   "pygments_lexer": "ipython3",
   "version": "3.12.1"
  }
 },
 "nbformat": 4,
 "nbformat_minor": 5
}

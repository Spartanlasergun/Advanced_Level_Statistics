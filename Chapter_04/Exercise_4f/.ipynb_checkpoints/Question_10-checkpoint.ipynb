{
 "cells": [
  {
   "cell_type": "markdown",
   "id": "bd98fb48-d760-48e7-9e74-c4c9f745ec32",
   "metadata": {},
   "source": [
    "# Question 10\n",
    "-----"
   ]
  },
  {
   "cell_type": "markdown",
   "id": "6c106cdf-e5cf-4275-951e-54f483964d6d",
   "metadata": {},
   "source": [
    "| b | 0 | 1 | 2 | 3 | 4 |\n",
    "| - | - | - | - | - | - |\n",
    "| P(B = b) |  $\\frac{1}{3}$ | $\\frac{2}{9}$ | $\\frac{4}{27}$ | $\\frac{8}{81}$ | $\\frac{16}{81}$ | "
   ]
  },
  {
   "cell_type": "code",
   "execution_count": 2,
   "id": "a260f19b-6d74-4099-bbf0-ef896398347f",
   "metadata": {},
   "outputs": [
    {
     "name": "stdout",
     "output_type": "stream",
     "text": [
      "E(X) = 1.6049382716049383\n"
     ]
    }
   ],
   "source": [
    "EX = (2/9) + (8/27) + (24/81) + (64/81)\n",
    "print(\"E(X) = \" + str(EX))"
   ]
  },
  {
   "cell_type": "markdown",
   "id": "1a88e193-7eb8-4e11-9e59-0d7a0f14220b",
   "metadata": {},
   "source": [
    "| r | 1 | 2 | 3 | 4 |\n",
    "| - | - | - | - | - |\n",
    "| P(R = r) | $\\frac{1}{3}$ | $\\frac{2}{9}$ | $\\frac{4}{27}$ | $\\frac{8}{27}$ | "
   ]
  },
  {
   "cell_type": "markdown",
   "id": "131c2770-5454-44a7-81db-f73a879cc3ff",
   "metadata": {},
   "source": [
    "P(R = B) implies that the number of times rolled is equal to the number of blue faces that show up. Since the dice is not rolled if a yellow face appears, it must be rolled a maximum number of times and have all blue faces for P(R = B) to be satisfied. Hence,\n",
    "\n",
    "$$P(R = B) = \\frac{16}{81}$$"
   ]
  }
 ],
 "metadata": {
  "kernelspec": {
   "display_name": "Python 3 (ipykernel)",
   "language": "python",
   "name": "python3"
  },
  "language_info": {
   "codemirror_mode": {
    "name": "ipython",
    "version": 3
   },
   "file_extension": ".py",
   "mimetype": "text/x-python",
   "name": "python",
   "nbconvert_exporter": "python",
   "pygments_lexer": "ipython3",
   "version": "3.12.1"
  }
 },
 "nbformat": 4,
 "nbformat_minor": 5
}

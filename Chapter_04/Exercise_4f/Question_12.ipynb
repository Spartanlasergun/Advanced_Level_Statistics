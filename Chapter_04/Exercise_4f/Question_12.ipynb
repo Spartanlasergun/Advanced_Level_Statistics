{
 "cells": [
  {
   "cell_type": "markdown",
   "id": "c9ca3f83-d4e7-4885-8e27-78e5c466a224",
   "metadata": {},
   "source": [
    "# Question 12\n",
    "-----"
   ]
  },
  {
   "cell_type": "markdown",
   "id": "8367d13e-6bc5-4e40-8e36-9a3e0bf5c8e0",
   "metadata": {},
   "source": [
    "| x | 2 | 3 | 4 | 5 | 6 | 7 | 8 | 9 | 10 | 11 | 12 |\n",
    "| - | - | - | - | - | - | - | - | - | - | - | - |\n",
    "| P(X = x) | $\\frac{1}{25}$ | $\\frac{2}{25}$ | $\\frac{1}{25}$ | $\\frac{2}{25}$ | $\\frac{4}{25}$ | $\\frac{4}{25}$ | $\\frac{3}{25}$ | $\\frac{2}{25}$ | $\\frac{3}{25}$ | $\\frac{2}{25}$ | $\\frac{1}{25}$ |"
   ]
  },
  {
   "cell_type": "code",
   "execution_count": 1,
   "id": "30bd3c52-4363-464e-b4a2-306f4e3efa87",
   "metadata": {},
   "outputs": [
    {
     "name": "stdout",
     "output_type": "stream",
     "text": [
      "E(X) = 7.199999999999999\n"
     ]
    }
   ],
   "source": [
    "EX = (2/25) + (6/25) + (4/25) + (10/25) + (24/25) + (28/25) + (24/25) + (18/25) + (30/25) + (22/25) + (12/25)\n",
    "print(\"E(X) = \" + str(EX))"
   ]
  },
  {
   "cell_type": "code",
   "execution_count": 2,
   "id": "27f442b2-c725-4dbb-9055-61754125d28f",
   "metadata": {},
   "outputs": [
    {
     "name": "stdout",
     "output_type": "stream",
     "text": [
      "Club Profit = 75.00000000000017\n"
     ]
    }
   ],
   "source": [
    "losspergame = 7.5 - EX\n",
    "totalclubgain = losspergame * 250\n",
    "print(\"Club Profit = \" + str(totalclubgain))"
   ]
  }
 ],
 "metadata": {
  "kernelspec": {
   "display_name": "Python 3 (ipykernel)",
   "language": "python",
   "name": "python3"
  },
  "language_info": {
   "codemirror_mode": {
    "name": "ipython",
    "version": 3
   },
   "file_extension": ".py",
   "mimetype": "text/x-python",
   "name": "python",
   "nbconvert_exporter": "python",
   "pygments_lexer": "ipython3",
   "version": "3.12.1"
  }
 },
 "nbformat": 4,
 "nbformat_minor": 5
}

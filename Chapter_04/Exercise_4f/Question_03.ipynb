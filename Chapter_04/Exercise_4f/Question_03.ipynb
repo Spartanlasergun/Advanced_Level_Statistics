{
 "cells": [
  {
   "cell_type": "markdown",
   "id": "e0be0594-75bd-4290-9be5-b1f044c7def7",
   "metadata": {},
   "source": [
    "# Question 3\n",
    "-----"
   ]
  },
  {
   "cell_type": "markdown",
   "id": "c860d2f5-b863-43fc-9b17-349749e30c8f",
   "metadata": {},
   "source": [
    "$$k + 8k + 27k + 64k = 1$$\n",
    "\n",
    "$$100k = 1$$\n",
    "\n",
    "$$k = \\frac{1}{100}$$\n",
    "\n",
    "| r | 1 | 2 | 3 | 4 |\n",
    "| - | - | - | - | - |\n",
    "| P(X = x) | $\\frac{1}{100}$ | $\\frac{8}{100}$ | $\\frac{27}{100}$ | $\\frac{64}{100}$ |"
   ]
  },
  {
   "cell_type": "code",
   "execution_count": 1,
   "id": "eb24049e-0529-4a40-91b5-05669c3e336e",
   "metadata": {},
   "outputs": [
    {
     "name": "stdout",
     "output_type": "stream",
     "text": [
      "E(X) = 3.54\n"
     ]
    }
   ],
   "source": [
    "EX = (1/100) + (16/100) + (81/100) + (256/100)\n",
    "print(\"E(X) = \" + str(EX))"
   ]
  },
  {
   "cell_type": "code",
   "execution_count": 2,
   "id": "26c3dfb8-3e0c-4299-a0d0-54f484447417",
   "metadata": {},
   "outputs": [
    {
     "name": "stdout",
     "output_type": "stream",
     "text": [
      "Var(X) = 0.46839999999999904\n"
     ]
    }
   ],
   "source": [
    "def sq(x):\n",
    "    funk = pow(x ,2)\n",
    "    return funk\n",
    "    \n",
    "EX_2 = ((1/100) * sq(1)) +  ((8/100) * sq(2)) + ((27/100) * sq(3)) + ((64/100) * sq(4))\n",
    "Var = EX_2 - pow(EX, 2)\n",
    "print(\"Var(X) = \" + str(Var))"
   ]
  },
  {
   "cell_type": "code",
   "execution_count": 3,
   "id": "fd04ac68-4855-401c-987b-2819f48ee421",
   "metadata": {},
   "outputs": [
    {
     "name": "stdout",
     "output_type": "stream",
     "text": [
      "E(5R - 3) = 14.700000000000001\n",
      "Var(5R - 3) = 11.709999999999976\n"
     ]
    }
   ],
   "source": [
    "def fx(x):\n",
    "    func = (5 * x) - 3\n",
    "    return func\n",
    "E5Rm3 = (fx(1) * (1/100)) + (fx(2) * (8/100)) + (fx(3) * (27/100)) + (fx(4) * (64/100))\n",
    "Var5Rm3 = pow(5, 2) * Var\n",
    "print(\"E(5R - 3) = \" + str(E5Rm3))\n",
    "print(\"Var(5R - 3) = \" + str(Var5Rm3))"
   ]
  }
 ],
 "metadata": {
  "kernelspec": {
   "display_name": "Python 3 (ipykernel)",
   "language": "python",
   "name": "python3"
  },
  "language_info": {
   "codemirror_mode": {
    "name": "ipython",
    "version": 3
   },
   "file_extension": ".py",
   "mimetype": "text/x-python",
   "name": "python",
   "nbconvert_exporter": "python",
   "pygments_lexer": "ipython3",
   "version": "3.12.1"
  }
 },
 "nbformat": 4,
 "nbformat_minor": 5
}

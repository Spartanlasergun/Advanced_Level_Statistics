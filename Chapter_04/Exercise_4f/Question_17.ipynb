{
 "cells": [
  {
   "cell_type": "markdown",
   "id": "62c2a90c-382a-40af-a2fa-d944c7378105",
   "metadata": {},
   "source": [
    "# Question 17\n",
    "-----"
   ]
  },
  {
   "cell_type": "code",
   "execution_count": 1,
   "id": "acf62eb5-6aa7-43eb-a536-6a09dd848486",
   "metadata": {},
   "outputs": [
    {
     "name": "stdout",
     "output_type": "stream",
     "text": [
      "E(X) = 1.0\n",
      "Var(X) = 0.8000000000000003\n"
     ]
    }
   ],
   "source": [
    "EX = (6/15) + (6/15) + (3/15)\n",
    "EX_2 = (6/15) + (12/15) + (9/15)\n",
    "Var = EX_2 - pow(EX, 2)\n",
    "print(\"E(X) = \" + str(EX))\n",
    "print(\"Var(X) = \" + str(Var))"
   ]
  },
  {
   "cell_type": "code",
   "execution_count": 2,
   "id": "a2070b37-95e9-4363-b48f-2a245a2c08d8",
   "metadata": {},
   "outputs": [
    {
     "name": "stdout",
     "output_type": "stream",
     "text": [
      "E(X) = 0.6\n",
      "Var(X) = 0.24\n"
     ]
    }
   ],
   "source": [
    "GEX = 3/5\n",
    "EX_2 = 3/5\n",
    "Var = EX_2 - pow(GEX, 2)\n",
    "print(\"E(X) = \" + str(GEX))\n",
    "print(\"Var(X) = \" + str(Var))"
   ]
  },
  {
   "cell_type": "markdown",
   "id": "d89e8c8f-63f8-4afc-a934-029376a77955",
   "metadata": {},
   "source": [
    "| sg | 0 | 1 | 2 | 3 | 4 |\n",
    "| - | - | - | - | - | - |\n",
    "| P(SG = s) | $\\frac{10}{75}$ | $\\frac{27}{75}$ | $\\frac{24}{75}$ | $\\frac{11}{75}$ | $\\frac{3}{75}$ |"
   ]
  },
  {
   "cell_type": "code",
   "execution_count": 3,
   "id": "afe6e2b1-d738-47fa-bd2f-236a0c8ad5da",
   "metadata": {},
   "outputs": [
    {
     "name": "stdout",
     "output_type": "stream",
     "text": [
      "E(X) = 11.2\n",
      "Var(X) = 7.280000000000003\n"
     ]
    }
   ],
   "source": [
    "EXY = (1 * (27/75)) + (2 * (24/75)) + (3 * (11/75)) + (4 * (3/75))\n",
    "EXY_2 = (1 * (27/75)) + (4 * (24/75)) + (9 * (11/75)) + (16 * (3/75))\n",
    "Var = EXY_2 - pow(EXY, 2)\n",
    "print(\"E(X) = \" + str(7 * EXY))\n",
    "print(\"Var(X) = \" + str(7 * Var))"
   ]
  }
 ],
 "metadata": {
  "kernelspec": {
   "display_name": "Python 3 (ipykernel)",
   "language": "python",
   "name": "python3"
  },
  "language_info": {
   "codemirror_mode": {
    "name": "ipython",
    "version": 3
   },
   "file_extension": ".py",
   "mimetype": "text/x-python",
   "name": "python",
   "nbconvert_exporter": "python",
   "pygments_lexer": "ipython3",
   "version": "3.12.1"
  }
 },
 "nbformat": 4,
 "nbformat_minor": 5
}

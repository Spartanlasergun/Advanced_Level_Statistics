{
 "cells": [
  {
   "cell_type": "markdown",
   "id": "421eed14-ab48-43a9-97a1-67d195926fca",
   "metadata": {},
   "source": [
    "# Question 18\n",
    "-----"
   ]
  },
  {
   "cell_type": "markdown",
   "id": "5e4a8dac-a329-4174-8843-e4edc38f1dfb",
   "metadata": {},
   "source": [
    "| x | 1 | 2 | 3 | 4 | 5 | 6 | 7 | 8 | 9 | 10 | 11 | 12 |\n",
    "| - | - | - | - | - | - | - | - | - | - | - | - | - |\n",
    "| P(X = x) | $\\frac{1}{6}$ | $\\frac{1}{6}$ | $\\frac{1}{6}$ | $\\frac{1}{6}$ | $\\frac{1}{6}$ | 0 | $\\frac{1}{36}$ | $\\frac{1}{36}$ | $\\frac{1}{36}$ | $\\frac{1}{36}$ | $\\frac{1}{36}$ | $\\frac{1}{36}$ |"
   ]
  },
  {
   "cell_type": "code",
   "execution_count": 1,
   "id": "e0bb726c-f05a-48b3-99a2-495c0bfa0528",
   "metadata": {},
   "outputs": [
    {
     "name": "stdout",
     "output_type": "stream",
     "text": [
      "E(X) = 4.083333333333333\n"
     ]
    }
   ],
   "source": [
    "EX = (1/6) + (2/6) + (3/6) + (4/6) + (5/6) + (7/36) + (8/36) + (9/36) + (10/36) + (11/36) + (12/36)\n",
    "print(\"E(X) = \" + str(EX))"
   ]
  },
  {
   "cell_type": "code",
   "execution_count": 2,
   "id": "6045f18c-43e5-42ea-ac68-4e74a673e8ce",
   "metadata": {},
   "outputs": [
    {
     "name": "stdout",
     "output_type": "stream",
     "text": [
      "prob successive = 0.4722222222222222\n"
     ]
    }
   ],
   "source": [
    "successive = (((1/6) * (1/6)) * 10) + (7/36)\n",
    "print(\"prob successive = \" + str(successive))"
   ]
  },
  {
   "cell_type": "code",
   "execution_count": 3,
   "id": "f75642dd-b874-4509-93cf-57e2df62b246",
   "metadata": {},
   "outputs": [
    {
     "name": "stdout",
     "output_type": "stream",
     "text": [
      "prob = 0.35294117647058815\n"
     ]
    }
   ],
   "source": [
    "morethan7 = (((1/6) * (1/6)) * 16) + (7/36)\n",
    "given = (morethan7 - successive) / successive\n",
    "print(\"prob = \" + str(given))"
   ]
  }
 ],
 "metadata": {
  "kernelspec": {
   "display_name": "Python 3 (ipykernel)",
   "language": "python",
   "name": "python3"
  },
  "language_info": {
   "codemirror_mode": {
    "name": "ipython",
    "version": 3
   },
   "file_extension": ".py",
   "mimetype": "text/x-python",
   "name": "python",
   "nbconvert_exporter": "python",
   "pygments_lexer": "ipython3",
   "version": "3.12.1"
  }
 },
 "nbformat": 4,
 "nbformat_minor": 5
}

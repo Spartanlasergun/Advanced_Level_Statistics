{
 "cells": [
  {
   "cell_type": "markdown",
   "id": "97e13d66-89f2-4e8c-a609-8e9df083ffa2",
   "metadata": {},
   "source": [
    "# Question 2\n",
    "-----"
   ]
  },
  {
   "cell_type": "markdown",
   "id": "4a630886-46dd-4796-ab30-11454c93e973",
   "metadata": {},
   "source": [
    "| r | 1 | 2 | 3 | 4 |\n",
    "| --- | --- | --- | --- | --- |\n",
    "| F(r) | 0.13 | 0.54 | 0.75 | 1 |\n",
    "| P(R = r) | 0.13 | 0.41 | 0.21 | 0.25 |\n",
    "\n",
    "$$P(R = 2) = 0.41$$\n",
    "\n",
    "$$P(R > 1) = 0.41 + 0.21 + 0.25 = 0.87$$\n",
    "\n",
    "$$P(R \\ge 3) = 0.21 + 0.25 = 0.46$$\n",
    "\n",
    "$$P(R < 2) = 0.13$$\n",
    "\n",
    "$$E(R) = (0.13 * 1) + (0.41 * 2) + (0.21 * 3) + (0.25 * 4) = 2.58$$"
   ]
  }
 ],
 "metadata": {
  "kernelspec": {
   "display_name": "Python 3 (ipykernel)",
   "language": "python",
   "name": "python3"
  },
  "language_info": {
   "codemirror_mode": {
    "name": "ipython",
    "version": 3
   },
   "file_extension": ".py",
   "mimetype": "text/x-python",
   "name": "python",
   "nbconvert_exporter": "python",
   "pygments_lexer": "ipython3",
   "version": "3.12.1"
  }
 },
 "nbformat": 4,
 "nbformat_minor": 5
}

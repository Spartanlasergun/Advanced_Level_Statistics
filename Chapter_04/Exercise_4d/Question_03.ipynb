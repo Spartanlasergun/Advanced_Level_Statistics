{
 "cells": [
  {
   "cell_type": "markdown",
   "id": "8ba671e7-f480-4d0e-b11e-223579ce79fc",
   "metadata": {},
   "source": [
    "# Question 3\n",
    "-----"
   ]
  },
  {
   "cell_type": "markdown",
   "id": "dcdd7dc8-d47c-426a-a3f0-a90770fe050d",
   "metadata": {},
   "source": [
    "| x | 0 | 1 | 2 |\n",
    "| --- | --- | --- | --- |\n",
    "| P(X = x) | $\\frac{25}{36}$ | $\\frac{10}{36}$ | $\\frac{1}{36}$ |\n",
    "| F(x) | $\\frac{25}{36}$ | $\\frac{35}{36}$ | $\\frac{36}{36}$ |"
   ]
  },
  {
   "cell_type": "markdown",
   "id": "bbf8a082-c8cd-4a06-9906-1ee8a63c533c",
   "metadata": {},
   "source": [
    "| x | 1 | 2 | 3 | 4 | 5 | 6 |\n",
    "| --- | --- | --- | --- | --- | --- | --- |\n",
    "| P(X = x) | $\\frac{11}{36}$ | $\\frac{5}{9}$ | $\\frac{3}{4}$ | $\\frac{8}{9}$ | $\\frac{35}{36}$ | $\\frac{36}{36}$ |"
   ]
  },
  {
   "cell_type": "markdown",
   "id": "60f7642b-80e7-4e56-9f4a-8a46466ba015",
   "metadata": {},
   "source": [
    "| x | 0 | 1 | 2 | 3 |\n",
    "| --- | --- | --- | --- | --- |\n",
    "| P(X = x) | 0.125 | 0.375 | 0375 | 0.125 |\n",
    "| F(x) | 0.125 | 0.5 | 0.875 | 1 |"
   ]
  }
 ],
 "metadata": {
  "kernelspec": {
   "display_name": "Python 3 (ipykernel)",
   "language": "python",
   "name": "python3"
  },
  "language_info": {
   "codemirror_mode": {
    "name": "ipython",
    "version": 3
   },
   "file_extension": ".py",
   "mimetype": "text/x-python",
   "name": "python",
   "nbconvert_exporter": "python",
   "pygments_lexer": "ipython3",
   "version": "3.12.1"
  }
 },
 "nbformat": 4,
 "nbformat_minor": 5
}

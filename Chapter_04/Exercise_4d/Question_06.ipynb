{
 "cells": [
  {
   "cell_type": "markdown",
   "id": "671414ef-0739-4d53-b798-16887aa60d9b",
   "metadata": {},
   "source": [
    "# Question 6\n",
    "-----"
   ]
  },
  {
   "cell_type": "markdown",
   "id": "1cad70dc-1f5b-49f9-877d-8d24d4b124ff",
   "metadata": {},
   "source": [
    "$$3k = 1$$\n",
    "\n",
    "$$k = \\frac{1}{3}$$\n",
    "\n",
    "| x | 1 | 2 | 3 |\n",
    "| --- | --- | --- | --- |\n",
    "| F(x) |  $\\frac{1}{3}$ | $\\frac{2}{3}$ | $\\frac{3}{3}$ |\n",
    "| P(X = x) | $\\frac{1}{3}$ | $\\frac{1}{3}$ | $\\frac{1}{3}$ |\n",
    "\n",
    "$$P(X < 3) = \\frac{1}{3} + \\frac{1}{3} = \\frac{2}{3}$$"
   ]
  },
  {
   "cell_type": "code",
   "execution_count": 1,
   "id": "11afc85b-0c8f-4b4f-a6b1-41dcb79df0d6",
   "metadata": {},
   "outputs": [
    {
     "name": "stdout",
     "output_type": "stream",
     "text": [
      "std = 0.8164965809277257\n"
     ]
    }
   ],
   "source": [
    "import math\n",
    "\n",
    "EX = ((1/3) * 1) + ((1/3) * 2) + ((1/3) * 3)\n",
    "EX_2 = ((1/3) * 1) + ((1/3) * 4) + ((1/3) * 9)\n",
    "Var = EX_2 - pow(EX, 2)\n",
    "std = math.sqrt(Var)\n",
    "print(\"std = \" + str(std))"
   ]
  }
 ],
 "metadata": {
  "kernelspec": {
   "display_name": "Python 3 (ipykernel)",
   "language": "python",
   "name": "python3"
  },
  "language_info": {
   "codemirror_mode": {
    "name": "ipython",
    "version": 3
   },
   "file_extension": ".py",
   "mimetype": "text/x-python",
   "name": "python",
   "nbconvert_exporter": "python",
   "pygments_lexer": "ipython3",
   "version": "3.12.1"
  }
 },
 "nbformat": 4,
 "nbformat_minor": 5
}

{
 "cells": [
  {
   "cell_type": "markdown",
   "id": "bc715e54-c5f8-4c46-b1ae-fcb86f604ec6",
   "metadata": {},
   "source": [
    "# Question 7\n",
    "-----"
   ]
  },
  {
   "cell_type": "markdown",
   "id": "a4b7eae1-e7ad-4f41-af49-d59ec18dd528",
   "metadata": {},
   "source": [
    "$$F(x) = 1 - (1 - \\frac{x}{4})^x$$\n",
    "\n",
    "$$F(3) = 1 - (1 - \\frac{3}{4})^3 = \\frac{63}{64}$$\n",
    "\n",
    "$$F(2) = 1 - (1 - \\frac{2}{4})^2 = \\frac{3}{4}$$\n",
    "\n",
    "| x | 1 | 2 | 3 | 4 |\n",
    "| --- | --- | --- | --- | --- |\n",
    "| F(x) | $\\frac{1}{4}$ | $\\frac{3}{4}$ | $\\frac{63}{64}$ | $\\frac{64}{64}$ |\n",
    "| P(X = x) | $\\frac{1}{4}$ | $\\frac{1}{2}$ | $\\frac{15}{64}$ | $\\frac{1}{64}$ | "
   ]
  },
  {
   "cell_type": "code",
   "execution_count": 6,
   "id": "a8b2b9cd-b804-491a-b4f8-2fb3aa7e4a37",
   "metadata": {},
   "outputs": [
    {
     "name": "stdout",
     "output_type": "stream",
     "text": [
      "E(X) = 2.015625\n",
      "Var(X) = 0.546630859375\n"
     ]
    }
   ],
   "source": [
    "EX = ((1/4) * 1) + ((1/2) * 2) + ((15/64) * 3) + ((1/64) * 4)\n",
    "EX_2 = ((1/4) * 1) + ((1/2) * 4) + ((15/64) * 9) + ((1/64) * 16)\n",
    "Var = EX_2 - pow(EX, 2)\n",
    "print(\"E(X) = \" + str(EX))\n",
    "print(\"Var(X) = \" + str(Var))"
   ]
  },
  {
   "cell_type": "markdown",
   "id": "9b32e7a5-f9cb-4045-ac1b-94662a52d7ba",
   "metadata": {},
   "source": [
    "part d omitted due to ambiguity"
   ]
  }
 ],
 "metadata": {
  "kernelspec": {
   "display_name": "Python 3 (ipykernel)",
   "language": "python",
   "name": "python3"
  },
  "language_info": {
   "codemirror_mode": {
    "name": "ipython",
    "version": 3
   },
   "file_extension": ".py",
   "mimetype": "text/x-python",
   "name": "python",
   "nbconvert_exporter": "python",
   "pygments_lexer": "ipython3",
   "version": "3.12.1"
  }
 },
 "nbformat": 4,
 "nbformat_minor": 5
}

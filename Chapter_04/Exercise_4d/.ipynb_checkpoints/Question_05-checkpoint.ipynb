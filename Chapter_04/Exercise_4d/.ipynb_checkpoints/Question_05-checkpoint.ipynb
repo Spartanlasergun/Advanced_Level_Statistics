{
 "cells": [
  {
   "cell_type": "markdown",
   "id": "c4fa5000-a58d-4e3d-8658-924d31de4598",
   "metadata": {},
   "source": [
    "# Question 5\n",
    "-----"
   ]
  },
  {
   "cell_type": "code",
   "execution_count": 1,
   "id": "42f2190b-f186-4ab9-ba8e-fa0671dcc4d5",
   "metadata": {},
   "outputs": [
    {
     "name": "stdout",
     "output_type": "stream",
     "text": [
      "F(2) = 0.4444444444444444\n"
     ]
    }
   ],
   "source": [
    "F2 = pow(2, 2) / 9\n",
    "print(\"F(2) = \" + str(F2))"
   ]
  },
  {
   "cell_type": "markdown",
   "id": "73827e95-a5f7-4caf-a5a3-31c077cccfd5",
   "metadata": {},
   "source": [
    "| x | 1 | 2 | 3 |\n",
    "| --- | --- | --- | --- |\n",
    "| F(x) | $\\frac{1}{9}$ | $\\frac{4}{9}$ | $\\frac{9}{9}$ |\n",
    "| P(X = x) | $\\frac{1}{9}$ | $\\frac{3}{9}$ | $\\frac{5}{9}$ |\n",
    "\n",
    "$$P(X = 2) = \\frac{3}{9} $$"
   ]
  },
  {
   "cell_type": "code",
   "execution_count": 2,
   "id": "318e9190-c659-471a-a557-d88bcbdaa334",
   "metadata": {},
   "outputs": [
    {
     "name": "stdout",
     "output_type": "stream",
     "text": [
      "E(2x - 3) = 1.8888888888888888\n"
     ]
    }
   ],
   "source": [
    "def funk(x):\n",
    "    func = (2 * x) - 3\n",
    "    return func\n",
    "\n",
    "E2xm3 = ((1/9) * funk(1)) + ((3/9) * funk(2)) + ((5/9) * funk(3))\n",
    "print(\"E(2x - 3) = \" + str(E2xm3))"
   ]
  }
 ],
 "metadata": {
  "kernelspec": {
   "display_name": "Python 3 (ipykernel)",
   "language": "python",
   "name": "python3"
  },
  "language_info": {
   "codemirror_mode": {
    "name": "ipython",
    "version": 3
   },
   "file_extension": ".py",
   "mimetype": "text/x-python",
   "name": "python",
   "nbconvert_exporter": "python",
   "pygments_lexer": "ipython3",
   "version": "3.12.1"
  }
 },
 "nbformat": 4,
 "nbformat_minor": 5
}

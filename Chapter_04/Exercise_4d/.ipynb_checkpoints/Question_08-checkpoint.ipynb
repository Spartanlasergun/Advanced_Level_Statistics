{
 "cells": [
  {
   "cell_type": "markdown",
   "id": "7f4e12ef-a019-4079-ac15-43aea712a4f4",
   "metadata": {},
   "source": [
    "# Question 8\n",
    "-----"
   ]
  },
  {
   "cell_type": "markdown",
   "id": "a835c065-e3c9-44d0-ac9a-c739863fd4f2",
   "metadata": {},
   "source": [
    "| x | 0 | 1 | 2 | 3 | 4 | 5 | 6 | 7 | 8 | 9 | 10 | 11 | 12 |\n",
    "| - | - | - | - | - | - | - | - | - | - | - | - | - | - |\n",
    "| F(x) | 0.0115 | 0.0692 | 0.2061 | 0.4114 | 0.6296 | 0.8042 | 0.9133 | 0.9679 | 0.9900 | 0.9974 | 0.9994 | 0.9999 | 1 |\n",
    "| P(X = x) | 0.0115 | 0.0577 | 0.1369 | 0.2053 | 0.2182 | 0.1746 | 0.1091 | 0.0546 | 0.0221 | 0.0074 | 0.0020 | 0.0005 | 0.0001 |"
   ]
  },
  {
   "cell_type": "code",
   "execution_count": 1,
   "id": "71451859-e4af-470c-a1e6-4b50a4cb1abe",
   "metadata": {},
   "outputs": [
    {
     "name": "stdout",
     "output_type": "stream",
     "text": [
      "P(X le 8) = 0.99\n"
     ]
    }
   ],
   "source": [
    "L8 = 0.0546 + 0.1091 + 0.1746 + 0.2182 + 0.2053 + 0.1369 + 0.0577 + 0.0115 + 0.0221\n",
    "print(\"P(X le 8) = \" + str(L8))"
   ]
  },
  {
   "cell_type": "code",
   "execution_count": 2,
   "id": "7d3a59c1-94fe-412c-b620-cb87cb036867",
   "metadata": {},
   "outputs": [
    {
     "name": "stdout",
     "output_type": "stream",
     "text": [
      "P(X = 5) = 0.1746\n"
     ]
    }
   ],
   "source": [
    "print(\"P(X = 5) = 0.1746\")"
   ]
  },
  {
   "cell_type": "code",
   "execution_count": 3,
   "id": "fd5f89bb-2fda-4430-8063-9a4c1a519661",
   "metadata": {},
   "outputs": [
    {
     "name": "stdout",
     "output_type": "stream",
     "text": [
      "P(X ge 4) = 0.5885999999999999\n"
     ]
    }
   ],
   "source": [
    "G4 = 0.2182 + 0.1746 + 0.1091 + 0.0546 + 0.0221 + 0.0074 + 0.0020 + 0.0005 + 0.0001\n",
    "print(\"P(X ge 4) = \" + str(G4))"
   ]
  },
  {
   "cell_type": "code",
   "execution_count": 4,
   "id": "509301d2-ad86-462d-8237-7bdeb2f5a9af",
   "metadata": {},
   "outputs": [
    {
     "name": "stdout",
     "output_type": "stream",
     "text": [
      "P(3 < X le 7) = 0.5565\n"
     ]
    }
   ],
   "source": [
    "G3L7 = 0.2182 + 0.1746 + 0.1091 + 0.0546\n",
    "print(\"P(3 < X le 7) = \" + str(G3L7))"
   ]
  },
  {
   "cell_type": "code",
   "execution_count": 5,
   "id": "66086a50-5548-4107-9876-36f07e3874b8",
   "metadata": {},
   "outputs": [
    {
     "name": "stdout",
     "output_type": "stream",
     "text": [
      "P(1 le X < 9) = 0.9785\n"
     ]
    }
   ],
   "source": [
    "GE1L9 = 0.0577 + 0.1369 + 0.2053 + 0.2182 + 0.1746 + 0.1091 + 0.0546 + 0.0221\n",
    "print(\"P(1 le X < 9) = \" + str(GE1L9))"
   ]
  }
 ],
 "metadata": {
  "kernelspec": {
   "display_name": "Python 3 (ipykernel)",
   "language": "python",
   "name": "python3"
  },
  "language_info": {
   "codemirror_mode": {
    "name": "ipython",
    "version": 3
   },
   "file_extension": ".py",
   "mimetype": "text/x-python",
   "name": "python",
   "nbconvert_exporter": "python",
   "pygments_lexer": "ipython3",
   "version": "3.12.1"
  }
 },
 "nbformat": 4,
 "nbformat_minor": 5
}

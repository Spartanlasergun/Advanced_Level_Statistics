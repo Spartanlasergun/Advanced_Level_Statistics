{
 "cells": [
  {
   "cell_type": "markdown",
   "id": "9e2c8ac4-883b-406b-9864-d8302650cf19",
   "metadata": {},
   "source": [
    "# Question 4\n",
    "-----"
   ]
  },
  {
   "cell_type": "markdown",
   "id": "49d4ba87-657b-42b7-ba00-bfd37a1b6517",
   "metadata": {},
   "source": [
    "| x | 3 | 4 | 5 | 6 | 7 |\n",
    "| --- | --- | --- | --- | --- | --- |\n",
    "| F(x) | 0.01 | 0.23 | 0.64 | 0.86 | 1 |\n",
    "| P(X = x) | 0.01 | 0.22 | 0.41 | 0.22 | 0.14 |"
   ]
  },
  {
   "cell_type": "code",
   "execution_count": 1,
   "id": "9bac23f9-251c-4fda-956b-0f0db8a75f82",
   "metadata": {},
   "outputs": [
    {
     "name": "stdout",
     "output_type": "stream",
     "text": [
      "Var(X) = 0.9723999999999933\n"
     ]
    }
   ],
   "source": [
    "EX = (0.01 * 3) + (0.22 * 4) + (0.41 * 5) + (0.22 * 6) + (0.14 * 7)\n",
    "\n",
    "def sq(x):\n",
    "    func = pow(x, 2)\n",
    "    return func\n",
    "\n",
    "EX_2 = (0.01 * sq(3)) + (0.22 * sq(4)) + (0.41 * sq(5)) + (0.22 * sq(6)) + (0.14 * sq(7))\n",
    "Var = EX_2 - pow(EX, 2)\n",
    "print(\"Var(X) = \" + str(Var))"
   ]
  }
 ],
 "metadata": {
  "kernelspec": {
   "display_name": "Python 3 (ipykernel)",
   "language": "python",
   "name": "python3"
  },
  "language_info": {
   "codemirror_mode": {
    "name": "ipython",
    "version": 3
   },
   "file_extension": ".py",
   "mimetype": "text/x-python",
   "name": "python",
   "nbconvert_exporter": "python",
   "pygments_lexer": "ipython3",
   "version": "3.12.1"
  }
 },
 "nbformat": 4,
 "nbformat_minor": 5
}

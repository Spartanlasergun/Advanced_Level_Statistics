{
 "cells": [
  {
   "cell_type": "markdown",
   "id": "33c05d88-d82c-48d4-af9d-e2d723b129f3",
   "metadata": {},
   "source": [
    "# Question 1\n",
    "-----"
   ]
  },
  {
   "cell_type": "markdown",
   "id": "6330f3f4-de81-43db-9aef-63eb9e1591e9",
   "metadata": {},
   "source": [
    "| x | 0.1 | 0.2 | 0.3 | 0.4 | 0.5 |\n",
    "| --- | --- | --- | --- | --- | --- |\n",
    "| P(X = x) | 0.05 | 0.25 | 0.30 | 0.15 | 0.25 |\n",
    "| F(x) | 0.05 | 0.30 | 0.60 | 0.75 | 1 |"
   ]
  }
 ],
 "metadata": {
  "kernelspec": {
   "display_name": "Python 3 (ipykernel)",
   "language": "python",
   "name": "python3"
  },
  "language_info": {
   "codemirror_mode": {
    "name": "ipython",
    "version": 3
   },
   "file_extension": ".py",
   "mimetype": "text/x-python",
   "name": "python",
   "nbconvert_exporter": "python",
   "pygments_lexer": "ipython3",
   "version": "3.12.1"
  }
 },
 "nbformat": 4,
 "nbformat_minor": 5
}

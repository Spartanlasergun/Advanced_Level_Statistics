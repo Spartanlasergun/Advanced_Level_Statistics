{
 "cells": [
  {
   "cell_type": "markdown",
   "id": "6124cdc5-3167-46c7-b097-6e3d2aa065e5",
   "metadata": {},
   "source": [
    "# Question 3\n",
    "-----"
   ]
  },
  {
   "cell_type": "markdown",
   "id": "636ffff6-fb5c-49d2-ae6f-8f12509adc26",
   "metadata": {},
   "source": [
    "| x | 0 | 1 | 2 | 3 | 4 | 5 |\n",
    "| - | - | - | - | - | - | - |\n",
    "| P(X = x) | $\\frac{6}{36}$ | $\\frac{10}{36}$ | $\\frac{8}{36}$ | $\\frac{6}{36}$ | $\\frac{4}{36}$ | $\\frac{2}{36}$ |"
   ]
  },
  {
   "cell_type": "code",
   "execution_count": 1,
   "id": "18f50722-8f6a-4226-abc7-a12e189774bd",
   "metadata": {},
   "outputs": [
    {
     "name": "stdout",
     "output_type": "stream",
     "text": [
      "E(X) = 1.9444444444444446\n"
     ]
    }
   ],
   "source": [
    "EX = (10/36) + ((8/36) * 2) + ((6/36) * 3) + ((4/36) * 4) + ((2/36) * 5)\n",
    "print(\"E(X) = \" + str(EX))"
   ]
  },
  {
   "cell_type": "markdown",
   "id": "b01874f5-593d-49fb-a7f8-bbdbf74e7ad2",
   "metadata": {},
   "source": [
    "$$P(X < 1.39) = \\frac{6}{36} + \\frac{10}{36} = \\frac{16}{36}$$"
   ]
  }
 ],
 "metadata": {
  "kernelspec": {
   "display_name": "Python 3 (ipykernel)",
   "language": "python",
   "name": "python3"
  },
  "language_info": {
   "codemirror_mode": {
    "name": "ipython",
    "version": 3
   },
   "file_extension": ".py",
   "mimetype": "text/x-python",
   "name": "python",
   "nbconvert_exporter": "python",
   "pygments_lexer": "ipython3",
   "version": "3.12.1"
  }
 },
 "nbformat": 4,
 "nbformat_minor": 5
}

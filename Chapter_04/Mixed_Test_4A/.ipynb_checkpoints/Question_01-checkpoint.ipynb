{
 "cells": [
  {
   "cell_type": "markdown",
   "id": "f0ac7952-31c6-4657-8b39-f8a9218ac087",
   "metadata": {},
   "source": [
    "# Question 1\n",
    "-----"
   ]
  },
  {
   "cell_type": "code",
   "execution_count": 1,
   "id": "28bbef11-c61a-466b-a571-46c71ca255d1",
   "metadata": {},
   "outputs": [
    {
     "name": "stdout",
     "output_type": "stream",
     "text": [
      "k = 0.19999999999999996\n"
     ]
    }
   ],
   "source": [
    "k = 1 - (0.1 + 0.3 + 0.25 + 0.15)\n",
    "print(\"k = \" + str(k))"
   ]
  },
  {
   "cell_type": "markdown",
   "id": "0d9b3c94-f441-4147-80a9-9f096fc45bbf",
   "metadata": {},
   "source": [
    "$$E(X) = (1 * 0.1) + (0.3 * 3) + (0.2 * 6) + (0.25n) + (12 * 0.15)$$\n",
    "\n",
    "Since $E(X) = 6.0$\n",
    "\n",
    "$$6 = 4 + 0.25n$$\n",
    "\n",
    "$$0.25n = 2$$\n",
    "\n",
    "$$n = 8$$"
   ]
  },
  {
   "cell_type": "code",
   "execution_count": 2,
   "id": "c1499a6a-eea6-43a1-b556-7509b74c3947",
   "metadata": {},
   "outputs": [
    {
     "name": "stdout",
     "output_type": "stream",
     "text": [
      "Var(X) = 11.599999999999994\n"
     ]
    }
   ],
   "source": [
    "EX_2 = (0.1 * 1) + (0.3 * 9) + (0.2 * 36) + (0.25 * 64) + (0.15 * 144)\n",
    "Var = EX_2 - pow(6, 2)\n",
    "print(\"Var(X) = \" + str(Var))"
   ]
  }
 ],
 "metadata": {
  "kernelspec": {
   "display_name": "Python 3 (ipykernel)",
   "language": "python",
   "name": "python3"
  },
  "language_info": {
   "codemirror_mode": {
    "name": "ipython",
    "version": 3
   },
   "file_extension": ".py",
   "mimetype": "text/x-python",
   "name": "python",
   "nbconvert_exporter": "python",
   "pygments_lexer": "ipython3",
   "version": "3.12.1"
  }
 },
 "nbformat": 4,
 "nbformat_minor": 5
}

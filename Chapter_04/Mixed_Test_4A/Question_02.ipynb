{
 "cells": [
  {
   "cell_type": "markdown",
   "id": "3f3f34ac-7c7a-4dc6-8662-7b7394905f6b",
   "metadata": {},
   "source": [
    "# Question 2\n",
    "-----"
   ]
  },
  {
   "cell_type": "markdown",
   "id": "82bc147f-28a5-4765-9667-d7dab8adb4f8",
   "metadata": {},
   "source": [
    "| x | Die | Single | Divide |\n",
    "| - | - | - | - |\n",
    "| P(X = x) | $\\frac{1}{2}$ | $\\frac{1}{3}$ | $\\frac{1}{6}$ |  "
   ]
  },
  {
   "cell_type": "code",
   "execution_count": 1,
   "id": "a6fb222f-f152-45b9-bd75-e8f5703c736f",
   "metadata": {},
   "outputs": [
    {
     "name": "stdout",
     "output_type": "stream",
     "text": [
      "P(X = 2) = 0.27777777777777773\n"
     ]
    }
   ],
   "source": [
    "PX2 = ((1/2) * (1/6)) + ((1/3) * (1/3)) + ((1/6) * (1/2))\n",
    "print(\"P(X = 2) = \" + str(PX2))"
   ]
  },
  {
   "cell_type": "markdown",
   "id": "c273e9de-a83d-4a45-ade1-e80e004db2bb",
   "metadata": {},
   "source": [
    "| x | 0 | 1 | 2 | 3 | 4 |\n",
    "| - | - | - | - | - | - |\n",
    "| P(X = x) | 0.25 | 0.333 | 0.2778 | 0.111 | 0.02778 |"
   ]
  },
  {
   "cell_type": "code",
   "execution_count": 2,
   "id": "6a5deacf-04e4-4beb-ae3d-721d4cf2191b",
   "metadata": {},
   "outputs": [
    {
     "name": "stdout",
     "output_type": "stream",
     "text": [
      "E(X) = 1.3327200000000001\n"
     ]
    }
   ],
   "source": [
    "EX = (0.333) + (2 * 0.2778) + (3 * 0.111) + (4 * 0.02778)\n",
    "print(\"E(X) = \" + str(EX))"
   ]
  },
  {
   "cell_type": "code",
   "execution_count": 3,
   "id": "5f920302-36b0-4f17-93d5-88fc23141a23",
   "metadata": {},
   "outputs": [
    {
     "name": "stdout",
     "output_type": "stream",
     "text": [
      "Var(X) = 1.1115374015999997\n"
     ]
    }
   ],
   "source": [
    "EX_2 = (0.333) + (4 * 0.2778) + (9 * 0.111) + (16 * 0.02778)\n",
    "Var = EX_2 - pow(EX, 2)\n",
    "print(\"Var(X) = \" + str(Var))"
   ]
  },
  {
   "cell_type": "markdown",
   "id": "aebda69b-68f3-4843-a49a-923b459c4545",
   "metadata": {},
   "source": [
    "| z | -4 | -3 | -2 | -1 | 0 | 1 | 2  |3 | 4 | \n",
    "| - | - | - | - | - | - | - | - | - | - |\n",
    "| P(Z = z) | 0.006945 | 0.0347 | 0.11415 | 0.2097 | 0.264 | 0.2097 | 0.11415 | 0.0347 | 0.006945 |"
   ]
  },
  {
   "cell_type": "code",
   "execution_count": 4,
   "id": "3ba562e7-7a2e-4aff-ac26-35e2acd29c3b",
   "metadata": {},
   "outputs": [
    {
     "name": "stdout",
     "output_type": "stream",
     "text": [
      "E(Z) = 0.0\n"
     ]
    }
   ],
   "source": [
    "EZ = (-4 * 0.006945) + (-3 * 0.0347) + (-2 * 0.11415) + (-1 * 0.2097) + (4 * 0.006945) + (3 * 0.0347) + (2 * 0.11415) + (1 * 0.2097)\n",
    "print(\"E(Z) = \" + str(round(EZ, 2)))"
   ]
  },
  {
   "cell_type": "code",
   "execution_count": 5,
   "id": "8209b33b-ee96-4a8e-94dd-f5b049ac7208",
   "metadata": {},
   "outputs": [
    {
     "name": "stdout",
     "output_type": "stream",
     "text": [
      "Var(Z) = 2.1794399999999996\n"
     ]
    }
   ],
   "source": [
    "EZ_2 = (16 * 0.006945) + (9 * 0.0347) + (4 * 0.11415) + (1 * 0.2097) + (16 * 0.006945) + (9 * 0.0347) + (4 * 0.11415) + (1 * 0.2097)\n",
    "Var = EZ_2 - pow(EZ, 2)\n",
    "print(\"Var(Z) = \" + str(Var))"
   ]
  }
 ],
 "metadata": {
  "kernelspec": {
   "display_name": "Python 3 (ipykernel)",
   "language": "python",
   "name": "python3"
  },
  "language_info": {
   "codemirror_mode": {
    "name": "ipython",
    "version": 3
   },
   "file_extension": ".py",
   "mimetype": "text/x-python",
   "name": "python",
   "nbconvert_exporter": "python",
   "pygments_lexer": "ipython3",
   "version": "3.12.1"
  }
 },
 "nbformat": 4,
 "nbformat_minor": 5
}

{
 "cells": [
  {
   "cell_type": "markdown",
   "id": "0f2bbdde-7ef8-4d48-9c07-82716fb32ddd",
   "metadata": {},
   "source": [
    "# Question 2\n",
    "-----"
   ]
  },
  {
   "cell_type": "markdown",
   "id": "84ce8bf2-5fbe-4b59-ae55-e8b39cb5afcd",
   "metadata": {},
   "source": [
    "| x | 4 | 5 | 6 | 8 | 9 |\n",
    "| - | - | - | - | - | - |\n",
    "| P(X = x) | $\\frac{1}{15}$ | $\\frac{6}{15}$ | $\\frac{3}{15}$ | $\\frac{2}{15}$ | $\\frac{3}{15}$ |"
   ]
  },
  {
   "cell_type": "code",
   "execution_count": 1,
   "id": "f8f58f24-437c-4b2a-a7ab-c0d88a2d1515",
   "metadata": {},
   "outputs": [
    {
     "name": "stdout",
     "output_type": "stream",
     "text": [
      "E(X) = 6.333333333333333\n"
     ]
    }
   ],
   "source": [
    "EX = (4/15) + (30/15) + (18/15) + (16/15) + (27/15)\n",
    "print(\"E(X) = \" + str(EX))"
   ]
  },
  {
   "cell_type": "code",
   "execution_count": 2,
   "id": "49ff4e18-d5fc-47ab-b711-717f4b1441ce",
   "metadata": {},
   "outputs": [
    {
     "name": "stdout",
     "output_type": "stream",
     "text": [
      "E(X^2) = 43.0\n"
     ]
    }
   ],
   "source": [
    "def sq(x):\n",
    "    sqr = pow(x, 2)\n",
    "    return sqr\n",
    "EX_2 = (sq(4) * (1/15)) + (sq(5) * (6/15)) + (sq(6) * (3/15)) + (sq(8) * (2/15)) + (sq(9) * (3/15))\n",
    "print(\"E(X^2) = \" + str(EX_2))"
   ]
  },
  {
   "cell_type": "code",
   "execution_count": 3,
   "id": "69992dfd-ca83-44a5-aac0-741283d05c43",
   "metadata": {},
   "outputs": [
    {
     "name": "stdout",
     "output_type": "stream",
     "text": [
      "Var(X) = 2.888888888888893\n"
     ]
    }
   ],
   "source": [
    "Var = EX_2 - pow(EX, 2)\n",
    "print(\"Var(X) = \" + str(Var))"
   ]
  },
  {
   "cell_type": "code",
   "execution_count": 4,
   "id": "d1a7071b-4d7c-4db7-912a-a51bab6b6685",
   "metadata": {},
   "outputs": [
    {
     "name": "stdout",
     "output_type": "stream",
     "text": [
      "Expected Profit = -1.0\n"
     ]
    }
   ],
   "source": [
    "expectedprofit = (0.1 * (30 * EX)) - 20\n",
    "print(\"Expected Profit = \" + str(expectedprofit))"
   ]
  },
  {
   "cell_type": "markdown",
   "id": "765ae8bc-4b61-444a-b813-71055f57e295",
   "metadata": {},
   "source": [
    "for the game to be fair,\n",
    "\n",
    "$$k * (30 * 6.3333) = 20$$\n",
    "\n",
    "$$k = \\frac{20}{30 * 6.3333} = 0.105$$"
   ]
  }
 ],
 "metadata": {
  "kernelspec": {
   "display_name": "Python 3 (ipykernel)",
   "language": "python",
   "name": "python3"
  },
  "language_info": {
   "codemirror_mode": {
    "name": "ipython",
    "version": 3
   },
   "file_extension": ".py",
   "mimetype": "text/x-python",
   "name": "python",
   "nbconvert_exporter": "python",
   "pygments_lexer": "ipython3",
   "version": "3.12.1"
  }
 },
 "nbformat": 4,
 "nbformat_minor": 5
}

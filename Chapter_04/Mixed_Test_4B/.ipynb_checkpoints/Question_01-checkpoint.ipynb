{
 "cells": [
  {
   "cell_type": "markdown",
   "id": "639bde08-696b-4d19-946d-dfcd390b69d1",
   "metadata": {},
   "source": [
    "# Question 1\n",
    "-----"
   ]
  },
  {
   "cell_type": "code",
   "execution_count": 1,
   "id": "b67e840a-5b0c-4ff6-bbfe-b46d3607b676",
   "metadata": {},
   "outputs": [
    {
     "name": "stdout",
     "output_type": "stream",
     "text": [
      "a) 0.4\n"
     ]
    }
   ],
   "source": [
    "a = 0.3 + 0.1\n",
    "print(\"a) \" + str(a))"
   ]
  },
  {
   "cell_type": "markdown",
   "id": "d6fe3e9a-57d7-4337-8e3c-fea3f09a87c7",
   "metadata": {},
   "source": [
    "| x | 1 | 2 | 3 | 4 | 5 |\n",
    "| - | - | - | - | - | - |\n",
    "| P(X = x) | 0.2 | 0.3 | 0.3 | 0.1 | 0.1 |\n",
    "| F(X) | 0.2 | 0.5 | 0.8 | 0.9 | 1 |"
   ]
  },
  {
   "cell_type": "code",
   "execution_count": 2,
   "id": "71b868eb-2236-4e3c-b299-5d524ebdf72c",
   "metadata": {},
   "outputs": [
    {
     "name": "stdout",
     "output_type": "stream",
     "text": [
      "b) 0.8\n"
     ]
    }
   ],
   "source": [
    "print(\"b) 0.8\")"
   ]
  },
  {
   "cell_type": "code",
   "execution_count": 3,
   "id": "7ae5e77f-728c-4c51-8003-dec7c8ac046a",
   "metadata": {},
   "outputs": [
    {
     "name": "stdout",
     "output_type": "stream",
     "text": [
      "c) E(X) = 2.6\n"
     ]
    }
   ],
   "source": [
    "EX = 0.2 + (0.3 * 2) + (0.3 * 3) + (0.1 * 4) + (0.1 * 5)\n",
    "print(\"c) E(X) = \" + str(EX))"
   ]
  },
  {
   "cell_type": "code",
   "execution_count": 4,
   "id": "15d5ee91-3f49-4501-803d-333384959a18",
   "metadata": {},
   "outputs": [
    {
     "name": "stdout",
     "output_type": "stream",
     "text": [
      "d) Var(X) = 1.4399999999999986\n"
     ]
    }
   ],
   "source": [
    "EX_2 = 0.2 + (0.3 * 4) + (0.3 * 9) + (0.1 * 16) + (0.1 * 25)\n",
    "Var = EX_2 - pow(EX, 2)\n",
    "print(\"d) Var(X) = \" + str(Var))"
   ]
  },
  {
   "cell_type": "code",
   "execution_count": 5,
   "id": "176fc5eb-9a96-486d-a205-66274cf6b78c",
   "metadata": {},
   "outputs": [
    {
     "name": "stdout",
     "output_type": "stream",
     "text": [
      "e) E(X^2 + 4X - 3) = 15.600000000000001\n"
     ]
    }
   ],
   "source": [
    "def fx(x):\n",
    "    funk = (pow(x, 2)) + (4 * x) - 3\n",
    "    return funk\n",
    "EFX = (0.2 * fx(1)) + (0.3 * fx(2)) + (0.3 * fx(3)) + (0.1 * fx(4)) + (0.1 * fx(5))\n",
    "print(\"e) E(X^2 + 4X - 3) = \" + str(EFX))"
   ]
  }
 ],
 "metadata": {
  "kernelspec": {
   "display_name": "Python 3 (ipykernel)",
   "language": "python",
   "name": "python3"
  },
  "language_info": {
   "codemirror_mode": {
    "name": "ipython",
    "version": 3
   },
   "file_extension": ".py",
   "mimetype": "text/x-python",
   "name": "python",
   "nbconvert_exporter": "python",
   "pygments_lexer": "ipython3",
   "version": "3.12.1"
  }
 },
 "nbformat": 4,
 "nbformat_minor": 5
}

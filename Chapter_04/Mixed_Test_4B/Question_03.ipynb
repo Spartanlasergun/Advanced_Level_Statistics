{
 "cells": [
  {
   "cell_type": "markdown",
   "id": "30176275-9e8a-4415-9caf-41170f821d06",
   "metadata": {},
   "source": [
    "# Question 3\n",
    "-----"
   ]
  },
  {
   "cell_type": "markdown",
   "id": "b6dbdfe6-4907-408e-a6d4-9d5f927e14c4",
   "metadata": {},
   "source": [
    "| s | 1 | 2 | 3 | 4 | 6 | 12 |\n",
    "| - | - | - | - | - | - | - |\n",
    "| P(S = s) | 0.125 | 0.25 | 0.125 | 0.125 | 0.25 | 0.125 |"
   ]
  },
  {
   "cell_type": "code",
   "execution_count": 1,
   "id": "5729703d-cd80-47f7-815e-89f53ac49f9a",
   "metadata": {},
   "outputs": [
    {
     "name": "stdout",
     "output_type": "stream",
     "text": [
      "E(X) = 4.5\n"
     ]
    }
   ],
   "source": [
    "EX = (0.125) + (2 * 0.25) + (3 * 0.125) + (4 * 0.125) + (6 * 0.25) + (12 * 0.125)\n",
    "print(\"E(X) = \" + str(EX))"
   ]
  },
  {
   "cell_type": "code",
   "execution_count": 2,
   "id": "e27c5da6-9380-4a0a-adea-3f046749915b",
   "metadata": {},
   "outputs": [
    {
     "name": "stdout",
     "output_type": "stream",
     "text": [
      "Var(X) = 11.0\n"
     ]
    }
   ],
   "source": [
    "EX_2 = (0.125) + (4 * 0.25) + (9 * 0.125) + (16 * 0.125) + (36 * 0.25) + (144 * 0.125)\n",
    "Var = EX_2 - pow(EX, 2)\n",
    "print(\"Var(X) = \" + str(Var))"
   ]
  }
 ],
 "metadata": {
  "kernelspec": {
   "display_name": "Python 3 (ipykernel)",
   "language": "python",
   "name": "python3"
  },
  "language_info": {
   "codemirror_mode": {
    "name": "ipython",
    "version": 3
   },
   "file_extension": ".py",
   "mimetype": "text/x-python",
   "name": "python",
   "nbconvert_exporter": "python",
   "pygments_lexer": "ipython3",
   "version": "3.12.1"
  }
 },
 "nbformat": 4,
 "nbformat_minor": 5
}

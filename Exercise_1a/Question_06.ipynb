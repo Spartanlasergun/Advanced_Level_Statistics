{
 "cells": [
  {
   "cell_type": "code",
   "execution_count": 4,
   "id": "7b1a0a7d",
   "metadata": {},
   "outputs": [
    {
     "name": "stdout",
     "output_type": "stream",
     "text": [
      "The time taken for the journey is 7.4 hours\n",
      "The width of the interval is 0.5, or half an hour.\n"
     ]
    }
   ],
   "source": [
    "# (a)\n",
    "print(\"The time taken for the journey is 7.4 hours\")\n",
    "print(\"The width of the interval is 0.5, or half an hour.\")"
   ]
  },
  {
   "cell_type": "code",
   "execution_count": 5,
   "id": "7c46162d",
   "metadata": {},
   "outputs": [
    {
     "name": "stdout",
     "output_type": "stream",
     "text": [
      "The masses of the components are 0.074g.\n",
      "The width of the interval is 0.005g.\n"
     ]
    }
   ],
   "source": [
    "# (b)\n",
    "print(\"The masses of the components are 0.074g.\")\n",
    "print(\"The width of the interval is 0.005g.\")"
   ]
  }
 ],
 "metadata": {
  "kernelspec": {
   "display_name": "Python 3 (ipykernel)",
   "language": "python",
   "name": "python3"
  },
  "language_info": {
   "codemirror_mode": {
    "name": "ipython",
    "version": 3
   },
   "file_extension": ".py",
   "mimetype": "text/x-python",
   "name": "python",
   "nbconvert_exporter": "python",
   "pygments_lexer": "ipython3",
   "version": "3.10.7"
  }
 },
 "nbformat": 4,
 "nbformat_minor": 5
}

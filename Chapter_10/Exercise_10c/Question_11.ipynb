{
 "cells": [
  {
   "cell_type": "markdown",
   "id": "209bd5ee-a9f4-4c94-9e2a-9c69617a075a",
   "metadata": {},
   "source": [
    "# Question 11\n",
    "-----"
   ]
  },
  {
   "cell_type": "code",
   "execution_count": 1,
   "id": "3a46933b-ffa7-49c4-b7a0-6152868257ed",
   "metadata": {},
   "outputs": [],
   "source": [
    "import math\n",
    "\n",
    "class poisson:\n",
    "    def __init__(self, lamb):\n",
    "        self.lamb = lamb\n",
    "\n",
    "    def prob(self, x):\n",
    "        pois = math.exp(-self.lamb) * (pow(self.lamb, x) / math.factorial(x))\n",
    "        return pois\n",
    "\n",
    "    def freq(self, event, sample):\n",
    "        freq = self.prob(event) * sample \n",
    "        freq = round(freq, 0)\n",
    "        return freq"
   ]
  },
  {
   "cell_type": "code",
   "execution_count": 2,
   "id": "d0877cd7-9c01-4229-9e2b-e660ff48aeab",
   "metadata": {},
   "outputs": [
    {
     "name": "stdout",
     "output_type": "stream",
     "text": [
      "P(X >= 2) = 0.005734092428477999\n"
     ]
    }
   ],
   "source": [
    "mean = 10/90\n",
    "pois_dist = poisson(mean)\n",
    "PXE0 = pois_dist.prob(0)\n",
    "PXE1 = pois_dist.prob(1)\n",
    "PXGE2 = 1 - (PXE0 + PXE1)\n",
    "print(\"P(X >= 2) = \" + str(PXGE2))"
   ]
  },
  {
   "cell_type": "markdown",
   "id": "23c2db29-fd61-4c06-ab3f-b7d103974b07",
   "metadata": {},
   "source": [
    "$$e^{-\\lambda} = 0.9$$\n",
    "\n",
    "$$-\\lambda = \\ln 0.9$$\n",
    "\n",
    "$$-t = 90 * (\\ln 0.9)$$\n",
    "\n",
    "$$t = -90 * (\\ln 0.9)$$\n",
    "\n",
    "$$t = 9.48 \\approx 9 \\ \\ minutes$$"
   ]
  },
  {
   "cell_type": "markdown",
   "id": "7bbdf83c-e87d-4a5d-a2b7-f3aa4c63b6e3",
   "metadata": {},
   "source": [
    "$$H_0: \\lambda = \\frac{1}{90}$$\n",
    "\n",
    "$$H_1: \\lambda > \\frac{1}{90}$$"
   ]
  },
  {
   "cell_type": "code",
   "execution_count": 3,
   "id": "be10da84-484f-4bb8-9c24-c2645cf191a3",
   "metadata": {},
   "outputs": [
    {
     "name": "stdout",
     "output_type": "stream",
     "text": [
      "do not reject the null\n"
     ]
    }
   ],
   "source": [
    "mean = (1/90) * (12 * 60)\n",
    "pois_dist = poisson(mean)\n",
    "prob = 0\n",
    "x = 0\n",
    "while x <= 10:\n",
    "    prob = prob + pois_dist.prob(x)\n",
    "    x = x + 1\n",
    "test = 1 - prob\n",
    "if test > 0.05:\n",
    "    print(\"do not reject the null\")\n",
    "else:\n",
    "    print(\"reject the null\")"
   ]
  },
  {
   "cell_type": "markdown",
   "id": "354df3a4-0bf4-4c93-8701-9c8c44209c8d",
   "metadata": {},
   "source": [
    "The increase in calls is not significant"
   ]
  }
 ],
 "metadata": {
  "kernelspec": {
   "display_name": "Python 3 (ipykernel)",
   "language": "python",
   "name": "python3"
  },
  "language_info": {
   "codemirror_mode": {
    "name": "ipython",
    "version": 3
   },
   "file_extension": ".py",
   "mimetype": "text/x-python",
   "name": "python",
   "nbconvert_exporter": "python",
   "pygments_lexer": "ipython3",
   "version": "3.12.1"
  }
 },
 "nbformat": 4,
 "nbformat_minor": 5
}

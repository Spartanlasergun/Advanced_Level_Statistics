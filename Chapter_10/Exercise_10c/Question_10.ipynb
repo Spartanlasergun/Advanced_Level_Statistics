{
 "cells": [
  {
   "cell_type": "markdown",
   "id": "fe37a909-8481-44a1-8ee2-374bacfb15f2",
   "metadata": {},
   "source": [
    "# Question 10\n",
    "-----"
   ]
  },
  {
   "cell_type": "code",
   "execution_count": 1,
   "id": "52d83915-b36d-4527-be46-9c2802845bb2",
   "metadata": {},
   "outputs": [],
   "source": [
    "import math\n",
    "\n",
    "class poisson:\n",
    "    def __init__(self, lamb):\n",
    "        self.lamb = lamb\n",
    "\n",
    "    def prob(self, x):\n",
    "        pois = math.exp(-self.lamb) * (pow(self.lamb, x) / math.factorial(x))\n",
    "        return pois\n",
    "\n",
    "    def freq(self, event, sample):\n",
    "        freq = self.prob(event) * sample \n",
    "        freq = round(freq, 0)\n",
    "        return freq"
   ]
  },
  {
   "cell_type": "code",
   "execution_count": 2,
   "id": "5ebf07b1-d64b-4cde-95af-d35641a9708d",
   "metadata": {},
   "outputs": [
    {
     "name": "stdout",
     "output_type": "stream",
     "text": [
      "a)(i) 0.18126924692201818\n"
     ]
    }
   ],
   "source": [
    "pois_dist = poisson(0.2)\n",
    "PXE0 = pois_dist.prob(0)\n",
    "PXGE1 = 1 - PXE0\n",
    "print(\"a)(i) \" + str(PXGE1))"
   ]
  },
  {
   "cell_type": "code",
   "execution_count": 3,
   "id": "0d4336f1-4f39-45a9-a704-1d4531e3f301",
   "metadata": {},
   "outputs": [
    {
     "name": "stdout",
     "output_type": "stream",
     "text": [
      "a)(ii) 0.9988515187551379\n"
     ]
    }
   ],
   "source": [
    "PXE1 = pois_dist.prob(1)\n",
    "PXE2 = pois_dist.prob(2)\n",
    "PXLE2 = PXE0 + PXE1 + PXE2\n",
    "print(\"a)(ii) \" + str(PXLE2))"
   ]
  },
  {
   "cell_type": "code",
   "execution_count": 4,
   "id": "b1426888-44bf-4f38-af52-851c63cc1862",
   "metadata": {},
   "outputs": [
    {
     "name": "stdout",
     "output_type": "stream",
     "text": [
      "b) 0.01831563888873418\n"
     ]
    }
   ],
   "source": [
    "mean = 0.2 * 20\n",
    "pois_dist = poisson(mean)\n",
    "PXE0 = pois_dist.prob(0)\n",
    "print(\"b) \" + str(PXE0))"
   ]
  },
  {
   "cell_type": "markdown",
   "id": "d842cf89-1939-47b4-9996-5a0a144ec232",
   "metadata": {},
   "source": [
    "$$H_0: \\lambda = 0.2$$\n",
    "\n",
    "$$H_1: \\lambda < 0.2$$"
   ]
  },
  {
   "cell_type": "code",
   "execution_count": 5,
   "id": "97f97509-c46d-4884-a3d8-899e09515dd7",
   "metadata": {},
   "outputs": [
    {
     "name": "stdout",
     "output_type": "stream",
     "text": [
      "do not reject the null\n"
     ]
    }
   ],
   "source": [
    "mean = 0.2 * 30\n",
    "pois_dist = poisson(mean)\n",
    "prob = 0\n",
    "x = 0\n",
    "while x <= 2:\n",
    "    prob = prob + pois_dist.prob(x)\n",
    "    x = x + 1\n",
    "test = prob\n",
    "if test > 0.05:\n",
    "    print(\"do not reject the null\")\n",
    "else:\n",
    "    print(\"reject the null\")"
   ]
  },
  {
   "cell_type": "markdown",
   "id": "654e9ca4-a684-4e1d-91f2-aaaaa760184f",
   "metadata": {},
   "source": [
    "d) Hence, the number of breakdowns has not decreased"
   ]
  }
 ],
 "metadata": {
  "kernelspec": {
   "display_name": "Python 3 (ipykernel)",
   "language": "python",
   "name": "python3"
  },
  "language_info": {
   "codemirror_mode": {
    "name": "ipython",
    "version": 3
   },
   "file_extension": ".py",
   "mimetype": "text/x-python",
   "name": "python",
   "nbconvert_exporter": "python",
   "pygments_lexer": "ipython3",
   "version": "3.12.1"
  }
 },
 "nbformat": 4,
 "nbformat_minor": 5
}

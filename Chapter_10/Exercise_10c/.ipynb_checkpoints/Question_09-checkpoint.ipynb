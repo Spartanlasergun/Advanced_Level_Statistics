{
 "cells": [
  {
   "cell_type": "markdown",
   "id": "3496e4cd-eba6-43dc-80de-94a40506509f",
   "metadata": {},
   "source": [
    "# Question 9\n",
    "-----"
   ]
  },
  {
   "cell_type": "markdown",
   "id": "fbfbaf13-aa41-4d6c-aa53-ddfb9d1315ab",
   "metadata": {},
   "source": [
    "a) Defects must occur randomly, and the probability of a defect must be the same for each event"
   ]
  },
  {
   "cell_type": "code",
   "execution_count": 1,
   "id": "81d955bd-1d31-44dc-87bc-36188b0c2e8d",
   "metadata": {},
   "outputs": [],
   "source": [
    "import math\n",
    "\n",
    "class poisson:\n",
    "    def __init__(self, lamb):\n",
    "        self.lamb = lamb\n",
    "\n",
    "    def prob(self, x):\n",
    "        pois = math.exp(-self.lamb) * (pow(self.lamb, x) / math.factorial(x))\n",
    "        return pois\n",
    "\n",
    "    def freq(self, event, sample):\n",
    "        freq = self.prob(event) * sample \n",
    "        freq = round(freq, 0)\n",
    "        return freq"
   ]
  },
  {
   "cell_type": "code",
   "execution_count": 2,
   "id": "e5c0c263-f083-44ec-86b0-4eac97c16699",
   "metadata": {},
   "outputs": [
    {
     "name": "stdout",
     "output_type": "stream",
     "text": [
      "b)(i) 0.2090141643788064\n"
     ]
    }
   ],
   "source": [
    "pois_dist = poisson(2.4)\n",
    "PXE3 = pois_dist.prob(3)\n",
    "print(\"b)(i) \" + str(PXE3))"
   ]
  },
  {
   "cell_type": "code",
   "execution_count": 3,
   "id": "b5463f1d-3f28-4b92-a704-e3b5f6aa56c1",
   "metadata": {},
   "outputs": [
    {
     "name": "stdout",
     "output_type": "stream",
     "text": [
      "b)(ii) 0.22127708896368303\n"
     ]
    }
   ],
   "source": [
    "prob = 0\n",
    "x = 0\n",
    "while x <= 3:\n",
    "    prob = prob + pois_dist.prob(x)\n",
    "    x = x + 1\n",
    "PXG3 = 1 - prob\n",
    "print(\"b)(ii) \" + str(PXG3))"
   ]
  },
  {
   "cell_type": "code",
   "execution_count": 4,
   "id": "79ee5ccc-1bea-4f4e-bed7-6f9a618b697f",
   "metadata": {},
   "outputs": [
    {
     "name": "stdout",
     "output_type": "stream",
     "text": [
      "c) 0.13979814691510625\n"
     ]
    }
   ],
   "source": [
    "mean = 2.4 * 2\n",
    "pois_dist = poisson(mean)\n",
    "PXE6 = pois_dist.prob(6)\n",
    "print(\"c) \" + str(PXE6))"
   ]
  },
  {
   "cell_type": "markdown",
   "id": "2fc9e6b7-c834-480e-9538-2c61dc3cf754",
   "metadata": {},
   "source": [
    "$$H_0: \\lambda = 2.4$$\n",
    "\n",
    "$$H_1: \\lambda > 2.4$$"
   ]
  },
  {
   "cell_type": "code",
   "execution_count": 5,
   "id": "bed6e10b-9a85-4001-8b95-aacf3e10819c",
   "metadata": {},
   "outputs": [
    {
     "name": "stdout",
     "output_type": "stream",
     "text": [
      "reject the null\n"
     ]
    }
   ],
   "source": [
    "prob = 0\n",
    "x = 0\n",
    "pois_dist = poisson(2.4)\n",
    "while x <= 7:\n",
    "    prob = prob + pois_dist.prob(x)\n",
    "    x = x + 1\n",
    "test = 1 - prob\n",
    "if test > 0.05:\n",
    "    print(\"do not reject the null\")\n",
    "else:\n",
    "    print(\"reject the null\")"
   ]
  },
  {
   "cell_type": "markdown",
   "id": "4ad5a813-3c39-47e6-a686-0dd7abbc2045",
   "metadata": {},
   "source": [
    "d) The manufacturing process is producing more defects"
   ]
  }
 ],
 "metadata": {
  "kernelspec": {
   "display_name": "Python 3 (ipykernel)",
   "language": "python",
   "name": "python3"
  },
  "language_info": {
   "codemirror_mode": {
    "name": "ipython",
    "version": 3
   },
   "file_extension": ".py",
   "mimetype": "text/x-python",
   "name": "python",
   "nbconvert_exporter": "python",
   "pygments_lexer": "ipython3",
   "version": "3.12.1"
  }
 },
 "nbformat": 4,
 "nbformat_minor": 5
}

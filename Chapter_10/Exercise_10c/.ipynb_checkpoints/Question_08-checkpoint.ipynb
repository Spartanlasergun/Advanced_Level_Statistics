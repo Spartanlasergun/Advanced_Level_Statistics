{
 "cells": [
  {
   "cell_type": "markdown",
   "id": "13ac368d-a78f-4885-8cfb-7d15c0ae4fa5",
   "metadata": {},
   "source": [
    "# Question 8\n",
    "-----"
   ]
  },
  {
   "cell_type": "code",
   "execution_count": 1,
   "id": "fafd8c6d-1be1-481b-9cd0-99a2b44ea4d5",
   "metadata": {},
   "outputs": [],
   "source": [
    "import math\n",
    "\n",
    "class bino:\n",
    "    def __init__(self, n, p, q):\n",
    "        self.n = n\n",
    "        self.p = p\n",
    "        self.q = q\n",
    "        self.frequencies = []\n",
    "\n",
    "    def prob(self, r):\n",
    "        self.funk = ((math.factorial(self.n)) / (math.factorial(r) * math.factorial(((self.n)-r)))) * pow((self.q), ((self.n)-r)) * pow((self.p), r)\n",
    "        return self.funk\n",
    "\n",
    "    def freq(self, event, r):\n",
    "        event_prob = self.prob(r)\n",
    "        frequency = event_prob * event\n",
    "        frequency = round(frequency, 0)\n",
    "        return frequency"
   ]
  },
  {
   "cell_type": "code",
   "execution_count": 2,
   "id": "8e970d72-8a5e-499a-95e9-68bf0d3f3959",
   "metadata": {},
   "outputs": [
    {
     "name": "stdout",
     "output_type": "stream",
     "text": [
      "a) 0.4304672100000001\n"
     ]
    }
   ],
   "source": [
    "p = 0.9\n",
    "q = 0.1\n",
    "n = 8\n",
    "bin_dist = bino(n, p, q)\n",
    "PXE8 = bin_dist.prob(8)\n",
    "print(\"a) \" + str(PXE8))"
   ]
  },
  {
   "cell_type": "code",
   "execution_count": 3,
   "id": "c4d6a354-235d-4e3d-b7cd-c7bc84445aed",
   "metadata": {},
   "outputs": [
    {
     "name": "stdout",
     "output_type": "stream",
     "text": [
      "b) 0.9619082100000002\n"
     ]
    }
   ],
   "source": [
    "PXE6 = bin_dist.prob(6)\n",
    "PXE7 = bin_dist.prob(7)\n",
    "PXGE6 = PXE6 + PXE7 + PXE8\n",
    "print(\"b) \" + str(PXGE6))"
   ]
  },
  {
   "cell_type": "code",
   "execution_count": 4,
   "id": "642f7f37-03ab-44a0-998b-1fb4d78e56f3",
   "metadata": {},
   "outputs": [
    {
     "name": "stdout",
     "output_type": "stream",
     "text": [
      "c) 0.004592700000000001\n"
     ]
    }
   ],
   "source": [
    "PXE4 = bin_dist.prob(4)\n",
    "print(\"c) \" + str(PXE4))"
   ]
  },
  {
   "cell_type": "code",
   "execution_count": 5,
   "id": "cceac256-1fe4-4d04-8a5e-b3e91a48b9f5",
   "metadata": {},
   "outputs": [
    {
     "name": "stdout",
     "output_type": "stream",
     "text": [
      "0.7647058823529411\n"
     ]
    }
   ],
   "source": [
    "p = 13/17\n",
    "print(p)"
   ]
  },
  {
   "cell_type": "markdown",
   "id": "32ffbc6c-6ef4-48ed-a603-65f1c59b12e0",
   "metadata": {},
   "source": [
    "$$H_0: p = 0.9$$\n",
    "\n",
    "$$H_1: p < 0.9$$"
   ]
  },
  {
   "cell_type": "code",
   "execution_count": 6,
   "id": "eceb870f-efa8-4d97-9d12-defaee353922",
   "metadata": {},
   "outputs": [
    {
     "name": "stdout",
     "output_type": "stream",
     "text": [
      "do not reject the null hypothesis\n"
     ]
    }
   ],
   "source": [
    "p = 0.9\n",
    "q = 0.1\n",
    "n = 17\n",
    "bin_dist = bino(n, p, q)\n",
    "prob = 0\n",
    "x = 0\n",
    "while x <= 13:\n",
    "    prob = prob + (bin_dist.prob(x))\n",
    "    x = x + 1\n",
    "test = prob\n",
    "if test > 0.05:\n",
    "    print(\"do not reject the null hypothesis\")\n",
    "else:\n",
    "    print(\"reject the null\")"
   ]
  },
  {
   "cell_type": "markdown",
   "id": "79f92219-afca-4c0d-962d-263d2c599ac4",
   "metadata": {},
   "source": [
    "e) The service has not deteriorated"
   ]
  },
  {
   "cell_type": "code",
   "execution_count": 7,
   "id": "40f5e1d4-251d-4784-8c03-acce990ea023",
   "metadata": {},
   "outputs": [
    {
     "name": "stdout",
     "output_type": "stream",
     "text": [
      "13\n"
     ]
    }
   ],
   "source": [
    "prob = 0\n",
    "x = -1\n",
    "while prob < 0.05:\n",
    "    x = x + 1\n",
    "    prob = prob + (bin_dist.prob(x))\n",
    "print(x)"
   ]
  },
  {
   "cell_type": "markdown",
   "id": "a0ff0b84-11be-4bc1-aa45-5179d14b1ca6",
   "metadata": {},
   "source": [
    "f) Hence the critical region exists for $P(X \\le 12)$"
   ]
  }
 ],
 "metadata": {
  "kernelspec": {
   "display_name": "Python 3 (ipykernel)",
   "language": "python",
   "name": "python3"
  },
  "language_info": {
   "codemirror_mode": {
    "name": "ipython",
    "version": 3
   },
   "file_extension": ".py",
   "mimetype": "text/x-python",
   "name": "python",
   "nbconvert_exporter": "python",
   "pygments_lexer": "ipython3",
   "version": "3.12.1"
  }
 },
 "nbformat": 4,
 "nbformat_minor": 5
}

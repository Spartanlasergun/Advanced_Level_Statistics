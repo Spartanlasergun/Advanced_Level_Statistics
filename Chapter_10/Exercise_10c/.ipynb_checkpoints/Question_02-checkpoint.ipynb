{
 "cells": [
  {
   "cell_type": "markdown",
   "id": "7d765182-3dfd-4b15-a2dd-3ef1a1601943",
   "metadata": {},
   "source": [
    "# Question 2\n",
    "-----"
   ]
  },
  {
   "cell_type": "code",
   "execution_count": 1,
   "id": "c15cdf64-12ec-494e-8bbd-78530d1c5c0d",
   "metadata": {},
   "outputs": [],
   "source": [
    "import math\n",
    "\n",
    "class bino:\n",
    "    def __init__(self, n, p, q):\n",
    "        self.n = n\n",
    "        self.p = p\n",
    "        self.q = q\n",
    "        self.frequencies = []\n",
    "\n",
    "    def prob(self, r):\n",
    "        self.funk = ((math.factorial(self.n)) / (math.factorial(r) * math.factorial(((self.n)-r)))) * pow((self.q), ((self.n)-r)) * pow((self.p), r)\n",
    "        return self.funk\n",
    "\n",
    "    def freq(self, event, r):\n",
    "        event_prob = self.prob(r)\n",
    "        frequency = event_prob * event\n",
    "        frequency = round(frequency, 0)\n",
    "        return frequency"
   ]
  },
  {
   "cell_type": "code",
   "execution_count": 2,
   "id": "98a8982f-ced4-4acb-82be-ada16d71d662",
   "metadata": {},
   "outputs": [
    {
     "name": "stdout",
     "output_type": "stream",
     "text": [
      "a) 0.5517738099999998\n"
     ]
    }
   ],
   "source": [
    "p = 0.7\n",
    "q = 1 - p\n",
    "n = 8\n",
    "bin_dist = bino(n, p, q)\n",
    "PXE6 = bin_dist.prob(6)\n",
    "PXE7 = bin_dist.prob(7)\n",
    "PXE8 = bin_dist.prob(8)\n",
    "PXGE6 = PXE6 + PXE7 + PXE8\n",
    "print(\"a) \" + str(PXGE6))"
   ]
  },
  {
   "cell_type": "code",
   "execution_count": 3,
   "id": "7df8756f-d671-4b30-a29e-0e97ee5d0af5",
   "metadata": {},
   "outputs": [
    {
     "name": "stdout",
     "output_type": "stream",
     "text": [
      "b) 6\n",
      "prob = 0.29647547999999996\n"
     ]
    }
   ],
   "source": [
    "prob = 0\n",
    "x = 0\n",
    "dist = []\n",
    "while x <= 8:\n",
    "    prob = bin_dist.prob(x)\n",
    "    dist.append(prob)\n",
    "    x = x + 1\n",
    "\n",
    "maximum = max(dist)\n",
    "mode = dist.index(maximum)\n",
    "print(\"b) \" + str(mode))\n",
    "print(\"prob = \" + str(maximum))"
   ]
  },
  {
   "cell_type": "markdown",
   "id": "54df41bc-825b-4e3d-9c88-fb231176865e",
   "metadata": {},
   "source": [
    "c) probaility that each penatly event has the same probability of success"
   ]
  },
  {
   "cell_type": "markdown",
   "id": "fa5bd3d4-7d27-45cd-a448-1c2920da6714",
   "metadata": {},
   "source": [
    "d)\n",
    "$$H_0: p = 0.7$$\n",
    "\n",
    "$$H_1: p > 0.7$$"
   ]
  },
  {
   "cell_type": "code",
   "execution_count": 4,
   "id": "4ea490ea-74f9-4bdb-8bbf-6481d58c9130",
   "metadata": {},
   "outputs": [
    {
     "name": "stdout",
     "output_type": "stream",
     "text": [
      "do not reject the null\n"
     ]
    }
   ],
   "source": [
    "p = 0.7\n",
    "q = 1 - p\n",
    "n = 15\n",
    "bin_dist = bino(n, p, q)\n",
    "prob = 0\n",
    "x = 0\n",
    "while x <= 13:\n",
    "    prob = prob + (bin_dist.prob(x))\n",
    "    x = x + 1\n",
    "test = 1 - p\n",
    "if test > 0.1:\n",
    "    print(\"do not reject the null\")\n",
    "else:\n",
    "    print(\"reject the null\")"
   ]
  },
  {
   "cell_type": "markdown",
   "id": "f8942f12-18d7-48b3-8dbe-59d339e0fae2",
   "metadata": {},
   "source": [
    "e) Harry has not improved"
   ]
  },
  {
   "cell_type": "markdown",
   "id": "5b54f6a7-ffe6-426e-9261-fb6716decf6d",
   "metadata": {},
   "source": [
    "f) larger sample gives more precise reuslts - hence, the case is strengthened"
   ]
  }
 ],
 "metadata": {
  "kernelspec": {
   "display_name": "Python 3 (ipykernel)",
   "language": "python",
   "name": "python3"
  },
  "language_info": {
   "codemirror_mode": {
    "name": "ipython",
    "version": 3
   },
   "file_extension": ".py",
   "mimetype": "text/x-python",
   "name": "python",
   "nbconvert_exporter": "python",
   "pygments_lexer": "ipython3",
   "version": "3.12.1"
  }
 },
 "nbformat": 4,
 "nbformat_minor": 5
}

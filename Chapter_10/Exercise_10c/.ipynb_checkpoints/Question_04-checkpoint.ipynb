{
 "cells": [
  {
   "cell_type": "markdown",
   "id": "41202a69-b550-48c5-b5d7-110ff1096356",
   "metadata": {},
   "source": [
    "# Question 4\n",
    "-----"
   ]
  },
  {
   "cell_type": "markdown",
   "id": "e8658bcb-ae7a-4eed-9b70-9feb6faf7fa8",
   "metadata": {},
   "source": [
    "a)\n",
    "$$H_0: p = 0.8$$\n",
    "\n",
    "$$H_1: p < 0.8$$"
   ]
  },
  {
   "cell_type": "markdown",
   "id": "7faea0fd-131e-4a0f-905c-1d255597ba30",
   "metadata": {},
   "source": [
    "b)\n",
    "for number of failures\n",
    "$$X \\sim B(25, 0.2)$$"
   ]
  },
  {
   "cell_type": "code",
   "execution_count": 1,
   "id": "711662ea-ae74-4a2d-bbe0-6e8bd4909373",
   "metadata": {},
   "outputs": [],
   "source": [
    "import math\n",
    "\n",
    "class bino:\n",
    "    def __init__(self, n, p, q):\n",
    "        self.n = n\n",
    "        self.p = p\n",
    "        self.q = q\n",
    "        self.frequencies = []\n",
    "\n",
    "    def prob(self, r):\n",
    "        self.funk = ((math.factorial(self.n)) / (math.factorial(r) * math.factorial(((self.n)-r)))) * pow((self.q), ((self.n)-r)) * pow((self.p), r)\n",
    "        return self.funk\n",
    "\n",
    "    def freq(self, event, r):\n",
    "        event_prob = self.prob(r)\n",
    "        frequency = event_prob * event\n",
    "        frequency = round(frequency, 0)\n",
    "        return frequency"
   ]
  },
  {
   "cell_type": "code",
   "execution_count": 2,
   "id": "fd430385-7a4c-4fc1-8907-57e21b15d38b",
   "metadata": {},
   "outputs": [
    {
     "name": "stdout",
     "output_type": "stream",
     "text": [
      "c) 9\n"
     ]
    }
   ],
   "source": [
    "p = 0.2\n",
    "q = 0.8\n",
    "n = 25\n",
    "bin_dist = bino(n, p, q)\n",
    "prob = 0\n",
    "x = 0\n",
    "while prob < 0.95:\n",
    "    prob = prob + (bin_dist.prob(x))\n",
    "    x = x + 1\n",
    "print(\"c) \" + str(x))"
   ]
  }
 ],
 "metadata": {
  "kernelspec": {
   "display_name": "Python 3 (ipykernel)",
   "language": "python",
   "name": "python3"
  },
  "language_info": {
   "codemirror_mode": {
    "name": "ipython",
    "version": 3
   },
   "file_extension": ".py",
   "mimetype": "text/x-python",
   "name": "python",
   "nbconvert_exporter": "python",
   "pygments_lexer": "ipython3",
   "version": "3.12.1"
  }
 },
 "nbformat": 4,
 "nbformat_minor": 5
}

{
 "cells": [
  {
   "cell_type": "markdown",
   "id": "755185c3-8e90-460a-adf3-1ff392f5c066",
   "metadata": {},
   "source": [
    "# Question 1\n",
    "-----"
   ]
  },
  {
   "cell_type": "code",
   "execution_count": 1,
   "id": "122d83a6-4392-4ac4-babf-e6a6795f2b6f",
   "metadata": {},
   "outputs": [],
   "source": [
    "import math\n",
    "\n",
    "class bino:\n",
    "    def __init__(self, n, p, q):\n",
    "        self.n = n\n",
    "        self.p = p\n",
    "        self.q = q\n",
    "        self.frequencies = []\n",
    "\n",
    "    def prob(self, r):\n",
    "        self.funk = ((math.factorial(self.n)) / (math.factorial(r) * math.factorial(((self.n)-r)))) * pow((self.q), ((self.n)-r)) * pow((self.p), r)\n",
    "        return self.funk\n",
    "\n",
    "    def freq(self, event, r):\n",
    "        event_prob = self.prob(r)\n",
    "        frequency = event_prob * event\n",
    "        frequency = round(frequency, 0)\n",
    "        return frequency"
   ]
  },
  {
   "cell_type": "code",
   "execution_count": 2,
   "id": "c8362958-9174-4973-83c4-ace161e8c318",
   "metadata": {},
   "outputs": [
    {
     "name": "stdout",
     "output_type": "stream",
     "text": [
      "a) 0.027993599999999993\n"
     ]
    }
   ],
   "source": [
    "p = 0.6\n",
    "q = 0.4\n",
    "n = 7\n",
    "bin_dist = bino(n, p, q)\n",
    "PXE7 = bin_dist.prob(7)\n",
    "print(\"a) \" + str(PXE7))"
   ]
  },
  {
   "cell_type": "code",
   "execution_count": 3,
   "id": "4ee0a9ec-6ce9-496a-abbc-c7814279b278",
   "metadata": {},
   "outputs": [
    {
     "name": "stdout",
     "output_type": "stream",
     "text": [
      "b) 0.13063679999999997\n"
     ]
    }
   ],
   "source": [
    "PXE6 = bin_dist.prob(6)\n",
    "print(\"b) \" + str(PXE6))"
   ]
  },
  {
   "cell_type": "code",
   "execution_count": 4,
   "id": "d186a291-783b-4d33-92cd-ea77462590c5",
   "metadata": {},
   "outputs": [
    {
     "name": "stdout",
     "output_type": "stream",
     "text": [
      "c) 0.2612736\n"
     ]
    }
   ],
   "source": [
    "PXE5 = bin_dist.prob(5)\n",
    "print(\"c) \" + str(PXE5))"
   ]
  },
  {
   "cell_type": "markdown",
   "id": "9eb7daa5-6a9d-45c2-be98-e2d6d05d9041",
   "metadata": {},
   "source": [
    "$$H_0: p = 0.6$$\n",
    "\n",
    "$$H_1: p > 0.6$$"
   ]
  },
  {
   "cell_type": "code",
   "execution_count": 5,
   "id": "39c9a12c-ada3-4ebb-b604-f3670e6b0675",
   "metadata": {},
   "outputs": [
    {
     "name": "stdout",
     "output_type": "stream",
     "text": [
      "do not reject the null\n"
     ]
    }
   ],
   "source": [
    "prob = 0\n",
    "x = 0\n",
    "while x <= 6:\n",
    "    prob = prob + (bin_dist.prob(x))\n",
    "    x = x + 1\n",
    "test = 1 - prob\n",
    "if test > 0.01:\n",
    "    print(\"do not reject the null\")\n",
    "else:\n",
    "    print(\"reject the null\")"
   ]
  }
 ],
 "metadata": {
  "kernelspec": {
   "display_name": "Python 3 (ipykernel)",
   "language": "python",
   "name": "python3"
  },
  "language_info": {
   "codemirror_mode": {
    "name": "ipython",
    "version": 3
   },
   "file_extension": ".py",
   "mimetype": "text/x-python",
   "name": "python",
   "nbconvert_exporter": "python",
   "pygments_lexer": "ipython3",
   "version": "3.12.1"
  }
 },
 "nbformat": 4,
 "nbformat_minor": 5
}

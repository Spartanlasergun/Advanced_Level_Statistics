{
 "cells": [
  {
   "cell_type": "markdown",
   "id": "19999d37-7efe-4d4c-8843-6e4a32d4df77",
   "metadata": {},
   "source": [
    "# Question 3\n",
    "-----"
   ]
  },
  {
   "cell_type": "code",
   "execution_count": 1,
   "id": "8d91b40a-e1a3-4ba2-8df1-364583434fc5",
   "metadata": {},
   "outputs": [],
   "source": [
    "import math\n",
    "\n",
    "class bino:\n",
    "    def __init__(self, n, p, q):\n",
    "        self.n = n\n",
    "        self.p = p\n",
    "        self.q = q\n",
    "        self.frequencies = []\n",
    "\n",
    "    def prob(self, r):\n",
    "        self.funk = ((math.factorial(self.n)) / (math.factorial(r) * math.factorial(((self.n)-r)))) * pow((self.q), ((self.n)-r)) * pow((self.p), r)\n",
    "        return self.funk\n",
    "\n",
    "    def freq(self, event, r):\n",
    "        event_prob = self.prob(r)\n",
    "        frequency = event_prob * event\n",
    "        frequency = round(frequency, 0)\n",
    "        return frequency"
   ]
  },
  {
   "cell_type": "code",
   "execution_count": 2,
   "id": "7352641d-df17-449f-b884-93e53acd4571",
   "metadata": {},
   "outputs": [
    {
     "name": "stdout",
     "output_type": "stream",
     "text": [
      "reject the null\n"
     ]
    }
   ],
   "source": [
    "p = 0.95\n",
    "q = 1 - p\n",
    "n = 15\n",
    "bin_dist = bino(n, p, q)\n",
    "prob = 0\n",
    "x = 0\n",
    "while x <= 12:\n",
    "    prob = prob + (bin_dist.prob(x))\n",
    "    x = x + 1\n",
    "test = prob\n",
    "if test >= 0.95:\n",
    "    print(\"do not reject the null\")\n",
    "else:\n",
    "    print(\"reject the null\")"
   ]
  },
  {
   "cell_type": "markdown",
   "id": "8a7d9251-9b5e-4cca-95e8-ca4c74c7e60e",
   "metadata": {},
   "source": [
    "The manufacturers claim is false\n",
    "\n",
    "An exact 5% significance test is not possible, because the discreet critical values do not account for exactly 5%"
   ]
  }
 ],
 "metadata": {
  "kernelspec": {
   "display_name": "Python 3 (ipykernel)",
   "language": "python",
   "name": "python3"
  },
  "language_info": {
   "codemirror_mode": {
    "name": "ipython",
    "version": 3
   },
   "file_extension": ".py",
   "mimetype": "text/x-python",
   "name": "python",
   "nbconvert_exporter": "python",
   "pygments_lexer": "ipython3",
   "version": "3.12.1"
  }
 },
 "nbformat": 4,
 "nbformat_minor": 5
}

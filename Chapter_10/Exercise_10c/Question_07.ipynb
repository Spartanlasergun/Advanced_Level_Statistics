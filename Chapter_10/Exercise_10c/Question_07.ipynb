{
 "cells": [
  {
   "cell_type": "markdown",
   "id": "708e6c2f-b074-483e-a3ee-c30d26cecdcd",
   "metadata": {},
   "source": [
    "# Question 7\n",
    "-----"
   ]
  },
  {
   "cell_type": "code",
   "execution_count": 1,
   "id": "ad505da5-26d3-4b28-89c9-352a335283dd",
   "metadata": {},
   "outputs": [
    {
     "name": "stdout",
     "output_type": "stream",
     "text": [
      "a)\n",
      "mean = 2\n",
      "std = 1.1832159566199232\n"
     ]
    }
   ],
   "source": [
    "import statistics\n",
    "x = [0, 1, 2, 3, 4, 5, 6]\n",
    "freq = [5, 13, 15, 12, 4, 1, 0]\n",
    "raw_data = []\n",
    "index = 0\n",
    "for item in freq:\n",
    "    count = item\n",
    "    while count != 0:\n",
    "        raw_data.append(x[index])\n",
    "        count = count - 1\n",
    "    index = index + 1\n",
    "mean = statistics.mean(raw_data)\n",
    "std = statistics.pstdev(raw_data)\n",
    "print(\"a)\")\n",
    "print(\"mean = \" + str(mean))\n",
    "print(\"std = \" + str(std))"
   ]
  },
  {
   "cell_type": "code",
   "execution_count": 2,
   "id": "c6dff754-8efa-4c1e-a46d-377d46ccc9df",
   "metadata": {},
   "outputs": [
    {
     "name": "stdout",
     "output_type": "stream",
     "text": [
      "0.2\n"
     ]
    }
   ],
   "source": [
    "defectives = (1 * 13) + (2 * 15) + (3 * 12) + (4 * 4) + (5 * 1)\n",
    "sample = sum(freq) * 10\n",
    "p = defectives / sample\n",
    "print(p)"
   ]
  },
  {
   "cell_type": "code",
   "execution_count": 3,
   "id": "1566300e-4ebc-4b9c-9f49-821951a228d4",
   "metadata": {},
   "outputs": [],
   "source": [
    "import math\n",
    "\n",
    "class bino:\n",
    "    def __init__(self, n, p, q):\n",
    "        self.n = n\n",
    "        self.p = p\n",
    "        self.q = q\n",
    "        self.frequencies = []\n",
    "\n",
    "    def prob(self, r):\n",
    "        self.funk = ((math.factorial(self.n)) / (math.factorial(r) * math.factorial(((self.n)-r)))) * pow((self.q), ((self.n)-r)) * pow((self.p), r)\n",
    "        return self.funk\n",
    "\n",
    "    def freq(self, event, r):\n",
    "        event_prob = self.prob(r)\n",
    "        frequency = event_prob * event\n",
    "        frequency = round(frequency, 0)\n",
    "        return frequency"
   ]
  },
  {
   "cell_type": "code",
   "execution_count": 4,
   "id": "433c9bcc-4cec-4bbd-b23e-928d7cddad8d",
   "metadata": {},
   "outputs": [
    {
     "name": "stdout",
     "output_type": "stream",
     "text": [
      "b) 0.3019898880000002\n"
     ]
    }
   ],
   "source": [
    "q = 1 - p\n",
    "n = 10\n",
    "bin_dist = bino(n, p, q)\n",
    "PXE2 = bin_dist.prob(2)\n",
    "print(\"b) \" + str(PXE2))"
   ]
  },
  {
   "cell_type": "markdown",
   "id": "3491c171-b58f-4fcc-bb9c-14edf5bcc277",
   "metadata": {},
   "source": [
    "$$H_0: p = 0.2$$\n",
    "\n",
    "$$H_1: p < 0.2$$"
   ]
  },
  {
   "cell_type": "code",
   "execution_count": 5,
   "id": "06a9891a-3780-4708-a851-c13ae6cc822f",
   "metadata": {},
   "outputs": [
    {
     "name": "stdout",
     "output_type": "stream",
     "text": [
      "do not reject the null\n"
     ]
    }
   ],
   "source": [
    "n = 20\n",
    "bin_dist = bino(n, p, q)\n",
    "prob = 0\n",
    "x = 0\n",
    "while x <= 1:\n",
    "    prob = prob + (bin_dist.prob(x))\n",
    "    x = x + 1\n",
    "test = prob\n",
    "if test > 0.05:\n",
    "    print(\"do not reject the null\")\n",
    "else:\n",
    "    print(\"reject the null\")"
   ]
  },
  {
   "cell_type": "markdown",
   "id": "a784286e-2734-4796-8255-917f7f905b5c",
   "metadata": {},
   "source": [
    "c) There is no improvement in the process"
   ]
  },
  {
   "cell_type": "code",
   "execution_count": 6,
   "id": "53f067b7-3336-48b4-a717-6b5caa92a21c",
   "metadata": {},
   "outputs": [
    {
     "name": "stdout",
     "output_type": "stream",
     "text": [
      "reject the null\n"
     ]
    }
   ],
   "source": [
    "if test > 0.1:\n",
    "    print(\"do not reject the null\")\n",
    "else:\n",
    "    print(\"reject the null\")"
   ]
  },
  {
   "cell_type": "markdown",
   "id": "eb55f67c-7a78-489a-8076-b9846a0fe001",
   "metadata": {},
   "source": [
    "d) At the 10% level, the change in the process would have been significant"
   ]
  }
 ],
 "metadata": {
  "kernelspec": {
   "display_name": "Python 3 (ipykernel)",
   "language": "python",
   "name": "python3"
  },
  "language_info": {
   "codemirror_mode": {
    "name": "ipython",
    "version": 3
   },
   "file_extension": ".py",
   "mimetype": "text/x-python",
   "name": "python",
   "nbconvert_exporter": "python",
   "pygments_lexer": "ipython3",
   "version": "3.12.1"
  }
 },
 "nbformat": 4,
 "nbformat_minor": 5
}

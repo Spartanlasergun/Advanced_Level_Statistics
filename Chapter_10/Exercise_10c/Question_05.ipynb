{
 "cells": [
  {
   "cell_type": "markdown",
   "id": "cd3be5ab-ef97-4516-bebe-5bf317279e22",
   "metadata": {},
   "source": [
    "# Question 5\n",
    "-----"
   ]
  },
  {
   "cell_type": "code",
   "execution_count": 1,
   "id": "8250b493-59ba-4a93-95ca-80dc1bfa7778",
   "metadata": {},
   "outputs": [],
   "source": [
    "import math\n",
    "\n",
    "class bino:\n",
    "    def __init__(self, n, p, q):\n",
    "        self.n = n\n",
    "        self.p = p\n",
    "        self.q = q\n",
    "        self.frequencies = []\n",
    "\n",
    "    def prob(self, r):\n",
    "        self.funk = ((math.factorial(self.n)) / (math.factorial(r) * math.factorial(((self.n)-r)))) * pow((self.q), ((self.n)-r)) * pow((self.p), r)\n",
    "        return self.funk\n",
    "\n",
    "    def freq(self, event, r):\n",
    "        event_prob = self.prob(r)\n",
    "        frequency = event_prob * event\n",
    "        frequency = round(frequency, 0)\n",
    "        return frequency"
   ]
  },
  {
   "cell_type": "code",
   "execution_count": 2,
   "id": "243f39af-05ea-4b6e-97ad-c383eb29fe2b",
   "metadata": {},
   "outputs": [
    {
     "name": "stdout",
     "output_type": "stream",
     "text": [
      "a)(i) 0.02777099609375\n"
     ]
    }
   ],
   "source": [
    "p = 0.5\n",
    "q = 0.5\n",
    "n = 16\n",
    "bin_dist = bino(n, p, q)\n",
    "PXE12 = bin_dist.prob(12)\n",
    "print(\"a)(i) \" + str(PXE12))"
   ]
  },
  {
   "cell_type": "code",
   "execution_count": 3,
   "id": "776d7b38-5c2a-489d-8a20-9af17e8fbf6d",
   "metadata": {},
   "outputs": [
    {
     "name": "stdout",
     "output_type": "stream",
     "text": [
      "a)(ii) 0.0384063720703125\n"
     ]
    }
   ],
   "source": [
    "prob = 0\n",
    "x = 0\n",
    "while x <= 11:\n",
    "    prob = prob + (bin_dist.prob(x))\n",
    "    x = x + 1\n",
    "PXGE12 = 1 - prob\n",
    "print(\"a)(ii) \" + str(PXGE12))"
   ]
  },
  {
   "cell_type": "code",
   "execution_count": 4,
   "id": "f13b2ff8-9722-4b0e-99e4-48d78b37615d",
   "metadata": {},
   "outputs": [
    {
     "name": "stdout",
     "output_type": "stream",
     "text": [
      "a)(iii) 0.07533769472502172\n"
     ]
    }
   ],
   "source": [
    "prob = (PXGE12 * 2) - (PXGE12**2)\n",
    "print(\"a)(iii) \" + str(prob))"
   ]
  },
  {
   "cell_type": "markdown",
   "id": "e4d4b09f-ef0a-4094-8a2a-4b91bb860eab",
   "metadata": {},
   "source": [
    "$$H_0: p = 0.5$$\n",
    "\n",
    "$$H_1: p \\ne 0.5$$"
   ]
  },
  {
   "cell_type": "code",
   "execution_count": 5,
   "id": "71fd1dd0-b425-4c6f-b936-17810512bad0",
   "metadata": {},
   "outputs": [
    {
     "name": "stdout",
     "output_type": "stream",
     "text": [
      "reject the null\n"
     ]
    }
   ],
   "source": [
    "prob = 0\n",
    "x = 0\n",
    "while x <= 12:\n",
    "    prob = prob + (bin_dist.prob(x))\n",
    "    x = x + 1\n",
    "test = prob\n",
    "if test < 0.975:\n",
    "    print(\"do not reject the null\")\n",
    "else:\n",
    "    print(\"reject the null\")"
   ]
  },
  {
   "cell_type": "code",
   "execution_count": 6,
   "id": "87ae8be8-c420-415d-8f42-cbc724c33e9f",
   "metadata": {},
   "outputs": [
    {
     "name": "stdout",
     "output_type": "stream",
     "text": [
      "13\n"
     ]
    }
   ],
   "source": [
    "prob = 0\n",
    "x = 0\n",
    "while prob <= 0.975:\n",
    "    prob = prob + (bin_dist.prob(x))\n",
    "    x = x + 1\n",
    "print(x)"
   ]
  },
  {
   "cell_type": "markdown",
   "id": "b369ef1a-20ff-4fe6-a5d1-a9e397a62e91",
   "metadata": {},
   "source": [
    "Critical region exists for $P(X \\ge 13)$"
   ]
  },
  {
   "cell_type": "markdown",
   "id": "dcb7e972-bdce-496d-b074-30aeeeebed24",
   "metadata": {},
   "source": [
    "Less females would be caught on average which would bias the results toward the active males"
   ]
  }
 ],
 "metadata": {
  "kernelspec": {
   "display_name": "Python 3 (ipykernel)",
   "language": "python",
   "name": "python3"
  },
  "language_info": {
   "codemirror_mode": {
    "name": "ipython",
    "version": 3
   },
   "file_extension": ".py",
   "mimetype": "text/x-python",
   "name": "python",
   "nbconvert_exporter": "python",
   "pygments_lexer": "ipython3",
   "version": "3.12.1"
  }
 },
 "nbformat": 4,
 "nbformat_minor": 5
}

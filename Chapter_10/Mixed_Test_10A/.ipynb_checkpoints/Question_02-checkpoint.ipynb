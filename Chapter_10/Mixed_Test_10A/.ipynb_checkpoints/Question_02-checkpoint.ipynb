{
 "cells": [
  {
   "cell_type": "markdown",
   "id": "94e596c3-dd1e-4758-88a1-8657f5692c8e",
   "metadata": {},
   "source": [
    "# Question 2\n",
    "-----"
   ]
  },
  {
   "cell_type": "markdown",
   "id": "49e59bf0-731a-4c1c-892c-9f29cc641a0c",
   "metadata": {},
   "source": [
    "$$H_0: p = 0.15$$\n",
    "\n",
    "$$H_1: p < 0.15$$"
   ]
  },
  {
   "cell_type": "code",
   "execution_count": 1,
   "id": "35255a0c-4898-42a1-9fb2-86c12f184031",
   "metadata": {},
   "outputs": [],
   "source": [
    "import math\n",
    "\n",
    "class bino:\n",
    "    def __init__(self, n, p, q):\n",
    "        self.n = n\n",
    "        self.p = p\n",
    "        self.q = q\n",
    "        self.frequencies = []\n",
    "\n",
    "    def prob(self, r):\n",
    "        self.funk = ((math.factorial(self.n)) / (math.factorial(r) * math.factorial(((self.n)-r)))) * pow((self.q), ((self.n)-r)) * pow((self.p), r)\n",
    "        return self.funk\n",
    "\n",
    "    def freq(self, event, r):\n",
    "        event_prob = self.prob(r)\n",
    "        frequency = event_prob * event\n",
    "        frequency = round(frequency, 0)\n",
    "        return frequency"
   ]
  },
  {
   "cell_type": "code",
   "execution_count": 2,
   "id": "2fab8727-b6d5-436c-893e-a37d5ab8e12d",
   "metadata": {},
   "outputs": [
    {
     "name": "stdout",
     "output_type": "stream",
     "text": [
      "reject the null\n"
     ]
    }
   ],
   "source": [
    "p = 0.15\n",
    "q = 1 - p\n",
    "n = 35\n",
    "bin_dist = bino(n, p, q)\n",
    "prob = 0\n",
    "x = 0\n",
    "while x <= 1:\n",
    "    prob = prob + bin_dist.prob(x)\n",
    "    x = x + 1\n",
    "test = prob\n",
    "if test > 0.05:\n",
    "    print(\"do not reject the null\")\n",
    "else:\n",
    "    print(\"reject the null\")"
   ]
  },
  {
   "cell_type": "markdown",
   "id": "874a7dde-3b78-4e77-a9aa-58e786031dd7",
   "metadata": {},
   "source": [
    "a) The procedure has been successful"
   ]
  },
  {
   "cell_type": "markdown",
   "id": "90e5fa5a-4fcd-4c8a-a5dd-a51466fbf451",
   "metadata": {},
   "source": [
    "b) testing should be done in the long term to verify that the procedure has worked"
   ]
  }
 ],
 "metadata": {
  "kernelspec": {
   "display_name": "Python 3 (ipykernel)",
   "language": "python",
   "name": "python3"
  },
  "language_info": {
   "codemirror_mode": {
    "name": "ipython",
    "version": 3
   },
   "file_extension": ".py",
   "mimetype": "text/x-python",
   "name": "python",
   "nbconvert_exporter": "python",
   "pygments_lexer": "ipython3",
   "version": "3.12.1"
  }
 },
 "nbformat": 4,
 "nbformat_minor": 5
}

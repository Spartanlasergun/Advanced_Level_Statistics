{
 "cells": [
  {
   "cell_type": "markdown",
   "id": "5852457d-a383-4ca5-96f6-8e16669b27a1",
   "metadata": {},
   "source": [
    "# Question 1\n",
    "-----"
   ]
  },
  {
   "cell_type": "code",
   "execution_count": 1,
   "id": "01d502b0-c72b-422d-ad44-8c5aa8aef44b",
   "metadata": {},
   "outputs": [],
   "source": [
    "import math\n",
    "\n",
    "class bino:\n",
    "    def __init__(self, n, p, q):\n",
    "        self.n = n\n",
    "        self.p = p\n",
    "        self.q = q\n",
    "        self.frequencies = []\n",
    "\n",
    "    def prob(self, r):\n",
    "        self.funk = ((math.factorial(self.n)) / (math.factorial(r) * math.factorial(((self.n)-r)))) * pow((self.q), ((self.n)-r)) * pow((self.p), r)\n",
    "        return self.funk\n",
    "\n",
    "    def freq(self, event, r):\n",
    "        event_prob = self.prob(r)\n",
    "        frequency = event_prob * event\n",
    "        frequency = round(frequency, 0)\n",
    "        return frequency"
   ]
  },
  {
   "cell_type": "code",
   "execution_count": 2,
   "id": "46f7a7ce-cf28-4ad0-a771-53fa2a94b4d7",
   "metadata": {},
   "outputs": [
    {
     "name": "stdout",
     "output_type": "stream",
     "text": [
      "2\n"
     ]
    }
   ],
   "source": [
    "p = 0.5\n",
    "q = 0.5\n",
    "n = 10\n",
    "bin_dist = bino(n, p, q)\n",
    "prob = 0\n",
    "x = -1\n",
    "while prob < 0.05:\n",
    "    x = x + 1\n",
    "    prob = prob + bin_dist.prob(x)\n",
    "print(x)"
   ]
  },
  {
   "cell_type": "markdown",
   "id": "d6662798-97ba-4350-abc9-fc0ba2b25554",
   "metadata": {},
   "source": [
    "Hence, the critical region is given by $P(X \\le 1)$ or $P(X \\ge 9)$"
   ]
  }
 ],
 "metadata": {
  "kernelspec": {
   "display_name": "Python 3 (ipykernel)",
   "language": "python",
   "name": "python3"
  },
  "language_info": {
   "codemirror_mode": {
    "name": "ipython",
    "version": 3
   },
   "file_extension": ".py",
   "mimetype": "text/x-python",
   "name": "python",
   "nbconvert_exporter": "python",
   "pygments_lexer": "ipython3",
   "version": "3.12.1"
  }
 },
 "nbformat": 4,
 "nbformat_minor": 5
}

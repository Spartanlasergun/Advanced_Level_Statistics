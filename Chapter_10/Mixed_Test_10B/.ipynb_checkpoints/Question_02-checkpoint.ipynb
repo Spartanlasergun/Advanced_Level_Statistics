{
 "cells": [
  {
   "cell_type": "markdown",
   "id": "8a94e51c-f341-444b-921b-cb1197e2b604",
   "metadata": {},
   "source": [
    "# Question 2\n",
    "-----"
   ]
  },
  {
   "cell_type": "code",
   "execution_count": 1,
   "id": "48e6b59b-d7aa-430c-838f-2883bf96933c",
   "metadata": {},
   "outputs": [],
   "source": [
    "import math\n",
    "\n",
    "class poisson:\n",
    "    def __init__(self, lamb):\n",
    "        self.lamb = lamb\n",
    "\n",
    "    def prob(self, x):\n",
    "        pois = math.exp(-self.lamb) * (pow(self.lamb, x) / math.factorial(x))\n",
    "        return pois\n",
    "\n",
    "    def freq(self, event, sample):\n",
    "        freq = self.prob(event) * sample \n",
    "        freq = round(freq, 0)\n",
    "        return freq"
   ]
  },
  {
   "cell_type": "code",
   "execution_count": 2,
   "id": "0a331206-a145-4579-8e19-023518ce9170",
   "metadata": {},
   "outputs": [
    {
     "name": "stdout",
     "output_type": "stream",
     "text": [
      "a)(i) 0.1377620165716118\n"
     ]
    }
   ],
   "source": [
    "pois_dist = poisson(7.5)\n",
    "prob = 0\n",
    "x = 0\n",
    "while x <= 10:\n",
    "    prob = prob + pois_dist.prob(x)\n",
    "    x = x + 1\n",
    "PXG10 = 1 - prob\n",
    "print(\"a)(i) \" + str(PXG10))"
   ]
  },
  {
   "cell_type": "code",
   "execution_count": 3,
   "id": "843ef5cd-7f33-4db0-b664-e69f51d9c1ec",
   "metadata": {},
   "outputs": [
    {
     "name": "stdout",
     "output_type": "stream",
     "text": [
      "a)(ii) 0.84717542926913\n"
     ]
    }
   ],
   "source": [
    "mean = 7.5 * 2\n",
    "pois_dist = poisson(mean)\n",
    "prob = 0\n",
    "x = 10\n",
    "while x <= 20:\n",
    "    prob = prob + pois_dist.prob(x)\n",
    "    x = x + 1\n",
    "print(\"a)(ii) \" + str(prob))"
   ]
  },
  {
   "cell_type": "markdown",
   "id": "c5746b9f-bd58-4bda-9ecb-7ad98a087f56",
   "metadata": {},
   "source": [
    "$$H_0: \\lambda = 7.5$$\n",
    "\n",
    "$$H_1: \\lambda < 7.5$$"
   ]
  },
  {
   "cell_type": "code",
   "execution_count": 4,
   "id": "4ec72406-0262-4648-bb43-065e0020b534",
   "metadata": {},
   "outputs": [
    {
     "name": "stdout",
     "output_type": "stream",
     "text": [
      "do not reject the null\n"
     ]
    }
   ],
   "source": [
    "pois_dist = poisson(7.5)\n",
    "prob = 0\n",
    "x = 0\n",
    "while x <= 3:\n",
    "    prob = prob + pois_dist.prob(x)\n",
    "    x = x + 1\n",
    "test = prob\n",
    "if test > 0.05:\n",
    "    print(\"do not reject the null\")\n",
    "else:\n",
    "    print(\"reject the null\")"
   ]
  },
  {
   "cell_type": "markdown",
   "id": "94b24311-31ce-433c-a8c9-58d60772c4e8",
   "metadata": {},
   "source": [
    "b) Hence, the spray is not effective"
   ]
  }
 ],
 "metadata": {
  "kernelspec": {
   "display_name": "Python 3 (ipykernel)",
   "language": "python",
   "name": "python3"
  },
  "language_info": {
   "codemirror_mode": {
    "name": "ipython",
    "version": 3
   },
   "file_extension": ".py",
   "mimetype": "text/x-python",
   "name": "python",
   "nbconvert_exporter": "python",
   "pygments_lexer": "ipython3",
   "version": "3.12.1"
  }
 },
 "nbformat": 4,
 "nbformat_minor": 5
}

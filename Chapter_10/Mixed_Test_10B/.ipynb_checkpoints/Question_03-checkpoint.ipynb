{
 "cells": [
  {
   "cell_type": "markdown",
   "id": "f2da7dea-d8ea-475d-b7f0-42c0cf67f73e",
   "metadata": {},
   "source": [
    "# Question 3\n",
    "-----"
   ]
  },
  {
   "cell_type": "code",
   "execution_count": 1,
   "id": "e2e0f3fb-c5bb-4e14-a67d-600fb429f8ac",
   "metadata": {},
   "outputs": [],
   "source": [
    "import math\n",
    "\n",
    "class poisson:\n",
    "    def __init__(self, lamb):\n",
    "        self.lamb = lamb\n",
    "\n",
    "    def prob(self, x):\n",
    "        pois = math.exp(-self.lamb) * (pow(self.lamb, x) / math.factorial(x))\n",
    "        return pois\n",
    "\n",
    "    def freq(self, event, sample):\n",
    "        freq = self.prob(event) * sample \n",
    "        freq = round(freq, 0)\n",
    "        return freq"
   ]
  },
  {
   "cell_type": "code",
   "execution_count": 2,
   "id": "831e1c0b-f503-4278-9bad-fa0db1d3eaf8",
   "metadata": {},
   "outputs": [
    {
     "name": "stdout",
     "output_type": "stream",
     "text": [
      "a) 4.262092358253799%\n"
     ]
    }
   ],
   "source": [
    "pois_dist = poisson(6)\n",
    "prob = 0\n",
    "x = 0\n",
    "while x <= 10:\n",
    "    prob = prob + pois_dist.prob(x)\n",
    "    x = x + 1\n",
    "sig = (1 - prob) * 100\n",
    "print(\"a) \" + str(sig) + \"%\")"
   ]
  },
  {
   "cell_type": "code",
   "execution_count": 3,
   "id": "9f62883c-ecd2-42bf-9abf-da9985bfbd46",
   "metadata": {},
   "outputs": [
    {
     "name": "stdout",
     "output_type": "stream",
     "text": [
      "b) 0.7633619791340175\n"
     ]
    }
   ],
   "source": [
    "pois_dist = poisson(8.5)\n",
    "prob = 0\n",
    "x = 0\n",
    "while x <= 10:\n",
    "    prob = prob + pois_dist.prob(x)\n",
    "    x = x + 1\n",
    "print(\"b) \" + str(prob))"
   ]
  }
 ],
 "metadata": {
  "kernelspec": {
   "display_name": "Python 3 (ipykernel)",
   "language": "python",
   "name": "python3"
  },
  "language_info": {
   "codemirror_mode": {
    "name": "ipython",
    "version": 3
   },
   "file_extension": ".py",
   "mimetype": "text/x-python",
   "name": "python",
   "nbconvert_exporter": "python",
   "pygments_lexer": "ipython3",
   "version": "3.12.1"
  }
 },
 "nbformat": 4,
 "nbformat_minor": 5
}

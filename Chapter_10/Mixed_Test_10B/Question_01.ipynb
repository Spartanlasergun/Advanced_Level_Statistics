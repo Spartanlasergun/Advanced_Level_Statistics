{
 "cells": [
  {
   "cell_type": "markdown",
   "id": "89afff11-a4f9-4e7f-bd7e-56219bf276e0",
   "metadata": {},
   "source": [
    "# Question 1\n",
    "-----"
   ]
  },
  {
   "cell_type": "markdown",
   "id": "88563280-1989-4250-9b56-c22395a1ff99",
   "metadata": {},
   "source": [
    "a) $$X \\sim Po(2.1)$$"
   ]
  },
  {
   "cell_type": "code",
   "execution_count": 1,
   "id": "00060f40-0797-46f2-8d10-ee26a7b1355a",
   "metadata": {},
   "outputs": [],
   "source": [
    "import math\n",
    "\n",
    "class poisson:\n",
    "    def __init__(self, lamb):\n",
    "        self.lamb = lamb\n",
    "\n",
    "    def prob(self, x):\n",
    "        pois = math.exp(-self.lamb) * (pow(self.lamb, x) / math.factorial(x))\n",
    "        return pois\n",
    "\n",
    "    def freq(self, event, sample):\n",
    "        freq = self.prob(event) * sample \n",
    "        freq = round(freq, 0)\n",
    "        return freq"
   ]
  },
  {
   "cell_type": "code",
   "execution_count": 2,
   "id": "76336169-e754-4a1e-9530-5f80fc3d59d9",
   "metadata": {},
   "outputs": [
    {
     "name": "stdout",
     "output_type": "stream",
     "text": [
      "b)(i) 0.6496313518820691\n"
     ]
    }
   ],
   "source": [
    "pois_dist = poisson(2.1)\n",
    "PXE0 = pois_dist.prob(0)\n",
    "PXE1 = pois_dist.prob(1)\n",
    "PXE2 = pois_dist.prob(2)\n",
    "ai = PXE0 + PXE1 + PXE2\n",
    "print(\"b)(i) \" + str(ai))"
   ]
  },
  {
   "cell_type": "code",
   "execution_count": 3,
   "id": "427c4721-3a40-427a-ab11-f94ca1f90e2f",
   "metadata": {},
   "outputs": [
    {
     "name": "stdout",
     "output_type": "stream",
     "text": [
      "b)(ii) 0.22224546620451535\n"
     ]
    }
   ],
   "source": [
    "mean = 2.1 / 7\n",
    "pois_dist = poisson(mean)\n",
    "PXE1 = pois_dist.prob(1)\n",
    "print(\"b)(ii) \" + str(PXE1))"
   ]
  },
  {
   "cell_type": "code",
   "execution_count": 4,
   "id": "61d584aa-70ce-4f80-b54b-b4d312eb6a37",
   "metadata": {},
   "outputs": [
    {
     "name": "stdout",
     "output_type": "stream",
     "text": [
      "reject the null\n"
     ]
    }
   ],
   "source": [
    "pois_dist = poisson(2.1)\n",
    "prob = 0\n",
    "x = 0\n",
    "while x <= 6:\n",
    "    prob = prob + pois_dist.prob(x)\n",
    "    x = x + 1\n",
    "test = 1 - prob\n",
    "if test > 0.05:\n",
    "    print(\"do not reject the null\")\n",
    "else:\n",
    "    print(\"reject the null\")"
   ]
  },
  {
   "cell_type": "markdown",
   "id": "895dfdf1-1dae-4c89-9e91-4627108b0cd1",
   "metadata": {},
   "source": [
    "c) Accidents are higher in wet weather"
   ]
  }
 ],
 "metadata": {
  "kernelspec": {
   "display_name": "Python 3 (ipykernel)",
   "language": "python",
   "name": "python3"
  },
  "language_info": {
   "codemirror_mode": {
    "name": "ipython",
    "version": 3
   },
   "file_extension": ".py",
   "mimetype": "text/x-python",
   "name": "python",
   "nbconvert_exporter": "python",
   "pygments_lexer": "ipython3",
   "version": "3.12.1"
  }
 },
 "nbformat": 4,
 "nbformat_minor": 5
}

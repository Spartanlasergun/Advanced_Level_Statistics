{
 "cells": [
  {
   "cell_type": "markdown",
   "id": "d644a060-b005-4c11-b9ea-a97581ba0fa7",
   "metadata": {},
   "source": [
    "# Question 7\n",
    "-----"
   ]
  },
  {
   "cell_type": "code",
   "execution_count": 1,
   "id": "562eee2e-1604-43e4-b688-9e4d13a6d11d",
   "metadata": {},
   "outputs": [],
   "source": [
    "import math\n",
    "\n",
    "class bino:\n",
    "    def __init__(self, n, p, q):\n",
    "        self.n = n\n",
    "        self.p = p\n",
    "        self.q = q\n",
    "        self.frequencies = []\n",
    "\n",
    "    def prob(self, r):\n",
    "        self.funk = ((math.factorial(self.n)) / (math.factorial(r) * math.factorial(((self.n)-r)))) * pow((self.q), ((self.n)-r)) * pow((self.p), r)\n",
    "        return self.funk\n",
    "\n",
    "    def freq(self, event, r):\n",
    "        event_prob = self.prob(r)\n",
    "        frequency = event_prob * event\n",
    "        frequency = round(frequency, 0)\n",
    "        return frequency"
   ]
  },
  {
   "cell_type": "code",
   "execution_count": 2,
   "id": "e6821e9f-85d5-43aa-9627-9697735f6b97",
   "metadata": {},
   "outputs": [
    {
     "name": "stdout",
     "output_type": "stream",
     "text": [
      "0.005467258656917329\n"
     ]
    }
   ],
   "source": [
    "p = 0.95\n",
    "q = 0.05\n",
    "n = 15\n",
    "bin_dist = bino(n, p, q)\n",
    "PXE15 = bin_dist.prob(15)\n",
    "PXE14 = bin_dist.prob(14)\n",
    "PXE13 = bin_dist.prob(13)\n",
    "PXE12 = bin_dist.prob(12)\n",
    "PXLE11 = 1 - (PXE15 + PXE14 + PXE13 + PXE12)\n",
    "print(PXLE11)"
   ]
  },
  {
   "cell_type": "markdown",
   "id": "67626610-9c0a-48eb-ae65-f5a82a34efa9",
   "metadata": {},
   "source": [
    "a) Tom would decide that the driving instructor's claim is false"
   ]
  },
  {
   "cell_type": "code",
   "execution_count": 3,
   "id": "7bf97a04-11d1-42c7-875e-2deeab3e034e",
   "metadata": {},
   "outputs": [
    {
     "name": "stdout",
     "output_type": "stream",
     "text": [
      "0---3.0517578125000026e-20\n",
      "1---8.728027343750006e-18\n",
      "2---1.1654968261718756e-15\n",
      "3---9.640612792968756e-14\n",
      "4---5.525122100830081e-12\n",
      "5---2.3244544976806647e-10\n",
      "6---7.418255825897218e-09\n",
      "7---1.8295733787133792e-07\n",
      "8---3.5181998967347105e-06\n",
      "9---5.280567326660455e-05\n",
      "10---0.0006146828696831206\n",
      "11---0.005467258656916669\n",
      "12---0.036200238642729136\n",
      "13---0.17095253550359918\n"
     ]
    }
   ],
   "source": [
    "prob = 0\n",
    "x = 0\n",
    "while prob < 0.05:\n",
    "    prob = prob + (bin_dist.prob(x))\n",
    "    print(str(x) + \"---\" + str(prob))\n",
    "    x = x + 1"
   ]
  },
  {
   "cell_type": "markdown",
   "id": "103ff3c6-7201-4e6a-b951-9c8e1c3830ea",
   "metadata": {},
   "source": [
    "b) $P(X \\le 12)$\n",
    "\n",
    "Hence, for failures\n",
    "\n",
    "$$P(X \\ge 3)$$"
   ]
  }
 ],
 "metadata": {
  "kernelspec": {
   "display_name": "Python 3 (ipykernel)",
   "language": "python",
   "name": "python3"
  },
  "language_info": {
   "codemirror_mode": {
    "name": "ipython",
    "version": 3
   },
   "file_extension": ".py",
   "mimetype": "text/x-python",
   "name": "python",
   "nbconvert_exporter": "python",
   "pygments_lexer": "ipython3",
   "version": "3.12.1"
  }
 },
 "nbformat": 4,
 "nbformat_minor": 5
}

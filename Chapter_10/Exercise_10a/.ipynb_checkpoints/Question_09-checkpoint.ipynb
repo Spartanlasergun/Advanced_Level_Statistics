{
 "cells": [
  {
   "cell_type": "markdown",
   "id": "4dc92121-65af-4701-8a99-81b2f5d52d03",
   "metadata": {},
   "source": [
    "# Question 9\n",
    "-----"
   ]
  },
  {
   "cell_type": "code",
   "execution_count": 1,
   "id": "4b85d6dd-7187-4d6b-b5ae-8d0cbba061f1",
   "metadata": {},
   "outputs": [],
   "source": [
    "import math\n",
    "\n",
    "class bino:\n",
    "    def __init__(self, n, p, q):\n",
    "        self.n = n\n",
    "        self.p = p\n",
    "        self.q = q\n",
    "        self.frequencies = []\n",
    "\n",
    "    def prob(self, r):\n",
    "        self.funk = ((math.factorial(self.n)) / (math.factorial(r) * math.factorial(((self.n)-r)))) * pow((self.q), ((self.n)-r)) * pow((self.p), r)\n",
    "        return self.funk\n",
    "\n",
    "    def freq(self, event, r):\n",
    "        event_prob = self.prob(r)\n",
    "        frequency = event_prob * event\n",
    "        frequency = round(frequency, 0)\n",
    "        return frequency"
   ]
  },
  {
   "cell_type": "code",
   "execution_count": 2,
   "id": "ed6e8359-a18d-434e-b04a-145336282451",
   "metadata": {},
   "outputs": [
    {
     "name": "stdout",
     "output_type": "stream",
     "text": [
      "0---0.0033232930569600965\n",
      "1---0.026111588304686476\n",
      "2---0.09935968017237841\n",
      "3---0.24585586390776226\n"
     ]
    }
   ],
   "source": [
    "p = 0.3\n",
    "q = 0.7\n",
    "n = 16\n",
    "bin_dist = bino(n, p, q)\n",
    "prob = 0\n",
    "x = 0\n",
    "while prob < 0.1:\n",
    "    prob = prob + (bin_dist.prob(x))\n",
    "    print(str(x) + \"---\" + str(prob))\n",
    "    x = x + 1"
   ]
  },
  {
   "cell_type": "markdown",
   "id": "69280ba5-e884-42ea-991e-bace11e59444",
   "metadata": {},
   "source": [
    "a) $P(X \\le 2)$"
   ]
  },
  {
   "cell_type": "code",
   "execution_count": 3,
   "id": "e6a7e810-8927-46b9-b473-84ecde391cd5",
   "metadata": {},
   "outputs": [
    {
     "name": "stdout",
     "output_type": "stream",
     "text": [
      "3---0.2078760601580143\n",
      "4---0.43307512532919645\n",
      "5---0.6132343774661422\n",
      "6---0.7233316982164979\n",
      "7---0.7757589938119054\n",
      "8---0.7954192296601832\n",
      "9---0.8012444847263396\n",
      "10---0.8026037109084427\n",
      "11---0.8028508429415524\n",
      "12---0.8028851668350399\n",
      "13---0.8028886872343719\n",
      "14---0.802888938691467\n",
      "15---0.8028889498673379\n",
      "16---0.8028889501001686\n"
     ]
    }
   ],
   "source": [
    "p = 0.25\n",
    "q = 0.75\n",
    "n = 16\n",
    "bin_dist = bino(n, p, q)\n",
    "prob = 0\n",
    "x = 3\n",
    "while x != 17:\n",
    "    prob = prob + (bin_dist.prob(x))\n",
    "    print(str(x) + \"---\" + str(prob))\n",
    "    x = x + 1"
   ]
  },
  {
   "cell_type": "markdown",
   "id": "3aabbe7d-70a5-47b0-a568-a98697c32aed",
   "metadata": {},
   "source": [
    "b) 0.803"
   ]
  }
 ],
 "metadata": {
  "kernelspec": {
   "display_name": "Python 3 (ipykernel)",
   "language": "python",
   "name": "python3"
  },
  "language_info": {
   "codemirror_mode": {
    "name": "ipython",
    "version": 3
   },
   "file_extension": ".py",
   "mimetype": "text/x-python",
   "name": "python",
   "nbconvert_exporter": "python",
   "pygments_lexer": "ipython3",
   "version": "3.12.1"
  }
 },
 "nbformat": 4,
 "nbformat_minor": 5
}

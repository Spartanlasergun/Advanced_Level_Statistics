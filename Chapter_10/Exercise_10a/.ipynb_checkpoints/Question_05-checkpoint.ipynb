{
 "cells": [
  {
   "cell_type": "markdown",
   "id": "df485ee9-e5f3-46f1-9b0f-ebbd424808b5",
   "metadata": {},
   "source": [
    "# Question 5\n",
    "-----"
   ]
  },
  {
   "cell_type": "code",
   "execution_count": 1,
   "id": "0adba73d-653e-4348-b2e0-c30ff60ff811",
   "metadata": {},
   "outputs": [],
   "source": [
    "import math\n",
    "\n",
    "class bino:\n",
    "    def __init__(self, n, p, q):\n",
    "        self.n = n\n",
    "        self.p = p\n",
    "        self.q = q\n",
    "        self.frequencies = []\n",
    "\n",
    "    def prob(self, r):\n",
    "        self.funk = ((math.factorial(self.n)) / (math.factorial(r) * math.factorial(((self.n)-r)))) * pow((self.q), ((self.n)-r)) * pow((self.p), r)\n",
    "        return self.funk\n",
    "\n",
    "    def freq(self, event, r):\n",
    "        event_prob = self.prob(r)\n",
    "        frequency = event_prob * event\n",
    "        frequency = round(frequency, 0)\n",
    "        return frequency"
   ]
  },
  {
   "cell_type": "code",
   "execution_count": 2,
   "id": "d4b85b17-a337-4d65-ad57-d5a28c302096",
   "metadata": {},
   "outputs": [
    {
     "name": "stdout",
     "output_type": "stream",
     "text": [
      "9---1.9682999999999994e-05\n",
      "8---0.0004330259999999998\n",
      "7---0.004290893999999998\n",
      "6---0.02529484199999999\n",
      "5---0.09880865999999996\n",
      "4---0.2703409019999999\n"
     ]
    }
   ],
   "source": [
    "p = 0.3\n",
    "q = 0.7\n",
    "n = 9\n",
    "bin_dist = bino(n, p, q)\n",
    "prob = 0\n",
    "x = 10\n",
    "while prob < 0.1:\n",
    "    x = x - 1\n",
    "    prob = prob + (bin_dist.prob(x))\n",
    "    print(str(x) + \"---\" +  str(prob))"
   ]
  },
  {
   "cell_type": "markdown",
   "id": "a30a0f06-95b2-4326-921f-1532a2af6ec4",
   "metadata": {},
   "source": [
    "Hence, the critical region exists for $P(X \\ge 5)$"
   ]
  },
  {
   "cell_type": "markdown",
   "id": "cb6185d9-487d-4abd-965f-ca58abef2600",
   "metadata": {},
   "source": [
    "Type I error is a false positive. This occurs when the null hypothesis is rejected when it should be accepted"
   ]
  },
  {
   "cell_type": "markdown",
   "id": "814b3d89-b90c-4dd1-91d5-b051d3abd127",
   "metadata": {},
   "source": [
    "c) 0.1"
   ]
  }
 ],
 "metadata": {
  "kernelspec": {
   "display_name": "Python 3 (ipykernel)",
   "language": "python",
   "name": "python3"
  },
  "language_info": {
   "codemirror_mode": {
    "name": "ipython",
    "version": 3
   },
   "file_extension": ".py",
   "mimetype": "text/x-python",
   "name": "python",
   "nbconvert_exporter": "python",
   "pygments_lexer": "ipython3",
   "version": "3.12.1"
  }
 },
 "nbformat": 4,
 "nbformat_minor": 5
}

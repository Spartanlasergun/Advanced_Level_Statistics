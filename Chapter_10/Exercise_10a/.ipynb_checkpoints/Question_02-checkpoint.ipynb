{
 "cells": [
  {
   "cell_type": "markdown",
   "id": "881db160-155a-47f3-abd7-6fb3d12f0914",
   "metadata": {},
   "source": [
    "# Question 2\n",
    "-----"
   ]
  },
  {
   "cell_type": "markdown",
   "id": "e2eea8e3-6651-4d53-9488-c911e5d23ec1",
   "metadata": {},
   "source": [
    "a)\n",
    "$$H_0: p = \\frac{1}{6}$$\n",
    "\n",
    "$$H_1: p > \\frac{1}{6}$$"
   ]
  },
  {
   "cell_type": "code",
   "execution_count": 1,
   "id": "eb2bf42f-fb97-4f33-a97d-ecbdacfd188a",
   "metadata": {},
   "outputs": [],
   "source": [
    "import math\n",
    "\n",
    "class bino:\n",
    "    def __init__(self, n, p, q):\n",
    "        self.n = n\n",
    "        self.p = p\n",
    "        self.q = q\n",
    "        self.frequencies = []\n",
    "\n",
    "    def prob(self, r):\n",
    "        self.funk = ((math.factorial(self.n)) / (math.factorial(r) * math.factorial(((self.n)-r)))) * pow((self.q), ((self.n)-r)) * pow((self.p), r)\n",
    "        return self.funk\n",
    "\n",
    "    def freq(self, event, r):\n",
    "        event_prob = self.prob(r)\n",
    "        frequency = event_prob * event\n",
    "        frequency = round(frequency, 0)\n",
    "        return frequency"
   ]
  },
  {
   "cell_type": "code",
   "execution_count": 2,
   "id": "753ef609-9ff6-4213-903b-6f7fed959ff8",
   "metadata": {},
   "outputs": [
    {
     "name": "stdout",
     "output_type": "stream",
     "text": [
      "0.02739410550852639\n"
     ]
    }
   ],
   "source": [
    "p = 1/6\n",
    "q = 1 - p\n",
    "n = 15\n",
    "bin_dist = bino(n, p, q)\n",
    "PXE0 = bin_dist.prob(0)\n",
    "PXE1 = bin_dist.prob(1)\n",
    "PXE2 = bin_dist.prob(2)\n",
    "PXE3 = bin_dist.prob(3)\n",
    "PXE4 = bin_dist.prob(4)\n",
    "PXE5 = bin_dist.prob(5)\n",
    "PXGE6 = 1 - (PXE0 + PXE1 + PXE2 + PXE3 + PXE4 + PXE5)\n",
    "print(PXGE6)"
   ]
  },
  {
   "cell_type": "markdown",
   "id": "a77d7a5a-9346-4db2-8ef3-8553fb1f1fef",
   "metadata": {},
   "source": [
    "$$p < \\frac{1}{6}$$\n",
    "\n",
    "hence, the null hypothesis is rejected."
   ]
  }
 ],
 "metadata": {
  "kernelspec": {
   "display_name": "Python 3 (ipykernel)",
   "language": "python",
   "name": "python3"
  },
  "language_info": {
   "codemirror_mode": {
    "name": "ipython",
    "version": 3
   },
   "file_extension": ".py",
   "mimetype": "text/x-python",
   "name": "python",
   "nbconvert_exporter": "python",
   "pygments_lexer": "ipython3",
   "version": "3.12.1"
  }
 },
 "nbformat": 4,
 "nbformat_minor": 5
}

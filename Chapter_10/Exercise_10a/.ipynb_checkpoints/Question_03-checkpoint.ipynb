{
 "cells": [
  {
   "cell_type": "markdown",
   "id": "874cf9a6-bca7-4ca7-a64d-2ade22dec462",
   "metadata": {},
   "source": [
    "# Question 3\n",
    "-----"
   ]
  },
  {
   "cell_type": "code",
   "execution_count": 1,
   "id": "9a748ff1-d6cb-4042-a392-051e4f581596",
   "metadata": {},
   "outputs": [],
   "source": [
    "import math\n",
    "\n",
    "class bino:\n",
    "    def __init__(self, n, p, q):\n",
    "        self.n = n\n",
    "        self.p = p\n",
    "        self.q = q\n",
    "        self.frequencies = []\n",
    "\n",
    "    def prob(self, r):\n",
    "        self.funk = ((math.factorial(self.n)) / (math.factorial(r) * math.factorial(((self.n)-r)))) * pow((self.q), ((self.n)-r)) * pow((self.p), r)\n",
    "        return self.funk\n",
    "\n",
    "    def freq(self, event, r):\n",
    "        event_prob = self.prob(r)\n",
    "        frequency = event_prob * event\n",
    "        frequency = round(frequency, 0)\n",
    "        return frequency"
   ]
  },
  {
   "cell_type": "code",
   "execution_count": 2,
   "id": "970b32be-1ebf-4ba8-a8f4-c7d7de33e877",
   "metadata": {},
   "outputs": [
    {
     "name": "stdout",
     "output_type": "stream",
     "text": [
      "0.10199494557773442\n"
     ]
    }
   ],
   "source": [
    "p = 0.45\n",
    "q = 1 - p\n",
    "n = 10\n",
    "bin_dist = bino(n, p, q)\n",
    "PXE7 = bin_dist.prob(7)\n",
    "PXE8 = bin_dist.prob(8)\n",
    "PXE9 = bin_dist.prob(9)\n",
    "PXE10 = bin_dist.prob(10)\n",
    "PXGE7 = PXE7 + PXE8 + PXE9 + PXE10\n",
    "print(PXGE7)"
   ]
  },
  {
   "cell_type": "markdown",
   "id": "8f04f4d0-4ae1-4ccb-85da-e72883904917",
   "metadata": {},
   "source": [
    "$P(X \\ge 7) \\approx 10.2\\% $\n",
    "Hence, the null is not rejected at the 8% level"
   ]
  },
  {
   "cell_type": "code",
   "execution_count": 3,
   "id": "5d9ea448-fc32-42cb-b74a-7a2c0fd4f3b8",
   "metadata": {},
   "outputs": [
    {
     "name": "stdout",
     "output_type": "stream",
     "text": [
      "0.023257101249121115\n"
     ]
    }
   ],
   "source": [
    "PXE0 = bin_dist.prob(0)\n",
    "PXE1 = bin_dist.prob(1)\n",
    "PXLE1 = PXE0 + PXE1\n",
    "print(PXLE1)"
   ]
  },
  {
   "cell_type": "markdown",
   "id": "49a80f7e-b4a4-4772-bccb-b629f9559e6e",
   "metadata": {},
   "source": [
    "$P(X \\le 1) \\approx 2.3\\%$ Hence, the null hypothesis is rejected"
   ]
  }
 ],
 "metadata": {
  "kernelspec": {
   "display_name": "Python 3 (ipykernel)",
   "language": "python",
   "name": "python3"
  },
  "language_info": {
   "codemirror_mode": {
    "name": "ipython",
    "version": 3
   },
   "file_extension": ".py",
   "mimetype": "text/x-python",
   "name": "python",
   "nbconvert_exporter": "python",
   "pygments_lexer": "ipython3",
   "version": "3.12.1"
  }
 },
 "nbformat": 4,
 "nbformat_minor": 5
}

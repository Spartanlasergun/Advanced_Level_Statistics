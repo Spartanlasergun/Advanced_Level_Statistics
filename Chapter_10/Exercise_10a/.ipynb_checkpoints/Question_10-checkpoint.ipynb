{
 "cells": [
  {
   "cell_type": "markdown",
   "id": "0105f282-c701-4d30-80b4-58d27111a475",
   "metadata": {},
   "source": [
    "# Question 10\n",
    "-----"
   ]
  },
  {
   "cell_type": "code",
   "execution_count": 1,
   "id": "179e1eee-021e-4443-9883-4b73d23637a9",
   "metadata": {},
   "outputs": [],
   "source": [
    "import math\n",
    "\n",
    "class bino:\n",
    "    def __init__(self, n, p, q):\n",
    "        self.n = n\n",
    "        self.p = p\n",
    "        self.q = q\n",
    "        self.frequencies = []\n",
    "\n",
    "    def prob(self, r):\n",
    "        self.funk = ((math.factorial(self.n)) / (math.factorial(r) * math.factorial(((self.n)-r)))) * pow((self.q), ((self.n)-r)) * pow((self.p), r)\n",
    "        return self.funk\n",
    "\n",
    "    def freq(self, event, r):\n",
    "        event_prob = self.prob(r)\n",
    "        frequency = event_prob * event\n",
    "        frequency = round(frequency, 0)\n",
    "        return frequency"
   ]
  },
  {
   "cell_type": "code",
   "execution_count": 2,
   "id": "22ff5554-5cf9-4e71-8ae3-73ef6de383ac",
   "metadata": {},
   "outputs": [
    {
     "name": "stdout",
     "output_type": "stream",
     "text": [
      "0.84912109375\n"
     ]
    }
   ],
   "source": [
    "p = 0.5\n",
    "q = 0.5\n",
    "n = 15\n",
    "bin_dist = bino(n, p, q)\n",
    "prob = 0\n",
    "x = 0\n",
    "while x < 10:\n",
    "    prob = prob + bin_dist.prob(x)\n",
    "    x = x + 1\n",
    "print(prob)    "
   ]
  },
  {
   "cell_type": "markdown",
   "id": "61729847-30e9-4a51-8034-61c3addf686e",
   "metadata": {},
   "source": [
    "a) Significance Level $\\approx 15\\%$"
   ]
  },
  {
   "cell_type": "markdown",
   "id": "ca1ea270-50c4-4776-adca-e5815e51b6b4",
   "metadata": {},
   "source": [
    "b) $15\\%$ or 0.15"
   ]
  },
  {
   "cell_type": "code",
   "execution_count": 3,
   "id": "6e1755e7-25e2-45c0-a0fa-5d02ddeb983e",
   "metadata": {},
   "outputs": [
    {
     "name": "stdout",
     "output_type": "stream",
     "text": [
      "0.2783785597956358\n"
     ]
    }
   ],
   "source": [
    "p = 0.7\n",
    "q = 0.3\n",
    "n = 15\n",
    "bin_dist = bino(n, p, q)\n",
    "prob = 0\n",
    "x = 0\n",
    "while x < 10:\n",
    "    prob = prob + bin_dist.prob(x)\n",
    "    x = x + 1\n",
    "print(prob) "
   ]
  },
  {
   "cell_type": "markdown",
   "id": "25664bbc-e3b2-44d0-860c-0f1745ab8a1c",
   "metadata": {},
   "source": [
    "c) $27.84\\%$ or 0.278"
   ]
  }
 ],
 "metadata": {
  "kernelspec": {
   "display_name": "Python 3 (ipykernel)",
   "language": "python",
   "name": "python3"
  },
  "language_info": {
   "codemirror_mode": {
    "name": "ipython",
    "version": 3
   },
   "file_extension": ".py",
   "mimetype": "text/x-python",
   "name": "python",
   "nbconvert_exporter": "python",
   "pygments_lexer": "ipython3",
   "version": "3.12.1"
  }
 },
 "nbformat": 4,
 "nbformat_minor": 5
}

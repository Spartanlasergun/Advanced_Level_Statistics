{
 "cells": [
  {
   "cell_type": "markdown",
   "id": "0a7aadf8-7363-489a-a790-868174f8a894",
   "metadata": {},
   "source": [
    "# Question 6\n",
    "-----"
   ]
  },
  {
   "cell_type": "code",
   "execution_count": 1,
   "id": "32acd245-0ff4-4489-8d5d-bf551f20f4c2",
   "metadata": {},
   "outputs": [],
   "source": [
    "import math\n",
    "\n",
    "class bino:\n",
    "    def __init__(self, n, p, q):\n",
    "        self.n = n\n",
    "        self.p = p\n",
    "        self.q = q\n",
    "        self.frequencies = []\n",
    "\n",
    "    def prob(self, r):\n",
    "        self.funk = ((math.factorial(self.n)) / (math.factorial(r) * math.factorial(((self.n)-r)))) * pow((self.q), ((self.n)-r)) * pow((self.p), r)\n",
    "        return self.funk\n",
    "\n",
    "    def freq(self, event, r):\n",
    "        event_prob = self.prob(r)\n",
    "        frequency = event_prob * event\n",
    "        frequency = round(frequency, 0)\n",
    "        return frequency"
   ]
  },
  {
   "cell_type": "code",
   "execution_count": 2,
   "id": "e77f6f44-5a3f-4212-af28-af8609d8953a",
   "metadata": {},
   "outputs": [
    {
     "name": "stdout",
     "output_type": "stream",
     "text": [
      "0.08845586332031251\n"
     ]
    }
   ],
   "source": [
    "p = 0.45\n",
    "q = 1 - p\n",
    "n = 8\n",
    "bin_dist = bino(n, p, q)\n",
    "PXE8 = bin_dist.prob(8)\n",
    "PXE7 = bin_dist.prob(7)\n",
    "PXE6 = bin_dist.prob(6)\n",
    "PXGE6 = PXE6 + PXE7 + PXE8\n",
    "print(PXGE6)"
   ]
  },
  {
   "cell_type": "markdown",
   "id": "b4654fe9-256c-42b4-93b8-8d25a6891106",
   "metadata": {},
   "source": [
    "a) Null hypothesis accepted"
   ]
  },
  {
   "cell_type": "code",
   "execution_count": 3,
   "id": "961e5e54-8469-45cd-8b28-c5ce5b6a54de",
   "metadata": {},
   "outputs": [
    {
     "name": "stdout",
     "output_type": "stream",
     "text": [
      "0.023257101249121115\n"
     ]
    }
   ],
   "source": [
    "p = 0.45\n",
    "q = 1 - p\n",
    "n = 10\n",
    "bin_dist = bino(n, p, q)\n",
    "PXE0 = bin_dist.prob(0)\n",
    "PXE1 = bin_dist.prob(1)\n",
    "PXLE1 = PXE0 + PXE1\n",
    "print(PXLE1)"
   ]
  },
  {
   "cell_type": "markdown",
   "id": "ab7039c4-89e7-4e7d-ba01-fad3f5b2bb41",
   "metadata": {},
   "source": [
    "b) Null hypothesis rejected"
   ]
  },
  {
   "cell_type": "code",
   "execution_count": 4,
   "id": "ab628eb7-ad93-46f0-9935-6a5ba5fd31a1",
   "metadata": {},
   "outputs": [
    {
     "name": "stdout",
     "output_type": "stream",
     "text": [
      "0.042193837938192424\n"
     ]
    }
   ],
   "source": [
    "p = 0.35\n",
    "q = 1 - p\n",
    "n = 15\n",
    "bin_dist = bino(n, p, q)\n",
    "PXE15 = bin_dist.prob(15)\n",
    "PXE14 = bin_dist.prob(14)\n",
    "PXE13 = bin_dist.prob(13)\n",
    "PXE12 = bin_dist.prob(12)\n",
    "PXE11 = bin_dist.prob(11)\n",
    "PXE10 = bin_dist.prob(10)\n",
    "PXE9 = bin_dist.prob(9)\n",
    "PXGE9 = PXE15 + PXE14 + PXE13 + PXE12 + PXE11 + PXE10 + PXE9\n",
    "print(PXGE9)"
   ]
  },
  {
   "cell_type": "markdown",
   "id": "8355add4-c54b-40e6-8765-169ad0170b4d",
   "metadata": {},
   "source": [
    "c) Null hypothesis rejected"
   ]
  },
  {
   "cell_type": "markdown",
   "id": "3674d546-7cd0-41a0-856e-01cdc36fe9a7",
   "metadata": {},
   "source": [
    "d) Null hypothesis accepted"
   ]
  },
  {
   "cell_type": "code",
   "execution_count": 5,
   "id": "65d79edf-f5a4-4014-93fd-00e0a4ac4303",
   "metadata": {},
   "outputs": [
    {
     "name": "stdout",
     "output_type": "stream",
     "text": [
      "0.1495031400156251\n"
     ]
    }
   ],
   "source": [
    "p = 0.45\n",
    "q = 1 - p\n",
    "n = 9\n",
    "bin_dist = bino(n, p, q)\n",
    "PXE0 = bin_dist.prob(0)\n",
    "PXE1 = bin_dist.prob(1)\n",
    "PXE2 = bin_dist.prob(2)\n",
    "PXLE2 = PXE0 + PXE1 + PXE2\n",
    "print(PXLE2)"
   ]
  },
  {
   "cell_type": "markdown",
   "id": "d4f8afde-24e6-4a09-92e7-f37330e6ce18",
   "metadata": {},
   "source": [
    "e) Null hypothesis accepted"
   ]
  },
  {
   "cell_type": "code",
   "execution_count": 6,
   "id": "c64d48ab-8f79-4b1d-bf6e-46f6e0bb3bda",
   "metadata": {},
   "outputs": [
    {
     "name": "stdout",
     "output_type": "stream",
     "text": [
      "0.0015307441509554336\n"
     ]
    }
   ],
   "source": [
    "p = 0.45\n",
    "q = 1 - p\n",
    "n = 20\n",
    "bin_dist = bino(n, p, q)\n",
    "PXE20 = bin_dist.prob(20)\n",
    "PXE19 = bin_dist.prob(19)\n",
    "PXE18 = bin_dist.prob(18)\n",
    "PXE17 = bin_dist.prob(17)\n",
    "PXE16 = bin_dist.prob(16)\n",
    "PXGE16 = PXE20 + PXE19 + PXE18 + PXE17 + PXE16\n",
    "print(PXGE16)"
   ]
  },
  {
   "cell_type": "markdown",
   "id": "e78ea6ae-04e1-45c4-a6a7-160059b15486",
   "metadata": {},
   "source": [
    "f) Null hypothesis rejected"
   ]
  },
  {
   "cell_type": "code",
   "execution_count": 7,
   "id": "486ab03b-6845-41d9-b229-faeff3649043",
   "metadata": {},
   "outputs": [
    {
     "name": "stdout",
     "output_type": "stream",
     "text": [
      "0.09625600000000004\n"
     ]
    }
   ],
   "source": [
    "p = 0.4\n",
    "q = 1 - p\n",
    "n = 7\n",
    "bin_dist = bino(n, p, q)\n",
    "PXE7 = bin_dist.prob(7)\n",
    "PXE6 = bin_dist.prob(6)\n",
    "PXE5 = bin_dist.prob(5)\n",
    "PXGE5 = PXE7 + PXE6 + PXE5\n",
    "print(PXGE5)"
   ]
  },
  {
   "cell_type": "markdown",
   "id": "4d528477-b6d8-4673-8f76-d95f2055cce2",
   "metadata": {},
   "source": [
    "g) Null hypothesis rejected"
   ]
  },
  {
   "cell_type": "code",
   "execution_count": 8,
   "id": "4035ce10-7ae9-4615-8ca0-956565a0c8ea",
   "metadata": {},
   "outputs": [
    {
     "name": "stdout",
     "output_type": "stream",
     "text": [
      "0.03548313229846864\n"
     ]
    }
   ],
   "source": [
    "p = 0.3\n",
    "q = 1 - p\n",
    "n = 20\n",
    "bin_dist = bino(n, p, q)\n",
    "PXE0 = bin_dist.prob(0)\n",
    "PXE1 = bin_dist.prob(1)\n",
    "PXE2 = bin_dist.prob(2)\n",
    "PXLE2 = PXE0 + PXE1 + PXE2\n",
    "print(PXLE2)"
   ]
  },
  {
   "cell_type": "markdown",
   "id": "8a7bd107-6cab-48e9-8a68-279c000fe58f",
   "metadata": {},
   "source": [
    "h) Null hypothesis accepted"
   ]
  }
 ],
 "metadata": {
  "kernelspec": {
   "display_name": "Python 3 (ipykernel)",
   "language": "python",
   "name": "python3"
  },
  "language_info": {
   "codemirror_mode": {
    "name": "ipython",
    "version": 3
   },
   "file_extension": ".py",
   "mimetype": "text/x-python",
   "name": "python",
   "nbconvert_exporter": "python",
   "pygments_lexer": "ipython3",
   "version": "3.12.1"
  }
 },
 "nbformat": 4,
 "nbformat_minor": 5
}

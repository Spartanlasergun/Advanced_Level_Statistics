{
 "cells": [
  {
   "cell_type": "markdown",
   "id": "92bf9d2b-4c92-4179-835d-daf1116c15b4",
   "metadata": {},
   "source": [
    "# Question 11\n",
    "-----"
   ]
  },
  {
   "cell_type": "code",
   "execution_count": 1,
   "id": "abb3b2bf-1886-43f3-8745-3d128eb5cf61",
   "metadata": {},
   "outputs": [],
   "source": [
    "import math\n",
    "\n",
    "class bino:\n",
    "    def __init__(self, n, p, q):\n",
    "        self.n = n\n",
    "        self.p = p\n",
    "        self.q = q\n",
    "        self.frequencies = []\n",
    "\n",
    "    def prob(self, r):\n",
    "        self.funk = ((math.factorial(self.n)) / (math.factorial(r) * math.factorial(((self.n)-r)))) * pow((self.q), ((self.n)-r)) * pow((self.p), r)\n",
    "        return self.funk\n",
    "\n",
    "    def freq(self, event, r):\n",
    "        event_prob = self.prob(r)\n",
    "        frequency = event_prob * event\n",
    "        frequency = round(frequency, 0)\n",
    "        return frequency"
   ]
  },
  {
   "cell_type": "code",
   "execution_count": 2,
   "id": "522e63c6-7faf-4abe-a46c-0ba75d107670",
   "metadata": {},
   "outputs": [
    {
     "name": "stdout",
     "output_type": "stream",
     "text": [
      "0.07356525783017373\n"
     ]
    }
   ],
   "source": [
    "p = 0.4\n",
    "q = 0.6\n",
    "n = 25\n",
    "bin_dist = bino(n, p, q)\n",
    "x = 0\n",
    "prob = 0\n",
    "while x <= 6:\n",
    "    prob = prob + (bin_dist.prob(x))\n",
    "    x = x + 1\n",
    "print(prob)"
   ]
  },
  {
   "cell_type": "markdown",
   "id": "945e5e69-b957-438e-834d-207b81bda314",
   "metadata": {},
   "source": [
    "a) Significance Level $\\approx 7.4\\%$"
   ]
  },
  {
   "cell_type": "markdown",
   "id": "157a197a-a114-4f93-bff5-51ba6261f20a",
   "metadata": {},
   "source": [
    "b) $7.4\\%$ or 0.074"
   ]
  },
  {
   "cell_type": "code",
   "execution_count": 3,
   "id": "e19d55d6-52a9-4a59-b514-2b9e8ecf74db",
   "metadata": {},
   "outputs": [
    {
     "name": "stdout",
     "output_type": "stream",
     "text": [
      "0.6593450957206086\n"
     ]
    }
   ],
   "source": [
    "p = 0.3\n",
    "q = 0.7\n",
    "n = 25\n",
    "bin_dist = bino(n, p, q)\n",
    "x = 0\n",
    "prob = 0\n",
    "while x <= 6:\n",
    "    prob = prob + (bin_dist.prob(x))\n",
    "    x = x + 1\n",
    "\n",
    "type2 = 1 - prob\n",
    "print(type2)"
   ]
  },
  {
   "cell_type": "markdown",
   "id": "30fe091b-7ce9-4dce-9399-b67194b327c5",
   "metadata": {},
   "source": [
    "c) $66\\%$ or 0.66"
   ]
  }
 ],
 "metadata": {
  "kernelspec": {
   "display_name": "Python 3 (ipykernel)",
   "language": "python",
   "name": "python3"
  },
  "language_info": {
   "codemirror_mode": {
    "name": "ipython",
    "version": 3
   },
   "file_extension": ".py",
   "mimetype": "text/x-python",
   "name": "python",
   "nbconvert_exporter": "python",
   "pygments_lexer": "ipython3",
   "version": "3.12.1"
  }
 },
 "nbformat": 4,
 "nbformat_minor": 5
}

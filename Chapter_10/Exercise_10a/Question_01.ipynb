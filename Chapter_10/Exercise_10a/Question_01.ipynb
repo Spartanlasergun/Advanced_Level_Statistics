{
 "cells": [
  {
   "cell_type": "markdown",
   "id": "90217bbb-25cb-4a94-89ea-1172aa1f8e6c",
   "metadata": {},
   "source": [
    "# Question 1\n",
    "-----"
   ]
  },
  {
   "cell_type": "markdown",
   "id": "635ea7f1-7617-4f8b-b0d8-b5c351e1e4a1",
   "metadata": {},
   "source": [
    "$$H_0: p = 0.7$$\n",
    "\n",
    "$$H_1: p > 0.7$$"
   ]
  },
  {
   "cell_type": "code",
   "execution_count": 1,
   "id": "789c0d9a-84ee-47a5-ad45-15f49a0fb977",
   "metadata": {},
   "outputs": [],
   "source": [
    "import math\n",
    "\n",
    "class bino:\n",
    "    def __init__(self, n, p, q):\n",
    "        self.n = n\n",
    "        self.p = p\n",
    "        self.q = q\n",
    "        self.frequencies = []\n",
    "\n",
    "    def prob(self, r):\n",
    "        self.funk = ((math.factorial(self.n)) / (math.factorial(r) * math.factorial(((self.n)-r)))) * pow((self.q), ((self.n)-r)) * pow((self.p), r)\n",
    "        return self.funk\n",
    "\n",
    "    def freq(self, event, r):\n",
    "        event_prob = self.prob(r)\n",
    "        frequency = event_prob * event\n",
    "        frequency = round(frequency, 0)\n",
    "        return frequency"
   ]
  },
  {
   "cell_type": "code",
   "execution_count": 2,
   "id": "f1ecd31e-7af2-45cd-abe1-7f974eabc9bf",
   "metadata": {},
   "outputs": [
    {
     "name": "stdout",
     "output_type": "stream",
     "text": [
      "0.14930834589999994\n"
     ]
    }
   ],
   "source": [
    "p = 0.7\n",
    "q = 1 - p\n",
    "n = 10\n",
    "bin_dist = bino(n, p, q)\n",
    "PXE9 = bin_dist.prob(9)\n",
    "PXE10 = bin_dist.prob(10)\n",
    "PXGE9 = PXE9 + PXE10\n",
    "print(PXGE9)"
   ]
  },
  {
   "cell_type": "markdown",
   "id": "38671230-820e-4b9f-a9ee-f1fc822a2dc9",
   "metadata": {},
   "source": [
    "No, this is not significant at the 5% level"
   ]
  }
 ],
 "metadata": {
  "kernelspec": {
   "display_name": "Python 3 (ipykernel)",
   "language": "python",
   "name": "python3"
  },
  "language_info": {
   "codemirror_mode": {
    "name": "ipython",
    "version": 3
   },
   "file_extension": ".py",
   "mimetype": "text/x-python",
   "name": "python",
   "nbconvert_exporter": "python",
   "pygments_lexer": "ipython3",
   "version": "3.12.1"
  }
 },
 "nbformat": 4,
 "nbformat_minor": 5
}

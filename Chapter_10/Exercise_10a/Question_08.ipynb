{
 "cells": [
  {
   "cell_type": "markdown",
   "id": "34267f8e-75dd-4c3a-b704-2284080a4bf1",
   "metadata": {},
   "source": [
    "# Question 8\n",
    "-----"
   ]
  },
  {
   "cell_type": "code",
   "execution_count": 1,
   "id": "025b840a-5567-47de-a35d-9c62e4dec987",
   "metadata": {},
   "outputs": [],
   "source": [
    "import math\n",
    "\n",
    "class bino:\n",
    "    def __init__(self, n, p, q):\n",
    "        self.n = n\n",
    "        self.p = p\n",
    "        self.q = q\n",
    "        self.frequencies = []\n",
    "\n",
    "    def prob(self, r):\n",
    "        self.funk = ((math.factorial(self.n)) / (math.factorial(r) * math.factorial(((self.n)-r)))) * pow((self.q), ((self.n)-r)) * pow((self.p), r)\n",
    "        return self.funk\n",
    "\n",
    "    def freq(self, event, r):\n",
    "        event_prob = self.prob(r)\n",
    "        frequency = event_prob * event\n",
    "        frequency = round(frequency, 0)\n",
    "        return frequency"
   ]
  },
  {
   "cell_type": "code",
   "execution_count": 2,
   "id": "99642561-06c0-4e99-a27e-59b157986a06",
   "metadata": {},
   "outputs": [
    {
     "name": "stdout",
     "output_type": "stream",
     "text": [
      "0.0546875\n"
     ]
    }
   ],
   "source": [
    "p = 0.5\n",
    "q = 0.5\n",
    "n = 10\n",
    "bin_dist = bino(n, p, q)\n",
    "PXE8 = bin_dist.prob(8)\n",
    "PXE9 = bin_dist.prob(9)\n",
    "PXE10 = bin_dist.prob(10)\n",
    "PXGE8 = PXE8 + PXE9 + PXE10\n",
    "print(PXGE8)"
   ]
  },
  {
   "cell_type": "markdown",
   "id": "c97c7890-e469-4b98-bba3-506544f56f43",
   "metadata": {},
   "source": [
    "Sian may have guessed the answers"
   ]
  }
 ],
 "metadata": {
  "kernelspec": {
   "display_name": "Python 3 (ipykernel)",
   "language": "python",
   "name": "python3"
  },
  "language_info": {
   "codemirror_mode": {
    "name": "ipython",
    "version": 3
   },
   "file_extension": ".py",
   "mimetype": "text/x-python",
   "name": "python",
   "nbconvert_exporter": "python",
   "pygments_lexer": "ipython3",
   "version": "3.12.1"
  }
 },
 "nbformat": 4,
 "nbformat_minor": 5
}

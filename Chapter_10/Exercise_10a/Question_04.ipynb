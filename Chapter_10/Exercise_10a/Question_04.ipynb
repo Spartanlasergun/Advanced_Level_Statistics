{
 "cells": [
  {
   "cell_type": "markdown",
   "id": "8e508f5e-2daa-4973-ae1a-b1c458f23e98",
   "metadata": {},
   "source": [
    "# Question 4\n",
    "-----"
   ]
  },
  {
   "cell_type": "code",
   "execution_count": 1,
   "id": "ea9656b7-1b95-4d60-acde-f4f94a3139b2",
   "metadata": {},
   "outputs": [],
   "source": [
    "import math\n",
    "\n",
    "class bino:\n",
    "    def __init__(self, n, p, q):\n",
    "        self.n = n\n",
    "        self.p = p\n",
    "        self.q = q\n",
    "        self.frequencies = []\n",
    "\n",
    "    def prob(self, r):\n",
    "        self.funk = ((math.factorial(self.n)) / (math.factorial(r) * math.factorial(((self.n)-r)))) * pow((self.q), ((self.n)-r)) * pow((self.p), r)\n",
    "        return self.funk\n",
    "\n",
    "    def freq(self, event, r):\n",
    "        event_prob = self.prob(r)\n",
    "        frequency = event_prob * event\n",
    "        frequency = round(frequency, 0)\n",
    "        return frequency"
   ]
  },
  {
   "cell_type": "code",
   "execution_count": 2,
   "id": "41748613-aed8-40cd-8957-fbe75da4ecaf",
   "metadata": {},
   "outputs": [
    {
     "name": "stdout",
     "output_type": "stream",
     "text": [
      "0.03548313229846864\n"
     ]
    }
   ],
   "source": [
    "p = 0.3\n",
    "q = 0.7\n",
    "n = 20\n",
    "bin_dist = bino(n, p, q)\n",
    "PXE0 = bin_dist.prob(0)\n",
    "PXE1 = bin_dist.prob(1)\n",
    "PXE2 = bin_dist.prob(2)\n",
    "PXLE2 = PXE0 + PXE1 + PXE2\n",
    "print(PXLE2)"
   ]
  },
  {
   "cell_type": "markdown",
   "id": "57fe69be-2643-4e9d-be23-041324a23723",
   "metadata": {},
   "source": [
    "a) Significant at the 5% level. Null hypothesis not rejected\n",
    "\n",
    "b) Not Significant at the 2% level. Null hypothesis rejected"
   ]
  }
 ],
 "metadata": {
  "kernelspec": {
   "display_name": "Python 3 (ipykernel)",
   "language": "python",
   "name": "python3"
  },
  "language_info": {
   "codemirror_mode": {
    "name": "ipython",
    "version": 3
   },
   "file_extension": ".py",
   "mimetype": "text/x-python",
   "name": "python",
   "nbconvert_exporter": "python",
   "pygments_lexer": "ipython3",
   "version": "3.12.1"
  }
 },
 "nbformat": 4,
 "nbformat_minor": 5
}

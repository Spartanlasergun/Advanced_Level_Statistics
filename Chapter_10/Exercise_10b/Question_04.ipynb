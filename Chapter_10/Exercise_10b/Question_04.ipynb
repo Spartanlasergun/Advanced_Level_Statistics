{
 "cells": [
  {
   "cell_type": "markdown",
   "id": "60d477fc-191e-4afc-8df8-7145892c6d60",
   "metadata": {},
   "source": [
    "# Question 4\n",
    "-----"
   ]
  },
  {
   "cell_type": "code",
   "execution_count": 1,
   "id": "a1d28cb4-7789-4fd2-ba6a-d54baffcfa52",
   "metadata": {},
   "outputs": [],
   "source": [
    "import math\n",
    "\n",
    "class poisson:\n",
    "    def __init__(self, lamb):\n",
    "        self.lamb = lamb\n",
    "\n",
    "    def prob(self, x):\n",
    "        pois = math.exp(-self.lamb) * (pow(self.lamb, x) / math.factorial(x))\n",
    "        return pois\n",
    "\n",
    "    def freq(self, event, sample):\n",
    "        freq = self.prob(event) * sample \n",
    "        freq = round(freq, 0)\n",
    "        return freq"
   ]
  },
  {
   "cell_type": "code",
   "execution_count": 2,
   "id": "84599430-1102-4774-b2bb-f8e30bdde85f",
   "metadata": {},
   "outputs": [
    {
     "name": "stdout",
     "output_type": "stream",
     "text": [
      "a) 0.042380111991684\n"
     ]
    }
   ],
   "source": [
    "pois_dist = poisson(8)\n",
    "prob = 0\n",
    "x = 0\n",
    "while x <= 3:\n",
    "    prob = prob + (pois_dist.prob(x))\n",
    "    x = x + 1\n",
    "print(\"a) \" + str(prob))"
   ]
  },
  {
   "cell_type": "code",
   "execution_count": 3,
   "id": "e95325fd-7710-45c7-9147-ef505d046a10",
   "metadata": {},
   "outputs": [
    {
     "name": "stdout",
     "output_type": "stream",
     "text": [
      "b) 0.8487961172233521\n"
     ]
    }
   ],
   "source": [
    "pois_dist = poisson(6)\n",
    "prob = 0\n",
    "x = 0\n",
    "while x <= 3:\n",
    "    prob = prob + (pois_dist.prob(x))\n",
    "    x = x + 1\n",
    "type2 = 1 - prob\n",
    "print(\"b) \" + str(type2))"
   ]
  }
 ],
 "metadata": {
  "kernelspec": {
   "display_name": "Python 3 (ipykernel)",
   "language": "python",
   "name": "python3"
  },
  "language_info": {
   "codemirror_mode": {
    "name": "ipython",
    "version": 3
   },
   "file_extension": ".py",
   "mimetype": "text/x-python",
   "name": "python",
   "nbconvert_exporter": "python",
   "pygments_lexer": "ipython3",
   "version": "3.12.1"
  }
 },
 "nbformat": 4,
 "nbformat_minor": 5
}

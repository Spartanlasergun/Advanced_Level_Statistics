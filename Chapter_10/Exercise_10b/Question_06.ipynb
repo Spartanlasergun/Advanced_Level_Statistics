{
 "cells": [
  {
   "cell_type": "markdown",
   "id": "f9ecb092-ba60-43c8-b431-6bcb137a68b2",
   "metadata": {},
   "source": [
    "# Question 6\n",
    "-----"
   ]
  },
  {
   "cell_type": "code",
   "execution_count": 1,
   "id": "50df6dc0-6ea7-4adf-a732-5b7fbe4cc661",
   "metadata": {},
   "outputs": [],
   "source": [
    "import math\n",
    "\n",
    "class poisson:\n",
    "    def __init__(self, lamb):\n",
    "        self.lamb = lamb\n",
    "\n",
    "    def prob(self, x):\n",
    "        pois = math.exp(-self.lamb) * (pow(self.lamb, x) / math.factorial(x))\n",
    "        return pois\n",
    "\n",
    "    def freq(self, event, sample):\n",
    "        freq = self.prob(event) * sample \n",
    "        freq = round(freq, 0)\n",
    "        return freq"
   ]
  },
  {
   "cell_type": "markdown",
   "id": "a02a813c-6a38-45d5-87ec-cb02250d2ed7",
   "metadata": {},
   "source": [
    "$$H_0: \\lambda = 3.5$$\n",
    "\n",
    "$$H_1: \\lambda > 3.5$$"
   ]
  },
  {
   "cell_type": "code",
   "execution_count": 2,
   "id": "e8b38b55-0277-4256-8571-0cc9ea5b69cd",
   "metadata": {},
   "outputs": [
    {
     "name": "stdout",
     "output_type": "stream",
     "text": [
      "reject the null\n"
     ]
    }
   ],
   "source": [
    "pois_dist = poisson(3.5)\n",
    "prob = 0\n",
    "x = 0\n",
    "while x <= 7:\n",
    "    prob = prob + (pois_dist.prob(x))\n",
    "    x = x + 1\n",
    "test = 1 - prob\n",
    "if test > 0.05:\n",
    "    print(\"do not reject the null\")\n",
    "else:\n",
    "    print(\"reject the null\")"
   ]
  }
 ],
 "metadata": {
  "kernelspec": {
   "display_name": "Python 3 (ipykernel)",
   "language": "python",
   "name": "python3"
  },
  "language_info": {
   "codemirror_mode": {
    "name": "ipython",
    "version": 3
   },
   "file_extension": ".py",
   "mimetype": "text/x-python",
   "name": "python",
   "nbconvert_exporter": "python",
   "pygments_lexer": "ipython3",
   "version": "3.12.1"
  }
 },
 "nbformat": 4,
 "nbformat_minor": 5
}

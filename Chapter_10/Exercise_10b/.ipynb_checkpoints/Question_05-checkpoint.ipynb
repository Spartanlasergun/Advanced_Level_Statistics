{
 "cells": [
  {
   "cell_type": "markdown",
   "id": "0faeb379-52e5-49bd-8c90-13a188f533f7",
   "metadata": {},
   "source": [
    "# Question 5\n",
    "-----"
   ]
  },
  {
   "cell_type": "code",
   "execution_count": 1,
   "id": "e695ab78-65a2-4094-b1d2-9a01a76d92b6",
   "metadata": {},
   "outputs": [],
   "source": [
    "import math\n",
    "\n",
    "class poisson:\n",
    "    def __init__(self, lamb):\n",
    "        self.lamb = lamb\n",
    "\n",
    "    def prob(self, x):\n",
    "        pois = math.exp(-self.lamb) * (pow(self.lamb, x) / math.factorial(x))\n",
    "        return pois\n",
    "\n",
    "    def freq(self, event, sample):\n",
    "        freq = self.prob(event) * sample \n",
    "        freq = round(freq, 0)\n",
    "        return freq"
   ]
  },
  {
   "cell_type": "code",
   "execution_count": 2,
   "id": "d8635c0e-3a59-4f1e-a5ff-40b6b29ad37d",
   "metadata": {},
   "outputs": [
    {
     "name": "stdout",
     "output_type": "stream",
     "text": [
      "a) do not reject the null\n"
     ]
    }
   ],
   "source": [
    "pois_dist = poisson(7)\n",
    "prob = 0\n",
    "x = 0\n",
    "while x <= 11:\n",
    "    prob = prob + (pois_dist.prob(x))\n",
    "    x = x + 1\n",
    "test = 1 - prob\n",
    "if test > 0.05:\n",
    "    print(\"a) do not reject the null\")\n",
    "else:\n",
    "    print(\"a) reject the null\")"
   ]
  },
  {
   "cell_type": "code",
   "execution_count": 3,
   "id": "79f1fbef-f9eb-456b-acd5-7136e7737644",
   "metadata": {},
   "outputs": [
    {
     "name": "stdout",
     "output_type": "stream",
     "text": [
      "b) do not reject the null\n"
     ]
    }
   ],
   "source": [
    "pois_dist = poisson(7)\n",
    "prob = 0\n",
    "x = 0\n",
    "while x <= 12:\n",
    "    prob = prob + (pois_dist.prob(x))\n",
    "    x = x + 1\n",
    "test = prob\n",
    "if test > 0.025:\n",
    "    print(\"b) do not reject the null\")\n",
    "else:\n",
    "    print(\"b) reject the null\")"
   ]
  },
  {
   "cell_type": "code",
   "execution_count": 4,
   "id": "6f8c6462-cbfe-40ae-983d-8a559cc5724b",
   "metadata": {},
   "outputs": [
    {
     "name": "stdout",
     "output_type": "stream",
     "text": [
      "c) do not reject the null\n"
     ]
    }
   ],
   "source": [
    "pois_dist = poisson(10)\n",
    "prob = 0\n",
    "x = 0\n",
    "while x <= 4:\n",
    "    prob = prob + (pois_dist.prob(x))\n",
    "    x = x + 1\n",
    "test = prob\n",
    "if test > 0.01:\n",
    "    print(\"c) do not reject the null\")\n",
    "else:\n",
    "    print(\"c) reject the null\")"
   ]
  },
  {
   "cell_type": "code",
   "execution_count": 5,
   "id": "96af2882-79d4-496e-baf6-70c7787d3eab",
   "metadata": {},
   "outputs": [
    {
     "name": "stdout",
     "output_type": "stream",
     "text": [
      "d) reject the null\n"
     ]
    }
   ],
   "source": [
    "pois_dist = poisson(10)\n",
    "prob = 0\n",
    "x = 0\n",
    "while x <= 18:\n",
    "    prob = prob + (pois_dist.prob(x))\n",
    "    x = x + 1\n",
    "test = 1 - prob\n",
    "if test > 0.05:\n",
    "    print(\"d) do not reject the null\")\n",
    "else:\n",
    "    print(\"d) reject the null\")"
   ]
  },
  {
   "cell_type": "code",
   "execution_count": 6,
   "id": "32ceecd0-81af-4d9a-8099-7ccb7314b12a",
   "metadata": {},
   "outputs": [
    {
     "name": "stdout",
     "output_type": "stream",
     "text": [
      "e) do not reject the null\n"
     ]
    }
   ],
   "source": [
    "pois_dist = poisson(6.5)\n",
    "prob = 0\n",
    "x = 0\n",
    "while x <= 2:\n",
    "    prob = prob + (pois_dist.prob(x))\n",
    "    x = x + 1\n",
    "test = prob\n",
    "if test > 0.025:\n",
    "    print(\"e) do not reject the null\")\n",
    "else:\n",
    "    print(\"e) reject the null\")"
   ]
  },
  {
   "cell_type": "code",
   "execution_count": 7,
   "id": "8dc40a3b-3021-4cfa-b09b-00fe0716a4de",
   "metadata": {},
   "outputs": [
    {
     "name": "stdout",
     "output_type": "stream",
     "text": [
      "f) reject the null\n"
     ]
    }
   ],
   "source": [
    "pois_dist = poisson(6.5)\n",
    "prob = 0\n",
    "x = 0\n",
    "while x <= 2:\n",
    "    prob = prob + (pois_dist.prob(x))\n",
    "    x = x + 1\n",
    "test = prob\n",
    "if test > 0.05:\n",
    "    print(\"f) do not reject the null\")\n",
    "else:\n",
    "    print(\"f) reject the null\")"
   ]
  }
 ],
 "metadata": {
  "kernelspec": {
   "display_name": "Python 3 (ipykernel)",
   "language": "python",
   "name": "python3"
  },
  "language_info": {
   "codemirror_mode": {
    "name": "ipython",
    "version": 3
   },
   "file_extension": ".py",
   "mimetype": "text/x-python",
   "name": "python",
   "nbconvert_exporter": "python",
   "pygments_lexer": "ipython3",
   "version": "3.12.1"
  }
 },
 "nbformat": 4,
 "nbformat_minor": 5
}

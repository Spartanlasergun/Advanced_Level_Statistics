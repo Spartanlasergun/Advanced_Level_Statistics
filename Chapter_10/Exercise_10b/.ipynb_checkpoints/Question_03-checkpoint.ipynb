{
 "cells": [
  {
   "cell_type": "markdown",
   "id": "7e61a857-f536-4bdb-8bc4-99a184d39f47",
   "metadata": {},
   "source": [
    "# Question 3\n",
    "-----"
   ]
  },
  {
   "cell_type": "code",
   "execution_count": 1,
   "id": "3f3cc79b-2244-4246-8c28-2edf39917c4d",
   "metadata": {},
   "outputs": [],
   "source": [
    "import math\n",
    "\n",
    "class poisson:\n",
    "    def __init__(self, lamb):\n",
    "        self.lamb = lamb\n",
    "\n",
    "    def prob(self, x):\n",
    "        pois = math.exp(-self.lamb) * (pow(self.lamb, x) / math.factorial(x))\n",
    "        return pois\n",
    "\n",
    "    def freq(self, event, sample):\n",
    "        freq = self.prob(event) * sample \n",
    "        freq = round(freq, 0)\n",
    "        return freq"
   ]
  },
  {
   "cell_type": "code",
   "execution_count": 2,
   "id": "986a342a-d081-4e56-872a-d18ec0614ddd",
   "metadata": {},
   "outputs": [
    {
     "name": "stdout",
     "output_type": "stream",
     "text": [
      "0.1242265708290351\n"
     ]
    }
   ],
   "source": [
    "pois_dist = poisson(9)\n",
    "prob = 0\n",
    "x = 0\n",
    "while x <= 12:\n",
    "    prob = prob + (pois_dist.prob(x))\n",
    "    x = x + 1\n",
    "PXGE13 = 1 - prob\n",
    "print(PXGE13)"
   ]
  },
  {
   "cell_type": "markdown",
   "id": "5e17d4bc-5478-458d-aa72-e004badfd529",
   "metadata": {},
   "source": [
    "$$H_0: p = 9$$\n",
    "\n",
    "$$H_1: p > 9$$\n",
    "\n",
    "The number of late times has not been increased"
   ]
  }
 ],
 "metadata": {
  "kernelspec": {
   "display_name": "Python 3 (ipykernel)",
   "language": "python",
   "name": "python3"
  },
  "language_info": {
   "codemirror_mode": {
    "name": "ipython",
    "version": 3
   },
   "file_extension": ".py",
   "mimetype": "text/x-python",
   "name": "python",
   "nbconvert_exporter": "python",
   "pygments_lexer": "ipython3",
   "version": "3.12.1"
  }
 },
 "nbformat": 4,
 "nbformat_minor": 5
}

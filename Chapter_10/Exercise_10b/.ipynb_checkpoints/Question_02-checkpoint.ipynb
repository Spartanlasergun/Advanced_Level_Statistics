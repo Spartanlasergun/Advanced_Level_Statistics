{
 "cells": [
  {
   "cell_type": "markdown",
   "id": "e54a6bd8-1cb2-440b-aee7-6c03b07be896",
   "metadata": {},
   "source": [
    "# Question 2\n",
    "-----"
   ]
  },
  {
   "cell_type": "code",
   "execution_count": 1,
   "id": "bcf43c56-8564-4c51-84c1-bc5d6c846dc8",
   "metadata": {},
   "outputs": [],
   "source": [
    "import math\n",
    "\n",
    "class poisson:\n",
    "    def __init__(self, lamb):\n",
    "        self.lamb = lamb\n",
    "\n",
    "    def prob(self, x):\n",
    "        pois = math.exp(-self.lamb) * (pow(self.lamb, x) / math.factorial(x))\n",
    "        return pois\n",
    "\n",
    "    def freq(self, event, sample):\n",
    "        freq = self.prob(event) * sample \n",
    "        freq = round(freq, 0)\n",
    "        return freq"
   ]
  },
  {
   "cell_type": "code",
   "execution_count": 2,
   "id": "b5b7e5fa-2c6b-4ae2-9afb-4bfffc36ab42",
   "metadata": {},
   "outputs": [
    {
     "name": "stdout",
     "output_type": "stream",
     "text": [
      "0.9160820579686966\n"
     ]
    }
   ],
   "source": [
    "pois_dist = poisson(3)\n",
    "prob = 0\n",
    "x = 0\n",
    "while x <= 5:\n",
    "    prob = prob + (pois_dist.prob(x))\n",
    "    x = x + 1\n",
    "print(prob)"
   ]
  },
  {
   "cell_type": "markdown",
   "id": "0144dfaa-e8f7-438a-8c69-27d2566ac1e7",
   "metadata": {},
   "source": [
    "a) Not increased"
   ]
  },
  {
   "cell_type": "code",
   "execution_count": 3,
   "id": "d9cd8313-0754-4a8c-aef0-0ecdd2b04a0e",
   "metadata": {},
   "outputs": [
    {
     "name": "stdout",
     "output_type": "stream",
     "text": [
      "0.021226486302908885\n"
     ]
    }
   ],
   "source": [
    "mean = 6 + (6/2)\n",
    "pois_dist = poisson(mean)\n",
    "prob = 0\n",
    "x = 0\n",
    "while x <= 3:\n",
    "    prob = prob + (pois_dist.prob(x))\n",
    "    x = x + 1\n",
    "print(prob)"
   ]
  },
  {
   "cell_type": "markdown",
   "id": "7fde1440-679e-4683-bbe0-59fa71ded0ec",
   "metadata": {},
   "source": [
    "b) Decreased"
   ]
  }
 ],
 "metadata": {
  "kernelspec": {
   "display_name": "Python 3 (ipykernel)",
   "language": "python",
   "name": "python3"
  },
  "language_info": {
   "codemirror_mode": {
    "name": "ipython",
    "version": 3
   },
   "file_extension": ".py",
   "mimetype": "text/x-python",
   "name": "python",
   "nbconvert_exporter": "python",
   "pygments_lexer": "ipython3",
   "version": "3.12.1"
  }
 },
 "nbformat": 4,
 "nbformat_minor": 5
}

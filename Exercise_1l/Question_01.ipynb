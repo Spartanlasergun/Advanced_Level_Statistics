{
 "cells": [
  {
   "cell_type": "code",
   "execution_count": 4,
   "id": "f645d6a5-8c75-4a38-b17f-d59cfba4a396",
   "metadata": {
    "tags": []
   },
   "outputs": [
    {
     "name": "stdout",
     "output_type": "stream",
     "text": [
      "(a) 0.5352015302352018\n"
     ]
    }
   ],
   "source": [
    "import statistics\n",
    "\n",
    "x = [12, 13, 14, 15, 16, 17, 18, 19, 20, 21]\n",
    "y = [6, 10, 14, 10, 8, 8, 6, 0, 2, 2]\n",
    "raw_data = []\n",
    "index = 0\n",
    "for item in y:\n",
    "    count = item\n",
    "    while count != 0:\n",
    "        raw_data.append(x[index])\n",
    "        count = count - 1\n",
    "    index = index + 1\n",
    "\n",
    "mean = statistics.mean(raw_data)\n",
    "mode = statistics.mode(raw_data)\n",
    "std = statistics.pstdev(raw_data)\n",
    "skewness = (mean - mode) / std\n",
    "print(\"(a) \" + str(skewness))"
   ]
  },
  {
   "cell_type": "code",
   "execution_count": 7,
   "id": "a53e7bd1-fccb-456b-b737-c4d31100f3d0",
   "metadata": {
    "tags": []
   },
   "outputs": [
    {
     "name": "stdout",
     "output_type": "stream",
     "text": [
      "(b) -0.6738419831400554\n"
     ]
    }
   ],
   "source": [
    "x = [20, 21, 22, 23, 24, 25, 26, 27]\n",
    "freq = [2, 1, 4, 5, 7, 8, 4, 1]\n",
    "\n",
    "raw_data = []\n",
    "index = 0\n",
    "for item in freq:\n",
    "    count = item\n",
    "    while count != 0:\n",
    "        raw_data.append(x[index])\n",
    "        count = count - 1\n",
    "    index = index + 1\n",
    "\n",
    "mean = statistics.mean(raw_data)\n",
    "mode = statistics.mode(raw_data)\n",
    "std = statistics.pstdev(raw_data)\n",
    "skewness = (mean - mode) / std\n",
    "print(\"(b) \" + str(skewness))"
   ]
  }
 ],
 "metadata": {
  "kernelspec": {
   "display_name": "Python 3 (ipykernel)",
   "language": "python",
   "name": "python3"
  },
  "language_info": {
   "codemirror_mode": {
    "name": "ipython",
    "version": 3
   },
   "file_extension": ".py",
   "mimetype": "text/x-python",
   "name": "python",
   "nbconvert_exporter": "python",
   "pygments_lexer": "ipython3",
   "version": "3.11.2"
  }
 },
 "nbformat": 4,
 "nbformat_minor": 5
}

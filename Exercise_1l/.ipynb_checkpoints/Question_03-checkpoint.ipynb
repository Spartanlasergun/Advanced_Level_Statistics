{
 "cells": [
  {
   "cell_type": "markdown",
   "id": "3493cd9c-32cd-4f97-afe3-fb5865155daa",
   "metadata": {},
   "source": [
    "# Question 3"
   ]
  },
  {
   "cell_type": "code",
   "execution_count": 1,
   "id": "a2b3761b-202c-41a3-9012-2bea94e2a768",
   "metadata": {
    "tags": []
   },
   "outputs": [
    {
     "name": "stdout",
     "output_type": "stream",
     "text": [
      "The Pearson's Coefficient of Skewness is = 2.0\n"
     ]
    }
   ],
   "source": [
    "import math\n",
    "\n",
    "mean = 86\n",
    "mode = 78\n",
    "variance = 16\n",
    "std = math.sqrt(variance)\n",
    "\n",
    "skewness = (mean - mode) / std\n",
    "print(\"The Pearson's Coefficient of Skewness is = \" + str(skewness))"
   ]
  }
 ],
 "metadata": {
  "kernelspec": {
   "display_name": "Python 3 (ipykernel)",
   "language": "python",
   "name": "python3"
  },
  "language_info": {
   "codemirror_mode": {
    "name": "ipython",
    "version": 3
   },
   "file_extension": ".py",
   "mimetype": "text/x-python",
   "name": "python",
   "nbconvert_exporter": "python",
   "pygments_lexer": "ipython3",
   "version": "3.11.2"
  }
 },
 "nbformat": 4,
 "nbformat_minor": 5
}

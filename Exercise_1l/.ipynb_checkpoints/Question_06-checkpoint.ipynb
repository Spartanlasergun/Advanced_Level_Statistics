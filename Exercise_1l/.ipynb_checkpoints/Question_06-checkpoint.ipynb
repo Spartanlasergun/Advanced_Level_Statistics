{
 "cells": [
  {
   "cell_type": "markdown",
   "id": "e9f70728-bf65-4ecf-9de2-85a4c685fc10",
   "metadata": {},
   "source": [
    "# Question 6"
   ]
  },
  {
   "cell_type": "code",
   "execution_count": 1,
   "id": "859df6c4-0817-4049-82e0-ca4ea0e3dbae",
   "metadata": {
    "tags": []
   },
   "outputs": [
    {
     "name": "stdout",
     "output_type": "stream",
     "text": [
      "The Pearsons Coefficient of Skewness is = -0.4824922156193405\n"
     ]
    }
   ],
   "source": [
    "import statistics\n",
    "\n",
    "data = [19, 22, 28, 33, 37, 45, 52, 55, 55, 57, 61, 61, 66, 66, 68, 68, 68,\n",
    "       73, 75, 75, 82, 89, 91]\n",
    "\n",
    "mean = statistics.mean(data)\n",
    "mode = statistics.mode(data)\n",
    "std = statistics.pstdev(data)\n",
    "skewness = (mean - mode) / std\n",
    "print(\"The Pearsons Coefficient of Skewness is = \" + str(skewness))"
   ]
  }
 ],
 "metadata": {
  "kernelspec": {
   "display_name": "Python 3 (ipykernel)",
   "language": "python",
   "name": "python3"
  },
  "language_info": {
   "codemirror_mode": {
    "name": "ipython",
    "version": 3
   },
   "file_extension": ".py",
   "mimetype": "text/x-python",
   "name": "python",
   "nbconvert_exporter": "python",
   "pygments_lexer": "ipython3",
   "version": "3.11.2"
  }
 },
 "nbformat": 4,
 "nbformat_minor": 5
}

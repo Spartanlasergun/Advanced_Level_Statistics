{
 "cells": [
  {
   "cell_type": "markdown",
   "id": "d0246875-048d-4423-a0d3-e7ca91fe88b2",
   "metadata": {},
   "source": [
    "# Question 8\n",
    "\n",
    "| Blood Pressure | Frequency |\n",
    "| --- | --- |\n",
    "| 95- | 2 |\n",
    "| 105- | 5 |\n",
    "| 110- | 6 |\n",
    "| 115- | 9 |\n",
    "| 120- | 14 |\n",
    "| 125- | 3 |\n",
    "| 130- | 6 |\n",
    "| 135- | 5 |\n",
    "| 140- | 4 |\n",
    "| 150-180 | 6 |"
   ]
  },
  {
   "cell_type": "code",
   "execution_count": 10,
   "id": "579109a3-e6d0-4aae-b18e-42fa58146aa6",
   "metadata": {
    "tags": []
   },
   "outputs": [
    {
     "name": "stdout",
     "output_type": "stream",
     "text": [
      "The pearsons coefficient of skewness is = 0.8163099744618156\n"
     ]
    }
   ],
   "source": [
    "freq = [2, 5, 6, 9, 14, 3, 6, 5, 4, 6]\n",
    "midpoints = [100, 107.5, 112.5, 117.5, 122.5, 127.5, 132.5, 137.5, 145, 165]\n",
    "raw_data = []\n",
    "index = 0\n",
    "for item in freq:\n",
    "    count = item\n",
    "    while count != 0:\n",
    "        raw_data.append(midpoints[index])\n",
    "        count = count - 1\n",
    "    index = index + 1\n",
    "\n",
    "import statistics\n",
    "\n",
    "mean = statistics.mean(raw_data)\n",
    "median = statistics.median(raw_data)\n",
    "std = statistics.pstdev(raw_data)\n",
    "\n",
    "skewness = (3 * (mean - median)) / std\n",
    "print(\"The pearsons coefficient of skewness is = \" + str(skewness))"
   ]
  },
  {
   "cell_type": "code",
   "execution_count": 15,
   "id": "55484817-e8c6-4e23-9e89-51c8a36ecb6b",
   "metadata": {
    "tags": []
   },
   "outputs": [
    {
     "name": "stdout",
     "output_type": "stream",
     "text": [
      "137.5\n",
      "122.5\n",
      "117.5\n",
      "The quartile coefficient of skewness is = 0.5\n"
     ]
    }
   ],
   "source": [
    "uq = int(len(raw_data) * 0.75)\n",
    "lq = int(len(raw_data) * 0.25)\n",
    "Q3 = raw_data[uq]\n",
    "Q1 = raw_data[lq]\n",
    "Q2 = median\n",
    "print(Q3)\n",
    "print(Q2)\n",
    "print(Q1)\n",
    "\n",
    "QoS = (Q3 - (2 * Q2) + Q1) / (Q3 - Q1)\n",
    "print(\"The quartile coefficient of skewness is = \" + str(QoS))"
   ]
  },
  {
   "cell_type": "code",
   "execution_count": 16,
   "id": "615b140d-1acb-45d1-a21c-d48b598c1889",
   "metadata": {
    "tags": []
   },
   "outputs": [
    {
     "data": {
      "image/png": "[encoded data removed]",
      "text/plain": [
       "<Figure size 640x480 with 1 Axes>"
      ]
     },
     "metadata": {},
     "output_type": "display_data"
    }
   ],
   "source": [
    "import matplotlib.pyplot as plt\n",
    "\n",
    "plt.hist(raw_data, bins=[95, 105, 110, 115, 120, 125, 130, 135, 140, 150, 180], edgecolor=\"black\")\n",
    "plt.show()"
   ]
  }
 ],
 "metadata": {
  "kernelspec": {
   "display_name": "Python 3 (ipykernel)",
   "language": "python",
   "name": "python3"
  },
  "language_info": {
   "codemirror_mode": {
    "name": "ipython",
    "version": 3
   },
   "file_extension": ".py",
   "mimetype": "text/x-python",
   "name": "python",
   "nbconvert_exporter": "python",
   "pygments_lexer": "ipython3",
   "version": "3.11.2"
  }
 },
 "nbformat": 4,
 "nbformat_minor": 5
}

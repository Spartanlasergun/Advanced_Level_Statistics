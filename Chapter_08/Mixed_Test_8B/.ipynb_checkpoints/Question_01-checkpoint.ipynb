{
 "cells": [
  {
   "cell_type": "markdown",
   "id": "ba86c878-324d-43ea-b18b-7d5b7c3b9bd0",
   "metadata": {},
   "source": [
    "# Question 1\n",
    "-----"
   ]
  },
  {
   "cell_type": "code",
   "execution_count": 1,
   "id": "874f88c5-7617-43f4-b616-1cc3b4b2a2e4",
   "metadata": {},
   "outputs": [],
   "source": [
    "from scipy.integrate import quad\n",
    "import math\n",
    "\n",
    "class normal:\n",
    "    def __init__(self, u, sigma):\n",
    "        self.u = u\n",
    "        self.sigma = sigma\n",
    "        self.root2pi = math.sqrt((2 * math.pi)) \n",
    "    \n",
    "    def normal_func(self, x):\n",
    "        return (1 / (self.sigma * self.root2pi)) * math.exp((-1 * pow((x - self.u), 2)) / (2 * pow(self.sigma, 2)))\n",
    "\n",
    "    def integrate(self, lower_limit, upper_limit):\n",
    "        result, error = quad(self.normal_func, lower_limit, upper_limit)\n",
    "        \n",
    "        return result\n",
    "\n",
    "    def locate(self, area):\n",
    "        fx = 0\n",
    "        x = -6\n",
    "        while fx < area:\n",
    "            fx = self.integrate(-6, x)\n",
    "            x = x + 0.00001\n",
    "            \n",
    "        return x"
   ]
  },
  {
   "cell_type": "code",
   "execution_count": 2,
   "id": "2b47cbef-919f-429d-8b87-81c47331822c",
   "metadata": {},
   "outputs": [
    {
     "name": "stdout",
     "output_type": "stream",
     "text": [
      "a) 0.1265547932721298\n"
     ]
    }
   ],
   "source": [
    "dist = normal(75, 6)\n",
    "M = dist.integrate(70, 1000)\n",
    "dist = normal(65, 5)\n",
    "F = dist.integrate(70, 1000)\n",
    "MF = M * F\n",
    "print(\"a) \" + str(MF))"
   ]
  },
  {
   "cell_type": "code",
   "execution_count": 3,
   "id": "f2203544-ee66-49cc-9ea8-efc3b6c97d60",
   "metadata": {},
   "outputs": [
    {
     "name": "stdout",
     "output_type": "stream",
     "text": [
      "mean = 140\n",
      "sigma = 7.810249675906654\n"
     ]
    }
   ],
   "source": [
    "mean = 75 + 65\n",
    "var = 36 + 25\n",
    "std = math.sqrt(var)\n",
    "print(\"mean = \" + str(mean))\n",
    "print(\"sigma = \" + str(std))"
   ]
  },
  {
   "cell_type": "code",
   "execution_count": 4,
   "id": "bfe1bcdf-03a3-4f2d-8113-7f70614fcb27",
   "metadata": {},
   "outputs": [
    {
     "name": "stdout",
     "output_type": "stream",
     "text": [
      "b)(i) 0.0016081146550637208\n"
     ]
    }
   ],
   "source": [
    "mean = 75 * 8\n",
    "var = 36 * 8\n",
    "std = math.sqrt(var)\n",
    "dist = normal(mean, std)\n",
    "bi = dist.integrate(650, 10000)\n",
    "print(\"b)(i) \" + str(bi))"
   ]
  },
  {
   "cell_type": "code",
   "execution_count": 5,
   "id": "f0f250cf-a0eb-4da6-968c-b6c9d2a240fb",
   "metadata": {},
   "outputs": [
    {
     "name": "stdout",
     "output_type": "stream",
     "text": [
      "b)(ii) 0.0\n"
     ]
    }
   ],
   "source": [
    "mean = (75 * 5) + (65 * 3)\n",
    "var = (36 * 5) + (25 * 3)\n",
    "std = math.sqrt(var)\n",
    "dist = normal(mean, std)\n",
    "bii = dist.integrate(650, 100000)\n",
    "bii = round(bii, 1)\n",
    "print(\"b)(ii) \" + str(bii))"
   ]
  },
  {
   "cell_type": "code",
   "execution_count": 6,
   "id": "c43bb465-8e7c-499d-adde-37005cfc4896",
   "metadata": {},
   "outputs": [
    {
     "name": "stdout",
     "output_type": "stream",
     "text": [
      "c) 0.10020773084642746\n"
     ]
    }
   ],
   "source": [
    "mean = 75 + 65\n",
    "var = 36 + 25\n",
    "std = math.sqrt(var)\n",
    "dist = normal(mean, std)\n",
    "c = dist.integrate(150, 1000)\n",
    "print(\"c) \" + str(c))"
   ]
  }
 ],
 "metadata": {
  "kernelspec": {
   "display_name": "Python 3 (ipykernel)",
   "language": "python",
   "name": "python3"
  },
  "language_info": {
   "codemirror_mode": {
    "name": "ipython",
    "version": 3
   },
   "file_extension": ".py",
   "mimetype": "text/x-python",
   "name": "python",
   "nbconvert_exporter": "python",
   "pygments_lexer": "ipython3",
   "version": "3.12.1"
  }
 },
 "nbformat": 4,
 "nbformat_minor": 5
}

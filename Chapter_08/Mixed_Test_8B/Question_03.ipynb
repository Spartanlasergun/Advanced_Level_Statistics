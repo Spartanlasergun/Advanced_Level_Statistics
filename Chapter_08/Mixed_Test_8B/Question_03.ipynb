{
 "cells": [
  {
   "cell_type": "markdown",
   "id": "5b31e5b7-7900-4f1d-a7b4-f7e05eafa7e2",
   "metadata": {},
   "source": [
    "# Question 3\n",
    "-----"
   ]
  },
  {
   "cell_type": "code",
   "execution_count": 1,
   "id": "465fab06-bfde-475c-bc13-c4e913572f9d",
   "metadata": {},
   "outputs": [],
   "source": [
    "from scipy.integrate import quad\n",
    "import math\n",
    "\n",
    "class normal:\n",
    "    def __init__(self, u, sigma):\n",
    "        self.u = u\n",
    "        self.sigma = sigma\n",
    "        self.root2pi = math.sqrt((2 * math.pi)) \n",
    "    \n",
    "    def normal_func(self, x):\n",
    "        return (1 / (self.sigma * self.root2pi)) * math.exp((-1 * pow((x - self.u), 2)) / (2 * pow(self.sigma, 2)))\n",
    "\n",
    "    def integrate(self, lower_limit, upper_limit):\n",
    "        result, error = quad(self.normal_func, lower_limit, upper_limit)\n",
    "        \n",
    "        return result\n",
    "\n",
    "    def locate(self, area):\n",
    "        fx = 0\n",
    "        x = -6\n",
    "        while fx < area:\n",
    "            fx = self.integrate(-6, x)\n",
    "            x = x + 0.00001\n",
    "            \n",
    "        return x"
   ]
  },
  {
   "cell_type": "code",
   "execution_count": 2,
   "id": "ffac0e4d-b192-4c35-b73a-de5a5e829b52",
   "metadata": {},
   "outputs": [
    {
     "name": "stdout",
     "output_type": "stream",
     "text": [
      "mean = 0.040000000000000036\n",
      "sigma = 0.03\n"
     ]
    }
   ],
   "source": [
    "mean = 2.54 - 2.5\n",
    "var = (0.024**2) + (0.018**2)\n",
    "std = math.sqrt(var)\n",
    "print(\"mean = \" + str(mean))\n",
    "print(\"sigma = \" + str(std))"
   ]
  },
  {
   "cell_type": "code",
   "execution_count": 3,
   "id": "393cca7b-f1da-468d-95c4-058f9f2f942b",
   "metadata": {},
   "outputs": [
    {
     "name": "stdout",
     "output_type": "stream",
     "text": [
      "0.42760650206331985\n"
     ]
    }
   ],
   "source": [
    "dist = normal(mean, std)\n",
    "prob = dist.integrate(-0.035, 0.035)\n",
    "print(prob)"
   ]
  },
  {
   "cell_type": "code",
   "execution_count": 4,
   "id": "92d6ff1b-a7ab-4882-8944-5874a4751268",
   "metadata": {},
   "outputs": [
    {
     "name": "stdout",
     "output_type": "stream",
     "text": [
      "0.8275287105856876\n"
     ]
    }
   ],
   "source": [
    "dist = normal(2.5, 0.018)\n",
    "prob = dist.integrate(0, 2.517)\n",
    "print(prob)"
   ]
  }
 ],
 "metadata": {
  "kernelspec": {
   "display_name": "Python 3 (ipykernel)",
   "language": "python",
   "name": "python3"
  },
  "language_info": {
   "codemirror_mode": {
    "name": "ipython",
    "version": 3
   },
   "file_extension": ".py",
   "mimetype": "text/x-python",
   "name": "python",
   "nbconvert_exporter": "python",
   "pygments_lexer": "ipython3",
   "version": "3.12.1"
  }
 },
 "nbformat": 4,
 "nbformat_minor": 5
}

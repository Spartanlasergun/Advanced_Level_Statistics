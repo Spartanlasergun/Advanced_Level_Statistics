{
 "cells": [
  {
   "cell_type": "markdown",
   "id": "5d89fe88-b9a1-4126-b38c-b1c6df2dff0e",
   "metadata": {},
   "source": [
    "# Question 5\n",
    "-----"
   ]
  },
  {
   "cell_type": "code",
   "execution_count": 1,
   "id": "658139b5-cd67-4f94-b9d6-851618c31896",
   "metadata": {},
   "outputs": [],
   "source": [
    "from scipy.integrate import quad\n",
    "import math\n",
    "\n",
    "class normal:\n",
    "    def __init__(self, u, sigma):\n",
    "        self.u = u\n",
    "        self.sigma = sigma\n",
    "        self.root2pi = math.sqrt((2 * math.pi)) \n",
    "    \n",
    "    def normal_func(self, x):\n",
    "        return (1 / (self.sigma * self.root2pi)) * math.exp((-1 * pow((x - self.u), 2)) / (2 * pow(self.sigma, 2)))\n",
    "\n",
    "    def integrate(self, lower_limit, upper_limit):\n",
    "        result, error = quad(self.normal_func, lower_limit, upper_limit)\n",
    "        \n",
    "        return result\n",
    "\n",
    "    def locate(self, area):\n",
    "        fx = 0\n",
    "        x = -6\n",
    "        while fx < area:\n",
    "            fx = self.integrate(-6, x)\n",
    "            x = x + 0.00001\n",
    "            \n",
    "        return x"
   ]
  },
  {
   "cell_type": "code",
   "execution_count": 2,
   "id": "9912d01b-2c98-4b8c-99cd-53a2d495bf87",
   "metadata": {},
   "outputs": [
    {
     "name": "stdout",
     "output_type": "stream",
     "text": [
      "-1.6448400000602863\n"
     ]
    }
   ],
   "source": [
    "z = normal(0, 1)\n",
    "loc = z.locate(0.05)\n",
    "print(loc)"
   ]
  },
  {
   "cell_type": "markdown",
   "id": "8d06803e-baf6-41a3-bd65-92b2503ce96f",
   "metadata": {},
   "source": [
    "$$1.65\\sigma + 706 = \\mu$$\n",
    "\n",
    "$$1294 - 1.65\\sigma = \\mu$$\n",
    "\n",
    "$$1.65\\sigma + 706 = 1294 - 1.65\\sigma $$\n",
    "\n",
    "$$3.3\\sigma = 588$$\n",
    "\n",
    "$$\\sigma = 178.2$$\n",
    "\n",
    "$$\\mu = (1.65 * 178.2) + 706$$\n",
    "\n",
    "$$\\mu = 1000$$"
   ]
  },
  {
   "cell_type": "code",
   "execution_count": 3,
   "id": "275b964c-09cb-4638-80c5-30671b144152",
   "metadata": {},
   "outputs": [
    {
     "name": "stdout",
     "output_type": "stream",
     "text": [
      "probability = 0.06250000000000006\n"
     ]
    }
   ],
   "source": [
    "dist = normal(1000, 178.2)\n",
    "prob = dist.integrate(1000, 10000)\n",
    "P = prob**4\n",
    "print(\"probability = \" + str(P))"
   ]
  },
  {
   "cell_type": "code",
   "execution_count": 4,
   "id": "8fba727b-3bde-4849-b184-a224fb823a12",
   "metadata": {},
   "outputs": [
    {
     "name": "stdout",
     "output_type": "stream",
     "text": [
      "prob = 0.2126582291246828\n"
     ]
    }
   ],
   "source": [
    "mean = 1000 * 4\n",
    "var = (178.2**2) * 4\n",
    "std = math.sqrt(var)\n",
    "dist = normal(mean, std)\n",
    "prob = dist.integrate(4000, 4200)\n",
    "print(\"prob = \" + str(prob))"
   ]
  }
 ],
 "metadata": {
  "kernelspec": {
   "display_name": "Python 3 (ipykernel)",
   "language": "python",
   "name": "python3"
  },
  "language_info": {
   "codemirror_mode": {
    "name": "ipython",
    "version": 3
   },
   "file_extension": ".py",
   "mimetype": "text/x-python",
   "name": "python",
   "nbconvert_exporter": "python",
   "pygments_lexer": "ipython3",
   "version": "3.12.1"
  }
 },
 "nbformat": 4,
 "nbformat_minor": 5
}

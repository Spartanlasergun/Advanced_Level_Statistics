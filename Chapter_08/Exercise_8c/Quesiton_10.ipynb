{
 "cells": [
  {
   "cell_type": "markdown",
   "id": "9342ba79-7f1a-42b2-a2bc-6f9570f44e2b",
   "metadata": {},
   "source": [
    "# Question 10\n",
    "-----"
   ]
  },
  {
   "cell_type": "code",
   "execution_count": 1,
   "id": "e81a6670-4398-4022-af69-117753afd9e0",
   "metadata": {},
   "outputs": [],
   "source": [
    "from scipy.integrate import quad\n",
    "import math\n",
    "\n",
    "class normal:\n",
    "    def __init__(self, u, sigma):\n",
    "        self.u = u\n",
    "        self.sigma = sigma\n",
    "        self.root2pi = math.sqrt((2 * math.pi)) \n",
    "    \n",
    "    def normal_func(self, x):\n",
    "        return (1 / (self.sigma * self.root2pi)) * math.exp((-1 * pow((x - self.u), 2)) / (2 * pow(self.sigma, 2)))\n",
    "\n",
    "    def integrate(self, lower_limit, upper_limit):\n",
    "        result, error = quad(self.normal_func, lower_limit, upper_limit)\n",
    "        \n",
    "        return result\n",
    "\n",
    "    def locate(self, area):\n",
    "        fx = 0\n",
    "        x = -6\n",
    "        while fx < area:\n",
    "            fx = self.integrate(-6, x)\n",
    "            x = x + 0.00001\n",
    "            \n",
    "        return x"
   ]
  },
  {
   "cell_type": "code",
   "execution_count": 2,
   "id": "c8a6499c-ff5d-4fef-a0d4-54e5394140da",
   "metadata": {},
   "outputs": [
    {
     "name": "stdout",
     "output_type": "stream",
     "text": [
      "a)(i) 0.10564977366685514\n"
     ]
    }
   ],
   "source": [
    "dist = normal(150, 8)\n",
    "ai = dist.integrate(160, 1000)\n",
    "print(\"a)(i) \" + str(ai))"
   ]
  },
  {
   "cell_type": "code",
   "execution_count": 3,
   "id": "8f406b70-c654-47d8-9827-48518198640c",
   "metadata": {},
   "outputs": [
    {
     "name": "stdout",
     "output_type": "stream",
     "text": [
      "a)(ii) 0.14393418365435032\n"
     ]
    }
   ],
   "source": [
    "PXGE145 = dist.integrate(145, 1000)\n",
    "PXG160 = dist.integrate(160, 1000)\n",
    "prob = PXG160/PXGE145\n",
    "print(\"a)(ii) \" + str(prob))"
   ]
  },
  {
   "cell_type": "code",
   "execution_count": 4,
   "id": "c5b2ccad-d1f4-4e16-bf6a-cca3e88e671b",
   "metadata": {},
   "outputs": [
    {
     "name": "stdout",
     "output_type": "stream",
     "text": [
      "b) 0.01872032869271506\n"
     ]
    }
   ],
   "source": [
    "mean = ((250 + 50) * 10) + 75\n",
    "var = ((10**2 + 5**2) * 10) + 7**2\n",
    "std = math.sqrt(var)\n",
    "dist = normal(mean, std)\n",
    "b = dist.integrate(0, 3000)\n",
    "print(\"b) \" + str(b))"
   ]
  }
 ],
 "metadata": {
  "kernelspec": {
   "display_name": "Python 3 (ipykernel)",
   "language": "python",
   "name": "python3"
  },
  "language_info": {
   "codemirror_mode": {
    "name": "ipython",
    "version": 3
   },
   "file_extension": ".py",
   "mimetype": "text/x-python",
   "name": "python",
   "nbconvert_exporter": "python",
   "pygments_lexer": "ipython3",
   "version": "3.12.1"
  }
 },
 "nbformat": 4,
 "nbformat_minor": 5
}

{
 "cells": [
  {
   "cell_type": "markdown",
   "id": "17bb9e36-c15e-44eb-82b7-b06638a08f44",
   "metadata": {},
   "source": [
    "# Question 11\n",
    "-----"
   ]
  },
  {
   "cell_type": "code",
   "execution_count": 1,
   "id": "527bba0b-57cb-4800-96e9-cc4fd5af230e",
   "metadata": {},
   "outputs": [],
   "source": [
    "from scipy.integrate import quad\n",
    "import math\n",
    "\n",
    "class normal:\n",
    "    def __init__(self, u, sigma):\n",
    "        self.u = u\n",
    "        self.sigma = sigma\n",
    "        self.root2pi = math.sqrt((2 * math.pi)) \n",
    "    \n",
    "    def normal_func(self, x):\n",
    "        return (1 / (self.sigma * self.root2pi)) * math.exp((-1 * pow((x - self.u), 2)) / (2 * pow(self.sigma, 2)))\n",
    "\n",
    "    def integrate(self, lower_limit, upper_limit):\n",
    "        result, error = quad(self.normal_func, lower_limit, upper_limit)\n",
    "        \n",
    "        return result\n",
    "\n",
    "    def locate(self, area):\n",
    "        fx = 0\n",
    "        x = -6\n",
    "        while fx < area:\n",
    "            fx = self.integrate(-6, x)\n",
    "            x = x + 0.00001\n",
    "            \n",
    "        return x"
   ]
  },
  {
   "cell_type": "code",
   "execution_count": 2,
   "id": "5b623cd6-825d-4e4a-b708-d97f9ca1d457",
   "metadata": {},
   "outputs": [
    {
     "name": "stdout",
     "output_type": "stream",
     "text": [
      "a) 14.156543533117318%\n"
     ]
    }
   ],
   "source": [
    "mean = 5.5 + 5.1 + 6.2\n",
    "var = (0.5**2) + (0.6**2) + (0.8**2)\n",
    "std = math.sqrt(var)\n",
    "dist = normal(mean, std)\n",
    "a = dist.integrate(18, 1000)\n",
    "percent = a * 100\n",
    "print(\"a) \" + str(percent) + \"%\")"
   ]
  },
  {
   "cell_type": "code",
   "execution_count": 3,
   "id": "27c94c2b-aa97-418f-9f95-385f2aee2103",
   "metadata": {},
   "outputs": [],
   "source": [
    "import math\n",
    "\n",
    "class bino:\n",
    "    def __init__(self, n, p, q):\n",
    "        self.n = n\n",
    "        self.p = p\n",
    "        self.q = q\n",
    "        self.frequencies = []\n",
    "\n",
    "    def prob(self, r):\n",
    "        self.funk = ((math.factorial(self.n)) / (math.factorial(r) * math.factorial(((self.n)-r)))) * pow((self.q), ((self.n)-r)) * pow((self.p), r)\n",
    "        return self.funk\n",
    "\n",
    "    def freq(self, event, r):\n",
    "        event_prob = self.prob(r)\n",
    "        frequency = event_prob * event\n",
    "        frequency = round(frequency, 0)\n",
    "        return frequency"
   ]
  },
  {
   "cell_type": "code",
   "execution_count": 4,
   "id": "9ec8e51d-8ced-42f4-90aa-dfacf529e704",
   "metadata": {},
   "outputs": [
    {
     "name": "stdout",
     "output_type": "stream",
     "text": [
      "b) 0.5998312446705341\n"
     ]
    }
   ],
   "source": [
    "n = 6\n",
    "q = 1 - a\n",
    "bin_dist = bino(n, a, q)\n",
    "PXE0 = bin_dist.prob(0)\n",
    "PXGE1 = 1 - PXE0\n",
    "print(\"b) \" + str(PXGE1))"
   ]
  },
  {
   "cell_type": "code",
   "execution_count": 5,
   "id": "41b8699d-4fdc-4ebc-bd03-a7ce239909bc",
   "metadata": {},
   "outputs": [
    {
     "name": "stdout",
     "output_type": "stream",
     "text": [
      "c) 14.96101297387722\n"
     ]
    }
   ],
   "source": [
    "z = normal(0, 1)\n",
    "loc = z.locate(0.05)\n",
    "length = (loc * std) + mean\n",
    "print(\"c) \" + str(length))"
   ]
  },
  {
   "cell_type": "code",
   "execution_count": 6,
   "id": "ab0fa8bb-1ecb-4980-81cc-6af6e46ee73c",
   "metadata": {},
   "outputs": [
    {
     "name": "stdout",
     "output_type": "stream",
     "text": [
      "d) 0.3042738845538866\n"
     ]
    }
   ],
   "source": [
    "mean = 5.5 + 5.1\n",
    "var = (0.5**2) + (0.6**2)\n",
    "std = math.sqrt(var)\n",
    "dist = normal(mean, std)\n",
    "bound = 5.5 + 5.5\n",
    "d = dist.integrate(bound, 100)\n",
    "print(\"d) \" + str(d))"
   ]
  }
 ],
 "metadata": {
  "kernelspec": {
   "display_name": "Python 3 (ipykernel)",
   "language": "python",
   "name": "python3"
  },
  "language_info": {
   "codemirror_mode": {
    "name": "ipython",
    "version": 3
   },
   "file_extension": ".py",
   "mimetype": "text/x-python",
   "name": "python",
   "nbconvert_exporter": "python",
   "pygments_lexer": "ipython3",
   "version": "3.12.1"
  }
 },
 "nbformat": 4,
 "nbformat_minor": 5
}

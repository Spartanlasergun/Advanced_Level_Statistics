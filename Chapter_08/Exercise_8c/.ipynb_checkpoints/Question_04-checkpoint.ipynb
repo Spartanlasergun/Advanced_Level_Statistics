{
 "cells": [
  {
   "cell_type": "markdown",
   "id": "9d5b79d4-419f-42a3-a6af-37a222514666",
   "metadata": {},
   "source": [
    "# Question 4\n",
    "-----"
   ]
  },
  {
   "cell_type": "code",
   "execution_count": 1,
   "id": "1bcc4222-e26c-4e64-9166-621ee28e38a1",
   "metadata": {},
   "outputs": [],
   "source": [
    "from scipy.integrate import quad\n",
    "import math\n",
    "\n",
    "class normal:\n",
    "    def __init__(self, u, sigma):\n",
    "        self.u = u\n",
    "        self.sigma = sigma\n",
    "        self.root2pi = math.sqrt((2 * math.pi)) \n",
    "    \n",
    "    def normal_func(self, x):\n",
    "        return (1 / (self.sigma * self.root2pi)) * math.exp((-1 * pow((x - self.u), 2)) / (2 * pow(self.sigma, 2)))\n",
    "\n",
    "    def integrate(self, lower_limit, upper_limit):\n",
    "        result, error = quad(self.normal_func, lower_limit, upper_limit)\n",
    "        \n",
    "        return result\n",
    "\n",
    "    def locate(self, area):\n",
    "        fx = 0\n",
    "        x = -6\n",
    "        while fx < area:\n",
    "            fx = self.integrate(-6, x)\n",
    "            x = x + 0.00001\n",
    "            \n",
    "        return x"
   ]
  },
  {
   "cell_type": "code",
   "execution_count": 2,
   "id": "77d14c46-1e51-44ef-84ba-0879092d6017",
   "metadata": {},
   "outputs": [
    {
     "name": "stdout",
     "output_type": "stream",
     "text": [
      "a) 0.08876492620607676\n"
     ]
    }
   ],
   "source": [
    "mean = (420 * 5) + (220 * 10)\n",
    "var = (30**2 * 5) + (10**2 * 10)\n",
    "std = math.sqrt(var)\n",
    "dist = normal(mean, std)\n",
    "bound = (220 * 10) * 2\n",
    "a = dist.integrate(bound, 100000)\n",
    "print(\"a) \" + str(a))"
   ]
  },
  {
   "cell_type": "code",
   "execution_count": 3,
   "id": "2cf3e8fb-d32c-41cc-abdd-56a4ad60fba2",
   "metadata": {},
   "outputs": [
    {
     "name": "stdout",
     "output_type": "stream",
     "text": [
      "b) 0.6611429452585259\n"
     ]
    }
   ],
   "source": [
    "b = dist.integrate(4250, 4400)\n",
    "print(\"b) \" + str(b))"
   ]
  }
 ],
 "metadata": {
  "kernelspec": {
   "display_name": "Python 3 (ipykernel)",
   "language": "python",
   "name": "python3"
  },
  "language_info": {
   "codemirror_mode": {
    "name": "ipython",
    "version": 3
   },
   "file_extension": ".py",
   "mimetype": "text/x-python",
   "name": "python",
   "nbconvert_exporter": "python",
   "pygments_lexer": "ipython3",
   "version": "3.12.1"
  }
 },
 "nbformat": 4,
 "nbformat_minor": 5
}

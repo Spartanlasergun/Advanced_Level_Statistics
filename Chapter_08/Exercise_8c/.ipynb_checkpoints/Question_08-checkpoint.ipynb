{
 "cells": [
  {
   "cell_type": "markdown",
   "id": "7587d4fe-6020-45dc-aad1-45592d0093de",
   "metadata": {},
   "source": [
    "# Question 8\n",
    "-----"
   ]
  },
  {
   "cell_type": "code",
   "execution_count": 1,
   "id": "28beab6d-efb3-47f4-a5fe-234f1ff69be0",
   "metadata": {},
   "outputs": [
    {
     "name": "stdout",
     "output_type": "stream",
     "text": [
      "mean = 12000\n",
      "sigma = 57.0087712549569\n"
     ]
    }
   ],
   "source": [
    "import math\n",
    "mean = (400 + 800) * 10\n",
    "var = (10**2 + 15**2) * 10\n",
    "std = math.sqrt(var)\n",
    "print(\"mean = \" + str(mean))\n",
    "print(\"sigma = \" + str(std))"
   ]
  },
  {
   "cell_type": "code",
   "execution_count": 2,
   "id": "003c163a-998e-4963-bb0f-25fd5287a66a",
   "metadata": {},
   "outputs": [],
   "source": [
    "from scipy.integrate import quad\n",
    "import math\n",
    "\n",
    "class normal:\n",
    "    def __init__(self, u, sigma):\n",
    "        self.u = u\n",
    "        self.sigma = sigma\n",
    "        self.root2pi = math.sqrt((2 * math.pi)) \n",
    "    \n",
    "    def normal_func(self, x):\n",
    "        return (1 / (self.sigma * self.root2pi)) * math.exp((-1 * pow((x - self.u), 2)) / (2 * pow(self.sigma, 2)))\n",
    "\n",
    "    def integrate(self, lower_limit, upper_limit):\n",
    "        result, error = quad(self.normal_func, lower_limit, upper_limit)\n",
    "        \n",
    "        return result\n",
    "\n",
    "    def locate(self, area):\n",
    "        fx = 0\n",
    "        x = -6\n",
    "        while fx < area:\n",
    "            fx = self.integrate(-6, x)\n",
    "            x = x + 0.00001\n",
    "            \n",
    "        return x"
   ]
  },
  {
   "cell_type": "code",
   "execution_count": 3,
   "id": "bc4df38f-5f1a-416c-a866-996ef507a563",
   "metadata": {},
   "outputs": [
    {
     "name": "stdout",
     "output_type": "stream",
     "text": [
      "proportion > 12.1kg = 3.970531299947132%\n"
     ]
    }
   ],
   "source": [
    "dist = normal(mean, std)\n",
    "prop = dist.integrate(12100, 20000)\n",
    "percent = prop * 100\n",
    "print(\"proportion > 12.1kg = \" + str(percent) + \"%\")"
   ]
  }
 ],
 "metadata": {
  "kernelspec": {
   "display_name": "Python 3 (ipykernel)",
   "language": "python",
   "name": "python3"
  },
  "language_info": {
   "codemirror_mode": {
    "name": "ipython",
    "version": 3
   },
   "file_extension": ".py",
   "mimetype": "text/x-python",
   "name": "python",
   "nbconvert_exporter": "python",
   "pygments_lexer": "ipython3",
   "version": "3.12.1"
  }
 },
 "nbformat": 4,
 "nbformat_minor": 5
}

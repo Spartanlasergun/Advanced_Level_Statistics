{
 "cells": [
  {
   "cell_type": "markdown",
   "id": "3355292e-e17a-4aa7-9f90-6eccb542fd7d",
   "metadata": {},
   "source": [
    "# Question 3\n",
    "-----"
   ]
  },
  {
   "cell_type": "code",
   "execution_count": 1,
   "id": "50e5329e-e363-44a4-9da5-a37f69c4a5d2",
   "metadata": {},
   "outputs": [],
   "source": [
    "from scipy.integrate import quad\n",
    "import math\n",
    "\n",
    "class normal:\n",
    "    def __init__(self, u, sigma):\n",
    "        self.u = u\n",
    "        self.sigma = sigma\n",
    "        self.root2pi = math.sqrt((2 * math.pi)) \n",
    "    \n",
    "    def normal_func(self, x):\n",
    "        return (1 / (self.sigma * self.root2pi)) * math.exp((-1 * pow((x - self.u), 2)) / (2 * pow(self.sigma, 2)))\n",
    "\n",
    "    def integrate(self, lower_limit, upper_limit):\n",
    "        result, error = quad(self.normal_func, lower_limit, upper_limit)\n",
    "        \n",
    "        return result\n",
    "\n",
    "    def locate(self, area):\n",
    "        fx = 0\n",
    "        x = -6\n",
    "        while fx < area:\n",
    "            fx = self.integrate(-6, x)\n",
    "            x = x + 0.00001\n",
    "            \n",
    "        return x"
   ]
  },
  {
   "cell_type": "code",
   "execution_count": 2,
   "id": "cebe4154-1832-4087-8809-3286502b38d3",
   "metadata": {},
   "outputs": [
    {
     "name": "stdout",
     "output_type": "stream",
     "text": [
      "-1.1601000000571107\n",
      "-0.5798600000579739\n"
     ]
    }
   ],
   "source": [
    "z = normal(0, 1)\n",
    "loc_1 = z.locate(0.123)\n",
    "loc_2 = z.locate(0.281)\n",
    "print(loc_1)\n",
    "print(loc_2)"
   ]
  },
  {
   "cell_type": "markdown",
   "id": "0f82ed2a-fff2-473b-9c9c-552f14821870",
   "metadata": {},
   "source": [
    "$$1.16\\sigma + 800 = \\mu$$\n",
    "\n",
    "$$1100 - 0.58\\sigma = \\mu$$\n",
    "\n",
    "$$1.16\\sigma + 800 = 1100 - 0.58\\sigma$$\n",
    "\n",
    "$$1.74\\sigma = 300$$\n",
    "\n",
    "$$\\sigma = 172.41$$\n",
    "\n",
    "$$\\mu = (1.16 * 172.41) + 800$$\n",
    "\n",
    "$$\\mu = 1000$$"
   ]
  },
  {
   "cell_type": "code",
   "execution_count": 3,
   "id": "9e385aab-1124-4835-abff-53184ca912c1",
   "metadata": {},
   "outputs": [
    {
     "name": "stdout",
     "output_type": "stream",
     "text": [
      "mean = 3000\n",
      "sigma = 298.62287973295014\n"
     ]
    }
   ],
   "source": [
    "mean = 1000 * 3\n",
    "var = (172.41**2) * 3\n",
    "std = math.sqrt(var)\n",
    "print(\"mean = \" + str(mean))\n",
    "print(\"sigma = \" + str(std))"
   ]
  },
  {
   "cell_type": "code",
   "execution_count": 4,
   "id": "f8e2c5a3-83b5-471d-876d-196eca74e28f",
   "metadata": {},
   "outputs": [
    {
     "name": "stdout",
     "output_type": "stream",
     "text": [
      "P(3X > 3300) = 0.15754196197035852\n"
     ]
    }
   ],
   "source": [
    "dist = normal(mean, std)\n",
    "prob = dist.integrate(3300, 10000)\n",
    "print(\"P(3X > 3300) = \" + str(prob))"
   ]
  },
  {
   "cell_type": "code",
   "execution_count": 5,
   "id": "3bd3d529-aeb7-4c22-b409-eb6a83d294cf",
   "metadata": {},
   "outputs": [
    {
     "name": "stdout",
     "output_type": "stream",
     "text": [
      "prob = 0.022176910877514697\n"
     ]
    }
   ],
   "source": [
    "dist = normal(1000, 172.41)\n",
    "prob = dist.integrate(1100, 10000)\n",
    "all3 = prob**3\n",
    "print(\"prob = \" + str(all3))"
   ]
  }
 ],
 "metadata": {
  "kernelspec": {
   "display_name": "Python 3 (ipykernel)",
   "language": "python",
   "name": "python3"
  },
  "language_info": {
   "codemirror_mode": {
    "name": "ipython",
    "version": 3
   },
   "file_extension": ".py",
   "mimetype": "text/x-python",
   "name": "python",
   "nbconvert_exporter": "python",
   "pygments_lexer": "ipython3",
   "version": "3.12.1"
  }
 },
 "nbformat": 4,
 "nbformat_minor": 5
}

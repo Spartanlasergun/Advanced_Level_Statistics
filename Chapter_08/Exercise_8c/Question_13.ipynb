{
 "cells": [
  {
   "cell_type": "markdown",
   "id": "552cafb0-ef5d-47cc-9e70-d7507b2cfcaa",
   "metadata": {},
   "source": [
    "# Question 3\n",
    "-----"
   ]
  },
  {
   "cell_type": "code",
   "execution_count": 1,
   "id": "748cf543-c11e-4ab9-ae05-5b5963f06a9c",
   "metadata": {},
   "outputs": [],
   "source": [
    "from scipy.integrate import quad\n",
    "import math\n",
    "\n",
    "class normal:\n",
    "    def __init__(self, u, sigma):\n",
    "        self.u = u\n",
    "        self.sigma = sigma\n",
    "        self.root2pi = math.sqrt((2 * math.pi)) \n",
    "    \n",
    "    def normal_func(self, x):\n",
    "        return (1 / (self.sigma * self.root2pi)) * math.exp((-1 * pow((x - self.u), 2)) / (2 * pow(self.sigma, 2)))\n",
    "\n",
    "    def integrate(self, lower_limit, upper_limit):\n",
    "        result, error = quad(self.normal_func, lower_limit, upper_limit)\n",
    "        \n",
    "        return result\n",
    "\n",
    "    def locate(self, area):\n",
    "        fx = 0\n",
    "        x = -6\n",
    "        while fx < area:\n",
    "            fx = self.integrate(-6, x)\n",
    "            x = x + 0.00001\n",
    "            \n",
    "        return x"
   ]
  },
  {
   "cell_type": "code",
   "execution_count": 2,
   "id": "d9afe0bc-8c4a-4ee5-9e37-cc9ba318030d",
   "metadata": {},
   "outputs": [
    {
     "name": "stdout",
     "output_type": "stream",
     "text": [
      "a) 0.25249253754692297\n"
     ]
    }
   ],
   "source": [
    "dist = normal(150, 45)\n",
    "a = dist.integrate(180, 10000)\n",
    "print(\"a) \" + str(a))"
   ]
  },
  {
   "cell_type": "code",
   "execution_count": 3,
   "id": "a884af07-3f7c-4f34-97d1-c82560721054",
   "metadata": {},
   "outputs": [
    {
     "name": "stdout",
     "output_type": "stream",
     "text": [
      "b) 0.05805087199027435\n"
     ]
    }
   ],
   "source": [
    "mean = 150 * 2\n",
    "var = (45**2) * 2\n",
    "std = math.sqrt(var)\n",
    "dist = normal(mean, std)\n",
    "b = dist.integrate(-1000, 200)\n",
    "print(\"b) \" + str(b))"
   ]
  },
  {
   "cell_type": "code",
   "execution_count": 4,
   "id": "276d0027-d8ac-4df5-8a56-350f696b16a8",
   "metadata": {},
   "outputs": [
    {
     "name": "stdout",
     "output_type": "stream",
     "text": [
      "c) 0.10385604286377835\n"
     ]
    }
   ],
   "source": [
    "mean = 150 * 7\n",
    "var = (45**2) * 7\n",
    "std = math.sqrt(var)\n",
    "dist = normal(mean, std)\n",
    "bound = 150 * 6\n",
    "c = dist.integrate(0, bound)\n",
    "print(\"c) \" + str(c))"
   ]
  }
 ],
 "metadata": {
  "kernelspec": {
   "display_name": "Python 3 (ipykernel)",
   "language": "python",
   "name": "python3"
  },
  "language_info": {
   "codemirror_mode": {
    "name": "ipython",
    "version": 3
   },
   "file_extension": ".py",
   "mimetype": "text/x-python",
   "name": "python",
   "nbconvert_exporter": "python",
   "pygments_lexer": "ipython3",
   "version": "3.12.1"
  }
 },
 "nbformat": 4,
 "nbformat_minor": 5
}

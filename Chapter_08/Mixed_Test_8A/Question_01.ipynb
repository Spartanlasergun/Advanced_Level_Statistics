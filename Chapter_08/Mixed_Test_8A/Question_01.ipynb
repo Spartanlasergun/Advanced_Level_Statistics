{
 "cells": [
  {
   "cell_type": "markdown",
   "id": "646f36ea-e997-4fea-852d-e12d91a8a6c6",
   "metadata": {},
   "source": [
    "# Question 1\n",
    "-----"
   ]
  },
  {
   "cell_type": "code",
   "execution_count": 1,
   "id": "7aa4036e-8a6c-49f9-9383-c62f23886c57",
   "metadata": {},
   "outputs": [
    {
     "name": "stdout",
     "output_type": "stream",
     "text": [
      "mean = 600\n",
      "var = 105.79999999999998\n"
     ]
    }
   ],
   "source": [
    "mean = 30 * 20\n",
    "var = (2.3**2) * 20\n",
    "print(\"mean = \" + str(mean))\n",
    "print(\"var = \" + str(var))"
   ]
  },
  {
   "cell_type": "markdown",
   "id": "9547a30f-7e7e-44a0-9919-c673e75e1bb3",
   "metadata": {},
   "source": [
    "$$S \\sim N(600, 105.8)$$"
   ]
  },
  {
   "cell_type": "code",
   "execution_count": 2,
   "id": "f6e8093e-446c-43e2-abea-316bc9808240",
   "metadata": {},
   "outputs": [],
   "source": [
    "from scipy.integrate import quad\n",
    "import math\n",
    "\n",
    "class normal:\n",
    "    def __init__(self, u, sigma):\n",
    "        self.u = u\n",
    "        self.sigma = sigma\n",
    "        self.root2pi = math.sqrt((2 * math.pi)) \n",
    "    \n",
    "    def normal_func(self, x):\n",
    "        return (1 / (self.sigma * self.root2pi)) * math.exp((-1 * pow((x - self.u), 2)) / (2 * pow(self.sigma, 2)))\n",
    "\n",
    "    def integrate(self, lower_limit, upper_limit):\n",
    "        result, error = quad(self.normal_func, lower_limit, upper_limit)\n",
    "        \n",
    "        return result\n",
    "\n",
    "    def locate(self, area):\n",
    "        fx = 0\n",
    "        x = -6\n",
    "        while fx < area:\n",
    "            fx = self.integrate(-6, x)\n",
    "            x = x + 0.00001\n",
    "            \n",
    "        return x"
   ]
  },
  {
   "cell_type": "code",
   "execution_count": 3,
   "id": "342c948b-b56d-4fbf-a3ed-aa1e32198265",
   "metadata": {},
   "outputs": [
    {
     "name": "stdout",
     "output_type": "stream",
     "text": [
      "a) 0.07237821840528584\n"
     ]
    }
   ],
   "source": [
    "std = math.sqrt(var)\n",
    "dist = normal(mean, std)\n",
    "a = dist.integrate(615, 10000)\n",
    "print(\"a) \" + str(a))"
   ]
  },
  {
   "cell_type": "code",
   "execution_count": 4,
   "id": "92f9e581-d392-4ca1-b21f-69ed5010a144",
   "metadata": {},
   "outputs": [
    {
     "name": "stdout",
     "output_type": "stream",
     "text": [
      "b) 0.8394591390638526\n"
     ]
    }
   ],
   "source": [
    "mean = ((30 * 20) * 6) + ((30 * 30) * 4)\n",
    "var = ((2.3**2 * 20) * 6) + ((2.3**2 * 30) * 4)\n",
    "std = math.sqrt(var)\n",
    "dist = normal(mean, std)\n",
    "b = dist.integrate(7150, 7250)\n",
    "print(\"b) \" + str(b))"
   ]
  },
  {
   "cell_type": "code",
   "execution_count": 5,
   "id": "14601842-78b4-4e2d-8626-e0c38f826c17",
   "metadata": {},
   "outputs": [
    {
     "name": "stdout",
     "output_type": "stream",
     "text": [
      "c) 0.16053754737920337\n"
     ]
    }
   ],
   "source": [
    "mean = ((30 * 20) * 3) + ((30 * 30) * 2)\n",
    "var = ((2.3**2 * 20) * 3) + ((2.3**2 * 30) * 2)\n",
    "std = math.sqrt(var)\n",
    "dist = normal(mean, std)\n",
    "bound = ((30 * 30) * 2 * 2) + 25\n",
    "c = dist.integrate(bound, 10000)\n",
    "print(\"c) \" + str(c))"
   ]
  },
  {
   "cell_type": "code",
   "execution_count": 6,
   "id": "c3923b95-9edb-4f7f-bda6-4d5d6503045c",
   "metadata": {},
   "outputs": [
    {
     "name": "stdout",
     "output_type": "stream",
     "text": [
      "d) 30.53814508088895\n"
     ]
    }
   ],
   "source": [
    "z = normal(0, 1)\n",
    "loc = -1 * (z.locate(0.1))\n",
    "var = (2.3**2 * 30)\n",
    "sigma = math.sqrt(var)\n",
    "mean = 900 + (loc * sigma)\n",
    "mass = mean / 30\n",
    "print(\"d) \" + str(mass))"
   ]
  }
 ],
 "metadata": {
  "kernelspec": {
   "display_name": "Python 3 (ipykernel)",
   "language": "python",
   "name": "python3"
  },
  "language_info": {
   "codemirror_mode": {
    "name": "ipython",
    "version": 3
   },
   "file_extension": ".py",
   "mimetype": "text/x-python",
   "name": "python",
   "nbconvert_exporter": "python",
   "pygments_lexer": "ipython3",
   "version": "3.12.1"
  }
 },
 "nbformat": 4,
 "nbformat_minor": 5
}

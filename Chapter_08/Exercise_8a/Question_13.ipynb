{
 "cells": [
  {
   "cell_type": "markdown",
   "id": "4d21f0c2-7f9a-40c6-a7fc-ae52627e6081",
   "metadata": {},
   "source": [
    "# Question 13\n",
    "-----"
   ]
  },
  {
   "cell_type": "code",
   "execution_count": 1,
   "id": "44b5198f-0921-4846-b1ee-48e047f50140",
   "metadata": {},
   "outputs": [],
   "source": [
    "from scipy.integrate import quad\n",
    "import math\n",
    "\n",
    "class normal:\n",
    "    def __init__(self, u, sigma):\n",
    "        self.u = u\n",
    "        self.sigma = sigma\n",
    "        self.root2pi = math.sqrt((2 * math.pi)) \n",
    "    \n",
    "    def normal_func(self, x):\n",
    "        return (1 / (self.sigma * self.root2pi)) * math.exp((-1 * pow((x - self.u), 2)) / (2 * pow(self.sigma, 2)))\n",
    "\n",
    "    def integrate(self, lower_limit, upper_limit):\n",
    "        result, error = quad(self.normal_func, lower_limit, upper_limit)\n",
    "        \n",
    "        return result\n",
    "\n",
    "    def locate(self, area):\n",
    "        fx = 0\n",
    "        x = -6\n",
    "        while fx < area:\n",
    "            fx = self.integrate(-6, x)\n",
    "            x = x + 0.00001\n",
    "            \n",
    "        return x\n"
   ]
  },
  {
   "cell_type": "code",
   "execution_count": 2,
   "id": "c6cc5da0-c96c-49b6-a188-a921c87dc110",
   "metadata": {},
   "outputs": [
    {
     "name": "stdout",
     "output_type": "stream",
     "text": [
      "a) 94.3859599998642, 105.6140400001358\n"
     ]
    }
   ],
   "source": [
    "z = normal(0, 1)\n",
    "loc = z.locate(0.0025)\n",
    "lower = (loc * 2) + 100\n",
    "upper = (-1 * loc * 2) + 100\n",
    "print(\"a) \" + str(lower) + \", \" + str(upper))"
   ]
  },
  {
   "cell_type": "code",
   "execution_count": 3,
   "id": "cb7f2715-4ae8-4e2d-80eb-e7995e8568f3",
   "metadata": {},
   "outputs": [
    {
     "name": "stdout",
     "output_type": "stream",
     "text": [
      "b) 92.55426634106163%\n"
     ]
    }
   ],
   "source": [
    "mean = 100 * 3\n",
    "var = (2**2) * 3\n",
    "std = math.sqrt(var)\n",
    "dist = normal(mean, std)\n",
    "b = dist.integrate(295, 2000)\n",
    "percent = b * 100\n",
    "print(\"b) \" + str(percent) + \"%\")"
   ]
  },
  {
   "cell_type": "code",
   "execution_count": 4,
   "id": "6fd7fe40-57ca-454d-b826-acadf614be5a",
   "metadata": {},
   "outputs": [
    {
     "name": "stdout",
     "output_type": "stream",
     "text": [
      "c) 22.136810180513404%\n"
     ]
    }
   ],
   "source": [
    "mean = 100 + 50\n",
    "var = (2**2) + (1.3**2)\n",
    "std = math.sqrt(var)\n",
    "dist = normal(mean, std)\n",
    "c = dist.integrate(150, 151.4)\n",
    "percent = c * 100\n",
    "print(\"c) \" + str(percent) + \"%\")"
   ]
  }
 ],
 "metadata": {
  "kernelspec": {
   "display_name": "Python 3 (ipykernel)",
   "language": "python",
   "name": "python3"
  },
  "language_info": {
   "codemirror_mode": {
    "name": "ipython",
    "version": 3
   },
   "file_extension": ".py",
   "mimetype": "text/x-python",
   "name": "python",
   "nbconvert_exporter": "python",
   "pygments_lexer": "ipython3",
   "version": "3.12.1"
  }
 },
 "nbformat": 4,
 "nbformat_minor": 5
}

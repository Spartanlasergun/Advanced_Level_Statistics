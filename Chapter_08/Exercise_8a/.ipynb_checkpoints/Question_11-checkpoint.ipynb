{
 "cells": [
  {
   "cell_type": "markdown",
   "id": "c8ce4617-d4ed-4040-b6a6-ec36c43c3fbe",
   "metadata": {},
   "source": [
    "# Question 11\n",
    "------"
   ]
  },
  {
   "cell_type": "code",
   "execution_count": 1,
   "id": "c1da5f16-0122-472d-840f-bef61c99b7ff",
   "metadata": {},
   "outputs": [],
   "source": [
    "from scipy.integrate import quad\n",
    "import math\n",
    "\n",
    "class normal:\n",
    "    def __init__(self, u, sigma):\n",
    "        self.u = u\n",
    "        self.sigma = sigma\n",
    "        self.root2pi = math.sqrt((2 * math.pi)) \n",
    "    \n",
    "    def normal_func(self, x):\n",
    "        return (1 / (self.sigma * self.root2pi)) * math.exp((-1 * pow((x - self.u), 2)) / (2 * pow(self.sigma, 2)))\n",
    "\n",
    "    def integrate(self, lower_limit, upper_limit):\n",
    "        result, error = quad(self.normal_func, lower_limit, upper_limit)\n",
    "        \n",
    "        return result\n",
    "\n",
    "    def locate(self, area):\n",
    "        fx = 0\n",
    "        x = -6\n",
    "        while fx < area:\n",
    "            fx = self.integrate(-6, x)\n",
    "            x = x + 0.00001\n",
    "            \n",
    "        return x"
   ]
  },
  {
   "cell_type": "code",
   "execution_count": 2,
   "id": "c9c44e7a-9d30-4ef9-96d9-b2bc4aa1a9ff",
   "metadata": {},
   "outputs": [
    {
     "name": "stdout",
     "output_type": "stream",
     "text": [
      "P(6A > 6.5hrs) = 0.1103356809599234\n"
     ]
    }
   ],
   "source": [
    "mean = 60 * 6\n",
    "var = (10**2) * 6\n",
    "std = math.sqrt(var)\n",
    "dist = normal(mean, std)\n",
    "time = 6.5 * 60\n",
    "prob = dist.integrate(time, 50000)\n",
    "print(\"P(6A > 6.5hrs) = \" + str(prob)) "
   ]
  },
  {
   "cell_type": "code",
   "execution_count": 3,
   "id": "cb958825-91fa-4cfd-a6a1-074e8e079e61",
   "metadata": {},
   "outputs": [
    {
     "name": "stdout",
     "output_type": "stream",
     "text": [
      "P(B < A) = 0.752937727795368\n"
     ]
    }
   ],
   "source": [
    "mean = (60 * 8) + (90 * 5)\n",
    "var = ((10**2) * 8) + ((15**2) * 5)\n",
    "std = math.sqrt(var)\n",
    "dist = normal(mean, std)\n",
    "prob = 1 - (dist.integrate(0, 900))\n",
    "print(\"P(B < A) = \" + str(prob))"
   ]
  }
 ],
 "metadata": {
  "kernelspec": {
   "display_name": "Python 3 (ipykernel)",
   "language": "python",
   "name": "python3"
  },
  "language_info": {
   "codemirror_mode": {
    "name": "ipython",
    "version": 3
   },
   "file_extension": ".py",
   "mimetype": "text/x-python",
   "name": "python",
   "nbconvert_exporter": "python",
   "pygments_lexer": "ipython3",
   "version": "3.12.1"
  }
 },
 "nbformat": 4,
 "nbformat_minor": 5
}

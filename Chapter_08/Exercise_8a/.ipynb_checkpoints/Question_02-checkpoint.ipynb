{
 "cells": [
  {
   "cell_type": "markdown",
   "id": "dfd02589-7276-4727-9da8-43e8f5f5ab91",
   "metadata": {},
   "source": [
    "# Question 2\n",
    "-----"
   ]
  },
  {
   "cell_type": "code",
   "execution_count": 1,
   "id": "19cdaeac-9c79-42cf-a893-ea9da3ade0d8",
   "metadata": {},
   "outputs": [],
   "source": [
    "from scipy.integrate import quad\n",
    "import math\n",
    "\n",
    "class normal:\n",
    "    def __init__(self, u, sigma):\n",
    "        self.u = u\n",
    "        self.sigma = sigma\n",
    "        self.root2pi = math.sqrt((2 * math.pi)) \n",
    "    \n",
    "    def normal_func(self, x):\n",
    "        return (1 / (self.sigma * self.root2pi)) * math.exp((-1 * pow((x - self.u), 2)) / (2 * pow(self.sigma, 2)))\n",
    "\n",
    "    def integrate(self, lower_limit, upper_limit):\n",
    "        result, error = quad(self.normal_func, lower_limit, upper_limit)\n",
    "        \n",
    "        return result\n",
    "\n",
    "    def locate(self, area):\n",
    "        fx = 0\n",
    "        x = -6\n",
    "        while fx < area:\n",
    "            fx = self.integrate(-6, x)\n",
    "            x = x + 0.00001\n",
    "            \n",
    "        return x"
   ]
  },
  {
   "cell_type": "code",
   "execution_count": 2,
   "id": "b89a1996-107e-4f73-b516-7a224d6b5552",
   "metadata": {},
   "outputs": [
    {
     "name": "stdout",
     "output_type": "stream",
     "text": [
      "a) 0.1317762386414864\n"
     ]
    }
   ],
   "source": [
    "mean = 15 + 25\n",
    "var = 2**2 + 4**2\n",
    "std = math.sqrt(var)\n",
    "dist = normal(mean, std)\n",
    "a = dist.integrate(45, 500)\n",
    "print(\"a) \" + str(a))"
   ]
  },
  {
   "cell_type": "code",
   "execution_count": 3,
   "id": "3f60b840-f62d-4430-9214-9a2cf27cdcce",
   "metadata": {},
   "outputs": [
    {
     "name": "stdout",
     "output_type": "stream",
     "text": [
      "b) 0.012673659338734145\n"
     ]
    }
   ],
   "source": [
    "b = dist.integrate(-500, 30)\n",
    "print(\"b) \" + str(b))"
   ]
  }
 ],
 "metadata": {
  "kernelspec": {
   "display_name": "Python 3 (ipykernel)",
   "language": "python",
   "name": "python3"
  },
  "language_info": {
   "codemirror_mode": {
    "name": "ipython",
    "version": 3
   },
   "file_extension": ".py",
   "mimetype": "text/x-python",
   "name": "python",
   "nbconvert_exporter": "python",
   "pygments_lexer": "ipython3",
   "version": "3.12.1"
  }
 },
 "nbformat": 4,
 "nbformat_minor": 5
}

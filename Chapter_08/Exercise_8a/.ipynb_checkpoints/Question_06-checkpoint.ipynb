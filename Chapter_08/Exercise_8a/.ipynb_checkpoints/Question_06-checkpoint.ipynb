{
 "cells": [
  {
   "cell_type": "markdown",
   "id": "a57ddc5c-6aac-4c2c-b13e-5a5765c9ea38",
   "metadata": {},
   "source": [
    "# Question 6\n",
    "-----"
   ]
  },
  {
   "cell_type": "code",
   "execution_count": 1,
   "id": "0b784075-6aef-4a34-9905-7545aa44ea9f",
   "metadata": {},
   "outputs": [],
   "source": [
    "from scipy.integrate import quad\n",
    "import math\n",
    "\n",
    "class normal:\n",
    "    def __init__(self, u, sigma):\n",
    "        self.u = u\n",
    "        self.sigma = sigma\n",
    "        self.root2pi = math.sqrt((2 * math.pi)) \n",
    "    \n",
    "    def normal_func(self, x):\n",
    "        return (1 / (self.sigma * self.root2pi)) * math.exp((-1 * pow((x - self.u), 2)) / (2 * pow(self.sigma, 2)))\n",
    "\n",
    "    def integrate(self, lower_limit, upper_limit):\n",
    "        result, error = quad(self.normal_func, lower_limit, upper_limit)\n",
    "        \n",
    "        return result\n",
    "\n",
    "    def locate(self, area):\n",
    "        fx = 0\n",
    "        x = -6\n",
    "        while fx < area:\n",
    "            fx = self.integrate(-6, x)\n",
    "            x = x + 0.00001\n",
    "            \n",
    "        return x"
   ]
  },
  {
   "cell_type": "code",
   "execution_count": 2,
   "id": "a6040f1d-df3e-4f75-81a8-9d44515b443b",
   "metadata": {},
   "outputs": [
    {
     "name": "stdout",
     "output_type": "stream",
     "text": [
      "a) 0.02061341666858183\n"
     ]
    }
   ],
   "source": [
    "mean = 20 * 6\n",
    "var = 2**2 * 6\n",
    "std = math.sqrt(var)\n",
    "dist = normal(mean, std)\n",
    "a = dist.integrate(0, 110)\n",
    "print(\"a) \" + str(a))"
   ]
  },
  {
   "cell_type": "code",
   "execution_count": 3,
   "id": "22bf63b1-a72b-4b4c-9a76-8471d03c102a",
   "metadata": {},
   "outputs": [
    {
     "name": "stdout",
     "output_type": "stream",
     "text": [
      "b)(i) 0.02888978556179866\n"
     ]
    }
   ],
   "source": [
    "mean = (20 * 6) + 30\n",
    "var = ((2**2) * 6) + (4**2)\n",
    "std = math.sqrt(var)\n",
    "dist = normal(mean, std)\n",
    "bi = dist.integrate(162, 1000)\n",
    "print(\"b)(i) \" + str(bi))"
   ]
  },
  {
   "cell_type": "code",
   "execution_count": 4,
   "id": "59dc6299-ab78-4acf-9e63-aaa285056df2",
   "metadata": {},
   "outputs": [
    {
     "name": "stdout",
     "output_type": "stream",
     "text": [
      "b)(ii) 0.019916309622370707\n"
     ]
    }
   ],
   "source": [
    "bii = dist.integrate(0, 137)\n",
    "print(\"b)(ii) \" + str(bii))"
   ]
  },
  {
   "cell_type": "code",
   "execution_count": 5,
   "id": "7f57bd89-2276-45c2-ae32-9303ad340ea8",
   "metadata": {},
   "outputs": [
    {
     "name": "stdout",
     "output_type": "stream",
     "text": [
      "b)(iii) 0.6254487029980469\n"
     ]
    }
   ],
   "source": [
    "biii = dist.integrate(140, 153)\n",
    "print(\"b)(iii) \" + str(biii))"
   ]
  }
 ],
 "metadata": {
  "kernelspec": {
   "display_name": "Python 3 (ipykernel)",
   "language": "python",
   "name": "python3"
  },
  "language_info": {
   "codemirror_mode": {
    "name": "ipython",
    "version": 3
   },
   "file_extension": ".py",
   "mimetype": "text/x-python",
   "name": "python",
   "nbconvert_exporter": "python",
   "pygments_lexer": "ipython3",
   "version": "3.12.1"
  }
 },
 "nbformat": 4,
 "nbformat_minor": 5
}

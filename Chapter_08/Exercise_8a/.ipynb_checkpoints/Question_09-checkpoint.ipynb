{
 "cells": [
  {
   "cell_type": "markdown",
   "id": "57208dc8-2304-43ca-b795-d6c581417b07",
   "metadata": {},
   "source": [
    "# Question 9\n",
    "-----"
   ]
  },
  {
   "cell_type": "code",
   "execution_count": 1,
   "id": "27198b01-30e8-4331-bb4c-d9fa14182677",
   "metadata": {},
   "outputs": [],
   "source": [
    "from scipy.integrate import quad\n",
    "import math\n",
    "\n",
    "class normal:\n",
    "    def __init__(self, u, sigma):\n",
    "        self.u = u\n",
    "        self.sigma = sigma\n",
    "        self.root2pi = math.sqrt((2 * math.pi)) \n",
    "    \n",
    "    def normal_func(self, x):\n",
    "        return (1 / (self.sigma * self.root2pi)) * math.exp((-1 * pow((x - self.u), 2)) / (2 * pow(self.sigma, 2)))\n",
    "\n",
    "    def integrate(self, lower_limit, upper_limit):\n",
    "        result, error = quad(self.normal_func, lower_limit, upper_limit)\n",
    "        \n",
    "        return result\n",
    "\n",
    "    def locate(self, area):\n",
    "        fx = 0\n",
    "        x = -6\n",
    "        while fx < area:\n",
    "            fx = self.integrate(-6, x)\n",
    "            x = x + 0.00001\n",
    "            \n",
    "        return x"
   ]
  },
  {
   "cell_type": "code",
   "execution_count": 2,
   "id": "32ea6e13-f971-4cdf-9fd5-80ab4958d294",
   "metadata": {},
   "outputs": [
    {
     "name": "stdout",
     "output_type": "stream",
     "text": [
      "a) 0.17288929307558018\n"
     ]
    }
   ],
   "source": [
    "mean = (2 * 5) + (4 * 10)\n",
    "var = (0.25 * 2) + (1 * 4)\n",
    "std = math.sqrt(var)\n",
    "dist = normal(mean, std)\n",
    "a = dist.integrate(52, 1000)\n",
    "print(\"a) \" + str(a))"
   ]
  },
  {
   "cell_type": "code",
   "execution_count": 3,
   "id": "d4b8d375-b697-47e4-bd49-10739d168e2f",
   "metadata": {},
   "outputs": [
    {
     "name": "stdout",
     "output_type": "stream",
     "text": [
      "b) 0.6128532053025944\n"
     ]
    }
   ],
   "source": [
    "mean = (3 * 5) + (2 * 10)\n",
    "var = (0.25 * 3) + (1 * 2)\n",
    "std = math.sqrt(var)\n",
    "dist = normal(mean, std)\n",
    "b = dist.integrate(33, 36)\n",
    "print(\"b) \" + str(b))"
   ]
  },
  {
   "cell_type": "code",
   "execution_count": 4,
   "id": "b263f24d-2729-46d7-ac8f-dcac9b24a116",
   "metadata": {},
   "outputs": [
    {
     "name": "stdout",
     "output_type": "stream",
     "text": [
      "c) 0.5\n"
     ]
    }
   ],
   "source": [
    "mean = (6 * 5) + (10 * 3)\n",
    "var = (0.25 * 6) + (1 * 3)\n",
    "std = math.sqrt(var)\n",
    "dist = normal(mean, std)\n",
    "c = dist.integrate(60, 1000)\n",
    "print(\"c) \" + str(c))"
   ]
  }
 ],
 "metadata": {
  "kernelspec": {
   "display_name": "Python 3 (ipykernel)",
   "language": "python",
   "name": "python3"
  },
  "language_info": {
   "codemirror_mode": {
    "name": "ipython",
    "version": 3
   },
   "file_extension": ".py",
   "mimetype": "text/x-python",
   "name": "python",
   "nbconvert_exporter": "python",
   "pygments_lexer": "ipython3",
   "version": "3.12.1"
  }
 },
 "nbformat": 4,
 "nbformat_minor": 5
}

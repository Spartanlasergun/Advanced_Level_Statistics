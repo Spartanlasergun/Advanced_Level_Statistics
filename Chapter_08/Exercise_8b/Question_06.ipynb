{
 "cells": [
  {
   "cell_type": "markdown",
   "id": "e7a045db-7b64-4b6f-b15a-a009e424e730",
   "metadata": {},
   "source": [
    "# Question 6\n",
    "-----"
   ]
  },
  {
   "cell_type": "code",
   "execution_count": 1,
   "id": "d4e11243-6cf1-4026-9410-f39f44824dcc",
   "metadata": {},
   "outputs": [],
   "source": [
    "from scipy.integrate import quad\n",
    "import math\n",
    "\n",
    "class normal:\n",
    "    def __init__(self, u, sigma):\n",
    "        self.u = u\n",
    "        self.sigma = sigma\n",
    "        self.root2pi = math.sqrt((2 * math.pi)) \n",
    "    \n",
    "    def normal_func(self, x):\n",
    "        return (1 / (self.sigma * self.root2pi)) * math.exp((-1 * pow((x - self.u), 2)) / (2 * pow(self.sigma, 2)))\n",
    "\n",
    "    def integrate(self, lower_limit, upper_limit):\n",
    "        result, error = quad(self.normal_func, lower_limit, upper_limit)\n",
    "        \n",
    "        return result\n",
    "\n",
    "    def locate(self, area):\n",
    "        fx = 0\n",
    "        x = -6\n",
    "        while fx < area:\n",
    "            fx = self.integrate(-6, x)\n",
    "            x = x + 0.00001\n",
    "            \n",
    "        return x"
   ]
  },
  {
   "cell_type": "code",
   "execution_count": 2,
   "id": "fe61eb25-1bd6-43df-844f-16da1d69d860",
   "metadata": {},
   "outputs": [
    {
     "name": "stdout",
     "output_type": "stream",
     "text": [
      "a) 0.344578258389676\n"
     ]
    }
   ],
   "source": [
    "mean = 116 + 106\n",
    "var = (16**2) + (12**2)\n",
    "std = math.sqrt(var)\n",
    "dist = normal(mean, std)\n",
    "a = dist.integrate(230, 20000)\n",
    "print(\"a) \" + str(a))"
   ]
  },
  {
   "cell_type": "code",
   "execution_count": 3,
   "id": "01f62230-bec4-4fe9-95ca-875d144a8c41",
   "metadata": {},
   "outputs": [
    {
     "name": "stdout",
     "output_type": "stream",
     "text": [
      "b) 0.6914624612740132\n"
     ]
    }
   ],
   "source": [
    "mass = 106 * 2\n",
    "b = dist.integrate(mass, 10000)\n",
    "print(\"b) \" + str(b))"
   ]
  },
  {
   "cell_type": "code",
   "execution_count": 4,
   "id": "b34eff54-bf79-455e-b293-88d236e0be89",
   "metadata": {},
   "outputs": [
    {
     "name": "stdout",
     "output_type": "stream",
     "text": [
      "c) 0.003038730752043337\n"
     ]
    }
   ],
   "source": [
    "mean = (9 * 116) - (16 * 106)\n",
    "var = ((9**2) * (16**2)) + ((16**2) * (12**2))\n",
    "std = math.sqrt(var)\n",
    "dist = normal(mean, std)\n",
    "mass = ((9/16) * 116) + 116\n",
    "c = dist.integrate(0, mass)\n",
    "print(\"c) \" + str(c))"
   ]
  },
  {
   "cell_type": "code",
   "execution_count": 5,
   "id": "8e558a72-83ad-450d-9012-b7cf586b93d7",
   "metadata": {},
   "outputs": [
    {
     "name": "stdout",
     "output_type": "stream",
     "text": [
      "d) 0.30445851455067213\n"
     ]
    }
   ],
   "source": [
    "dist = normal(116, 16)\n",
    "M = dist.integrate(118, 10000)\n",
    "dist = normal(106, 12)\n",
    "F = dist.integrate(118, 10000)\n",
    "prob = (M + F) * 0.5\n",
    "print(\"d) \" + str(prob))"
   ]
  }
 ],
 "metadata": {
  "kernelspec": {
   "display_name": "Python 3 (ipykernel)",
   "language": "python",
   "name": "python3"
  },
  "language_info": {
   "codemirror_mode": {
    "name": "ipython",
    "version": 3
   },
   "file_extension": ".py",
   "mimetype": "text/x-python",
   "name": "python",
   "nbconvert_exporter": "python",
   "pygments_lexer": "ipython3",
   "version": "3.12.1"
  }
 },
 "nbformat": 4,
 "nbformat_minor": 5
}

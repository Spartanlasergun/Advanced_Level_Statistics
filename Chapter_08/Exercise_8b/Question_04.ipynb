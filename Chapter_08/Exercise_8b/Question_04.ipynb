{
 "cells": [
  {
   "cell_type": "markdown",
   "id": "0bf3192f-15f7-420f-9fa0-c3a0e0fd6462",
   "metadata": {},
   "source": [
    "# Question 4\n",
    "-----"
   ]
  },
  {
   "cell_type": "markdown",
   "id": "0e578b8c-d8a4-4d5f-9803-9d3ff5fb1e72",
   "metadata": {},
   "source": [
    "$$2(\\mu) - 3(8) = -12$$\n",
    "\n",
    "$$2\\mu = 12$$\n",
    "\n",
    "$$\\mu = 6$$\n",
    "\n",
    "$$(6 * 4) + (\\sigma^2 * 9) = 42$$\n",
    "\n",
    "$$9\\sigma^2 = 18$$\n",
    "\n",
    "$$\\sigma^2 = 2$$\n",
    "\n",
    "$$\\sigma = 1.414$$"
   ]
  },
  {
   "cell_type": "code",
   "execution_count": 1,
   "id": "857903a2-8ca7-4817-90ad-31510832899e",
   "metadata": {},
   "outputs": [],
   "source": [
    "from scipy.integrate import quad\n",
    "import math\n",
    "\n",
    "class normal:\n",
    "    def __init__(self, u, sigma):\n",
    "        self.u = u\n",
    "        self.sigma = sigma\n",
    "        self.root2pi = math.sqrt((2 * math.pi)) \n",
    "    \n",
    "    def normal_func(self, x):\n",
    "        return (1 / (self.sigma * self.root2pi)) * math.exp((-1 * pow((x - self.u), 2)) / (2 * pow(self.sigma, 2)))\n",
    "\n",
    "    def integrate(self, lower_limit, upper_limit):\n",
    "        result, error = quad(self.normal_func, lower_limit, upper_limit)\n",
    "        \n",
    "        return result\n",
    "\n",
    "    def locate(self, area):\n",
    "        fx = 0\n",
    "        x = -6\n",
    "        while fx < area:\n",
    "            fx = self.integrate(-6, x)\n",
    "            x = x + 0.00001\n",
    "            \n",
    "        return x\n"
   ]
  },
  {
   "cell_type": "code",
   "execution_count": 2,
   "id": "bbcd6681-1287-464c-b191-9a6b0d1ce229",
   "metadata": {},
   "outputs": [
    {
     "name": "stdout",
     "output_type": "stream",
     "text": [
      "a) 0.20710808912126258\n"
     ]
    }
   ],
   "source": [
    "std = math.sqrt(6)\n",
    "dist = normal(6, std)\n",
    "a = dist.integrate(8, 1000)\n",
    "print(\"a) \" + str(a))"
   ]
  },
  {
   "cell_type": "code",
   "execution_count": 3,
   "id": "ee7d750d-dde8-44c1-b8b5-8572233dd11e",
   "metadata": {},
   "outputs": [
    {
     "name": "stdout",
     "output_type": "stream",
     "text": [
      "b) 0.7602499389065234\n"
     ]
    }
   ],
   "source": [
    "std = math.sqrt(2)\n",
    "dist = normal(8, std)\n",
    "b = dist.integrate(-1000, 9)\n",
    "print(\"b) \" + str(b))"
   ]
  },
  {
   "cell_type": "code",
   "execution_count": 4,
   "id": "dec0dc33-31f1-426b-a644-cd751a3cecb6",
   "metadata": {},
   "outputs": [
    {
     "name": "stdout",
     "output_type": "stream",
     "text": [
      "c) 0.5142562248893298\n"
     ]
    }
   ],
   "source": [
    "mean = (3 * 6) - (2 * 8)\n",
    "var = (6 * 9) + (2 * 4)\n",
    "std = math.sqrt(var)\n",
    "dist = normal(mean, std)\n",
    "c = dist.integrate(-4, 7)\n",
    "print(\"c) \" + str(c))"
   ]
  }
 ],
 "metadata": {
  "kernelspec": {
   "display_name": "Python 3 (ipykernel)",
   "language": "python",
   "name": "python3"
  },
  "language_info": {
   "codemirror_mode": {
    "name": "ipython",
    "version": 3
   },
   "file_extension": ".py",
   "mimetype": "text/x-python",
   "name": "python",
   "nbconvert_exporter": "python",
   "pygments_lexer": "ipython3",
   "version": "3.12.1"
  }
 },
 "nbformat": 4,
 "nbformat_minor": 5
}

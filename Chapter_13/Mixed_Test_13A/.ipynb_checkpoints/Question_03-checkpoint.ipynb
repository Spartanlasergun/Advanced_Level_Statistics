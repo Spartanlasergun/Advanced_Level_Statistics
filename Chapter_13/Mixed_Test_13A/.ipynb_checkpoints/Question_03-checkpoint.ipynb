{
 "cells": [
  {
   "cell_type": "markdown",
   "id": "b3ffa654-50ab-4c25-8f48-485b3898b4fb",
   "metadata": {},
   "source": [
    "# Question 3\n",
    "-----"
   ]
  },
  {
   "cell_type": "code",
   "execution_count": 1,
   "id": "0a218cd5-b623-47aa-9705-63163369c776",
   "metadata": {},
   "outputs": [
    {
     "data": {
      "image/png": "[encoded data removed]",
      "text/plain": [
       "<Figure size 640x480 with 1 Axes>"
      ]
     },
     "metadata": {},
     "output_type": "display_data"
    }
   ],
   "source": [
    "import matplotlib.pyplot as plt\n",
    "\n",
    "x = [2.5, 28, 30, 72, 98, 121, 128, 176, 239, 313, 407, 435, 538]\n",
    "y = [0.5, 5, 2, 4, 42, 21, 16, 3, 14, 37, 6, 17, 22]\n",
    "\n",
    "plt.scatter(x, y)\n",
    "plt.show()"
   ]
  },
  {
   "cell_type": "markdown",
   "id": "3a4f0755-4387-467d-84b8-dbd319729ef7",
   "metadata": {},
   "source": [
    "Their is a high degree of positive scatter which means thats a lower significance level might be appropriate"
   ]
  },
  {
   "cell_type": "code",
   "execution_count": 2,
   "id": "6c3a42f5-c7e0-4b37-ab6e-28b65b26e441",
   "metadata": {},
   "outputs": [
    {
     "name": "stdout",
     "output_type": "stream",
     "text": [
      "0.3097199236058086\n"
     ]
    }
   ],
   "source": [
    "from scipy.stats import pearsonr\n",
    "\n",
    "pearsons, p_value = pearsonr(x, y)\n",
    "print(pearsons)"
   ]
  },
  {
   "cell_type": "code",
   "execution_count": 3,
   "id": "4e728d3f-7be8-4b77-a830-ed60821211b1",
   "metadata": {},
   "outputs": [],
   "source": [
    "from scipy.integrate import quad\n",
    "import math\n",
    "import numpy as np\n",
    "from scipy.special import gamma\n",
    "\n",
    "class T_dist:\n",
    "    def __init__(self, nu):\n",
    "        self.nu = nu\n",
    "        numerator = gamma((nu + 1) / 2)\n",
    "        denominator = np.sqrt(np.pi * nu) * gamma(nu / 2)\n",
    "        self.coefficient = numerator / denominator\n",
    "\n",
    "    def t_distribution_pdf(self, x):\n",
    "        return self.coefficient * ((1 + (x**2 / self.nu))**(-(self.nu + 1) / 2))\n",
    "\n",
    "    def integrate(self, lower_limit, upper_limit):\n",
    "        result, error = quad(self.t_distribution_pdf, lower_limit, upper_limit)\n",
    "        \n",
    "        return result\n",
    "\n",
    "    def locate(self, area):\n",
    "        fx = 0\n",
    "        x = -6\n",
    "        while fx < area:\n",
    "            fx = self.integrate(-6, x)\n",
    "            x = x + 0.00001\n",
    "            \n",
    "        return x"
   ]
  },
  {
   "cell_type": "code",
   "execution_count": 4,
   "id": "62d16e4e-acaa-4649-a380-869c5f2f90e8",
   "metadata": {},
   "outputs": [
    {
     "name": "stdout",
     "output_type": "stream",
     "text": [
      "0.8484475907165734\n",
      "do not reject the null\n"
     ]
    }
   ],
   "source": [
    "n = 13\n",
    "r = pearsons\n",
    "nu = n - 2\n",
    "t = (r * (math.sqrt(nu))) / math.sqrt((1 - (r**2)))\n",
    "t_dist = T_dist(nu)\n",
    "prob = t_dist.integrate(-100, t)\n",
    "print(prob)\n",
    "if prob < 0.95:\n",
    "    print(\"do not reject the null\")\n",
    "else:\n",
    "    print(\"reject the null\")"
   ]
  }
 ],
 "metadata": {
  "kernelspec": {
   "display_name": "Python 3 (ipykernel)",
   "language": "python",
   "name": "python3"
  },
  "language_info": {
   "codemirror_mode": {
    "name": "ipython",
    "version": 3
   },
   "file_extension": ".py",
   "mimetype": "text/x-python",
   "name": "python",
   "nbconvert_exporter": "python",
   "pygments_lexer": "ipython3",
   "version": "3.12.1"
  }
 },
 "nbformat": 4,
 "nbformat_minor": 5
}

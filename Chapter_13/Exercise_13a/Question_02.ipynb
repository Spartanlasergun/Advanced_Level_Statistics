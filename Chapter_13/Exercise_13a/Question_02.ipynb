{
 "cells": [
  {
   "cell_type": "markdown",
   "id": "e50dd9fc-04a7-4da7-8901-dd32fe781c90",
   "metadata": {},
   "source": [
    "# Question 2\n",
    "-----"
   ]
  },
  {
   "cell_type": "code",
   "execution_count": 1,
   "id": "374a563c-45e4-40a3-a388-16482e2adfb8",
   "metadata": {},
   "outputs": [
    {
     "name": "stdout",
     "output_type": "stream",
     "text": [
      "a) 0.3754947058549725\n"
     ]
    }
   ],
   "source": [
    "import math\n",
    "S_xt = (1433.8 / 20) - (4.535 * 15.15)\n",
    "var_x = (493.77 / 20) - (4.535**2)\n",
    "s_x = math.sqrt(var_x)\n",
    "var_t = (4897 / 20) - (15.15**2)\n",
    "s_t = math.sqrt(var_t)\n",
    "pearsons = S_xt / (s_x * s_t)\n",
    "print(\"a) \" + str(pearsons))"
   ]
  },
  {
   "cell_type": "code",
   "execution_count": 2,
   "id": "e08bc01b-86d1-473d-9c25-0d705160b4ed",
   "metadata": {},
   "outputs": [],
   "source": [
    "from scipy.integrate import quad\n",
    "import math\n",
    "import numpy as np\n",
    "from scipy.special import gamma\n",
    "\n",
    "class T_dist:\n",
    "    def __init__(self, nu):\n",
    "        self.nu = nu\n",
    "        numerator = gamma((nu + 1) / 2)\n",
    "        denominator = np.sqrt(np.pi * nu) * gamma(nu / 2)\n",
    "        self.coefficient = numerator / denominator\n",
    "\n",
    "    def t_distribution_pdf(self, x):\n",
    "        return self.coefficient * ((1 + (x**2 / self.nu))**(-(self.nu + 1) / 2))\n",
    "\n",
    "    def integrate(self, lower_limit, upper_limit):\n",
    "        result, error = quad(self.t_distribution_pdf, lower_limit, upper_limit)\n",
    "        \n",
    "        return result\n",
    "\n",
    "    def locate(self, area):\n",
    "        fx = 0\n",
    "        x = -6\n",
    "        while fx < area:\n",
    "            fx = self.integrate(-6, x)\n",
    "            x = x + 0.00001\n",
    "            \n",
    "        return x"
   ]
  },
  {
   "cell_type": "markdown",
   "id": "f48b6d22-c2ea-4e9d-b516-fa02509e38be",
   "metadata": {},
   "source": [
    "$$H_0: p = 0$$\n",
    "\n",
    "$$H_1: p > 0$$"
   ]
  },
  {
   "cell_type": "code",
   "execution_count": 3,
   "id": "9111869e-cfa7-4a9a-ad2f-919473e1d302",
   "metadata": {},
   "outputs": [
    {
     "name": "stdout",
     "output_type": "stream",
     "text": [
      "b)\n",
      "do not reject the null\n"
     ]
    }
   ],
   "source": [
    "r = 0.3755\n",
    "n = 20\n",
    "nu = n - 2\n",
    "t = (r * (math.sqrt(nu))) / math.sqrt((1 - (r**2)))\n",
    "t_dist = T_dist(nu)\n",
    "loc = -1 * t_dist.locate(0.05)\n",
    "print(\"b)\")\n",
    "if t < loc:\n",
    "    print(\"do not reject the null\")\n",
    "else:\n",
    "    print(\"reject the null\")"
   ]
  },
  {
   "cell_type": "markdown",
   "id": "83527728-24d2-4db4-a09b-15d2ce41acb3",
   "metadata": {},
   "source": [
    "c) data must be normally distributed"
   ]
  }
 ],
 "metadata": {
  "kernelspec": {
   "display_name": "Python 3 (ipykernel)",
   "language": "python",
   "name": "python3"
  },
  "language_info": {
   "codemirror_mode": {
    "name": "ipython",
    "version": 3
   },
   "file_extension": ".py",
   "mimetype": "text/x-python",
   "name": "python",
   "nbconvert_exporter": "python",
   "pygments_lexer": "ipython3",
   "version": "3.12.1"
  }
 },
 "nbformat": 4,
 "nbformat_minor": 5
}

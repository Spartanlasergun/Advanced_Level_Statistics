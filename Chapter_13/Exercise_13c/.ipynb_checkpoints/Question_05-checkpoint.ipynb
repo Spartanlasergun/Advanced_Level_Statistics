{
 "cells": [
  {
   "cell_type": "markdown",
   "id": "b35e9d35-ff6e-405e-886f-069beb9f5dde",
   "metadata": {},
   "source": [
    "# Question 5\n",
    "-----"
   ]
  },
  {
   "cell_type": "code",
   "execution_count": 1,
   "id": "88d56139-0de1-4391-b917-e77c2c8b1ab3",
   "metadata": {},
   "outputs": [
    {
     "name": "stdout",
     "output_type": "stream",
     "text": [
      "0.5272727272727272\n"
     ]
    }
   ],
   "source": [
    "from scipy.stats import spearmanr\n",
    "\n",
    "x = [1, 2, 3, 4, 5, 6, 7, 8, 9, 10]\n",
    "y = [1, 2, 5, 6, 7, 8, 10, 4, 3, 9]\n",
    "\n",
    "rho, p_value = spearmanr(x, y)\n",
    "print(rho)"
   ]
  },
  {
   "cell_type": "code",
   "execution_count": 2,
   "id": "11aeefb5-1ab8-4a64-b506-e3bf00d8b9bb",
   "metadata": {},
   "outputs": [],
   "source": [
    "from scipy.integrate import quad\n",
    "import math\n",
    "import numpy as np\n",
    "from scipy.special import gamma\n",
    "\n",
    "class T_dist:\n",
    "    def __init__(self, nu):\n",
    "        self.nu = nu\n",
    "        numerator = gamma((nu + 1) / 2)\n",
    "        denominator = np.sqrt(np.pi * nu) * gamma(nu / 2)\n",
    "        self.coefficient = numerator / denominator\n",
    "\n",
    "    def t_distribution_pdf(self, x):\n",
    "        return self.coefficient * ((1 + (x**2 / self.nu))**(-(self.nu + 1) / 2))\n",
    "\n",
    "    def integrate(self, lower_limit, upper_limit):\n",
    "        result, error = quad(self.t_distribution_pdf, lower_limit, upper_limit)\n",
    "        \n",
    "        return result\n",
    "\n",
    "    def locate(self, area):\n",
    "        fx = 0\n",
    "        x = -6\n",
    "        while fx < area:\n",
    "            fx = self.integrate(-6, x)\n",
    "            x = x + 0.00001\n",
    "            \n",
    "        return x"
   ]
  },
  {
   "cell_type": "code",
   "execution_count": 3,
   "id": "f7f6835a-e819-44d1-a6fd-48d6b247f1f9",
   "metadata": {},
   "outputs": [
    {
     "name": "stdout",
     "output_type": "stream",
     "text": [
      "0.9413459672248433\n",
      "do not reject the null\n"
     ]
    }
   ],
   "source": [
    "n = 10\n",
    "r = rho\n",
    "nu = n - 2\n",
    "t = (r * (math.sqrt(nu))) / math.sqrt((1 - (r**2)))\n",
    "t_dist = T_dist(nu)\n",
    "prob = t_dist.integrate(-100, t)\n",
    "print(prob)\n",
    "if prob < 0.95:\n",
    "    print(\"do not reject the null\")\n",
    "else:\n",
    "    print(\"reject the null\")"
   ]
  },
  {
   "cell_type": "markdown",
   "id": "012c52ae-5cf4-4261-9de9-0f3d42663eea",
   "metadata": {},
   "source": [
    "There is no correlation between the ranks at the 5% significance level"
   ]
  }
 ],
 "metadata": {
  "kernelspec": {
   "display_name": "Python 3 (ipykernel)",
   "language": "python",
   "name": "python3"
  },
  "language_info": {
   "codemirror_mode": {
    "name": "ipython",
    "version": 3
   },
   "file_extension": ".py",
   "mimetype": "text/x-python",
   "name": "python",
   "nbconvert_exporter": "python",
   "pygments_lexer": "ipython3",
   "version": "3.12.1"
  }
 },
 "nbformat": 4,
 "nbformat_minor": 5
}

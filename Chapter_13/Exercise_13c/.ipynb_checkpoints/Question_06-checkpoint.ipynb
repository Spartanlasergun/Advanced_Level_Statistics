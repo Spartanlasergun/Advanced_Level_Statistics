{
 "cells": [
  {
   "cell_type": "markdown",
   "id": "25981a95-e410-4cb3-b8d1-d60f6dfd2d36",
   "metadata": {},
   "source": [
    "# Question 6\n",
    "-----"
   ]
  },
  {
   "cell_type": "code",
   "execution_count": 1,
   "id": "a64aef80-a769-4e94-9e31-64e1d3dcd7d5",
   "metadata": {},
   "outputs": [
    {
     "data": {
      "image/png": "[encoded data removed]",
      "text/plain": [
       "<Figure size 640x480 with 1 Axes>"
      ]
     },
     "metadata": {},
     "output_type": "display_data"
    }
   ],
   "source": [
    "import matplotlib.pyplot as plt\n",
    "\n",
    "x = [54, 52, 42, 31, 43, 23, 32, 49, 37, 13, 13, 36, 39]\n",
    "y = [84, 68, 71, 37, 79, 58, 33, 60, 47, 60, 44, 64, 49]\n",
    "\n",
    "plt.scatter(x, y)\n",
    "plt.show()"
   ]
  },
  {
   "cell_type": "code",
   "execution_count": 2,
   "id": "6c1693c3-2d61-46ef-8965-b908271c8e64",
   "metadata": {},
   "outputs": [
    {
     "name": "stdout",
     "output_type": "stream",
     "text": [
      "0.5348867186362445\n"
     ]
    }
   ],
   "source": [
    "from scipy.stats import pearsonr\n",
    "\n",
    "pearsons, p_value = pearsonr(x, y)\n",
    "print(pearsons)"
   ]
  },
  {
   "cell_type": "markdown",
   "id": "e4bf5e8a-b0c7-4a8b-9e9c-87ad818faefe",
   "metadata": {},
   "source": [
    "The value indicates that there is no real correlation between the datapoints"
   ]
  },
  {
   "cell_type": "markdown",
   "id": "1c377e06-859d-4ea7-a8e2-e273128042e3",
   "metadata": {},
   "source": [
    "d) F, J, and K are outliers"
   ]
  },
  {
   "cell_type": "code",
   "execution_count": 3,
   "id": "105767bb-5804-4ffa-9d3f-288263a6c458",
   "metadata": {},
   "outputs": [
    {
     "name": "stdout",
     "output_type": "stream",
     "text": [
      "e) 0.7939393939393938\n"
     ]
    }
   ],
   "source": [
    "from scipy.stats import spearmanr\n",
    "\n",
    "x = [54, 52, 42, 31, 43, 32, 49, 37, 36, 39]\n",
    "y = [84, 68, 71, 37, 79, 33, 60, 47, 64, 49]\n",
    "\n",
    "rho, p_value = spearmanr(x, y)\n",
    "print(\"e) \" + str(rho))"
   ]
  },
  {
   "cell_type": "code",
   "execution_count": 4,
   "id": "b64d1c33-28f8-478e-9011-be65d895208d",
   "metadata": {},
   "outputs": [],
   "source": [
    "from scipy.integrate import quad\n",
    "import math\n",
    "import numpy as np\n",
    "from scipy.special import gamma\n",
    "\n",
    "class T_dist:\n",
    "    def __init__(self, nu):\n",
    "        self.nu = nu\n",
    "        numerator = gamma((nu + 1) / 2)\n",
    "        denominator = np.sqrt(np.pi * nu) * gamma(nu / 2)\n",
    "        self.coefficient = numerator / denominator\n",
    "\n",
    "    def t_distribution_pdf(self, x):\n",
    "        return self.coefficient * ((1 + (x**2 / self.nu))**(-(self.nu + 1) / 2))\n",
    "\n",
    "    def integrate(self, lower_limit, upper_limit):\n",
    "        result, error = quad(self.t_distribution_pdf, lower_limit, upper_limit)\n",
    "        \n",
    "        return result\n",
    "\n",
    "    def locate(self, area):\n",
    "        fx = 0\n",
    "        x = -6\n",
    "        while fx < area:\n",
    "            fx = self.integrate(-6, x)\n",
    "            x = x + 0.00001\n",
    "            \n",
    "        return x"
   ]
  },
  {
   "cell_type": "markdown",
   "id": "428f0569-cc5f-4509-98c9-580f027a4d7e",
   "metadata": {},
   "source": [
    "$$H_0: p = 0$$\n",
    "\n",
    "$$H_1: p < 0$$"
   ]
  },
  {
   "cell_type": "code",
   "execution_count": 5,
   "id": "e8b1293c-c7fc-45d7-8e00-0ed7caaaa21c",
   "metadata": {},
   "outputs": [
    {
     "name": "stdout",
     "output_type": "stream",
     "text": [
      "0.9969500383430959\n",
      "reject the null\n"
     ]
    }
   ],
   "source": [
    "n = 10\n",
    "r = rho\n",
    "nu = n - 2\n",
    "t = (r * (math.sqrt(nu))) / math.sqrt((1 - (r**2)))\n",
    "t_dist = T_dist(nu)\n",
    "prob = t_dist.integrate(-100, t)\n",
    "print(prob)\n",
    "if prob < 0.95:\n",
    "    print(\"do not reject the null\")\n",
    "else:\n",
    "    print(\"reject the null\")"
   ]
  }
 ],
 "metadata": {
  "kernelspec": {
   "display_name": "Python 3 (ipykernel)",
   "language": "python",
   "name": "python3"
  },
  "language_info": {
   "codemirror_mode": {
    "name": "ipython",
    "version": 3
   },
   "file_extension": ".py",
   "mimetype": "text/x-python",
   "name": "python",
   "nbconvert_exporter": "python",
   "pygments_lexer": "ipython3",
   "version": "3.12.1"
  }
 },
 "nbformat": 4,
 "nbformat_minor": 5
}

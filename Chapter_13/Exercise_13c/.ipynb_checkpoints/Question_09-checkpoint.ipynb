{
 "cells": [
  {
   "cell_type": "markdown",
   "id": "16e9fae0-2886-4217-807a-dd4eeaac91de",
   "metadata": {},
   "source": [
    "# Question 9\n",
    "-----"
   ]
  },
  {
   "cell_type": "code",
   "execution_count": 1,
   "id": "9128619d-cf77-41f0-af7e-4b31b8cb23c6",
   "metadata": {},
   "outputs": [
    {
     "data": {
      "image/png": "[encoded data removed]",
      "text/plain": [
       "<Figure size 640x480 with 1 Axes>"
      ]
     },
     "metadata": {},
     "output_type": "display_data"
    }
   ],
   "source": [
    "import matplotlib.pyplot as plt\n",
    "\n",
    "x = [223, 218, 223, 223, 242, 278, 299, 256, 255, 292]\n",
    "y = [219, 205, 209, 239, 252, 256, 254, 257, 259, 323]\n",
    "\n",
    "plt.scatter(x, y)\n",
    "plt.show()"
   ]
  },
  {
   "cell_type": "code",
   "execution_count": 2,
   "id": "2f47baeb-322d-440a-a397-161b1275b5aa",
   "metadata": {},
   "outputs": [
    {
     "name": "stdout",
     "output_type": "stream",
     "text": [
      "0.7831384449165977\n"
     ]
    }
   ],
   "source": [
    "from scipy.stats import pearsonr\n",
    "\n",
    "pearsons, p_value = pearsonr(x, y)\n",
    "print(pearsons)"
   ]
  },
  {
   "cell_type": "code",
   "execution_count": 3,
   "id": "59db10a4-e5eb-4147-ac5e-470e0ca288a1",
   "metadata": {},
   "outputs": [],
   "source": [
    "from scipy.integrate import quad\n",
    "import math\n",
    "import numpy as np\n",
    "from scipy.special import gamma\n",
    "\n",
    "class T_dist:\n",
    "    def __init__(self, nu):\n",
    "        self.nu = nu\n",
    "        numerator = gamma((nu + 1) / 2)\n",
    "        denominator = np.sqrt(np.pi * nu) * gamma(nu / 2)\n",
    "        self.coefficient = numerator / denominator\n",
    "\n",
    "    def t_distribution_pdf(self, x):\n",
    "        return self.coefficient * ((1 + (x**2 / self.nu))**(-(self.nu + 1) / 2))\n",
    "\n",
    "    def integrate(self, lower_limit, upper_limit):\n",
    "        result, error = quad(self.t_distribution_pdf, lower_limit, upper_limit)\n",
    "        \n",
    "        return result\n",
    "\n",
    "    def locate(self, area):\n",
    "        fx = 0\n",
    "        x = -6\n",
    "        while fx < area:\n",
    "            fx = self.integrate(-6, x)\n",
    "            x = x + 0.00001\n",
    "            \n",
    "        return x"
   ]
  },
  {
   "cell_type": "markdown",
   "id": "9dc9f913-7e10-4dab-8b8b-f43f38a3e266",
   "metadata": {},
   "source": [
    "$$H_0: p = 0$$\n",
    "\n",
    "$$H_1: p > 0$$"
   ]
  },
  {
   "cell_type": "code",
   "execution_count": 4,
   "id": "588ef0c0-d753-4baf-b15f-a522e364ddb3",
   "metadata": {},
   "outputs": [
    {
     "name": "stdout",
     "output_type": "stream",
     "text": [
      "0.9963106669367734\n",
      "reject the null\n"
     ]
    }
   ],
   "source": [
    "n = 10\n",
    "r = pearsons\n",
    "nu = n - 2\n",
    "t = (r * (math.sqrt(nu))) / math.sqrt((1 - (r**2)))\n",
    "t_dist = T_dist(nu)\n",
    "prob = t_dist.integrate(-100, t)\n",
    "print(prob)\n",
    "if prob < 0.01:\n",
    "    print(\"do not reject the null\")\n",
    "else:\n",
    "    print(\"reject the null\")"
   ]
  },
  {
   "cell_type": "markdown",
   "id": "8fb98597-cda7-41f8-a0f7-d2327c9df94d",
   "metadata": {},
   "source": [
    "d) Data must be normally distributed"
   ]
  },
  {
   "cell_type": "markdown",
   "id": "ac1e9be3-9b57-42d4-81fe-12c83905a93e",
   "metadata": {},
   "source": [
    "e) There would be less correlation due to the inclusion of an outlier"
   ]
  }
 ],
 "metadata": {
  "kernelspec": {
   "display_name": "Python 3 (ipykernel)",
   "language": "python",
   "name": "python3"
  },
  "language_info": {
   "codemirror_mode": {
    "name": "ipython",
    "version": 3
   },
   "file_extension": ".py",
   "mimetype": "text/x-python",
   "name": "python",
   "nbconvert_exporter": "python",
   "pygments_lexer": "ipython3",
   "version": "3.12.1"
  }
 },
 "nbformat": 4,
 "nbformat_minor": 5
}

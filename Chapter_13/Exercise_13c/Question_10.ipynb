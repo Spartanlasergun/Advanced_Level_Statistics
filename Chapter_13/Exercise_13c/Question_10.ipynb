{
 "cells": [
  {
   "cell_type": "markdown",
   "id": "fe264aaf-115b-4172-9739-7b9798d84687",
   "metadata": {},
   "source": [
    "# Question 10\n",
    "-----"
   ]
  },
  {
   "cell_type": "code",
   "execution_count": 1,
   "id": "1b457601-4bbd-480e-96cb-01bda5f52078",
   "metadata": {},
   "outputs": [
    {
     "name": "stdout",
     "output_type": "stream",
     "text": [
      "perason's = 0.8249421446209032\n",
      "spearman's = 0.9285714285714288\n"
     ]
    }
   ],
   "source": [
    "from scipy.stats import spearmanr, pearsonr\n",
    "\n",
    "x = [0.6, 0.42, 0.51, 0.56, 0.31, 1.04, 0.8]\n",
    "y = [1.06, 0.72, 0.94, 1.04, 0.84, 1.16, 1.24]\n",
    "\n",
    "pearsons, p_value = pearsonr(x, y)\n",
    "print(\"perason's = \" + str(pearsons))\n",
    "\n",
    "rho, p_value = spearmanr(x, y)\n",
    "print(\"spearman's = \" + str(rho))"
   ]
  },
  {
   "cell_type": "code",
   "execution_count": 2,
   "id": "beb71a30-e4d2-49ca-9123-a75dff911680",
   "metadata": {},
   "outputs": [],
   "source": [
    "from scipy.integrate import quad\n",
    "import math\n",
    "import numpy as np\n",
    "from scipy.special import gamma\n",
    "\n",
    "class T_dist:\n",
    "    def __init__(self, nu):\n",
    "        self.nu = nu\n",
    "        numerator = gamma((nu + 1) / 2)\n",
    "        denominator = np.sqrt(np.pi * nu) * gamma(nu / 2)\n",
    "        self.coefficient = numerator / denominator\n",
    "\n",
    "    def t_distribution_pdf(self, x):\n",
    "        return self.coefficient * ((1 + (x**2 / self.nu))**(-(self.nu + 1) / 2))\n",
    "\n",
    "    def integrate(self, lower_limit, upper_limit):\n",
    "        result, error = quad(self.t_distribution_pdf, lower_limit, upper_limit)\n",
    "        \n",
    "        return result\n",
    "\n",
    "    def locate(self, area):\n",
    "        fx = 0\n",
    "        x = -6\n",
    "        while fx < area:\n",
    "            fx = self.integrate(-6, x)\n",
    "            x = x + 0.00001\n",
    "            \n",
    "        return x"
   ]
  },
  {
   "cell_type": "markdown",
   "id": "221b0188-f6c9-4e80-ba28-d28638922572",
   "metadata": {},
   "source": [
    "$$H_0: p = 0$$\n",
    "\n",
    "$$H_1: p > 0$$"
   ]
  },
  {
   "cell_type": "code",
   "execution_count": 3,
   "id": "a0ef7c91-6283-4e56-bffc-84555b79dfd2",
   "metadata": {},
   "outputs": [
    {
     "name": "stdout",
     "output_type": "stream",
     "text": [
      "0.9987402628501019\n",
      "reject the null\n"
     ]
    }
   ],
   "source": [
    "n = 7\n",
    "r = rho\n",
    "nu = n - 2\n",
    "t = (r * (math.sqrt(nu))) / math.sqrt((1 - (r**2)))\n",
    "t_dist = T_dist(nu)\n",
    "prob = t_dist.integrate(-100, t)\n",
    "print(prob)\n",
    "if prob < 0.95:\n",
    "    print(\"do not reject the null\")\n",
    "else:\n",
    "    print(\"reject the null\")"
   ]
  },
  {
   "cell_type": "markdown",
   "id": "3d5162ee-7a09-4fe6-9cc5-5cbb3d19e772",
   "metadata": {},
   "source": [
    "There is a significantly positve correlation between oxides"
   ]
  }
 ],
 "metadata": {
  "kernelspec": {
   "display_name": "Python 3 (ipykernel)",
   "language": "python",
   "name": "python3"
  },
  "language_info": {
   "codemirror_mode": {
    "name": "ipython",
    "version": 3
   },
   "file_extension": ".py",
   "mimetype": "text/x-python",
   "name": "python",
   "nbconvert_exporter": "python",
   "pygments_lexer": "ipython3",
   "version": "3.12.1"
  }
 },
 "nbformat": 4,
 "nbformat_minor": 5
}

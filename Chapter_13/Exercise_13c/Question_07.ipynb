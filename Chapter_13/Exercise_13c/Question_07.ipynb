{
 "cells": [
  {
   "cell_type": "markdown",
   "id": "a989114f-0901-4f3f-87aa-32e659ed7e58",
   "metadata": {},
   "source": [
    "# Question 7\n",
    "-----"
   ]
  },
  {
   "cell_type": "code",
   "execution_count": 1,
   "id": "fa43b680-8add-4d51-9bcd-26320ba0eb96",
   "metadata": {},
   "outputs": [
    {
     "name": "stdout",
     "output_type": "stream",
     "text": [
      "0.607652452814672\n"
     ]
    }
   ],
   "source": [
    "import numpy as np\n",
    "\n",
    "y = [8.3, 10.1, 15.2, 6.4, 11.8, 12.2, 13.4, 11.9, 9.9]\n",
    "x = [14.7, 10.4, 18.8, 13.1, 14.9, 13.8, 16.8, 11.8, 12.2]\n",
    "\n",
    "gradient = np.polyfit(x, y, 1)[0]\n",
    "print(gradient)"
   ]
  },
  {
   "cell_type": "code",
   "execution_count": 2,
   "id": "b56aaf81-934a-4dd5-87ef-5c0966d087fb",
   "metadata": {},
   "outputs": [
    {
     "name": "stdout",
     "output_type": "stream",
     "text": [
      "2.4813294132160006\n"
     ]
    }
   ],
   "source": [
    "x_bar = sum(x) / len(x)\n",
    "y_bar = sum(y) / len(y)\n",
    "c = (y_bar - (gradient * x_bar))\n",
    "print(c)"
   ]
  },
  {
   "cell_type": "markdown",
   "id": "5115f613-5c10-4079-815c-5fc9cfc845fb",
   "metadata": {},
   "source": [
    "$$y = 0.607x + 2.48$$"
   ]
  },
  {
   "cell_type": "code",
   "execution_count": 3,
   "id": "30e3afa1-323c-448f-9de7-68e18c26d63e",
   "metadata": {},
   "outputs": [
    {
     "name": "stdout",
     "output_type": "stream",
     "text": [
      "b) 0.5929494426686261\n"
     ]
    }
   ],
   "source": [
    "from scipy.stats import pearsonr\n",
    "\n",
    "pearsons, p_value = pearsonr(x, y)\n",
    "print(\"b) \" + str(pearsons))"
   ]
  },
  {
   "cell_type": "code",
   "execution_count": 4,
   "id": "b06db8b2-bc84-49d4-8759-184f47258722",
   "metadata": {},
   "outputs": [
    {
     "name": "stdout",
     "output_type": "stream",
     "text": [
      "c) 11.3422\n"
     ]
    }
   ],
   "source": [
    "c = (0.607 * 14.6) + 2.48\n",
    "print(\"c) \" + str(c))"
   ]
  },
  {
   "cell_type": "code",
   "execution_count": 5,
   "id": "a2c926d3-e9a6-4807-b8dc-c4cee8160f7b",
   "metadata": {},
   "outputs": [
    {
     "name": "stdout",
     "output_type": "stream",
     "text": [
      "0.5166666666666667\n"
     ]
    }
   ],
   "source": [
    "from scipy.stats import spearmanr\n",
    "\n",
    "rho, p_value = spearmanr(x, y)\n",
    "print(rho)"
   ]
  },
  {
   "cell_type": "code",
   "execution_count": 6,
   "id": "1406f996-82ba-49fd-bf9c-39fc93c5a365",
   "metadata": {},
   "outputs": [],
   "source": [
    "from scipy.integrate import quad\n",
    "import math\n",
    "import numpy as np\n",
    "from scipy.special import gamma\n",
    "\n",
    "class T_dist:\n",
    "    def __init__(self, nu):\n",
    "        self.nu = nu\n",
    "        numerator = gamma((nu + 1) / 2)\n",
    "        denominator = np.sqrt(np.pi * nu) * gamma(nu / 2)\n",
    "        self.coefficient = numerator / denominator\n",
    "\n",
    "    def t_distribution_pdf(self, x):\n",
    "        return self.coefficient * ((1 + (x**2 / self.nu))**(-(self.nu + 1) / 2))\n",
    "\n",
    "    def integrate(self, lower_limit, upper_limit):\n",
    "        result, error = quad(self.t_distribution_pdf, lower_limit, upper_limit)\n",
    "        \n",
    "        return result\n",
    "\n",
    "    def locate(self, area):\n",
    "        fx = 0\n",
    "        x = -6\n",
    "        while fx < area:\n",
    "            fx = self.integrate(-6, x)\n",
    "            x = x + 0.00001\n",
    "            \n",
    "        return x"
   ]
  },
  {
   "cell_type": "code",
   "execution_count": 7,
   "id": "25435ea6-de4c-49ec-a656-ca895e0a1bb6",
   "metadata": {},
   "outputs": [
    {
     "name": "stdout",
     "output_type": "stream",
     "text": [
      "0.9228049395055697\n",
      "do not reject the null\n"
     ]
    }
   ],
   "source": [
    "n = 9\n",
    "r = rho\n",
    "nu = n - 2\n",
    "t = (r * (math.sqrt(nu))) / math.sqrt((1 - (r**2)))\n",
    "t_dist = T_dist(nu)\n",
    "prob = t_dist.integrate(-100, t)\n",
    "print(prob)\n",
    "if prob < 0.95:\n",
    "    print(\"do not reject the null\")\n",
    "else:\n",
    "    print(\"reject the null\")"
   ]
  },
  {
   "cell_type": "markdown",
   "id": "9de7c58a-1161-4ce0-a514-556312b271ee",
   "metadata": {},
   "source": [
    "Pearson's is more appropriate"
   ]
  }
 ],
 "metadata": {
  "kernelspec": {
   "display_name": "Python 3 (ipykernel)",
   "language": "python",
   "name": "python3"
  },
  "language_info": {
   "codemirror_mode": {
    "name": "ipython",
    "version": 3
   },
   "file_extension": ".py",
   "mimetype": "text/x-python",
   "name": "python",
   "nbconvert_exporter": "python",
   "pygments_lexer": "ipython3",
   "version": "3.12.1"
  }
 },
 "nbformat": 4,
 "nbformat_minor": 5
}

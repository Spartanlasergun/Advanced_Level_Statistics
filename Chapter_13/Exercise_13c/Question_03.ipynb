{
 "cells": [
  {
   "cell_type": "markdown",
   "id": "8f6c3594-9bd5-4200-9f75-c8a50c8a9c18",
   "metadata": {},
   "source": [
    "# Question 3\n",
    "-----"
   ]
  },
  {
   "cell_type": "code",
   "execution_count": 1,
   "id": "b3f98135-11cb-4333-80a6-f00b7f9fa85d",
   "metadata": {},
   "outputs": [
    {
     "data": {
      "image/png": "[encoded data removed]",
      "text/plain": [
       "<Figure size 640x480 with 1 Axes>"
      ]
     },
     "metadata": {},
     "output_type": "display_data"
    }
   ],
   "source": [
    "import matplotlib.pyplot as plt\n",
    "\n",
    "x = [1400, 400, 280, 790, 390, 590, 540, 1250, 680]\n",
    "y = [6, 15, 18, 10, 16, 14, 13, 7, 13]\n",
    "\n",
    "plt.scatter(x, y)\n",
    "plt.show()"
   ]
  },
  {
   "cell_type": "code",
   "execution_count": 2,
   "id": "59082f63-d345-49cf-8683-7f4cde5d6c05",
   "metadata": {},
   "outputs": [
    {
     "name": "stdout",
     "output_type": "stream",
     "text": [
      "-0.9753895476827494\n"
     ]
    }
   ],
   "source": [
    "from scipy.stats import pearsonr\n",
    "\n",
    "pearsons, p_value = pearsonr(x, y)\n",
    "print(pearsons)"
   ]
  },
  {
   "cell_type": "markdown",
   "id": "a89008f4-2b58-4be4-91f8-04b0699b6c5a",
   "metadata": {},
   "source": [
    "c) coefficient indicates strong negative correlation"
   ]
  },
  {
   "cell_type": "code",
   "execution_count": 3,
   "id": "7cb25d31-f51c-474f-95d4-4c6f5a4aa9e7",
   "metadata": {},
   "outputs": [],
   "source": [
    "from scipy.integrate import quad\n",
    "import math\n",
    "import numpy as np\n",
    "from scipy.special import gamma\n",
    "\n",
    "class T_dist:\n",
    "    def __init__(self, nu):\n",
    "        self.nu = nu\n",
    "        numerator = gamma((nu + 1) / 2)\n",
    "        denominator = np.sqrt(np.pi * nu) * gamma(nu / 2)\n",
    "        self.coefficient = numerator / denominator\n",
    "\n",
    "    def t_distribution_pdf(self, x):\n",
    "        return self.coefficient * ((1 + (x**2 / self.nu))**(-(self.nu + 1) / 2))\n",
    "\n",
    "    def integrate(self, lower_limit, upper_limit):\n",
    "        result, error = quad(self.t_distribution_pdf, lower_limit, upper_limit)\n",
    "        \n",
    "        return result\n",
    "\n",
    "    def locate(self, area):\n",
    "        fx = 0\n",
    "        x = -6\n",
    "        while fx < area:\n",
    "            fx = self.integrate(-6, x)\n",
    "            x = x + 0.00001\n",
    "            \n",
    "        return x"
   ]
  },
  {
   "cell_type": "code",
   "execution_count": 4,
   "id": "b87dfe3d-57c9-4374-a139-d1f82d6c9960",
   "metadata": {},
   "outputs": [
    {
     "name": "stdout",
     "output_type": "stream",
     "text": [
      "3.758271055348577e-06\n",
      "reject the null\n"
     ]
    }
   ],
   "source": [
    "n = 9\n",
    "r = pearsons\n",
    "nu = n - 2\n",
    "t = (r * (math.sqrt(nu))) / math.sqrt((1 - (r**2)))\n",
    "t_dist = T_dist(nu)\n",
    "prob = t_dist.integrate(-100, t)\n",
    "print(prob)\n",
    "if prob > 0.01:\n",
    "    print(\"do not reject the null\")\n",
    "else:\n",
    "    print(\"reject the null\")"
   ]
  },
  {
   "cell_type": "markdown",
   "id": "9f672525-ab2a-4b8e-8248-4ef3f8dc407f",
   "metadata": {},
   "source": [
    "d) Correlation significant at the 1% level"
   ]
  }
 ],
 "metadata": {
  "kernelspec": {
   "display_name": "Python 3 (ipykernel)",
   "language": "python",
   "name": "python3"
  },
  "language_info": {
   "codemirror_mode": {
    "name": "ipython",
    "version": 3
   },
   "file_extension": ".py",
   "mimetype": "text/x-python",
   "name": "python",
   "nbconvert_exporter": "python",
   "pygments_lexer": "ipython3",
   "version": "3.12.1"
  }
 },
 "nbformat": 4,
 "nbformat_minor": 5
}

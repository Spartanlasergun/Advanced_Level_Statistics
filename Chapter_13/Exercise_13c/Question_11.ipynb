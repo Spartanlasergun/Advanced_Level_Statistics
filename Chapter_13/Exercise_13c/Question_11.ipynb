{
 "cells": [
  {
   "cell_type": "markdown",
   "id": "b2efe664-ee34-47ee-a113-558415702565",
   "metadata": {},
   "source": [
    "# Question 11\n",
    "-----"
   ]
  },
  {
   "cell_type": "code",
   "execution_count": 1,
   "id": "23dbe382-3746-4d89-8c29-2410d743e9c4",
   "metadata": {},
   "outputs": [
    {
     "name": "stdout",
     "output_type": "stream",
     "text": [
      "-0.34943359740988866\n"
     ]
    }
   ],
   "source": [
    "from scipy.stats import spearmanr\n",
    "\n",
    "x = [170.4, 183.2, 172.9, 187.1, 203.2, 204.8, 208.8, 248, 198.3, 187.1, 179.1]\n",
    "y = [8.4, 9.4, 10.3, 10.5, 8.3, 9.4, 8.5, 9.0, 9.4, 9.8, 9.6]\n",
    "\n",
    "rho, p_value = spearmanr(x, y)\n",
    "print(rho)"
   ]
  },
  {
   "cell_type": "code",
   "execution_count": 2,
   "id": "6fc28612-f6fc-4afe-bb0d-daefbdab19c6",
   "metadata": {},
   "outputs": [],
   "source": [
    "from scipy.integrate import quad\n",
    "import math\n",
    "import numpy as np\n",
    "from scipy.special import gamma\n",
    "\n",
    "class T_dist:\n",
    "    def __init__(self, nu):\n",
    "        self.nu = nu\n",
    "        numerator = gamma((nu + 1) / 2)\n",
    "        denominator = np.sqrt(np.pi * nu) * gamma(nu / 2)\n",
    "        self.coefficient = numerator / denominator\n",
    "\n",
    "    def t_distribution_pdf(self, x):\n",
    "        return self.coefficient * ((1 + (x**2 / self.nu))**(-(self.nu + 1) / 2))\n",
    "\n",
    "    def integrate(self, lower_limit, upper_limit):\n",
    "        result, error = quad(self.t_distribution_pdf, lower_limit, upper_limit)\n",
    "        \n",
    "        return result\n",
    "\n",
    "    def locate(self, area):\n",
    "        fx = 0\n",
    "        x = -6\n",
    "        while fx < area:\n",
    "            fx = self.integrate(-6, x)\n",
    "            x = x + 0.00001\n",
    "            \n",
    "        return x"
   ]
  },
  {
   "cell_type": "code",
   "execution_count": 3,
   "id": "d88b2152-7831-40b8-96b1-d3179213c944",
   "metadata": {},
   "outputs": [
    {
     "name": "stdout",
     "output_type": "stream",
     "text": [
      "0.14609190141101489\n",
      "do not reject the null\n"
     ]
    }
   ],
   "source": [
    "n = 11\n",
    "r = rho\n",
    "nu = n - 2\n",
    "t = (r * (math.sqrt(nu))) / math.sqrt((1 - (r**2)))\n",
    "t_dist = T_dist(nu)\n",
    "prob = t_dist.integrate(-100, t)\n",
    "print(prob)\n",
    "if prob > 0.05:\n",
    "    print(\"do not reject the null\")\n",
    "else:\n",
    "    print(\"reject the null\")"
   ]
  },
  {
   "cell_type": "code",
   "execution_count": 4,
   "id": "a978d4da-4ef6-42f2-8b07-31d8de4c9801",
   "metadata": {},
   "outputs": [
    {
     "name": "stdout",
     "output_type": "stream",
     "text": [
      "-0.7200306765166198\n"
     ]
    }
   ],
   "source": [
    "x = [183.2, 172.9, 187.1, 203.2, 204.8, 208.8, 248, 198.3, 187.1, 179.1]\n",
    "y = [9.4, 10.3, 10.5, 8.3, 9.4, 8.5, 9.0, 9.4, 9.8, 9.6]\n",
    "\n",
    "rho, p_value = spearmanr(x, y)\n",
    "print(rho)"
   ]
  },
  {
   "cell_type": "code",
   "execution_count": 5,
   "id": "ab501338-f40f-4912-a4a5-6c211a183e4a",
   "metadata": {},
   "outputs": [
    {
     "name": "stdout",
     "output_type": "stream",
     "text": [
      "0.009430115873182151\n",
      "reject the null\n"
     ]
    }
   ],
   "source": [
    "n = 10\n",
    "r = rho\n",
    "nu = n - 2\n",
    "t = (r * (math.sqrt(nu))) / math.sqrt((1 - (r**2)))\n",
    "t_dist = T_dist(nu)\n",
    "prob = t_dist.integrate(-100, t)\n",
    "print(prob)\n",
    "if prob > 0.05:\n",
    "    print(\"do not reject the null\")\n",
    "else:\n",
    "    print(\"reject the null\")"
   ]
  },
  {
   "cell_type": "markdown",
   "id": "5217444c-40bf-4a6a-b835-cdaaaa33f43d",
   "metadata": {},
   "source": [
    "If region A was omitted, the correlation would be significant at the 1% level"
   ]
  }
 ],
 "metadata": {
  "kernelspec": {
   "display_name": "Python 3 (ipykernel)",
   "language": "python",
   "name": "python3"
  },
  "language_info": {
   "codemirror_mode": {
    "name": "ipython",
    "version": 3
   },
   "file_extension": ".py",
   "mimetype": "text/x-python",
   "name": "python",
   "nbconvert_exporter": "python",
   "pygments_lexer": "ipython3",
   "version": "3.12.1"
  }
 },
 "nbformat": 4,
 "nbformat_minor": 5
}

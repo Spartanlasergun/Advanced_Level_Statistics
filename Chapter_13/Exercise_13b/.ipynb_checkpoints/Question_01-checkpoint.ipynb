{
 "cells": [
  {
   "cell_type": "markdown",
   "id": "0a3845f8-a531-4e26-9cf7-37d23f68b1cd",
   "metadata": {},
   "source": [
    "# Question 1\n",
    "-----"
   ]
  },
  {
   "cell_type": "code",
   "execution_count": 1,
   "id": "cd1adcbf-2b45-49fa-95db-0bd326a6e188",
   "metadata": {},
   "outputs": [],
   "source": [
    "from scipy.integrate import quad\n",
    "import math\n",
    "import numpy as np\n",
    "from scipy.special import gamma\n",
    "\n",
    "class T_dist:\n",
    "    def __init__(self, nu):\n",
    "        self.nu = nu\n",
    "        numerator = gamma((nu + 1) / 2)\n",
    "        denominator = np.sqrt(np.pi * nu) * gamma(nu / 2)\n",
    "        self.coefficient = numerator / denominator\n",
    "\n",
    "    def t_distribution_pdf(self, x):\n",
    "        return self.coefficient * ((1 + (x**2 / self.nu))**(-(self.nu + 1) / 2))\n",
    "\n",
    "    def integrate(self, lower_limit, upper_limit):\n",
    "        result, error = quad(self.t_distribution_pdf, lower_limit, upper_limit)\n",
    "        \n",
    "        return result\n",
    "\n",
    "    def locate(self, area):\n",
    "        fx = 0\n",
    "        x = -6\n",
    "        while fx < area:\n",
    "            fx = self.integrate(-6, x)\n",
    "            x = x + 0.00001\n",
    "            \n",
    "        return x"
   ]
  },
  {
   "cell_type": "code",
   "execution_count": 2,
   "id": "6200c66b-670c-479e-a40d-fbb2235a3004",
   "metadata": {},
   "outputs": [
    {
     "name": "stdout",
     "output_type": "stream",
     "text": [
      "a)\n",
      "0.007972008288169376\n",
      "reject the null\n"
     ]
    }
   ],
   "source": [
    "E_d2 = 212\n",
    "n = 9\n",
    "r = 1 - ((6 * E_d2) / (n * (n**2 - 1)))\n",
    "nu = n - 2\n",
    "t = (r * (math.sqrt(nu))) / math.sqrt((1 - (r**2)))\n",
    "t_dist = T_dist(nu)\n",
    "prob = t_dist.integrate(-100, t)\n",
    "print(\"a)\")\n",
    "print(prob)\n",
    "if prob > 0.01:\n",
    "    print(\"do not reject the null\")\n",
    "else:\n",
    "    print(\"reject the null\")"
   ]
  },
  {
   "cell_type": "code",
   "execution_count": 3,
   "id": "3ed9d944-4596-411e-834f-5a418d1c423e",
   "metadata": {},
   "outputs": [
    {
     "name": "stdout",
     "output_type": "stream",
     "text": [
      "b)\n",
      "0.9572205544599668\n",
      "reject the null\n"
     ]
    }
   ],
   "source": [
    "E_d2 = 30\n",
    "n = 8\n",
    "r = 1 - ((6 * E_d2) / (n * (n**2 - 1)))\n",
    "nu = n - 2\n",
    "t = (r * (math.sqrt(nu))) / math.sqrt((1 - (r**2)))\n",
    "t_dist = T_dist(nu)\n",
    "prob = t_dist.integrate(-100, t)\n",
    "print(\"b)\")\n",
    "print(prob)\n",
    "if prob < 0.95:\n",
    "    print(\"do not reject the null\")\n",
    "else:\n",
    "    print(\"reject the null\")"
   ]
  },
  {
   "cell_type": "code",
   "execution_count": 4,
   "id": "c170bb4c-a870-4680-a405-c0f6b396f1e4",
   "metadata": {},
   "outputs": [
    {
     "name": "stdout",
     "output_type": "stream",
     "text": [
      "c)\n",
      "0.9572205544599668\n",
      "do not reject the null\n"
     ]
    }
   ],
   "source": [
    "E_d2 = 30\n",
    "n = 8\n",
    "r = 1 - ((6 * E_d2) / (n * (n**2 - 1)))\n",
    "nu = n - 2\n",
    "t = (r * (math.sqrt(nu))) / math.sqrt((1 - (r**2)))\n",
    "t_dist = T_dist(nu)\n",
    "prob = t_dist.integrate(-100, t)\n",
    "print(\"c)\")\n",
    "print(prob)\n",
    "if prob < 0.975:\n",
    "    print(\"do not reject the null\")\n",
    "else:\n",
    "    print(\"reject the null\")"
   ]
  },
  {
   "cell_type": "code",
   "execution_count": 5,
   "id": "6f8588a1-2619-4627-9ae2-4f0827cd8130",
   "metadata": {},
   "outputs": [
    {
     "name": "stdout",
     "output_type": "stream",
     "text": [
      "d)\n",
      "0.9413459672248434\n",
      "do not reject the null\n"
     ]
    }
   ],
   "source": [
    "E_d2 = 78\n",
    "n = 10\n",
    "r = 1 - ((6 * E_d2) / (n * (n**2 - 1)))\n",
    "nu = n - 2\n",
    "t = (r * (math.sqrt(nu))) / math.sqrt((1 - (r**2)))\n",
    "t_dist = T_dist(nu)\n",
    "prob = t_dist.integrate(-100, t)\n",
    "print(\"d)\")\n",
    "print(prob)\n",
    "if prob < 0.95:\n",
    "    print(\"do not reject the null\")\n",
    "else:\n",
    "    print(\"reject the null\")"
   ]
  },
  {
   "cell_type": "code",
   "execution_count": 6,
   "id": "a6f3ae3b-9c81-4587-bcc4-54d0abade6bb",
   "metadata": {},
   "outputs": [
    {
     "name": "stdout",
     "output_type": "stream",
     "text": [
      "e)\n",
      "0.05865403277504527\n",
      "do not reject the null\n"
     ]
    }
   ],
   "source": [
    "E_d2 = 252\n",
    "n = 10\n",
    "r = 1 - ((6 * E_d2) / (n * (n**2 - 1)))\n",
    "nu = n - 2\n",
    "t = (r * (math.sqrt(nu))) / math.sqrt((1 - (r**2)))\n",
    "t_dist = T_dist(nu)\n",
    "prob = t_dist.integrate(-100, t)\n",
    "print(\"e)\")\n",
    "print(prob)\n",
    "if prob > 0.05:\n",
    "    print(\"do not reject the null\")\n",
    "else:\n",
    "    print(\"reject the null\")"
   ]
  },
  {
   "cell_type": "code",
   "execution_count": 7,
   "id": "9a61e315-78dd-4dea-82f1-67e7a6a6f99c",
   "metadata": {},
   "outputs": [
    {
     "name": "stdout",
     "output_type": "stream",
     "text": [
      "f)\n",
      "0.01879418878564882\n",
      "reject the null\n"
     ]
    }
   ],
   "source": [
    "E_d2 = 274\n",
    "n = 10\n",
    "r = 1 - ((6 * E_d2) / (n * (n**2 - 1)))\n",
    "nu = n - 2\n",
    "t = (r * (math.sqrt(nu))) / math.sqrt((1 - (r**2)))\n",
    "t_dist = T_dist(nu)\n",
    "prob = t_dist.integrate(-100, t)\n",
    "print(\"f)\")\n",
    "print(prob)\n",
    "if prob > 0.025:\n",
    "    print(\"do not reject the null\")\n",
    "else:\n",
    "    print(\"reject the null\")"
   ]
  },
  {
   "cell_type": "code",
   "execution_count": 8,
   "id": "7acf40e4-aa0d-4c6d-86eb-5ff9de59e7e4",
   "metadata": {},
   "outputs": [
    {
     "name": "stdout",
     "output_type": "stream",
     "text": [
      "g)\n",
      "0.9531248720720837\n",
      "reject the null\n"
     ]
    }
   ],
   "source": [
    "E_d2 = 18\n",
    "n = 7\n",
    "r = 1 - ((6 * E_d2) / (n * (n**2 - 1)))\n",
    "nu = n - 2\n",
    "t = (r * (math.sqrt(nu))) / math.sqrt((1 - (r**2)))\n",
    "t_dist = T_dist(nu)\n",
    "prob = t_dist.integrate(-100, t)\n",
    "print(\"g)\")\n",
    "print(prob)\n",
    "if prob < 0.95:\n",
    "    print(\"do not reject the null\")\n",
    "else:\n",
    "    print(\"reject the null\")"
   ]
  },
  {
   "cell_type": "code",
   "execution_count": 9,
   "id": "904bdf5e-613f-4cf4-8c29-c398096e9788",
   "metadata": {},
   "outputs": [
    {
     "name": "stdout",
     "output_type": "stream",
     "text": [
      "h)\n",
      "0.0034035927564669954\n",
      "reject the null\n"
     ]
    }
   ],
   "source": [
    "E_d2 = 106\n",
    "n = 7\n",
    "r = 1 - ((6 * E_d2) / (n * (n**2 - 1)))\n",
    "nu = n - 2\n",
    "t = (r * (math.sqrt(nu))) / math.sqrt((1 - (r**2)))\n",
    "t_dist = T_dist(nu)\n",
    "prob = t_dist.integrate(-100, t)\n",
    "print(\"h)\")\n",
    "print(prob)\n",
    "if prob > 0.01:\n",
    "    print(\"do not reject the null\")\n",
    "else:\n",
    "    print(\"reject the null\")"
   ]
  },
  {
   "cell_type": "code",
   "execution_count": 10,
   "id": "ce317455-85b3-4fef-825f-2cebc1410388",
   "metadata": {},
   "outputs": [
    {
     "name": "stdout",
     "output_type": "stream",
     "text": [
      "i)\n",
      "0.9739092988234701\n",
      "do not reject the null\n"
     ]
    }
   ],
   "source": [
    "E_d2 = 14\n",
    "n = 7\n",
    "r = 1 - ((6 * E_d2) / (n * (n**2 - 1)))\n",
    "nu = n - 2\n",
    "t = (r * (math.sqrt(nu))) / math.sqrt((1 - (r**2)))\n",
    "t_dist = T_dist(nu)\n",
    "prob = t_dist.integrate(-100, t)\n",
    "print(\"i)\")\n",
    "print(prob)\n",
    "if prob < 0.975:\n",
    "    print(\"do not reject the null\")\n",
    "else:\n",
    "    print(\"reject the null\")"
   ]
  }
 ],
 "metadata": {
  "kernelspec": {
   "display_name": "Python 3 (ipykernel)",
   "language": "python",
   "name": "python3"
  },
  "language_info": {
   "codemirror_mode": {
    "name": "ipython",
    "version": 3
   },
   "file_extension": ".py",
   "mimetype": "text/x-python",
   "name": "python",
   "nbconvert_exporter": "python",
   "pygments_lexer": "ipython3",
   "version": "3.12.1"
  }
 },
 "nbformat": 4,
 "nbformat_minor": 5
}

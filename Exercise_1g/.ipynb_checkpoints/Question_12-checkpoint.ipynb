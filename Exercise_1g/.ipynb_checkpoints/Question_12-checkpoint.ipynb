{
 "cells": [
  {
   "cell_type": "code",
   "execution_count": 2,
   "id": "fc456259",
   "metadata": {},
   "outputs": [
    {
     "name": "stdout",
     "output_type": "stream",
     "text": [
      "(a)\n",
      "The mean is = 4.6\n",
      "The standard deviation is = 2.0\n"
     ]
    }
   ],
   "source": [
    "import statistics\n",
    "import math\n",
    "\n",
    "data = [0, 1, 2, 3, 4, 5, 6, 7, 8, 9, 10]\n",
    "frequencies = [4, 10, 16, 28, 34, 44, 32, 16, 10, 6, 0]\n",
    "raw_data = []\n",
    "index = 0\n",
    "for item in frequencies:\n",
    "    count = item\n",
    "    while count != 0:\n",
    "        raw_data.append(data[index])\n",
    "        count = count - 1\n",
    "    index = index + 1\n",
    "\n",
    "mean = sum(raw_data) / sum(frequencies)\n",
    "std = statistics.pstdev(raw_data)\n",
    "\n",
    "print(\"(a)\")\n",
    "print('The mean is = ' + str(mean))\n",
    "print(\"The standard deviation is = \" + str(std))"
   ]
  },
  {
   "cell_type": "code",
   "execution_count": 5,
   "id": "b06d0c0e",
   "metadata": {},
   "outputs": [
    {
     "name": "stdout",
     "output_type": "stream",
     "text": [
      "(b)\n",
      "The combined mean is = 4.56\n",
      "The standard deviation for the combined sets is = 2.043134846259542\n"
     ]
    }
   ],
   "source": [
    "sum_x = 4.4 * 50\n",
    "sum_y = mean * 200\n",
    "\n",
    "mean_xy = (sum_x + sum_y) / 250\n",
    "print(\"(b)\")\n",
    "print(\"The combined mean is = \" + str(mean_xy))\n",
    "\n",
    "sum_x_sqr = 0\n",
    "for item in raw_data:\n",
    "    square = pow(item, 2)\n",
    "    sum_x_sqr = sum_x_sqr + square\n",
    "\n",
    "sum_y_sqr = 50 * (pow(2.2, 2) + pow(4.4, 2))\n",
    "\n",
    "var_xy = ((sum_x_sqr + sum_y_sqr) / 250) - (pow(mean_xy, 2))\n",
    "std_xy = math.sqrt(var_xy)\n",
    "print(\"The standard deviation for the combined sets is = \" + str(std_xy))    "
   ]
  }
 ],
 "metadata": {
  "kernelspec": {
   "display_name": "Python 3 (ipykernel)",
   "language": "python",
   "name": "python3"
  },
  "language_info": {
   "codemirror_mode": {
    "name": "ipython",
    "version": 3
   },
   "file_extension": ".py",
   "mimetype": "text/x-python",
   "name": "python",
   "nbconvert_exporter": "python",
   "pygments_lexer": "ipython3",
   "version": "3.10.7"
  }
 },
 "nbformat": 4,
 "nbformat_minor": 5
}

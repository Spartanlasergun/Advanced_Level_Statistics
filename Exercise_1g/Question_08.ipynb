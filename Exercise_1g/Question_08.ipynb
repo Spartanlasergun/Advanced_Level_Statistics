{
 "cells": [
  {
   "cell_type": "code",
   "execution_count": 4,
   "id": "2196839f",
   "metadata": {},
   "outputs": [
    {
     "name": "stdout",
     "output_type": "stream",
     "text": [
      "x = 15   y = 7\n"
     ]
    }
   ],
   "source": [
    "# x + y = 22 ----> x = 22 - y\n",
    "# x + 3y = 36\n",
    "# 22 - y + 3y = 36\n",
    "# 2y = 14 => y = 7\n",
    "\n",
    "# => x + 7 = 22\n",
    "# x = 15\n",
    "\n",
    "print(\"x = 15   y = 7\")"
   ]
  }
 ],
 "metadata": {
  "kernelspec": {
   "display_name": "Python 3 (ipykernel)",
   "language": "python",
   "name": "python3"
  },
  "language_info": {
   "codemirror_mode": {
    "name": "ipython",
    "version": 3
   },
   "file_extension": ".py",
   "mimetype": "text/x-python",
   "name": "python",
   "nbconvert_exporter": "python",
   "pygments_lexer": "ipython3",
   "version": "3.10.7"
  }
 },
 "nbformat": 4,
 "nbformat_minor": 5
}

{
 "cells": [
  {
   "cell_type": "code",
   "execution_count": 1,
   "id": "29c08fd1",
   "metadata": {},
   "outputs": [
    {
     "name": "stdout",
     "output_type": "stream",
     "text": [
      "a is = 12\n"
     ]
    }
   ],
   "source": [
    "# 3a + 147 = 3.66a + 139.08\n",
    "# a = 7.92 / 0.66\n",
    "# a = 12\n",
    "print(\"a is = 12\")"
   ]
  }
 ],
 "metadata": {
  "kernelspec": {
   "display_name": "Python 3 (ipykernel)",
   "language": "python",
   "name": "python3"
  },
  "language_info": {
   "codemirror_mode": {
    "name": "ipython",
    "version": 3
   },
   "file_extension": ".py",
   "mimetype": "text/x-python",
   "name": "python",
   "nbconvert_exporter": "python",
   "pygments_lexer": "ipython3",
   "version": "3.10.7"
  }
 },
 "nbformat": 4,
 "nbformat_minor": 5
}

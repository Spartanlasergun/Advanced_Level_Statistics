{
 "cells": [
  {
   "cell_type": "code",
   "execution_count": 1,
   "id": "408ff503",
   "metadata": {},
   "outputs": [
    {
     "name": "stdout",
     "output_type": "stream",
     "text": [
      "a = 6  and b = 4\n"
     ]
    }
   ],
   "source": [
    "# (a + b + 8 + 5 + 7) / 5 = 6\n",
    "# a + b + 20 = 30\n",
    "# a + b = 10 -------------> equation one\n",
    "\n",
    "# 2 = ((a^2 + b^2 + 8^2 + 5^2 + 7^2) / 5) - (6^2)\n",
    "# 2 + 36 = (a^2 + b^2 + 138) / 5\n",
    "# 190 = a^2 + b^2 + 138\n",
    "# a^2 + b^2 = 52 -------------------> equation two\n",
    "\n",
    "# since a + b = 10 ; a = 10 - b\n",
    "\n",
    "# substituting equation one into two gives us the following quatratic\n",
    "# 2b^2 -20b + 48 = 0\n",
    "\n",
    "# solving the quadratic equation gives us two values:\n",
    "# 6 and 4\n",
    "\n",
    "# since a = 10 - b\n",
    "# => a = 6, 4\n",
    "\n",
    "# since a > b, a = 6, b = 4\n",
    "\n",
    "print(\"a = 6  and b = 4\")"
   ]
  }
 ],
 "metadata": {
  "kernelspec": {
   "display_name": "Python 3 (ipykernel)",
   "language": "python",
   "name": "python3"
  },
  "language_info": {
   "codemirror_mode": {
    "name": "ipython",
    "version": 3
   },
   "file_extension": ".py",
   "mimetype": "text/x-python",
   "name": "python",
   "nbconvert_exporter": "python",
   "pygments_lexer": "ipython3",
   "version": "3.10.7"
  }
 },
 "nbformat": 4,
 "nbformat_minor": 5
}

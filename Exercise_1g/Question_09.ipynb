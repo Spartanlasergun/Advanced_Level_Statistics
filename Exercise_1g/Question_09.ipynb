{
 "cells": [
  {
   "cell_type": "code",
   "execution_count": 1,
   "id": "973437c9",
   "metadata": {},
   "outputs": [
    {
     "name": "stdout",
     "output_type": "stream",
     "text": [
      "The mean is = 25.9 and the standard deviation is = 1.99\n"
     ]
    }
   ],
   "source": [
    "# std_north => (Ex^2 / 165) - (23.4^2) = (1.6^2)\n",
    "# Ex^2_north = 90769.8\n",
    "\n",
    "# std_NS => (Ex^2 / 384) - (24.8^2) = (2.2^2)\n",
    "# Ex^2_NS = 238033.92\n",
    "\n",
    "# Ex^2_south = 238033.92 - 90769.8 = 147264.12\n",
    "\n",
    "# Ex_NS = 24.8 * 384 = 9523.2\n",
    "# Ex_N = 23.4 * 165 = 3861\n",
    "# Ex_S = 9523.2 - 3861 = 5662.2\n",
    "# mean_south = 5662.2 / 219 = 25.9\n",
    "\n",
    "# std_south = root((147264.12 / 219) - (25.9^2))\n",
    "# std_south = 1.99\n",
    "\n",
    "print(\"The mean is = 25.9 and the standard deviation is = 1.99\")"
   ]
  }
 ],
 "metadata": {
  "kernelspec": {
   "display_name": "Python 3 (ipykernel)",
   "language": "python",
   "name": "python3"
  },
  "language_info": {
   "codemirror_mode": {
    "name": "ipython",
    "version": 3
   },
   "file_extension": ".py",
   "mimetype": "text/x-python",
   "name": "python",
   "nbconvert_exporter": "python",
   "pygments_lexer": "ipython3",
   "version": "3.10.7"
  }
 },
 "nbformat": 4,
 "nbformat_minor": 5
}

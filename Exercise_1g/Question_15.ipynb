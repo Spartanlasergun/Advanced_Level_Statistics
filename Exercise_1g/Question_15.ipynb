{
 "cells": [
  {
   "cell_type": "code",
   "execution_count": 1,
   "id": "b1dc1203",
   "metadata": {},
   "outputs": [
    {
     "name": "stdout",
     "output_type": "stream",
     "text": [
      "The combined mean is = 11.87\n"
     ]
    }
   ],
   "source": [
    "import math\n",
    "\n",
    "sum_a = 11.8 * 50\n",
    "sum_b = 12.1 * 30\n",
    "sum_c = 11.7 * 20\n",
    "mean_abc = (sum_a + sum_b + sum_c) / (50 + 30 + 20)\n",
    "mean_abc = round(mean_abc, 2)\n",
    "print(\"The combined mean is = \" + str(mean_abc))"
   ]
  },
  {
   "cell_type": "code",
   "execution_count": 2,
   "id": "c6776e5e",
   "metadata": {},
   "outputs": [
    {
     "name": "stdout",
     "output_type": "stream",
     "text": [
      "The standard deviation of the combined data set is = 0.8\n"
     ]
    }
   ],
   "source": [
    "var_a = pow(0.5, 2)\n",
    "var_b = pow(0.9, 2)\n",
    "var_c = pow(1.1, 2)\n",
    "\n",
    "sum_a_sqr = 50 * (var_a + pow(11.8, 2))\n",
    "sum_b_sqr = 30 * (var_b + pow(12.1, 2))\n",
    "sum_c_sqr = 20 * (var_c + pow(11.7, 2))\n",
    "\n",
    "var_abc = ((sum_a_sqr + sum_b_sqr + sum_c_sqr) / (50 + 30 + 20)) - pow(mean_abc, 2)\n",
    "std_abc = math.sqrt(var_abc)\n",
    "std_abc = round(std_abc, 2)\n",
    "print(\"The standard deviation of the combined data set is = \" + str(std_abc))"
   ]
  }
 ],
 "metadata": {
  "kernelspec": {
   "display_name": "Python 3 (ipykernel)",
   "language": "python",
   "name": "python3"
  },
  "language_info": {
   "codemirror_mode": {
    "name": "ipython",
    "version": 3
   },
   "file_extension": ".py",
   "mimetype": "text/x-python",
   "name": "python",
   "nbconvert_exporter": "python",
   "pygments_lexer": "ipython3",
   "version": "3.10.7"
  }
 },
 "nbformat": 4,
 "nbformat_minor": 5
}

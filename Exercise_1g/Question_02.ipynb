{
 "cells": [
  {
   "cell_type": "code",
   "execution_count": 2,
   "id": "596ac0f9",
   "metadata": {},
   "outputs": [
    {
     "name": "stdout",
     "output_type": "stream",
     "text": [
      "The mean is = 8\n"
     ]
    }
   ],
   "source": [
    "# sum{x} / 4 = 5 => sum{x} = 20\n",
    "# sum{y} / 3 = 12 => sum{y} = 36\n",
    "# mean(x + y) = (20 + 36) / (4 + 3)\n",
    "# mean = 56 / 7\n",
    "# mean = 8\n",
    "print(\"The mean is = 8\")"
   ]
  }
 ],
 "metadata": {
  "kernelspec": {
   "display_name": "Python 3 (ipykernel)",
   "language": "python",
   "name": "python3"
  },
  "language_info": {
   "codemirror_mode": {
    "name": "ipython",
    "version": 3
   },
   "file_extension": ".py",
   "mimetype": "text/x-python",
   "name": "python",
   "nbconvert_exporter": "python",
   "pygments_lexer": "ipython3",
   "version": "3.10.7"
  }
 },
 "nbformat": 4,
 "nbformat_minor": 5
}

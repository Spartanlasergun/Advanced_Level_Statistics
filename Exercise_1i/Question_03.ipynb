{
 "cells": [
  {
   "cell_type": "markdown",
   "id": "8c47f772-c8ac-48bb-a80b-a7148f8c0de3",
   "metadata": {},
   "source": [
    "# Question 3\n",
    "\n",
    "The following equations describe a dataset:\n",
    "\n",
    "$\\Sigma f(x - 100) = 127 \\ , \\ \\ \\ \\ \\Sigma f(x - 100)^2 = 2593 \\ , \\ \\ \\ \\ \\Sigma f = 20 $\n",
    "\n",
    "These equations imply that the mean has been shifted by a magnitude of '-100', but the standard devation has not been altered. Hence, the variance of the dataset has not been altered either.\n",
    "\n",
    "Calcualting for the Variance:\n",
    "\n",
    "$ \\sigma^2 = \\frac{\\Sigma f(x -100)^2}{\\Sigma f} - \\bar x^2 $\n",
    "\n",
    "$ \\sigma^2 = \\frac{2593}{20} - (\\frac{127}{20})^2 $\n",
    "\n",
    "$ \\sigma^2 = 89.3275 $\n",
    "\n",
    "The variance is = 89.3275"
   ]
  }
 ],
 "metadata": {
  "kernelspec": {
   "display_name": "Python 3 (ipykernel)",
   "language": "python",
   "name": "python3"
  },
  "language_info": {
   "codemirror_mode": {
    "name": "ipython",
    "version": 3
   },
   "file_extension": ".py",
   "mimetype": "text/x-python",
   "name": "python",
   "nbconvert_exporter": "python",
   "pygments_lexer": "ipython3",
   "version": "3.11.2"
  }
 },
 "nbformat": 4,
 "nbformat_minor": 5
}

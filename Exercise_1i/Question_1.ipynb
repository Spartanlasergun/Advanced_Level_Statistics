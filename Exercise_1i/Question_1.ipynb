{
 "cells": [
  {
   "cell_type": "markdown",
   "id": "2b4cd95d",
   "metadata": {},
   "source": [
    "This is our dataset\n",
    "\n",
    "| x | f |\n",
    "| --- | --- |\n",
    "| 304 | 1 |\n",
    "| 308 | 5 |\n",
    "| 312 | 9 |\n",
    "| 316 | 4 |\n",
    "| 320 | 4 |\n",
    "| 324 | 2 |\n",
    "\n",
    "It is coded using the following equation:\n",
    "\n",
    "$y = \\frac{x - 312}{4}$\n",
    "\n",
    "\n",
    "Hence:\n",
    "\n",
    "$4y = x - 312$\n",
    "\n",
    "$x = 4y + 312$\n",
    "\n",
    "$\\bar x = 4\\bar y + 312$ \n",
    "\n",
    "and\n",
    "\n",
    "$s_x = 4s_y$\n",
    "\n",
    "Solving for $\\bar y$:\n",
    "\n",
    "$\\bar y = \\frac{\\Sigma y}{n}$\n",
    "\n",
    "$\\bar y = \\frac{(304) + (308 * 5) + (312 * 9) + (316 * 4) + (320 * 4) + (324 * 2)}{1 + 5 + 9 + 4 + 4 + 2}$\n",
    "\n",
    "$\\bar y = \\frac{7844}{25}$\n",
    "\n",
    "$\\bar y = 313.76$\n",
    "\n",
    "This implies that $\\bar x = (4 * 313.76) + 312$\n",
    "\n",
    "$\\bar x = 1567.04$\n",
    "\n",
    "Solving for $s_y$:\n",
    "\n",
    "$s_y = \\frac{\\Sigma y^2}{n} - \\bar y^2$\n",
    "\n",
    "... $\\Sigma y^2 = 5.194$\n",
    "\n",
    "Hence:\n",
    "\n",
    "$s_x = 4 * 5.194$\n",
    "\n",
    "$s_x = 20.776$\n",
    "\n",
    "\n",
    "\n",
    "NOTE: For some reason the book has given the mean and standard deviation of the coded dataset (y) as the answer, instead of the orginal (x). "
   ]
  }
 ],
 "metadata": {
  "kernelspec": {
   "display_name": "Python 3 (ipykernel)",
   "language": "python",
   "name": "python3"
  },
  "language_info": {
   "codemirror_mode": {
    "name": "ipython",
    "version": 3
   },
   "file_extension": ".py",
   "mimetype": "text/x-python",
   "name": "python",
   "nbconvert_exporter": "python",
   "pygments_lexer": "ipython3",
   "version": "3.10.7"
  }
 },
 "nbformat": 4,
 "nbformat_minor": 5
}

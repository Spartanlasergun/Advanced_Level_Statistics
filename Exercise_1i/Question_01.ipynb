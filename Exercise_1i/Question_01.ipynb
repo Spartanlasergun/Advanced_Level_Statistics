{
 "cells": [
  {
   "cell_type": "markdown",
   "id": "2b4cd95d",
   "metadata": {},
   "source": [
    "NOTE: For some reason the book has given a coding formula even though the raw datasets are provided. I'm not sure what this is supposed to test, but essentially, it has to be ignored.\n",
    "# Question 1 (a)\n",
    "\n",
    "This is our dataset\n",
    "\n",
    "| x | f |\n",
    "| --- | --- |\n",
    "| 304 | 1 |\n",
    "| 308 | 5 |\n",
    "| 312 | 9 |\n",
    "| 316 | 4 |\n",
    "| 320 | 4 |\n",
    "| 324 | 2 |\n",
    "\n",
    "Solving for $\\bar x$:\n",
    "\n",
    "$\\bar x = \\frac{\\Sigma x}{n}$\n",
    "\n",
    "$\\bar x = \\frac{(304) + (308 * 5) + (312 * 9) + (316 * 4) + (320 * 4) + (324 * 2)}{1 + 5 + 9 + 4 + 4 + 2}$\n",
    "\n",
    "$\\bar x = \\frac{7844}{25}$\n",
    "\n",
    "$\\bar x = 313.76$\n",
    "\n",
    "Solving for $s_x$:\n",
    "\n",
    "$s_x = \\sqrt{\\frac{\\Sigma x^2}{n} - \\bar x^2}$\n",
    "\n",
    "... $s_x = 5.194$"
   ]
  },
  {
   "cell_type": "markdown",
   "id": "9e3bf801",
   "metadata": {},
   "source": [
    "# Question 1 (b)\n",
    "\n",
    "This is our dataset\n",
    "\n",
    "| midpoints | f |\n",
    "| --- | --- |\n",
    "| 150 | 3 |\n",
    "| 250 | 7 |\n",
    "| 350 | 12 |\n",
    "| 450 | 18 |\n",
    "| 550 | 12 |\n",
    "| 650 | 6 |\n",
    "\n",
    "Solving for $ \\bar x$:\n",
    "\n",
    "$\\bar x = \\frac{\\Sigma x}{n}$\n",
    "\n",
    "$\\bar x = \\frac{(150 * 3) + (250 * 7) + (350 * 12) + (450 * 18) + (550 * 12) + (650 * 6)}{3 + 7 + 12 + 18 + 12 + 6}$\n",
    "\n",
    "$\\bar x = 431.03$\n",
    "\n",
    "Solving for $ s_x$:\n",
    "\n",
    "$s_x = \\sqrt{\\frac{\\Sigma x^2}{n} - \\bar x^2}$\n",
    "\n",
    "...$s_x = 131.91$"
   ]
  },
  {
   "cell_type": "markdown",
   "id": "8559cca8",
   "metadata": {},
   "source": [
    "# Question 1 (c)\n",
    "\n",
    "This is our dataset\n",
    "\n",
    "| midpoints | f |\n",
    "| --- | --- |\n",
    "| 0.0025 | 5 |\n",
    "| 0.0075 | 10 |\n",
    "| 0.0125 | 13 |\n",
    "| 0.0175 | 18 |\n",
    "| 0.0225 | 12 |\n",
    "| 0.0275 | 6 |\n",
    "| 0.0325 | 6 |\n",
    "| 0.0375 | 0 |\n",
    "\n",
    "Solving for $ \\bar x$:\n",
    "\n",
    "$\\bar x = \\frac{\\Sigma x}{n}$\n",
    "\n",
    "...$\\bar x = 0.0171$  \n",
    "\n",
    "Solving for $ s_x$:\n",
    "\n",
    "$s_x = \\sqrt{\\frac{\\Sigma x^2}{n} - \\bar x^2}$\n",
    "\n",
    "...$s_x = 0.008183$"
   ]
  }
 ],
 "metadata": {
  "kernelspec": {
   "display_name": "Python 3 (ipykernel)",
   "language": "python",
   "name": "python3"
  },
  "language_info": {
   "codemirror_mode": {
    "name": "ipython",
    "version": 3
   },
   "file_extension": ".py",
   "mimetype": "text/x-python",
   "name": "python",
   "nbconvert_exporter": "python",
   "pygments_lexer": "ipython3",
   "version": "3.11.2"
  }
 },
 "nbformat": 4,
 "nbformat_minor": 5
}

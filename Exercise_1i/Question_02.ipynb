{
 "cells": [
  {
   "cell_type": "markdown",
   "id": "f960056c",
   "metadata": {},
   "source": [
    "# Question 2\n",
    "\n",
    "$n = 100$\n",
    "\n",
    "$\\Sigma(x - 50) = 123.5 \\ \\ \\ \\ $   and    $\\ \\ \\ \\ \\Sigma(x - 50)^2 = 238.4$\n",
    "\n",
    "This implies that the mean has been shifted by a magnitude of '-50'\n",
    "\n",
    "Hence:\n",
    "\n",
    "$\\bar y = \\frac{\\Sigma (y)}{n}$\n",
    "\n",
    "$\\bar y = \\frac{123.5}{100}$\n",
    "\n",
    "$\\bar y = 1.235$\n",
    "\n",
    "Therefore $\\ \\ \\ \\ \\bar x = 1.235 + 50$\n",
    "\n",
    "$\\bar x = 51.235$\n",
    "\n",
    "There is no indication that the standard deviation of the dataset has been shifted.\n",
    "\n",
    "Hence $s_x = s_y$\n",
    "\n",
    "Solving for $s_y$:\n",
    "\n",
    "$s_y = \\sqrt{\\frac{\\Sigma(x - 50)^2}{n} - \\bar x}$\n",
    "\n",
    "$s_y = \\sqrt{\\frac{238.4}{100} - (1.235^2)}$\n",
    "\n",
    "$s_y = \\sqrt{2.384 - 1.525}$\n",
    "\n",
    "$s_y = 0.927$\n",
    "\n",
    "\n",
    "Since $s_x = s_y$\n",
    "\n",
    "$s_x = 0.927$"
   ]
  }
 ],
 "metadata": {
  "kernelspec": {
   "display_name": "Python 3 (ipykernel)",
   "language": "python",
   "name": "python3"
  },
  "language_info": {
   "codemirror_mode": {
    "name": "ipython",
    "version": 3
   },
   "file_extension": ".py",
   "mimetype": "text/x-python",
   "name": "python",
   "nbconvert_exporter": "python",
   "pygments_lexer": "ipython3",
   "version": "3.10.7"
  }
 },
 "nbformat": 4,
 "nbformat_minor": 5
}

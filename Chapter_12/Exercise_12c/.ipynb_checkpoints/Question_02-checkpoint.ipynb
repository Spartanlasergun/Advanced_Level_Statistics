{
 "cells": [
  {
   "cell_type": "markdown",
   "id": "73e21afb-dec6-4624-baaa-e17f03e8905a",
   "metadata": {},
   "source": [
    "# Question 2\n",
    "-----"
   ]
  },
  {
   "cell_type": "code",
   "execution_count": 1,
   "id": "17928fe6-fce9-4682-a5ec-cba457cf5dac",
   "metadata": {},
   "outputs": [
    {
     "name": "stdout",
     "output_type": "stream",
     "text": [
      "Chi-squared statistic: 2.0313248517869646\n",
      "P-value: 0.565930636503627\n",
      "Degrees of freedom: 3\n",
      "do not reject the null\n"
     ]
    }
   ],
   "source": [
    "from scipy.stats import chi2_contingency\n",
    "\n",
    "# Example contingency table (replace this with your own data)\n",
    "observed = [[21, 30],\n",
    "            [63, 58],\n",
    "            [28, 25],\n",
    "            [8, 7]]\n",
    "\n",
    "# Perform chi-squared test for independence\n",
    "chi2_stat, p_val, dof, expected = chi2_contingency(observed)\n",
    "\n",
    "# Print the results\n",
    "print(\"Chi-squared statistic:\", chi2_stat)\n",
    "print(\"P-value:\", p_val)\n",
    "print(\"Degrees of freedom:\", dof)\n",
    "if p_val < 0.95:\n",
    "    print(\"do not reject the null\")\n",
    "else:\n",
    "    print(\"reject the null\")"
   ]
  }
 ],
 "metadata": {
  "kernelspec": {
   "display_name": "Python 3 (ipykernel)",
   "language": "python",
   "name": "python3"
  },
  "language_info": {
   "codemirror_mode": {
    "name": "ipython",
    "version": 3
   },
   "file_extension": ".py",
   "mimetype": "text/x-python",
   "name": "python",
   "nbconvert_exporter": "python",
   "pygments_lexer": "ipython3",
   "version": "3.12.1"
  }
 },
 "nbformat": 4,
 "nbformat_minor": 5
}

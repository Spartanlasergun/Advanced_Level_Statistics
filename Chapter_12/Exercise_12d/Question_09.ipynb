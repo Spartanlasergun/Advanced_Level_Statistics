{
 "cells": [
  {
   "cell_type": "markdown",
   "id": "a02a6fcd-f0c2-4c47-9d63-1f3bb35f7482",
   "metadata": {},
   "source": [
    "# Question 9\n",
    "-----"
   ]
  },
  {
   "cell_type": "code",
   "execution_count": 1,
   "id": "8f4762cc-aa3c-4e2a-b407-f49f198e843d",
   "metadata": {},
   "outputs": [],
   "source": [
    "import math\n",
    "\n",
    "class poisson:\n",
    "    def __init__(self, lamb):\n",
    "        self.lamb = lamb\n",
    "\n",
    "    def prob(self, x):\n",
    "        pois = math.exp(-self.lamb) * (pow(self.lamb, x) / math.factorial(x))\n",
    "        return pois\n",
    "\n",
    "    def freq(self, event, sample):\n",
    "        freq = self.prob(event) * sample \n",
    "        freq = round(freq, 0)\n",
    "        return freq"
   ]
  },
  {
   "cell_type": "code",
   "execution_count": 2,
   "id": "3f92decc-bb37-4ba5-b92d-6dbd9da3add4",
   "metadata": {},
   "outputs": [
    {
     "name": "stdout",
     "output_type": "stream",
     "text": [
      "[44.626032029685966, 66.93904804452895, 50.204286033396706, 25.102143016698353, 9.413303631261883, 2.8239910893785645]\n"
     ]
    }
   ],
   "source": [
    "pois_dist = poisson(1.5)\n",
    "p0 = pois_dist.prob(0)\n",
    "p1 = pois_dist.prob(1)\n",
    "p2 = pois_dist.prob(2)\n",
    "p3 = pois_dist.prob(3)\n",
    "p4 = pois_dist.prob(4)\n",
    "p5 = pois_dist.prob(5)\n",
    "prob = [p0, p1, p2, p3, p4, p5]\n",
    "expt = []\n",
    "for item in prob:\n",
    "    ex = item * 200\n",
    "    expt.append(ex)\n",
    "print(expt)"
   ]
  },
  {
   "cell_type": "code",
   "execution_count": 3,
   "id": "5b4ddfbb-314c-43ea-87aa-7fb8f2d5e19d",
   "metadata": {},
   "outputs": [],
   "source": [
    "obsv = [34, 78, 61, 20, 7]\n",
    "expt = [44.62, 66.94, 50.2, 25.1, (9.41 + 2.82)]"
   ]
  },
  {
   "cell_type": "code",
   "execution_count": 4,
   "id": "dc08e9eb-30d1-4b92-b5da-3aa22276a96f",
   "metadata": {},
   "outputs": [],
   "source": [
    "import math\n",
    "from scipy.special import gamma\n",
    "from scipy.integrate import quad\n",
    "\n",
    "class chi:\n",
    "    def __init__(self, nu):\n",
    "        self.a = (nu / 2) - 1\n",
    "        self.b = nu / 2\n",
    "        self.c = gamma(nu / 2)\n",
    "\n",
    "    def chi_stat(self, observed, expected, yates=False):\n",
    "        count = len(observed) - 1\n",
    "        stats = []\n",
    "        correction = 0\n",
    "        if yates:\n",
    "            correction = 0.5\n",
    "        while count != -1:\n",
    "            OE = (observed[count] - expected[count])\n",
    "            mod = abs(OE) - correction\n",
    "            stat = (mod**2) / (expected[count])\n",
    "            stats.append(stat)\n",
    "            count = count - 1\n",
    "        result = sum(stats)\n",
    "        return result\n",
    "        \n",
    "    def chi_pdf(self, x):\n",
    "        return (pow(x, self.a) * math.exp((-1 * x) / 2)) / ((2**(self.b)) * self.c)\n",
    "\n",
    "    def integrate(self, upper_limit):\n",
    "        result, error = quad(self.chi_pdf, 0, upper_limit)\n",
    "        return result\n",
    "\n",
    "    def expected(self, observed):\n",
    "        row_totals = []\n",
    "        for item in observed:\n",
    "            total = sum(item)\n",
    "            row_totals.append(total)\n",
    "        rows = len(observed[0])\n",
    "        index = 0\n",
    "        column_totals = []\n",
    "        while index != rows:\n",
    "            total = 0\n",
    "            for item in observed:\n",
    "                total = total + item[index]\n",
    "            column_totals.append(total)\n",
    "            index = index + 1\n",
    "        expt = []\n",
    "        for r_val in row_totals:\n",
    "            for c_val in column_totals:\n",
    "                ex = c_val * r_val / (sum(row_totals))\n",
    "                expt.append(ex)\n",
    "        obsv = [num for sublist in observed for num in sublist]\n",
    "        return obsv, expt        "
   ]
  },
  {
   "cell_type": "code",
   "execution_count": 5,
   "id": "ac49852d-28de-4a41-8762-26bc6c12c1c6",
   "metadata": {},
   "outputs": [
    {
     "name": "stdout",
     "output_type": "stream",
     "text": [
      "9.951328788971447\n",
      "0.958744428436658\n",
      "reject the null\n"
     ]
    }
   ],
   "source": [
    "chisq = chi(4)\n",
    "stat = chisq.chi_stat(obsv, expt)\n",
    "print(stat)\n",
    "prob = chisq.integrate(stat)\n",
    "print(prob)\n",
    "if prob < 0.95:\n",
    "    print(\"do not reject the null\")\n",
    "else:\n",
    "    print(\"reject the null\")"
   ]
  },
  {
   "cell_type": "markdown",
   "id": "976308ca-91e8-45ac-bbd0-fafdc1fa4f27",
   "metadata": {},
   "source": [
    "b) Use mean value from dataset\n",
    "\n",
    "c) The probability of a breakdown for each event is not the same"
   ]
  }
 ],
 "metadata": {
  "kernelspec": {
   "display_name": "Python 3 (ipykernel)",
   "language": "python",
   "name": "python3"
  },
  "language_info": {
   "codemirror_mode": {
    "name": "ipython",
    "version": 3
   },
   "file_extension": ".py",
   "mimetype": "text/x-python",
   "name": "python",
   "nbconvert_exporter": "python",
   "pygments_lexer": "ipython3",
   "version": "3.12.1"
  }
 },
 "nbformat": 4,
 "nbformat_minor": 5
}

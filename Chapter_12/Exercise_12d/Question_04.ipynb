{
 "cells": [
  {
   "cell_type": "markdown",
   "id": "7f46d88b-590e-4237-811d-2b4e665728d1",
   "metadata": {},
   "source": [
    "# Question 4\n",
    "-----"
   ]
  },
  {
   "cell_type": "markdown",
   "id": "c7a90d81-1b43-458a-a32b-504d0214b7ac",
   "metadata": {},
   "source": [
    "Degrees of Freedom = (no. of rows - 1) * (no. of columns - 1)"
   ]
  },
  {
   "cell_type": "code",
   "execution_count": 1,
   "id": "dab72df9-7273-4e69-83f1-9af61e173b79",
   "metadata": {},
   "outputs": [],
   "source": [
    "from scipy.integrate import quad\n",
    "import math\n",
    "\n",
    "class normal:\n",
    "    def __init__(self, u, sigma):\n",
    "        self.u = u\n",
    "        self.sigma = sigma\n",
    "        self.root2pi = math.sqrt((2 * math.pi)) \n",
    "    \n",
    "    def normal_func(self, x):\n",
    "        return (1 / (self.sigma * self.root2pi)) * math.exp((-1 * pow((x - self.u), 2)) / (2 * pow(self.sigma, 2)))\n",
    "\n",
    "    def integrate(self, lower_limit, upper_limit):\n",
    "        result, error = quad(self.normal_func, lower_limit, upper_limit)\n",
    "        \n",
    "        return result\n",
    "\n",
    "    def locate(self, area):\n",
    "        fx = 0\n",
    "        x = -6\n",
    "        while fx < area:\n",
    "            fx = self.integrate(-6, x)\n",
    "            x = x + 0.00001\n",
    "            \n",
    "        return x"
   ]
  },
  {
   "cell_type": "code",
   "execution_count": 2,
   "id": "4007129c-0b02-4ecf-8632-1818e39e4dc4",
   "metadata": {},
   "outputs": [
    {
     "name": "stdout",
     "output_type": "stream",
     "text": [
      "[0.12227686935922603, 0.4480357639358435, 1.547514330972157, 4.183009482130616, 8.849663832436526, 14.655096260653272, 18.99775611910109, 19.278896463155686, 15.315426271902622, 9.524236907184408, 4.6361691711463, 1.76635326730819, 0.675565260714065]\n"
     ]
    }
   ],
   "source": [
    "dist = normal(1.03, 1)\n",
    "p1 = dist.integrate(-100, -2)\n",
    "p2 = dist.integrate(-2, -1.5)\n",
    "p3 = dist.integrate(-1.5, -1)\n",
    "p4 = dist.integrate(-1, -0.5)\n",
    "p5 = dist.integrate(-0.5, 0)\n",
    "p6 = dist.integrate(0, 0.5)\n",
    "p7 = dist.integrate(0.5, 1)\n",
    "p8 = dist.integrate(1, 1.5)\n",
    "p9 = dist.integrate(1.5, 2)\n",
    "p10 = dist.integrate(2, 2.5)\n",
    "p11 = dist.integrate(2.5, 3)\n",
    "p12 = dist.integrate(3, 3.5)\n",
    "p13 = dist.integrate(3.5, 100)\n",
    "prob = [p1, p2, p3, p4, p5, p6, p7, p8, p9, p10, p11, p12, p13]\n",
    "expt = []\n",
    "for item in prob:\n",
    "    ex = item * 100\n",
    "    expt.append(ex)\n",
    "print(expt)"
   ]
  },
  {
   "cell_type": "code",
   "execution_count": 3,
   "id": "387513a4-6039-48cf-b502-0db10abb4368",
   "metadata": {},
   "outputs": [],
   "source": [
    "obsv = [7, 10, 12, 15, 23, 16, 13, 4]\n",
    "expt = [(0.122 + 0.448 + 1.547 + 4.18), 8.85, 14.66, 19, 19.28, 15.32, 9.524, (4.64 + 1.77 + 0.676)]"
   ]
  },
  {
   "cell_type": "code",
   "execution_count": 4,
   "id": "4b169ac0-0bb8-44c3-bfc0-72531a22c8b2",
   "metadata": {},
   "outputs": [],
   "source": [
    "import math\n",
    "from scipy.special import gamma\n",
    "from scipy.integrate import quad\n",
    "\n",
    "class chi:\n",
    "    def __init__(self, nu):\n",
    "        self.a = (nu / 2) - 1\n",
    "        self.b = nu / 2\n",
    "        self.c = gamma(nu / 2)\n",
    "\n",
    "    def chi_stat(self, observed, expected, yates=False):\n",
    "        count = len(observed) - 1\n",
    "        stats = []\n",
    "        correction = 0\n",
    "        if yates:\n",
    "            correction = 0.5\n",
    "        while count != -1:\n",
    "            OE = (observed[count] - expected[count])\n",
    "            mod = abs(OE) - correction\n",
    "            stat = (mod**2) / (expected[count])\n",
    "            stats.append(stat)\n",
    "            count = count - 1\n",
    "        result = sum(stats)\n",
    "        return result\n",
    "        \n",
    "    def chi_pdf(self, x):\n",
    "        return (pow(x, self.a) * math.exp((-1 * x) / 2)) / ((2**(self.b)) * self.c)\n",
    "\n",
    "    def integrate(self, upper_limit):\n",
    "        result, error = quad(self.chi_pdf, 0, upper_limit)\n",
    "        return result\n",
    "\n",
    "    def expected(self, observed):\n",
    "        row_totals = []\n",
    "        for item in observed:\n",
    "            total = sum(item)\n",
    "            row_totals.append(total)\n",
    "        rows = len(observed[0])\n",
    "        index = 0\n",
    "        column_totals = []\n",
    "        while index != rows:\n",
    "            total = 0\n",
    "            for item in observed:\n",
    "                total = total + item[index]\n",
    "            column_totals.append(total)\n",
    "            index = index + 1\n",
    "        expt = []\n",
    "        for r_val in row_totals:\n",
    "            for c_val in column_totals:\n",
    "                ex = c_val * r_val / (sum(row_totals))\n",
    "                expt.append(ex)\n",
    "        obsv = [num for sublist in observed for num in sublist]\n",
    "        return obsv, expt"
   ]
  },
  {
   "cell_type": "code",
   "execution_count": 5,
   "id": "397b05f9-0c5c-483d-b135-b5e2690f8a9f",
   "metadata": {},
   "outputs": [
    {
     "name": "stdout",
     "output_type": "stream",
     "text": [
      "4.913230874601466\n",
      "0.4450107784704364\n",
      "do not reject the null\n"
     ]
    }
   ],
   "source": [
    "chisq = chi(6)\n",
    "stat = chisq.chi_stat(obsv, expt)\n",
    "print(stat)\n",
    "prob = chisq.integrate(stat)\n",
    "print(prob)\n",
    "if prob < 0.95:\n",
    "    print(\"do not reject the null\")\n",
    "else:\n",
    "    print(\"reject the null\")"
   ]
  }
 ],
 "metadata": {
  "kernelspec": {
   "display_name": "Python 3 (ipykernel)",
   "language": "python",
   "name": "python3"
  },
  "language_info": {
   "codemirror_mode": {
    "name": "ipython",
    "version": 3
   },
   "file_extension": ".py",
   "mimetype": "text/x-python",
   "name": "python",
   "nbconvert_exporter": "python",
   "pygments_lexer": "ipython3",
   "version": "3.12.1"
  }
 },
 "nbformat": 4,
 "nbformat_minor": 5
}

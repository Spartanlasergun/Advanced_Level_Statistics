{
 "cells": [
  {
   "cell_type": "markdown",
   "id": "71a32d3b-36c5-497b-8dfb-1b94d031a288",
   "metadata": {},
   "source": [
    "# Question 1\n",
    "-----"
   ]
  },
  {
   "cell_type": "code",
   "execution_count": 1,
   "id": "c2d1b560-786d-431d-b0ce-9bc681dfd150",
   "metadata": {},
   "outputs": [],
   "source": [
    "import math\n",
    "from scipy.special import gamma\n",
    "from scipy.integrate import quad\n",
    "\n",
    "class chi:\n",
    "    def __init__(self, nu):\n",
    "        self.a = (nu / 2) - 1\n",
    "        self.b = nu / 2\n",
    "        self.c = gamma(nu / 2)\n",
    "\n",
    "    def chi_stat(self, observed, expected, yates=False):\n",
    "        count = len(observed) - 1\n",
    "        stats = []\n",
    "        correction = 0\n",
    "        if yates:\n",
    "            correction = 0.5\n",
    "        while count != -1:\n",
    "            OE = (observed[count] - expected[count])\n",
    "            mod = abs(OE) - correction\n",
    "            stat = (mod**2) / (expected[count])\n",
    "            stats.append(stat)\n",
    "            count = count - 1\n",
    "        result = sum(stats)\n",
    "        return result\n",
    "        \n",
    "    def chi_pdf(self, x):\n",
    "        return (pow(x, self.a) * math.exp((-1 * x) / 2)) / ((2**(self.b)) * self.c)\n",
    "\n",
    "    def integrate(self, upper_limit):\n",
    "        result, error = quad(self.chi_pdf, 0, upper_limit)\n",
    "        return result\n",
    "\n",
    "    def expected(self, observed):\n",
    "        row_totals = []\n",
    "        for item in observed:\n",
    "            total = sum(item)\n",
    "            row_totals.append(total)\n",
    "        rows = len(observed[0])\n",
    "        index = 0\n",
    "        column_totals = []\n",
    "        while index != rows:\n",
    "            total = 0\n",
    "            for item in observed:\n",
    "                total = total + item[index]\n",
    "            column_totals.append(total)\n",
    "            index = index + 1\n",
    "        expt = []\n",
    "        for r_val in row_totals:\n",
    "            for c_val in column_totals:\n",
    "                ex = c_val * r_val / (sum(row_totals))\n",
    "                expt.append(ex)\n",
    "        obsv = [num for sublist in observed for num in sublist]\n",
    "        return obsv, expt"
   ]
  },
  {
   "cell_type": "markdown",
   "id": "308c229f-4dc2-4e0c-8523-e33c7eba5338",
   "metadata": {},
   "source": [
    "$$H_0: association$$\n",
    "\n",
    "$$H_1: no \\ \\ association$$"
   ]
  },
  {
   "cell_type": "code",
   "execution_count": 2,
   "id": "5346e748-722d-45a9-addd-e589969a6545",
   "metadata": {},
   "outputs": [
    {
     "name": "stdout",
     "output_type": "stream",
     "text": [
      "1.4817629179331302\n",
      "0.5233064555207446\n",
      "do not reject the null\n"
     ]
    }
   ],
   "source": [
    "observed = [[50, 25],\n",
    "            [28, 22],\n",
    "            [16, 9]]\n",
    "chisq = chi(2)\n",
    "obsv, expt = chisq.expected(observed)\n",
    "stat = chisq.chi_stat(obsv, expt)\n",
    "print(stat)\n",
    "prob = chisq.integrate(stat)\n",
    "print(prob)\n",
    "if prob < 0.95:\n",
    "    print(\"do not reject the null\")\n",
    "else:\n",
    "    print(\"reject the null\")"
   ]
  }
 ],
 "metadata": {
  "kernelspec": {
   "display_name": "Python 3 (ipykernel)",
   "language": "python",
   "name": "python3"
  },
  "language_info": {
   "codemirror_mode": {
    "name": "ipython",
    "version": 3
   },
   "file_extension": ".py",
   "mimetype": "text/x-python",
   "name": "python",
   "nbconvert_exporter": "python",
   "pygments_lexer": "ipython3",
   "version": "3.12.1"
  }
 },
 "nbformat": 4,
 "nbformat_minor": 5
}

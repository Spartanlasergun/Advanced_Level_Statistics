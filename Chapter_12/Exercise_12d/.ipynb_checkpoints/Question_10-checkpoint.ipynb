{
 "cells": [
  {
   "cell_type": "markdown",
   "id": "6f4dec24-d1ef-43ed-8d16-971fa92c4ec6",
   "metadata": {},
   "source": [
    "# Question 10\n",
    "-----"
   ]
  },
  {
   "cell_type": "code",
   "execution_count": 1,
   "id": "3795333c-83a6-4797-97c1-57cd22e550dc",
   "metadata": {},
   "outputs": [],
   "source": [
    "import math\n",
    "from scipy.special import gamma\n",
    "from scipy.integrate import quad\n",
    "\n",
    "class chi:\n",
    "    def __init__(self, nu):\n",
    "        self.a = (nu / 2) - 1\n",
    "        self.b = nu / 2\n",
    "        self.c = gamma(nu / 2)\n",
    "\n",
    "    def chi_stat(self, observed, expected, yates=False):\n",
    "        count = len(observed) - 1\n",
    "        stats = []\n",
    "        correction = 0\n",
    "        if yates:\n",
    "            correction = 0.5\n",
    "        while count != -1:\n",
    "            OE = (observed[count] - expected[count])\n",
    "            mod = abs(OE) - correction\n",
    "            stat = (mod**2) / (expected[count])\n",
    "            stats.append(stat)\n",
    "            count = count - 1\n",
    "        result = sum(stats)\n",
    "        return result\n",
    "        \n",
    "    def chi_pdf(self, x):\n",
    "        return (pow(x, self.a) * math.exp((-1 * x) / 2)) / ((2**(self.b)) * self.c)\n",
    "\n",
    "    def integrate(self, upper_limit):\n",
    "        result, error = quad(self.chi_pdf, 0, upper_limit)\n",
    "        return result\n",
    "\n",
    "    def expected(self, observed):\n",
    "        row_totals = []\n",
    "        for item in observed:\n",
    "            total = sum(item)\n",
    "            row_totals.append(total)\n",
    "        rows = len(observed[0])\n",
    "        index = 0\n",
    "        column_totals = []\n",
    "        while index != rows:\n",
    "            total = 0\n",
    "            for item in observed:\n",
    "                total = total + item[index]\n",
    "            column_totals.append(total)\n",
    "            index = index + 1\n",
    "        expt = []\n",
    "        for r_val in row_totals:\n",
    "            for c_val in column_totals:\n",
    "                ex = c_val * r_val / (sum(row_totals))\n",
    "                expt.append(ex)\n",
    "        obsv = [num for sublist in observed for num in sublist]\n",
    "        return obsv, expt        "
   ]
  },
  {
   "cell_type": "code",
   "execution_count": 2,
   "id": "1abf97e0-58d0-4029-8e2e-75e3d2f37c4b",
   "metadata": {},
   "outputs": [
    {
     "name": "stdout",
     "output_type": "stream",
     "text": [
      "10.953416149068323\n",
      "0.9729074285915114\n",
      "reject the null\n"
     ]
    }
   ],
   "source": [
    "obsv = [601, 673, 626, 618, 702]\n",
    "same = sum(obsv) / 5\n",
    "expt = [same, same, same, same, same]\n",
    "chisq = chi(4)\n",
    "stat = chisq.chi_stat(obsv, expt)\n",
    "print(stat)\n",
    "prob = chisq.integrate(stat)\n",
    "print(prob)\n",
    "if prob < 0.95:\n",
    "    print(\"do not reject the null\")\n",
    "else:\n",
    "    print(\"reject the null\")"
   ]
  },
  {
   "cell_type": "markdown",
   "id": "0dd32dff-70c7-42ca-9962-dd461068cc9a",
   "metadata": {},
   "source": [
    "Events are random, so poisson may be appropriate"
   ]
  },
  {
   "cell_type": "code",
   "execution_count": 3,
   "id": "65f06b70-a613-46d2-aa20-cf4644213154",
   "metadata": {},
   "outputs": [],
   "source": [
    "import math\n",
    "\n",
    "class poisson:\n",
    "    def __init__(self, lamb):\n",
    "        self.lamb = lamb\n",
    "\n",
    "    def prob(self, x):\n",
    "        pois = math.exp(-self.lamb) * (pow(self.lamb, x) / math.factorial(x))\n",
    "        return pois\n",
    "\n",
    "    def freq(self, event, sample):\n",
    "        freq = self.prob(event) * sample \n",
    "        freq = round(freq, 0)\n",
    "        return freq"
   ]
  },
  {
   "cell_type": "code",
   "execution_count": 4,
   "id": "d2dad665-a8eb-4f20-9ccb-96cf13aeea97",
   "metadata": {},
   "outputs": [
    {
     "name": "stdout",
     "output_type": "stream",
     "text": [
      "1.1\n"
     ]
    }
   ],
   "source": [
    "mean = (39 + 38 + 33) / (31 + 39 + 19 + 11)\n",
    "print(mean)"
   ]
  },
  {
   "cell_type": "code",
   "execution_count": 5,
   "id": "56790dc3-b5fd-4d6d-8e37-526869d0ed06",
   "metadata": {},
   "outputs": [
    {
     "name": "stdout",
     "output_type": "stream",
     "text": [
      "[33.28710836980795, 36.61581920678875, 20.138700563733817, 7.384190206702401, 2.574181652967078]\n"
     ]
    }
   ],
   "source": [
    "pois_dist = poisson(mean)\n",
    "x = 0\n",
    "prob = []\n",
    "while x <= 3:\n",
    "    p_val = pois_dist.prob(x)\n",
    "    prob.append(p_val)\n",
    "    x = x + 1\n",
    "PXGE4 = 1 - sum(prob)\n",
    "prob.append(PXGE4)\n",
    "expt = []\n",
    "for item in prob:\n",
    "    ex = item * (31 + 39 + 19 + 11)\n",
    "    expt.append(ex)\n",
    "print(expt)"
   ]
  },
  {
   "cell_type": "code",
   "execution_count": 6,
   "id": "1cb36f8a-db45-4110-89de-1cd52033e2b1",
   "metadata": {},
   "outputs": [],
   "source": [
    "obsv = [31, 39, 19, 11]\n",
    "expt = [33.29, 36.62, 20.14, (7.38 + 2.57)]"
   ]
  },
  {
   "cell_type": "code",
   "execution_count": 7,
   "id": "4b7dd3e8-6ed5-4e7e-8270-d7f4716e0c07",
   "metadata": {},
   "outputs": [
    {
     "name": "stdout",
     "output_type": "stream",
     "text": [
      "0.4875406105669273\n",
      "0.21633238209722147\n",
      "do not reject the null\n"
     ]
    }
   ],
   "source": [
    "chisq = chi(2)\n",
    "stat = chisq.chi_stat(obsv, expt)\n",
    "print(stat)\n",
    "prob = chisq.integrate(stat)\n",
    "print(prob)\n",
    "if prob < 0.95:\n",
    "    print(\"do not reject the null\")\n",
    "else:\n",
    "    print(\"reject the null\")"
   ]
  }
 ],
 "metadata": {
  "kernelspec": {
   "display_name": "Python 3 (ipykernel)",
   "language": "python",
   "name": "python3"
  },
  "language_info": {
   "codemirror_mode": {
    "name": "ipython",
    "version": 3
   },
   "file_extension": ".py",
   "mimetype": "text/x-python",
   "name": "python",
   "nbconvert_exporter": "python",
   "pygments_lexer": "ipython3",
   "version": "3.12.1"
  }
 },
 "nbformat": 4,
 "nbformat_minor": 5
}

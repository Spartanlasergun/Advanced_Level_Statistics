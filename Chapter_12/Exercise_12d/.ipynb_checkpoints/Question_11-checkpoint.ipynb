{
 "cells": [
  {
   "cell_type": "markdown",
   "id": "f24329e1-8b56-44ce-832b-808d11fef0fc",
   "metadata": {},
   "source": [
    "# Question 11\n",
    "-----"
   ]
  },
  {
   "cell_type": "markdown",
   "id": "a3ce50f9-218b-4565-b7c1-c32262db7c2b",
   "metadata": {},
   "source": [
    "a) \n",
    "$H_0$: grades are awarded in the same proportion\n",
    "\n",
    "$H_1$: grades are not awarded in the same proportion "
   ]
  },
  {
   "cell_type": "code",
   "execution_count": 1,
   "id": "f57491aa-4445-47cc-93c9-7de2060185a9",
   "metadata": {},
   "outputs": [
    {
     "name": "stdout",
     "output_type": "stream",
     "text": [
      "[30.0, 40.0, 70.0, 50.0, 10.0]\n"
     ]
    }
   ],
   "source": [
    "obsv = [33, 37, 81, 36, 13]\n",
    "total = sum(obsv)\n",
    "expt = [(total * 0.15), (total * 0.2), (total * 0.35), (total * 0.25), (total * 0.05)]\n",
    "print(expt)"
   ]
  },
  {
   "cell_type": "code",
   "execution_count": 2,
   "id": "b9931db2-610c-454c-9052-aad524921942",
   "metadata": {},
   "outputs": [],
   "source": [
    "import math\n",
    "from scipy.special import gamma\n",
    "from scipy.integrate import quad\n",
    "\n",
    "class chi:\n",
    "    def __init__(self, nu):\n",
    "        self.a = (nu / 2) - 1\n",
    "        self.b = nu / 2\n",
    "        self.c = gamma(nu / 2)\n",
    "\n",
    "    def chi_stat(self, observed, expected, yates=False):\n",
    "        count = len(observed) - 1\n",
    "        stats = []\n",
    "        correction = 0\n",
    "        if yates:\n",
    "            correction = 0.5\n",
    "        while count != -1:\n",
    "            OE = (observed[count] - expected[count])\n",
    "            mod = abs(OE) - correction\n",
    "            stat = (mod**2) / (expected[count])\n",
    "            stats.append(stat)\n",
    "            count = count - 1\n",
    "        result = sum(stats)\n",
    "        return result\n",
    "        \n",
    "    def chi_pdf(self, x):\n",
    "        return (pow(x, self.a) * math.exp((-1 * x) / 2)) / ((2**(self.b)) * self.c)\n",
    "\n",
    "    def integrate(self, upper_limit):\n",
    "        result, error = quad(self.chi_pdf, 0, upper_limit)\n",
    "        return result\n",
    "\n",
    "    def expected(self, observed):\n",
    "        row_totals = []\n",
    "        for item in observed:\n",
    "            total = sum(item)\n",
    "            row_totals.append(total)\n",
    "        rows = len(observed[0])\n",
    "        index = 0\n",
    "        column_totals = []\n",
    "        while index != rows:\n",
    "            total = 0\n",
    "            for item in observed:\n",
    "                total = total + item[index]\n",
    "            column_totals.append(total)\n",
    "            index = index + 1\n",
    "        expt = []\n",
    "        for r_val in row_totals:\n",
    "            for c_val in column_totals:\n",
    "                ex = c_val * r_val / (sum(row_totals))\n",
    "                expt.append(ex)\n",
    "        obsv = [num for sublist in observed for num in sublist]\n",
    "        return obsv, expt        "
   ]
  },
  {
   "cell_type": "code",
   "execution_count": 3,
   "id": "b014ff9e-ccf9-479a-9d6f-59f7f8319149",
   "metadata": {},
   "outputs": [
    {
     "name": "stdout",
     "output_type": "stream",
     "text": [
      "7.073571428571428\n",
      "0.8679489838959749\n",
      "do not reject the null\n"
     ]
    }
   ],
   "source": [
    "chisq = chi(4)\n",
    "stat = chisq.chi_stat(obsv, expt)\n",
    "print(stat)\n",
    "prob = chisq.integrate(stat)\n",
    "print(prob)\n",
    "if prob < 0.95:\n",
    "    print(\"do not reject the null\")\n",
    "else:\n",
    "    print(\"reject the null\")"
   ]
  },
  {
   "cell_type": "code",
   "execution_count": 4,
   "id": "3366cdd9-f368-42cf-95fd-fa7f3848b60e",
   "metadata": {},
   "outputs": [
    {
     "name": "stdout",
     "output_type": "stream",
     "text": [
      "critcal value = 13.27799999999808\n"
     ]
    }
   ],
   "source": [
    "chisq = chi(4)\n",
    "x = 0.001\n",
    "prob = 0\n",
    "while prob < 0.99:\n",
    "    prob = chisq.integrate(x)\n",
    "    x = x + 0.001\n",
    "print(\"critcal value = \" + str(x))"
   ]
  },
  {
   "cell_type": "markdown",
   "id": "53d5777e-97ff-4558-a69c-1c493a3f5e0b",
   "metadata": {},
   "source": [
    "b) The test statistic is in the critical region, hence there is an association between grade and gender"
   ]
  }
 ],
 "metadata": {
  "kernelspec": {
   "display_name": "Python 3 (ipykernel)",
   "language": "python",
   "name": "python3"
  },
  "language_info": {
   "codemirror_mode": {
    "name": "ipython",
    "version": 3
   },
   "file_extension": ".py",
   "mimetype": "text/x-python",
   "name": "python",
   "nbconvert_exporter": "python",
   "pygments_lexer": "ipython3",
   "version": "3.12.1"
  }
 },
 "nbformat": 4,
 "nbformat_minor": 5
}

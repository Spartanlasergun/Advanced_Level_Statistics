{
 "cells": [
  {
   "cell_type": "markdown",
   "id": "0254c800-602a-4895-8dd3-eef24fb5c2b0",
   "metadata": {},
   "source": [
    "# Question 16\n",
    "-----"
   ]
  },
  {
   "cell_type": "code",
   "execution_count": 1,
   "id": "bf884742-fb02-4a45-a550-60b0bd743de7",
   "metadata": {},
   "outputs": [
    {
     "name": "stdout",
     "output_type": "stream",
     "text": [
      "1.0\n"
     ]
    }
   ],
   "source": [
    "mean = (32 + 18 + 30 + 20) / (44 + 32 + 9 + 10 + 5)\n",
    "print(mean)"
   ]
  },
  {
   "cell_type": "code",
   "execution_count": 2,
   "id": "9f5b9e86-14d0-4735-8314-27effd46b6d8",
   "metadata": {},
   "outputs": [],
   "source": [
    "import math\n",
    "\n",
    "class poisson:\n",
    "    def __init__(self, lamb):\n",
    "        self.lamb = lamb\n",
    "\n",
    "    def prob(self, x):\n",
    "        pois = math.exp(-self.lamb) * (pow(self.lamb, x) / math.factorial(x))\n",
    "        return pois\n",
    "\n",
    "    def freq(self, event, sample):\n",
    "        freq = self.prob(event) * sample \n",
    "        freq = round(freq, 0)\n",
    "        return freq"
   ]
  },
  {
   "cell_type": "code",
   "execution_count": 3,
   "id": "481f6387-aef7-42ac-a57c-c9665f8a6968",
   "metadata": {},
   "outputs": [
    {
     "name": "stdout",
     "output_type": "stream",
     "text": [
      "[36.787944117144235, 36.787944117144235, 18.393972058572118, 6.131324019524039, 1.5328310048810097, 0.365984682734366]\n"
     ]
    }
   ],
   "source": [
    "pois_dist = poisson(mean)\n",
    "x = 0\n",
    "prob = []\n",
    "while x <= 4:\n",
    "    p_val = pois_dist.prob(x)\n",
    "    prob.append(p_val)\n",
    "    x = x + 1\n",
    "PXGE5 = 1 - sum(prob)\n",
    "prob.append(PXGE5)\n",
    "expt = []\n",
    "for item in prob:\n",
    "    ex = item * (44 + 32 + 9 + 10 + 5)\n",
    "    expt.append(ex)\n",
    "print(expt)"
   ]
  },
  {
   "cell_type": "code",
   "execution_count": 4,
   "id": "1e8427a6-4272-462e-b832-62d968347dd5",
   "metadata": {},
   "outputs": [],
   "source": [
    "obsv = [44, 32, 9, 15]\n",
    "expt = [36.79, 36.79, 18.39, (6.13 + 1.5 + 0.37)]"
   ]
  },
  {
   "cell_type": "code",
   "execution_count": 5,
   "id": "82a5a5f1-5ac3-4b9f-81c2-fcc9d8f32286",
   "metadata": {},
   "outputs": [],
   "source": [
    "import math\n",
    "from scipy.special import gamma\n",
    "from scipy.integrate import quad\n",
    "\n",
    "class chi:\n",
    "    def __init__(self, nu):\n",
    "        self.a = (nu / 2) - 1\n",
    "        self.b = nu / 2\n",
    "        self.c = gamma(nu / 2)\n",
    "\n",
    "    def chi_stat(self, observed, expected, yates=False):\n",
    "        count = len(observed) - 1\n",
    "        stats = []\n",
    "        correction = 0\n",
    "        if yates:\n",
    "            correction = 0.5\n",
    "        while count != -1:\n",
    "            OE = (observed[count] - expected[count])\n",
    "            mod = abs(OE) - correction\n",
    "            stat = (mod**2) / (expected[count])\n",
    "            stats.append(stat)\n",
    "            count = count - 1\n",
    "        result = sum(stats)\n",
    "        return result\n",
    "        \n",
    "    def chi_pdf(self, x):\n",
    "        return (pow(x, self.a) * math.exp((-1 * x) / 2)) / ((2**(self.b)) * self.c)\n",
    "\n",
    "    def integrate(self, upper_limit):\n",
    "        result, error = quad(self.chi_pdf, 0, upper_limit)\n",
    "        return result\n",
    "\n",
    "    def expected(self, observed):\n",
    "        row_totals = []\n",
    "        for item in observed:\n",
    "            total = sum(item)\n",
    "            row_totals.append(total)\n",
    "        rows = len(observed[0])\n",
    "        index = 0\n",
    "        column_totals = []\n",
    "        while index != rows:\n",
    "            total = 0\n",
    "            for item in observed:\n",
    "                total = total + item[index]\n",
    "            column_totals.append(total)\n",
    "            index = index + 1\n",
    "        expt = []\n",
    "        for r_val in row_totals:\n",
    "            for c_val in column_totals:\n",
    "                ex = c_val * r_val / (sum(row_totals))\n",
    "                expt.append(ex)\n",
    "        obsv = [num for sublist in observed for num in sublist]\n",
    "        return obsv, expt"
   ]
  },
  {
   "cell_type": "code",
   "execution_count": 6,
   "id": "080a0520-cf64-4391-a97d-42f0ba495eab",
   "metadata": {},
   "outputs": [
    {
     "name": "stdout",
     "output_type": "stream",
     "text": [
      "12.956213527507431\n",
      "0.9952677406127819\n",
      "reject the null\n"
     ]
    }
   ],
   "source": [
    "chisq = chi(3)\n",
    "stat = chisq.chi_stat(obsv, expt)\n",
    "print(stat)\n",
    "prob = chisq.integrate(stat)\n",
    "print(prob)\n",
    "if prob < 0.99:\n",
    "    print(\"do not reject the null\")\n",
    "else:\n",
    "    print(\"reject the null\")"
   ]
  },
  {
   "cell_type": "code",
   "execution_count": 7,
   "id": "ca477933-e282-4c67-b590-7dd5aafd0f5a",
   "metadata": {},
   "outputs": [
    {
     "name": "stdout",
     "output_type": "stream",
     "text": [
      "[26.25, 6.75, 8.75, 2.25]\n",
      "3.7714285714285714\n",
      "0.9478649122752951\n",
      "do not reject the null\n"
     ]
    }
   ],
   "source": [
    "observed = [[29, 4],\n",
    "            [6, 5]]\n",
    "chisq = chi(1)\n",
    "obsv, expt = chisq.expected(observed)\n",
    "print(expt)\n",
    "stat = chisq.chi_stat(obsv, expt, yates=True)\n",
    "print(stat)\n",
    "prob = chisq.integrate(stat)\n",
    "print(prob)\n",
    "if prob < 0.99:\n",
    "    print(\"do not reject the null\")\n",
    "else:\n",
    "    print(\"reject the null\")"
   ]
  }
 ],
 "metadata": {
  "kernelspec": {
   "display_name": "Python 3 (ipykernel)",
   "language": "python",
   "name": "python3"
  },
  "language_info": {
   "codemirror_mode": {
    "name": "ipython",
    "version": 3
   },
   "file_extension": ".py",
   "mimetype": "text/x-python",
   "name": "python",
   "nbconvert_exporter": "python",
   "pygments_lexer": "ipython3",
   "version": "3.12.1"
  }
 },
 "nbformat": 4,
 "nbformat_minor": 5
}

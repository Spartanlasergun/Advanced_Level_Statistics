{
 "cells": [
  {
   "cell_type": "markdown",
   "id": "ee668e93-011c-4317-852a-70381449cd81",
   "metadata": {},
   "source": [
    "# Question 2\n",
    "-----"
   ]
  },
  {
   "cell_type": "code",
   "execution_count": 1,
   "id": "89623211-1e08-411b-a42a-4bc33caad2c6",
   "metadata": {},
   "outputs": [],
   "source": [
    "import math\n",
    "from scipy.special import gamma\n",
    "from scipy.integrate import quad\n",
    "\n",
    "class chi:\n",
    "    def __init__(self, nu):\n",
    "        self.a = (nu / 2) - 1\n",
    "        self.b = nu / 2\n",
    "        self.c = gamma(nu / 2)\n",
    "\n",
    "    def chi_stat(self, observed, expected, yates=False):\n",
    "        count = len(observed) - 1\n",
    "        stats = []\n",
    "        correction = 0\n",
    "        if yates:\n",
    "            correction = 0.5\n",
    "        while count != -1:\n",
    "            OE = (observed[count] - expected[count])\n",
    "            mod = abs(OE) - correction\n",
    "            stat = (mod**2) / (expected[count])\n",
    "            stats.append(stat)\n",
    "            count = count - 1\n",
    "        result = sum(stats)\n",
    "        return result\n",
    "        \n",
    "    def chi_pdf(self, x):\n",
    "        return (pow(x, self.a) * math.exp((-1 * x) / 2)) / ((2**(self.b)) * self.c)\n",
    "\n",
    "    def integrate(self, upper_limit):\n",
    "        result, error = quad(self.chi_pdf, 0, upper_limit)\n",
    "        return result\n",
    "\n",
    "    def expected(self, observed):\n",
    "        row_totals = []\n",
    "        for item in observed:\n",
    "            total = sum(item)\n",
    "            row_totals.append(total)\n",
    "        rows = len(observed[0])\n",
    "        index = 0\n",
    "        column_totals = []\n",
    "        while index != rows:\n",
    "            total = 0\n",
    "            for item in observed:\n",
    "                total = total + item[index]\n",
    "            column_totals.append(total)\n",
    "            index = index + 1\n",
    "        expt = []\n",
    "        for r_val in row_totals:\n",
    "            for c_val in column_totals:\n",
    "                ex = c_val * r_val / (sum(row_totals))\n",
    "                expt.append(ex)\n",
    "        obsv = [num for sublist in observed for num in sublist]\n",
    "        return obsv, expt"
   ]
  },
  {
   "cell_type": "code",
   "execution_count": 2,
   "id": "e0c4160c-6cc8-4a9b-ba48-e5d716db7d6c",
   "metadata": {},
   "outputs": [
    {
     "name": "stdout",
     "output_type": "stream",
     "text": [
      "[16, 12, 10, 17, 6, 18, 16, 17, 10, 22, 14, 16]\n",
      "[14.5, 14.5, 14.5, 14.5, 14.5, 14.5, 14.5, 14.5, 14.5, 14.5, 14.5, 14.5]\n"
     ]
    }
   ],
   "source": [
    "obsv = [16, 12, 10, 17, 6, 18, 16, 17, 10, 22, 14, 16]\n",
    "total = sum(obsv)\n",
    "ex = total / 12\n",
    "expt = [ex, ex, ex, ex, ex, ex, ex, ex, ex, ex, ex, ex]\n",
    "print(obsv)\n",
    "print(expt)"
   ]
  },
  {
   "cell_type": "code",
   "execution_count": 3,
   "id": "e51f1e9b-c334-431f-acd2-27e1eda15797",
   "metadata": {},
   "outputs": [
    {
     "name": "stdout",
     "output_type": "stream",
     "text": [
      "14.275862068965518\n",
      "0.7818969907147749\n",
      "do not reject the null\n"
     ]
    }
   ],
   "source": [
    "chisq = chi(11)\n",
    "stat = chisq.chi_stat(obsv, expt)\n",
    "print(stat)\n",
    "prob = chisq.integrate(stat)\n",
    "print(prob)\n",
    "if prob < 0.95:\n",
    "    print(\"do not reject the null\")\n",
    "else:\n",
    "    print(\"reject the null\")"
   ]
  }
 ],
 "metadata": {
  "kernelspec": {
   "display_name": "Python 3 (ipykernel)",
   "language": "python",
   "name": "python3"
  },
  "language_info": {
   "codemirror_mode": {
    "name": "ipython",
    "version": 3
   },
   "file_extension": ".py",
   "mimetype": "text/x-python",
   "name": "python",
   "nbconvert_exporter": "python",
   "pygments_lexer": "ipython3",
   "version": "3.12.1"
  }
 },
 "nbformat": 4,
 "nbformat_minor": 5
}

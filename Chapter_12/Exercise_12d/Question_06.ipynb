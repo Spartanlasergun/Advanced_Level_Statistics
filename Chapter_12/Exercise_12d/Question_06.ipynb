{
 "cells": [
  {
   "cell_type": "markdown",
   "id": "13aaea6e-cf30-4f47-9474-b1e12330a011",
   "metadata": {},
   "source": [
    "# Question 6\n",
    "-----"
   ]
  },
  {
   "cell_type": "code",
   "execution_count": 1,
   "id": "a3ee618d-1467-4053-919d-e4599b3a10fa",
   "metadata": {},
   "outputs": [],
   "source": [
    "import math\n",
    "from scipy.special import gamma\n",
    "from scipy.integrate import quad\n",
    "\n",
    "class chi:\n",
    "    def __init__(self, nu):\n",
    "        self.a = (nu / 2) - 1\n",
    "        self.b = nu / 2\n",
    "        self.c = gamma(nu / 2)\n",
    "\n",
    "    def chi_stat(self, observed, expected, yates=False):\n",
    "        count = len(observed) - 1\n",
    "        stats = []\n",
    "        correction = 0\n",
    "        if yates:\n",
    "            correction = 0.5\n",
    "        while count != -1:\n",
    "            OE = (observed[count] - expected[count])\n",
    "            mod = abs(OE) - correction\n",
    "            stat = (mod**2) / (expected[count])\n",
    "            stats.append(stat)\n",
    "            count = count - 1\n",
    "        result = sum(stats)\n",
    "        return result\n",
    "        \n",
    "    def chi_pdf(self, x):\n",
    "        return (pow(x, self.a) * math.exp((-1 * x) / 2)) / ((2**(self.b)) * self.c)\n",
    "\n",
    "    def integrate(self, upper_limit):\n",
    "        result, error = quad(self.chi_pdf, 0, upper_limit)\n",
    "        return result\n",
    "\n",
    "    def expected(self, observed):\n",
    "        row_totals = []\n",
    "        for item in observed:\n",
    "            total = sum(item)\n",
    "            row_totals.append(total)\n",
    "        rows = len(observed[0])\n",
    "        index = 0\n",
    "        column_totals = []\n",
    "        while index != rows:\n",
    "            total = 0\n",
    "            for item in observed:\n",
    "                total = total + item[index]\n",
    "            column_totals.append(total)\n",
    "            index = index + 1\n",
    "        expt = []\n",
    "        for r_val in row_totals:\n",
    "            for c_val in column_totals:\n",
    "                ex = c_val * r_val / (sum(row_totals))\n",
    "                expt.append(ex)\n",
    "        obsv = [num for sublist in observed for num in sublist]\n",
    "        return obsv, expt  "
   ]
  },
  {
   "cell_type": "code",
   "execution_count": 2,
   "id": "97e8c2b5-8854-4e98-892a-f7cdf5809bc3",
   "metadata": {},
   "outputs": [
    {
     "name": "stdout",
     "output_type": "stream",
     "text": [
      "critical value = 16.812999999997565\n"
     ]
    }
   ],
   "source": [
    "chisq = chi(6)\n",
    "x = 0\n",
    "prob = 0\n",
    "while prob < 0.99:\n",
    "    prob = chisq.integrate(x)\n",
    "    x = x + 0.001\n",
    "print(\"critical value = \" + str(x))"
   ]
  },
  {
   "cell_type": "markdown",
   "id": "183269cf-1dad-4103-991c-a6684c32dfad",
   "metadata": {},
   "source": [
    "$$H_0: a normal fit is good$$\n",
    "\n",
    "the test statistic is not in the critical region, hence the null hypothesis is not rejected"
   ]
  },
  {
   "cell_type": "markdown",
   "id": "073db183-aaa8-4cee-9ada-4f3d4370eabd",
   "metadata": {},
   "source": [
    "b) combine classes with values less than 5"
   ]
  }
 ],
 "metadata": {
  "kernelspec": {
   "display_name": "Python 3 (ipykernel)",
   "language": "python",
   "name": "python3"
  },
  "language_info": {
   "codemirror_mode": {
    "name": "ipython",
    "version": 3
   },
   "file_extension": ".py",
   "mimetype": "text/x-python",
   "name": "python",
   "nbconvert_exporter": "python",
   "pygments_lexer": "ipython3",
   "version": "3.12.1"
  }
 },
 "nbformat": 4,
 "nbformat_minor": 5
}

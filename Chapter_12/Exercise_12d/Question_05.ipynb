{
 "cells": [
  {
   "cell_type": "markdown",
   "id": "bdda8db8-6b50-4b27-958d-59afeb6b0db6",
   "metadata": {},
   "source": [
    "# Question 5\n",
    "-----"
   ]
  },
  {
   "cell_type": "code",
   "execution_count": 1,
   "id": "d9e4d9ee-af01-411b-aeda-65385b04358c",
   "metadata": {},
   "outputs": [],
   "source": [
    "import math\n",
    "from scipy.special import gamma\n",
    "from scipy.integrate import quad\n",
    "\n",
    "class chi:\n",
    "    def __init__(self, nu):\n",
    "        self.a = (nu / 2) - 1\n",
    "        self.b = nu / 2\n",
    "        self.c = gamma(nu / 2)\n",
    "\n",
    "    def chi_stat(self, observed, expected, yates=False):\n",
    "        count = len(observed) - 1\n",
    "        stats = []\n",
    "        correction = 0\n",
    "        if yates:\n",
    "            correction = 0.5\n",
    "        while count != -1:\n",
    "            OE = (observed[count] - expected[count])\n",
    "            mod = abs(OE) - correction\n",
    "            stat = (mod**2) / (expected[count])\n",
    "            stats.append(stat)\n",
    "            count = count - 1\n",
    "        result = sum(stats)\n",
    "        return result\n",
    "        \n",
    "    def chi_pdf(self, x):\n",
    "        return (pow(x, self.a) * math.exp((-1 * x) / 2)) / ((2**(self.b)) * self.c)\n",
    "\n",
    "    def integrate(self, upper_limit):\n",
    "        result, error = quad(self.chi_pdf, 0, upper_limit)\n",
    "        return result\n",
    "\n",
    "    def expected(self, observed):\n",
    "        row_totals = []\n",
    "        for item in observed:\n",
    "            total = sum(item)\n",
    "            row_totals.append(total)\n",
    "        rows = len(observed[0])\n",
    "        index = 0\n",
    "        column_totals = []\n",
    "        while index != rows:\n",
    "            total = 0\n",
    "            for item in observed:\n",
    "                total = total + item[index]\n",
    "            column_totals.append(total)\n",
    "            index = index + 1\n",
    "        expt = []\n",
    "        for r_val in row_totals:\n",
    "            for c_val in column_totals:\n",
    "                ex = c_val * r_val / (sum(row_totals))\n",
    "                expt.append(ex)\n",
    "        obsv = [num for sublist in observed for num in sublist]\n",
    "        return obsv, expt     "
   ]
  },
  {
   "cell_type": "markdown",
   "id": "9e77a01e-2ac4-4bc1-b2ab-d4c77f7a79e0",
   "metadata": {},
   "source": [
    "$$H_0: no \\ \\ association$$\n",
    "\n",
    "$$H_1: association$$"
   ]
  },
  {
   "cell_type": "code",
   "execution_count": 2,
   "id": "80ca8ac1-d7ec-4b3e-b515-bff20b916679",
   "metadata": {},
   "outputs": [
    {
     "name": "stdout",
     "output_type": "stream",
     "text": [
      "7.810714285714286\n",
      "0.9012367039273667\n",
      "do not reject the null\n"
     ]
    }
   ],
   "source": [
    "observed = [[12, 15, 3],\n",
    "            [8, 8, 8],\n",
    "            [5, 7, 9]]\n",
    "chisq = chi(4)\n",
    "obsv, expt = chisq.expected(observed)\n",
    "stat = chisq.chi_stat(obsv, expt)\n",
    "print(stat)\n",
    "prob = chisq.integrate(stat)\n",
    "print(prob)\n",
    "if prob < 0.95:\n",
    "    print(\"do not reject the null\")\n",
    "else:\n",
    "    print(\"reject the null\")"
   ]
  },
  {
   "cell_type": "code",
   "execution_count": 3,
   "id": "4e3479f4-cf7c-41b7-8ed3-b705d4d21918",
   "metadata": {},
   "outputs": [
    {
     "name": "stdout",
     "output_type": "stream",
     "text": [
      "critical value = 5.993000000000336\n"
     ]
    }
   ],
   "source": [
    "chisq = chi(2)\n",
    "x = 0\n",
    "prob = 0\n",
    "while prob < 0.95:\n",
    "    prob = chisq.integrate(x)\n",
    "    x = x + 0.001\n",
    "print(\"critical value = \" + str(x))"
   ]
  },
  {
   "cell_type": "markdown",
   "id": "fc6615c0-f019-4229-a084-f7513065bbd0",
   "metadata": {},
   "source": [
    "The test statistic - $7.622$ - is in the critical region, hence their is association.\n",
    "\n",
    "c) use Quickgrow for higher yield"
   ]
  }
 ],
 "metadata": {
  "kernelspec": {
   "display_name": "Python 3 (ipykernel)",
   "language": "python",
   "name": "python3"
  },
  "language_info": {
   "codemirror_mode": {
    "name": "ipython",
    "version": 3
   },
   "file_extension": ".py",
   "mimetype": "text/x-python",
   "name": "python",
   "nbconvert_exporter": "python",
   "pygments_lexer": "ipython3",
   "version": "3.12.1"
  }
 },
 "nbformat": 4,
 "nbformat_minor": 5
}

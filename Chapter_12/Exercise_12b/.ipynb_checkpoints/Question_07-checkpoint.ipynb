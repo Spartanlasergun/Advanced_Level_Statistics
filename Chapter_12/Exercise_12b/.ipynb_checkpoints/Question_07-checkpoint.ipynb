{
 "cells": [
  {
   "cell_type": "markdown",
   "id": "82bb164b-1a3e-4976-a6c8-aa9ece44b38a",
   "metadata": {},
   "source": [
    "# Question 7\n",
    "-----"
   ]
  },
  {
   "cell_type": "code",
   "execution_count": 1,
   "id": "8009d1a2-d2a0-44ae-afae-fc3c8856b5c1",
   "metadata": {},
   "outputs": [
    {
     "name": "stdout",
     "output_type": "stream",
     "text": [
      "0.35\n"
     ]
    }
   ],
   "source": [
    "freq = [2, 2, 5, 7, 17, 8, 6, 1, 2]\n",
    "p = (6 + 8 + 25 + 42 + (17 * 7) + 64 + 54 + 10 + 22) / (20 * sum(freq))\n",
    "print(p)"
   ]
  },
  {
   "cell_type": "code",
   "execution_count": 2,
   "id": "a48e8198-5835-4d6c-8f2b-fe819e671b48",
   "metadata": {},
   "outputs": [],
   "source": [
    "import math\n",
    "\n",
    "class bino:\n",
    "    def __init__(self, n, p, q):\n",
    "        self.n = n\n",
    "        self.p = p\n",
    "        self.q = q\n",
    "        self.frequencies = []\n",
    "\n",
    "    def prob(self, r):\n",
    "        self.funk = ((math.factorial(self.n)) / (math.factorial(r) * math.factorial(((self.n)-r)))) * pow((self.q), ((self.n)-r)) * pow((self.p), r)\n",
    "        return self.funk\n",
    "\n",
    "    def freq(self, event, r):\n",
    "        event_prob = self.prob(r)\n",
    "        frequency = event_prob * event\n",
    "        frequency = round(frequency, 0)\n",
    "        return frequency"
   ]
  },
  {
   "cell_type": "code",
   "execution_count": 3,
   "id": "f8192e83-cd4b-43a3-87ae-68a49a9f321e",
   "metadata": {},
   "outputs": [
    {
     "name": "stdout",
     "output_type": "stream",
     "text": [
      "b) 0.16135103808593984\n"
     ]
    }
   ],
   "source": [
    "q = 1 - p\n",
    "n = 20\n",
    "bin_dist = bino(n, p, q)\n",
    "PXE8 = bin_dist.prob(8)\n",
    "print(\"b) \" + str(PXE8))"
   ]
  },
  {
   "cell_type": "code",
   "execution_count": 4,
   "id": "3a465fb9-0755-4099-ac53-e4c130fde056",
   "metadata": {},
   "outputs": [
    {
     "name": "stdout",
     "output_type": "stream",
     "text": [
      "P(X <= 5) = 0.24539574514843926\n"
     ]
    }
   ],
   "source": [
    "PXE0 = bin_dist.prob(0)\n",
    "PXE1 = bin_dist.prob(1)\n",
    "PXE2 = bin_dist.prob(2)\n",
    "PXE3 = bin_dist.prob(3)\n",
    "PXE4 = bin_dist.prob(4)\n",
    "PXE5 = bin_dist.prob(5)\n",
    "PXLE5 = PXE0 + PXE1 + PXE2 + PXE3 + PXE4 + PXE5\n",
    "print(\"P(X <= 5) = \" + str(PXLE5))"
   ]
  },
  {
   "cell_type": "code",
   "execution_count": 5,
   "id": "ef61682d-1712-4661-b764-aa2033c3f3ee",
   "metadata": {},
   "outputs": [
    {
     "name": "stdout",
     "output_type": "stream",
     "text": [
      "c) 12.269787257421964\n"
     ]
    }
   ],
   "source": [
    "ex = PXLE5 * (sum(freq))\n",
    "print(\"c) \" + str(ex))"
   ]
  },
  {
   "cell_type": "code",
   "execution_count": 6,
   "id": "d7d971b6-80c1-47b1-96b9-7c5933b12278",
   "metadata": {},
   "outputs": [
    {
     "name": "stdout",
     "output_type": "stream",
     "text": [
      "[8.561483653539668, 9.220059319196563, 8.067551904296993]\n"
     ]
    }
   ],
   "source": [
    "x = 0\n",
    "prob = []\n",
    "while x <= 20:\n",
    "    p_val = bin_dist.prob(x)\n",
    "    prob.append(p_val)\n",
    "    x = x + 1\n",
    "expt = []\n",
    "for item in prob:\n",
    "    ex = item * (sum(freq))\n",
    "    expt.append(ex)\n",
    "LE5 = sum(expt[0:6])\n",
    "GE9 = sum(expt[9:])\n",
    "print(expt[6:9])"
   ]
  },
  {
   "cell_type": "code",
   "execution_count": 7,
   "id": "90a8804b-2a0c-4b60-b7b5-564e7cf2f11f",
   "metadata": {},
   "outputs": [
    {
     "name": "stdout",
     "output_type": "stream",
     "text": [
      "[12.269787257421962, 8.56, 9.22, 8.06, 11.881117865544814]\n"
     ]
    }
   ],
   "source": [
    "expt = [LE5, 8.56, 9.22, 8.06, GE9]\n",
    "print(expt)"
   ]
  },
  {
   "cell_type": "code",
   "execution_count": 8,
   "id": "8cec6046-b317-4776-ae58-c388ae4ccb06",
   "metadata": {},
   "outputs": [
    {
     "name": "stdout",
     "output_type": "stream",
     "text": [
      "[9, 7, 17, 8, 9]\n"
     ]
    }
   ],
   "source": [
    "obsv = [9, 7, 17, 8, 9]\n",
    "print(obsv)"
   ]
  },
  {
   "cell_type": "code",
   "execution_count": 9,
   "id": "0a053f47-8811-448f-b0c4-0149be4a619a",
   "metadata": {},
   "outputs": [],
   "source": [
    "import math\n",
    "from scipy.special import gamma\n",
    "from scipy.integrate import quad\n",
    "\n",
    "class chi:\n",
    "    def __init__(self, nu):\n",
    "        self.a = (nu / 2) - 1\n",
    "        self.b = nu / 2\n",
    "        self.c = gamma(nu / 2)\n",
    "\n",
    "    def chi_stat(self, observed, expected):\n",
    "        count = len(observed) - 1\n",
    "        stats = []\n",
    "        while count != -1:\n",
    "            stat = ((observed[count] - expected[count])**2) / (expected[count])\n",
    "            stats.append(stat)\n",
    "            count = count - 1\n",
    "        result = sum(stats)\n",
    "        return result\n",
    "        \n",
    "    def chi_pdf(self, x):\n",
    "        return (pow(x, self.a) * math.exp((-1 * x) / 2)) / ((2**(self.b)) * self.c)\n",
    "\n",
    "    def integrate(self, upper_limit):\n",
    "        result, error = quad(self.chi_pdf, 0, upper_limit)\n",
    "        return result"
   ]
  },
  {
   "cell_type": "code",
   "execution_count": 10,
   "id": "1929baca-0e4b-46b5-8735-29ea13454d7d",
   "metadata": {},
   "outputs": [
    {
     "name": "stdout",
     "output_type": "stream",
     "text": [
      "8.419674990376159\n",
      "0.018072916857070107\n"
     ]
    }
   ],
   "source": [
    "chisq = chi(19)\n",
    "stat = chisq.chi_stat(obsv, expt)\n",
    "print(stat)\n",
    "prob = chisq.integrate(stat)\n",
    "print(prob)"
   ]
  },
  {
   "cell_type": "code",
   "execution_count": 11,
   "id": "03ae48b9-8db8-4b5b-ab36-f84e1fc4cbdb",
   "metadata": {},
   "outputs": [
    {
     "name": "stdout",
     "output_type": "stream",
     "text": [
      "do not reject the null\n"
     ]
    }
   ],
   "source": [
    "if prob < 0.95:\n",
    "    print(\"do not reject the null\")\n",
    "else:\n",
    "    print(\"reject the null\")"
   ]
  }
 ],
 "metadata": {
  "kernelspec": {
   "display_name": "Python 3 (ipykernel)",
   "language": "python",
   "name": "python3"
  },
  "language_info": {
   "codemirror_mode": {
    "name": "ipython",
    "version": 3
   },
   "file_extension": ".py",
   "mimetype": "text/x-python",
   "name": "python",
   "nbconvert_exporter": "python",
   "pygments_lexer": "ipython3",
   "version": "3.12.1"
  }
 },
 "nbformat": 4,
 "nbformat_minor": 5
}

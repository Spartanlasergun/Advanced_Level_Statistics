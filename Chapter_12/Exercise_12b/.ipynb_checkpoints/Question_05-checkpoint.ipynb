{
 "cells": [
  {
   "cell_type": "markdown",
   "id": "025d1cd6-9d23-4750-b27b-89f29fcdb8ec",
   "metadata": {},
   "source": [
    "# Question 5\n",
    "-----"
   ]
  },
  {
   "cell_type": "code",
   "execution_count": 1,
   "id": "1517740f-4d11-4f68-b206-658b44703186",
   "metadata": {},
   "outputs": [],
   "source": [
    "import math\n",
    "\n",
    "class bino:\n",
    "    def __init__(self, n, p, q):\n",
    "        self.n = n\n",
    "        self.p = p\n",
    "        self.q = q\n",
    "        self.frequencies = []\n",
    "\n",
    "    def prob(self, r):\n",
    "        self.funk = ((math.factorial(self.n)) / (math.factorial(r) * math.factorial(((self.n)-r)))) * pow((self.q), ((self.n)-r)) * pow((self.p), r)\n",
    "        return self.funk\n",
    "\n",
    "    def freq(self, event, r):\n",
    "        event_prob = self.prob(r)\n",
    "        frequency = event_prob * event\n",
    "        frequency = round(frequency, 0)\n",
    "        return frequency"
   ]
  },
  {
   "cell_type": "code",
   "execution_count": 2,
   "id": "a090aab8-b0cd-4315-8f06-6caf0ec1f33a",
   "metadata": {},
   "outputs": [
    {
     "name": "stdout",
     "output_type": "stream",
     "text": [
      "[8, 19, 25, 22, 5, 1]\n",
      "[6.220799999999999, 20.735999999999997, 27.648000000000003, 18.432000000000002, 6.144, 0.8192000000000002]\n"
     ]
    }
   ],
   "source": [
    "p = 0.4#(19 + 25 + 22 + 5 + 1) / 80\n",
    "q = 1 - p\n",
    "n = 5\n",
    "bin_dist = bino(n, p, q)\n",
    "x = 0\n",
    "prob = []\n",
    "while x <= 5:\n",
    "    p_val = bin_dist.prob(x)\n",
    "    prob.append(p_val)\n",
    "    x = x + 1\n",
    "expt = []\n",
    "for item in prob:\n",
    "    ex = item * 80\n",
    "    expt.append(ex)\n",
    "freq = [8, 19, 25, 22, 5, 1]\n",
    "print(freq)\n",
    "print(expt)"
   ]
  },
  {
   "cell_type": "code",
   "execution_count": 3,
   "id": "8833ad8a-72c0-4fce-b85a-1e3fb8f51d31",
   "metadata": {},
   "outputs": [
    {
     "name": "stdout",
     "output_type": "stream",
     "text": [
      "13.333333333333334\n",
      "13.333333333333334\n"
     ]
    }
   ],
   "source": [
    "import statistics\n",
    "m_1 = statistics.mean(freq)\n",
    "m_2 = statistics.mean(expt)\n",
    "print(m_1)\n",
    "print(m_2)"
   ]
  },
  {
   "cell_type": "code",
   "execution_count": 4,
   "id": "b00ac150-f419-4ad0-8246-f49a7cde534e",
   "metadata": {},
   "outputs": [],
   "source": [
    "obsv = [8, 19, 25, 22, (5 + 1)]\n",
    "expt = [6.22, 20.74, 27.65, 18.43, (6.144 + 0.819)]"
   ]
  },
  {
   "cell_type": "code",
   "execution_count": 5,
   "id": "c58ec73a-1370-4838-ae30-cf04163f0825",
   "metadata": {},
   "outputs": [],
   "source": [
    "import math\n",
    "from scipy.special import gamma\n",
    "from scipy.integrate import quad\n",
    "\n",
    "class chi:\n",
    "    def __init__(self, nu):\n",
    "        self.a = (nu / 2) - 1\n",
    "        self.b = nu / 2\n",
    "        self.c = gamma(nu / 2)\n",
    "\n",
    "    def chi_stat(self, observed, expected):\n",
    "        count = len(observed) - 1\n",
    "        stats = []\n",
    "        while count != -1:\n",
    "            stat = ((observed[count] - expected[count])**2) / (expected[count])\n",
    "            stats.append(stat)\n",
    "            count = count - 1\n",
    "        result = sum(stats)\n",
    "        return result\n",
    "        \n",
    "    def chi_pdf(self, x):\n",
    "        return (pow(x, self.a) * math.exp((-1 * x) / 2)) / ((2**(self.b)) * self.c)\n",
    "\n",
    "    def integrate(self, upper_limit):\n",
    "        result, error = quad(self.chi_pdf, 0, upper_limit)\n",
    "        return result"
   ]
  },
  {
   "cell_type": "code",
   "execution_count": 6,
   "id": "86c66857-e29c-4a32-ad1c-17dec2ee6e7a",
   "metadata": {},
   "outputs": [
    {
     "name": "stdout",
     "output_type": "stream",
     "text": [
      "1.7340615315782033\n",
      "0.11541904806904965\n",
      "do not reject the null\n"
     ]
    }
   ],
   "source": [
    "chisq = chi(5)\n",
    "stat = chisq.chi_stat(obsv, expt)\n",
    "print(stat)\n",
    "prob = chisq.integrate(stat)\n",
    "print(prob)\n",
    "if prob < 0.9:\n",
    "    print(\"do not reject the null\")\n",
    "else:\n",
    "    print(\"reject the null\")"
   ]
  },
  {
   "cell_type": "markdown",
   "id": "ab53183a-405f-434a-b657-9a9747749fae",
   "metadata": {},
   "source": [
    "c) Yes, the odds are fixed correctly"
   ]
  }
 ],
 "metadata": {
  "kernelspec": {
   "display_name": "Python 3 (ipykernel)",
   "language": "python",
   "name": "python3"
  },
  "language_info": {
   "codemirror_mode": {
    "name": "ipython",
    "version": 3
   },
   "file_extension": ".py",
   "mimetype": "text/x-python",
   "name": "python",
   "nbconvert_exporter": "python",
   "pygments_lexer": "ipython3",
   "version": "3.12.1"
  }
 },
 "nbformat": 4,
 "nbformat_minor": 5
}

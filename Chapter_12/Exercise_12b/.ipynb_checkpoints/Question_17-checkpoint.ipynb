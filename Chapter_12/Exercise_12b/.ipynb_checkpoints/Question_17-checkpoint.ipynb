{
 "cells": [
  {
   "cell_type": "markdown",
   "id": "83edbf2f-aca1-4ce1-936e-926a4ff1f81c",
   "metadata": {},
   "source": [
    "# Question 17\n",
    "-----"
   ]
  },
  {
   "cell_type": "code",
   "execution_count": 1,
   "id": "683e0a30-8c11-4048-9855-fc2ffcc26bc9",
   "metadata": {},
   "outputs": [
    {
     "name": "stdout",
     "output_type": "stream",
     "text": [
      "mean = 1.732\n",
      "sigma = 0.2161242175679413\n"
     ]
    }
   ],
   "source": [
    "import statistics\n",
    "x = [1.3, 1.5, 1.7, 1.9, 2.1]\n",
    "freq = [6, 34, 31, 42, 12]\n",
    "raw_data = []\n",
    "index = 0\n",
    "for item in freq:\n",
    "    count = item\n",
    "    while count != 0:\n",
    "        raw_data.append(x[index])\n",
    "        count = count - 1\n",
    "    index = index + 1\n",
    "mean = statistics.mean(raw_data)\n",
    "sigma = statistics.stdev(raw_data)\n",
    "print(\"mean = \" + str(mean))\n",
    "print(\"sigma = \" + str(sigma))"
   ]
  },
  {
   "cell_type": "code",
   "execution_count": 2,
   "id": "3dddec26-c67f-453e-bbc1-e9a58d2543f9",
   "metadata": {},
   "outputs": [],
   "source": [
    "from scipy.integrate import quad\n",
    "import math\n",
    "\n",
    "class normal:\n",
    "    def __init__(self, u, sigma):\n",
    "        self.u = u\n",
    "        self.sigma = sigma\n",
    "        self.root2pi = math.sqrt((2 * math.pi)) \n",
    "    \n",
    "    def normal_func(self, x):\n",
    "        return (1 / (self.sigma * self.root2pi)) * math.exp((-1 * pow((x - self.u), 2)) / (2 * pow(self.sigma, 2)))\n",
    "\n",
    "    def integrate(self, lower_limit, upper_limit):\n",
    "        result, error = quad(self.normal_func, lower_limit, upper_limit)\n",
    "        \n",
    "        return result\n",
    "\n",
    "    def locate(self, area):\n",
    "        fx = 0\n",
    "        x = -6\n",
    "        while fx < area:\n",
    "            fx = self.integrate(-6, x)\n",
    "            x = x + 0.00001\n",
    "            \n",
    "        return x"
   ]
  },
  {
   "cell_type": "code",
   "execution_count": 3,
   "id": "e8ea5319-453e-4399-8610-91c168a9091e",
   "metadata": {},
   "outputs": [
    {
     "name": "stdout",
     "output_type": "stream",
     "text": [
      "[6.916674651944948, 26.053615870887064, 44.10011142440027, 33.62965495179541, 11.538109136528773]\n"
     ]
    }
   ],
   "source": [
    "dist = normal(mean, sigma)\n",
    "p1 = dist.integrate(1.2, 1.4)\n",
    "p2 = dist.integrate(1.4, 1.6)\n",
    "p3 = dist.integrate(1.6, 1.8)\n",
    "p4 = dist.integrate(1.8, 2.0)\n",
    "p5 = dist.integrate(2.0, 2.2)\n",
    "prob = [p1, p2, p3, p4, p5]\n",
    "expt = []\n",
    "for item in prob:\n",
    "    ex = item * 125\n",
    "    expt.append(ex)\n",
    "print(expt)"
   ]
  },
  {
   "cell_type": "code",
   "execution_count": 4,
   "id": "819f96c6-1ade-42cf-9208-e9615eae2cc6",
   "metadata": {},
   "outputs": [],
   "source": [
    "obsv = [6, 34, 31, 42, 12]"
   ]
  },
  {
   "cell_type": "code",
   "execution_count": 5,
   "id": "92a7e552-9b57-40e1-a33b-93b33a192d83",
   "metadata": {},
   "outputs": [],
   "source": [
    "import math\n",
    "from scipy.special import gamma\n",
    "from scipy.integrate import quad\n",
    "\n",
    "class chi:\n",
    "    def __init__(self, nu):\n",
    "        self.a = (nu / 2) - 1\n",
    "        self.b = nu / 2\n",
    "        self.c = gamma(nu / 2)\n",
    "\n",
    "    def chi_stat(self, observed, expected):\n",
    "        count = len(observed) - 1\n",
    "        stats = []\n",
    "        while count != -1:\n",
    "            stat = ((observed[count] - expected[count])**2) / (expected[count])\n",
    "            stats.append(stat)\n",
    "            count = count - 1\n",
    "        result = sum(stats)\n",
    "        return result\n",
    "        \n",
    "    def chi_pdf(self, x):\n",
    "        return (pow(x, self.a) * math.exp((-1 * x) / 2)) / ((2**(self.b)) * self.c)\n",
    "\n",
    "    def integrate(self, upper_limit):\n",
    "        result, error = quad(self.chi_pdf, 0, upper_limit)\n",
    "        return result"
   ]
  },
  {
   "cell_type": "code",
   "execution_count": 6,
   "id": "50422c93-947b-4436-bafe-b402e37bb4be",
   "metadata": {},
   "outputs": [
    {
     "name": "stdout",
     "output_type": "stream",
     "text": [
      "8.538434463359483\n",
      "0.9262692557704967\n",
      "do not reject the null\n"
     ]
    }
   ],
   "source": [
    "chisq = chi(4)\n",
    "stat = chisq.chi_stat(obsv, expt)\n",
    "print(stat)\n",
    "prob = chisq.integrate(stat)\n",
    "print(prob)\n",
    "if prob < 0.95:\n",
    "    print(\"do not reject the null\")\n",
    "else:\n",
    "    print(\"reject the null\")"
   ]
  },
  {
   "cell_type": "code",
   "execution_count": 7,
   "id": "7dcb1276-9a35-4556-9232-92d186306c7e",
   "metadata": {},
   "outputs": [
    {
     "name": "stdout",
     "output_type": "stream",
     "text": [
      "[6, 34, 31, 42, 12]\n",
      "[6.916674651944948, 26.053615870887064, 44.10011142440027, 33.62965495179541, 11.538109136528773]\n"
     ]
    }
   ],
   "source": [
    "print(obsv)\n",
    "print(expt)"
   ]
  },
  {
   "cell_type": "code",
   "execution_count": 8,
   "id": "998c4b97-ca87-410e-9be4-49594468e12d",
   "metadata": {},
   "outputs": [],
   "source": [
    "obsv = [6, (34 + 31), 42, 12]\n",
    "expt = [6.92, (26.05 + 44.1), 33.63, 11.5]"
   ]
  },
  {
   "cell_type": "code",
   "execution_count": 9,
   "id": "96a9807c-e208-4283-aafc-0ed0c51b2224",
   "metadata": {},
   "outputs": [
    {
     "name": "stdout",
     "output_type": "stream",
     "text": [
      "2.605300764478039\n",
      "0.37411559572073944\n",
      "do not reject the null\n"
     ]
    }
   ],
   "source": [
    "chisq = chi(4)\n",
    "stat = chisq.chi_stat(obsv, expt)\n",
    "print(stat)\n",
    "prob = chisq.integrate(stat)\n",
    "print(prob)\n",
    "if prob < 0.95:\n",
    "    print(\"do not reject the null\")\n",
    "else:\n",
    "    print(\"reject the null\")"
   ]
  }
 ],
 "metadata": {
  "kernelspec": {
   "display_name": "Python 3 (ipykernel)",
   "language": "python",
   "name": "python3"
  },
  "language_info": {
   "codemirror_mode": {
    "name": "ipython",
    "version": 3
   },
   "file_extension": ".py",
   "mimetype": "text/x-python",
   "name": "python",
   "nbconvert_exporter": "python",
   "pygments_lexer": "ipython3",
   "version": "3.12.1"
  }
 },
 "nbformat": 4,
 "nbformat_minor": 5
}

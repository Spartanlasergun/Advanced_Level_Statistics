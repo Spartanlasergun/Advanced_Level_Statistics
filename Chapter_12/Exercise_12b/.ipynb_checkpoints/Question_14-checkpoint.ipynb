{
 "cells": [
  {
   "cell_type": "markdown",
   "id": "db69cd85-9b42-4cf3-96e3-0a8a491db1f9",
   "metadata": {},
   "source": [
    "# Question 14\n",
    "-----"
   ]
  },
  {
   "cell_type": "code",
   "execution_count": 1,
   "id": "5fa31533-6dc4-4653-bd38-96d378a52aa1",
   "metadata": {},
   "outputs": [
    {
     "name": "stdout",
     "output_type": "stream",
     "text": [
      "1.7\n"
     ]
    }
   ],
   "source": [
    "mean = (14 + 26 + (3.5 * 8)) / (5 + 14 + 13 + 8)\n",
    "print(mean)"
   ]
  },
  {
   "cell_type": "code",
   "execution_count": 2,
   "id": "faff636d-f947-4acb-8f0c-e08049875123",
   "metadata": {},
   "outputs": [],
   "source": [
    "import math\n",
    "\n",
    "class poisson:\n",
    "    def __init__(self, lamb):\n",
    "        self.lamb = lamb\n",
    "\n",
    "    def prob(self, x):\n",
    "        pois = math.exp(-self.lamb) * (pow(self.lamb, x) / math.factorial(x))\n",
    "        return pois\n",
    "\n",
    "    def freq(self, event, sample):\n",
    "        freq = self.prob(event) * sample \n",
    "        freq = round(freq, 0)\n",
    "        return freq"
   ]
  },
  {
   "cell_type": "code",
   "execution_count": 3,
   "id": "7be019e6-aaf4-4d40-8968-fdf5608b14aa",
   "metadata": {},
   "outputs": [
    {
     "name": "stdout",
     "output_type": "stream",
     "text": [
      "P(X = 0) = 0.18268352405273466\n",
      "P(X = 1) = 0.3105619908896489\n",
      "P(X = 2) = 0.26397769225620155\n",
      "P(X >= 3) = 0.24277679280141484\n"
     ]
    }
   ],
   "source": [
    "pois_dist = poisson(1.7)\n",
    "PXE0 = pois_dist.prob(0)\n",
    "print(\"P(X = 0) = \" + str(PXE0))\n",
    "PXE1 = pois_dist.prob(1)\n",
    "print(\"P(X = 1) = \" + str(PXE1))\n",
    "PXE2 = pois_dist.prob(2)\n",
    "print(\"P(X = 2) = \" + str(PXE2))\n",
    "PXGE3 = 1 - (PXE0 + PXE1 + PXE2)\n",
    "print(\"P(X >= 3) = \" + str(PXGE3))"
   ]
  },
  {
   "cell_type": "code",
   "execution_count": 4,
   "id": "91021720-11f3-43ab-906d-a81333c8f916",
   "metadata": {},
   "outputs": [
    {
     "name": "stdout",
     "output_type": "stream",
     "text": [
      "[7.307340962109387, 12.422479635585956, 10.559107690248062, 9.711071712056594]\n"
     ]
    }
   ],
   "source": [
    "prob = [PXE0, PXE1, PXE2, PXGE3]\n",
    "expt = []\n",
    "for item in prob:\n",
    "    ex = item * (5 + 14 + 13 + 8)\n",
    "    expt.append(ex)\n",
    "print(expt)"
   ]
  },
  {
   "cell_type": "code",
   "execution_count": 5,
   "id": "dff74d61-157f-470b-8efd-787e4c4bc210",
   "metadata": {},
   "outputs": [],
   "source": [
    "obsv = [5, 14, 13, 8]"
   ]
  },
  {
   "cell_type": "code",
   "execution_count": 6,
   "id": "75a9d767-730a-4120-909b-c810ccbe244c",
   "metadata": {},
   "outputs": [],
   "source": [
    "import math\n",
    "from scipy.special import gamma\n",
    "from scipy.integrate import quad\n",
    "\n",
    "class chi:\n",
    "    def __init__(self, nu):\n",
    "        self.a = (nu / 2) - 1\n",
    "        self.b = nu / 2\n",
    "        self.c = gamma(nu / 2)\n",
    "\n",
    "    def chi_stat(self, observed, expected):\n",
    "        count = len(observed) - 1\n",
    "        stats = []\n",
    "        while count != -1:\n",
    "            stat = ((observed[count] - expected[count])**2) / (expected[count])\n",
    "            stats.append(stat)\n",
    "            count = count - 1\n",
    "        result = sum(stats)\n",
    "        return result\n",
    "        \n",
    "    def chi_pdf(self, x):\n",
    "        return (pow(x, self.a) * math.exp((-1 * x) / 2)) / ((2**(self.b)) * self.c)\n",
    "\n",
    "    def integrate(self, upper_limit):\n",
    "        result, error = quad(self.chi_pdf, 0, upper_limit)\n",
    "        return result"
   ]
  },
  {
   "cell_type": "code",
   "execution_count": 7,
   "id": "0928ad41-bd72-4d2f-ac1c-9862566fcded",
   "metadata": {},
   "outputs": [
    {
     "name": "stdout",
     "output_type": "stream",
     "text": [
      "1.7946215358960806\n",
      "0.3838939512259879\n",
      "do not reject the null\n"
     ]
    }
   ],
   "source": [
    "chisq = chi(3)\n",
    "stat = chisq.chi_stat(obsv, expt)\n",
    "print(stat)\n",
    "prob = chisq.integrate(stat)\n",
    "print(prob)\n",
    "if prob < 0.9:\n",
    "    print(\"do not reject the null\")\n",
    "else:\n",
    "    print(\"reject the null\")"
   ]
  },
  {
   "cell_type": "code",
   "execution_count": 8,
   "id": "15e2cea0-3d09-4b42-bffe-40912d8e922f",
   "metadata": {},
   "outputs": [
    {
     "name": "stdout",
     "output_type": "stream",
     "text": [
      "0.0004864096785705581\n"
     ]
    }
   ],
   "source": [
    "prob = chisq.integrate(0.015)\n",
    "print(prob)"
   ]
  },
  {
   "cell_type": "markdown",
   "id": "dd85c47c-f7a3-4b72-9330-c0bc044022e1",
   "metadata": {},
   "source": [
    "d) the students statistic indicates extremely good fit"
   ]
  }
 ],
 "metadata": {
  "kernelspec": {
   "display_name": "Python 3 (ipykernel)",
   "language": "python",
   "name": "python3"
  },
  "language_info": {
   "codemirror_mode": {
    "name": "ipython",
    "version": 3
   },
   "file_extension": ".py",
   "mimetype": "text/x-python",
   "name": "python",
   "nbconvert_exporter": "python",
   "pygments_lexer": "ipython3",
   "version": "3.12.1"
  }
 },
 "nbformat": 4,
 "nbformat_minor": 5
}

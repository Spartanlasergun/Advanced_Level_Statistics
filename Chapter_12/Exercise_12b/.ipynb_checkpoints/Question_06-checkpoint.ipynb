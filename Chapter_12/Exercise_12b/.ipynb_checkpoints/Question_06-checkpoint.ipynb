{
 "cells": [
  {
   "cell_type": "markdown",
   "id": "6d7933a1-2269-4b6c-8f08-5c06a46bb65b",
   "metadata": {},
   "source": [
    "# Question 6\n",
    "-----"
   ]
  },
  {
   "cell_type": "code",
   "execution_count": 1,
   "id": "b2061355-361d-4d95-bcbf-c4cd66789d8f",
   "metadata": {},
   "outputs": [],
   "source": [
    "import math\n",
    "\n",
    "class bino:\n",
    "    def __init__(self, n, p, q):\n",
    "        self.n = n\n",
    "        self.p = p\n",
    "        self.q = q\n",
    "        self.frequencies = []\n",
    "\n",
    "    def prob(self, r):\n",
    "        self.funk = ((math.factorial(self.n)) / (math.factorial(r) * math.factorial(((self.n)-r)))) * pow((self.q), ((self.n)-r)) * pow((self.p), r)\n",
    "        return self.funk\n",
    "\n",
    "    def freq(self, event, r):\n",
    "        event_prob = self.prob(r)\n",
    "        frequency = event_prob * event\n",
    "        frequency = round(frequency, 0)\n",
    "        return frequency"
   ]
  },
  {
   "cell_type": "code",
   "execution_count": 2,
   "id": "38dc8c4d-569b-4c79-919f-62b3fffabc21",
   "metadata": {},
   "outputs": [
    {
     "name": "stdout",
     "output_type": "stream",
     "text": [
      "0.2128\n"
     ]
    }
   ],
   "source": [
    "freq = [170, 180, 120, 20, 8, 2]\n",
    "p = (180 + 240 + 60 + 32 + 20) / (500 * 5)\n",
    "print(p)"
   ]
  },
  {
   "cell_type": "code",
   "execution_count": 3,
   "id": "d63102a3-c5a6-4676-a03a-a4942d2e6ae8",
   "metadata": {},
   "outputs": [
    {
     "name": "stdout",
     "output_type": "stream",
     "text": [
      "[170, 180, 120, 20, 8, 2]\n",
      "[151.14557302889253, 204.29228874840146, 110.45070895746909, 29.857610348258916, 4.03563229300654, 0.2181866239714918]\n"
     ]
    }
   ],
   "source": [
    "q = 1 - p\n",
    "n = 5\n",
    "bin_dist = bino(n, p, q)\n",
    "x = 0\n",
    "prob = []\n",
    "while x <= 5:\n",
    "    p_val = bin_dist.prob(x)\n",
    "    prob.append(p_val)\n",
    "    x = x + 1\n",
    "expt = []\n",
    "for item in prob:\n",
    "    ex = item * 500\n",
    "    expt.append(ex)\n",
    "print(freq)\n",
    "print(expt)"
   ]
  },
  {
   "cell_type": "code",
   "execution_count": 4,
   "id": "de4725b7-5900-4b57-b9d8-4f49ec30c332",
   "metadata": {},
   "outputs": [],
   "source": [
    "obsv = [170, 180, 120, 30]\n",
    "expt = [151.15, 204.3, 110.45, (29.86 + 4.04 + 0.22)]"
   ]
  },
  {
   "cell_type": "code",
   "execution_count": 5,
   "id": "8d4f85fe-2477-4078-8745-acbeefb8a6ca",
   "metadata": {},
   "outputs": [],
   "source": [
    "import math\n",
    "from scipy.special import gamma\n",
    "from scipy.integrate import quad\n",
    "\n",
    "class chi:\n",
    "    def __init__(self, nu):\n",
    "        self.a = (nu / 2) - 1\n",
    "        self.b = nu / 2\n",
    "        self.c = gamma(nu / 2)\n",
    "\n",
    "    def chi_stat(self, observed, expected):\n",
    "        count = len(observed) - 1\n",
    "        stats = []\n",
    "        while count != -1:\n",
    "            stat = ((observed[count] - expected[count])**2) / (expected[count])\n",
    "            stats.append(stat)\n",
    "            count = count - 1\n",
    "        result = sum(stats)\n",
    "        return result\n",
    "        \n",
    "    def chi_pdf(self, x):\n",
    "        return (pow(x, self.a) * math.exp((-1 * x) / 2)) / ((2**(self.b)) * self.c)\n",
    "\n",
    "    def integrate(self, upper_limit):\n",
    "        result, error = quad(self.chi_pdf, 0, upper_limit)\n",
    "        return result"
   ]
  },
  {
   "cell_type": "code",
   "execution_count": 6,
   "id": "34161aed-5dfc-4ec0-84ee-3d06080e8112",
   "metadata": {},
   "outputs": [
    {
     "name": "stdout",
     "output_type": "stream",
     "text": [
      "6.564329117858645\n",
      "0.9128402447957847\n",
      "do not reject the null\n"
     ]
    }
   ],
   "source": [
    "chisq = chi(3)\n",
    "stat = chisq.chi_stat(obsv, expt)\n",
    "print(stat)\n",
    "prob = chisq.integrate(stat)\n",
    "print(prob)\n",
    "if prob < 0.95:\n",
    "    print(\"do not reject the null\")\n",
    "else:\n",
    "    print(\"reject the null\")"
   ]
  }
 ],
 "metadata": {
  "kernelspec": {
   "display_name": "Python 3 (ipykernel)",
   "language": "python",
   "name": "python3"
  },
  "language_info": {
   "codemirror_mode": {
    "name": "ipython",
    "version": 3
   },
   "file_extension": ".py",
   "mimetype": "text/x-python",
   "name": "python",
   "nbconvert_exporter": "python",
   "pygments_lexer": "ipython3",
   "version": "3.12.1"
  }
 },
 "nbformat": 4,
 "nbformat_minor": 5
}

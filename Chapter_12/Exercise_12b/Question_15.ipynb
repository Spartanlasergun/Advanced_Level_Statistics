{
 "cells": [
  {
   "cell_type": "markdown",
   "id": "4e2c28d0-5c50-4783-a6c0-48d76f41a868",
   "metadata": {},
   "source": [
    "# Question 15\n",
    "-----"
   ]
  },
  {
   "cell_type": "code",
   "execution_count": 1,
   "id": "64038478-ea6f-497d-8a7b-be2681d36e93",
   "metadata": {},
   "outputs": [],
   "source": [
    "from scipy.integrate import quad\n",
    "import math\n",
    "\n",
    "class normal:\n",
    "    def __init__(self, u, sigma):\n",
    "        self.u = u\n",
    "        self.sigma = sigma\n",
    "        self.root2pi = math.sqrt((2 * math.pi)) \n",
    "    \n",
    "    def normal_func(self, x):\n",
    "        return (1 / (self.sigma * self.root2pi)) * math.exp((-1 * pow((x - self.u), 2)) / (2 * pow(self.sigma, 2)))\n",
    "\n",
    "    def integrate(self, lower_limit, upper_limit):\n",
    "        result, error = quad(self.normal_func, lower_limit, upper_limit)\n",
    "        \n",
    "        return result\n",
    "\n",
    "    def locate(self, area):\n",
    "        fx = 0\n",
    "        x = -6\n",
    "        while fx < area:\n",
    "            fx = self.integrate(-6, x)\n",
    "            x = x + 0.00001\n",
    "            \n",
    "        return x"
   ]
  },
  {
   "cell_type": "code",
   "execution_count": 2,
   "id": "a7805b83-aa33-4aa1-a17a-998e54934402",
   "metadata": {},
   "outputs": [
    {
     "name": "stdout",
     "output_type": "stream",
     "text": [
      "[2.275013194817921, 4.405706932067886, 9.184805266259898, 14.988228479452987, 19.146246127401316, 19.146246127401316, 14.988228479452987, 9.184805266259898, 4.405706932067886, 2.275013194817921]\n"
     ]
    }
   ],
   "source": [
    "sigma = math.sqrt(100)\n",
    "dist = normal(10, sigma)\n",
    "p1 = dist.integrate(-10000, -10)\n",
    "p2 = dist.integrate(-10, -5)\n",
    "p3 = dist.integrate(-5, 0)\n",
    "p4 = dist.integrate(0, 5)\n",
    "p5 = dist.integrate(5, 10)\n",
    "p6 = dist.integrate(10, 15)\n",
    "p7 = dist.integrate(15, 20)\n",
    "p8 = dist.integrate(20, 25)\n",
    "p9 = dist.integrate(25, 30)\n",
    "p10 = dist.integrate(30, 10000)\n",
    "prob = [p1, p2, p3, p4, p5, p6, p7, p8, p9, p10]\n",
    "expt = []\n",
    "for item in prob:\n",
    "    ex = item * 100\n",
    "    expt.append(ex)\n",
    "print(expt)"
   ]
  },
  {
   "cell_type": "code",
   "execution_count": 3,
   "id": "8e625170-1c18-437b-82ac-d2c2db1b14fc",
   "metadata": {},
   "outputs": [],
   "source": [
    "obsv = [9, 9, 15, 24, 16, 14, 8, 5]\n",
    "expt = [(2.28 + 4.41), 9.2, 14.988, 19.15, 19.15, 14.988, 9.2, (4.41 + 2.28)]"
   ]
  },
  {
   "cell_type": "code",
   "execution_count": 4,
   "id": "e14a354b-5dcf-4016-b3af-345d73d0ecd1",
   "metadata": {},
   "outputs": [],
   "source": [
    "import math\n",
    "from scipy.special import gamma\n",
    "from scipy.integrate import quad\n",
    "\n",
    "class chi:\n",
    "    def __init__(self, nu):\n",
    "        self.a = (nu / 2) - 1\n",
    "        self.b = nu / 2\n",
    "        self.c = gamma(nu / 2)\n",
    "\n",
    "    def chi_stat(self, observed, expected):\n",
    "        count = len(observed) - 1\n",
    "        stats = []\n",
    "        while count != -1:\n",
    "            stat = ((observed[count] - expected[count])**2) / (expected[count])\n",
    "            stats.append(stat)\n",
    "            count = count - 1\n",
    "        result = sum(stats)\n",
    "        return result\n",
    "        \n",
    "    def chi_pdf(self, x):\n",
    "        return (pow(x, self.a) * math.exp((-1 * x) / 2)) / ((2**(self.b)) * self.c)\n",
    "\n",
    "    def integrate(self, upper_limit):\n",
    "        result, error = quad(self.chi_pdf, 0, upper_limit)\n",
    "        return result"
   ]
  },
  {
   "cell_type": "code",
   "execution_count": 5,
   "id": "332c006e-29b8-442e-829b-4f6018f65959",
   "metadata": {},
   "outputs": [
    {
     "name": "stdout",
     "output_type": "stream",
     "text": [
      "3.1970268337533234\n",
      "0.0440317040027491\n",
      "do not reject the null\n"
     ]
    }
   ],
   "source": [
    "chisq = chi(9)\n",
    "stat = chisq.chi_stat(obsv, expt)\n",
    "print(stat)\n",
    "prob = chisq.integrate(stat)\n",
    "print(prob)\n",
    "if prob < 0.95:\n",
    "    print(\"do not reject the null\")\n",
    "else:\n",
    "    print(\"reject the null\")"
   ]
  }
 ],
 "metadata": {
  "kernelspec": {
   "display_name": "Python 3 (ipykernel)",
   "language": "python",
   "name": "python3"
  },
  "language_info": {
   "codemirror_mode": {
    "name": "ipython",
    "version": 3
   },
   "file_extension": ".py",
   "mimetype": "text/x-python",
   "name": "python",
   "nbconvert_exporter": "python",
   "pygments_lexer": "ipython3",
   "version": "3.12.1"
  }
 },
 "nbformat": 4,
 "nbformat_minor": 5
}

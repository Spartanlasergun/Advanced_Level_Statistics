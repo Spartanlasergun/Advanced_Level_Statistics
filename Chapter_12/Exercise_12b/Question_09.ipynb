{
 "cells": [
  {
   "cell_type": "markdown",
   "id": "8b5cb0db-ab1c-4810-ad1b-0897e09c8cde",
   "metadata": {},
   "source": [
    "# Question 9\n",
    "-----"
   ]
  },
  {
   "cell_type": "code",
   "execution_count": 1,
   "id": "b15bd25b-3453-4904-90bc-fe711ea150e9",
   "metadata": {},
   "outputs": [],
   "source": [
    "import math\n",
    "\n",
    "class poisson:\n",
    "    def __init__(self, lamb):\n",
    "        self.lamb = lamb\n",
    "\n",
    "    def prob(self, x):\n",
    "        pois = math.exp(-self.lamb) * (pow(self.lamb, x) / math.factorial(x))\n",
    "        return pois\n",
    "\n",
    "    def freq(self, event, sample):\n",
    "        freq = self.prob(event) * sample \n",
    "        freq = round(freq, 0)\n",
    "        return freq"
   ]
  },
  {
   "cell_type": "code",
   "execution_count": 2,
   "id": "c8d942f7-c8a1-4770-b39b-a3f5955c3837",
   "metadata": {},
   "outputs": [
    {
     "name": "stdout",
     "output_type": "stream",
     "text": [
      "2.5\n"
     ]
    }
   ],
   "source": [
    "freq = [5, 23, 23, 25, 14, 10, 0]\n",
    "mean = (23 + 46 + 75 + 56 + 50) / (sum(freq))\n",
    "print(mean)"
   ]
  },
  {
   "cell_type": "code",
   "execution_count": 3,
   "id": "8e865ddc-63f6-4a0f-a1fe-4c79e4cc45ac",
   "metadata": {},
   "outputs": [
    {
     "name": "stdout",
     "output_type": "stream",
     "text": [
      "[8.20849986238988, 20.5212496559747, 25.651562069968374, 21.376301724973644, 13.360188578108529, 6.6800942890542645, 4.2021038195306115]\n"
     ]
    }
   ],
   "source": [
    "pois_dist = poisson(2.5)\n",
    "x = 0\n",
    "prob = []\n",
    "while x <= 5:\n",
    "    p_val = pois_dist.prob(x)\n",
    "    prob.append(p_val)\n",
    "    x = x + 1\n",
    "PXGE6 = 1 - (sum(prob))\n",
    "prob.append(PXGE6)\n",
    "expt = []\n",
    "for item in prob:\n",
    "    ex = item * sum(freq)\n",
    "    expt.append(ex)\n",
    "print(expt)"
   ]
  },
  {
   "cell_type": "code",
   "execution_count": 4,
   "id": "09c2b737-2093-49e5-8602-197f04f69d14",
   "metadata": {},
   "outputs": [],
   "source": [
    "obsv = [5, 23, 23, 25, 14, 10]\n",
    "expt = [8.21, 20.52, 25.65, 21.38, 13.36, (6.68 + 4.2)]"
   ]
  },
  {
   "cell_type": "code",
   "execution_count": 5,
   "id": "883ecc8a-e392-47bf-b0c3-5db5a417e6c2",
   "metadata": {},
   "outputs": [],
   "source": [
    "import math\n",
    "from scipy.special import gamma\n",
    "from scipy.integrate import quad\n",
    "\n",
    "class chi:\n",
    "    def __init__(self, nu):\n",
    "        self.a = (nu / 2) - 1\n",
    "        self.b = nu / 2\n",
    "        self.c = gamma(nu / 2)\n",
    "\n",
    "    def chi_stat(self, observed, expected):\n",
    "        count = len(observed) - 1\n",
    "        stats = []\n",
    "        while count != -1:\n",
    "            stat = ((observed[count] - expected[count])**2) / (expected[count])\n",
    "            stats.append(stat)\n",
    "            count = count - 1\n",
    "        result = sum(stats)\n",
    "        return result\n",
    "        \n",
    "    def chi_pdf(self, x):\n",
    "        return (pow(x, self.a) * math.exp((-1 * x) / 2)) / ((2**(self.b)) * self.c)\n",
    "\n",
    "    def integrate(self, upper_limit):\n",
    "        result, error = quad(self.chi_pdf, 0, upper_limit)\n",
    "        return result"
   ]
  },
  {
   "cell_type": "code",
   "execution_count": 6,
   "id": "8f5e8001-7503-46bf-8cae-9e359f86034d",
   "metadata": {},
   "outputs": [
    {
     "name": "stdout",
     "output_type": "stream",
     "text": [
      "2.543338886692085\n",
      "0.3631075299937746\n",
      "do not reject the null\n"
     ]
    }
   ],
   "source": [
    "chisq = chi(4)\n",
    "stat = chisq.chi_stat(obsv, expt)\n",
    "print(stat)\n",
    "prob = chisq.integrate(stat)\n",
    "print(prob)\n",
    "if prob < 0.9:\n",
    "    print(\"do not reject the null\")\n",
    "else:\n",
    "    print(\"reject the null\")"
   ]
  }
 ],
 "metadata": {
  "kernelspec": {
   "display_name": "Python 3 (ipykernel)",
   "language": "python",
   "name": "python3"
  },
  "language_info": {
   "codemirror_mode": {
    "name": "ipython",
    "version": 3
   },
   "file_extension": ".py",
   "mimetype": "text/x-python",
   "name": "python",
   "nbconvert_exporter": "python",
   "pygments_lexer": "ipython3",
   "version": "3.12.1"
  }
 },
 "nbformat": 4,
 "nbformat_minor": 5
}

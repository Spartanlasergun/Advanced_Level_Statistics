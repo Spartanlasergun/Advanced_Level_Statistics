{
 "cells": [
  {
   "cell_type": "markdown",
   "id": "18e48462-ebae-4044-b5a1-9cdb4c091f24",
   "metadata": {},
   "source": [
    "# Question 10\n",
    "-----"
   ]
  },
  {
   "cell_type": "code",
   "execution_count": 1,
   "id": "4a786457-5900-406d-89d5-96e8319db24b",
   "metadata": {},
   "outputs": [],
   "source": [
    "import math\n",
    "\n",
    "class poisson:\n",
    "    def __init__(self, lamb):\n",
    "        self.lamb = lamb\n",
    "\n",
    "    def prob(self, x):\n",
    "        pois = math.exp(-self.lamb) * (pow(self.lamb, x) / math.factorial(x))\n",
    "        return pois\n",
    "\n",
    "    def freq(self, event, sample):\n",
    "        freq = self.prob(event) * sample \n",
    "        freq = round(freq, 0)\n",
    "        return freq"
   ]
  },
  {
   "cell_type": "code",
   "execution_count": 2,
   "id": "e81e69ed-d853-456c-bc7f-68302638dbf0",
   "metadata": {},
   "outputs": [
    {
     "name": "stdout",
     "output_type": "stream",
     "text": [
      "1.2789115646258504\n"
     ]
    }
   ],
   "source": [
    "freq = [48, 46, 30, 12, 9, 2]\n",
    "mean = (46 + 60 + 36 + 36 + 10) / sum(freq)\n",
    "print(mean)"
   ]
  },
  {
   "cell_type": "code",
   "execution_count": 3,
   "id": "0955da78-cd21-482a-9f79-22ae4912b778",
   "metadata": {},
   "outputs": [
    {
     "name": "stdout",
     "output_type": "stream",
     "text": [
      "[40.87148316661954, 52.31549845327301, 33.48191901009473, 14.28561877764042, 4.571398008844933, 1.1702778902643032]\n"
     ]
    }
   ],
   "source": [
    "pois_dist = poisson(1.28)\n",
    "x = 0\n",
    "prob = []\n",
    "while x <= 5:\n",
    "    p_val = pois_dist.prob(x)\n",
    "    prob.append(p_val)\n",
    "    x = x + 1\n",
    "expt = []\n",
    "for item in prob:\n",
    "    ex = item * (sum(freq))\n",
    "    expt.append(ex)\n",
    "print(expt)"
   ]
  },
  {
   "cell_type": "code",
   "execution_count": 4,
   "id": "3878d062-e1a6-4670-8529-eb36e68ab683",
   "metadata": {},
   "outputs": [],
   "source": [
    "obsv = [48, 46, 30, 23]\n",
    "expt = [40.87, 52.32, 33.48, (14.29 + 4.57 + 1.17)]"
   ]
  },
  {
   "cell_type": "code",
   "execution_count": 5,
   "id": "5a7faaab-7b9d-47cc-bca6-70c645737b30",
   "metadata": {},
   "outputs": [],
   "source": [
    "import math\n",
    "from scipy.special import gamma\n",
    "from scipy.integrate import quad\n",
    "\n",
    "class chi:\n",
    "    def __init__(self, nu):\n",
    "        self.a = (nu / 2) - 1\n",
    "        self.b = nu / 2\n",
    "        self.c = gamma(nu / 2)\n",
    "\n",
    "    def chi_stat(self, observed, expected):\n",
    "        count = len(observed) - 1\n",
    "        stats = []\n",
    "        while count != -1:\n",
    "            stat = ((observed[count] - expected[count])**2) / (expected[count])\n",
    "            stats.append(stat)\n",
    "            count = count - 1\n",
    "        result = sum(stats)\n",
    "        return result\n",
    "        \n",
    "    def chi_pdf(self, x):\n",
    "        return (pow(x, self.a) * math.exp((-1 * x) / 2)) / ((2**(self.b)) * self.c)\n",
    "\n",
    "    def integrate(self, upper_limit):\n",
    "        result, error = quad(self.chi_pdf, 0, upper_limit)\n",
    "        return result"
   ]
  },
  {
   "cell_type": "code",
   "execution_count": 6,
   "id": "a1bbb9e8-4e51-4246-9068-0da676ce7222",
   "metadata": {},
   "outputs": [
    {
     "name": "stdout",
     "output_type": "stream",
     "text": [
      "2.8093982930275994\n",
      "0.4097885082883426\n",
      "do not reject the null\n"
     ]
    }
   ],
   "source": [
    "chisq = chi(4)\n",
    "stat = chisq.chi_stat(obsv, expt)\n",
    "print(stat)\n",
    "prob = chisq.integrate(stat)\n",
    "print(prob)\n",
    "if prob < 0.9:\n",
    "    print(\"do not reject the null\")\n",
    "else:\n",
    "    print(\"reject the null\")"
   ]
  },
  {
   "cell_type": "code",
   "execution_count": null,
   "id": "085744b2-b891-4464-907d-093f4ff3ddd5",
   "metadata": {},
   "outputs": [],
   "source": []
  }
 ],
 "metadata": {
  "kernelspec": {
   "display_name": "Python 3 (ipykernel)",
   "language": "python",
   "name": "python3"
  },
  "language_info": {
   "codemirror_mode": {
    "name": "ipython",
    "version": 3
   },
   "file_extension": ".py",
   "mimetype": "text/x-python",
   "name": "python",
   "nbconvert_exporter": "python",
   "pygments_lexer": "ipython3",
   "version": "3.12.1"
  }
 },
 "nbformat": 4,
 "nbformat_minor": 5
}

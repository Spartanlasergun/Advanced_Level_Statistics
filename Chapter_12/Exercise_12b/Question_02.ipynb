{
 "cells": [
  {
   "cell_type": "markdown",
   "id": "9046a43a-90ac-4bff-ad44-430c3896cd26",
   "metadata": {},
   "source": [
    "# Question 2\n",
    "-----"
   ]
  },
  {
   "cell_type": "code",
   "execution_count": 1,
   "id": "fee9f1b2-73ae-4510-b4d9-d4166d9dd768",
   "metadata": {},
   "outputs": [],
   "source": [
    "import math\n",
    "\n",
    "class bino:\n",
    "    def __init__(self, n, p, q):\n",
    "        self.n = n\n",
    "        self.p = p\n",
    "        self.q = q\n",
    "        self.frequencies = []\n",
    "\n",
    "    def prob(self, r):\n",
    "        self.funk = ((math.factorial(self.n)) / (math.factorial(r) * math.factorial(((self.n)-r)))) * pow((self.q), ((self.n)-r)) * pow((self.p), r)\n",
    "        return self.funk\n",
    "\n",
    "    def freq(self, event, r):\n",
    "        event_prob = self.prob(r)\n",
    "        frequency = event_prob * event\n",
    "        frequency = round(frequency, 0)\n",
    "        return frequency"
   ]
  },
  {
   "cell_type": "code",
   "execution_count": 2,
   "id": "ef92e524-b766-4de8-95a6-0c01bdeb212a",
   "metadata": {},
   "outputs": [
    {
     "name": "stdout",
     "output_type": "stream",
     "text": [
      "[66, 82, 40, 10, 2, 0]\n",
      "[66.97959533607684, 80.37551440329219, 40.18775720164609, 10.71673525377229, 1.6075102880658436, 0.12860082304526746]\n"
     ]
    }
   ],
   "source": [
    "p = 1/6\n",
    "q = 1 - p\n",
    "n = 6\n",
    "bin_dist = bino(n, p, q)\n",
    "x = 0\n",
    "prob = []\n",
    "while x <= 5:\n",
    "    p_val = bin_dist.prob(x)\n",
    "    prob.append(p_val)\n",
    "    x = x + 1\n",
    "freq = [66, 82, 40, 10, 2, 0]\n",
    "sample = sum(freq)\n",
    "expt = []\n",
    "for item in prob:\n",
    "    ex = item * sample\n",
    "    expt.append(ex)\n",
    "print(freq)\n",
    "print(expt)"
   ]
  },
  {
   "cell_type": "code",
   "execution_count": 3,
   "id": "8fd77890-4bde-42bf-945d-473cb7dfae66",
   "metadata": {},
   "outputs": [],
   "source": [
    "obsv = [66, 82, 40, 10, 2]\n",
    "expt = [66.98, 80.38, 40.19, 10.72, (1.61 + 0.129)]"
   ]
  },
  {
   "cell_type": "code",
   "execution_count": 4,
   "id": "65255e83-6ee2-4259-8728-7e415dc00c88",
   "metadata": {},
   "outputs": [],
   "source": [
    "import math\n",
    "from scipy.special import gamma\n",
    "from scipy.integrate import quad\n",
    "\n",
    "class chi:\n",
    "    def __init__(self, nu):\n",
    "        self.a = (nu / 2) - 1\n",
    "        self.b = nu / 2\n",
    "        self.c = gamma(nu / 2)\n",
    "\n",
    "    def chi_stat(self, observed, expected):\n",
    "        count = len(observed) - 1\n",
    "        stats = []\n",
    "        while count != -1:\n",
    "            stat = ((observed[count] - expected[count])**2) / (expected[count])\n",
    "            stats.append(stat)\n",
    "            count = count - 1\n",
    "        result = sum(stats)\n",
    "        return result\n",
    "        \n",
    "    def chi_pdf(self, x):\n",
    "        return (pow(x, self.a) * math.exp((-1 * x) / 2)) / ((2**(self.b)) * self.c)\n",
    "\n",
    "    def integrate(self, upper_limit):\n",
    "        result, error = quad(self.chi_pdf, 0, upper_limit)\n",
    "        return result"
   ]
  },
  {
   "cell_type": "code",
   "execution_count": 5,
   "id": "5e79b4a7-5991-4295-a8bd-6681e6e86263",
   "metadata": {},
   "outputs": [
    {
     "name": "stdout",
     "output_type": "stream",
     "text": [
      "0.13541747673860824\n",
      "0.0003420400391840564\n",
      "do not reject the null\n"
     ]
    }
   ],
   "source": [
    "chisq = chi(5)\n",
    "stat = chisq.chi_stat(obsv, expt)\n",
    "print(stat)\n",
    "prob = chisq.integrate(stat)\n",
    "print(prob)\n",
    "if prob < 0.9:\n",
    "    print(\"do not reject the null\")\n",
    "else:\n",
    "    print(\"reject the null\")"
   ]
  }
 ],
 "metadata": {
  "kernelspec": {
   "display_name": "Python 3 (ipykernel)",
   "language": "python",
   "name": "python3"
  },
  "language_info": {
   "codemirror_mode": {
    "name": "ipython",
    "version": 3
   },
   "file_extension": ".py",
   "mimetype": "text/x-python",
   "name": "python",
   "nbconvert_exporter": "python",
   "pygments_lexer": "ipython3",
   "version": "3.12.1"
  }
 },
 "nbformat": 4,
 "nbformat_minor": 5
}

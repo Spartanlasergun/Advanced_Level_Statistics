{
 "cells": [
  {
   "cell_type": "markdown",
   "id": "c354ee76-5a86-4a96-8aea-9888ef946a0a",
   "metadata": {},
   "source": [
    "# Question 16\n",
    "-----"
   ]
  },
  {
   "cell_type": "code",
   "execution_count": 1,
   "id": "92df0b3d-0592-4583-8a95-e0a7ca43ec68",
   "metadata": {},
   "outputs": [],
   "source": [
    "from scipy.integrate import quad\n",
    "import math\n",
    "\n",
    "class normal:\n",
    "    def __init__(self, u, sigma):\n",
    "        self.u = u\n",
    "        self.sigma = sigma\n",
    "        self.root2pi = math.sqrt((2 * math.pi)) \n",
    "    \n",
    "    def normal_func(self, x):\n",
    "        return (1 / (self.sigma * self.root2pi)) * math.exp((-1 * pow((x - self.u), 2)) / (2 * pow(self.sigma, 2)))\n",
    "\n",
    "    def integrate(self, lower_limit, upper_limit):\n",
    "        result, error = quad(self.normal_func, lower_limit, upper_limit)\n",
    "        \n",
    "        return result\n",
    "\n",
    "    def locate(self, area):\n",
    "        fx = 0\n",
    "        x = -6\n",
    "        while fx < area:\n",
    "            fx = self.integrate(-6, x)\n",
    "            x = x + 0.00001\n",
    "            \n",
    "        return x"
   ]
  },
  {
   "cell_type": "code",
   "execution_count": 2,
   "id": "8e643a8a-45de-44b3-8332-3fba93d43fd5",
   "metadata": {},
   "outputs": [
    {
     "name": "stdout",
     "output_type": "stream",
     "text": [
      "[2.278155877085486, 10.491562031975244, 23.86065115748949, 26.831326426279524, 14.921024473364572, 4.099816670489943]\n"
     ]
    }
   ],
   "source": [
    "dist = normal(173.5, 7)\n",
    "p1 = dist.integrate(155, 160)\n",
    "p2 = dist.integrate(161, 166)\n",
    "p3 = dist.integrate(167, 172)\n",
    "p4 = dist.integrate(173, 178)\n",
    "p5 = dist.integrate(179, 184)\n",
    "p6 = dist.integrate(185, 190)\n",
    "prob = [p1, p2, p3, p4, p5, p6]\n",
    "expt = []\n",
    "for item in prob:\n",
    "    ex = item * 100\n",
    "    expt.append(ex)\n",
    "print(expt)"
   ]
  },
  {
   "cell_type": "code",
   "execution_count": 3,
   "id": "e3c590cb-ff2e-448f-8bee-000cbde6941d",
   "metadata": {},
   "outputs": [],
   "source": [
    "expt = [(2.28 + 10.5), 23.86, 26.83, (14.92 + 4.1)]\n",
    "obsv = [22, 38, 25, 15]"
   ]
  },
  {
   "cell_type": "code",
   "execution_count": 4,
   "id": "6e53d852-b715-4ff4-ae20-bfc5081f315d",
   "metadata": {},
   "outputs": [],
   "source": [
    "import math\n",
    "from scipy.special import gamma\n",
    "from scipy.integrate import quad\n",
    "\n",
    "class chi:\n",
    "    def __init__(self, nu):\n",
    "        self.a = (nu / 2) - 1\n",
    "        self.b = nu / 2\n",
    "        self.c = gamma(nu / 2)\n",
    "\n",
    "    def chi_stat(self, observed, expected):\n",
    "        count = len(observed) - 1\n",
    "        stats = []\n",
    "        while count != -1:\n",
    "            stat = ((observed[count] - expected[count])**2) / (expected[count])\n",
    "            stats.append(stat)\n",
    "            count = count - 1\n",
    "        result = sum(stats)\n",
    "        return result\n",
    "        \n",
    "    def chi_pdf(self, x):\n",
    "        return (pow(x, self.a) * math.exp((-1 * x) / 2)) / ((2**(self.b)) * self.c)\n",
    "\n",
    "    def integrate(self, upper_limit):\n",
    "        result, error = quad(self.chi_pdf, 0, upper_limit)\n",
    "        return result"
   ]
  },
  {
   "cell_type": "code",
   "execution_count": 5,
   "id": "586358bf-7cfa-42ab-a93f-705310705746",
   "metadata": {},
   "outputs": [
    {
     "name": "stdout",
     "output_type": "stream",
     "text": [
      "16.005844960172755\n",
      "0.9988691403570821\n",
      "reject the null\n"
     ]
    }
   ],
   "source": [
    "chisq = chi(3)\n",
    "stat = chisq.chi_stat(obsv, expt)\n",
    "print(stat)\n",
    "prob = chisq.integrate(stat)\n",
    "print(prob)\n",
    "if prob < 0.95:\n",
    "    print(\"do not reject the null\")\n",
    "else:\n",
    "    print(\"reject the null\")"
   ]
  },
  {
   "cell_type": "code",
   "execution_count": 6,
   "id": "f373441e-b137-450b-bb82-64961d590c48",
   "metadata": {},
   "outputs": [
    {
     "name": "stdout",
     "output_type": "stream",
     "text": [
      "[4.285351876427123, 14.898162859353684, 26.304453961082597, 23.605257230022914, 10.76481548584468, 2.492132720305524]\n"
     ]
    }
   ],
   "source": [
    "import statistics\n",
    "x = [157.5, 163.5, 169.5, 175.5, 181.5, 187.5]\n",
    "freq = [5, 17, 38, 25, 9, 6]\n",
    "raw_data = []\n",
    "index = 0\n",
    "for item in freq:\n",
    "    count = item\n",
    "    while count != 0:\n",
    "        raw_data.append(x[index])\n",
    "        count = count - 1\n",
    "    index = index + 1\n",
    "mean = statistics.mean(raw_data)\n",
    "sigma = statistics.stdev(raw_data)\n",
    "dist = normal(mean, sigma)\n",
    "p1 = dist.integrate(155, 160)\n",
    "p2 = dist.integrate(161, 166)\n",
    "p3 = dist.integrate(167, 172)\n",
    "p4 = dist.integrate(173, 178)\n",
    "p5 = dist.integrate(179, 184)\n",
    "p6 = dist.integrate(185, 190)\n",
    "prob = [p1, p2, p3, p4, p5, p6]\n",
    "expt = []\n",
    "for item in prob:\n",
    "    ex = item * 100\n",
    "    expt.append(ex)\n",
    "print(expt)"
   ]
  },
  {
   "cell_type": "code",
   "execution_count": 7,
   "id": "a100fe62-f812-45a5-960f-75e671b1eaad",
   "metadata": {},
   "outputs": [],
   "source": [
    "expt = [(4.29 + 14.9), 26.3, 23.6, (10.8 + 2.5)]"
   ]
  },
  {
   "cell_type": "code",
   "execution_count": 8,
   "id": "df38436b-ba7d-423a-9a92-6000ea947b45",
   "metadata": {},
   "outputs": [
    {
     "name": "stdout",
     "output_type": "stream",
     "text": [
      "5.91675656169239\n",
      "0.8842688125233162\n",
      "do not reject the null\n"
     ]
    }
   ],
   "source": [
    "chisq = chi(3)\n",
    "stat = chisq.chi_stat(obsv, expt)\n",
    "print(stat)\n",
    "prob = chisq.integrate(stat)\n",
    "print(prob)\n",
    "if prob < 0.95:\n",
    "    print(\"do not reject the null\")\n",
    "else:\n",
    "    print(\"reject the null\")"
   ]
  }
 ],
 "metadata": {
  "kernelspec": {
   "display_name": "Python 3 (ipykernel)",
   "language": "python",
   "name": "python3"
  },
  "language_info": {
   "codemirror_mode": {
    "name": "ipython",
    "version": 3
   },
   "file_extension": ".py",
   "mimetype": "text/x-python",
   "name": "python",
   "nbconvert_exporter": "python",
   "pygments_lexer": "ipython3",
   "version": "3.12.1"
  }
 },
 "nbformat": 4,
 "nbformat_minor": 5
}

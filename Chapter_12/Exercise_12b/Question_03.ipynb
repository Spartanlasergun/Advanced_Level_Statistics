{
 "cells": [
  {
   "cell_type": "markdown",
   "id": "bc45a3e8-c0c2-46f3-b28c-ef4dc51dda5f",
   "metadata": {},
   "source": [
    "# Question 3\n",
    "-----"
   ]
  },
  {
   "cell_type": "markdown",
   "id": "bbaa1186-d92e-45c3-84f8-4c0df881c62e",
   "metadata": {},
   "source": [
    "X is Binomial if the probability of success for each event is the same, a finite number of trials are carried out, and the trials are independent."
   ]
  },
  {
   "cell_type": "code",
   "execution_count": 1,
   "id": "4ef91421-31a1-45e6-90e5-5c0fa82bac8c",
   "metadata": {},
   "outputs": [
    {
     "name": "stdout",
     "output_type": "stream",
     "text": [
      "0.2\n"
     ]
    }
   ],
   "source": [
    "freq = [7, 20, 12, 9, 1, 1]\n",
    "p = sum(freq) / (50 * 5)\n",
    "print(p)"
   ]
  },
  {
   "cell_type": "code",
   "execution_count": 2,
   "id": "a773a74a-f496-4fcf-87e0-cd0158315efa",
   "metadata": {},
   "outputs": [],
   "source": [
    "import math\n",
    "\n",
    "class bino:\n",
    "    def __init__(self, n, p, q):\n",
    "        self.n = n\n",
    "        self.p = p\n",
    "        self.q = q\n",
    "        self.frequencies = []\n",
    "\n",
    "    def prob(self, r):\n",
    "        self.funk = ((math.factorial(self.n)) / (math.factorial(r) * math.factorial(((self.n)-r)))) * pow((self.q), ((self.n)-r)) * pow((self.p), r)\n",
    "        return self.funk\n",
    "\n",
    "    def freq(self, event, r):\n",
    "        event_prob = self.prob(r)\n",
    "        frequency = event_prob * event\n",
    "        frequency = round(frequency, 0)\n",
    "        return frequency"
   ]
  },
  {
   "cell_type": "code",
   "execution_count": 3,
   "id": "69df7e9f-6a9d-4c36-8705-2ec871be7d2b",
   "metadata": {},
   "outputs": [
    {
     "name": "stdout",
     "output_type": "stream",
     "text": [
      "[7, 20, 12, 9, 1, 1]\n",
      "[13.107200000000004, 19.660800000000005, 12.288000000000004, 4.096000000000002, 0.7680000000000002, 0.07680000000000003]\n"
     ]
    }
   ],
   "source": [
    "q = 1 - p\n",
    "n = 6\n",
    "bin_dist = bino(n, p, q)\n",
    "x = 0\n",
    "prob = []\n",
    "while x <= 5:\n",
    "    p_val = bin_dist.prob(x)\n",
    "    prob.append(p_val)\n",
    "    x = x + 1\n",
    "expt = []\n",
    "for item in prob:\n",
    "    ex = item * (sum(freq))\n",
    "    expt.append(ex)\n",
    "print(freq)\n",
    "print(expt)"
   ]
  },
  {
   "cell_type": "code",
   "execution_count": 4,
   "id": "b3413a67-b0bc-4a92-b926-611aacc850a1",
   "metadata": {},
   "outputs": [],
   "source": [
    "obsv = [7, 20, 12, 11]\n",
    "expt = [13.12, 19.66, 12.29, (4.1 + 0.768 + 0.0768)]"
   ]
  },
  {
   "cell_type": "code",
   "execution_count": 5,
   "id": "4d94a6b4-dfe0-4701-8ff8-eaccf0bd4e80",
   "metadata": {},
   "outputs": [],
   "source": [
    "import math\n",
    "from scipy.special import gamma\n",
    "from scipy.integrate import quad\n",
    "\n",
    "class chi:\n",
    "    def __init__(self, nu):\n",
    "        self.a = (nu / 2) - 1\n",
    "        self.b = nu / 2\n",
    "        self.c = gamma(nu / 2)\n",
    "\n",
    "    def chi_stat(self, observed, expected):\n",
    "        count = len(observed) - 1\n",
    "        stats = []\n",
    "        while count != -1:\n",
    "            stat = ((observed[count] - expected[count])**2) / (expected[count])\n",
    "            stats.append(stat)\n",
    "            count = count - 1\n",
    "        result = sum(stats)\n",
    "        return result\n",
    "        \n",
    "    def chi_pdf(self, x):\n",
    "        return (pow(x, self.a) * math.exp((-1 * x) / 2)) / ((2**(self.b)) * self.c)\n",
    "\n",
    "    def integrate(self, upper_limit):\n",
    "        result, error = quad(self.chi_pdf, 0, upper_limit)\n",
    "        return result"
   ]
  },
  {
   "cell_type": "code",
   "execution_count": 6,
   "id": "489108d4-7628-4443-85ce-bb7897e6bece",
   "metadata": {},
   "outputs": [
    {
     "name": "stdout",
     "output_type": "stream",
     "text": [
      "10.282429479717182\n",
      "0.9640703412989869\n",
      "reject the null\n"
     ]
    }
   ],
   "source": [
    "chisq = chi(4)\n",
    "stat = chisq.chi_stat(obsv, expt)\n",
    "print(stat)\n",
    "prob = chisq.integrate(stat)\n",
    "print(prob)\n",
    "if prob < 0.95:\n",
    "    print(\"do not reject the null\")\n",
    "else:\n",
    "    print(\"reject the null\")"
   ]
  }
 ],
 "metadata": {
  "kernelspec": {
   "display_name": "Python 3 (ipykernel)",
   "language": "python",
   "name": "python3"
  },
  "language_info": {
   "codemirror_mode": {
    "name": "ipython",
    "version": 3
   },
   "file_extension": ".py",
   "mimetype": "text/x-python",
   "name": "python",
   "nbconvert_exporter": "python",
   "pygments_lexer": "ipython3",
   "version": "3.12.1"
  }
 },
 "nbformat": 4,
 "nbformat_minor": 5
}

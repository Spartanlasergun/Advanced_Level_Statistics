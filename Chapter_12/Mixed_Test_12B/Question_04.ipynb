{
 "cells": [
  {
   "cell_type": "markdown",
   "id": "07456703-651e-4859-8464-6ee406e99061",
   "metadata": {},
   "source": [
    "# Question 4\n",
    "-----"
   ]
  },
  {
   "cell_type": "code",
   "execution_count": 1,
   "id": "8ebc89fc-8671-4ab2-83ff-6bcdee3147e5",
   "metadata": {},
   "outputs": [
    {
     "name": "stdout",
     "output_type": "stream",
     "text": [
      "mean = 2.5945945945945947\n"
     ]
    }
   ],
   "source": [
    "mean = (24 + 87 + (34 * 3) + 84 + 75 + 12) / 148\n",
    "print(\"mean = \" + str(mean))"
   ]
  },
  {
   "cell_type": "markdown",
   "id": "5af9916a-180f-4384-b67b-2702afa0713f",
   "metadata": {},
   "source": [
    "b) events are random"
   ]
  },
  {
   "cell_type": "code",
   "execution_count": 2,
   "id": "615576a6-7458-4f8a-b2eb-02c771358c66",
   "metadata": {},
   "outputs": [],
   "source": [
    "import math\n",
    "\n",
    "class poisson:\n",
    "    def __init__(self, lamb):\n",
    "        self.lamb = lamb\n",
    "\n",
    "    def prob(self, x):\n",
    "        pois = math.exp(-self.lamb) * (pow(self.lamb, x) / math.factorial(x))\n",
    "        return pois\n",
    "\n",
    "    def freq(self, event, sample):\n",
    "        freq = self.prob(event) * sample \n",
    "        freq = round(freq, 0)\n",
    "        return freq"
   ]
  },
  {
   "cell_type": "code",
   "execution_count": 3,
   "id": "acbfec48-3711-4baa-afdc-6e636761271d",
   "metadata": {},
   "outputs": [
    {
     "name": "stdout",
     "output_type": "stream",
     "text": [
      "s = 37.200829382415854\n",
      "t = 2.515770617066666\n"
     ]
    }
   ],
   "source": [
    "pois_dist = poisson(mean)\n",
    "PXE2 = pois_dist.prob(2)\n",
    "s = PXE2 * 148\n",
    "print(\"s = \" + str(s))\n",
    "x = 0\n",
    "prob = 0\n",
    "while x <= 6:\n",
    "    p = pois_dist.prob(x)\n",
    "    prob = prob + p\n",
    "    x = x + 1\n",
    "PXGE7 = 1 - prob\n",
    "t = PXGE7 * 148\n",
    "print(\"t = \" + str(t))"
   ]
  },
  {
   "cell_type": "code",
   "execution_count": 4,
   "id": "a035f8c9-4f2f-4c81-83ac-f53b797382d0",
   "metadata": {},
   "outputs": [],
   "source": [
    "obsv = [9, 24, 43, 34, 21, 15, 2]\n",
    "expt = [11.1, 28.76, 37.2, 32.15, 20.82, 10.78, (4.65 + 2.52)]"
   ]
  },
  {
   "cell_type": "code",
   "execution_count": 5,
   "id": "323c2fe2-70c8-4eec-b1a1-d182fe206cfd",
   "metadata": {},
   "outputs": [],
   "source": [
    "import math\n",
    "from scipy.special import gamma\n",
    "from scipy.integrate import quad\n",
    "\n",
    "class chi:\n",
    "    def __init__(self, nu):\n",
    "        self.a = (nu / 2) - 1\n",
    "        self.b = nu / 2\n",
    "        self.c = gamma(nu / 2)\n",
    "\n",
    "    def chi_stat(self, observed, expected, yates=False):\n",
    "        count = len(observed) - 1\n",
    "        stats = []\n",
    "        correction = 0\n",
    "        if yates:\n",
    "            correction = 0.5\n",
    "        while count != -1:\n",
    "            OE = (observed[count] - expected[count])\n",
    "            mod = abs(OE) - correction\n",
    "            stat = (mod**2) / (expected[count])\n",
    "            stats.append(stat)\n",
    "            count = count - 1\n",
    "        result = sum(stats)\n",
    "        return result\n",
    "        \n",
    "    def chi_pdf(self, x):\n",
    "        return (pow(x, self.a) * math.exp((-1 * x) / 2)) / ((2**(self.b)) * self.c)\n",
    "\n",
    "    def integrate(self, upper_limit):\n",
    "        result, error = quad(self.chi_pdf, 0, upper_limit)\n",
    "        return result\n",
    "\n",
    "    def expected(self, observed):\n",
    "        row_totals = []\n",
    "        for item in observed:\n",
    "            total = sum(item)\n",
    "            row_totals.append(total)\n",
    "        rows = len(observed[0])\n",
    "        index = 0\n",
    "        column_totals = []\n",
    "        while index != rows:\n",
    "            total = 0\n",
    "            for item in observed:\n",
    "                total = total + item[index]\n",
    "            column_totals.append(total)\n",
    "            index = index + 1\n",
    "        expt = []\n",
    "        for r_val in row_totals:\n",
    "            for c_val in column_totals:\n",
    "                ex = c_val * r_val / (sum(row_totals))\n",
    "                expt.append(ex)\n",
    "        obsv = [num for sublist in observed for num in sublist]\n",
    "        return obsv, expt"
   ]
  },
  {
   "cell_type": "code",
   "execution_count": 6,
   "id": "a7297054-fee6-43c9-b9fa-ca397e977b8a",
   "metadata": {},
   "outputs": [
    {
     "name": "stdout",
     "output_type": "stream",
     "text": [
      "7.577290315008251\n",
      "0.8188777169923307\n",
      "do not reject the null\n"
     ]
    }
   ],
   "source": [
    "chisq = chi(5)\n",
    "stat = chisq.chi_stat(obsv, expt)\n",
    "print(stat)\n",
    "prob = chisq.integrate(stat)\n",
    "print(prob)\n",
    "if prob < 0.95:\n",
    "    print(\"do not reject the null\")\n",
    "else:\n",
    "    print(\"reject the null\")"
   ]
  }
 ],
 "metadata": {
  "kernelspec": {
   "display_name": "Python 3 (ipykernel)",
   "language": "python",
   "name": "python3"
  },
  "language_info": {
   "codemirror_mode": {
    "name": "ipython",
    "version": 3
   },
   "file_extension": ".py",
   "mimetype": "text/x-python",
   "name": "python",
   "nbconvert_exporter": "python",
   "pygments_lexer": "ipython3",
   "version": "3.12.1"
  }
 },
 "nbformat": 4,
 "nbformat_minor": 5
}

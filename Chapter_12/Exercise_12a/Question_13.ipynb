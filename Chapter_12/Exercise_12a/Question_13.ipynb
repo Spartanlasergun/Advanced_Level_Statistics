{
 "cells": [
  {
   "cell_type": "markdown",
   "id": "562886c8-1b32-4378-a696-4d0661a747e3",
   "metadata": {},
   "source": [
    "# Question 13\n",
    "-----"
   ]
  },
  {
   "cell_type": "markdown",
   "id": "dbe342c0-9553-4169-b961-201dd1f8e9da",
   "metadata": {},
   "source": [
    "a) Group B"
   ]
  },
  {
   "cell_type": "code",
   "execution_count": 1,
   "id": "37c51323-18e1-48ca-be5a-cd97c3b3b020",
   "metadata": {},
   "outputs": [
    {
     "name": "stdout",
     "output_type": "stream",
     "text": [
      "mean = 4.636363636363637\n",
      "std = 3.1986567428653054\n"
     ]
    }
   ],
   "source": [
    "import statistics\n",
    "x = [1, 3, 5, 7, 9, 11]\n",
    "freq = [42, 52, 28, 20, 18, 16]\n",
    "raw_data = []\n",
    "index = 0\n",
    "for item in freq:\n",
    "    count = item\n",
    "    while count != 0:\n",
    "        raw_data.append(x[index])\n",
    "        count = count - 1\n",
    "    index = index + 1\n",
    "mean = statistics.mean(raw_data)\n",
    "std = statistics.pstdev(raw_data)\n",
    "print(\"mean = \" + str(mean))\n",
    "print(\"std = \" + str(std))"
   ]
  },
  {
   "cell_type": "markdown",
   "id": "cdb3ffca-d07c-43c9-9b94-9de685034e54",
   "metadata": {},
   "source": [
    "part (c) omitted"
   ]
  },
  {
   "cell_type": "code",
   "execution_count": 2,
   "id": "c0b41f8e-278b-4b32-85bf-3eb64e307082",
   "metadata": {},
   "outputs": [],
   "source": [
    "import math\n",
    "from scipy.special import gamma\n",
    "from scipy.integrate import quad\n",
    "\n",
    "class chi:\n",
    "    def __init__(self, nu):\n",
    "        self.a = (nu / 2) - 1\n",
    "        self.b = nu / 2\n",
    "        self.c = gamma(nu / 2)\n",
    "\n",
    "    def chi_stat(self, observed, expected):\n",
    "        count = len(observed) - 1\n",
    "        stats = []\n",
    "        while count != -1:\n",
    "            stat = ((observed[count] - expected[count])**2) / (expected[count])\n",
    "            stats.append(stat)\n",
    "            count = count - 1\n",
    "        result = sum(stats)\n",
    "        return result\n",
    "        \n",
    "    def chi_pdf(self, x):\n",
    "        return (pow(x, self.a) * math.exp((-1 * x) / 2)) / ((2**(self.b)) * self.c)\n",
    "\n",
    "    def integrate(self, upper_limit):\n",
    "        result, error = quad(self.chi_pdf, 0, upper_limit)\n",
    "        return result"
   ]
  },
  {
   "cell_type": "code",
   "execution_count": 3,
   "id": "44ba921f-cc0c-4ce3-8fc4-00ecb8b79135",
   "metadata": {},
   "outputs": [
    {
     "name": "stdout",
     "output_type": "stream",
     "text": [
      "d) 5.7272727272727275\n"
     ]
    }
   ],
   "source": [
    "n = sum(freq)\n",
    "a = (2/8) * n\n",
    "b = (1/8) * n\n",
    "expt = [a, a, b, b, b, b]\n",
    "chisq = chi(5)\n",
    "stat = chisq.chi_stat(freq, expt)\n",
    "print(\"d) \" + str(stat))"
   ]
  },
  {
   "cell_type": "code",
   "execution_count": 4,
   "id": "55f847bb-56c0-4a76-8eff-7026b942be23",
   "metadata": {},
   "outputs": [
    {
     "name": "stdout",
     "output_type": "stream",
     "text": [
      "0.6663326859311192\n",
      "do not reject the null\n"
     ]
    }
   ],
   "source": [
    "prob = chisq.integrate(stat)\n",
    "print(prob)\n",
    "if prob < 0.95:\n",
    "    print(\"do not reject the null\")\n",
    "else:\n",
    "    print(\"reject the null\")"
   ]
  }
 ],
 "metadata": {
  "kernelspec": {
   "display_name": "Python 3 (ipykernel)",
   "language": "python",
   "name": "python3"
  },
  "language_info": {
   "codemirror_mode": {
    "name": "ipython",
    "version": 3
   },
   "file_extension": ".py",
   "mimetype": "text/x-python",
   "name": "python",
   "nbconvert_exporter": "python",
   "pygments_lexer": "ipython3",
   "version": "3.12.1"
  }
 },
 "nbformat": 4,
 "nbformat_minor": 5
}

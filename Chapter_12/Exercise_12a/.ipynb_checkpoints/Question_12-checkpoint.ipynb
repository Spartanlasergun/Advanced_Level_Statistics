{
 "cells": [
  {
   "cell_type": "markdown",
   "id": "6176b6d3-ed95-4cde-b6ad-d816948d6761",
   "metadata": {},
   "source": [
    "# Question 12\n",
    "-----"
   ]
  },
  {
   "cell_type": "code",
   "execution_count": 1,
   "id": "7fc57b81-754e-4d24-a564-57a6685789da",
   "metadata": {},
   "outputs": [],
   "source": [
    "import math\n",
    "from scipy.special import gamma\n",
    "from scipy.integrate import quad\n",
    "\n",
    "class chi:\n",
    "    def __init__(self, nu):\n",
    "        self.a = (nu / 2) - 1\n",
    "        self.b = nu / 2\n",
    "        self.c = gamma(nu / 2)\n",
    "\n",
    "    def chi_stat(self, observed, expected):\n",
    "        count = len(observed) - 1\n",
    "        stats = []\n",
    "        while count != -1:\n",
    "            stat = ((observed[count] - expected[count])**2) / (expected[count])\n",
    "            stats.append(stat)\n",
    "            count = count - 1\n",
    "        result = sum(stats)\n",
    "        return result\n",
    "        \n",
    "    def chi_pdf(self, x):\n",
    "        return (pow(x, self.a) * math.exp((-1 * x) / 2)) / ((2**(self.b)) * self.c)\n",
    "\n",
    "    def integrate(self, upper_limit):\n",
    "        result, error = quad(self.chi_pdf, 0, upper_limit)\n",
    "        return result"
   ]
  },
  {
   "cell_type": "code",
   "execution_count": 2,
   "id": "a31027eb-dd1d-40be-9fed-1d849b3e49f1",
   "metadata": {},
   "outputs": [
    {
     "name": "stdout",
     "output_type": "stream",
     "text": [
      "4.4\n"
     ]
    }
   ],
   "source": [
    "obsv = [14, 16, 24, 22, 24, 20]\n",
    "expt = [20, 20, 20, 20, 20, 20]\n",
    "chisq = chi(5)\n",
    "stat = chisq.chi_stat(obsv, expt)\n",
    "print(stat)"
   ]
  },
  {
   "cell_type": "code",
   "execution_count": 3,
   "id": "796e7b45-ec9e-41c4-9387-3d23cb036b3b",
   "metadata": {},
   "outputs": [
    {
     "name": "stdout",
     "output_type": "stream",
     "text": [
      "0.5066264764385181\n",
      "do not reject the null\n"
     ]
    }
   ],
   "source": [
    "prob = chisq.integrate(stat)\n",
    "print(prob)\n",
    "if prob < 0.9:\n",
    "    print(\"do not reject the null\")\n",
    "else:\n",
    "    print(\"reject the null\")"
   ]
  }
 ],
 "metadata": {
  "kernelspec": {
   "display_name": "Python 3 (ipykernel)",
   "language": "python",
   "name": "python3"
  },
  "language_info": {
   "codemirror_mode": {
    "name": "ipython",
    "version": 3
   },
   "file_extension": ".py",
   "mimetype": "text/x-python",
   "name": "python",
   "nbconvert_exporter": "python",
   "pygments_lexer": "ipython3",
   "version": "3.12.1"
  }
 },
 "nbformat": 4,
 "nbformat_minor": 5
}

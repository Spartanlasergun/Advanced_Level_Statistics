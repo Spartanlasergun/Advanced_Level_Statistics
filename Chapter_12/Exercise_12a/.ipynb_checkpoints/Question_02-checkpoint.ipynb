{
 "cells": [
  {
   "cell_type": "markdown",
   "id": "3f14af30-9a3f-413d-967d-fbc9e41eef74",
   "metadata": {},
   "source": [
    "# Question 2\n",
    "-----"
   ]
  },
  {
   "cell_type": "code",
   "execution_count": 1,
   "id": "a3bf5637-9f4c-4719-a7d2-2c5a3c687c57",
   "metadata": {},
   "outputs": [
    {
     "name": "stdout",
     "output_type": "stream",
     "text": [
      "Chi-squared statistic: 18.16\n",
      "P-value: 0.03336198390982738\n",
      "Fail to reject null hypothesis: The observed frequencies fit the expected frequencies.\n"
     ]
    }
   ],
   "source": [
    "from scipy.stats import chisquare\n",
    "import numpy as np\n",
    "\n",
    "# Define the observed frequencies\n",
    "observed_frequencies = [40, 58, 49, 53, 38, 56, 61, 53, 60, 32]\n",
    "\n",
    "# Define the expected frequencies (you can also calculate them)\n",
    "expected_frequencies = [50, 50, 50, 50, 50, 50, 50, 50, 50, 50]  # For simplicity, let's assume equal expected frequencies\n",
    "\n",
    "# Perform the chi-squared test for goodness of fit\n",
    "chi2, p = chisquare(observed_frequencies, f_exp=expected_frequencies)\n",
    "\n",
    "# Output the results\n",
    "print(\"Chi-squared statistic:\", chi2)\n",
    "print(\"P-value:\", p)\n",
    "\n",
    "# Check significance level\n",
    "alpha = 0.01\n",
    "if p < alpha:\n",
    "    print(\"Reject null hypothesis: The observed frequencies do not fit the expected frequencies.\")\n",
    "else:\n",
    "    print(\"Fail to reject null hypothesis: The observed frequencies fit the expected frequencies.\")\n"
   ]
  }
 ],
 "metadata": {
  "kernelspec": {
   "display_name": "Python 3 (ipykernel)",
   "language": "python",
   "name": "python3"
  },
  "language_info": {
   "codemirror_mode": {
    "name": "ipython",
    "version": 3
   },
   "file_extension": ".py",
   "mimetype": "text/x-python",
   "name": "python",
   "nbconvert_exporter": "python",
   "pygments_lexer": "ipython3",
   "version": "3.12.1"
  }
 },
 "nbformat": 4,
 "nbformat_minor": 5
}

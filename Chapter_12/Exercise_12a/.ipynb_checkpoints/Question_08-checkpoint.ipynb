{
 "cells": [
  {
   "cell_type": "markdown",
   "id": "b0647166-a241-42be-8d0e-77395050b5ce",
   "metadata": {},
   "source": [
    "# Question 8\n",
    "-----"
   ]
  },
  {
   "cell_type": "code",
   "execution_count": 1,
   "id": "9e342feb-e77e-449b-9d0e-97ddac9183da",
   "metadata": {},
   "outputs": [],
   "source": [
    "import math\n",
    "from scipy.special import gamma\n",
    "from scipy.integrate import quad\n",
    "\n",
    "class chi:\n",
    "    def __init__(self, nu):\n",
    "        self.a = (nu / 2) - 1\n",
    "        self.b = nu / 2\n",
    "        self.c = gamma(nu / 2)\n",
    "\n",
    "    def chi_stat(self, observed, expected):\n",
    "        count = len(observed) - 1\n",
    "        stats = []\n",
    "        while count != -1:\n",
    "            stat = ((observed[count] - expected[count])**2) / (expected[count])\n",
    "            stats.append(stat)\n",
    "            count = count - 1\n",
    "        result = sum(stats)\n",
    "        return result\n",
    "        \n",
    "    def chi_pdf(self, x):\n",
    "        return (pow(x, self.a) * math.exp((-1 * x) / 2)) / ((2**(self.b)) * self.c)\n",
    "\n",
    "    def integrate(self, upper_limit):\n",
    "        result, error = quad(self.chi_pdf, 0, upper_limit)\n",
    "        return result"
   ]
  },
  {
   "cell_type": "code",
   "execution_count": 2,
   "id": "73640cf6-a7ae-4d3c-b4c7-c1018a952a3c",
   "metadata": {},
   "outputs": [
    {
     "name": "stdout",
     "output_type": "stream",
     "text": [
      "15.519999999999714\n"
     ]
    }
   ],
   "source": [
    "chisq = chi(8)\n",
    "x = 1\n",
    "prob = 0\n",
    "while prob < 0.95:\n",
    "    prob = chisq.integrate(x)\n",
    "    x = x + 0.01\n",
    "print(x)"
   ]
  }
 ],
 "metadata": {
  "kernelspec": {
   "display_name": "Python 3 (ipykernel)",
   "language": "python",
   "name": "python3"
  },
  "language_info": {
   "codemirror_mode": {
    "name": "ipython",
    "version": 3
   },
   "file_extension": ".py",
   "mimetype": "text/x-python",
   "name": "python",
   "nbconvert_exporter": "python",
   "pygments_lexer": "ipython3",
   "version": "3.12.1"
  }
 },
 "nbformat": 4,
 "nbformat_minor": 5
}

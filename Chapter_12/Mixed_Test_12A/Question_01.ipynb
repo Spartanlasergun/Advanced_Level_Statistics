{
 "cells": [
  {
   "cell_type": "markdown",
   "id": "483f0803-c778-4ee1-b311-ea8ab1ed10d8",
   "metadata": {},
   "source": [
    "# Question 1\n",
    "-----"
   ]
  },
  {
   "cell_type": "code",
   "execution_count": 1,
   "id": "341a18fd-ed5d-42ef-a92e-802753fb4e90",
   "metadata": {},
   "outputs": [
    {
     "name": "stdout",
     "output_type": "stream",
     "text": [
      "a) 1.04\n"
     ]
    }
   ],
   "source": [
    "mean = (54 + 72 + 30) / (50 + 54 + 36 + 10)\n",
    "print(\"a) \" + str(mean))"
   ]
  },
  {
   "cell_type": "markdown",
   "id": "0a1ed318-f438-4de8-8f2b-9fcc149d5aa5",
   "metadata": {},
   "source": [
    "b) random events"
   ]
  },
  {
   "cell_type": "code",
   "execution_count": 2,
   "id": "078ada5c-f8f8-4dac-9bdc-1ccf3d12341a",
   "metadata": {},
   "outputs": [],
   "source": [
    "import math\n",
    "\n",
    "class poisson:\n",
    "    def __init__(self, lamb):\n",
    "        self.lamb = lamb\n",
    "\n",
    "    def prob(self, x):\n",
    "        pois = math.exp(-self.lamb) * (pow(self.lamb, x) / math.factorial(x))\n",
    "        return pois\n",
    "\n",
    "    def freq(self, event, sample):\n",
    "        freq = self.prob(event) * sample \n",
    "        freq = round(freq, 0)\n",
    "        return freq"
   ]
  },
  {
   "cell_type": "code",
   "execution_count": 3,
   "id": "d06502dd-d6a3-41ed-a0c1-f02f040709e4",
   "metadata": {},
   "outputs": [
    {
     "name": "stdout",
     "output_type": "stream",
     "text": [
      "[58.011153518175185, 55.11059584226642, 26.17753302507655, 8.289552124607573]\n"
     ]
    }
   ],
   "source": [
    "pois_dist = poisson(0.95)\n",
    "p0 = pois_dist.prob(0)\n",
    "p1 = pois_dist.prob(1)\n",
    "p2 = pois_dist.prob(2)\n",
    "p3 = pois_dist.prob(3)\n",
    "prob = [p0, p1, p2, p3]\n",
    "expt = []\n",
    "for item in prob:\n",
    "    ex = item * (50 + 54 + 36 + 10)\n",
    "    expt.append(ex)\n",
    "print(expt)"
   ]
  },
  {
   "cell_type": "code",
   "execution_count": 4,
   "id": "6b977f04-25fa-4257-b4dd-a68dd391c7d5",
   "metadata": {},
   "outputs": [],
   "source": [
    "import math\n",
    "from scipy.special import gamma\n",
    "from scipy.integrate import quad\n",
    "\n",
    "class chi:\n",
    "    def __init__(self, nu):\n",
    "        self.a = (nu / 2) - 1\n",
    "        self.b = nu / 2\n",
    "        self.c = gamma(nu / 2)\n",
    "\n",
    "    def chi_stat(self, observed, expected, yates=False):\n",
    "        count = len(observed) - 1\n",
    "        stats = []\n",
    "        correction = 0\n",
    "        if yates:\n",
    "            correction = 0.5\n",
    "        while count != -1:\n",
    "            OE = (observed[count] - expected[count])\n",
    "            mod = abs(OE) - correction\n",
    "            stat = (mod**2) / (expected[count])\n",
    "            stats.append(stat)\n",
    "            count = count - 1\n",
    "        result = sum(stats)\n",
    "        return result\n",
    "        \n",
    "    def chi_pdf(self, x):\n",
    "        return (pow(x, self.a) * math.exp((-1 * x) / 2)) / ((2**(self.b)) * self.c)\n",
    "\n",
    "    def integrate(self, upper_limit):\n",
    "        result, error = quad(self.chi_pdf, 0, upper_limit)\n",
    "        return result\n",
    "\n",
    "    def expected(self, observed):\n",
    "        row_totals = []\n",
    "        for item in observed:\n",
    "            total = sum(item)\n",
    "            row_totals.append(total)\n",
    "        rows = len(observed[0])\n",
    "        index = 0\n",
    "        column_totals = []\n",
    "        while index != rows:\n",
    "            total = 0\n",
    "            for item in observed:\n",
    "                total = total + item[index]\n",
    "            column_totals.append(total)\n",
    "            index = index + 1\n",
    "        expt = []\n",
    "        for r_val in row_totals:\n",
    "            for c_val in column_totals:\n",
    "                ex = c_val * r_val / (sum(row_totals))\n",
    "                expt.append(ex)\n",
    "        obsv = [num for sublist in observed for num in sublist]\n",
    "        return obsv, expt"
   ]
  },
  {
   "cell_type": "code",
   "execution_count": 5,
   "id": "a4cabcfb-2ff6-4659-af8d-19c74960eca3",
   "metadata": {},
   "outputs": [
    {
     "name": "stdout",
     "output_type": "stream",
     "text": [
      "5.167261389873611\n",
      "0.840048760823521\n",
      "do not reject the null\n"
     ]
    }
   ],
   "source": [
    "obsv = [50, 54, 36, 10]\n",
    "chisq = chi(3)\n",
    "stat = chisq.chi_stat(obsv, expt)\n",
    "print(stat)\n",
    "prob = chisq.integrate(stat)\n",
    "print(prob)\n",
    "if prob < 0.95:\n",
    "    print(\"do not reject the null\")\n",
    "else:\n",
    "    print(\"reject the null\")"
   ]
  }
 ],
 "metadata": {
  "kernelspec": {
   "display_name": "Python 3 (ipykernel)",
   "language": "python",
   "name": "python3"
  },
  "language_info": {
   "codemirror_mode": {
    "name": "ipython",
    "version": 3
   },
   "file_extension": ".py",
   "mimetype": "text/x-python",
   "name": "python",
   "nbconvert_exporter": "python",
   "pygments_lexer": "ipython3",
   "version": "3.12.1"
  }
 },
 "nbformat": 4,
 "nbformat_minor": 5
}

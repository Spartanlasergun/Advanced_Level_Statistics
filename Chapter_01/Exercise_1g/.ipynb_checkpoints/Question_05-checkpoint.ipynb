{
 "cells": [
  {
   "cell_type": "markdown",
   "id": "437f3068-5f45-4088-a8da-c34769198165",
   "metadata": {},
   "source": [
    "# Question 5\n",
    "-----"
   ]
  },
  {
   "cell_type": "markdown",
   "id": "3455ca0c-a9c7-4d09-b0f3-64ba88bad830",
   "metadata": {},
   "source": [
    "$$\\frac{a + b + 8 + 5 + 7}{5} = 6 $$\n",
    "\n",
    "$$ a + b + 20 = 30 $$\n",
    "\n",
    "$$ a + b = 10 \\ \\ \\ \\ -> equation \\ \\ one $$\n",
    "\n",
    "$$ 2 = \\frac{a^2 + b^2 + 8^2 + 5^2 + 7^2}{5} - 6^2 $$\n",
    "\n",
    "$$ 2 + 36 = \\frac{a^2 + b^2 + 138}{5} $$\n",
    "\n",
    "$$ 190 = a^2 + b^2 + 138 $$\n",
    "\n",
    "$$ a^2 + b^2 = 52 \\ \\ \\ \\ -> equation \\ \\ two $$\n",
    "\n",
    "Since $a + b = 10$ ; $a = 10 - b$\n",
    "\n",
    "substituting equation one into two gives us a quadratic of the form:\n",
    "\n",
    "$$ 2x^2 -20x + 48 = 0 $$\n",
    "\n",
    "$$ a = 2, \\ \\ b = -20, \\ \\ c = 48 $$\n",
    "\n",
    "$$ x = \\frac{-b \\pm \\sqrt{b^2 - 4ac}}{2a} $$\n",
    "\n",
    "solving the quadratic equation gives us two values:\n",
    "\n",
    "$$ x = 6, \\ \\ and \\ \\ 4 $$\n",
    "\n",
    "since $ a = 10 - b $ and $a > b$, \n",
    "\n",
    "$$a = 6, \\ \\  b = 4$$"
   ]
  }
 ],
 "metadata": {
  "kernelspec": {
   "display_name": "Python 3 (ipykernel)",
   "language": "python",
   "name": "python3"
  },
  "language_info": {
   "codemirror_mode": {
    "name": "ipython",
    "version": 3
   },
   "file_extension": ".py",
   "mimetype": "text/x-python",
   "name": "python",
   "nbconvert_exporter": "python",
   "pygments_lexer": "ipython3",
   "version": "3.11.2"
  }
 },
 "nbformat": 4,
 "nbformat_minor": 5
}

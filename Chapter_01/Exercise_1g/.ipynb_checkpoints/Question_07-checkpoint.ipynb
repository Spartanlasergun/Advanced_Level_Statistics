{
 "cells": [
  {
   "cell_type": "markdown",
   "id": "4876b7d2-6f8c-4290-8f1f-00cc72afb9e2",
   "metadata": {},
   "source": [
    "# Question 7\n",
    "----"
   ]
  },
  {
   "cell_type": "markdown",
   "id": "750559c6-28ef-438b-a17f-b18b44667c59",
   "metadata": {},
   "source": [
    "$$ 3a + 147 = 3.66a + 139.08$$\n",
    "\n",
    "$$ a = \\frac{7.92}{0.66} $$\n",
    "\n",
    "$$ a = 12 $$"
   ]
  }
 ],
 "metadata": {
  "kernelspec": {
   "display_name": "Python 3 (ipykernel)",
   "language": "python",
   "name": "python3"
  },
  "language_info": {
   "codemirror_mode": {
    "name": "ipython",
    "version": 3
   },
   "file_extension": ".py",
   "mimetype": "text/x-python",
   "name": "python",
   "nbconvert_exporter": "python",
   "pygments_lexer": "ipython3",
   "version": "3.11.2"
  }
 },
 "nbformat": 4,
 "nbformat_minor": 5
}

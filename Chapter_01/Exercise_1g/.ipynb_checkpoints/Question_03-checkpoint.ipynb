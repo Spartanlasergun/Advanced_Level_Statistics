{
 "cells": [
  {
   "cell_type": "markdown",
   "id": "afea4093-c8d4-4dec-b19f-8f7c24bbb81c",
   "metadata": {},
   "source": [
    "# Question 3\n",
    "-----"
   ]
  },
  {
   "cell_type": "markdown",
   "id": "b5620701-6a00-4213-8f8c-eeabd9d7969d",
   "metadata": {},
   "source": [
    "$$ 5n = 6n - 7 $$\n",
    "\n",
    "$$ -n = -7 $$\n",
    "\n",
    "$$Hence, \\ \\ \\ n = 7 $$"
   ]
  }
 ],
 "metadata": {
  "kernelspec": {
   "display_name": "Python 3 (ipykernel)",
   "language": "python",
   "name": "python3"
  },
  "language_info": {
   "codemirror_mode": {
    "name": "ipython",
    "version": 3
   },
   "file_extension": ".py",
   "mimetype": "text/x-python",
   "name": "python",
   "nbconvert_exporter": "python",
   "pygments_lexer": "ipython3",
   "version": "3.11.2"
  }
 },
 "nbformat": 4,
 "nbformat_minor": 5
}

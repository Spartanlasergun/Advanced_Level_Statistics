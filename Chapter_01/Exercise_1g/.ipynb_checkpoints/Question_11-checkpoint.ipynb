{
 "cells": [
  {
   "cell_type": "markdown",
   "id": "1a6bfdda-3202-48b6-ab09-dc3104424f71",
   "metadata": {},
   "source": [
    "# Question 11\n",
    "-----"
   ]
  },
  {
   "cell_type": "code",
   "execution_count": 1,
   "id": "2d5525c0",
   "metadata": {
    "tags": []
   },
   "outputs": [
    {
     "name": "stdout",
     "output_type": "stream",
     "text": [
      "The mean of the combined sample is = 11.713628620102215\n",
      "The standard deviation of the combined sample is = 2.152519608776095\n"
     ]
    }
   ],
   "source": [
    "import math\n",
    "\n",
    "sum_of_x = 12.4 * 350\n",
    "sum_of_y = 10.7 * 237\n",
    "mean_xy = (sum_of_x + sum_of_y) / 587\n",
    "print(\"The mean of the combined sample is = \" +str(mean_xy))\n",
    "\n",
    "# var_x = (sumxsqr / 350) - (mean_x^2)\n",
    "sumxsqr = 350 * (pow(2.1, 2) + pow(12.4, 2))\n",
    "\n",
    "# var_y = (sumysqr / 237) - (mean_y^2)\n",
    "sumysqr = 237 * (pow(1.8, 2) + pow(10.7, 2))\n",
    "\n",
    "var_xy = ((sumxsqr + sumysqr) / 587) - pow(mean_xy, 2)\n",
    "std_xy = math.sqrt(var_xy)\n",
    "\n",
    "print(\"The standard deviation of the combined sample is = \" + str(std_xy))"
   ]
  }
 ],
 "metadata": {
  "kernelspec": {
   "display_name": "Python 3 (ipykernel)",
   "language": "python",
   "name": "python3"
  },
  "language_info": {
   "codemirror_mode": {
    "name": "ipython",
    "version": 3
   },
   "file_extension": ".py",
   "mimetype": "text/x-python",
   "name": "python",
   "nbconvert_exporter": "python",
   "pygments_lexer": "ipython3",
   "version": "3.11.2"
  }
 },
 "nbformat": 4,
 "nbformat_minor": 5
}

{
 "cells": [
  {
   "cell_type": "markdown",
   "id": "8c73d3fd-1b3b-4547-8eef-598d7270fb11",
   "metadata": {},
   "source": [
    "# Question 2\n",
    "-----"
   ]
  },
  {
   "cell_type": "markdown",
   "id": "5751c879-9b03-4e99-9450-ef05c68bd6bd",
   "metadata": {},
   "source": [
    "$$ \\frac{\\Sigma{x}}{4} = 5 $$ \n",
    "\n",
    "$$ \\Sigma{x} = 20 $$\n",
    "\n",
    "$$ \\frac{\\Sigma{y}}{3} = 12 $$\n",
    "\n",
    "$$ \\Sigma{y} = 36 $$\n",
    "\n",
    "$$ \\bar x_{x+y} = \\frac{20 + 36}{4 + 3} $$\n",
    "\n",
    "$$ \\bar x_{x+y} = \\frac{56}{7} $$\n",
    "\n",
    "$$ \\bar x_{x+y} = 8 $$"
   ]
  }
 ],
 "metadata": {
  "kernelspec": {
   "display_name": "Python 3 (ipykernel)",
   "language": "python",
   "name": "python3"
  },
  "language_info": {
   "codemirror_mode": {
    "name": "ipython",
    "version": 3
   },
   "file_extension": ".py",
   "mimetype": "text/x-python",
   "name": "python",
   "nbconvert_exporter": "python",
   "pygments_lexer": "ipython3",
   "version": "3.11.2"
  }
 },
 "nbformat": 4,
 "nbformat_minor": 5
}

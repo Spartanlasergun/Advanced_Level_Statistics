{
 "cells": [
  {
   "cell_type": "markdown",
   "id": "7edbcdcf-0e9d-443e-8840-da8b58529b4d",
   "metadata": {},
   "source": [
    "# Question 10\n",
    "-----"
   ]
  },
  {
   "cell_type": "markdown",
   "id": "30ed4504-16ac-4997-8826-349455f49f29",
   "metadata": {},
   "source": [
    "$$ \\Sigma x = 9 $$\n",
    "\n",
    "$$ \\Sigma y = 14 $$\n",
    "\n",
    "$$ \\frac{\\Sigma(x + y)}{n} = \\frac{14 + 9}{10} $$\n",
    "\n",
    "$$ \\bar{xy} = 2.3 $$\n",
    "\n",
    "$$ \\sigma_x = \\frac{\\Sigma x^2}{5} - \\bar x^2 $$\n",
    "\n",
    "$$ \\Sigma x^2 = 5 * (\\sigma_x + \\bar x^2) $$\n",
    "\n",
    "$$ \\Sigma x^2 = 5 * (0.56 + 3.24) $$\n",
    "\n",
    "$$ \\Sigma x^2 = 19 $$\n",
    "\n",
    "$$ \\sigma_y = \\frac{\\Sigma y^2}{5} - \\bar y^2 $$\n",
    "\n",
    "$$ \\Sigma y^2 = 5 * (\\sigma_y + \\bar y^2)$$\n",
    "\n",
    "$$ \\Sigma y^2 = 5 * (1.76 + 7.84) $$\n",
    "\n",
    "$$ \\Sigma y^2 = 48 $$\n",
    "\n",
    "$$ \\sigma_{xy} = \\frac{\\Sigma x^2 + \\Sigma y^2}{10} - \\bar xy^2 $$\n",
    "\n",
    "$$ \\sigma_{xy} = \\frac{19 + 48}{10} - 2.3^2 $$\n",
    "\n",
    "$$ \\sigma_{xy} = 1.41 $$\n"
   ]
  }
 ],
 "metadata": {
  "kernelspec": {
   "display_name": "Python 3 (ipykernel)",
   "language": "python",
   "name": "python3"
  },
  "language_info": {
   "codemirror_mode": {
    "name": "ipython",
    "version": 3
   },
   "file_extension": ".py",
   "mimetype": "text/x-python",
   "name": "python",
   "nbconvert_exporter": "python",
   "pygments_lexer": "ipython3",
   "version": "3.11.2"
  }
 },
 "nbformat": 4,
 "nbformat_minor": 5
}

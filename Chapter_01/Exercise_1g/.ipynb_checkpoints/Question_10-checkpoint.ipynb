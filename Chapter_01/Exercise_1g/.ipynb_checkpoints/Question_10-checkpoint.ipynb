{
 "cells": [
  {
   "cell_type": "code",
   "execution_count": 1,
   "id": "a60108b3",
   "metadata": {},
   "outputs": [
    {
     "name": "stdout",
     "output_type": "stream",
     "text": [
      "The mean is = 2.3 and the variance is = 1.41\n"
     ]
    }
   ],
   "source": [
    "# sum_of_x = 9\n",
    "# sum_of_y = 14\n",
    "# mean_xy = (14 + 9) / 10\n",
    "# mean_xy = 2.3\n",
    "\n",
    "# var_x = (sum_x_sqr / 5) - mean_x_sqr\n",
    "# => sum_x_sqr = 5 * (var_x + mean_x_sqr)\n",
    "# sum_x_sqr = 5 * (0.56 + 3.24)\n",
    "# sum x_sqr = 19\n",
    "\n",
    "# var_y = (sum_y_sqr / 5) - mean_y_sqr\n",
    "# => sum_y_sqr = 5 * (var_y + mean_y_sqr)\n",
    "# sum_y_sqr = 5 * (1.76 + 7.84)\n",
    "# sum_y_sqr = 48\n",
    "\n",
    "# var_xy = ((sum_x_sqr + sum_y_sqr) / 10) - (mean_xy)^2\n",
    "# var_xy = ((19 + 48) / 10) - (2.3^2)\n",
    "# var_xy = 1.41\n",
    "\n",
    "print(\"The mean is = 2.3 and the variance is = 1.41\")"
   ]
  }
 ],
 "metadata": {
  "kernelspec": {
   "display_name": "Python 3 (ipykernel)",
   "language": "python",
   "name": "python3"
  },
  "language_info": {
   "codemirror_mode": {
    "name": "ipython",
    "version": 3
   },
   "file_extension": ".py",
   "mimetype": "text/x-python",
   "name": "python",
   "nbconvert_exporter": "python",
   "pygments_lexer": "ipython3",
   "version": "3.10.7"
  }
 },
 "nbformat": 4,
 "nbformat_minor": 5
}

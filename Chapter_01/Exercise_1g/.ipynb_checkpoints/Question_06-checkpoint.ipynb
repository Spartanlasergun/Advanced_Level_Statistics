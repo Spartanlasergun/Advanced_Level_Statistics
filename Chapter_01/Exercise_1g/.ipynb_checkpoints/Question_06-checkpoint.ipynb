{
 "cells": [
  {
   "cell_type": "markdown",
   "id": "fd28f1b0-0795-4923-a113-034ab062ab0e",
   "metadata": {},
   "source": [
    "# Question 6\n",
    "-----"
   ]
  },
  {
   "cell_type": "code",
   "execution_count": 1,
   "id": "c8c866d8",
   "metadata": {
    "tags": []
   },
   "outputs": [
    {
     "name": "stdout",
     "output_type": "stream",
     "text": [
      "The mean of the combined sets is = 15.5\n",
      "The standard deviation of the combined sets is = 7.858116822750856\n"
     ]
    }
   ],
   "source": [
    "import math\n",
    "\n",
    "mean_a = 300 / 20\n",
    "mean_b = 480 / 30\n",
    "combined_mean = (mean_a + mean_b) / 2\n",
    "\n",
    "std = math.sqrt(((5500 + 9600) / 50) - pow(combined_mean, 2))\n",
    "\n",
    "print(\"The mean of the combined sets is = \" + str(combined_mean))\n",
    "print(\"The standard deviation of the combined sets is = \" + str(std))"
   ]
  }
 ],
 "metadata": {
  "kernelspec": {
   "display_name": "Python 3 (ipykernel)",
   "language": "python",
   "name": "python3"
  },
  "language_info": {
   "codemirror_mode": {
    "name": "ipython",
    "version": 3
   },
   "file_extension": ".py",
   "mimetype": "text/x-python",
   "name": "python",
   "nbconvert_exporter": "python",
   "pygments_lexer": "ipython3",
   "version": "3.11.2"
  }
 },
 "nbformat": 4,
 "nbformat_minor": 5
}

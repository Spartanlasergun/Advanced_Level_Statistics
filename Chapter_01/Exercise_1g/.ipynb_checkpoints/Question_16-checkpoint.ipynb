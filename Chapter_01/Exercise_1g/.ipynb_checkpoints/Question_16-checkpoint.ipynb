{
 "cells": [
  {
   "cell_type": "markdown",
   "id": "623d42c1-16a9-4907-a2f8-7fb9ba0fea9c",
   "metadata": {},
   "source": [
    "# Question 16\n",
    "-----"
   ]
  },
  {
   "cell_type": "code",
   "execution_count": 1,
   "id": "a1364ff0",
   "metadata": {
    "tags": []
   },
   "outputs": [
    {
     "name": "stdout",
     "output_type": "stream",
     "text": [
      "The standard deviation of the combined data set is = 4.444097208657794\n"
     ]
    }
   ],
   "source": [
    "import math\n",
    "\n",
    "sum_boys = 160 * 20\n",
    "sum_girls = 155 * 30\n",
    "mean_bg = (sum_boys + sum_girls) / 50\n",
    "\n",
    "var_boys = pow(4, 2)\n",
    "var_girls = pow(3.5, 2)\n",
    "\n",
    "sum_b_sqr = 20 * (var_boys + pow(160, 2))\n",
    "sum_g_sqr = 30 * (var_girls + pow(155, 2))\n",
    "\n",
    "var_bg = ((sum_b_sqr + sum_g_sqr) / 50) - pow(mean_bg, 2)\n",
    "std_bg = math.sqrt(var_bg)\n",
    "\n",
    "print(\"The standard deviation of the combined data set is = \" + str(std_bg))"
   ]
  }
 ],
 "metadata": {
  "kernelspec": {
   "display_name": "Python 3 (ipykernel)",
   "language": "python",
   "name": "python3"
  },
  "language_info": {
   "codemirror_mode": {
    "name": "ipython",
    "version": 3
   },
   "file_extension": ".py",
   "mimetype": "text/x-python",
   "name": "python",
   "nbconvert_exporter": "python",
   "pygments_lexer": "ipython3",
   "version": "3.11.2"
  }
 },
 "nbformat": 4,
 "nbformat_minor": 5
}

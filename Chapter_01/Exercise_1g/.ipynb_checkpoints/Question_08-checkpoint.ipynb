{
 "cells": [
  {
   "cell_type": "markdown",
   "id": "c52ccefd-452b-44bc-91b0-67af7092c372",
   "metadata": {},
   "source": [
    "# Question 8\n",
    "-----"
   ]
  },
  {
   "cell_type": "markdown",
   "id": "8296a6f9-f760-4d89-a5ea-09de6cb87829",
   "metadata": {},
   "source": [
    "$$ x + y = 22 $$\n",
    "\n",
    "$$ x = 22 - y$$\n",
    "\n",
    "subtituting into $ x + 3y = 36 $,\n",
    "\n",
    "$$ 22 - y + 3y = 36 $$\n",
    "\n",
    "$$ 2y = 14 $$\n",
    "\n",
    "$$ y = 7 $$\n",
    "\n",
    "Hence, \n",
    "\n",
    "$$ x + 7 = 22$$\n",
    "\n",
    "$$ x = 15 $$"
   ]
  }
 ],
 "metadata": {
  "kernelspec": {
   "display_name": "Python 3 (ipykernel)",
   "language": "python",
   "name": "python3"
  },
  "language_info": {
   "codemirror_mode": {
    "name": "ipython",
    "version": 3
   },
   "file_extension": ".py",
   "mimetype": "text/x-python",
   "name": "python",
   "nbconvert_exporter": "python",
   "pygments_lexer": "ipython3",
   "version": "3.11.2"
  }
 },
 "nbformat": 4,
 "nbformat_minor": 5
}

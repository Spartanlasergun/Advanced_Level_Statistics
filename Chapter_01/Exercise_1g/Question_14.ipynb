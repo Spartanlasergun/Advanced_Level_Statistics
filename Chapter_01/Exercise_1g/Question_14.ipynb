{
 "cells": [
  {
   "cell_type": "code",
   "execution_count": 5,
   "id": "2671a7c4",
   "metadata": {},
   "outputs": [
    {
     "name": "stdout",
     "output_type": "stream",
     "text": [
      "The combined mean is = 195.45\n"
     ]
    }
   ],
   "source": [
    "import math\n",
    "\n",
    "sum_r = 190.35 * 32\n",
    "sum_s = 202.25 * 24\n",
    "mean_rs = (sum_r + sum_s) / (32 + 24)\n",
    "mean_rs = round(mean_rs, 2)\n",
    "print(\"The combined mean is = \" + str(mean_rs))"
   ]
  },
  {
   "cell_type": "code",
   "execution_count": 7,
   "id": "5e86285a",
   "metadata": {},
   "outputs": [
    {
     "name": "stdout",
     "output_type": "stream",
     "text": [
      "The standard deviation of the combined set is = 14.12\n"
     ]
    }
   ],
   "source": [
    "var_r = pow(10.4, 2)\n",
    "var_s = pow(15.5, 2)\n",
    "\n",
    "sum_r_sqr = 32 * (var_r + pow(190.35, 2))\n",
    "sum_s_sqr = 24 * (var_s + pow(202.25, 2))\n",
    "var_rs = ((sum_r_sqr + sum_s_sqr) / (32 + 24)) - pow(mean_rs, 2)\n",
    "std_rs = math.sqrt(var_rs)\n",
    "std_rs = round(std_rs, 2)\n",
    "print(\"The standard deviation of the combined set is = \" + str(std_rs))"
   ]
  }
 ],
 "metadata": {
  "kernelspec": {
   "display_name": "Python 3 (ipykernel)",
   "language": "python",
   "name": "python3"
  },
  "language_info": {
   "codemirror_mode": {
    "name": "ipython",
    "version": 3
   },
   "file_extension": ".py",
   "mimetype": "text/x-python",
   "name": "python",
   "nbconvert_exporter": "python",
   "pygments_lexer": "ipython3",
   "version": "3.10.7"
  }
 },
 "nbformat": 4,
 "nbformat_minor": 5
}

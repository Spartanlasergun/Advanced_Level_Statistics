{
 "cells": [
  {
   "cell_type": "code",
   "execution_count": 1,
   "id": "00c22f0e",
   "metadata": {},
   "outputs": [
    {
     "name": "stdout",
     "output_type": "stream",
     "text": [
      "The standard deviation is = 3.7416573867739413\n"
     ]
    }
   ],
   "source": [
    "import statistics\n",
    "\n",
    "# (3 + 6 + 7+ 14 + a) / 5 = 8\n",
    "# (30 + a) / 5 = 8\n",
    "# 30 + a = 40\n",
    "# a = 10\n",
    "data = [3, 6, 7, 14, 10]\n",
    "std = statistics.pstdev(data)\n",
    "print(\"The standard deviation is = \"+ str(std))"
   ]
  }
 ],
 "metadata": {
  "kernelspec": {
   "display_name": "Python 3 (ipykernel)",
   "language": "python",
   "name": "python3"
  },
  "language_info": {
   "codemirror_mode": {
    "name": "ipython",
    "version": 3
   },
   "file_extension": ".py",
   "mimetype": "text/x-python",
   "name": "python",
   "nbconvert_exporter": "python",
   "pygments_lexer": "ipython3",
   "version": "3.10.7"
  }
 },
 "nbformat": 4,
 "nbformat_minor": 5
}

{
 "cells": [
  {
   "cell_type": "markdown",
   "id": "56d61cc2-de91-401d-87c9-5b59a2296e11",
   "metadata": {},
   "source": [
    "# Question 9\n",
    "-----"
   ]
  },
  {
   "cell_type": "markdown",
   "id": "d6c95199-848a-405d-b6f9-f28a96bccb42",
   "metadata": {
    "tags": []
   },
   "source": [
    "$$ \\sigma^2_{north} => \\frac{\\Sigma{x^2}}{165} - 23.4^2 = 1.6^2 $$\n",
    "\n",
    "$$ \\Sigma{x^2_{north}} = 90769.8 $$\n",
    "\n",
    "$$ \\sigma^2_{NS} => \\frac{\\Sigma{x^2_{NS}}}{384} - 24.8^2 = 2.2^2 $$\n",
    "\n",
    "$$ \\Sigma{x^2_{NS}} = 238033.92 $$\n",
    "\n",
    "$$ \\Sigma{x^2_{south}} = 238033.92 - 90769.8 = 147264.12$$\n",
    "\n",
    "$$ \\Sigma{x_{NS}} = 24.8 * 384 = 9523.2 $$\n",
    "\n",
    "$$ \\Sigma{x_N} = 23.4 * 165 = 3861 $$\n",
    "\n",
    "$$ \\Sigma{x_S} = 9523.2 - 3861 = 5662.2 $$\n",
    "\n",
    "$$ \\bar x_{south} = 5662.2 / 219 = 25.9 $$\n",
    "\n",
    "$$ \\sigma_{south} = \\sqrt{((147264.12 / 219) - (25.9^2))} $$\n",
    "\n",
    "$$ \\sigma_{south} = 1.99 $$\n",
    "\n",
    "The mean is = 25.9 and the standard deviation is = 1.99"
   ]
  }
 ],
 "metadata": {
  "kernelspec": {
   "display_name": "Python 3 (ipykernel)",
   "language": "python",
   "name": "python3"
  },
  "language_info": {
   "codemirror_mode": {
    "name": "ipython",
    "version": 3
   },
   "file_extension": ".py",
   "mimetype": "text/x-python",
   "name": "python",
   "nbconvert_exporter": "python",
   "pygments_lexer": "ipython3",
   "version": "3.11.2"
  }
 },
 "nbformat": 4,
 "nbformat_minor": 5
}

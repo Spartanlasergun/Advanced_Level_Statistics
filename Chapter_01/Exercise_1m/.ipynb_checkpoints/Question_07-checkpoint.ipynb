{
 "cells": [
  {
   "cell_type": "markdown",
   "id": "6b64d970-fce1-40b3-bcc7-32488412e0f9",
   "metadata": {},
   "source": [
    "# Question Seven"
   ]
  },
  {
   "cell_type": "code",
   "execution_count": 16,
   "id": "c783f3fe-4060-4a3f-8e49-a44eae552daa",
   "metadata": {
    "tags": []
   },
   "outputs": [
    {
     "name": "stdout",
     "output_type": "stream",
     "text": [
      "December:\n",
      "median = 1.8\n",
      "upper quartile = 2.7\n",
      "lower quartile = 0.3\n",
      "\n",
      "July:\n",
      "median = 6.5\n",
      "upper quartile = 9.8\n",
      "lower quartile = 4.1\n"
     ]
    }
   ],
   "source": [
    "import statistics\n",
    "\n",
    "December = [6.0, 6.2, 6.4, 5.1, 4.1, 4.9, 3.1, 2.3, 2.3, 2.4, 2.4,\n",
    "           2.6, 2.7, 1.0, 1.0, 1.6, 1.8, 1.8, 1.9, 0, 0, 0, 0, 0, 0,\n",
    "           0.2, 0.3, 0.3, 0.7, 0.8, 0.8]\n",
    "\n",
    "July = [12.0, 12.1, 11.1, 11.3, 11.3, 11.4, 9.2, 9.2, 9.8, 9.8, 7.3, 7.4,\n",
    "       6.5, 6.5, 6.6, 6.6, 6.6, 5.0, 5.0, 5.2, 5.8, 5.4, 4.1, 4.3, 3.5, 3.5,\n",
    "       2.6, 1.1, 1.2, 0.3, 0.4]\n",
    "\n",
    "D_quantiles = statistics.quantiles(December, n=4)\n",
    "D_median = D_quantiles[1]\n",
    "D_upper = D_quantiles[2]\n",
    "D_lower = D_quantiles[0]\n",
    "\n",
    "J_quantiles = statistics.quantiles(July, n=4)\n",
    "J_median = J_quantiles[1]\n",
    "J_upper = J_quantiles[2]\n",
    "J_lower = J_quantiles[0]\n",
    "\n",
    "print(\"December:\")\n",
    "print(\"median = \" + str(D_median))\n",
    "print(\"upper quartile = \" + str(D_upper))\n",
    "print(\"lower quartile = \" + str(D_lower))\n",
    "print(\"\\nJuly:\")\n",
    "print(\"median = \" + str(J_median))\n",
    "print(\"upper quartile = \" + str(J_upper))\n",
    "print(\"lower quartile = \" + str(J_lower))"
   ]
  },
  {
   "cell_type": "code",
   "execution_count": 17,
   "id": "bfd539fe-993e-42c7-bdf1-5cd19c09aae0",
   "metadata": {
    "tags": []
   },
   "outputs": [
    {
     "data": {
      "text/plain": [
       "<Axes: >"
      ]
     },
     "execution_count": 17,
     "metadata": {},
     "output_type": "execute_result"
    },
    {
     "data": {
      "image/png": "[encoded data removed]",
      "text/plain": [
       "<Figure size 640x480 with 1 Axes>"
      ]
     },
     "metadata": {},
     "output_type": "display_data"
    }
   ],
   "source": [
    "import seaborn as sns\n",
    "\n",
    "data = [December, July]\n",
    "sns.boxplot(data, orient='h', whis=12.1)"
   ]
  },
  {
   "cell_type": "markdown",
   "id": "c04681a4-b199-46a3-b356-f4cae1576439",
   "metadata": {},
   "source": [
    "Based on the box plots, July had a much higher average tempearture than December. The distribution for December is positively skewed, while July is negatively skewed."
   ]
  }
 ],
 "metadata": {
  "kernelspec": {
   "display_name": "Python 3 (ipykernel)",
   "language": "python",
   "name": "python3"
  },
  "language_info": {
   "codemirror_mode": {
    "name": "ipython",
    "version": 3
   },
   "file_extension": ".py",
   "mimetype": "text/x-python",
   "name": "python",
   "nbconvert_exporter": "python",
   "pygments_lexer": "ipython3",
   "version": "3.11.2"
  }
 },
 "nbformat": 4,
 "nbformat_minor": 5
}

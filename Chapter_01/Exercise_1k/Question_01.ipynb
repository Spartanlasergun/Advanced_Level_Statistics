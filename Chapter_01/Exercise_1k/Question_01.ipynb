{
 "cells": [
  {
   "cell_type": "markdown",
   "id": "126036ed-d871-4860-9e82-aea7710b1333",
   "metadata": {},
   "source": [
    "# Question 1\n",
    "-----"
   ]
  },
  {
   "cell_type": "markdown",
   "id": "566424e9-127c-4643-991b-f8fae51c1d7b",
   "metadata": {},
   "source": [
    "| Mass (kg) | Cumulative Frequency |\n",
    "| --- | --- |\n",
    "| &le; 39.5 | 0 |\n",
    "| &le; 44.5 | 3 |\n",
    "| &le; 49.5 | 5 |\n",
    "| &le; 54.5 | 12 |\n",
    "| &le; 59.5 | 30 |\n",
    "| &le; 64.5 | 48 |\n",
    "| &le; 69.5 | 51 |\n",
    "| &le; 74.5 | 52 |\n"
   ]
  },
  {
   "cell_type": "code",
   "execution_count": 1,
   "id": "8d34e516-f28f-42b4-b234-c64e55882a01",
   "metadata": {
    "tags": []
   },
   "outputs": [
    {
     "data": {
      "image/png": "[encoded data removed]",
      "text/plain": [
       "<Figure size 640x480 with 1 Axes>"
      ]
     },
     "metadata": {},
     "output_type": "display_data"
    }
   ],
   "source": [
    "import matplotlib.pyplot as plt\n",
    "import numpy as np\n",
    "from scipy.interpolate import interp1d\n",
    "\n",
    "# Define the data\n",
    "x = [39.5, 44.5, 49.5, 54.5, 59.5, 64.5, 69.5, 74.5]\n",
    "y = [0, 3, 5, 12, 30, 48, 51, 52]\n",
    "\n",
    "f = interp1d(x, y, kind='quadratic')\n",
    "\n",
    "# Generate new x and y values for the curve\n",
    "x_new = np.linspace(min(x), max(x), 100)\n",
    "y_new = f(x_new)\n",
    "\n",
    "plt.plot(x_new, y_new)\n",
    "\n",
    "# Plot the original data points on top of the interpolated curve\n",
    "plt.scatter(x, y)\n",
    "\n",
    "# Show the plot\n",
    "plt.grid(True)\n",
    "plt.show()\n"
   ]
  },
  {
   "cell_type": "code",
   "execution_count": 2,
   "id": "99ea5dab-57ae-49a1-943e-67fb3dd2d22b",
   "metadata": {
    "tags": []
   },
   "outputs": [
    {
     "name": "stdout",
     "output_type": "stream",
     "text": [
      "(b) From the graph, a rough estimate of the number of people that are below 57kg in weight is 19\n"
     ]
    }
   ],
   "source": [
    "# Find the x value that corresponds to a given y value\n",
    "x_list = x_new.tolist()\n",
    "y_list = y_new.tolist()\n",
    "for item in x_list:\n",
    "    if item <= 57:\n",
    "        index = x_list.index(item)\n",
    "b = int(y_list[index])\n",
    "print(\"(b) From the graph, a rough estimate of the number of people that are below 57kg in weight is \" + str(b))"
   ]
  },
  {
   "cell_type": "code",
   "execution_count": 3,
   "id": "3d877f9b-d897-4c5b-9893-4c62d6d51b27",
   "metadata": {
    "tags": []
   },
   "outputs": [
    {
     "name": "stdout",
     "output_type": "stream",
     "text": [
      "(c) From the graph, a rough estimate of the number of people that are above 61kg in weight is 18\n"
     ]
    }
   ],
   "source": [
    "for item in x_list:\n",
    "    if item <= 61:\n",
    "        index = x_list.index(item)\n",
    "c = 52 - int(y_list[index])\n",
    "print(\"(c) From the graph, a rough estimate of the number of people that are above 61kg in weight is \" + str(c))"
   ]
  },
  {
   "cell_type": "code",
   "execution_count": 4,
   "id": "9d9e42c0-1b07-4d95-a0ec-849f627d2523",
   "metadata": {
    "tags": []
   },
   "outputs": [
    {
     "name": "stdout",
     "output_type": "stream",
     "text": [
      "20% of the students were heavier that 74kg\n"
     ]
    }
   ],
   "source": [
    "eighty = int(len(y_list) * 0.8)\n",
    "for item in y_list:\n",
    "    if item <= eighty:\n",
    "        index = y_list.index(item)\n",
    "d = int(x_list[index])\n",
    "print(\"20% of the students were heavier that \" + str(d) + \"kg\")"
   ]
  },
  {
   "cell_type": "code",
   "execution_count": 5,
   "id": "d09a09ab-424e-4998-a227-41f0443d497f",
   "metadata": {
    "tags": []
   },
   "outputs": [
    {
     "name": "stdout",
     "output_type": "stream",
     "text": [
      "The estimated median is = 65kg\n"
     ]
    }
   ],
   "source": [
    "fifty = int(len(y_list) * 0.5)\n",
    "for item in y_list:\n",
    "    if item <= fifty:\n",
    "        index = y_list.index(item)\n",
    "median = int(x_list[index])\n",
    "print(\"The estimated median is = \" + str(median) + \"kg\")"
   ]
  },
  {
   "cell_type": "code",
   "execution_count": 6,
   "id": "51c3eed9-c9a6-4103-86b8-7fa74abd9307",
   "metadata": {
    "tags": []
   },
   "outputs": [
    {
     "name": "stdout",
     "output_type": "stream",
     "text": [
      "The estimated interquartile range is = 16.262626262626263kg\n"
     ]
    }
   ],
   "source": [
    "Q3 = int(len(y_list) * 0.75)\n",
    "for item in y_list:\n",
    "    if item <= Q3:\n",
    "        upper_index = y_list.index(item)\n",
    "upper_quartile = x_list[upper_index]\n",
    "\n",
    "Q1 = int(len(y_list) * 0.25)\n",
    "for item in y_list:\n",
    "    if item <= Q1:\n",
    "        lower_index = y_list.index(item)\n",
    "lower_quartile = x_list[lower_index]\n",
    "intq_range = upper_quartile - lower_quartile\n",
    "print(\"The estimated interquartile range is = \" + str(intq_range) + \"kg\")"
   ]
  }
 ],
 "metadata": {
  "kernelspec": {
   "display_name": "Python 3 (ipykernel)",
   "language": "python",
   "name": "python3"
  },
  "language_info": {
   "codemirror_mode": {
    "name": "ipython",
    "version": 3
   },
   "file_extension": ".py",
   "mimetype": "text/x-python",
   "name": "python",
   "nbconvert_exporter": "python",
   "pygments_lexer": "ipython3",
   "version": "3.12.1"
  }
 },
 "nbformat": 4,
 "nbformat_minor": 5
}

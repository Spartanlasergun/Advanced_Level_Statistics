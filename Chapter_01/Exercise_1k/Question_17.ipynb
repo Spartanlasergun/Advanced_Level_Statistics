{
 "cells": [
  {
   "cell_type": "markdown",
   "id": "51310938-136b-4eb6-a711-e7558dace13a",
   "metadata": {},
   "source": [
    "# Question 17\n",
    "\n",
    "The smallest possible value is 1 pound.\n",
    "\n",
    "Since the data was taken to the nearest whole number, the smallest possible amount raised by a child could have been half a pound."
   ]
  },
  {
   "cell_type": "markdown",
   "id": "c826d1d2-6dac-4df9-9c4b-8b32bd23912f",
   "metadata": {},
   "source": [
    "-----\n",
    "-----\n",
    "total = 125\n",
    "\n",
    "median_index = 62.5\n",
    "\n",
    "median amount raised falls in the range 1-5\n",
    "\n",
    "this implies, median = $\\frac{62.5}{70} * 5 = 4.46 pounds$\n",
    "\n",
    "median = 4.46 pounds"
   ]
  },
  {
   "cell_type": "markdown",
   "id": "ce97f52b-6cbd-41d3-9eff-eeab1579cc31",
   "metadata": {},
   "source": [
    "-----\n",
    "-----\n",
    "$\\bar x = \\frac{(3 * 70) + (8 * 36) + (13 * 19)}{125}$\n",
    "\n",
    "$\\bar x = 5.96 pounds$"
   ]
  },
  {
   "cell_type": "markdown",
   "id": "ee400f23-39b1-49a6-bdba-7374f02eb0c4",
   "metadata": {},
   "source": [
    "-----\n",
    "-----\n",
    "\n",
    "The mean considers the entire dataset and is affected by outliers, whereas the median is not. Hence, the mean is larger than the median for this particular dataset."
   ]
  }
 ],
 "metadata": {
  "kernelspec": {
   "display_name": "Python 3 (ipykernel)",
   "language": "python",
   "name": "python3"
  },
  "language_info": {
   "codemirror_mode": {
    "name": "ipython",
    "version": 3
   },
   "file_extension": ".py",
   "mimetype": "text/x-python",
   "name": "python",
   "nbconvert_exporter": "python",
   "pygments_lexer": "ipython3",
   "version": "3.11.2"
  }
 },
 "nbformat": 4,
 "nbformat_minor": 5
}

{
 "cells": [
  {
   "cell_type": "markdown",
   "id": "af84b48d-d952-4704-87f4-ee6adbb9bd68",
   "metadata": {},
   "source": [
    "# Question 13\n",
    "-----"
   ]
  },
  {
   "cell_type": "markdown",
   "id": "ade6bef1-6764-471e-b58e-7e7129648e81",
   "metadata": {},
   "source": [
    "| Time | Frequency | Cumulative Frequency |\n",
    "| --- | --- | --- |\n",
    "| -80 | 0 | 0 |\n",
    "| -85 | 6 | 6 |\n",
    "| -90 | 12 | 18 |\n",
    "| -95 | 22 | 40 |\n",
    "| -100 | 31 | 71 |\n",
    "| -105 | 15 | 86 |\n",
    "| -110 | 7 | 93 |\n",
    "| -115 | 4 | 97 |\n",
    "| -120 | 2 | 99 |\n",
    "| -125 | 1 | 100 |\n",
    "| Over 125 | 0 | 100 |"
   ]
  },
  {
   "cell_type": "code",
   "execution_count": 1,
   "id": "8ce9ea7d-bb90-4486-9084-dc28e3a9ae15",
   "metadata": {
    "tags": []
   },
   "outputs": [
    {
     "data": {
      "image/png": "[encoded data removed]",
      "text/plain": [
       "<Figure size 640x480 with 1 Axes>"
      ]
     },
     "metadata": {},
     "output_type": "display_data"
    }
   ],
   "source": [
    "import matplotlib.pyplot as plt\n",
    "import numpy as np\n",
    "from scipy.interpolate import interp1d\n",
    "\n",
    "x = [80, 85, 90, 95, 100, 105, 110, 115, 120, 125, 130]\n",
    "y = [0, 6, 18, 40, 71, 86, 93, 97, 99, 100, 100]\n",
    "\n",
    "f = interp1d(x, y, kind='quadratic')\n",
    "\n",
    "# Generate new x and y values for the curve\n",
    "x_new = np.linspace(min(x), max(x), 100)\n",
    "y_new = f(x_new)\n",
    "\n",
    "plt.plot(x_new, y_new)\n",
    "\n",
    "# Plot the original data points on top of the interpolated curve\n",
    "plt.scatter(x, y)\n",
    "\n",
    "# Show the plot\n",
    "plt.grid(True)\n",
    "plt.show()"
   ]
  },
  {
   "cell_type": "code",
   "execution_count": 2,
   "id": "62d617ee-110b-4ecb-8cfd-723429572230",
   "metadata": {
    "tags": []
   },
   "outputs": [
    {
     "name": "stdout",
     "output_type": "stream",
     "text": [
      "(a) The median time for the journey is = 96.16161616161617minutes\n"
     ]
    }
   ],
   "source": [
    "x_list = x_new.tolist()\n",
    "y_list = y_new.tolist()\n",
    "total = 100\n",
    "median_numb = total / 2\n",
    "\n",
    "for item in y_list:\n",
    "    if item <= median_numb:\n",
    "        index = y_list.index(item)\n",
    "median = x_list[index]\n",
    "print(\"(a) The median time for the journey is = \" + str(median) + \"minutes\")"
   ]
  },
  {
   "cell_type": "code",
   "execution_count": 3,
   "id": "1513ea2b-74d8-4320-960b-a6c3f9ea5c52",
   "metadata": {
    "tags": []
   },
   "outputs": [
    {
     "name": "stdout",
     "output_type": "stream",
     "text": [
      "(b) The interquartile range is = 9.090909090909093\n"
     ]
    }
   ],
   "source": [
    "upper_index = total * 0.75\n",
    "lower_index = total * 0.25\n",
    "for item in y_list:\n",
    "    if item <= upper_index:\n",
    "        upperQ = y_list.index(item)\n",
    "upper_quartile = x_list[upperQ]\n",
    "for item in y_list:\n",
    "    if item <= lower_index:\n",
    "        lowerQ = y_list.index(item)\n",
    "lower_quartile = x_list[lowerQ]\n",
    "\n",
    "intq_range = upper_quartile - lower_quartile\n",
    "print(\"(b) The interquartile range is = \" + str(intq_range))"
   ]
  },
  {
   "cell_type": "markdown",
   "id": "75ae89fe-0ca1-4759-978d-3a6625fd7dbd",
   "metadata": {},
   "source": [
    "-----\n",
    "-----\n",
    "Time between 8:28 and 10:15 = 107 mins\n",
    "\n",
    "Time between 8:28 and 10:00 = 92 mins\n",
    "\n",
    "Hence we need to find the number if arrivals in the range 92-107"
   ]
  },
  {
   "cell_type": "code",
   "execution_count": 4,
   "id": "a3a13020-095e-4251-aabd-05dd3ea0a720",
   "metadata": {
    "tags": []
   },
   "outputs": [
    {
     "name": "stdout",
     "output_type": "stream",
     "text": [
      "(c) The estimated number of arrivals between 10:00 and 10:15 is = 65\n"
     ]
    }
   ],
   "source": [
    "for item in x_list:\n",
    "    if item <= 92:\n",
    "        index = x_list.index(item)\n",
    "index92 = y_list[index]\n",
    "\n",
    "for item in x_list:\n",
    "    if item <= 107:\n",
    "        index = x_list.index(item)\n",
    "index107 = y_list[index]\n",
    "\n",
    "arrivals = int(index107 - index92)\n",
    "print(\"(c) The estimated number of arrivals between 10:00 and 10:15 is = \" + str(arrivals))"
   ]
  }
 ],
 "metadata": {
  "kernelspec": {
   "display_name": "Python 3 (ipykernel)",
   "language": "python",
   "name": "python3"
  },
  "language_info": {
   "codemirror_mode": {
    "name": "ipython",
    "version": 3
   },
   "file_extension": ".py",
   "mimetype": "text/x-python",
   "name": "python",
   "nbconvert_exporter": "python",
   "pygments_lexer": "ipython3",
   "version": "3.11.2"
  }
 },
 "nbformat": 4,
 "nbformat_minor": 5
}

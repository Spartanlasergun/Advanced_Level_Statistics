{
 "cells": [
  {
   "cell_type": "markdown",
   "id": "4688649b-b52d-47fa-8654-b4cdcfc71358",
   "metadata": {},
   "source": [
    "# Question 14\n",
    "-----"
   ]
  },
  {
   "cell_type": "markdown",
   "id": "9ff600c0-646e-4767-b82b-5f09a6b1983f",
   "metadata": {},
   "source": [
    "| Height (cm) | No. of recruits | Cumulative Frequency |\n",
    "| --- | --- | --- |\n",
    "| 165- | 18 | 18 |\n",
    "| 170- | 37 | 55 |\n",
    "| 175- | 60 | 115 |\n",
    "| 180- | 65 | 180 |\n",
    "| 185- | 48 | 228 |\n",
    "| 190-195 | 22 | 250 |"
   ]
  },
  {
   "cell_type": "code",
   "execution_count": 1,
   "id": "605a9436-5279-477d-b1e7-11235854c5d9",
   "metadata": {
    "tags": []
   },
   "outputs": [
    {
     "data": {
      "image/png": "[encoded data removed]",
      "text/plain": [
       "<Figure size 640x480 with 1 Axes>"
      ]
     },
     "metadata": {},
     "output_type": "display_data"
    }
   ],
   "source": [
    "import matplotlib.pyplot as plt\n",
    "import numpy as np\n",
    "from scipy.interpolate import interp1d\n",
    "\n",
    "x = [167.5, 172.5, 177.5, 182.5, 187.5, 192.5]\n",
    "y = [18, 55, 115, 180, 228, 250]\n",
    "\n",
    "f = interp1d(x, y, kind='quadratic')\n",
    "\n",
    "# Generate new x and y values for the curve\n",
    "x_new = np.linspace(min(x), max(x), 100)\n",
    "y_new = f(x_new)\n",
    "\n",
    "plt.plot(x_new, y_new)\n",
    "\n",
    "# Plot the original data points on top of the interpolated curve\n",
    "plt.scatter(x, y)\n",
    "\n",
    "# Show the plot\n",
    "plt.grid(True)\n",
    "plt.show()"
   ]
  },
  {
   "cell_type": "code",
   "execution_count": 2,
   "id": "8b125f95-275b-479c-a962-5b31b34d4711",
   "metadata": {
    "tags": []
   },
   "outputs": [
    {
     "name": "stdout",
     "output_type": "stream",
     "text": [
      "(a) The estimated median is = 178.1060606060606cm\n"
     ]
    }
   ],
   "source": [
    "x_list = x_new.tolist()\n",
    "y_list = y_new.tolist()\n",
    "total = 250\n",
    "median_index = 125\n",
    "for item in y_list:\n",
    "    if item <= median_index:\n",
    "        index = y_list.index(item)\n",
    "median = x_list[index]\n",
    "print(\"(a) The estimated median is = \" + str(median) + \"cm\")"
   ]
  },
  {
   "cell_type": "code",
   "execution_count": 3,
   "id": "efe9d7bc-ee75-4cc3-a864-b6b85846bbe8",
   "metadata": {
    "tags": []
   },
   "outputs": [
    {
     "name": "stdout",
     "output_type": "stream",
     "text": [
      "(b) The lower quartile height is = 173.05555555555554cm\n"
     ]
    }
   ],
   "source": [
    "lower_index = 62.5\n",
    "for item in y_list:\n",
    "    if item <= lower_index:\n",
    "        index = y_list.index(item)\n",
    "lower_quartile = x_list[index]\n",
    "print(\"(b) The lower quartile height is = \" + str(lower_quartile) + \"cm\")"
   ]
  },
  {
   "cell_type": "markdown",
   "id": "02126236-8fee-4f14-9d4c-e1921b57b91a",
   "metadata": {},
   "source": [
    "-----\n",
    "-----\n",
    "60 percent = 250 * 0.6 = 150\n",
    "\n",
    "this implies that the new group is in the range 150-250.\n",
    "\n",
    "the median index would be given at 200.\n",
    "\n",
    "calculating for the corresponding height:"
   ]
  },
  {
   "cell_type": "code",
   "execution_count": 4,
   "id": "b5a64e40-264a-42e6-9ddd-389fcc2db8df",
   "metadata": {
    "tags": []
   },
   "outputs": [
    {
     "name": "stdout",
     "output_type": "stream",
     "text": [
      "(c) The median height of the new group is = 184.16666666666666cm\n"
     ]
    }
   ],
   "source": [
    "for item in y_list:\n",
    "    if item <= 200:\n",
    "        index = y_list.index(item)\n",
    "new_median = x_list[index]\n",
    "print(\"(c) The median height of the new group is = \" + str(new_median) + \"cm\")"
   ]
  },
  {
   "cell_type": "markdown",
   "id": "9709ea59-02b4-49f0-b7fb-6ea4b1e0db75",
   "metadata": {},
   "source": [
    "-----\n",
    "-----\n",
    "given the range 150-250, \n",
    "\n",
    "the upper quartile would be given at 225.\n",
    "\n",
    "calculating for the corresponding height:"
   ]
  },
  {
   "cell_type": "code",
   "execution_count": 5,
   "id": "5009a4cf-331d-485c-a106-1c2ab5590991",
   "metadata": {
    "tags": []
   },
   "outputs": [
    {
     "name": "stdout",
     "output_type": "stream",
     "text": [
      "(d) The upper quartile of the new group is = 186.94444444444446cm\n"
     ]
    }
   ],
   "source": [
    "for item in y_list:\n",
    "    if item <= 225:\n",
    "        index = y_list.index(item)\n",
    "new_uq = x_list[index]\n",
    "print(\"(d) The upper quartile of the new group is = \" + str(new_uq) + \"cm\")"
   ]
  }
 ],
 "metadata": {
  "kernelspec": {
   "display_name": "Python 3 (ipykernel)",
   "language": "python",
   "name": "python3"
  },
  "language_info": {
   "codemirror_mode": {
    "name": "ipython",
    "version": 3
   },
   "file_extension": ".py",
   "mimetype": "text/x-python",
   "name": "python",
   "nbconvert_exporter": "python",
   "pygments_lexer": "ipython3",
   "version": "3.11.2"
  }
 },
 "nbformat": 4,
 "nbformat_minor": 5
}

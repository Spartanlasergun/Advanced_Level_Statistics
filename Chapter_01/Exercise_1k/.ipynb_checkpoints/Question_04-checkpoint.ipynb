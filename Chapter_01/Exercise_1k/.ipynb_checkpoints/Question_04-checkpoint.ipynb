{
 "cells": [
  {
   "cell_type": "markdown",
   "id": "beac0aad-73d0-4f8e-8cd5-3b36150408eb",
   "metadata": {},
   "source": [
    "# Question 4\n",
    "-----"
   ]
  },
  {
   "cell_type": "markdown",
   "id": "2aaa02dc-f84a-442d-9682-58dcd4327df4",
   "metadata": {},
   "source": [
    "(a)\n",
    "| Time(mins) | Cumulative Frequency |\n",
    "| --- | --- |\n",
    "| &le;5 | 2 |\n",
    "| &le;10 | 4 |\n",
    "| &le;15 | 7 |\n",
    "| &le;20 | 13 |\n",
    "| &le;25 | 25 |\n",
    "| &le;30 | 41 |\n",
    "| &le;35 | 47 |\n",
    "| &le;40 | 50 |"
   ]
  },
  {
   "cell_type": "markdown",
   "id": "e6ad6c91-4fd7-40f0-b98e-c4b43388a733",
   "metadata": {
    "tags": []
   },
   "source": [
    "------\n",
    "seventeen mins = ~9 people\n",
    "\n",
    "twenty seven mins = ~31 people\n",
    "\n",
    "estimate = 31 - 9\n",
    "\n",
    "(b) 22\n",
    "\n",
    "------"
   ]
  },
  {
   "cell_type": "markdown",
   "id": "c997365c-3936-4178-8b67-6ccf424bd687",
   "metadata": {
    "tags": []
   },
   "source": [
    "$ f(60) = 50 * 0.6 $\n",
    "\n",
    "$ f(60) = 30 $\n",
    "\n",
    "According to the graph, if 60 percent is equal to 30,\n",
    "then t = 26.5 mins\n",
    "\n",
    "(c) t = 26.5 mins\n",
    "\n",
    "-----"
   ]
  },
  {
   "cell_type": "markdown",
   "id": "6fbdd634-04ff-4b23-beb3-d55613373459",
   "metadata": {},
   "source": [
    "(d) 23 mins\n",
    "\n",
    "------"
   ]
  },
  {
   "cell_type": "markdown",
   "id": "03478741-6493-47dd-8ab0-c8c8d4661058",
   "metadata": {},
   "source": [
    "(e) estimated median = 25"
   ]
  },
  {
   "cell_type": "markdown",
   "id": "d5fad855-43de-496a-b8ee-2ee75e41556a",
   "metadata": {},
   "source": [
    "-----\n",
    "50 x 0.75 = 37.5\n",
    "\n",
    "upper_quartile = 29 mins\n",
    "\n",
    "50 x 0.25 = 12.5\n",
    "\n",
    "lower_quartile = 20 mins\n",
    "\n",
    "interquartile_range =  29mins - 20mins = 9 mins\n",
    "\n",
    "(f) The interquartile range = 9 mins"
   ]
  }
 ],
 "metadata": {
  "kernelspec": {
   "display_name": "Python 3 (ipykernel)",
   "language": "python",
   "name": "python3"
  },
  "language_info": {
   "codemirror_mode": {
    "name": "ipython",
    "version": 3
   },
   "file_extension": ".py",
   "mimetype": "text/x-python",
   "name": "python",
   "nbconvert_exporter": "python",
   "pygments_lexer": "ipython3",
   "version": "3.11.2"
  }
 },
 "nbformat": 4,
 "nbformat_minor": 5
}

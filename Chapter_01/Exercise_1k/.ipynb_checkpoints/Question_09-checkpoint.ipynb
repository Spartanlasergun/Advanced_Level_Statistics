{
 "cells": [
  {
   "cell_type": "markdown",
   "id": "aba75465-527b-4b4f-8641-33dba47b5138",
   "metadata": {},
   "source": [
    "# Question 9\n",
    "-----"
   ]
  },
  {
   "cell_type": "markdown",
   "id": "646c25ba-f455-4fde-8a58-e7a9ea947c3b",
   "metadata": {},
   "source": [
    "| Distance (x km) | Number of Sportsmen | Cumulative Frequency |\n",
    "| --- | --- | --- |\n",
    "| 0 &le; x < 4 | 1 | 1 |\n",
    "| 4 &le; x < 10 | 2 | 3 |\n",
    "| 10 &le; x < 20 | 6 | 9 |\n",
    "| 20 &le; x < 35 | 19 | 27 |\n",
    "| 35 &le; x < 60 | 12 | 39 |\n",
    "| 60 &le; x < 100 | 10 | 49 |"
   ]
  },
  {
   "cell_type": "code",
   "execution_count": 1,
   "id": "52e01d32-45e4-45cb-b2d9-220279c1b9d1",
   "metadata": {
    "tags": []
   },
   "outputs": [
    {
     "data": {
      "image/png": "[encoded data removed]",
      "text/plain": [
       "<Figure size 640x480 with 1 Axes>"
      ]
     },
     "metadata": {},
     "output_type": "display_data"
    }
   ],
   "source": [
    "import matplotlib.pyplot as plt\n",
    "import numpy as np\n",
    "from scipy.interpolate import interp1d\n",
    "\n",
    "x = [0, 4, 10, 20, 35, 60, 100]\n",
    "y = [0, 1, 3, 9, 27, 39, 49]\n",
    "\n",
    "f = interp1d(x, y, kind='quadratic')\n",
    "\n",
    "# Generate new x and y values for the curve\n",
    "x_new = np.linspace(min(x), max(x), 100)\n",
    "y_new = f(x_new)\n",
    "\n",
    "plt.plot(x_new, y_new)\n",
    "\n",
    "# Plot the original data points on top of the interpolated curve\n",
    "plt.scatter(x, y)\n",
    "\n",
    "# Show the plot\n",
    "plt.grid(True)\n",
    "plt.show()"
   ]
  },
  {
   "cell_type": "code",
   "execution_count": 2,
   "id": "5157c5bc-178e-436b-bd35-287289ab2e64",
   "metadata": {
    "tags": []
   },
   "outputs": [
    {
     "name": "stdout",
     "output_type": "stream",
     "text": [
      "(a) the median distance travelled is = 32.323232323232325km\n"
     ]
    }
   ],
   "source": [
    "x_list = x_new.tolist()\n",
    "y_list = y_new.tolist()\n",
    "median_index = 49 / 2\n",
    "for item in y_list:\n",
    "    if item <= median_index:\n",
    "        index = y_list.index(item)\n",
    "median = x_list[index]\n",
    "print(\"(a) the median distance travelled is = \" + str(median) + \"km\")"
   ]
  },
  {
   "cell_type": "code",
   "execution_count": 3,
   "id": "f56959e4-7e8f-4dcc-aa48-279730a76741",
   "metadata": {
    "tags": []
   },
   "outputs": [
    {
     "name": "stdout",
     "output_type": "stream",
     "text": [
      "(b) the interquartile range is = 29.29292929292929\n"
     ]
    }
   ],
   "source": [
    "upper_quartile_index = 49 * 0.75\n",
    "lower_quartile_index = 49 * 0.25\n",
    "for item in y_list:\n",
    "    if item <= upper_quartile_index:\n",
    "        upper_index = y_list.index(item)\n",
    "upper_quartile = x_list[upper_index]\n",
    "for item in y_list:\n",
    "    if item <= lower_quartile_index:\n",
    "        lower_index = y_list.index(item)\n",
    "lower_quartile = x_list[lower_index]\n",
    "intq_range = upper_quartile - lower_quartile\n",
    "print(\"(b) the interquartile range is = \" + str(intq_range))"
   ]
  },
  {
   "cell_type": "code",
   "execution_count": 4,
   "id": "a648dcdf-4b85-4035-bc2e-15eb8bfecfea",
   "metadata": {
    "tags": []
   },
   "outputs": [
    {
     "name": "stdout",
     "output_type": "stream",
     "text": [
      "(c) the percentage of sportsmen that need to travel more than 30km is = 58.61237288848212%\n"
     ]
    }
   ],
   "source": [
    "for item in x_list:\n",
    "    if item <= 30:\n",
    "        index = x_list.index(item)\n",
    "less_than_30 = y_list[index]\n",
    "more_than_30 = 49 - less_than_30\n",
    "percentage = (more_than_30 / 49) * 100\n",
    "print(\"(c) the percentage of sportsmen that need to travel more than 30km is = \" + str(percentage) + \"%\")"
   ]
  }
 ],
 "metadata": {
  "kernelspec": {
   "display_name": "Python 3 (ipykernel)",
   "language": "python",
   "name": "python3"
  },
  "language_info": {
   "codemirror_mode": {
    "name": "ipython",
    "version": 3
   },
   "file_extension": ".py",
   "mimetype": "text/x-python",
   "name": "python",
   "nbconvert_exporter": "python",
   "pygments_lexer": "ipython3",
   "version": "3.11.2"
  }
 },
 "nbformat": 4,
 "nbformat_minor": 5
}

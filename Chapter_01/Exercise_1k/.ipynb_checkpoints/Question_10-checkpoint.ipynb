{
 "cells": [
  {
   "cell_type": "markdown",
   "id": "6dcff164-6dc2-4dcd-95f8-27fc3471c228",
   "metadata": {},
   "source": [
    "# Question 10\n",
    "\n",
    "| Price | Number of Stocks | Cumulative Frequency |\n",
    "| --- | --- | --- |\n",
    "| 75 < x &le; 95 | 6 | 6 |\n",
    "| 95 < x &le; 100 | 10 | 16 |\n",
    "| 100 < x &le; 105 | 12 | 28 |\n",
    "| 105 < x &le; 110 | 13 | 41 |\n",
    "| 110 < x &le; 120 | 7 | 48 |\n",
    "| 120 < x &le; 135 | 5 | 53 |"
   ]
  },
  {
   "cell_type": "code",
   "execution_count": 7,
   "id": "68f46efc-e7e8-48cd-bfdb-508764b475b0",
   "metadata": {
    "tags": []
   },
   "outputs": [
    {
     "data": {
      "image/png": "[encoded data removed]",
      "text/plain": [
       "<Figure size 640x480 with 1 Axes>"
      ]
     },
     "metadata": {},
     "output_type": "display_data"
    }
   ],
   "source": [
    "import matplotlib.pyplot as plt\n",
    "import numpy as np\n",
    "from scipy.interpolate import interp1d\n",
    "\n",
    "x = [75, 95, 100, 105, 110, 120, 135]\n",
    "y = [0, 6, 16, 28, 41, 48, 53]\n",
    "\n",
    "f = interp1d(x, y, kind='quadratic')\n",
    "\n",
    "# Generate new x and y values for the curve\n",
    "x_new = np.linspace(min(x), max(x), 100)\n",
    "y_new = f(x_new)\n",
    "\n",
    "plt.plot(x_new, y_new)\n",
    "\n",
    "# Plot the original data points on top of the interpolated curve\n",
    "plt.scatter(x, y)\n",
    "\n",
    "# Show the plot\n",
    "plt.grid(True)\n",
    "plt.show()"
   ]
  },
  {
   "cell_type": "code",
   "execution_count": 8,
   "id": "6e170d8c-e6b1-4115-a54d-58754243a0d2",
   "metadata": {
    "tags": []
   },
   "outputs": [
    {
     "name": "stdout",
     "output_type": "stream",
     "text": [
      "(b) The median price is = 104.0909090909091\n"
     ]
    }
   ],
   "source": [
    "x_list = x_new.tolist()\n",
    "y_list = y_new.tolist()\n",
    "median_numb = 53 / 2\n",
    "for item in y_list:\n",
    "    if item <= median_numb:\n",
    "        index = y_list.index(item)\n",
    "median = x_list[index]\n",
    "print(\"(b) The median price is = \" + str(median))"
   ]
  },
  {
   "cell_type": "code",
   "execution_count": 9,
   "id": "a912aa83-82ee-447a-93ee-e51a00ee79fc",
   "metadata": {
    "tags": []
   },
   "outputs": [
    {
     "name": "stdout",
     "output_type": "stream",
     "text": [
      "(b) The interquartile range is = 10.303030303030297\n"
     ]
    }
   ],
   "source": [
    "upper = 53 * 0.75\n",
    "lower = 53 * 0.25\n",
    "for item in y_list:\n",
    "    if item <= upper:\n",
    "        upper_index = y_list.index(item)\n",
    "upper_quartile = x_list[upper_index]\n",
    "\n",
    "for item in y_list:\n",
    "    if item <= lower:\n",
    "        lower_index = y_list.index(item)\n",
    "lower_quartile = x_list[lower_index]\n",
    "\n",
    "intq_range = upper_quartile - lower_quartile\n",
    "print(\"(b) The interquartile range is = \" + str(intq_range))"
   ]
  },
  {
   "cell_type": "code",
   "execution_count": 10,
   "id": "4cbbbc83-7a2f-4573-b231-1dcfa0dbebbf",
   "metadata": {
    "tags": []
   },
   "outputs": [
    {
     "name": "stdout",
     "output_type": "stream",
     "text": [
      "(c) The number of stock costing between 123 and 89 is = 50.56617781541733\n"
     ]
    }
   ],
   "source": [
    "for item in x_list:\n",
    "    if item <= 89:\n",
    "        index = x_list.index(item)\n",
    "index89 = y_list[index]\n",
    "\n",
    "for item in x_list:\n",
    "    if item <= 123:\n",
    "        index = x_list.index(item)\n",
    "index123 = y_list[index]\n",
    "\n",
    "stocks = index123 - index89\n",
    "print(\"(c) The number of stock costing between 123 and 89 is = \" + str(stocks))"
   ]
  }
 ],
 "metadata": {
  "kernelspec": {
   "display_name": "Python 3 (ipykernel)",
   "language": "python",
   "name": "python3"
  },
  "language_info": {
   "codemirror_mode": {
    "name": "ipython",
    "version": 3
   },
   "file_extension": ".py",
   "mimetype": "text/x-python",
   "name": "python",
   "nbconvert_exporter": "python",
   "pygments_lexer": "ipython3",
   "version": "3.11.2"
  }
 },
 "nbformat": 4,
 "nbformat_minor": 5
}

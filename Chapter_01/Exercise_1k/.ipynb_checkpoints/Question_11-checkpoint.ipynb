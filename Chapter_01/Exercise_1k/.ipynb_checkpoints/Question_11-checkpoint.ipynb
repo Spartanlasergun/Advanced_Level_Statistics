{
 "cells": [
  {
   "cell_type": "markdown",
   "id": "3c26f1cf-24b1-4c6f-8520-a20a51151faa",
   "metadata": {},
   "source": [
    "# Question 11\n",
    "-----"
   ]
  },
  {
   "cell_type": "markdown",
   "id": "7ac8ad9a-da25-46f5-a0e8-190544a590c6",
   "metadata": {},
   "source": [
    "| Mass (g) | Number of eggs |\n",
    "| --- | --- |\n",
    "| 50-59 | 18 |\n",
    "| 60-64 | 20 |\n",
    "| 65-69 | x |\n",
    "| 70-79 | y |"
   ]
  },
  {
   "cell_type": "markdown",
   "id": "7e7b9acb-f294-48d3-b665-3c2100b539b0",
   "metadata": {},
   "source": [
    "$ 80 * 0.6 = 48 $\n",
    "\n",
    "60 % of the eggs = 48\n",
    "\n",
    "x accounts for the range between 64.5 and 69.5\n",
    "\n",
    "given a linear distribution, 66.5 would represent 2/5 of x \n",
    "\n",
    "this implies $18 + 20 + \\frac{2}{5}(x) = 48$\n",
    "\n",
    "hence, $ x = \\frac{10}{0.4}$, $ x = 25 $\n",
    "\n",
    "$ y = 42 - 25 $\n",
    "\n",
    "$ y = 17 $\n",
    "\n",
    "Therefore, $$ x = 25 \\ \\ and \\ \\ y = 17 $$\n"
   ]
  }
 ],
 "metadata": {
  "kernelspec": {
   "display_name": "Python 3 (ipykernel)",
   "language": "python",
   "name": "python3"
  },
  "language_info": {
   "codemirror_mode": {
    "name": "ipython",
    "version": 3
   },
   "file_extension": ".py",
   "mimetype": "text/x-python",
   "name": "python",
   "nbconvert_exporter": "python",
   "pygments_lexer": "ipython3",
   "version": "3.11.2"
  }
 },
 "nbformat": 4,
 "nbformat_minor": 5
}

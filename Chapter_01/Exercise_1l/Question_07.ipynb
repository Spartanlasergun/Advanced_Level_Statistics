{
 "cells": [
  {
   "cell_type": "markdown",
   "id": "33822ea7-6d0d-4e50-ad2a-b88f92ce4109",
   "metadata": {},
   "source": [
    "# Question 7\n",
    "-----"
   ]
  },
  {
   "cell_type": "code",
   "execution_count": 1,
   "id": "fa21855d-bc83-47b3-9365-f4984ca7aa5f",
   "metadata": {
    "tags": []
   },
   "outputs": [
    {
     "name": "stdout",
     "output_type": "stream",
     "text": [
      "(a) B\n",
      "(b) A\n",
      "(c) C\n"
     ]
    }
   ],
   "source": [
    "print(\"(a) B\")\n",
    "print(\"(b) A\")\n",
    "print(\"(c) C\")"
   ]
  }
 ],
 "metadata": {
  "kernelspec": {
   "display_name": "Python 3 (ipykernel)",
   "language": "python",
   "name": "python3"
  },
  "language_info": {
   "codemirror_mode": {
    "name": "ipython",
    "version": 3
   },
   "file_extension": ".py",
   "mimetype": "text/x-python",
   "name": "python",
   "nbconvert_exporter": "python",
   "pygments_lexer": "ipython3",
   "version": "3.11.2"
  }
 },
 "nbformat": 4,
 "nbformat_minor": 5
}

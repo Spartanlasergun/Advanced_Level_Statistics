{
 "cells": [
  {
   "cell_type": "markdown",
   "id": "66de2529-7937-4695-a212-4815ad7ac875",
   "metadata": {},
   "source": [
    "# Question 10\n",
    "-----"
   ]
  },
  {
   "cell_type": "markdown",
   "id": "4c80db90-ba5c-44fc-82a6-fd14580a00cd",
   "metadata": {},
   "source": [
    "(Note: The histogram provided by the text in part (b) may have been incorrectly labelled. The y-axis says 'Cumulative % Frequency' where it should say 'frequency density'. The soultion should still be an estimate, which I have attempted to make, though the answer does vary from the one provided in the text) "
   ]
  },
  {
   "cell_type": "code",
   "execution_count": 1,
   "id": "5f9258b0-8395-4125-87ea-3ad1306a3816",
   "metadata": {
    "tags": []
   },
   "outputs": [
    {
     "name": "stdout",
     "output_type": "stream",
     "text": [
      "(a) The quartile coefficient of skewness is = 0.14285714285714285\n"
     ]
    }
   ],
   "source": [
    "Q1 = 17\n",
    "Q2 = 26\n",
    "Q3 = 38\n",
    "\n",
    "QoS = (Q3 - (2 * Q2) + Q1) / (Q3 - Q1)\n",
    "print(\"(a) The quartile coefficient of skewness is = \" + str(QoS))"
   ]
  },
  {
   "cell_type": "code",
   "execution_count": 2,
   "id": "890c02de-2d6b-45de-b0a1-95b90c97ced2",
   "metadata": {
    "tags": []
   },
   "outputs": [
    {
     "data": {
      "image/png": "[encoded data removed]",
      "text/plain": [
       "<Figure size 640x480 with 1 Axes>"
      ]
     },
     "metadata": {},
     "output_type": "display_data"
    }
   ],
   "source": [
    "import matplotlib.pyplot as plt\n",
    "import numpy as np\n",
    "from scipy.interpolate import interp1d\n",
    "\n",
    "# Define the data\n",
    "y = [10, 22, 40, 50, 58, 63]\n",
    "x = [5, 12, 16, 20, 26, 35]\n",
    "\n",
    "f = interp1d(x, y, kind='quadratic')\n",
    "\n",
    "# Generate new x and y values for the curve\n",
    "x_new = np.linspace(min(x), max(x), 100)\n",
    "y_new = f(x_new)\n",
    "\n",
    "plt.plot(x_new, y_new)\n",
    "\n",
    "# Plot the original data points on top of the interpolated curve\n",
    "plt.scatter(x, y)\n",
    "\n",
    "# Show the plot\n",
    "plt.grid(True)\n",
    "plt.show()"
   ]
  },
  {
   "cell_type": "code",
   "execution_count": 3,
   "id": "9a475254-69f7-4a39-acc0-688b6df0ed43",
   "metadata": {
    "tags": []
   },
   "outputs": [
    {
     "name": "stdout",
     "output_type": "stream",
     "text": [
      "(b) The quartile coefficient of skewness is = -0.1111111111111112\n"
     ]
    }
   ],
   "source": [
    "# Find the x value that corresponds to a given y value\n",
    "x_list = x_new.tolist()\n",
    "y_list = y_new.tolist()\n",
    "\n",
    "median_freq = 31\n",
    "for item in y_list:\n",
    "    if item <= median_freq:\n",
    "        median_index = y_list.index(item)\n",
    "median = x_list[median_index]\n",
    "\n",
    "for item in y_list:\n",
    "    if item <= 16:\n",
    "        upper_index = y_list.index(item)\n",
    "upper_quartile = x_list[upper_index]\n",
    "\n",
    "for item in y_list:\n",
    "    if item <= 47:\n",
    "        lower_index = y_list.index(item)\n",
    "lower_quartile = x_list[lower_index]\n",
    "\n",
    "Q1 = lower_quartile\n",
    "Q2 = median\n",
    "Q3 = upper_quartile\n",
    "\n",
    "QoS = (Q3 - (2 * Q2) + Q1) / (Q3 - Q1)\n",
    "print(\"(b) The quartile coefficient of skewness is = \" + str(QoS))"
   ]
  },
  {
   "cell_type": "code",
   "execution_count": 4,
   "id": "bd4fbaee-a8e3-4e86-a1fe-0f73c40916f8",
   "metadata": {
    "tags": []
   },
   "outputs": [
    {
     "name": "stdout",
     "output_type": "stream",
     "text": [
      "(c) The quartile coefficient of skewness is = 0.3333333333333333\n"
     ]
    }
   ],
   "source": [
    "data = [2, 2, 5, 6, 6, 9, 9, 10, 10, 10, 11, 11, 12, 13, 13, 13,\n",
    "       15, 15, 16, 16, 17, 18, 21]\n",
    "\n",
    "import numpy as np\n",
    "Q1 = np.percentile(data, 25)\n",
    "Q2 = np.percentile(data, 50)\n",
    "Q3 = np.percentile(data, 75)\n",
    "\n",
    "QoS = (Q3 - (2 * Q2) + Q1) / (Q3 - Q1)\n",
    "print(\"(c) The quartile coefficient of skewness is = \" + str(QoS))"
   ]
  }
 ],
 "metadata": {
  "kernelspec": {
   "display_name": "Python 3 (ipykernel)",
   "language": "python",
   "name": "python3"
  },
  "language_info": {
   "codemirror_mode": {
    "name": "ipython",
    "version": 3
   },
   "file_extension": ".py",
   "mimetype": "text/x-python",
   "name": "python",
   "nbconvert_exporter": "python",
   "pygments_lexer": "ipython3",
   "version": "3.11.2"
  }
 },
 "nbformat": 4,
 "nbformat_minor": 5
}

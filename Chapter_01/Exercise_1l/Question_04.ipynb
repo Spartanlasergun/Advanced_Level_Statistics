{
 "cells": [
  {
   "cell_type": "markdown",
   "id": "1392208b-3443-4a7f-97b8-0522c34f4fe2",
   "metadata": {},
   "source": [
    "# Question 4\n",
    "\n",
    "| Time | Number of Children |\n",
    "| --- | --- |\n",
    "| 10-19 | 8 |\n",
    "| 20-24 | 15 |\n",
    "| 25-29 | 25 |\n",
    "| 30-39 | 18 |\n",
    "| 40-49 | 12 |\n",
    "| 50-64 | 7 |\n",
    "| 65-89 | 5 |\n"
   ]
  },
  {
   "cell_type": "code",
   "execution_count": 5,
   "id": "bf04f7d6-d49e-4191-a687-a3f72cec8cc6",
   "metadata": {
    "tags": []
   },
   "outputs": [
    {
     "data": {
      "image/png": "[encoded data removed]",
      "text/plain": [
       "<Figure size 640x480 with 1 Axes>"
      ]
     },
     "metadata": {},
     "output_type": "display_data"
    }
   ],
   "source": [
    "import matplotlib.pyplot as plt\n",
    "\n",
    "x = [8, 15, 25, 18, 12, 7, 5]\n",
    "midpoints = [14.5, 22, 27, 34.5, 44.5, 57, 77] \n",
    "data = []\n",
    "index = 0\n",
    "for item in x:\n",
    "    count = item\n",
    "    while count != 0:\n",
    "        data.append(midpoints[index])\n",
    "        count = count - 1\n",
    "    index = index + 1\n",
    "\n",
    "plt.hist(data, bins=[0, 10, 20, 25, 30, 40, 50, 65, 89], edgecolor=\"black\")\n",
    "plt.show()\n"
   ]
  },
  {
   "cell_type": "code",
   "execution_count": 6,
   "id": "4b1cc509-3850-499d-9931-c3f6b25084cd",
   "metadata": {
    "tags": []
   },
   "outputs": [
    {
     "name": "stdout",
     "output_type": "stream",
     "text": [
      "(b) The distribution is positively skewed\n"
     ]
    }
   ],
   "source": [
    "print(\"(b) The distribution is positively skewed\")"
   ]
  }
 ],
 "metadata": {
  "kernelspec": {
   "display_name": "Python 3 (ipykernel)",
   "language": "python",
   "name": "python3"
  },
  "language_info": {
   "codemirror_mode": {
    "name": "ipython",
    "version": 3
   },
   "file_extension": ".py",
   "mimetype": "text/x-python",
   "name": "python",
   "nbconvert_exporter": "python",
   "pygments_lexer": "ipython3",
   "version": "3.11.2"
  }
 },
 "nbformat": 4,
 "nbformat_minor": 5
}

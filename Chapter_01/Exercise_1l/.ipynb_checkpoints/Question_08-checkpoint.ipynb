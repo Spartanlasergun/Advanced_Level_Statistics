{
 "cells": [
  {
   "cell_type": "markdown",
   "id": "d0246875-048d-4423-a0d3-e7ca91fe88b2",
   "metadata": {},
   "source": [
    "# Question 8\n",
    "\n",
    "(Note: Grouped data means that the only way to identify the quartiles is through linear interpolation and estimation. The standard deviation cannot be found using this method, but it can be found by forcefully recreating the dataset from the frequencies and midpoints for the interval widths. I'm not sure what the author intended for this question but I have tried to solve it nonetheless)\n",
    "\n",
    "| Blood Pressure | Frequency |\n",
    "| --- | --- |\n",
    "| 95- | 2 |\n",
    "| 105- | 5 |\n",
    "| 110- | 6 |\n",
    "| 115- | 9 |\n",
    "| 120- | 14 |\n",
    "| 125- | 3 |\n",
    "| 130- | 6 |\n",
    "| 135- | 5 |\n",
    "| 140- | 4 |\n",
    "| 150-180 | 6 |"
   ]
  },
  {
   "cell_type": "code",
   "execution_count": 7,
   "id": "579109a3-e6d0-4aae-b18e-42fa58146aa6",
   "metadata": {
    "tags": []
   },
   "outputs": [
    {
     "name": "stdout",
     "output_type": "stream",
     "text": [
      "The pearsons coefficient of skewness is = 0.8163099744618156\n"
     ]
    }
   ],
   "source": [
    "freq = [2, 5, 6, 9, 14, 3, 6, 5, 4, 6]\n",
    "midpoints = [100, 107.5, 112.5, 117.5, 122.5, 127.5, 132.5, 137.5, 145, 165]\n",
    "raw_data = []\n",
    "index = 0\n",
    "for item in freq:\n",
    "    count = item\n",
    "    while count != 0:\n",
    "        raw_data.append(midpoints[index])\n",
    "        count = count - 1\n",
    "    index = index + 1\n",
    "\n",
    "import statistics\n",
    "\n",
    "mean = statistics.mean(raw_data)\n",
    "median = statistics.median(raw_data)\n",
    "std = statistics.pstdev(raw_data)\n",
    "\n",
    "skewness = (3 * (mean - median)) / std\n",
    "print(\"The pearsons coefficient of skewness is = \" + str(skewness))"
   ]
  },
  {
   "cell_type": "code",
   "execution_count": 3,
   "id": "ca57a23b-debb-4eae-b331-f51c965a8d84",
   "metadata": {
    "tags": []
   },
   "outputs": [
    {
     "data": {
      "image/png": "[encoded data removed]",
      "text/plain": [
       "<Figure size 640x480 with 1 Axes>"
      ]
     },
     "metadata": {},
     "output_type": "display_data"
    }
   ],
   "source": [
    "import matplotlib.pyplot as plt\n",
    "import numpy as np\n",
    "from scipy.interpolate import interp1d\n",
    "\n",
    "# Define the data\n",
    "x = [100, 107.5, 112.5, 117.5, 122.5, 127.5, 132.5, 137.5, 145, 165]\n",
    "y = [2, 7, 13, 22, 36, 39, 45, 50, 54, 60]\n",
    "\n",
    "f = interp1d(x, y, kind='quadratic')\n",
    "\n",
    "# Generate new x and y values for the curve\n",
    "x_new = np.linspace(min(x), max(x), 100)\n",
    "y_new = f(x_new)\n",
    "\n",
    "plt.plot(x_new, y_new)\n",
    "\n",
    "# Show the plot\n",
    "plt.grid(True)\n",
    "plt.show()"
   ]
  },
  {
   "cell_type": "code",
   "execution_count": 14,
   "id": "71130964-f128-427c-8150-2dbfab08cf2f",
   "metadata": {
    "tags": []
   },
   "outputs": [
    {
     "name": "stdout",
     "output_type": "stream",
     "text": [
      "median = 119.69696969696969\n",
      "upper quartile = 132.17171717171718\n",
      "lower quartile = 113.78787878787878\n"
     ]
    }
   ],
   "source": [
    "# Find the x value that corresponds to a given y value\n",
    "x_list = x_new.tolist()\n",
    "y_list = y_new.tolist()\n",
    "\n",
    "median_freq = 30\n",
    "for item in y_list:\n",
    "    if item <= median_freq:\n",
    "        median_index = y_list.index(item)\n",
    "median = x_list[median_index]\n",
    "print(\"median = \" + str(median))\n",
    "\n",
    "for item in y_list:\n",
    "    if item <= 45:\n",
    "        upper_index = y_list.index(item)\n",
    "upper_quartile = x_list[upper_index]\n",
    "print(\"upper quartile = \" + str(upper_quartile))\n",
    "\n",
    "for item in y_list:\n",
    "    if item <= 15:\n",
    "        lower_index = y_list.index(item)\n",
    "lower_quartile = x_list[lower_index]\n",
    "print(\"lower quartile = \" + str(lower_quartile))"
   ]
  },
  {
   "cell_type": "code",
   "execution_count": 12,
   "id": "55484817-e8c6-4e23-9e89-51c8a36ecb6b",
   "metadata": {
    "tags": []
   },
   "outputs": [
    {
     "name": "stdout",
     "output_type": "stream",
     "text": [
      "The quartile coefficient of skewness is = 0.3571428571428578\n"
     ]
    }
   ],
   "source": [
    "Q3 = upper_quartile \n",
    "Q1 = lower_quartile\n",
    "Q2 = median\n",
    "\n",
    "QoS = (Q3 - (2 * Q2) + Q1) / (Q3 - Q1)\n",
    "print(\"The quartile coefficient of skewness is = \" + str(QoS))"
   ]
  },
  {
   "cell_type": "code",
   "execution_count": 16,
   "id": "615b140d-1acb-45d1-a21c-d48b598c1889",
   "metadata": {
    "tags": []
   },
   "outputs": [
    {
     "data": {
      "image/png": "[encoded data removed]",
      "text/plain": [
       "<Figure size 640x480 with 1 Axes>"
      ]
     },
     "metadata": {},
     "output_type": "display_data"
    }
   ],
   "source": [
    "import matplotlib.pyplot as plt\n",
    "\n",
    "plt.hist(raw_data, bins=[95, 105, 110, 115, 120, 125, 130, 135, 140, 150, 180], edgecolor=\"black\")\n",
    "plt.show()"
   ]
  }
 ],
 "metadata": {
  "kernelspec": {
   "display_name": "Python 3 (ipykernel)",
   "language": "python",
   "name": "python3"
  },
  "language_info": {
   "codemirror_mode": {
    "name": "ipython",
    "version": 3
   },
   "file_extension": ".py",
   "mimetype": "text/x-python",
   "name": "python",
   "nbconvert_exporter": "python",
   "pygments_lexer": "ipython3",
   "version": "3.11.2"
  }
 },
 "nbformat": 4,
 "nbformat_minor": 5
}

{
 "cells": [
  {
   "cell_type": "code",
   "execution_count": 16,
   "id": "f86c0bda",
   "metadata": {},
   "outputs": [],
   "source": [
    "import matplotlib.pyplot as plt\n",
    "\n",
    "data = [6, 11, 11, 12, 13, 14, 16, 17, 18, 20,\n",
    "       21, 21, 23, 24, 25, 25, 25, 25, 26, 26,\n",
    "       27, 27, 28, 28, 28, 29, 29, 29, 30, 31,\n",
    "       31, 32, 32, 32, 33, 33, 34, 34, 35, 36,\n",
    "       36, 37, 37, 37, 37, 38, 38, 38, 39, 39,\n",
    "       39, 39, 39, 39, 39, 39, 40, 40, 40, 40,\n",
    "       40, 40, 41, 41, 41, 42, 42, 42, 42, 43,\n",
    "       43, 43, 44, 45, 46, 46, 47, 47, 47, 47,\n",
    "       48, 50, 50, 51, 51, 52, 52, 52, 53, 53,\n",
    "       54, 54, 55, 57, 58, 58, 59, 59, 61, 62,\n",
    "       63, 64, 66, 66, 67, 70, 76, 77, 82]"
   ]
  },
  {
   "cell_type": "markdown",
   "id": "43ef0614",
   "metadata": {},
   "source": [
    "|0-9|10-19|20-29|30-39|40-49|50-59|60-69|70-79|80-89|\n",
    "| --- | --- | --- | --- | --- | --- | --- | --- | --- |\n",
    "|1|8|19|28|25|17|7|3|1|"
   ]
  },
  {
   "cell_type": "code",
   "execution_count": 17,
   "id": "f47821af",
   "metadata": {},
   "outputs": [
    {
     "data": {
      "text/plain": [
       "(array([ 1.,  8., 19., 28., 25., 17.,  7.,  3.,  1.]),\n",
       " array([ 0., 10., 20., 30., 40., 50., 60., 70., 80., 90.]),\n",
       " <BarContainer object of 9 artists>)"
      ]
     },
     "execution_count": 17,
     "metadata": {},
     "output_type": "execute_result"
    },
    {
     "data": {
      "image/png": "[encoded data removed]",
      "text/plain": [
       "<Figure size 640x480 with 1 Axes>"
      ]
     },
     "metadata": {},
     "output_type": "display_data"
    }
   ],
   "source": [
    "plt.hist(data, bins=[0, 10, 20, 30, 40, 50, 60, 70, 80, 90], edgecolor='black')"
   ]
  },
  {
   "cell_type": "code",
   "execution_count": 18,
   "id": "767c91be",
   "metadata": {},
   "outputs": [
    {
     "name": "stdout",
     "output_type": "stream",
     "text": [
      "The mean is = 39.96330275229358\n",
      "The standard deviation is = 15.081385698814763\n"
     ]
    }
   ],
   "source": [
    "import statistics\n",
    "\n",
    "mean = sum(data) / len(data)\n",
    "std = statistics.pstdev(data)\n",
    "print(\"The mean is = \" + str(mean))\n",
    "print(\"The standard deviation is = \" + str(std))"
   ]
  },
  {
   "cell_type": "markdown",
   "id": "00737360",
   "metadata": {},
   "source": [
    "$Y = a + bX$\n",
    "\n",
    "$10b = 15.08$\n",
    "\n",
    "$b = 10/15.08$\n",
    "\n",
    "$b = 0.663$\n",
    "\n",
    "We know that:\n",
    "$50 = a + b(39.96)$\n",
    "\n",
    "hence:\n",
    "$ 50 = a + (0.663)(39.96)$\n",
    "\n",
    "$ a = 50 - 26.5$\n",
    "\n",
    "$ a = 23.5$\n",
    "\n",
    "Therefore, if $Y = a + bX$\n",
    "\n",
    "then $a = 23.5$, and $b = 0.663$"
   ]
  }
 ],
 "metadata": {
  "kernelspec": {
   "display_name": "Python 3 (ipykernel)",
   "language": "python",
   "name": "python3"
  },
  "language_info": {
   "codemirror_mode": {
    "name": "ipython",
    "version": 3
   },
   "file_extension": ".py",
   "mimetype": "text/x-python",
   "name": "python",
   "nbconvert_exporter": "python",
   "pygments_lexer": "ipython3",
   "version": "3.10.7"
  }
 },
 "nbformat": 4,
 "nbformat_minor": 5
}

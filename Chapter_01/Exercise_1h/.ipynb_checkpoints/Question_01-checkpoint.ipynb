{
 "cells": [
  {
   "cell_type": "markdown",
   "id": "70389b63-ec54-4c14-a722-7d97e8e23303",
   "metadata": {},
   "source": [
    "# Question 1\n",
    "-----"
   ]
  },
  {
   "cell_type": "code",
   "execution_count": 1,
   "id": "1a7f03f1",
   "metadata": {},
   "outputs": [
    {
     "name": "stdout",
     "output_type": "stream",
     "text": [
      "The mean of the data is = 6.0\n",
      "The standard deviation of the data is = 2.138089935299395\n"
     ]
    }
   ],
   "source": [
    "import statistics\n",
    "\n",
    "data = [4, 6, 9, 3, 5, 6, 9]\n",
    "mean = sum(data) / len(data)\n",
    "std = statistics.pstdev(data)\n",
    "print(\"The mean of the data is = \" + str(mean))\n",
    "print(\"The standard deviation of the data is = \" + str(std))"
   ]
  },
  {
   "cell_type": "code",
   "execution_count": 2,
   "id": "378b620d",
   "metadata": {},
   "outputs": [
    {
     "name": "stdout",
     "output_type": "stream",
     "text": [
      "[514, 516, 519, 513, 515, 516, 519]\n",
      "The above dataset is related to the intial dataset by the function f(x) = x + 510\n",
      "Hence, the mean is = 516, and the standard deviation is the same as the initial dataset; i.e. std = 2.14\n"
     ]
    }
   ],
   "source": [
    "data_2 = [514, 516, 519, 513, 515, 516, 519]\n",
    "print(data_2)\n",
    "print(\"The above dataset is related to the intial dataset by the function f(x) = x + 510\")\n",
    "print(\"Hence, the mean is = 516, and the standard deviation is the same as the initial dataset; i.e. std = 2.14\")"
   ]
  },
  {
   "cell_type": "code",
   "execution_count": 4,
   "id": "ac18020d",
   "metadata": {},
   "outputs": [
    {
     "name": "stdout",
     "output_type": "stream",
     "text": [
      "[52, 78, 117, 39, 65, 78, 117]\n",
      "The above dataset is related to the intial dataset by the function f(x) = x * 13\n",
      "Hence, the mean is = (13 * 6) = 78, and the standard deviation is = (13 * 2.14) = 27.82\n"
     ]
    }
   ],
   "source": [
    "data_3 = [52, 78, 117, 39, 65, 78, 117]\n",
    "print(data_3)\n",
    "print(\"The above dataset is related to the intial dataset by the function f(x) = x * 13\")\n",
    "print(\"Hence, the mean is = (13 * 6) = 78, and the standard deviation is = (13 * 2.14) = 27.82\")"
   ]
  }
 ],
 "metadata": {
  "kernelspec": {
   "display_name": "Python 3 (ipykernel)",
   "language": "python",
   "name": "python3"
  },
  "language_info": {
   "codemirror_mode": {
    "name": "ipython",
    "version": 3
   },
   "file_extension": ".py",
   "mimetype": "text/x-python",
   "name": "python",
   "nbconvert_exporter": "python",
   "pygments_lexer": "ipython3",
   "version": "3.11.2"
  }
 },
 "nbformat": 4,
 "nbformat_minor": 5
}

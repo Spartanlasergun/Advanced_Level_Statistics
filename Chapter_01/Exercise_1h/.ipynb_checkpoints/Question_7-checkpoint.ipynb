{
 "cells": [
  {
   "cell_type": "code",
   "execution_count": 2,
   "id": "379f72a9",
   "metadata": {},
   "outputs": [
    {
     "name": "stdout",
     "output_type": "stream",
     "text": [
      "a = 1.6\n",
      "b = 10.0\n"
     ]
    }
   ],
   "source": [
    "mean = 20\n",
    "std = 5\n",
    "a = 8 / 5\n",
    "b = 42 - (20 * a) \n",
    "print(\"a = \" + str(a))\n",
    "print(\"b = \" + str(b))"
   ]
  }
 ],
 "metadata": {
  "kernelspec": {
   "display_name": "Python 3 (ipykernel)",
   "language": "python",
   "name": "python3"
  },
  "language_info": {
   "codemirror_mode": {
    "name": "ipython",
    "version": 3
   },
   "file_extension": ".py",
   "mimetype": "text/x-python",
   "name": "python",
   "nbconvert_exporter": "python",
   "pygments_lexer": "ipython3",
   "version": "3.10.7"
  }
 },
 "nbformat": 4,
 "nbformat_minor": 5
}

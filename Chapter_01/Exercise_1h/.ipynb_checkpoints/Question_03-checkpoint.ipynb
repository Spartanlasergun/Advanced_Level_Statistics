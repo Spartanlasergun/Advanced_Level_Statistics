{
 "cells": [
  {
   "cell_type": "markdown",
   "id": "d537cd8b-af56-4618-b4ee-ea3be0eb4922",
   "metadata": {},
   "source": [
    "# Question 3\n",
    "-----"
   ]
  },
  {
   "cell_type": "markdown",
   "id": "ea3e6e6f-0b0d-49cf-ab8a-74dd44b46bea",
   "metadata": {},
   "source": [
    "When the dataset is increased by '$k$', the new mean is = $(\\bar x + k)$, and the standard deviation remains the same"
   ]
  },
  {
   "cell_type": "markdown",
   "id": "d7a9e709-f383-4480-8ac1-76a959437e04",
   "metadata": {},
   "source": [
    "When the dataset in multiplied by '$p$', the new mean is = $(\\bar x * p)$ and the new standard deviation is = $(\\sigma * p)$"
   ]
  },
  {
   "cell_type": "markdown",
   "id": "7e099508-aba4-4443-8b33-acba954c5732",
   "metadata": {},
   "source": [
    "The mean of Y is given by -> $(mean_x * 3) + 5$\n",
    "\n",
    "The standard deviation of Y is given by -> $(\\sigma_x * 3)$"
   ]
  }
 ],
 "metadata": {
  "kernelspec": {
   "display_name": "Python 3 (ipykernel)",
   "language": "python",
   "name": "python3"
  },
  "language_info": {
   "codemirror_mode": {
    "name": "ipython",
    "version": 3
   },
   "file_extension": ".py",
   "mimetype": "text/x-python",
   "name": "python",
   "nbconvert_exporter": "python",
   "pygments_lexer": "ipython3",
   "version": "3.11.2"
  }
 },
 "nbformat": 4,
 "nbformat_minor": 5
}

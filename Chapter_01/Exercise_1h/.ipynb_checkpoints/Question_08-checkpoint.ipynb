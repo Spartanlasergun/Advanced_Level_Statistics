{
 "cells": [
  {
   "cell_type": "markdown",
   "id": "b50fed90-c414-4dac-8bd2-38eff1fa208c",
   "metadata": {},
   "source": [
    "# Question 8\n",
    "-----"
   ]
  },
  {
   "cell_type": "markdown",
   "id": "879b2f07-5bd6-4b86-af0f-d65aabb37c49",
   "metadata": {},
   "source": [
    "$$85a + b = 63$$\n",
    "\n",
    "$$45a + b = 31 => b = 31 - 45a$$\n",
    "\n",
    "Hence, \n",
    "\n",
    "$$85a - 45a + 31 = 63$$\n",
    "\n",
    "$$40a = 32$$\n",
    "\n",
    "$$a = 0.8$$\n",
    "\n",
    "$$b = 31 - (45 * 0.8) = -5.0$$"
   ]
  },
  {
   "cell_type": "markdown",
   "id": "16629c52-90e0-4fc6-91bf-7f2cab9351fd",
   "metadata": {},
   "source": [
    "-----\n",
    "$$0.8x = 5$$\n",
    "\n",
    "$$x = 6.25$$\n",
    "\n",
    "The standard deviation of the orginal set \"A\" is = 6.25"
   ]
  }
 ],
 "metadata": {
  "kernelspec": {
   "display_name": "Python 3 (ipykernel)",
   "language": "python",
   "name": "python3"
  },
  "language_info": {
   "codemirror_mode": {
    "name": "ipython",
    "version": 3
   },
   "file_extension": ".py",
   "mimetype": "text/x-python",
   "name": "python",
   "nbconvert_exporter": "python",
   "pygments_lexer": "ipython3",
   "version": "3.11.2"
  }
 },
 "nbformat": 4,
 "nbformat_minor": 5
}

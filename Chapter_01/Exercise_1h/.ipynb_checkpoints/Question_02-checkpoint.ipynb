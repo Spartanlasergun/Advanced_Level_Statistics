{
 "cells": [
  {
   "cell_type": "markdown",
   "id": "9bef3eff-4fed-4ab0-adde-0c2b4b62c644",
   "metadata": {},
   "source": [
    "# Question 2\n",
    "-----"
   ]
  },
  {
   "cell_type": "code",
   "execution_count": 1,
   "id": "f6a1aa48",
   "metadata": {
    "tags": []
   },
   "outputs": [
    {
     "name": "stdout",
     "output_type": "stream",
     "text": [
      "The mean is = 50\n",
      "The standard deviation is = 12\n"
     ]
    }
   ],
   "source": [
    "mean = (22 + 3) * 2\n",
    "std = 6 * 2\n",
    "print(\"The mean is = \" + str(mean))\n",
    "print(\"The standard deviation is = \" + str(std))"
   ]
  }
 ],
 "metadata": {
  "kernelspec": {
   "display_name": "Python 3 (ipykernel)",
   "language": "python",
   "name": "python3"
  },
  "language_info": {
   "codemirror_mode": {
    "name": "ipython",
    "version": 3
   },
   "file_extension": ".py",
   "mimetype": "text/x-python",
   "name": "python",
   "nbconvert_exporter": "python",
   "pygments_lexer": "ipython3",
   "version": "3.11.2"
  }
 },
 "nbformat": 4,
 "nbformat_minor": 5
}

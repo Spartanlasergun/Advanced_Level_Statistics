{
 "cells": [
  {
   "cell_type": "markdown",
   "id": "a5394f03-34dc-4657-ab70-55c31e6837b4",
   "metadata": {},
   "source": [
    "# Question 4\n",
    "-----"
   ]
  },
  {
   "cell_type": "markdown",
   "id": "9fafc305-b0bb-44cb-999a-8e801424127c",
   "metadata": {
    "tags": []
   },
   "source": [
    "(a) The datasets are related by the function, $f(x) = x + 100$\n",
    "\n",
    "This implies that the standard devaition remains the same, .ie $\\sigma = 2$"
   ]
  },
  {
   "cell_type": "markdown",
   "id": "e2085eec-645d-4aaa-bc90-892fe4c7f64c",
   "metadata": {
    "tags": []
   },
   "source": [
    "(b) The datasets are related by the function, $f(x) = x * 100$\n",
    "\n",
    "Hence the standard devaition is given by, $(\\sigma * 100)$ --> which is = 200"
   ]
  },
  {
   "cell_type": "markdown",
   "id": "354d12f6-cf4d-41da-a16e-5c12192cb7a4",
   "metadata": {
    "tags": []
   },
   "source": [
    "(c) The datasets are related by the function, $f(x) = (x + 0.01) + 2$\n",
    "\n",
    "Hence the standard devaition is given by, $(\\sigma * 0.01)$ --> which is = 2.02"
   ]
  },
  {
   "cell_type": "markdown",
   "id": "6765e85b-8f68-467d-af1a-64a8a231b770",
   "metadata": {
    "tags": []
   },
   "source": [
    "Given the dataset:\n",
    "\n",
    "$$[1, 2, 3, 4, 5, 6, 7]$$\n",
    "\n",
    "which has a standard deviation of 2, we can increase the deviation of the datapoints to '6' by multiplying its terms by '3'. This gives the dataset \n",
    "\n",
    "$$[3, 6, 9, 12, 15, 18, 21]$$\n",
    "\n",
    "The mean of this new dataset is = 12\n",
    "\n",
    "To shift the mean (or the center) of this dataset without affecting the standard deviation, we simply subtract seven from each term, which gives the dataset \n",
    "\n",
    "$$[-4, -1, 2, 5, 8, 11, 14]$$\n",
    "\n",
    "Hence, the dataset of seven integers that have a mean of 5 and a standard deviation of 6 is \n",
    "\n",
    "$$[-4, -1, 2, 5, 8, 11, 14]$$"
   ]
  }
 ],
 "metadata": {
  "kernelspec": {
   "display_name": "Python 3 (ipykernel)",
   "language": "python",
   "name": "python3"
  },
  "language_info": {
   "codemirror_mode": {
    "name": "ipython",
    "version": 3
   },
   "file_extension": ".py",
   "mimetype": "text/x-python",
   "name": "python",
   "nbconvert_exporter": "python",
   "pygments_lexer": "ipython3",
   "version": "3.11.2"
  }
 },
 "nbformat": 4,
 "nbformat_minor": 5
}

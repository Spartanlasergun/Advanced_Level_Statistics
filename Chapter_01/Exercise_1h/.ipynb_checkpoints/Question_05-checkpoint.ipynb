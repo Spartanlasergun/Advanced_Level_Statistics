{
 "cells": [
  {
   "cell_type": "markdown",
   "id": "4ea785e1-70e6-4b03-8656-187a1ff2fdb7",
   "metadata": {},
   "source": [
    "# Question 5\n",
    "-----"
   ]
  },
  {
   "cell_type": "markdown",
   "id": "350ebb8a-f045-40b0-ae4b-5d9687a809ea",
   "metadata": {},
   "source": [
    "The dataset is defined by the function, $y = 4x + 52$\n",
    "\n",
    "To shift the standard deviation to 3, multiply by $\\frac{3}{4}$, hence a = $\\frac{3}{4}$\n",
    "\n",
    "This gives the function $y = 3x + 39$\n",
    "\n",
    "The mean is given by b = 39, to shift 'b' to 64, we add 22,\n",
    "\n",
    "This implies that b = 22\n",
    "\n",
    "Hence, $a = \\frac{3}{4}$, and $b = 22$"
   ]
  },
  {
   "cell_type": "markdown",
   "id": "a3ce7d84-baf0-471b-819d-960edb798159",
   "metadata": {},
   "source": [
    "$$f(x) = 3/4(x) + 22$$\n",
    "\n",
    "$$f(64) = 3/4(64) + 22$$"
   ]
  },
  {
   "cell_type": "code",
   "execution_count": 1,
   "id": "a2d07618",
   "metadata": {
    "tags": []
   },
   "outputs": [
    {
     "name": "stdout",
     "output_type": "stream",
     "text": [
      "The scaled number is = 70.0\n"
     ]
    }
   ],
   "source": [
    "scaled_number = ((3 / 4) * 64) + 22\n",
    "print(\"The scaled number is = \" + str(scaled_number))"
   ]
  },
  {
   "cell_type": "markdown",
   "id": "5fb60f8b-1dd1-41b6-a836-ff814ba73620",
   "metadata": {},
   "source": [
    "$$3/4(x) + 22 = 79$$\n",
    "\n",
    "$$3/4(x) = 57$$\n",
    "\n",
    "$$x = 76$$\n",
    "\n",
    "The orginal datapoint for a scaled value of 79 is = 76"
   ]
  }
 ],
 "metadata": {
  "kernelspec": {
   "display_name": "Python 3 (ipykernel)",
   "language": "python",
   "name": "python3"
  },
  "language_info": {
   "codemirror_mode": {
    "name": "ipython",
    "version": 3
   },
   "file_extension": ".py",
   "mimetype": "text/x-python",
   "name": "python",
   "nbconvert_exporter": "python",
   "pygments_lexer": "ipython3",
   "version": "3.11.2"
  }
 },
 "nbformat": 4,
 "nbformat_minor": 5
}

{
 "cells": [
  {
   "cell_type": "markdown",
   "id": "18f09d68-2f9d-473b-89a6-000f01fd943f",
   "metadata": {},
   "source": [
    "# Question Six\n",
    "\n",
    "| Mark (x) | Frequency | Cum. Frequency |\n",
    "| --- | --- | --- |\n",
    "| 0 < x &le; 10 | 3 | 3 |\n",
    "| 10 < x &le; 20 | 6 | 9 |\n",
    "| 20 < x &le; 30 | 9 | 18 |\n",
    "| 30 < x &le; 40 | 10 | 28 |\n",
    "| 40 < x &le; 50 | 12 | 40 |\n",
    "| 50 < x &le; 60 | 18 | 58 |\n",
    "| 60 < x &le; 70 | 14 | 72 |\n",
    "| 70 < x &le; 80 | 11 | 83 |\n",
    "| 80 < x &le; 90 | 5 | 88 |"
   ]
  },
  {
   "cell_type": "code",
   "execution_count": 2,
   "id": "dd92ae32-6742-4e97-b147-aeafd81b0a9b",
   "metadata": {
    "tags": []
   },
   "outputs": [
    {
     "name": "stdout",
     "output_type": "stream",
     "text": [
      "(a)\n",
      "mean = 49.65909090909091\n",
      "variance = 438.9629049111808\n",
      "standard deviation = 20.83205918968753\n"
     ]
    }
   ],
   "source": [
    "import statistics\n",
    "\n",
    "midpoints = [5, 15, 25, 35, 45, 55, 65, 75, 85]\n",
    "freq = [3, 6, 9, 10, 12, 18, 14, 11, 5]\n",
    "raw_data = []\n",
    "index = 0\n",
    "\n",
    "for item in freq:\n",
    "    count = item\n",
    "    while count != 0:\n",
    "        raw_data.append(midpoints[index])\n",
    "        count = count - 1\n",
    "    index = index + 1\n",
    "\n",
    "mean = statistics.mean(raw_data)\n",
    "variance = statistics.variance(raw_data)\n",
    "std = statistics.pstdev(raw_data)\n",
    "\n",
    "print(\"(a)\")\n",
    "print(\"mean = \" + str(mean))\n",
    "print(\"variance = \" + str(variance))\n",
    "print(\"standard deviation = \" + str(std))\n",
    "    "
   ]
  },
  {
   "cell_type": "code",
   "execution_count": 4,
   "id": "f587c5ba-78ff-461a-b473-63ef034f3618",
   "metadata": {
    "tags": []
   },
   "outputs": [
    {
     "data": {
      "image/png": "[encoded data removed]",
      "text/plain": [
       "<Figure size 640x480 with 1 Axes>"
      ]
     },
     "metadata": {},
     "output_type": "display_data"
    }
   ],
   "source": [
    "import matplotlib.pyplot as plt\n",
    "from scipy.interpolate import interp1d\n",
    "import numpy as np\n",
    "\n",
    "intervals = [0, 10, 20, 30, 40, 50, 60, 70, 80, 90]\n",
    "cum_freq = [0, 3, 9, 18, 28, 40, 58, 72, 83, 88]\n",
    "\n",
    "x = np.linspace(0, 85, 100)\n",
    "function = interp1d(intervals, cum_freq, kind='linear')\n",
    "y = function(x)\n",
    "\n",
    "plt.plot(x, y)\n",
    "plt.show()"
   ]
  },
  {
   "cell_type": "code",
   "execution_count": 6,
   "id": "0949546d-e827-47de-8743-1ff58feb7b55",
   "metadata": {
    "tags": []
   },
   "outputs": [
    {
     "name": "stdout",
     "output_type": "stream",
     "text": [
      "(d)\n",
      "the estimated median = 51.515151515151516\n",
      "the estimated interquartile range = 31.76767676767676\n"
     ]
    }
   ],
   "source": [
    "x_list = x.tolist()\n",
    "y_list = y.tolist()\n",
    "\n",
    "for item in y_list:\n",
    "    if item <= 44:\n",
    "        median_index = y_list.index(item)\n",
    "median = x_list[median_index]\n",
    "\n",
    "for item in y_list:\n",
    "    if item <= 22:\n",
    "        lower_index = y_list.index(item)\n",
    "lower_quartile = x_list[lower_index]\n",
    "\n",
    "for item in y_list:\n",
    "    if item <= 66:\n",
    "        upper_index = y_list.index(item)\n",
    "upper_quartile = x_list[upper_index]\n",
    "\n",
    "intq_range = upper_quartile - lower_quartile\n",
    "\n",
    "print(\"(d)\")\n",
    "print(\"the estimated median = \" + str(median))\n",
    "print(\"the estimated interquartile range = \" + str(intq_range))"
   ]
  },
  {
   "cell_type": "code",
   "execution_count": 12,
   "id": "b120eb04-3d71-46eb-98dc-2e44ae4bc12b",
   "metadata": {
    "tags": []
   },
   "outputs": [
    {
     "name": "stdout",
     "output_type": "stream",
     "text": [
      "The number of students with an A grade is = 11\n"
     ]
    }
   ],
   "source": [
    "for item in x_list:\n",
    "    if item <= 75:\n",
    "        A_grade = x_list.index(item)\n",
    "A_students = int(round((88 - y_list[A_grade]), 0))\n",
    "print(\"The number of students with an A grade is = \" + str(A_students))"
   ]
  }
 ],
 "metadata": {
  "kernelspec": {
   "display_name": "Python 3 (ipykernel)",
   "language": "python",
   "name": "python3"
  },
  "language_info": {
   "codemirror_mode": {
    "name": "ipython",
    "version": 3
   },
   "file_extension": ".py",
   "mimetype": "text/x-python",
   "name": "python",
   "nbconvert_exporter": "python",
   "pygments_lexer": "ipython3",
   "version": "3.11.2"
  }
 },
 "nbformat": 4,
 "nbformat_minor": 5
}

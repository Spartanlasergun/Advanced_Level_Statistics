{
 "cells": [
  {
   "cell_type": "markdown",
   "id": "ccd2827e-745e-4469-8bb8-cf331991a815",
   "metadata": {},
   "source": [
    "# Question 1\n",
    "-----"
   ]
  },
  {
   "cell_type": "code",
   "execution_count": 1,
   "id": "2c6b86f6-cc70-406b-aa74-02615c152485",
   "metadata": {
    "tags": []
   },
   "outputs": [
    {
     "name": "stdout",
     "output_type": "stream",
     "text": [
      "(a)\n",
      "mean = 5.419655172413793\n",
      "standard deviation = 0.3329852721048836\n",
      "lower quartile = 5.295\n",
      "median = 5.46\n",
      "upper quartile = 5.615\n",
      "range = 1.79\n"
     ]
    }
   ],
   "source": [
    "import statistics\n",
    "\n",
    "data = [4.07, 4.88, 5.10, 5.26, 5.27, 5.29, 5.29, 5.30,\n",
    "        5.34, 5.34, 5.36, 5.39, 5.42, 5.44, 5.46, 5.47,\n",
    "        5.50, 5.53, 5.55, 5.57, 5.58, 5.61, 5.62, 5.63,\n",
    "        5.65, 5.75, 5.79, 5.85, 5.86]\n",
    "\n",
    "mean = statistics.mean(data)\n",
    "std = statistics.pstdev(data)\n",
    "quartiles = statistics.quantiles(data, n=4)\n",
    "lower_quartile = quartiles[0]\n",
    "median = quartiles[1]\n",
    "upper_quartile = quartiles[2]\n",
    "data_range = max(data) - min(data)\n",
    "\n",
    "print(\"(a)\")\n",
    "print(\"mean = \" + str(mean))\n",
    "print(\"standard deviation = \" + str(std))\n",
    "print(\"lower quartile = \" + str(lower_quartile))\n",
    "print(\"median = \" + str(median))\n",
    "print(\"upper quartile = \" + str(upper_quartile))\n",
    "print(\"range = \" + str(data_range))"
   ]
  },
  {
   "cell_type": "code",
   "execution_count": 2,
   "id": "0a42d1da-cf96-49ff-9601-ffb7cde0ac3c",
   "metadata": {
    "tags": []
   },
   "outputs": [
    {
     "data": {
      "text/plain": [
       "<Axes: >"
      ]
     },
     "execution_count": 2,
     "metadata": {},
     "output_type": "execute_result"
    },
    {
     "data": {
      "image/png": "[encoded data removed]",
      "text/plain": [
       "<Figure size 640x480 with 1 Axes>"
      ]
     },
     "metadata": {},
     "output_type": "display_data"
    }
   ],
   "source": [
    "import seaborn as sns\n",
    "\n",
    "sns.boxplot([min(data), lower_quartile, median, upper_quartile, max(data)], orient='h', whis=max(data)) "
   ]
  },
  {
   "cell_type": "code",
   "execution_count": 3,
   "id": "0eae9e22-c8e3-479a-be51-9be56eb98cf5",
   "metadata": {
    "tags": []
   },
   "outputs": [
    {
     "name": "stdout",
     "output_type": "stream",
     "text": [
      "outlier = 4.07\n"
     ]
    }
   ],
   "source": [
    "intq_range = upper_quartile - lower_quartile\n",
    "lower_boundary = lower_quartile - (1.5 * intq_range)\n",
    "upper_boundary = upper_quartile + (1.5 * intq_range)\n",
    "\n",
    "for item in data:\n",
    "    if (item <= lower_boundary) or (item >= upper_boundary):\n",
    "        outlier = item\n",
    "\n",
    "print(\"outlier = \" + str(outlier))"
   ]
  },
  {
   "cell_type": "code",
   "execution_count": 4,
   "id": "c808c127-faea-4e78-89e2-64a9d8821b87",
   "metadata": {
    "tags": []
   },
   "outputs": [
    {
     "name": "stdout",
     "output_type": "stream",
     "text": [
      "(b)\n",
      "mean = 5.4678571428571425\n",
      "median = 5.465\n",
      "standard deviation = 0.2178524589660421\n"
     ]
    }
   ],
   "source": [
    "data.remove(outlier)\n",
    "\n",
    "mean = statistics.mean(data)\n",
    "median = statistics.median(data)\n",
    "std = statistics.pstdev(data)\n",
    "\n",
    "print(\"(b)\")\n",
    "print(\"mean = \" + str(mean))\n",
    "print(\"median = \" + str(median))\n",
    "print(\"standard deviation = \" + str(std))"
   ]
  }
 ],
 "metadata": {
  "kernelspec": {
   "display_name": "Python 3 (ipykernel)",
   "language": "python",
   "name": "python3"
  },
  "language_info": {
   "codemirror_mode": {
    "name": "ipython",
    "version": 3
   },
   "file_extension": ".py",
   "mimetype": "text/x-python",
   "name": "python",
   "nbconvert_exporter": "python",
   "pygments_lexer": "ipython3",
   "version": "3.11.2"
  }
 },
 "nbformat": 4,
 "nbformat_minor": 5
}

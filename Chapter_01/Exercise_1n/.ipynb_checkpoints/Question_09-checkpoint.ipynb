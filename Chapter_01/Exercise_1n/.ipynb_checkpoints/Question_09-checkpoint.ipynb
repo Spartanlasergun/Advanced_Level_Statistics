{
 "cells": [
  {
   "cell_type": "markdown",
   "id": "71a3ce8e-94a2-4f27-84ee-cca2eabb53e2",
   "metadata": {},
   "source": [
    "# Question 9\n",
    "-----"
   ]
  },
  {
   "cell_type": "markdown",
   "id": "27f5793c-19f0-4073-ae5c-ce6848bb7b7f",
   "metadata": {},
   "source": [
    "| Length, x millimetres | Frequency |\n",
    "| --- | --- |\n",
    "| 0 &le; x < 5 | 10 |\n",
    "| 5 &le; x < 10 | 8 |\n",
    "| 10 &le; x < 20 | 12 |\n",
    "| 20 &le; x < 50 | 25 |\n",
    "| 50 &le; x < 100 | 30 |"
   ]
  },
  {
   "cell_type": "markdown",
   "id": "adbba169-40a5-47a1-bb07-d63d1e0101fe",
   "metadata": {},
   "source": [
    "f.d. for 0 &le; x < 5 = 10\n",
    "\n",
    "this implies a width of 5 is treated as 1\n",
    "\n",
    "hence class widths are given by:\n",
    "\n",
    "| class width | frequency | f.d. |\n",
    "| --- | --- | --- |\n",
    "| 1 | 10 | 10 |\n",
    "| 1 | 8 | 8 |\n",
    "| 2 | 12 | 6 |\n",
    "| 6 | 25 | 4$\\frac{1}{6}$ |\n",
    "| 10 | 30 | 3 |"
   ]
  },
  {
   "cell_type": "code",
   "execution_count": 1,
   "id": "03f25600-4fdc-4095-a729-06be6ab11e16",
   "metadata": {
    "tags": []
   },
   "outputs": [
    {
     "data": {
      "image/png": "[encoded data removed]",
      "text/plain": [
       "<Figure size 640x480 with 1 Axes>"
      ]
     },
     "metadata": {},
     "output_type": "display_data"
    }
   ],
   "source": [
    "import matplotlib.pyplot as plt\n",
    "\n",
    "freq_dens = [10, 8, 6, 4.1666, 3]\n",
    "mids = [2.5, 7.5, 15, 35, 75]\n",
    "freq = [10, 8, 12, 25, 30]\n",
    "raw_data = []\n",
    "index = 0\n",
    "for item in freq:\n",
    "    count = item\n",
    "    while count != 0:\n",
    "        raw_data.append(mids[index])\n",
    "        count = count - 1\n",
    "    index = index + 1\n",
    "    \n",
    "plt.hist(raw_data, bins=[0, 5, 10, 20, 50, 100], density=True, edgecolor='black')\n",
    "plt.show()"
   ]
  },
  {
   "cell_type": "markdown",
   "id": "26e44c28-fa49-46b6-ac0b-f7b61c7bb811",
   "metadata": {},
   "source": [
    "Highest frequency density is 10 which implies that the mode is = 2.5mm"
   ]
  },
  {
   "cell_type": "code",
   "execution_count": 2,
   "id": "c0cd23dd-409f-4e5d-860a-7ff0613eb653",
   "metadata": {
    "tags": []
   },
   "outputs": [
    {
     "name": "stdout",
     "output_type": "stream",
     "text": [
      "estimated mean = 39.88235294117647mm\n",
      "estimated median = 35mm\n"
     ]
    }
   ],
   "source": [
    "import statistics\n",
    "\n",
    "mean = statistics.mean(raw_data)\n",
    "print(\"estimated mean = \" + str(mean) + \"mm\")\n",
    "\n",
    "median = statistics.median(raw_data)\n",
    "print(\"estimated median = \" + str(median) + \"mm\")"
   ]
  }
 ],
 "metadata": {
  "kernelspec": {
   "display_name": "Python 3 (ipykernel)",
   "language": "python",
   "name": "python3"
  },
  "language_info": {
   "codemirror_mode": {
    "name": "ipython",
    "version": 3
   },
   "file_extension": ".py",
   "mimetype": "text/x-python",
   "name": "python",
   "nbconvert_exporter": "python",
   "pygments_lexer": "ipython3",
   "version": "3.11.2"
  }
 },
 "nbformat": 4,
 "nbformat_minor": 5
}

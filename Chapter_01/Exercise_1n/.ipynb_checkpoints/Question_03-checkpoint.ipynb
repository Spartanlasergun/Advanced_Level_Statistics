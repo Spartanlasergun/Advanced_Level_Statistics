{
 "cells": [
  {
   "cell_type": "markdown",
   "id": "522c46e3-163d-41a9-bdfe-96e37bbce583",
   "metadata": {},
   "source": [
    "# Question Three"
   ]
  },
  {
   "cell_type": "code",
   "execution_count": 1,
   "id": "97f408fb-a07c-4a93-9fa7-344a17f3c671",
   "metadata": {
    "tags": []
   },
   "outputs": [
    {
     "name": "stdout",
     "output_type": "stream",
     "text": [
      "Mean = 16.0\n",
      "Standard Deviation = 6.0\n"
     ]
    }
   ],
   "source": [
    "import math\n",
    "\n",
    "Ex = 320\n",
    "Ex_sq = 5840\n",
    "n = 20\n",
    "mean = Ex / n\n",
    "print(\"Mean = \" + str(mean))\n",
    "std = math.sqrt((Ex_sq / n) - pow(mean, 2))\n",
    "print(\"Standard Deviation = \" + str(std))"
   ]
  },
  {
   "cell_type": "markdown",
   "id": "8f082acb-015d-41f5-9eff-744d3c412480",
   "metadata": {},
   "source": [
    "(a)\n",
    "\n",
    "$$\\bar x_1 = \\frac{\\Sigma x}{n}$$\n",
    "\n",
    "$$\\bar x_2 = \\frac{\\Sigma x + y}{n + 1}$$\n",
    "\n",
    "$$\\bar x_1 = \\bar x_2$$\n",
    "\n",
    "Hence,\n",
    "\n",
    "$$\\frac{\\Sigma x}{n} = \\frac{\\Sigma x + y}{n + 1}$$\n",
    "\n",
    "$$\\frac{320}{20} = \\frac{320 + y}{21}$$\n",
    "\n",
    "Thus,\n",
    "\n",
    "$$ y = 336 - 320 = 16 $$\n",
    "\n",
    "The new $\\Sigma x = 336$, and $\\Sigma x^2 = 5840 + 16^2 = 6096$\n",
    "\n",
    "Therefore\n",
    "\n",
    "$$\\sigma = \\sqrt{\\frac{\\Sigma x^2}{n} - \\bar x^2}$$\n",
    "\n",
    "$$\\sigma = \\sqrt{\\frac{6092}{21} - 16^2}$$\n",
    "\n",
    "$$\\sigma = \\sqrt{34.2857}$$\n",
    "\n",
    "$$\\sigma = 5.86$$"
   ]
  },
  {
   "cell_type": "code",
   "execution_count": 2,
   "id": "a34cfded-b820-4bd1-bf76-b7f79435ba46",
   "metadata": {
    "tags": []
   },
   "outputs": [
    {
     "name": "stdout",
     "output_type": "stream",
     "text": [
      "(b)\n",
      "Mean = 15.0\n",
      "Standard Deviation = 7.0\n"
     ]
    }
   ],
   "source": [
    "Ex = 130 + 320\n",
    "n = 30\n",
    "Ex_sq = 5840 + 2380\n",
    "mean = Ex / n\n",
    "print(\"(b)\")\n",
    "print(\"Mean = \" + str(mean))\n",
    "std = math.sqrt((Ex_sq / n) - pow(mean, 2))\n",
    "print(\"Standard Deviation = \" + str(std))"
   ]
  }
 ],
 "metadata": {
  "kernelspec": {
   "display_name": "Python 3 (ipykernel)",
   "language": "python",
   "name": "python3"
  },
  "language_info": {
   "codemirror_mode": {
    "name": "ipython",
    "version": 3
   },
   "file_extension": ".py",
   "mimetype": "text/x-python",
   "name": "python",
   "nbconvert_exporter": "python",
   "pygments_lexer": "ipython3",
   "version": "3.11.2"
  }
 },
 "nbformat": 4,
 "nbformat_minor": 5
}

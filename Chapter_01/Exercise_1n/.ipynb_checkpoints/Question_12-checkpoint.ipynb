{
 "cells": [
  {
   "cell_type": "markdown",
   "id": "0b08c855-b0da-4e43-bc3c-62d5aeb26b87",
   "metadata": {},
   "source": [
    "# Question Twelve"
   ]
  },
  {
   "cell_type": "code",
   "execution_count": 1,
   "id": "d76436ac-b2f5-49ff-bc80-7a74c093805f",
   "metadata": {},
   "outputs": [
    {
     "name": "stdout",
     "output_type": "stream",
     "text": [
      "mean = 100.7\n",
      "standard deviation = 0.4\n"
     ]
    }
   ],
   "source": [
    "import math\n",
    "\n",
    "n = 50\n",
    "Ex = 5035\n",
    "Ex_sq = 507033\n",
    "\n",
    "mean = round((Ex / n), 1)\n",
    "print(\"mean = \" + str(mean))\n",
    "\n",
    "std = round((math.sqrt((Ex_sq / n) - pow(mean, 2))), 1)\n",
    "print(\"standard deviation = \" + str(std))"
   ]
  },
  {
   "cell_type": "markdown",
   "id": "8c4cd0cf-18d7-4f60-a411-3a769794db57",
   "metadata": {},
   "source": [
    "Machine B produces more precise cuts, but is more prone to greater errors. Machine A is not as precise but its errors are less severe."
   ]
  }
 ],
 "metadata": {
  "kernelspec": {
   "display_name": "Python 3 (ipykernel)",
   "language": "python",
   "name": "python3"
  },
  "language_info": {
   "codemirror_mode": {
    "name": "ipython",
    "version": 3
   },
   "file_extension": ".py",
   "mimetype": "text/x-python",
   "name": "python",
   "nbconvert_exporter": "python",
   "pygments_lexer": "ipython3",
   "version": "3.11.2"
  }
 },
 "nbformat": 4,
 "nbformat_minor": 5
}

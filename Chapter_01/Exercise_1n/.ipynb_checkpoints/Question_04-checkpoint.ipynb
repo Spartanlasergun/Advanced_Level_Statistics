{
 "cells": [
  {
   "cell_type": "markdown",
   "id": "b6909fca-769b-4171-a4f1-3f946a431e94",
   "metadata": {},
   "source": [
    "# Question 4\n",
    "-----"
   ]
  },
  {
   "cell_type": "markdown",
   "id": "bc9e9244-6862-446e-9381-e8dbfb7ac81d",
   "metadata": {},
   "source": [
    "| Age | Number of Employees | Cum. Frequency |\n",
    "| --- | --- | --- |\n",
    "| 16-20 | 36 | 36 |\n",
    "| 21-25 | 56 | 92 |\n",
    "| 26-30 | 58 | 150 |\n",
    "| 31-35 | 52 | 202 |\n",
    "| 36-40 | 46 | 248 |\n",
    "| 41-45 | 38 | 286 |\n",
    "| 46-50 | 36 | 322 |\n",
    "| 51-60 | 36 | 358 |\n",
    "| 60- | 0 | 358 |"
   ]
  },
  {
   "cell_type": "code",
   "execution_count": 1,
   "id": "ecdef5f4-7166-4a76-b71c-210f85c95060",
   "metadata": {
    "tags": []
   },
   "outputs": [
    {
     "name": "stdout",
     "output_type": "stream",
     "text": [
      "the estimated mean = 34.59217877094972 = 34 years and 7 months\n",
      "the estimated standard deviation = 11.275803195828566 = 11 years and 3 months\n"
     ]
    }
   ],
   "source": [
    "import statistics\n",
    "\n",
    "midpoints = [18, 23, 28, 33, 38, 43, 48, 55.5]\n",
    "freq = [36, 56, 58, 52, 46, 38, 36, 36]\n",
    "raw_data = []\n",
    "index = 0\n",
    "for item in freq:\n",
    "    count = item\n",
    "    while count != 0:\n",
    "        raw_data.append(midpoints[index])\n",
    "        count = count - 1\n",
    "    index = index + 1\n",
    "\n",
    "mean = statistics.mean(raw_data)\n",
    "std = statistics.pstdev(raw_data)\n",
    "print(\"the estimated mean = \" + str(mean) + \" = 34 years and 7 months\")\n",
    "print(\"the estimated standard deviation = \" + str(std) + \" = 11 years and 3 months\")"
   ]
  },
  {
   "cell_type": "code",
   "execution_count": 2,
   "id": "78816343-c063-4657-832f-ee27546ceccc",
   "metadata": {
    "tags": []
   },
   "outputs": [
    {
     "data": {
      "image/png": "[encoded data removed]",
      "text/plain": [
       "<Figure size 640x480 with 1 Axes>"
      ]
     },
     "metadata": {},
     "output_type": "display_data"
    }
   ],
   "source": [
    "import matplotlib.pyplot as plt\n",
    "from scipy.interpolate import interp1d\n",
    "import numpy as np\n",
    "\n",
    "intervals = [15.5, 20.5, 25.5, 30.5, 35.5, 40.5, 45.5, 50.5]\n",
    "cum_freq = [36, 92, 150, 202, 248, 286, 322, 358]\n",
    "\n",
    "x = np.linspace(min(intervals), max(intervals), 100)\n",
    "function = interp1d(intervals, cum_freq, kind='quadratic')\n",
    "y = function(x)\n",
    "\n",
    "plt.plot(x, y)\n",
    "plt.show()\n"
   ]
  },
  {
   "cell_type": "code",
   "execution_count": 3,
   "id": "852d6438-8d09-4338-a3e4-fee40fbb4843",
   "metadata": {
    "tags": []
   },
   "outputs": [
    {
     "name": "stdout",
     "output_type": "stream",
     "text": [
      "(a)\n",
      "estimated median = 27.873737373737374 = 27 years and 10 months\n",
      "estimated interquartile range = 17.67676767676768 = 17 years and 8 months\n"
     ]
    }
   ],
   "source": [
    "x_list = x.tolist()\n",
    "y_list = y.tolist()\n",
    "\n",
    "for item in y_list:\n",
    "    if item <= (358/2):\n",
    "        median_index = y_list.index(item)\n",
    "median = x_list[median_index]\n",
    "print(\"(a)\")\n",
    "print(\"estimated median = \" + str(median) + \" = 27 years and 10 months\")\n",
    "\n",
    "for item in y_list:\n",
    "    if item <= (358 * 0.25):\n",
    "        lower_index = y_list.index(item)\n",
    "lower_quartile = x_list[lower_index]\n",
    "\n",
    "for item in y_list:\n",
    "    if item <= (358 * 0.75):\n",
    "        upper_index = y_list.index(item)\n",
    "upper_quartile = x_list[upper_index]\n",
    "\n",
    "intq_range = upper_quartile - lower_quartile\n",
    "print(\"estimated interquartile range = \" + str(intq_range) + \" = 17 years and 8 months\")\n",
    "\n"
   ]
  },
  {
   "cell_type": "code",
   "execution_count": 4,
   "id": "297ce348-9e69-4ac2-8601-e9b163a5be0f",
   "metadata": {
    "tags": []
   },
   "outputs": [
    {
     "name": "stdout",
     "output_type": "stream",
     "text": [
      "The estimated percentage of employees between 27 years and 55 years is = 54.101142946905455%\n"
     ]
    }
   ],
   "source": [
    "for item in x_list:\n",
    "    if item <= 27:\n",
    "        lb = x_list.index(item)\n",
    "lb_value = y_list[lb]\n",
    "\n",
    "for item in x_list:\n",
    "    if item <= 55:\n",
    "        ub = x_list.index(item)\n",
    "ub_value = y_list[ub]\n",
    "\n",
    "freq_range = ub_value - lb_value\n",
    "percentage = (freq_range / 358) * 100\n",
    "\n",
    "print(\"The estimated percentage of employees between 27 years and 55 years is = \" + str(percentage) + \"%\")"
   ]
  }
 ],
 "metadata": {
  "kernelspec": {
   "display_name": "Python 3 (ipykernel)",
   "language": "python",
   "name": "python3"
  },
  "language_info": {
   "codemirror_mode": {
    "name": "ipython",
    "version": 3
   },
   "file_extension": ".py",
   "mimetype": "text/x-python",
   "name": "python",
   "nbconvert_exporter": "python",
   "pygments_lexer": "ipython3",
   "version": "3.11.2"
  }
 },
 "nbformat": 4,
 "nbformat_minor": 5
}

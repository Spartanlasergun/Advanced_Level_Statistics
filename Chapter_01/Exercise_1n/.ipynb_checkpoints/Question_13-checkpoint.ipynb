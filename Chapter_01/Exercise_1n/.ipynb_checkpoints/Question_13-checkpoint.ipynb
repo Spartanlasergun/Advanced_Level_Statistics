{
 "cells": [
  {
   "cell_type": "markdown",
   "id": "0080a382-9fff-4b02-b901-2128831e4c79",
   "metadata": {},
   "source": [
    "# Question 13\n",
    "-----"
   ]
  },
  {
   "cell_type": "markdown",
   "id": "3ae63141-0511-46cf-a32e-51707d7fe24c",
   "metadata": {},
   "source": [
    "(a) \n",
    "mode = 2\n",
    "\n",
    "mid range value is ambiguous\n",
    "\n",
    "(b) The distribution is positively skewed and the value 8 is a potential outlier"
   ]
  },
  {
   "cell_type": "code",
   "execution_count": 1,
   "id": "79ff74fe-9993-4597-9d92-8e350153700d",
   "metadata": {
    "tags": []
   },
   "outputs": [
    {
     "name": "stdout",
     "output_type": "stream",
     "text": [
      "mean = 2.0\n",
      "standard deviation = 1.697056274847714\n",
      "the value 8 is more than 3 standard deviations from the mean, hence it may be an outlier\n"
     ]
    }
   ],
   "source": [
    "import math\n",
    "\n",
    "n = 50\n",
    "Ex = 100\n",
    "Ex_sq = 344\n",
    "\n",
    "mean = Ex / n\n",
    "std = math.sqrt((Ex_sq / n) - pow(mean, 2))\n",
    "\n",
    "print(\"mean = \" + str(mean))\n",
    "print(\"standard deviation = \" + str(std))\n",
    "print(\"the value 8 is more than 3 standard deviations from the mean, hence it may be an outlier\")"
   ]
  },
  {
   "cell_type": "markdown",
   "id": "a25f1fc1-4c92-4bbe-b1b2-744dbc4acdc1",
   "metadata": {},
   "source": [
    "(A) differences in values from a pair of ordinary six sided dice cannot produce a value greater than 5. Hence, the value 8 would be a msitake\n",
    "\n",
    "(B) eight children per household is possible but can be considered rare. Hence, the value 8 would be a genuine outlier."
   ]
  },
  {
   "cell_type": "code",
   "execution_count": 2,
   "id": "5e877eb6-d122-4389-a7f2-542fb6dd5924",
   "metadata": {
    "tags": []
   },
   "outputs": [
    {
     "name": "stdout",
     "output_type": "stream",
     "text": [
      "new mean = 1.8775510204081634\n",
      "new standard deviation = 1.4795566498279067\n"
     ]
    }
   ],
   "source": [
    "n = 49\n",
    "Ex = 92\n",
    "Ex_sq = 280\n",
    "\n",
    "mean = Ex / n\n",
    "std = math.sqrt((Ex_sq / n) - pow(mean, 2))\n",
    "\n",
    "print(\"new mean = \" + str(mean))\n",
    "print(\"new standard deviation = \" + str(std))"
   ]
  }
 ],
 "metadata": {
  "kernelspec": {
   "display_name": "Python 3 (ipykernel)",
   "language": "python",
   "name": "python3"
  },
  "language_info": {
   "codemirror_mode": {
    "name": "ipython",
    "version": 3
   },
   "file_extension": ".py",
   "mimetype": "text/x-python",
   "name": "python",
   "nbconvert_exporter": "python",
   "pygments_lexer": "ipython3",
   "version": "3.11.2"
  }
 },
 "nbformat": 4,
 "nbformat_minor": 5
}

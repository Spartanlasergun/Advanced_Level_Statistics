{
 "cells": [
  {
   "cell_type": "markdown",
   "id": "76e3791e-ced2-4180-a1f0-aed8cb783756",
   "metadata": {},
   "source": [
    "# Question 5\n",
    "-----"
   ]
  },
  {
   "cell_type": "markdown",
   "id": "67dc3d1d-55ed-41b5-9a8b-38413ad4e7f1",
   "metadata": {},
   "source": [
    "| Marks (x) | Frequency | Cum. Frequency |\n",
    "| --- | --- | --- |\n",
    "| 10-19 | 10 | 10 |\n",
    "| 20-29 | 18 | 28 |\n",
    "| 30-39 | 20 | 48 |\n",
    "| 40-49 | 30 | 78 |\n",
    "| 50-59 | 49 | 127 |\n",
    "| 60-69 | 46 | 173 |\n",
    "| 70-79 | 20 | 193 |\n",
    "| 80-89 | 5 | 198 |\n",
    "| 90-99 | 2 | 200 |\n",
    "\n",
    "(a) the mid interval value for the limits 39.5 and 49.5 is 44.5"
   ]
  },
  {
   "cell_type": "code",
   "execution_count": 1,
   "id": "60dee6f5-da2d-49e7-ab68-12a1940d4a7e",
   "metadata": {
    "tags": []
   },
   "outputs": [
    {
     "name": "stdout",
     "output_type": "stream",
     "text": [
      "(b)\n",
      "The estimated mean is = 33.35\n",
      "Because the data is grouped, the estimated mean is a very rough calculation\n"
     ]
    }
   ],
   "source": [
    "import statistics\n",
    "\n",
    "intervals = [19.5, 29.5, 39.5, 49.5, 59.5, 69.5, 79.5, 89.5, 99.5]\n",
    "freq = [10, 18, 20, 30, 49, 46, 20, 5, 2]\n",
    "raw_data = []\n",
    "index = 0\n",
    "\n",
    "for item in freq:\n",
    "    count = item\n",
    "    while count != 0 :\n",
    "        raw_data.append(item)\n",
    "        count = count - 1\n",
    "    index = index + 1\n",
    "\n",
    "mean = statistics.mean(raw_data)\n",
    "\n",
    "print(\"(b)\")\n",
    "print(\"The estimated mean is = \" + str(mean))\n",
    "print(\"Because the data is grouped, the estimated mean is a very rough calculation\")\n"
   ]
  },
  {
   "cell_type": "code",
   "execution_count": 2,
   "id": "2b143168-cf84-41bb-8884-54ea459afb0e",
   "metadata": {
    "tags": []
   },
   "outputs": [
    {
     "data": {
      "image/png": "[encoded data removed]",
      "text/plain": [
       "<Figure size 640x480 with 1 Axes>"
      ]
     },
     "metadata": {},
     "output_type": "display_data"
    }
   ],
   "source": [
    "import matplotlib.pyplot as plt\n",
    "from scipy.interpolate import interp1d\n",
    "import numpy as np\n",
    "\n",
    "intervals = [9.5, 19.5, 29.5, 39.5, 49.5, 59.5, 69.5, 79.5, 89.5, 99.5]\n",
    "cum_freq = [0, 10, 28, 48, 78, 127, 173, 193, 198, 200]\n",
    "\n",
    "x = np.linspace(min(intervals), max(intervals), 100)\n",
    "function = interp1d(intervals, cum_freq, kind='quadratic')\n",
    "y = function(x)\n",
    "\n",
    "plt.plot(x, y)\n",
    "plt.show()"
   ]
  },
  {
   "cell_type": "code",
   "execution_count": 3,
   "id": "cd6abc99-b975-4eed-a944-6220b8b9b2ba",
   "metadata": {
    "tags": []
   },
   "outputs": [
    {
     "name": "stdout",
     "output_type": "stream",
     "text": [
      "(c)\n",
      "esitmated lower quartile = 39.5\n",
      "esitmated upper quartile = 64.04545454545455\n"
     ]
    }
   ],
   "source": [
    "x_list = x.tolist()\n",
    "y_list = y.tolist()\n",
    "\n",
    "for item in y_list:\n",
    "    if item <= 50:\n",
    "        lower_index = y_list.index(item)\n",
    "lower_quartile = x_list[lower_index]\n",
    "\n",
    "for item in y_list:\n",
    "    if item <= 150:\n",
    "        upper_index = y_list.index(item)\n",
    "upper_quartile = x_list[upper_index]\n",
    "\n",
    "print(\"(c)\")\n",
    "print(\"esitmated lower quartile = \" + str(lower_quartile))\n",
    "print(\"esitmated upper quartile = \" + str(upper_quartile))"
   ]
  },
  {
   "cell_type": "code",
   "execution_count": 4,
   "id": "daebcd36-4113-4ddc-86d8-b685ddd1766e",
   "metadata": {
    "tags": []
   },
   "outputs": [
    {
     "name": "stdout",
     "output_type": "stream",
     "text": [
      "Using linear interpolation, the estimated median is = 54.04545454545455\n"
     ]
    }
   ],
   "source": [
    "for item in y_list:\n",
    "    if item <= 100:\n",
    "        median_index = y_list.index(item)\n",
    "median = x_list[median_index]\n",
    "print(\"Using linear interpolation, the estimated median is = \" + str(median))"
   ]
  },
  {
   "cell_type": "markdown",
   "id": "5caaf57d-8b32-4ca2-af14-6f0c7cf0ae51",
   "metadata": {},
   "source": [
    "$$ \\bar y = a\\bar x + b $$\n",
    "\n",
    "$$ 45 = 54a + b \\ \\ ----equation \\ \\ one$$\n",
    "\n",
    "$$ 35 = 39.5a + b \\ \\ -----equation \\ \\ two$$\n",
    "\n",
    "hence,\n",
    "\n",
    "$$b = 45 - 54a$$\n",
    "\n",
    "$$ 35 = 39.5 + 45 - 54a$$\n",
    "\n",
    "$$ -10 = -14.5a $$\n",
    "\n",
    "$$ a = \\frac{10}{14.5} = 0.69 $$\n",
    "\n",
    "$$ b = 45 - 54(0.69) $$\n",
    "\n",
    "$$ b = 45 - 37.26 $$\n",
    "\n",
    "$$ b = 7.74 $$\n",
    "\n",
    "hence,\n",
    "\n",
    "$$ y = 0.69x + 7.74$$\n",
    "\n",
    "(e) The quartiles of the original marks represent accurate datapoints of the original function, so it should scale appropriately. Whether or not a linear function should be fitted to a curved distribution is a different question."
   ]
  }
 ],
 "metadata": {
  "kernelspec": {
   "display_name": "Python 3 (ipykernel)",
   "language": "python",
   "name": "python3"
  },
  "language_info": {
   "codemirror_mode": {
    "name": "ipython",
    "version": 3
   },
   "file_extension": ".py",
   "mimetype": "text/x-python",
   "name": "python",
   "nbconvert_exporter": "python",
   "pygments_lexer": "ipython3",
   "version": "3.11.2"
  }
 },
 "nbformat": 4,
 "nbformat_minor": 5
}

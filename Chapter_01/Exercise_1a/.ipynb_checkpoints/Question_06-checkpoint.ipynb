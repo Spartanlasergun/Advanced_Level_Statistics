{
 "cells": [
  {
   "cell_type": "markdown",
   "id": "ca70cfcc-aca5-4684-8727-26307fe807e8",
   "metadata": {},
   "source": [
    "# Question 6\n",
    "-----"
   ]
  },
  {
   "cell_type": "markdown",
   "id": "8d9a4391-c166-41c5-b07f-bdc235cc9816",
   "metadata": {},
   "source": [
    "(a)\n",
    "\n",
    "The time taken for the journey is 7.4 hours.\n",
    "\n",
    "The width of the interval is 0.5, or half an hour.\n"
   ]
  },
  {
   "cell_type": "markdown",
   "id": "5b14a9f6-de15-4129-b3f1-2c1a3e2e942c",
   "metadata": {},
   "source": [
    "(b)\n",
    "\n",
    "The masses of the components are 0.074g.\n",
    "\n",
    "The width of the interval is 0.005g."
   ]
  }
 ],
 "metadata": {
  "kernelspec": {
   "display_name": "Python 3 (ipykernel)",
   "language": "python",
   "name": "python3"
  },
  "language_info": {
   "codemirror_mode": {
    "name": "ipython",
    "version": 3
   },
   "file_extension": ".py",
   "mimetype": "text/x-python",
   "name": "python",
   "nbconvert_exporter": "python",
   "pygments_lexer": "ipython3",
   "version": "3.11.2"
  }
 },
 "nbformat": 4,
 "nbformat_minor": 5
}

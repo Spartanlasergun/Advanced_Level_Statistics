{
 "cells": [
  {
   "cell_type": "code",
   "execution_count": 1,
   "id": "9c16a3fa-0cce-4a3c-b785-8aa492066c4a",
   "metadata": {
    "tags": []
   },
   "outputs": [
    {
     "name": "stdout",
     "output_type": "stream",
     "text": [
      "(a)\n",
      "Median = 7\n",
      "Interquartile Range = 2.0\n"
     ]
    }
   ],
   "source": [
    "import statistics\n",
    "\n",
    "data_a = [5, 6, 7, 8, 9, 10]\n",
    "freq = [6, 11, 15, 18, 6, 5]\n",
    "raw_data = []\n",
    "index = 0\n",
    "for item in freq:\n",
    "    count = item\n",
    "    while count != 0:\n",
    "        raw_data.append(data_a[index])\n",
    "        count = count - 1\n",
    "    index = index + 1\n",
    "median_a = statistics.median(raw_data)\n",
    "quartiles = statistics.quantiles(raw_data, n=4)\n",
    "intq_range = quartiles[2] - quartiles[0]\n",
    "\n",
    "print(\"(a)\")\n",
    "print(\"Median = \" + str(median_a))\n",
    "print(\"Interquartile Range = \" + str(intq_range)) "
   ]
  },
  {
   "cell_type": "code",
   "execution_count": 4,
   "id": "c5841c1b-ded9-4ad5-a9eb-855ba5b1b963",
   "metadata": {
    "tags": []
   },
   "outputs": [
    {
     "name": "stdout",
     "output_type": "stream",
     "text": [
      "(b)\n",
      "Median = 14\n",
      "Interquartile Range = 2.0\n"
     ]
    }
   ],
   "source": [
    "data_b = [12, 13, 14, 15, 16]\n",
    "freq = [3, 9, 11, 15, 7]\n",
    "raw_data = []\n",
    "index = 0\n",
    "for item in freq:\n",
    "    count = item\n",
    "    while count != 0:\n",
    "        raw_data.append(data_b[index])\n",
    "        count = count - 1\n",
    "    index = index + 1\n",
    "median_b = statistics.median(raw_data)\n",
    "quartiles_b = statistics.quantiles(raw_data, n=4)\n",
    "intq_range_b = quartiles_b[2] - quartiles_b[0]\n",
    "\n",
    "print(\"(b)\")\n",
    "print(\"Median = \" + str(median_b))\n",
    "print(\"Interquartile Range = \" + str(intq_range_b)) "
   ]
  }
 ],
 "metadata": {
  "kernelspec": {
   "display_name": "Python 3 (ipykernel)",
   "language": "python",
   "name": "python3"
  },
  "language_info": {
   "codemirror_mode": {
    "name": "ipython",
    "version": 3
   },
   "file_extension": ".py",
   "mimetype": "text/x-python",
   "name": "python",
   "nbconvert_exporter": "python",
   "pygments_lexer": "ipython3",
   "version": "3.11.2"
  }
 },
 "nbformat": 4,
 "nbformat_minor": 5
}

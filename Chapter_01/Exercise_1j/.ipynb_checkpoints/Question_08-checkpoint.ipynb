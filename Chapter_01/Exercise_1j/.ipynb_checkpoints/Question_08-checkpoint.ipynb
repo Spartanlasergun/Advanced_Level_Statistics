{
 "cells": [
  {
   "cell_type": "markdown",
   "id": "570e33df-6312-4b6b-84cf-17997751d27a",
   "metadata": {},
   "source": [
    "# Question 8\n",
    "-----"
   ]
  },
  {
   "cell_type": "markdown",
   "id": "90e0fb1b-5270-4f59-88ab-e0924051d0c6",
   "metadata": {},
   "source": [
    "From the graph given, the data is as follows:\n",
    "\n",
    "| Number of Children | Cumulative Frequency | Frequency |\n",
    "| --- | --- | --- |\n",
    "| 0 | 0 | 0 |\n",
    "| 1 | 20 | 20 |\n",
    "| 2 | 52 | 38 |\n",
    "| 3 | 76 | 24 |\n",
    "| 4 | 92 | 16 | \n",
    "| 5 | 108 | 16 |\n",
    "| 6 | 117 | 9 |\n",
    "| 7 | 120 | 3 |\n",
    "| 8 | 120 | 0 |\n"
   ]
  },
  {
   "cell_type": "code",
   "execution_count": 1,
   "id": "09cd7949-035d-401a-8c16-eff47f2b4b95",
   "metadata": {
    "tags": []
   },
   "outputs": [
    {
     "name": "stdout",
     "output_type": "stream",
     "text": [
      "(a)\n",
      "Mode = 2\n",
      "Median = 3.0\n"
     ]
    }
   ],
   "source": [
    "import statistics\n",
    "\n",
    "data = [0, 1, 2, 3, 4, 5, 6, 7, 8]\n",
    "freq = [0, 20, 38, 24, 16, 16, 9, 3, 0]\n",
    "raw_data = []\n",
    "index = 0\n",
    "for item in freq:\n",
    "    count = item\n",
    "    while count != 0:\n",
    "        raw_data.append(data[index])\n",
    "        count = count - 1\n",
    "    index = index + 1\n",
    "mode = statistics.mode(raw_data)\n",
    "median = statistics.median(raw_data)\n",
    "print(\"(a)\")\n",
    "print(\"Mode = \" + str(mode))\n",
    "print(\"Median = \" + str(median))"
   ]
  },
  {
   "cell_type": "code",
   "execution_count": 2,
   "id": "38a6cf6b-6b59-4e43-b134-5d8d04ca12e3",
   "metadata": {
    "tags": []
   },
   "outputs": [
    {
     "name": "stdout",
     "output_type": "stream",
     "text": [
      "(b)\n",
      "Interquartile Range = 2.0\n"
     ]
    }
   ],
   "source": [
    "quartiles = statistics.quantiles(raw_data, n=4)\n",
    "intq_range = quartiles[2] - quartiles[0]\n",
    "print(\"(b)\")\n",
    "print(\"Interquartile Range = \" + str(intq_range))"
   ]
  },
  {
   "cell_type": "markdown",
   "id": "dc9418c1-4e4f-493b-a5a9-0471a62b4042",
   "metadata": {},
   "source": [
    "### (c)\n",
    "\n",
    "The interquartile range (IQR) is a measure of spread that represents the difference between the upper quartile (Q3) and the lower quartile (Q1) of a dataset. It is a useful measure because it is less sensitive to extreme values or outliers than other measures of spread, such as the range or the standard deviation.\n",
    "\n",
    "However, the IQR is still only a rough measure of spread because it ignores the distribution of values within the range defined by Q1 and Q3. Two datasets can have the same IQR but very different distributions. For example, one dataset may have values that are evenly distributed within the IQR, while another dataset may have all of its values clustered around the median, with few values in the extremes.\n",
    "\n",
    "Additionally, the IQR only considers the central 50% of the data and does not provide information about the spread of the entire dataset. This means that the IQR may not be sensitive enough to detect important differences in spread between datasets with different shapes or distributions."
   ]
  }
 ],
 "metadata": {
  "kernelspec": {
   "display_name": "Python 3 (ipykernel)",
   "language": "python",
   "name": "python3"
  },
  "language_info": {
   "codemirror_mode": {
    "name": "ipython",
    "version": 3
   },
   "file_extension": ".py",
   "mimetype": "text/x-python",
   "name": "python",
   "nbconvert_exporter": "python",
   "pygments_lexer": "ipython3",
   "version": "3.11.2"
  }
 },
 "nbformat": 4,
 "nbformat_minor": 5
}

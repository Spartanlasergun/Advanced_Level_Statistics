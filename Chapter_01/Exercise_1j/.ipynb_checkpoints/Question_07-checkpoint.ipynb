{
 "cells": [
  {
   "cell_type": "markdown",
   "id": "f95e055d-61bd-422c-93f9-0c7033484782",
   "metadata": {},
   "source": [
    "# Question 7\n",
    "-----"
   ]
  },
  {
   "cell_type": "markdown",
   "id": "5672ca4c-6d1c-4b1c-a386-87e7a7aca5ef",
   "metadata": {},
   "source": [
    "| Times Absent | Cumulative Frequency | Frequency |\n",
    "| --- | --- | --- |\n",
    "| 0 | 5 | 5 |\n",
    "| &le; 1 | 11 | 6 |\n",
    "| &le; 2 | 20 | 9 |\n",
    "| &le; 3 | 23 | 3 |\n",
    "| &le; 4 | 27 | 4 |\n",
    "| &le; 5 | 28 | 1 |\n",
    "| &le; 6 | 31 | 3 |\n",
    "| &le; 7 | 32 | 1 |\n"
   ]
  },
  {
   "cell_type": "code",
   "execution_count": 1,
   "id": "d8d031a6-7e4b-4688-bf76-bb073ce4dcfb",
   "metadata": {},
   "outputs": [
    {
     "name": "stdout",
     "output_type": "stream",
     "text": [
      "(a) 2.0\n"
     ]
    }
   ],
   "source": [
    "import statistics\n",
    "\n",
    "data = [0, 1, 2, 3, 4, 5, 6, 7]\n",
    "freq = [5, 6, 9, 3, 4, 1, 3, 1]\n",
    "raw_data = []\n",
    "index = 0\n",
    "for item in freq:\n",
    "    count = item\n",
    "    while count != 0:\n",
    "        raw_data.append(data[index])\n",
    "        count = count - 1\n",
    "    index = index + 1\n",
    "median = statistics.median(raw_data)\n",
    "print(\"(a) \" + str(median))"
   ]
  },
  {
   "cell_type": "code",
   "execution_count": 2,
   "id": "608b4da7-74a9-43db-b217-7b443fbfb12f",
   "metadata": {
    "tags": []
   },
   "outputs": [
    {
     "name": "stdout",
     "output_type": "stream",
     "text": [
      "(b) 3.0\n"
     ]
    }
   ],
   "source": [
    "quartiles = statistics.quantiles(raw_data, n=4)\n",
    "intq_range = quartiles[2] - quartiles[0]\n",
    "print(\"(b) \" + str(intq_range))"
   ]
  },
  {
   "cell_type": "code",
   "execution_count": 3,
   "id": "477a12df-7529-4ceb-a6f6-e496283542ff",
   "metadata": {
    "tags": []
   },
   "outputs": [
    {
     "name": "stdout",
     "output_type": "stream",
     "text": [
      "(c) 2.46875\n"
     ]
    }
   ],
   "source": [
    "mean = sum(raw_data) / len(raw_data)\n",
    "print(\"(c) \" + str(mean))"
   ]
  },
  {
   "cell_type": "code",
   "execution_count": 4,
   "id": "427cf5f9-fc65-48d2-b418-14cee473998e",
   "metadata": {
    "tags": []
   },
   "outputs": [
    {
     "name": "stdout",
     "output_type": "stream",
     "text": [
      "(d) 1.9362395093324587\n"
     ]
    }
   ],
   "source": [
    "std = statistics.pstdev(raw_data)\n",
    "print(\"(d) \" + str(std))"
   ]
  }
 ],
 "metadata": {
  "kernelspec": {
   "display_name": "Python 3 (ipykernel)",
   "language": "python",
   "name": "python3"
  },
  "language_info": {
   "codemirror_mode": {
    "name": "ipython",
    "version": 3
   },
   "file_extension": ".py",
   "mimetype": "text/x-python",
   "name": "python",
   "nbconvert_exporter": "python",
   "pygments_lexer": "ipython3",
   "version": "3.11.2"
  }
 },
 "nbformat": 4,
 "nbformat_minor": 5
}

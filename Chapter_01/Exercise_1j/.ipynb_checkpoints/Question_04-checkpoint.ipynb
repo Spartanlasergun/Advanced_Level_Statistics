{
 "cells": [
  {
   "cell_type": "markdown",
   "id": "01fc7a7a-9b71-4543-80b9-10900f5243e2",
   "metadata": {},
   "source": [
    "# Question 4\n",
    "-----"
   ]
  },
  {
   "cell_type": "code",
   "execution_count": 1,
   "id": "d2d5adfe-45de-45c8-9e17-80a749bf0f30",
   "metadata": {
    "tags": []
   },
   "outputs": [
    {
     "name": "stdout",
     "output_type": "stream",
     "text": [
      "(a)\n",
      "Median = 46\n",
      "Interquartile Range = 35.0\n"
     ]
    }
   ],
   "source": [
    "import statistics\n",
    "\n",
    "data_a = [10, 15, 23, 24, 24, 32, 38, 38,\n",
    "          41, 45, 46, 46, 47, 52, 53, 53,\n",
    "          65, 67, 68, 68, 72, 74, 80]\n",
    "median_a = statistics.median(data_a)\n",
    "quartiles = statistics.quantiles(data_a, n=4)\n",
    "intq_range = quartiles[2] - quartiles[0]\n",
    "print(\"(a)\")\n",
    "print(\"Median = \" + str(median_a))\n",
    "print(\"Interquartile Range = \" + str(intq_range))"
   ]
  },
  {
   "cell_type": "code",
   "execution_count": 2,
   "id": "00acf988-980d-4b9e-af90-fdcd0e55c17b",
   "metadata": {
    "tags": []
   },
   "outputs": [
    {
     "name": "stdout",
     "output_type": "stream",
     "text": [
      "(b)\n",
      "Median = 1.8\n",
      "Interquartile Range = 1.2\n"
     ]
    }
   ],
   "source": [
    "data_b = [3.6, 3.1, 3.2, 2.5, 2.7, 2.0, 2.3, 2.4, 2.4,\n",
    "         1.6, 1.7, 1.8, 1.8, 1.9, 1.9, 1.2, 1.2, 1.3, 1.4,\n",
    "         0.5, 0.5, 0.1, 0.3, 0.3]\n",
    "median_b = statistics.median(data_b)\n",
    "quartiles = statistics.quantiles(data_b, n=4)\n",
    "intq_range = quartiles[2] - quartiles[0]\n",
    "print(\"(b)\")\n",
    "print(\"Median = \" + str(median_b))\n",
    "print(\"Interquartile Range = \" + str(intq_range))"
   ]
  },
  {
   "cell_type": "code",
   "execution_count": 3,
   "id": "aa31932e-95bb-4612-b34d-081631dbc1b9",
   "metadata": {
    "tags": []
   },
   "outputs": [
    {
     "name": "stdout",
     "output_type": "stream",
     "text": [
      "(c)\n",
      "Median = 20.5\n",
      "Interquartile Range = 11.75\n"
     ]
    }
   ],
   "source": [
    "data_c = [6, 8, 8, 11, 11, 12, 13, 14,\n",
    "         16, 16, 17, 17, 18, 20, 21, 21,\n",
    "         21, 21, 21, 25, 25, 25, 25, 26, 26,\n",
    "         28, 31, 33]\n",
    "median_c = statistics.median(data_c)\n",
    "quartiles = statistics.quantiles(data_c, n=4)\n",
    "intq_range = quartiles[2] - quartiles[0]\n",
    "print(\"(c)\")\n",
    "print(\"Median = \" + str(median_c))\n",
    "print(\"Interquartile Range = \" + str(intq_range))"
   ]
  }
 ],
 "metadata": {
  "kernelspec": {
   "display_name": "Python 3 (ipykernel)",
   "language": "python",
   "name": "python3"
  },
  "language_info": {
   "codemirror_mode": {
    "name": "ipython",
    "version": 3
   },
   "file_extension": ".py",
   "mimetype": "text/x-python",
   "name": "python",
   "nbconvert_exporter": "python",
   "pygments_lexer": "ipython3",
   "version": "3.11.2"
  }
 },
 "nbformat": 4,
 "nbformat_minor": 5
}

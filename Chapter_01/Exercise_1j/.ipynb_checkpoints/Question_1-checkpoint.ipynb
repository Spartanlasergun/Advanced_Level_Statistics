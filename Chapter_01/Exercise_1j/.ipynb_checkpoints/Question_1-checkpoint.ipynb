{
 "cells": [
  {
   "cell_type": "code",
   "execution_count": 1,
   "id": "874c62c8-faf2-47eb-830d-1326f84d91bc",
   "metadata": {
    "tags": []
   },
   "outputs": [
    {
     "name": "stdout",
     "output_type": "stream",
     "text": [
      "a) 9\n"
     ]
    }
   ],
   "source": [
    "import statistics\n",
    "\n",
    "data_a = [4, 6, 18, 25, 9, 16, 22, 5, 20, 4, 8]\n",
    "a_median = statistics.median(data_a)\n",
    "print(\"a) \" + str(a_median))"
   ]
  },
  {
   "cell_type": "code",
   "execution_count": 2,
   "id": "7f811a56-a3e4-4a15-a998-65e8ac012f80",
   "metadata": {
    "tags": []
   },
   "outputs": [
    {
     "name": "stdout",
     "output_type": "stream",
     "text": [
      "b) 207.0\n"
     ]
    }
   ],
   "source": [
    "data_b = [192, 217, 189, 210, 214, 204]\n",
    "b_median = statistics.median(data_b)\n",
    "print(\"b) \" + str(b_median))"
   ]
  },
  {
   "cell_type": "code",
   "execution_count": 3,
   "id": "205d805c-2277-48ac-bc74-2fc95dfbf874",
   "metadata": {
    "tags": []
   },
   "outputs": [
    {
     "name": "stdout",
     "output_type": "stream",
     "text": [
      "c) 1896\n"
     ]
    }
   ],
   "source": [
    "data_c = [1267, 1896, 895, 3457, 2164]\n",
    "c_median = statistics.median(data_c)\n",
    "print(\"c) \" + str(c_median))"
   ]
  },
  {
   "cell_type": "code",
   "execution_count": 4,
   "id": "94a44339-9b67-4e5a-bc93-daa7a954db02",
   "metadata": {
    "tags": []
   },
   "outputs": [
    {
     "name": "stdout",
     "output_type": "stream",
     "text": [
      "d) 0.55\n"
     ]
    }
   ],
   "source": [
    "data_d = [0.7, 0.4, 0.65, 0.78, 0.45, 0.32, 1.9, 0.0078]\n",
    "d_median = statistics.median(data_d)\n",
    "print(\"d) \" + str(d_median))"
   ]
  }
 ],
 "metadata": {
  "kernelspec": {
   "display_name": "Python 3 (ipykernel)",
   "language": "python",
   "name": "python3"
  },
  "language_info": {
   "codemirror_mode": {
    "name": "ipython",
    "version": 3
   },
   "file_extension": ".py",
   "mimetype": "text/x-python",
   "name": "python",
   "nbconvert_exporter": "python",
   "pygments_lexer": "ipython3",
   "version": "3.11.2"
  }
 },
 "nbformat": 4,
 "nbformat_minor": 5
}

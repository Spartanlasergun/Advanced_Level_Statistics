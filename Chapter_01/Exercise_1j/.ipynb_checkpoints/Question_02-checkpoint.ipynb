{
 "cells": [
  {
   "cell_type": "markdown",
   "id": "36242949-3ab9-4a35-87c7-f04773e54ebd",
   "metadata": {},
   "source": [
    "# Question 2\n",
    "-----"
   ]
  },
  {
   "cell_type": "code",
   "execution_count": 1,
   "id": "145ed0da-c0ed-4c6d-83da-ced523f51202",
   "metadata": {
    "tags": []
   },
   "outputs": [
    {
     "name": "stdout",
     "output_type": "stream",
     "text": [
      "The median score is = 4.0\n"
     ]
    }
   ],
   "source": [
    "import statistics\n",
    "\n",
    "scores = [1, 2, 3, 4, 5, 6]\n",
    "freq = [12, 9, 8, 13, 9, 9]\n",
    "raw_data = []\n",
    "index = 0\n",
    "for item in freq:\n",
    "    count = item\n",
    "    while count != 0:\n",
    "        raw_data.append(scores[index])\n",
    "        count = count - 1\n",
    "    index = index + 1\n",
    "median = statistics.median(raw_data)\n",
    "print(\"The median score is = \" + str(median))"
   ]
  }
 ],
 "metadata": {
  "kernelspec": {
   "display_name": "Python 3 (ipykernel)",
   "language": "python",
   "name": "python3"
  },
  "language_info": {
   "codemirror_mode": {
    "name": "ipython",
    "version": 3
   },
   "file_extension": ".py",
   "mimetype": "text/x-python",
   "name": "python",
   "nbconvert_exporter": "python",
   "pygments_lexer": "ipython3",
   "version": "3.11.2"
  }
 },
 "nbformat": 4,
 "nbformat_minor": 5
}

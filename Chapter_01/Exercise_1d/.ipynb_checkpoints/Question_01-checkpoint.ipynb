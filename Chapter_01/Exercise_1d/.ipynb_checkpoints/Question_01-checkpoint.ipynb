{
 "cells": [
  {
   "cell_type": "markdown",
   "id": "819b21f0-0203-497c-9066-8d8ae9b9ab7e",
   "metadata": {},
   "source": [
    "# Question 1\n",
    "-----"
   ]
  },
  {
   "cell_type": "code",
   "execution_count": 1,
   "id": "406a4743",
   "metadata": {
    "tags": []
   },
   "outputs": [
    {
     "name": "stdout",
     "output_type": "stream",
     "text": [
      "(a) 9.7\n"
     ]
    }
   ],
   "source": [
    "data = [5, 6, 6, 8, 8, 9, 11, 13, 14, 17]\n",
    "mean = (sum(data)) / (len(data))\n",
    "print(\"(a) \" + str(mean))"
   ]
  },
  {
   "cell_type": "code",
   "execution_count": 2,
   "id": "c3d608c1",
   "metadata": {
    "tags": []
   },
   "outputs": [
    {
     "name": "stdout",
     "output_type": "stream",
     "text": [
      "(b) 154.8\n"
     ]
    }
   ],
   "source": [
    "data = [148, 153, 156, 157, 160]\n",
    "mean = (sum(data) / len(data))\n",
    "print(\"(b) \" + str(mean) )"
   ]
  },
  {
   "cell_type": "code",
   "execution_count": 3,
   "id": "f73563fa",
   "metadata": {
    "tags": []
   },
   "outputs": [
    {
     "name": "stdout",
     "output_type": "stream",
     "text": [
      "(c) 51.375\n"
     ]
    }
   ],
   "source": [
    "data = [44.5, 47.5, 48.5, 51.5, 52.5, 54.5, 55.5, 56.5]\n",
    "mean = (sum(data) / len(data))\n",
    "print(\"(c) \" + str(mean) )"
   ]
  },
  {
   "cell_type": "code",
   "execution_count": 4,
   "id": "61541494",
   "metadata": {
    "tags": []
   },
   "outputs": [
    {
     "name": "stdout",
     "output_type": "stream",
     "text": [
      "(d) 1775.7142857142858\n"
     ]
    }
   ],
   "source": [
    "data = [1769, 1771, 1772, 1775, 1778, 1781, 1784]\n",
    "mean = (sum(data) / len(data))\n",
    "print(\"(d) \" + str(mean) )"
   ]
  },
  {
   "cell_type": "code",
   "execution_count": 5,
   "id": "7f2958ed",
   "metadata": {
    "tags": []
   },
   "outputs": [
    {
     "name": "stdout",
     "output_type": "stream",
     "text": [
      "(e) 0.9083333333333333\n"
     ]
    }
   ],
   "source": [
    "data = [0.85, 0.88, 0.89, 0.93, 0.94, 0.96]\n",
    "mean = (sum(data) / len(data))\n",
    "print(\"(e) \" + str(mean) )"
   ]
  },
  {
   "cell_type": "code",
   "execution_count": 6,
   "id": "a8161826",
   "metadata": {
    "tags": []
   },
   "outputs": [
    {
     "name": "stdout",
     "output_type": "stream",
     "text": [
      "(f) 4.0\n"
     ]
    }
   ],
   "source": [
    "x = [1, 2, 3, 4, 5, 6, 7]\n",
    "f = [4, 5, 8, 10, 17, 5, 1]\n",
    "data = []\n",
    "index = 0\n",
    "for item in f:\n",
    "    count = item\n",
    "    while count != 0:\n",
    "        data.append(x[index])\n",
    "        count= count - 1\n",
    "    index = index + 1\n",
    "mean = (sum(data) / len(data))\n",
    "print(\"(f) \" + str(mean) )"
   ]
  },
  {
   "cell_type": "code",
   "execution_count": 7,
   "id": "192e16d2",
   "metadata": {
    "tags": []
   },
   "outputs": [
    {
     "name": "stdout",
     "output_type": "stream",
     "text": [
      "(g) 29.54\n"
     ]
    }
   ],
   "source": [
    "x = [27, 28, 29, 30, 31, 32]\n",
    "f = [30, 43, 51, 49, 42, 35]\n",
    "data = []\n",
    "index = 0\n",
    "for item in f:\n",
    "    count = item\n",
    "    while count != 0:\n",
    "        data.append(x[index])\n",
    "        count= count - 1\n",
    "    index = index + 1\n",
    "mean = (sum(data) / len(data))\n",
    "print(\"(g) \" + str(mean) )"
   ]
  },
  {
   "cell_type": "code",
   "execution_count": 8,
   "id": "d733768b",
   "metadata": {
    "tags": []
   },
   "outputs": [
    {
     "name": "stdout",
     "output_type": "stream",
     "text": [
      "(f) 122.82\n"
     ]
    }
   ],
   "source": [
    "x = [121, 122, 123, 124, 125]\n",
    "f = [14, 25, 32, 23, 6]\n",
    "data = []\n",
    "index = 0\n",
    "for item in f:\n",
    "    count = item\n",
    "    while count != 0:\n",
    "        data.append(x[index])\n",
    "        count= count - 1\n",
    "    index = index + 1\n",
    "mean = (sum(data) / len(data))\n",
    "print(\"(f) \" + str(mean) )"
   ]
  }
 ],
 "metadata": {
  "kernelspec": {
   "display_name": "Python 3 (ipykernel)",
   "language": "python",
   "name": "python3"
  },
  "language_info": {
   "codemirror_mode": {
    "name": "ipython",
    "version": 3
   },
   "file_extension": ".py",
   "mimetype": "text/x-python",
   "name": "python",
   "nbconvert_exporter": "python",
   "pygments_lexer": "ipython3",
   "version": "3.11.2"
  }
 },
 "nbformat": 4,
 "nbformat_minor": 5
}

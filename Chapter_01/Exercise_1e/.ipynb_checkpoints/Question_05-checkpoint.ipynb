{
 "cells": [
  {
   "cell_type": "markdown",
   "id": "bc9fef21-146c-42a7-90ce-9d861f07d48f",
   "metadata": {},
   "source": [
    "# Question 5\n",
    "-----"
   ]
  },
  {
   "cell_type": "markdown",
   "id": "d239f01d-17d5-4c7d-bd6f-f5be59b477dc",
   "metadata": {},
   "source": [
    "$$\\frac{(80 * 2) + 72x + (46 * 3)}{5 + x} = \\frac{(64 * 2) + 82x + (40 * 3)}{5 + x} $$\n",
    "\n",
    "$$ 298 + 72x = 248 + 82x $$\n",
    "\n",
    "$$ x = 5 $$\n",
    "\n",
    "\n",
    "$$\\bar x =\\frac {(80 * 2) + (72 * 5) + (46 * 3)}{5 + 5}$$\n",
    "\n",
    "$$\\bar x = 65.8 $$"
   ]
  }
 ],
 "metadata": {
  "kernelspec": {
   "display_name": "Python 3 (ipykernel)",
   "language": "python",
   "name": "python3"
  },
  "language_info": {
   "codemirror_mode": {
    "name": "ipython",
    "version": 3
   },
   "file_extension": ".py",
   "mimetype": "text/x-python",
   "name": "python",
   "nbconvert_exporter": "python",
   "pygments_lexer": "ipython3",
   "version": "3.11.2"
  }
 },
 "nbformat": 4,
 "nbformat_minor": 5
}

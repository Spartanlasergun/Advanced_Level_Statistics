{
 "cells": [
  {
   "cell_type": "markdown",
   "id": "3688363d-4017-43b4-a821-959bb9264753",
   "metadata": {},
   "source": [
    "# Question 4\n",
    "-----"
   ]
  },
  {
   "cell_type": "markdown",
   "id": "18575779-a62d-4adc-9b47-d0787ab3e4bf",
   "metadata": {},
   "source": [
    "$$ 20 = \\frac{((30 * 2) + (15x))}{(2 + x)} $$\n",
    "\n",
    "$$ 20 = \\frac{60 + 15x}{2 + x} $$\n",
    "\n",
    "$$ 40 + 20x = 60 + 15x $$\n",
    "\n",
    "$$ 5x = 20 $$\n",
    "\n",
    "$$ x = 4 $$"
   ]
  }
 ],
 "metadata": {
  "kernelspec": {
   "display_name": "Python 3 (ipykernel)",
   "language": "python",
   "name": "python3"
  },
  "language_info": {
   "codemirror_mode": {
    "name": "ipython",
    "version": 3
   },
   "file_extension": ".py",
   "mimetype": "text/x-python",
   "name": "python",
   "nbconvert_exporter": "python",
   "pygments_lexer": "ipython3",
   "version": "3.11.2"
  }
 },
 "nbformat": 4,
 "nbformat_minor": 5
}

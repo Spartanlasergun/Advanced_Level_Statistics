{
 "cells": [
  {
   "cell_type": "markdown",
   "id": "2601105f-de58-413a-8e7e-b3d1713a40e2",
   "metadata": {},
   "source": [
    "# Question 3\n",
    "-----"
   ]
  },
  {
   "cell_type": "code",
   "execution_count": 1,
   "id": "9e703aa5",
   "metadata": {
    "tags": []
   },
   "outputs": [
    {
     "name": "stdout",
     "output_type": "stream",
     "text": [
      "The weighted mean = 40.6\n"
     ]
    }
   ],
   "source": [
    "data = [30, 42, 65]\n",
    "weights = [5, 3, 2]\n",
    "weighted_sum = 0\n",
    "index = 0\n",
    "for weight in weights:\n",
    "    weighted_sum = weighted_sum + (weight * data[index])\n",
    "    index = index + 1\n",
    "weighted_mean = weighted_sum / (sum(weights))\n",
    "print(\"The weighted mean = \" + str(weighted_mean))"
   ]
  }
 ],
 "metadata": {
  "kernelspec": {
   "display_name": "Python 3 (ipykernel)",
   "language": "python",
   "name": "python3"
  },
  "language_info": {
   "codemirror_mode": {
    "name": "ipython",
    "version": 3
   },
   "file_extension": ".py",
   "mimetype": "text/x-python",
   "name": "python",
   "nbconvert_exporter": "python",
   "pygments_lexer": "ipython3",
   "version": "3.11.2"
  }
 },
 "nbformat": 4,
 "nbformat_minor": 5
}

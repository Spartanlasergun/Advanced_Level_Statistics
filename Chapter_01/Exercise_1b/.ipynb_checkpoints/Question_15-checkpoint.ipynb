{
 "cells": [
  {
   "cell_type": "markdown",
   "id": "45c596a8-927b-4d7b-b9b4-437bbfa26e7c",
   "metadata": {},
   "source": [
    "# Question 15\n",
    "-----"
   ]
  },
  {
   "cell_type": "markdown",
   "id": "6804f247-77b2-4a88-ba6c-6929b64c5df2",
   "metadata": {},
   "source": [
    "$$ frequency \\ \\ density = \\frac{frequency}{class \\ \\ width} $$\n",
    "\n",
    "$$ frequency = frequency \\ \\ density * class \\ \\ width $$\n",
    "\n",
    "Hence,\n",
    "\n",
    "$$ a = 5 * 4 = 20 $$\n",
    "\n",
    "$$ b = 13 * 2 = 26 $$\n",
    "\n",
    "$$ c = 7.5 * 4 = 30 $$\n",
    "\n",
    "$$ d = 1.5 * 8 = 12 $$\n",
    "\n",
    "Number of lectures is given by $\\Sigma f$\n",
    "\n",
    "$$\\Sigma f = a + b + c + d $$\n",
    "\n",
    "$$\\Sigma f = 88 $$\n",
    "\n",
    "The total number of lectures attended is 88"
   ]
  }
 ],
 "metadata": {
  "kernelspec": {
   "display_name": "Python 3 (ipykernel)",
   "language": "python",
   "name": "python3"
  },
  "language_info": {
   "codemirror_mode": {
    "name": "ipython",
    "version": 3
   },
   "file_extension": ".py",
   "mimetype": "text/x-python",
   "name": "python",
   "nbconvert_exporter": "python",
   "pygments_lexer": "ipython3",
   "version": "3.11.2"
  }
 },
 "nbformat": 4,
 "nbformat_minor": 5
}

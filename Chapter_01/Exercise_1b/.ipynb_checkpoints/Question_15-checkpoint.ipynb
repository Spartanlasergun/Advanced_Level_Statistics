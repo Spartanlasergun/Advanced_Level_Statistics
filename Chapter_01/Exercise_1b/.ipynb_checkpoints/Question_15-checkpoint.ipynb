{
 "cells": [
  {
   "cell_type": "code",
   "execution_count": 1,
   "id": "9184c1f5",
   "metadata": {},
   "outputs": [
    {
     "name": "stdout",
     "output_type": "stream",
     "text": [
      "88\n"
     ]
    }
   ],
   "source": [
    "a = 20\n",
    "b = 26\n",
    "c = 30\n",
    "d = 12\n",
    "total_number_of_lectures = a + b + c + d\n",
    "print(total_number_of_lectures)"
   ]
  },
  {
   "cell_type": "code",
   "execution_count": null,
   "id": "fef639b5",
   "metadata": {},
   "outputs": [],
   "source": []
  }
 ],
 "metadata": {
  "kernelspec": {
   "display_name": "Python 3 (ipykernel)",
   "language": "python",
   "name": "python3"
  },
  "language_info": {
   "codemirror_mode": {
    "name": "ipython",
    "version": 3
   },
   "file_extension": ".py",
   "mimetype": "text/x-python",
   "name": "python",
   "nbconvert_exporter": "python",
   "pygments_lexer": "ipython3",
   "version": "3.10.7"
  }
 },
 "nbformat": 4,
 "nbformat_minor": 5
}

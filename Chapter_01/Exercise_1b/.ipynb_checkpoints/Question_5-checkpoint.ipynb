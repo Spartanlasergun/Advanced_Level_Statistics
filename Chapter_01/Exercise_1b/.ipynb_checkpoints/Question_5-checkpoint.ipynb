{
 "cells": [
  {
   "cell_type": "code",
   "execution_count": 2,
   "id": "6eb87dd2",
   "metadata": {},
   "outputs": [
    {
     "data": {
      "text/html": [
       "<div>\n",
       "<style scoped>\n",
       "    .dataframe tbody tr th:only-of-type {\n",
       "        vertical-align: middle;\n",
       "    }\n",
       "\n",
       "    .dataframe tbody tr th {\n",
       "        vertical-align: top;\n",
       "    }\n",
       "\n",
       "    .dataframe thead th {\n",
       "        text-align: right;\n",
       "    }\n",
       "</style>\n",
       "<table border=\"1\" class=\"dataframe\">\n",
       "  <thead>\n",
       "    <tr style=\"text-align: right;\">\n",
       "      <th></th>\n",
       "      <th>0-</th>\n",
       "      <th>20-</th>\n",
       "      <th>24-</th>\n",
       "      <th>30-</th>\n",
       "      <th>32-</th>\n",
       "      <th>38-</th>\n",
       "      <th>48-</th>\n",
       "    </tr>\n",
       "  </thead>\n",
       "  <tbody>\n",
       "    <tr>\n",
       "      <th>0</th>\n",
       "      <td>1</td>\n",
       "      <td>6</td>\n",
       "      <td>4</td>\n",
       "      <td>8</td>\n",
       "      <td>2</td>\n",
       "      <td>1</td>\n",
       "      <td>0.5</td>\n",
       "    </tr>\n",
       "  </tbody>\n",
       "</table>\n",
       "</div>"
      ],
      "text/plain": [
       "   0-  20-  24-  30-  32-  38-  48-\n",
       "0   1    6    4    8    2    1  0.5"
      ]
     },
     "execution_count": 2,
     "metadata": {},
     "output_type": "execute_result"
    }
   ],
   "source": [
    "import pandas as pd\n",
    "import csv\n",
    "\n",
    "intervals = [\"0-\", \"20-\", \"24-\", \"30-\", \"32-\", \"38-\", \"48-\"]\n",
    "frequencies = [1, 6, 4, 8, 2, 1, 0.5]\n",
    "\n",
    "file = open(\"question_5.csv\", 'w')\n",
    "writer = csv.writer(file)\n",
    "writer.writerow(intervals)\n",
    "writer.writerow(frequencies)\n",
    "file.close()\n",
    "\n",
    "df = pd.read_csv(\"question_5.csv\")\n",
    "df.head()\n"
   ]
  }
 ],
 "metadata": {
  "kernelspec": {
   "display_name": "Python 3 (ipykernel)",
   "language": "python",
   "name": "python3"
  },
  "language_info": {
   "codemirror_mode": {
    "name": "ipython",
    "version": 3
   },
   "file_extension": ".py",
   "mimetype": "text/x-python",
   "name": "python",
   "nbconvert_exporter": "python",
   "pygments_lexer": "ipython3",
   "version": "3.10.7"
  }
 },
 "nbformat": 4,
 "nbformat_minor": 5
}

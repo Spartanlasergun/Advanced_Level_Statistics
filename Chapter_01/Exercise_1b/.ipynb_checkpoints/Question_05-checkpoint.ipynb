{
 "cells": [
  {
   "cell_type": "markdown",
   "id": "ae1745a1-bafa-423f-a365-04624889ded5",
   "metadata": {},
   "source": [
    "# Question 5\n",
    "-----"
   ]
  },
  {
   "cell_type": "markdown",
   "id": "3a4a0a95-5ebd-4495-b826-20f37fc03c10",
   "metadata": {},
   "source": [
    "| Speed | Frequency |\n",
    "| --- | --- |\n",
    "| 0- | 20 |\n",
    "| 20- | 24 |\n",
    "| 24- | 24 |\n",
    "| 30- | 16 |\n",
    "| 32- | 12 |\n",
    "| 38- | 10 |\n",
    "| 48- | 6 |\n",
    "| 60- | 0 |"
   ]
  }
 ],
 "metadata": {
  "kernelspec": {
   "display_name": "Python 3 (ipykernel)",
   "language": "python",
   "name": "python3"
  },
  "language_info": {
   "codemirror_mode": {
    "name": "ipython",
    "version": 3
   },
   "file_extension": ".py",
   "mimetype": "text/x-python",
   "name": "python",
   "nbconvert_exporter": "python",
   "pygments_lexer": "ipython3",
   "version": "3.11.2"
  }
 },
 "nbformat": 4,
 "nbformat_minor": 5
}

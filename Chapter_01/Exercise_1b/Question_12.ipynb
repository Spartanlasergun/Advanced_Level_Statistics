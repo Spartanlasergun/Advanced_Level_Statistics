{
 "cells": [
  {
   "cell_type": "markdown",
   "id": "9c95ca12-d0a5-4578-af81-bd4780ecc51b",
   "metadata": {},
   "source": [
    "# Question 12\n",
    "-----"
   ]
  },
  {
   "cell_type": "markdown",
   "id": "6aa1ca88-6fe3-4d4b-b565-4a19b250f60c",
   "metadata": {},
   "source": [
    "$$frequency \\ \\ density = \\frac{frequency}{class \\ \\ width}$$\n",
    "\n",
    "Hence,\n",
    "\n",
    "$$ frequency = frequency \\ \\ density * class \\ \\ width$$\n",
    "\n",
    "The frequencies are:\n",
    "\n",
    "$$[2, 6, 8, 8, 6, 4, 10]$$"
   ]
  }
 ],
 "metadata": {
  "kernelspec": {
   "display_name": "Python 3 (ipykernel)",
   "language": "python",
   "name": "python3"
  },
  "language_info": {
   "codemirror_mode": {
    "name": "ipython",
    "version": 3
   },
   "file_extension": ".py",
   "mimetype": "text/x-python",
   "name": "python",
   "nbconvert_exporter": "python",
   "pygments_lexer": "ipython3",
   "version": "3.11.2"
  }
 },
 "nbformat": 4,
 "nbformat_minor": 5
}

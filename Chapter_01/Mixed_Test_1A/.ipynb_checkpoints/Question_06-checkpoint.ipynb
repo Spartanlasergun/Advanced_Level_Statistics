{
 "cells": [
  {
   "cell_type": "markdown",
   "id": "6ace516c-91ef-4663-820b-55b250ce7443",
   "metadata": {},
   "source": [
    "# Question Six\n",
    "\n",
    "| Time (years) | Number of males in the sample | Cum. Freq |\n",
    "| --- | --- | --- |\n",
    "| 0- | 7 | 7 |\n",
    "| 2- | 15 | 22 |\n",
    "| 5- | 35 | 57 |\n",
    "| 10- | 20 | 77 |\n",
    "| 15- | 13 | 90 |\n",
    "| 20-30 | 10 | 100 |"
   ]
  },
  {
   "cell_type": "code",
   "execution_count": 4,
   "id": "6ab06f53-b9df-4fac-b2ad-3885b062ea46",
   "metadata": {
    "tags": []
   },
   "outputs": [
    {
     "name": "stdout",
     "output_type": "stream",
     "text": [
      "estimated median = 8.787878787878789\n",
      "upper quartile = 14.242424242424242\n",
      "lower quartile = 5.454545454545455\n"
     ]
    }
   ],
   "source": [
    "from scipy.interpolate import interp1d\n",
    "import numpy as np\n",
    "\n",
    "cum_freq = [0, 7, 22, 57, 77, 90, 100]\n",
    "boundaries = [0, 2, 5, 10, 15, 20, 30]\n",
    "\n",
    "x = np.linspace(0, 30, 100)\n",
    "function = interp1d(boundaries, cum_freq, kind='quadratic')\n",
    "y = function(x)\n",
    "\n",
    "x_list = x.tolist()\n",
    "y_list = y.tolist()\n",
    "\n",
    "for item in y_list:\n",
    "    if item <= 50:\n",
    "        median_index = y_list.index(item)\n",
    "median = x_list[median_index]\n",
    "print(\"estimated median = \" + str(median))\n",
    "\n",
    "for item in y_list:\n",
    "    if item <= 75:\n",
    "        upper_index = y_list.index(item)\n",
    "upper_quartile = x_list[upper_index]\n",
    "print(\"upper quartile = \" + str(upper_quartile))\n",
    "\n",
    "for item in y_list:\n",
    "    if item <= 25:\n",
    "        lower_index = y_list.index(item)\n",
    "lower_quartile = x_list[lower_index]\n",
    "print(\"lower quartile = \" + str(lower_quartile))"
   ]
  },
  {
   "cell_type": "code",
   "execution_count": 11,
   "id": "b5a36b21-9111-4240-a829-dbbd7bf9aa05",
   "metadata": {
    "tags": []
   },
   "outputs": [
    {
     "data": {
      "text/plain": [
       "<Axes: >"
      ]
     },
     "execution_count": 11,
     "metadata": {},
     "output_type": "execute_result"
    },
    {
     "data": {
      "image/png": "[encoded data removed]",
      "text/plain": [
       "<Figure size 640x480 with 1 Axes>"
      ]
     },
     "metadata": {},
     "output_type": "display_data"
    }
   ],
   "source": [
    "import seaborn as sns\n",
    "\n",
    "men = [0, lower_quartile, median, upper_quartile, 30]\n",
    "women = [0, 1.8, 3.2, 8.6, 20]\n",
    "data = [men, women]\n",
    "\n",
    "sns.boxplot(data, orient='h', whis=20)"
   ]
  },
  {
   "cell_type": "markdown",
   "id": "4d86d96c-19aa-47fc-ba89-2c32c22494f1",
   "metadata": {},
   "source": [
    "(d) \n",
    "(i) The median time for women is less, \n",
    "(ii) The average duration of their stay at the company is less\n",
    "(iii) The range of stay for men is much greater than women"
   ]
  }
 ],
 "metadata": {
  "kernelspec": {
   "display_name": "Python 3 (ipykernel)",
   "language": "python",
   "name": "python3"
  },
  "language_info": {
   "codemirror_mode": {
    "name": "ipython",
    "version": 3
   },
   "file_extension": ".py",
   "mimetype": "text/x-python",
   "name": "python",
   "nbconvert_exporter": "python",
   "pygments_lexer": "ipython3",
   "version": "3.11.2"
  }
 },
 "nbformat": 4,
 "nbformat_minor": 5
}

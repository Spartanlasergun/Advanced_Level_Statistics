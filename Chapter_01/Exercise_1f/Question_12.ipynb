{
 "cells": [
  {
   "cell_type": "markdown",
   "id": "bd23f5b6-ca2c-4610-a2c0-06d876988aea",
   "metadata": {},
   "source": [
    "# Question 12\n",
    "-----"
   ]
  },
  {
   "cell_type": "code",
   "execution_count": 1,
   "id": "13244726",
   "metadata": {
    "tags": []
   },
   "outputs": [
    {
     "name": "stdout",
     "output_type": "stream",
     "text": [
      "The mean is = 121.0\n",
      "The standard deviation is = 6.193955066440142\n"
     ]
    }
   ],
   "source": [
    "import math\n",
    "import statistics\n",
    "\n",
    "#(a)\n",
    "mean = 7623 / 63\n",
    "print(\"The mean is = \" + str(mean))\n",
    "var = (924800 / 63) - (pow(mean, 2))\n",
    "std = math.sqrt(var)\n",
    "print(\"The standard deviation is = \" + str(std))"
   ]
  },
  {
   "cell_type": "code",
   "execution_count": 2,
   "id": "e3cf9e12",
   "metadata": {
    "tags": []
   },
   "outputs": [
    {
     "name": "stdout",
     "output_type": "stream",
     "text": [
      "n = 13.999999999999998\n",
      "The sum of x squared is = 1703.7999999999997\n"
     ]
    }
   ],
   "source": [
    "#(b)\n",
    "\n",
    "n = 152.6 / 10.9\n",
    "print(\"n = \" + str(n))\n",
    "\n",
    "sumxsqr = n * (pow(1.7, 2) + pow(10.9, 2))\n",
    "print(\"The sum of x squared is = \" + str(sumxsqr))"
   ]
  },
  {
   "cell_type": "code",
   "execution_count": 3,
   "id": "94be7b9a",
   "metadata": {
    "tags": []
   },
   "outputs": [
    {
     "name": "stdout",
     "output_type": "stream",
     "text": [
      "The sum of x is = 1716\n",
      "The standard deviation is = 3.594868137091666\n"
     ]
    }
   ],
   "source": [
    "#(c)\n",
    "sumofx = 33 * 52\n",
    "print(\"The sum of x is = \" + str(sumofx))\n",
    "var = (57300 / 52) - pow(33, 2)\n",
    "std = math.sqrt(var)\n",
    "print(\"The standard deviation is = \" + str(std))"
   ]
  },
  {
   "cell_type": "code",
   "execution_count": 4,
   "id": "b0d0111b",
   "metadata": {
    "tags": []
   },
   "outputs": [
    {
     "name": "stdout",
     "output_type": "stream",
     "text": [
      "The sum of x is = 1026\n",
      "The sum of x squared is = 58770\n"
     ]
    }
   ],
   "source": [
    "#(d)\n",
    "sumofx = 57 * 18\n",
    "print(\"The sum of x is = \" + str(sumofx))\n",
    "sumofxsqr = 18 * (pow(4, 2) + pow(57, 2))\n",
    "print(\"The sum of x squared is = \" + str(sumofxsqr))"
   ]
  }
 ],
 "metadata": {
  "kernelspec": {
   "display_name": "Python 3 (ipykernel)",
   "language": "python",
   "name": "python3"
  },
  "language_info": {
   "codemirror_mode": {
    "name": "ipython",
    "version": 3
   },
   "file_extension": ".py",
   "mimetype": "text/x-python",
   "name": "python",
   "nbconvert_exporter": "python",
   "pygments_lexer": "ipython3",
   "version": "3.11.2"
  }
 },
 "nbformat": 4,
 "nbformat_minor": 5
}

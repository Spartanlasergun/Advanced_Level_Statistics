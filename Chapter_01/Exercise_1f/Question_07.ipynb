{
 "cells": [
  {
   "cell_type": "code",
   "execution_count": 3,
   "id": "37eda8d4",
   "metadata": {},
   "outputs": [
    {
     "name": "stdout",
     "output_type": "stream",
     "text": [
      "The mean is = 2.6375 minutes\n",
      "The standard deviation is = 1.900616676239583\n"
     ]
    },
    {
     "data": {
      "text/plain": [
       "(array([ 6., 10., 15.,  5.,  4.,  0.]),\n",
       " array([ 0.,  1.,  2.,  3.,  5., 10., 12.]),\n",
       " <BarContainer object of 6 artists>)"
      ]
     },
     "execution_count": 3,
     "metadata": {},
     "output_type": "execute_result"
    },
    {
     "data": {
      "image/png": "[encoded data removed]",
      "text/plain": [
       "<Figure size 640x480 with 1 Axes>"
      ]
     },
     "metadata": {},
     "output_type": "display_data"
    }
   ],
   "source": [
    "import statistics\n",
    "import matplotlib.pyplot as plt\n",
    "\n",
    "data = [0.5, 1.5, 2.5, 4, 7.5, 10.5]\n",
    "freq = [6, 10, 15, 5, 4, 0]\n",
    "raw_data = []\n",
    "index = 0\n",
    "for item in freq:\n",
    "    count = item\n",
    "    while count != 0:\n",
    "        raw_data.append(data[index])\n",
    "        count = count - 1\n",
    "    index = index + 1\n",
    "mean = sum(raw_data) / len(raw_data)\n",
    "std = statistics.pstdev(raw_data)\n",
    "print(\"The mean is = \" + str(mean) + \" minutes\")\n",
    "print(\"The standard deviation is = \" + str(std))\n",
    "\n",
    "plt.hist(raw_data, bins=[0, 1, 2, 3, 5, 10, 12], edgecolor=\"black\")"
   ]
  }
 ],
 "metadata": {
  "kernelspec": {
   "display_name": "Python 3 (ipykernel)",
   "language": "python",
   "name": "python3"
  },
  "language_info": {
   "codemirror_mode": {
    "name": "ipython",
    "version": 3
   },
   "file_extension": ".py",
   "mimetype": "text/x-python",
   "name": "python",
   "nbconvert_exporter": "python",
   "pygments_lexer": "ipython3",
   "version": "3.10.7"
  }
 },
 "nbformat": 4,
 "nbformat_minor": 5
}

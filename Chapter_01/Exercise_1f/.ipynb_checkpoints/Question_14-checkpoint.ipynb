{
 "cells": [
  {
   "cell_type": "code",
   "execution_count": 9,
   "id": "1528a064",
   "metadata": {},
   "outputs": [
    {
     "name": "stdout",
     "output_type": "stream",
     "text": [
      "The mean is = 28.15\n",
      "The standard deviation is = 3.837642505497363\n"
     ]
    }
   ],
   "source": [
    "import math\n",
    "n = 20\n",
    "mean = 563 / n\n",
    "var = (16143 / 20) - (pow(mean, 2))\n",
    "std = math.sqrt(var)\n",
    "print(\"The mean is = \" + str(mean))\n",
    "print(\"The standard deviation is = \" + str(std))"
   ]
  }
 ],
 "metadata": {
  "kernelspec": {
   "display_name": "Python 3 (ipykernel)",
   "language": "python",
   "name": "python3"
  },
  "language_info": {
   "codemirror_mode": {
    "name": "ipython",
    "version": 3
   },
   "file_extension": ".py",
   "mimetype": "text/x-python",
   "name": "python",
   "nbconvert_exporter": "python",
   "pygments_lexer": "ipython3",
   "version": "3.10.7"
  }
 },
 "nbformat": 4,
 "nbformat_minor": 5
}

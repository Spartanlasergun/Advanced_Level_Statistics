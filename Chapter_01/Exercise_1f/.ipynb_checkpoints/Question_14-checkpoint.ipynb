{
 "cells": [
  {
   "cell_type": "markdown",
   "id": "ce61c19c-28ee-45e7-bc0e-9232ffd0fece",
   "metadata": {},
   "source": [
    "# Question 14\n",
    "-----"
   ]
  },
  {
   "cell_type": "code",
   "execution_count": 1,
   "id": "1528a064",
   "metadata": {
    "tags": []
   },
   "outputs": [
    {
     "name": "stdout",
     "output_type": "stream",
     "text": [
      "The mean is = 28.15\n",
      "The standard deviation is = 3.837642505497363\n"
     ]
    }
   ],
   "source": [
    "import math\n",
    "n = 20\n",
    "mean = 563 / n\n",
    "var = (16143 / 20) - (pow(mean, 2))\n",
    "std = math.sqrt(var)\n",
    "print(\"The mean is = \" + str(mean))\n",
    "print(\"The standard deviation is = \" + str(std))"
   ]
  }
 ],
 "metadata": {
  "kernelspec": {
   "display_name": "Python 3 (ipykernel)",
   "language": "python",
   "name": "python3"
  },
  "language_info": {
   "codemirror_mode": {
    "name": "ipython",
    "version": 3
   },
   "file_extension": ".py",
   "mimetype": "text/x-python",
   "name": "python",
   "nbconvert_exporter": "python",
   "pygments_lexer": "ipython3",
   "version": "3.11.2"
  }
 },
 "nbformat": 4,
 "nbformat_minor": 5
}

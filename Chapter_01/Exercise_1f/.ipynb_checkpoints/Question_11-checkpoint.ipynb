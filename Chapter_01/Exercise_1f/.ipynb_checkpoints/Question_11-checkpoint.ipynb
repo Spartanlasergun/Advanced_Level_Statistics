{
 "cells": [
  {
   "cell_type": "code",
   "execution_count": 3,
   "id": "927ad792",
   "metadata": {},
   "outputs": [
    {
     "name": "stdout",
     "output_type": "stream",
     "text": [
      "The value of x is = 10\n",
      "The variance is = 11.7\n"
     ]
    }
   ],
   "source": [
    "# Using basic algebra:\n",
    "# 40 + 6x = 100\n",
    "# 6x = 60\n",
    "# x = 10\n",
    "print(\"The value of x is = 10\")\n",
    "\n",
    "import statistics\n",
    "data = [1, 1, 2, 2, 2, 2, 2, 4, 4, 4, 4, 4, 4, 4, 10, 10, 10, 10, 10, 10]\n",
    "var = statistics.pvariance(data)\n",
    "print(\"The variance is = \" + str(var))"
   ]
  }
 ],
 "metadata": {
  "kernelspec": {
   "display_name": "Python 3 (ipykernel)",
   "language": "python",
   "name": "python3"
  },
  "language_info": {
   "codemirror_mode": {
    "name": "ipython",
    "version": 3
   },
   "file_extension": ".py",
   "mimetype": "text/x-python",
   "name": "python",
   "nbconvert_exporter": "python",
   "pygments_lexer": "ipython3",
   "version": "3.10.7"
  }
 },
 "nbformat": 4,
 "nbformat_minor": 5
}

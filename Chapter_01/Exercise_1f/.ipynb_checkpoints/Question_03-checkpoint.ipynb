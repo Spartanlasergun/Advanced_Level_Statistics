{
 "cells": [
  {
   "cell_type": "markdown",
   "id": "0bbee540-f0ea-4363-bd4f-318f0b785b82",
   "metadata": {},
   "source": [
    "# Question 3\n",
    "-----"
   ]
  },
  {
   "cell_type": "code",
   "execution_count": 1,
   "id": "16432f9d",
   "metadata": {
    "tags": []
   },
   "outputs": [
    {
     "name": "stdout",
     "output_type": "stream",
     "text": [
      "The mean score = 69.3\n",
      "The standard deviation for scores = 1.7\n"
     ]
    }
   ],
   "source": [
    "import statistics\n",
    "frequencies = [2, 5, 10, 12, 9, 6, 4, 2]\n",
    "scores = [66, 67, 68, 69, 70, 71, 72, 73]\n",
    "raw_data = []\n",
    "index = 0\n",
    "for item in frequencies:\n",
    "    count = item\n",
    "    while count != 0:\n",
    "        raw_data.append(scores[index])\n",
    "        count -= 1\n",
    "    index += 1\n",
    "\n",
    "mean = (sum(raw_data)) / (len(raw_data))\n",
    "print(\"The mean score = \" + str(mean))\n",
    "\n",
    "std = statistics.pstdev(raw_data)\n",
    "print(\"The standard deviation for scores = \" + str(std))"
   ]
  }
 ],
 "metadata": {
  "kernelspec": {
   "display_name": "Python 3 (ipykernel)",
   "language": "python",
   "name": "python3"
  },
  "language_info": {
   "codemirror_mode": {
    "name": "ipython",
    "version": 3
   },
   "file_extension": ".py",
   "mimetype": "text/x-python",
   "name": "python",
   "nbconvert_exporter": "python",
   "pygments_lexer": "ipython3",
   "version": "3.11.2"
  }
 },
 "nbformat": 4,
 "nbformat_minor": 5
}

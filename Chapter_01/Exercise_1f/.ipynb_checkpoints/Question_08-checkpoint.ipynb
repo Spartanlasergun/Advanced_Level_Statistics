{
 "cells": [
  {
   "cell_type": "markdown",
   "id": "97200dff-5477-41d5-bda9-d2b3ee1ee7f1",
   "metadata": {},
   "source": [
    "# Question 8\n",
    "-----"
   ]
  },
  {
   "cell_type": "code",
   "execution_count": 1,
   "id": "8c04d9e6",
   "metadata": {
    "tags": []
   },
   "outputs": [
    {
     "name": "stdout",
     "output_type": "stream",
     "text": [
      "The mean is = 29.0\n",
      "The variance is = 5.899999999999977\n"
     ]
    }
   ],
   "source": [
    "mean = 290 / 10\n",
    "variance = (8469 / 10) - (pow(mean, 2))\n",
    "\n",
    "print(\"The mean is = \" + str(mean))\n",
    "print(\"The variance is = \" + str(variance))"
   ]
  }
 ],
 "metadata": {
  "kernelspec": {
   "display_name": "Python 3 (ipykernel)",
   "language": "python",
   "name": "python3"
  },
  "language_info": {
   "codemirror_mode": {
    "name": "ipython",
    "version": 3
   },
   "file_extension": ".py",
   "mimetype": "text/x-python",
   "name": "python",
   "nbconvert_exporter": "python",
   "pygments_lexer": "ipython3",
   "version": "3.11.2"
  }
 },
 "nbformat": 4,
 "nbformat_minor": 5
}

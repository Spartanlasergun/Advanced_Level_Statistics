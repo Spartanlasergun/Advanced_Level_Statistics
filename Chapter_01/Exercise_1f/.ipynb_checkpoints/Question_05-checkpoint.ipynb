{
 "cells": [
  {
   "cell_type": "markdown",
   "id": "6adc3ab7-de83-40ce-a51c-4e94998b9a39",
   "metadata": {},
   "source": [
    "# Question 5\n",
    "-----"
   ]
  },
  {
   "cell_type": "code",
   "execution_count": 1,
   "id": "2e574259",
   "metadata": {
    "tags": []
   },
   "outputs": [
    {
     "name": "stdout",
     "output_type": "stream",
     "text": [
      "The mean is = 16.583333333333332\n",
      "The standard deviation is = 2.628635049264584\n"
     ]
    }
   ],
   "source": [
    "import statistics\n",
    "\n",
    "raw_data = [12, 13, 15, 15, 16, 16, 16, 17, 19, 19, 20, 21]\n",
    "mean = sum(raw_data) / len(raw_data)\n",
    "std = statistics.pstdev(raw_data)\n",
    "print(\"The mean is = \" + str(mean))\n",
    "print(\"The standard deviation is = \" + str(std))"
   ]
  }
 ],
 "metadata": {
  "kernelspec": {
   "display_name": "Python 3 (ipykernel)",
   "language": "python",
   "name": "python3"
  },
  "language_info": {
   "codemirror_mode": {
    "name": "ipython",
    "version": 3
   },
   "file_extension": ".py",
   "mimetype": "text/x-python",
   "name": "python",
   "nbconvert_exporter": "python",
   "pygments_lexer": "ipython3",
   "version": "3.11.2"
  }
 },
 "nbformat": 4,
 "nbformat_minor": 5
}

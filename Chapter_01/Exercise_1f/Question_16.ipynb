{
 "cells": [
  {
   "cell_type": "markdown",
   "id": "9d614ae5-d4a5-440f-a7bb-887726101036",
   "metadata": {},
   "source": [
    "# Question 16\n",
    "-----"
   ]
  },
  {
   "cell_type": "code",
   "execution_count": 1,
   "id": "50513949",
   "metadata": {
    "tags": []
   },
   "outputs": [
    {
     "name": "stdout",
     "output_type": "stream",
     "text": [
      "The esitmated mean is = 31.15\n",
      "The estimated standard deviation is = 7.0924255371487686\n"
     ]
    }
   ],
   "source": [
    "import statistics\n",
    "freq = [(2.4 * 5), (8.4 * 5), (6 * 5), (1 * 10), (0.4 * 15)]\n",
    "midpoint = [22.5, 27.5, 32.5, 40, 52.5]\n",
    "raw_data = []\n",
    "index = 0\n",
    "for item in freq:\n",
    "    count = round(item)\n",
    "    while count > 0:\n",
    "        raw_data.append(midpoint[index])\n",
    "        count = count - 1\n",
    "    index = index + 1\n",
    "mean = sum(raw_data) / len(raw_data)\n",
    "std = statistics.pstdev(raw_data)\n",
    "print(\"The esitmated mean is = \" + str(mean))\n",
    "print(\"The estimated standard deviation is = \" + str(std))"
   ]
  }
 ],
 "metadata": {
  "kernelspec": {
   "display_name": "Python 3 (ipykernel)",
   "language": "python",
   "name": "python3"
  },
  "language_info": {
   "codemirror_mode": {
    "name": "ipython",
    "version": 3
   },
   "file_extension": ".py",
   "mimetype": "text/x-python",
   "name": "python",
   "nbconvert_exporter": "python",
   "pygments_lexer": "ipython3",
   "version": "3.11.2"
  }
 },
 "nbformat": 4,
 "nbformat_minor": 5
}

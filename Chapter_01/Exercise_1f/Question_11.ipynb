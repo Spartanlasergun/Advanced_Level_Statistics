{
 "cells": [
  {
   "cell_type": "markdown",
   "id": "d83fbb96-617a-45b7-9014-d5ff99be4e6f",
   "metadata": {},
   "source": [
    "# Question 11\n",
    "-----"
   ]
  },
  {
   "cell_type": "markdown",
   "id": "6ac7525d-25ee-4b2b-a878-6cbbe19bb4f2",
   "metadata": {},
   "source": [
    "Using basic algebra:\n",
    "\n",
    "$$40 + 6x = 100$$\n",
    "\n",
    "$$6x = 60$$\n",
    "\n",
    "$$x = 10$$\n",
    "\n",
    "The value of $x = 10$"
   ]
  },
  {
   "cell_type": "code",
   "execution_count": 1,
   "id": "927ad792",
   "metadata": {
    "tags": []
   },
   "outputs": [
    {
     "name": "stdout",
     "output_type": "stream",
     "text": [
      "The variance is = 11.7\n"
     ]
    }
   ],
   "source": [
    "import statistics\n",
    "data = [1, 1, 2, 2, 2, 2, 2, 4, 4, 4, 4, 4, 4, 4, 10, 10, 10, 10, 10, 10]\n",
    "var = statistics.pvariance(data)\n",
    "print(\"The variance is = \" + str(var))"
   ]
  }
 ],
 "metadata": {
  "kernelspec": {
   "display_name": "Python 3 (ipykernel)",
   "language": "python",
   "name": "python3"
  },
  "language_info": {
   "codemirror_mode": {
    "name": "ipython",
    "version": 3
   },
   "file_extension": ".py",
   "mimetype": "text/x-python",
   "name": "python",
   "nbconvert_exporter": "python",
   "pygments_lexer": "ipython3",
   "version": "3.11.2"
  }
 },
 "nbformat": 4,
 "nbformat_minor": 5
}

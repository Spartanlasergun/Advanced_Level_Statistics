{
 "cells": [
  {
   "cell_type": "markdown",
   "id": "1b8251c7-d736-43da-ae55-2f274fe2e654",
   "metadata": {},
   "source": [
    "The following dataset is given:\n",
    "\n",
    "| Time (seconds) | Frequency |\n",
    "| --- | --- |\n",
    "| 11-20 | 1 |\n",
    "| 21-30 | 2 |\n",
    "| 31-40 | 5 |\n",
    "| 41-50 | 11 |\n",
    "| 51-60 | 8 |\n",
    "| 61-70 | 2 |\n",
    "| 71-90 | 1 |\n"
   ]
  },
  {
   "cell_type": "code",
   "execution_count": 2,
   "id": "5b5699ce-7183-409c-8b35-a27f91e0d56b",
   "metadata": {
    "tags": []
   },
   "outputs": [
    {
     "name": "stdout",
     "output_type": "stream",
     "text": [
      "The mean of the dataset is = 46.666666666666664\n"
     ]
    }
   ],
   "source": [
    "midpoints = [15.5, 25.5, 35.5, 45.5, 55.5, 65.5, 80.5]\n",
    "freq = [1, 2, 5, 11, 8, 2, 1]\n",
    "raw_data = []\n",
    "index = 0\n",
    "for item in freq:\n",
    "    count = item\n",
    "    while count != 0:\n",
    "        raw_data.append(midpoints[index])\n",
    "        count = count - 1\n",
    "    index = index + 1\n",
    "\n",
    "mean = sum(raw_data) / len(raw_data)\n",
    "\n",
    "print(\"The mean of the dataset is = \" + str(mean))"
   ]
  }
 ],
 "metadata": {
  "kernelspec": {
   "display_name": "Python 3 (ipykernel)",
   "language": "python",
   "name": "python3"
  },
  "language_info": {
   "codemirror_mode": {
    "name": "ipython",
    "version": 3
   },
   "file_extension": ".py",
   "mimetype": "text/x-python",
   "name": "python",
   "nbconvert_exporter": "python",
   "pygments_lexer": "ipython3",
   "version": "3.11.2"
  }
 },
 "nbformat": 4,
 "nbformat_minor": 5
}

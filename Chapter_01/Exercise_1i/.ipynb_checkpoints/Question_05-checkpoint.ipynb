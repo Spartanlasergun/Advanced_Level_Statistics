{
 "cells": [
  {
   "cell_type": "markdown",
   "id": "9f38c7b5-e4f7-433e-b5ae-24e1f8eb7aa9",
   "metadata": {},
   "source": [
    "# Question 5\n",
    "-----"
   ]
  },
  {
   "cell_type": "markdown",
   "id": "fcc02f32-9fb6-400d-b53d-679ec7d2837c",
   "metadata": {},
   "source": [
    "The following dataset is given:\n",
    "\n",
    "| Time (min) | Frequency |\n",
    "| --- | --- |\n",
    "| 60-63 | 1 |\n",
    "| 64-67 | 3 |\n",
    "| 68-71 | 12 |\n",
    "| 72-75 | 10 |\n",
    "| 76-79 | 4 |"
   ]
  },
  {
   "cell_type": "code",
   "execution_count": 1,
   "id": "cd15d88f-9e10-46b6-ab64-7bd8a8bacc83",
   "metadata": {
    "tags": []
   },
   "outputs": [
    {
     "name": "stdout",
     "output_type": "stream",
     "text": [
      "The mean of the dataset is = 71.23333333333333\n",
      "The standard deviation is = 3.820413008505174\n"
     ]
    }
   ],
   "source": [
    "midpoints = [61.5, 65.5, 69.5, 73.5, 77.5]\n",
    "freq = [1, 3, 12, 10, 4]\n",
    "raw_data = []\n",
    "index = 0\n",
    "for item in freq:\n",
    "    count = item\n",
    "    while count != 0:\n",
    "        raw_data.append(midpoints[index])\n",
    "        count = count - 1\n",
    "    index = index + 1\n",
    "\n",
    "import statistics\n",
    "mean = sum(raw_data) / len(raw_data)\n",
    "std = statistics.pstdev(raw_data)\n",
    "print(\"The mean of the dataset is = \" + str(mean))\n",
    "print(\"The standard deviation is = \" + str(std))"
   ]
  }
 ],
 "metadata": {
  "kernelspec": {
   "display_name": "Python 3 (ipykernel)",
   "language": "python",
   "name": "python3"
  },
  "language_info": {
   "codemirror_mode": {
    "name": "ipython",
    "version": 3
   },
   "file_extension": ".py",
   "mimetype": "text/x-python",
   "name": "python",
   "nbconvert_exporter": "python",
   "pygments_lexer": "ipython3",
   "version": "3.11.2"
  }
 },
 "nbformat": 4,
 "nbformat_minor": 5
}

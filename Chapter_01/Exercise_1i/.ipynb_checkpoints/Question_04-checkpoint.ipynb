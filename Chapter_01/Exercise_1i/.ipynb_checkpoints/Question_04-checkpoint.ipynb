{
 "cells": [
  {
   "cell_type": "markdown",
   "id": "2da2c5bf-cc07-4458-8838-d490e9e60df7",
   "metadata": {},
   "source": [
    "# Question 4\n",
    "-----"
   ]
  },
  {
   "cell_type": "markdown",
   "id": "ef21e776-d446-497b-a4d4-4cadc1780972",
   "metadata": {},
   "source": [
    "The dataset is as follows\n",
    "\n",
    "| Time(min) | Frequency |\n",
    "| --- | --- |\n",
    "| -15 | 0 |\n",
    "| -20 | 3 |\n",
    "| -25 | 2 |\n",
    "| -30 | 6 |\n",
    "| -35 | 10 |\n",
    "| -40 | 7 |\n",
    "| -45 | 2 |\n",
    "| -50 | 1 |\n",
    "\n",
    "Calculating the mean:\n",
    "\n",
    "$\\bar x = \\frac{\\Sigma x}{n}$\n",
    "\n",
    "$\\bar x = \\frac{(7.5 * 0) + (17.5 * 3) + (22.5 * 2) + (27.5 * 6) + (32.5 * 10) + (37.5 * 7) + (42.5 * 2) + (47.5 * 1)}{0 + 3 + 2 + 6 + 10 + 7 + 2 + 1}$\n",
    "\n",
    "$\\bar x = \\frac{982.5}{31}$\n",
    "\n",
    "$\\bar x = 31.7$"
   ]
  }
 ],
 "metadata": {
  "kernelspec": {
   "display_name": "Python 3 (ipykernel)",
   "language": "python",
   "name": "python3"
  },
  "language_info": {
   "codemirror_mode": {
    "name": "ipython",
    "version": 3
   },
   "file_extension": ".py",
   "mimetype": "text/x-python",
   "name": "python",
   "nbconvert_exporter": "python",
   "pygments_lexer": "ipython3",
   "version": "3.11.2"
  }
 },
 "nbformat": 4,
 "nbformat_minor": 5
}

{
 "cells": [
  {
   "cell_type": "markdown",
   "id": "60ccb51b-2804-42eb-89c4-e727641be427",
   "metadata": {},
   "source": [
    "# Question 2\n",
    "-----"
   ]
  },
  {
   "cell_type": "code",
   "execution_count": 1,
   "id": "252b2761",
   "metadata": {
    "tags": []
   },
   "outputs": [
    {
     "name": "stdout",
     "output_type": "stream",
     "text": [
      "[208.05194805194807, 46.363636363636374, 37.532467532467535, 36.23376623376623, 31.818181818181817]\n"
     ]
    }
   ],
   "source": [
    "import math\n",
    "\n",
    "Education = 160.2\n",
    "Highways_etc = 35.7\n",
    "Police = 28.9\n",
    "Social_Services = 27.9\n",
    "Other = 24.5\n",
    "Total = Education + Highways_etc + Police + Social_Services + Other\n",
    "\n",
    "Education_ang = (Education / Total) * 360\n",
    "Highways_ang = (Highways_etc / Total) * 360\n",
    "Police_ang = (Police / Total) * 360\n",
    "Social_Services_ang = (Social_Services / Total) * 360\n",
    "Other_ang = (Other / Total) * 360\n",
    "angles = [Education_ang, Highways_ang, Police_ang, Social_Services_ang, Other_ang]\n",
    "print(angles)"
   ]
  },
  {
   "cell_type": "code",
   "execution_count": 2,
   "id": "45dd6bd5",
   "metadata": {
    "tags": []
   },
   "outputs": [
    {
     "name": "stdout",
     "output_type": "stream",
     "text": [
      "5.246451422175996\n"
     ]
    }
   ],
   "source": [
    "r_1 = 5\n",
    "F_1 = Total\n",
    "F_2 = 305.2\n",
    "r_2 = ((math.sqrt(F_2)) / (math.sqrt(F_1))) * r_1\n",
    "print(r_2)"
   ]
  }
 ],
 "metadata": {
  "kernelspec": {
   "display_name": "Python 3 (ipykernel)",
   "language": "python",
   "name": "python3"
  },
  "language_info": {
   "codemirror_mode": {
    "name": "ipython",
    "version": 3
   },
   "file_extension": ".py",
   "mimetype": "text/x-python",
   "name": "python",
   "nbconvert_exporter": "python",
   "pygments_lexer": "ipython3",
   "version": "3.11.2"
  }
 },
 "nbformat": 4,
 "nbformat_minor": 5
}

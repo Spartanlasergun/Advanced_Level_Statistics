{
 "cells": [
  {
   "cell_type": "markdown",
   "id": "418eebaa-105c-43f2-8e6a-bd222f30ecd7",
   "metadata": {},
   "source": [
    "# Question 6\n",
    "-----"
   ]
  },
  {
   "cell_type": "code",
   "execution_count": 1,
   "id": "e056c50c",
   "metadata": {
    "tags": []
   },
   "outputs": [
    {
     "name": "stdout",
     "output_type": "stream",
     "text": [
      "The angles are as follows:\n",
      "Meat = 85.74318782466054\n",
      "Fruits and Vegetables = 37.89301011573863\n",
      "Drink = 32.34849175248337\n",
      "Toiletries = 20.357240499407634\n",
      "Groceries = 168.43525015948237\n",
      "Misc = 15.222819648227466\n"
     ]
    }
   ],
   "source": [
    "meat = 52.27\n",
    "fruit = 23.1\n",
    "drink = 19.72\n",
    "toiletries = 12.41\n",
    "groceries = 102.68\n",
    "misc = 9.28\n",
    "total = meat + fruit + drink + toiletries + groceries + misc\n",
    "meat_deg = (meat / total) * 360\n",
    "fruit_deg = (fruit / total) * 360\n",
    "drink_deg = (drink / total) * 360\n",
    "toiletries_deg = (toiletries / total) * 360\n",
    "groceries_deg = (groceries / total) * 360\n",
    "misc_deg = (misc / total) * 360\n",
    "print(\"The angles are as follows:\")\n",
    "print(\"Meat = \" + str(meat_deg))\n",
    "print(\"Fruits and Vegetables = \" + str(fruit_deg))\n",
    "print(\"Drink = \" + str(drink_deg))\n",
    "print(\"Toiletries = \" + str(toiletries_deg))\n",
    "print(\"Groceries = \" + str(groceries_deg))\n",
    "print(\"Misc = \" + str(misc_deg))"
   ]
  },
  {
   "cell_type": "code",
   "execution_count": 2,
   "id": "c823994e",
   "metadata": {
    "tags": []
   },
   "outputs": [
    {
     "name": "stdout",
     "output_type": "stream",
     "text": [
      "The radius is: 5.477225575051662cm\n"
     ]
    }
   ],
   "source": [
    "import math\n",
    "r_1 = 5\n",
    "F_1 = total\n",
    "F_2 = (total * 0.2) + total\n",
    "r_2 = ((math.sqrt(F_2)) / (math.sqrt(F_1))) * r_1\n",
    "\n",
    "print(\"The radius is: \" + str(r_2) + \"cm\")"
   ]
  }
 ],
 "metadata": {
  "kernelspec": {
   "display_name": "Python 3 (ipykernel)",
   "language": "python",
   "name": "python3"
  },
  "language_info": {
   "codemirror_mode": {
    "name": "ipython",
    "version": 3
   },
   "file_extension": ".py",
   "mimetype": "text/x-python",
   "name": "python",
   "nbconvert_exporter": "python",
   "pygments_lexer": "ipython3",
   "version": "3.11.2"
  }
 },
 "nbformat": 4,
 "nbformat_minor": 5
}

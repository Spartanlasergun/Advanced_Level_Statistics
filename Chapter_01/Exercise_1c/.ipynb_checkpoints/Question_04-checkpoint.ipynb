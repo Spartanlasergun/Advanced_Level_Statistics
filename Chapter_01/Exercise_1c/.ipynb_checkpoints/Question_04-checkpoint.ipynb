{
 "cells": [
  {
   "cell_type": "markdown",
   "id": "bfed3ced-676e-4e78-8f4b-80379afed4b1",
   "metadata": {},
   "source": [
    "# Question 4\n",
    "-----"
   ]
  },
  {
   "cell_type": "code",
   "execution_count": 1,
   "id": "6f1f8b9d",
   "metadata": {
    "tags": []
   },
   "outputs": [
    {
     "name": "stdout",
     "output_type": "stream",
     "text": [
      "Total income for 1993 = 120000.0\n"
     ]
    }
   ],
   "source": [
    "income_deg = 360 - 204\n",
    "partial_income = 30000 + 9000 + 3000 + 10000\n",
    "# this implies\n",
    "# (income_deg / 360) * total = partial_income\n",
    "# income_deg * total = partial_income * 360\n",
    "# total = (parital_income * 360) / income_deg\n",
    "total = (partial_income * 360) / income_deg\n",
    "print(\"Total income for 1993 = \" + str(total))"
   ]
  },
  {
   "cell_type": "code",
   "execution_count": 2,
   "id": "87ececc3",
   "metadata": {
    "tags": []
   },
   "outputs": [
    {
     "name": "stdout",
     "output_type": "stream",
     "text": [
      "x = 68000.0\n"
     ]
    }
   ],
   "source": [
    "x = total - partial_income\n",
    "print(\"x = \" + str(x))"
   ]
  },
  {
   "cell_type": "code",
   "execution_count": 3,
   "id": "a2c9fa07",
   "metadata": {
    "tags": []
   },
   "outputs": [
    {
     "name": "stdout",
     "output_type": "stream",
     "text": [
      "Advertising = 90.0\n",
      "Fees = 27.0\n",
      "Investments = 9.0\n",
      "Sponsorship = 30.0\n"
     ]
    }
   ],
   "source": [
    "Advertising = (30000/total) * 360\n",
    "Fees = (9000/total) * 360\n",
    "Investments = (3000/total) * 360\n",
    "Sponsorship = (10000/total) * 360\n",
    "print(\"Advertising = \" + str(Advertising))\n",
    "print(\"Fees = \" + str(Fees))\n",
    "print(\"Investments = \" + str(Investments))\n",
    "print(\"Sponsorship = \" + str(Sponsorship))"
   ]
  },
  {
   "cell_type": "code",
   "execution_count": 4,
   "id": "85621a1c",
   "metadata": {
    "tags": []
   },
   "outputs": [
    {
     "name": "stdout",
     "output_type": "stream",
     "text": [
      "The radius of the first pie chart is = 7.5cm\n"
     ]
    }
   ],
   "source": [
    "import math\n",
    "r_2 = 9\n",
    "F_1 = 120000\n",
    "F_2 = 6 * 28800\n",
    "# r_1 / r_2 = sqrt(F_1) / sqrt(F_2)\n",
    "# => r_1 = (sqrt(F_1) / sqrt(F_2)) * r_2\n",
    "r_1 = ((math.sqrt(F_1)) / math.sqrt(F_2)) * r_2\n",
    "r_1 = round(r_1, 2)\n",
    "print(\"The radius of the first pie chart is = \" + str(r_1) + \"cm\")"
   ]
  }
 ],
 "metadata": {
  "kernelspec": {
   "display_name": "Python 3 (ipykernel)",
   "language": "python",
   "name": "python3"
  },
  "language_info": {
   "codemirror_mode": {
    "name": "ipython",
    "version": 3
   },
   "file_extension": ".py",
   "mimetype": "text/x-python",
   "name": "python",
   "nbconvert_exporter": "python",
   "pygments_lexer": "ipython3",
   "version": "3.11.2"
  }
 },
 "nbformat": 4,
 "nbformat_minor": 5
}

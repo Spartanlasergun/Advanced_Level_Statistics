{
 "cells": [
  {
   "cell_type": "markdown",
   "id": "6b43f78c-5b18-4c57-862a-b4d26fd442f1",
   "metadata": {},
   "source": [
    "# Question 5\n",
    "-----"
   ]
  },
  {
   "cell_type": "code",
   "execution_count": 1,
   "id": "85c13650",
   "metadata": {
    "tags": []
   },
   "outputs": [
    {
     "name": "stdout",
     "output_type": "stream",
     "text": [
      "Number of juniors = 42.0\n"
     ]
    }
   ],
   "source": [
    "one_member_deg = 147 / 168\n",
    "total_members = one_member_deg * 360\n",
    "juniors = (48 / 360) * total_members\n",
    "juniors = round(juniors, 0)\n",
    "print(\"Number of juniors = \" + str(juniors))"
   ]
  },
  {
   "cell_type": "code",
   "execution_count": 2,
   "id": "58bbbbb1",
   "metadata": {
    "tags": []
   },
   "outputs": [
    {
     "name": "stdout",
     "output_type": "stream",
     "text": [
      "Number of social members = 40.0\n"
     ]
    }
   ],
   "source": [
    "Social_angle = (35 / total_members) * 360\n",
    "print(\"Number of social members = \" + str(Social_angle))"
   ]
  },
  {
   "cell_type": "code",
   "execution_count": 3,
   "id": "7a27427c",
   "metadata": {
    "tags": []
   },
   "outputs": [
    {
     "name": "stdout",
     "output_type": "stream",
     "text": [
      "Number of Women = 91.0\n"
     ]
    }
   ],
   "source": [
    "Number_Of_Women = total_members - (((Social_angle + 168 + 48) / 360) * total_members)\n",
    "Number_Of_Women = round(Number_Of_Women, 0)\n",
    "print(\"Number of Women = \" + str(Number_Of_Women))"
   ]
  },
  {
   "cell_type": "code",
   "execution_count": 4,
   "id": "0966b95c",
   "metadata": {
    "tags": []
   },
   "outputs": [
    {
     "name": "stdout",
     "output_type": "stream",
     "text": [
      "The total members in the year 2000 = 420.0\n"
     ]
    }
   ],
   "source": [
    "one_member_deg = (147 + 49)/ 168\n",
    "total_members = one_member_deg * 360\n",
    "print(\"The total members in the year 2000 = \" + str(total_members))"
   ]
  },
  {
   "cell_type": "code",
   "execution_count": 5,
   "id": "1e062423",
   "metadata": {
    "tags": []
   },
   "outputs": [
    {
     "name": "stdout",
     "output_type": "stream",
     "text": [
      "The radius for the year 2000 = 30.02221399786054\n"
     ]
    }
   ],
   "source": [
    "import math\n",
    "r_1 = 26\n",
    "F_1 = 315\n",
    "F_2 = 420\n",
    "r_2 = ((math.sqrt(F_2)) / (math.sqrt(F_1))) * r_1\n",
    "print(\"The radius for the year 2000 = \" + str(r_2))"
   ]
  }
 ],
 "metadata": {
  "kernelspec": {
   "display_name": "Python 3 (ipykernel)",
   "language": "python",
   "name": "python3"
  },
  "language_info": {
   "codemirror_mode": {
    "name": "ipython",
    "version": 3
   },
   "file_extension": ".py",
   "mimetype": "text/x-python",
   "name": "python",
   "nbconvert_exporter": "python",
   "pygments_lexer": "ipython3",
   "version": "3.11.2"
  }
 },
 "nbformat": 4,
 "nbformat_minor": 5
}

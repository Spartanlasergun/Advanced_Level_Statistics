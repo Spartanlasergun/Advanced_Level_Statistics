{
 "cells": [
  {
   "cell_type": "code",
   "execution_count": 2,
   "id": "34dd8664",
   "metadata": {},
   "outputs": [
    {
     "name": "stdout",
     "output_type": "stream",
     "text": [
      "Total expenditure = 4500.0\n"
     ]
    }
   ],
   "source": [
    "Taxes_deg = 124\n",
    "Travel_deg = 80\n",
    "Travel_exp = 1000\n",
    "one_degree = Travel_exp / Travel_deg\n",
    "total_exp = one_degree * 360\n",
    "print(\"Total expenditure = \" + str(total_exp))"
   ]
  },
  {
   "cell_type": "code",
   "execution_count": 4,
   "id": "328715a9",
   "metadata": {},
   "outputs": [
    {
     "name": "stdout",
     "output_type": "stream",
     "text": [
      "Taxes Expenditure = 1550.0\n",
      "Light/Heat Expenditure = 1650.0\n"
     ]
    }
   ],
   "source": [
    "x = (Taxes_deg / 360) * total_exp\n",
    "print(\"Taxes Expenditure = \" + str(x))\n",
    "\n",
    "y = total_exp - (x + Travel_exp + 300)\n",
    "print(\"Light/Heat Expenditure = \" + str(y))"
   ]
  },
  {
   "cell_type": "code",
   "execution_count": 5,
   "id": "ff58cf35",
   "metadata": {},
   "outputs": [
    {
     "name": "stdout",
     "output_type": "stream",
     "text": [
      "Light/Heat angle = 132.0 degrees\n",
      "Telephone angle = 24.0 degrees\n"
     ]
    }
   ],
   "source": [
    "Light_Heat_ang = (y/total_exp) * 360\n",
    "Telephone_ang = (300/total_exp) * 360\n",
    "print(\"Light/Heat angle = \" + str(Light_Heat_ang) + \" degrees\")\n",
    "print(\"Telephone angle = \" + str(Telephone_ang) + \" degrees\")"
   ]
  },
  {
   "cell_type": "code",
   "execution_count": 7,
   "id": "2a937c62",
   "metadata": {},
   "outputs": [
    {
     "name": "stdout",
     "output_type": "stream",
     "text": [
      "The radius of the pie chart is: 8.0cm\n"
     ]
    }
   ],
   "source": [
    "import math\n",
    "r_1 = 6\n",
    "F_1 = total_exp\n",
    "F_2 = 8000\n",
    "r_2 = r_1 * ( (math.sqrt(F_2)) / (math.sqrt(F_1)) )\n",
    "print(\"The radius of the pie chart is: \" + str(r_2) + \"cm\")"
   ]
  }
 ],
 "metadata": {
  "kernelspec": {
   "display_name": "Python 3 (ipykernel)",
   "language": "python",
   "name": "python3"
  },
  "language_info": {
   "codemirror_mode": {
    "name": "ipython",
    "version": 3
   },
   "file_extension": ".py",
   "mimetype": "text/x-python",
   "name": "python",
   "nbconvert_exporter": "python",
   "pygments_lexer": "ipython3",
   "version": "3.10.7"
  }
 },
 "nbformat": 4,
 "nbformat_minor": 5
}

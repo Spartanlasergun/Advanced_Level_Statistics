{
 "cells": [
  {
   "cell_type": "code",
   "execution_count": 3,
   "id": "08b0198b",
   "metadata": {},
   "outputs": [
    {
     "name": "stdout",
     "output_type": "stream",
     "text": [
      "Sales total for A = 1999.9999999999995\n",
      "Sales total for C = 7999.999999999998\n"
     ]
    }
   ],
   "source": [
    "import math\n",
    "\n",
    "A = 20\n",
    "B = 30\n",
    "C = 40\n",
    "B_total = 4500\n",
    "# A_total => (20/30) = (sqrt(F_1)) / (sqrt(4500))\n",
    "# => 2/3 * sqrt(4500) = sqrt(F_1)\n",
    "# => A_total = ( (2/3) * sqrt(4500) )^2\n",
    "A_total = ( (2/3) * math.sqrt(4500) ) ** 2\n",
    "\n",
    "# C_total => (30/40) = (sqrt(4500)) / sqrt(F_2)\n",
    "# => (4/3) * sqrt(4500) = sqrt(F_2)\n",
    "# => C_total = ( (4/3) * sqrt(4500) )^2\n",
    "C_total = ( (4/3) * math.sqrt(4500) ) ** 2\n",
    "\n",
    "print(\"Sales total for A = \" + str(A_total))\n",
    "print(\"Sales total for C = \" + str(C_total))\n"
   ]
  },
  {
   "cell_type": "code",
   "execution_count": 4,
   "id": "a78ddd38",
   "metadata": {},
   "outputs": [
    {
     "name": "stdout",
     "output_type": "stream",
     "text": [
      "The item value = 399.99999999999994\n"
     ]
    }
   ],
   "source": [
    "item_value = (72/360) * A_total\n",
    "print(\"The item value = \" + str(item_value))"
   ]
  },
  {
   "cell_type": "code",
   "execution_count": 7,
   "id": "32dddd42",
   "metadata": {},
   "outputs": [
    {
     "name": "stdout",
     "output_type": "stream",
     "text": [
      "The sector angle = 27.000000000000004 degrees\n"
     ]
    }
   ],
   "source": [
    "sector_angle = (600/C_total) * 360\n",
    "print(\"The sector angle = \" + str(sector_angle) + \" degrees\")"
   ]
  },
  {
   "cell_type": "code",
   "execution_count": 10,
   "id": "7421a16e",
   "metadata": {},
   "outputs": [
    {
     "name": "stdout",
     "output_type": "stream",
     "text": [
      "The sector angle for the item is = 79.99999999999999 degrees\n"
     ]
    }
   ],
   "source": [
    "item_value_a = A_total * 0.25\n",
    "item_value_b = 2 * item_value_a\n",
    "sector_angle = (item_value_b / B_total) * 360\n",
    "print('The sector angle for the item is = ' + str(sector_angle) + \" degrees\")"
   ]
  }
 ],
 "metadata": {
  "kernelspec": {
   "display_name": "Python 3 (ipykernel)",
   "language": "python",
   "name": "python3"
  },
  "language_info": {
   "codemirror_mode": {
    "name": "ipython",
    "version": 3
   },
   "file_extension": ".py",
   "mimetype": "text/x-python",
   "name": "python",
   "nbconvert_exporter": "python",
   "pygments_lexer": "ipython3",
   "version": "3.10.7"
  }
 },
 "nbformat": 4,
 "nbformat_minor": 5
}

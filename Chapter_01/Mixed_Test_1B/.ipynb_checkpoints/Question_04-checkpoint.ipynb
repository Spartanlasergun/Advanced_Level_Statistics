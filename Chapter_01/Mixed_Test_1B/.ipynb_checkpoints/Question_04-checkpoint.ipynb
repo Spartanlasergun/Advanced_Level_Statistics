{
 "cells": [
  {
   "cell_type": "markdown",
   "id": "e18113e8-841b-4f01-82a8-a7e7f3745450",
   "metadata": {},
   "source": [
    "# Question 4\n",
    "-----"
   ]
  },
  {
   "cell_type": "markdown",
   "id": "06dd55c9-1468-4378-9c47-95b9afd33f8b",
   "metadata": {},
   "source": [
    "(a) The distributions have the same median value. Post Office A is positively skewed, while Post Office B is negatively skewed. The interquartile range (variabilty) for Post Office A is greater than B, but the distribution for Post Office B contains outliers.\n",
    "\n",
    "(b) \n",
    "\n",
    "(i) If the outliers are not the fault of the Post Office B, then choose B.\n",
    "\n",
    "(ii) If the outliers are the fault of Post Office B, then choose A"
   ]
  }
 ],
 "metadata": {
  "kernelspec": {
   "display_name": "Python 3 (ipykernel)",
   "language": "python",
   "name": "python3"
  },
  "language_info": {
   "codemirror_mode": {
    "name": "ipython",
    "version": 3
   },
   "file_extension": ".py",
   "mimetype": "text/x-python",
   "name": "python",
   "nbconvert_exporter": "python",
   "pygments_lexer": "ipython3",
   "version": "3.11.2"
  }
 },
 "nbformat": 4,
 "nbformat_minor": 5
}

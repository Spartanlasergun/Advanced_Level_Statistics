{
 "cells": [
  {
   "cell_type": "markdown",
   "id": "a4960979-d5ae-4258-8947-2af77e6ef047",
   "metadata": {},
   "source": [
    "# Question Three"
   ]
  },
  {
   "cell_type": "markdown",
   "id": "1c51abcd-c1b3-456b-bea0-a489c242f1d4",
   "metadata": {},
   "source": [
    "(a)\n",
    "\n",
    "area = $2 \\pi r^2 $\n",
    "\n",
    "Hence,\n",
    "\n",
    "$$ Area_1 = 2 * \\pi * (15^2) = 1413.71 $$\n",
    "\n",
    "$$ Area_2 = 2 * \\pi * (18^2) = 2035.75 $$\n",
    "\n",
    "$$ increase = \\frac{Area_2}{Area_1} * 100 $$\n",
    "\n",
    "$$ increase = \\frac{2035.75}{1413.71} * 100 $$\n",
    "\n",
    "$$ increase = 144% $$\n",
    "\n",
    "Hence the percentage increase is 44%"
   ]
  },
  {
   "cell_type": "markdown",
   "id": "8da33d9e-a5ba-4254-8d3f-e72067a40a87",
   "metadata": {},
   "source": [
    "(b)\n",
    "\n",
    "$$ 2035.75 = 360\\deg $$\n",
    "\n",
    "$$ 1\\deg = \\frac{2035.75}{360} = 5.65 $$\n",
    "\n",
    "$$ 47\\deg = 5.65 * 47 = 265.77 $$\n",
    "\n",
    "Spending for 1995 is given by 265.77, and spending for 1990 is half this value, hence:\n",
    "\n",
    "$$ 1990 = \\frac{265.77}{2} = 132.19 $$\n",
    "\n",
    "Angle for water in 1990 would be given by:\n",
    "\n",
    "$$ \\frac{132.19}{1413.17} * 360\\deg = 33.85\\deg $$"
   ]
  }
 ],
 "metadata": {
  "kernelspec": {
   "display_name": "Python 3 (ipykernel)",
   "language": "python",
   "name": "python3"
  },
  "language_info": {
   "codemirror_mode": {
    "name": "ipython",
    "version": 3
   },
   "file_extension": ".py",
   "mimetype": "text/x-python",
   "name": "python",
   "nbconvert_exporter": "python",
   "pygments_lexer": "ipython3",
   "version": "3.11.2"
  }
 },
 "nbformat": 4,
 "nbformat_minor": 5
}

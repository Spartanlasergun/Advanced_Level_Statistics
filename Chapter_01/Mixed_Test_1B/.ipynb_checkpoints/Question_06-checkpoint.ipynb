{
 "cells": [
  {
   "cell_type": "markdown",
   "id": "8937c590-c62e-4baa-9946-0e40d769e0d8",
   "metadata": {},
   "source": [
    "# Question Six"
   ]
  },
  {
   "cell_type": "markdown",
   "id": "95bb40f7-979b-402f-8af3-575ff037de00",
   "metadata": {},
   "source": [
    "(a) \n",
    "\n",
    "median = 3.1 hours\n",
    "\n",
    "lower quartile = 2.7 hours \n",
    "\n",
    "upper quartile = 3.65 hours"
   ]
  },
  {
   "cell_type": "markdown",
   "id": "e13ac888-e789-4e36-875a-1f5507cbf292",
   "metadata": {},
   "source": [
    "| Time in Hours | No. of Competitors |\n",
    "| --- | --- |\n",
    "| 2-2.5 | 40 |\n",
    "| 2.5-3 | 200 |\n",
    "| 3-4 | 200 |\n",
    "| 4-7 | 60 |"
   ]
  },
  {
   "cell_type": "code",
   "execution_count": 7,
   "id": "c244e673-cc1d-4b54-bc03-2b7d4fa8bb57",
   "metadata": {
    "tags": []
   },
   "outputs": [
    {
     "name": "stdout",
     "output_type": "stream",
     "text": [
      "estimated mean = 3.34 hours\n",
      "estimated standard deviation = 53.81300957946879 minutes\n"
     ]
    }
   ],
   "source": [
    "freq = [40, 200, 200, 60]\n",
    "intervals = [2.25, 2.75, 3.5, 5.5]\n",
    "raw_data = []\n",
    "index = 0\n",
    "\n",
    "for item in freq:\n",
    "    count = item\n",
    "    while count != 0:\n",
    "        raw_data.append(intervals[index])\n",
    "        count = count - 1\n",
    "    index = index + 1\n",
    "\n",
    "import statistics\n",
    "mean = statistics.mean(raw_data)\n",
    "std = statistics.pstdev(raw_data)\n",
    "std_time = std * 60\n",
    "print(\"estimated mean = \" + str(mean) + \" hours\")\n",
    "print(\"estimated standard deviation = \" + str(std_time) + \" minutes\")"
   ]
  }
 ],
 "metadata": {
  "kernelspec": {
   "display_name": "Python 3 (ipykernel)",
   "language": "python",
   "name": "python3"
  },
  "language_info": {
   "codemirror_mode": {
    "name": "ipython",
    "version": 3
   },
   "file_extension": ".py",
   "mimetype": "text/x-python",
   "name": "python",
   "nbconvert_exporter": "python",
   "pygments_lexer": "ipython3",
   "version": "3.11.2"
  }
 },
 "nbformat": 4,
 "nbformat_minor": 5
}

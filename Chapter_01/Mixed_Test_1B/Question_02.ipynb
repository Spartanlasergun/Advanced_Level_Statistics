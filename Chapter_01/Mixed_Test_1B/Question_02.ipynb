{
 "cells": [
  {
   "cell_type": "markdown",
   "id": "c1818a7e-ddb9-4f82-8fc7-526497ae1697",
   "metadata": {},
   "source": [
    "# Question 2\n",
    "-----"
   ]
  },
  {
   "cell_type": "markdown",
   "id": "bfd21d03-0b8a-4fc0-8c33-d74a88c66fd7",
   "metadata": {},
   "source": [
    "(a) (i) smaller ranges will make it easier to see the spread\n",
    "\n",
    "(ii)\n",
    "\n",
    "| | |\n",
    "| --- | --- |\n",
    "| 1 | 1, 2, 2, 3, 4, 4, 4 |\n",
    "| 1 | 5, 6, 7, 7, 9 |\n",
    "| 2 | 1, 1, 1, 2 |\n",
    "| 2 | 5, 5, 7 |\n",
    "| 3 | 1, 2, 2 |\n",
    "| 3 | 5, 5, 9 |\n",
    "| 4 | 1, 3, 4 |\n",
    "| 4 | 5 |"
   ]
  },
  {
   "cell_type": "code",
   "execution_count": 1,
   "id": "b0f1c415-d67d-4fe5-b654-c5b0703cef99",
   "metadata": {
    "tags": []
   },
   "outputs": [
    {
     "name": "stdout",
     "output_type": "stream",
     "text": [
      "mean = 24.586206896551722\n"
     ]
    }
   ],
   "source": [
    "import statistics\n",
    "\n",
    "data = [11, 12, 12, 13, 14, 14, 14, 15, 16, 17, 17, 19,\n",
    "        21, 21, 21, 22, 25, 25, 27,\n",
    "        31, 32, 32, 35, 35, 39,\n",
    "        41, 43, 44, 45]\n",
    "\n",
    "mean = statistics.mean(data)\n",
    "print(\"mean = \" + str(mean))"
   ]
  },
  {
   "cell_type": "code",
   "execution_count": 2,
   "id": "6d44ce52-8312-4ab8-b0a3-e3b9f1ea4219",
   "metadata": {
    "tags": []
   },
   "outputs": [
    {
     "name": "stdout",
     "output_type": "stream",
     "text": [
      "median = 21\n"
     ]
    }
   ],
   "source": [
    "median = statistics.median(data)\n",
    "print(\"median = \" + str(median))"
   ]
  },
  {
   "cell_type": "markdown",
   "id": "4a39ea8a-5ccb-4cd9-a266-36cbdd8e0ae1",
   "metadata": {},
   "source": [
    "(d) median is better, as the distribution lacks symmetry"
   ]
  }
 ],
 "metadata": {
  "kernelspec": {
   "display_name": "Python 3 (ipykernel)",
   "language": "python",
   "name": "python3"
  },
  "language_info": {
   "codemirror_mode": {
    "name": "ipython",
    "version": 3
   },
   "file_extension": ".py",
   "mimetype": "text/x-python",
   "name": "python",
   "nbconvert_exporter": "python",
   "pygments_lexer": "ipython3",
   "version": "3.11.2"
  }
 },
 "nbformat": 4,
 "nbformat_minor": 5
}

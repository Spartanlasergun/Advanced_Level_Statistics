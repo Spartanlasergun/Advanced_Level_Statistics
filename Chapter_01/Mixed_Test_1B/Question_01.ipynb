{
 "cells": [
  {
   "cell_type": "markdown",
   "id": "d5250527-01e3-4cf7-9ec0-f14bf11aec11",
   "metadata": {},
   "source": [
    "# Question 1\n",
    "-----"
   ]
  },
  {
   "cell_type": "code",
   "execution_count": 1,
   "id": "84510d49-ae45-4a55-95ab-e99511b6276a",
   "metadata": {
    "tags": []
   },
   "outputs": [
    {
     "name": "stdout",
     "output_type": "stream",
     "text": [
      "(a) mean = 1.1510516252390057\n"
     ]
    }
   ],
   "source": [
    "import statistics\n",
    "\n",
    "freq = [183, 160, 108, 63, 8, 1]\n",
    "passengers = [0, 1, 2, 3, 4, 5]\n",
    "raw_data = []\n",
    "index = 0\n",
    "\n",
    "for item in freq:\n",
    "    count = item\n",
    "    while count != 0:\n",
    "        raw_data.append(passengers[index])\n",
    "        count = count - 1\n",
    "    index = index + 1\n",
    "\n",
    "mean = statistics.mean(raw_data)\n",
    "print(\"(a) mean = \" + str(mean))"
   ]
  },
  {
   "cell_type": "markdown",
   "id": "79c41a5a-c399-463b-9796-c32ffccd3fba",
   "metadata": {
    "tags": []
   },
   "source": [
    "(b) mode = 1"
   ]
  },
  {
   "cell_type": "code",
   "execution_count": 2,
   "id": "da0362ea-da0b-4551-82ca-1cfc5e89ee8c",
   "metadata": {
    "tags": []
   },
   "outputs": [
    {
     "name": "stdout",
     "output_type": "stream",
     "text": [
      "(c) standard deviation = 1.0879725927318205\n",
      "adding one to each value does not affect the standard deviation of the dataset\n"
     ]
    }
   ],
   "source": [
    "freq = [183, 160, 108, 63, 8, 1]\n",
    "passengers = [1, 2, 3, 4, 5, 6]\n",
    "raw_data = []\n",
    "index = 0\n",
    "\n",
    "for item in freq:\n",
    "    count = item\n",
    "    while count != 0:\n",
    "        raw_data.append(passengers[index])\n",
    "        count = count - 1\n",
    "    index = index + 1\n",
    "\n",
    "std = statistics.pstdev(raw_data)\n",
    "print(\"(c) standard deviation = \" + str(std))\n",
    "print(\"adding one to each value does not affect the standard deviation of the dataset\")"
   ]
  }
 ],
 "metadata": {
  "kernelspec": {
   "display_name": "Python 3 (ipykernel)",
   "language": "python",
   "name": "python3"
  },
  "language_info": {
   "codemirror_mode": {
    "name": "ipython",
    "version": 3
   },
   "file_extension": ".py",
   "mimetype": "text/x-python",
   "name": "python",
   "nbconvert_exporter": "python",
   "pygments_lexer": "ipython3",
   "version": "3.11.2"
  }
 },
 "nbformat": 4,
 "nbformat_minor": 5
}

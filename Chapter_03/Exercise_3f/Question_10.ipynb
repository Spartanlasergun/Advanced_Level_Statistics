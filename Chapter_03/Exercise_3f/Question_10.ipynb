{
 "cells": [
  {
   "cell_type": "markdown",
   "id": "96f2c9d4-4bb7-4bcc-b11f-2c2e7d61cff1",
   "metadata": {},
   "source": [
    "# Question 10\n",
    "-----"
   ]
  },
  {
   "cell_type": "code",
   "execution_count": 7,
   "id": "6ed5c392-257a-44e2-a8a5-0f95114bcfdd",
   "metadata": {},
   "outputs": [
    {
     "name": "stdout",
     "output_type": "stream",
     "text": [
      "P(WWBB) = 0.4195804195804196\n"
     ]
    }
   ],
   "source": [
    "import math\n",
    "n = 14\n",
    "r = 4\n",
    "combinations = (math.factorial(n)) / ((math.factorial(r) * (math.factorial(n-r))))\n",
    "WWBB = ((math.factorial(6)) / ((math.factorial(2) * (math.factorial(4))))) * ((math.factorial(8)) / ((math.factorial(2) * (math.factorial(6)))))\n",
    "prob = WWBB / combinations\n",
    "print(\"P(WWBB) = \" + str(prob))\n",
    "                                                                                                  "
   ]
  }
 ],
 "metadata": {
  "kernelspec": {
   "display_name": "Python 3 (ipykernel)",
   "language": "python",
   "name": "python3"
  },
  "language_info": {
   "codemirror_mode": {
    "name": "ipython",
    "version": 3
   },
   "file_extension": ".py",
   "mimetype": "text/x-python",
   "name": "python",
   "nbconvert_exporter": "python",
   "pygments_lexer": "ipython3",
   "version": "3.12.1"
  }
 },
 "nbformat": 4,
 "nbformat_minor": 5
}

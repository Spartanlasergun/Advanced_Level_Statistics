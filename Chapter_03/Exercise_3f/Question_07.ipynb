{
 "cells": [
  {
   "cell_type": "markdown",
   "id": "9482f0fe-6d89-441a-be69-8f67b247eae2",
   "metadata": {},
   "source": [
    "# Question 7\n",
    "-----"
   ]
  },
  {
   "cell_type": "code",
   "execution_count": 3,
   "id": "5b12363b-1084-4fb1-979a-908658610bc5",
   "metadata": {},
   "outputs": [
    {
     "name": "stdout",
     "output_type": "stream",
     "text": [
      "P(arrangements) = 29937600.0\n"
     ]
    }
   ],
   "source": [
    "import math\n",
    "\n",
    "arrangements = math.factorial(12) / (2 * 2 * 2 * 2)\n",
    "print(\"P(arrangements) = \" + str(arrangements))"
   ]
  },
  {
   "cell_type": "code",
   "execution_count": 6,
   "id": "188c9e1d-8d7c-4ef9-b13c-47dae8c689df",
   "metadata": {},
   "outputs": [
    {
     "name": "stdout",
     "output_type": "stream",
     "text": [
      "P(EE) = 0.015151515151515152\n"
     ]
    }
   ],
   "source": [
    "EE = math.factorial(10) / (2 * 2 * 2)\n",
    "PEE = EE / arrangements\n",
    "print(\"P(EE) = \" + str(PEE))"
   ]
  }
 ],
 "metadata": {
  "kernelspec": {
   "display_name": "Python 3 (ipykernel)",
   "language": "python",
   "name": "python3"
  },
  "language_info": {
   "codemirror_mode": {
    "name": "ipython",
    "version": 3
   },
   "file_extension": ".py",
   "mimetype": "text/x-python",
   "name": "python",
   "nbconvert_exporter": "python",
   "pygments_lexer": "ipython3",
   "version": "3.12.1"
  }
 },
 "nbformat": 4,
 "nbformat_minor": 5
}

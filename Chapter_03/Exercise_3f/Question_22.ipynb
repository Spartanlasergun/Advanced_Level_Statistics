{
 "cells": [
  {
   "cell_type": "markdown",
   "id": "5ef3e902-5715-45e5-9b1f-750834dda218",
   "metadata": {},
   "source": [
    "# Question 22\n",
    "-----"
   ]
  },
  {
   "cell_type": "code",
   "execution_count": 9,
   "id": "f5808c45-c432-4774-b575-6b11c3f8fcf2",
   "metadata": {},
   "outputs": [
    {
     "name": "stdout",
     "output_type": "stream",
     "text": [
      "arrangements = 5040\n"
     ]
    }
   ],
   "source": [
    "import math\n",
    "\n",
    "arrange = math.factorial(7)\n",
    "print(\"arrangements = \" + str(arrange))"
   ]
  },
  {
   "cell_type": "code",
   "execution_count": 10,
   "id": "87a84c3d-ba67-42b5-a40f-78f09bcb5b6d",
   "metadata": {},
   "outputs": [
    {
     "name": "stdout",
     "output_type": "stream",
     "text": [
      "successive = 144\n"
     ]
    }
   ],
   "source": [
    "successive = math.factorial(3) * math.factorial(4)\n",
    "print(\"successive = \" + str(successive))"
   ]
  },
  {
   "cell_type": "code",
   "execution_count": 11,
   "id": "aeb0113a-6802-44a0-a6aa-2eb89f7d46b6",
   "metadata": {},
   "outputs": [
    {
     "name": "stdout",
     "output_type": "stream",
     "text": [
      "girl first, boy last = 1440\n"
     ]
    }
   ],
   "source": [
    "throw = math.factorial(5) * math.factorial(3) * math.factorial(2)\n",
    "print(\"girl first, boy last = \" + str(throw))"
   ]
  }
 ],
 "metadata": {
  "kernelspec": {
   "display_name": "Python 3 (ipykernel)",
   "language": "python",
   "name": "python3"
  },
  "language_info": {
   "codemirror_mode": {
    "name": "ipython",
    "version": 3
   },
   "file_extension": ".py",
   "mimetype": "text/x-python",
   "name": "python",
   "nbconvert_exporter": "python",
   "pygments_lexer": "ipython3",
   "version": "3.12.1"
  }
 },
 "nbformat": 4,
 "nbformat_minor": 5
}

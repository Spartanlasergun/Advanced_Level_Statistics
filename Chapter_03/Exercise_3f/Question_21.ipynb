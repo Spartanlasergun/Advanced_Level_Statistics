{
 "cells": [
  {
   "cell_type": "markdown",
   "id": "a7542d3a-d04d-4a62-a453-96344932ee1a",
   "metadata": {},
   "source": [
    "# Question 21\n",
    "-----"
   ]
  },
  {
   "cell_type": "code",
   "execution_count": 9,
   "id": "e1485a1a-9181-496c-95f2-f08fa8e9771d",
   "metadata": {},
   "outputs": [
    {
     "name": "stdout",
     "output_type": "stream",
     "text": [
      "combinations = 5005.0\n"
     ]
    }
   ],
   "source": [
    "import math\n",
    "\n",
    "comb = ((math.factorial(15)) / ((math.factorial(6)) * (math.factorial(9))))\n",
    "print(\"combinations = \" + str(comb))"
   ]
  },
  {
   "cell_type": "code",
   "execution_count": 10,
   "id": "fadfd119-b39f-43be-a2d0-36a8db76b7c9",
   "metadata": {},
   "outputs": [
    {
     "name": "stdout",
     "output_type": "stream",
     "text": [
      "arrangements = 720\n"
     ]
    }
   ],
   "source": [
    "arrange = math.factorial(6)\n",
    "print(\"arrangements = \" + str(arrange))"
   ]
  },
  {
   "cell_type": "code",
   "execution_count": 11,
   "id": "c6db7d0b-9292-4fa3-9386-0e85bff778e2",
   "metadata": {},
   "outputs": [
    {
     "name": "stdout",
     "output_type": "stream",
     "text": [
      "successive = 72\n"
     ]
    }
   ],
   "source": [
    "BBBEER = math.factorial(3) * math.factorial(2) * 6\n",
    "print(\"successive = \" + str(BBBEER))"
   ]
  }
 ],
 "metadata": {
  "kernelspec": {
   "display_name": "Python 3 (ipykernel)",
   "language": "python",
   "name": "python3"
  },
  "language_info": {
   "codemirror_mode": {
    "name": "ipython",
    "version": 3
   },
   "file_extension": ".py",
   "mimetype": "text/x-python",
   "name": "python",
   "nbconvert_exporter": "python",
   "pygments_lexer": "ipython3",
   "version": "3.12.1"
  }
 },
 "nbformat": 4,
 "nbformat_minor": 5
}

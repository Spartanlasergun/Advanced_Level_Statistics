{
 "cells": [
  {
   "cell_type": "markdown",
   "id": "958df926-ec81-411c-a9d0-d20e73bf725e",
   "metadata": {},
   "source": [
    "# Question 6\n",
    "-----"
   ]
  },
  {
   "cell_type": "code",
   "execution_count": 3,
   "id": "37f13f52-46c4-4024-a40d-68e95c8a307d",
   "metadata": {},
   "outputs": [
    {
     "name": "stdout",
     "output_type": "stream",
     "text": [
      "Arrangements = 40320\n"
     ]
    }
   ],
   "source": [
    "import math\n",
    "combinations = math.factorial(8)\n",
    "print(\"Arrangements = \" + str(combinations))"
   ]
  },
  {
   "cell_type": "code",
   "execution_count": 11,
   "id": "a8041df8-7fae-4cc7-b509-e59729b48cbb",
   "metadata": {},
   "outputs": [
    {
     "name": "stdout",
     "output_type": "stream",
     "text": [
      "Arrangements = 0.03571428571428571\n"
     ]
    }
   ],
   "source": [
    "friends = (math.factorial(6) * 2)  / combinations\n",
    "print(\"Arrangements = \"  + str(friends))"
   ]
  }
 ],
 "metadata": {
  "kernelspec": {
   "display_name": "Python 3 (ipykernel)",
   "language": "python",
   "name": "python3"
  },
  "language_info": {
   "codemirror_mode": {
    "name": "ipython",
    "version": 3
   },
   "file_extension": ".py",
   "mimetype": "text/x-python",
   "name": "python",
   "nbconvert_exporter": "python",
   "pygments_lexer": "ipython3",
   "version": "3.12.1"
  }
 },
 "nbformat": 4,
 "nbformat_minor": 5
}

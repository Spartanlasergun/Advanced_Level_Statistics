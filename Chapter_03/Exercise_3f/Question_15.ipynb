{
 "cells": [
  {
   "cell_type": "markdown",
   "id": "86c967d6-b046-42be-9690-617a5886b5b2",
   "metadata": {},
   "source": [
    "# Question 15\n",
    "-----"
   ]
  },
  {
   "cell_type": "code",
   "execution_count": 3,
   "id": "a434ab05-8414-4f39-9bbe-9a22e9b7c35a",
   "metadata": {},
   "outputs": [
    {
     "name": "stdout",
     "output_type": "stream",
     "text": [
      "Combinations = 510.0\n"
     ]
    }
   ],
   "source": [
    "import math\n",
    "\n",
    "books = ((math.factorial(10)) / (math.factorial(2) * math.factorial(8))) + ((math.factorial(10)) / (math.factorial(4) * math.factorial(6))) + ((math.factorial(10)) / (math.factorial(6) * math.factorial(4))) + ((math.factorial(10)) / (math.factorial(8) * math.factorial(2)))\n",
    "print(\"Combinations = \" + str(boy))"
   ]
  }
 ],
 "metadata": {
  "kernelspec": {
   "display_name": "Python 3 (ipykernel)",
   "language": "python",
   "name": "python3"
  },
  "language_info": {
   "codemirror_mode": {
    "name": "ipython",
    "version": 3
   },
   "file_extension": ".py",
   "mimetype": "text/x-python",
   "name": "python",
   "nbconvert_exporter": "python",
   "pygments_lexer": "ipython3",
   "version": "3.12.1"
  }
 },
 "nbformat": 4,
 "nbformat_minor": 5
}

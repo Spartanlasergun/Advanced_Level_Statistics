{
 "cells": [
  {
   "cell_type": "markdown",
   "id": "3a5e3490-bbdb-4870-9d49-91e85be76594",
   "metadata": {},
   "source": [
    "# Question 18\n",
    "-----"
   ]
  },
  {
   "cell_type": "code",
   "execution_count": 3,
   "id": "81e84bb7-b4c4-4f92-81a5-35fad9d0b89f",
   "metadata": {},
   "outputs": [
    {
     "name": "stdout",
     "output_type": "stream",
     "text": [
      "arrangements = 1260.0\n"
     ]
    }
   ],
   "source": [
    "import math\n",
    "\n",
    "arrangements = math.factorial(9) / (math.factorial(2) * math.factorial(3) * math.factorial(4))\n",
    "print(\"arrangements = \" + str(arrangements))"
   ]
  },
  {
   "cell_type": "code",
   "execution_count": 4,
   "id": "f420ec76-3693-4418-aee5-e4f8ab8cef4e",
   "metadata": {},
   "outputs": [
    {
     "name": "stdout",
     "output_type": "stream",
     "text": [
      "arrangemnets with at least 8 = 2520.0\n"
     ]
    }
   ],
   "source": [
    "nine = math.factorial(9) / (math.factorial(2) * math.factorial(3) * math.factorial(4))\n",
    "eight1 = math.factorial(8) / (math.factorial(1) * math.factorial(3) * math.factorial(4))\n",
    "eight2 = math.factorial(8) / (math.factorial(2) * math.factorial(2) * math.factorial(4))\n",
    "eight3 = math.factorial(8) / (math.factorial(2) * math.factorial(3) * math.factorial(3))\n",
    "arrange = nine + eight1 + eight2 + eight3\n",
    "print(\"arrangemnets with at least 8 = \" + str(arrange))"
   ]
  }
 ],
 "metadata": {
  "kernelspec": {
   "display_name": "Python 3 (ipykernel)",
   "language": "python",
   "name": "python3"
  },
  "language_info": {
   "codemirror_mode": {
    "name": "ipython",
    "version": 3
   },
   "file_extension": ".py",
   "mimetype": "text/x-python",
   "name": "python",
   "nbconvert_exporter": "python",
   "pygments_lexer": "ipython3",
   "version": "3.12.1"
  }
 },
 "nbformat": 4,
 "nbformat_minor": 5
}

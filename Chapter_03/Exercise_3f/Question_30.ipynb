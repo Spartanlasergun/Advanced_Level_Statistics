{
 "cells": [
  {
   "cell_type": "markdown",
   "id": "b6e7c64e-51d5-4d88-8e72-ba7f95e3b61a",
   "metadata": {},
   "source": [
    "# Question 30\n",
    "-----"
   ]
  },
  {
   "cell_type": "code",
   "execution_count": 15,
   "id": "4c699b6e-4708-4977-a5c5-87a1f59e28ac",
   "metadata": {},
   "outputs": [
    {
     "name": "stdout",
     "output_type": "stream",
     "text": [
      "Parties = 70.0\n"
     ]
    }
   ],
   "source": [
    "import math\n",
    "\n",
    "parties = ((math.factorial(8)) / ((math.factorial(4) * math.factorial(4))))\n",
    "print(\"Parties = \" + str(parties))"
   ]
  },
  {
   "cell_type": "code",
   "execution_count": 17,
   "id": "dcf6a926-c70c-476d-aa9a-b39ddbdc6743",
   "metadata": {},
   "outputs": [
    {
     "name": "stdout",
     "output_type": "stream",
     "text": [
      "No Husband and Wife = 55.0\n"
     ]
    }
   ],
   "source": [
    "HW = ((math.factorial(6)) / ((math.factorial(2) * math.factorial(4))))\n",
    "noHW = parties - HW\n",
    "print(\"No Husband and Wife = \" + str(noHW))"
   ]
  },
  {
   "cell_type": "code",
   "execution_count": 18,
   "id": "98202a8b-72ba-420a-8054-24a8c22608f3",
   "metadata": {},
   "outputs": [
    {
     "name": "stdout",
     "output_type": "stream",
     "text": [
      "two men and two women = 30.0\n"
     ]
    }
   ],
   "source": [
    "MMWW = ((math.factorial(5)) / ((math.factorial(2) * math.factorial(3)))) * ((math.factorial(3)) / ((math.factorial(2) * math.factorial(1))))\n",
    "print(\"two men and two women = \" + str(MMWW))"
   ]
  },
  {
   "cell_type": "code",
   "execution_count": 19,
   "id": "3a7a95d3-fa2e-45ab-abf2-bc3b605b0b34",
   "metadata": {},
   "outputs": [
    {
     "name": "stdout",
     "output_type": "stream",
     "text": [
      "at least one man and one woman = 65.0\n"
     ]
    }
   ],
   "source": [
    "MMMM = ((math.factorial(5)) / ((math.factorial(4) * math.factorial(1))))\n",
    "oneMoneW = parties - MMMM\n",
    "print(\"at least one man and one woman = \" + str(oneMoneW))"
   ]
  },
  {
   "cell_type": "code",
   "execution_count": 20,
   "id": "86908ed4-b591-432e-a949-fb35048d08a6",
   "metadata": {},
   "outputs": [
    {
     "name": "stdout",
     "output_type": "stream",
     "text": [
      "P(MW) = 0.2857142857142857\n"
     ]
    }
   ],
   "source": [
    "MW = (1/7) * 2\n",
    "print(\"P(MW) = \" + str(MW))"
   ]
  },
  {
   "cell_type": "code",
   "execution_count": 22,
   "id": "f575f388-6681-48db-87a9-0344551f794e",
   "metadata": {},
   "outputs": [
    {
     "name": "stdout",
     "output_type": "stream",
     "text": [
      "P(M and not wife) = 0.14285714285714285\n"
     ]
    }
   ],
   "source": [
    "Opp = 1/7\n",
    "print(\"P(M and not wife) = \" + str(Opp))"
   ]
  },
  {
   "cell_type": "code",
   "execution_count": 30,
   "id": "5038f197-cec0-481d-a6aa-eb491268b711",
   "metadata": {},
   "outputs": [
    {
     "name": "stdout",
     "output_type": "stream",
     "text": [
      "P(3 women) = 0.14285714285714285\n"
     ]
    }
   ],
   "source": [
    "WWW = 1/7\n",
    "print(\"P(3 women) = \" + str(WWW))"
   ]
  }
 ],
 "metadata": {
  "kernelspec": {
   "display_name": "Python 3 (ipykernel)",
   "language": "python",
   "name": "python3"
  },
  "language_info": {
   "codemirror_mode": {
    "name": "ipython",
    "version": 3
   },
   "file_extension": ".py",
   "mimetype": "text/x-python",
   "name": "python",
   "nbconvert_exporter": "python",
   "pygments_lexer": "ipython3",
   "version": "3.12.1"
  }
 },
 "nbformat": 4,
 "nbformat_minor": 5
}

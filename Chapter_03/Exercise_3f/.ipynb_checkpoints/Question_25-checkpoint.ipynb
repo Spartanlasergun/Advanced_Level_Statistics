{
 "cells": [
  {
   "cell_type": "markdown",
   "id": "890ab467-c2c2-4e7b-b3ff-f77c1285fae4",
   "metadata": {},
   "source": [
    "# Question 25\n",
    "-----"
   ]
  },
  {
   "cell_type": "code",
   "execution_count": 11,
   "id": "a3c6d87a-7b21-4d38-b45d-0520c3fa3e1c",
   "metadata": {},
   "outputs": [
    {
     "name": "stdout",
     "output_type": "stream",
     "text": [
      "even number combinations = 130.0\n"
     ]
    }
   ],
   "source": [
    "import math\n",
    "\n",
    "numb4 = math.factorial(4)\n",
    "numb3 = math.factorial(4) / (math.factorial(1))\n",
    "numb2 = math.factorial(4) / (math.factorial(2))\n",
    "numb1 = math.factorial(4) / (math.factorial(3))\n",
    "evens = ((numb4 + numb3 + numb2 + numb1) * 2) + 2\n",
    "print(\"even number combinations = \" + str(evens))"
   ]
  }
 ],
 "metadata": {
  "kernelspec": {
   "display_name": "Python 3 (ipykernel)",
   "language": "python",
   "name": "python3"
  },
  "language_info": {
   "codemirror_mode": {
    "name": "ipython",
    "version": 3
   },
   "file_extension": ".py",
   "mimetype": "text/x-python",
   "name": "python",
   "nbconvert_exporter": "python",
   "pygments_lexer": "ipython3",
   "version": "3.12.1"
  }
 },
 "nbformat": 4,
 "nbformat_minor": 5
}

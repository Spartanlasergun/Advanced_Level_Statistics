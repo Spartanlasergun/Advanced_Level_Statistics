{
 "cells": [
  {
   "cell_type": "markdown",
   "id": "8b1fe91f-6432-4070-a991-2e2c1bafb19e",
   "metadata": {},
   "source": [
    "# Question 1\n",
    "-----"
   ]
  },
  {
   "cell_type": "code",
   "execution_count": 2,
   "id": "5577832c-0351-4cfc-99d4-608351c3819f",
   "metadata": {},
   "outputs": [
    {
     "name": "stdout",
     "output_type": "stream",
     "text": [
      "Arrangements = 362880\n"
     ]
    }
   ],
   "source": [
    "import math\n",
    "\n",
    "facetious = math.factorial(9)\n",
    "print(\"Arrangements = \" + str(facetious))"
   ]
  },
  {
   "cell_type": "code",
   "execution_count": 5,
   "id": "7c621e48-0c62-49c7-8461-240a5779bd2c",
   "metadata": {},
   "outputs": [
    {
     "name": "stdout",
     "output_type": "stream",
     "text": [
      "P(Begin with  F and End with S) = 0.013888888888888888\n"
     ]
    }
   ],
   "source": [
    "FS = math.factorial(7)/facetious\n",
    "print(\"P(Begin with  F and End with S) = \" + str(FS))"
   ]
  }
 ],
 "metadata": {
  "kernelspec": {
   "display_name": "Python 3 (ipykernel)",
   "language": "python",
   "name": "python3"
  },
  "language_info": {
   "codemirror_mode": {
    "name": "ipython",
    "version": 3
   },
   "file_extension": ".py",
   "mimetype": "text/x-python",
   "name": "python",
   "nbconvert_exporter": "python",
   "pygments_lexer": "ipython3",
   "version": "3.12.1"
  }
 },
 "nbformat": 4,
 "nbformat_minor": 5
}

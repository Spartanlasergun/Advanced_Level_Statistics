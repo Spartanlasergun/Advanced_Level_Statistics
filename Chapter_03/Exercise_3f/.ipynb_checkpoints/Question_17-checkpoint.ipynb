{
 "cells": [
  {
   "cell_type": "markdown",
   "id": "9f1fff4d-f427-4874-aa31-e54b93e83074",
   "metadata": {},
   "source": [
    "# Question 17\n",
    "-----"
   ]
  },
  {
   "cell_type": "markdown",
   "id": "69ca9d0e-fc25-4eae-a8a7-a8fb85276afe",
   "metadata": {},
   "source": [
    "Question too ambiguous for solution"
   ]
  }
 ],
 "metadata": {
  "kernelspec": {
   "display_name": "Python 3 (ipykernel)",
   "language": "python",
   "name": "python3"
  },
  "language_info": {
   "codemirror_mode": {
    "name": "ipython",
    "version": 3
   },
   "file_extension": ".py",
   "mimetype": "text/x-python",
   "name": "python",
   "nbconvert_exporter": "python",
   "pygments_lexer": "ipython3",
   "version": "3.12.1"
  }
 },
 "nbformat": 4,
 "nbformat_minor": 5
}

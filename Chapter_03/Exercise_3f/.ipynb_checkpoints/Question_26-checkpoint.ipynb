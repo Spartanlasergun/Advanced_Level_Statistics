{
 "cells": [
  {
   "cell_type": "markdown",
   "id": "fd2188ca-e51e-48ac-9571-d5a5001a7aae",
   "metadata": {},
   "source": [
    "# Question 26\n",
    "-----"
   ]
  },
  {
   "cell_type": "code",
   "execution_count": 3,
   "id": "dfeae957-02c5-4aad-9705-1c35cc961e63",
   "metadata": {},
   "outputs": [
    {
     "name": "stdout",
     "output_type": "stream",
     "text": [
      "360.0\n"
     ]
    }
   ],
   "source": [
    "import math\n",
    "\n",
    "D6 = (math.factorial(6) / (math.factorial(4) * math.factorial(2))) * math.factorial(4)\n",
    "print(D6)"
   ]
  },
  {
   "cell_type": "code",
   "execution_count": 4,
   "id": "9680dbe2-3aed-45fe-a2f6-3dbc1aeee6bb",
   "metadata": {},
   "outputs": [
    {
     "name": "stdout",
     "output_type": "stream",
     "text": [
      "6.0\n"
     ]
    }
   ],
   "source": [
    "WWRR = (math.factorial(4) / (math.factorial(2) * math.factorial(2))) \n",
    "print(WWRR)"
   ]
  },
  {
   "cell_type": "code",
   "execution_count": 6,
   "id": "a85f2892-d0b2-4791-affd-f715dca1da3a",
   "metadata": {},
   "outputs": [
    {
     "name": "stdout",
     "output_type": "stream",
     "text": [
      "12.0\n"
     ]
    }
   ],
   "source": [
    "RRWB = (math.factorial(4) / (math.factorial(3) * math.factorial(1)))   *3\n",
    "print(RRWB)"
   ]
  },
  {
   "cell_type": "code",
   "execution_count": 12,
   "id": "a393e4d2-ee5b-4fc0-a0d0-da83426e9242",
   "metadata": {},
   "outputs": [
    {
     "name": "stdout",
     "output_type": "stream",
     "text": [
      "360.0\n"
     ]
    }
   ],
   "source": [
    "twelve = (math.factorial(6) / (math.factorial(4) * math.factorial(2))) * math.factorial(4)\n",
    "print(twelve)"
   ]
  },
  {
   "cell_type": "code",
   "execution_count": null,
   "id": "803463fc-d315-412c-8b5c-2bb4438fdd84",
   "metadata": {},
   "outputs": [],
   "source": []
  }
 ],
 "metadata": {
  "kernelspec": {
   "display_name": "Python 3 (ipykernel)",
   "language": "python",
   "name": "python3"
  },
  "language_info": {
   "codemirror_mode": {
    "name": "ipython",
    "version": 3
   },
   "file_extension": ".py",
   "mimetype": "text/x-python",
   "name": "python",
   "nbconvert_exporter": "python",
   "pygments_lexer": "ipython3",
   "version": "3.12.1"
  }
 },
 "nbformat": 4,
 "nbformat_minor": 5
}

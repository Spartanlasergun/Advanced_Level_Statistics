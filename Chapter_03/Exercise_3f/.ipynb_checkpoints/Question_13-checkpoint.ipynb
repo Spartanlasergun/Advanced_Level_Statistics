{
 "cells": [
  {
   "cell_type": "markdown",
   "id": "b44e48ac-f9a9-43ca-a4ee-47eabd8767dd",
   "metadata": {},
   "source": [
    "# Question 13\n",
    "-----"
   ]
  },
  {
   "cell_type": "code",
   "execution_count": 8,
   "id": "c8ac96bf-5972-4524-9804-9991b1f714bc",
   "metadata": {},
   "outputs": [
    {
     "name": "stdout",
     "output_type": "stream",
     "text": [
      "P(4 women) = 0.07142857142857142\n"
     ]
    }
   ],
   "source": [
    "import math\n",
    "\n",
    "n = 10\n",
    "r = 4\n",
    "combinations = ((math.factorial(n)) / ((math.factorial(r) * (math.factorial(n-r)))))\n",
    "WWWW = ((math.factorial(6)) / ((math.factorial(4) * (math.factorial(2)))))\n",
    "prob = WWWW/combinations\n",
    "print(\"P(4 women) = \" + str(prob))"
   ]
  },
  {
   "cell_type": "code",
   "execution_count": 9,
   "id": "4be16f3e-5742-461a-ba60-566f0eb1df64",
   "metadata": {},
   "outputs": [
    {
     "name": "stdout",
     "output_type": "stream",
     "text": [
      "P(2W2M) = 0.42857142857142855\n"
     ]
    }
   ],
   "source": [
    "WWMM = ((math.factorial(6)) / ((math.factorial(2) * (math.factorial(4))))) * ((math.factorial(4)) / ((math.factorial(2) * (math.factorial(2)))))\n",
    "prob_2 = WWMM /combinations\n",
    "print(\"P(2W2M) = \" + str(prob_2))"
   ]
  },
  {
   "cell_type": "code",
   "execution_count": 10,
   "id": "988711df-46c0-43d1-8272-ead134dea600",
   "metadata": {},
   "outputs": [
    {
     "name": "stdout",
     "output_type": "stream",
     "text": [
      "P(3 sisters) = 0.03333333333333333\n"
     ]
    }
   ],
   "source": [
    "SSS = ((math.factorial(7)) / ((math.factorial(1) * (math.factorial(6)))))\n",
    "prob_3 = SSS / combinations\n",
    "print(\"P(3 sisters) = \" + str(prob_3))"
   ]
  }
 ],
 "metadata": {
  "kernelspec": {
   "display_name": "Python 3 (ipykernel)",
   "language": "python",
   "name": "python3"
  },
  "language_info": {
   "codemirror_mode": {
    "name": "ipython",
    "version": 3
   },
   "file_extension": ".py",
   "mimetype": "text/x-python",
   "name": "python",
   "nbconvert_exporter": "python",
   "pygments_lexer": "ipython3",
   "version": "3.12.1"
  }
 },
 "nbformat": 4,
 "nbformat_minor": 5
}

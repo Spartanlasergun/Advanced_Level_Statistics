{
 "cells": [
  {
   "cell_type": "markdown",
   "id": "9168a1c5-522d-42e4-b2fa-604710adeb58",
   "metadata": {},
   "source": [
    "# Question 23\n",
    "-----"
   ]
  },
  {
   "cell_type": "code",
   "execution_count": 4,
   "id": "2fd0bacf-ad00-4fe4-bc52-cc37109fcccd",
   "metadata": {},
   "outputs": [
    {
     "name": "stdout",
     "output_type": "stream",
     "text": [
      "P(winning) = 2.505210838544172e-07\n"
     ]
    }
   ],
   "source": [
    "import math\n",
    "\n",
    "guesses = math.factorial(12) / math.factorial(4)\n",
    "prob = 5 / guesses\n",
    "print(\"P(winning) = \" + str(prob))"
   ]
  },
  {
   "cell_type": "code",
   "execution_count": 5,
   "id": "e0df2e2c-9750-4d48-aad6-1fe4495bf551",
   "metadata": {},
   "outputs": [
    {
     "name": "stdout",
     "output_type": "stream",
     "text": [
      "80% chance = 3193344.0000000005 entries\n"
     ]
    }
   ],
   "source": [
    "percent80 = 0.8 / prob\n",
    "print(\"80% chance = \" + str(percent80) + \" entries\")"
   ]
  }
 ],
 "metadata": {
  "kernelspec": {
   "display_name": "Python 3 (ipykernel)",
   "language": "python",
   "name": "python3"
  },
  "language_info": {
   "codemirror_mode": {
    "name": "ipython",
    "version": 3
   },
   "file_extension": ".py",
   "mimetype": "text/x-python",
   "name": "python",
   "nbconvert_exporter": "python",
   "pygments_lexer": "ipython3",
   "version": "3.12.1"
  }
 },
 "nbformat": 4,
 "nbformat_minor": 5
}

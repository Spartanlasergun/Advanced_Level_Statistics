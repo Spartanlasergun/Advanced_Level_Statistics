{
 "cells": [
  {
   "cell_type": "markdown",
   "id": "74f93bab-f8be-41bf-9cfe-fbb2e01ccfbc",
   "metadata": {},
   "source": [
    "# Question 16\n",
    "-----"
   ]
  },
  {
   "cell_type": "code",
   "execution_count": 28,
   "id": "588e6314-d32a-46d0-99b3-3a2865d9b20b",
   "metadata": {},
   "outputs": [
    {
     "name": "stdout",
     "output_type": "stream",
     "text": [
      "P(at least one vowel) = 0.8809523809523809\n"
     ]
    }
   ],
   "source": [
    "import math\n",
    "\n",
    "combinations = ((math.factorial(9)) / (math.factorial(4) * math.factorial(5)))\n",
    "perm = math.factorial(9) / math.factorial(5)\n",
    "\n",
    "VVVC = ((math.factorial(6)) / ((math.factorial(1)) * math.factorial(5)))\n",
    "VVCC = ((math.factorial(6)) / ((math.factorial(2)) * math.factorial(4))) * 3\n",
    "VCCC = ((math.factorial(6)) / ((math.factorial(3)) * math.factorial(3))) * 3\n",
    "\n",
    "Vcomb = VVVC + VVCC + VCCC\n",
    "prob = Vcomb / combinations\n",
    "print(\"P(at least one vowel) = \" + str(prob))"
   ]
  }
 ],
 "metadata": {
  "kernelspec": {
   "display_name": "Python 3 (ipykernel)",
   "language": "python",
   "name": "python3"
  },
  "language_info": {
   "codemirror_mode": {
    "name": "ipython",
    "version": 3
   },
   "file_extension": ".py",
   "mimetype": "text/x-python",
   "name": "python",
   "nbconvert_exporter": "python",
   "pygments_lexer": "ipython3",
   "version": "3.12.1"
  }
 },
 "nbformat": 4,
 "nbformat_minor": 5
}

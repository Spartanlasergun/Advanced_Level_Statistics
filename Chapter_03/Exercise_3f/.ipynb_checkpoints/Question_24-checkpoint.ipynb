{
 "cells": [
  {
   "cell_type": "markdown",
   "id": "1f4f1661-f9f3-4eae-81f8-d72594d46b18",
   "metadata": {},
   "source": [
    "# Question 24\n",
    "-----"
   ]
  },
  {
   "cell_type": "code",
   "execution_count": 19,
   "id": "15e5a215-cffb-438e-86eb-c4028d321b5c",
   "metadata": {},
   "outputs": [
    {
     "name": "stdout",
     "output_type": "stream",
     "text": [
      "P(No letter O = 0.19999999999999998\n"
     ]
    }
   ],
   "source": [
    "import math\n",
    "\n",
    "NoO = (4/6) * (3/5) * (2/4)  \n",
    "print(\"P(No letter O = \" + str(NoO))"
   ]
  },
  {
   "cell_type": "code",
   "execution_count": 20,
   "id": "9b650bdc-42bf-4b77-9a90-6074495e85a7",
   "metadata": {},
   "outputs": [
    {
     "name": "stdout",
     "output_type": "stream",
     "text": [
      "P(both OO's) = 0.2\n"
     ]
    }
   ],
   "source": [
    "combOO = (2/6) * (1/5) * (1/4) * math.factorial(3) * math.factorial(2)\n",
    "print(\"P(both OO's) = \" + str(combOO))"
   ]
  }
 ],
 "metadata": {
  "kernelspec": {
   "display_name": "Python 3 (ipykernel)",
   "language": "python",
   "name": "python3"
  },
  "language_info": {
   "codemirror_mode": {
    "name": "ipython",
    "version": 3
   },
   "file_extension": ".py",
   "mimetype": "text/x-python",
   "name": "python",
   "nbconvert_exporter": "python",
   "pygments_lexer": "ipython3",
   "version": "3.12.1"
  }
 },
 "nbformat": 4,
 "nbformat_minor": 5
}

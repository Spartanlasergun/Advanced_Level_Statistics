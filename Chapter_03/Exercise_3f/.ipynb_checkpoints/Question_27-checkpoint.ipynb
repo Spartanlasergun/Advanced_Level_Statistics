{
 "cells": [
  {
   "cell_type": "markdown",
   "id": "745739f8-c128-4e37-8fdb-73a65f904fa9",
   "metadata": {},
   "source": [
    "# Question 27\n",
    "-----"
   ]
  },
  {
   "cell_type": "code",
   "execution_count": 10,
   "id": "e24a2650-00f4-4aa2-85c4-375f8558fc10",
   "metadata": {},
   "outputs": [
    {
     "name": "stdout",
     "output_type": "stream",
     "text": [
      "permutations = 64.0\n"
     ]
    }
   ],
   "source": [
    "import math\n",
    "\n",
    "perm4 = math.factorial(4)\n",
    "perm3 = math.factorial(4) / math.factorial(1)\n",
    "perm2 = math.factorial(4) / math.factorial(2)\n",
    "perm1 = 4\n",
    "comb = perm4 + perm3 + perm2 + perm1\n",
    "print(\"permutations = \" + str(comb))"
   ]
  },
  {
   "cell_type": "code",
   "execution_count": 11,
   "id": "a737c1f5-1b43-4469-8488-792581113173",
   "metadata": {},
   "outputs": [
    {
     "name": "stdout",
     "output_type": "stream",
     "text": [
      "odd greater than 800 = 18.0\n"
     ]
    }
   ],
   "source": [
    "odd4 = math.factorial(3) * 2\n",
    "odd3 = (math.factorial(3) / math.factorial(2)) * 2\n",
    "odds = odd4 + odd3\n",
    "print(\"odd greater than 800 = \" + str(odds))"
   ]
  },
  {
   "cell_type": "code",
   "execution_count": 12,
   "id": "b77d46ff-1d0d-4ce7-baa9-d5375247d19b",
   "metadata": {},
   "outputs": [
    {
     "name": "stdout",
     "output_type": "stream",
     "text": [
      "P(less than 300) = 0.65625\n"
     ]
    }
   ],
   "source": [
    "l300  = math.factorial(3) + perm2 + perm1\n",
    "prob = 1 - (l300 / 64)\n",
    "print(\"P(less than 300) = \" + str(prob))"
   ]
  }
 ],
 "metadata": {
  "kernelspec": {
   "display_name": "Python 3 (ipykernel)",
   "language": "python",
   "name": "python3"
  },
  "language_info": {
   "codemirror_mode": {
    "name": "ipython",
    "version": 3
   },
   "file_extension": ".py",
   "mimetype": "text/x-python",
   "name": "python",
   "nbconvert_exporter": "python",
   "pygments_lexer": "ipython3",
   "version": "3.12.1"
  }
 },
 "nbformat": 4,
 "nbformat_minor": 5
}

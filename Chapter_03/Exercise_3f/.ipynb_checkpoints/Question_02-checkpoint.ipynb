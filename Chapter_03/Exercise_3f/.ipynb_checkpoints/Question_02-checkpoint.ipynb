{
 "cells": [
  {
   "cell_type": "markdown",
   "id": "cc4f9da8-2dae-4c9b-bb37-894bcb9b0eb0",
   "metadata": {},
   "source": [
    "# Question 2\n",
    "-----"
   ]
  },
  {
   "cell_type": "code",
   "execution_count": 8,
   "id": "bd022307-5771-44e6-82b7-8f7b98397560",
   "metadata": {},
   "outputs": [
    {
     "name": "stdout",
     "output_type": "stream",
     "text": [
      "Arrangements = 720\n"
     ]
    }
   ],
   "source": [
    "import math\n",
    "round7 = math.factorial(6)\n",
    "print(\"Arrangements = \" + str(round7))"
   ]
  },
  {
   "cell_type": "code",
   "execution_count": 17,
   "id": "020ef9ac-c005-4164-a84c-649c00c28f19",
   "metadata": {},
   "outputs": [
    {
     "name": "stdout",
     "output_type": "stream",
     "text": [
      "P(Husband and Wife = 0.3333333333333333\n"
     ]
    }
   ],
   "source": [
    "HW = (math.factorial(2) * math.factorial(5))/round7\n",
    "print(\"P(Husband and Wife = \" + str(HW))"
   ]
  }
 ],
 "metadata": {
  "kernelspec": {
   "display_name": "Python 3 (ipykernel)",
   "language": "python",
   "name": "python3"
  },
  "language_info": {
   "codemirror_mode": {
    "name": "ipython",
    "version": 3
   },
   "file_extension": ".py",
   "mimetype": "text/x-python",
   "name": "python",
   "nbconvert_exporter": "python",
   "pygments_lexer": "ipython3",
   "version": "3.12.1"
  }
 },
 "nbformat": 4,
 "nbformat_minor": 5
}

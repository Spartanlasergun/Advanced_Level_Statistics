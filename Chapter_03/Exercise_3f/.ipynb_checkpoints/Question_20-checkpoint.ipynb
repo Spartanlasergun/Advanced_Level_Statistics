{
 "cells": [
  {
   "cell_type": "markdown",
   "id": "dc87e06d-7d2c-48d2-9673-3e752ddeb9fb",
   "metadata": {},
   "source": [
    "# Question 20\n",
    "-----"
   ]
  },
  {
   "cell_type": "code",
   "execution_count": 11,
   "id": "496399e8-c427-4886-9aad-319ecc4f21ed",
   "metadata": {},
   "outputs": [
    {
     "name": "stdout",
     "output_type": "stream",
     "text": [
      "winner combinations = 5040.0\n"
     ]
    }
   ],
   "source": [
    "import math\n",
    "\n",
    "Wcomb = math.factorial(10) / math.factorial(6)\n",
    "print(\"winner combinations = \" + str(Wcomb))"
   ]
  },
  {
   "cell_type": "code",
   "execution_count": 12,
   "id": "37324a2a-f1ef-4e99-bd5f-927789c5a317",
   "metadata": {},
   "outputs": [
    {
     "name": "stdout",
     "output_type": "stream",
     "text": [
      "Smith and Jones lose = 1680.0\n"
     ]
    }
   ],
   "source": [
    "SansSJ = math.factorial(8)/ math.factorial(4)\n",
    "print(\"Smith and Jones lose = \"+ str(SansSJ))"
   ]
  },
  {
   "cell_type": "code",
   "execution_count": 13,
   "id": "384deb10-25c8-4410-b7d8-28416d8a28eb",
   "metadata": {},
   "outputs": [
    {
     "name": "stdout",
     "output_type": "stream",
     "text": [
      "Smith and Jones win = 672.0\n"
     ]
    }
   ],
   "source": [
    "WSJ = (math.factorial(8) / math.factorial(6)) * math.factorial(3) * 2\n",
    "print(\"Smith and Jones win = \" + str(WSJ))"
   ]
  }
 ],
 "metadata": {
  "kernelspec": {
   "display_name": "Python 3 (ipykernel)",
   "language": "python",
   "name": "python3"
  },
  "language_info": {
   "codemirror_mode": {
    "name": "ipython",
    "version": 3
   },
   "file_extension": ".py",
   "mimetype": "text/x-python",
   "name": "python",
   "nbconvert_exporter": "python",
   "pygments_lexer": "ipython3",
   "version": "3.12.1"
  }
 },
 "nbformat": 4,
 "nbformat_minor": 5
}

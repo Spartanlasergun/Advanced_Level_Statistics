{
 "cells": [
  {
   "cell_type": "markdown",
   "id": "9fcf969f-2a1e-45ad-be2f-75e8ab3c28e3",
   "metadata": {},
   "source": [
    "# Question 4\n",
    "-----"
   ]
  },
  {
   "cell_type": "code",
   "execution_count": 6,
   "id": "fcf7c3bb-cdc7-4e8b-b0b7-1af2653d26ee",
   "metadata": {},
   "outputs": [
    {
     "name": "stdout",
     "output_type": "stream",
     "text": [
      "P(separated) = 0.8181818181818181\n"
     ]
    }
   ],
   "source": [
    "import math\n",
    "n = 11\n",
    "together = math.factorial(n-1)\n",
    "combinations = math.factorial(n) / (2)\n",
    "separated = 1 - (together/combinations)\n",
    "print(\"P(separated) = \" + str(separated))"
   ]
  }
 ],
 "metadata": {
  "kernelspec": {
   "display_name": "Python 3 (ipykernel)",
   "language": "python",
   "name": "python3"
  },
  "language_info": {
   "codemirror_mode": {
    "name": "ipython",
    "version": 3
   },
   "file_extension": ".py",
   "mimetype": "text/x-python",
   "name": "python",
   "nbconvert_exporter": "python",
   "pygments_lexer": "ipython3",
   "version": "3.12.1"
  }
 },
 "nbformat": 4,
 "nbformat_minor": 5
}

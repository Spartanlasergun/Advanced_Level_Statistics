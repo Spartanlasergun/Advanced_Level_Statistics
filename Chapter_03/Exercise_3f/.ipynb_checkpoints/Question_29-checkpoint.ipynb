{
 "cells": [
  {
   "cell_type": "markdown",
   "id": "aa542974-3fd4-4e90-bb7c-b46e14eec55c",
   "metadata": {},
   "source": [
    "# Question 29\n",
    "----"
   ]
  },
  {
   "cell_type": "code",
   "execution_count": 23,
   "id": "3c23fe39-a9ce-4a72-94fa-9b6426947faa",
   "metadata": {},
   "outputs": [
    {
     "name": "stdout",
     "output_type": "stream",
     "text": [
      "exactly two men = 75.0\n"
     ]
    }
   ],
   "source": [
    "import math\n",
    "\n",
    "MMWWWW = ((math.factorial(6)) / (math.factorial(2) * math.factorial(4))) * ((math.factorial(5)) / (math.factorial(4) * math.factorial(1)))\n",
    "print(\"exactly two men = \" + str(MMWWWW))"
   ]
  },
  {
   "cell_type": "code",
   "execution_count": 24,
   "id": "b6d6564b-f0f0-46fd-ac89-cc4a677b9d6c",
   "metadata": {},
   "outputs": [
    {
     "name": "stdout",
     "output_type": "stream",
     "text": [
      "at least 2 men = 456.0\n"
     ]
    }
   ],
   "source": [
    "MMMWWW = ((math.factorial(6)) / (math.factorial(3) * math.factorial(3))) * ((math.factorial(5)) / (math.factorial(3) * math.factorial(2)))\n",
    "MMMMWW = ((math.factorial(6)) / (math.factorial(4) * math.factorial(2))) * ((math.factorial(5)) / (math.factorial(2) * math.factorial(3)))\n",
    "MMMMMW = ((math.factorial(6)) / (math.factorial(5) * math.factorial(1))) * ((math.factorial(5)) / (math.factorial(1) * math.factorial(4)))\n",
    "MMMMMM = 1\n",
    "atleast2men = MMWWWW + MMMWWW + MMMMWW + MMMMMW + 1\n",
    "print(\"at least 2 men = \" + str(atleast2men))"
   ]
  },
  {
   "cell_type": "code",
   "execution_count": 25,
   "id": "e1ea89ca-b3fc-48a2-b950-ca3e0865a275",
   "metadata": {},
   "outputs": [
    {
     "name": "stdout",
     "output_type": "stream",
     "text": [
      "P(more men than women) = 0.3969298245614035\n"
     ]
    }
   ],
   "source": [
    "moremen = MMMMWW + MMMMMW + MMMMMM\n",
    "prob = moremen / atleast2men\n",
    "print(\"P(more men than women) = \" + str(prob))"
   ]
  },
  {
   "cell_type": "code",
   "execution_count": 26,
   "id": "9d97b6a1-c5e2-4ba1-a197-298b153a7930",
   "metadata": {},
   "outputs": [
    {
     "name": "stdout",
     "output_type": "stream",
     "text": [
      "total seating arrangements = 720\n"
     ]
    }
   ],
   "source": [
    "seating = math.factorial(6)\n",
    "print(\"total seating arrangements = \" + str(seating))"
   ]
  },
  {
   "cell_type": "code",
   "execution_count": 27,
   "id": "d9fed909-089c-47da-9cda-bbdbf4c17446",
   "metadata": {},
   "outputs": [
    {
     "name": "stdout",
     "output_type": "stream",
     "text": [
      "sitting alternately = 72\n"
     ]
    }
   ],
   "source": [
    "unique = math.factorial(3) * math.factorial(3) * 2\n",
    "print(\"sitting alternately = \" + str(unique))"
   ]
  }
 ],
 "metadata": {
  "kernelspec": {
   "display_name": "Python 3 (ipykernel)",
   "language": "python",
   "name": "python3"
  },
  "language_info": {
   "codemirror_mode": {
    "name": "ipython",
    "version": 3
   },
   "file_extension": ".py",
   "mimetype": "text/x-python",
   "name": "python",
   "nbconvert_exporter": "python",
   "pygments_lexer": "ipython3",
   "version": "3.12.1"
  }
 },
 "nbformat": 4,
 "nbformat_minor": 5
}

{
 "cells": [
  {
   "cell_type": "markdown",
   "id": "e21ca203-2102-45f9-87a9-056ae3f3aff5",
   "metadata": {},
   "source": [
    "# Question 19\n",
    "-----"
   ]
  },
  {
   "cell_type": "code",
   "execution_count": 3,
   "id": "c34412fb-fda8-49af-a0af-118f1354663d",
   "metadata": {},
   "outputs": [
    {
     "name": "stdout",
     "output_type": "stream",
     "text": [
      "P(exchanges) = 420.0\n"
     ]
    }
   ],
   "source": [
    "import math\n",
    "\n",
    "n = 21\n",
    "r = 1\n",
    "combinations = ((math.factorial(21)) / ((math.factorial(1)) * (math.factorial(20))))\n",
    "exchanges = combinations * 20\n",
    "print(\"P(exchanges) = \" + str(exchanges))"
   ]
  },
  {
   "cell_type": "code",
   "execution_count": 6,
   "id": "dde90e57-44c3-4b22-8223-6283b95e7a3b",
   "metadata": {},
   "outputs": [
    {
     "name": "stdout",
     "output_type": "stream",
     "text": [
      "combinations boys = 252.0\n",
      "combinations girls = 462.0\n"
     ]
    }
   ],
   "source": [
    "boys = ((math.factorial(10)) / ((math.factorial(5)) * (math.factorial(5))))\n",
    "girls = ((math.factorial(11)) / ((math.factorial(6)) * (math.factorial(5))))\n",
    "print(\"combinations boys = \" + str(boys))\n",
    "print(\"combinations girls = \" + str(girls))"
   ]
  },
  {
   "cell_type": "code",
   "execution_count": 24,
   "id": "caf7c2cb-9bca-4f83-9c71-848368ce4c0e",
   "metadata": {},
   "outputs": [
    {
     "name": "stdout",
     "output_type": "stream",
     "text": [
      "163.05882352941177\n"
     ]
    }
   ],
   "source": [
    "boyst = ((math.factorial(10)) / ((math.factorial(5)) * (math.factorial(5))))\n",
    "girlst = ((math.factorial(11)) / ((math.factorial(5)) * (math.factorial(6))))\n",
    "tennis = (boyst * girlst) / (boyst + girlst)\n",
    "print(tennis)"
   ]
  },
  {
   "cell_type": "code",
   "execution_count": 15,
   "id": "6eed2a17-73ab-4d5d-9de6-9c7f38b39929",
   "metadata": {},
   "outputs": [
    {
     "name": "stdout",
     "output_type": "stream",
     "text": [
      "0.3308270676691729\n"
     ]
    }
   ],
   "source": [
    "GGGB = ((math.factorial(10)) / ((math.factorial(1)) * (math.factorial(9)))) * ((math.factorial(11)) / ((math.factorial(3)) * (math.factorial(8))))\n",
    "GGGG = ((math.factorial(11)) / ((math.factorial(4)) * (math.factorial(7))))\n",
    "majority = GGGB + GGGG\n",
    "comb = ((math.factorial(21)) / ((math.factorial(4)) * (math.factorial(17))))\n",
    "prob = majority / comb\n",
    "print(prob)"
   ]
  }
 ],
 "metadata": {
  "kernelspec": {
   "display_name": "Python 3 (ipykernel)",
   "language": "python",
   "name": "python3"
  },
  "language_info": {
   "codemirror_mode": {
    "name": "ipython",
    "version": 3
   },
   "file_extension": ".py",
   "mimetype": "text/x-python",
   "name": "python",
   "nbconvert_exporter": "python",
   "pygments_lexer": "ipython3",
   "version": "3.12.1"
  }
 },
 "nbformat": 4,
 "nbformat_minor": 5
}

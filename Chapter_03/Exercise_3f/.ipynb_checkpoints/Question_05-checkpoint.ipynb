{
 "cells": [
  {
   "cell_type": "markdown",
   "id": "bdef274a-5454-45e6-bf06-311cb0188f70",
   "metadata": {},
   "source": [
    "# Question 5\n",
    "-----"
   ]
  },
  {
   "cell_type": "code",
   "execution_count": 8,
   "id": "3f81ddea-a92a-4c1e-8d2b-af7435e9dbea",
   "metadata": {},
   "outputs": [
    {
     "name": "stdout",
     "output_type": "stream",
     "text": [
      "P(alternate) = 0.007936507936507936\n"
     ]
    }
   ],
   "source": [
    "import math\n",
    "\n",
    "combinations = math.factorial(10) / math.factorial(2)\n",
    "VC = math.factorial(5) * math.factorial(5)\n",
    "alternate = (VC / combinations)\n",
    "print(\"P(alternate) = \" + str(alternate))"
   ]
  }
 ],
 "metadata": {
  "kernelspec": {
   "display_name": "Python 3 (ipykernel)",
   "language": "python",
   "name": "python3"
  },
  "language_info": {
   "codemirror_mode": {
    "name": "ipython",
    "version": 3
   },
   "file_extension": ".py",
   "mimetype": "text/x-python",
   "name": "python",
   "nbconvert_exporter": "python",
   "pygments_lexer": "ipython3",
   "version": "3.12.1"
  }
 },
 "nbformat": 4,
 "nbformat_minor": 5
}

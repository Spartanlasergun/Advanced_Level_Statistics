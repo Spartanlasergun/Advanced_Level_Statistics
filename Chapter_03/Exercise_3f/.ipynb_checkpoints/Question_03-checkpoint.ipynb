{
 "cells": [
  {
   "cell_type": "markdown",
   "id": "88dcec30-b768-4855-8fe5-40ea7d70cbc6",
   "metadata": {},
   "source": [
    "# Question 3\n",
    "-----"
   ]
  },
  {
   "cell_type": "code",
   "execution_count": 8,
   "id": "06270328-bd58-47c1-9abd-4314faabfe8d",
   "metadata": {},
   "outputs": [
    {
     "name": "stdout",
     "output_type": "stream",
     "text": [
      "Arrangements = 8709120\n"
     ]
    }
   ],
   "source": [
    "import math\n",
    "together = math.factorial(9) * math.factorial(4)\n",
    "print(\"Arrangements = \" + str(together))"
   ]
  },
  {
   "cell_type": "code",
   "execution_count": 9,
   "id": "30e15cd6-9b31-4a6c-a678-4c4ef863e4b6",
   "metadata": {},
   "outputs": [
    {
     "name": "stdout",
     "output_type": "stream",
     "text": [
      "P(not together) = 0.9818181818181818\n"
     ]
    }
   ],
   "source": [
    "combinations = math.factorial(12)\n",
    "nottogether = 1 - (together / combinations)\n",
    "print(\"P(not together) = \" + str(nottogether))"
   ]
  }
 ],
 "metadata": {
  "kernelspec": {
   "display_name": "Python 3 (ipykernel)",
   "language": "python",
   "name": "python3"
  },
  "language_info": {
   "codemirror_mode": {
    "name": "ipython",
    "version": 3
   },
   "file_extension": ".py",
   "mimetype": "text/x-python",
   "name": "python",
   "nbconvert_exporter": "python",
   "pygments_lexer": "ipython3",
   "version": "3.12.1"
  }
 },
 "nbformat": 4,
 "nbformat_minor": 5
}

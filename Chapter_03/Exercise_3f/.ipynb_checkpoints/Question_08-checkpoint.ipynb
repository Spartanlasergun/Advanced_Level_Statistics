{
 "cells": [
  {
   "cell_type": "markdown",
   "id": "acdfdc24-b037-426c-80e9-2657b21fad4b",
   "metadata": {},
   "source": [
    "# Question 8\n",
    "-----"
   ]
  },
  {
   "cell_type": "code",
   "execution_count": 9,
   "id": "5e51865e-bf8b-4dfe-a351-c35d111dd6f2",
   "metadata": {},
   "outputs": [
    {
     "name": "stdout",
     "output_type": "stream",
     "text": [
      "P(2 girls) = 0.1830065359477124\n"
     ]
    }
   ],
   "source": [
    "girls2 = (4/9) * (7/17)\n",
    "print(\"P(2 girls) = \" + str(girls2))"
   ]
  }
 ],
 "metadata": {
  "kernelspec": {
   "display_name": "Python 3 (ipykernel)",
   "language": "python",
   "name": "python3"
  },
  "language_info": {
   "codemirror_mode": {
    "name": "ipython",
    "version": 3
   },
   "file_extension": ".py",
   "mimetype": "text/x-python",
   "name": "python",
   "nbconvert_exporter": "python",
   "pygments_lexer": "ipython3",
   "version": "3.12.1"
  }
 },
 "nbformat": 4,
 "nbformat_minor": 5
}

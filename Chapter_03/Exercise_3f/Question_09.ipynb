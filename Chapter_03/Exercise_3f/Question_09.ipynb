{
 "cells": [
  {
   "cell_type": "markdown",
   "id": "104e68dd-7761-4776-b21b-5a0654a2219b",
   "metadata": {},
   "source": [
    "# Question 9\n",
    "-----"
   ]
  },
  {
   "cell_type": "code",
   "execution_count": 45,
   "id": "56c4df1c-7777-4add-8417-baa11f8e3676",
   "metadata": {},
   "outputs": [
    {
     "name": "stdout",
     "output_type": "stream",
     "text": [
      "0.34265734265734266\n"
     ]
    }
   ],
   "source": [
    "import math\n",
    "\n",
    "n = 14\n",
    "r = 5\n",
    "combinations = (math.factorial(n)) / ((math.factorial(r) * (math.factorial(n-r))))\n",
    "MMMWW = ((math.factorial(6)) / ((math.factorial(3) * (math.factorial(3))))) * ((math.factorial(8)) / ((math.factorial(2) * (math.factorial(6)))))\n",
    "MMMMW = ((math.factorial(6)) / ((math.factorial(4) * (math.factorial(2))))) * ((math.factorial(8)) / ((math.factorial(1) * (math.factorial(7)))))\n",
    "MMMMM = ((math.factorial(6)) / ((math.factorial(5) * (math.factorial(1)))))\n",
    "event = MMMWW + MMMMW + MMMMM\n",
    "\n",
    "prob =  event / combinations\n",
    "print(prob)"
   ]
  }
 ],
 "metadata": {
  "kernelspec": {
   "display_name": "Python 3 (ipykernel)",
   "language": "python",
   "name": "python3"
  },
  "language_info": {
   "codemirror_mode": {
    "name": "ipython",
    "version": 3
   },
   "file_extension": ".py",
   "mimetype": "text/x-python",
   "name": "python",
   "nbconvert_exporter": "python",
   "pygments_lexer": "ipython3",
   "version": "3.12.1"
  }
 },
 "nbformat": 4,
 "nbformat_minor": 5
}

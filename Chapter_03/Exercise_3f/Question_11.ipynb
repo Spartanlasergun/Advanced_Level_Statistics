{
 "cells": [
  {
   "cell_type": "markdown",
   "id": "45daada9-e1b2-4b5d-8ca2-22da43bf55d2",
   "metadata": {},
   "source": [
    "# Question 11\n",
    "-----"
   ]
  },
  {
   "cell_type": "code",
   "execution_count": 1,
   "id": "7e781352-124d-44b6-ab0f-492b31c4bfac",
   "metadata": {},
   "outputs": [
    {
     "name": "stdout",
     "output_type": "stream",
     "text": [
      "combinations = 210.0\n"
     ]
    }
   ],
   "source": [
    "import math\n",
    "\n",
    "n = 10\n",
    "r = 4\n",
    "combinations = ((math.factorial(n)) / ((math.factorial(r) * math.factorial(n-r))))\n",
    "print(\"combinations = \" + str(combinations))"
   ]
  },
  {
   "cell_type": "code",
   "execution_count": 111,
   "id": "fc683982-e7b4-4bf9-bd70-2e51ceebadec",
   "metadata": {},
   "outputs": [
    {
     "name": "stdout",
     "output_type": "stream",
     "text": [
      "P(HW) = 0.13333333333333333\n"
     ]
    }
   ],
   "source": [
    "HW = ((math.factorial(8)) / ((math.factorial(2) * math.factorial(6))))\n",
    "prob = HW/combinations\n",
    "print(\"P(HW) = \" + str(prob))"
   ]
  },
  {
   "cell_type": "code",
   "execution_count": 112,
   "id": "e9212946-7a6e-4d87-9b75-420235a677b6",
   "metadata": {},
   "outputs": [
    {
     "name": "stdout",
     "output_type": "stream",
     "text": [
      "P(3 youngest) = 0.03333333333333333\n"
     ]
    }
   ],
   "source": [
    "YYY = ((math.factorial(7)) / ((math.factorial(1) * math.factorial(6))))\n",
    "young = YYY/combinations\n",
    "print(\"P(3 youngest) = \" + str(young))"
   ]
  }
 ],
 "metadata": {
  "kernelspec": {
   "display_name": "Python 3 (ipykernel)",
   "language": "python",
   "name": "python3"
  },
  "language_info": {
   "codemirror_mode": {
    "name": "ipython",
    "version": 3
   },
   "file_extension": ".py",
   "mimetype": "text/x-python",
   "name": "python",
   "nbconvert_exporter": "python",
   "pygments_lexer": "ipython3",
   "version": "3.12.1"
  }
 },
 "nbformat": 4,
 "nbformat_minor": 5
}

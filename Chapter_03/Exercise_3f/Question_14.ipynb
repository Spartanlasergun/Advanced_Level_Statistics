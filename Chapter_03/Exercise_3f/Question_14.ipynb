{
 "cells": [
  {
   "cell_type": "markdown",
   "id": "199fa2bd-ecb7-4051-95dd-2c2a61b829c6",
   "metadata": {},
   "source": [
    "# Question 14\n",
    "-----"
   ]
  },
  {
   "cell_type": "code",
   "execution_count": 58,
   "id": "de12865d-0417-424b-9128-38826bed3215",
   "metadata": {},
   "outputs": [
    {
     "name": "stdout",
     "output_type": "stream",
     "text": [
      "65268.0\n"
     ]
    }
   ],
   "source": [
    "import math\n",
    "\n",
    "batsmen = ((math.factorial(9)) / ((math.factorial(5)) * (math.factorial(4))))\n",
    "bowlers = ((math.factorial(8)) / ((math.factorial(4)) * (math.factorial(4))))\n",
    "keeper = ((math.factorial(3)) / ((math.factorial(1)) * (math.factorial(2))))\n",
    "\n",
    "batsmen2 = ((math.factorial(9)) / ((math.factorial(6) * (math.factorial(3)))))\n",
    "bowlers2 = ((math.factorial(8)) / ((math.factorial(5) * (math.factorial(3)))))\n",
    "\n",
    "teams = (batsmen * bowlers * keeper) + (batsmen2 * bowlers * keeper) + (batsmen * bowlers2 * keeper) \n",
    "print(\"Combinations = \" + str(teams))"
   ]
  },
  {
   "cell_type": "code",
   "execution_count": 59,
   "id": "ce0ddb76-ab52-4463-b83c-520ae8b9f374",
   "metadata": {},
   "outputs": [
    {
     "name": "stdout",
     "output_type": "stream",
     "text": [
      "Combinations = 4263.0\n"
     ]
    }
   ],
   "source": [
    "batsmen = ((math.factorial(7)) / ((math.factorial(5)) * (math.factorial(2))))\n",
    "bowlers = ((math.factorial(7)) / ((math.factorial(4)) * (math.factorial(3))))\n",
    "keeper = ((math.factorial(3)) / ((math.factorial(1)) * (math.factorial(2))))\n",
    "\n",
    "batsmen2 = ((math.factorial(7)) / ((math.factorial(6) * (math.factorial(1)))))\n",
    "bowlers2 = ((math.factorial(7)) / ((math.factorial(5) * (math.factorial(2)))))\n",
    "\n",
    "teams = (batsmen * bowlers * keeper) + (batsmen2 * bowlers * keeper) + (batsmen * bowlers2 * keeper) \n",
    "print(\"Combinations = \" + str(teams))"
   ]
  }
 ],
 "metadata": {
  "kernelspec": {
   "display_name": "Python 3 (ipykernel)",
   "language": "python",
   "name": "python3"
  },
  "language_info": {
   "codemirror_mode": {
    "name": "ipython",
    "version": 3
   },
   "file_extension": ".py",
   "mimetype": "text/x-python",
   "name": "python",
   "nbconvert_exporter": "python",
   "pygments_lexer": "ipython3",
   "version": "3.12.1"
  }
 },
 "nbformat": 4,
 "nbformat_minor": 5
}

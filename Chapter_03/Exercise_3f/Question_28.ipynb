{
 "cells": [
  {
   "cell_type": "markdown",
   "id": "48b83e7e-9bbf-4e92-8d54-4e9c6a3d1df9",
   "metadata": {},
   "source": [
    "# Question 28\n",
    "-----"
   ]
  },
  {
   "cell_type": "code",
   "execution_count": 2,
   "id": "baab4316-af00-45dc-9284-5b6c35212ef7",
   "metadata": {},
   "outputs": [
    {
     "name": "stdout",
     "output_type": "stream",
     "text": [
      "arrangements = 362880\n"
     ]
    }
   ],
   "source": [
    "import math\n",
    "\n",
    "arrangements = math.factorial(9)\n",
    "print(\"arrangements = \" + str(arrangements))"
   ]
  },
  {
   "cell_type": "markdown",
   "id": "14a3c2c8-45d2-4c99-9807-fa4a75ed98be",
   "metadata": {},
   "source": [
    "Part b ommitted due to ambiguity"
   ]
  },
  {
   "cell_type": "code",
   "execution_count": 3,
   "id": "6c4b48a6-28de-4ea7-9495-1ec7bdabf407",
   "metadata": {},
   "outputs": [
    {
     "name": "stdout",
     "output_type": "stream",
     "text": [
      "arrangements based on species = 1260.0\n"
     ]
    }
   ],
   "source": [
    "species = math.factorial(9) / (math.factorial(3) * math.factorial(4) * math.factorial(2))\n",
    "print(\"arrangements based on species = \" + str(species))"
   ]
  },
  {
   "cell_type": "code",
   "execution_count": 5,
   "id": "d005664c-ca14-414c-85f6-9c3f77b0d048",
   "metadata": {},
   "outputs": [
    {
     "name": "stdout",
     "output_type": "stream",
     "text": [
      "P(mangnolias opposite) = 0.5555555555555556\n"
     ]
    }
   ],
   "source": [
    "opp = 1 - (((4/9) * (3/8)) + ((5/9) * (4/8)))\n",
    "print(\"P(mangnolias opposite) = \" + str(opp))"
   ]
  }
 ],
 "metadata": {
  "kernelspec": {
   "display_name": "Python 3 (ipykernel)",
   "language": "python",
   "name": "python3"
  },
  "language_info": {
   "codemirror_mode": {
    "name": "ipython",
    "version": 3
   },
   "file_extension": ".py",
   "mimetype": "text/x-python",
   "name": "python",
   "nbconvert_exporter": "python",
   "pygments_lexer": "ipython3",
   "version": "3.12.1"
  }
 },
 "nbformat": 4,
 "nbformat_minor": 5
}

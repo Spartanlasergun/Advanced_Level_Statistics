{
 "cells": [
  {
   "cell_type": "markdown",
   "id": "48b83e7e-9bbf-4e92-8d54-4e9c6a3d1df9",
   "metadata": {},
   "source": [
    "# Question 28\n",
    "-----"
   ]
  },
  {
   "cell_type": "code",
   "execution_count": 1,
   "id": "baab4316-af00-45dc-9284-5b6c35212ef7",
   "metadata": {},
   "outputs": [
    {
     "name": "stdout",
     "output_type": "stream",
     "text": [
      "arrangements = 362880\n"
     ]
    }
   ],
   "source": [
    "import math\n",
    "\n",
    "arrangements = math.factorial(9)\n",
    "print(\"arrangements = \" + str(arrangements))"
   ]
  },
  {
   "cell_type": "code",
   "execution_count": 7,
   "id": "bc1d0695-aa4e-4309-b682-e19a048ca9ce",
   "metadata": {},
   "outputs": [
    {
     "name": "stdout",
     "output_type": "stream",
     "text": [
      "4.899078973153047e-05\n"
     ]
    }
   ],
   "source": [
    "perm2 = (math.factorial(9) / math.factorial(7))\n",
    "prob = perm2 / arrangements\n",
    "print(prob)"
   ]
  },
  {
   "cell_type": "code",
   "execution_count": 4,
   "id": "6c4b48a6-28de-4ea7-9495-1ec7bdabf407",
   "metadata": {},
   "outputs": [
    {
     "data": {
      "text/plain": [
       "0.19444444444444445"
      ]
     },
     "execution_count": 4,
     "metadata": {},
     "output_type": "execute_result"
    }
   ],
   "source": [
    "7/36"
   ]
  },
  {
   "cell_type": "code",
   "execution_count": null,
   "id": "d005664c-ca14-414c-85f6-9c3f77b0d048",
   "metadata": {},
   "outputs": [],
   "source": []
  }
 ],
 "metadata": {
  "kernelspec": {
   "display_name": "Python 3 (ipykernel)",
   "language": "python",
   "name": "python3"
  },
  "language_info": {
   "codemirror_mode": {
    "name": "ipython",
    "version": 3
   },
   "file_extension": ".py",
   "mimetype": "text/x-python",
   "name": "python",
   "nbconvert_exporter": "python",
   "pygments_lexer": "ipython3",
   "version": "3.12.1"
  }
 },
 "nbformat": 4,
 "nbformat_minor": 5
}

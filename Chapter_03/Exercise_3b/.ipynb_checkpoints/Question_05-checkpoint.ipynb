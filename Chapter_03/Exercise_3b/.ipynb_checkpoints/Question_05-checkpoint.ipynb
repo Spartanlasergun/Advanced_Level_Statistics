{
 "cells": [
  {
   "cell_type": "markdown",
   "id": "33642199-b44e-4102-9353-dfeb31470c0e",
   "metadata": {},
   "source": [
    "# Question 5\n",
    "-----"
   ]
  },
  {
   "cell_type": "markdown",
   "id": "964ac441-f7e4-4d21-8a5f-40a9430e3e9e",
   "metadata": {},
   "source": [
    "a) \n",
    "$$P(D \\cup C) = P(D) + P(C) - P(D \\cap C)$$\n",
    "\n",
    "$$0.9 = P(D) + 0.7 - 0.3$$\n",
    "\n",
    "$$P(D) = 0.9 + 0.3 - 0.7 = 0.5$$\n",
    "\n",
    "b)\n",
    "$$P(D' \\cap C) = P(C) - P(C \\cap D)$$\n",
    "\n",
    "$$P(D' \\cap C) = 0.7 - 0.3 = 0.4$$\n",
    "\n",
    "c)\n",
    "$$P(D \\cap C') = P(D) - P(C \\cap D)$$\n",
    "\n",
    "$$P(D \\cap C') = 0.5 - 0.3 = 0.2$$\n",
    "\n",
    "d)\n",
    "$$P(D' \\cap C') = 1 - P(D \\cup C)$$\n",
    "\n",
    "$$P(D' \\cap C') = 1 - 0.9 = 0.1$$"
   ]
  }
 ],
 "metadata": {
  "kernelspec": {
   "display_name": "Python 3 (ipykernel)",
   "language": "python",
   "name": "python3"
  },
  "language_info": {
   "codemirror_mode": {
    "name": "ipython",
    "version": 3
   },
   "file_extension": ".py",
   "mimetype": "text/x-python",
   "name": "python",
   "nbconvert_exporter": "python",
   "pygments_lexer": "ipython3",
   "version": "3.12.1"
  }
 },
 "nbformat": 4,
 "nbformat_minor": 5
}

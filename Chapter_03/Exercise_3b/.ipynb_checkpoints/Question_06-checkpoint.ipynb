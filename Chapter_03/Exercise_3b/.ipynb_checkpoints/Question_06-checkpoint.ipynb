{
 "cells": [
  {
   "cell_type": "markdown",
   "id": "1192408d-e280-442b-ac56-0acb35cb940e",
   "metadata": {},
   "source": [
    "# Question 6\n",
    "-----"
   ]
  },
  {
   "cell_type": "markdown",
   "id": "c509e717-ef9c-49b1-9d8d-4b1ef84cad52",
   "metadata": {},
   "source": [
    "a) (i)\n",
    "$$P(A) = \\frac{15}{45} = \\frac{1}{3}$$\n",
    "\n",
    "(ii)\n",
    "$$P(Bfaulty) = \\frac{5}{45} = \\frac{1}{9}$$\n",
    "\n",
    "(iii)\n",
    "$$P(A \\cup NF) = \\frac{38}{45}$$\n",
    "\n",
    "b)\n",
    "$$P(B) = \\frac{2}{10} = \\frac{1}{5}$$ "
   ]
  }
 ],
 "metadata": {
  "kernelspec": {
   "display_name": "Python 3 (ipykernel)",
   "language": "python",
   "name": "python3"
  },
  "language_info": {
   "codemirror_mode": {
    "name": "ipython",
    "version": 3
   },
   "file_extension": ".py",
   "mimetype": "text/x-python",
   "name": "python",
   "nbconvert_exporter": "python",
   "pygments_lexer": "ipython3",
   "version": "3.12.1"
  }
 },
 "nbformat": 4,
 "nbformat_minor": 5
}

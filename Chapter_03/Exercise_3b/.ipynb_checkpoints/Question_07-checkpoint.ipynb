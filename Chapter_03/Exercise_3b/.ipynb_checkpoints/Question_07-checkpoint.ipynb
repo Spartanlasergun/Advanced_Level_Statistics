{
 "cells": [
  {
   "cell_type": "markdown",
   "id": "5189468f-efd1-4f89-924f-bd0db5f0bad8",
   "metadata": {},
   "source": [
    "# Question 7\n",
    "-----"
   ]
  },
  {
   "cell_type": "markdown",
   "id": "dbd2c824-c45d-4cfc-9e70-580a4191018f",
   "metadata": {},
   "source": [
    "a)\n",
    "$$P(X \\cup Y) = P(X) + P(Y) = \\frac{1}{2} + \\frac{1}{4} = \\frac{3}{4}$$\n",
    "\n",
    "b)\n",
    "$$P(X \\cap Y) = 0$$\n",
    "\n",
    "c)\n",
    "$$P(Y \\cap X') = 1 - P(X \\cup Y) = 1 - 0.75 = 0.25$$"
   ]
  }
 ],
 "metadata": {
  "kernelspec": {
   "display_name": "Python 3 (ipykernel)",
   "language": "python",
   "name": "python3"
  },
  "language_info": {
   "codemirror_mode": {
    "name": "ipython",
    "version": 3
   },
   "file_extension": ".py",
   "mimetype": "text/x-python",
   "name": "python",
   "nbconvert_exporter": "python",
   "pygments_lexer": "ipython3",
   "version": "3.12.1"
  }
 },
 "nbformat": 4,
 "nbformat_minor": 5
}

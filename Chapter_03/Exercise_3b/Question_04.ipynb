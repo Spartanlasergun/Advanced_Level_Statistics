{
 "cells": [
  {
   "cell_type": "markdown",
   "id": "9925986a-5c3b-44bf-af79-f79195e8b10b",
   "metadata": {},
   "source": [
    "# Question 4\n",
    "-----"
   ]
  },
  {
   "cell_type": "markdown",
   "id": "687905b6-5a75-476c-a0a1-cb0d3b771142",
   "metadata": {},
   "source": [
    "$$P(A \\cup B) = P(A) + P(B) - P(A \\cap B)$$\n",
    "\n",
    "$$\\frac{3}{4} = \\frac{2}{3} + P(B) - \\frac{5}{12}$$\n",
    "\n",
    "$$P(B) = \\frac{3}{4} + \\frac{5}{12} - \\frac{2}{3}$$\n",
    "\n",
    "$$P(B) = 0.5$$"
   ]
  }
 ],
 "metadata": {
  "kernelspec": {
   "display_name": "Python 3 (ipykernel)",
   "language": "python",
   "name": "python3"
  },
  "language_info": {
   "codemirror_mode": {
    "name": "ipython",
    "version": 3
   },
   "file_extension": ".py",
   "mimetype": "text/x-python",
   "name": "python",
   "nbconvert_exporter": "python",
   "pygments_lexer": "ipython3",
   "version": "3.12.1"
  }
 },
 "nbformat": 4,
 "nbformat_minor": 5
}

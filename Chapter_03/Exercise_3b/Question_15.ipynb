{
 "cells": [
  {
   "cell_type": "markdown",
   "id": "9ce02f89-f08d-4322-aa20-c1d8b8534d22",
   "metadata": {},
   "source": [
    "# Question 15\n",
    "-----"
   ]
  },
  {
   "cell_type": "markdown",
   "id": "d7ca215d-7430-4656-871d-f4373e688317",
   "metadata": {},
   "source": [
    "B is the event that at least one tails is obtained"
   ]
  }
 ],
 "metadata": {
  "kernelspec": {
   "display_name": "Python 3 (ipykernel)",
   "language": "python",
   "name": "python3"
  },
  "language_info": {
   "codemirror_mode": {
    "name": "ipython",
    "version": 3
   },
   "file_extension": ".py",
   "mimetype": "text/x-python",
   "name": "python",
   "nbconvert_exporter": "python",
   "pygments_lexer": "ipython3",
   "version": "3.12.1"
  }
 },
 "nbformat": 4,
 "nbformat_minor": 5
}

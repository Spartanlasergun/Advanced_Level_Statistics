{
 "cells": [
  {
   "cell_type": "markdown",
   "id": "0e9b0bcf-767c-4702-b6b1-26cbe49eeb16",
   "metadata": {},
   "source": [
    "# Question 2\n",
    "-----"
   ]
  },
  {
   "cell_type": "markdown",
   "id": "16cf7cdc-5d3f-4ff8-9c35-1b0edcf97a13",
   "metadata": {},
   "source": [
    "$$ P(A) = \\frac{20}{30} = \\frac{2}{3} $$\n",
    "\n",
    "$$ P(B) = \\frac{21}{30} $$\n",
    "\n",
    "$$ P(A \\cap B) = P(A) + P(B) - P(A \\cup B) $$\n",
    "\n",
    "$$ P(A \\cap B) = \\frac{2}{3} + \\frac{21}{30} - 1 $$\n",
    "\n",
    "$$ P(A \\cap B) = 0.3666 $$\n"
   ]
  }
 ],
 "metadata": {
  "kernelspec": {
   "display_name": "Python 3 (ipykernel)",
   "language": "python",
   "name": "python3"
  },
  "language_info": {
   "codemirror_mode": {
    "name": "ipython",
    "version": 3
   },
   "file_extension": ".py",
   "mimetype": "text/x-python",
   "name": "python",
   "nbconvert_exporter": "python",
   "pygments_lexer": "ipython3",
   "version": "3.12.1"
  }
 },
 "nbformat": 4,
 "nbformat_minor": 5
}

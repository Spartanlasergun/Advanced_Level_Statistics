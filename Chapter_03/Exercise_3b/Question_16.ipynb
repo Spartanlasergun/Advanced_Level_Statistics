{
 "cells": [
  {
   "cell_type": "markdown",
   "id": "1e365404-9d47-4c79-a075-47809ba9751a",
   "metadata": {},
   "source": [
    "# Question 16\n",
    "-----"
   ]
  },
  {
   "cell_type": "markdown",
   "id": "76509879-b250-4727-84c4-a981d0135ba7",
   "metadata": {},
   "source": [
    "| | Fruit Tree | Other Tree | Total |\n",
    "| --- | --- | --- | --- |\n",
    "|Bird's Nest | 2 | 4 | 6 |\n",
    "| No Nest | 5 | 9 | 14 |\n",
    "| Total | 7 | 13 | 20 |"
   ]
  },
  {
   "cell_type": "markdown",
   "id": "688bfaa0-c3b6-4004-a10b-5d34f0b6f214",
   "metadata": {},
   "source": [
    "a) \n",
    "$$P(A) = \\frac{9}{20}$$\n",
    "\n",
    "b)\n",
    "$$P(B) = \\frac{2}{7}$$"
   ]
  }
 ],
 "metadata": {
  "kernelspec": {
   "display_name": "Python 3 (ipykernel)",
   "language": "python",
   "name": "python3"
  },
  "language_info": {
   "codemirror_mode": {
    "name": "ipython",
    "version": 3
   },
   "file_extension": ".py",
   "mimetype": "text/x-python",
   "name": "python",
   "nbconvert_exporter": "python",
   "pygments_lexer": "ipython3",
   "version": "3.12.1"
  }
 },
 "nbformat": 4,
 "nbformat_minor": 5
}

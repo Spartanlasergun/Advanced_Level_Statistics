{
 "cells": [
  {
   "cell_type": "markdown",
   "id": "35659479-fb5a-4bcb-b6e3-4b85059680de",
   "metadata": {},
   "source": [
    "# Question 2\n",
    "-----"
   ]
  },
  {
   "cell_type": "code",
   "execution_count": 1,
   "id": "804a6f44-6496-4780-a8d1-87a3c32cee61",
   "metadata": {},
   "outputs": [
    {
     "name": "stdout",
     "output_type": "stream",
     "text": [
      "P(different first 2) = 0.5333333333333333\n"
     ]
    }
   ],
   "source": [
    "different = (4/10) * (6/9) * 2\n",
    "print(\"P(different first 2) = \" + str(different))"
   ]
  },
  {
   "cell_type": "code",
   "execution_count": 2,
   "id": "cd4714aa-e5fa-486c-9f71-602541a2b17d",
   "metadata": {},
   "outputs": [
    {
     "name": "stdout",
     "output_type": "stream",
     "text": [
      "P(last red) = 0.4\n"
     ]
    }
   ],
   "source": [
    "BBR = (6/10) * (5/9) * (4/8)\n",
    "RRR = (4/10) * (3/9) * (2/8)\n",
    "RBR = (4/10) * (6/9) * (3/8) * 2\n",
    "lastred = BBR + RRR + RBR\n",
    "print(\"P(last red) = \" + str(lastred))"
   ]
  },
  {
   "cell_type": "code",
   "execution_count": 3,
   "id": "bfe3adc5-b212-480b-8dca-ca059d25bebf",
   "metadata": {},
   "outputs": [
    {
     "name": "stdout",
     "output_type": "stream",
     "text": [
      "P(R|BB) = 0.5\n"
     ]
    }
   ],
   "source": [
    "prob = BBR / ((6/10) * (5/9))\n",
    "print(\"P(R|BB) = \" + str(prob))"
   ]
  }
 ],
 "metadata": {
  "kernelspec": {
   "display_name": "Python 3 (ipykernel)",
   "language": "python",
   "name": "python3"
  },
  "language_info": {
   "codemirror_mode": {
    "name": "ipython",
    "version": 3
   },
   "file_extension": ".py",
   "mimetype": "text/x-python",
   "name": "python",
   "nbconvert_exporter": "python",
   "pygments_lexer": "ipython3",
   "version": "3.12.1"
  }
 },
 "nbformat": 4,
 "nbformat_minor": 5
}

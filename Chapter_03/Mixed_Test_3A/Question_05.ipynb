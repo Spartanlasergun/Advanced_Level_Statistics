{
 "cells": [
  {
   "cell_type": "markdown",
   "id": "9d342f68-4c57-49bc-850d-1dcc6f75764d",
   "metadata": {},
   "source": [
    "# Question 5\n",
    "-----"
   ]
  },
  {
   "cell_type": "code",
   "execution_count": 1,
   "id": "4acf3d0d-145d-413d-9b59-2609cc99130f",
   "metadata": {},
   "outputs": [
    {
     "name": "stdout",
     "output_type": "stream",
     "text": [
      "P(AB choose monday) = 0.0625\n"
     ]
    }
   ],
   "source": [
    "ABmonday = (1/4) * (1/4)\n",
    "print(\"P(AB choose monday) = \" + str(ABmonday))"
   ]
  },
  {
   "cell_type": "code",
   "execution_count": 2,
   "id": "1d3f5efd-de38-4ce8-9924-34d8d1a719aa",
   "metadata": {},
   "outputs": [
    {
     "name": "stdout",
     "output_type": "stream",
     "text": [
      "P(C U D) = 0.4375\n"
     ]
    }
   ],
   "source": [
    "CandD = (1/4) * (1/4)\n",
    "C = (1/4)\n",
    "D = (1/4)\n",
    "CorDorboth = C + D - CandD\n",
    "print(\"P(C U D) = \" + str(CorDorboth))"
   ]
  },
  {
   "cell_type": "code",
   "execution_count": 3,
   "id": "43d186f3-f042-44b0-8422-7c49dd4e958f",
   "metadata": {},
   "outputs": [
    {
     "name": "stdout",
     "output_type": "stream",
     "text": [
      "P(four different) = 0.09375\n"
     ]
    }
   ],
   "source": [
    "import math\n",
    "fourdifferent = (1/4) * (1/4) * (1/4) * (1/4) * math.factorial(4)\n",
    "print(\"P(four different) = \" + str(fourdifferent))"
   ]
  },
  {
   "cell_type": "code",
   "execution_count": 4,
   "id": "0f001ac4-f60a-4af8-b723-b0e9ec8a8058",
   "metadata": {},
   "outputs": [
    {
     "name": "stdout",
     "output_type": "stream",
     "text": [
      "P(atleastone) = 0.90625\n"
     ]
    }
   ],
   "source": [
    "atleastone = 1 - fourdifferent\n",
    "print(\"P(atleastone) = \" + str(atleastone))"
   ]
  }
 ],
 "metadata": {
  "kernelspec": {
   "display_name": "Python 3 (ipykernel)",
   "language": "python",
   "name": "python3"
  },
  "language_info": {
   "codemirror_mode": {
    "name": "ipython",
    "version": 3
   },
   "file_extension": ".py",
   "mimetype": "text/x-python",
   "name": "python",
   "nbconvert_exporter": "python",
   "pygments_lexer": "ipython3",
   "version": "3.12.1"
  }
 },
 "nbformat": 4,
 "nbformat_minor": 5
}

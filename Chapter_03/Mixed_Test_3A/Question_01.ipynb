{
 "cells": [
  {
   "cell_type": "markdown",
   "id": "b1486578-d9eb-4a9a-aa63-7b884cda4ce2",
   "metadata": {},
   "source": [
    "# Question 1\n",
    "-----"
   ]
  },
  {
   "cell_type": "code",
   "execution_count": 4,
   "id": "8234eb4d-ef6f-41e5-90e0-92f1550742b2",
   "metadata": {},
   "outputs": [
    {
     "name": "stdout",
     "output_type": "stream",
     "text": [
      "P(NS) = 0.03571428571428571\n"
     ]
    }
   ],
   "source": [
    "NS = (1/8) * (1/7) * 2\n",
    "print(\"P(NS) = \" + str(NS))"
   ]
  },
  {
   "cell_type": "code",
   "execution_count": 8,
   "id": "b8d1ee05-49c5-46ac-bca7-a0862da0e735",
   "metadata": {},
   "outputs": [
    {
     "name": "stdout",
     "output_type": "stream",
     "text": [
      "P(NS|N or S) = 0.07692307692307693\n"
     ]
    }
   ],
   "source": [
    "atleastone = NS + ((6/8) * (1/7) * 4)\n",
    "prob = NS / atleastone\n",
    "print(\"P(NS|N or S) = \" + str(prob))"
   ]
  }
 ],
 "metadata": {
  "kernelspec": {
   "display_name": "Python 3 (ipykernel)",
   "language": "python",
   "name": "python3"
  },
  "language_info": {
   "codemirror_mode": {
    "name": "ipython",
    "version": 3
   },
   "file_extension": ".py",
   "mimetype": "text/x-python",
   "name": "python",
   "nbconvert_exporter": "python",
   "pygments_lexer": "ipython3",
   "version": "3.12.1"
  }
 },
 "nbformat": 4,
 "nbformat_minor": 5
}

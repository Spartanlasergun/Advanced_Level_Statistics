{
 "cells": [
  {
   "cell_type": "markdown",
   "id": "1624737a-d589-425c-ac14-922cef411575",
   "metadata": {},
   "source": [
    "# Question 3\n",
    "-----"
   ]
  },
  {
   "cell_type": "code",
   "execution_count": 1,
   "id": "1f1f92a8-8287-483a-886b-ae78811ea293",
   "metadata": {},
   "outputs": [
    {
     "name": "stdout",
     "output_type": "stream",
     "text": [
      "P(none correct) = 0.4\n"
     ]
    }
   ],
   "source": [
    "nonecorrect = (4/5) * (3/4) * (2/3)\n",
    "print(\"P(none correct) = \" + str(nonecorrect))"
   ]
  },
  {
   "cell_type": "code",
   "execution_count": 2,
   "id": "400188cf-893b-4af9-9ec6-b1b5c3bb9551",
   "metadata": {},
   "outputs": [
    {
     "name": "stdout",
     "output_type": "stream",
     "text": [
      "P(clarie correct) = 0.2\n"
     ]
    }
   ],
   "source": [
    "clairecorrect = (4/5) * (3/4) * (1/3)\n",
    "print(\"P(clarie correct) = \" + str(clairecorrect))"
   ]
  },
  {
   "cell_type": "code",
   "execution_count": 3,
   "id": "8c67bf7c-0e56-4e55-8bd6-60cc20af3a10",
   "metadata": {},
   "outputs": [
    {
     "name": "stdout",
     "output_type": "stream",
     "text": [
      "P(exactly one correct) = 0.43333333333333335\n"
     ]
    }
   ],
   "source": [
    "exactlyone = ((4/5) * (1/4) * (2/3)) + ((1/5) * (3/4) * (2/3)) + ((4/5) * (3/4) * (1/3))\n",
    "print(\"P(exactly one correct) = \" + str(exactlyone))"
   ]
  }
 ],
 "metadata": {
  "kernelspec": {
   "display_name": "Python 3 (ipykernel)",
   "language": "python",
   "name": "python3"
  },
  "language_info": {
   "codemirror_mode": {
    "name": "ipython",
    "version": 3
   },
   "file_extension": ".py",
   "mimetype": "text/x-python",
   "name": "python",
   "nbconvert_exporter": "python",
   "pygments_lexer": "ipython3",
   "version": "3.12.1"
  }
 },
 "nbformat": 4,
 "nbformat_minor": 5
}

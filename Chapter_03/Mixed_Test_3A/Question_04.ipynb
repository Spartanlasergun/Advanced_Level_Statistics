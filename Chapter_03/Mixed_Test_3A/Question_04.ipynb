{
 "cells": [
  {
   "cell_type": "markdown",
   "id": "f66463aa-2d47-40bb-a6de-8883fdad528a",
   "metadata": {},
   "source": [
    "# Question 4\n",
    "-----"
   ]
  },
  {
   "cell_type": "code",
   "execution_count": 1,
   "id": "3895af6c-40bb-4ce6-9f98-3e6b3ad01987",
   "metadata": {},
   "outputs": [
    {
     "name": "stdout",
     "output_type": "stream",
     "text": [
      "P(D) = 0.7666666666666667\n"
     ]
    }
   ],
   "source": [
    "n = 25 + 4 + 85 + 8 + 5 + 23\n",
    "PD = (25 + 85 + 5) / n\n",
    "print(\"P(D) = \" + str(PD))"
   ]
  },
  {
   "cell_type": "code",
   "execution_count": 2,
   "id": "00069328-0c1e-4e27-9338-dfc07b365d78",
   "metadata": {},
   "outputs": [
    {
     "name": "stdout",
     "output_type": "stream",
     "text": [
      "P(D or E or both) = 0.7933333333333334\n"
     ]
    }
   ],
   "source": [
    "PE = (25 + 4) / n\n",
    "DandE = 25 / n\n",
    "DUE = PD + PE - DandE\n",
    "print(\"P(D or E or both) = \" + str(DUE))"
   ]
  },
  {
   "cell_type": "code",
   "execution_count": 3,
   "id": "74997c2d-f167-4662-a538-1ae2a8fc9719",
   "metadata": {},
   "outputs": [
    {
     "name": "stdout",
     "output_type": "stream",
     "text": [
      "P(D' and E') = 0.20666666666666667\n"
     ]
    }
   ],
   "source": [
    "notDandnotE = (8 + 23) / n\n",
    "print(\"P(D' and E') = \" + str(notDandnotE))"
   ]
  },
  {
   "cell_type": "code",
   "execution_count": 4,
   "id": "6182813e-0634-4b1f-8533-a4b7f8ab6a7b",
   "metadata": {},
   "outputs": [
    {
     "name": "stdout",
     "output_type": "stream",
     "text": [
      "female employees = 30.0\n"
     ]
    }
   ],
   "source": [
    "female = 0.2 * n\n",
    "print(\"female employees = \" + str(female))"
   ]
  },
  {
   "cell_type": "markdown",
   "id": "8b3543b6-4126-417c-b1d0-4e8dbc373545",
   "metadata": {},
   "source": [
    "The event D|F is the event a weekly paid employee is selected, given that the employee selected is female"
   ]
  },
  {
   "cell_type": "code",
   "execution_count": 5,
   "id": "fbcde4d7-d749-4b04-9bf4-afdf3ec0438f",
   "metadata": {},
   "outputs": [
    {
     "name": "stdout",
     "output_type": "stream",
     "text": [
      "P(D|F) = 0.5\n"
     ]
    }
   ],
   "source": [
    "DandF = 0.1\n",
    "DGF = DandF / 0.2\n",
    "print(\"P(D|F) = \" + str(DGF))"
   ]
  }
 ],
 "metadata": {
  "kernelspec": {
   "display_name": "Python 3 (ipykernel)",
   "language": "python",
   "name": "python3"
  },
  "language_info": {
   "codemirror_mode": {
    "name": "ipython",
    "version": 3
   },
   "file_extension": ".py",
   "mimetype": "text/x-python",
   "name": "python",
   "nbconvert_exporter": "python",
   "pygments_lexer": "ipython3",
   "version": "3.12.1"
  }
 },
 "nbformat": 4,
 "nbformat_minor": 5
}

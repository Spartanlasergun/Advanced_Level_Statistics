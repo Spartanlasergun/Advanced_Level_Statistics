{
 "cells": [
  {
   "cell_type": "markdown",
   "id": "b82f711c-5e21-4b24-973f-8b23f1a40bac",
   "metadata": {},
   "source": [
    "# Question 13\n",
    "-----"
   ]
  },
  {
   "cell_type": "code",
   "execution_count": 1,
   "id": "c5b246d1-f227-4035-9adf-fe5ba6e69385",
   "metadata": {},
   "outputs": [
    {
     "name": "stdout",
     "output_type": "stream",
     "text": [
      "P(3 straight on) = 0.04287499999999999\n"
     ]
    }
   ],
   "source": [
    "straight3 = 0.35 * 0.35 * 0.35\n",
    "print(\"P(3 straight on) = \" + str(straight3))"
   ]
  },
  {
   "cell_type": "code",
   "execution_count": 2,
   "id": "7053f82e-9d2c-48fa-8e7e-e795032f7c0f",
   "metadata": {},
   "outputs": [
    {
     "name": "stdout",
     "output_type": "stream",
     "text": [
      "P(same direction) = 0.14200000000000002\n"
     ]
    }
   ],
   "source": [
    "left3 = 0.45 * 0.45 * 0.45\n",
    "right3 = 0.2 * 0.2 * 0.2\n",
    "samedirection = straight3 + left3 + right3\n",
    "print(\"P(same direction) = \" + str(samedirection))"
   ]
  },
  {
   "cell_type": "code",
   "execution_count": 7,
   "id": "c47f154b-50c6-4277-be5a-392df1d926a2",
   "metadata": {},
   "outputs": [
    {
     "name": "stdout",
     "output_type": "stream",
     "text": [
      "P(LLR) = 0.12150000000000002\n"
     ]
    }
   ],
   "source": [
    "LLR = 0.45 * 0.45 * 0.2 * 3\n",
    "print(\"P(LLR) = \" + str(LLR))"
   ]
  },
  {
   "cell_type": "code",
   "execution_count": 9,
   "id": "bd6ba6f9-e56a-4e39-8a7d-e11a984338c2",
   "metadata": {},
   "outputs": [
    {
     "name": "stdout",
     "output_type": "stream",
     "text": [
      "P(all different) = 0.189\n"
     ]
    }
   ],
   "source": [
    "different = 0.45 * 0.35 * 0.2 * 6\n",
    "print(\"P(all different) = \" + str(different))"
   ]
  },
  {
   "cell_type": "code",
   "execution_count": 10,
   "id": "b16a71fc-2568-4941-9734-f744524937e0",
   "metadata": {},
   "outputs": [
    {
     "name": "stdout",
     "output_type": "stream",
     "text": [
      "P(2 left) = 0.334125\n"
     ]
    }
   ],
   "source": [
    "LL = ((0.45 * 0.45 * 0.2) * 3) + ((0.45 * 0.45 * 0.35) * 3)\n",
    "print(\"P(2 left) = \" + str(LL))"
   ]
  },
  {
   "cell_type": "code",
   "execution_count": 11,
   "id": "39dec58b-4e35-4b45-9420-3677a7c81e7e",
   "metadata": {},
   "outputs": [
    {
     "name": "stdout",
     "output_type": "stream",
     "text": [
      "P(left | samedirection) = 0.6417253521126761\n"
     ]
    }
   ],
   "source": [
    "leftGsame = left3 / samedirection\n",
    "print(\"P(left | samedirection) = \" + str(leftGsame))"
   ]
  }
 ],
 "metadata": {
  "kernelspec": {
   "display_name": "Python 3 (ipykernel)",
   "language": "python",
   "name": "python3"
  },
  "language_info": {
   "codemirror_mode": {
    "name": "ipython",
    "version": 3
   },
   "file_extension": ".py",
   "mimetype": "text/x-python",
   "name": "python",
   "nbconvert_exporter": "python",
   "pygments_lexer": "ipython3",
   "version": "3.12.1"
  }
 },
 "nbformat": 4,
 "nbformat_minor": 5
}

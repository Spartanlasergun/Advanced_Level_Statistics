{
 "cells": [
  {
   "cell_type": "markdown",
   "id": "0b096f96-06ef-4c0e-bd52-7c71a13d5822",
   "metadata": {},
   "source": [
    "# Question 11\n",
    "-----"
   ]
  },
  {
   "cell_type": "code",
   "execution_count": 11,
   "id": "8c1a2f8f-e904-41d9-a6b7-2a01228e17ed",
   "metadata": {},
   "outputs": [
    {
     "name": "stdout",
     "output_type": "stream",
     "text": [
      "P(X) = 0.018575851393188854\n"
     ]
    }
   ],
   "source": [
    "PX = ((4/20) * (3/19) * (6/18) * (5/17)) * 6\n",
    "print(\"P(X) = \" + str(PX))"
   ]
  },
  {
   "cell_type": "code",
   "execution_count": 24,
   "id": "501274f9-fab5-40c0-b934-b9900418e84f",
   "metadata": {},
   "outputs": [
    {
     "name": "stdout",
     "output_type": "stream",
     "text": [
      "P(Y) = 0.4179566563467492\n"
     ]
    }
   ],
   "source": [
    "PY =  (10/20) * (9/19) * (10/18) * (9/17) * 6\n",
    "print(\"P(Y) = \" + str(PY))"
   ]
  },
  {
   "cell_type": "code",
   "execution_count": 27,
   "id": "543350ea-d93a-4b72-8324-b5efc50c6310",
   "metadata": {},
   "outputs": [
    {
     "name": "stdout",
     "output_type": "stream",
     "text": [
      "P(Z) = 0.2\n"
     ]
    }
   ],
   "source": [
    "PZ = (4/20)\n",
    "print(\"P(Z) = \" + str(PZ))"
   ]
  },
  {
   "cell_type": "code",
   "execution_count": 31,
   "id": "1e867e33-9725-48d7-ad20-030060e063e4",
   "metadata": {},
   "outputs": [
    {
     "name": "stdout",
     "output_type": "stream",
     "text": [
      "P(Z|Y) = 0.2\n"
     ]
    }
   ],
   "source": [
    "PZY = PZ\n",
    "print(\"P(Z|Y) = \" + str(PZY))"
   ]
  },
  {
   "cell_type": "markdown",
   "id": "27b300fe-aaf6-4d80-ac85-5dcfe2794736",
   "metadata": {},
   "source": [
    "i)Yes, X and Y can be mutually exclusive\n",
    "\n",
    "No, They cannot be independent because there are only 2 grade A balls\n",
    "\n",
    "ii) No, the golfer's ball can be included in catch Y\n",
    "\n",
    "Yes, the can occur simaltaneously"
   ]
  },
  {
   "cell_type": "code",
   "execution_count": null,
   "id": "ff767e8a-c647-4172-9b89-744eb7d39d84",
   "metadata": {},
   "outputs": [],
   "source": []
  }
 ],
 "metadata": {
  "kernelspec": {
   "display_name": "Python 3 (ipykernel)",
   "language": "python",
   "name": "python3"
  },
  "language_info": {
   "codemirror_mode": {
    "name": "ipython",
    "version": 3
   },
   "file_extension": ".py",
   "mimetype": "text/x-python",
   "name": "python",
   "nbconvert_exporter": "python",
   "pygments_lexer": "ipython3",
   "version": "3.12.1"
  }
 },
 "nbformat": 4,
 "nbformat_minor": 5
}

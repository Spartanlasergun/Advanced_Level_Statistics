{
 "cells": [
  {
   "cell_type": "markdown",
   "id": "6df40b57-f32a-4478-b539-e42154526f3d",
   "metadata": {},
   "source": [
    "# Question 2\n",
    "-----"
   ]
  },
  {
   "cell_type": "code",
   "execution_count": 6,
   "id": "23d57d62-e082-42c4-a589-418f40478aff",
   "metadata": {},
   "outputs": [
    {
     "name": "stdout",
     "output_type": "stream",
     "text": [
      "P(2 soft) = 0.5526315789473684\n"
     ]
    }
   ],
   "source": [
    "soft2 = (15/20) * (14/19)\n",
    "print(\"P(2 soft) = \" + str(soft2))"
   ]
  },
  {
   "cell_type": "code",
   "execution_count": 9,
   "id": "f9cb04fd-e7fa-447c-aff8-171f3c4e554f",
   "metadata": {},
   "outputs": [
    {
     "name": "stdout",
     "output_type": "stream",
     "text": [
      "P(one of each) = 0.39473684210526316\n"
     ]
    }
   ],
   "source": [
    "each = ((15/20) * (5/19)) + ((5/20) * (15/19))\n",
    "print(\"P(one of each) = \" + str(each))"
   ]
  },
  {
   "cell_type": "code",
   "execution_count": 12,
   "id": "9abe9df1-941a-4142-90b5-1cfd9ea98873",
   "metadata": {},
   "outputs": [
    {
     "name": "stdout",
     "output_type": "stream",
     "text": [
      "P(2 hard) = 0.21052631578947367\n"
     ]
    }
   ],
   "source": [
    "hard2 = ((5/20) * (4/19)) / (((15/20) * (5/19)) + ((5/20) * (4/19)))\n",
    "print(\"P(2 hard) = \" + str(hard2))"
   ]
  }
 ],
 "metadata": {
  "kernelspec": {
   "display_name": "Python 3 (ipykernel)",
   "language": "python",
   "name": "python3"
  },
  "language_info": {
   "codemirror_mode": {
    "name": "ipython",
    "version": 3
   },
   "file_extension": ".py",
   "mimetype": "text/x-python",
   "name": "python",
   "nbconvert_exporter": "python",
   "pygments_lexer": "ipython3",
   "version": "3.12.1"
  }
 },
 "nbformat": 4,
 "nbformat_minor": 5
}

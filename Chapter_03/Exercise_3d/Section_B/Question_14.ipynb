{
 "cells": [
  {
   "cell_type": "markdown",
   "id": "802f92f9-49a2-47db-aa1a-efe649e34fcb",
   "metadata": {},
   "source": [
    "# Question 14\n",
    "-----"
   ]
  },
  {
   "cell_type": "code",
   "execution_count": 12,
   "id": "27c07834-27d1-4ad4-aa86-c2c3c57f52b8",
   "metadata": {},
   "outputs": [
    {
     "name": "stdout",
     "output_type": "stream",
     "text": [
      "P(A) = 0.4090909090909091\n"
     ]
    }
   ],
   "source": [
    "female = 45/110\n",
    "print(\"P(A) = \" + str(female))"
   ]
  },
  {
   "cell_type": "code",
   "execution_count": 20,
   "id": "478d4299-3b07-4c8d-830d-446117cb6440",
   "metadata": {},
   "outputs": [
    {
     "name": "stdout",
     "output_type": "stream",
     "text": [
      "P(A U B) = 0.5454545454545454\n"
     ]
    }
   ],
   "source": [
    "PAUB = female + (35/110) - (female * (20/45))\n",
    "print(\"P(A U B) = \" + str(PAUB))"
   ]
  },
  {
   "cell_type": "code",
   "execution_count": 21,
   "id": "764c6d30-8622-4f15-b654-c36de24f80be",
   "metadata": {},
   "outputs": [
    {
     "name": "stdout",
     "output_type": "stream",
     "text": [
      "P(A and B) = 0.18181818181818182\n"
     ]
    }
   ],
   "source": [
    "PANB = female * (20/45)\n",
    "print(\"P(A and B) = \" + str(PANB))"
   ]
  },
  {
   "cell_type": "code",
   "execution_count": 24,
   "id": "d0c45044-5663-43a0-a9a3-f5c72b7566d8",
   "metadata": {},
   "outputs": [
    {
     "name": "stdout",
     "output_type": "stream",
     "text": [
      "P(A|B) = 0.5714285714285715\n"
     ]
    }
   ],
   "source": [
    "PAGB = PANB / (35/110)\n",
    "print(\"P(A|B) = \" + str(PAGB))"
   ]
  },
  {
   "cell_type": "code",
   "execution_count": 26,
   "id": "74a602f3-0dd6-48e8-88a2-3b2d9c21e733",
   "metadata": {},
   "outputs": [
    {
     "name": "stdout",
     "output_type": "stream",
     "text": [
      "P(3 diseased) = 0.03032619775739042\n"
     ]
    }
   ],
   "source": [
    "diseased3 = (35/110) * (34/109) * (33/108)\n",
    "print(\"P(3 diseased) = \" + str(diseased3))"
   ]
  },
  {
   "cell_type": "code",
   "execution_count": 42,
   "id": "1cd63978-7509-4eae-aff0-f8b5ee89f391",
   "metadata": {},
   "outputs": [
    {
     "name": "stdout",
     "output_type": "stream",
     "text": [
      "P(exactly one diseased) = 0.45002780094523215\n"
     ]
    }
   ],
   "source": [
    "diseased1 = (35/110) * (75/109) * (74/108) * 3\n",
    "print(\"P(exactly one diseased) = \" + str(diseased1))"
   ]
  },
  {
   "cell_type": "code",
   "execution_count": 43,
   "id": "9fedb1fc-b3c2-409c-b910-577a838dd134",
   "metadata": {},
   "outputs": [
    {
     "name": "stdout",
     "output_type": "stream",
     "text": [
      "P(C) = 0.03489478146389209\n"
     ]
    }
   ],
   "source": [
    "FD = female * (20/45)\n",
    "MD = (65/109) * (15/65)\n",
    "FND = female * (25/44)\n",
    "all = FD * MD * FND * 6\n",
    "print(\"P(C) = \" + str(all))"
   ]
  },
  {
   "cell_type": "code",
   "execution_count": 44,
   "id": "ef6b2dce-85c1-4d49-a56e-af2eaa62458a",
   "metadata": {},
   "outputs": [
    {
     "name": "stdout",
     "output_type": "stream",
     "text": [
      "P(positive reaction) = 0.36\n"
     ]
    }
   ],
   "source": [
    "positive = (35/110 * 0.96) + (75/110 * 0.08)\n",
    "print(\"P(positive reaction) = \" + str(positive))"
   ]
  },
  {
   "cell_type": "code",
   "execution_count": 40,
   "id": "2bd59195-e272-4d64-88f3-470c4c70a1db",
   "metadata": {},
   "outputs": [
    {
     "name": "stdout",
     "output_type": "stream",
     "text": [
      "print(diseased | positive) = 0.8838383838383839\n"
     ]
    }
   ],
   "source": [
    "disease = 35/110\n",
    "disGpos = disease / positive\n",
    "print(\"print(diseased | positive) = \" + str(disGpos))"
   ]
  }
 ],
 "metadata": {
  "kernelspec": {
   "display_name": "Python 3 (ipykernel)",
   "language": "python",
   "name": "python3"
  },
  "language_info": {
   "codemirror_mode": {
    "name": "ipython",
    "version": 3
   },
   "file_extension": ".py",
   "mimetype": "text/x-python",
   "name": "python",
   "nbconvert_exporter": "python",
   "pygments_lexer": "ipython3",
   "version": "3.12.1"
  }
 },
 "nbformat": 4,
 "nbformat_minor": 5
}

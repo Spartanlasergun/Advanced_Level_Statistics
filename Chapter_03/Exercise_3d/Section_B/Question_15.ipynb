{
 "cells": [
  {
   "cell_type": "markdown",
   "id": "97cec0f1-5f2a-416b-b567-5763038ba103",
   "metadata": {},
   "source": [
    "# Question 15\n",
    "-----"
   ]
  },
  {
   "cell_type": "code",
   "execution_count": 1,
   "id": "ae94bee6-6214-4688-a3a9-6d732f99feaa",
   "metadata": {},
   "outputs": [
    {
     "name": "stdout",
     "output_type": "stream",
     "text": [
      "P(red) = 0.5111111111111111\n"
     ]
    }
   ],
   "source": [
    "red = (0.5 * (4/5)) + (0.5 * (2/9))\n",
    "print(\"P(red) = \" + str(red))"
   ]
  },
  {
   "cell_type": "code",
   "execution_count": 24,
   "id": "eda1a928-451f-410e-9a34-85e9378dd3d8",
   "metadata": {},
   "outputs": [
    {
     "name": "stdout",
     "output_type": "stream",
     "text": [
      "P(H|R) = 0.7826086956521741\n"
     ]
    }
   ],
   "source": [
    "head = (0.5 * (4/5)) / red\n",
    "print(\"P(H|R) = \" + str(head))"
   ]
  }
 ],
 "metadata": {
  "kernelspec": {
   "display_name": "Python 3 (ipykernel)",
   "language": "python",
   "name": "python3"
  },
  "language_info": {
   "codemirror_mode": {
    "name": "ipython",
    "version": 3
   },
   "file_extension": ".py",
   "mimetype": "text/x-python",
   "name": "python",
   "nbconvert_exporter": "python",
   "pygments_lexer": "ipython3",
   "version": "3.12.1"
  }
 },
 "nbformat": 4,
 "nbformat_minor": 5
}

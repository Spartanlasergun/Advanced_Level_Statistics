{
 "cells": [
  {
   "cell_type": "markdown",
   "id": "40bbedb0-5d38-404f-946f-7ac739464edf",
   "metadata": {},
   "source": [
    "# Question 4\n",
    "-----"
   ]
  },
  {
   "cell_type": "code",
   "execution_count": 1,
   "id": "d1cef822-5cd6-476c-bf04-51bc9e257a6e",
   "metadata": {},
   "outputs": [
    {
     "name": "stdout",
     "output_type": "stream",
     "text": [
      "P(small) = 0.32999999999999996\n"
     ]
    }
   ],
   "source": [
    "small = (0.7 * 0.3) + (0.3 * 0.4)\n",
    "print(\"P(small) = \" + str(small))"
   ]
  },
  {
   "cell_type": "code",
   "execution_count": 2,
   "id": "5c34b2fd-b042-4a75-bb0d-b6eb0eadaaf8",
   "metadata": {},
   "outputs": [
    {
     "name": "stdout",
     "output_type": "stream",
     "text": [
      "P(small|A) = 0.6363636363636365\n"
     ]
    }
   ],
   "source": [
    "smallA = (0.7 * 0.3) / small\n",
    "print(\"P(small|A) = \" + str(smallA))"
   ]
  }
 ],
 "metadata": {
  "kernelspec": {
   "display_name": "Python 3 (ipykernel)",
   "language": "python",
   "name": "python3"
  },
  "language_info": {
   "codemirror_mode": {
    "name": "ipython",
    "version": 3
   },
   "file_extension": ".py",
   "mimetype": "text/x-python",
   "name": "python",
   "nbconvert_exporter": "python",
   "pygments_lexer": "ipython3",
   "version": "3.12.1"
  }
 },
 "nbformat": 4,
 "nbformat_minor": 5
}

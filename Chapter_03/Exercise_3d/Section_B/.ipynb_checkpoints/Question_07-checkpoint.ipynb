{
 "cells": [
  {
   "cell_type": "markdown",
   "id": "965351ae-0655-4a8a-899c-0da58640f7de",
   "metadata": {},
   "source": [
    "# Question 7\n",
    "-----"
   ]
  },
  {
   "cell_type": "code",
   "execution_count": 1,
   "id": "d40ad49e-4cef-4128-b2e7-233572546e38",
   "metadata": {},
   "outputs": [
    {
     "name": "stdout",
     "output_type": "stream",
     "text": [
      "P(paperback) = 0.3888888888888889\n"
     ]
    }
   ],
   "source": [
    "paperback = (9 + 12 + 4 + 3) / (11 + 8 + 16 + 9 + 9 + 12 + 4 + 3)\n",
    "print(\"P(paperback) = \" + str(paperback))"
   ]
  },
  {
   "cell_type": "code",
   "execution_count": 2,
   "id": "e8c7c74f-764c-4b16-9cc2-42b4a2bf9533",
   "metadata": {},
   "outputs": [
    {
     "name": "stdout",
     "output_type": "stream",
     "text": [
      "P(hardback) = 0.625\n"
     ]
    }
   ],
   "source": [
    "hardback = (0.25 * (11/20)) + (0.25 * (8/20)) + (0.25 * (16/20)) + (0.25 * (9/12))\n",
    "print(\"P(hardback) = \" + str(hardback))"
   ]
  },
  {
   "cell_type": "code",
   "execution_count": 3,
   "id": "84248a42-f120-4e81-8333-56a44697d34e",
   "metadata": {},
   "outputs": [
    {
     "name": "stdout",
     "output_type": "stream",
     "text": [
      "P(hardback) = 0.32\n"
     ]
    }
   ],
   "source": [
    "hardback3 = (0.25 * (16/20)) / hardback\n",
    "print(\"P(hardback) = \" + str(hardback3))"
   ]
  }
 ],
 "metadata": {
  "kernelspec": {
   "display_name": "Python 3 (ipykernel)",
   "language": "python",
   "name": "python3"
  },
  "language_info": {
   "codemirror_mode": {
    "name": "ipython",
    "version": 3
   },
   "file_extension": ".py",
   "mimetype": "text/x-python",
   "name": "python",
   "nbconvert_exporter": "python",
   "pygments_lexer": "ipython3",
   "version": "3.12.1"
  }
 },
 "nbformat": 4,
 "nbformat_minor": 5
}

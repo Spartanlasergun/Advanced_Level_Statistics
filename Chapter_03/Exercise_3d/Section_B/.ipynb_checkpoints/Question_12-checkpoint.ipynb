{
 "cells": [
  {
   "cell_type": "markdown",
   "id": "14cbf30e-f830-42c1-a8ce-04682275f371",
   "metadata": {},
   "source": [
    "# Question 12\n",
    "-----"
   ]
  },
  {
   "cell_type": "code",
   "execution_count": 19,
   "id": "f0be88e3-af5c-4ec8-9416-6cb4acdfa426",
   "metadata": {},
   "outputs": [
    {
     "name": "stdout",
     "output_type": "stream",
     "text": [
      "P(3 tenors) = 0.0008771929824561402\n"
     ]
    }
   ],
   "source": [
    "tenors3 = (3/20) * (2/19) * (1/18)\n",
    "print(\"P(3 tenors) = \" + str(tenors3))"
   ]
  },
  {
   "cell_type": "code",
   "execution_count": 20,
   "id": "240403ec-f613-41a4-ab5f-afabb4f50113",
   "metadata": {},
   "outputs": [
    {
     "name": "stdout",
     "output_type": "stream",
     "text": [
      "P(1 bass) = 0.42105263157894735\n"
     ]
    }
   ],
   "source": [
    "bass1 = (4/20) * (16/19) * (15/18) * 3\n",
    "print(\"P(1 bass) = \" + str(bass1))"
   ]
  },
  {
   "cell_type": "code",
   "execution_count": 21,
   "id": "33f68db7-06bc-417c-87ef-d7f0273b026d",
   "metadata": {},
   "outputs": [
    {
     "name": "stdout",
     "output_type": "stream",
     "text": [
      "P(2women) = 0.6499999999999999\n"
     ]
    }
   ],
   "source": [
    "women = (13/20) * (12/19) * (4/18) * 3\n",
    "basswomen = women / bass1\n",
    "print(\"P(2women) = \" + str(basswomen))"
   ]
  },
  {
   "cell_type": "code",
   "execution_count": 33,
   "id": "cf075d4e-e2ef-4f26-b855-633e2289f9ca",
   "metadata": {},
   "outputs": [
    {
     "name": "stdout",
     "output_type": "stream",
     "text": [
      "0.6421052631578947\n"
     ]
    }
   ],
   "source": [
    "tenor1 = (3/20) * (17/19) * (16/18) * 3\n",
    "BT = ((4/20) * (3/19) * (6/18) * 6) + ((4/20) * (3/19) * (7/18) * 6) \n",
    "TB = tenor1 + bass1 - (BT)\n",
    "print(TB)"
   ]
  }
 ],
 "metadata": {
  "kernelspec": {
   "display_name": "Python 3 (ipykernel)",
   "language": "python",
   "name": "python3"
  },
  "language_info": {
   "codemirror_mode": {
    "name": "ipython",
    "version": 3
   },
   "file_extension": ".py",
   "mimetype": "text/x-python",
   "name": "python",
   "nbconvert_exporter": "python",
   "pygments_lexer": "ipython3",
   "version": "3.12.1"
  }
 },
 "nbformat": 4,
 "nbformat_minor": 5
}

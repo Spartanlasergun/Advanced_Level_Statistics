{
 "cells": [
  {
   "cell_type": "markdown",
   "id": "9c6925b9-b2f0-4596-9cf6-d8493c45b9a1",
   "metadata": {},
   "source": [
    "# Question 3\n",
    "-----"
   ]
  },
  {
   "cell_type": "markdown",
   "id": "d0d2f5ea-c57a-4d55-92f9-158b6b2f628c",
   "metadata": {},
   "source": [
    "a) $P(A|B)$ means the probability of event A occuring, given that even B occurs.\n",
    "\n",
    "(i) for $P(A|B) = 0$, both events must be mutually exclusive\n",
    "\n",
    "(ii) for $P(A|B) = P(A)$ A and B must be independent events"
   ]
  },
  {
   "cell_type": "code",
   "execution_count": 1,
   "id": "cffce943-58fb-487f-bb34-1356d600fd5f",
   "metadata": {},
   "outputs": [
    {
     "name": "stdout",
     "output_type": "stream",
     "text": [
      "P(not accepted) = 0.88\n"
     ]
    }
   ],
   "source": [
    "notaccepted = (0.3*0.8) + (0.1 * 0.94) + (0.6 * 0.91)\n",
    "print(\"P(not accepted) = \" + str(notaccepted))"
   ]
  },
  {
   "cell_type": "code",
   "execution_count": 5,
   "id": "37155c18-4d41-494e-914e-23585e4703d2",
   "metadata": {},
   "outputs": [
    {
     "name": "stdout",
     "output_type": "stream",
     "text": [
      "P(B accepted) = 0.05\n"
     ]
    }
   ],
   "source": [
    "accepted = 1 - notaccepted\n",
    "PBA = (0.1 * 0.06) / accepted\n",
    "print(\"P(B accepted) = \" + str(PBA))"
   ]
  }
 ],
 "metadata": {
  "kernelspec": {
   "display_name": "Python 3 (ipykernel)",
   "language": "python",
   "name": "python3"
  },
  "language_info": {
   "codemirror_mode": {
    "name": "ipython",
    "version": 3
   },
   "file_extension": ".py",
   "mimetype": "text/x-python",
   "name": "python",
   "nbconvert_exporter": "python",
   "pygments_lexer": "ipython3",
   "version": "3.12.1"
  }
 },
 "nbformat": 4,
 "nbformat_minor": 5
}

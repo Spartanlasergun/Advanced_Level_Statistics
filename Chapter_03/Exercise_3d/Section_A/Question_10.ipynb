{
 "cells": [
  {
   "cell_type": "markdown",
   "id": "655d9af0-aeb2-4ca7-a28a-c501f4dd5733",
   "metadata": {},
   "source": [
    "# Question 10\n",
    "-----"
   ]
  },
  {
   "cell_type": "code",
   "execution_count": 1,
   "id": "2f96de43-000c-4a40-9eae-d3b29d8114b4",
   "metadata": {},
   "outputs": [
    {
     "name": "stdout",
     "output_type": "stream",
     "text": [
      "P(only one qualifying) = 0.35000000000000003\n"
     ]
    }
   ],
   "source": [
    "onlyone = (0.8 * 0.25) + (0.2 * 0.75)\n",
    "print(\"P(only one qualifying) = \" + str(onlyone))"
   ]
  }
 ],
 "metadata": {
  "kernelspec": {
   "display_name": "Python 3 (ipykernel)",
   "language": "python",
   "name": "python3"
  },
  "language_info": {
   "codemirror_mode": {
    "name": "ipython",
    "version": 3
   },
   "file_extension": ".py",
   "mimetype": "text/x-python",
   "name": "python",
   "nbconvert_exporter": "python",
   "pygments_lexer": "ipython3",
   "version": "3.12.1"
  }
 },
 "nbformat": 4,
 "nbformat_minor": 5
}

{
 "cells": [
  {
   "cell_type": "markdown",
   "id": "1d23c74e-100f-4152-ae2f-40de82318228",
   "metadata": {},
   "source": [
    "# Question 3\n",
    "-----"
   ]
  },
  {
   "cell_type": "code",
   "execution_count": 1,
   "id": "efc7d4e8-d0b9-4814-b74d-6d593b790dbb",
   "metadata": {},
   "outputs": [
    {
     "name": "stdout",
     "output_type": "stream",
     "text": [
      "a) P(SI) = 0.24\n"
     ]
    }
   ],
   "source": [
    "steak_icecream = 0.4 * 0.6\n",
    "print(\"a) P(SI) = \" + str(steak_icecream))"
   ]
  },
  {
   "cell_type": "code",
   "execution_count": 2,
   "id": "e24c029b-e597-4273-9a0c-70e1d86f8278",
   "metadata": {},
   "outputs": [
    {
     "name": "stdout",
     "output_type": "stream",
     "text": [
      "b) P(I) = 0.42\n"
     ]
    }
   ],
   "source": [
    "icecream = (0.6 * 0.3) + steak_icecream\n",
    "print(\"b) P(I) = \" + str(icecream))"
   ]
  }
 ],
 "metadata": {
  "kernelspec": {
   "display_name": "Python 3 (ipykernel)",
   "language": "python",
   "name": "python3"
  },
  "language_info": {
   "codemirror_mode": {
    "name": "ipython",
    "version": 3
   },
   "file_extension": ".py",
   "mimetype": "text/x-python",
   "name": "python",
   "nbconvert_exporter": "python",
   "pygments_lexer": "ipython3",
   "version": "3.12.1"
  }
 },
 "nbformat": 4,
 "nbformat_minor": 5
}

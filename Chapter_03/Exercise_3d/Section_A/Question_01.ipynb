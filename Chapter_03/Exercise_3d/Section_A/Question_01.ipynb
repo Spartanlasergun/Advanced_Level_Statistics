{
 "cells": [
  {
   "cell_type": "markdown",
   "id": "cea1598d-7d90-4df9-bb6f-5eb196cd7b30",
   "metadata": {},
   "source": [
    "# Question 1\n",
    "-----"
   ]
  },
  {
   "cell_type": "code",
   "execution_count": 3,
   "id": "2d24cb4f-6beb-4b8a-93f1-037bb77b05f1",
   "metadata": {},
   "outputs": [
    {
     "name": "stdout",
     "output_type": "stream",
     "text": [
      "a) P(late twice) = 0.0025000000000000005\n"
     ]
    }
   ],
   "source": [
    "late_twice = 0.05 * 0.05\n",
    "print(\"a) P(late twice) = \" + str(late_twice))"
   ]
  },
  {
   "cell_type": "code",
   "execution_count": 4,
   "id": "a87ee3ab-be59-4a4b-8ff5-f034bc847ab2",
   "metadata": {},
   "outputs": [
    {
     "name": "stdout",
     "output_type": "stream",
     "text": [
      "b) P(late once) = 0.095\n"
     ]
    }
   ],
   "source": [
    "late_once = (0.05 * 0.95) + (0.05 * 0.95)\n",
    "print(\"b) P(late once) = \" + str(late_once))"
   ]
  }
 ],
 "metadata": {
  "kernelspec": {
   "display_name": "Python 3 (ipykernel)",
   "language": "python",
   "name": "python3"
  },
  "language_info": {
   "codemirror_mode": {
    "name": "ipython",
    "version": 3
   },
   "file_extension": ".py",
   "mimetype": "text/x-python",
   "name": "python",
   "nbconvert_exporter": "python",
   "pygments_lexer": "ipython3",
   "version": "3.12.1"
  }
 },
 "nbformat": 4,
 "nbformat_minor": 5
}

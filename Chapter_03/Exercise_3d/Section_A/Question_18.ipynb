{
 "cells": [
  {
   "cell_type": "markdown",
   "id": "69197dd0-44e2-4111-9a81-c4002fba5652",
   "metadata": {},
   "source": [
    "# Question 18\n",
    "-----"
   ]
  },
  {
   "cell_type": "code",
   "execution_count": 5,
   "id": "c1b7234e-e4fd-48c8-a613-7ef04845ff4c",
   "metadata": {},
   "outputs": [
    {
     "name": "stdout",
     "output_type": "stream",
     "text": [
      "P(A and B meet) = 0.25\n"
     ]
    }
   ],
   "source": [
    "AB = 0.5 * 0.5\n",
    "print(\"P(A and B meet) = \" + str(AB))"
   ]
  },
  {
   "cell_type": "code",
   "execution_count": 4,
   "id": "d20bd5a9-b212-4414-99c0-116add43bff0",
   "metadata": {},
   "outputs": [
    {
     "name": "stdout",
     "output_type": "stream",
     "text": [
      "P(B and C meet) = 0.25\n"
     ]
    }
   ],
   "source": [
    "BC = 0.5 * 0.5 * 0.5 * 2\n",
    "print(\"P(B and C meet) = \" + str(BC))"
   ]
  },
  {
   "cell_type": "code",
   "execution_count": 6,
   "id": "c9957900-8aef-400b-bf9a-92fb12f42647",
   "metadata": {},
   "outputs": [
    {
     "name": "stdout",
     "output_type": "stream",
     "text": [
      "P(ABC) = 0.0625\n"
     ]
    }
   ],
   "source": [
    "ABC = AB * BC\n",
    "print(\"P(ABC) = \" + str(ABC))"
   ]
  },
  {
   "cell_type": "code",
   "execution_count": 9,
   "id": "04d975f9-ce5e-427f-96cd-efe8ba318950",
   "metadata": {},
   "outputs": [
    {
     "name": "stdout",
     "output_type": "stream",
     "text": [
      "P(no meeting) = 0.25\n"
     ]
    }
   ],
   "source": [
    "Not_ABC = (0.5 * 0.5 * 0.5) + (0.5 * 0.5 * 0.5 * 0.5) + (0.5 * 0.5 * 0.5 * 0.5)\n",
    "print(\"P(no meeting) = \" + str(Not_ABC))"
   ]
  },
  {
   "cell_type": "code",
   "execution_count": 13,
   "id": "c9f48618-a20d-45a1-9c3e-233a6b0a3eb6",
   "metadata": {},
   "outputs": [
    {
     "name": "stdout",
     "output_type": "stream",
     "text": [
      "P(at least two meet) = 0.75\n"
     ]
    }
   ],
   "source": [
    "atleast2 = 1 - Not_ABC\n",
    "print(\"P(at least two meet) = \" + str(atleast2))"
   ]
  }
 ],
 "metadata": {
  "kernelspec": {
   "display_name": "Python 3 (ipykernel)",
   "language": "python",
   "name": "python3"
  },
  "language_info": {
   "codemirror_mode": {
    "name": "ipython",
    "version": 3
   },
   "file_extension": ".py",
   "mimetype": "text/x-python",
   "name": "python",
   "nbconvert_exporter": "python",
   "pygments_lexer": "ipython3",
   "version": "3.12.1"
  }
 },
 "nbformat": 4,
 "nbformat_minor": 5
}

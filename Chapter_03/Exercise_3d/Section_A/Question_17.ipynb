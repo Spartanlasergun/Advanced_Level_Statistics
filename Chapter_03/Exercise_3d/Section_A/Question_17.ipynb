{
 "cells": [
  {
   "cell_type": "markdown",
   "id": "7501cb49-7f13-4823-8ac8-5a9b4696d1ca",
   "metadata": {},
   "source": [
    "# Question 17\n",
    "-----"
   ]
  },
  {
   "cell_type": "code",
   "execution_count": 1,
   "id": "21795aac-f694-4485-99e9-d9ded5aa7285",
   "metadata": {},
   "outputs": [
    {
     "name": "stdout",
     "output_type": "stream",
     "text": [
      "P(winning the third) = 0.6279999999999999\n"
     ]
    }
   ],
   "source": [
    "wthird = (0.7 * 0.7 * 0.7) + (0.7 * 0.3 * 0.5) + (0.3 * 0.5 * 0.7) + (0.3 * 0.5 * 0.5)\n",
    "print(\"P(winning the third) = \" + str(wthird))"
   ]
  }
 ],
 "metadata": {
  "kernelspec": {
   "display_name": "Python 3 (ipykernel)",
   "language": "python",
   "name": "python3"
  },
  "language_info": {
   "codemirror_mode": {
    "name": "ipython",
    "version": 3
   },
   "file_extension": ".py",
   "mimetype": "text/x-python",
   "name": "python",
   "nbconvert_exporter": "python",
   "pygments_lexer": "ipython3",
   "version": "3.12.1"
  }
 },
 "nbformat": 4,
 "nbformat_minor": 5
}

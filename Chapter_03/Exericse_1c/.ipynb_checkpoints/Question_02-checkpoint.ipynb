{
 "cells": [
  {
   "cell_type": "markdown",
   "id": "ce1f54b6-e3dd-4ee4-a82a-6685892d6793",
   "metadata": {},
   "source": [
    "# Question 2\n",
    "-----"
   ]
  },
  {
   "cell_type": "markdown",
   "id": "447ff135-079a-4c7e-9dde-28b501e2bf53",
   "metadata": {},
   "source": [
    "a)\n",
    "$$P(A \\cap B) = P(A) + P(B) - P(A \\cup B)$$\n",
    "\n",
    "$$P(A \\cap B) = 0.1 + 0.2 - 0.25 = 0.05$$\n",
    "\n",
    "b)\n",
    "$$P(B|A) = \\frac{P(A \\cap B)}{P(A)}$$\n",
    "\n",
    "$$P(B|A) = \\frac{0.05}{0.1} = 0.5$$"
   ]
  }
 ],
 "metadata": {
  "kernelspec": {
   "display_name": "Python 3 (ipykernel)",
   "language": "python",
   "name": "python3"
  },
  "language_info": {
   "codemirror_mode": {
    "name": "ipython",
    "version": 3
   },
   "file_extension": ".py",
   "mimetype": "text/x-python",
   "name": "python",
   "nbconvert_exporter": "python",
   "pygments_lexer": "ipython3",
   "version": "3.12.1"
  }
 },
 "nbformat": 4,
 "nbformat_minor": 5
}

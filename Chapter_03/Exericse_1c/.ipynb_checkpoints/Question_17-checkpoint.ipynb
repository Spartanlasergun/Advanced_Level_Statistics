{
 "cells": [
  {
   "cell_type": "markdown",
   "id": "9374abbe-c7c5-491a-ad3a-f9ae6daab8ff",
   "metadata": {},
   "source": [
    "# Question 17\n",
    "-----"
   ]
  },
  {
   "cell_type": "markdown",
   "id": "e287ea02-fba8-4007-852b-1e27181b0d2a",
   "metadata": {},
   "source": [
    "a) (i)\n",
    "$$P(clubs) = \\frac{1}{4} * \\frac{1}{4} = \\frac{1}{16}$$\n",
    "\n",
    "(ii)\n",
    "$$P(Q) = 1 - (\\frac{48}{52} * \\frac{48}{52}) = \\frac{25}{169}$$\n",
    "\n",
    "(iii)\n",
    "$$P(I) = \\frac{1}{52} * \\frac{1}{52} = \\frac{1}{2704}$$\n",
    "\n",
    "b) (i)\n",
    "$$P(Q \\cap NQ) = P(Q) * P(NQ) = \\frac{4}{52} * \\frac{48}{51} = \\frac{192}{2652}$$\n",
    "\n",
    "$$P(NQ \\cap Q) = P(NQ) * P(Q) = \\frac{48}{52} * \\frac{4}{51} = \\frac{192}{2652}$$\n",
    "\n",
    "$$P(Q \\cap NQ) + P(NQ \\cap Q) = \\frac{192}{2652} + \\frac{192}{2652} = \\frac{384}{2652} = \\frac{32}{221}$$\n",
    "\n",
    "(ii)\n",
    "0"
   ]
  }
 ],
 "metadata": {
  "kernelspec": {
   "display_name": "Python 3 (ipykernel)",
   "language": "python",
   "name": "python3"
  },
  "language_info": {
   "codemirror_mode": {
    "name": "ipython",
    "version": 3
   },
   "file_extension": ".py",
   "mimetype": "text/x-python",
   "name": "python",
   "nbconvert_exporter": "python",
   "pygments_lexer": "ipython3",
   "version": "3.12.1"
  }
 },
 "nbformat": 4,
 "nbformat_minor": 5
}

{
 "cells": [
  {
   "cell_type": "markdown",
   "id": "d6939a43-3f77-4033-a28b-02c54a18ec4e",
   "metadata": {},
   "source": [
    "# Question 11\n",
    "-----"
   ]
  },
  {
   "cell_type": "markdown",
   "id": "d9e4845c-c21e-4037-8b72-d43bd0de469d",
   "metadata": {},
   "source": [
    "a) You can say that A and B anre independent events\n",
    "\n",
    "B can be throwing the die a second time\n",
    "\n",
    "b) C and D are mutually exclusive events\n",
    "\n",
    "$$P(C \\cap D) = 0$$"
   ]
  }
 ],
 "metadata": {
  "kernelspec": {
   "display_name": "Python 3 (ipykernel)",
   "language": "python",
   "name": "python3"
  },
  "language_info": {
   "codemirror_mode": {
    "name": "ipython",
    "version": 3
   },
   "file_extension": ".py",
   "mimetype": "text/x-python",
   "name": "python",
   "nbconvert_exporter": "python",
   "pygments_lexer": "ipython3",
   "version": "3.12.1"
  }
 },
 "nbformat": 4,
 "nbformat_minor": 5
}

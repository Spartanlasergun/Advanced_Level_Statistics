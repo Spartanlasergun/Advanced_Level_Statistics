{
 "cells": [
  {
   "cell_type": "markdown",
   "id": "2354f422-b022-4a48-85e7-d7219a146551",
   "metadata": {},
   "source": [
    "# Question 12\n",
    "-----"
   ]
  },
  {
   "cell_type": "markdown",
   "id": "bf7f7c22-2bd8-4f6b-860b-491646b5c500",
   "metadata": {},
   "source": [
    "$$P(Man \\cup Lefty) = P(Man) + P(Lefty) - P(Man \\cap Lefty)$$\n",
    "\n",
    "$$P(Man \\cup Lefty) = \\frac{1}{4} + \\frac{1}{6} - (\\frac{1}{4} * \\frac{1}{6})$$\n",
    "\n",
    "$$P(Man \\cup Lefty) = \\frac{3}{8}$$"
   ]
  }
 ],
 "metadata": {
  "kernelspec": {
   "display_name": "Python 3 (ipykernel)",
   "language": "python",
   "name": "python3"
  },
  "language_info": {
   "codemirror_mode": {
    "name": "ipython",
    "version": 3
   },
   "file_extension": ".py",
   "mimetype": "text/x-python",
   "name": "python",
   "nbconvert_exporter": "python",
   "pygments_lexer": "ipython3",
   "version": "3.12.1"
  }
 },
 "nbformat": 4,
 "nbformat_minor": 5
}

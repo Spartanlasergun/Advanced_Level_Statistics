{
 "cells": [
  {
   "cell_type": "markdown",
   "id": "5e4a2aa9-ae54-42f4-80e5-99a4ff86defa",
   "metadata": {},
   "source": [
    "# Question 16\n",
    "-----"
   ]
  },
  {
   "cell_type": "markdown",
   "id": "499e7254-a7f5-4fbf-98cd-996289cfb091",
   "metadata": {},
   "source": [
    "a)\n",
    "$$P(A \\cap B) = P(A|B) * P(B) = \\frac{1}{5} * \\frac{1}{3} = \\frac{1}{15}$$\n",
    "\n",
    "b)\n",
    "$$P(A \\cup B) = P(A) + P(B) - P(A \\cap B)$$\n",
    "\n",
    "$$P(A \\cup B) = \\frac{8}{15} + \\frac{1}{3} - \\frac{1}{15} = \\frac{4}{5}$$\n",
    "\n",
    "c)\n",
    "$$P(C) = 1 - P(A \\cup B) = 1 - \\frac{4}{5} = \\frac{1}{5}$$"
   ]
  }
 ],
 "metadata": {
  "kernelspec": {
   "display_name": "Python 3 (ipykernel)",
   "language": "python",
   "name": "python3"
  },
  "language_info": {
   "codemirror_mode": {
    "name": "ipython",
    "version": 3
   },
   "file_extension": ".py",
   "mimetype": "text/x-python",
   "name": "python",
   "nbconvert_exporter": "python",
   "pygments_lexer": "ipython3",
   "version": "3.12.1"
  }
 },
 "nbformat": 4,
 "nbformat_minor": 5
}

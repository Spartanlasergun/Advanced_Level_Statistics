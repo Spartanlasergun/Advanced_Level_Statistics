{
 "cells": [
  {
   "cell_type": "markdown",
   "id": "d320500c-acc5-4f00-8965-157db97dc7c8",
   "metadata": {},
   "source": [
    "# Question 18\n",
    "-----"
   ]
  },
  {
   "cell_type": "markdown",
   "id": "55d2674f-c3dc-4971-87b3-251d4688b8ab",
   "metadata": {},
   "source": [
    "a)\n",
    "$$P(A \\cap B) = P(A) * P (B)  = 0.4P(B)$$\n",
    "\n",
    "$$P(A \\cup B) = P(A) + P(B) - 0.4P(B)$$\n",
    "\n",
    "$$0.6P(B) = 0.7 - 0.4$$\n",
    "\n",
    "$$P(B) = \\frac{0.3}{0.6} = 0.5$$\n",
    "\n",
    "b)\n",
    "(i)\n",
    "$$P(D|C) * P(C) = P(C \\cap D)$$\n",
    "\n",
    "$$P(C) = \\frac{p}{\\frac{1}{4}} = 4p$$\n",
    "\n",
    "\n",
    "(ii)\n",
    "$$P(C|D) * P(D) = P(C \\cap D)$$\n",
    "\n",
    "$$P(D) = \\frac{p}{\\frac{1}{5}} = 5p$$\n",
    "\n",
    "c)\n",
    "$$0.2 = 4p + 5p - p$$\n",
    "\n",
    "$$0.2 = 8p$$\n",
    "\n",
    "$$p = \\frac{0.2}{8} = \\frac{1}{40}$$"
   ]
  }
 ],
 "metadata": {
  "kernelspec": {
   "display_name": "Python 3 (ipykernel)",
   "language": "python",
   "name": "python3"
  },
  "language_info": {
   "codemirror_mode": {
    "name": "ipython",
    "version": 3
   },
   "file_extension": ".py",
   "mimetype": "text/x-python",
   "name": "python",
   "nbconvert_exporter": "python",
   "pygments_lexer": "ipython3",
   "version": "3.12.1"
  }
 },
 "nbformat": 4,
 "nbformat_minor": 5
}

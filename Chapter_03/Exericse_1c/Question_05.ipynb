{
 "cells": [
  {
   "cell_type": "markdown",
   "id": "fe21bd95-335a-4232-a525-f1e4d659a130",
   "metadata": {},
   "source": [
    "# Question 5\n",
    "-----"
   ]
  },
  {
   "cell_type": "markdown",
   "id": "da1a59f8-9dbe-40eb-913f-a8c7f9a33d64",
   "metadata": {},
   "source": [
    "$$P(A \\cap B) = P(A) * P(B)$$\n",
    "\n",
    "$$P(A \\cap B) = \\frac{1}{3} * \\frac{1}{3} = \\frac{1}{9}$$"
   ]
  }
 ],
 "metadata": {
  "kernelspec": {
   "display_name": "Python 3 (ipykernel)",
   "language": "python",
   "name": "python3"
  },
  "language_info": {
   "codemirror_mode": {
    "name": "ipython",
    "version": 3
   },
   "file_extension": ".py",
   "mimetype": "text/x-python",
   "name": "python",
   "nbconvert_exporter": "python",
   "pygments_lexer": "ipython3",
   "version": "3.12.1"
  }
 },
 "nbformat": 4,
 "nbformat_minor": 5
}

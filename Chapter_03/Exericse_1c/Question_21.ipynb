{
 "cells": [
  {
   "cell_type": "markdown",
   "id": "6830dda6-55fc-4b26-8029-e609ff282604",
   "metadata": {},
   "source": [
    "# Question 21\n",
    "-----"
   ]
  },
  {
   "cell_type": "markdown",
   "id": "a5ff9d23-1bec-4573-8d10-b5e4e9aa1fc1",
   "metadata": {},
   "source": [
    "a)\n",
    "$$P(C) = P(C \\cap D) + P(C \\cap D')$$\n",
    "\n",
    "$$P(C \\cap D) = P(C) - P(C \\cap D') = \\frac{4}{7} - \\frac{1}{3} = \\frac{5}{21}$$\n",
    "\n",
    "b)\n",
    "$$P(D) = \\frac{P(C \\cap D)}{P(C|D)} = \\frac{5}{21} * \\frac{14}{5} = \\frac{2}{3}$$\n",
    "\n",
    "c)\n",
    "$$P(D|C) = \\frac{P(C \\cap D)}{P(C)} = \\frac{5}{21} * \\frac{7}{4} = \\frac{5}{12}$$"
   ]
  }
 ],
 "metadata": {
  "kernelspec": {
   "display_name": "Python 3 (ipykernel)",
   "language": "python",
   "name": "python3"
  },
  "language_info": {
   "codemirror_mode": {
    "name": "ipython",
    "version": 3
   },
   "file_extension": ".py",
   "mimetype": "text/x-python",
   "name": "python",
   "nbconvert_exporter": "python",
   "pygments_lexer": "ipython3",
   "version": "3.12.1"
  }
 },
 "nbformat": 4,
 "nbformat_minor": 5
}

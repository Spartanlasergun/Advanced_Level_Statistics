{
 "cells": [
  {
   "cell_type": "markdown",
   "id": "629f716b-e669-418e-b0fe-79b680fe1784",
   "metadata": {},
   "source": [
    "# Question 9\n",
    "-----"
   ]
  },
  {
   "cell_type": "code",
   "execution_count": 4,
   "id": "231db9a9-99b9-46fa-b6e1-286c0db1ce76",
   "metadata": {},
   "outputs": [
    {
     "name": "stdout",
     "output_type": "stream",
     "text": [
      "P(A wins on second) = 0.16666666666666666\n"
     ]
    }
   ],
   "source": [
    "Awins = (2/3) * (3/4) * (1/3)\n",
    "print(\"P(A wins on second) = \" + str(Awins))"
   ]
  },
  {
   "cell_type": "code",
   "execution_count": 5,
   "id": "72dc1dae-c1ea-4c11-86a0-88792d7e2a88",
   "metadata": {},
   "outputs": [
    {
     "name": "stdout",
     "output_type": "stream",
     "text": [
      "P(A wins on third) = 0.08333333333333333\n"
     ]
    }
   ],
   "source": [
    "Awins3 = (2/3) * (3/4) * (2/3) * (3/4) * (1/3)\n",
    "print(\"P(A wins on third) = \" + str(Awins3))"
   ]
  },
  {
   "cell_type": "markdown",
   "id": "81cb31f2-053d-4550-960c-e2b6ee5e27b4",
   "metadata": {},
   "source": [
    "Using the geometrics series\n",
    "\n",
    "$$S_{\\infty} = a + ar + ar^2 + ar^3 + ... \\to \\infty$$\n",
    "\n",
    "$$S_{\\infty} = \\frac{1}{3} + \\frac{1}{3} * \\frac{1}{2} + \\frac{1}{3} * (\\frac{1}{2})^2 + ...$$\n",
    "\n",
    "Hence, \n",
    "$$a = \\frac{1}{3}, \\ \\ and \\ \\ r = \\frac{1}{2}$$\n",
    "\n",
    "$$S_{\\infty} = \\frac{a}{1 - r} = \\frac{\\frac{1}{3}}{1 - \\frac{1}{2}} = \\frac{2}{3}$$"
   ]
  },
  {
   "cell_type": "markdown",
   "id": "2b481859-a4f5-4aa6-bb53-a2f7a744bb14",
   "metadata": {},
   "source": [
    "If A goes second\n",
    "\n",
    "$$S_{\\infty} = \\frac{3}{4} * \\frac{1}{3} + \\frac{3}{4} * \\frac{1}{3} * \\frac{3}{4} * \\frac{1}{3} + ...$$\n",
    "\n",
    "$$S_{\\infty} = \\frac{1}{4} + (\\frac{1}{4} * \\frac{1}{4}) + (\\frac{1}{4} * \\frac{1}{4} *\\frac{1}{4})$$\n",
    "\n",
    "hence,\n",
    "\n",
    "$$a = \\frac{1}{4}, \\ \\ r = \\frac{1}{4}$$\n",
    "\n",
    "$$S_{\\infty} = \\frac{a}{1 - r} = \\frac{\\frac{1}{4}}{1 - \\frac{1}{4}} = \\frac{1}{3}$$\n",
    "\n",
    "Hence, probability that A wins \n",
    "\n",
    "$$P(AW) = (\\frac{2}{3} * \\frac{1}{2}) + (\\frac{1}{3} * \\frac{1}{2}) = 0.5$$"
   ]
  }
 ],
 "metadata": {
  "kernelspec": {
   "display_name": "Python 3 (ipykernel)",
   "language": "python",
   "name": "python3"
  },
  "language_info": {
   "codemirror_mode": {
    "name": "ipython",
    "version": 3
   },
   "file_extension": ".py",
   "mimetype": "text/x-python",
   "name": "python",
   "nbconvert_exporter": "python",
   "pygments_lexer": "ipython3",
   "version": "3.12.1"
  }
 },
 "nbformat": 4,
 "nbformat_minor": 5
}

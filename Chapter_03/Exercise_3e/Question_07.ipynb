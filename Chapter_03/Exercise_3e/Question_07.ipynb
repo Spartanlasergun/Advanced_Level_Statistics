{
 "cells": [
  {
   "cell_type": "markdown",
   "id": "86491339-466f-4756-9372-008f3562fb55",
   "metadata": {},
   "source": [
    "# Question 7\n",
    "-----"
   ]
  },
  {
   "cell_type": "markdown",
   "id": "8cd18ce7-c7d9-460a-ac9f-c2eff9d7fcb4",
   "metadata": {},
   "source": [
    "The game results in a infinite series.\n",
    "\n",
    "Comparing the results of the first event,\n",
    "\n",
    "$$P(A) = 0.5$$\n",
    "\n",
    "$$P(D) = 0.5 * 0.5 * 0.5 * 0.5 = $$\n",
    "\n",
    "The ratio would be:\n",
    "\n",
    "$$\\frac{1}{2} : \\frac{1}{16}$$\n",
    "\n",
    "$$8 : 1$$\n",
    "\n",
    "Hence, the probability that A wins is 8 times greater than D."
   ]
  }
 ],
 "metadata": {
  "kernelspec": {
   "display_name": "Python 3 (ipykernel)",
   "language": "python",
   "name": "python3"
  },
  "language_info": {
   "codemirror_mode": {
    "name": "ipython",
    "version": 3
   },
   "file_extension": ".py",
   "mimetype": "text/x-python",
   "name": "python",
   "nbconvert_exporter": "python",
   "pygments_lexer": "ipython3",
   "version": "3.12.1"
  }
 },
 "nbformat": 4,
 "nbformat_minor": 5
}

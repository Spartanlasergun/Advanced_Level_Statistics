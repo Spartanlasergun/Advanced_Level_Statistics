{
 "cells": [
  {
   "cell_type": "markdown",
   "id": "2e601f18-2268-4fa1-bce2-98cfe182d5b0",
   "metadata": {},
   "source": [
    "# Question 3\n",
    "-----"
   ]
  },
  {
   "cell_type": "markdown",
   "id": "c402454a-73e3-42c7-897a-3fc29495fdc1",
   "metadata": {},
   "source": [
    "$$P(3) = p$$\n",
    "\n",
    "$$P(at \\ least \\ one \\ 3) = 1 - p^4 = 0.9375$$\n",
    "\n",
    "$$p^4 = 0.0625$$\n",
    "\n",
    "$$p = 0.0625^{\\frac{1}{4}}$$\n",
    "\n",
    "$$p = 0.5$$"
   ]
  },
  {
   "cell_type": "code",
   "execution_count": 5,
   "id": "5c0d2d3b-7a7b-4128-b319-0a175c78d43d",
   "metadata": {},
   "outputs": [
    {
     "data": {
      "text/plain": [
       "0.5"
      ]
     },
     "execution_count": 5,
     "metadata": {},
     "output_type": "execute_result"
    }
   ],
   "source": [
    "pow(0.0625, 0.25)"
   ]
  },
  {
   "cell_type": "markdown",
   "id": "7b0ad46c-bad1-4e32-9aaf-f9459112d5e6",
   "metadata": {},
   "source": [
    "$$P(3) = 0.5$$\n",
    "\n",
    "$$P(not \\ 3 ) = 1 - 0.5 = 0.5$$\n",
    "\n",
    "$$0.5^n = 0.03$$\n",
    "\n",
    "$$n\\log 0.5 = \\log 0.03$$\n",
    "\n",
    "$$n = \\frac{\\log 0.03}{\\log 0.5}$$\n",
    "\n",
    "$$n = 5.05$$\n",
    "\n",
    "Hence, at least 6 throws are required for a probability of no 3 to be less that 0.03"
   ]
  }
 ],
 "metadata": {
  "kernelspec": {
   "display_name": "Python 3 (ipykernel)",
   "language": "python",
   "name": "python3"
  },
  "language_info": {
   "codemirror_mode": {
    "name": "ipython",
    "version": 3
   },
   "file_extension": ".py",
   "mimetype": "text/x-python",
   "name": "python",
   "nbconvert_exporter": "python",
   "pygments_lexer": "ipython3",
   "version": "3.12.1"
  }
 },
 "nbformat": 4,
 "nbformat_minor": 5
}

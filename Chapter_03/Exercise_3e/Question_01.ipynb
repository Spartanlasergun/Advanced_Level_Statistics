{
 "cells": [
  {
   "cell_type": "markdown",
   "id": "f3a13815-a7a8-4d6b-a9e4-449436dbdb47",
   "metadata": {},
   "source": [
    "# Question 1\n",
    "-----"
   ]
  },
  {
   "cell_type": "markdown",
   "id": "49293d26-40db-4ee9-85da-e2451a58eb8b",
   "metadata": {},
   "source": [
    "$$P(head) = 0.25$$\n",
    "\n",
    "$$P(not heads) = 0.75$$\n",
    "\n",
    "$$P(at least one head) = 1 - P(no heads)$$\n",
    "\n",
    "$$ = 1 - (0.75)^5$$\n",
    "\n",
    "$$ = 0.763$$"
   ]
  },
  {
   "cell_type": "code",
   "execution_count": 8,
   "id": "0305e6ca-9ce7-49d6-b2fc-2ced6adcbb40",
   "metadata": {},
   "outputs": [
    {
     "name": "stdout",
     "output_type": "stream",
     "text": [
      "0.9821820519864559\n"
     ]
    }
   ],
   "source": [
    "greater = 1 - pow(0.75, 14)\n",
    "print(greater)"
   ]
  },
  {
   "cell_type": "markdown",
   "id": "5cbaacc6-f3f7-480e-8aee-0f920e3ce31b",
   "metadata": {},
   "source": [
    "The coin needs to be tossed 14 times for a probability of at least one head to be greater than 0.98\n",
    "\n",
    "Alternative Solution:\n",
    "\n",
    "$$1 - (0.75)^n \\ge 0.98$$\n",
    "\n",
    "$$0.75^n \\le 0.02$$\n",
    "\n",
    "$$n\\log{0.75} \\le \\log{0.02}$$\n",
    "\n",
    "$$n \\ge \\frac{\\log{0.02}}{\\log{0.75}}$$"
   ]
  },
  {
   "cell_type": "code",
   "execution_count": 10,
   "id": "b3565e13-2437-4e65-96cd-46e402b46a4e",
   "metadata": {},
   "outputs": [
    {
     "data": {
      "text/plain": [
       "13.598424719648978"
      ]
     },
     "execution_count": 10,
     "metadata": {},
     "output_type": "execute_result"
    }
   ],
   "source": [
    "import math\n",
    "(math.log(0.02)) / (math.log(0.75))"
   ]
  },
  {
   "cell_type": "markdown",
   "id": "3b2f3445-3399-4ee8-bbf6-9334a2530374",
   "metadata": {},
   "source": [
    "A coin flip is discreet hence, you need at least 14 coin flips to obtain at least one head with a greater than 98% chance."
   ]
  }
 ],
 "metadata": {
  "kernelspec": {
   "display_name": "Python 3 (ipykernel)",
   "language": "python",
   "name": "python3"
  },
  "language_info": {
   "codemirror_mode": {
    "name": "ipython",
    "version": 3
   },
   "file_extension": ".py",
   "mimetype": "text/x-python",
   "name": "python",
   "nbconvert_exporter": "python",
   "pygments_lexer": "ipython3",
   "version": "3.12.1"
  }
 },
 "nbformat": 4,
 "nbformat_minor": 5
}

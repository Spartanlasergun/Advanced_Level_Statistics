{
 "cells": [
  {
   "cell_type": "markdown",
   "id": "cde07eb4-0420-447b-b83e-9b1df1e436af",
   "metadata": {},
   "source": [
    "# Question 8\n",
    "-----"
   ]
  },
  {
   "cell_type": "code",
   "execution_count": 5,
   "id": "1e9edd5b-cf7b-495b-a798-ffbca252506d",
   "metadata": {},
   "outputs": [
    {
     "name": "stdout",
     "output_type": "stream",
     "text": [
      "0.5\n"
     ]
    }
   ],
   "source": [
    "BillWins = 1 - ((1/6) + ((5/6) * (4/5) * (1/4)) + ((5/6) * (4/5) * (3/4) * (2/3) * (1/2)))\n",
    "print(BillWins)"
   ]
  },
  {
   "cell_type": "code",
   "execution_count": 15,
   "id": "9bf0701f-77b1-44bb-942e-d731a1073e6c",
   "metadata": {},
   "outputs": [
    {
     "name": "stdout",
     "output_type": "stream",
     "text": [
      "P(Alan Wins 1) = 0.16666666666666666\n",
      "P(Alan Wins 2) = 0.11574074074074076\n",
      "P(Alan Wins 3) = 0.0803755144032922\n"
     ]
    }
   ],
   "source": [
    "A1 = 1/6\n",
    "A2 = ((5/6) * (5/6) * (1/6))\n",
    "A3 = ((5/6) * (5/6) * (5/6) * (5/6) * (1/6))\n",
    "print(\"P(Alan Wins 1) = \" + str(A1))\n",
    "print(\"P(Alan Wins 2) = \" + str(A2))\n",
    "print(\"P(Alan Wins 3) = \" + str(A3))"
   ]
  },
  {
   "cell_type": "markdown",
   "id": "c63b7a10-52a5-4336-82dd-766806d4aaa6",
   "metadata": {},
   "source": [
    "$$P(B) = \\frac{1}{6}$$\n",
    "\n",
    "$$P(B2) = \\frac{5}{6} * \\frac{5}{6} * \\frac{1}{6}$$\n",
    "\n",
    "$$= (\\frac{5}{6})^2 * \\frac{1}{6}$$\n",
    "\n",
    "$$P(B3) = \\frac{5}{6} * \\frac{5}{6} * \\frac{5}{6} * \\frac{5}{6} * \\frac{1}{6}$$\n",
    "\n",
    "$$= (\\frac{5}{6})^4 * \\frac{1}{6}$$\n",
    "\n",
    "Hence,\n",
    "\n",
    "$$P(B \\ wins) = \\frac{1}{6} + ((\\frac{5}{6})^2 * \\frac{1}{6}) + ((\\frac{5}{6})^4 * \\frac{1}{6}) + ... + ((\\frac{5}{6})^n * \\frac{1}{6})$$\n",
    "\n",
    "$$P(B \\ wins) = \\frac{1}{6}(1 + (\\frac{5}{6})^2 + (\\frac{5}{6})^4 + ... + (\\frac{5}{6})^n$$\n",
    "\n",
    "Using the geometric series:\n",
    "\n",
    "$$S_\\infty = \\frac{a}{1 - r}$$\n",
    "\n",
    "$$a = 1, \\ \\ r = \\frac{5}{6}^2$$\n",
    "\n",
    "Hence,\n",
    "\n",
    "$$S_\\infty = \\frac{36}{11}$$\n",
    "\n",
    "$$P(B wins) = \\frac{1}{6} * \\frac{36}{11} = \\frac{6}{11}$$"
   ]
  }
 ],
 "metadata": {
  "kernelspec": {
   "display_name": "Python 3 (ipykernel)",
   "language": "python",
   "name": "python3"
  },
  "language_info": {
   "codemirror_mode": {
    "name": "ipython",
    "version": 3
   },
   "file_extension": ".py",
   "mimetype": "text/x-python",
   "name": "python",
   "nbconvert_exporter": "python",
   "pygments_lexer": "ipython3",
   "version": "3.12.1"
  }
 },
 "nbformat": 4,
 "nbformat_minor": 5
}

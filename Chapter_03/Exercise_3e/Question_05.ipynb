{
 "cells": [
  {
   "cell_type": "markdown",
   "id": "42b28dc5-08f4-4fd3-84cd-bfb761095e17",
   "metadata": {},
   "source": [
    "# Question 5\n",
    "-----"
   ]
  },
  {
   "cell_type": "markdown",
   "id": "e13b7c50-56b2-4874-8908-08f7d03129dc",
   "metadata": {},
   "source": [
    "$$P(Y) = \\frac{1}{6}$$\n",
    "\n",
    "$$P(NY) = \\frac{5}{6}$$\n",
    "\n",
    "$$P(at \\ least \\ one \\ y) = 1 - (\\frac{5}{6})^n$$\n",
    "\n",
    "$$P(at \\ least \\ one \\ y) \\ge 0.98 \\ \\ \\ implies$$\n",
    "\n",
    "$$1 - (\\frac{5}{6})^n \\ge 0.98$$\n",
    "\n",
    "$$(\\frac{5}{6})^n \\le 0.02$$\n",
    "\n",
    "$$n\\log (\\frac{5}{6}) \\le \\log 0.02$$)\n",
    "\n",
    "$$n \\ge \\frac{\\log 0.02}{\\frac{5}{6}}$$\n",
    "\n",
    "$$n \\ge 21.46$$\n",
    "\n",
    "Hence, at least 22 plants need to be planted to obtain a plant with yellow flowers at a probability greater than 98%"
   ]
  },
  {
   "cell_type": "code",
   "execution_count": 2,
   "id": "148acf94-8382-4b42-8a14-012315dde8f8",
   "metadata": {},
   "outputs": [
    {
     "data": {
      "text/plain": [
       "21.456722256102744"
      ]
     },
     "execution_count": 2,
     "metadata": {},
     "output_type": "execute_result"
    }
   ],
   "source": [
    "import math\n",
    "(math.log(0.02)) / (math.log(5/6))"
   ]
  }
 ],
 "metadata": {
  "kernelspec": {
   "display_name": "Python 3 (ipykernel)",
   "language": "python",
   "name": "python3"
  },
  "language_info": {
   "codemirror_mode": {
    "name": "ipython",
    "version": 3
   },
   "file_extension": ".py",
   "mimetype": "text/x-python",
   "name": "python",
   "nbconvert_exporter": "python",
   "pygments_lexer": "ipython3",
   "version": "3.12.1"
  }
 },
 "nbformat": 4,
 "nbformat_minor": 5
}

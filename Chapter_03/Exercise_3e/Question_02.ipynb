{
 "cells": [
  {
   "cell_type": "markdown",
   "id": "34b18a78-3af9-4fac-90cd-d0bf6b9244f3",
   "metadata": {},
   "source": [
    "# Question 2\n",
    "-----"
   ]
  },
  {
   "cell_type": "code",
   "execution_count": 8,
   "id": "664312ad-7a47-46f9-a5af-66c7efe00a55",
   "metadata": {},
   "outputs": [
    {
     "name": "stdout",
     "output_type": "stream",
     "text": [
      "0.99757\n"
     ]
    }
   ],
   "source": [
    "ontarget = 1 - (pow(0.3, 5))\n",
    "print(ontarget)"
   ]
  },
  {
   "cell_type": "markdown",
   "id": "e6adf565-fe4a-4a85-8808-6e59ce046d99",
   "metadata": {},
   "source": [
    "$$P(hit) = 0.7$$\n",
    "$$P(no hit) = 0.3$$\n",
    "$$P(at least one hit) = 1 - (0.3)^n$$\n",
    "\n",
    "$$ 1 - 0.3^n \\ge 0.005$$\n",
    "$$...$$\n",
    "$$n\\log 0.3 \\le \\log 0.005$$\n",
    "$$n \\ge \\frac{\\log 0.005}{\\log 0.3}$$"
   ]
  },
  {
   "cell_type": "code",
   "execution_count": 10,
   "id": "ac0d31af-7a75-44cc-9c69-8950c41d39d8",
   "metadata": {},
   "outputs": [
    {
     "data": {
      "text/plain": [
       "4.400695221279841"
      ]
     },
     "execution_count": 10,
     "metadata": {},
     "output_type": "execute_result"
    }
   ],
   "source": [
    "import math\n",
    "(math.log(0.005)) / (math.log(0.3))"
   ]
  },
  {
   "cell_type": "markdown",
   "id": "322714cf-babf-4d27-acee-c5f5a5a26839",
   "metadata": {},
   "source": [
    "Hence, at least 5 shots are needed for an accuracy greater than 99.5%"
   ]
  },
  {
   "cell_type": "markdown",
   "id": "cbd39011-37c6-47d6-ba1d-8b721dda7ffc",
   "metadata": {},
   "source": [
    "for an accuracy of 0.001\n",
    "\n",
    "$$ 1 - 0.3^n \\ge 0.999$$\n",
    "$$...$$\n",
    "$$n\\log 0.3 \\le \\log 0.001$$\n",
    "$$n \\ge \\frac{\\log 0.001}{\\log 0.3}$$"
   ]
  },
  {
   "cell_type": "code",
   "execution_count": 12,
   "id": "d8bcc7cd-f24d-4823-9e91-115458742842",
   "metadata": {},
   "outputs": [
    {
     "data": {
      "text/plain": [
       "5.7374678681795945"
      ]
     },
     "execution_count": 12,
     "metadata": {},
     "output_type": "execute_result"
    }
   ],
   "source": [
    "import math\n",
    "(math.log(0.001)) / (math.log(0.3))"
   ]
  },
  {
   "cell_type": "markdown",
   "id": "ec0e9c3c-3535-4527-b64f-5428d06a1bb4",
   "metadata": {},
   "source": [
    "Hence, at least 6 shots are needed for an accuracy greater than 99.9%"
   ]
  }
 ],
 "metadata": {
  "kernelspec": {
   "display_name": "Python 3 (ipykernel)",
   "language": "python",
   "name": "python3"
  },
  "language_info": {
   "codemirror_mode": {
    "name": "ipython",
    "version": 3
   },
   "file_extension": ".py",
   "mimetype": "text/x-python",
   "name": "python",
   "nbconvert_exporter": "python",
   "pygments_lexer": "ipython3",
   "version": "3.12.1"
  }
 },
 "nbformat": 4,
 "nbformat_minor": 5
}

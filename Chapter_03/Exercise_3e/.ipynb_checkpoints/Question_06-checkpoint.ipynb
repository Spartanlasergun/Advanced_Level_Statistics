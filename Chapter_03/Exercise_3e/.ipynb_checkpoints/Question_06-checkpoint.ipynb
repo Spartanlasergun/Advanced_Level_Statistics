{
 "cells": [
  {
   "cell_type": "markdown",
   "id": "b702af92-4140-43df-8e73-1ccd8bfb121b",
   "metadata": {},
   "source": [
    "# Question 6\n",
    "-----"
   ]
  },
  {
   "cell_type": "markdown",
   "id": "fecf854d-6fa2-42ef-a323-6245087a807f",
   "metadata": {},
   "source": [
    "$$P(B) = \\frac{1}{6}$$\n",
    "\n",
    "$$P(B2) = \\frac{5}{6} * \\frac{5}{6} * \\frac{1}{6}$$\n",
    "\n",
    "$$= (\\frac{5}{6})^2 * \\frac{1}{6}$$\n",
    "\n",
    "$$P(B3) = \\frac{5}{6} * \\frac{5}{6} * \\frac{5}{6} * \\frac{5}{6} * \\frac{1}{6}$$\n",
    "\n",
    "$$= (\\frac{5}{6})^4 * \\frac{1}{6}$$\n",
    "\n",
    "Hence,\n",
    "\n",
    "$$P(B \\ wins) = \\frac{1}{6} + ((\\frac{5}{6})^2 * \\frac{1}{6}) + ((\\frac{5}{6})^4 * \\frac{1}{6}) + ... + ((\\frac{5}{6})^n * \\frac{1}{6})$$\n",
    "\n",
    "$$P(B \\ wins) = \\frac{1}{6}(1 + (\\frac{5}{6})^2 + (\\frac{5}{6})^4 + ... + (\\frac{5}{6})^n$$\n",
    "\n",
    "Using the geometric series:\n",
    "\n",
    "$$S_\\infty = \\frac{a}{1 - r}$$\n",
    "\n",
    "$$a = 1, \\ \\ r = \\frac{5}{6}^2$$\n",
    "\n",
    "Hence,\n",
    "\n",
    "$$S_\\infty = \\frac{36}{11}$$\n",
    "\n",
    "$$P(B wins) = \\frac{1}{6} * \\frac{36}{11} = \\frac{6}{11}$$"
   ]
  }
 ],
 "metadata": {
  "kernelspec": {
   "display_name": "Python 3 (ipykernel)",
   "language": "python",
   "name": "python3"
  },
  "language_info": {
   "codemirror_mode": {
    "name": "ipython",
    "version": 3
   },
   "file_extension": ".py",
   "mimetype": "text/x-python",
   "name": "python",
   "nbconvert_exporter": "python",
   "pygments_lexer": "ipython3",
   "version": "3.12.1"
  }
 },
 "nbformat": 4,
 "nbformat_minor": 5
}

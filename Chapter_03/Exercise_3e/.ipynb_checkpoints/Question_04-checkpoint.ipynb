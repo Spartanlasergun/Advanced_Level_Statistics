{
 "cells": [
  {
   "cell_type": "markdown",
   "id": "f3aeb953-21d2-46a8-9088-3fe68f24edb7",
   "metadata": {},
   "source": [
    "# Question 4\n",
    "-----"
   ]
  },
  {
   "cell_type": "code",
   "execution_count": 1,
   "id": "84ad9403-3074-4c77-8ebc-b4698ad9ad95",
   "metadata": {},
   "outputs": [
    {
     "data": {
      "text/plain": [
       "0.99949375"
      ]
     },
     "execution_count": 1,
     "metadata": {},
     "output_type": "execute_result"
    }
   ],
   "source": [
    "1 - (pow(0.15, 4))"
   ]
  },
  {
   "cell_type": "markdown",
   "id": "26a248eb-d94e-414b-b61a-b59a22640760",
   "metadata": {},
   "source": [
    "$$P(A) = 0.85$$\n",
    "\n",
    "$$P(NA) = 0.15$$\n",
    "\n",
    "$$P(at \\ least \\ one \\ alarm) = 1 - (0.15)^n$$\n",
    "\n",
    "Since there are 4 alarms\n",
    "\n",
    "$$P(at \\ least \\ one \\ alarm) = 1 - (0.15)^4 = 0.999$$"
   ]
  }
 ],
 "metadata": {
  "kernelspec": {
   "display_name": "Python 3 (ipykernel)",
   "language": "python",
   "name": "python3"
  },
  "language_info": {
   "codemirror_mode": {
    "name": "ipython",
    "version": 3
   },
   "file_extension": ".py",
   "mimetype": "text/x-python",
   "name": "python",
   "nbconvert_exporter": "python",
   "pygments_lexer": "ipython3",
   "version": "3.12.1"
  }
 },
 "nbformat": 4,
 "nbformat_minor": 5
}

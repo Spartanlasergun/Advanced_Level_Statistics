{
 "cells": [
  {
   "cell_type": "markdown",
   "id": "51d59e81-b17d-407b-99d1-93f3e5b5821c",
   "metadata": {},
   "source": [
    "# Question 10\n",
    "-----"
   ]
  },
  {
   "cell_type": "code",
   "execution_count": 2,
   "id": "7b56b73f-a685-429f-926c-389eb1bea21d",
   "metadata": {},
   "outputs": [
    {
     "name": "stdout",
     "output_type": "stream",
     "text": [
      "P(Oct2fine) = 0.7000000000000001\n"
     ]
    }
   ],
   "source": [
    "fine = (0.75 * 0.8) + (0.25 * 0.4)\n",
    "print(\"P(Oct2fine) = \" + str(fine))"
   ]
  },
  {
   "cell_type": "code",
   "execution_count": 3,
   "id": "41fc5d13-740c-421a-960c-7dbffa79d3ca",
   "metadata": {},
   "outputs": [
    {
     "name": "stdout",
     "output_type": "stream",
     "text": [
      "P(Oct3fine) = 0.6800000000000002\n"
     ]
    }
   ],
   "source": [
    "fine3 = (0.75 * 0.8 * 0.8) + (0.75 * 0.2 * 0.4) + (0.25 * 0.4 * 0.8) + (0.25 * 0.6 * 0.4)\n",
    "print(\"P(Oct3fine) = \" + str(fine3))"
   ]
  },
  {
   "cell_type": "code",
   "execution_count": 7,
   "id": "b4a63bf3-7739-432d-9570-2ef983576b8e",
   "metadata": {},
   "outputs": [
    {
     "name": "stdout",
     "output_type": "stream",
     "text": [
      "P(R|F) = 0.28\n"
     ]
    }
   ],
   "source": [
    "RF = ((0.75 * 0.8 * 0.2) + (0.75 * 0.2 * 0.6)) / 0.75\n",
    "print(\"P(R|F) = \" + str(RF))"
   ]
  },
  {
   "cell_type": "code",
   "execution_count": 39,
   "id": "613049fa-95a5-4544-b865-fc0eaae768b8",
   "metadata": {},
   "outputs": [
    {
     "name": "stdout",
     "output_type": "stream",
     "text": [
      "P(F|R) = 0.6562500000000004\n"
     ]
    }
   ],
   "source": [
    "FR = ((0.75 * 0.8 * 0.2) + (0.75 * 0.2 * 0.6)) / (1 - fine3)\n",
    "print(\"P(F|R) = \" + str(FR))"
   ]
  }
 ],
 "metadata": {
  "kernelspec": {
   "display_name": "Python 3 (ipykernel)",
   "language": "python",
   "name": "python3"
  },
  "language_info": {
   "codemirror_mode": {
    "name": "ipython",
    "version": 3
   },
   "file_extension": ".py",
   "mimetype": "text/x-python",
   "name": "python",
   "nbconvert_exporter": "python",
   "pygments_lexer": "ipython3",
   "version": "3.12.1"
  }
 },
 "nbformat": 4,
 "nbformat_minor": 5
}

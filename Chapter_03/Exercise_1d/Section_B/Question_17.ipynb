{
 "cells": [
  {
   "cell_type": "markdown",
   "id": "9f6e4319-7b53-4822-ba28-18098e303a36",
   "metadata": {},
   "source": [
    "# Question 17\n",
    "-----"
   ]
  },
  {
   "cell_type": "code",
   "execution_count": 1,
   "id": "cf7bc61f-7eba-4d87-b000-33fd093a53a5",
   "metadata": {},
   "outputs": [
    {
     "name": "stdout",
     "output_type": "stream",
     "text": [
      "P(Awin) = 0.5000000000000001\n"
     ]
    }
   ],
   "source": [
    "Awin = (0.2 * 0.9) + (0.8 * 0.4)\n",
    "print(\"P(Awin) = \" + str(Awin))"
   ]
  },
  {
   "cell_type": "code",
   "execution_count": 3,
   "id": "26a2ab82-ce19-43ce-bfcc-40c9042cf172",
   "metadata": {},
   "outputs": [
    {
     "name": "stdout",
     "output_type": "stream",
     "text": [
      "P(RW|Awin) = 0.36\n"
     ]
    }
   ],
   "source": [
    "rough = (0.2 * 0.9) / Awin\n",
    "print(\"P(RW|Awin) = \" + str(rough))"
   ]
  },
  {
   "cell_type": "code",
   "execution_count": 10,
   "id": "c7e527d6-0ab4-4730-8811-5784e61fbb82",
   "metadata": {},
   "outputs": [
    {
     "name": "stdout",
     "output_type": "stream",
     "text": [
      "P(victory|Awin) = 0.6874999999999999\n"
     ]
    }
   ],
   "source": [
    "wins3 = (0.5 * 0.5 * 0.5) + (0.5 * 0.5 * 0.5 * 0.5) + (0.5 * 0.5 * 0.5 * 0.5 * 0.5) + (0.5 * 0.5 * 0.5 * 0.5 * 0.5) + (0.5 * 0.5 * 0.5 * 0.5) + (0.5 * 0.5 * 0.5 * 0.5 * 0.5)\n",
    "vicGAwin = wins3 / Awin\n",
    "print(\"P(victory|Awin) = \" + str(vicGAwin))"
   ]
  }
 ],
 "metadata": {
  "kernelspec": {
   "display_name": "Python 3 (ipykernel)",
   "language": "python",
   "name": "python3"
  },
  "language_info": {
   "codemirror_mode": {
    "name": "ipython",
    "version": 3
   },
   "file_extension": ".py",
   "mimetype": "text/x-python",
   "name": "python",
   "nbconvert_exporter": "python",
   "pygments_lexer": "ipython3",
   "version": "3.12.1"
  }
 },
 "nbformat": 4,
 "nbformat_minor": 5
}

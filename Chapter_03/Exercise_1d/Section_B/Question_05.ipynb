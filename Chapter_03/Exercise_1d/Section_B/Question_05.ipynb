{
 "cells": [
  {
   "cell_type": "markdown",
   "id": "f9088437-2bcf-49f5-9665-7252993cedb2",
   "metadata": {},
   "source": [
    "# Question 5\n",
    "-----"
   ]
  },
  {
   "cell_type": "code",
   "execution_count": 1,
   "id": "9cc18690-f0f8-4751-96e7-f895aca3efbb",
   "metadata": {},
   "outputs": [
    {
     "name": "stdout",
     "output_type": "stream",
     "text": [
      "P(6 and not 6) = 0.125\n"
     ]
    }
   ],
   "source": [
    "sixnotsix = (1/6) * (0.75)\n",
    "print(\"P(6 and not 6) = \" + str(sixnotsix))"
   ]
  },
  {
   "cell_type": "code",
   "execution_count": 2,
   "id": "d9eba0e1-6467-48cc-8f0f-0c7c5f09881a",
   "metadata": {},
   "outputs": [
    {
     "name": "stdout",
     "output_type": "stream",
     "text": [
      "P(at least one 6) = 0.375\n"
     ]
    }
   ],
   "source": [
    "six = 1 - ((5/6) * (0.75))\n",
    "print(\"P(at least one 6) = \" + str(six))"
   ]
  },
  {
   "cell_type": "code",
   "execution_count": 4,
   "id": "593aa2cd-76ea-4f33-b9ba-b917d09b4d7e",
   "metadata": {},
   "outputs": [
    {
     "name": "stdout",
     "output_type": "stream",
     "text": [
      "P(exactly one six | at least one six) = 0.888888888888889\n"
     ]
    }
   ],
   "source": [
    "onesix = ((1/6) * (0.75)) + ((5/6) * (0.25))\n",
    "onesixGsix = onesix / six\n",
    "print(\"P(exactly one six | at least one six) = \" + str(onesixGsix))"
   ]
  }
 ],
 "metadata": {
  "kernelspec": {
   "display_name": "Python 3 (ipykernel)",
   "language": "python",
   "name": "python3"
  },
  "language_info": {
   "codemirror_mode": {
    "name": "ipython",
    "version": 3
   },
   "file_extension": ".py",
   "mimetype": "text/x-python",
   "name": "python",
   "nbconvert_exporter": "python",
   "pygments_lexer": "ipython3",
   "version": "3.12.1"
  }
 },
 "nbformat": 4,
 "nbformat_minor": 5
}

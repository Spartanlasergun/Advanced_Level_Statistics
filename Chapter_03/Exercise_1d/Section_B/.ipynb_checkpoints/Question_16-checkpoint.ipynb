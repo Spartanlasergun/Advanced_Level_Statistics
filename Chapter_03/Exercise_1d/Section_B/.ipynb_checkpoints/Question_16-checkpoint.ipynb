{
 "cells": [
  {
   "cell_type": "markdown",
   "id": "73b9b231-116f-494e-b563-3c8ca2eed052",
   "metadata": {},
   "source": [
    "# Question 16\n",
    "-----"
   ]
  },
  {
   "cell_type": "code",
   "execution_count": 2,
   "id": "f2d8d30a-fb8b-4059-8152-1101371b7376",
   "metadata": {},
   "outputs": [
    {
     "name": "stdout",
     "output_type": "stream",
     "text": [
      "P(all three) = 0.052734375\n"
     ]
    }
   ],
   "source": [
    "all3 = (3/4) * (3/4 * 1/2) * (3/4 * 1/4)\n",
    "print(\"P(all three) = \" + str(all3))"
   ]
  },
  {
   "cell_type": "code",
   "execution_count": 9,
   "id": "df871aa1-d1c9-4f31-bb18-8268620d5c95",
   "metadata": {},
   "outputs": [
    {
     "name": "stdout",
     "output_type": "stream",
     "text": [
      "P(at least one win) = 0.28125\n"
     ]
    }
   ],
   "source": [
    "success1 = ((3/4) * (5/8) * (1/4)) + ((3/4) * (1/4) * (5/8)) + ((1/4) * (1/4) * (3/4))\n",
    "print(\"P(at least one win) = \" + str(success1))"
   ]
  },
  {
   "cell_type": "code",
   "execution_count": 13,
   "id": "e96527b7-85c5-4eae-b99a-c87e3fb7895d",
   "metadata": {},
   "outputs": [
    {
     "name": "stdout",
     "output_type": "stream",
     "text": [
      "P(no two in a row) = 0.6484375\n"
     ]
    }
   ],
   "source": [
    "notwo = 1 - (((3/4) * (3/8) * (3/16)) + ((3/4) * (3/8) * (13/16)) + ((1/4) * (3/4) * (3/8)))\n",
    "print(\"P(no two in a row) = \" + str(notwo))"
   ]
  },
  {
   "cell_type": "code",
   "execution_count": 20,
   "id": "43b64313-cdf5-4060-9a2e-1460c5d13dc1",
   "metadata": {},
   "outputs": [
    {
     "name": "stdout",
     "output_type": "stream",
     "text": [
      "P(2W|exact2W) = 0.4594594594594595\n"
     ]
    }
   ],
   "source": [
    "exacttwosuccess = ((3/4) * (3/8) * (13/16)) + ((3/4) * (5/8) * (3/4)) + ((1/4) * (3/4) * (3/8))\n",
    "twoconsecutive = ((3/4) * (3/8) * (13/16)) + ((1/4) * (3/4) * (3/8))\n",
    "twogivenexacttwo = twoconsecutive / exacttwosuccess\n",
    "print(\"P(2W|exact2W) = \" + str(twogivenexacttwo)) "
   ]
  },
  {
   "cell_type": "markdown",
   "id": "3379a632-95bb-4b63-b7a2-6450f96b6a6a",
   "metadata": {},
   "source": [
    "(There is an error in this question. The authors calculate two consecutive success as inclusive of the event containing three successes in part (c), and in part (d) three successes is excluded from consideration of two consecutive successes.)"
   ]
  }
 ],
 "metadata": {
  "kernelspec": {
   "display_name": "Python 3 (ipykernel)",
   "language": "python",
   "name": "python3"
  },
  "language_info": {
   "codemirror_mode": {
    "name": "ipython",
    "version": 3
   },
   "file_extension": ".py",
   "mimetype": "text/x-python",
   "name": "python",
   "nbconvert_exporter": "python",
   "pygments_lexer": "ipython3",
   "version": "3.12.1"
  }
 },
 "nbformat": 4,
 "nbformat_minor": 5
}

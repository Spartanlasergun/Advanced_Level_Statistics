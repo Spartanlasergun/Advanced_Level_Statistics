{
 "cells": [
  {
   "cell_type": "markdown",
   "id": "114db035-e15b-4c5e-b775-8da601985874",
   "metadata": {},
   "source": [
    "# Question 8\n",
    "-----"
   ]
  },
  {
   "cell_type": "code",
   "execution_count": 5,
   "id": "ec96e89a-c6bb-417b-805b-5177e754bd58",
   "metadata": {},
   "outputs": [
    {
     "name": "stdout",
     "output_type": "stream",
     "text": [
      "P(GC) = 0.04\n"
     ]
    }
   ],
   "source": [
    "girlchem = 0.44 * (1/11)\n",
    "print(\"P(GC) = \" + str(girlchem))"
   ]
  },
  {
   "cell_type": "code",
   "execution_count": 11,
   "id": "7d273ec4-c9e5-4b06-b6f3-42f091c54163",
   "metadata": {},
   "outputs": [
    {
     "name": "stdout",
     "output_type": "stream",
     "text": [
      "P(nochem) = 0.8480000000000001\n"
     ]
    }
   ],
   "source": [
    "nochem = (0.44 * (10/11)) + (0.56 * 0.8)\n",
    "print(\"P(nochem) = \" + str(nochem))"
   ]
  },
  {
   "cell_type": "code",
   "execution_count": 12,
   "id": "7d6a754e-8d1c-416f-9e4d-08631a441132",
   "metadata": {},
   "outputs": [
    {
     "name": "stdout",
     "output_type": "stream",
     "text": [
      "P(MaleChem|Chem) = 0.7368421052631584\n"
     ]
    }
   ],
   "source": [
    "chem = 1 - nochem\n",
    "malechem = (0.56 * 0.2)\n",
    "chemmale = malechem / chem\n",
    "print(\"P(MaleChem|Chem) = \" + str(chemmale))"
   ]
  }
 ],
 "metadata": {
  "kernelspec": {
   "display_name": "Python 3 (ipykernel)",
   "language": "python",
   "name": "python3"
  },
  "language_info": {
   "codemirror_mode": {
    "name": "ipython",
    "version": 3
   },
   "file_extension": ".py",
   "mimetype": "text/x-python",
   "name": "python",
   "nbconvert_exporter": "python",
   "pygments_lexer": "ipython3",
   "version": "3.12.1"
  }
 },
 "nbformat": 4,
 "nbformat_minor": 5
}

{
 "cells": [
  {
   "cell_type": "markdown",
   "id": "e9f135bc-5807-45ce-9db7-57a28fe3ef18",
   "metadata": {},
   "source": [
    "# Question 1\n",
    "-----"
   ]
  },
  {
   "cell_type": "code",
   "execution_count": 4,
   "id": "1bf4b85f-6f4f-4bd7-95ff-28d936881cfd",
   "metadata": {},
   "outputs": [
    {
     "name": "stdout",
     "output_type": "stream",
     "text": [
      "P(late) = 0.41666666666666663\n"
     ]
    }
   ],
   "source": [
    "late = ((1/4) * (2/3)) + ((3/4) * (1/3))\n",
    "print(\"P(late) = \" + str(late))"
   ]
  },
  {
   "cell_type": "code",
   "execution_count": 6,
   "id": "31a74559-1570-4177-866f-2de4f4ceb6e3",
   "metadata": {},
   "outputs": [
    {
     "name": "stdout",
     "output_type": "stream",
     "text": [
      "P(L|B) = 0.6000000000000001\n"
     ]
    }
   ],
   "source": [
    "lateB = ((3/4) * (1/3)) / late\n",
    "print(\"P(L|B) = \" + str(lateB))"
   ]
  }
 ],
 "metadata": {
  "kernelspec": {
   "display_name": "Python 3 (ipykernel)",
   "language": "python",
   "name": "python3"
  },
  "language_info": {
   "codemirror_mode": {
    "name": "ipython",
    "version": 3
   },
   "file_extension": ".py",
   "mimetype": "text/x-python",
   "name": "python",
   "nbconvert_exporter": "python",
   "pygments_lexer": "ipython3",
   "version": "3.12.1"
  }
 },
 "nbformat": 4,
 "nbformat_minor": 5
}

{
 "cells": [
  {
   "cell_type": "markdown",
   "id": "766e8143-343b-4d44-a6e0-b1b2d87389c3",
   "metadata": {},
   "source": [
    "# Question 6\n",
    "-----"
   ]
  },
  {
   "cell_type": "code",
   "execution_count": 1,
   "id": "69bbc38f-dbc2-4f15-ba11-224d70f96b88",
   "metadata": {},
   "outputs": [
    {
     "name": "stdout",
     "output_type": "stream",
     "text": [
      "P(straight drive) = 0.5750000000000001\n"
     ]
    }
   ],
   "source": [
    "straightdrive = (0.55 * 0.8) + (0.45 * 0.3)\n",
    "print(\"P(straight drive) = \" + str(straightdrive))"
   ]
  },
  {
   "cell_type": "code",
   "execution_count": 2,
   "id": "86a4a21e-d7d5-4f97-91e7-08c83c390076",
   "metadata": {},
   "outputs": [
    {
     "name": "stdout",
     "output_type": "stream",
     "text": [
      "P(WF|F) = 0.25882352941176473\n"
     ]
    }
   ],
   "source": [
    "failedwindy = (0.55 * 0.2) / ((0.55 * 0.2) + (0.45 * 0.7))\n",
    "print(\"P(WF|F) = \" + str(failedwindy))"
   ]
  }
 ],
 "metadata": {
  "kernelspec": {
   "display_name": "Python 3 (ipykernel)",
   "language": "python",
   "name": "python3"
  },
  "language_info": {
   "codemirror_mode": {
    "name": "ipython",
    "version": 3
   },
   "file_extension": ".py",
   "mimetype": "text/x-python",
   "name": "python",
   "nbconvert_exporter": "python",
   "pygments_lexer": "ipython3",
   "version": "3.12.1"
  }
 },
 "nbformat": 4,
 "nbformat_minor": 5
}

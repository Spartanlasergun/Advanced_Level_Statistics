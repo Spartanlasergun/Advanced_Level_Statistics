{
 "cells": [
  {
   "cell_type": "markdown",
   "id": "403840be-3161-484f-a55d-f88d27f76d8d",
   "metadata": {},
   "source": [
    "# Question 9\n",
    "-----"
   ]
  },
  {
   "cell_type": "code",
   "execution_count": 1,
   "id": "b3fdcf82-9ede-4b42-b70f-2abd57ec2a36",
   "metadata": {},
   "outputs": [
    {
     "name": "stdout",
     "output_type": "stream",
     "text": [
      "(P(CC) = 0.096\n"
     ]
    }
   ],
   "source": [
    "CC = 0.8 * 0.12\n",
    "print(\"P(CC) = \" + str(CC))"
   ]
  },
  {
   "cell_type": "code",
   "execution_count": 2,
   "id": "8d9f700c-a1c8-40e6-826c-23dc6e9e8e5c",
   "metadata": {},
   "outputs": [
    {
     "name": "stdout",
     "output_type": "stream",
     "text": [
      "P(carrots) = 0.156\n"
     ]
    }
   ],
   "source": [
    "carrots = CC + (0.2 * 0.3)\n",
    "print(\"P(carrots) = \" + str(carrots))"
   ]
  },
  {
   "cell_type": "code",
   "execution_count": 3,
   "id": "cbf1d60e-fe62-44cb-bbe5-367ce77cc083",
   "metadata": {},
   "outputs": [
    {
     "name": "stdout",
     "output_type": "stream",
     "text": [
      "P(OG|C) = 0.3846153846153846\n"
     ]
    }
   ],
   "source": [
    "OG = (0.2 * 0.3) / (carrots)\n",
    "print(\"P(OG|C) = \" + str(OG))"
   ]
  },
  {
   "cell_type": "markdown",
   "id": "21cfb083-3b77-4352-8a4c-7f1249617a84",
   "metadata": {},
   "source": [
    "The assumption is that the events are independent"
   ]
  }
 ],
 "metadata": {
  "kernelspec": {
   "display_name": "Python 3 (ipykernel)",
   "language": "python",
   "name": "python3"
  },
  "language_info": {
   "codemirror_mode": {
    "name": "ipython",
    "version": 3
   },
   "file_extension": ".py",
   "mimetype": "text/x-python",
   "name": "python",
   "nbconvert_exporter": "python",
   "pygments_lexer": "ipython3",
   "version": "3.12.1"
  }
 },
 "nbformat": 4,
 "nbformat_minor": 5
}

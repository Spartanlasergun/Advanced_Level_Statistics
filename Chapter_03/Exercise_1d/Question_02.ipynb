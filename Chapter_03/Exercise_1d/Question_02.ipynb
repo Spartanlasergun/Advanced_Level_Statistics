{
 "cells": [
  {
   "cell_type": "markdown",
   "id": "08af6013-5834-4c5e-885b-60a02a958b35",
   "metadata": {},
   "source": [
    "# Question 2\n",
    "-----"
   ]
  },
  {
   "cell_type": "markdown",
   "id": "04f36cca-c0fc-47d7-a8bd-15f786a2da11",
   "metadata": {},
   "source": [
    "a)\n",
    "$$P(A \\cup B) = P(A) + P(B) - P(A \\cap B)$$\n",
    "\n",
    "$$P(A \\cup B) = \\frac{1}{6} + \\frac{2}{7} - (\\frac{1}{6} * \\frac{2}{7}) = 0.40476$$\n",
    "\n",
    "$$P(A \\ or \\ B \\ but \\ not \\ both) = 0.40476 - (\\frac{1}{6} * \\frac{2}{7}) = 0.357$$\n",
    "\n",
    "b)\n",
    "$$P(A \\cup B) = 0.40476$$"
   ]
  }
 ],
 "metadata": {
  "kernelspec": {
   "display_name": "Python 3 (ipykernel)",
   "language": "python",
   "name": "python3"
  },
  "language_info": {
   "codemirror_mode": {
    "name": "ipython",
    "version": 3
   },
   "file_extension": ".py",
   "mimetype": "text/x-python",
   "name": "python",
   "nbconvert_exporter": "python",
   "pygments_lexer": "ipython3",
   "version": "3.12.1"
  }
 },
 "nbformat": 4,
 "nbformat_minor": 5
}

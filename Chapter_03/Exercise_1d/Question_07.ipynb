{
 "cells": [
  {
   "cell_type": "markdown",
   "id": "4932fd94-a2f9-48cc-a911-f57c3c4bd63a",
   "metadata": {},
   "source": [
    "# Question 7\n",
    "-----"
   ]
  },
  {
   "cell_type": "code",
   "execution_count": 3,
   "id": "23b14ce8-d4ca-47a2-a9f7-2fadaf226eb7",
   "metadata": {},
   "outputs": [
    {
     "name": "stdout",
     "output_type": "stream",
     "text": [
      "P(at least one morning) = 0.4375\n"
     ]
    }
   ],
   "source": [
    "atleastone = (0.25 * 0.75) + (0.75 * 0.25) + (0.25 * 0.25)\n",
    "print(\"P(at least one morning) = \" + str(atleastone))"
   ]
  }
 ],
 "metadata": {
  "kernelspec": {
   "display_name": "Python 3 (ipykernel)",
   "language": "python",
   "name": "python3"
  },
  "language_info": {
   "codemirror_mode": {
    "name": "ipython",
    "version": 3
   },
   "file_extension": ".py",
   "mimetype": "text/x-python",
   "name": "python",
   "nbconvert_exporter": "python",
   "pygments_lexer": "ipython3",
   "version": "3.12.1"
  }
 },
 "nbformat": 4,
 "nbformat_minor": 5
}

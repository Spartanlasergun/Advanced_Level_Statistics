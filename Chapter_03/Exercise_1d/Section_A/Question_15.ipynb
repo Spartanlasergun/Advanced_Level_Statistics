{
 "cells": [
  {
   "cell_type": "markdown",
   "id": "61273b80-6f36-44ad-9589-c4e642406d2a",
   "metadata": {},
   "source": [
    "# Question 15\n",
    "-----"
   ]
  },
  {
   "cell_type": "code",
   "execution_count": 6,
   "id": "b3549b3a-c3fb-4f77-a097-3e777261b09e",
   "metadata": {},
   "outputs": [
    {
     "name": "stdout",
     "output_type": "stream",
     "text": [
      "P(one of each) = 0.2727272727272727\n"
     ]
    }
   ],
   "source": [
    "each = 6 * ((3/12) * (4/11) * (5/10))\n",
    "print(\"P(one of each) = \" + str(each))"
   ]
  },
  {
   "cell_type": "code",
   "execution_count": 16,
   "id": "46b0eab0-8b2f-47c1-89cc-2560097a8fa6",
   "metadata": {},
   "outputs": [
    {
     "name": "stdout",
     "output_type": "stream",
     "text": [
      "P(2 from Asia) = 0.21818181818181814\n"
     ]
    }
   ],
   "source": [
    "Asia2 = (3 * (4/12) * (3/11) * (3/10)) + (3 * (4/12) * (3/11) * (5/10))\n",
    "print(\"P(2 from Asia) = \" + str(Asia2))"
   ]
  },
  {
   "cell_type": "code",
   "execution_count": 17,
   "id": "bfdf95a2-9f97-48c9-857b-02c65c8d866d",
   "metadata": {},
   "outputs": [
    {
     "name": "stdout",
     "output_type": "stream",
     "text": [
      "P(same from each) = 0.06818181818181818\n"
     ]
    }
   ],
   "source": [
    "same = ((3/12) * (2/11) * (1/10)) + ((4/12) * (3/11) * (2/10)) + ((5/12) * (4/11) * (3/10))\n",
    "print(\"P(same from each) = \" + str(same))"
   ]
  }
 ],
 "metadata": {
  "kernelspec": {
   "display_name": "Python 3 (ipykernel)",
   "language": "python",
   "name": "python3"
  },
  "language_info": {
   "codemirror_mode": {
    "name": "ipython",
    "version": 3
   },
   "file_extension": ".py",
   "mimetype": "text/x-python",
   "name": "python",
   "nbconvert_exporter": "python",
   "pygments_lexer": "ipython3",
   "version": "3.12.1"
  }
 },
 "nbformat": 4,
 "nbformat_minor": 5
}

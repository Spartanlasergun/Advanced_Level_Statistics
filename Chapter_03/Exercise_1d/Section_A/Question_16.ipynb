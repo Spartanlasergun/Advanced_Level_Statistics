{
 "cells": [
  {
   "cell_type": "markdown",
   "id": "24785e41-b9a4-4caf-8a6c-400aef5e4799",
   "metadata": {},
   "source": [
    "# Question 16\n",
    "-----"
   ]
  },
  {
   "cell_type": "code",
   "execution_count": 1,
   "id": "c4edfceb-da2f-4a37-b978-c7e8a2c3eb6d",
   "metadata": {},
   "outputs": [
    {
     "name": "stdout",
     "output_type": "stream",
     "text": [
      "P(three black) = 0.3429999999999999\n"
     ]
    }
   ],
   "source": [
    "three = (0.7 * 0.7 * 0.7)\n",
    "print(\"P(three black) = \" + str(three))"
   ]
  },
  {
   "cell_type": "code",
   "execution_count": 2,
   "id": "053f5ed2-4f79-4ba0-9e44-0e42c8c00fb2",
   "metadata": {},
   "outputs": [
    {
     "name": "stdout",
     "output_type": "stream",
     "text": [
      "P(WBW) = 0.063\n"
     ]
    }
   ],
   "source": [
    "WBW = (0.3 * 0.7 * 0.3)\n",
    "print(\"P(WBW) = \" + str(WBW))"
   ]
  },
  {
   "cell_type": "code",
   "execution_count": 3,
   "id": "a77f3924-a720-4788-ad65-2d83a4afd7b1",
   "metadata": {},
   "outputs": [
    {
     "name": "stdout",
     "output_type": "stream",
     "text": [
      "P(WWB any order) = 0.189\n"
     ]
    }
   ],
   "source": [
    "any_WWB = 3 * (0.3 * 0.3 * 0.7)\n",
    "print(\"P(WWB any order) = \" + str(any_WWB))"
   ]
  },
  {
   "cell_type": "code",
   "execution_count": 7,
   "id": "b4646bee-2c2c-4593-9199-4af2f7041861",
   "metadata": {},
   "outputs": [
    {
     "name": "stdout",
     "output_type": "stream",
     "text": [
      "P(at least one black) = 0.973\n"
     ]
    }
   ],
   "source": [
    "one_black = 1 - (0.3 * 0.3 * 0.3)\n",
    "print(\"P(at least one black) = \" + str(one_black))"
   ]
  },
  {
   "cell_type": "code",
   "execution_count": 9,
   "id": "4159f683-b822-4fba-9358-07e5262eee8d",
   "metadata": {},
   "outputs": [
    {
     "name": "stdout",
     "output_type": "stream",
     "text": [
      "three white marbles are both mutually exclusive and exhaustive\n"
     ]
    }
   ],
   "source": [
    "print(\"three white marbles are both mutually exclusive and exhaustive\")"
   ]
  }
 ],
 "metadata": {
  "kernelspec": {
   "display_name": "Python 3 (ipykernel)",
   "language": "python",
   "name": "python3"
  },
  "language_info": {
   "codemirror_mode": {
    "name": "ipython",
    "version": 3
   },
   "file_extension": ".py",
   "mimetype": "text/x-python",
   "name": "python",
   "nbconvert_exporter": "python",
   "pygments_lexer": "ipython3",
   "version": "3.12.1"
  }
 },
 "nbformat": 4,
 "nbformat_minor": 5
}

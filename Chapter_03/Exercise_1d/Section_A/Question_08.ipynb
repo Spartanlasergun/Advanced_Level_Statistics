{
 "cells": [
  {
   "cell_type": "markdown",
   "id": "acbad301-73fc-467c-aede-3bc24e3e2a23",
   "metadata": {},
   "source": [
    "# Question 8\n",
    "-----"
   ]
  },
  {
   "cell_type": "markdown",
   "id": "7d18ad54-b1d2-4194-9ec7-b29d83beb929",
   "metadata": {},
   "source": [
    "$$P(2) = 3(\\frac{1}{6} * \\frac{5}{6} * \\frac{5}{6}) = \\frac{25}{72}$$"
   ]
  }
 ],
 "metadata": {
  "kernelspec": {
   "display_name": "Python 3 (ipykernel)",
   "language": "python",
   "name": "python3"
  },
  "language_info": {
   "codemirror_mode": {
    "name": "ipython",
    "version": 3
   },
   "file_extension": ".py",
   "mimetype": "text/x-python",
   "name": "python",
   "nbconvert_exporter": "python",
   "pygments_lexer": "ipython3",
   "version": "3.12.1"
  }
 },
 "nbformat": 4,
 "nbformat_minor": 5
}

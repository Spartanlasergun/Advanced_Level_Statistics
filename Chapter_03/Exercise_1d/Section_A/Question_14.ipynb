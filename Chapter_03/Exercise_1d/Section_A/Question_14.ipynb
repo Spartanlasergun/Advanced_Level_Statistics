{
 "cells": [
  {
   "cell_type": "markdown",
   "id": "322aab91-4595-4b51-848c-bdfefad44dc2",
   "metadata": {},
   "source": [
    "# Question 14\n",
    "-----"
   ]
  },
  {
   "cell_type": "code",
   "execution_count": 1,
   "id": "f2107eb4-8e24-42f4-9774-7a84a7183edb",
   "metadata": {},
   "outputs": [
    {
     "name": "stdout",
     "output_type": "stream",
     "text": [
      "P(double fault) = 0.020000000000000004\n"
     ]
    }
   ],
   "source": [
    "double_fault = 0.4 * 0.05\n",
    "print(\"P(double fault) = \" + str(double_fault))"
   ]
  },
  {
   "cell_type": "code",
   "execution_count": 5,
   "id": "67c907d8-b45d-473d-921a-5154e5f4f5a4",
   "metadata": {},
   "outputs": [
    {
     "name": "stdout",
     "output_type": "stream",
     "text": [
      "P(winning) = 0.6399999999999999\n"
     ]
    }
   ],
   "source": [
    "winning = (0.6 * 0.75) + (0.4 * 0.95 * 0.5)\n",
    "print(\"P(winning) = \" + str(winning))"
   ]
  }
 ],
 "metadata": {
  "kernelspec": {
   "display_name": "Python 3 (ipykernel)",
   "language": "python",
   "name": "python3"
  },
  "language_info": {
   "codemirror_mode": {
    "name": "ipython",
    "version": 3
   },
   "file_extension": ".py",
   "mimetype": "text/x-python",
   "name": "python",
   "nbconvert_exporter": "python",
   "pygments_lexer": "ipython3",
   "version": "3.12.1"
  }
 },
 "nbformat": 4,
 "nbformat_minor": 5
}

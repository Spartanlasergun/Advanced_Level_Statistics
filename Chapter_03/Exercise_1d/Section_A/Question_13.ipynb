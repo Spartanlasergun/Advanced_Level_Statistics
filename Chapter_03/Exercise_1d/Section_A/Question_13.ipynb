{
 "cells": [
  {
   "cell_type": "markdown",
   "id": "19e65ba1-c158-40ea-b2b9-745da10eab3b",
   "metadata": {},
   "source": [
    "# Question 13\n",
    "-----"
   ]
  },
  {
   "cell_type": "code",
   "execution_count": 2,
   "id": "6151e31e-cb72-490a-88f3-041772f5ccdc",
   "metadata": {},
   "outputs": [
    {
     "name": "stdout",
     "output_type": "stream",
     "text": [
      "P(victory) = 0.788\n"
     ]
    }
   ],
   "source": [
    "victory = (0.6 * 0.7 * 0.8) + (0.6 * 0.7 * 0.2) + (0.6 * 0.3 * 0.8) + (0.4 * 0.7 * 0.8)\n",
    "print(\"P(victory) = \" + str(victory))"
   ]
  }
 ],
 "metadata": {
  "kernelspec": {
   "display_name": "Python 3 (ipykernel)",
   "language": "python",
   "name": "python3"
  },
  "language_info": {
   "codemirror_mode": {
    "name": "ipython",
    "version": 3
   },
   "file_extension": ".py",
   "mimetype": "text/x-python",
   "name": "python",
   "nbconvert_exporter": "python",
   "pygments_lexer": "ipython3",
   "version": "3.12.1"
  }
 },
 "nbformat": 4,
 "nbformat_minor": 5
}

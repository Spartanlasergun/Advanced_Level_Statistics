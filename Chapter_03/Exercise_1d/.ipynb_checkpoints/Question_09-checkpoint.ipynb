{
 "cells": [
  {
   "cell_type": "markdown",
   "id": "3a2b3494-b82e-4cc2-877f-33bf9e5bc6ca",
   "metadata": {},
   "source": [
    "# Question 9\n",
    "-----"
   ]
  },
  {
   "cell_type": "code",
   "execution_count": 13,
   "id": "9a6d9fe7-e8d8-4869-aaa2-a7523c740ece",
   "metadata": {},
   "outputs": [
    {
     "name": "stdout",
     "output_type": "stream",
     "text": [
      "0.3125\n"
     ]
    }
   ],
   "source": [
    "PL2H = (4 * ( 0.5 * 0.5 * 0.5 * 0.5)) + (0.5 * 0.5 * 0.5 * 0.5)\n",
    "print(PL2H)"
   ]
  }
 ],
 "metadata": {
  "kernelspec": {
   "display_name": "Python 3 (ipykernel)",
   "language": "python",
   "name": "python3"
  },
  "language_info": {
   "codemirror_mode": {
    "name": "ipython",
    "version": 3
   },
   "file_extension": ".py",
   "mimetype": "text/x-python",
   "name": "python",
   "nbconvert_exporter": "python",
   "pygments_lexer": "ipython3",
   "version": "3.12.1"
  }
 },
 "nbformat": 4,
 "nbformat_minor": 5
}

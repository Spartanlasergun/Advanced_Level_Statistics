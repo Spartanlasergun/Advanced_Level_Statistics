{
 "cells": [
  {
   "cell_type": "markdown",
   "id": "cd3840c9-5405-4f82-8fea-444e18651ae1",
   "metadata": {},
   "source": [
    "# Question 5\n",
    "-----"
   ]
  },
  {
   "cell_type": "code",
   "execution_count": 1,
   "id": "33b43154-5803-42f8-a4a3-a2020bda2626",
   "metadata": {},
   "outputs": [
    {
     "name": "stdout",
     "output_type": "stream",
     "text": [
      "P(Cracked) = 0.0059900000000000005\n"
     ]
    }
   ],
   "source": [
    "cracked = (0.002 * 0.5) + (0.998 * 0.005)\n",
    "print(\"P(Cracked) = \" + str(cracked))"
   ]
  },
  {
   "cell_type": "code",
   "execution_count": 2,
   "id": "8f3dc754-cbb2-497c-86d3-711380abe581",
   "metadata": {},
   "outputs": [
    {
     "name": "stdout",
     "output_type": "stream",
     "text": [
      "P(no defects) = 0.98705194\n"
     ]
    }
   ],
   "source": [
    "no_defects = (0.998 * 0.995 * 0.994)\n",
    "print(\"P(no defects) = \" + str(no_defects))"
   ]
  }
 ],
 "metadata": {
  "kernelspec": {
   "display_name": "Python 3 (ipykernel)",
   "language": "python",
   "name": "python3"
  },
  "language_info": {
   "codemirror_mode": {
    "name": "ipython",
    "version": 3
   },
   "file_extension": ".py",
   "mimetype": "text/x-python",
   "name": "python",
   "nbconvert_exporter": "python",
   "pygments_lexer": "ipython3",
   "version": "3.12.1"
  }
 },
 "nbformat": 4,
 "nbformat_minor": 5
}

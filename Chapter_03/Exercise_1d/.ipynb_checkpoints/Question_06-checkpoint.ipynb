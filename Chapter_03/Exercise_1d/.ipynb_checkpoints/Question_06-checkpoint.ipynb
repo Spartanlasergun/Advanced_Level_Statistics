{
 "cells": [
  {
   "cell_type": "markdown",
   "id": "d6f23385-7d48-4f8f-9616-9e047a7a643d",
   "metadata": {},
   "source": [
    "# Question 6\n",
    "-----"
   ]
  },
  {
   "cell_type": "markdown",
   "id": "c429c291-d703-4d97-ab5d-08605494547f",
   "metadata": {},
   "source": [
    "| Score | 1 | 2 | 3 |\n",
    "| --- | --- | --- | --- |\n",
    "| Probability | $\\frac{4}{7}$ | $\\frac{2}{7}$ | $\\frac{1}{7}$ | "
   ]
  },
  {
   "cell_type": "markdown",
   "id": "c26e3a30-aefc-40c9-9e45-2d7fbacd552d",
   "metadata": {},
   "source": [
    "a)\n",
    "$$P(4) = (\\frac{4}{7} * \\frac{1}{7}) + (\\frac{2}{7} * \\frac{2}{7}) + (\\frac{4}{7} * \\frac{1}{7})$$\n",
    "\n",
    "$$P(4) = \\frac{4}{49} + \\frac{4}{49} + \\frac{4}{49}$$\n",
    "\n",
    "$$P(4) = \\frac{12}{49}$$\n",
    "\n",
    "b)\n",
    "$$P(Odd) = (\\frac{4}{7} * \\frac{2}{7}) + (\\frac{2}{7} * \\frac{4}{7}) + (\\frac{2}{7} * \\frac{1}{7}) + (\\frac{1}{7} * \\frac{2}{7})$$\n",
    "\n",
    "$$P(Odd) = \\frac{8}{49} + \\frac{8}{49} + \\frac{2}{49} + \\frac{2}{49} = \\frac{20}{49}$$"
   ]
  }
 ],
 "metadata": {
  "kernelspec": {
   "display_name": "Python 3 (ipykernel)",
   "language": "python",
   "name": "python3"
  },
  "language_info": {
   "codemirror_mode": {
    "name": "ipython",
    "version": 3
   },
   "file_extension": ".py",
   "mimetype": "text/x-python",
   "name": "python",
   "nbconvert_exporter": "python",
   "pygments_lexer": "ipython3",
   "version": "3.12.1"
  }
 },
 "nbformat": 4,
 "nbformat_minor": 5
}

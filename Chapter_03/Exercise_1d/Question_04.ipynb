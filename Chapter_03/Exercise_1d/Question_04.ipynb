{
 "cells": [
  {
   "cell_type": "markdown",
   "id": "a81a95f1-f04e-468d-947f-c82b0d0c8727",
   "metadata": {},
   "source": [
    "# Question 4\n",
    "-----"
   ]
  },
  {
   "cell_type": "markdown",
   "id": "f281591a-527c-431a-9796-dc1f5b3fae60",
   "metadata": {},
   "source": [
    "a) (i)\n",
    "$$$P(RRR) = \\frac{2}{3} * \\frac{2}{3} * \\frac{2}{3} = \\frac{8}{27}$$\n",
    "\n",
    "(ii)\n",
    "$$(RRB, RBR, BRR) = 3(\\frac{2}{3} * \\frac{2}{3} * \\frac{1}{3}) = \\frac{4}{9}$$\n",
    "\n",
    "(iii)\n",
    "$$(RBB, BRB, BBR, BBB) = 3(\\frac{2}{3} * \\frac{1}{3} * \\frac{1}{3}) + (\\frac{1}{3})^3$$\n",
    "\n",
    "$$(RBB, BRB, BBR, BBB) =  \\frac{6}{27} + \\frac{1}{27} = \\frac{7}{27}$$ \n",
    "\n",
    "b)\n",
    "(i)\n",
    "$$P(RRR) = \\frac{2}{3} * \\frac{5}{8} * \\frac{4}{7} = \\frac{5}{21}$$\n",
    "\n",
    "(ii)\n",
    "$$P(RRB, \\ RBR, \\ BRR) = (\\frac{2}{3} * \\frac{5}{8} * \\frac{3}{7}) + (\\frac{2}{3} * \\frac{3}{8} * \\frac{5}{7}) + (\\frac{1}{3} * \\frac{3}{4} * \\frac{5}{7})$$\n",
    "\n",
    "$$P(RRB, \\ RBR, \\ BRR) =  = 0.179 + 0.179 + 0.179 = 0.537$$\n",
    "\n",
    "(iii)\n",
    "$$(RBB, BRB, BBR, BBB) = 3(\\frac{2}{3} * \\frac{3}{8} * \\frac{2}{7}) + (\\frac{1}{3} * \\frac{2}{8} * \\frac{1}{7})$$\n",
    "\n",
    "$$(RBB, BRB, BBR, BBB) = 3(\\frac{12}{168}) + (\\frac{2}{168})$$\n",
    "\n",
    "$$(RBB, BRB, BBR, BBB) = \\frac{38}{168} = \\frac{19}{84}$$"
   ]
  }
 ],
 "metadata": {
  "kernelspec": {
   "display_name": "Python 3 (ipykernel)",
   "language": "python",
   "name": "python3"
  },
  "language_info": {
   "codemirror_mode": {
    "name": "ipython",
    "version": 3
   },
   "file_extension": ".py",
   "mimetype": "text/x-python",
   "name": "python",
   "nbconvert_exporter": "python",
   "pygments_lexer": "ipython3",
   "version": "3.12.1"
  }
 },
 "nbformat": 4,
 "nbformat_minor": 5
}

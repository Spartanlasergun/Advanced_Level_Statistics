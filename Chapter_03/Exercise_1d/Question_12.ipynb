{
 "cells": [
  {
   "cell_type": "markdown",
   "id": "4a8df892-6f8a-4ab0-9789-139143acd60f",
   "metadata": {},
   "source": [
    "# Question 12\n",
    "-----"
   ]
  },
  {
   "cell_type": "markdown",
   "id": "1c2fd7ea-e17b-48b5-b3c6-57514d423a5e",
   "metadata": {},
   "source": [
    "a) \n",
    "$$P(A) = 0.5$$\n",
    "\n",
    "b)\n",
    "$$P(B) = (0.5 * 0.5) + (0.5 * 0.5) = 0.5$$\n",
    "\n",
    "c)\n",
    "$$P(C) = (0.5 * 0.5 * 0.5) + (0.5 * 0.5 * 0.5) + (0.5 * 0.5 * 0.5) = 0.375$$"
   ]
  }
 ],
 "metadata": {
  "kernelspec": {
   "display_name": "Python 3 (ipykernel)",
   "language": "python",
   "name": "python3"
  },
  "language_info": {
   "codemirror_mode": {
    "name": "ipython",
    "version": 3
   },
   "file_extension": ".py",
   "mimetype": "text/x-python",
   "name": "python",
   "nbconvert_exporter": "python",
   "pygments_lexer": "ipython3",
   "version": "3.12.1"
  }
 },
 "nbformat": 4,
 "nbformat_minor": 5
}

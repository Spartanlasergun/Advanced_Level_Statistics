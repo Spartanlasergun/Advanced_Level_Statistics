{
 "cells": [
  {
   "cell_type": "markdown",
   "id": "9983a162-a807-42c0-93d8-63a8b02e5b26",
   "metadata": {},
   "source": [
    "# Question 16\n",
    "-----"
   ]
  },
  {
   "cell_type": "markdown",
   "id": "f88ee8bf-82e9-4e1c-8dcd-10df7be4d970",
   "metadata": {},
   "source": [
    "$$a) P(A) = \\frac{1}{4}$$\n",
    "\n",
    "$$P(B) = \\frac{1}{7}$$\n",
    "\n",
    "$$P(C) = \\frac{3}{14}$$\n",
    "\n",
    "$$P(B \\cup C) = P(B) + P(C) - P(B \\cap C)$$\n",
    "\n",
    "$$b) P(B \\cup C) = \\frac{1}{7} + \\frac{3}{14} - (1/28) = 0.3214$$\n",
    "\n",
    "c) events A and B are not independent\n",
    "\n",
    "$$P(A|C) = \\frac{P(A \\cap C)}{P(C)}$$\n",
    "\n",
    "$$P(A|C) = \\frac{\\frac{1}{28}}{\\frac{3}{14}} = \\frac{1}{6}$$\n",
    "\n",
    "d) A and C are not independent because they can occur together\n",
    "\n",
    "e) question ommitted"
   ]
  }
 ],
 "metadata": {
  "kernelspec": {
   "display_name": "Python 3 (ipykernel)",
   "language": "python",
   "name": "python3"
  },
  "language_info": {
   "codemirror_mode": {
    "name": "ipython",
    "version": 3
   },
   "file_extension": ".py",
   "mimetype": "text/x-python",
   "name": "python",
   "nbconvert_exporter": "python",
   "pygments_lexer": "ipython3",
   "version": "3.12.1"
  }
 },
 "nbformat": 4,
 "nbformat_minor": 5
}

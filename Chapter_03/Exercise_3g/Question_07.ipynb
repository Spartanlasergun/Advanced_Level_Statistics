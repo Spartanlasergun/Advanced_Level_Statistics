{
 "cells": [
  {
   "cell_type": "markdown",
   "id": "0d06251e-7043-401f-aeba-eafec0a66d57",
   "metadata": {},
   "source": [
    "# Question 7\n",
    "-----"
   ]
  },
  {
   "cell_type": "code",
   "execution_count": 2,
   "id": "4c8db60b-3142-4ea0-9399-f206d04a7cde",
   "metadata": {},
   "outputs": [
    {
     "name": "stdout",
     "output_type": "stream",
     "text": [
      "P(not accepted) = 0.166\n"
     ]
    }
   ],
   "source": [
    "notaccepted = (0.1 * 0.3 * 0.6) + (0.9 * 0.3 * 0.4) + (0.1 * 0.7 * 0.4) + (0.1 * 0.3 * 0.4)\n",
    "print(\"P(not accepted) = \" + str(notaccepted))"
   ]
  },
  {
   "cell_type": "code",
   "execution_count": 3,
   "id": "6c810d33-ad67-410d-998a-2c07ee343dff",
   "metadata": {},
   "outputs": [
    {
     "name": "stdout",
     "output_type": "stream",
     "text": [
      "P(accepted all 3) = 0.5800937039999999\n"
     ]
    }
   ],
   "source": [
    "accepted = 1 - notaccepted\n",
    "poems3 = accepted * accepted * accepted\n",
    "print(\"P(accepted all 3) = \" + str(poems3))"
   ]
  }
 ],
 "metadata": {
  "kernelspec": {
   "display_name": "Python 3 (ipykernel)",
   "language": "python",
   "name": "python3"
  },
  "language_info": {
   "codemirror_mode": {
    "name": "ipython",
    "version": 3
   },
   "file_extension": ".py",
   "mimetype": "text/x-python",
   "name": "python",
   "nbconvert_exporter": "python",
   "pygments_lexer": "ipython3",
   "version": "3.12.1"
  }
 },
 "nbformat": 4,
 "nbformat_minor": 5
}

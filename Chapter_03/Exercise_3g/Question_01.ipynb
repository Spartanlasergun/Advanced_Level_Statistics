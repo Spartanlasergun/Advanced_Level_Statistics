{
 "cells": [
  {
   "cell_type": "markdown",
   "id": "da0160f0-41ca-471b-8110-939f2a1a313b",
   "metadata": {},
   "source": [
    "# Question 1\n",
    "-----"
   ]
  },
  {
   "cell_type": "code",
   "execution_count": 5,
   "id": "0a2bac06-6de9-4c83-b9be-3f2aa81f5dab",
   "metadata": {},
   "outputs": [
    {
     "name": "stdout",
     "output_type": "stream",
     "text": [
      "P(both) = 0.36\n"
     ]
    }
   ],
   "source": [
    "both = 0.6 * 0.6\n",
    "print(\"P(both) = \" + str(both))"
   ]
  },
  {
   "cell_type": "code",
   "execution_count": 6,
   "id": "89c1585b-1834-4d11-b400-6c518a5a9003",
   "metadata": {},
   "outputs": [
    {
     "name": "stdout",
     "output_type": "stream",
     "text": [
      "P(exactly one) = 0.48\n"
     ]
    }
   ],
   "source": [
    "exactlyone = (0.4 * 0.6) * 2\n",
    "print(\"P(exactly one) = \" + str(exactlyone))"
   ]
  },
  {
   "cell_type": "code",
   "execution_count": 7,
   "id": "dda2fbcb-8a9f-496e-b3e2-c021ff2fc934",
   "metadata": {},
   "outputs": [
    {
     "name": "stdout",
     "output_type": "stream",
     "text": [
      "P(lose all) = 0.010240000000000004\n"
     ]
    }
   ],
   "source": [
    "loseall = none\n",
    "print(\"P(lose all) = \" + str(loseall))"
   ]
  },
  {
   "cell_type": "code",
   "execution_count": 8,
   "id": "689ae72e-8e43-4536-a0f0-26d0dbd9b441",
   "metadata": {},
   "outputs": [
    {
     "name": "stdout",
     "output_type": "stream",
     "text": [
      "P(at least one) = 0.98976\n"
     ]
    }
   ],
   "source": [
    "none = 0.4 * 0.4 * 0.4 * 0.4 * 0.4\n",
    "atleastone = 1 - none\n",
    "print(\"P(at least one) = \" + str(atleastone))"
   ]
  }
 ],
 "metadata": {
  "kernelspec": {
   "display_name": "Python 3 (ipykernel)",
   "language": "python",
   "name": "python3"
  },
  "language_info": {
   "codemirror_mode": {
    "name": "ipython",
    "version": 3
   },
   "file_extension": ".py",
   "mimetype": "text/x-python",
   "name": "python",
   "nbconvert_exporter": "python",
   "pygments_lexer": "ipython3",
   "version": "3.12.1"
  }
 },
 "nbformat": 4,
 "nbformat_minor": 5
}

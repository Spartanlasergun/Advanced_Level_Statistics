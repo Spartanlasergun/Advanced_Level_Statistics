{
 "cells": [
  {
   "cell_type": "markdown",
   "id": "b997487c-fb04-4483-bc8a-08746995986d",
   "metadata": {},
   "source": [
    "# Question 15\n",
    "-----"
   ]
  },
  {
   "cell_type": "code",
   "execution_count": 1,
   "id": "8d86c4e4-3774-4faa-9d91-3d9881ff2527",
   "metadata": {},
   "outputs": [
    {
     "name": "stdout",
     "output_type": "stream",
     "text": [
      "40320\n"
     ]
    }
   ],
   "source": [
    "import math\n",
    "\n",
    "arrangements = math.factorial(8)\n",
    "print(arrangements)"
   ]
  },
  {
   "cell_type": "code",
   "execution_count": 2,
   "id": "146943ad-ee32-4f07-89d7-6522e9be28a5",
   "metadata": {},
   "outputs": [
    {
     "name": "stdout",
     "output_type": "stream",
     "text": [
      "1440\n"
     ]
    }
   ],
   "source": [
    "AB = (math.factorial(6) * math.factorial(2))\n",
    "print(AB)"
   ]
  },
  {
   "cell_type": "code",
   "execution_count": 3,
   "id": "4933c8b3-f012-4000-a72f-493e1b606bb8",
   "metadata": {},
   "outputs": [
    {
     "name": "stdout",
     "output_type": "stream",
     "text": [
      "5760\n"
     ]
    }
   ],
   "source": [
    "play = AB * 4\n",
    "print(play)"
   ]
  },
  {
   "cell_type": "code",
   "execution_count": 4,
   "id": "4a354476-6f6a-4087-9abc-33b9af346773",
   "metadata": {},
   "outputs": [
    {
     "name": "stdout",
     "output_type": "stream",
     "text": [
      "0.14285714285714285\n"
     ]
    }
   ],
   "source": [
    "probAB = play / arrangements\n",
    "print(probAB)"
   ]
  },
  {
   "cell_type": "code",
   "execution_count": 5,
   "id": "ac5e0d17-afef-4b8e-8107-98960c6e6af8",
   "metadata": {},
   "outputs": [
    {
     "name": "stdout",
     "output_type": "stream",
     "text": [
      "0.8571428571428572\n"
     ]
    }
   ],
   "source": [
    "primeAB = 1 - probAB\n",
    "print(primeAB)"
   ]
  },
  {
   "cell_type": "code",
   "execution_count": 6,
   "id": "2be6e004-048f-45ee-a866-66a2103cce62",
   "metadata": {},
   "outputs": [
    {
     "name": "stdout",
     "output_type": "stream",
     "text": [
      "576\n"
     ]
    }
   ],
   "source": [
    "GGGGBBBB = math.factorial(4) * math.factorial(4)\n",
    "print(GGGGBBBB)"
   ]
  },
  {
   "cell_type": "markdown",
   "id": "66b7f680-d156-465e-a120-1e0519eba477",
   "metadata": {},
   "source": [
    "part (e) ommitted due to ambiguity"
   ]
  }
 ],
 "metadata": {
  "kernelspec": {
   "display_name": "Python 3 (ipykernel)",
   "language": "python",
   "name": "python3"
  },
  "language_info": {
   "codemirror_mode": {
    "name": "ipython",
    "version": 3
   },
   "file_extension": ".py",
   "mimetype": "text/x-python",
   "name": "python",
   "nbconvert_exporter": "python",
   "pygments_lexer": "ipython3",
   "version": "3.12.1"
  }
 },
 "nbformat": 4,
 "nbformat_minor": 5
}

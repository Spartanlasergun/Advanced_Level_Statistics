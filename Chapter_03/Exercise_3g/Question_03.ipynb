{
 "cells": [
  {
   "cell_type": "markdown",
   "id": "d0230d3d-994a-4fb2-b240-22cc695932b5",
   "metadata": {},
   "source": [
    "# Question 3\n",
    "-----"
   ]
  },
  {
   "cell_type": "code",
   "execution_count": 1,
   "id": "5bc737f9-7a8f-491a-8aa5-aafa6ea52001",
   "metadata": {},
   "outputs": [
    {
     "name": "stdout",
     "output_type": "stream",
     "text": [
      "P(D|P) = 0.09115770282588878\n"
     ]
    }
   ],
   "source": [
    "positive = (0.002 * 0.99) + (0.998 * 0.02)\n",
    "prob = 0.002 / positive\n",
    "print(\"P(D|P) = \" + str(prob))"
   ]
  },
  {
   "cell_type": "markdown",
   "id": "051656de-309f-466e-9306-d6de8f567f8c",
   "metadata": {},
   "source": [
    "The test is unsatisfactory"
   ]
  }
 ],
 "metadata": {
  "kernelspec": {
   "display_name": "Python 3 (ipykernel)",
   "language": "python",
   "name": "python3"
  },
  "language_info": {
   "codemirror_mode": {
    "name": "ipython",
    "version": 3
   },
   "file_extension": ".py",
   "mimetype": "text/x-python",
   "name": "python",
   "nbconvert_exporter": "python",
   "pygments_lexer": "ipython3",
   "version": "3.12.1"
  }
 },
 "nbformat": 4,
 "nbformat_minor": 5
}

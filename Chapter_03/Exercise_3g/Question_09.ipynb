{
 "cells": [
  {
   "cell_type": "markdown",
   "id": "fc3112b5-dd1f-443d-87c3-612a0aa90f09",
   "metadata": {},
   "source": [
    "# Question 9\n",
    "-----"
   ]
  },
  {
   "cell_type": "code",
   "execution_count": 1,
   "id": "aa373057-fc92-4847-915d-6473dd0311b8",
   "metadata": {},
   "outputs": [
    {
     "name": "stdout",
     "output_type": "stream",
     "text": [
      "P(monday birth) = 0.0029154518950437313\n"
     ]
    }
   ],
   "source": [
    "monday = (1/7) * (1/7) * (1/7)\n",
    "print(\"P(monday birth) = \" + str(monday))"
   ]
  },
  {
   "cell_type": "code",
   "execution_count": 2,
   "id": "de3b9d69-9be7-4ea6-bf99-b1a00e5d3c42",
   "metadata": {},
   "outputs": [
    {
     "name": "stdout",
     "output_type": "stream",
     "text": [
      "P(same day) = 0.020408163265306117\n"
     ]
    }
   ],
   "source": [
    "sameday = monday * 7\n",
    "print(\"P(same day) = \" + str(sameday))"
   ]
  },
  {
   "cell_type": "code",
   "execution_count": 3,
   "id": "3862577b-13b4-4150-956e-587a0fc37313",
   "metadata": {},
   "outputs": [
    {
     "name": "stdout",
     "output_type": "stream",
     "text": [
      "P(different days) = 0.6122448979591836\n"
     ]
    }
   ],
   "source": [
    "import math\n",
    "\n",
    "different = ((math.factorial(7)) / (math.factorial(4))) * monday\n",
    "print(\"P(different days) = \" + str(different))"
   ]
  },
  {
   "cell_type": "code",
   "execution_count": 4,
   "id": "2f3f05d9-7e84-4044-a8bb-6316ac658fce",
   "metadata": {},
   "outputs": [
    {
     "name": "stdout",
     "output_type": "stream",
     "text": [
      "P(weekend) = 0.02332361516034985\n"
     ]
    }
   ],
   "source": [
    "weekend = ((math.factorial(3) / math.factorial(2)) * 2 * monday) + (monday * 2)\n",
    "print(\"P(weekend) = \" + str(weekend))"
   ]
  },
  {
   "cell_type": "code",
   "execution_count": 5,
   "id": "0bec039d-7935-4ca4-a6fb-149f44401e84",
   "metadata": {},
   "outputs": [
    {
     "name": "stdout",
     "output_type": "stream",
     "text": [
      "P(S|W) = 0.25\n"
     ]
    }
   ],
   "source": [
    "sGw = (monday * 2) / weekend\n",
    "print(\"P(S|W) = \" + str(sGw))"
   ]
  },
  {
   "cell_type": "markdown",
   "id": "b0660991-d3c1-4c43-887a-088914ba20bc",
   "metadata": {},
   "source": [
    "$$ P(different \\ days) = \\frac{n!}{r!(n-r)!} * (\\frac{1}{7})^r$$\n",
    "\n",
    "hence,\n",
    "\n",
    "$$\\frac{n!}{r!(n-r)!} * (\\frac{1}{7})^r < 0.05  $$\n",
    "\n",
    "group size is given by $r$, and $n$ is always equal to $7$\n",
    "\n",
    "hence,\n",
    "\n",
    "$$\\frac{7!}{r!(7-r)!} * (\\frac{1}{7})^r < 0.05  $$\n",
    "\n",
    "$r$ is always discreet. Using and exhaustive solution,\n",
    "\n",
    "$$...$$\n",
    "\n",
    "$$\\frac{7!}{6!(7-6)!} * (\\frac{1}{7})^6 < 0.05  $$\n",
    "\n",
    "$$0.0428 <0.05$$\n",
    "\n",
    "Thus, a group of 6 people will lower the probabilty of giving birth on different days below 0.05"
   ]
  }
 ],
 "metadata": {
  "kernelspec": {
   "display_name": "Python 3 (ipykernel)",
   "language": "python",
   "name": "python3"
  },
  "language_info": {
   "codemirror_mode": {
    "name": "ipython",
    "version": 3
   },
   "file_extension": ".py",
   "mimetype": "text/x-python",
   "name": "python",
   "nbconvert_exporter": "python",
   "pygments_lexer": "ipython3",
   "version": "3.12.1"
  }
 },
 "nbformat": 4,
 "nbformat_minor": 5
}

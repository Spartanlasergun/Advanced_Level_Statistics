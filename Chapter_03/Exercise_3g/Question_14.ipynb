{
 "cells": [
  {
   "cell_type": "markdown",
   "id": "4f3efdaa-1cec-4e71-9b10-cae32fa26230",
   "metadata": {},
   "source": [
    "# Question 14\n",
    "-----"
   ]
  },
  {
   "cell_type": "code",
   "execution_count": 1,
   "id": "9a02eb07-dc94-410d-a0a5-2541e04aefb4",
   "metadata": {},
   "outputs": [
    {
     "name": "stdout",
     "output_type": "stream",
     "text": [
      "possible selections = 792.0\n"
     ]
    }
   ],
   "source": [
    "import math\n",
    "\n",
    "n = 12\n",
    "r = 5\n",
    "combinations = ((math.factorial(n)) / (math.factorial(r) * math.factorial(n-r)))\n",
    "print(\"possible selections = \" + str(combinations))"
   ]
  },
  {
   "cell_type": "code",
   "execution_count": 2,
   "id": "42a65ed6-e653-4289-b6b7-5ca254c0fa89",
   "metadata": {},
   "outputs": [
    {
     "name": "stdout",
     "output_type": "stream",
     "text": [
      "possibilites with 3 boys = 210.0\n"
     ]
    }
   ],
   "source": [
    "boys3 = ((math.factorial(5)) / (math.factorial(3) * math.factorial(2))) * ((math.factorial(7)) / (math.factorial(2) * math.factorial(5)))\n",
    "print(\"possibilites with 3 boys = \" + str(boys3))"
   ]
  },
  {
   "cell_type": "code",
   "execution_count": 3,
   "id": "a2e98919-658d-4583-9b23-50c86857c65d",
   "metadata": {},
   "outputs": [
    {
     "name": "stdout",
     "output_type": "stream",
     "text": [
      "P(exactly 3 boys) = 0.26515151515151514\n"
     ]
    }
   ],
   "source": [
    "prob3 = boys3 / combinations\n",
    "print(\"P(exactly 3 boys) = \" + str(prob3))"
   ]
  },
  {
   "cell_type": "code",
   "execution_count": 4,
   "id": "69c44c84-4144-4023-afd0-9169f426e93e",
   "metadata": {},
   "outputs": [
    {
     "name": "stdout",
     "output_type": "stream",
     "text": [
      "ways to fill seats = 120\n"
     ]
    }
   ],
   "source": [
    "seats = math.factorial(5)\n",
    "print(\"ways to fill seats = \" + str(seats))"
   ]
  },
  {
   "cell_type": "code",
   "execution_count": 5,
   "id": "ef90f51c-517b-4472-8460-cf00d52d98f1",
   "metadata": {},
   "outputs": [
    {
     "name": "stdout",
     "output_type": "stream",
     "text": [
      "P(LLJ) = 0.1\n"
     ]
    }
   ],
   "source": [
    "LLJ = math.factorial(4) / 2\n",
    "probLLJ = LLJ / seats\n",
    "print(\"P(LLJ) = \" + str(probLLJ))"
   ]
  },
  {
   "cell_type": "code",
   "execution_count": 6,
   "id": "9d27bcfb-a897-44c5-9c18-df77a8e2565a",
   "metadata": {},
   "outputs": [
    {
     "name": "stdout",
     "output_type": "stream",
     "text": [
      "P(alternate) = 0.09999999999999999\n"
     ]
    }
   ],
   "source": [
    "alternate = ((3/6) * (3/5) * (2/4) * (2/3) * (1/2)) * 2\n",
    "print(\"P(alternate) = \" + str(alternate))"
   ]
  }
 ],
 "metadata": {
  "kernelspec": {
   "display_name": "Python 3 (ipykernel)",
   "language": "python",
   "name": "python3"
  },
  "language_info": {
   "codemirror_mode": {
    "name": "ipython",
    "version": 3
   },
   "file_extension": ".py",
   "mimetype": "text/x-python",
   "name": "python",
   "nbconvert_exporter": "python",
   "pygments_lexer": "ipython3",
   "version": "3.12.1"
  }
 },
 "nbformat": 4,
 "nbformat_minor": 5
}

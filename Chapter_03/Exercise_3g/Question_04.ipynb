{
 "cells": [
  {
   "cell_type": "markdown",
   "id": "ba4fb1da-b560-4f35-b15c-36a956fc6b2b",
   "metadata": {},
   "source": [
    "# Question 4\n",
    "-----"
   ]
  },
  {
   "cell_type": "code",
   "execution_count": 1,
   "id": "6c4f35f5-e60b-4aa3-afc9-3aca3fc7c866",
   "metadata": {},
   "outputs": [
    {
     "name": "stdout",
     "output_type": "stream",
     "text": [
      "P(One hit from 2 shots) = 0.32000000000000006\n"
     ]
    }
   ],
   "source": [
    "onegoal = (0.8 * 0.2) * 2\n",
    "print(\"P(One hit from 2 shots) = \" + str(onegoal))"
   ]
  },
  {
   "cell_type": "code",
   "execution_count": 11,
   "id": "aef06608-c3b7-488d-a332-3f5ec8190c84",
   "metadata": {},
   "outputs": [
    {
     "name": "stdout",
     "output_type": "stream",
     "text": [
      "P(S|OneGoal) = 0.46666666666666656\n"
     ]
    }
   ],
   "source": [
    "onegoalA = (0.8 * 0.2) + (0.2 * 0.7)\n",
    "prob = (0.7 * 0.2) / onegoalA\n",
    "print(\"P(S|OneGoal) = \" + str(prob))"
   ]
  }
 ],
 "metadata": {
  "kernelspec": {
   "display_name": "Python 3 (ipykernel)",
   "language": "python",
   "name": "python3"
  },
  "language_info": {
   "codemirror_mode": {
    "name": "ipython",
    "version": 3
   },
   "file_extension": ".py",
   "mimetype": "text/x-python",
   "name": "python",
   "nbconvert_exporter": "python",
   "pygments_lexer": "ipython3",
   "version": "3.12.1"
  }
 },
 "nbformat": 4,
 "nbformat_minor": 5
}

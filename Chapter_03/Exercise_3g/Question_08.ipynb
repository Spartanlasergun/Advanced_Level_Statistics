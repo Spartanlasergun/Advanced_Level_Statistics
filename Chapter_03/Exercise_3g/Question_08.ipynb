{
 "cells": [
  {
   "cell_type": "markdown",
   "id": "30687378-5808-47e7-8ef2-a7188a29d402",
   "metadata": {},
   "source": [
    "# Question 8\n",
    "-----"
   ]
  },
  {
   "cell_type": "code",
   "execution_count": 23,
   "id": "41c42d9d-1159-4c2c-948e-9cd48d802952",
   "metadata": {},
   "outputs": [
    {
     "name": "stdout",
     "output_type": "stream",
     "text": [
      "arrangements = 5040\n"
     ]
    }
   ],
   "source": [
    "import math\n",
    "\n",
    "arrangement = math.factorial(7)\n",
    "print(\"arrangements = \" + str(arrangement))"
   ]
  },
  {
   "cell_type": "code",
   "execution_count": 24,
   "id": "b95a5870-add1-4de8-b6fa-3e2335cb34e0",
   "metadata": {},
   "outputs": [
    {
     "name": "stdout",
     "output_type": "stream",
     "text": [
      "side by side = 720.0\n"
     ]
    }
   ],
   "source": [
    "together3 = (math.factorial(7) / math.factorial(3)) - math.factorial(5)\n",
    "print(\"side by side = \" + str(together3))"
   ]
  },
  {
   "cell_type": "code",
   "execution_count": 25,
   "id": "3d0083e7-70e1-4731-9559-3d03c9a73553",
   "metadata": {},
   "outputs": [
    {
     "name": "stdout",
     "output_type": "stream",
     "text": [
      "1440\n"
     ]
    }
   ],
   "source": [
    "b = (2 * math.factorial(6))\n",
    "print(b)"
   ]
  }
 ],
 "metadata": {
  "kernelspec": {
   "display_name": "Python 3 (ipykernel)",
   "language": "python",
   "name": "python3"
  },
  "language_info": {
   "codemirror_mode": {
    "name": "ipython",
    "version": 3
   },
   "file_extension": ".py",
   "mimetype": "text/x-python",
   "name": "python",
   "nbconvert_exporter": "python",
   "pygments_lexer": "ipython3",
   "version": "3.12.1"
  }
 },
 "nbformat": 4,
 "nbformat_minor": 5
}

{
 "cells": [
  {
   "cell_type": "markdown",
   "id": "26c7a7e6-7821-495c-a823-2e777140e0da",
   "metadata": {},
   "source": [
    "# Question 11\n",
    "-----"
   ]
  },
  {
   "cell_type": "code",
   "execution_count": 1,
   "id": "6f6423f6-8640-4ea2-bb43-353c9a6619f6",
   "metadata": {},
   "outputs": [
    {
     "name": "stdout",
     "output_type": "stream",
     "text": [
      "P(rejected) = 0.005000000000000001\n"
     ]
    }
   ],
   "source": [
    "rejected = 0.1 * 0.05\n",
    "print(\"P(rejected) = \" + str(rejected))"
   ]
  },
  {
   "cell_type": "code",
   "execution_count": 2,
   "id": "8b7eecd0-f3da-44dd-9510-1b0cb90d940e",
   "metadata": {},
   "outputs": [
    {
     "name": "stdout",
     "output_type": "stream",
     "text": [
      "P(F|A) = 0.09547738693467336\n"
     ]
    }
   ],
   "source": [
    "accepted = (0.9) + (0.1 * 0.95)\n",
    "faultaccepted = (0.1 * 0.95)\n",
    "faultGaccepted = faultaccepted / accepted\n",
    "print(\"P(F|A) = \" + str(faultGaccepted))"
   ]
  },
  {
   "cell_type": "code",
   "execution_count": 3,
   "id": "a8836e09-cb68-45f3-9de5-a801e6927b4b",
   "metadata": {},
   "outputs": [
    {
     "name": "stdout",
     "output_type": "stream",
     "text": [
      "P(accepted) = 0.9992\n"
     ]
    }
   ],
   "source": [
    "b = (0.96) + (0.04 * 0.98)\n",
    "print(\"P(accepted) = \" + str(b))"
   ]
  },
  {
   "cell_type": "code",
   "execution_count": 4,
   "id": "c1cbef2f-55ed-406f-a49b-e6673188eed1",
   "metadata": {},
   "outputs": [
    {
     "name": "stdout",
     "output_type": "stream",
     "text": [
      "P(retested) = 0.13419999999999999\n"
     ]
    }
   ],
   "source": [
    "retested = (0.1 * 0.95) + (0.04 * 0.98)\n",
    "print(\"P(retested) = \" + str(retested))"
   ]
  }
 ],
 "metadata": {
  "kernelspec": {
   "display_name": "Python 3 (ipykernel)",
   "language": "python",
   "name": "python3"
  },
  "language_info": {
   "codemirror_mode": {
    "name": "ipython",
    "version": 3
   },
   "file_extension": ".py",
   "mimetype": "text/x-python",
   "name": "python",
   "nbconvert_exporter": "python",
   "pygments_lexer": "ipython3",
   "version": "3.12.1"
  }
 },
 "nbformat": 4,
 "nbformat_minor": 5
}

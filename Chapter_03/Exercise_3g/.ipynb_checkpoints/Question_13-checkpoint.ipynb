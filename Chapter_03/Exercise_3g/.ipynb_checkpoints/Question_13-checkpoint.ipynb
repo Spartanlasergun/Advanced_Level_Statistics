{
 "cells": [
  {
   "cell_type": "markdown",
   "id": "a98b9cbe-25a0-44e9-a07d-a30ee8832aa1",
   "metadata": {},
   "source": [
    "# Question 13\n",
    "-----"
   ]
  },
  {
   "cell_type": "code",
   "execution_count": 1,
   "id": "483f9442-67b7-4f67-a716-c0a562f52ea6",
   "metadata": {},
   "outputs": [
    {
     "name": "stdout",
     "output_type": "stream",
     "text": [
      "ways to fill vacancies = 5005.0\n"
     ]
    }
   ],
   "source": [
    "import math\n",
    "\n",
    "n = 15\n",
    "r = 6\n",
    "combinations = ((math.factorial(n)) / (math.factorial(r) * math.factorial(n-r)))\n",
    "print(\"ways to fill vacancies = \" + str(combinations))"
   ]
  },
  {
   "cell_type": "code",
   "execution_count": 2,
   "id": "1f788387-e615-470d-9e67-74983ec7c413",
   "metadata": {},
   "outputs": [
    {
     "name": "stdout",
     "output_type": "stream",
     "text": [
      "ways with 3 men and 3 women = 1960.0\n"
     ]
    }
   ],
   "source": [
    "menwomen = ((math.factorial(7)) / (math.factorial(3) * math.factorial(4))) * ((math.factorial(8)) / (math.factorial(3) * math.factorial(5)))\n",
    "print(\"ways with 3 men and 3 women = \" + str(menwomen))"
   ]
  },
  {
   "cell_type": "code",
   "execution_count": 3,
   "id": "8c4fbaab-045f-47b7-a434-4d25d5241387",
   "metadata": {},
   "outputs": [
    {
     "name": "stdout",
     "output_type": "stream",
     "text": [
      "ways with husband and wife = 315.0\n"
     ]
    }
   ],
   "source": [
    "HW = menwomen * (3/8) * (3/7)\n",
    "print(\"ways with husband and wife = \" + str(HW))"
   ]
  },
  {
   "cell_type": "code",
   "execution_count": 4,
   "id": "22fa0c30-5e65-4d8c-ad70-4345941d89cc",
   "metadata": {},
   "outputs": [
    {
     "name": "stdout",
     "output_type": "stream",
     "text": [
      "P(HW) = 0.16071428571428573\n"
     ]
    }
   ],
   "source": [
    "probHW = HW / menwomen\n",
    "print(\"P(HW) = \" + str(probHW))"
   ]
  },
  {
   "cell_type": "code",
   "execution_count": 5,
   "id": "c8e481fb-a63c-4769-92bf-96a11cf19d70",
   "metadata": {},
   "outputs": [
    {
     "name": "stdout",
     "output_type": "stream",
     "text": [
      "P(eitheror) = 0.48214285714285715\n"
     ]
    }
   ],
   "source": [
    "H = menwomen * (3/8)\n",
    "W = menwomen * (3/7)\n",
    "eitheror = H + W - HW - (probHW * menwomen)\n",
    "probeitheror = eitheror / menwomen\n",
    "print(\"P(eitheror) = \" + str(probeitheror))"
   ]
  }
 ],
 "metadata": {
  "kernelspec": {
   "display_name": "Python 3 (ipykernel)",
   "language": "python",
   "name": "python3"
  },
  "language_info": {
   "codemirror_mode": {
    "name": "ipython",
    "version": 3
   },
   "file_extension": ".py",
   "mimetype": "text/x-python",
   "name": "python",
   "nbconvert_exporter": "python",
   "pygments_lexer": "ipython3",
   "version": "3.12.1"
  }
 },
 "nbformat": 4,
 "nbformat_minor": 5
}

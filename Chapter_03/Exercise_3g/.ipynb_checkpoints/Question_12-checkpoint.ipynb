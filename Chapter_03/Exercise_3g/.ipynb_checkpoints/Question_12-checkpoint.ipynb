{
 "cells": [
  {
   "cell_type": "markdown",
   "id": "8ad1a8dc-a196-45aa-8247-b7318504e53b",
   "metadata": {},
   "source": [
    "# Question 12\n",
    "-----"
   ]
  },
  {
   "cell_type": "code",
   "execution_count": 1,
   "id": "2ed7465e-9119-4b4b-a601-8923a167f751",
   "metadata": {},
   "outputs": [
    {
     "name": "stdout",
     "output_type": "stream",
     "text": [
      "P(B|R) = 0.3333333333333333\n"
     ]
    }
   ],
   "source": [
    "RB = (4/10) * (3/9)\n",
    "R = (4/10)\n",
    "BGR = RB / R\n",
    "print(\"P(B|R) = \" + str(BGR))"
   ]
  },
  {
   "cell_type": "code",
   "execution_count": 2,
   "id": "e539b5b7-7d60-454a-b5c9-42fa18fc8053",
   "metadata": {},
   "outputs": [
    {
     "name": "stdout",
     "output_type": "stream",
     "text": [
      "P(B|B) = 0.22222222222222224\n"
     ]
    }
   ],
   "source": [
    "BB = (3/10) * (2/9)\n",
    "B = (3/10)\n",
    "BGB = BB / B\n",
    "print(\"P(B|B) = \" + str(BGB))"
   ]
  },
  {
   "cell_type": "code",
   "execution_count": 3,
   "id": "12742e89-5147-47ff-8ada-bbacc30689d4",
   "metadata": {},
   "outputs": [
    {
     "name": "stdout",
     "output_type": "stream",
     "text": [
      "P(B|G) = 0.3333333333333333\n"
     ]
    }
   ],
   "source": [
    "GB = (3/10) * (3/9)\n",
    "G = (3/10)\n",
    "BGG = GB / G\n",
    "print(\"P(B|G) = \" + str(BGG))"
   ]
  },
  {
   "cell_type": "code",
   "execution_count": 4,
   "id": "a4902dc3-da5d-453e-b2ec-7073f4b6a70a",
   "metadata": {},
   "outputs": [
    {
     "name": "stdout",
     "output_type": "stream",
     "text": [
      "P(R|B) = 0.13333333333333333\n"
     ]
    }
   ],
   "source": [
    "print(\"P(R|B) = \" + str(RB))"
   ]
  },
  {
   "cell_type": "code",
   "execution_count": 5,
   "id": "17841ed0-45b5-462e-a284-766df3d9e2be",
   "metadata": {},
   "outputs": [
    {
     "name": "stdout",
     "output_type": "stream",
     "text": [
      "P(second blue) = 0.3\n"
     ]
    }
   ],
   "source": [
    "secondB = RB + BB + GB\n",
    "print(\"P(second blue) = \" + str(secondB))"
   ]
  }
 ],
 "metadata": {
  "kernelspec": {
   "display_name": "Python 3 (ipykernel)",
   "language": "python",
   "name": "python3"
  },
  "language_info": {
   "codemirror_mode": {
    "name": "ipython",
    "version": 3
   },
   "file_extension": ".py",
   "mimetype": "text/x-python",
   "name": "python",
   "nbconvert_exporter": "python",
   "pygments_lexer": "ipython3",
   "version": "3.12.1"
  }
 },
 "nbformat": 4,
 "nbformat_minor": 5
}

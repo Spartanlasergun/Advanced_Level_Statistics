{
 "cells": [
  {
   "cell_type": "markdown",
   "id": "0836696f-e199-45c4-b702-0177fef5e2be",
   "metadata": {},
   "source": [
    "# Question 5\n",
    "-----"
   ]
  },
  {
   "cell_type": "code",
   "execution_count": 1,
   "id": "96824794-ca7f-483f-a851-33ed4ab0b076",
   "metadata": {},
   "outputs": [
    {
     "name": "stdout",
     "output_type": "stream",
     "text": [
      "P(18 male win) = 0.325\n"
     ]
    }
   ],
   "source": [
    "n = 40\n",
    "male18 = 13\n",
    "winM18 = male18/n\n",
    "print(\"P(18 male win) = \" + str(winM18))"
   ]
  },
  {
   "cell_type": "code",
   "execution_count": 24,
   "id": "8e4eed3c-3fde-4227-b362-029d2c7100a7",
   "metadata": {},
   "outputs": [
    {
     "name": "stdout",
     "output_type": "stream",
     "text": [
      "P(FF) = 0.19615384615384615\n"
     ]
    }
   ],
   "source": [
    "fem17 = 7\n",
    "fem18 = 11\n",
    "fem = fem17 +fem18\n",
    "first = fem/n\n",
    "second = (fem - 1)/(n -1)\n",
    "fprob = first * second\n",
    "print(\"P(FF) = \" + str(fprob))"
   ]
  },
  {
   "cell_type": "code",
   "execution_count": 25,
   "id": "706b6cd6-cb1a-4f71-9ca1-d3a6a588c1b1",
   "metadata": {},
   "outputs": [
    {
     "name": "stdout",
     "output_type": "stream",
     "text": [
      "P(17YrOld) = 0.38461538461538464\n"
     ]
    }
   ],
   "source": [
    "event = (15/39)\n",
    "print(\"P(17YrOld) = \" + str(event))"
   ]
  }
 ],
 "metadata": {
  "kernelspec": {
   "display_name": "Python 3 (ipykernel)",
   "language": "python",
   "name": "python3"
  },
  "language_info": {
   "codemirror_mode": {
    "name": "ipython",
    "version": 3
   },
   "file_extension": ".py",
   "mimetype": "text/x-python",
   "name": "python",
   "nbconvert_exporter": "python",
   "pygments_lexer": "ipython3",
   "version": "3.12.1"
  }
 },
 "nbformat": 4,
 "nbformat_minor": 5
}

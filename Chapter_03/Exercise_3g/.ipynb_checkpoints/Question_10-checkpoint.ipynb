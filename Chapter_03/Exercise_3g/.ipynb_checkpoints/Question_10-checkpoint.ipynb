{
 "cells": [
  {
   "cell_type": "markdown",
   "id": "d516c539-c44a-4f9f-b3ec-365faaf3eb9e",
   "metadata": {},
   "source": [
    "# Question 10\n",
    "-----"
   ]
  },
  {
   "cell_type": "markdown",
   "id": "79523d1d-0434-48d1-940a-47e8dd5e8ea9",
   "metadata": {},
   "source": [
    "$$P(A) = \\frac{6}{10}$$\n",
    "\n",
    "$$P(B) = \\frac{1}{2}$$\n",
    "\n",
    "$$P(A|B) = \\frac{11}{12}$$\n",
    "\n",
    "$$P(A \\cap B) = P(A|B) * P(B)$$\n",
    "\n",
    "$$P(A \\cap B) = \\frac{1}{2} * \\frac{11}{12} = \\frac{11}{24}$$\n",
    "\n",
    "probability they both have degrees = $\\frac{11}{24}$"
   ]
  },
  {
   "cell_type": "markdown",
   "id": "ccde1d5c-ab70-460f-8ecc-0798a1e90933",
   "metadata": {},
   "source": [
    "$$P(A \\cup B) = P(A) + P(B) - P(A \\cap B)$$\n",
    "\n",
    "$$P(A \\cup B) = \\frac{6}{10} + \\frac{1}{2} - \\frac{11}{24} = 0.6416666$$\n",
    "\n",
    "probability only one has a degree:\n",
    "\n",
    "$$P(A \\cup B) - P(A \\cap B) = 0.64166666 - \\frac{11}{24} = 0.1833$$\n",
    "\n",
    "\n",
    "probability of no degree:\n",
    "\n",
    "$$1 - P(A \\cup B) = 1 - 0.64166666 = 0.35833$$"
   ]
  },
  {
   "cell_type": "code",
   "execution_count": 27,
   "id": "edd6b922-7b58-4a6e-be6e-dc4b21541ba9",
   "metadata": {},
   "outputs": [
    {
     "name": "stdout",
     "output_type": "stream",
     "text": [
      "P(D and ND) = 0.3620833333333333\n"
     ]
    }
   ],
   "source": [
    "prob = ((11/60) * (11/60)) + ((11/24) * (43/120) * 2)\n",
    "print(\"P(D and ND) = \" + str(prob))"
   ]
  }
 ],
 "metadata": {
  "kernelspec": {
   "display_name": "Python 3 (ipykernel)",
   "language": "python",
   "name": "python3"
  },
  "language_info": {
   "codemirror_mode": {
    "name": "ipython",
    "version": 3
   },
   "file_extension": ".py",
   "mimetype": "text/x-python",
   "name": "python",
   "nbconvert_exporter": "python",
   "pygments_lexer": "ipython3",
   "version": "3.12.1"
  }
 },
 "nbformat": 4,
 "nbformat_minor": 5
}

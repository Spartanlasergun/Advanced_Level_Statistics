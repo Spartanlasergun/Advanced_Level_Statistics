{
 "cells": [
  {
   "cell_type": "markdown",
   "id": "d516c539-c44a-4f9f-b3ec-365faaf3eb9e",
   "metadata": {},
   "source": [
    "# Question 10\n",
    "-----"
   ]
  },
  {
   "cell_type": "markdown",
   "id": "79523d1d-0434-48d1-940a-47e8dd5e8ea9",
   "metadata": {},
   "source": [
    "$$P(A) = \\frac{6}{10}$$\n",
    "\n",
    "$$P(B) = \\frac{1}{2}$$\n",
    "\n",
    "$$P(A|B) = \\frac{11}{12}$$\n",
    "\n",
    "$$P(A \\cap B) = P(A|B) * P(B)$$\n",
    "\n",
    "$$P(A \\cap B) = \\frac{1}{2} * \\frac{11}{12} = \\frac{11}{24}$$\n",
    "\n",
    "probability they both have degrees = $\\frac{11}{24}$"
   ]
  },
  {
   "cell_type": "markdown",
   "id": "ccde1d5c-ab70-460f-8ecc-0798a1e90933",
   "metadata": {},
   "source": [
    "$$P(A \\cup B) = P(A) + P(B) - P(A \\cap B)$$\n",
    "\n",
    "$$P(A \\cup B) = \\frac{6}{10} + \\frac{1}{2} - \\frac{11}{24} = 0.642$$"
   ]
  },
  {
   "cell_type": "code",
   "execution_count": 6,
   "id": "edd6b922-7b58-4a6e-be6e-dc4b21541ba9",
   "metadata": {},
   "outputs": [
    {
     "data": {
      "text/plain": [
       "0.18333333333333346"
      ]
     },
     "execution_count": 6,
     "metadata": {},
     "output_type": "execute_result"
    }
   ],
   "source": [
    "(6/10) + (1/2) - (11/12)"
   ]
  },
  {
   "cell_type": "code",
   "execution_count": 5,
   "id": "687e8699-29b5-459d-8db2-868940c88a39",
   "metadata": {},
   "outputs": [
    {
     "data": {
      "text/plain": [
       "0.18333333333333332"
      ]
     },
     "execution_count": 5,
     "metadata": {},
     "output_type": "execute_result"
    }
   ],
   "source": [
    "11/60"
   ]
  },
  {
   "cell_type": "code",
   "execution_count": null,
   "id": "6a6591a6-fe8a-43ad-9edc-7334c62a8cfe",
   "metadata": {},
   "outputs": [],
   "source": []
  }
 ],
 "metadata": {
  "kernelspec": {
   "display_name": "Python 3 (ipykernel)",
   "language": "python",
   "name": "python3"
  },
  "language_info": {
   "codemirror_mode": {
    "name": "ipython",
    "version": 3
   },
   "file_extension": ".py",
   "mimetype": "text/x-python",
   "name": "python",
   "nbconvert_exporter": "python",
   "pygments_lexer": "ipython3",
   "version": "3.12.1"
  }
 },
 "nbformat": 4,
 "nbformat_minor": 5
}

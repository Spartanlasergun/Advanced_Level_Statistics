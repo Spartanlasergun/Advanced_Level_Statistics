{
 "cells": [
  {
   "cell_type": "markdown",
   "id": "7c037240-664f-48e4-bcc1-8208bc0af23a",
   "metadata": {},
   "source": [
    "# Question 6\n",
    "-----"
   ]
  },
  {
   "cell_type": "code",
   "execution_count": 10,
   "id": "f09ef6ae-fa43-4032-a90a-89b4c5281975",
   "metadata": {},
   "outputs": [
    {
     "name": "stdout",
     "output_type": "stream",
     "text": [
      "P(credit card) = 0.28\n"
     ]
    }
   ],
   "source": [
    "creditcard = 1 - (0.54 + 0.18)\n",
    "print(\"P(credit card) = \" + str(creditcard))"
   ]
  },
  {
   "cell_type": "code",
   "execution_count": 11,
   "id": "1a58149a-8b9f-4c82-9ca2-85e4a5df2944",
   "metadata": {},
   "outputs": [
    {
     "name": "stdout",
     "output_type": "stream",
     "text": [
      "P(3 cash) = 0.15746400000000002\n"
     ]
    }
   ],
   "source": [
    "cash3 = 0.54 * 0.54 * 0.54\n",
    "print(\"P(3 cash) = \" + str(cash3))"
   ]
  },
  {
   "cell_type": "code",
   "execution_count": 12,
   "id": "d6982b7e-3888-4c53-a985-8436747b8ea6",
   "metadata": {},
   "outputs": [
    {
     "name": "stdout",
     "output_type": "stream",
     "text": [
      "P(exactly one cheque) = 0.3630960000000001\n"
     ]
    }
   ],
   "source": [
    "import math\n",
    "cheque = ((0.18 * 0.54 * 0.28) * math.factorial(3)) + ((0.18 * 0.28 * 0.28) * 3) + ((0.18 * 0.54 * 0.54) * 3)\n",
    "print(\"P(exactly one cheque) = \" + str(cheque))                                   "
   ]
  },
  {
   "cell_type": "code",
   "execution_count": 13,
   "id": "6075f473-439d-4720-8ff3-f3a97edd91b8",
   "metadata": {},
   "outputs": [
    {
     "name": "stdout",
     "output_type": "stream",
     "text": [
      "P(oneofeach) = 0.16329600000000002\n"
     ]
    }
   ],
   "source": [
    "oneofeach = ((0.18 * 0.54 * 0.28) * math.factorial(3))\n",
    "print(\"P(oneofeach) = \" + str(oneofeach))"
   ]
  }
 ],
 "metadata": {
  "kernelspec": {
   "display_name": "Python 3 (ipykernel)",
   "language": "python",
   "name": "python3"
  },
  "language_info": {
   "codemirror_mode": {
    "name": "ipython",
    "version": 3
   },
   "file_extension": ".py",
   "mimetype": "text/x-python",
   "name": "python",
   "nbconvert_exporter": "python",
   "pygments_lexer": "ipython3",
   "version": "3.12.1"
  }
 },
 "nbformat": 4,
 "nbformat_minor": 5
}

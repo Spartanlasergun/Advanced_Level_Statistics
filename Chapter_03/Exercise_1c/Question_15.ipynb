{
 "cells": [
  {
   "cell_type": "markdown",
   "id": "dfc656e5-ecce-4859-82dd-5f4cd6f6b24c",
   "metadata": {},
   "source": [
    "# Question 15\n",
    "-----"
   ]
  },
  {
   "cell_type": "markdown",
   "id": "a4d5562d-e57c-4d97-8833-65d39e18500d",
   "metadata": {},
   "source": [
    "a)\n",
    "$$P(A|B) = P(A) = 0.2$$\n",
    "\n",
    "b)\n",
    "$$P(A \\cap B) = P(A) * P(B) = 0.2 * 0.15 = 0.03$$\n",
    "\n",
    "c)\n",
    "$$P(A \\cup B) = P(A) + P(B) - P(A \\cap B)$$\n",
    "\n",
    "$$P(A \\cup B) = 0.2 + 0.15 - 0.03 = 0.32$$"
   ]
  }
 ],
 "metadata": {
  "kernelspec": {
   "display_name": "Python 3 (ipykernel)",
   "language": "python",
   "name": "python3"
  },
  "language_info": {
   "codemirror_mode": {
    "name": "ipython",
    "version": 3
   },
   "file_extension": ".py",
   "mimetype": "text/x-python",
   "name": "python",
   "nbconvert_exporter": "python",
   "pygments_lexer": "ipython3",
   "version": "3.12.1"
  }
 },
 "nbformat": 4,
 "nbformat_minor": 5
}

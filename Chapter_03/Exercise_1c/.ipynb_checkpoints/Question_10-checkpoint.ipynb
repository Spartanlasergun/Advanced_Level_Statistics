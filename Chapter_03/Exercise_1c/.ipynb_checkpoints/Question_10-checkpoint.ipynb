{
 "cells": [
  {
   "cell_type": "markdown",
   "id": "58e6940d-13e2-4fa5-a4b3-a4734fe7aa5b",
   "metadata": {},
   "source": [
    "# Question 10\n",
    "-----"
   ]
  },
  {
   "cell_type": "markdown",
   "id": "cd0bd7b4-617e-4cbc-a316-cf415fe2a35a",
   "metadata": {},
   "source": [
    "| | Boys| Girls |\n",
    "| --- | --- | --- |\n",
    "| Passed Driving Test | 16 | 8 |\n",
    "| Taken Driving Test but failed | 7 | 6 |\n",
    "| Learning , but not yet taken a driving test | 10 | 8 |\n",
    "| Too young to take a driving test | 2 | 3 |"
   ]
  },
  {
   "cell_type": "markdown",
   "id": "4fe35a0b-b80c-4dcd-8ee0-98986b4b97d1",
   "metadata": {},
   "source": [
    "b)\n",
    "$$P(failed) = \\frac{13}{60}$$\n",
    "\n",
    "c)\n",
    "$$P(G) = \\frac{14}{25}$$\n",
    "\n",
    "d)\n",
    "$$P(B) = \\frac{12}{35}$$\n",
    "\n",
    "e)\n",
    "$$P(Y) = \\frac{5}{60} * \\frac{4}{59} = \\frac{1}{177}$$\n",
    "\n",
    "f)\n",
    "$$P(Z) = \\frac{16}{35} * \\frac{8}{25} = \\frac{128}{875}$$"
   ]
  }
 ],
 "metadata": {
  "kernelspec": {
   "display_name": "Python 3 (ipykernel)",
   "language": "python",
   "name": "python3"
  },
  "language_info": {
   "codemirror_mode": {
    "name": "ipython",
    "version": 3
   },
   "file_extension": ".py",
   "mimetype": "text/x-python",
   "name": "python",
   "nbconvert_exporter": "python",
   "pygments_lexer": "ipython3",
   "version": "3.12.1"
  }
 },
 "nbformat": 4,
 "nbformat_minor": 5
}

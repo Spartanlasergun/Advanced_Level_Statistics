{
 "cells": [
  {
   "cell_type": "markdown",
   "id": "764ffe1d-57a5-4abb-b1a6-ee81af1b9bb6",
   "metadata": {},
   "source": [
    "# Question 4\n",
    "-----"
   ]
  },
  {
   "cell_type": "markdown",
   "id": "793a9a0b-5cd9-40b0-afea-a5fb1b9ccd81",
   "metadata": {},
   "source": [
    "a)\n",
    "$$P(B|A) * P(A) = P(A|B) * P(B)$$\n",
    "\n",
    "$$P(B|A) = \\frac{\\frac{2}{5} * \\frac{1}{4}}{\\frac{1}{3}}$$\n",
    "\n",
    "$$P(B|A) = \\frac{3}{10}$$\n",
    "\n",
    "b)\n",
    "$$P(A \\cap B) = P(A|B) * P(B)$$\n",
    "\n",
    "$$P(A \\cap B) = \\frac{2}{5} * \\frac{1}{4} = \\frac{1}{10}$$"
   ]
  }
 ],
 "metadata": {
  "kernelspec": {
   "display_name": "Python 3 (ipykernel)",
   "language": "python",
   "name": "python3"
  },
  "language_info": {
   "codemirror_mode": {
    "name": "ipython",
    "version": 3
   },
   "file_extension": ".py",
   "mimetype": "text/x-python",
   "name": "python",
   "nbconvert_exporter": "python",
   "pygments_lexer": "ipython3",
   "version": "3.12.1"
  }
 },
 "nbformat": 4,
 "nbformat_minor": 5
}

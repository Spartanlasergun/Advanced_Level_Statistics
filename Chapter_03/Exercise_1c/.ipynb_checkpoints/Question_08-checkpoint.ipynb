{
 "cells": [
  {
   "cell_type": "markdown",
   "id": "19b8a484-1963-4e8a-920c-2acec1435c15",
   "metadata": {},
   "source": [
    "# Question 8\n",
    "-----"
   ]
  },
  {
   "cell_type": "markdown",
   "id": "ae0680a6-54f7-4f82-baf6-b79b4928ea28",
   "metadata": {},
   "source": [
    "a)\n",
    "$$P(A \\cup B) = P(A) + P(B) - P(A \\cap B)$$\n",
    "\n",
    "$$P(A \\cup B) = 0.4 + 0.25 - 0.15 = 0.5$$\n",
    "\n",
    "b)\n",
    "$$P(A' \\cup B') = P(A \\cup B) - P(A \\cap B)$$\n",
    "\n",
    "$$P(A' \\cup B') = 0.5 - 0.15 = 0.35$$\n",
    "\n",
    "c)\n",
    "$$P(B|A) = \\frac{P(A \\cap B)}{P(A)}$$\n",
    "\n",
    "$$P(B|A) = \\frac{0.15}{0.4} = 0.375$$\n",
    "\n",
    "d)\n",
    "$$P(A'|B) = 1 - \\frac{P(A \\cap B)}{P(B)}$$\n",
    "\n",
    "$$P(A'|B) = 1 - \\frac{0.15}{0.25} = 1 - 0.6 = 0.4$$"
   ]
  }
 ],
 "metadata": {
  "kernelspec": {
   "display_name": "Python 3 (ipykernel)",
   "language": "python",
   "name": "python3"
  },
  "language_info": {
   "codemirror_mode": {
    "name": "ipython",
    "version": 3
   },
   "file_extension": ".py",
   "mimetype": "text/x-python",
   "name": "python",
   "nbconvert_exporter": "python",
   "pygments_lexer": "ipython3",
   "version": "3.12.1"
  }
 },
 "nbformat": 4,
 "nbformat_minor": 5
}

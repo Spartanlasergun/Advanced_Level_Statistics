{
 "cells": [
  {
   "cell_type": "markdown",
   "id": "1ee3d9c4-71df-4696-86df-572498747a95",
   "metadata": {},
   "source": [
    "# Question 4\n",
    "-----"
   ]
  },
  {
   "cell_type": "code",
   "execution_count": 1,
   "id": "c76d5e83-9734-4c42-96c0-4a82aa063644",
   "metadata": {},
   "outputs": [
    {
     "name": "stdout",
     "output_type": "stream",
     "text": [
      "P(at least one breakdown) = 0.17920000000000003\n"
     ]
    }
   ],
   "source": [
    "nobreakdown = (0.9 * 0.95 * 0.96)\n",
    "atleastone = 1 - nobreakdown\n",
    "print(\"P(at least one breakdown) = \" + str(atleastone))"
   ]
  },
  {
   "cell_type": "code",
   "execution_count": 2,
   "id": "40521e86-7493-465b-88a0-cc82cf497ba0",
   "metadata": {},
   "outputs": [
    {
     "name": "stdout",
     "output_type": "stream",
     "text": [
      "P(exactlyone) = 0.16860000000000003\n"
     ]
    }
   ],
   "source": [
    "exactlyone = (0.1 * 0.95 * 0.96) + (0.9 * 0.05 * 0.96) + (0.9 * 0.95 * 0.04)\n",
    "print(\"P(exactlyone) = \" + str(exactlyone))"
   ]
  },
  {
   "cell_type": "code",
   "execution_count": 3,
   "id": "c5f17e66-324e-404a-92af-855176d3776c",
   "metadata": {},
   "outputs": [
    {
     "name": "stdout",
     "output_type": "stream",
     "text": [
      "P(copierC| exactly one) = 0.20284697508896796\n"
     ]
    }
   ],
   "source": [
    "given = (0.9 * 0.95 * 0.04) / exactlyone\n",
    "print(\"P(copierC| exactly one) = \" + str(given))"
   ]
  }
 ],
 "metadata": {
  "kernelspec": {
   "display_name": "Python 3 (ipykernel)",
   "language": "python",
   "name": "python3"
  },
  "language_info": {
   "codemirror_mode": {
    "name": "ipython",
    "version": 3
   },
   "file_extension": ".py",
   "mimetype": "text/x-python",
   "name": "python",
   "nbconvert_exporter": "python",
   "pygments_lexer": "ipython3",
   "version": "3.12.1"
  }
 },
 "nbformat": 4,
 "nbformat_minor": 5
}

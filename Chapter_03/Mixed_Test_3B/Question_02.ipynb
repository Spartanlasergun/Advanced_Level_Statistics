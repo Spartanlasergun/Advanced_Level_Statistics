{
 "cells": [
  {
   "cell_type": "markdown",
   "id": "e5009acd-c78a-4ed6-9b37-867ac78cadda",
   "metadata": {},
   "source": [
    "# Question 2\n",
    "-----"
   ]
  },
  {
   "cell_type": "markdown",
   "id": "97ec16ca-0239-4e2a-b09f-5a641476bcb8",
   "metadata": {},
   "source": [
    "$$P(A) = \\frac{5}{12}$$\n",
    "\n",
    "$$P(A \\cap B) = \\frac{1}{6}$$\n",
    "\n",
    "$$P(A \\cup B) = q$$\n",
    "\n",
    "a)\n",
    "\n",
    "$$P(A \\cup B) = P(A) + P(B) - P(A \\cap B)$$\n",
    "\n",
    "$$q = \\frac{5}{12} + P(B) - \\frac{1}{6}$$\n",
    "\n",
    "$$q - \\frac{1}{4} = P(B)$$\n",
    "\n",
    "hence,\n",
    "\n",
    "$$P(B) = q - \\frac{1}{4}$$\n",
    "\n",
    "b)\n",
    "$$P(A|B) = \\frac{P(A \\cap B)}{P(B)}$$\n",
    "\n",
    "$$P(A|B) = \\frac{\\frac{1}{6}}{q - \\frac{1}{4}}$$\n",
    "\n",
    "c)\n",
    "if A and B are independent,\n",
    "\n",
    "$$P(A|B) = P(A)$$\n",
    "\n",
    "hence,\n",
    "\n",
    "$$\\frac{\\frac{1}{6}}{q - \\frac{1}{4}} = \\frac{5}{12}$$\n",
    "\n",
    "$$\\frac{1}{6} = \\frac{5q}{12} - \\frac{5}{48}$$\n",
    "\n",
    "$$8 = 20q - 5$$\n",
    "\n",
    "$$q = \\frac{13}{20}$$"
   ]
  }
 ],
 "metadata": {
  "kernelspec": {
   "display_name": "Python 3 (ipykernel)",
   "language": "python",
   "name": "python3"
  },
  "language_info": {
   "codemirror_mode": {
    "name": "ipython",
    "version": 3
   },
   "file_extension": ".py",
   "mimetype": "text/x-python",
   "name": "python",
   "nbconvert_exporter": "python",
   "pygments_lexer": "ipython3",
   "version": "3.12.1"
  }
 },
 "nbformat": 4,
 "nbformat_minor": 5
}

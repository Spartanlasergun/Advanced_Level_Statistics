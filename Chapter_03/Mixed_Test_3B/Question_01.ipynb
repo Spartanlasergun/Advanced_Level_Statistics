{
 "cells": [
  {
   "cell_type": "markdown",
   "id": "168c7fee-fecd-46de-b80a-2b54eff5145b",
   "metadata": {},
   "source": [
    "# Question 1\n",
    "-----"
   ]
  },
  {
   "cell_type": "code",
   "execution_count": 1,
   "id": "d5b91c57-a568-49a1-b824-ccd2591a622f",
   "metadata": {},
   "outputs": [
    {
     "name": "stdout",
     "output_type": "stream",
     "text": [
      "P(at least one head) = 0.64\n"
     ]
    }
   ],
   "source": [
    "atleastone = (0.4 * 0.4) + (0.4 * 0.6 * 2)\n",
    "print(\"P(at least one head) = \" + str(atleastone))"
   ]
  },
  {
   "cell_type": "code",
   "execution_count": 2,
   "id": "36f57808-803c-491c-87cd-bd65afe519bf",
   "metadata": {},
   "outputs": [
    {
     "name": "stdout",
     "output_type": "stream",
     "text": [
      "P(exactlyone|atleastone) = 0.75\n"
     ]
    }
   ],
   "source": [
    "exactlyone = (0.4 * 0.6 * 2)\n",
    "given = exactlyone / atleastone\n",
    "print(\"P(exactlyone|atleastone) = \" + str(given))"
   ]
  }
 ],
 "metadata": {
  "kernelspec": {
   "display_name": "Python 3 (ipykernel)",
   "language": "python",
   "name": "python3"
  },
  "language_info": {
   "codemirror_mode": {
    "name": "ipython",
    "version": 3
   },
   "file_extension": ".py",
   "mimetype": "text/x-python",
   "name": "python",
   "nbconvert_exporter": "python",
   "pygments_lexer": "ipython3",
   "version": "3.12.1"
  }
 },
 "nbformat": 4,
 "nbformat_minor": 5
}

{
 "cells": [
  {
   "cell_type": "markdown",
   "id": "e50527f1-de0c-4c0b-b1ea-d6f5309b4930",
   "metadata": {},
   "source": [
    "# Question 5\n",
    "-----"
   ]
  },
  {
   "cell_type": "code",
   "execution_count": 1,
   "id": "0f1f4c13-1dbe-4152-bcd0-8e4dd71d2a26",
   "metadata": {},
   "outputs": [
    {
     "name": "stdout",
     "output_type": "stream",
     "text": [
      "P(strollers win) = 0.37199999999999994\n"
     ]
    }
   ],
   "source": [
    "win = (0.7 * 0.7 * 0.3) + (0.7 * 0.3 * 0.5) + (0.3 * 0.5 * 0.5) + (0.3 * 0.5 * 0.3)\n",
    "print(\"P(strollers win) = \" + str(win))"
   ]
  },
  {
   "cell_type": "code",
   "execution_count": 5,
   "id": "e279d6ff-2351-4c4f-b282-44b934487162",
   "metadata": {},
   "outputs": [
    {
     "name": "stdout",
     "output_type": "stream",
     "text": [
      "P(first win) = 0.3951612903225806\n"
     ]
    }
   ],
   "source": [
    "firstwin = ((0.7 * 0.7 * 0.3)) / win\n",
    "print(\"P(first win) = \" + str(firstwin))"
   ]
  },
  {
   "cell_type": "markdown",
   "id": "ea5100b7-89d6-47e8-bf0f-62448500e44e",
   "metadata": {},
   "source": [
    "$$0.7^n < 0.05$$\n",
    "\n",
    "$$n \\log 0.7 < \\log 0.05$$\n",
    "\n",
    "$$n > \\frac{\\log 0.05}{\\log 0.7}$$\n",
    "\n",
    "$$n > 8.399$$\n",
    "\n",
    "Hence, n = 8"
   ]
  }
 ],
 "metadata": {
  "kernelspec": {
   "display_name": "Python 3 (ipykernel)",
   "language": "python",
   "name": "python3"
  },
  "language_info": {
   "codemirror_mode": {
    "name": "ipython",
    "version": 3
   },
   "file_extension": ".py",
   "mimetype": "text/x-python",
   "name": "python",
   "nbconvert_exporter": "python",
   "pygments_lexer": "ipython3",
   "version": "3.12.1"
  }
 },
 "nbformat": 4,
 "nbformat_minor": 5
}

{
 "cells": [
  {
   "cell_type": "markdown",
   "id": "e858eb58-0fba-435c-bd37-f8bacb2e3fae",
   "metadata": {},
   "source": [
    "# Question 3\n",
    "-----"
   ]
  },
  {
   "cell_type": "code",
   "execution_count": 1,
   "id": "6eebf0d0-4ee5-470f-9524-843dd1f91945",
   "metadata": {},
   "outputs": [
    {
     "name": "stdout",
     "output_type": "stream",
     "text": [
      "P(toohigh) = 0.8573749999999999\n"
     ]
    }
   ],
   "source": [
    "toohigh = (0.95 * 0.95 * 0.95)\n",
    "print(\"P(toohigh) = \" + str(toohigh))"
   ]
  },
  {
   "cell_type": "code",
   "execution_count": 2,
   "id": "3bd9a9e7-e5f0-4956-b4a9-b1bd53ad7356",
   "metadata": {},
   "outputs": [
    {
     "name": "stdout",
     "output_type": "stream",
     "text": [
      "P(exactlytwo) = 0.135375\n"
     ]
    }
   ],
   "source": [
    "exactlytwo = (0.95 * 0.95 * 0.03 * 3)  + (0.95 * 0.95 * 0.02 * 3)\n",
    "print(\"P(exactlytwo) = \" + str(exactlytwo))"
   ]
  },
  {
   "cell_type": "code",
   "execution_count": 3,
   "id": "dc685781-0273-4f85-92ad-56f3f50b261e",
   "metadata": {},
   "outputs": [
    {
     "name": "stdout",
     "output_type": "stream",
     "text": [
      "P(two same) = 0.13917000000000002\n"
     ]
    }
   ],
   "source": [
    "twosame = (0.95 * 0.95 * 0.03 * 3)  + (0.95 * 0.95 * 0.02 * 3) + (0.95 * 0.03 * 0.03 * 3)  + (0.95 * 0.02 * 0.02 * 3) + (0.02 * 0.03 * 0.03 * 3) + + (0.02 * 0.02 * 0.03 * 3)\n",
    "print(\"P(two same) = \" + str(twosame))"
   ]
  },
  {
   "cell_type": "code",
   "execution_count": 4,
   "id": "ec3adbd0-209d-4145-925f-3b4dec389f90",
   "metadata": {},
   "outputs": [
    {
     "name": "stdout",
     "output_type": "stream",
     "text": [
      "P(exactly two | two same) = 0.9727311920672558\n"
     ]
    }
   ],
   "source": [
    "given = exactlytwo / twosame\n",
    "print(\"P(exactly two | two same) = \" + str(given))"
   ]
  }
 ],
 "metadata": {
  "kernelspec": {
   "display_name": "Python 3 (ipykernel)",
   "language": "python",
   "name": "python3"
  },
  "language_info": {
   "codemirror_mode": {
    "name": "ipython",
    "version": 3
   },
   "file_extension": ".py",
   "mimetype": "text/x-python",
   "name": "python",
   "nbconvert_exporter": "python",
   "pygments_lexer": "ipython3",
   "version": "3.12.1"
  }
 },
 "nbformat": 4,
 "nbformat_minor": 5
}

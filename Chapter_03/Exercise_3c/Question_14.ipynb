{
 "cells": [
  {
   "cell_type": "markdown",
   "id": "eca43cdf-b5c3-4a10-8521-858f1abe68f8",
   "metadata": {},
   "source": [
    "# Question 14\n",
    "----"
   ]
  },
  {
   "cell_type": "markdown",
   "id": "67eb60bc-aa15-4e17-b1e4-0f7f50050556",
   "metadata": {},
   "source": [
    "a)\n",
    "$$P(R|R) = \\frac{3}{9} = \\frac{1}{3}$$\n",
    "\n",
    "b)\n",
    "$$P(red \\cap red) = \\frac{4}{10} * \\frac{3}{9} = \\frac{2}{15}$$\n",
    "\n",
    "c)\n",
    "$$P(R \\cap B) = P(R) * P(B) $$\n",
    "\n",
    "$$P(R \\cap B) = \\frac{4}{10} * \\frac{6}{9} = \\frac{4}{15}$$"
   ]
  }
 ],
 "metadata": {
  "kernelspec": {
   "display_name": "Python 3 (ipykernel)",
   "language": "python",
   "name": "python3"
  },
  "language_info": {
   "codemirror_mode": {
    "name": "ipython",
    "version": 3
   },
   "file_extension": ".py",
   "mimetype": "text/x-python",
   "name": "python",
   "nbconvert_exporter": "python",
   "pygments_lexer": "ipython3",
   "version": "3.12.1"
  }
 },
 "nbformat": 4,
 "nbformat_minor": 5
}

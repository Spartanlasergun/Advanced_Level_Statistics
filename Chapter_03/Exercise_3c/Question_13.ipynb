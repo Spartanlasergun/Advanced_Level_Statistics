{
 "cells": [
  {
   "cell_type": "markdown",
   "id": "7b2b27c9-e3bf-4448-8a79-b75c4f0d7c57",
   "metadata": {},
   "source": [
    "# Question 13\n",
    "-----"
   ]
  },
  {
   "cell_type": "markdown",
   "id": "cd99ece7-b758-4fbe-86dd-75bf8b5c9fc5",
   "metadata": {},
   "source": [
    "$$P(A \\cap B) = P(A|B) * P(B)$$\n",
    "\n",
    "$$P(A \\cap B) = \\frac{1}{4} * \\frac{2}{3} = \\frac{1}{6}$$\n",
    "\n",
    "$$1 + P(A \\cap B) - P(B) = P(A)$$\n",
    "\n",
    "$$P(A) = 1 + \\frac{1}{6} - \\frac{2}{3} = \\frac{3}{6} = 0.5$$"
   ]
  }
 ],
 "metadata": {
  "kernelspec": {
   "display_name": "Python 3 (ipykernel)",
   "language": "python",
   "name": "python3"
  },
  "language_info": {
   "codemirror_mode": {
    "name": "ipython",
    "version": 3
   },
   "file_extension": ".py",
   "mimetype": "text/x-python",
   "name": "python",
   "nbconvert_exporter": "python",
   "pygments_lexer": "ipython3",
   "version": "3.12.1"
  }
 },
 "nbformat": 4,
 "nbformat_minor": 5
}

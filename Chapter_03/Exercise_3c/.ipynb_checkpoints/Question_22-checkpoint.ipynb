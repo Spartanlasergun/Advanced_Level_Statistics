{
 "cells": [
  {
   "cell_type": "markdown",
   "id": "be66c462-043c-46ea-b721-592be9ac2a87",
   "metadata": {},
   "source": [
    "# Question 22\n",
    "-----"
   ]
  },
  {
   "cell_type": "markdown",
   "id": "5710ac38-ca25-470d-814c-db9652f39798",
   "metadata": {},
   "source": [
    "a)\n",
    "$$P(AQ) = \\frac{3}{5} * \\frac{1}{4} = \\frac{3}{20}$$\n",
    "\n",
    "b)\n",
    "$$P(AQ \\cup BQ) = \\frac{3}{5} + \\frac{2}{3} - (\\frac{3}{5} * \\frac{2}{3})$$\n",
    "\n",
    "$$exactly one = P(AQ \\cup BQ) - P(AQ \\cap BQ)= \\frac{13}{15} - \\frac{6}{15} = \\frac{7}{15}$$\n",
    "\n",
    "c)\n",
    "$$P(A_{10}) = P(10) - P(10 \\cap 5)$$\n",
    "\n",
    "$$P(A_{10}) = 0.25 - (0.6 * 0.25) = 0.1$$\n",
    "\n",
    "$$P(B_{10}) = P(10) - P(10 \\cap 5)$$\n",
    "\n",
    "$$P(B_{10}) = 0.4 - (0.4 * 0.666) = 0.1333$$\n",
    "\n",
    "$$P(A_{10} \\cap B_{10}) = P(A_{10}) * P(B_{10}) = 0.1 * 0.1333 = 0.01333$$"
   ]
  }
 ],
 "metadata": {
  "kernelspec": {
   "display_name": "Python 3 (ipykernel)",
   "language": "python",
   "name": "python3"
  },
  "language_info": {
   "codemirror_mode": {
    "name": "ipython",
    "version": 3
   },
   "file_extension": ".py",
   "mimetype": "text/x-python",
   "name": "python",
   "nbconvert_exporter": "python",
   "pygments_lexer": "ipython3",
   "version": "3.12.1"
  }
 },
 "nbformat": 4,
 "nbformat_minor": 5
}

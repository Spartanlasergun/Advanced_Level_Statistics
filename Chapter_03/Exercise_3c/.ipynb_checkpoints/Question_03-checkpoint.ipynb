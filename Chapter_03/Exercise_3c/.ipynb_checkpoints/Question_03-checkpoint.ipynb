{
 "cells": [
  {
   "cell_type": "markdown",
   "id": "baa3c3e1-7ab9-44a1-af3e-5c42980d2911",
   "metadata": {},
   "source": [
    "# Question 3\n",
    "-----"
   ]
  },
  {
   "cell_type": "markdown",
   "id": "6853bcbb-7b05-4517-b1e9-d87a7c45f99a",
   "metadata": {},
   "source": [
    "a) \n",
    "$$P(A \\cap B) = P(A) * P(B)$$\n",
    "\n",
    "$$P(A \\cap B) = 0.3 * 0.5 = 0.15$$\n",
    "\n",
    "b)\n",
    "$$P(A \\cup B) = P(A) + P(B) - P(A \\cap B)$$\n",
    "\n",
    "$$P(A \\cup B) = 0.3 + 0.5 - 0.15 = 0.65$$\n",
    "\n",
    "A and B are not mutually exclusive"
   ]
  }
 ],
 "metadata": {
  "kernelspec": {
   "display_name": "Python 3 (ipykernel)",
   "language": "python",
   "name": "python3"
  },
  "language_info": {
   "codemirror_mode": {
    "name": "ipython",
    "version": 3
   },
   "file_extension": ".py",
   "mimetype": "text/x-python",
   "name": "python",
   "nbconvert_exporter": "python",
   "pygments_lexer": "ipython3",
   "version": "3.12.1"
  }
 },
 "nbformat": 4,
 "nbformat_minor": 5
}

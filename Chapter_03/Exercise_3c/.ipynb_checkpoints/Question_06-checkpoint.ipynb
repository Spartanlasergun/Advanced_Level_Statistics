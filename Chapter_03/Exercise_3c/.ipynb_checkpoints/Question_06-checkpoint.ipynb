{
 "cells": [
  {
   "cell_type": "markdown",
   "id": "a4cb651d-a75e-4a45-8e1c-c1d398e87abe",
   "metadata": {},
   "source": [
    "# Question 6\n",
    "-----"
   ]
  },
  {
   "cell_type": "markdown",
   "id": "f6fd416e-409a-40f8-9f61-013e2357e9f9",
   "metadata": {},
   "source": [
    "a)\n",
    "$$P(B|A) * P(A)= P(A|B) * P(B)$$\n",
    "\n",
    "$$P(B|A) = \\frac{1}{6} * \\frac{3}{2} = \\frac{1}{4}$$\n",
    "\n",
    "b)\n",
    "$$P(A \\cap B) = P(A|B) * P(B)$$\n",
    "\n",
    "$$P(A \\cap B) = \\frac{2}{3} * \\frac{1}{4} = \\frac{1}{6}$$"
   ]
  }
 ],
 "metadata": {
  "kernelspec": {
   "display_name": "Python 3 (ipykernel)",
   "language": "python",
   "name": "python3"
  },
  "language_info": {
   "codemirror_mode": {
    "name": "ipython",
    "version": 3
   },
   "file_extension": ".py",
   "mimetype": "text/x-python",
   "name": "python",
   "nbconvert_exporter": "python",
   "pygments_lexer": "ipython3",
   "version": "3.12.1"
  }
 },
 "nbformat": 4,
 "nbformat_minor": 5
}

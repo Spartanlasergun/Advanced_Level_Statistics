{
 "cells": [
  {
   "cell_type": "markdown",
   "id": "24df53ee-672c-4171-81bf-9f75455e6e68",
   "metadata": {},
   "source": [
    "# Question 9\n",
    "-----"
   ]
  },
  {
   "cell_type": "markdown",
   "id": "232438d5-4cc3-4c1b-817a-84cabc2d593b",
   "metadata": {},
   "source": [
    "a)\n",
    "$$P(A) = \\frac{1}{52} * \\frac{1}{52} = 0.00037$$\n",
    "\n",
    "b)\n",
    "$$P(HS) = \\frac{1}{4} * \\frac{1}{4} = \\frac{1}{16}$$\n",
    "\n",
    "c)\n",
    "$$P(B \\cap R) = \\frac{1}{2} * \\frac{1}{2} = \\frac{1}{4}$$\n",
    "\n",
    "d)\n",
    "$$P(Q) = 1 - (\\frac{48}{52} * \\frac{48}{52}) = \\frac{25}{169}$$"
   ]
  }
 ],
 "metadata": {
  "kernelspec": {
   "display_name": "Python 3 (ipykernel)",
   "language": "python",
   "name": "python3"
  },
  "language_info": {
   "codemirror_mode": {
    "name": "ipython",
    "version": 3
   },
   "file_extension": ".py",
   "mimetype": "text/x-python",
   "name": "python",
   "nbconvert_exporter": "python",
   "pygments_lexer": "ipython3",
   "version": "3.12.1"
  }
 },
 "nbformat": 4,
 "nbformat_minor": 5
}

{
 "cells": [
  {
   "cell_type": "markdown",
   "id": "72505688-bde8-4be0-a123-3927fc8fa26f",
   "metadata": {},
   "source": [
    "# Question 19\n",
    "-----"
   ]
  },
  {
   "cell_type": "markdown",
   "id": "a7e2d7d2-0afe-4580-8426-ed355acc2e9e",
   "metadata": {},
   "source": [
    "a)\n",
    "$$P(A \\cap B) = 0.4 * 0.25 = 0.1$$\n",
    "\n",
    "b)\n",
    "$$P(A \\cap B') = 0.4 * (1 - 0.25) = 0.3$$\n",
    "\n",
    "c)\n",
    "$$P(A' \\cap B') = (1 - 0.4) * (1 - 0.25) = 0.45$$"
   ]
  }
 ],
 "metadata": {
  "kernelspec": {
   "display_name": "Python 3 (ipykernel)",
   "language": "python",
   "name": "python3"
  },
  "language_info": {
   "codemirror_mode": {
    "name": "ipython",
    "version": 3
   },
   "file_extension": ".py",
   "mimetype": "text/x-python",
   "name": "python",
   "nbconvert_exporter": "python",
   "pygments_lexer": "ipython3",
   "version": "3.12.1"
  }
 },
 "nbformat": 4,
 "nbformat_minor": 5
}

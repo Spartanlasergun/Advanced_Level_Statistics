{
 "cells": [
  {
   "cell_type": "markdown",
   "id": "9837440c-cadd-4f3e-99aa-9080dd878ec5",
   "metadata": {},
   "source": [
    "# Question 20\n",
    "-----"
   ]
  },
  {
   "cell_type": "markdown",
   "id": "9c3ae69e-5cce-4b1f-9b6a-ca1590ccd677",
   "metadata": {},
   "source": [
    "a)\n",
    "$$P(even|3) = \\frac{3}{8}$$\n",
    "\n",
    "b)\n",
    "$$P(3|even) = \\frac{3}{8}$$"
   ]
  }
 ],
 "metadata": {
  "kernelspec": {
   "display_name": "Python 3 (ipykernel)",
   "language": "python",
   "name": "python3"
  },
  "language_info": {
   "codemirror_mode": {
    "name": "ipython",
    "version": 3
   },
   "file_extension": ".py",
   "mimetype": "text/x-python",
   "name": "python",
   "nbconvert_exporter": "python",
   "pygments_lexer": "ipython3",
   "version": "3.12.1"
  }
 },
 "nbformat": 4,
 "nbformat_minor": 5
}

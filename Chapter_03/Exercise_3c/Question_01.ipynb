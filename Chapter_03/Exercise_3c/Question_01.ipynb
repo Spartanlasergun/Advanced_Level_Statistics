{
 "cells": [
  {
   "cell_type": "markdown",
   "id": "64d9d173-51ed-4b5c-82e5-6870d7d43a39",
   "metadata": {},
   "source": [
    "# Question 1\n",
    "-----"
   ]
  },
  {
   "cell_type": "markdown",
   "id": "063c6098-789f-4436-bb3f-8dd08391b998",
   "metadata": {},
   "source": [
    "a) \n",
    "$$P(6) = \\frac{1}{3}$$\n",
    "\n",
    "b)\n",
    "$$P(multiple \\ \\ of \\ \\ 4) = 0 $$"
   ]
  }
 ],
 "metadata": {
  "kernelspec": {
   "display_name": "Python 3 (ipykernel)",
   "language": "python",
   "name": "python3"
  },
  "language_info": {
   "codemirror_mode": {
    "name": "ipython",
    "version": 3
   },
   "file_extension": ".py",
   "mimetype": "text/x-python",
   "name": "python",
   "nbconvert_exporter": "python",
   "pygments_lexer": "ipython3",
   "version": "3.12.1"
  }
 },
 "nbformat": 4,
 "nbformat_minor": 5
}

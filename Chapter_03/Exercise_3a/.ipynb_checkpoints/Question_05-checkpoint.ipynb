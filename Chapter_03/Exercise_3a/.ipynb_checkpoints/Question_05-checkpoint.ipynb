{
 "cells": [
  {
   "cell_type": "markdown",
   "id": "5759c70f-3c6c-4a73-b039-7a521bd21d8c",
   "metadata": {},
   "source": [
    "# Question 5\n",
    "-----"
   ]
  },
  {
   "cell_type": "markdown",
   "id": "bc89be11-1971-4737-b04a-85dcfa1519d4",
   "metadata": {},
   "source": [
    "$$P(A') = 1 - P(A)$$\n",
    "\n",
    "$$P(A) = 0.27$$\n",
    "\n",
    "Hence,\n",
    "\n",
    "$$P(A') = 1 - 0.27 = 0.73$$"
   ]
  }
 ],
 "metadata": {
  "kernelspec": {
   "display_name": "Python 3 (ipykernel)",
   "language": "python",
   "name": "python3"
  },
  "language_info": {
   "codemirror_mode": {
    "name": "ipython",
    "version": 3
   },
   "file_extension": ".py",
   "mimetype": "text/x-python",
   "name": "python",
   "nbconvert_exporter": "python",
   "pygments_lexer": "ipython3",
   "version": "3.12.1"
  }
 },
 "nbformat": 4,
 "nbformat_minor": 5
}

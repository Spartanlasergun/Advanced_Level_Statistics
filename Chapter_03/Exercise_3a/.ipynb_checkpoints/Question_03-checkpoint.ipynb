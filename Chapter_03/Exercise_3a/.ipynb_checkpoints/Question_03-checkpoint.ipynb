{
 "cells": [
  {
   "cell_type": "markdown",
   "id": "98a70348-c709-4156-80de-6d349a01b6ef",
   "metadata": {},
   "source": [
    "# Question 3\n",
    "-----"
   ]
  },
  {
   "cell_type": "markdown",
   "id": "5b1916bc-b07a-48a9-be98-5fb99f0b3fc2",
   "metadata": {},
   "source": [
    "a) multiples of 3 are 3, 6, 9, 12, 15, 18 \n",
    "$$P(A) = \\frac{6}{20} = \\frac{3}{10} = 0.3 $$\n",
    "\n",
    "b) multiples pf 4 are 4, 8, 12, 16, 20\n",
    "$$P(B) = \\frac{5}{20} = \\frac{1}{4} = 0.25 $$\n",
    "\n",
    "hence,\n",
    "\n",
    "$$P(B') = 1 - P(B) = 0.75 $$"
   ]
  }
 ],
 "metadata": {
  "kernelspec": {
   "display_name": "Python 3 (ipykernel)",
   "language": "python",
   "name": "python3"
  },
  "language_info": {
   "codemirror_mode": {
    "name": "ipython",
    "version": 3
   },
   "file_extension": ".py",
   "mimetype": "text/x-python",
   "name": "python",
   "nbconvert_exporter": "python",
   "pygments_lexer": "ipython3",
   "version": "3.12.1"
  }
 },
 "nbformat": 4,
 "nbformat_minor": 5
}

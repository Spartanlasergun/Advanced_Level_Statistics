{
 "cells": [
  {
   "cell_type": "markdown",
   "id": "a89106c5-afab-4c70-ae8e-615b26dcaa21",
   "metadata": {},
   "source": [
    "# Question 13\n",
    "-----"
   ]
  },
  {
   "cell_type": "markdown",
   "id": "3ae556cd-2f21-47b4-9f2d-cd888c0d4ecb",
   "metadata": {},
   "source": [
    "a) \n",
    "$$P(1, 2) = \\frac{2}{36} = \\frac{1}{18}$$\n",
    "\n",
    "b)\n",
    "$$P(A) = \\frac{2 + 2 + 2}{36} = \\frac{1}{6}$$\n",
    "\n",
    "c)\n",
    "$$P(A) = \\frac{6}{36} = \\frac{1}{6}$$\n",
    "\n",
    "d)\n",
    "$$P(A) = \\frac{12}{36} = \\frac{1}{3}$$"
   ]
  }
 ],
 "metadata": {
  "kernelspec": {
   "display_name": "Python 3 (ipykernel)",
   "language": "python",
   "name": "python3"
  },
  "language_info": {
   "codemirror_mode": {
    "name": "ipython",
    "version": 3
   },
   "file_extension": ".py",
   "mimetype": "text/x-python",
   "name": "python",
   "nbconvert_exporter": "python",
   "pygments_lexer": "ipython3",
   "version": "3.12.1"
  }
 },
 "nbformat": 4,
 "nbformat_minor": 5
}

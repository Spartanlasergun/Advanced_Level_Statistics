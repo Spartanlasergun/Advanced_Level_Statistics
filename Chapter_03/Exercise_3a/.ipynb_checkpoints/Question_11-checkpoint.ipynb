{
 "cells": [
  {
   "cell_type": "markdown",
   "id": "07bd513c-7863-43f4-8c36-1a6605b3cc6b",
   "metadata": {},
   "source": [
    "# Question 11\n",
    "-----"
   ]
  },
  {
   "cell_type": "markdown",
   "id": "a2107cd3-abce-4750-8451-6d2903676205",
   "metadata": {},
   "source": [
    "a) (i)\n",
    "$$P(pass) = \\frac{75}{98} = 0.7653$$\n",
    "\n",
    "(ii)\n",
    "$$P(female \\ \\ who \\ \\ failed) = \\frac{15}{98} = 0.1531$$\n",
    "\n",
    "b)\n",
    "$$P(passM) = \\frac{8}{40} = 0.2$$"
   ]
  }
 ],
 "metadata": {
  "kernelspec": {
   "display_name": "Python 3 (ipykernel)",
   "language": "python",
   "name": "python3"
  },
  "language_info": {
   "codemirror_mode": {
    "name": "ipython",
    "version": 3
   },
   "file_extension": ".py",
   "mimetype": "text/x-python",
   "name": "python",
   "nbconvert_exporter": "python",
   "pygments_lexer": "ipython3",
   "version": "3.12.1"
  }
 },
 "nbformat": 4,
 "nbformat_minor": 5
}

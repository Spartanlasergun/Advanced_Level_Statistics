{
 "cells": [
  {
   "cell_type": "markdown",
   "id": "16d5a562-44d7-4c10-ac53-868007204976",
   "metadata": {},
   "source": [
    "# Question 1\n",
    "-----"
   ]
  },
  {
   "cell_type": "markdown",
   "id": "f46c5714-a0ee-47ce-bc5e-83437aafb20f",
   "metadata": {},
   "source": [
    "a) multiples of 3 are 3 and 6.\n",
    "Hence, \n",
    "\n",
    "$$ P(3, 6) = \\frac{2}{6} = \\frac{1}{3} $$\n",
    "\n",
    "b) numbers less than seven are 1, 2, 3, 4, 5, 6\n",
    "Hence,\n",
    "\n",
    "$$ P(1, 2, 3, 4, 5, 6) = \\frac{6}{6} = 1 $$\n",
    "\n",
    "c) factors of six are 1, 2, 3, and 6\n",
    "Hence,\n",
    "\n",
    "$$ P(1, 2, 3, 6) = \\frac{4}{6} = \\frac{2}{3} $$"
   ]
  }
 ],
 "metadata": {
  "kernelspec": {
   "display_name": "Python 3 (ipykernel)",
   "language": "python",
   "name": "python3"
  },
  "language_info": {
   "codemirror_mode": {
    "name": "ipython",
    "version": 3
   },
   "file_extension": ".py",
   "mimetype": "text/x-python",
   "name": "python",
   "nbconvert_exporter": "python",
   "pygments_lexer": "ipython3",
   "version": "3.12.1"
  }
 },
 "nbformat": 4,
 "nbformat_minor": 5
}

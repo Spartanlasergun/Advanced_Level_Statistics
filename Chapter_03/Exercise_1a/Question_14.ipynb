{
 "cells": [
  {
   "cell_type": "markdown",
   "id": "01f45e0c-15d4-4672-8858-9b8b15e8c9ad",
   "metadata": {},
   "source": [
    "# Question 14\n",
    "-----"
   ]
  },
  {
   "cell_type": "markdown",
   "id": "e715dfa5-5402-4430-9c83-de1c6a90f819",
   "metadata": {},
   "source": [
    "a) (i)\n",
    "$$P(9) = \\frac{1}{36} $$\n",
    "\n",
    "(ii)\n",
    "$$P(4) = \\frac{3}{36} = \\frac{1}{12}$$\n",
    "\n",
    "(iii)\n",
    "$$P(14) = 0$$\n",
    "\n",
    "b) $$t = 6 \\ \\ or \\ \\ 12$$"
   ]
  }
 ],
 "metadata": {
  "kernelspec": {
   "display_name": "Python 3 (ipykernel)",
   "language": "python",
   "name": "python3"
  },
  "language_info": {
   "codemirror_mode": {
    "name": "ipython",
    "version": 3
   },
   "file_extension": ".py",
   "mimetype": "text/x-python",
   "name": "python",
   "nbconvert_exporter": "python",
   "pygments_lexer": "ipython3",
   "version": "3.12.1"
  }
 },
 "nbformat": 4,
 "nbformat_minor": 5
}

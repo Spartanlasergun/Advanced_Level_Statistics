{
 "cells": [
  {
   "cell_type": "markdown",
   "id": "317227ce-04a1-4e78-8b42-cce2b1e31743",
   "metadata": {},
   "source": [
    "# Question 2\n",
    "-----"
   ]
  },
  {
   "cell_type": "markdown",
   "id": "d9acbe99-0381-4f6b-8e2c-7bd58826a6ea",
   "metadata": {},
   "source": [
    "a) $$P(Blue) = \\frac{15}{10 + 15 + 5 + 10} = \\frac{15}{40} = \\frac{3}{8} $$\n",
    "\n",
    "b) $$P(Red, Blue) = \\frac{15 + 10}{40} = \\frac{25}{40} = \\frac{5}{8} $$\n",
    "\n",
    "c) $$P(Not Yellow) = \\frac{15 + 10 + 5}{40} = \\frac{30}{40} = \\frac{3}{4} $$\n",
    "\n",
    "d) $$P(Purple) = \\frac{0}{40} = 0 $$\n",
    "\n",
    "e) $$P(working) = \\frac{32}{40} = \\frac{4}{5} $$"
   ]
  }
 ],
 "metadata": {
  "kernelspec": {
   "display_name": "Python 3 (ipykernel)",
   "language": "python",
   "name": "python3"
  },
  "language_info": {
   "codemirror_mode": {
    "name": "ipython",
    "version": 3
   },
   "file_extension": ".py",
   "mimetype": "text/x-python",
   "name": "python",
   "nbconvert_exporter": "python",
   "pygments_lexer": "ipython3",
   "version": "3.12.1"
  }
 },
 "nbformat": 4,
 "nbformat_minor": 5
}

{
 "cells": [
  {
   "cell_type": "markdown",
   "id": "fd24cb86-1200-473f-ae10-81d4f6bde5e3",
   "metadata": {},
   "source": [
    "# Question 8\n",
    "-----"
   ]
  },
  {
   "cell_type": "markdown",
   "id": "452ba14b-ad7f-488f-a29a-54e4007a8dde",
   "metadata": {},
   "source": [
    "(i) $$P(6) = \\frac{2}{7}$$\n",
    "\n",
    "(ii) $$P(1, 3, 5) = \\frac{3}{7}$$"
   ]
  }
 ],
 "metadata": {
  "kernelspec": {
   "display_name": "Python 3 (ipykernel)",
   "language": "python",
   "name": "python3"
  },
  "language_info": {
   "codemirror_mode": {
    "name": "ipython",
    "version": 3
   },
   "file_extension": ".py",
   "mimetype": "text/x-python",
   "name": "python",
   "nbconvert_exporter": "python",
   "pygments_lexer": "ipython3",
   "version": "3.12.1"
  }
 },
 "nbformat": 4,
 "nbformat_minor": 5
}

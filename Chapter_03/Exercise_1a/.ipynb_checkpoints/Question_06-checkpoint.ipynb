{
 "cells": [
  {
   "cell_type": "markdown",
   "id": "7d473eb1-a7f1-4f04-b631-0c19fb6e875c",
   "metadata": {},
   "source": [
    "# Question 6\n",
    "-----"
   ]
  },
  {
   "cell_type": "markdown",
   "id": "39e02c00-c88b-4454-97e9-7a280384cc7f",
   "metadata": {},
   "source": [
    "a) (i)\n",
    "$$P(spades) = \\frac{1}{52} =  0.0192$$\n",
    "\n",
    "(ii)\n",
    "$$P(A) = \\frac{1 + 13}{52} = 0.2692$$\n",
    "\n",
    "(iii)\n",
    "$$P(A) = \\frac{40}{52} = 0.76928$$\n",
    "\n",
    "b)\n",
    "$$P(A) = \\frac{51 - 12}{51} = 0.7647$$"
   ]
  }
 ],
 "metadata": {
  "kernelspec": {
   "display_name": "Python 3 (ipykernel)",
   "language": "python",
   "name": "python3"
  },
  "language_info": {
   "codemirror_mode": {
    "name": "ipython",
    "version": 3
   },
   "file_extension": ".py",
   "mimetype": "text/x-python",
   "name": "python",
   "nbconvert_exporter": "python",
   "pygments_lexer": "ipython3",
   "version": "3.12.1"
  }
 },
 "nbformat": 4,
 "nbformat_minor": 5
}

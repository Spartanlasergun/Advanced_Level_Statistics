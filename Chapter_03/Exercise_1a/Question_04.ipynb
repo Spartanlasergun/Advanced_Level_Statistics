{
 "cells": [
  {
   "cell_type": "markdown",
   "id": "a383ac09-1c39-440b-98bb-149bfcbb72a5",
   "metadata": {},
   "source": [
    "# Question 4\n",
    "-----"
   ]
  },
  {
   "cell_type": "markdown",
   "id": "b56ef7ed-e386-4fc1-807f-a9dd89f64cd5",
   "metadata": {},
   "source": [
    "a) \n",
    "$$P(tails) = \\frac{9 + 7 + 8 + 6 + 10 + 7 + 5 + 5 + 8 + 9}{16 * 10} $$\n",
    "\n",
    "$$P(tails) = \\frac{74}{160} = 0.4625 $$"
   ]
  },
  {
   "cell_type": "markdown",
   "id": "e3253880-0cc3-424d-aa67-787c3ef4a6d8",
   "metadata": {},
   "source": [
    "b) \n",
    "$$ events  = 16 * 100 = 1600 $$\n",
    "\n",
    "Probability of heads or tails is 50%\n",
    "\n",
    "$$P(tails) = 1600 * 0.5 = 800$$\n",
    "Hence, Dan would expect to obtain 800 tails"
   ]
  }
 ],
 "metadata": {
  "kernelspec": {
   "display_name": "Python 3 (ipykernel)",
   "language": "python",
   "name": "python3"
  },
  "language_info": {
   "codemirror_mode": {
    "name": "ipython",
    "version": 3
   },
   "file_extension": ".py",
   "mimetype": "text/x-python",
   "name": "python",
   "nbconvert_exporter": "python",
   "pygments_lexer": "ipython3",
   "version": "3.12.1"
  }
 },
 "nbformat": 4,
 "nbformat_minor": 5
}

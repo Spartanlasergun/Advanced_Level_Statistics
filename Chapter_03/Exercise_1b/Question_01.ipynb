{
 "cells": [
  {
   "cell_type": "markdown",
   "id": "88ec64fa-4cee-41c8-b779-d72b7adc984b",
   "metadata": {},
   "source": [
    "# Question 1\n",
    "-----"
   ]
  },
  {
   "cell_type": "markdown",
   "id": "594ae8ba-c58b-4203-8de4-e4eae0c8bfaf",
   "metadata": {},
   "source": [
    "a)\n",
    "$$P(even) = \\frac{3}{6} = 0.5$$\n",
    "\n",
    "b)\n",
    "$$P(prime) = \\frac{3}{6} = 0.5$$\n",
    "\n",
    "c)\n",
    "$$P(even \\ \\ or \\ \\ prime) = \\frac{5}{6}$$"
   ]
  }
 ],
 "metadata": {
  "kernelspec": {
   "display_name": "Python 3 (ipykernel)",
   "language": "python",
   "name": "python3"
  },
  "language_info": {
   "codemirror_mode": {
    "name": "ipython",
    "version": 3
   },
   "file_extension": ".py",
   "mimetype": "text/x-python",
   "name": "python",
   "nbconvert_exporter": "python",
   "pygments_lexer": "ipython3",
   "version": "3.12.1"
  }
 },
 "nbformat": 4,
 "nbformat_minor": 5
}

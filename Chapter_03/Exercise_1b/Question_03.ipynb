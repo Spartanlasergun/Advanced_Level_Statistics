{
 "cells": [
  {
   "cell_type": "markdown",
   "id": "22aadab1-4355-413e-a0b7-45a6cef44fdc",
   "metadata": {},
   "source": [
    "# Question 3\n",
    "-----"
   ]
  },
  {
   "cell_type": "markdown",
   "id": "2509b51c-90e0-4f48-9019-9ef125cbc746",
   "metadata": {},
   "source": [
    "a) \n",
    "$$P(diamond) = \\frac{12}{51} = \\frac{4}{17}$$\n",
    "\n",
    "b)\n",
    "$$P(queen) = \\frac{4}{51} $$\n",
    "\n",
    "c)\n",
    "$$P(DQ) = \\frac{15}{51} = \\frac{5}{17}$$\n",
    "\n",
    "d)\n",
    "$$P(D7) = \\frac{15}{51} = \\frac{5}{17}$$"
   ]
  }
 ],
 "metadata": {
  "kernelspec": {
   "display_name": "Python 3 (ipykernel)",
   "language": "python",
   "name": "python3"
  },
  "language_info": {
   "codemirror_mode": {
    "name": "ipython",
    "version": 3
   },
   "file_extension": ".py",
   "mimetype": "text/x-python",
   "name": "python",
   "nbconvert_exporter": "python",
   "pygments_lexer": "ipython3",
   "version": "3.12.1"
  }
 },
 "nbformat": 4,
 "nbformat_minor": 5
}

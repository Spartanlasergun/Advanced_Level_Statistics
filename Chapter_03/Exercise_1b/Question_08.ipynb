{
 "cells": [
  {
   "cell_type": "markdown",
   "id": "1bb55074-4a76-4685-bc40-7779725a808b",
   "metadata": {},
   "source": [
    "# Question 8\n",
    "-----"
   ]
  },
  {
   "cell_type": "markdown",
   "id": "281bb697-ce4c-4d3a-88fb-3c1a5b8a2d38",
   "metadata": {},
   "source": [
    "$$P(A) = P(A \\cup B) - P(B) + P(A \\cap B)$$\n",
    "\n",
    "$$P(A) + P(B) = 0.7 + 0.1 = 0.8$$\n",
    "\n",
    "Since $P(A) = P(B)$\n",
    "\n",
    "$$P(A) = 0.8 / 2 = 0.4$$\n",
    "\n",
    "$$P(A') = 1 - P(A) = 1 - 0.4 = 0.6$$"
   ]
  }
 ],
 "metadata": {
  "kernelspec": {
   "display_name": "Python 3 (ipykernel)",
   "language": "python",
   "name": "python3"
  },
  "language_info": {
   "codemirror_mode": {
    "name": "ipython",
    "version": 3
   },
   "file_extension": ".py",
   "mimetype": "text/x-python",
   "name": "python",
   "nbconvert_exporter": "python",
   "pygments_lexer": "ipython3",
   "version": "3.12.1"
  }
 },
 "nbformat": 4,
 "nbformat_minor": 5
}

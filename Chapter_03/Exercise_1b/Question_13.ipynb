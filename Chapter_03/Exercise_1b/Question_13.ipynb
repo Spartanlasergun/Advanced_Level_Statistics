{
 "cells": [
  {
   "cell_type": "markdown",
   "id": "9c2d8e0e-0bb3-4d12-b39b-f71f4edf192e",
   "metadata": {},
   "source": [
    "# Question 13\n",
    "-----"
   ]
  },
  {
   "cell_type": "markdown",
   "id": "a4244ae4-f7a6-4773-b8f8-8422966a15c0",
   "metadata": {},
   "source": [
    "$$P(A \\cup B) = \\frac{8}{15} + \\frac{2}{3} - \\frac{1}{5}$$\n",
    "\n",
    "$$P(A \\cup B) = 1$$\n",
    "\n",
    "Hence, A and B are exhaustive events"
   ]
  }
 ],
 "metadata": {
  "kernelspec": {
   "display_name": "Python 3 (ipykernel)",
   "language": "python",
   "name": "python3"
  },
  "language_info": {
   "codemirror_mode": {
    "name": "ipython",
    "version": 3
   },
   "file_extension": ".py",
   "mimetype": "text/x-python",
   "name": "python",
   "nbconvert_exporter": "python",
   "pygments_lexer": "ipython3",
   "version": "3.12.1"
  }
 },
 "nbformat": 4,
 "nbformat_minor": 5
}

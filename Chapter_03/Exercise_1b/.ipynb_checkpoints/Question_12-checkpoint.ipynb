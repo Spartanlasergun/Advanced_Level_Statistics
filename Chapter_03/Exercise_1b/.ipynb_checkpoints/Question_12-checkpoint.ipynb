{
 "cells": [
  {
   "cell_type": "markdown",
   "id": "47baf933-d2b1-448a-b0e5-bd5834b6d5a3",
   "metadata": {},
   "source": [
    "# Question 12\n",
    "-----"
   ]
  },
  {
   "cell_type": "markdown",
   "id": "bb7b12a0-69a4-42ce-9e31-a09881c1071b",
   "metadata": {},
   "source": [
    "a)\n",
    "$$P(A) = \\frac{11}{36}$$\n",
    "\n",
    "b)\n",
    "$$P(B) = \\frac{11}{36}$$\n",
    "\n",
    "c)\n",
    "$$P(A \\cup B) = P(A) + P(B) - P(A \\cap B)$$\n",
    "\n",
    "$$P(A \\cup B) = \\frac{11}{36} + \\frac{11}{36} - \\frac{2}{36}$$\n",
    "\n",
    "$$P(A \\cup B) = \\frac{5}{9}$$"
   ]
  }
 ],
 "metadata": {
  "kernelspec": {
   "display_name": "Python 3 (ipykernel)",
   "language": "python",
   "name": "python3"
  },
  "language_info": {
   "codemirror_mode": {
    "name": "ipython",
    "version": 3
   },
   "file_extension": ".py",
   "mimetype": "text/x-python",
   "name": "python",
   "nbconvert_exporter": "python",
   "pygments_lexer": "ipython3",
   "version": "3.12.1"
  }
 },
 "nbformat": 4,
 "nbformat_minor": 5
}

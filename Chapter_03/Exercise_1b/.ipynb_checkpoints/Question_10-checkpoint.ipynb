{
 "cells": [
  {
   "cell_type": "markdown",
   "id": "bd6761e0-8125-4ffb-82ef-7088b922c114",
   "metadata": {},
   "source": [
    "# Question 10\n",
    "-----"
   ]
  },
  {
   "cell_type": "markdown",
   "id": "a8d97876-3a77-4896-a7d4-115e6dc9ce28",
   "metadata": {},
   "source": [
    "a)\n",
    "$$P(A) = \\frac{7}{36}$$\n",
    "\n",
    "b)\n",
    "$$P(B) = \\frac{6}{36} = \\frac{1}{6}$$\n",
    "\n",
    "c)\n",
    "$$P(A \\cup B) = P(A) + P(B) - P(A \\cap B)$$\n",
    "\n",
    "$$P(A \\cup B) = \\frac{7}{36} + \\frac{1}{6} - \\frac{3}{36} = \\frac{5}{18}$$\n",
    "\n",
    "d)\n",
    "$$P(A \\cap B) = \\frac{3}{36} = \\frac{1}{12}$$"
   ]
  }
 ],
 "metadata": {
  "kernelspec": {
   "display_name": "Python 3 (ipykernel)",
   "language": "python",
   "name": "python3"
  },
  "language_info": {
   "codemirror_mode": {
    "name": "ipython",
    "version": 3
   },
   "file_extension": ".py",
   "mimetype": "text/x-python",
   "name": "python",
   "nbconvert_exporter": "python",
   "pygments_lexer": "ipython3",
   "version": "3.12.1"
  }
 },
 "nbformat": 4,
 "nbformat_minor": 5
}

{
 "cells": [
  {
   "cell_type": "markdown",
   "id": "778f2074-7a5d-480b-a84d-f617b9ea810f",
   "metadata": {},
   "source": [
    "# Question 9\n",
    "-----"
   ]
  },
  {
   "cell_type": "markdown",
   "id": "90cfb357-65e8-43e7-a2bd-def042a7a706",
   "metadata": {},
   "source": [
    "$$P(A \\cup B) = P(A) + P(B) - P(A \\cap B)$$\n",
    "\n",
    "$$P(A \\cup B) = 0.4 + 0.5 - 0.2 = 0.7$$"
   ]
  }
 ],
 "metadata": {
  "kernelspec": {
   "display_name": "Python 3 (ipykernel)",
   "language": "python",
   "name": "python3"
  },
  "language_info": {
   "codemirror_mode": {
    "name": "ipython",
    "version": 3
   },
   "file_extension": ".py",
   "mimetype": "text/x-python",
   "name": "python",
   "nbconvert_exporter": "python",
   "pygments_lexer": "ipython3",
   "version": "3.12.1"
  }
 },
 "nbformat": 4,
 "nbformat_minor": 5
}

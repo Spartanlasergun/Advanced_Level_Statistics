{
 "cells": [
  {
   "cell_type": "markdown",
   "id": "52f1b37d-519b-4da5-88af-35914e36e83f",
   "metadata": {},
   "source": [
    "# Question Ten"
   ]
  },
  {
   "cell_type": "code",
   "execution_count": 2,
   "id": "5f845435-0ab9-459a-99e8-63850fa8f196",
   "metadata": {
    "tags": []
   },
   "outputs": [
    {
     "name": "stdout",
     "output_type": "stream",
     "text": [
      "(a)\n",
      "median = 6\n",
      "mode = 5\n"
     ]
    }
   ],
   "source": [
    "x = [2, 3, 4, 5, 6, 7, 8, 9, 10, 11, 15]\n",
    "freq = [2, 4, 6, 7, 6, 5, 4, 2, 1, 1, 1]\n",
    "raw_data = []\n",
    "index = 0\n",
    "\n",
    "for item in freq:\n",
    "    count = item\n",
    "    while count!= 0:\n",
    "        raw_data.append(x[index])\n",
    "        count = count - 1\n",
    "    index = index + 1\n",
    "\n",
    "import statistics\n",
    "\n",
    "median = statistics.median(raw_data)\n",
    "mode = statistics.mode(raw_data)\n",
    "print(\"(a)\")\n",
    "print(\"median = \" + str(median))\n",
    "print(\"mode = \" + str(mode))"
   ]
  },
  {
   "cell_type": "markdown",
   "id": "0b879a76-e85e-4015-b373-8f93cbb1854f",
   "metadata": {},
   "source": [
    "-----\n",
    "\n",
    "(b) Outliers are taken at a range beyond 2 standard deviations of the mean. 15 lies greatly outside of this.\n",
    "\n",
    "-----\n",
    "\n",
    "(c)(i) (ii)\n",
    "Note: Because of the ambiguity in part (c), it has been skipped\n",
    "\n",
    "----"
   ]
  },
  {
   "cell_type": "code",
   "execution_count": 3,
   "id": "a51f566d-d063-4936-9329-29beab0b8011",
   "metadata": {
    "tags": []
   },
   "outputs": [
    {
     "name": "stdout",
     "output_type": "stream",
     "text": [
      "(d)\n",
      "median = 5.5\n",
      "mode = 5\n"
     ]
    }
   ],
   "source": [
    "x = [2, 3, 4, 5, 6, 7, 8, 9, 10, 11]\n",
    "freq = [2, 4, 6, 7, 6, 5, 4, 2, 1, 1]\n",
    "raw_data = []\n",
    "index = 0\n",
    "\n",
    "for item in freq:\n",
    "    count = item\n",
    "    while count!= 0:\n",
    "        raw_data.append(x[index])\n",
    "        count = count - 1\n",
    "    index = index + 1\n",
    "\n",
    "import statistics\n",
    "\n",
    "median = statistics.median(raw_data)\n",
    "mode = statistics.mode(raw_data)\n",
    "print(\"(d)\")\n",
    "print(\"median = \" + str(median))\n",
    "print(\"mode = \" + str(mode))"
   ]
  },
  {
   "cell_type": "markdown",
   "id": "dda667d5-49ac-4241-ad1b-2aa475edfdec",
   "metadata": {},
   "source": [
    "-----\n",
    "\n",
    "(e) Removing the outlier decrease the mean and standard deviation to a more accurate value\n",
    "\n",
    "-----\n",
    "\n",
    "(f) The diagram is positively skewed. Removing the outlier does not change the skewness, but does make the distribution more symmetrical than it was."
   ]
  }
 ],
 "metadata": {
  "kernelspec": {
   "display_name": "Python 3 (ipykernel)",
   "language": "python",
   "name": "python3"
  },
  "language_info": {
   "codemirror_mode": {
    "name": "ipython",
    "version": 3
   },
   "file_extension": ".py",
   "mimetype": "text/x-python",
   "name": "python",
   "nbconvert_exporter": "python",
   "pygments_lexer": "ipython3",
   "version": "3.11.2"
  }
 },
 "nbformat": 4,
 "nbformat_minor": 5
}

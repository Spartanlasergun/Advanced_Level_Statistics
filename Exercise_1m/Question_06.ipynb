{
 "cells": [
  {
   "cell_type": "markdown",
   "id": "64f3cb69-bb9c-4388-8010-14cd5143377d",
   "metadata": {},
   "source": [
    "# Question Six\n",
    "\n",
    "The English marks are positively skewed, while the mathematics marks are symmetrical. The median scores in Mathematics was better and overall, more students had higher grades in Math than in English."
   ]
  }
 ],
 "metadata": {
  "kernelspec": {
   "display_name": "Python 3 (ipykernel)",
   "language": "python",
   "name": "python3"
  },
  "language_info": {
   "codemirror_mode": {
    "name": "ipython",
    "version": 3
   },
   "file_extension": ".py",
   "mimetype": "text/x-python",
   "name": "python",
   "nbconvert_exporter": "python",
   "pygments_lexer": "ipython3",
   "version": "3.11.2"
  }
 },
 "nbformat": 4,
 "nbformat_minor": 5
}

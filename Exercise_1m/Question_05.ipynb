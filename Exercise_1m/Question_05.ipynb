{
 "cells": [
  {
   "cell_type": "markdown",
   "id": "bf4657fd-c4c0-4ee8-a8c7-12d2537d6338",
   "metadata": {},
   "source": [
    "# Question Five"
   ]
  },
  {
   "cell_type": "code",
   "execution_count": 2,
   "id": "7b709a61-10a4-421f-9faf-8122a4d1348f",
   "metadata": {
    "tags": []
   },
   "outputs": [
    {
     "name": "stdout",
     "output_type": "stream",
     "text": [
      "mean = 63.87096774193548\n",
      "standard deviation = 29.472504338225168\n"
     ]
    }
   ],
   "source": [
    "import statistics\n",
    "\n",
    "data = [11, 53, 72, 48, 48, 49, 39, 87, 73, 23, 120,\n",
    "        24, 61, 36, 66, 67, 86, 79, 65, 47, 36, 133,\n",
    "        78, 81, 70, 75, 53, 42, 42, 72, 144]\n",
    "\n",
    "mean = statistics.mean(data)\n",
    "std = statistics.pstdev(data)\n",
    "print(\"mean = \" + str(mean))\n",
    "print(\"standard deviation = \" + str(std))"
   ]
  },
  {
   "cell_type": "code",
   "execution_count": 4,
   "id": "d9e7e30e-e9fd-419e-b7c2-c3b70848243b",
   "metadata": {
    "tags": []
   },
   "outputs": [
    {
     "name": "stdout",
     "output_type": "stream",
     "text": [
      "outliers: \n",
      "[133, 144]\n"
     ]
    }
   ],
   "source": [
    "upper_limit = mean + (std * 2)\n",
    "lower_limit = mean - (std * 2)\n",
    "outliers = []\n",
    "for item in data:\n",
    "    if (item > upper_limit) or (item < lower_limit):\n",
    "        outliers.append(item)\n",
    "print(\"outliers: \")\n",
    "print(outliers)"
   ]
  }
 ],
 "metadata": {
  "kernelspec": {
   "display_name": "Python 3 (ipykernel)",
   "language": "python",
   "name": "python3"
  },
  "language_info": {
   "codemirror_mode": {
    "name": "ipython",
    "version": 3
   },
   "file_extension": ".py",
   "mimetype": "text/x-python",
   "name": "python",
   "nbconvert_exporter": "python",
   "pygments_lexer": "ipython3",
   "version": "3.11.2"
  }
 },
 "nbformat": 4,
 "nbformat_minor": 5
}

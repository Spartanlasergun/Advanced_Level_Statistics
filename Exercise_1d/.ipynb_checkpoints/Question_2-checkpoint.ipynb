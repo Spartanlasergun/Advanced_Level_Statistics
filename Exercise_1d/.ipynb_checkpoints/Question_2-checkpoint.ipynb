{
 "cells": [
  {
   "cell_type": "code",
   "execution_count": 1,
   "id": "43aeb393",
   "metadata": {},
   "outputs": [
    {
     "name": "stdout",
     "output_type": "stream",
     "text": [
      "The mean is = 49.3\n"
     ]
    }
   ],
   "source": [
    "data = [47, 48, 49, 50, 51]\n",
    "freq = [4, 20, 35, 24, 17]\n",
    "raw_data = []\n",
    "index = 0\n",
    "for item in freq:\n",
    "    count = item\n",
    "    while count != 0:\n",
    "        raw_data.append(data[index])\n",
    "        count = count - 1\n",
    "    index = index + 1\n",
    "mean = (sum(raw_data)) / (len(raw_data))\n",
    "print(\"The mean is = \" + str(mean))"
   ]
  }
 ],
 "metadata": {
  "kernelspec": {
   "display_name": "Python 3 (ipykernel)",
   "language": "python",
   "name": "python3"
  },
  "language_info": {
   "codemirror_mode": {
    "name": "ipython",
    "version": 3
   },
   "file_extension": ".py",
   "mimetype": "text/x-python",
   "name": "python",
   "nbconvert_exporter": "python",
   "pygments_lexer": "ipython3",
   "version": "3.10.7"
  }
 },
 "nbformat": 4,
 "nbformat_minor": 5
}

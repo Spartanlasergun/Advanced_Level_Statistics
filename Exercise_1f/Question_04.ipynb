{
 "cells": [
  {
   "cell_type": "code",
   "execution_count": 2,
   "id": "4ca1eff2",
   "metadata": {},
   "outputs": [
    {
     "name": "stdout",
     "output_type": "stream",
     "text": [
      "The mean is = 115.83333333333333\n",
      "The standard deviation = 7.5788448254921335\n"
     ]
    }
   ],
   "source": [
    "import statistics\n",
    "\n",
    "data = [103, 110, 117, 124, 131]\n",
    "freq = [8, 13, 24, 11, 4]\n",
    "raw_data = []\n",
    "index = 0\n",
    "for item in freq:\n",
    "    count = item\n",
    "    while count != 0:\n",
    "        raw_data.append(data[index])\n",
    "        count = count - 1\n",
    "    index = index + 1\n",
    "mean = sum(raw_data) / len(raw_data)\n",
    "std = statistics.pstdev(raw_data)\n",
    "print(\"The mean is = \" + str(mean))\n",
    "print(\"The standard deviation = \" + str(std))"
   ]
  }
 ],
 "metadata": {
  "kernelspec": {
   "display_name": "Python 3 (ipykernel)",
   "language": "python",
   "name": "python3"
  },
  "language_info": {
   "codemirror_mode": {
    "name": "ipython",
    "version": 3
   },
   "file_extension": ".py",
   "mimetype": "text/x-python",
   "name": "python",
   "nbconvert_exporter": "python",
   "pygments_lexer": "ipython3",
   "version": "3.10.7"
  }
 },
 "nbformat": 4,
 "nbformat_minor": 5
}

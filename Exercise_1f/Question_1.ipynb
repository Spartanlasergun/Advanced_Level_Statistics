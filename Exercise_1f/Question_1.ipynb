{
 "cells": [
  {
   "cell_type": "code",
   "execution_count": 3,
   "id": "ec25c546",
   "metadata": {},
   "outputs": [
    {
     "name": "stdout",
     "output_type": "stream",
     "text": [
      "The mean is = 5.0\n",
      "The Standard Deviation is = 2.0\n"
     ]
    }
   ],
   "source": [
    "import statistics\n",
    "\n",
    "a = [2, 4, 5, 6, 8]\n",
    "mean = (sum(a)) / (len(a))\n",
    "std = statistics.pstdev(a)\n",
    "print(\"The mean is = \" + str(mean))\n",
    "print(\"The Standard Deviation is = \" + str(std))"
   ]
  },
  {
   "cell_type": "code",
   "execution_count": 4,
   "id": "57c96c90",
   "metadata": {},
   "outputs": [
    {
     "name": "stdout",
     "output_type": "stream",
     "text": [
      "The mean is = 8.5\n",
      "The Standard Deviation is = 1.8027756377319946\n"
     ]
    }
   ],
   "source": [
    "b = [6, 8, 9, 11]\n",
    "mean = (sum(b)) / (len(b))\n",
    "std = statistics.pstdev(b)\n",
    "print(\"The mean is = \" + str(mean))\n",
    "print(\"The Standard Deviation is = \" + str(std))"
   ]
  },
  {
   "cell_type": "code",
   "execution_count": 5,
   "id": "da5fba8a",
   "metadata": {},
   "outputs": [
    {
     "name": "stdout",
     "output_type": "stream",
     "text": [
      "The mean is = 18.8\n",
      "The Standard Deviation is = 6.4621977685614045\n"
     ]
    }
   ],
   "source": [
    "c = [11, 14, 17, 23, 29]\n",
    "mean = (sum(c)) / (len(c))\n",
    "std = statistics.pstdev(c)\n",
    "print(\"The mean is = \" + str(mean))\n",
    "print(\"The Standard Deviation is = \" + str(std))"
   ]
  },
  {
   "cell_type": "code",
   "execution_count": 6,
   "id": "4547c7d7",
   "metadata": {},
   "outputs": [
    {
     "name": "stdout",
     "output_type": "stream",
     "text": [
      "The mean is = 10.833333333333334\n",
      "The Standard Deviation is = 4.099457958749615\n"
     ]
    }
   ],
   "source": [
    "d = [5, 13, 7, 9, 16, 15]\n",
    "mean = (sum(d)) / (len(d))\n",
    "std = statistics.pstdev(d)\n",
    "print(\"The mean is = \" + str(mean))\n",
    "print(\"The Standard Deviation is = \" + str(std))"
   ]
  },
  {
   "cell_type": "code",
   "execution_count": 7,
   "id": "2b6bd569",
   "metadata": {},
   "outputs": [
    {
     "name": "stdout",
     "output_type": "stream",
     "text": [
      "The mean is = 3.4200000000000004\n",
      "The Standard Deviation is = 1.9114392483152585\n"
     ]
    }
   ],
   "source": [
    "e = [4.6, 2.7, 3.1, 0.5, 6.2]\n",
    "mean = (sum(e)) / (len(e))\n",
    "std = statistics.pstdev(e)\n",
    "print(\"The mean is = \" + str(mean))\n",
    "print(\"The Standard Deviation is = \" + str(std))"
   ]
  },
  {
   "cell_type": "code",
   "execution_count": 8,
   "id": "6932fb97",
   "metadata": {},
   "outputs": [
    {
     "name": "stdout",
     "output_type": "stream",
     "text": [
      "The mean is = 205.0\n",
      "The Standard Deviation is = 3.1622776601683795\n"
     ]
    }
   ],
   "source": [
    "f = [200, 203, 206, 207, 209]\n",
    "mean = (sum(f)) / (len(f))\n",
    "std = statistics.pstdev(f)\n",
    "print(\"The mean is = \" + str(mean))\n",
    "print(\"The Standard Deviation is = \" + str(std))"
   ]
  }
 ],
 "metadata": {
  "kernelspec": {
   "display_name": "Python 3 (ipykernel)",
   "language": "python",
   "name": "python3"
  },
  "language_info": {
   "codemirror_mode": {
    "name": "ipython",
    "version": 3
   },
   "file_extension": ".py",
   "mimetype": "text/x-python",
   "name": "python",
   "nbconvert_exporter": "python",
   "pygments_lexer": "ipython3",
   "version": "3.10.7"
  }
 },
 "nbformat": 4,
 "nbformat_minor": 5
}

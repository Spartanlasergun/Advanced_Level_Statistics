{
 "cells": [
  {
   "cell_type": "code",
   "execution_count": 1,
   "id": "42f55c03",
   "metadata": {},
   "outputs": [
    {
     "name": "stdout",
     "output_type": "stream",
     "text": [
      "The mean is = 6.8\n",
      "The standard deviation is = 1.1075498483890767\n"
     ]
    }
   ],
   "source": [
    "import statistics\n",
    "\n",
    "raw_data = [5, 5, 6, 6, 6, 6, 7, 7, 7, 7, 7, 8, 8, 8, 9]\n",
    "mean = sum(raw_data) / len(raw_data)\n",
    "std = statistics.pstdev(raw_data)\n",
    "print(\"The mean is = \" + str(mean))\n",
    "print(\"The standard deviation is = \" + str(std))"
   ]
  }
 ],
 "metadata": {
  "kernelspec": {
   "display_name": "Python 3 (ipykernel)",
   "language": "python",
   "name": "python3"
  },
  "language_info": {
   "codemirror_mode": {
    "name": "ipython",
    "version": 3
   },
   "file_extension": ".py",
   "mimetype": "text/x-python",
   "name": "python",
   "nbconvert_exporter": "python",
   "pygments_lexer": "ipython3",
   "version": "3.10.7"
  }
 },
 "nbformat": 4,
 "nbformat_minor": 5
}

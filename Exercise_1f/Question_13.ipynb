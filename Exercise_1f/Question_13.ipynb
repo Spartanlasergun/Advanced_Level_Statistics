{
 "cells": [
  {
   "cell_type": "code",
   "execution_count": 9,
   "id": "87f780fc",
   "metadata": {},
   "outputs": [],
   "source": [
    "# a) The histogram represents the total number of birds caught as the sum of the frequency density\n",
    "#    multiplied by the length for each datapoint"
   ]
  },
  {
   "cell_type": "code",
   "execution_count": 10,
   "id": "e131a699",
   "metadata": {},
   "outputs": [],
   "source": [
    "# b) A rough estimate of the mean from looking at the histogram showing that the highest frequency \n",
    "#    density is concentrated at a length in 111mm. Hence a rough estimate of the average length is \n",
    "#    111mm. This is a bad estimate, as the intervals are non-uniform."
   ]
  },
  {
   "cell_type": "code",
   "execution_count": 12,
   "id": "5691e0ed",
   "metadata": {},
   "outputs": [
    {
     "name": "stdout",
     "output_type": "stream",
     "text": [
      "The standard deviation is = 3.451837542359834\n"
     ]
    }
   ],
   "source": [
    "import math\n",
    "n = (5 * 1) + (3 * 6) + (2 * 11) + (2 * 14) + (2 * 11) + (3 * 6) + (5 * 1)\n",
    "mean = 13099 / n\n",
    "var = (1455506 / n ) - (pow(mean, 2))\n",
    "std = math.sqrt(var)\n",
    "print(\"The standard deviation is = \" + str(std))"
   ]
  }
 ],
 "metadata": {
  "kernelspec": {
   "display_name": "Python 3 (ipykernel)",
   "language": "python",
   "name": "python3"
  },
  "language_info": {
   "codemirror_mode": {
    "name": "ipython",
    "version": 3
   },
   "file_extension": ".py",
   "mimetype": "text/x-python",
   "name": "python",
   "nbconvert_exporter": "python",
   "pygments_lexer": "ipython3",
   "version": "3.10.7"
  }
 },
 "nbformat": 4,
 "nbformat_minor": 5
}

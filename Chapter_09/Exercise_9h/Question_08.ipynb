{
 "cells": [
  {
   "cell_type": "markdown",
   "id": "9ced9ed8-ed79-4502-be7f-2e502444b4dd",
   "metadata": {},
   "source": [
    "# Question 8\n",
    "-----"
   ]
  },
  {
   "cell_type": "code",
   "execution_count": 1,
   "id": "01d0fb94-2015-4c9e-ba11-1668bc67114c",
   "metadata": {},
   "outputs": [],
   "source": [
    "from scipy.integrate import quad\n",
    "import math\n",
    "\n",
    "class normal:\n",
    "    def __init__(self, u, sigma):\n",
    "        self.u = u\n",
    "        self.sigma = sigma\n",
    "        self.root2pi = math.sqrt((2 * math.pi)) \n",
    "    \n",
    "    def normal_func(self, x):\n",
    "        return (1 / (self.sigma * self.root2pi)) * math.exp((-1 * pow((x - self.u), 2)) / (2 * pow(self.sigma, 2)))\n",
    "\n",
    "    def integrate(self, lower_limit, upper_limit):\n",
    "        result, error = quad(self.normal_func, lower_limit, upper_limit)\n",
    "        \n",
    "        return result\n",
    "\n",
    "    def locate(self, area):\n",
    "        fx = 0\n",
    "        x = -6\n",
    "        while fx < area:\n",
    "            fx = self.integrate(-6, x)\n",
    "            x = x + 0.00001\n",
    "            \n",
    "        return x"
   ]
  },
  {
   "cell_type": "code",
   "execution_count": 2,
   "id": "3c436b40-625d-45c4-a6bf-530be070e3c3",
   "metadata": {},
   "outputs": [
    {
     "name": "stdout",
     "output_type": "stream",
     "text": [
      "-1.9599500000623507\n",
      "1.9599500000623507\n"
     ]
    }
   ],
   "source": [
    "z = normal(0, 1)\n",
    "loc_1 = z.locate(0.025)\n",
    "loc_2 = -1 * loc_1\n",
    "print(loc_1)\n",
    "print(loc_2)"
   ]
  },
  {
   "cell_type": "markdown",
   "id": "8fd97f7b-bd06-4426-9a0e-10eb2b2c5d53",
   "metadata": {},
   "source": [
    "$$(1.96\\sigma + \\mu) - (-1.96\\sigma + \\mu) = 0.1$$\n",
    "\n",
    "$$1.96\\sigma + \\mu + 1.96\\sigma - \\mu = 0.1$$\n",
    "\n",
    "$$3.92\\sigma = 0.1$$\n",
    "\n",
    "$$\\sigma = 0.0255$$\n",
    "\n",
    "$$\\sigma^2 = 0.00065$$"
   ]
  },
  {
   "cell_type": "code",
   "execution_count": 3,
   "id": "4eeee49b-7e4b-49b5-8c26-5e43d7d53a23",
   "metadata": {},
   "outputs": [
    {
     "name": "stdout",
     "output_type": "stream",
     "text": [
      "a) 268.2692307692308\n"
     ]
    }
   ],
   "source": [
    "p = 9/40\n",
    "q = 1 - p\n",
    "n = (p * q) / 0.00065\n",
    "print(\"a) \" + str(n))"
   ]
  },
  {
   "cell_type": "markdown",
   "id": "7dfdff83-321a-4186-b756-41cc13ff0496",
   "metadata": {},
   "source": [
    "b) smaller, due to greater variance"
   ]
  }
 ],
 "metadata": {
  "kernelspec": {
   "display_name": "Python 3 (ipykernel)",
   "language": "python",
   "name": "python3"
  },
  "language_info": {
   "codemirror_mode": {
    "name": "ipython",
    "version": 3
   },
   "file_extension": ".py",
   "mimetype": "text/x-python",
   "name": "python",
   "nbconvert_exporter": "python",
   "pygments_lexer": "ipython3",
   "version": "3.12.1"
  }
 },
 "nbformat": 4,
 "nbformat_minor": 5
}

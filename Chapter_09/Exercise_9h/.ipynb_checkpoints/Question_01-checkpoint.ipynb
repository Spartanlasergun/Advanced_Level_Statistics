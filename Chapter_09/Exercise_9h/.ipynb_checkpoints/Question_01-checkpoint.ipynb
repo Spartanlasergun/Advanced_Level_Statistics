{
 "cells": [
  {
   "cell_type": "markdown",
   "id": "0b4a4f55-9d96-42c8-a0d7-3b7eea873b21",
   "metadata": {},
   "source": [
    "# Question 1\n",
    "-----"
   ]
  },
  {
   "cell_type": "code",
   "execution_count": 1,
   "id": "be33bf5b-2412-492f-acd5-90f0523d9c24",
   "metadata": {},
   "outputs": [],
   "source": [
    "from scipy.integrate import quad\n",
    "import math\n",
    "import numpy as np\n",
    "from scipy.special import gamma\n",
    "\n",
    "class T_dist:\n",
    "    def __init__(self, nu):\n",
    "        self.nu = nu\n",
    "        numerator = gamma((nu + 1) / 2)\n",
    "        denominator = np.sqrt(np.pi * nu) * gamma(nu / 2)\n",
    "        self.coefficient = numerator / denominator\n",
    "\n",
    "    def t_distribution_pdf(self, x):\n",
    "        return self.coefficient * ((1 + (x**2 / self.nu))**(-(self.nu + 1) / 2))\n",
    "\n",
    "    def integrate(self, lower_limit, upper_limit):\n",
    "        result, error = quad(self.t_distribution_pdf, lower_limit, upper_limit)\n",
    "        \n",
    "        return result\n",
    "\n",
    "    def locate(self, area):\n",
    "        fx = 0\n",
    "        x = -6\n",
    "        while fx < area:\n",
    "            fx = self.integrate(-6, x)\n",
    "            x = x + 0.00001\n",
    "            \n",
    "        return x"
   ]
  },
  {
   "cell_type": "code",
   "execution_count": 2,
   "id": "0165251b-f997-4562-8af4-4044da06de6b",
   "metadata": {},
   "outputs": [
    {
     "name": "stdout",
     "output_type": "stream",
     "text": [
      "124.1724725911742 < X < 125.7675274088258\n"
     ]
    }
   ],
   "source": [
    "x = [124.31, 125.14, 124.23, 125.41, 125.76]\n",
    "mean = sum(x) / len(x)\n",
    "sigma = 0.85 / math.sqrt(5)\n",
    "nu = len(x) - 1\n",
    "t_dist = T_dist(nu)\n",
    "loc_1 = t_dist.locate(0.05)\n",
    "loc_2 = -1 * loc_1\n",
    "LI = (loc_1 * sigma) + mean\n",
    "UI = (loc_2 * sigma) + mean\n",
    "print(str(LI) + \" < X < \" + str(UI))"
   ]
  },
  {
   "cell_type": "code",
   "execution_count": 3,
   "id": "9facea80-8eb3-46ba-8f8d-47de97cb4f2b",
   "metadata": {},
   "outputs": [
    {
     "name": "stdout",
     "output_type": "stream",
     "text": [
      "4.0\n"
     ]
    }
   ],
   "source": [
    "b = 0.1 * 40\n",
    "print(b)"
   ]
  }
 ],
 "metadata": {
  "kernelspec": {
   "display_name": "Python 3 (ipykernel)",
   "language": "python",
   "name": "python3"
  },
  "language_info": {
   "codemirror_mode": {
    "name": "ipython",
    "version": 3
   },
   "file_extension": ".py",
   "mimetype": "text/x-python",
   "name": "python",
   "nbconvert_exporter": "python",
   "pygments_lexer": "ipython3",
   "version": "3.12.1"
  }
 },
 "nbformat": 4,
 "nbformat_minor": 5
}

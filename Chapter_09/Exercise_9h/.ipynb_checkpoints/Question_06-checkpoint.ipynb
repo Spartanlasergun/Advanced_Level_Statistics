{
 "cells": [
  {
   "cell_type": "markdown",
   "id": "d3b677a2-648a-4fec-95bb-0231b46a6269",
   "metadata": {},
   "source": [
    "# Question 6\n",
    "-----"
   ]
  },
  {
   "cell_type": "markdown",
   "id": "ec0960b8-29e0-48c3-9ebb-e3c7a3a2b807",
   "metadata": {},
   "source": [
    "a) $n \\ge 30$, sample must be random"
   ]
  },
  {
   "cell_type": "code",
   "execution_count": 1,
   "id": "ce889c8b-24ae-41f3-916b-c48e3c1986f3",
   "metadata": {},
   "outputs": [],
   "source": [
    "from scipy.integrate import quad\n",
    "import math\n",
    "\n",
    "class normal:\n",
    "    def __init__(self, u, sigma):\n",
    "        self.u = u\n",
    "        self.sigma = sigma\n",
    "        self.root2pi = math.sqrt((2 * math.pi)) \n",
    "    \n",
    "    def normal_func(self, x):\n",
    "        return (1 / (self.sigma * self.root2pi)) * math.exp((-1 * pow((x - self.u), 2)) / (2 * pow(self.sigma, 2)))\n",
    "\n",
    "    def integrate(self, lower_limit, upper_limit):\n",
    "        result, error = quad(self.normal_func, lower_limit, upper_limit)\n",
    "        \n",
    "        return result\n",
    "\n",
    "    def locate(self, area):\n",
    "        fx = 0\n",
    "        x = -6\n",
    "        while fx < area:\n",
    "            fx = self.integrate(-6, x)\n",
    "            x = x + 0.00001\n",
    "            \n",
    "        return x"
   ]
  },
  {
   "cell_type": "code",
   "execution_count": 2,
   "id": "152ff767-8acc-4c44-bdfa-afdfe031b83c",
   "metadata": {},
   "outputs": [
    {
     "name": "stdout",
     "output_type": "stream",
     "text": [
      "b) 0.05853464121706176 < X < 0.16146535878293825\n"
     ]
    }
   ],
   "source": [
    "p = 11/100\n",
    "q = 1 - p\n",
    "n = 100\n",
    "var = (p * q) / n\n",
    "sigma = math.sqrt(var)\n",
    "z = normal(0, 1)\n",
    "loc_1 = z.locate(0.05)\n",
    "loc_2 = -1 * loc_1\n",
    "LI = (loc_1 * sigma) + p\n",
    "UI = (loc_2 * sigma) + p\n",
    "print(\"b) \" + str(LI) + \" < X < \" + str(UI))"
   ]
  }
 ],
 "metadata": {
  "kernelspec": {
   "display_name": "Python 3 (ipykernel)",
   "language": "python",
   "name": "python3"
  },
  "language_info": {
   "codemirror_mode": {
    "name": "ipython",
    "version": 3
   },
   "file_extension": ".py",
   "mimetype": "text/x-python",
   "name": "python",
   "nbconvert_exporter": "python",
   "pygments_lexer": "ipython3",
   "version": "3.12.1"
  }
 },
 "nbformat": 4,
 "nbformat_minor": 5
}

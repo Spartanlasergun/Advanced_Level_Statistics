{
 "cells": [
  {
   "cell_type": "markdown",
   "id": "a933097a-4c19-4b2b-9678-1b6c96680a22",
   "metadata": {},
   "source": [
    "# Question 13\n",
    "-----"
   ]
  },
  {
   "cell_type": "code",
   "execution_count": 1,
   "id": "6fa0973c-0b43-4589-9bfb-17d8b09c731e",
   "metadata": {},
   "outputs": [],
   "source": [
    "import statistics\n",
    "x = [218, 207, 214, 189, 211, 206, 203, 217,\n",
    "     183, 186, 219, 213, 207, 214, 203, 204,\n",
    "     195, 197, 213, 212, 188, 221, 217, 184,\n",
    "     186, 216, 198, 211, 216, 200]\n",
    "mean = sum(x) / len(x)\n",
    "std = statistics.stdev(x)"
   ]
  },
  {
   "cell_type": "code",
   "execution_count": 2,
   "id": "f7532357-57aa-4095-aeaf-3ba527daa7de",
   "metadata": {},
   "outputs": [],
   "source": [
    "from scipy.integrate import quad\n",
    "import math\n",
    "\n",
    "class normal:\n",
    "    def __init__(self, u, sigma):\n",
    "        self.u = u\n",
    "        self.sigma = sigma\n",
    "        self.root2pi = math.sqrt((2 * math.pi)) \n",
    "    \n",
    "    def normal_func(self, x):\n",
    "        return (1 / (self.sigma * self.root2pi)) * math.exp((-1 * pow((x - self.u), 2)) / (2 * pow(self.sigma, 2)))\n",
    "\n",
    "    def integrate(self, lower_limit, upper_limit):\n",
    "        result, error = quad(self.normal_func, lower_limit, upper_limit)\n",
    "        \n",
    "        return result\n",
    "\n",
    "    def locate(self, area):\n",
    "        fx = 0\n",
    "        x = -6\n",
    "        while fx < area:\n",
    "            fx = self.integrate(-6, x)\n",
    "            x = x + 0.00001\n",
    "            \n",
    "        return x"
   ]
  },
  {
   "cell_type": "code",
   "execution_count": 3,
   "id": "167ca7c6-4256-4ba8-bc00-f5241dab2e75",
   "metadata": {},
   "outputs": [
    {
     "name": "stdout",
     "output_type": "stream",
     "text": [
      "a) 202.42847940456173 < X < 207.43818726210495\n"
     ]
    }
   ],
   "source": [
    "z = normal(0, 1)\n",
    "loc_1 = z.locate(0.025)\n",
    "loc_2 = -1 * loc_1\n",
    "sigma = 7 / math.sqrt(30)\n",
    "LI = (loc_1 * sigma) + mean\n",
    "UI = (loc_2 * sigma) + mean\n",
    "print(\"a) \" + str(LI) + \" < X < \" + str(UI))"
   ]
  },
  {
   "cell_type": "code",
   "execution_count": 4,
   "id": "046a3df1-3a94-4e11-baff-5a9bbb46ffba",
   "metadata": {},
   "outputs": [
    {
     "name": "stdout",
     "output_type": "stream",
     "text": [
      "b) 0.0025732445786453284 < X < 0.2334758018757207\n"
     ]
    }
   ],
   "source": [
    "dist = normal(mean, std)\n",
    "p = dist.integrate(-1000, 191)\n",
    "q = 1 - p\n",
    "n = 30\n",
    "var = (p * q) / n\n",
    "sigma = math.sqrt(var)\n",
    "LI = (loc_1 * sigma) + p\n",
    "UI = (loc_2 * sigma) + p\n",
    "print(\"b) \" + str(LI) + \" < X < \" + str(UI))"
   ]
  }
 ],
 "metadata": {
  "kernelspec": {
   "display_name": "Python 3 (ipykernel)",
   "language": "python",
   "name": "python3"
  },
  "language_info": {
   "codemirror_mode": {
    "name": "ipython",
    "version": 3
   },
   "file_extension": ".py",
   "mimetype": "text/x-python",
   "name": "python",
   "nbconvert_exporter": "python",
   "pygments_lexer": "ipython3",
   "version": "3.12.1"
  }
 },
 "nbformat": 4,
 "nbformat_minor": 5
}

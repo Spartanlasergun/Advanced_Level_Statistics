{
 "cells": [
  {
   "cell_type": "markdown",
   "id": "8c0d85f4-3d8c-4ec7-a5f4-4236b6e7f65a",
   "metadata": {},
   "source": [
    "# Question 15\n",
    "-----"
   ]
  },
  {
   "cell_type": "code",
   "execution_count": 1,
   "id": "00d39cb2-60d5-4687-8248-ab3e06a0e50d",
   "metadata": {},
   "outputs": [
    {
     "name": "stdout",
     "output_type": "stream",
     "text": [
      "mean = 25.349999999999998\n",
      "var = 0.13000000000006778\n"
     ]
    }
   ],
   "source": [
    "mean = 304.2 / 12\n",
    "var = (12/11) * ((7712.9 / 12) - (mean**2))\n",
    "print(\"mean = \" + str(mean))\n",
    "print(\"var = \" + str(var))"
   ]
  },
  {
   "cell_type": "code",
   "execution_count": 2,
   "id": "3af436ea-5c4b-4f87-89b5-93d4caa4ab4e",
   "metadata": {},
   "outputs": [],
   "source": [
    "from scipy.integrate import quad\n",
    "import math\n",
    "import numpy as np\n",
    "from scipy.special import gamma\n",
    "\n",
    "class T_dist:\n",
    "    def __init__(self, nu):\n",
    "        self.nu = nu\n",
    "        numerator = gamma((nu + 1) / 2)\n",
    "        denominator = np.sqrt(np.pi * nu) * gamma(nu / 2)\n",
    "        self.coefficient = numerator / denominator\n",
    "\n",
    "    def t_distribution_pdf(self, x):\n",
    "        return self.coefficient * ((1 + (x**2 / self.nu))**(-(self.nu + 1) / 2))\n",
    "\n",
    "    def integrate(self, lower_limit, upper_limit):\n",
    "        result, error = quad(self.t_distribution_pdf, lower_limit, upper_limit)\n",
    "        \n",
    "        return result\n",
    "\n",
    "    def locate(self, area):\n",
    "        fx = 0\n",
    "        x = -6\n",
    "        while fx < area:\n",
    "            fx = self.integrate(-6, x)\n",
    "            x = x + 0.00001\n",
    "            \n",
    "        return x"
   ]
  },
  {
   "cell_type": "code",
   "execution_count": 3,
   "id": "d9e99de3-757b-4e30-abe7-f398e8d0fed3",
   "metadata": {},
   "outputs": [
    {
     "name": "stdout",
     "output_type": "stream",
     "text": [
      "25.12102194421701 < X < 25.578978055782986\n"
     ]
    }
   ],
   "source": [
    "nu = 12 - 1\n",
    "t_dist = T_dist(nu)\n",
    "loc_1 = t_dist.locate(0.025)\n",
    "loc_2 = -1 * loc_1\n",
    "sigma = math.sqrt(var) / math.sqrt(12)\n",
    "LI = (loc_1 * sigma) + mean\n",
    "UI = (loc_2 * sigma) + mean\n",
    "print(str(LI) + \" < X < \" + str(UI))"
   ]
  },
  {
   "cell_type": "markdown",
   "id": "1b108349-598b-4fda-8740-ef9df4eec889",
   "metadata": {},
   "source": [
    "The interpretation in wrong because the CI estimate is for variation in the mean value itself, not the population, Hence, there is a 95% chance for any given sample, that the mean value lies within the range 25.12 and 25.58.\n",
    "\n",
    "The manufacturers viscosity claim is correct based on the sample."
   ]
  }
 ],
 "metadata": {
  "kernelspec": {
   "display_name": "Python 3 (ipykernel)",
   "language": "python",
   "name": "python3"
  },
  "language_info": {
   "codemirror_mode": {
    "name": "ipython",
    "version": 3
   },
   "file_extension": ".py",
   "mimetype": "text/x-python",
   "name": "python",
   "nbconvert_exporter": "python",
   "pygments_lexer": "ipython3",
   "version": "3.12.1"
  }
 },
 "nbformat": 4,
 "nbformat_minor": 5
}

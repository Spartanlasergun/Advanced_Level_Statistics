{
 "cells": [
  {
   "cell_type": "markdown",
   "id": "936a55de-b52f-49f2-b048-1792900fc6e0",
   "metadata": {},
   "source": [
    "# Question 3\n",
    "-----"
   ]
  },
  {
   "cell_type": "markdown",
   "id": "46aa1176-7188-4279-832c-4981e9b513fb",
   "metadata": {},
   "source": [
    "a)\n",
    "$$(\\bar x - \\frac{38.64}{\\sqrt{n}}), (\\bar x + \\frac{38.64}{\\sqrt{n}})$$"
   ]
  },
  {
   "cell_type": "code",
   "execution_count": 1,
   "id": "c929f2c2-e28b-4538-a64b-73c584c70026",
   "metadata": {},
   "outputs": [],
   "source": [
    "from scipy.integrate import quad\n",
    "import math\n",
    "\n",
    "class normal:\n",
    "    def __init__(self, u, sigma):\n",
    "        self.u = u\n",
    "        self.sigma = sigma\n",
    "        self.root2pi = math.sqrt((2 * math.pi)) \n",
    "    \n",
    "    def normal_func(self, x):\n",
    "        return (1 / (self.sigma * self.root2pi)) * math.exp((-1 * pow((x - self.u), 2)) / (2 * pow(self.sigma, 2)))\n",
    "\n",
    "    def integrate(self, lower_limit, upper_limit):\n",
    "        result, error = quad(self.normal_func, lower_limit, upper_limit)\n",
    "        \n",
    "        return result\n",
    "\n",
    "    def locate(self, area):\n",
    "        fx = 0\n",
    "        x = -6\n",
    "        while fx < area:\n",
    "            fx = self.integrate(-6, x)\n",
    "            x = x + 0.00001\n",
    "            \n",
    "        return x"
   ]
  },
  {
   "cell_type": "code",
   "execution_count": 2,
   "id": "b0a3f9fe-b124-4c01-8343-855814f16037",
   "metadata": {},
   "outputs": [
    {
     "name": "stdout",
     "output_type": "stream",
     "text": [
      "-2.5758100000663853\n",
      "2.5758100000663853\n"
     ]
    }
   ],
   "source": [
    "z = normal(0, 1)\n",
    "loc_1 = z.locate(0.005)\n",
    "loc_2 = -1 * loc_1\n",
    "print(loc_1)\n",
    "print(loc_2)"
   ]
  },
  {
   "cell_type": "markdown",
   "id": "39e9cf03-ea15-4743-8629-477c2a3fb776",
   "metadata": {},
   "source": [
    "$$(2.57\\sigma + \\mu) - (-2.57\\sigma + \\mu) = 1$$\n",
    "\n",
    "$$5.14\\sigma = 1$$\n",
    "\n",
    "$$\\sigma = 0.195$$\n",
    "\n",
    "hence,\n",
    "\n",
    "$$\\frac{15}{\\sqrt{n}} = 0.195$$\n",
    "\n",
    "$$\\sqrt{n} = 15 / 0.195$$\n",
    "\n",
    "$$n = (76.923)^2$$\n",
    "\n",
    "$$n = 5917$$"
   ]
  }
 ],
 "metadata": {
  "kernelspec": {
   "display_name": "Python 3 (ipykernel)",
   "language": "python",
   "name": "python3"
  },
  "language_info": {
   "codemirror_mode": {
    "name": "ipython",
    "version": 3
   },
   "file_extension": ".py",
   "mimetype": "text/x-python",
   "name": "python",
   "nbconvert_exporter": "python",
   "pygments_lexer": "ipython3",
   "version": "3.12.1"
  }
 },
 "nbformat": 4,
 "nbformat_minor": 5
}

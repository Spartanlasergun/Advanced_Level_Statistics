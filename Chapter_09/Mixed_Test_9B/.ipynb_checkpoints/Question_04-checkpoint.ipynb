{
 "cells": [
  {
   "cell_type": "markdown",
   "id": "b6baee22-915d-4eb7-9225-4d9065abe185",
   "metadata": {},
   "source": [
    "# Question 4\n",
    "-----"
   ]
  },
  {
   "cell_type": "code",
   "execution_count": 1,
   "id": "4846b01e-011e-4891-b2ba-da797bf8f49e",
   "metadata": {},
   "outputs": [],
   "source": [
    "from scipy.integrate import quad\n",
    "import math\n",
    "import numpy as np\n",
    "from scipy.special import gamma\n",
    "\n",
    "class T_dist:\n",
    "    def __init__(self, nu):\n",
    "        self.nu = nu\n",
    "        numerator = gamma((nu + 1) / 2)\n",
    "        denominator = np.sqrt(np.pi * nu) * gamma(nu / 2)\n",
    "        self.coefficient = numerator / denominator\n",
    "\n",
    "    def t_distribution_pdf(self, x):\n",
    "        return self.coefficient * ((1 + (x**2 / self.nu))**(-(self.nu + 1) / 2))\n",
    "\n",
    "    def integrate(self, lower_limit, upper_limit):\n",
    "        result, error = quad(self.t_distribution_pdf, lower_limit, upper_limit)\n",
    "        \n",
    "        return result\n",
    "\n",
    "    def locate(self, area):\n",
    "        fx = 0\n",
    "        x = -6\n",
    "        while fx < area:\n",
    "            fx = self.integrate(-6, x)\n",
    "            x = x + 0.00001\n",
    "            \n",
    "        return x"
   ]
  },
  {
   "cell_type": "code",
   "execution_count": 2,
   "id": "88e2dd48-4850-4aad-8b71-547b979f7479",
   "metadata": {},
   "outputs": [
    {
     "name": "stdout",
     "output_type": "stream",
     "text": [
      "a) 244.23661278584132 < X < 250.23005388082538\n"
     ]
    }
   ],
   "source": [
    "import statistics\n",
    "x = [246.5, 240.9, 245.3, 250.5, 248.7, 249.1,\n",
    "     251.0, 249.8, 249.8, 247.6, 246.2, 241.4]\n",
    "mean = sum(x) / len(x)\n",
    "std = statistics.stdev(x)\n",
    "sigma = std / math.sqrt((len(x)))\n",
    "nu = len(x) - 1\n",
    "t_dist = T_dist(nu)\n",
    "loc_1 = t_dist.locate(0.005)\n",
    "loc_2 = -1 * loc_1\n",
    "LI = (loc_1 * sigma) + mean\n",
    "UI = (loc_2 * sigma) + mean\n",
    "print(\"a) \" + str(LI) + \" < X < \" + str(UI))"
   ]
  },
  {
   "cell_type": "code",
   "execution_count": 3,
   "id": "f9771450-64d6-4814-8389-35df26bb42f5",
   "metadata": {},
   "outputs": [
    {
     "name": "stdout",
     "output_type": "stream",
     "text": [
      "b) 5.993441094984064\n"
     ]
    }
   ],
   "source": [
    "width = UI - LI\n",
    "print(\"b) \" + str(width))"
   ]
  },
  {
   "cell_type": "markdown",
   "id": "e2fd2a5e-ed48-42f5-bc09-2d3404a22338",
   "metadata": {},
   "source": [
    "c) The width decreases"
   ]
  }
 ],
 "metadata": {
  "kernelspec": {
   "display_name": "Python 3 (ipykernel)",
   "language": "python",
   "name": "python3"
  },
  "language_info": {
   "codemirror_mode": {
    "name": "ipython",
    "version": 3
   },
   "file_extension": ".py",
   "mimetype": "text/x-python",
   "name": "python",
   "nbconvert_exporter": "python",
   "pygments_lexer": "ipython3",
   "version": "3.12.1"
  }
 },
 "nbformat": 4,
 "nbformat_minor": 5
}

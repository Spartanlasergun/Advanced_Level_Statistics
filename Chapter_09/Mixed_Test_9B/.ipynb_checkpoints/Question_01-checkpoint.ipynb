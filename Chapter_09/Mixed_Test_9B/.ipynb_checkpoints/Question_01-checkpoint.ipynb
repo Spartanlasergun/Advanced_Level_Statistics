{
 "cells": [
  {
   "cell_type": "markdown",
   "id": "5d25546a-3d9a-4797-9bb6-76fc8989210c",
   "metadata": {},
   "source": [
    "# Question 1\n",
    "-----"
   ]
  },
  {
   "cell_type": "code",
   "execution_count": 1,
   "id": "46bd35d3-238a-421c-a312-80948d3cc032",
   "metadata": {},
   "outputs": [
    {
     "name": "stdout",
     "output_type": "stream",
     "text": [
      "a) 0.3000000000000531\n"
     ]
    }
   ],
   "source": [
    "import math\n",
    "mean = 6019 / 65\n",
    "var = (65/64) * ((557733.8 / 65) - (mean**2))\n",
    "sigma = math.sqrt(var) / math.sqrt(65)\n",
    "print(\"a) \" + str(sigma))"
   ]
  },
  {
   "cell_type": "code",
   "execution_count": 2,
   "id": "02c6c981-8ea6-4946-803a-4c2c6b24350a",
   "metadata": {},
   "outputs": [],
   "source": [
    "from scipy.integrate import quad\n",
    "import math\n",
    "\n",
    "class normal:\n",
    "    def __init__(self, u, sigma):\n",
    "        self.u = u\n",
    "        self.sigma = sigma\n",
    "        self.root2pi = math.sqrt((2 * math.pi)) \n",
    "    \n",
    "    def normal_func(self, x):\n",
    "        return (1 / (self.sigma * self.root2pi)) * math.exp((-1 * pow((x - self.u), 2)) / (2 * pow(self.sigma, 2)))\n",
    "\n",
    "    def integrate(self, lower_limit, upper_limit):\n",
    "        result, error = quad(self.normal_func, lower_limit, upper_limit)\n",
    "        \n",
    "        return result\n",
    "\n",
    "    def locate(self, area):\n",
    "        fx = 0\n",
    "        x = -6\n",
    "        while fx < area:\n",
    "            fx = self.integrate(-6, x)\n",
    "            x = x + 0.00001\n",
    "            \n",
    "        return x"
   ]
  },
  {
   "cell_type": "code",
   "execution_count": 3,
   "id": "6d5c0c34-d935-4422-81b6-39cdecf928c1",
   "metadata": {},
   "outputs": [
    {
     "name": "stdout",
     "output_type": "stream",
     "text": [
      "b) 92.01201499998119 < X < 93.1879850000188\n"
     ]
    }
   ],
   "source": [
    "z = normal(0, 1)\n",
    "loc_1 = z.locate(0.025)\n",
    "loc_2 = -1 * loc_1\n",
    "LI = (loc_1 * sigma) + mean\n",
    "UI = (loc_2 * sigma) + mean\n",
    "print(\"b) \" + str(LI) + \" < X < \" + str(UI))"
   ]
  },
  {
   "cell_type": "markdown",
   "id": "dc6efe20-1e00-4158-bc9e-803dec7832e3",
   "metadata": {},
   "source": [
    "the sample is normally distributed"
   ]
  }
 ],
 "metadata": {
  "kernelspec": {
   "display_name": "Python 3 (ipykernel)",
   "language": "python",
   "name": "python3"
  },
  "language_info": {
   "codemirror_mode": {
    "name": "ipython",
    "version": 3
   },
   "file_extension": ".py",
   "mimetype": "text/x-python",
   "name": "python",
   "nbconvert_exporter": "python",
   "pygments_lexer": "ipython3",
   "version": "3.12.1"
  }
 },
 "nbformat": 4,
 "nbformat_minor": 5
}

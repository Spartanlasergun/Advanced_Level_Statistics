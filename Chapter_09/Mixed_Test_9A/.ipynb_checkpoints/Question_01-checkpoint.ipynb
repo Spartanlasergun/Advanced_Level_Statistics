{
 "cells": [
  {
   "cell_type": "markdown",
   "id": "a65e39ae-e481-42cf-a04a-bd5459fc44ef",
   "metadata": {},
   "source": [
    "# Question 1\n",
    "-----"
   ]
  },
  {
   "cell_type": "code",
   "execution_count": 1,
   "id": "d0832c88-8402-41af-88ca-37b01c06fc30",
   "metadata": {},
   "outputs": [],
   "source": [
    "from scipy.integrate import quad\n",
    "import math\n",
    "\n",
    "class normal:\n",
    "    def __init__(self, u, sigma):\n",
    "        self.u = u\n",
    "        self.sigma = sigma\n",
    "        self.root2pi = math.sqrt((2 * math.pi)) \n",
    "    \n",
    "    def normal_func(self, x):\n",
    "        return (1 / (self.sigma * self.root2pi)) * math.exp((-1 * pow((x - self.u), 2)) / (2 * pow(self.sigma, 2)))\n",
    "\n",
    "    def integrate(self, lower_limit, upper_limit):\n",
    "        result, error = quad(self.normal_func, lower_limit, upper_limit)\n",
    "        \n",
    "        return result\n",
    "\n",
    "    def locate(self, area):\n",
    "        fx = 0\n",
    "        x = -6\n",
    "        while fx < area:\n",
    "            fx = self.integrate(-6, x)\n",
    "            x = x + 0.00001\n",
    "            \n",
    "        return x"
   ]
  },
  {
   "cell_type": "code",
   "execution_count": 2,
   "id": "436d540d-dd92-4557-afac-06823743aeba",
   "metadata": {},
   "outputs": [
    {
     "name": "stdout",
     "output_type": "stream",
     "text": [
      "a) 0.3909804681623257\n"
     ]
    }
   ],
   "source": [
    "mean = 100\n",
    "sigma = 0.48 / math.sqrt(40)\n",
    "z = normal(0, 1)\n",
    "loc_1 = z.locate(0.005)\n",
    "loc_2 = -1 * loc_1\n",
    "LI = (loc_1 * sigma) + mean\n",
    "UI = (loc_2 * sigma) + mean\n",
    "width = UI - LI\n",
    "print(\"a) \" + str(width))"
   ]
  },
  {
   "cell_type": "code",
   "execution_count": 3,
   "id": "7a54d06b-e9a1-4be9-9039-30498aa0d834",
   "metadata": {},
   "outputs": [
    {
     "name": "stdout",
     "output_type": "stream",
     "text": [
      "0.1073312629199899\n"
     ]
    }
   ],
   "source": [
    "sigma = 0.48 / math.sqrt(20)\n",
    "print(sigma)"
   ]
  },
  {
   "cell_type": "markdown",
   "id": "ffd210a9-ccf0-48df-9e39-699477bb94f6",
   "metadata": {},
   "source": [
    "$$(0.107a + \\mu) - (-0.107a + \\mu) = 0.391$$\n",
    "\n",
    "$$0.107a + 0.107a = 0.391$$\n",
    "\n",
    "$$0.214a = 0.391$$\n",
    "\n",
    "$$a = 1.827$$"
   ]
  },
  {
   "cell_type": "code",
   "execution_count": 4,
   "id": "fd91e9f2-eb3c-423c-9b11-aa8ddb9880f0",
   "metadata": {},
   "outputs": [
    {
     "name": "stdout",
     "output_type": "stream",
     "text": [
      "b) 93.23002306051248%\n"
     ]
    }
   ],
   "source": [
    "CI = z.integrate(-1.827, 1.827)\n",
    "percentCI = CI * 100\n",
    "print(\"b) \" + str(percentCI) + \"%\")"
   ]
  }
 ],
 "metadata": {
  "kernelspec": {
   "display_name": "Python 3 (ipykernel)",
   "language": "python",
   "name": "python3"
  },
  "language_info": {
   "codemirror_mode": {
    "name": "ipython",
    "version": 3
   },
   "file_extension": ".py",
   "mimetype": "text/x-python",
   "name": "python",
   "nbconvert_exporter": "python",
   "pygments_lexer": "ipython3",
   "version": "3.12.1"
  }
 },
 "nbformat": 4,
 "nbformat_minor": 5
}

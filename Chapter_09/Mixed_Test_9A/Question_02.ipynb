{
 "cells": [
  {
   "cell_type": "markdown",
   "id": "45c65a58-90be-46ee-9b0d-bb90af172866",
   "metadata": {},
   "source": [
    "# Question 2\n",
    "-----"
   ]
  },
  {
   "cell_type": "code",
   "execution_count": 1,
   "id": "b25164e5-a18c-4ebf-85ef-3bb4ed060d48",
   "metadata": {},
   "outputs": [],
   "source": [
    "from scipy.integrate import quad\n",
    "import math\n",
    "\n",
    "class normal:\n",
    "    def __init__(self, u, sigma):\n",
    "        self.u = u\n",
    "        self.sigma = sigma\n",
    "        self.root2pi = math.sqrt((2 * math.pi)) \n",
    "    \n",
    "    def normal_func(self, x):\n",
    "        return (1 / (self.sigma * self.root2pi)) * math.exp((-1 * pow((x - self.u), 2)) / (2 * pow(self.sigma, 2)))\n",
    "\n",
    "    def integrate(self, lower_limit, upper_limit):\n",
    "        result, error = quad(self.normal_func, lower_limit, upper_limit)\n",
    "        \n",
    "        return result\n",
    "\n",
    "    def locate(self, area):\n",
    "        fx = 0\n",
    "        x = -6\n",
    "        while fx < area:\n",
    "            fx = self.integrate(-6, x)\n",
    "            x = x + 0.00001\n",
    "            \n",
    "        return x"
   ]
  },
  {
   "cell_type": "code",
   "execution_count": 2,
   "id": "52e3fc34-a9b2-4d7e-9f4a-e2a28ac598e9",
   "metadata": {},
   "outputs": [
    {
     "name": "stdout",
     "output_type": "stream",
     "text": [
      "-2.5758100000663853\n",
      "2.5758100000663853\n"
     ]
    }
   ],
   "source": [
    "z = normal(0, 1)\n",
    "loc_1 = z.locate(0.005)\n",
    "loc_2 = -1 * loc_1\n",
    "print(loc_1)\n",
    "print(loc_2)"
   ]
  },
  {
   "cell_type": "markdown",
   "id": "4dbf4850-5865-46c7-b288-b5c7423c296f",
   "metadata": {},
   "source": [
    "$$(2.57\\sigma + \\mu) - (-2.57\\sigma + \\mu) = 0.6$$\n",
    "\n",
    "$$5.14\\sigma = 0.6$$\n",
    "\n",
    "$$\\sigma = 0.117$$\n",
    "\n",
    "hence,\n",
    "\n",
    "$$\\frac{0.43}{\\sqrt{n}} = 0.117$$\n",
    "\n",
    "$$\\sqrt{n} = \\frac{0.43}{0.117}$$\n",
    "\n",
    "$$n = (3.675)^2$$\n",
    "\n",
    "$$n = 13.5$$\n",
    "\n",
    "Hence, n must be at least 14"
   ]
  }
 ],
 "metadata": {
  "kernelspec": {
   "display_name": "Python 3 (ipykernel)",
   "language": "python",
   "name": "python3"
  },
  "language_info": {
   "codemirror_mode": {
    "name": "ipython",
    "version": 3
   },
   "file_extension": ".py",
   "mimetype": "text/x-python",
   "name": "python",
   "nbconvert_exporter": "python",
   "pygments_lexer": "ipython3",
   "version": "3.12.1"
  }
 },
 "nbformat": 4,
 "nbformat_minor": 5
}

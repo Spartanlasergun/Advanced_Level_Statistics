{
 "cells": [
  {
   "cell_type": "markdown",
   "id": "12cb91c1-97ca-4fda-91e1-4622aa425438",
   "metadata": {},
   "source": [
    "# Question 9\n",
    "-----"
   ]
  },
  {
   "cell_type": "code",
   "execution_count": 1,
   "id": "ec5c6490-462c-4bb9-9222-5f731adcbf5a",
   "metadata": {},
   "outputs": [],
   "source": [
    "from scipy.integrate import quad\n",
    "import math\n",
    "\n",
    "class normal:\n",
    "    def __init__(self, u, sigma):\n",
    "        self.u = u\n",
    "        self.sigma = sigma\n",
    "        self.root2pi = math.sqrt((2 * math.pi)) \n",
    "    \n",
    "    def normal_func(self, x):\n",
    "        return (1 / (self.sigma * self.root2pi)) * math.exp((-1 * pow((x - self.u), 2)) / (2 * pow(self.sigma, 2)))\n",
    "\n",
    "    def integrate(self, lower_limit, upper_limit):\n",
    "        result, error = quad(self.normal_func, lower_limit, upper_limit)\n",
    "        \n",
    "        return result\n",
    "\n",
    "    def locate(self, area):\n",
    "        fx = 0\n",
    "        x = -6\n",
    "        while fx < area:\n",
    "            fx = self.integrate(-6, x)\n",
    "            x = x + 0.00001\n",
    "            \n",
    "        return x"
   ]
  },
  {
   "cell_type": "code",
   "execution_count": 2,
   "id": "798e85af-d480-4b5c-be30-a72146fdee22",
   "metadata": {},
   "outputs": [
    {
     "name": "stdout",
     "output_type": "stream",
     "text": [
      "a) 41.938006875378534\n"
     ]
    }
   ],
   "source": [
    "mean = 20 * 0.2\n",
    "var = 20 * 0.2 * 0.8\n",
    "z = normal(0, 1)\n",
    "loc = -1 * (z.locate(0.1))\n",
    "sigma = (4.354 - mean) / loc\n",
    "var_2 = sigma**2\n",
    "n = var / var_2\n",
    "print(\"a) \" + str(n))"
   ]
  },
  {
   "cell_type": "code",
   "execution_count": 3,
   "id": "88e5a5c5-d6ab-4951-8058-0cd1a88abe60",
   "metadata": {},
   "outputs": [
    {
     "name": "stdout",
     "output_type": "stream",
     "text": [
      "b) 60.33930288613475\n"
     ]
    }
   ],
   "source": [
    "mean = 2.9\n",
    "var = 2.9\n",
    "z = normal(0, 1)\n",
    "loc = -1 * (z.locate(0.01))\n",
    "sigma = (3.41 - mean) / loc\n",
    "var_2 = sigma**2\n",
    "n = var / var_2\n",
    "print(\"b) \" + str(n))"
   ]
  }
 ],
 "metadata": {
  "kernelspec": {
   "display_name": "Python 3 (ipykernel)",
   "language": "python",
   "name": "python3"
  },
  "language_info": {
   "codemirror_mode": {
    "name": "ipython",
    "version": 3
   },
   "file_extension": ".py",
   "mimetype": "text/x-python",
   "name": "python",
   "nbconvert_exporter": "python",
   "pygments_lexer": "ipython3",
   "version": "3.12.1"
  }
 },
 "nbformat": 4,
 "nbformat_minor": 5
}

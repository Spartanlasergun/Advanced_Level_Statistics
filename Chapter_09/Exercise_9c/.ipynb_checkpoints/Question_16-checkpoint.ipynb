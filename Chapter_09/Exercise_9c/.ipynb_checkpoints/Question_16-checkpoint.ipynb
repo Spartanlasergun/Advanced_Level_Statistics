{
 "cells": [
  {
   "cell_type": "markdown",
   "id": "770cb7b0-3733-4941-85e5-c5040615aefe",
   "metadata": {},
   "source": [
    "# Question 16\n",
    "-----"
   ]
  },
  {
   "cell_type": "markdown",
   "id": "a0aa77c0-ec67-4bca-a9ce-1fdb5afbbee4",
   "metadata": {},
   "source": [
    "| x | 0 | 1 | 2 |\n",
    "| - | - | - | - |\n",
    "| $P(X = x)$ | 0.5 | $\\frac{1}{3}$ | $\\frac{1}{6}$ | "
   ]
  },
  {
   "cell_type": "code",
   "execution_count": 1,
   "id": "8eddc817-3dad-4e54-9c94-4f2cfc1317df",
   "metadata": {},
   "outputs": [
    {
     "name": "stdout",
     "output_type": "stream",
     "text": [
      "E(X) = 0.6666666666666666\n",
      "Var(X) = 0.5555555555555556\n"
     ]
    }
   ],
   "source": [
    "EX = (1/3) + (1/3)\n",
    "EX_2 = (1/3) + (4/6)\n",
    "Var = EX_2 - (EX**2)\n",
    "print(\"E(X) = \" + str(EX))\n",
    "print(\"Var(X) = \" + str(Var))"
   ]
  },
  {
   "cell_type": "code",
   "execution_count": 2,
   "id": "746c82b7-7c6d-49c7-ba8a-080598502547",
   "metadata": {},
   "outputs": [],
   "source": [
    "from scipy.integrate import quad\n",
    "import math\n",
    "\n",
    "class normal:\n",
    "    def __init__(self, u, sigma):\n",
    "        self.u = u\n",
    "        self.sigma = sigma\n",
    "        self.root2pi = math.sqrt((2 * math.pi)) \n",
    "    \n",
    "    def normal_func(self, x):\n",
    "        return (1 / (self.sigma * self.root2pi)) * math.exp((-1 * pow((x - self.u), 2)) / (2 * pow(self.sigma, 2)))\n",
    "\n",
    "    def integrate(self, lower_limit, upper_limit):\n",
    "        result, error = quad(self.normal_func, lower_limit, upper_limit)\n",
    "        \n",
    "        return result\n",
    "\n",
    "    def locate(self, area):\n",
    "        fx = 0\n",
    "        x = -6\n",
    "        while fx < area:\n",
    "            fx = self.integrate(-6, x)\n",
    "            x = x + 0.00001\n",
    "            \n",
    "        return x"
   ]
  },
  {
   "cell_type": "code",
   "execution_count": 3,
   "id": "ae575750-8c93-4a14-9ae8-7371d63efe25",
   "metadata": {},
   "outputs": [
    {
     "name": "stdout",
     "output_type": "stream",
     "text": [
      "c) 0.15865525393145632\n"
     ]
    }
   ],
   "source": [
    "mean = EX\n",
    "var = Var / 80\n",
    "std = math.sqrt(var)\n",
    "dist = normal(mean, std)\n",
    "c = dist.integrate(0.75, 10)\n",
    "print(\"c) \" + str(c))"
   ]
  }
 ],
 "metadata": {
  "kernelspec": {
   "display_name": "Python 3 (ipykernel)",
   "language": "python",
   "name": "python3"
  },
  "language_info": {
   "codemirror_mode": {
    "name": "ipython",
    "version": 3
   },
   "file_extension": ".py",
   "mimetype": "text/x-python",
   "name": "python",
   "nbconvert_exporter": "python",
   "pygments_lexer": "ipython3",
   "version": "3.12.1"
  }
 },
 "nbformat": 4,
 "nbformat_minor": 5
}

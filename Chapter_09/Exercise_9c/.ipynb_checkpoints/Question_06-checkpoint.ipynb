{
 "cells": [
  {
   "cell_type": "markdown",
   "id": "78a5c764-9279-495f-95c8-bec725126df3",
   "metadata": {},
   "source": [
    "# Question 6\n",
    "-----"
   ]
  },
  {
   "cell_type": "code",
   "execution_count": 1,
   "id": "e4590b71-3435-46c4-8d5e-ff05f7223b29",
   "metadata": {},
   "outputs": [],
   "source": [
    "from scipy.integrate import quad\n",
    "import math\n",
    "\n",
    "class normal:\n",
    "    def __init__(self, u, sigma):\n",
    "        self.u = u\n",
    "        self.sigma = sigma\n",
    "        self.root2pi = math.sqrt((2 * math.pi)) \n",
    "    \n",
    "    def normal_func(self, x):\n",
    "        return (1 / (self.sigma * self.root2pi)) * math.exp((-1 * pow((x - self.u), 2)) / (2 * pow(self.sigma, 2)))\n",
    "\n",
    "    def integrate(self, lower_limit, upper_limit):\n",
    "        result, error = quad(self.normal_func, lower_limit, upper_limit)\n",
    "        \n",
    "        return result\n",
    "\n",
    "    def locate(self, area):\n",
    "        fx = 0\n",
    "        x = -6\n",
    "        while fx < area:\n",
    "            fx = self.integrate(-6, x)\n",
    "            x = x + 0.00001\n",
    "            \n",
    "        return x"
   ]
  },
  {
   "cell_type": "code",
   "execution_count": 2,
   "id": "f1dec02e-6dd8-4094-8898-5888e8346c32",
   "metadata": {},
   "outputs": [
    {
     "name": "stdout",
     "output_type": "stream",
     "text": [
      "a) 0.2397500610934769\n"
     ]
    }
   ],
   "source": [
    "mean = 30\n",
    "var = 5 / 10\n",
    "std = math.sqrt(var)\n",
    "dist = normal(mean, std)\n",
    "a = dist.integrate(30.5, 100)\n",
    "print(\"a) \" + str(a))"
   ]
  },
  {
   "cell_type": "code",
   "execution_count": 3,
   "id": "6d753c49-a587-44b2-a45e-07c281e623e6",
   "metadata": {},
   "outputs": [
    {
     "name": "stdout",
     "output_type": "stream",
     "text": [
      "b) 0.07864960352514283\n"
     ]
    }
   ],
   "source": [
    "var = 5 / 40\n",
    "std = math.sqrt(var)\n",
    "dist = normal(mean, std)\n",
    "b = dist.integrate(30.5, 100)\n",
    "print(\"b) \" + str(b))"
   ]
  },
  {
   "cell_type": "code",
   "execution_count": 4,
   "id": "a754e2b0-65f1-48f8-b694-74a66a747c8d",
   "metadata": {},
   "outputs": [
    {
     "name": "stdout",
     "output_type": "stream",
     "text": [
      "c) 0.012673659338734102\n"
     ]
    }
   ],
   "source": [
    "var = 5 / 100\n",
    "std = math.sqrt(var)\n",
    "dist = normal(mean, std)\n",
    "c = dist.integrate(30.5, 100)\n",
    "print(\"c) \" + str(c))"
   ]
  },
  {
   "cell_type": "code",
   "execution_count": 5,
   "id": "358612e8-c139-46d0-af66-94c745f88dda",
   "metadata": {},
   "outputs": [
    {
     "name": "stdout",
     "output_type": "stream",
     "text": [
      "d) 108.23622538402527\n"
     ]
    }
   ],
   "source": [
    "z = normal(0, 1)\n",
    "loc = z.locate(0.01)\n",
    "sigma = (30.5 - 30) / loc\n",
    "sigma = abs(sigma)\n",
    "var = sigma**2\n",
    "n = 5 / var\n",
    "print(\"d) \" + str(n))"
   ]
  },
  {
   "cell_type": "markdown",
   "id": "756bfd06-7188-42b3-86c5-62bf032a1067",
   "metadata": {},
   "source": [
    "hence, n need to be at least 109"
   ]
  }
 ],
 "metadata": {
  "kernelspec": {
   "display_name": "Python 3 (ipykernel)",
   "language": "python",
   "name": "python3"
  },
  "language_info": {
   "codemirror_mode": {
    "name": "ipython",
    "version": 3
   },
   "file_extension": ".py",
   "mimetype": "text/x-python",
   "name": "python",
   "nbconvert_exporter": "python",
   "pygments_lexer": "ipython3",
   "version": "3.12.1"
  }
 },
 "nbformat": 4,
 "nbformat_minor": 5
}

{
 "cells": [
  {
   "cell_type": "markdown",
   "id": "19665cfb-3383-478d-b4b2-5952f00d1786",
   "metadata": {},
   "source": [
    "# Question 14\n",
    "-----"
   ]
  },
  {
   "cell_type": "code",
   "execution_count": 1,
   "id": "f8ef8546-e0d5-4f86-bb78-b9e5f196e99e",
   "metadata": {},
   "outputs": [
    {
     "name": "stdout",
     "output_type": "stream",
     "text": [
      "mean = 0.33181818181818185\n",
      "sigma = 0.05866982836459102\n"
     ]
    }
   ],
   "source": [
    "import math\n",
    "mean = 36.5 / 110\n",
    "var = (12.49 / 110) - (mean**2)\n",
    "std = math.sqrt(var)\n",
    "print(\"mean = \" + str(mean))\n",
    "print(\"sigma = \" + str(std))"
   ]
  },
  {
   "cell_type": "code",
   "execution_count": 2,
   "id": "f071ac7f-cd12-43c1-894a-5dfb985c062e",
   "metadata": {},
   "outputs": [],
   "source": [
    "from scipy.integrate import quad\n",
    "import math\n",
    "\n",
    "class normal:\n",
    "    def __init__(self, u, sigma):\n",
    "        self.u = u\n",
    "        self.sigma = sigma\n",
    "        self.root2pi = math.sqrt((2 * math.pi)) \n",
    "    \n",
    "    def normal_func(self, x):\n",
    "        return (1 / (self.sigma * self.root2pi)) * math.exp((-1 * pow((x - self.u), 2)) / (2 * pow(self.sigma, 2)))\n",
    "\n",
    "    def integrate(self, lower_limit, upper_limit):\n",
    "        result, error = quad(self.normal_func, lower_limit, upper_limit)\n",
    "        \n",
    "        return result\n",
    "\n",
    "    def locate(self, area):\n",
    "        fx = 0\n",
    "        x = -6\n",
    "        while fx < area:\n",
    "            fx = self.integrate(-6, x)\n",
    "            x = x + 0.00001\n",
    "            \n",
    "        return x"
   ]
  },
  {
   "cell_type": "code",
   "execution_count": 3,
   "id": "a628172f-fa64-4796-97e3-bdca478c9084",
   "metadata": {},
   "outputs": [
    {
     "name": "stdout",
     "output_type": "stream",
     "text": [
      "0.00922546262764793\n"
     ]
    }
   ],
   "source": [
    "var_2 = var / 110\n",
    "std = math.sqrt(var_2)\n",
    "dist = normal(mean, std)\n",
    "prob = dist.integrate(0.345, 10)\n",
    "print(prob)"
   ]
  }
 ],
 "metadata": {
  "kernelspec": {
   "display_name": "Python 3 (ipykernel)",
   "language": "python",
   "name": "python3"
  },
  "language_info": {
   "codemirror_mode": {
    "name": "ipython",
    "version": 3
   },
   "file_extension": ".py",
   "mimetype": "text/x-python",
   "name": "python",
   "nbconvert_exporter": "python",
   "pygments_lexer": "ipython3",
   "version": "3.12.1"
  }
 },
 "nbformat": 4,
 "nbformat_minor": 5
}

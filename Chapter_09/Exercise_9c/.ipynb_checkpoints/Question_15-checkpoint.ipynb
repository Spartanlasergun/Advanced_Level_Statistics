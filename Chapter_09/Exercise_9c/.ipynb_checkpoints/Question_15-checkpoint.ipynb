{
 "cells": [
  {
   "cell_type": "markdown",
   "id": "e863b29c-d8ae-42b2-ae2f-39fc3d0e8026",
   "metadata": {},
   "source": [
    "# Question 15\n",
    "-----"
   ]
  },
  {
   "cell_type": "code",
   "execution_count": 1,
   "id": "4214b175-6322-4330-aada-0766bb4aac8e",
   "metadata": {},
   "outputs": [],
   "source": [
    "from scipy.integrate import quad\n",
    "import math\n",
    "\n",
    "class normal:\n",
    "    def __init__(self, u, sigma):\n",
    "        self.u = u\n",
    "        self.sigma = sigma\n",
    "        self.root2pi = math.sqrt((2 * math.pi)) \n",
    "    \n",
    "    def normal_func(self, x):\n",
    "        return (1 / (self.sigma * self.root2pi)) * math.exp((-1 * pow((x - self.u), 2)) / (2 * pow(self.sigma, 2)))\n",
    "\n",
    "    def integrate(self, lower_limit, upper_limit):\n",
    "        result, error = quad(self.normal_func, lower_limit, upper_limit)\n",
    "        \n",
    "        return result\n",
    "\n",
    "    def locate(self, area):\n",
    "        fx = 0\n",
    "        x = -6\n",
    "        while fx < area:\n",
    "            fx = self.integrate(-6, x)\n",
    "            x = x + 0.00001\n",
    "            \n",
    "        return x"
   ]
  },
  {
   "cell_type": "code",
   "execution_count": 2,
   "id": "e1eb772e-0e36-4f6c-8278-b6e288651447",
   "metadata": {},
   "outputs": [
    {
     "name": "stdout",
     "output_type": "stream",
     "text": [
      "a) 0.09680048458561029\n"
     ]
    }
   ],
   "source": [
    "dist = normal(170, 10)\n",
    "a = dist.integrate(183, 500)\n",
    "print(\"a) \" + str(a))"
   ]
  },
  {
   "cell_type": "code",
   "execution_count": 3,
   "id": "aadc773d-513f-43d5-b68f-e60b27480a03",
   "metadata": {},
   "outputs": [
    {
     "name": "stdout",
     "output_type": "stream",
     "text": [
      "b) 0.009508644397259304\n"
     ]
    }
   ],
   "source": [
    "PXG178 = dist.integrate(178, 500)\n",
    "b = PXG178**3\n",
    "print(\"b) \" + str(b))"
   ]
  },
  {
   "cell_type": "code",
   "execution_count": 4,
   "id": "d5d4800e-7f91-4c13-85e5-c03262d0d502",
   "metadata": {},
   "outputs": [
    {
     "name": "stdout",
     "output_type": "stream",
     "text": [
      "c) 0.0009070528541185996\n"
     ]
    }
   ],
   "source": [
    "c = a**3\n",
    "print(\"c) \" + str(c))"
   ]
  },
  {
   "cell_type": "markdown",
   "id": "c13d2801-3f9c-4e86-ab4c-aa6fa13337b3",
   "metadata": {},
   "source": [
    "Errors with the answers for this question"
   ]
  }
 ],
 "metadata": {
  "kernelspec": {
   "display_name": "Python 3 (ipykernel)",
   "language": "python",
   "name": "python3"
  },
  "language_info": {
   "codemirror_mode": {
    "name": "ipython",
    "version": 3
   },
   "file_extension": ".py",
   "mimetype": "text/x-python",
   "name": "python",
   "nbconvert_exporter": "python",
   "pygments_lexer": "ipython3",
   "version": "3.12.1"
  }
 },
 "nbformat": 4,
 "nbformat_minor": 5
}

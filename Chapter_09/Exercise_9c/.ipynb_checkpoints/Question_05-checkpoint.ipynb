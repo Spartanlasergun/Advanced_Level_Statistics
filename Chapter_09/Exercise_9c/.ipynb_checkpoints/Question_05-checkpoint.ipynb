{
 "cells": [
  {
   "cell_type": "markdown",
   "id": "bdcc9f40-f4bf-4c05-9664-10fb15df45ff",
   "metadata": {},
   "source": [
    "# Question 5\n",
    "-----"
   ]
  },
  {
   "cell_type": "code",
   "execution_count": 1,
   "id": "1cad5819-42ed-4626-b733-533143f56259",
   "metadata": {},
   "outputs": [
    {
     "name": "stdout",
     "output_type": "stream",
     "text": [
      "a) 8.0\n"
     ]
    }
   ],
   "source": [
    "import math\n",
    "sigma_2 = 20 * 3.2\n",
    "sigma = math.sqrt(sigma_2)\n",
    "print(\"a) \" + str(sigma))"
   ]
  },
  {
   "cell_type": "markdown",
   "id": "2f6a5c82-db0d-4fb7-8374-41e2b1221827",
   "metadata": {},
   "source": [
    "b) No"
   ]
  }
 ],
 "metadata": {
  "kernelspec": {
   "display_name": "Python 3 (ipykernel)",
   "language": "python",
   "name": "python3"
  },
  "language_info": {
   "codemirror_mode": {
    "name": "ipython",
    "version": 3
   },
   "file_extension": ".py",
   "mimetype": "text/x-python",
   "name": "python",
   "nbconvert_exporter": "python",
   "pygments_lexer": "ipython3",
   "version": "3.12.1"
  }
 },
 "nbformat": 4,
 "nbformat_minor": 5
}

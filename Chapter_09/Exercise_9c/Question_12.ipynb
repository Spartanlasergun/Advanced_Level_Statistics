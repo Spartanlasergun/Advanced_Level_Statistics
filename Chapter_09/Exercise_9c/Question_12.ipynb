{
 "cells": [
  {
   "cell_type": "markdown",
   "id": "2fc29cf7-677f-4560-a2d1-19e5fc354ec7",
   "metadata": {},
   "source": [
    "# Question 12\n",
    "-----"
   ]
  },
  {
   "cell_type": "code",
   "execution_count": 1,
   "id": "9c531bfe-9257-47ba-8570-9f744d4dfd7f",
   "metadata": {},
   "outputs": [],
   "source": [
    "from scipy.integrate import quad\n",
    "import math\n",
    "\n",
    "class normal:\n",
    "    def __init__(self, u, sigma):\n",
    "        self.u = u\n",
    "        self.sigma = sigma\n",
    "        self.root2pi = math.sqrt((2 * math.pi)) \n",
    "    \n",
    "    def normal_func(self, x):\n",
    "        return (1 / (self.sigma * self.root2pi)) * math.exp((-1 * pow((x - self.u), 2)) / (2 * pow(self.sigma, 2)))\n",
    "\n",
    "    def integrate(self, lower_limit, upper_limit):\n",
    "        result, error = quad(self.normal_func, lower_limit, upper_limit)\n",
    "        \n",
    "        return result\n",
    "\n",
    "    def locate(self, area):\n",
    "        fx = 0\n",
    "        x = -6\n",
    "        while fx < area:\n",
    "            fx = self.integrate(-6, x)\n",
    "            x = x + 0.00001\n",
    "            \n",
    "        return x"
   ]
  },
  {
   "cell_type": "code",
   "execution_count": 2,
   "id": "da7f398b-ac1c-451d-90f5-8f6a2cc4daa1",
   "metadata": {},
   "outputs": [
    {
     "name": "stdout",
     "output_type": "stream",
     "text": [
      "a) 11.979999999997341\n"
     ]
    }
   ],
   "source": [
    "mean = 74\n",
    "prob = 0\n",
    "n = 20\n",
    "while prob < 0.282:\n",
    "    var = 36 / n\n",
    "    std = math.sqrt(var)\n",
    "    dist = normal(mean, std)\n",
    "    prob = dist.integrate(75, 100)\n",
    "    n = n - 0.001\n",
    "print(\"a) \" + str(n))"
   ]
  },
  {
   "cell_type": "code",
   "execution_count": 3,
   "id": "5ac05969-1d7c-4c96-9e4f-3d6ef4623ec4",
   "metadata": {},
   "outputs": [
    {
     "name": "stdout",
     "output_type": "stream",
     "text": [
      "b) 20\n"
     ]
    }
   ],
   "source": [
    "n = 20\n",
    "while prob < 0.0037:\n",
    "    var = 36 / n\n",
    "    std = math.sqrt(var)\n",
    "    dist = normal(mean, std)\n",
    "    prob = dist.integrate(0, 70.4)\n",
    "    n = n - 1\n",
    "print(\"b) \" + str(n))"
   ]
  }
 ],
 "metadata": {
  "kernelspec": {
   "display_name": "Python 3 (ipykernel)",
   "language": "python",
   "name": "python3"
  },
  "language_info": {
   "codemirror_mode": {
    "name": "ipython",
    "version": 3
   },
   "file_extension": ".py",
   "mimetype": "text/x-python",
   "name": "python",
   "nbconvert_exporter": "python",
   "pygments_lexer": "ipython3",
   "version": "3.12.1"
  }
 },
 "nbformat": 4,
 "nbformat_minor": 5
}

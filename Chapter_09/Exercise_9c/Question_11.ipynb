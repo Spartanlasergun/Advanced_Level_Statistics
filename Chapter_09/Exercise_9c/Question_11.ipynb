{
 "cells": [
  {
   "cell_type": "markdown",
   "id": "3720cf4a-f5cf-497b-9e3a-07ca660deb0f",
   "metadata": {},
   "source": [
    "# Question 11\n",
    "-----"
   ]
  },
  {
   "cell_type": "code",
   "execution_count": 1,
   "id": "4710c737-5783-4e5e-95ff-4ef7e17f9b42",
   "metadata": {},
   "outputs": [
    {
     "name": "stdout",
     "output_type": "stream",
     "text": [
      "mean = 20\n",
      "sigma = 3.0\n"
     ]
    }
   ],
   "source": [
    "import math\n",
    "mean = 20\n",
    "var = (0.3**2) * 100\n",
    "std = math.sqrt(var)\n",
    "print(\"mean = \" + str(mean))\n",
    "print(\"sigma = \" + str(std))"
   ]
  }
 ],
 "metadata": {
  "kernelspec": {
   "display_name": "Python 3 (ipykernel)",
   "language": "python",
   "name": "python3"
  },
  "language_info": {
   "codemirror_mode": {
    "name": "ipython",
    "version": 3
   },
   "file_extension": ".py",
   "mimetype": "text/x-python",
   "name": "python",
   "nbconvert_exporter": "python",
   "pygments_lexer": "ipython3",
   "version": "3.12.1"
  }
 },
 "nbformat": 4,
 "nbformat_minor": 5
}

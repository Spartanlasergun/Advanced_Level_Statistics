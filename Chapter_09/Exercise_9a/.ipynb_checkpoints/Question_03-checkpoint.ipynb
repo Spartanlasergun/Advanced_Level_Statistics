{
 "cells": [
  {
   "cell_type": "markdown",
   "id": "a07090f4-b2d9-40e0-9f0b-02d2f081c90e",
   "metadata": {},
   "source": [
    "# Question 3\n",
    "-----"
   ]
  },
  {
   "cell_type": "markdown",
   "id": "a20ab59e-f974-432c-8fd3-2e9f83e34807",
   "metadata": {},
   "source": [
    "a)(i) Samples are useful when beacuse it is difficult to collect data from an entire population\n",
    "\n",
    "a)(ii) A sampling frame refers to the population intended to be sampled.\n",
    "\n",
    "b)(i) \n",
    "Cluster sampling can be utlized when the population is divided into natural sub-groups such as:\n",
    "1) Classes in a school or university\n",
    "2) Ranks of players in a gaming community\n",
    "\n",
    "(ii) Stratified sampling can be utlized when the population is divided into different layers or strata, such as:\n",
    "1) Household income groups\n",
    "2) Districts in given city\n",
    "\n",
    "c) \n",
    "Advantages of Quota Sampling\n",
    "1) Less Costly\n",
    "2) Less Time Consuming\n",
    "\n",
    "Disadvantages of Quota Sampling\n",
    "1) Not representative of a population\n",
    "2) Non-random sampling"
   ]
  }
 ],
 "metadata": {
  "kernelspec": {
   "display_name": "Python 3 (ipykernel)",
   "language": "python",
   "name": "python3"
  },
  "language_info": {
   "codemirror_mode": {
    "name": "ipython",
    "version": 3
   },
   "file_extension": ".py",
   "mimetype": "text/x-python",
   "name": "python",
   "nbconvert_exporter": "python",
   "pygments_lexer": "ipython3",
   "version": "3.12.1"
  }
 },
 "nbformat": 4,
 "nbformat_minor": 5
}

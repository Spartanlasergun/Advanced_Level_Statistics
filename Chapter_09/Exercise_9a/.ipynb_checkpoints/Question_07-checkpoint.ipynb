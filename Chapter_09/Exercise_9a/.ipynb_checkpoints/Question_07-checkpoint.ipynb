{
 "cells": [
  {
   "cell_type": "markdown",
   "id": "b4ac0616-7aac-4675-8fe7-b71985e43ca9",
   "metadata": {},
   "source": [
    "# Question 7\n",
    "-----"
   ]
  },
  {
   "cell_type": "markdown",
   "id": "0d4a42d8-24ac-4165-ac88-a010b2943786",
   "metadata": {},
   "source": [
    "A census involves data collection from an entire pouplation, while a sample involves data collection from a percentage of the population.\n",
    "\n",
    "A sampling frame refers to the availabilty of data on the entire population. The group of members available for sampling constitutes the sampling frame from which the sample is chosen.\n",
    "\n",
    "a) Using simple random sampling, names of pupils can be randomly chosen from the school register\n",
    "\n",
    "b) Using stratified random sampling, pupils from each year group can be chosen based on the proportion of the school population that they represent\n",
    "\n",
    "Stratified random sampling is more appropriate as the school magazine may be more appealing to certain year groups."
   ]
  }
 ],
 "metadata": {
  "kernelspec": {
   "display_name": "Python 3 (ipykernel)",
   "language": "python",
   "name": "python3"
  },
  "language_info": {
   "codemirror_mode": {
    "name": "ipython",
    "version": 3
   },
   "file_extension": ".py",
   "mimetype": "text/x-python",
   "name": "python",
   "nbconvert_exporter": "python",
   "pygments_lexer": "ipython3",
   "version": "3.12.1"
  }
 },
 "nbformat": 4,
 "nbformat_minor": 5
}

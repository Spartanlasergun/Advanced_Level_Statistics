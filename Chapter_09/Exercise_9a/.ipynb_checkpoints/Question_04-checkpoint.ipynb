{
 "cells": [
  {
   "cell_type": "markdown",
   "id": "1e209b70-e41a-4f7d-9a8d-8dca8eb1825e",
   "metadata": {},
   "source": [
    "# Question 4\n",
    "-----"
   ]
  },
  {
   "cell_type": "markdown",
   "id": "b95f0514-4d3a-457c-a24c-0a0c0cc397e0",
   "metadata": {},
   "source": [
    "a) A reporter can be sent out to conduct street interviews with a given quota such as 50 people\n",
    "\n",
    "b) The proportion of each layer in the population should be represented in the sample, hence\n",
    "\n",
    "$$ n = 500 + 300 + 400 = 1200$$\n",
    "\n",
    "$$large = \\frac{300}{1200} * 60 = 15$$\n",
    "\n",
    "$$medium = \\frac{500}{1200} * 60 = 25$$\n",
    "\n",
    "$$small = \\frac{400}{1200} * 60 = 20$$"
   ]
  }
 ],
 "metadata": {
  "kernelspec": {
   "display_name": "Python 3 (ipykernel)",
   "language": "python",
   "name": "python3"
  },
  "language_info": {
   "codemirror_mode": {
    "name": "ipython",
    "version": 3
   },
   "file_extension": ".py",
   "mimetype": "text/x-python",
   "name": "python",
   "nbconvert_exporter": "python",
   "pygments_lexer": "ipython3",
   "version": "3.12.1"
  }
 },
 "nbformat": 4,
 "nbformat_minor": 5
}

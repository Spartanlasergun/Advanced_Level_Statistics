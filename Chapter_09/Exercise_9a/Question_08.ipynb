{
 "cells": [
  {
   "cell_type": "markdown",
   "id": "f82190f6-9668-46d5-a156-b3f46cceef78",
   "metadata": {},
   "source": [
    "# Question 8\n",
    "-----"
   ]
  },
  {
   "cell_type": "markdown",
   "id": "5a91144e-0666-4490-a876-639d4e9c2b1c",
   "metadata": {},
   "source": [
    "a) The method is low cost and not very time consuming, but the sample may not be representative of the population\n",
    "\n",
    "b) Based on the sample, 330 in every 5025 women aged 45-65 have received hormone replacement therapy. Generalizing to the greater population, approximately 46,167 women aged 45-65 have received hormone replacement therapy.\n",
    "\n",
    "The sampling technique provides data on approximately 6% of the eligible population. This may not be an accurate sample by itself, and further research will need to be done (as is typically the case).\n",
    "\n",
    "c) Stratified sampling based on the prevalence of hospitals that provide the medical service may be more appropriate."
   ]
  }
 ],
 "metadata": {
  "kernelspec": {
   "display_name": "Python 3 (ipykernel)",
   "language": "python",
   "name": "python3"
  },
  "language_info": {
   "codemirror_mode": {
    "name": "ipython",
    "version": 3
   },
   "file_extension": ".py",
   "mimetype": "text/x-python",
   "name": "python",
   "nbconvert_exporter": "python",
   "pygments_lexer": "ipython3",
   "version": "3.12.1"
  }
 },
 "nbformat": 4,
 "nbformat_minor": 5
}

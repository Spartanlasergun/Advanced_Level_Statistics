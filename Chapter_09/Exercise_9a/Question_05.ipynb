{
 "cells": [
  {
   "cell_type": "markdown",
   "id": "fa47395d-0abb-4fd0-9b86-4094dfbf3b92",
   "metadata": {},
   "source": [
    "# Question 5\n",
    "----"
   ]
  },
  {
   "cell_type": "markdown",
   "id": "e8475fb1-7e42-4ccc-aa26-34f64a5ffdfe",
   "metadata": {},
   "source": [
    "a) Simple random sampling uses an unstructed random approach to sampling a given population. It allows for quick data collection, but the representation of the pouplation may not be accurate if the sample is too small, or the population is unequally distributed across different sub-groups.\n",
    "\n",
    "b) Quota sampling inovlves data collection where the only parameter for the sample is the number of datapoints needed. It is a quick and low cost way of collecting data, but is not typically representative of a population."
   ]
  }
 ],
 "metadata": {
  "kernelspec": {
   "display_name": "Python 3 (ipykernel)",
   "language": "python",
   "name": "python3"
  },
  "language_info": {
   "codemirror_mode": {
    "name": "ipython",
    "version": 3
   },
   "file_extension": ".py",
   "mimetype": "text/x-python",
   "name": "python",
   "nbconvert_exporter": "python",
   "pygments_lexer": "ipython3",
   "version": "3.12.1"
  }
 },
 "nbformat": 4,
 "nbformat_minor": 5
}

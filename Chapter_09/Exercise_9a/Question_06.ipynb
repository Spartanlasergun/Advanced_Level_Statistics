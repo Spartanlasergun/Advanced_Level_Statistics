{
 "cells": [
  {
   "cell_type": "markdown",
   "id": "4adf0a35-b910-4708-9619-4a9a7239e94b",
   "metadata": {},
   "source": [
    "# Question 6\n",
    "-----"
   ]
  },
  {
   "cell_type": "markdown",
   "id": "c8a9dc2f-9171-4324-acc7-52d5c4891e6f",
   "metadata": {},
   "source": [
    "a) Both techniques are quick, but may not accurately represent the grouping of boys and girls\n",
    "\n",
    "b) Stratified sampling involved data collection based on the layered sub-groups of the population. In the case of B, the computer should generate 8 numbers from the population of boys, and 6 numbers from the population of girls."
   ]
  }
 ],
 "metadata": {
  "kernelspec": {
   "display_name": "Python 3 (ipykernel)",
   "language": "python",
   "name": "python3"
  },
  "language_info": {
   "codemirror_mode": {
    "name": "ipython",
    "version": 3
   },
   "file_extension": ".py",
   "mimetype": "text/x-python",
   "name": "python",
   "nbconvert_exporter": "python",
   "pygments_lexer": "ipython3",
   "version": "3.12.1"
  }
 },
 "nbformat": 4,
 "nbformat_minor": 5
}

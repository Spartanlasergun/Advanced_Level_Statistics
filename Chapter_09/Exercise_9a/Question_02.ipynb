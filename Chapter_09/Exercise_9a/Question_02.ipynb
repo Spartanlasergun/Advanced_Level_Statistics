{
 "cells": [
  {
   "cell_type": "markdown",
   "id": "34004403-7902-4c41-acf9-031134cc79b9",
   "metadata": {},
   "source": [
    "# Question 2\n",
    "-----"
   ]
  },
  {
   "cell_type": "markdown",
   "id": "89318ccd-44b1-4399-8f8e-ea27332d30df",
   "metadata": {},
   "source": [
    "a)\n",
    "$$year \\ \\ 7 = \\frac{150}{1000} * 40 = 6$$\n",
    "$$year \\ \\ 8 = \\frac{150}{1000} * 40 = 6$$\n",
    "$$year \\ \\ 9 = \\frac{150}{1000} * 40 = 6$$\n",
    "$$year \\ \\ 10 = \\frac{150}{1000} * 40 = 6$$\n",
    "$$year \\ \\ 11 = \\frac{150}{1000} * 40 = 6$$\n",
    "$$year \\ \\ 12 = \\frac{125}{1000} * 40 = 5$$\n",
    "$$year \\ \\ 13 = \\frac{125}{1000} * 40 = 5$$"
   ]
  },
  {
   "cell_type": "markdown",
   "id": "83fb3630-1e0d-4779-ad00-533b3f060900",
   "metadata": {},
   "source": [
    "b) The propotion of student in year 7 in consideration of the entire school should be equal to the proportion of year 7 students that are selected for the committee."
   ]
  }
 ],
 "metadata": {
  "kernelspec": {
   "display_name": "Python 3 (ipykernel)",
   "language": "python",
   "name": "python3"
  },
  "language_info": {
   "codemirror_mode": {
    "name": "ipython",
    "version": 3
   },
   "file_extension": ".py",
   "mimetype": "text/x-python",
   "name": "python",
   "nbconvert_exporter": "python",
   "pygments_lexer": "ipython3",
   "version": "3.12.1"
  }
 },
 "nbformat": 4,
 "nbformat_minor": 5
}

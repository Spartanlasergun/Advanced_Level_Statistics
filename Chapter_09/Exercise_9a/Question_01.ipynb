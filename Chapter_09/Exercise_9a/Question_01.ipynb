{
 "cells": [
  {
   "cell_type": "markdown",
   "id": "37222b0c-0fd2-45ea-8e91-ee470532f9e7",
   "metadata": {},
   "source": [
    "# Question 1\n",
    "-----"
   ]
  },
  {
   "cell_type": "markdown",
   "id": "4a8cccd1-bcc3-4990-a6ee-3dd36ce9333e",
   "metadata": {},
   "source": [
    "A census requires data collection from the entire population, while a sample survey utilizes only a percentage of the population"
   ]
  },
  {
   "cell_type": "markdown",
   "id": "91895fa2-1492-4814-b4ca-4211febac5a1",
   "metadata": {},
   "source": [
    "A census is more applicable based on the feasibility of the data collection. Census of a classroom of children to determine how many of them arrive at school on time is more practical than an census of all the citizens of a country. Hence, it would be easier to sample the citizens of a country to gather information from the population such as political affiliation, average income, level of education etc."
   ]
  },
  {
   "cell_type": "markdown",
   "id": "0bfae8bd-ea16-48f1-8a86-25132cf74385",
   "metadata": {},
   "source": [
    "A systematic random sample, to collect data from every tenth individual would give good representation of the sentiment among the pupils while avoiding potential bias based on gender or age. However, the sample will not have 100% accuracy and may be vulnerable to potential outliers depending on the variance of sentiment across the population."
   ]
  }
 ],
 "metadata": {
  "kernelspec": {
   "display_name": "Python 3 (ipykernel)",
   "language": "python",
   "name": "python3"
  },
  "language_info": {
   "codemirror_mode": {
    "name": "ipython",
    "version": 3
   },
   "file_extension": ".py",
   "mimetype": "text/x-python",
   "name": "python",
   "nbconvert_exporter": "python",
   "pygments_lexer": "ipython3",
   "version": "3.12.1"
  }
 },
 "nbformat": 4,
 "nbformat_minor": 5
}

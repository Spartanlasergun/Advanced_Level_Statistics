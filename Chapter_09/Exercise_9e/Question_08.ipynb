{
 "cells": [
  {
   "cell_type": "markdown",
   "id": "ebab3a3c-5f99-4ecb-9e13-ba7b06af5191",
   "metadata": {},
   "source": [
    "# Question 8\n",
    "-----"
   ]
  },
  {
   "cell_type": "code",
   "execution_count": 1,
   "id": "4a9fb34d-e8f1-4956-9f78-30625d28fda0",
   "metadata": {},
   "outputs": [],
   "source": [
    "from scipy.integrate import quad\n",
    "import math\n",
    "\n",
    "class normal:\n",
    "    def __init__(self, u, sigma):\n",
    "        self.u = u\n",
    "        self.sigma = sigma\n",
    "        self.root2pi = math.sqrt((2 * math.pi)) \n",
    "    \n",
    "    def normal_func(self, x):\n",
    "        return (1 / (self.sigma * self.root2pi)) * math.exp((-1 * pow((x - self.u), 2)) / (2 * pow(self.sigma, 2)))\n",
    "\n",
    "    def integrate(self, lower_limit, upper_limit):\n",
    "        result, error = quad(self.normal_func, lower_limit, upper_limit)\n",
    "        \n",
    "        return result\n",
    "\n",
    "    def locate(self, area):\n",
    "        fx = 0\n",
    "        x = -6\n",
    "        while fx < area:\n",
    "            fx = self.integrate(-6, x)\n",
    "            x = x + 0.00001\n",
    "            \n",
    "        return x"
   ]
  },
  {
   "cell_type": "code",
   "execution_count": 2,
   "id": "c19bf852-1054-4f11-a2c2-7739fa3815c5",
   "metadata": {},
   "outputs": [
    {
     "name": "stdout",
     "output_type": "stream",
     "text": [
      "a) 79.2084039999223 < X < 84.7915960000777\n"
     ]
    }
   ],
   "source": [
    "mean = 8200/100\n",
    "var = ((686800/100) - (mean**2))/ 100\n",
    "std = math.sqrt(var)\n",
    "z = normal(0, 1)\n",
    "loc_1 = z.locate(0.01)\n",
    "loc_2 = -1 * loc_1\n",
    "LI = (loc_1 * std) + mean\n",
    "UI = (loc_2 * std) + mean\n",
    "print(\"a) \" + str(LI) + \" < X < \" + str(UI))"
   ]
  },
  {
   "cell_type": "code",
   "execution_count": 3,
   "id": "404e60c3-03a7-4ab3-9611-515d7abf4a05",
   "metadata": {},
   "outputs": [
    {
     "name": "stdout",
     "output_type": "stream",
     "text": [
      "b) 78.90902799992034 < X < 85.09097200007966\n"
     ]
    }
   ],
   "source": [
    "loc_1 = z.locate(0.005)\n",
    "loc_2 = -1 * loc_1\n",
    "LI = (loc_1 * std) + mean\n",
    "UI = (loc_2 * std) + mean\n",
    "print(\"b) \" + str(LI) + \" < X < \" + str(UI))"
   ]
  },
  {
   "cell_type": "markdown",
   "id": "6f1b5c60-7ebd-470c-bb07-21e83c3a375b",
   "metadata": {},
   "source": [
    "No, the estimate would not be different if the population was not normal"
   ]
  }
 ],
 "metadata": {
  "kernelspec": {
   "display_name": "Python 3 (ipykernel)",
   "language": "python",
   "name": "python3"
  },
  "language_info": {
   "codemirror_mode": {
    "name": "ipython",
    "version": 3
   },
   "file_extension": ".py",
   "mimetype": "text/x-python",
   "name": "python",
   "nbconvert_exporter": "python",
   "pygments_lexer": "ipython3",
   "version": "3.12.1"
  }
 },
 "nbformat": 4,
 "nbformat_minor": 5
}

{
 "cells": [
  {
   "cell_type": "markdown",
   "id": "2922f91f-7cbc-4e5e-bbba-8d31deea8bc4",
   "metadata": {},
   "source": [
    "# Question 4\n",
    "----"
   ]
  },
  {
   "cell_type": "code",
   "execution_count": 1,
   "id": "89865143-4dda-4a57-8f32-44fbc73e92a8",
   "metadata": {},
   "outputs": [
    {
     "name": "stdout",
     "output_type": "stream",
     "text": [
      "mean = 205.16\n",
      "var = 9.222666666666665\n"
     ]
    }
   ],
   "source": [
    "import statistics\n",
    "\n",
    "x = [201.2, 205, 209.1, 202.3, 204.6, 206.4, 210.1, 201.9, 203.7, 207.3]\n",
    "mean = statistics.mean(x)\n",
    "var = statistics.variance(x)\n",
    "print(\"mean = \" + str(mean))\n",
    "print(\"var = \" + str(var))"
   ]
  }
 ],
 "metadata": {
  "kernelspec": {
   "display_name": "Python 3 (ipykernel)",
   "language": "python",
   "name": "python3"
  },
  "language_info": {
   "codemirror_mode": {
    "name": "ipython",
    "version": 3
   },
   "file_extension": ".py",
   "mimetype": "text/x-python",
   "name": "python",
   "nbconvert_exporter": "python",
   "pygments_lexer": "ipython3",
   "version": "3.12.1"
  }
 },
 "nbformat": 4,
 "nbformat_minor": 5
}

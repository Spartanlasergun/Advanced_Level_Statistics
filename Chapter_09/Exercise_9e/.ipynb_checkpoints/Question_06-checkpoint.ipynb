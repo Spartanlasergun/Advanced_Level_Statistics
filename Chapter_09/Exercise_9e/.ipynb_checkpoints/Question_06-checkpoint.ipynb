{
 "cells": [
  {
   "cell_type": "markdown",
   "id": "57107f82-5651-4ad5-b691-7469dbcd2fa8",
   "metadata": {},
   "source": [
    "# Question 6\n",
    "-----"
   ]
  },
  {
   "cell_type": "code",
   "execution_count": 1,
   "id": "d6fa71f8-5297-4915-b2c9-c404c2fe7283",
   "metadata": {},
   "outputs": [],
   "source": [
    "from scipy.integrate import quad\n",
    "import math\n",
    "\n",
    "class normal:\n",
    "    def __init__(self, u, sigma):\n",
    "        self.u = u\n",
    "        self.sigma = sigma\n",
    "        self.root2pi = math.sqrt((2 * math.pi)) \n",
    "    \n",
    "    def normal_func(self, x):\n",
    "        return (1 / (self.sigma * self.root2pi)) * math.exp((-1 * pow((x - self.u), 2)) / (2 * pow(self.sigma, 2)))\n",
    "\n",
    "    def integrate(self, lower_limit, upper_limit):\n",
    "        result, error = quad(self.normal_func, lower_limit, upper_limit)\n",
    "        \n",
    "        return result\n",
    "\n",
    "    def locate(self, area):\n",
    "        fx = 0\n",
    "        x = -6\n",
    "        while fx < area:\n",
    "            fx = self.integrate(-6, x)\n",
    "            x = x + 0.00001\n",
    "            \n",
    "        return x"
   ]
  },
  {
   "cell_type": "code",
   "execution_count": 2,
   "id": "3db519db-b315-4de8-b536-5e2619c6cd76",
   "metadata": {},
   "outputs": [
    {
     "name": "stdout",
     "output_type": "stream",
     "text": [
      "10.752633509798693 < X < 14.147366490201309\n"
     ]
    }
   ],
   "source": [
    "x = [12.9, 13.2, 14.6, 12.6, 11.3, 10.1]\n",
    "mean = (sum(x)) / len(x)\n",
    "z = normal(0, 1)\n",
    "loc_1 = z.locate(0.025)\n",
    "loc_2 = -1 * loc_1\n",
    "var = 4.5 / 6\n",
    "sigma = math.sqrt(var)\n",
    "LI = (loc_1 * sigma) + mean\n",
    "UI = (loc_2 * sigma) + mean\n",
    "print(str(LI) + \" < X < \" + str(UI))"
   ]
  },
  {
   "cell_type": "code",
   "execution_count": 3,
   "id": "f91232ff-d8b5-4791-a93f-8b405d41a78b",
   "metadata": {},
   "outputs": [
    {
     "name": "stdout",
     "output_type": "stream",
     "text": [
      "width = 3.3947329804026154\n"
     ]
    }
   ],
   "source": [
    "width = UI - LI\n",
    "print(\"width = \" + str(width))"
   ]
  }
 ],
 "metadata": {
  "kernelspec": {
   "display_name": "Python 3 (ipykernel)",
   "language": "python",
   "name": "python3"
  },
  "language_info": {
   "codemirror_mode": {
    "name": "ipython",
    "version": 3
   },
   "file_extension": ".py",
   "mimetype": "text/x-python",
   "name": "python",
   "nbconvert_exporter": "python",
   "pygments_lexer": "ipython3",
   "version": "3.12.1"
  }
 },
 "nbformat": 4,
 "nbformat_minor": 5
}

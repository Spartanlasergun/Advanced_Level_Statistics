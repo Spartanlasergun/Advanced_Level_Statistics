{
 "cells": [
  {
   "cell_type": "markdown",
   "id": "7f136d5a-5e72-4a2e-85fd-e4bad06612d9",
   "metadata": {},
   "source": [
    "# Question 1\n",
    "-----"
   ]
  },
  {
   "cell_type": "code",
   "execution_count": 1,
   "id": "6f9a87fe-ffe8-488c-ae83-f8a93652d527",
   "metadata": {},
   "outputs": [
    {
     "name": "stdout",
     "output_type": "stream",
     "text": [
      "mean = 236.0\n",
      "var = 7.580000000000022\n"
     ]
    }
   ],
   "source": [
    "import statistics\n",
    "x = [240.8, 237.3, 236.7, 236.6, 234.2, 233.9, 232.5]\n",
    "\n",
    "mean = statistics.mean(x)\n",
    "var = statistics.variance(x)\n",
    "print(\"mean = \" + str(mean))\n",
    "print(\"var = \" + str(var))"
   ]
  }
 ],
 "metadata": {
  "kernelspec": {
   "display_name": "Python 3 (ipykernel)",
   "language": "python",
   "name": "python3"
  },
  "language_info": {
   "codemirror_mode": {
    "name": "ipython",
    "version": 3
   },
   "file_extension": ".py",
   "mimetype": "text/x-python",
   "name": "python",
   "nbconvert_exporter": "python",
   "pygments_lexer": "ipython3",
   "version": "3.12.1"
  }
 },
 "nbformat": 4,
 "nbformat_minor": 5
}

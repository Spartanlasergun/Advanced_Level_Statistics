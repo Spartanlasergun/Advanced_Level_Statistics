{
 "cells": [
  {
   "cell_type": "markdown",
   "id": "50436deb-dc63-49fe-bec9-1c4f7fbdb8b9",
   "metadata": {},
   "source": [
    "# Question 3\n",
    "-----"
   ]
  },
  {
   "cell_type": "code",
   "execution_count": 1,
   "id": "7c8178bc-7b25-4ce7-a218-b0797634714f",
   "metadata": {},
   "outputs": [
    {
     "name": "stdout",
     "output_type": "stream",
     "text": [
      "1000.5\n",
      "1.4285714285714286\n"
     ]
    }
   ],
   "source": [
    "import statistics\n",
    "\n",
    "x = [1000, 999, 999, 1002, 1001, 1000, 1002, 1001]\n",
    "mean = statistics.mean(x)\n",
    "var = statistics.variance(x)\n",
    "print(mean)\n",
    "print(var)"
   ]
  }
 ],
 "metadata": {
  "kernelspec": {
   "display_name": "Python 3 (ipykernel)",
   "language": "python",
   "name": "python3"
  },
  "language_info": {
   "codemirror_mode": {
    "name": "ipython",
    "version": 3
   },
   "file_extension": ".py",
   "mimetype": "text/x-python",
   "name": "python",
   "nbconvert_exporter": "python",
   "pygments_lexer": "ipython3",
   "version": "3.12.1"
  }
 },
 "nbformat": 4,
 "nbformat_minor": 5
}

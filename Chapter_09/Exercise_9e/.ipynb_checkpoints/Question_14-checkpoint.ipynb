{
 "cells": [
  {
   "cell_type": "markdown",
   "id": "9c0c8edc-e6a7-4b4e-8fb6-5ec6d4c12578",
   "metadata": {},
   "source": [
    "# Question 14\n",
    "-----"
   ]
  },
  {
   "cell_type": "code",
   "execution_count": 1,
   "id": "b493514f-37c3-4775-849e-e65ffbc46cc2",
   "metadata": {},
   "outputs": [
    {
     "data": {
      "image/png": "[encoded data removed]",
      "text/plain": [
       "<Figure size 640x480 with 1 Axes>"
      ]
     },
     "metadata": {},
     "output_type": "display_data"
    }
   ],
   "source": [
    "import matplotlib.pyplot as plt\n",
    "\n",
    "x = [72.5, 77.5, 82.5, 87.5, 92.5, 97.5, 102.5, 107.5]\n",
    "freq = [6, 18, 32, 57, 102, 51, 25, 9]\n",
    "raw_data = []\n",
    "index = 0\n",
    "for item in freq:\n",
    "    count = item\n",
    "    while count != 0:\n",
    "        raw_data.append(x[index])\n",
    "        count = count - 1\n",
    "    index = index + 1\n",
    "\n",
    "plt.hist(raw_data, bins=[70, 75, 80, 85, 90, 95, 100, 105, 110], density=True, edgecolor='black')\n",
    "plt.show()"
   ]
  },
  {
   "cell_type": "code",
   "execution_count": 2,
   "id": "8c49662f-3520-4460-94cc-3e1bd41bed17",
   "metadata": {},
   "outputs": [],
   "source": [
    "from scipy.integrate import quad\n",
    "import math\n",
    "\n",
    "class normal:\n",
    "    def __init__(self, u, sigma):\n",
    "        self.u = u\n",
    "        self.sigma = sigma\n",
    "        self.root2pi = math.sqrt((2 * math.pi)) \n",
    "    \n",
    "    def normal_func(self, x):\n",
    "        return (1 / (self.sigma * self.root2pi)) * math.exp((-1 * pow((x - self.u), 2)) / (2 * pow(self.sigma, 2)))\n",
    "\n",
    "    def integrate(self, lower_limit, upper_limit):\n",
    "        result, error = quad(self.normal_func, lower_limit, upper_limit)\n",
    "        \n",
    "        return result\n",
    "\n",
    "    def locate(self, area):\n",
    "        fx = 0\n",
    "        x = -6\n",
    "        while fx < area:\n",
    "            fx = self.integrate(-6, x)\n",
    "            x = x + 0.00001\n",
    "            \n",
    "        return x"
   ]
  },
  {
   "cell_type": "code",
   "execution_count": 3,
   "id": "06e3c8ae-fa70-480b-a7aa-679054ce1a57",
   "metadata": {},
   "outputs": [
    {
     "name": "stdout",
     "output_type": "stream",
     "text": [
      "90.47861348121468 < X < 92.15471985211865\n"
     ]
    }
   ],
   "source": [
    "import statistics\n",
    "\n",
    "mean = statistics.mean(raw_data)\n",
    "sigma = statistics.pstdev(raw_data)\n",
    "n = sum(freq)\n",
    "sterr = sigma / (math.sqrt(n))\n",
    "z = normal(0, 1)\n",
    "loc_1 = z.locate(0.025)\n",
    "loc_2 = -1 * loc_1\n",
    "LI = (loc_1 * sterr) + mean\n",
    "UI = (loc_2 * sterr) + mean\n",
    "print(str(LI) + \" < X < \" + str(UI))"
   ]
  }
 ],
 "metadata": {
  "kernelspec": {
   "display_name": "Python 3 (ipykernel)",
   "language": "python",
   "name": "python3"
  },
  "language_info": {
   "codemirror_mode": {
    "name": "ipython",
    "version": 3
   },
   "file_extension": ".py",
   "mimetype": "text/x-python",
   "name": "python",
   "nbconvert_exporter": "python",
   "pygments_lexer": "ipython3",
   "version": "3.12.1"
  }
 },
 "nbformat": 4,
 "nbformat_minor": 5
}

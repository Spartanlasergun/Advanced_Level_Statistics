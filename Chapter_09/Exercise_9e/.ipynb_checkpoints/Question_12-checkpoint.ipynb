{
 "cells": [
  {
   "cell_type": "markdown",
   "id": "33961bb9-65a3-4af4-b212-f30f43554a00",
   "metadata": {},
   "source": [
    "# Question 12\n",
    "-----"
   ]
  },
  {
   "cell_type": "markdown",
   "id": "ec3cfa9d-ffee-4291-9daa-57d90e1c57d7",
   "metadata": {},
   "source": [
    "$$1.96 = \\frac{15}{\\frac{40}{\\sqrt{n}}}$$\n",
    "\n",
    "$$\\frac{40}{\\sqrt{n}} = \\frac{15}{1.96}$$\n",
    "\n",
    "$$40 = (7.65)\\sqrt{n}$$\n",
    "\n",
    "$$\\sqrt{n} = \\frac{40}{7.65}$$\n",
    "\n",
    "$$n = (5.2287)^2$$\n",
    "\n",
    "$$n = 27.34$$\n",
    "\n",
    "Hence, n must be at least 28"
   ]
  }
 ],
 "metadata": {
  "kernelspec": {
   "display_name": "Python 3 (ipykernel)",
   "language": "python",
   "name": "python3"
  },
  "language_info": {
   "codemirror_mode": {
    "name": "ipython",
    "version": 3
   },
   "file_extension": ".py",
   "mimetype": "text/x-python",
   "name": "python",
   "nbconvert_exporter": "python",
   "pygments_lexer": "ipython3",
   "version": "3.12.1"
  }
 },
 "nbformat": 4,
 "nbformat_minor": 5
}

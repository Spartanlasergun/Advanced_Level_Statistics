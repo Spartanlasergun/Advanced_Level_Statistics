{
 "cells": [
  {
   "cell_type": "markdown",
   "id": "51f85bbc-97ff-4e3a-9ec0-b48221a497ab",
   "metadata": {},
   "source": [
    "# Question 2\n",
    "-----"
   ]
  },
  {
   "cell_type": "code",
   "execution_count": 1,
   "id": "ca9e8534-175d-424b-9581-27929891ec3c",
   "metadata": {},
   "outputs": [
    {
     "name": "stdout",
     "output_type": "stream",
     "text": [
      "a)\n",
      "mean = 48.875\n",
      "var = 6.982142857142857\n"
     ]
    }
   ],
   "source": [
    "import statistics\n",
    "\n",
    "a = [46, 48, 51, 50, 45, 53, 50, 48]\n",
    "mean = statistics.mean(a)\n",
    "var = statistics.variance(a)\n",
    "print(\"a)\")\n",
    "print(\"mean = \" + str(mean))\n",
    "print(\"var = \" + str(var))"
   ]
  },
  {
   "cell_type": "code",
   "execution_count": 2,
   "id": "1d2bbf14-f00a-4703-a4e9-b3e693102011",
   "metadata": {},
   "outputs": [
    {
     "name": "stdout",
     "output_type": "stream",
     "text": [
      "b)\n",
      "mean = 1.6883333333333332\n",
      "var = 8.000000000000106e-06\n"
     ]
    }
   ],
   "source": [
    "b = [1.684, 1.691, 1.687, 1.688, 1.689, 1.688, 1.690, 1.693, 1.685]\n",
    "mean = statistics.mean(b)\n",
    "var = statistics.variance(b)\n",
    "print(\"b)\")\n",
    "print(\"mean = \" + str(mean))\n",
    "print(\"var = \" + str(var))"
   ]
  },
  {
   "cell_type": "code",
   "execution_count": 3,
   "id": "b901d971-3616-479a-b13c-abe26200babc",
   "metadata": {},
   "outputs": [
    {
     "name": "stdout",
     "output_type": "stream",
     "text": [
      "c)\n",
      "mean = 22.788888888888888\n",
      "var = 1.808863920099875\n"
     ]
    }
   ],
   "source": [
    "x = [20, 21, 22, 23, 24, 25]\n",
    "freq = [4, 14, 17, 26, 20, 9]\n",
    "raw_data = []\n",
    "index = 0\n",
    "for item in freq:\n",
    "    count = item\n",
    "    while count != 0:\n",
    "        raw_data.append(x[index])\n",
    "        count = count - 1\n",
    "    index = index + 1\n",
    "mean = statistics.mean(raw_data)\n",
    "var = statistics.variance(raw_data)\n",
    "print(\"c)\")\n",
    "print(\"mean = \" + str(mean))\n",
    "print(\"var = \" + str(var))"
   ]
  },
  {
   "cell_type": "code",
   "execution_count": 4,
   "id": "83455a6e-c6c5-4225-bbe6-e77ce9915a94",
   "metadata": {},
   "outputs": [
    {
     "name": "stdout",
     "output_type": "stream",
     "text": [
      "d)\n",
      "mean = 15.0\n",
      "var = 37.75\n"
     ]
    }
   ],
   "source": [
    "mean = 120 / 8\n",
    "var = (2102 / 8) - (mean**2)\n",
    "print(\"d)\")\n",
    "print(\"mean = \" + str(mean))\n",
    "print(\"var = \" + str(var))"
   ]
  },
  {
   "cell_type": "code",
   "execution_count": 5,
   "id": "14671fa0-6ea1-4ef7-9ff2-137dba5e586a",
   "metadata": {},
   "outputs": [
    {
     "name": "stdout",
     "output_type": "stream",
     "text": [
      "e)\n",
      "mean = 10.0\n",
      "var = 2.799999999999997\n"
     ]
    }
   ],
   "source": [
    "mean = 100 / 10\n",
    "var = (1028 / 10) - (mean**2)\n",
    "print(\"e)\")\n",
    "print(\"mean = \" + str(mean))\n",
    "print(\"var = \" + str(var))"
   ]
  },
  {
   "cell_type": "code",
   "execution_count": 6,
   "id": "9a821f31-8466-447d-bd11-0fe1279dccce",
   "metadata": {},
   "outputs": [
    {
     "name": "stdout",
     "output_type": "stream",
     "text": [
      "f)\n",
      "mean = 9.705882352941176\n",
      "var = 602.8546712802768\n"
     ]
    }
   ],
   "source": [
    "mean = 330 / 34\n",
    "var = (23700 / 34) - (mean**2)\n",
    "print(\"f)\")\n",
    "print(\"mean = \" + str(mean))\n",
    "print(\"var = \" + str(var))"
   ]
  }
 ],
 "metadata": {
  "kernelspec": {
   "display_name": "Python 3 (ipykernel)",
   "language": "python",
   "name": "python3"
  },
  "language_info": {
   "codemirror_mode": {
    "name": "ipython",
    "version": 3
   },
   "file_extension": ".py",
   "mimetype": "text/x-python",
   "name": "python",
   "nbconvert_exporter": "python",
   "pygments_lexer": "ipython3",
   "version": "3.12.1"
  }
 },
 "nbformat": 4,
 "nbformat_minor": 5
}

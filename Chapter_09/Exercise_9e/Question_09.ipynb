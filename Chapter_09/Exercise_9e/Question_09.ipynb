{
 "cells": [
  {
   "cell_type": "markdown",
   "id": "cdbfbee2-9ec2-46d8-91a4-c7fa12dab608",
   "metadata": {},
   "source": [
    "# Question 9\n",
    "-----"
   ]
  },
  {
   "cell_type": "code",
   "execution_count": 1,
   "id": "b62cc7f1-e777-4956-9d89-3174bc7ed278",
   "metadata": {},
   "outputs": [],
   "source": [
    "from scipy.integrate import quad\n",
    "import math\n",
    "\n",
    "class normal:\n",
    "    def __init__(self, u, sigma):\n",
    "        self.u = u\n",
    "        self.sigma = sigma\n",
    "        self.root2pi = math.sqrt((2 * math.pi)) \n",
    "    \n",
    "    def normal_func(self, x):\n",
    "        return (1 / (self.sigma * self.root2pi)) * math.exp((-1 * pow((x - self.u), 2)) / (2 * pow(self.sigma, 2)))\n",
    "\n",
    "    def integrate(self, lower_limit, upper_limit):\n",
    "        result, error = quad(self.normal_func, lower_limit, upper_limit)\n",
    "        \n",
    "        return result\n",
    "\n",
    "    def locate(self, area):\n",
    "        fx = 0\n",
    "        x = -6\n",
    "        while fx < area:\n",
    "            fx = self.integrate(-6, x)\n",
    "            x = x + 0.00001\n",
    "            \n",
    "        return x"
   ]
  },
  {
   "cell_type": "code",
   "execution_count": 2,
   "id": "64feb1c7-d1c6-44f8-84c5-632112aae5ba",
   "metadata": {},
   "outputs": [
    {
     "name": "stdout",
     "output_type": "stream",
     "text": [
      "68.02951072064896 < X < 69.97048927935104\n"
     ]
    }
   ],
   "source": [
    "mean = 69\n",
    "var = (4**2) / 80\n",
    "std = math.sqrt(var)\n",
    "z = normal(0, 1)\n",
    "loc_1 = z.locate(0.015)\n",
    "loc_2 = -1 * loc_1\n",
    "LI = (loc_1 * std) + mean\n",
    "UI = (loc_2 * std) + mean\n",
    "print(str(LI) + \" < X < \" + str(UI))"
   ]
  },
  {
   "cell_type": "markdown",
   "id": "61f280ba-9c06-4a41-a018-e67df2048a49",
   "metadata": {},
   "source": [
    "A random sample was taken"
   ]
  }
 ],
 "metadata": {
  "kernelspec": {
   "display_name": "Python 3 (ipykernel)",
   "language": "python",
   "name": "python3"
  },
  "language_info": {
   "codemirror_mode": {
    "name": "ipython",
    "version": 3
   },
   "file_extension": ".py",
   "mimetype": "text/x-python",
   "name": "python",
   "nbconvert_exporter": "python",
   "pygments_lexer": "ipython3",
   "version": "3.12.1"
  }
 },
 "nbformat": 4,
 "nbformat_minor": 5
}

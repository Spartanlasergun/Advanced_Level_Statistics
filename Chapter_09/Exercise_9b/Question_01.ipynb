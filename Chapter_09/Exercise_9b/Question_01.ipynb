{
 "cells": [
  {
   "cell_type": "markdown",
   "id": "115ebd26-b6ca-44de-a7e4-fe33c9a16191",
   "metadata": {},
   "source": [
    "# Question 1\n",
    "-----"
   ]
  },
  {
   "cell_type": "code",
   "execution_count": 1,
   "id": "177fca07-6c63-41da-839e-a8d839eed0a3",
   "metadata": {},
   "outputs": [
    {
     "name": "stdout",
     "output_type": "stream",
     "text": [
      "[3, 5, 8, 8, 3, 3, 5, 6, 4, 6]\n"
     ]
    }
   ],
   "source": [
    "import random\n",
    "\n",
    "x = []\n",
    "count = 10\n",
    "while count != 0:\n",
    "    numb = random.randint(3, 8)\n",
    "    x.append(numb)\n",
    "    count = count - 1\n",
    "print(x)"
   ]
  }
 ],
 "metadata": {
  "kernelspec": {
   "display_name": "Python 3 (ipykernel)",
   "language": "python",
   "name": "python3"
  },
  "language_info": {
   "codemirror_mode": {
    "name": "ipython",
    "version": 3
   },
   "file_extension": ".py",
   "mimetype": "text/x-python",
   "name": "python",
   "nbconvert_exporter": "python",
   "pygments_lexer": "ipython3",
   "version": "3.12.1"
  }
 },
 "nbformat": 4,
 "nbformat_minor": 5
}

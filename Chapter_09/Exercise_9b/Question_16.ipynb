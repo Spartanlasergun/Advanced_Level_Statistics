{
 "cells": [
  {
   "cell_type": "markdown",
   "id": "956dd6e1-3e64-47ab-8509-265eac0948ca",
   "metadata": {},
   "source": [
    "# Question 16\n",
    "-----"
   ]
  },
  {
   "cell_type": "code",
   "execution_count": 1,
   "id": "b498bd99-f619-4136-90ee-f37146e1656d",
   "metadata": {},
   "outputs": [
    {
     "name": "stdout",
     "output_type": "stream",
     "text": [
      "a) 51\n"
     ]
    }
   ],
   "source": [
    "import numpy as np\n",
    "import random\n",
    "\n",
    "tickets = np.arange(1, 501, 1)\n",
    "pick = random.choice(tickets)\n",
    "print(\"a) \" + str(pick))"
   ]
  },
  {
   "cell_type": "code",
   "execution_count": 2,
   "id": "510a4aa4-df95-4abb-a7d1-745a4f5c9658",
   "metadata": {},
   "outputs": [
    {
     "name": "stdout",
     "output_type": "stream",
     "text": [
      "b) 2\n"
     ]
    }
   ],
   "source": [
    "mean = (7/3)\n",
    "dist = np.random.poisson(mean, size=100)\n",
    "sample = random.choice(dist)\n",
    "print(\"b) \" + str(sample))"
   ]
  }
 ],
 "metadata": {
  "kernelspec": {
   "display_name": "Python 3 (ipykernel)",
   "language": "python",
   "name": "python3"
  },
  "language_info": {
   "codemirror_mode": {
    "name": "ipython",
    "version": 3
   },
   "file_extension": ".py",
   "mimetype": "text/x-python",
   "name": "python",
   "nbconvert_exporter": "python",
   "pygments_lexer": "ipython3",
   "version": "3.12.1"
  }
 },
 "nbformat": 4,
 "nbformat_minor": 5
}

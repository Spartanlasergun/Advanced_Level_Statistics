{
 "cells": [
  {
   "cell_type": "markdown",
   "id": "18dace10-b096-4513-9cd0-52046f2914ce",
   "metadata": {},
   "source": [
    "# Question 9\n",
    "-----"
   ]
  },
  {
   "cell_type": "markdown",
   "id": "15300261-7578-491e-bbc6-8994dd1c07ef",
   "metadata": {},
   "source": [
    "| x | 2 | 3 | 4 | 5 |\n",
    "| - | - | - | - | - |\n",
    "| $F(x)$ | 0.4 | 0.6 | 0.8 | 1 |\n",
    "| $P(X = x)$ | 0.4 | 0.2 | 0.2 | 0.2 |"
   ]
  },
  {
   "cell_type": "code",
   "execution_count": 1,
   "id": "0173a821-5d47-4e49-9b09-0114f289f433",
   "metadata": {},
   "outputs": [
    {
     "name": "stdout",
     "output_type": "stream",
     "text": [
      "[2, 2, 2, 2, 2, 2, 2, 2, 2, 2, 2, 2, 2, 2, 2, 2, 2, 2, 2, 2, 2, 2, 2, 2, 2, 2, 2, 2, 2, 2, 2, 2, 2, 2, 2, 2, 2, 2, 2, 2, 3, 3, 3, 3, 3, 3, 3, 3, 3, 3, 3, 3, 3, 3, 3, 3, 3, 3, 3, 3, 4, 4, 4, 4, 4, 4, 4, 4, 4, 4, 4, 4, 4, 4, 4, 4, 4, 4, 4, 4, 5, 5, 5, 5, 5, 5, 5, 5, 5, 5, 5, 5, 5, 5, 5, 5, 5, 5, 5, 5]\n"
     ]
    }
   ],
   "source": [
    "x = [2, 3, 4, 5]\n",
    "freq = [40, 20, 20, 20]\n",
    "raw_data = []\n",
    "index = 0\n",
    "for item in freq:\n",
    "    count = item\n",
    "    while count != 0:\n",
    "        raw_data.append(x[index])\n",
    "        count = count - 1\n",
    "    index = index + 1\n",
    "print(raw_data)"
   ]
  },
  {
   "cell_type": "code",
   "execution_count": 2,
   "id": "fdee5aaa-2b6b-4231-953a-952bee4082cf",
   "metadata": {},
   "outputs": [
    {
     "name": "stdout",
     "output_type": "stream",
     "text": [
      "[3, 3, 2, 3, 2]\n"
     ]
    }
   ],
   "source": [
    "import random\n",
    "rand_sample = []\n",
    "n = 5\n",
    "while n != 0:\n",
    "    get = random.choice(raw_data)\n",
    "    rand_sample.append(get)\n",
    "    n = n - 1\n",
    "print(rand_sample)"
   ]
  }
 ],
 "metadata": {
  "kernelspec": {
   "display_name": "Python 3 (ipykernel)",
   "language": "python",
   "name": "python3"
  },
  "language_info": {
   "codemirror_mode": {
    "name": "ipython",
    "version": 3
   },
   "file_extension": ".py",
   "mimetype": "text/x-python",
   "name": "python",
   "nbconvert_exporter": "python",
   "pygments_lexer": "ipython3",
   "version": "3.12.1"
  }
 },
 "nbformat": 4,
 "nbformat_minor": 5
}

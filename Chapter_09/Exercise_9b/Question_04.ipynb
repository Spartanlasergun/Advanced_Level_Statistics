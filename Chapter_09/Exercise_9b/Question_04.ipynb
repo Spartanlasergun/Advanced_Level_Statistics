{
 "cells": [
  {
   "cell_type": "markdown",
   "id": "59045c6d-aaba-4446-bffd-ecd8f12ce332",
   "metadata": {},
   "source": [
    "# Question 4\n",
    "-----"
   ]
  },
  {
   "cell_type": "markdown",
   "id": "9390e90d-a7dc-42c9-a0b4-40b43e36bd7b",
   "metadata": {},
   "source": [
    "| x | 3 | 4 | 5 | 6 |\n",
    "| - | - | - | - | - |\n",
    "| $F(x) = 0.25x - 0.5$ | 0.25 | 0.5 | 0.75 | 1 |\n",
    "| $P(X = x)$ | 0.25 | 0.25 | 0.25 | 0.25 |"
   ]
  },
  {
   "cell_type": "code",
   "execution_count": 5,
   "id": "f14c4049-0eb3-4bd2-acd2-7c5925621c56",
   "metadata": {},
   "outputs": [
    {
     "name": "stdout",
     "output_type": "stream",
     "text": [
      "[4, 6, 3, 4, 3, 3, 4, 6, 3, 5]\n"
     ]
    }
   ],
   "source": [
    "import numpy as np\n",
    "\n",
    "sample = []\n",
    "count = 10\n",
    "while count != 0:\n",
    "    gen = np.random.randint(3, 7)\n",
    "    sample.append(gen)\n",
    "    count = count - 1\n",
    "print(sample)"
   ]
  },
  {
   "cell_type": "markdown",
   "id": "537fa971-aca8-423a-8a27-3357bc2a9a29",
   "metadata": {},
   "source": [
    "Using basic programming, 30 pupils can randomly be selected from a list of 850 using simple random sampling."
   ]
  }
 ],
 "metadata": {
  "kernelspec": {
   "display_name": "Python 3 (ipykernel)",
   "language": "python",
   "name": "python3"
  },
  "language_info": {
   "codemirror_mode": {
    "name": "ipython",
    "version": 3
   },
   "file_extension": ".py",
   "mimetype": "text/x-python",
   "name": "python",
   "nbconvert_exporter": "python",
   "pygments_lexer": "ipython3",
   "version": "3.12.1"
  }
 },
 "nbformat": 4,
 "nbformat_minor": 5
}

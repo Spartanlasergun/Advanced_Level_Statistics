{
 "cells": [
  {
   "cell_type": "markdown",
   "id": "37b032b3-b0cc-4e76-8c88-a4bd2fe8ca61",
   "metadata": {},
   "source": [
    "# Question 3\n",
    "-----"
   ]
  },
  {
   "cell_type": "code",
   "execution_count": 1,
   "id": "5c4bdd73-c80c-4042-b043-baeb0cb7bd4d",
   "metadata": {},
   "outputs": [
    {
     "name": "stdout",
     "output_type": "stream",
     "text": [
      "[5, 7, 8, 6, 7, 9, 7, 6, 8, 7, 7, 7]\n"
     ]
    }
   ],
   "source": [
    "import numpy as np\n",
    "\n",
    "x = [5, 6, 7, 8, 9]\n",
    "sample = []\n",
    "count = 12\n",
    "while count != 0:\n",
    "    gen = np.random.randint(1, 101)\n",
    "    if (gen >= 0) and (gen <= 15):\n",
    "        sample.append(5)\n",
    "    elif (gen >= 16) and (gen <= 35):\n",
    "        sample.append(6)\n",
    "    elif (gen >= 36) and (gen <= 68):\n",
    "        sample.append(7)\n",
    "    elif (gen >= 69) and (gen <= 89):\n",
    "        sample.append(8)\n",
    "    else:\n",
    "        sample.append(9)\n",
    "    count = count - 1\n",
    "print(sample)"
   ]
  },
  {
   "cell_type": "code",
   "execution_count": 2,
   "id": "e4196f1c-7e12-466d-bdba-11440cbd437a",
   "metadata": {},
   "outputs": [
    {
     "name": "stdout",
     "output_type": "stream",
     "text": [
      "7\n",
      "1.0909090909090908\n"
     ]
    }
   ],
   "source": [
    "import statistics\n",
    "mean = statistics.mean(sample)\n",
    "print(mean)\n",
    "var = statistics.variance(sample)\n",
    "print(var)"
   ]
  },
  {
   "cell_type": "code",
   "execution_count": 3,
   "id": "5662e7ac-0b01-4e9f-a971-d37ea5357e1a",
   "metadata": {},
   "outputs": [
    {
     "name": "stdout",
     "output_type": "stream",
     "text": [
      "E(X) = 6.93\n",
      "Var(X) = 1.4451000000000036\n"
     ]
    }
   ],
   "source": [
    "EX = (5 * 0.15) + (6 * 0.2) + (7 * 0.33) + (8 * 0.21) + (9 * 0.11)\n",
    "EX_2 = (25 * 0.15) + (36 * 0.2) + (49 * 0.33) + (64 * 0.21) + (81 * 0.11)\n",
    "Var = EX_2 - (EX**2)\n",
    "print(\"E(X) = \" + str(EX))\n",
    "print(\"Var(X) = \" + str(Var))"
   ]
  },
  {
   "cell_type": "markdown",
   "id": "8212602e-8571-47ec-a2f3-744231b3a975",
   "metadata": {},
   "source": [
    "The mean and variance are close to the ideal values"
   ]
  }
 ],
 "metadata": {
  "kernelspec": {
   "display_name": "Python 3 (ipykernel)",
   "language": "python",
   "name": "python3"
  },
  "language_info": {
   "codemirror_mode": {
    "name": "ipython",
    "version": 3
   },
   "file_extension": ".py",
   "mimetype": "text/x-python",
   "name": "python",
   "nbconvert_exporter": "python",
   "pygments_lexer": "ipython3",
   "version": "3.12.1"
  }
 },
 "nbformat": 4,
 "nbformat_minor": 5
}

{
 "cells": [
  {
   "cell_type": "markdown",
   "id": "598b6ac1-ce3a-4cff-8be8-c016cb28fb3f",
   "metadata": {},
   "source": [
    "# Question 14\n",
    "-----"
   ]
  },
  {
   "cell_type": "code",
   "execution_count": 1,
   "id": "05b5f7e8-fa38-4ae3-b89d-2d355fbf8d23",
   "metadata": {},
   "outputs": [
    {
     "name": "stdout",
     "output_type": "stream",
     "text": [
      "[[4, 4], [4, 5], [2, 3], [2, 5], [3, 3], [3, 1], [4, 4], [4, 2], [2, 4], [2, 4], [5, 4], [5, 2], [4, 3], [2, 3], [1, 5], [4, 1], [2, 3], [5, 4], [2, 5], [4, 3]]\n"
     ]
    }
   ],
   "source": [
    "import random\n",
    "\n",
    "x = [1, 2, 3, 4, 5]\n",
    "freq = [10, 15, 25, 35, 15]\n",
    "raw_data = []\n",
    "index = 0\n",
    "for item in freq:\n",
    "    count = item\n",
    "    while count != 0:\n",
    "        raw_data.append(x[index])\n",
    "        count = count - 1\n",
    "    index = index + 1\n",
    "    \n",
    "n = 20\n",
    "rand_sample = []\n",
    "while n != 0:\n",
    "    cluster = 2\n",
    "    temp = []\n",
    "    while cluster != 0:\n",
    "        pick = random.choice(raw_data)\n",
    "        temp.append(pick)\n",
    "        cluster = cluster - 1\n",
    "    rand_sample.append(temp)\n",
    "    n = n - 1\n",
    "print(rand_sample)"
   ]
  },
  {
   "cell_type": "code",
   "execution_count": 2,
   "id": "4b6faf30-b50f-468c-a6d3-be7430d462e0",
   "metadata": {},
   "outputs": [
    {
     "name": "stdout",
     "output_type": "stream",
     "text": [
      "[4, 4.5, 2.5, 3.5, 3, 2, 4, 3, 3, 3, 4.5, 3.5, 3.5, 2.5, 3, 2.5, 2.5, 4.5, 3.5, 3.5]\n"
     ]
    }
   ],
   "source": [
    "import statistics\n",
    "means = []\n",
    "for item in rand_sample:\n",
    "    mean = statistics.mean(item)\n",
    "    means.append(mean)\n",
    "print(means)"
   ]
  },
  {
   "cell_type": "code",
   "execution_count": 3,
   "id": "2d7069fd-6a1d-4a6d-8853-e8814f4d416e",
   "metadata": {},
   "outputs": [
    {
     "name": "stdout",
     "output_type": "stream",
     "text": [
      "Mean and Variance from sample\n",
      "mean = 3.3\n",
      "var = 0.5368421052631579\n"
     ]
    }
   ],
   "source": [
    "mean = statistics.mean(means)\n",
    "var = statistics.variance(means)\n",
    "print(\"Mean and Variance from sample\")\n",
    "print(\"mean = \" + str(mean))\n",
    "print(\"var = \" + str(var))"
   ]
  },
  {
   "cell_type": "code",
   "execution_count": 4,
   "id": "5c7d8cf0-568e-45e9-bb75-1a730bc59aac",
   "metadata": {},
   "outputs": [
    {
     "name": "stdout",
     "output_type": "stream",
     "text": [
      "Mean and Variance from population\n",
      "mean = 3.3\n",
      "var = 1.4242424242424243\n"
     ]
    }
   ],
   "source": [
    "mean = statistics.mean(raw_data)\n",
    "var = statistics.variance(raw_data)\n",
    "print(\"Mean and Variance from population\")\n",
    "print(\"mean = \" + str(mean))\n",
    "print(\"var = \" + str(var))"
   ]
  },
  {
   "cell_type": "markdown",
   "id": "cb6bfa76-1135-4ee6-a1aa-797b9d44a4c0",
   "metadata": {},
   "source": [
    "The mean values are equivalent across both distributions. The variance is not, because the distribution of the sample means reflect variation in the mean itself rather than the population."
   ]
  }
 ],
 "metadata": {
  "kernelspec": {
   "display_name": "Python 3 (ipykernel)",
   "language": "python",
   "name": "python3"
  },
  "language_info": {
   "codemirror_mode": {
    "name": "ipython",
    "version": 3
   },
   "file_extension": ".py",
   "mimetype": "text/x-python",
   "name": "python",
   "nbconvert_exporter": "python",
   "pygments_lexer": "ipython3",
   "version": "3.12.1"
  }
 },
 "nbformat": 4,
 "nbformat_minor": 5
}

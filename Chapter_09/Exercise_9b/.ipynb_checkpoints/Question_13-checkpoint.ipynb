{
 "cells": [
  {
   "cell_type": "markdown",
   "id": "55f964b2-2110-4c22-8a15-f0fb8bd91e3a",
   "metadata": {},
   "source": [
    "# Question 13\n",
    "-----"
   ]
  },
  {
   "cell_type": "code",
   "execution_count": 1,
   "id": "1decdd4c-3aad-42b6-b39a-5f170f20953a",
   "metadata": {},
   "outputs": [
    {
     "name": "stdout",
     "output_type": "stream",
     "text": [
      "Random observation from distribution: 1.3050654036570801\n"
     ]
    }
   ],
   "source": [
    "import numpy as np\n",
    "from scipy.stats import rv_continuous\n",
    "\n",
    "class CustomDistribution(rv_continuous):\n",
    "    def _pdf(self, x):\n",
    "        return ((2 * x) / 9)\n",
    "\n",
    "lower_bound = 0\n",
    "upper_bound = 3\n",
    "\n",
    "custom_dist = CustomDistribution(a=lower_bound, b=upper_bound, name='custom_dist')\n",
    "\n",
    "random_observation = custom_dist.rvs()\n",
    "\n",
    "print(\"Random observation from distribution:\", random_observation)"
   ]
  }
 ],
 "metadata": {
  "kernelspec": {
   "display_name": "Python 3 (ipykernel)",
   "language": "python",
   "name": "python3"
  },
  "language_info": {
   "codemirror_mode": {
    "name": "ipython",
    "version": 3
   },
   "file_extension": ".py",
   "mimetype": "text/x-python",
   "name": "python",
   "nbconvert_exporter": "python",
   "pygments_lexer": "ipython3",
   "version": "3.12.1"
  }
 },
 "nbformat": 4,
 "nbformat_minor": 5
}

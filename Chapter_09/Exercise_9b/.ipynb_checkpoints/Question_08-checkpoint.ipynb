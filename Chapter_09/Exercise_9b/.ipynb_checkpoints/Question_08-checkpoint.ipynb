{
 "cells": [
  {
   "cell_type": "markdown",
   "id": "32180bb6-cf66-49d0-a64c-c685a99288ad",
   "metadata": {},
   "source": [
    "# Question 8\n",
    "-----"
   ]
  },
  {
   "cell_type": "code",
   "execution_count": 1,
   "id": "115dc62a-9b27-4f4a-b891-a804a02b65a0",
   "metadata": {},
   "outputs": [
    {
     "name": "stdout",
     "output_type": "stream",
     "text": [
      "[1, 1, 1, 1, 1, 1, 1, 1, 1, 1, 1, 2, 2, 2, 2, 2, 2, 2, 2, 2, 2, 2, 2, 2, 2, 2, 2, 2, 2, 2, 2, 3, 3, 3, 3, 3, 3, 3, 3, 3, 3, 3, 3, 3, 3, 3, 3, 3, 3, 3, 3, 3, 3, 3, 3, 3, 3, 3, 3, 3, 3, 3, 3, 3, 3, 3, 3, 3, 3, 3, 3, 3, 3, 3, 3, 3, 4, 4, 4, 4, 4, 4, 4, 4, 4, 4, 4, 4, 4, 4, 4, 4, 4, 4, 4, 4, 4, 4, 4, 4]\n"
     ]
    }
   ],
   "source": [
    "x = [1, 2, 3, 4]\n",
    "freq = [11, 20, 45, 24]\n",
    "raw_data = []\n",
    "index = 0\n",
    "for item in freq:\n",
    "    count = item\n",
    "    while count != 0:\n",
    "        raw_data.append(x[index])\n",
    "        count = count - 1\n",
    "    index = index + 1\n",
    "print(raw_data)"
   ]
  },
  {
   "cell_type": "code",
   "execution_count": 2,
   "id": "d1d3b702-abd7-45c3-adec-be35fb5bd9c5",
   "metadata": {},
   "outputs": [
    {
     "name": "stdout",
     "output_type": "stream",
     "text": [
      "[3, 2, 2, 3, 1, 3, 2, 4, 3, 3]\n"
     ]
    }
   ],
   "source": [
    "import random\n",
    "rand_sample = []\n",
    "n = 10\n",
    "while n != 0:\n",
    "    get = random.choice(raw_data)\n",
    "    rand_sample.append(get)\n",
    "    n = n - 1\n",
    "print(rand_sample)"
   ]
  },
  {
   "cell_type": "code",
   "execution_count": 3,
   "id": "e1155a3e-159e-4f79-b473-683404309ab5",
   "metadata": {},
   "outputs": [
    {
     "name": "stdout",
     "output_type": "stream",
     "text": [
      "mean = 2.6\n",
      "E(X) = 2.8200000000000003\n",
      "var = 0.7111111111111111\n",
      "Var(X) = 0.847599999999999\n"
     ]
    }
   ],
   "source": [
    "import statistics\n",
    "mean = statistics.mean(rand_sample)\n",
    "var = statistics.variance(rand_sample)\n",
    "EX = (0.11 * 1) + (0.2 * 2) + (0.45 * 3) + (0.24 * 4)\n",
    "EX_2 = (0.11 * 1) + (0.2 * 4) + (0.45 * 9) + (0.24 * 16)\n",
    "Var = EX_2 - (EX**2)\n",
    "print(\"mean = \" + str(mean))\n",
    "print(\"E(X) = \" + str(EX))\n",
    "print(\"var = \" + str(var))\n",
    "print(\"Var(X) = \" + str(Var))"
   ]
  },
  {
   "cell_type": "markdown",
   "id": "8ae95df7-a3b6-4ff5-a6c0-23df0dbb48ce",
   "metadata": {},
   "source": [
    "-----\n",
    "\n",
    "$$k + 2k + 3k = 1$$\n",
    "\n",
    "$$6k = 1$$\n",
    "\n",
    "$$k = \\frac{1}{6}$$\n",
    "\n",
    "hence,\n",
    "\n",
    "| x | 0 | 1 | 2 | 3 |\n",
    "| - | - | - | - | - |\n",
    "| $P(X = x)$ | 0 | $\\frac{1}{6}$ | $\\frac{2}{6}$ | $\\frac{3}{6}$ |"
   ]
  },
  {
   "cell_type": "code",
   "execution_count": 4,
   "id": "cc49cf0e-772d-4276-839a-2f61410a7e01",
   "metadata": {},
   "outputs": [
    {
     "name": "stdout",
     "output_type": "stream",
     "text": [
      "[1, 2, 2, 3, 3, 3]\n"
     ]
    }
   ],
   "source": [
    "x = [0, 1, 2, 3]\n",
    "freq = [0, 1, 2, 3]\n",
    "raw_data = []\n",
    "index = 0\n",
    "for item in freq:\n",
    "    count = item\n",
    "    while count != 0:\n",
    "        raw_data.append(x[index])\n",
    "        count = count - 1\n",
    "    index = index + 1\n",
    "print(raw_data)"
   ]
  },
  {
   "cell_type": "code",
   "execution_count": 5,
   "id": "aada4d2a-5632-4772-853b-772d19d6479b",
   "metadata": {},
   "outputs": [
    {
     "name": "stdout",
     "output_type": "stream",
     "text": [
      "[3, 3, 3, 3, 3, 3, 3, 2, 2, 3]\n"
     ]
    }
   ],
   "source": [
    "import random\n",
    "rand_sample = []\n",
    "n = 10\n",
    "while n != 0:\n",
    "    get = random.choice(raw_data)\n",
    "    rand_sample.append(get)\n",
    "    n = n - 1\n",
    "print(rand_sample)"
   ]
  },
  {
   "cell_type": "code",
   "execution_count": 6,
   "id": "efff1863-2883-44c9-b8c9-f44b0e64d16a",
   "metadata": {},
   "outputs": [
    {
     "name": "stdout",
     "output_type": "stream",
     "text": [
      "mean = 2.8\n",
      "E(X) = 2.333333333333333\n",
      "var = 0.17777777777777778\n",
      "Var(X) = 0.5555555555555571\n"
     ]
    }
   ],
   "source": [
    "import statistics\n",
    "mean = statistics.mean(rand_sample)\n",
    "var = statistics.variance(rand_sample)\n",
    "\n",
    "EX = ((1/6) * 1) + ((2/6) * 2) + ((3/6) * 3)\n",
    "EX_2 = ((1/6) * 1) + ((2/6) * 4) + ((3/6) * 9)\n",
    "Var = EX_2 - (EX**2)\n",
    "print(\"mean = \" + str(mean))\n",
    "print(\"E(X) = \" + str(EX))\n",
    "print(\"var = \" + str(var))\n",
    "print(\"Var(X) = \" + str(Var))"
   ]
  }
 ],
 "metadata": {
  "kernelspec": {
   "display_name": "Python 3 (ipykernel)",
   "language": "python",
   "name": "python3"
  },
  "language_info": {
   "codemirror_mode": {
    "name": "ipython",
    "version": 3
   },
   "file_extension": ".py",
   "mimetype": "text/x-python",
   "name": "python",
   "nbconvert_exporter": "python",
   "pygments_lexer": "ipython3",
   "version": "3.12.1"
  }
 },
 "nbformat": 4,
 "nbformat_minor": 5
}

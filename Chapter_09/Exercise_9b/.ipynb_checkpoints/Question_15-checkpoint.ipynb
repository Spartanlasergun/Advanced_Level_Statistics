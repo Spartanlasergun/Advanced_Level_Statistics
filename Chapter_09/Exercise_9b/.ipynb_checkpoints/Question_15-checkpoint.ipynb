{
 "cells": [
  {
   "cell_type": "markdown",
   "id": "0a022807-ae4d-4671-b7ec-c22f8482be71",
   "metadata": {},
   "source": [
    "# Question 15\n",
    "-----"
   ]
  },
  {
   "cell_type": "code",
   "execution_count": 1,
   "id": "3e601ba2-b5f2-40f1-98cf-4690f12349ff",
   "metadata": {},
   "outputs": [
    {
     "name": "stdout",
     "output_type": "stream",
     "text": [
      "a) 5\n"
     ]
    }
   ],
   "source": [
    "import numpy as np\n",
    "import random\n",
    "\n",
    "dist = np.random.binomial(12, 0.4, size=1000)\n",
    "pick = random.choice(dist)\n",
    "print(\"a) \" + str(pick))"
   ]
  },
  {
   "cell_type": "code",
   "execution_count": 2,
   "id": "03bf8879-cf1d-4352-b091-83e69e938fdd",
   "metadata": {},
   "outputs": [
    {
     "name": "stdout",
     "output_type": "stream",
     "text": [
      "b) 6.23853378076287\n"
     ]
    }
   ],
   "source": [
    "dist= np.random.normal(6.2, 0.1, size=1000)\n",
    "pick = random.choice(dist)\n",
    "print(\"b) \" + str(pick))"
   ]
  },
  {
   "cell_type": "markdown",
   "id": "93a65167-c778-4be2-b572-f05430113f3e",
   "metadata": {},
   "source": [
    "They were obtained by generating samples based on the distribution parmaters and subsequently employing the random module to pick a value from the sample of observations."
   ]
  }
 ],
 "metadata": {
  "kernelspec": {
   "display_name": "Python 3 (ipykernel)",
   "language": "python",
   "name": "python3"
  },
  "language_info": {
   "codemirror_mode": {
    "name": "ipython",
    "version": 3
   },
   "file_extension": ".py",
   "mimetype": "text/x-python",
   "name": "python",
   "nbconvert_exporter": "python",
   "pygments_lexer": "ipython3",
   "version": "3.12.1"
  }
 },
 "nbformat": 4,
 "nbformat_minor": 5
}

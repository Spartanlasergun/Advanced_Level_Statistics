{
 "cells": [
  {
   "cell_type": "markdown",
   "id": "de22f236-6d6a-4074-82d8-44f5f3d6d1c6",
   "metadata": {},
   "source": [
    "# Question 2\n",
    "-----"
   ]
  },
  {
   "cell_type": "code",
   "execution_count": 1,
   "id": "d467fab0-3fac-481f-8ded-e80cba69c35d",
   "metadata": {},
   "outputs": [
    {
     "name": "stdout",
     "output_type": "stream",
     "text": [
      "[8 9 4 2 3 2 3 0 7 5 9 1 6 1 0 5 1 6 9 1 4 3 7 6 0 0 1 0 3 3 4 2 0 9 6 2 1\n",
      " 5 5 8 3 3 3 5 7 4 2 3 0 9 3 0 7 0 8 8 5 4 7 5 3 1 1 6 5 2 5 2 8 2 1 5 3 0\n",
      " 6 7 2 3 5 2 4 5 0 7 9 5 5 9 1 0 0 3 8 1 2 2 5 9 1 2]\n"
     ]
    }
   ],
   "source": [
    "import numpy as np\n",
    "\n",
    "numb = np.random.randint(0, 10, 100)\n",
    "print(numb)"
   ]
  },
  {
   "cell_type": "code",
   "execution_count": 2,
   "id": "fdce0cf2-6aa2-4b81-8a6c-74f37343fc26",
   "metadata": {},
   "outputs": [
    {
     "name": "stdout",
     "output_type": "stream",
     "text": [
      "mean = 3\n",
      "variance = 7\n"
     ]
    }
   ],
   "source": [
    "import statistics\n",
    "mean = statistics.mean(numb)\n",
    "print(\"mean = \" + str(mean))\n",
    "\n",
    "var = statistics.variance(numb)\n",
    "print(\"variance = \" + str(var))"
   ]
  },
  {
   "cell_type": "code",
   "execution_count": 3,
   "id": "e102dcc4-0a93-477e-89a0-1b1766caf3fa",
   "metadata": {},
   "outputs": [
    {
     "name": "stdout",
     "output_type": "stream",
     "text": [
      "4.500000000000001\n",
      "8.249999999999993\n"
     ]
    }
   ],
   "source": [
    "p = 1/10\n",
    "EX = (p * 1) + (p * 2) + (p * 3) + (p * 4) + (p * 5) + (p * 6) + (p * 7) + (p * 8) + (p * 9)\n",
    "EX_2 = p * (1 + 4 + 9 + 16 + 25 + 36 + 49 + 64 + 81)\n",
    "Var = EX_2 - (EX**2)\n",
    "print(EX)\n",
    "print(Var)"
   ]
  },
  {
   "cell_type": "markdown",
   "id": "4853d4f9-8de8-450b-877e-876a8f4572bd",
   "metadata": {},
   "source": [
    "The mean and variance are much lower when compared to the ideal values"
   ]
  }
 ],
 "metadata": {
  "kernelspec": {
   "display_name": "Python 3 (ipykernel)",
   "language": "python",
   "name": "python3"
  },
  "language_info": {
   "codemirror_mode": {
    "name": "ipython",
    "version": 3
   },
   "file_extension": ".py",
   "mimetype": "text/x-python",
   "name": "python",
   "nbconvert_exporter": "python",
   "pygments_lexer": "ipython3",
   "version": "3.12.1"
  }
 },
 "nbformat": 4,
 "nbformat_minor": 5
}

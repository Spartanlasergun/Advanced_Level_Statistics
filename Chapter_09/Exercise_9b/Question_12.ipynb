{
 "cells": [
  {
   "cell_type": "markdown",
   "id": "cb4ae45b-56d1-42b8-a0c3-e6ecf14f9f41",
   "metadata": {},
   "source": [
    "# Question 12\n",
    "-----"
   ]
  },
  {
   "cell_type": "code",
   "execution_count": 1,
   "id": "261031b9-f2b1-4b0d-aeda-3577652ef86c",
   "metadata": {},
   "outputs": [
    {
     "name": "stdout",
     "output_type": "stream",
     "text": [
      "[1 0 1 1 1]\n",
      "[1 1 1 1 1]\n"
     ]
    }
   ],
   "source": [
    "import numpy as np\n",
    "\n",
    "# Set the probability 'p'\n",
    "p = 0.75\n",
    "\n",
    "# Number of trials\n",
    "n_trials = 5\n",
    "\n",
    "n = 2\n",
    "while n != 0:\n",
    "    germinate = np.random.binomial(1, p, n_trials)\n",
    "    print(germinate)\n",
    "    n = n - 1"
   ]
  },
  {
   "cell_type": "code",
   "execution_count": 2,
   "id": "d2702c11-bfbd-4d28-88d7-314452538d86",
   "metadata": {},
   "outputs": [
    {
     "name": "stdout",
     "output_type": "stream",
     "text": [
      "1\n",
      "1\n"
     ]
    }
   ],
   "source": [
    "import numpy as np\n",
    "\n",
    "n = 2\n",
    "while n != 0:\n",
    "    goals = np.random.poisson(2.4)\n",
    "    print(goals)\n",
    "    n = n - 1"
   ]
  },
  {
   "cell_type": "code",
   "execution_count": 3,
   "id": "e3b3ceb1-d211-402b-8795-c15025fb99d7",
   "metadata": {},
   "outputs": [
    {
     "name": "stdout",
     "output_type": "stream",
     "text": [
      "[1000.93820844 1011.71477161]\n"
     ]
    }
   ],
   "source": [
    "sugar = np.random.normal(1010, 4.5, size=2)\n",
    "print(sugar)"
   ]
  }
 ],
 "metadata": {
  "kernelspec": {
   "display_name": "Python 3 (ipykernel)",
   "language": "python",
   "name": "python3"
  },
  "language_info": {
   "codemirror_mode": {
    "name": "ipython",
    "version": 3
   },
   "file_extension": ".py",
   "mimetype": "text/x-python",
   "name": "python",
   "nbconvert_exporter": "python",
   "pygments_lexer": "ipython3",
   "version": "3.12.1"
  }
 },
 "nbformat": 4,
 "nbformat_minor": 5
}

{
 "cells": [
  {
   "cell_type": "markdown",
   "id": "a8527ad8-8885-4f63-8a8c-8c701273625b",
   "metadata": {},
   "source": [
    "# Question 10\n",
    "-----"
   ]
  },
  {
   "cell_type": "code",
   "execution_count": 1,
   "id": "1f07d380-59d7-42e0-9e79-c14d32b3dce9",
   "metadata": {},
   "outputs": [],
   "source": [
    "import math\n",
    "\n",
    "class bino:\n",
    "    def __init__(self, n, p, q):\n",
    "        self.n = n\n",
    "        self.p = p\n",
    "        self.q = q\n",
    "        self.frequencies = []\n",
    "\n",
    "    def prob(self, r):\n",
    "        self.funk = ((math.factorial(self.n)) / (math.factorial(r) * math.factorial(((self.n)-r)))) * pow((self.q), ((self.n)-r)) * pow((self.p), r)\n",
    "        return self.funk\n",
    "\n",
    "    def freq(self, event, r):\n",
    "        event_prob = self.prob(r)\n",
    "        frequency = event_prob * event\n",
    "        frequency = round(frequency, 0)\n",
    "        return frequency"
   ]
  },
  {
   "cell_type": "code",
   "execution_count": 2,
   "id": "5f39a010-8375-4030-a80d-ccb8af9cc80d",
   "metadata": {},
   "outputs": [],
   "source": [
    "n = 3\n",
    "p = 0.4\n",
    "q = 1 - p\n",
    "bin_dist = bino(n, p, q)\n",
    "PXE0 = bin_dist.prob(0)\n",
    "PXE1 = bin_dist.prob(1)\n",
    "PXE2 = bin_dist.prob(2)\n",
    "PXE3 = bin_dist.prob(3)\n",
    "F0 = PXE0 * 100\n",
    "F0 = round(F0, 0)\n",
    "F1 = PXE1 * 100\n",
    "F1 = round(F1, 0)\n",
    "F2 = PXE2 * 100\n",
    "F2 = round(F2, 0)\n",
    "F3 = PXE3 * 100\n",
    "F3 = round(F3, 0)"
   ]
  },
  {
   "cell_type": "code",
   "execution_count": 3,
   "id": "bd673d54-50bb-48a4-ad27-6284795c4b24",
   "metadata": {},
   "outputs": [],
   "source": [
    "x = [0, 1, 2, 3]\n",
    "freq = [F0, F1, F2, F3]\n",
    "raw_data = []\n",
    "index = 0\n",
    "for item in freq:\n",
    "    count = item\n",
    "    while count != 0:\n",
    "        raw_data.append(x[index])\n",
    "        count = count - 1\n",
    "    index = index + 1"
   ]
  },
  {
   "cell_type": "code",
   "execution_count": 4,
   "id": "ef9038bf-e1b0-4495-9448-158f6f807185",
   "metadata": {},
   "outputs": [
    {
     "name": "stdout",
     "output_type": "stream",
     "text": [
      "[2, 0, 1, 0, 3]\n"
     ]
    }
   ],
   "source": [
    "import random\n",
    "rand_sample = []\n",
    "n = 5\n",
    "while n != 0:\n",
    "    get = random.choice(raw_data)\n",
    "    rand_sample.append(get)\n",
    "    n = n - 1\n",
    "\n",
    "print(rand_sample)"
   ]
  },
  {
   "cell_type": "markdown",
   "id": "3e462d28-c3f2-4094-9d0f-d7c73b55bfa5",
   "metadata": {},
   "source": [
    "-----"
   ]
  },
  {
   "cell_type": "code",
   "execution_count": 5,
   "id": "65651980-53bb-4a18-81e4-bf3c3ec008bb",
   "metadata": {},
   "outputs": [],
   "source": [
    "import math\n",
    "\n",
    "class poisson:\n",
    "    def __init__(self, lamb):\n",
    "        self.lamb = lamb\n",
    "\n",
    "    def prob(self, x):\n",
    "        pois = math.exp(-self.lamb) * (pow(self.lamb, x) / math.factorial(x))\n",
    "        return pois\n",
    "\n",
    "    def freq(self, event, sample):\n",
    "        freq = self.prob(event) * sample \n",
    "        freq = round(freq, 0)\n",
    "        return freq"
   ]
  },
  {
   "cell_type": "code",
   "execution_count": 6,
   "id": "447bfdba-07df-470f-b2ae-76089a9e303a",
   "metadata": {},
   "outputs": [],
   "source": [
    "dist = poisson(4)\n",
    "PXE0 = dist.prob(0)\n",
    "PXE1 = dist.prob(1)\n",
    "PXE2 = dist.prob(2)\n",
    "PXE3 = dist.prob(3)\n",
    "PXE4 = dist.prob(4)\n",
    "PXE5 = dist.prob(5)\n",
    "PXE6 = dist.prob(6)\n",
    "PXE7 = dist.prob(7)\n",
    "PXE8 = dist.prob(8)\n",
    "PXE9 = dist.prob(9)\n",
    "\n",
    "F0 = PXE0 * 100\n",
    "F0 = round(F0, 0)\n",
    "F1 = PXE1 * 100\n",
    "F1 = round(F1, 0)\n",
    "F2 = PXE2 * 100\n",
    "F2 = round(F2, 0)\n",
    "F3 = PXE3 * 100\n",
    "F3 = round(F3, 0)\n",
    "F4 = PXE4 * 100\n",
    "F4 = round(F4, 0)\n",
    "F5 = PXE5 * 100\n",
    "F5 = round(F5, 0)\n",
    "F6 = PXE6 * 100\n",
    "F6 = round(F6, 0)\n",
    "F7 = PXE7 * 100\n",
    "F7 = round(F7, 0)\n",
    "F8 = PXE8 * 100\n",
    "F8 = round(F8, 0)\n",
    "F9 = PXE9 * 100\n",
    "F9 = round(F9, 0)"
   ]
  },
  {
   "cell_type": "code",
   "execution_count": 7,
   "id": "9f63bddf-11a5-458e-a511-63d550476be7",
   "metadata": {},
   "outputs": [],
   "source": [
    "x = [0, 1, 2, 3, 4, 5, 6, 7, 8, 9]\n",
    "freq = [F0, F1, F2, F3, F4, F5, F6, F7, F8, F9]\n",
    "raw_data = []\n",
    "index = 0\n",
    "for item in freq:\n",
    "    count = item\n",
    "    while count != 0:\n",
    "        raw_data.append(x[index])\n",
    "        count = count - 1\n",
    "    index = index + 1"
   ]
  },
  {
   "cell_type": "code",
   "execution_count": 8,
   "id": "028aed76-5fc2-4aac-9b5a-6d21e5a693f2",
   "metadata": {},
   "outputs": [
    {
     "name": "stdout",
     "output_type": "stream",
     "text": [
      "[3, 6, 8, 6, 4, 4, 3, 2, 6, 7]\n"
     ]
    }
   ],
   "source": [
    "import random\n",
    "rand_sample = []\n",
    "n = 10\n",
    "while n != 0:\n",
    "    get = random.choice(raw_data)\n",
    "    rand_sample.append(get)\n",
    "    n = n - 1\n",
    "print(rand_sample)"
   ]
  }
 ],
 "metadata": {
  "kernelspec": {
   "display_name": "Python 3 (ipykernel)",
   "language": "python",
   "name": "python3"
  },
  "language_info": {
   "codemirror_mode": {
    "name": "ipython",
    "version": 3
   },
   "file_extension": ".py",
   "mimetype": "text/x-python",
   "name": "python",
   "nbconvert_exporter": "python",
   "pygments_lexer": "ipython3",
   "version": "3.12.1"
  }
 },
 "nbformat": 4,
 "nbformat_minor": 5
}

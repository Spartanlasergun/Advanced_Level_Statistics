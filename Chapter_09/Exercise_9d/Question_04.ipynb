{
 "cells": [
  {
   "cell_type": "markdown",
   "id": "4af7da7b-edf2-4235-b077-3ee193958b50",
   "metadata": {},
   "source": [
    "# Question 4\n",
    "-----"
   ]
  },
  {
   "cell_type": "code",
   "execution_count": 1,
   "id": "293e62d1-acbf-4cc6-b4ed-8bc7682c7456",
   "metadata": {},
   "outputs": [],
   "source": [
    "from scipy.integrate import quad\n",
    "import math\n",
    "\n",
    "class normal:\n",
    "    def __init__(self, u, sigma):\n",
    "        self.u = u\n",
    "        self.sigma = sigma\n",
    "        self.root2pi = math.sqrt((2 * math.pi)) \n",
    "    \n",
    "    def normal_func(self, x):\n",
    "        return (1 / (self.sigma * self.root2pi)) * math.exp((-1 * pow((x - self.u), 2)) / (2 * pow(self.sigma, 2)))\n",
    "\n",
    "    def integrate(self, lower_limit, upper_limit):\n",
    "        result, error = quad(self.normal_func, lower_limit, upper_limit)\n",
    "        \n",
    "        return result\n",
    "\n",
    "    def locate(self, area):\n",
    "        fx = 0\n",
    "        x = -6\n",
    "        while fx < area:\n",
    "            fx = self.integrate(-6, x)\n",
    "            x = x + 0.00001\n",
    "            \n",
    "        return x"
   ]
  },
  {
   "cell_type": "code",
   "execution_count": 2,
   "id": "b83303a7-8296-4f5a-8400-b669b131cfc4",
   "metadata": {},
   "outputs": [
    {
     "name": "stdout",
     "output_type": "stream",
     "text": [
      "a) 0.3083965574975898\n"
     ]
    }
   ],
   "source": [
    "p = 0.48\n",
    "q = 1 - p\n",
    "n = 100\n",
    "var = (p * q) / n\n",
    "std = math.sqrt(var)\n",
    "dist = normal(p, std)\n",
    "bound = 0.5 + (1/200)\n",
    "a = dist.integrate(bound, 10)\n",
    "print(\"a) \" + str(a))"
   ]
  },
  {
   "cell_type": "code",
   "execution_count": 3,
   "id": "d1391252-3791-4108-b145-d6fa0f9f24a4",
   "metadata": {},
   "outputs": [
    {
     "name": "stdout",
     "output_type": "stream",
     "text": [
      "b) 0.0567785422315723\n"
     ]
    }
   ],
   "source": [
    "n = 1000\n",
    "var = (p * q) / n\n",
    "std = math.sqrt(var)\n",
    "dist = normal(p, std)\n",
    "bound = 0.5 + (1/200)\n",
    "b = dist.integrate(bound, 10)\n",
    "print(\"b) \" + str(b))"
   ]
  }
 ],
 "metadata": {
  "kernelspec": {
   "display_name": "Python 3 (ipykernel)",
   "language": "python",
   "name": "python3"
  },
  "language_info": {
   "codemirror_mode": {
    "name": "ipython",
    "version": 3
   },
   "file_extension": ".py",
   "mimetype": "text/x-python",
   "name": "python",
   "nbconvert_exporter": "python",
   "pygments_lexer": "ipython3",
   "version": "3.12.1"
  }
 },
 "nbformat": 4,
 "nbformat_minor": 5
}

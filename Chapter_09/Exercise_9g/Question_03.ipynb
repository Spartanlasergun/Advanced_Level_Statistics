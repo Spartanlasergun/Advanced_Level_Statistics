{
 "cells": [
  {
   "cell_type": "markdown",
   "id": "8b619877-06cc-4138-b4e3-7b8a74a6cc0b",
   "metadata": {},
   "source": [
    "# Question 3\n",
    "-----"
   ]
  },
  {
   "cell_type": "code",
   "execution_count": 1,
   "id": "29dadcfa-1ba6-4b8f-a042-06b92bc59fb4",
   "metadata": {},
   "outputs": [],
   "source": [
    "from scipy.integrate import quad\n",
    "import math\n",
    "\n",
    "class normal:\n",
    "    def __init__(self, u, sigma):\n",
    "        self.u = u\n",
    "        self.sigma = sigma\n",
    "        self.root2pi = math.sqrt((2 * math.pi)) \n",
    "    \n",
    "    def normal_func(self, x):\n",
    "        return (1 / (self.sigma * self.root2pi)) * math.exp((-1 * pow((x - self.u), 2)) / (2 * pow(self.sigma, 2)))\n",
    "\n",
    "    def integrate(self, lower_limit, upper_limit):\n",
    "        result, error = quad(self.normal_func, lower_limit, upper_limit)\n",
    "        \n",
    "        return result\n",
    "\n",
    "    def locate(self, area):\n",
    "        fx = 0\n",
    "        x = -6\n",
    "        while fx < area:\n",
    "            fx = self.integrate(-6, x)\n",
    "            x = x + 0.00001\n",
    "            \n",
    "        return x"
   ]
  },
  {
   "cell_type": "code",
   "execution_count": 2,
   "id": "8344bdd2-5d1d-469d-8b39-bc3c006a682c",
   "metadata": {},
   "outputs": [
    {
     "name": "stdout",
     "output_type": "stream",
     "text": [
      "a) 0.23845572263713177 < X < 0.3615442773628682\n"
     ]
    }
   ],
   "source": [
    "p = 45 / 150\n",
    "q = 1 - p\n",
    "n = 150\n",
    "var = (p * q) / n\n",
    "sigma = math.sqrt(var)\n",
    "z = normal(0, 1)\n",
    "loc_1 = z.locate(0.05)\n",
    "loc_2 = -1 * loc_1\n",
    "LI = (loc_1 * sigma) + p\n",
    "UI = (loc_2 * sigma) + p\n",
    "print(\"a) \" + str(LI) + \" < X < \" + str(UI))"
   ]
  },
  {
   "cell_type": "code",
   "execution_count": 3,
   "id": "4eb4590b-9619-43f4-9b26-c17a304e04b0",
   "metadata": {},
   "outputs": [
    {
     "name": "stdout",
     "output_type": "stream",
     "text": [
      "b) 90.0\n"
     ]
    }
   ],
   "source": [
    "b = 0.9 * 100\n",
    "print(\"b) \" + str(b))"
   ]
  }
 ],
 "metadata": {
  "kernelspec": {
   "display_name": "Python 3 (ipykernel)",
   "language": "python",
   "name": "python3"
  },
  "language_info": {
   "codemirror_mode": {
    "name": "ipython",
    "version": 3
   },
   "file_extension": ".py",
   "mimetype": "text/x-python",
   "name": "python",
   "nbconvert_exporter": "python",
   "pygments_lexer": "ipython3",
   "version": "3.12.1"
  }
 },
 "nbformat": 4,
 "nbformat_minor": 5
}

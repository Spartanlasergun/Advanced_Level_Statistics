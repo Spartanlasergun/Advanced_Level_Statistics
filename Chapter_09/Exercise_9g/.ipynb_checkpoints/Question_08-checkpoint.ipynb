{
 "cells": [
  {
   "cell_type": "markdown",
   "id": "9ffbf731-007d-48ff-955c-a4dad67950a7",
   "metadata": {},
   "source": [
    "# Question 8\n",
    "-----"
   ]
  },
  {
   "cell_type": "code",
   "execution_count": 1,
   "id": "cae8954f-fc1a-4eb0-aa50-a5cc8d27d977",
   "metadata": {},
   "outputs": [],
   "source": [
    "from scipy.integrate import quad\n",
    "import math\n",
    "\n",
    "class normal:\n",
    "    def __init__(self, u, sigma):\n",
    "        self.u = u\n",
    "        self.sigma = sigma\n",
    "        self.root2pi = math.sqrt((2 * math.pi)) \n",
    "    \n",
    "    def normal_func(self, x):\n",
    "        return (1 / (self.sigma * self.root2pi)) * math.exp((-1 * pow((x - self.u), 2)) / (2 * pow(self.sigma, 2)))\n",
    "\n",
    "    def integrate(self, lower_limit, upper_limit):\n",
    "        result, error = quad(self.normal_func, lower_limit, upper_limit)\n",
    "        \n",
    "        return result\n",
    "\n",
    "    def locate(self, area):\n",
    "        fx = 0\n",
    "        x = -6\n",
    "        while fx < area:\n",
    "            fx = self.integrate(-6, x)\n",
    "            x = x + 0.00001\n",
    "            \n",
    "        return x"
   ]
  },
  {
   "cell_type": "code",
   "execution_count": 2,
   "id": "b4a9360a-1761-4a34-b637-9c1939591b45",
   "metadata": {},
   "outputs": [
    {
     "name": "stdout",
     "output_type": "stream",
     "text": [
      "a) 0.3505922399997007 < X < 0.3694077600002993\n"
     ]
    }
   ],
   "source": [
    "p = 3600 / 10000\n",
    "q = 1 - p\n",
    "n = 10000\n",
    "var = (p * q) / n\n",
    "sigma = math.sqrt(var)\n",
    "z = normal(0, 1)\n",
    "loc_1 = z.locate(0.025)\n",
    "loc_2 = -1 * loc_1\n",
    "LI = (loc_1 * sigma) + p\n",
    "UI = (loc_2 * sigma) + p\n",
    "print(\"a) \" + str(LI) + \" < X < \" + str(UI))"
   ]
  },
  {
   "cell_type": "markdown",
   "id": "370ab2cc-ce13-4609-b3b8-784ad548956c",
   "metadata": {},
   "source": [
    "part b ommitted due to ambiguity in the question"
   ]
  }
 ],
 "metadata": {
  "kernelspec": {
   "display_name": "Python 3 (ipykernel)",
   "language": "python",
   "name": "python3"
  },
  "language_info": {
   "codemirror_mode": {
    "name": "ipython",
    "version": 3
   },
   "file_extension": ".py",
   "mimetype": "text/x-python",
   "name": "python",
   "nbconvert_exporter": "python",
   "pygments_lexer": "ipython3",
   "version": "3.12.1"
  }
 },
 "nbformat": 4,
 "nbformat_minor": 5
}

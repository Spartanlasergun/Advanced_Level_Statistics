{
 "cells": [
  {
   "cell_type": "markdown",
   "id": "f26a130c-a35a-48ec-8a01-d878bf4449df",
   "metadata": {},
   "source": [
    "# Question 4\n",
    "-----"
   ]
  },
  {
   "cell_type": "code",
   "execution_count": 1,
   "id": "f45bf073-7397-4a09-9675-743a3153f6a6",
   "metadata": {},
   "outputs": [
    {
     "name": "stdout",
     "output_type": "stream",
     "text": [
      "a) 0.28\n"
     ]
    }
   ],
   "source": [
    "x = [8, 9, 8, 10, 11, 8, 7, 12, 12, 9,\n",
    "     9, 8, 11, 8, 9, 7, 11, 12, 11, 10,\n",
    "     9, 10, 10, 10, 8, 8, 7, 12, 9, 9,\n",
    "     10, 13, 7, 8, 9, 9, 10, 10, 8, 12,\n",
    "     9, 9, 10, 10, 11, 12, 9, 9, 10, 9]\n",
    "\n",
    "count = 0\n",
    "for item in x:\n",
    "    if item == 9:\n",
    "        count = count + 1\n",
    "\n",
    "p = count / len(x)\n",
    "print(\"a) \" + str(p))"
   ]
  },
  {
   "cell_type": "code",
   "execution_count": 2,
   "id": "702a6211-3188-463e-8f3f-5393823a5d1e",
   "metadata": {},
   "outputs": [],
   "source": [
    "from scipy.integrate import quad\n",
    "import math\n",
    "\n",
    "class normal:\n",
    "    def __init__(self, u, sigma):\n",
    "        self.u = u\n",
    "        self.sigma = sigma\n",
    "        self.root2pi = math.sqrt((2 * math.pi)) \n",
    "    \n",
    "    def normal_func(self, x):\n",
    "        return (1 / (self.sigma * self.root2pi)) * math.exp((-1 * pow((x - self.u), 2)) / (2 * pow(self.sigma, 2)))\n",
    "\n",
    "    def integrate(self, lower_limit, upper_limit):\n",
    "        result, error = quad(self.normal_func, lower_limit, upper_limit)\n",
    "        \n",
    "        return result\n",
    "\n",
    "    def locate(self, area):\n",
    "        fx = 0\n",
    "        x = -6\n",
    "        while fx < area:\n",
    "            fx = self.integrate(-6, x)\n",
    "            x = x + 0.00001\n",
    "            \n",
    "        return x"
   ]
  },
  {
   "cell_type": "code",
   "execution_count": 3,
   "id": "20ddec92-a6d0-4fc7-8b89-ebafb51a00b9",
   "metadata": {},
   "outputs": [
    {
     "name": "stdout",
     "output_type": "stream",
     "text": [
      "b) 0.1755558979203764 < X < 0.38444410207962365\n"
     ]
    }
   ],
   "source": [
    "q = 1 - p\n",
    "n = 50\n",
    "var = (p * q) / n\n",
    "sigma = math.sqrt(var)\n",
    "z = normal(0, 1)\n",
    "loc_1 = z.locate(0.05)\n",
    "loc_2 = -1 * loc_1\n",
    "LI = (loc_1 * sigma) + p\n",
    "UI = (loc_2 * sigma) + p\n",
    "print(\"b) \" + str(LI) + \" < X < \" + str(UI))"
   ]
  },
  {
   "cell_type": "markdown",
   "id": "fcfeb05b-2099-4093-bf58-d6b86582b9a7",
   "metadata": {},
   "source": [
    "c) Interval is approximate since $p$ is an estimate"
   ]
  }
 ],
 "metadata": {
  "kernelspec": {
   "display_name": "Python 3 (ipykernel)",
   "language": "python",
   "name": "python3"
  },
  "language_info": {
   "codemirror_mode": {
    "name": "ipython",
    "version": 3
   },
   "file_extension": ".py",
   "mimetype": "text/x-python",
   "name": "python",
   "nbconvert_exporter": "python",
   "pygments_lexer": "ipython3",
   "version": "3.12.1"
  }
 },
 "nbformat": 4,
 "nbformat_minor": 5
}

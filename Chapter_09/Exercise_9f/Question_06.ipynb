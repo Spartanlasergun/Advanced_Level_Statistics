{
 "cells": [
  {
   "cell_type": "markdown",
   "id": "849ceb13-4b27-4ddb-b8d7-b5416addee39",
   "metadata": {},
   "source": [
    "# Question 6\n",
    "-----"
   ]
  },
  {
   "cell_type": "code",
   "execution_count": 1,
   "id": "639b3eac-f3cf-4d95-847c-6966c4f1e400",
   "metadata": {},
   "outputs": [],
   "source": [
    "import statistics\n",
    "\n",
    "x = [15.4, 15.2, 14.6, 16.1, 14.8, 15.3, 15.9, 16, 15.4, 14.6, 15, 15.5, 16.1]\n",
    "mean = statistics.mean(x)\n",
    "sigma = statistics.stdev(x)"
   ]
  },
  {
   "cell_type": "code",
   "execution_count": 2,
   "id": "ce770bea-3b85-4325-857b-e12110e998dd",
   "metadata": {},
   "outputs": [],
   "source": [
    "from scipy.integrate import quad\n",
    "import math\n",
    "import numpy as np\n",
    "from scipy.special import gamma\n",
    "\n",
    "class T_dist:\n",
    "    def __init__(self, nu):\n",
    "        self.nu = nu\n",
    "        numerator = gamma((nu + 1) / 2)\n",
    "        denominator = np.sqrt(np.pi * nu) * gamma(nu / 2)\n",
    "        self.coefficient = numerator / denominator\n",
    "\n",
    "    def t_distribution_pdf(self, x):\n",
    "        return self.coefficient * ((1 + (x**2 / self.nu))**(-(self.nu + 1) / 2))\n",
    "\n",
    "    def integrate(self, lower_limit, upper_limit):\n",
    "        result, error = quad(self.t_distribution_pdf, lower_limit, upper_limit)\n",
    "        \n",
    "        return result\n",
    "\n",
    "    def locate(self, area):\n",
    "        fx = 0\n",
    "        x = -6\n",
    "        while fx < area:\n",
    "            fx = self.integrate(-6, x)\n",
    "            x = x + 0.00001\n",
    "            \n",
    "        return x"
   ]
  },
  {
   "cell_type": "code",
   "execution_count": 3,
   "id": "85343d08-2ab5-4da6-982f-2865bf6358d4",
   "metadata": {},
   "outputs": [
    {
     "name": "stdout",
     "output_type": "stream",
     "text": [
      "14.9788778617679 < X < 15.774968292078254\n"
     ]
    }
   ],
   "source": [
    "nu = 13 - 1\n",
    "t_dist = T_dist(nu)\n",
    "loc_1 = t_dist.locate(0.01)\n",
    "loc_2 = -1 * loc_1\n",
    "sigma = sigma / math.sqrt(13)\n",
    "LI = (loc_1 * sigma) + mean\n",
    "UI = (loc_2 * sigma) + mean\n",
    "print(str(LI) + \" < X < \" + str(UI))"
   ]
  }
 ],
 "metadata": {
  "kernelspec": {
   "display_name": "Python 3 (ipykernel)",
   "language": "python",
   "name": "python3"
  },
  "language_info": {
   "codemirror_mode": {
    "name": "ipython",
    "version": 3
   },
   "file_extension": ".py",
   "mimetype": "text/x-python",
   "name": "python",
   "nbconvert_exporter": "python",
   "pygments_lexer": "ipython3",
   "version": "3.12.1"
  }
 },
 "nbformat": 4,
 "nbformat_minor": 5
}

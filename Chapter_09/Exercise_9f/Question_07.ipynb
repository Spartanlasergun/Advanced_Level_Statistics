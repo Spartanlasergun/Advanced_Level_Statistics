{
 "cells": [
  {
   "cell_type": "markdown",
   "id": "023af235-d466-49a6-9cdd-551341c0e2b2",
   "metadata": {},
   "source": [
    "# Question 7\n",
    "-----"
   ]
  },
  {
   "cell_type": "code",
   "execution_count": 1,
   "id": "e59d5ac1-3985-4901-93ad-4cd8ab3d742d",
   "metadata": {},
   "outputs": [],
   "source": [
    "import statistics\n",
    "\n",
    "x = [9.806, 9.807, 9.81, 9.802, 9.805, 9.806, 9.804, 9.811, 9.801, 9.804, 9.805, 9.808, 9.803, 9.809, 9.807]\n",
    "mean = statistics.mean(x)\n",
    "sigma = statistics.stdev(x)"
   ]
  },
  {
   "cell_type": "code",
   "execution_count": 2,
   "id": "2de3e267-0022-4180-88c0-e361933af5a8",
   "metadata": {},
   "outputs": [],
   "source": [
    "from scipy.integrate import quad\n",
    "import math\n",
    "import numpy as np\n",
    "from scipy.special import gamma\n",
    "\n",
    "class T_dist:\n",
    "    def __init__(self, nu):\n",
    "        self.nu = nu\n",
    "        numerator = gamma((nu + 1) / 2)\n",
    "        denominator = np.sqrt(np.pi * nu) * gamma(nu / 2)\n",
    "        self.coefficient = numerator / denominator\n",
    "\n",
    "    def t_distribution_pdf(self, x):\n",
    "        return self.coefficient * ((1 + (x**2 / self.nu))**(-(self.nu + 1) / 2))\n",
    "\n",
    "    def integrate(self, lower_limit, upper_limit):\n",
    "        result, error = quad(self.t_distribution_pdf, lower_limit, upper_limit)\n",
    "        \n",
    "        return result\n",
    "\n",
    "    def locate(self, area):\n",
    "        fx = 0\n",
    "        x = -6\n",
    "        while fx < area:\n",
    "            fx = self.integrate(-6, x)\n",
    "            x = x + 0.00001\n",
    "            \n",
    "        return x"
   ]
  },
  {
   "cell_type": "code",
   "execution_count": 3,
   "id": "97b59e86-7eb3-48d6-900b-bca399bc3c98",
   "metadata": {},
   "outputs": [
    {
     "name": "stdout",
     "output_type": "stream",
     "text": [
      "9.804274716632628 < X < 9.807458616700705\n"
     ]
    }
   ],
   "source": [
    "nu = len(x) - 1\n",
    "t_dist = T_dist(nu)\n",
    "loc_1 = t_dist.locate(0.025)\n",
    "loc_2 = -1 * loc_1\n",
    "sigma = sigma / math.sqrt(len(x))\n",
    "LI = (loc_1 * sigma) + mean\n",
    "UI = (loc_2 * sigma) + mean\n",
    "print(str(LI) + \" < X < \" + str(UI))"
   ]
  }
 ],
 "metadata": {
  "kernelspec": {
   "display_name": "Python 3 (ipykernel)",
   "language": "python",
   "name": "python3"
  },
  "language_info": {
   "codemirror_mode": {
    "name": "ipython",
    "version": 3
   },
   "file_extension": ".py",
   "mimetype": "text/x-python",
   "name": "python",
   "nbconvert_exporter": "python",
   "pygments_lexer": "ipython3",
   "version": "3.12.1"
  }
 },
 "nbformat": 4,
 "nbformat_minor": 5
}

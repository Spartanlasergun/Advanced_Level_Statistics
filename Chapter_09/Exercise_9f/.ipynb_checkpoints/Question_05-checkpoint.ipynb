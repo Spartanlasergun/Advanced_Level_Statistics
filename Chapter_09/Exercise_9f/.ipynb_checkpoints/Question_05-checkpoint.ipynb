{
 "cells": [
  {
   "cell_type": "markdown",
   "id": "c9858cd5-2071-4ce6-8bc8-41b237edc35c",
   "metadata": {},
   "source": [
    "# Question 5\n",
    "-----"
   ]
  },
  {
   "cell_type": "code",
   "execution_count": 1,
   "id": "f9d0b369-b9ad-483e-a437-fae435589654",
   "metadata": {},
   "outputs": [
    {
     "name": "stdout",
     "output_type": "stream",
     "text": [
      "a) 5.128571428571428\n",
      "b) 0.5879747322073368\n"
     ]
    }
   ],
   "source": [
    "import math\n",
    "\n",
    "mean = 35.9 / 7\n",
    "var = (7/6) * ((186.19 / 7) - (mean**2))\n",
    "sigma = math.sqrt(var)\n",
    "print(\"a) \" + str(mean))\n",
    "print(\"b) \" + str(sigma))"
   ]
  },
  {
   "cell_type": "code",
   "execution_count": 2,
   "id": "8f879890-7d32-40d8-8b73-4d3ac4050f03",
   "metadata": {},
   "outputs": [],
   "source": [
    "from scipy.integrate import quad\n",
    "import math\n",
    "import numpy as np\n",
    "from scipy.special import gamma\n",
    "\n",
    "class T_dist:\n",
    "    def __init__(self, nu):\n",
    "        self.nu = nu\n",
    "        numerator = gamma((nu + 1) / 2)\n",
    "        denominator = np.sqrt(np.pi * nu) * gamma(nu / 2)\n",
    "        self.coefficient = numerator / denominator\n",
    "\n",
    "    def t_distribution_pdf(self, x):\n",
    "        return self.coefficient * ((1 + (x**2 / self.nu))**(-(self.nu + 1) / 2))\n",
    "\n",
    "    def integrate(self, lower_limit, upper_limit):\n",
    "        result, error = quad(self.t_distribution_pdf, lower_limit, upper_limit)\n",
    "        \n",
    "        return result\n",
    "\n",
    "    def locate(self, area):\n",
    "        fx = 0\n",
    "        x = -6\n",
    "        while fx < area:\n",
    "            fx = self.integrate(-6, x)\n",
    "            x = x + 0.00001\n",
    "            \n",
    "        return x"
   ]
  },
  {
   "cell_type": "code",
   "execution_count": 3,
   "id": "06725d0b-e384-4a6d-ba9e-04232221438c",
   "metadata": {},
   "outputs": [
    {
     "name": "stdout",
     "output_type": "stream",
     "text": [
      "4.698273920727574 < X < 5.558868936415283\n"
     ]
    }
   ],
   "source": [
    "nu = 7 - 1\n",
    "t_dist = T_dist(nu)\n",
    "loc_1 = t_dist.locate(0.05)\n",
    "loc_2 = -1 * loc_1\n",
    "sigma = math.sqrt(var) / math.sqrt(7)\n",
    "LI = (loc_1 * sigma) + mean\n",
    "UI = (loc_2 * sigma) + mean\n",
    "print(str(LI) + \" < X < \" + str(UI))"
   ]
  }
 ],
 "metadata": {
  "kernelspec": {
   "display_name": "Python 3 (ipykernel)",
   "language": "python",
   "name": "python3"
  },
  "language_info": {
   "codemirror_mode": {
    "name": "ipython",
    "version": 3
   },
   "file_extension": ".py",
   "mimetype": "text/x-python",
   "name": "python",
   "nbconvert_exporter": "python",
   "pygments_lexer": "ipython3",
   "version": "3.12.1"
  }
 },
 "nbformat": 4,
 "nbformat_minor": 5
}

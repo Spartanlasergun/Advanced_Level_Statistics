{
 "cells": [
  {
   "cell_type": "markdown",
   "id": "00bdce88-0f30-4252-a4fc-d11ef667f202",
   "metadata": {},
   "source": [
    "# Question 4\n",
    "-----"
   ]
  },
  {
   "cell_type": "code",
   "execution_count": 1,
   "id": "9eee035f-5908-45d4-a165-fdd213e0c62e",
   "metadata": {},
   "outputs": [
    {
     "name": "stdout",
     "output_type": "stream",
     "text": [
      "mean = 32.65\n",
      "sigma = 0.23979157616563596\n"
     ]
    }
   ],
   "source": [
    "import math\n",
    "\n",
    "mean = 261.2 / 8\n",
    "var = (8/7) * (3.22 / 8)\n",
    "sigma = math.sqrt(var) / math.sqrt(8)\n",
    "print(\"mean = \" + str(mean))\n",
    "print(\"sigma = \" + str(sigma))"
   ]
  },
  {
   "cell_type": "code",
   "execution_count": 2,
   "id": "d5a3c408-6bfb-4d02-8d7b-5e38574429ee",
   "metadata": {},
   "outputs": [],
   "source": [
    "from scipy.integrate import quad\n",
    "import math\n",
    "import numpy as np\n",
    "from scipy.special import gamma\n",
    "\n",
    "class T_dist:\n",
    "    def __init__(self, nu):\n",
    "        self.nu = nu\n",
    "        numerator = gamma((nu + 1) / 2)\n",
    "        denominator = np.sqrt(np.pi * nu) * gamma(nu / 2)\n",
    "        self.coefficient = numerator / denominator\n",
    "\n",
    "    def t_distribution_pdf(self, x):\n",
    "        return self.coefficient * ((1 + (x**2 / self.nu))**(-(self.nu + 1) / 2))\n",
    "\n",
    "    def integrate(self, lower_limit, upper_limit):\n",
    "        result, error = quad(self.t_distribution_pdf, lower_limit, upper_limit)\n",
    "        \n",
    "        return result\n",
    "\n",
    "    def locate(self, area):\n",
    "        fx = 0\n",
    "        x = -6\n",
    "        while fx < area:\n",
    "            fx = self.integrate(-6, x)\n",
    "            x = x + 0.00001\n",
    "            \n",
    "        return x"
   ]
  },
  {
   "cell_type": "code",
   "execution_count": 3,
   "id": "10fa9c7b-db85-4e8d-959e-cf3df2ea8afb",
   "metadata": {},
   "outputs": [
    {
     "name": "stdout",
     "output_type": "stream",
     "text": [
      "32.084744113320696 < X < 33.2152558866793\n"
     ]
    }
   ],
   "source": [
    "nu = 8 - 1\n",
    "t_dist = T_dist(nu)\n",
    "loc_1 = t_dist.locate(0.025)\n",
    "loc_2 = -1 * loc_1\n",
    "LI = (loc_1 * sigma) + mean\n",
    "UI = (loc_2 * sigma) + mean\n",
    "print(str(LI) + \" < X < \" + str(UI))"
   ]
  },
  {
   "cell_type": "code",
   "execution_count": 4,
   "id": "9f0258e2-4a70-44ce-9739-1083250e2b66",
   "metadata": {},
   "outputs": [
    {
     "name": "stdout",
     "output_type": "stream",
     "text": [
      "b) 380.0\n"
     ]
    }
   ],
   "source": [
    "b = 400 * 0.95\n",
    "print(\"b) \" + str(b))"
   ]
  }
 ],
 "metadata": {
  "kernelspec": {
   "display_name": "Python 3 (ipykernel)",
   "language": "python",
   "name": "python3"
  },
  "language_info": {
   "codemirror_mode": {
    "name": "ipython",
    "version": 3
   },
   "file_extension": ".py",
   "mimetype": "text/x-python",
   "name": "python",
   "nbconvert_exporter": "python",
   "pygments_lexer": "ipython3",
   "version": "3.12.1"
  }
 },
 "nbformat": 4,
 "nbformat_minor": 5
}

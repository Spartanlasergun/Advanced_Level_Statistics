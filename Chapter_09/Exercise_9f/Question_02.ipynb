{
 "cells": [
  {
   "cell_type": "markdown",
   "id": "46dfc0b5-41ad-4a05-8afc-a3932ccb7477",
   "metadata": {},
   "source": [
    "# Question 2\n",
    "-----"
   ]
  },
  {
   "cell_type": "code",
   "execution_count": 1,
   "id": "374f5055-04f0-4cc8-8a72-401748d7946b",
   "metadata": {},
   "outputs": [
    {
     "name": "stdout",
     "output_type": "stream",
     "text": [
      "mean = 4.1375\n",
      "sigma = 0.4405759217855\n"
     ]
    }
   ],
   "source": [
    "import statistics\n",
    "\n",
    "x = [3.6, 3.9, 4.5, 3.8, 4.4, 4.9, 4.2, 3.8]\n",
    "mean = statistics.mean(x)\n",
    "sigma = statistics.stdev(x)\n",
    "print(\"mean = \" + str(mean))\n",
    "print(\"sigma = \" + str(sigma))"
   ]
  },
  {
   "cell_type": "code",
   "execution_count": 2,
   "id": "772c259d-3574-439d-8477-cbaf3803fcf1",
   "metadata": {},
   "outputs": [],
   "source": [
    "from scipy.integrate import quad\n",
    "import math\n",
    "import numpy as np\n",
    "from scipy.special import gamma\n",
    "\n",
    "class T_dist:\n",
    "    def __init__(self, nu):\n",
    "        self.nu = nu\n",
    "        numerator = gamma((nu + 1) / 2)\n",
    "        denominator = np.sqrt(np.pi * nu) * gamma(nu / 2)\n",
    "        self.coefficient = numerator / denominator\n",
    "\n",
    "    def t_distribution_pdf(self, x):\n",
    "        return self.coefficient * ((1 + (x**2 / self.nu))**(-(self.nu + 1) / 2))\n",
    "\n",
    "    def integrate(self, lower_limit, upper_limit):\n",
    "        result, error = quad(self.t_distribution_pdf, lower_limit, upper_limit)\n",
    "        \n",
    "        return result\n",
    "\n",
    "    def locate(self, area):\n",
    "        fx = 0\n",
    "        x = -6\n",
    "        while fx < area:\n",
    "            fx = self.integrate(-6, x)\n",
    "            x = x + 0.00001\n",
    "            \n",
    "        return x"
   ]
  },
  {
   "cell_type": "code",
   "execution_count": 3,
   "id": "b68df2c8-d4a4-40a4-86c8-d6238352c078",
   "metadata": {},
   "outputs": [
    {
     "name": "stdout",
     "output_type": "stream",
     "text": [
      "3.59848971990368 < X < 4.676510280096321\n"
     ]
    }
   ],
   "source": [
    "nu = len(x) - 1\n",
    "t_dist = T_dist(nu)\n",
    "sigma = sigma / (math.sqrt(len(x)))\n",
    "loc_1 = t_dist.locate(0.005)\n",
    "loc_2 = -1 * loc_1\n",
    "LI = (loc_1 * sigma) + mean\n",
    "UI = (loc_2 * sigma) + mean\n",
    "print(str(LI) + \" < X < \" + str(UI))"
   ]
  },
  {
   "cell_type": "code",
   "execution_count": 4,
   "id": "501ce0a5-3140-421f-82b2-32944cfe49ee",
   "metadata": {},
   "outputs": [
    {
     "name": "stdout",
     "output_type": "stream",
     "text": [
      "b) 0.14529644576317224\n"
     ]
    }
   ],
   "source": [
    "loc_1 = t_dist.locate(0.025)\n",
    "loc_2 = -1 * loc_1\n",
    "LI = (loc_1 * sigma) + mean\n",
    "UI = (loc_2 * sigma) + mean\n",
    "W95 = UI - LI\n",
    "\n",
    "loc_1 = t_dist.locate(0.05)\n",
    "loc_2 = -1 * loc_1\n",
    "LI = (loc_1 * sigma) + mean\n",
    "UI = (loc_2 * sigma) + mean\n",
    "W90 = UI - LI\n",
    "\n",
    "b = W95 - W90\n",
    "print(\"b) \" + str(b))"
   ]
  }
 ],
 "metadata": {
  "kernelspec": {
   "display_name": "Python 3 (ipykernel)",
   "language": "python",
   "name": "python3"
  },
  "language_info": {
   "codemirror_mode": {
    "name": "ipython",
    "version": 3
   },
   "file_extension": ".py",
   "mimetype": "text/x-python",
   "name": "python",
   "nbconvert_exporter": "python",
   "pygments_lexer": "ipython3",
   "version": "3.12.1"
  }
 },
 "nbformat": 4,
 "nbformat_minor": 5
}

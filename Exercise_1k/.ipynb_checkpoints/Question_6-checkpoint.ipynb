{
 "cells": [
  {
   "cell_type": "markdown",
   "id": "08eab4af-f951-418d-a934-de0ca20e9d8b",
   "metadata": {},
   "source": [
    "# Question 6\n",
    "\n",
    "-----\n",
    "total number of components = 38 + 93 + 120 + 196 + 53\n",
    "\n",
    "total number of components = 500\n",
    "\n",
    "60th percentile = 500 * 0.6 = 300\n",
    "\n",
    "300 occurs in the range 80-84\n",
    "\n",
    "(a) An estimate for the 60th percentile is 80grams\n",
    "\n",
    "-----"
   ]
  },
  {
   "cell_type": "markdown",
   "id": "f351d96f-4103-4c8d-b108-d4f480f09c86",
   "metadata": {},
   "source": [
    "78 grams occurs in the range 75-79\n",
    "\n",
    "Assuming that this accounts for at least three quarters of the components for this range,\n",
    "\n",
    "The number of components less than 78grams can be estimated as:\n",
    "\n",
    "$ 38 + 93 + (120 * 0.75) $\n",
    "\n",
    "$ = 221 $\n",
    "\n",
    "(b) The estimated number of components less that 78 grams is = 221 "
   ]
  }
 ],
 "metadata": {
  "kernelspec": {
   "display_name": "Python 3 (ipykernel)",
   "language": "python",
   "name": "python3"
  },
  "language_info": {
   "codemirror_mode": {
    "name": "ipython",
    "version": 3
   },
   "file_extension": ".py",
   "mimetype": "text/x-python",
   "name": "python",
   "nbconvert_exporter": "python",
   "pygments_lexer": "ipython3",
   "version": "3.11.2"
  }
 },
 "nbformat": 4,
 "nbformat_minor": 5
}

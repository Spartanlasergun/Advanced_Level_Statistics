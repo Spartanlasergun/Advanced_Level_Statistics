{
 "cells": [
  {
   "cell_type": "markdown",
   "id": "59f9e38d-1cde-433f-a532-a35d27eb60e9",
   "metadata": {},
   "source": [
    "# Question Three"
   ]
  },
  {
   "cell_type": "code",
   "execution_count": 1,
   "id": "c4b05074-8e87-40d9-b9bb-795b0cc56c54",
   "metadata": {
    "tags": []
   },
   "outputs": [
    {
     "name": "stdout",
     "output_type": "stream",
     "text": [
      "mean = 7.5\n",
      "std = 1.5\n"
     ]
    }
   ],
   "source": [
    "import math\n",
    "\n",
    "n = 30\n",
    "Ex = 225\n",
    "Ex_sq = 1755\n",
    "\n",
    "mean = Ex / n\n",
    "std = math.sqrt((Ex_sq/n) - pow(mean, 2))\n",
    "\n",
    "print(\"mean = \" + str(mean))\n",
    "print(\"std = \" + str(std))"
   ]
  },
  {
   "cell_type": "markdown",
   "id": "36f3d42f-cf53-494a-9bbe-4d77ac39c7a1",
   "metadata": {},
   "source": [
    "The mean would remain unchanged, as the deviation from the mean for both newcomers is equal in both directions. The standard deviation of the dataset will increase, as the dataset becomes larger."
   ]
  }
 ],
 "metadata": {
  "kernelspec": {
   "display_name": "Python 3 (ipykernel)",
   "language": "python",
   "name": "python3"
  },
  "language_info": {
   "codemirror_mode": {
    "name": "ipython",
    "version": 3
   },
   "file_extension": ".py",
   "mimetype": "text/x-python",
   "name": "python",
   "nbconvert_exporter": "python",
   "pygments_lexer": "ipython3",
   "version": "3.11.2"
  }
 },
 "nbformat": 4,
 "nbformat_minor": 5
}

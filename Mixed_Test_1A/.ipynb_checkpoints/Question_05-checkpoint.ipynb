{
 "cells": [
  {
   "cell_type": "markdown",
   "id": "f8747082-3326-4fe4-b0d1-dd2705d14aff",
   "metadata": {},
   "source": [
    "# Question Five"
   ]
  },
  {
   "cell_type": "markdown",
   "id": "4f34219e-beec-4829-9c10-885750f35158",
   "metadata": {},
   "source": [
    "(a) Histogram\n",
    "\n",
    "(b) These are estimates because in grouped data, the precise values are lost."
   ]
  },
  {
   "cell_type": "code",
   "execution_count": 2,
   "id": "162f2e6f-3b57-47df-a2a6-bbdc71fe8ee4",
   "metadata": {
    "tags": []
   },
   "outputs": [
    {
     "name": "stdout",
     "output_type": "stream",
     "text": [
      "estimated median = 71.55050505050505\n",
      "estimated interquartile range = 9.717171717171723\n"
     ]
    }
   ],
   "source": [
    "from scipy.interpolate import interp1d\n",
    "import numpy as np\n",
    "\n",
    "freq = [4, 13, 26, 22, 10]\n",
    "cum_freq = [0, 4, 17, 33, 55, 65]\n",
    "boundaries = [49.5, 60.5, 65.5, 70.5, 75.5, 86.5]\n",
    "\n",
    "x = np.linspace(49.5, 86.5, 100)\n",
    "function = interp1d(boundaries, cum_freq, kind='quadratic')\n",
    "y = function(x)\n",
    "\n",
    "x_list = x.tolist()\n",
    "y_list = y.tolist()\n",
    "\n",
    "for item in y_list:\n",
    "    if item <= (sum(freq) * 0.5):\n",
    "        median_index = y_list.index(item)\n",
    "median = x_list[median_index]\n",
    "print(\"estimated median = \" + str(median))\n",
    "\n",
    "for item in y_list:\n",
    "    if item <= (sum(freq) * 0.75):\n",
    "        upper_index = y_list.index(item)\n",
    "upper_quartile = x_list[upper_index]\n",
    "\n",
    "for item in y_list:\n",
    "    if item <= (sum(freq) * 0.25):\n",
    "        lower_index = y_list.index(item)\n",
    "lower_quartile = x_list[lower_index]\n",
    "\n",
    "intq_range = upper_quartile - lower_quartile\n",
    "print(\"estimated interquartile range = \" + str(intq_range))"
   ]
  },
  {
   "cell_type": "markdown",
   "id": "9f554b8b-c740-469a-9873-b08f5dfaa5bf",
   "metadata": {},
   "source": [
    "(d) Median - no change, Interquartile Range - no change, Mean - increased."
   ]
  }
 ],
 "metadata": {
  "kernelspec": {
   "display_name": "Python 3 (ipykernel)",
   "language": "python",
   "name": "python3"
  },
  "language_info": {
   "codemirror_mode": {
    "name": "ipython",
    "version": 3
   },
   "file_extension": ".py",
   "mimetype": "text/x-python",
   "name": "python",
   "nbconvert_exporter": "python",
   "pygments_lexer": "ipython3",
   "version": "3.11.2"
  }
 },
 "nbformat": 4,
 "nbformat_minor": 5
}

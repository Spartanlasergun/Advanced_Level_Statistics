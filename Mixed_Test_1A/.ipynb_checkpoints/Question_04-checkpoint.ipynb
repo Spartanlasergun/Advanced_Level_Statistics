{
 "cells": [
  {
   "cell_type": "markdown",
   "id": "26f5299f-582d-42b4-a414-dc3dd577a55f",
   "metadata": {},
   "source": [
    "# Question Four"
   ]
  },
  {
   "cell_type": "markdown",
   "id": "8fc7b787-1c71-45b4-9d2b-f285d2d50392",
   "metadata": {},
   "source": [
    "(a) Pie Chart\n",
    "\n",
    "(b) Children are likely in school on a Monday morning"
   ]
  },
  {
   "cell_type": "code",
   "execution_count": 1,
   "id": "5c05ed27-c3cd-47ce-bb43-4c61277d78db",
   "metadata": {
    "tags": []
   },
   "outputs": [
    {
     "data": {
      "image/png": "[encoded data removed]",
      "text/plain": [
       "<Figure size 640x480 with 1 Axes>"
      ]
     },
     "metadata": {},
     "output_type": "display_data"
    }
   ],
   "source": [
    "import matplotlib.pyplot as plt\n",
    "\n",
    "midpoints = [3, 8, 13, 20.5, 35.5]\n",
    "freq = [18, 32, 22, 14, 14]\n",
    "raw_data = []\n",
    "index = 0\n",
    "\n",
    "for item in freq:\n",
    "    count = item\n",
    "    while count != 0:\n",
    "        raw_data.append(midpoints[index])\n",
    "        count = count - 1\n",
    "    index = index + 1\n",
    "\n",
    "plt.hist(raw_data, bins=[0.5, 5.5, 10.5, 15.5, 25.5, 45], edgecolor='black')\n",
    "plt.show()"
   ]
  },
  {
   "cell_type": "code",
   "execution_count": 2,
   "id": "7eac96f4-ccb4-4b41-8a45-154aecc538a2",
   "metadata": {
    "tags": []
   },
   "outputs": [
    {
     "name": "stdout",
     "output_type": "stream",
     "text": [
      "estimated mean = 13.8\n",
      "estimated std = 10.203430795570673\n"
     ]
    }
   ],
   "source": [
    "import statistics\n",
    "\n",
    "mean = statistics.mean(raw_data)\n",
    "std = statistics.pstdev(raw_data)\n",
    "\n",
    "print(\"estimated mean = \" + str(mean))\n",
    "print(\"estimated std = \" + str(std))"
   ]
  },
  {
   "cell_type": "markdown",
   "id": "30166f45-6891-4cf1-a6b3-a4371d92710c",
   "metadata": {},
   "source": [
    "If only one sentence had more than 25 words, we can improve the estimate of the mean by accounting for the outlier:\n",
    "\n",
    "$ n = 100 $\n",
    "\n",
    "$ \\bar x = 9.145 $\n",
    "\n",
    "$$ \\frac{\\Sigma x}{100} = 9.145 $$\n",
    "\n",
    "$$ \\Sigma x = 914.5 $$\n",
    "\n",
    "Accounting for the outlier with a value of 32:\n",
    "\n",
    "$$ \\frac{\\Sigma x - 35.5 + 32}{n} $$\n",
    "\n",
    "$$ \\frac{911}{100} = 9.11 $$\n",
    "\n",
    "An improved estimate for the mean is 9.11"
   ]
  }
 ],
 "metadata": {
  "kernelspec": {
   "display_name": "Python 3 (ipykernel)",
   "language": "python",
   "name": "python3"
  },
  "language_info": {
   "codemirror_mode": {
    "name": "ipython",
    "version": 3
   },
   "file_extension": ".py",
   "mimetype": "text/x-python",
   "name": "python",
   "nbconvert_exporter": "python",
   "pygments_lexer": "ipython3",
   "version": "3.11.2"
  }
 },
 "nbformat": 4,
 "nbformat_minor": 5
}

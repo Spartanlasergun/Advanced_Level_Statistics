{
 "cells": [
  {
   "cell_type": "markdown",
   "id": "272ad952-c8de-434d-85e0-76f1ee9660e3",
   "metadata": {},
   "source": [
    "# Question 2\n",
    "-----"
   ]
  },
  {
   "cell_type": "markdown",
   "id": "59fd4c74-26b5-44c7-85ee-88cb2b116c13",
   "metadata": {},
   "source": [
    "a)\n",
    "\n",
    "$$f(x) = 1 - \\frac{x}{4}$$\n",
    "\n",
    "$$F(x) = \\int_{1}^{t} 1 - \\frac{x}{4} \\ dx$$\n",
    "\n",
    "$$F(x) = [x - \\frac{x^2}{8}]_{1}^{t}$$\n",
    "\n",
    "$$F(x) = (t - \\frac{t^2}{8}) - (1 - \\frac{1}{8})$$\n",
    "\n",
    "$$F(x) = t - \\frac{t^2}{8} - \\frac{7}{8}$$\n",
    "\n",
    "-----\n",
    "b)\n",
    "\n",
    "$$P(1.5 < X < 2) = \\int_{1.5}^{2} 1 - \\frac{x}{4} \\ dx $$\n",
    "\n",
    "$$P(1.5 < X < 2) = [x - \\frac{x^2}{8}]_{1.5}^{2}$$\n",
    "\n",
    "$$P(1.5 < X < 2) = (2 - 0.5) - (1.5 - 0.28125)$$\n",
    "\n",
    "$$P(1.5 < X < 2) = 0.28125$$"
   ]
  }
 ],
 "metadata": {
  "kernelspec": {
   "display_name": "Python 3 (ipykernel)",
   "language": "python",
   "name": "python3"
  },
  "language_info": {
   "codemirror_mode": {
    "name": "ipython",
    "version": 3
   },
   "file_extension": ".py",
   "mimetype": "text/x-python",
   "name": "python",
   "nbconvert_exporter": "python",
   "pygments_lexer": "ipython3",
   "version": "3.12.1"
  }
 },
 "nbformat": 4,
 "nbformat_minor": 5
}

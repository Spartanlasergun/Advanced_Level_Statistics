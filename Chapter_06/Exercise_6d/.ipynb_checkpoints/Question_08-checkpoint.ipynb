{
 "cells": [
  {
   "cell_type": "markdown",
   "id": "a9b660b0-6ded-48e6-ad85-2337b340fbf7",
   "metadata": {},
   "source": [
    "# Question 8\n",
    "-----"
   ]
  },
  {
   "cell_type": "markdown",
   "id": "dd7d2491-90c4-4f26-8939-28febec0e089",
   "metadata": {},
   "source": [
    "$$f(x) = 4k - kx^2$$\n",
    "\n",
    "$$\\int_{0}^{2} 4k - kx^2 \\ dx = 1$$\n",
    "\n",
    "$$[4kx - \\frac{kx^3}{3}]_{0}^{2} = 1$$\n",
    "\n",
    "$$8k - \\frac{8k}{3} = 1$$\n",
    "\n",
    "$$24k - 8k = 3$$\n",
    "\n",
    "$$k = \\frac{3}{16}$$\n",
    "\n",
    "-----\n",
    "$$xf(x) = 0.75x - \\frac{3x^3}{16}$$\n",
    "\n",
    "$$E(X) = \\int_{0}^{2} 0.75x - \\frac{3x^3}{16}$$\n",
    "\n",
    "$$E(X) = [0.375x^2 - \\frac{3x^4}{64}]_{0}^{2}$$\n",
    "\n",
    "$$E(X) = 1.5 - 0.75$$\n",
    "\n",
    "$$E(X) = 0.75$$\n",
    "\n",
    "----\n",
    "$$x^2f(x) = 0.75x^2 - \\frac{3x^4}{16}$$\n",
    "\n",
    "$$E(X^2) = \\int_{0}^{2} 0.75x^2 - \\frac{3x^4}{16} \\ dx$$\n",
    "\n",
    "$$E(X^2) = [0.25x^3 - \\frac{3x^5}{80}]_{0}^{2}$$\n",
    "\n",
    "$$E(X^2) = 2 - 1.2$$\n",
    "\n",
    "$$E(X^2) = 0.8$$\n",
    "\n",
    "$$Var(X) = E(X^2) - (E(X))^2$$\n",
    "\n",
    "$$Var(X) = 0.8 - (0.75^2)$$\n",
    "\n",
    "$$Var(X) = 0.2375$$\n",
    "\n",
    "-----\n",
    "$$f(x) = 0.75 - \\frac{3x^2}{16}$$\n",
    "\n",
    "$$F(x) = 0.75x - \\frac{x^3}{16}$$\n",
    "\n",
    "-----\n",
    "$$F(0.695) = (0.75 * 0.695) - \\frac{0.695^3}{16}$$\n",
    "\n",
    "$$F(0.695) = 0.5$$\n",
    "\n",
    "-----\n",
    "$$P(0.69 < X < 0.7) = \\int_{0.69}^{0.7} 0.75 - \\frac{3x^2}{16} \\ dx$$\n",
    "\n",
    "$$P(0.69 < X < 0.7) = [0.75x - \\frac{x^3}{16}]_{0.69}^{0.7}$$\n",
    "\n",
    "$$P(0.69 < X < 0.7) = 0.5036 - 0.497$$\n",
    "\n",
    "$$P(0.69 < X < 0.7) = 0.0066$$"
   ]
  }
 ],
 "metadata": {
  "kernelspec": {
   "display_name": "Python 3 (ipykernel)",
   "language": "python",
   "name": "python3"
  },
  "language_info": {
   "codemirror_mode": {
    "name": "ipython",
    "version": 3
   },
   "file_extension": ".py",
   "mimetype": "text/x-python",
   "name": "python",
   "nbconvert_exporter": "python",
   "pygments_lexer": "ipython3",
   "version": "3.12.1"
  }
 },
 "nbformat": 4,
 "nbformat_minor": 5
}

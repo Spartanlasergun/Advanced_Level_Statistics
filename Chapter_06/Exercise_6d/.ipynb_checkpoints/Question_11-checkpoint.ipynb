{
 "cells": [
  {
   "cell_type": "markdown",
   "id": "494c5c2c-2e5d-418b-b068-f458eb3d8277",
   "metadata": {},
   "source": [
    "# Question 11\n",
    "-----"
   ]
  },
  {
   "cell_type": "markdown",
   "id": "b46d8e65-952b-4f03-860e-e8181698fd2c",
   "metadata": {},
   "source": [
    "a)\n",
    "\n",
    "$$f(x) = k(1 - x)^4$$\n",
    "\n",
    "$$f(x) = k(1 - 2x + x^2)(1 - 2x + x^2)$$\n",
    "\n",
    "$$f(x) = k(1 - 2x + x^2 - 2x + 4x^2 - 2x^3 + x^2 - 2x^3 + x^4)$$\n",
    "\n",
    "$$f(x) = k(1 - 4x + 6x^2 - 4x^3 + x^4)$$\n",
    "\n",
    "$$f(x) = k - 4kx + 6kx^2 - 4kx^3 + kx^4$$\n",
    "\n",
    "$$\\int_{0}^{1} k - 4kx + 6kx^2 - 4kx^3 + kx^4 \\ dx = 1$$\n",
    "\n",
    "$$[kx - 2kx^2 + 2kx^3 - kx^4 + \\frac{kx^5}{5}]_{0}^{1} = 1$$\n",
    "\n",
    "$$(k - 2k + 2k - k + 0.2k = 1$$\n",
    "\n",
    "$$0.2k= 1$$\n",
    "\n",
    "$$k = 5$$\n",
    "\n",
    "-----\n",
    "b)\n",
    "\n",
    "$$f(x) = 5 - 20x + 30x^2 - 20x^3 + 5x^4$$\n",
    "\n",
    "$$xf(x) = 5x - 20x^2 + 30x^3 - 20x^4 + 5x^5$$\n",
    "\n",
    "$$E(X) = \\int_{0}^{1} 5x - 20x^2 + 30x^3 - 20x^4 + 5x^5 \\ dx$$\n",
    "\n",
    "$$E(X) = [2.5x^2 - \\frac{20x^3}{3} + 7.5x^4 - 4x^5 + \\frac{5x^6}{6}]_{0}^{1}$$\n",
    "\n",
    "$$E(X) = (2.5 - \\frac{20}{3} + 7.5 - 4 + \\frac{5}{6})$$\n",
    "\n",
    "$$E(X) = 0.1666667$$\n",
    "\n",
    "-----\n",
    "c)\n",
    "\n",
    "$$x^2f(x) = 5x^2 - 20x^3 + 30x^4 - 20x^5 + 5x^6$$\n",
    "\n",
    "$$E(X^2) = \\int_{0}^{1} 5x^2 - 20x^3 + 30x^4 - 20x^5 + 5x^6 \\ dx$$\n",
    "\n",
    "$$E(X^2) = [\\frac{5x^3}{3} - 5x^4 + 6x^5 - \\frac{20x^6}{6} + \\frac{5x^7}{7}]_{0}^{1}$$\n",
    "\n",
    "$$E(X^2) = (\\frac{5}{3}) - 5 + 6 - \\frac{20}{6} + \\frac{5}{7}$$\n",
    "\n",
    "$$E(X^2) = 0.0476$$\n",
    "\n",
    "$$Var(X) = E(X^2) - (E(X))^2$$\n",
    "\n",
    "$$Var(X) = 0.0476 - (0.1666667^2)$$\n",
    "\n",
    "$$Var(X) = 0.0198$$"
   ]
  },
  {
   "cell_type": "code",
   "execution_count": 17,
   "id": "d90c849b-9e0c-4d6a-aebe-1bdf52c9e474",
   "metadata": {},
   "outputs": [
    {
     "data": {
      "image/png": "[encoded data removed]",
      "text/plain": [
       "<Figure size 640x480 with 1 Axes>"
      ]
     },
     "metadata": {},
     "output_type": "display_data"
    }
   ],
   "source": [
    "import matplotlib.pyplot as plt\n",
    "import numpy as np\n",
    "\n",
    "x = np.arange(0, 1.01, 0.01)\n",
    "y = []\n",
    "for item in x:\n",
    "    fx = (1 - (4 * item) + (6 * pow(item, 2)) - (4 * pow(item, 3)) + pow(item, 4)) * 5\n",
    "    y.append(fx)\n",
    "\n",
    "plt.plot(x, y)\n",
    "plt.show()"
   ]
  },
  {
   "cell_type": "markdown",
   "id": "a05f7044-c469-4364-bb27-d599ab64c067",
   "metadata": {},
   "source": [
    "Since the questions asks for a solution to a fifth degree polynomial, an exhaustive technique was used."
   ]
  },
  {
   "cell_type": "code",
   "execution_count": 33,
   "id": "bef111b5-2732-4f61-89e1-fa2e8e929974",
   "metadata": {},
   "outputs": [
    {
     "name": "stdout",
     "output_type": "stream",
     "text": [
      "0.5440000000000004\n"
     ]
    }
   ],
   "source": [
    "x = 0\n",
    "fx = 0\n",
    "while fx < 0.98:\n",
    "    fx = (5 * x) - (10 * pow(x, 2)) + (10 * pow(x, 3)) - (5 * pow(x, 4)) + pow(x, 5)\n",
    "    x = x + 0.001\n",
    "print(x)"
   ]
  },
  {
   "cell_type": "markdown",
   "id": "8414e971-c97b-4b31-a730-d4bbb28c9099",
   "metadata": {},
   "source": [
    "Hence, approximately 544 tonnes are needed"
   ]
  }
 ],
 "metadata": {
  "kernelspec": {
   "display_name": "Python 3 (ipykernel)",
   "language": "python",
   "name": "python3"
  },
  "language_info": {
   "codemirror_mode": {
    "name": "ipython",
    "version": 3
   },
   "file_extension": ".py",
   "mimetype": "text/x-python",
   "name": "python",
   "nbconvert_exporter": "python",
   "pygments_lexer": "ipython3",
   "version": "3.12.1"
  }
 },
 "nbformat": 4,
 "nbformat_minor": 5
}

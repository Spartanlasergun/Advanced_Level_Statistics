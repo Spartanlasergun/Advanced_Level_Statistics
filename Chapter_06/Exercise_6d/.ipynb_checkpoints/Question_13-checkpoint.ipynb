{
 "cells": [
  {
   "cell_type": "markdown",
   "id": "e454566b-d995-4010-b88f-be75a8170b06",
   "metadata": {},
   "source": [
    "# Question 13\n",
    "-----"
   ]
  },
  {
   "cell_type": "markdown",
   "id": "4b1f67d8-d5a8-46c3-868f-dd68c19a41b5",
   "metadata": {},
   "source": [
    "a)\n",
    "\n",
    "$$f(x) = kx + 3k$$\n",
    "\n",
    "$$\\int_{-3}^{3} kx + 3k \\ dx = 1$$\n",
    "\n",
    "$$[\\frac{kx^2}{2} + 3kx]_{-3}^{3} = 1$$\n",
    "\n",
    "$$(4.5k + 9k) - (4.5k - 9k) = 1$$\n",
    "\n",
    "$$18k = 1$$\n",
    "\n",
    "$$k = \\frac{1}{18}$$\n",
    "\n",
    "-----\n",
    "b)\n",
    "\n",
    "$$xf(x) = \\frac{x^2}{18} + \\frac{x}{9}$$\n",
    "\n",
    "$$E(X) = \\int_{-3}^{3} \\frac{x^2}{18} + \\frac{x}{9} \\ dx$$\n",
    "\n",
    "$$E(X) = [\\frac{x^3}{54} + \\frac{x^2}{18}]_{-3}^{3}$$\n",
    "\n",
    "$$E(X) = (0.5 + 0.5) - (-0.5 + 0.5)$$\n",
    "\n",
    "$$E(X) = 1$$\n",
    "\n",
    "$$x^2f(x) = \\frac{x^3}{18} + \\frac{x^2}{9}$$\n",
    "\n",
    "$$E(X^2) = \\int_{-3}^{3} \\frac{x^3}{18} + \\frac{x^2}{9} \\ dx$$\n",
    "\n",
    "$$E(X^2) = [\\frac{x^4}{72} + \\frac{x^3}{27}]_{-3}^{3}$$\n",
    "\n",
    "$$E(X^2) = (1.125 + 1) - (1.125 - 1)$$\n",
    "\n",
    "$$E(X^2) = 2$$\n",
    "\n",
    "$$Var(X) = E(X^2) - (E(X))^2$$\n",
    "\n",
    "$$Var(X) = 2 - 1^2$$\n",
    "\n",
    "$$Var(X) = 1$$\n",
    "\n",
    "-----\n",
    "c)\n",
    "$$f(x) = \\frac{x}{18} + \\frac{1}{9}$$\n",
    "\n",
    "$$F(x) = \\frac{x^2}{36} + \\frac{x}{9}$$\n",
    "\n",
    "at the lower quartile,\n",
    "\n",
    "$$\\frac{x^2}{36} + \\frac{x}{9} = 0.25$$\n",
    "\n",
    "$$x^2 + 4x = 9$$\n",
    "\n",
    "$$x^2 + 4x - 9 = 0$$\n",
    "\n",
    "$$a = 1, \\ \\ b = 4, \\ \\ c = -9$$\n",
    "\n",
    "$$x = \\frac{-4 \\pm \\sqrt{16 - (4 * -9)}}{2}$$\n",
    "\n",
    "$$x = \\frac{-4 \\pm \\sqrt{52}}{2}$$\n",
    "\n",
    "$$x = 1.61, \\ \\ -5.61$$\n",
    "\n",
    "hence, the lower quartle = 1.61"
   ]
  },
  {
   "cell_type": "markdown",
   "id": "ab5d5239-a412-4bc7-a05b-089281b710fb",
   "metadata": {},
   "source": [
    "rest of question omitted due to potential errors"
   ]
  }
 ],
 "metadata": {
  "kernelspec": {
   "display_name": "Python 3 (ipykernel)",
   "language": "python",
   "name": "python3"
  },
  "language_info": {
   "codemirror_mode": {
    "name": "ipython",
    "version": 3
   },
   "file_extension": ".py",
   "mimetype": "text/x-python",
   "name": "python",
   "nbconvert_exporter": "python",
   "pygments_lexer": "ipython3",
   "version": "3.12.1"
  }
 },
 "nbformat": 4,
 "nbformat_minor": 5
}

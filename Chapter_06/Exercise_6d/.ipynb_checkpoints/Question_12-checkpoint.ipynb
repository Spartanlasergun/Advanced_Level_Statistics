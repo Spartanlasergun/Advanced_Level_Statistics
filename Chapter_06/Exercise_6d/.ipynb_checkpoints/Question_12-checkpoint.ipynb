{
 "cells": [
  {
   "cell_type": "markdown",
   "id": "4be7e2a9-6a19-4739-9c62-d8cd96210730",
   "metadata": {},
   "source": [
    "# Question 12\n",
    "-----"
   ]
  },
  {
   "cell_type": "markdown",
   "id": "6cacab60-d846-46bd-8994-3a8fdd515f16",
   "metadata": {},
   "source": [
    "$$f(x) = 0.25, \\ \\ \\ for, \\ \\ 0 \\le x \\le 1$$\n",
    "\n",
    "$$F(x) = 0.25x, \\ \\ \\ for, \\ \\ 0 \\le x \\le 1$$\n",
    "\n",
    "$$f(x) = 0.2x^3, \\ \\ \\ for, \\ \\ 1 \\le x \\le 2$$\n",
    "\n",
    "$$F(x) = \\int_{1}^{2} 0.2x^3 \\ dx for, \\ \\ 1 \\le x \\le 2$$\n",
    "\n",
    "$$F(x) = 0.05x^4 + C$$\n",
    "\n",
    "Since the lower boundary is known,\n",
    "\n",
    "$$0.05(1)^4 + C = 0.25$$\n",
    "\n",
    "$$C = 0.25 - 0.05$$\n",
    "\n",
    "$$C = 0.2$$\n",
    "\n",
    "$$F(x) = 0.05x^4 + 0.2, \\ \\ \\ for, \\ \\ 1 \\le x \\le 2$$\n",
    "\n",
    "-----\n",
    "\n",
    "$$0.05x^4 + 0.2 = 0.5$$\n",
    "\n",
    "$$x^4 = 6$$\n",
    "\n",
    "$$x = 1.565$$\n",
    "\n",
    "hence, $median = 1.565$\n",
    "\n",
    "-----\n",
    "\n",
    "$$0.25x = 0.25$$\n",
    "\n",
    "$$x = 1$$\n",
    "\n",
    "hence, $lower \\ quartile = 1$\n",
    "\n",
    "$$0.05x^4 + 0.2 = 0.75$$\n",
    "\n",
    "$$x^4 = 11$$\n",
    "\n",
    "$$x = 1.82$$\n",
    "\n",
    "hence, $upper \\ quartile = 1.82$\n",
    "\n",
    "$$interquartile  \\ \\ range = 1.82 - 1$$\n",
    "\n",
    "$$interquartile \\ \\ range = 0.82$$"
   ]
  }
 ],
 "metadata": {
  "kernelspec": {
   "display_name": "Python 3 (ipykernel)",
   "language": "python",
   "name": "python3"
  },
  "language_info": {
   "codemirror_mode": {
    "name": "ipython",
    "version": 3
   },
   "file_extension": ".py",
   "mimetype": "text/x-python",
   "name": "python",
   "nbconvert_exporter": "python",
   "pygments_lexer": "ipython3",
   "version": "3.12.1"
  }
 },
 "nbformat": 4,
 "nbformat_minor": 5
}

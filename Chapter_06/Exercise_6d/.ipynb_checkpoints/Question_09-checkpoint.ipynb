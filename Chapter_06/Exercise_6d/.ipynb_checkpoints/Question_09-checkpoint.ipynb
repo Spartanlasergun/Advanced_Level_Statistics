{
 "cells": [
  {
   "cell_type": "markdown",
   "id": "57291ede-c33b-4799-bb57-fca98db1641b",
   "metadata": {},
   "source": [
    "# Question 9\n",
    "-----"
   ]
  },
  {
   "cell_type": "markdown",
   "id": "2b525acc-8369-468e-acd6-ea7832af3c96",
   "metadata": {},
   "source": [
    "All functions are linear, hence $\\alpha$ occurs at the maximum point on $\\frac{x}{3} - \\frac{2}{3}$\n",
    "\n",
    "$$\\alpha = \\frac{3}{3} - \\frac{2}{3}$$\n",
    "\n",
    "$\\beta$ begins at $\\alpha$, hence,\n",
    "\n",
    "$$\\frac{1}{3} = 2 - 5\\beta$$\n",
    "\n",
    "$$1 = 6 - 15\\beta$$\n",
    "\n",
    "$$15\\beta = 5$$\n",
    "\n",
    "$$\\beta = \\frac{1}{3}$$"
   ]
  },
  {
   "cell_type": "markdown",
   "id": "cbeec5c9-5688-4e22-b9b5-68a8bfbc7120",
   "metadata": {},
   "source": [
    "$$f(x) = \\frac{x}{3} - \\frac{2}{3}$$\n",
    "\n",
    "$$F(x) = \\frac{x^2}{6} - \\frac{2x}{3}, \\ \\ \\ for \\ 2 \\le x \\le 3$$\n",
    "\n",
    "$$f(x) = \\frac{1}{3}$$\n",
    "\n",
    "$$F(x) = \\frac{x}{3}, \\ \\ \\ for \\ 3 \\le x \\le 5$$\n",
    "\n",
    "$$f(x) = 2 - \\frac{x}{3}$$\n",
    "\n",
    "$$F(x) = 2x - \\frac{x^2}{6}, \\ \\ \\ for \\ 5 \\le x \\le 6$$"
   ]
  },
  {
   "cell_type": "code",
   "execution_count": 1,
   "id": "7cb48a12-a78b-48df-8f04-b3f8fd6d717b",
   "metadata": {},
   "outputs": [
    {
     "data": {
      "image/png": "[encoded data removed]",
      "text/plain": [
       "<Figure size 640x480 with 1 Axes>"
      ]
     },
     "metadata": {},
     "output_type": "display_data"
    }
   ],
   "source": [
    "import matplotlib.pyplot as plt\n",
    "import numpy as np\n",
    "\n",
    "x = np.arange(2, 3.1, 0.1)\n",
    "y = []\n",
    "for item in x:\n",
    "    fx = (pow(item, 2) / 6) - ((2 * item) / 3)\n",
    "    y.append(fx)\n",
    "\n",
    "x_1 = np.arange(3, 5.1, 0.1)\n",
    "y_1 = []\n",
    "for item in x_1:\n",
    "    fx = item / 3\n",
    "    y_1.append(fx)\n",
    "\n",
    "x_2 = np.arange(5, 6.1, 0.1)\n",
    "y_2 = []\n",
    "for item in x_2:\n",
    "    fx = (2 * item) - (pow(item, 2) / 6)\n",
    "    y_2.append(fx)\n",
    "\n",
    "plt.plot(x, y)\n",
    "plt.plot(x_1, y_1)\n",
    "plt.plot(x_2, y_2)\n",
    "plt.show()"
   ]
  },
  {
   "cell_type": "markdown",
   "id": "2f33eff4-4f9a-4e01-b971-80aa06275104",
   "metadata": {},
   "source": [
    "c)\n",
    "\n",
    "$$P(2 \\le X \\le 3.5) = [\\frac{x^2}{6} - \\frac{2x}{3}]_{2}^{3} + [\\frac{x}{3}]_{3}^{3.5}$$\n",
    "\n",
    "$$P(2 \\le X \\le 3.5) = \\frac{1}{6} + \\frac{1}{6}$$\n",
    "\n",
    "$$P(2 \\le X \\le 3.5) = \\frac{1}{3}$$\n",
    "\n",
    "-----\n",
    "d)\n",
    "$$P(X \\ge 5.5) = [2x - \\frac{x^2}{6}]_{5.5}^{6}$$\n",
    "\n",
    "$$P(X \\ge 5.5) = (12 - 6) - (11 - 5.0416666)$$\n",
    "\n",
    "$$P(X \\ge 5.5) = 0.041667$$"
   ]
  }
 ],
 "metadata": {
  "kernelspec": {
   "display_name": "Python 3 (ipykernel)",
   "language": "python",
   "name": "python3"
  },
  "language_info": {
   "codemirror_mode": {
    "name": "ipython",
    "version": 3
   },
   "file_extension": ".py",
   "mimetype": "text/x-python",
   "name": "python",
   "nbconvert_exporter": "python",
   "pygments_lexer": "ipython3",
   "version": "3.12.1"
  }
 },
 "nbformat": 4,
 "nbformat_minor": 5
}

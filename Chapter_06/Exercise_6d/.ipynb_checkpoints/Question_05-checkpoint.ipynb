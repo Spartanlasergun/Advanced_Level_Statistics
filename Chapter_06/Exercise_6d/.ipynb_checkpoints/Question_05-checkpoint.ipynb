{
 "cells": [
  {
   "cell_type": "markdown",
   "id": "8d0c21af-0035-43e7-8d39-4be46047a83b",
   "metadata": {},
   "source": [
    "# Question 5\n",
    "-----"
   ]
  },
  {
   "cell_type": "markdown",
   "id": "540cc7ad-9502-4b6e-8705-4844088a4b0b",
   "metadata": {},
   "source": [
    "a)\n",
    "\n",
    "$$F(x) = x^4$$\n",
    "\n",
    "$$p.d.f = 4x^3$$\n",
    "\n",
    "$$P(0.3 < X < 0.6) = \\int_{0.3}^{0.6} 4x^3 \\ dx$$\n",
    "\n",
    "$$P(0.3 < X < 0.6) = [x^4]_{0.3}^{0.6}$$\n",
    "\n",
    "$$P(0.3 < X < 0.6) = 0.1215$$\n",
    "\n",
    "-----\n",
    "b)\n",
    "\n",
    "$$x^4 = 0.5$$\n",
    "\n",
    "$$x = 0.841$$\n",
    "\n",
    "Hence, median = 0.841\n",
    "\n",
    "-----\n",
    "c)\n",
    "\n",
    "$$P(X > a) = 0.4$$\n",
    "\n",
    "$$\\int_{a}^{1} 4x^3 \\ dx = 0.4$$\n",
    "\n",
    "$$[x^4]_{a}^{1} = 0.4$$\n",
    "\n",
    "$$1 - a^4 = 0.4$$\n",
    "\n",
    "$$a^4 = 0.6$$\n",
    "\n",
    "$$a = 0.880$$"
   ]
  }
 ],
 "metadata": {
  "kernelspec": {
   "display_name": "Python 3 (ipykernel)",
   "language": "python",
   "name": "python3"
  },
  "language_info": {
   "codemirror_mode": {
    "name": "ipython",
    "version": 3
   },
   "file_extension": ".py",
   "mimetype": "text/x-python",
   "name": "python",
   "nbconvert_exporter": "python",
   "pygments_lexer": "ipython3",
   "version": "3.12.1"
  }
 },
 "nbformat": 4,
 "nbformat_minor": 5
}

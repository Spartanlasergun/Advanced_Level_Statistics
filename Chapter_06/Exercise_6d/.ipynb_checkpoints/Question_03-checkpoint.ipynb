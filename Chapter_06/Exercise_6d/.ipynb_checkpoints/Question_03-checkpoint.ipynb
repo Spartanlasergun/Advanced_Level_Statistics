{
 "cells": [
  {
   "cell_type": "markdown",
   "id": "0724d4f6-29a5-4794-bd1a-7278a0717876",
   "metadata": {},
   "source": [
    "# Question 3\n",
    "-----"
   ]
  },
  {
   "cell_type": "markdown",
   "id": "6fe76b98-1459-4c01-8ad7-484e6fd521cf",
   "metadata": {},
   "source": [
    "a)\n",
    "\n",
    "$$f(x) = k$$\n",
    "\n",
    "$$\\int_{1}^{6} k \\ dx = 1$$\n",
    "\n",
    "$$[kx]_{1}^{6} = 1$$\n",
    "\n",
    "$$6k - k = 1$$\n",
    "\n",
    "$$5k = 1$$\n",
    "\n",
    "$$k = 0.2$$\n",
    "\n",
    "-----\n",
    "b)\n",
    "\n",
    "$$F(x) = \\int_{1}^{t} 0.2 \\ dx$$\n",
    "\n",
    "$$F(x) = [0.2x]_{1}^{t}$$\n",
    "\n",
    "$$F(x) = 0.2t - 0.2$$\n",
    "\n",
    "-----\n",
    "c)\n",
    "\n",
    "for the 20th percentile,\n",
    "\n",
    "$$0.2t - 0.2 = 0.2$$\n",
    "\n",
    "$$0.2t = 0.4$$\n",
    "\n",
    "$$t = 2$$\n",
    "\n",
    "Hence the 20th percentile = 2\n",
    "\n",
    "-----\n",
    "d)\n",
    "\n",
    "for the upper quartile,\n",
    "\n",
    "$$0.2t - 0.2 = 0.75$$\n",
    "\n",
    "$$0.2t = 0.95$$\n",
    "\n",
    "$$t = 4.75$4\n",
    "\n",
    "for the lower quartile,\n",
    "\n",
    "$$0.2t - 0.2 = 0.25$$\n",
    "\n",
    "$$0.2t = 0.45$$\n",
    "\n",
    "$$t = 2.25$$\n",
    "\n",
    "Hence,\n",
    "\n",
    "$$interquartile \\ \\ range = 4.75 - 2.25$$\n",
    "\n",
    "$$interquartile \\ \\ range = 2.5$$"
   ]
  }
 ],
 "metadata": {
  "kernelspec": {
   "display_name": "Python 3 (ipykernel)",
   "language": "python",
   "name": "python3"
  },
  "language_info": {
   "codemirror_mode": {
    "name": "ipython",
    "version": 3
   },
   "file_extension": ".py",
   "mimetype": "text/x-python",
   "name": "python",
   "nbconvert_exporter": "python",
   "pygments_lexer": "ipython3",
   "version": "3.12.1"
  }
 },
 "nbformat": 4,
 "nbformat_minor": 5
}

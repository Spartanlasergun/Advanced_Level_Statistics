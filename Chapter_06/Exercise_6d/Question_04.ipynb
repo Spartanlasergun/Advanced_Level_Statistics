{
 "cells": [
  {
   "cell_type": "markdown",
   "id": "e8903971-78a8-40ec-9758-26c181029c90",
   "metadata": {},
   "source": [
    "# Question 4\n",
    "-----"
   ]
  },
  {
   "cell_type": "markdown",
   "id": "83120650-f54e-426d-957d-1d4eff4ca606",
   "metadata": {},
   "source": [
    "$$f(x) = 0.25, for \\ 0 \\le x \\le 2$$\n",
    "\n",
    "$$F(x) = 0.25x, for \\ 0 \\le x \\le 2$$\n",
    "\n",
    "$$f(x) = 0.5x - 0.75, for \\ 2 \\le x \\le 3$$\n",
    "\n",
    "$$F(x) = \\int_{2}^{t} 0.5x - 0.75 \\ dx$$\n",
    "\n",
    "$$F(x) = [0.25x^2 - 0.75x]_{2}^{t}$$\n",
    "\n",
    "$$F(x) = (0.25t^2 - 0.75t) - (1 - 1.5)$$\n",
    "\n",
    "$$F(x) = 0.25t^2 - 0.75t + 0.5$$\n",
    "\n",
    "hence,\n",
    "$$F(x) = 0.25t^2 - 0.75t + 0.5 \\ \\ \\ for, \\ \\ 2 \\le x \\le 3$$\n",
    "\n",
    "$$F(x) = 0.25x \\ \\ \\ for, \\ \\ 0 \\le x \\le 2$$\n",
    "\n",
    "-----\n",
    "$$0.25x = 0.5$$\n",
    "\n",
    "$$x = 2$$\n",
    "\n",
    "hence, median = 2"
   ]
  }
 ],
 "metadata": {
  "kernelspec": {
   "display_name": "Python 3 (ipykernel)",
   "language": "python",
   "name": "python3"
  },
  "language_info": {
   "codemirror_mode": {
    "name": "ipython",
    "version": 3
   },
   "file_extension": ".py",
   "mimetype": "text/x-python",
   "name": "python",
   "nbconvert_exporter": "python",
   "pygments_lexer": "ipython3",
   "version": "3.12.1"
  }
 },
 "nbformat": 4,
 "nbformat_minor": 5
}

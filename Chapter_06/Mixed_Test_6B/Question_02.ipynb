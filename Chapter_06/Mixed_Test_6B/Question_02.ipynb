{
 "cells": [
  {
   "cell_type": "markdown",
   "id": "265a9e43-e8de-465a-9d0d-f1aa7c95868c",
   "metadata": {},
   "source": [
    "# Question 2\n",
    "-----"
   ]
  },
  {
   "cell_type": "markdown",
   "id": "73294708-5115-4fcd-a424-c4a8dd41587b",
   "metadata": {},
   "source": [
    "$$f(x) = ax - ax^3$$\n",
    "\n",
    "$$\\int_{0}^{1} ax - ax^3 \\ dx = 1$$\n",
    "\n",
    "$$[0.5ax^2 - 0.25ax^4]_{0}^{1} = 1$$\n",
    "\n",
    "$$0.5a - 0.25a = 1$$\n",
    "\n",
    "$$0.25a = 1$$\n",
    "\n",
    "$$a = 4$$"
   ]
  },
  {
   "cell_type": "code",
   "execution_count": 1,
   "id": "3ea6d1f1-3bba-4fbd-a6ff-0394258a4db1",
   "metadata": {},
   "outputs": [
    {
     "name": "stdout",
     "output_type": "stream",
     "text": [
      "E(X) = 0.5333333333333333\n"
     ]
    }
   ],
   "source": [
    "from scipy.integrate import quad\n",
    "\n",
    "# Define the function to integrate\n",
    "def integrand(x):\n",
    "    return (4 * x**2) - (4 * x**4)\n",
    "\n",
    "# Set the integration limits\n",
    "lower_limit = 0\n",
    "upper_limit = 1\n",
    "\n",
    "# Perform the integration\n",
    "EX, error = quad(integrand, lower_limit, upper_limit)\n",
    "\n",
    "# Print the result\n",
    "print(\"E(X) = \" + str(EX))"
   ]
  },
  {
   "cell_type": "markdown",
   "id": "7dd9bc58-0f45-4c2a-a066-89f71d65c8eb",
   "metadata": {},
   "source": [
    "$$f'(x) = 4 - 12x^2$$\n",
    "\n",
    "$$4 - 12x^2 = 0$$\n",
    "\n",
    "$$x^2 = \\frac{1}{3}$$\n",
    "\n",
    "$$x = 0.5774$$\n",
    "\n",
    "$$mode = 0.5774$$"
   ]
  }
 ],
 "metadata": {
  "kernelspec": {
   "display_name": "Python 3 (ipykernel)",
   "language": "python",
   "name": "python3"
  },
  "language_info": {
   "codemirror_mode": {
    "name": "ipython",
    "version": 3
   },
   "file_extension": ".py",
   "mimetype": "text/x-python",
   "name": "python",
   "nbconvert_exporter": "python",
   "pygments_lexer": "ipython3",
   "version": "3.12.1"
  }
 },
 "nbformat": 4,
 "nbformat_minor": 5
}

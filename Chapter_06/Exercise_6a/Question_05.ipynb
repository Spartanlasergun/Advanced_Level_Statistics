{
 "cells": [
  {
   "cell_type": "markdown",
   "id": "72d4464b-c08d-4c46-90ef-e261eddee368",
   "metadata": {},
   "source": [
    "# Question 5\n",
    "-----"
   ]
  },
  {
   "cell_type": "markdown",
   "id": "45c71752-1a28-4700-a67f-38a6fe326266",
   "metadata": {},
   "source": [
    "$$f(x) = kx^3$$\n",
    "\n",
    "$$\\int_{0}^{0.5} kx^3 = \\frac{1}{16}$$\n",
    "\n",
    "$$[\\frac{kx^4}{4}]_{0}^{0.5} = \\frac{1}{16}$$\n",
    "\n",
    "$$0.015625k = \\frac{1}{16}$$\n",
    "\n",
    "$$k = 4$$\n",
    "\n",
    "-----\n",
    "\n",
    "$$\\int_{0}^{c} 4x^3 = 1$$\n",
    "\n",
    "$$[x^4]_{0}^{c} = 1$$\n",
    "\n",
    "$$c^4 = 1$$\n",
    "\n",
    "$$c = 1^{0.25}$$\n",
    "\n",
    "$$c = 1$$"
   ]
  }
 ],
 "metadata": {
  "kernelspec": {
   "display_name": "Python 3 (ipykernel)",
   "language": "python",
   "name": "python3"
  },
  "language_info": {
   "codemirror_mode": {
    "name": "ipython",
    "version": 3
   },
   "file_extension": ".py",
   "mimetype": "text/x-python",
   "name": "python",
   "nbconvert_exporter": "python",
   "pygments_lexer": "ipython3",
   "version": "3.12.1"
  }
 },
 "nbformat": 4,
 "nbformat_minor": 5
}

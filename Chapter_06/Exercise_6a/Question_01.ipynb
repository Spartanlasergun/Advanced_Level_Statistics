{
 "cells": [
  {
   "cell_type": "markdown",
   "id": "0a2844fd-2c38-412c-b598-88d4ba5171a4",
   "metadata": {},
   "source": [
    "# Question 1\n",
    "-----"
   ]
  },
  {
   "cell_type": "markdown",
   "id": "59c7239a-f657-486a-8c9e-a79168e0c541",
   "metadata": {},
   "source": [
    "a)\n",
    "\n",
    "$$f(x) = kx^2$$\n",
    "\n",
    "$$\\int_{0}^{2} kx^2 = 1$$\n",
    "\n",
    "$$[\\frac{k}{3}x^3]_{0}^{2} = 1$$\n",
    "\n",
    "$$ \\frac{8k}{3} = 1$$\n",
    "\n",
    "$$8k = 3$$\n",
    "\n",
    "$$k = \\frac{3}{8}$$\n",
    "\n",
    "-----\n",
    "b)\n",
    "\n",
    "$$P(X \\ge 1) = \\int_{1}^{2} \\frac{3}{8}x^2$$  \n",
    "\n",
    "$$P(X \\ge 1) = [\\frac{1}{8}x^3]_{1}^{2}$$\n",
    "\n",
    "$$P(X \\ge 1) = 1 - \\frac{1}{8} = \\frac{7}{8}$$\n",
    "\n",
    "-----\n",
    "c)\n",
    "\n",
    "$$P(X \\ge 1) = \\int_{0.5}^{1.5} \\frac{3}{8}x^2$$  \n",
    "\n",
    "$$P(X \\ge 1) = [\\frac{1}{8}x^3]_{0.5}^{1.5}$$\n",
    "\n",
    "$$P(X \\ge 1) = \\frac{3.375}{8} - \\frac{0.125}{8} = 0.40625$$"
   ]
  }
 ],
 "metadata": {
  "kernelspec": {
   "display_name": "Python 3 (ipykernel)",
   "language": "python",
   "name": "python3"
  },
  "language_info": {
   "codemirror_mode": {
    "name": "ipython",
    "version": 3
   },
   "file_extension": ".py",
   "mimetype": "text/x-python",
   "name": "python",
   "nbconvert_exporter": "python",
   "pygments_lexer": "ipython3",
   "version": "3.12.1"
  }
 },
 "nbformat": 4,
 "nbformat_minor": 5
}

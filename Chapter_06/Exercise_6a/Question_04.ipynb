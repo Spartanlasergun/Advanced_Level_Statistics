{
 "cells": [
  {
   "cell_type": "markdown",
   "id": "39e1085b-a73c-4f0f-9813-3cb2764ae936",
   "metadata": {},
   "source": [
    "# Question 4\n",
    "-----"
   ]
  },
  {
   "cell_type": "markdown",
   "id": "6b7a4043-8670-47bf-90b7-cc4fb1f98aa8",
   "metadata": {},
   "source": [
    "a)\n",
    "$$k(x + 2)^2$$\n",
    "\n",
    "$$k(x + 2)(x + 2)$$\n",
    "\n",
    "$$k(x^2 + 4x + 4)$$\n",
    "\n",
    "$$kx^2 + 4kx + 4k$$\n",
    "\n",
    "$$\\int_{0}^{2} kx^2 + 4kx + 4k = 1$$\n",
    "\n",
    "$$[\\frac{kx^3}{3} + 2kx^2 + 4kx]_{0}^{2} = 1$$\n",
    "\n",
    "$$\\frac{8k}{3} + 8k + 8k = 1$$\n",
    "\n",
    "$$18.667k = 1$$\n",
    "\n",
    "$$k = 0.0536$$\n",
    "\n",
    "-----\n",
    "b)\n",
    "\n",
    "$$P(0 \\le X \\le 1) = \\int_{0}^{1} 0.0536x^2 + 0.214x + 0.214$$\n",
    "\n",
    "$$P(0 \\le X \\le 1) = [\\frac{0.0536x^3}{3} + 0.107x^2 + 0.214x]_{0}^{1}$$\n",
    "\n",
    "$$P(0 \\le X \\le 1) = \\frac{0.0536}{3} + 0.107 + 0.214$$\n",
    "\n",
    "$$P(0 \\le X \\le 1) = 0.339$$\n",
    "\n",
    "-----\n",
    "c)\n",
    "\n",
    "$$P(X > 1) = 1 - P(0 \\le X \\le 1)$$\n",
    "\n",
    "$$P(X > 1) = 1 - 0.339$$\n",
    "\n",
    "$$P(X > 1) = 0.661$$"
   ]
  }
 ],
 "metadata": {
  "kernelspec": {
   "display_name": "Python 3 (ipykernel)",
   "language": "python",
   "name": "python3"
  },
  "language_info": {
   "codemirror_mode": {
    "name": "ipython",
    "version": 3
   },
   "file_extension": ".py",
   "mimetype": "text/x-python",
   "name": "python",
   "nbconvert_exporter": "python",
   "pygments_lexer": "ipython3",
   "version": "3.12.1"
  }
 },
 "nbformat": 4,
 "nbformat_minor": 5
}

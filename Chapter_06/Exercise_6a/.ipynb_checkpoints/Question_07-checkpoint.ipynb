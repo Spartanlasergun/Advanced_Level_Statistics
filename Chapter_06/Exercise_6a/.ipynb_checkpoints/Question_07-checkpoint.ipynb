{
 "cells": [
  {
   "cell_type": "markdown",
   "id": "b17a6d1a-76e4-4d36-9c88-dd9d81cfde9a",
   "metadata": {},
   "source": [
    "# Question 7\n",
    "-----"
   ]
  },
  {
   "cell_type": "markdown",
   "id": "3fa6b688-f2ed-4ae6-b572-b40f38b7f192",
   "metadata": {},
   "source": [
    "a)\n",
    "$$\\int_{0}^{2} k + \\int_{2}^{3} k(2x - 3) = 1$$\n",
    "\n",
    "$$[kx]_{0}^{2} + [kx^2 - 3kx]_{2}^{3} = 1$$\n",
    "\n",
    "$$2k + ((9k - 9k) - (4k - 6k)) = 1$$\n",
    "\n",
    "$$2k + 2k = 1$$\n",
    "\n",
    "$$k = 0.25$$\n",
    "\n",
    "-----\n",
    "b)\n",
    "\n",
    "$$P(X \\le 1) = \\int_{0}^{1} 0.25$$\n",
    "\n",
    "$$P(X \\le 1) = [0.25x]_{0}^{1}$$\n",
    "\n",
    "$$P(X \\le 1) = 0.25$$\n",
    "\n",
    "-----\n",
    "c)\n",
    "$$P(X > 2.5) = \\int_{2.5}^{3} 0.25(2x - 3)$$\n",
    "\n",
    "$$P(X > 2.5) = [\\frac{x^2}{4} - \\frac{3x}{4}]_{2.5}^{3}$$\n",
    "\n",
    "$$P(X > 2.5) = (2.25 - 2.25) - (1.5625 - 1.875$$\n",
    "\n",
    "$$P(X > 2.5) = 0.3125$$\n",
    "\n",
    "-----\n",
    "d)\n",
    "$$P(1 \\le X \\le 2.3) = \\int_{1}^{2} 0.25 + \\int_{2}^{2.3} 0.25(2x - 3)$$\n",
    "\n",
    "$$P(1 \\le X \\le 2.3) = [0.25x]_{1}^{2} + [\\frac{x^2}{4} - \\frac{3x}{4}]_{2}^{2.3} $$\n",
    "\n",
    "$$P(1 \\le X \\le 2.3) = (0.25) + ((-0.4025) - (-0.5))$$\n",
    "\n",
    "$$P(1 \\le X \\le 2.3) = 0.3475$$"
   ]
  }
 ],
 "metadata": {
  "kernelspec": {
   "display_name": "Python 3 (ipykernel)",
   "language": "python",
   "name": "python3"
  },
  "language_info": {
   "codemirror_mode": {
    "name": "ipython",
    "version": 3
   },
   "file_extension": ".py",
   "mimetype": "text/x-python",
   "name": "python",
   "nbconvert_exporter": "python",
   "pygments_lexer": "ipython3",
   "version": "3.12.1"
  }
 },
 "nbformat": 4,
 "nbformat_minor": 5
}

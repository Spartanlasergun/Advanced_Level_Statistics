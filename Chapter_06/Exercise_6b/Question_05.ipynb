{
 "cells": [
  {
   "cell_type": "markdown",
   "id": "9a7040c8-4dd5-460d-93e9-43b43e3bcc57",
   "metadata": {},
   "source": [
    "# Question 5\n",
    "-----"
   ]
  },
  {
   "cell_type": "markdown",
   "id": "c323486d-d0fe-4ebb-b9a8-192b47a070ef",
   "metadata": {},
   "source": [
    "a)\n",
    "\n",
    "$$\\int_{5}^{10} kx \\ dx = 1$$\n",
    "\n",
    "$$[\\frac{kx^2}{2}]_{5}^{10} = 1$$\n",
    "\n",
    "$$50k - 12.5k = 1$$\n",
    "\n",
    "$$37.5k = 1$$\n",
    "\n",
    "$$k = \\frac{1}{37.5}$$\n",
    "\n",
    "$$k = \\frac{2}{75}$$\n",
    "\n",
    "-----\n",
    "b)\n",
    "\n",
    "$$xf(x) = \\frac{2x^2}{75}$$\n",
    "\n",
    "$$E(X) = \\int_{5}^{10} \\frac{2x^2}{75} \\ dx$$\n",
    "\n",
    "$$E(X) = [\\frac{2x^3}{225}]_{5}^{10}$$\n",
    "\n",
    "$$E(X) = 8.8889 - 1.11111$$\n",
    "\n",
    "$$E(X) = 7.777778$$\n",
    "\n",
    "-----\n",
    "c)\n",
    "\n",
    "$$P(X > 8) = \\int_{8}^{10} \\frac{2x}{75} \\ dx$$\n",
    "\n",
    "$$P(X > 8) = [\\frac{2x^2}{150}]_{8}^{10}$$\n",
    "\n",
    "$$P(X > 8) = 0.48$$"
   ]
  },
  {
   "cell_type": "markdown",
   "id": "705565be-1f4e-4ae6-bf42-77c0e0a21986",
   "metadata": {},
   "source": [
    "The money bond offers a guranteed 8%, whereas the Unit Trust Fund rate varies with an expected average of 7.778%. Hence, the money bond is the better choice."
   ]
  }
 ],
 "metadata": {
  "kernelspec": {
   "display_name": "Python 3 (ipykernel)",
   "language": "python",
   "name": "python3"
  },
  "language_info": {
   "codemirror_mode": {
    "name": "ipython",
    "version": 3
   },
   "file_extension": ".py",
   "mimetype": "text/x-python",
   "name": "python",
   "nbconvert_exporter": "python",
   "pygments_lexer": "ipython3",
   "version": "3.12.1"
  }
 },
 "nbformat": 4,
 "nbformat_minor": 5
}

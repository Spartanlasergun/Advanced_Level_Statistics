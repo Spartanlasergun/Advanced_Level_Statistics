{
 "cells": [
  {
   "cell_type": "markdown",
   "id": "aa694ce3-d205-4b74-9258-e5608ad938f2",
   "metadata": {},
   "source": [
    "# Question 9\n",
    "-----"
   ]
  },
  {
   "cell_type": "markdown",
   "id": "7a334f0e-38f0-4929-91d0-e5a5cfd56fa3",
   "metadata": {},
   "source": [
    "a)\n",
    "\n",
    "$$\\int_{0}^{3} \\frac{cx}{3} \\ dx + \\int_{3}^{4} c \\ dx = 1$$\n",
    "\n",
    "$$[\\frac{cx^2}{6}]_{0}^{3} + [cx]_{3}^{4} = 1$$\n",
    "\n",
    "$$\\frac{9c}{6} + (4c - 3c) = 1$$\n",
    "\n",
    "$$2.5c = 1$$\n",
    "\n",
    "$$c = 0.4$$\n",
    "\n",
    "-----\n",
    "b)\n",
    "\n",
    "$$xf(x) = \\frac{2x^2}{15}$$\n",
    "\n",
    "$$xf(x) = 0.4x$$\n",
    "\n",
    "$$E(X) = \\int_{0}^{3} \\frac{2x^2}{15} \\ dx + \\int_{3}^{4} 0.4x \\ dx$$\n",
    "\n",
    "$$E(X) = [\\frac{2x^3}{45}]_{0}^{3} + [0.2x^2]_{3}^{4}$$\n",
    "\n",
    "$$E(X) = \\frac{54}{45} + (3.2 - 1.8)$$\n",
    "\n",
    "$$E(X) = 2.6$$\n",
    "\n",
    "-----\n",
    "c)"
   ]
  }
 ],
 "metadata": {
  "kernelspec": {
   "display_name": "Python 3 (ipykernel)",
   "language": "python",
   "name": "python3"
  },
  "language_info": {
   "codemirror_mode": {
    "name": "ipython",
    "version": 3
   },
   "file_extension": ".py",
   "mimetype": "text/x-python",
   "name": "python",
   "nbconvert_exporter": "python",
   "pygments_lexer": "ipython3",
   "version": "3.12.1"
  }
 },
 "nbformat": 4,
 "nbformat_minor": 5
}

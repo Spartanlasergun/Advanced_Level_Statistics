{
 "cells": [
  {
   "cell_type": "markdown",
   "id": "0819cfb2-a796-4fb9-aadc-6f6b4fa1a815",
   "metadata": {},
   "source": [
    "# Question 6\n",
    "-----"
   ]
  },
  {
   "cell_type": "markdown",
   "id": "b1385251-8a91-4b9d-a68a-cb16f5e4a1ab",
   "metadata": {},
   "source": [
    "$$f(x) = 0.75(1 - (x - 2)^2)$$\n",
    "\n",
    "$$f(x) = 0.75(1 - (x^2 - 4x + 4))$$\n",
    "\n",
    "$$f(x) = 0.75(-x^2 + 4x - 3)$$\n",
    "\n",
    "$$f(x) = -0.75x^2 + 3x - 2.25$$\n",
    "\n",
    "$$xf(x) = -0.75x^3 + 3x^2 - 2.25x$$\n",
    "\n",
    "$$E(X) = \\int_{1}^{3} x(fx) \\ dx$$\n",
    "\n",
    "$$E(X) = [\\frac{-0.75x^4}{4} + x^3 - \\frac{2.25x^2}{2}]_{1}^{3}$$\n",
    "\n",
    "$$E(X) = 1.6875 - (- 0.3125)$$\n",
    "\n",
    "$$E(X) = 2$$\n",
    "\n",
    "-----\n",
    "$$P(X >= 22) = 1 - \\int_{1}^{2.2} -0.75x^2 + 3x - 2.25 \\ dx$$\n",
    "\n",
    "$$P(X >= 22) = 1 - [\\frac{-0.75x^3}{3} + \\frac{3x^2}{2} - 2.25x]_{1}^{2.2}$$\n",
    "\n",
    "$$P(X >= 22) = 1 - (-0.352 - (-1))$$\n",
    "\n",
    "$$P(X >= 22) = 0.352$$\n",
    "\n",
    "for both batteries,\n",
    "\n",
    "$$P(X >= 22) = 0.352 * 0.352 = 0.124$$"
   ]
  }
 ],
 "metadata": {
  "kernelspec": {
   "display_name": "Python 3 (ipykernel)",
   "language": "python",
   "name": "python3"
  },
  "language_info": {
   "codemirror_mode": {
    "name": "ipython",
    "version": 3
   },
   "file_extension": ".py",
   "mimetype": "text/x-python",
   "name": "python",
   "nbconvert_exporter": "python",
   "pygments_lexer": "ipython3",
   "version": "3.12.1"
  }
 },
 "nbformat": 4,
 "nbformat_minor": 5
}

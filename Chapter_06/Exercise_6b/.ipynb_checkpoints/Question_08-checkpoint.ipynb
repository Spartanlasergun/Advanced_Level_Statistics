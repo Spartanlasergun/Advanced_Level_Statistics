{
 "cells": [
  {
   "cell_type": "markdown",
   "id": "77cc3d75-c813-4e64-91ab-269c16ee89bf",
   "metadata": {},
   "source": [
    "# Question 8\n",
    "-----"
   ]
  },
  {
   "cell_type": "markdown",
   "id": "82ac2f80-226c-426e-bcaa-bd5422a66d18",
   "metadata": {},
   "source": [
    "$$f(x) = \\frac{3x^2}{32}$$\n",
    "\n",
    "$$f(x) - \\frac{9}{16} - \\frac{3x}{32}$$\n",
    "\n",
    "hence,\n",
    "\n",
    "$$xf(x) = \\frac{3x^3}{32}$$\n",
    "\n",
    "$$xf(x) = \\frac{9x}{16} - \\frac{3x^2}{32}$$\n",
    "\n",
    "$$E(X) = \\int_{0}^{2}  \\frac{3x^3}{32} \\ dx + \\int_{2}^{6} \\frac{9x}{16} - \\frac{3x^2}{32} \\ dx$$\n",
    "\n",
    "$$E(X) = [\\frac{3x^4}{128}]_{0}^{2} + [\\frac{9x^2}{32} - \\frac{x^3}{32}]_{2}^{6}$$\n",
    "\n",
    "$$E(X) = 0.375 + (3.375 - 0.875) $$\n",
    "\n",
    "$$E(X) = 2.875$$\n",
    "\n",
    "----\n",
    "$$profit \\ per \\ hour = (2.875 * 2) - 1 = 4.75$$\n",
    "\n",
    "----\n",
    "$$ 2x - 1 > 7$$\n",
    "\n",
    "$$ x > 4$$\n",
    "\n",
    "hence,\n",
    "\n",
    "$$P(X > 4) = \\int_{4}^{6}  \\frac{9}{16} - \\frac{3x}{32} \\ dx$$\n",
    "\n",
    "$$P(X > 4) = [\\frac{9x}{16} - \\frac{3x^2}{64}]_{4}^{6}$$\n",
    "\n",
    "$$P(X > 4) = 1.6875 - 1.5$$\n",
    "\n",
    "$$P(X > 4) = 0.1875$$"
   ]
  }
 ],
 "metadata": {
  "kernelspec": {
   "display_name": "Python 3 (ipykernel)",
   "language": "python",
   "name": "python3"
  },
  "language_info": {
   "codemirror_mode": {
    "name": "ipython",
    "version": 3
   },
   "file_extension": ".py",
   "mimetype": "text/x-python",
   "name": "python",
   "nbconvert_exporter": "python",
   "pygments_lexer": "ipython3",
   "version": "3.12.1"
  }
 },
 "nbformat": 4,
 "nbformat_minor": 5
}

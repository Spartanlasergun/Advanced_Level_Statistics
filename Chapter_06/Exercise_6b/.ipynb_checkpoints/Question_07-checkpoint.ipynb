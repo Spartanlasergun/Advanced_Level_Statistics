{
 "cells": [
  {
   "cell_type": "markdown",
   "id": "1ab19322-3b98-490d-90c1-c79e6fca4c11",
   "metadata": {},
   "source": [
    "# Question 7\n",
    "-----"
   ]
  },
  {
   "cell_type": "markdown",
   "id": "c09df396-a3cf-492e-a90a-030bc630aa13",
   "metadata": {},
   "source": [
    "$$f(x) = 5cx - cx^2$$\n",
    "\n",
    "$$\\int_{0}^{5} 5cx - cx^2 \\ dx = 1$$\n",
    "\n",
    "$$[\\frac{5cx^2}{2} - \\frac{cx^3}{3}]_{0}^{5} = 1$$\n",
    "\n",
    "$$\\frac{125c}{2} - \\frac{125c}{3} = 1$$\n",
    "\n",
    "$$20.83334c = 1$$\n",
    "\n",
    "$$c = 0.048$$\n",
    "\n",
    "-----\n",
    "$$x(fx) = 0.24x^2 - 0.048x^3$$\n",
    "\n",
    "$$E(X) = \\int_{0}^{5} x(fx) \\ dx$$\n",
    "\n",
    "$$E(X) = [\\frac{0.24x^3}{3} - \\frac{0.048x^4}{4}]_{0}^{5}$$\n",
    "\n",
    "$$E(X) = 2.5$$\n",
    "\n",
    "-----\n",
    "$$P(X > 1) = \\int_{1}^{5}  0.24x - 0.048x^2 \\ dx$$\n",
    "\n",
    "$$P(X > 1) = [\\frac{0.24x^2}{2} - \\frac{0.048x^3}{3}]_{1}^{5} $$\n",
    "\n",
    "$$P(X > 1) = 1 - 0.104$$\n",
    "\n",
    "for both bulbs\n",
    "\n",
    "$$P(X > 1) = 0.896^2 = 0.803$$\n",
    "\n",
    "----\n",
    "$$P(X < 2) =  \\int_{1}^{2}  0.24x - 0.048x^2 \\ dx$$\n",
    "\n",
    "$$P(X < 2) = [\\frac{0.24x^2}{2} - \\frac{0.048x^3}{3}]_{0}^{2} $$\n",
    "\n",
    "$$P(X < 2) = 0.352$$\n",
    "\n",
    "$$P(X > 2) = 1 - P(X < 2) = 0.648$$\n",
    "\n",
    "Hence,\n",
    "\n",
    "$$P(exactly \\ one \\ failure) = (0.352 * 0.648) * 2 = 0.4562$$"
   ]
  }
 ],
 "metadata": {
  "kernelspec": {
   "display_name": "Python 3 (ipykernel)",
   "language": "python",
   "name": "python3"
  },
  "language_info": {
   "codemirror_mode": {
    "name": "ipython",
    "version": 3
   },
   "file_extension": ".py",
   "mimetype": "text/x-python",
   "name": "python",
   "nbconvert_exporter": "python",
   "pygments_lexer": "ipython3",
   "version": "3.12.1"
  }
 },
 "nbformat": 4,
 "nbformat_minor": 5
}

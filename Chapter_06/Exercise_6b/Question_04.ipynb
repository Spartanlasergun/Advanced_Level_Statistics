{
 "cells": [
  {
   "cell_type": "markdown",
   "id": "7bfb79c5-7e35-44b5-a99f-c60ea9774960",
   "metadata": {},
   "source": [
    "# Question 4\n",
    "-----"
   ]
  },
  {
   "cell_type": "markdown",
   "id": "2db35086-20e9-480a-b147-50afd1ced384",
   "metadata": {},
   "source": [
    "$$f(x) = 0.012x^2 - 0.0012x^3$$\n",
    "\n",
    "$$xf(x) = 0.012x^3 - 0.0012x^4$$\n",
    "\n",
    "$$E(X) = \\int{0}^{10}  0.012x^3 - 0.0012x^4 \\ dx$$\n",
    "\n",
    "$$E(X) = [\\frac{0.012x^4}{4} - \\frac{0.0012x^5}{5}]_{0}^{10}$$\n",
    "\n",
    "$$E(X) = 30 - 24$$\n",
    "\n",
    "$$E(X) = 6$$"
   ]
  }
 ],
 "metadata": {
  "kernelspec": {
   "display_name": "Python 3 (ipykernel)",
   "language": "python",
   "name": "python3"
  },
  "language_info": {
   "codemirror_mode": {
    "name": "ipython",
    "version": 3
   },
   "file_extension": ".py",
   "mimetype": "text/x-python",
   "name": "python",
   "nbconvert_exporter": "python",
   "pygments_lexer": "ipython3",
   "version": "3.12.1"
  }
 },
 "nbformat": 4,
 "nbformat_minor": 5
}

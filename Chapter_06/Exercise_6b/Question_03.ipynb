{
 "cells": [
  {
   "cell_type": "markdown",
   "id": "b7860edf-64a0-47e8-987b-0b96ec569cfd",
   "metadata": {},
   "source": [
    "# Question 3\n",
    "-----"
   ]
  },
  {
   "cell_type": "markdown",
   "id": "456d39d7-16a7-471f-8b7a-f4c390c37940",
   "metadata": {},
   "source": [
    "$$\\int_{0}^{4} kx^2 dx = 1$$\n",
    "\n",
    "$$[\\frac{kx^3}{3}]_{0}^{4} = 1$$\n",
    "\n",
    "$$64k = 3$$\n",
    "\n",
    "$$k = \\frac{3}{64}$$\n",
    "\n",
    "$$E(X) = \\int_{0}^{4} {3x^3}{64} dx$$\n",
    "\n",
    "$$E(X) = [\\frac{3x^4}{256}]_{0}^{4}$$\n",
    "\n",
    "$$E(X) = 3$$"
   ]
  }
 ],
 "metadata": {
  "kernelspec": {
   "display_name": "Python 3 (ipykernel)",
   "language": "python",
   "name": "python3"
  },
  "language_info": {
   "codemirror_mode": {
    "name": "ipython",
    "version": 3
   },
   "file_extension": ".py",
   "mimetype": "text/x-python",
   "name": "python",
   "nbconvert_exporter": "python",
   "pygments_lexer": "ipython3",
   "version": "3.12.1"
  }
 },
 "nbformat": 4,
 "nbformat_minor": 5
}

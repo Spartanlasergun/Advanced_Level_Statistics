{
 "cells": [
  {
   "cell_type": "markdown",
   "id": "ad086821-124e-4bd6-8379-0b40269a36fe",
   "metadata": {},
   "source": [
    "# Question 2\n",
    "-----"
   ]
  },
  {
   "cell_type": "markdown",
   "id": "a3ac5ecc-3298-4afc-8c37-24d2e0088438",
   "metadata": {},
   "source": [
    "b)\n",
    "\n",
    "$$\\int_{0}^{1} kx dx+ \\int_{1}^{3} k dx + \\int_{3}^{4} (4k - kx)dx  = 1$$\n",
    "\n",
    "$$[\\frac{kx^2}{2}]_{0}^{1} + [kx]_{1}^{3} + [4kx - \\frac{kx^2}{2}]_{3}^{4} = 1$$\n",
    "\n",
    "$$\\frac{k}{2} + 2k + ((16k - 8k) - (12k - 4.5k)) = 1$$\n",
    "\n",
    "$$2.5k + 8k - 7.5k = 1$$\n",
    "\n",
    "$$3k = 1$$\n",
    "\n",
    "$$k = \\frac{1}{3}$$\n",
    "\n",
    "-----\n",
    "c)\n",
    "\n",
    "$$E(X) = \\int_{0}^{1} \\frac{x^2}{3} dx + \\int_{1}^{3} \\frac{x}{3} dx + \\int_{3}^{4} (\\frac{4x}{3} - \\frac{x^2}{3})dx$$\n",
    "\n",
    "$$E(X) = [\\frac{x^3}{9}]_{0}^{1} + [\\frac{x^2}{6}]_{1}^{3} + [\\frac{2x^2}{3} - \\frac{x^3}{9}]_{3}^{4}$$\n",
    "\n",
    "$$E(X) = \\frac{1}{9} + (\\frac{9}{6} - \\frac{1}{6}) + (\\frac{32}{3} - \\frac{64}{9}) - (6 - 3)$$\n",
    "\n",
    "$$E(X) = 2$$"
   ]
  }
 ],
 "metadata": {
  "kernelspec": {
   "display_name": "Python 3 (ipykernel)",
   "language": "python",
   "name": "python3"
  },
  "language_info": {
   "codemirror_mode": {
    "name": "ipython",
    "version": 3
   },
   "file_extension": ".py",
   "mimetype": "text/x-python",
   "name": "python",
   "nbconvert_exporter": "python",
   "pygments_lexer": "ipython3",
   "version": "3.12.1"
  }
 },
 "nbformat": 4,
 "nbformat_minor": 5
}

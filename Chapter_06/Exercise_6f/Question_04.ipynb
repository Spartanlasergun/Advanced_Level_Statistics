{
 "cells": [
  {
   "cell_type": "markdown",
   "id": "84023f54-f60a-4aa4-9efc-194b5ccd284d",
   "metadata": {},
   "source": [
    "# Question 4\n",
    "-----"
   ]
  },
  {
   "cell_type": "markdown",
   "id": "9d71b26c-e1d8-4c8c-b24b-5da85840ba94",
   "metadata": {},
   "source": [
    "$$f(x) = \\frac{1}{3 - 0.5}$$\n",
    "\n",
    "$$f(x) = 0.4$$\n",
    "\n",
    "$$P(X < 1.5) = 0.4(1.5 - 0.5)$$\n",
    "\n",
    "$$P(X < 1.5) = 0.4$$\n",
    "\n",
    "$$E(X) = 0.5(3 + 0.5)$$\n",
    "\n",
    "$$E(X) = 1.75$$\n",
    "\n",
    "$$P(X > 1.75) = 0.4(3 - 1.75)$$\n",
    "\n",
    "$$P(X > 1.75) = 0.5$$\n",
    "\n",
    "$$prob = 0.5 * 0.5 = 0.25$$"
   ]
  }
 ],
 "metadata": {
  "kernelspec": {
   "display_name": "Python 3 (ipykernel)",
   "language": "python",
   "name": "python3"
  },
  "language_info": {
   "codemirror_mode": {
    "name": "ipython",
    "version": 3
   },
   "file_extension": ".py",
   "mimetype": "text/x-python",
   "name": "python",
   "nbconvert_exporter": "python",
   "pygments_lexer": "ipython3",
   "version": "3.12.1"
  }
 },
 "nbformat": 4,
 "nbformat_minor": 5
}

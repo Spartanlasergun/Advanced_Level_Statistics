{
 "cells": [
  {
   "cell_type": "markdown",
   "id": "b7cf6b2f-5079-4df1-894e-ebccc3d7e56c",
   "metadata": {},
   "source": [
    "# Question 2\n",
    "-----"
   ]
  },
  {
   "cell_type": "markdown",
   "id": "938c1f7f-00ce-4f11-a3f0-d1dcd99270f0",
   "metadata": {},
   "source": [
    "a)\n",
    "$$f(x)  = \\frac{1}{-2 - (-5)}$$\n",
    "\n",
    "$$f(x) = \\frac{1}{3}$$\n",
    "\n",
    "$$P(-4.3 < X < -2.8) = \\frac{1}{3}(-2.8 - (-4.3))$$\n",
    "\n",
    "$$P(-4.3 < X < -2.8) = 0.5$$\n",
    "\n",
    "-----\n",
    "b)\n",
    "$$E(X) = 0.5(-5 + -2)$$\n",
    "\n",
    "$$E(X) = -3.5$$\n",
    "\n",
    "-----\n",
    "c)\n",
    "$$Var(X) = \\frac{(-2 - (-5))^2}{12}$$\n",
    "\n",
    "$$Var(X) = 0.75$$\n",
    "\n",
    "$$\\sigma = \\sqrt{0.75}$$\n",
    "\n",
    "$$\\sigma = 0.866$$"
   ]
  }
 ],
 "metadata": {
  "kernelspec": {
   "display_name": "Python 3 (ipykernel)",
   "language": "python",
   "name": "python3"
  },
  "language_info": {
   "codemirror_mode": {
    "name": "ipython",
    "version": 3
   },
   "file_extension": ".py",
   "mimetype": "text/x-python",
   "name": "python",
   "nbconvert_exporter": "python",
   "pygments_lexer": "ipython3",
   "version": "3.12.1"
  }
 },
 "nbformat": 4,
 "nbformat_minor": 5
}

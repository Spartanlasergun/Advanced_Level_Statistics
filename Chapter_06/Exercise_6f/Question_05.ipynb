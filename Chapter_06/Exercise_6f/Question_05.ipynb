{
 "cells": [
  {
   "cell_type": "markdown",
   "id": "c5e9041c-1141-43b3-ae75-e32dd455e4ff",
   "metadata": {},
   "source": [
    "# Question 5\n",
    "-----"
   ]
  },
  {
   "cell_type": "markdown",
   "id": "25623e42-04cf-4482-9b3e-0263da45c212",
   "metadata": {},
   "source": [
    "$$f(x) = 0.2$$\n",
    "\n",
    "$$E(X) = 0.5(37 + 32)$$\n",
    "\n",
    "$$E(X) = 34.5$$\n",
    "\n",
    "$$Var(X) = \\frac{(37 - 32)^2}{12}$$\n",
    "\n",
    "$$Var(X) = 2.083333$$\n",
    "\n",
    "$$\\sigma = \\sqrt{2.083333}$$\n",
    "\n",
    "$$\\sigma = 1.44$$\n",
    "\n",
    "$$P(33.06 \\le X \\le 35.94) = 0.2(35.94 - 33.06)$$\n",
    "\n",
    "$$P(33.06 \\le X \\le 35.94) = 0.576$$"
   ]
  }
 ],
 "metadata": {
  "kernelspec": {
   "display_name": "Python 3 (ipykernel)",
   "language": "python",
   "name": "python3"
  },
  "language_info": {
   "codemirror_mode": {
    "name": "ipython",
    "version": 3
   },
   "file_extension": ".py",
   "mimetype": "text/x-python",
   "name": "python",
   "nbconvert_exporter": "python",
   "pygments_lexer": "ipython3",
   "version": "3.12.1"
  }
 },
 "nbformat": 4,
 "nbformat_minor": 5
}

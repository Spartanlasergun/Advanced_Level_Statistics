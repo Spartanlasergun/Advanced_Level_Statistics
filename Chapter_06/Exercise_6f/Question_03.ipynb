{
 "cells": [
  {
   "cell_type": "markdown",
   "id": "3d639543-3a04-428f-96a5-2e287b4c2383",
   "metadata": {},
   "source": [
    "# Question 3\n",
    "-----"
   ]
  },
  {
   "cell_type": "markdown",
   "id": "f068b092-f12b-44ec-a23f-7eade1351db3",
   "metadata": {},
   "source": [
    "a)\n",
    "\n",
    "$$\\frac{1}{k - 1} = 0.25$$\n",
    "\n",
    "$$1 = 0.25k - 0.25$$\n",
    "\n",
    "$$0.25k = 1.25$$\n",
    "\n",
    "$$k = 5$$\n",
    "\n",
    "-----\n",
    "b)\n",
    "$$P(2.1 < X < 3.4) = 0.25(3.4 - 2.1)$$\n",
    "\n",
    "$$P(2.1 < X < 3.4) = 0.325$$\n",
    "\n",
    "-----\n",
    "c)\n",
    "$$E(X) = 0.5(5 + 1)$$\n",
    "\n",
    "$$E(X) = 3$$\n",
    "\n",
    "-----\n",
    "d)\n",
    "$$Var(X) = \\frac{(5 - 1)^2}{12}$$\n",
    "\n",
    "$$Var(X) = \\frac{4}{3}$$"
   ]
  }
 ],
 "metadata": {
  "kernelspec": {
   "display_name": "Python 3 (ipykernel)",
   "language": "python",
   "name": "python3"
  },
  "language_info": {
   "codemirror_mode": {
    "name": "ipython",
    "version": 3
   },
   "file_extension": ".py",
   "mimetype": "text/x-python",
   "name": "python",
   "nbconvert_exporter": "python",
   "pygments_lexer": "ipython3",
   "version": "3.12.1"
  }
 },
 "nbformat": 4,
 "nbformat_minor": 5
}

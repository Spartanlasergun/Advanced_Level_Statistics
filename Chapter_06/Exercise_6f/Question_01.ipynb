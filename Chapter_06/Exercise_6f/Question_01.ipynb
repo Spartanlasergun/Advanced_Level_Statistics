{
 "cells": [
  {
   "cell_type": "markdown",
   "id": "efa5d92c-62dc-4c6d-a113-a3f93cdd41bb",
   "metadata": {},
   "source": [
    "# Question 1\n",
    "-----"
   ]
  },
  {
   "cell_type": "markdown",
   "id": "83d844fd-535d-4001-9f3e-36f422492328",
   "metadata": {},
   "source": [
    "a)\n",
    "$$3k = 1$$\n",
    "\n",
    "$$k = \\frac{1}{3}$$\n",
    "\n",
    "-----\n",
    "b)\n",
    "\n",
    "$$E(X) = 0.5(3 + 6)$$\n",
    "\n",
    "$$E(X) = 4.5$$\n",
    "\n",
    "-----\n",
    "c)\n",
    "\n",
    "$$Var(X) = \\frac{(6 - 3)^2}{12}$$\n",
    "\n",
    "$$Var(X) = 0.75$$\n",
    "\n",
    "-----\n",
    "d)\n",
    "\n",
    "$$P(X > 5) = \\frac{1}{3}(6 - 5)$$\n",
    "\n",
    "$$P(X > 5) = \\frac{1}{3}$$"
   ]
  }
 ],
 "metadata": {
  "kernelspec": {
   "display_name": "Python 3 (ipykernel)",
   "language": "python",
   "name": "python3"
  },
  "language_info": {
   "codemirror_mode": {
    "name": "ipython",
    "version": 3
   },
   "file_extension": ".py",
   "mimetype": "text/x-python",
   "name": "python",
   "nbconvert_exporter": "python",
   "pygments_lexer": "ipython3",
   "version": "3.12.1"
  }
 },
 "nbformat": 4,
 "nbformat_minor": 5
}

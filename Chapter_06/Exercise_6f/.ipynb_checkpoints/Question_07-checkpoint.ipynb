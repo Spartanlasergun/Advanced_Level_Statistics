{
 "cells": [
  {
   "cell_type": "markdown",
   "id": "3dc8352d-10b9-42bf-9fba-2989817309cc",
   "metadata": {},
   "source": [
    "# Question 7\n",
    "-----"
   ]
  },
  {
   "cell_type": "markdown",
   "id": "3939ec17-7fd7-4c9f-a8ff-6f2d6ffd0b8a",
   "metadata": {},
   "source": [
    "a)\n",
    "\n",
    "$$interquartile \\ \\ range = 9 - 5 = 4$$\n",
    "\n",
    "$$0.5*x = 4$$\n",
    "\n",
    "$$x = 8$$\n",
    "\n",
    "$$lower \\ \\ range = 8 * 0.25 = 2$$\n",
    "\n",
    "$$lower \\ \\ boundary = 5 - 2 = 3$$\n",
    "\n",
    "$$upper \\ \\ range = 8 * 0.25 = 2$$\n",
    "\n",
    "$$upper \\ \\ boundary = 9 + 2 = 11$$\n",
    "\n",
    "hence,\n",
    "\n",
    "$$a = 3, \\ \\ b = 11$$\n",
    "\n",
    "-----\n",
    "b)\n",
    "\n",
    "$$f(x) = \\frac{1}{11 - 3} = \\frac{1}{8}$$\n",
    "\n",
    "$$P(6 < X < 7) = \\frac{1}{8}(7 - 6)$$\n",
    "\n",
    "$$P(6 < X < 7) = \\frac{1}{8}$$\n",
    "\n",
    "-----\n",
    "c)\n",
    "\n",
    "$$F(x) = \\int_{3}^{t} \\frac{1}{8} \\ dx$$\n",
    "\n",
    "$$F(x) = [\\frac{x}{8}]_{3}^{t}$$\n",
    "\n",
    "$$F(x) = \\frac{t}{8} - {3}{8}$$\n",
    "\n",
    "hence,\n",
    "\n",
    "$$F(x) = \\frac{x - 3}{8}$$"
   ]
  }
 ],
 "metadata": {
  "kernelspec": {
   "display_name": "Python 3 (ipykernel)",
   "language": "python",
   "name": "python3"
  },
  "language_info": {
   "codemirror_mode": {
    "name": "ipython",
    "version": 3
   },
   "file_extension": ".py",
   "mimetype": "text/x-python",
   "name": "python",
   "nbconvert_exporter": "python",
   "pygments_lexer": "ipython3",
   "version": "3.12.1"
  }
 },
 "nbformat": 4,
 "nbformat_minor": 5
}

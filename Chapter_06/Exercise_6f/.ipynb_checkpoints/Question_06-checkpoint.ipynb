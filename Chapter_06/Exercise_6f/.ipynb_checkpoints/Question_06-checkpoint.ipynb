{
 "cells": [
  {
   "cell_type": "markdown",
   "id": "3db20f65-dac6-407c-8380-90a31c34759b",
   "metadata": {},
   "source": [
    "# Question 6\n",
    "-----"
   ]
  },
  {
   "cell_type": "markdown",
   "id": "6dbae13a-1ead-4850-a13e-bea6127ea1ab",
   "metadata": {},
   "source": [
    "$$f(x) = \\frac{x - 2}{5}$$\n",
    "\n",
    "$$f(x) = \\frac{x}{5} - \\frac{2}{5}$$\n",
    "\n",
    "$$f(x) = \\frac{1}{5}$$\n",
    "\n",
    "-----\n",
    "a)\n",
    "$$E(X) = 0.5(2 + 7)$$\n",
    "\n",
    "$$E(X) = 4.5$$\n",
    "\n",
    "-----\n",
    "b)\n",
    "$$Var(X) = \\frac{(7 - 2)^2}{12}$$\n",
    "\n",
    "$$Var(X) = 2.083333$$"
   ]
  }
 ],
 "metadata": {
  "kernelspec": {
   "display_name": "Python 3 (ipykernel)",
   "language": "python",
   "name": "python3"
  },
  "language_info": {
   "codemirror_mode": {
    "name": "ipython",
    "version": 3
   },
   "file_extension": ".py",
   "mimetype": "text/x-python",
   "name": "python",
   "nbconvert_exporter": "python",
   "pygments_lexer": "ipython3",
   "version": "3.12.1"
  }
 },
 "nbformat": 4,
 "nbformat_minor": 5
}

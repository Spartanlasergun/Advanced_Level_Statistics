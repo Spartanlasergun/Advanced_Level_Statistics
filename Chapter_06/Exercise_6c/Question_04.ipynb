{
 "cells": [
  {
   "cell_type": "markdown",
   "id": "af995f4b-ee77-425c-adbe-18d3f4ae1f8b",
   "metadata": {},
   "source": [
    "# Question 4\n",
    "-----"
   ]
  },
  {
   "cell_type": "markdown",
   "id": "cd087acd-a057-49d8-8c35-ffe9b23c2fa7",
   "metadata": {},
   "source": [
    "$$f(x) = \\frac{3}{56}(x + 2)^2$$\n",
    "\n",
    "$$f(x) = \\frac{3}{56}(x^2 + 4x + 4)$$\n",
    "\n",
    "$$f(x) = \\frac{3x^2}{56} + \\frac{3x}{14} + \\frac{3}{14}$$\n",
    "\n",
    "$$xf(x) = 0.0536x^3 + 0.2143x^2 + 0.2143x$$\n",
    "\n",
    "$$E(X) = \\int_{0}^{2}  0.0536x^3 + 0.2143x^2 + 0.2143x \\ dx$$\n",
    "\n",
    "$$E(X) = [0.0134x^4 + 0.0714x^3 + 0.1071x^2]_{0}^{2}$$\n",
    "\n",
    "$$E(X) = 0.2143 + 0.5714 + 0.4286$$\n",
    "\n",
    "$$E(X) = 1.2143$$\n",
    "\n",
    "-----\n",
    "\n",
    "$$x^2f(x) = 0.0536x^4 + 0.2143x^3 + 0.2143x^2$$\n",
    "\n",
    "$$E(X^2) = \\int_{0}^{2}  0.0536x^4 + 0.2143x^3 + 0.2143x^2 \\ dx$$\n",
    "\n",
    "$$E(X^2) = [0.0107x^5 + 0.05357x^4 + 0.0714x^3]_{0}^{2}$$\n",
    "\n",
    "$$E(X^2) = 1.771$$\n",
    "\n",
    "-----\n",
    "\n",
    "$$Var(X) = E(X^2) - (E(X))^2$$\n",
    "\n",
    "$$Var(X) = 1.771 - (1.2143^2)$$\n",
    "\n",
    "$$Var(X) = 0.2964$$\n",
    "\n",
    "-----\n",
    "\n",
    "$$\\sigma = \\sqrt{0.2964}$$\n",
    "\n",
    "$$\\sigma = 0.544$$"
   ]
  }
 ],
 "metadata": {
  "kernelspec": {
   "display_name": "Python 3 (ipykernel)",
   "language": "python",
   "name": "python3"
  },
  "language_info": {
   "codemirror_mode": {
    "name": "ipython",
    "version": 3
   },
   "file_extension": ".py",
   "mimetype": "text/x-python",
   "name": "python",
   "nbconvert_exporter": "python",
   "pygments_lexer": "ipython3",
   "version": "3.12.1"
  }
 },
 "nbformat": 4,
 "nbformat_minor": 5
}

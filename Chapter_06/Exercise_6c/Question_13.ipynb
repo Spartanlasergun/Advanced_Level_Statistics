{
 "cells": [
  {
   "cell_type": "markdown",
   "id": "996456cb-1583-428d-b126-84e8d38dd464",
   "metadata": {},
   "source": [
    "# Question 13\n",
    "-----"
   ]
  },
  {
   "cell_type": "markdown",
   "id": "a386bce0-c896-4398-bad7-f09bfbd65166",
   "metadata": {},
   "source": [
    "$$f(x) = 12x^2 - 12x^3$$\n",
    "\n",
    "$$xf(x) = 12x^3 - 12x^4$$\n",
    "\n",
    "$$E(X) = \\int_{0}^{1} 12x^3 - 12x^4 \\ dx $$\n",
    "\n",
    "$$E(X) = [3x^4 - \\frac{12x^5}{5}]_{0}^{1}$$\n",
    "\n",
    "$$E(X) = 3 - \\frac{12}{5}$$\n",
    "\n",
    "$$E(X) = 0.6$$\n",
    "\n",
    "-----\n",
    "\n",
    "$$x^2f(x) = 12x^4 - 12x^5$$\n",
    "\n",
    "$$E(X^2) = \\int_{0}^{1} 12x^4 - 12x^5 \\ dx$$\n",
    "\n",
    "$$E(X^2) = [\\frac{12x^5}{5} - 2x^6]_{0}^{1}$$\n",
    "\n",
    "$$E(X^2) = \\frac{12}{5} - 2$$\n",
    "\n",
    "$$E(X^2) = 0.4$$\n",
    "\n",
    "$$Var(X) = E(X^2) - (E(X))^2$$\n",
    "\n",
    "$$Var(X) = 0.4 - (0.6^2)$$\n",
    "\n",
    "$$Var(X) = 0.04$$\n",
    "\n",
    "$$\\sigma = \\sqrt{0.04}$$\n",
    "\n",
    "$$\\sigma = 0.2$$"
   ]
  }
 ],
 "metadata": {
  "kernelspec": {
   "display_name": "Python 3 (ipykernel)",
   "language": "python",
   "name": "python3"
  },
  "language_info": {
   "codemirror_mode": {
    "name": "ipython",
    "version": 3
   },
   "file_extension": ".py",
   "mimetype": "text/x-python",
   "name": "python",
   "nbconvert_exporter": "python",
   "pygments_lexer": "ipython3",
   "version": "3.12.1"
  }
 },
 "nbformat": 4,
 "nbformat_minor": 5
}

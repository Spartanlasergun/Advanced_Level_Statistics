{
 "cells": [
  {
   "cell_type": "markdown",
   "id": "b19fccf9-ffac-4f79-ae6c-087cbfbd5ff6",
   "metadata": {},
   "source": [
    "# Question 8\n",
    "-----"
   ]
  },
  {
   "cell_type": "markdown",
   "id": "7201a94d-a89d-4912-8a19-6564b67e975e",
   "metadata": {},
   "source": [
    "a)\n",
    "\n",
    "$$f(x) = kx^2$$\n",
    "\n",
    "$$\\int_{0}^{4} kx^2 \\ dx = 1$$\n",
    "\n",
    "$$[\\frac{kx^3}{3}]_{0}^{4} = 1$$\n",
    "\n",
    "$$64k = 3$$\n",
    "\n",
    "$$k = \\frac{3}{64}$$\n",
    "\n",
    "-----\n",
    "b)\n",
    "\n",
    "$$xf(x) = \\frac{3x^3}{64}$$\n",
    "\n",
    "$$E(X) = \\int_{0}^{4} \\frac{3x^3}{64} \\ dx$$\n",
    "\n",
    "$$E(X) = [\\frac{3x^4}{256}]_{0}^{4}$$\n",
    "\n",
    "$$E(X) = 3$$\n",
    "\n",
    "$$x^2f(x) = \\frac{3x^4}{64}$$\n",
    "\n",
    "$$E(X^2) = \\int_{0}^{4} \\frac{3x^4}{64} \\ dx$$\n",
    "\n",
    "$$E(X^2) = [\\frac{3x^5}{320}]_{0}^{4}$$\n",
    "\n",
    "$$E(X^2) = 9.6$$\n",
    "\n",
    "$$Var(X) = E(X^2) - (E(X))^2$$\n",
    "\n",
    "$$Var(X) = 9.6 - (3^2)$$\n",
    "\n",
    "$$Var(X) = 0.6$$\n",
    "\n",
    "-----\n",
    "c)\n",
    "\n",
    "$$P(1 < X < 2) = \\int_{1}^{2} \\frac{3x^2}{64} \\ dx$$\n",
    "\n",
    "$$P(1 < X < 2) = [\\frac{x^3}{64}]_{1}^{2} $$\n",
    "\n",
    "$$P(1 < X < 2) = \\frac{8}{64} - \\frac{1}{64}$$\n",
    "\n",
    "$$P(1 < X < 2) = \\frac{7}{64}$$"
   ]
  }
 ],
 "metadata": {
  "kernelspec": {
   "display_name": "Python 3 (ipykernel)",
   "language": "python",
   "name": "python3"
  },
  "language_info": {
   "codemirror_mode": {
    "name": "ipython",
    "version": 3
   },
   "file_extension": ".py",
   "mimetype": "text/x-python",
   "name": "python",
   "nbconvert_exporter": "python",
   "pygments_lexer": "ipython3",
   "version": "3.12.1"
  }
 },
 "nbformat": 4,
 "nbformat_minor": 5
}

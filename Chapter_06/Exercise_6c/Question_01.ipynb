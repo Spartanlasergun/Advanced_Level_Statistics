{
 "cells": [
  {
   "cell_type": "markdown",
   "id": "2ed22410-6bf8-4d57-bba3-09c9e6b55325",
   "metadata": {},
   "source": [
    "# Question 1\n",
    "-----"
   ]
  },
  {
   "cell_type": "markdown",
   "id": "9fd21105-f52f-4e6f-9815-6f3838e9aef5",
   "metadata": {},
   "source": [
    "$$f(x) = \\frac{3x^2}{8}$$\n",
    "\n",
    "$$xf(x) = \\frac{3x^3}{8}$$\n",
    "\n",
    "$$E(X) = \\int_{0}^{2} \\frac{3x^3}{8} \\ dx$$\n",
    "\n",
    "$$E(X) = [\\frac{3x^4}{32}]_{0}^{2}$$\n",
    "\n",
    "$$E(X) = 1.5$$\n",
    "\n",
    "-----\n",
    "$$x^2f(x) = \\frac{3x^4}{8}$$\n",
    "\n",
    "$$E(X^2) = \\int_{0}^{2} \\frac{3x^4}{8} \\ dx$$\n",
    "\n",
    "$$E(X^2) = [\\frac{3x^5}{40}]_{0}^{2}$$\n",
    "\n",
    "$$E(X^2) = 2.4$$\n",
    "\n",
    "-----\n",
    "\n",
    "$$Var(X) = E(X^2) - E(X)$$\n",
    "\n",
    "$$Var(X) = 2.4 - 1.5^2 = 0.15$$\n",
    "\n",
    "----\n",
    "\n",
    "$$\\sigma = \\sqrt{0.15} = 0.387$$\n"
   ]
  }
 ],
 "metadata": {
  "kernelspec": {
   "display_name": "Python 3 (ipykernel)",
   "language": "python",
   "name": "python3"
  },
  "language_info": {
   "codemirror_mode": {
    "name": "ipython",
    "version": 3
   },
   "file_extension": ".py",
   "mimetype": "text/x-python",
   "name": "python",
   "nbconvert_exporter": "python",
   "pygments_lexer": "ipython3",
   "version": "3.12.1"
  }
 },
 "nbformat": 4,
 "nbformat_minor": 5
}

{
 "cells": [
  {
   "cell_type": "markdown",
   "id": "490ebe08-cb68-4b60-b4bb-9b02acd841af",
   "metadata": {},
   "source": [
    "# Question 6\n",
    "-----"
   ]
  },
  {
   "cell_type": "markdown",
   "id": "f6cd7bc7-0826-43ff-8b0f-41f539583c8a",
   "metadata": {},
   "source": [
    "$$f(x) = 0.25, \\ \\ xf(x) = 0.25x$$\n",
    "\n",
    "$$f(x) = 0.5x - 0.75, \\ \\ xf(x) = 0.5x^2 - 0.75x$$\n",
    "\n",
    "$$E(X) = \\int_{0}^{2} 0.25x \\ dx + \\int_{2}^{3} 0.5x^2 - 0.75x \\ dx$$\n",
    "\n",
    "$$E(X) = [0.125x^2]_{0}^{2} + [0.1667x^3 - 0.375x^2]_{2}^{3}$$\n",
    "\n",
    "$$E(X) = 0.5 + (1.125 - (-0.16664))$$\n",
    "\n",
    "$$E(X) = 1.79$$\n",
    "\n",
    "-----\n",
    "\n",
    "$$E(X^2) =  \\int_{0}^{2} 0.25x^2 \\ dx + \\int_{2}^{3} 0.5x^3 - 0.75x^2 \\ dx$$\n",
    "\n",
    "$$E(X^2) = [0.833333x^3]_{0}^{2} + [0.125x^4 - 0.25x^3]_{2}^{3}$$\n",
    "\n",
    "$$E(X^2) = \\frac{2}{3} + (3.375 - 0)$$\n",
    "\n",
    "$$E(X^2) = 4.042$$\n",
    "\n",
    "-----\n",
    "\n",
    "$$Var(X) = E(X^2) - (E(X))^2$$\n",
    "\n",
    "$$Var(X) = 4.042 - (1.79^2)$$\n",
    "\n",
    "$$Var(X) = 0.838$$\n",
    "\n",
    "-----\n",
    "\n",
    "$$\\sigma = \\sqrt(0.838)$$\n",
    "\n",
    "$$\\sigma = 0.915$$"
   ]
  }
 ],
 "metadata": {
  "kernelspec": {
   "display_name": "Python 3 (ipykernel)",
   "language": "python",
   "name": "python3"
  },
  "language_info": {
   "codemirror_mode": {
    "name": "ipython",
    "version": 3
   },
   "file_extension": ".py",
   "mimetype": "text/x-python",
   "name": "python",
   "nbconvert_exporter": "python",
   "pygments_lexer": "ipython3",
   "version": "3.12.1"
  }
 },
 "nbformat": 4,
 "nbformat_minor": 5
}

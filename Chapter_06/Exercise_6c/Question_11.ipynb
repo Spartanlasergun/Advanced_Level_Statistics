{
 "cells": [
  {
   "cell_type": "markdown",
   "id": "ecb799b3-cc7c-4f33-aa30-c5c5a53c22ed",
   "metadata": {},
   "source": [
    "# Question 11\n",
    "-----"
   ]
  },
  {
   "cell_type": "markdown",
   "id": "c80ecdfe-f559-4602-bcc7-d31dd1ef3ea5",
   "metadata": {},
   "source": [
    "$$ f(x) = \\frac{k}{x(4 - x)}$$\n",
    "\n",
    "$$\\int_{1}^{3} \\frac{k}{x(4 - x)} = 1$$\n",
    "\n",
    "Using partial fraction decomposition:\n",
    "\n",
    "$$\\frac{k}{x(4 - x)} = \\frac{A}{x} + \\frac{B}{4 - x}$$\n",
    "\n",
    "$$k = A(4 - x) + Bx$$\n",
    "\n",
    "Since the function is defined for $1 \\le X \\le 3$,\n",
    "\n",
    "$$k = A(4 - 1) + B$$\n",
    "\n",
    "$$k = 3A + B$$\n",
    "\n",
    "and\n",
    "\n",
    "$$k = A(4 - 3) + 3B$$\n",
    "\n",
    "$$k = A + 3B$$\n",
    "\n",
    "hence,\n",
    "\n",
    "$$3A + B = A  + 3B$$\n",
    "\n",
    "$$A = B$$\n",
    "\n",
    "$$k = 4A$$\n",
    "\n",
    "$$A = \\frac{k}{4}$$\n",
    "\n",
    "$$B = \\frac{k}{4}$$\n",
    "\n",
    "thus,\n",
    "\n",
    "$$\\int_{1}^{3} \\frac{k}{4x} \\ dx + \\int_{1}^{3} \\frac{k}{4(4 - x)} \\ dx = 1$$\n",
    "\n",
    "$$\\frac{k}{4} \\int_{1}^{3} \\frac{1}{x} \\ dx + (\\frac{-k}{4}) \\int_{1}^{3} \\frac{-1}{4 - x} \\ dx = 1 $$\n",
    "\n",
    "$$\\frac{k}{4} ([\\ln(x)]_{1}^{3}) - \\frac{k}{4} ([\\ln(4 - x)]_{1}^{3}) = 1$$\n",
    "\n",
    "$$\\frac{k}{4} (\\ln(3) - \\ln(1)) - \\frac{k}{4} (\\ln(1) - \\ln(3)) = 1$$\n",
    "\n",
    "$$\\frac{k}{4}(\\ln(3) - \\ln(1) - \\ln(1) + \\ln(3)) = 1$$\n",
    "\n",
    "$$2.1972k = 4$$\n",
    "\n",
    "$$k = 1.82$$\n",
    "\n",
    "Hence, $k = \\frac{2}{\\ln(3)}$\n",
    "\n",
    "-----\n",
    "\n",
    "$$xf(x) = \\frac{1.82}{4 - x}$$\n",
    "\n",
    "$$E(X) = \\int_{1}^{3} \\frac{1.82}{4 - x} \\ dx$$\n",
    "\n",
    "$$E(X) = -1.82 \\int_{1}^{3} \\frac{-1}{4 - x} \\ dx$$\n",
    "\n",
    "$$E(X) = -1.82 ([\\ln(4- x)]_{1}^{3})$$\n",
    "\n",
    "$$E(X) = -1.82 (\\ln(1) - \\ln(3))$$\n",
    "\n",
    "$$E(X) = 2$$"
   ]
  },
  {
   "cell_type": "code",
   "execution_count": 1,
   "id": "49b09eed-1415-486c-8e0c-b11b24ab6d3a",
   "metadata": {},
   "outputs": [
    {
     "name": "stdout",
     "output_type": "stream",
     "text": [
      "The result of the integration is: 4.357897461503839\n"
     ]
    }
   ],
   "source": [
    "from scipy import integrate\n",
    "\n",
    "def integrand(x):\n",
    "    return (1.82 * x) / (4 - x)\n",
    "\n",
    "lower_limit = 1\n",
    "upper_limit = 3\n",
    "\n",
    "result, error = integrate.quad(integrand, lower_limit, upper_limit)\n",
    "\n",
    "print(\"The result of the integration is:\", result)"
   ]
  },
  {
   "cell_type": "markdown",
   "id": "647fed23-8b23-487a-b3c2-9bbb8933e7d7",
   "metadata": {},
   "source": [
    "$$ Var(X) = E(X^2) - (E(X))^2 $$\n",
    "\n",
    "$$ Var(X) = 4.358 - 2^2$$\n",
    "\n",
    "$$ Var(X) = 0.358$$"
   ]
  }
 ],
 "metadata": {
  "kernelspec": {
   "display_name": "Python 3 (ipykernel)",
   "language": "python",
   "name": "python3"
  },
  "language_info": {
   "codemirror_mode": {
    "name": "ipython",
    "version": 3
   },
   "file_extension": ".py",
   "mimetype": "text/x-python",
   "name": "python",
   "nbconvert_exporter": "python",
   "pygments_lexer": "ipython3",
   "version": "3.12.1"
  }
 },
 "nbformat": 4,
 "nbformat_minor": 5
}

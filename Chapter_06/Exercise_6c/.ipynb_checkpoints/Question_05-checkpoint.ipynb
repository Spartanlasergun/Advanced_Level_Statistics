{
 "cells": [
  {
   "cell_type": "markdown",
   "id": "49101462-ac24-450b-8a12-e459ccb6874e",
   "metadata": {},
   "source": [
    "# Question 5\n",
    "-----"
   ]
  },
  {
   "cell_type": "markdown",
   "id": "3a2a990f-2913-463e-b878-c9c4997e54ab",
   "metadata": {},
   "source": [
    "$$f(x) = 4x^3$$\n",
    "\n",
    "$$xf(x) = 4x^4$$\n",
    "\n",
    "$$E(X) = \\int_{0}^{1} 4x^4 \\ dx$$\n",
    "\n",
    "$$E(X) = [0.8x^5]_{0}^{1}$$\n",
    "\n",
    "$$E(X) = 0.8$$\n",
    "\n",
    "-----\n",
    "\n",
    "$$x^2f(x) = 4x^5$$\n",
    "\n",
    "$$E(X^2) = \\int_{0}^{1} 4x^5 \\ dx$$\n",
    "\n",
    "$$E(X^2) = [\\frac{2x^6}{3}]_{0}^{1}$$\n",
    "\n",
    "$$E(X^2) = \\frac{2}{3}$$\n",
    "\n",
    "-----\n",
    "\n",
    "$$Var(X) = E(X^2) - (E(X))^2$$\n",
    "\n",
    "$$Var(X) = \\frac{2}{3} - (0.8^2)$$\n",
    "\n",
    "$$Var(X) = 0.02666667$$\n",
    "\n",
    "-----\n",
    "\n",
    "$$\\sigma = \\sqrt{0.02666667}$$\n",
    "\n",
    "$$\\sigma = 0.1633$$"
   ]
  }
 ],
 "metadata": {
  "kernelspec": {
   "display_name": "Python 3 (ipykernel)",
   "language": "python",
   "name": "python3"
  },
  "language_info": {
   "codemirror_mode": {
    "name": "ipython",
    "version": 3
   },
   "file_extension": ".py",
   "mimetype": "text/x-python",
   "name": "python",
   "nbconvert_exporter": "python",
   "pygments_lexer": "ipython3",
   "version": "3.12.1"
  }
 },
 "nbformat": 4,
 "nbformat_minor": 5
}

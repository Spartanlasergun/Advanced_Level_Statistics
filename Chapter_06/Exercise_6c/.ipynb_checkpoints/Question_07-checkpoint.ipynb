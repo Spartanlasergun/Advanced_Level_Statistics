{
 "cells": [
  {
   "cell_type": "markdown",
   "id": "5fe7adeb-ccca-4049-a2c2-b9dc388a322e",
   "metadata": {},
   "source": [
    "# Question 7\n",
    "-----"
   ]
  },
  {
   "cell_type": "markdown",
   "id": "20ce03a6-43c9-42d5-870e-6d903fb811f4",
   "metadata": {},
   "source": [
    "$$f(x) = \\frac{1}{8}(x + 2)^2$$\n",
    "\n",
    "$$f(x) = \\frac{1}{8}(x^2 + 4x + 4)$$\n",
    "\n",
    "$$f(x) = 0.125x^2 + 0.5x + 0.5$$\n",
    "\n",
    "$$f(x) = 0.5$$\n",
    "\n",
    "$$xf(x) = 0.125x^3 + 0.5x^2 + 0.5x$$\n",
    "\n",
    "$$xf(x) = 0.5x$$\n",
    "\n",
    "$$E(X) = \\int_{-2}^{0} 0.125x^3 + 0.5x^2 + 0.5x \\ dx + \\int_{0}^{1.33333} 0.5x \\ dx$$\n",
    "\n",
    "$$E(X) = [0.03125x^4 + 0.16667x^3 + 0.25x^2]_{-2}^{0} + [0.25x^2]_{0}^{1.3333}$$\n",
    "\n",
    "$$E(X) = 0 - 0.16664 + 0.44444$$\n",
    "\n",
    "$$E(X) = 0.2778$$\n",
    "\n",
    "-----\n",
    "\n",
    "$$x^2f(x) = 0.125x^4 + 0.5x^3 + 0.5x^2$$\n",
    "\n",
    "$$x^2f(x) = 0.5x^2$$\n",
    "\n",
    "$$E(X^2) = \\int_{-2}^{0} 0.125x^4 + 0.5x^3 + 0.5x^2 \\ dx + \\int_{0}^{1.33333} 0.5x^2 \\ dx$$\n",
    "\n",
    "$$E(X^2) = [0.025x^5 + 0.125x^4 + 0.16667x^3]_{-2}^{0} + [0.166667x^3]_{0}^{1.33333}$$\n",
    "\n",
    "$$E(X^2) = 0 - (-0.1334) + 0.3951$$\n",
    "\n",
    "$$E(X^2) = 0.5285$$\n",
    "\n",
    "-----\n",
    "\n",
    "$$Var(X) = E(X^2) - (E(X))^2$$\n",
    "\n",
    "$$Var(X) = 0.5285 - (0.2778^2)$$\n",
    "\n",
    "$$Var(X) = 0.4513$$\n",
    "\n",
    "-----\n",
    "\n",
    "$$\\sigma = \\sqrt{0.4513}$$\n",
    "\n",
    "$$\\sigma = 0.6718$$"
   ]
  }
 ],
 "metadata": {
  "kernelspec": {
   "display_name": "Python 3 (ipykernel)",
   "language": "python",
   "name": "python3"
  },
  "language_info": {
   "codemirror_mode": {
    "name": "ipython",
    "version": 3
   },
   "file_extension": ".py",
   "mimetype": "text/x-python",
   "name": "python",
   "nbconvert_exporter": "python",
   "pygments_lexer": "ipython3",
   "version": "3.12.1"
  }
 },
 "nbformat": 4,
 "nbformat_minor": 5
}

{
 "cells": [
  {
   "cell_type": "markdown",
   "id": "a5a25a56-687b-4913-9699-db8d7a1e7831",
   "metadata": {},
   "source": [
    "# Question 2\n",
    "-----"
   ]
  },
  {
   "cell_type": "markdown",
   "id": "162d6230-ef70-464d-bdfd-65b6fff78661",
   "metadata": {},
   "source": [
    "$$f(x) = 0.2$$\n",
    "\n",
    "$$xf(x) = 0.2x$$\n",
    "\n",
    "$$E(X) = \\int_{-2}^{3} 0.2x \\ dx$$\n",
    "\n",
    "$$E(X) = [0.1x^2]_{-2}^{3} $$\n",
    "\n",
    "$$E(X) = 0.9 - 0.4$$\n",
    "\n",
    "$$E(X) = 0.5$$\n",
    "\n",
    "-----\n",
    "$$x^2f(x) = 0.2x^2$$\n",
    "\n",
    "$$E(X^2) =  \\int_{-2}^{3} 0.2x^2 \\ dx$$\n",
    "\n",
    "$$E(X^2) = [\\frac{0.2x^3}{3}]_{-2}^{3} $$\n",
    "\n",
    "$$E(X^2) = 1.8 - (-0.5333)$$\n",
    "\n",
    "$$E(X^2) = 2.3333$$\n",
    "\n",
    "-----\n",
    "\n",
    "$$Var(X) = E(X^2) - (E(X))^2$$\n",
    "\n",
    "$$Var(X) = 2.3333 - (0.5)^2$$\n",
    "\n",
    "$$Var(X) = 2.08333$$\n",
    "\n",
    "-----\n",
    "\n",
    "$$\\sigma = \\sqrt{2.083333}$$\n",
    "\n",
    "$$\\sigma = 1.443$$\n",
    "\n"
   ]
  }
 ],
 "metadata": {
  "kernelspec": {
   "display_name": "Python 3 (ipykernel)",
   "language": "python",
   "name": "python3"
  },
  "language_info": {
   "codemirror_mode": {
    "name": "ipython",
    "version": 3
   },
   "file_extension": ".py",
   "mimetype": "text/x-python",
   "name": "python",
   "nbconvert_exporter": "python",
   "pygments_lexer": "ipython3",
   "version": "3.12.1"
  }
 },
 "nbformat": 4,
 "nbformat_minor": 5
}

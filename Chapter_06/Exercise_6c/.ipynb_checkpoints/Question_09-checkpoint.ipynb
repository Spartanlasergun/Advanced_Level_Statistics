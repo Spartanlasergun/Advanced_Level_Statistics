{
 "cells": [
  {
   "cell_type": "markdown",
   "id": "5c029e4e-e1d9-43ee-9ee5-39a9fa42aacf",
   "metadata": {},
   "source": [
    "# Question 9\n",
    "-----"
   ]
  },
  {
   "cell_type": "markdown",
   "id": "aa90d37f-87ed-4daa-9ccd-0dd1d2f0e91b",
   "metadata": {},
   "source": [
    "a)\n",
    "\n",
    "$$f(x) = kx$$\n",
    "\n",
    "$$f(x) = 2k - kx$$\n",
    "\n",
    "$$\\int{0}^{1} kx \\ dx + \\int{1}^{2} 2k - kx \\ dx = 1$$\n",
    "\n",
    "$$[\\frac{kx^2}{2}]_{0}^{1} + [2kx - \\frac{kx^2}{2}]_{1}^{2} = 1$$\n",
    "\n",
    "$$0.5k + ((4k - 2k) - (2k - 0.5k)) = 1$$\n",
    "\n",
    "$$k = 1$$\n",
    "\n",
    "-----\n",
    "b)\n",
    "\n",
    "$$xf(x) = x^2$$\n",
    "\n",
    "$$xf(x) = 2x - x^2$$\n",
    "\n",
    "$$E(X) = \\int_{0}^{1} x^2 \\ dx + \\int_{1}^{2} 2x - x^2 \\ dx$$\n",
    "\n",
    "$$E(X) = [\\frac{x^3}{3}]_{0}^{1} + [x^2 - \\frac{x^3}{3}]_{1}^{2}$$\n",
    "\n",
    "$$E(X) = \\frac{1}{3} + (1.3333 - 0.66666)$$\n",
    "\n",
    "$$E(X) = 1$$\n",
    "\n",
    "-----\n",
    "c)\n",
    "\n",
    "$$x^2f(x) = x^3$$\n",
    "\n",
    "$$x^2f(x) = 2x^2 - x^3$$\n",
    "\n",
    "$$E(X^2) = \\int_{0}^{1} x^3 \\ dx + \\int_{1}^{2} 2x^2 - x^3 \\ dx$$\n",
    "\n",
    "$$E(X^2) = [0.25x^4]_{0}^{1} + [\\frac{2x^3}{3} - 0.25x^4]_{1}^{2}$$\n",
    "\n",
    "$$E(X^2) = 0.25 + (1.3333 - 0.416667)$$\n",
    "\n",
    "$$E(X^2) = 1.1666$$\n",
    "\n",
    "$$Var(X) = E(X^2) - (E(X))^2$$\n",
    "\n",
    "$$Var(X) = 1.1666 - (1^2)$$\n",
    "\n",
    "$$Var(X) = 0.1666$$\n",
    "\n",
    "-----\n",
    "d)\n",
    "\n",
    "$$P(0.75 \\le X \\le 1.5) = \\int_{0.75}^{1} x \\ dx + \\int_{1}^{1.5} 2 - x \\ dx$$\n",
    "\n",
    "$$P(0.75 \\le X \\le 1.5) = [\\frac{x^2}{2}]_{0.75}^{1} + [2x - \\frac{x^2}{2}]_{1}^{1.5}$$\n",
    "\n",
    "$$P(0.75 \\le X \\le 1.5) = 0.21875 + (1.875 - 1.5)$$\n",
    "\n",
    "$$P(0.75 \\le X \\le 1.5) = 0.59375$$\n",
    "\n",
    "-----\n",
    "e)\n",
    "for f(x) = x, maximum value is 1\n",
    "\n",
    "for f(x) = 2 - x, f(2) = 0, f(1) = 1\n",
    "\n",
    "hence, the maximum point and mode is = 1"
   ]
  }
 ],
 "metadata": {
  "kernelspec": {
   "display_name": "Python 3 (ipykernel)",
   "language": "python",
   "name": "python3"
  },
  "language_info": {
   "codemirror_mode": {
    "name": "ipython",
    "version": 3
   },
   "file_extension": ".py",
   "mimetype": "text/x-python",
   "name": "python",
   "nbconvert_exporter": "python",
   "pygments_lexer": "ipython3",
   "version": "3.12.1"
  }
 },
 "nbformat": 4,
 "nbformat_minor": 5
}

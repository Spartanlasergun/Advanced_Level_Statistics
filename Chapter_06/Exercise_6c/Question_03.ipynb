{
 "cells": [
  {
   "cell_type": "markdown",
   "id": "9264aef3-90b0-423e-953b-42a3b8fc4adb",
   "metadata": {},
   "source": [
    "# Question 3\n",
    "-----"
   ]
  },
  {
   "cell_type": "markdown",
   "id": "f00278df-0f0c-471f-a939-aa8ba66ae6a1",
   "metadata": {},
   "source": [
    "$$f(x) = 1 - \\frac{x}{4}$$\n",
    "\n",
    "$$xf(x) = x - \\frac{x^2}{4}$$\n",
    "\n",
    "$$E(X) = \\int_{1}^{3}  x - \\frac{x^2}{4} \\ dx$$\n",
    "\n",
    "$$E(X) = [\\frac{x^2}{2} - \\frac{x^3}{12}]_{1}^{3}$$\n",
    "\n",
    "$$E(X) = 2.25 - 0.417 = 1.83333$$\n",
    "\n",
    "-----\n",
    "\n",
    "$$x^2f(x) = x^2 - \\frac{x^3}{4}$$\n",
    "\n",
    "$$E(X^2) = \\int_{1}^{3} x^2 - \\frac{x^3}{4}$$\n",
    "\n",
    "$$E(X^2) = [\\frac{x^3}{3} - \\frac{x^4}{16}]_{1}^{3}$$\n",
    "\n",
    "$$E(X^2) = 3.9375 - 0.2708 = 3.66666$$\n",
    "\n",
    "-----\n",
    "\n",
    "$$Var(X) = E(X^2) - (E(X))^2$$\n",
    "\n",
    "$$Var(X) = 3.66666 - (1.8333^2)$$\n",
    "\n",
    "$$Var(X) = 0.306$$\n",
    "\n",
    "-----\n",
    "\n",
    "$$\\sigma = \\sqrt(0.306)$$\n",
    "\n",
    "$$\\sigma = 0.5538$$"
   ]
  },
  {
   "cell_type": "code",
   "execution_count": null,
   "id": "1cbbdd1d-cce7-430a-bb92-68313b4e6059",
   "metadata": {},
   "outputs": [],
   "source": []
  }
 ],
 "metadata": {
  "kernelspec": {
   "display_name": "Python 3 (ipykernel)",
   "language": "python",
   "name": "python3"
  },
  "language_info": {
   "codemirror_mode": {
    "name": "ipython",
    "version": 3
   },
   "file_extension": ".py",
   "mimetype": "text/x-python",
   "name": "python",
   "nbconvert_exporter": "python",
   "pygments_lexer": "ipython3",
   "version": "3.12.1"
  }
 },
 "nbformat": 4,
 "nbformat_minor": 5
}

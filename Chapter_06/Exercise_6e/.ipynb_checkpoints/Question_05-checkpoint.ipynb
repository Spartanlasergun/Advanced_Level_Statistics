{
 "cells": [
  {
   "cell_type": "markdown",
   "id": "c3b5a80f-6db1-4bf2-9c25-37c1a61bbf06",
   "metadata": {},
   "source": [
    "# Question 5\n",
    "-----"
   ]
  },
  {
   "cell_type": "markdown",
   "id": "7a08ea34-e04f-4bf4-93ef-41c01c872553",
   "metadata": {},
   "source": [
    "$$F(x) = \\frac{x^2}{12} - \\frac{x}{6} + \\frac{1}{12}, \\ \\ \\ for \\ \\ 1 \\le x \\le 3$$\n",
    "\n",
    "$$p.d.f = \\frac{x}{6} - \\frac{1}{6}, \\ \\ \\ for \\ \\ 1 \\le x \\le 3$$\n",
    "\n",
    "$$F(x) = \\frac{7x}{12} - \\frac{x^2}{24} - \\frac{25}{24},  \\ \\ \\ for \\ \\ 3 \\le x \\le 7$$\n",
    "\n",
    "$$p.d.f = \\frac{7}{12} - \\frac{x}{12},  \\ \\ \\ for \\ \\ 3 \\le x \\le 7$$"
   ]
  },
  {
   "cell_type": "code",
   "execution_count": 1,
   "id": "503c434f-2e7e-4de4-9eca-8aac10370b84",
   "metadata": {},
   "outputs": [
    {
     "data": {
      "image/png": "[encoded data removed]",
      "text/plain": [
       "<Figure size 640x480 with 1 Axes>"
      ]
     },
     "metadata": {},
     "output_type": "display_data"
    }
   ],
   "source": [
    "import matplotlib.pyplot as plt\n",
    "import numpy as np\n",
    "\n",
    "x = np.arange(1, 3.1, 0.1)\n",
    "y = []\n",
    "for item in x:\n",
    "    fx = (item/6) - (1/6)\n",
    "    y.append(fx)\n",
    "\n",
    "x_1 = np.arange(3, 7.1, 0.1)\n",
    "y_1 = []\n",
    "for item in x_1:\n",
    "    fx = (7/12) - (item/12)\n",
    "    y_1.append(fx)\n",
    "\n",
    "plt.plot(x, y)\n",
    "plt.plot(x_1, y_1)\n",
    "plt.show()"
   ]
  },
  {
   "cell_type": "markdown",
   "id": "2d6ce281-e74e-4589-a2f5-317da5166baf",
   "metadata": {},
   "source": [
    "b)\n",
    "\n",
    "$$xf(x) = \\frac{x^2}{6} - \\frac{x}{6}, \\ \\ \\ for \\ \\ 1 \\le x \\le 3$$\n",
    "\n",
    "$$xf(x) = \\frac{7x}{12} - \\frac{x^2}{12},  \\ \\ \\ for \\ \\ 3 \\le x \\le 7$$\n",
    "\n",
    "$$E(X) = \\int_{1}^{3} \\frac{x^2}{6} - \\frac{x}{6} \\ dx + \\int_{3}^{7} \\frac{7x}{12} - \\frac{x^2}{12} \\ dx$$\n",
    "\n",
    "$$E(X) = [\\frac{x^3}{18} - \\frac{x^2}{12}]_{1}^{3} + [\\frac{7x^2}{24} - \\frac{x^3}{36}]_{3}^{7}$$\n",
    "\n",
    "$$E(X) = ((\\frac{27}{18} - \\frac{9}{12}) - (\\frac{1}{18} - \\frac{1}{12})) + ((\\frac{343}{24} - \\frac{343}{36}) - (\\frac{63}{24} - \\frac{27}{36}))$$\n",
    "\n",
    "$$E(X) = 0.777778 + 2.8888889$$\n",
    "\n",
    "$$E(X) = 3.66667$$\n",
    "\n",
    "-----\n",
    "c)\n",
    "\n",
    "$$x^2f(x) = \\frac{x^3}{6} - \\frac{x^2}{6}, \\ \\ \\ for \\ \\ 1 \\le x \\le 3$$\n",
    "\n",
    "$$x^2f(x) = \\frac{7x^2}{12} - \\frac{x^3}{12},  \\ \\ \\ for \\ \\ 3 \\le x \\le 7$$\n",
    "\n",
    "$$E(X^2) = \\int_{1}^{3} \\frac{x^3}{6} - \\frac{x^2}{6} \\ dx + \\int_{3}^{7} \\frac{7x^2}{12} - \\frac{x^3}{12} \\ dx$$\n",
    "\n",
    "$$E(X^2) = [\\frac{x^4}{24} - \\frac{x^3}{18}]_{1}^{3} \\ dx + [\\frac{7x^3}{36} - \\frac{x^4}{48}]_{3}^{7}$$\n",
    "\n",
    "$$E(X^2) = (3.375 - 1.5) - (\\frac{1}{24} - \\frac{1}{18}) + ((66.7 - 50.02) - (5.25 - 1.6875))$$\n",
    "\n",
    "$$E(X^2) = 1.88888 + 13.1175$$\n",
    "\n",
    "$$E(X^2) = 15.01$$\n",
    "\n",
    "$$Var(X) = E(X^2) - (E(X))^2$$\n",
    "\n",
    "$$Var(X) = 15.01 - (3.66666^2)$$\n",
    "\n",
    "$$Var(X) = 1.566$$\n",
    "\n",
    "-----\n",
    "d)\n",
    "\n",
    "$$\\frac{7x}{12} - \\frac{x^2}{24} - \\frac{25}{24} = 0.5$$\n",
    "\n",
    "$$14x - x^2 - 25 = 12$$\n",
    "\n",
    "$$14x - x^2 - 37 = 0$$\n",
    "\n",
    "$$a = -1, \\ \\ b = 14, \\ \\ c = -37$$\n",
    "\n",
    "$$x = \\frac{-14 \\pm \\sqrt{14^2 - (4 * -1 * -37)}}{-2}$$\n",
    "\n",
    "$$x = \\frac{-14 \\pm \\sqrt{48}}{-2}$$\n",
    "\n",
    "$$x = \\frac{-14 \\pm 6.9282}{-2}$$\n",
    "\n",
    "$$x = 3.54, \\ \\ 10.465$$\n",
    "\n",
    "$$median = 3.54$$\n",
    "\n",
    "-----\n",
    "e)\n",
    "\n",
    "$$P(2.8 \\le X \\le 5.2) = \\int_{2.8}^{3} \\frac{x}{6} - \\frac{1}{6} \\ dx + \\int_{3}^{5.2} \\frac{7}{12} - \\frac{x}{12} \\ dx$$\n",
    "\n",
    "$$P(2.8 \\le X \\le 5.2) = [\\frac{x^2}{36} - \\frac{x}{6}]_{2.8}^{3} + [\\frac{7x}{12} - \\frac{x^2}{24}]_{3}^{5.2}$$\n",
    "\n",
    "$$P(2.8 \\le X \\le 5.2) = ((\\frac{9}{36} - 0.5) - (0.21777 - 0.46666)) + (3.03 - 1.127) - (1.75 - 0.375)$$\n",
    "\n",
    "$$P(2.8 \\le X \\le 5.2) = -0.00011 + 0.532$$\n",
    "\n",
    "$$P(2.8 \\le X \\le 5.2) = 0.532$$"
   ]
  }
 ],
 "metadata": {
  "kernelspec": {
   "display_name": "Python 3 (ipykernel)",
   "language": "python",
   "name": "python3"
  },
  "language_info": {
   "codemirror_mode": {
    "name": "ipython",
    "version": 3
   },
   "file_extension": ".py",
   "mimetype": "text/x-python",
   "name": "python",
   "nbconvert_exporter": "python",
   "pygments_lexer": "ipython3",
   "version": "3.12.1"
  }
 },
 "nbformat": 4,
 "nbformat_minor": 5
}

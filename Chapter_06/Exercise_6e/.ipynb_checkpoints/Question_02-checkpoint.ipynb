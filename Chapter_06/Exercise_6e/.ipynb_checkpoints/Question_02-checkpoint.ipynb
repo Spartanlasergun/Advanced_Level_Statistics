{
 "cells": [
  {
   "cell_type": "markdown",
   "id": "7fbe2e7d-290a-475f-9735-0487c2660c82",
   "metadata": {},
   "source": [
    "# Question 2\n",
    "-----"
   ]
  },
  {
   "cell_type": "markdown",
   "id": "3cceddcc-857e-48f2-be0a-6f1e8058489a",
   "metadata": {},
   "source": [
    "a)\n",
    "\n",
    "$$F(x) = x^3$$\n",
    "\n",
    "for the median,\n",
    "\n",
    "$$x^3 = 0.5$$\n",
    "\n",
    "$$x = 0.794$$\n",
    "\n",
    "-----\n",
    "b)\n",
    "\n",
    "$$f(x) = 3x^2$$\n",
    "\n",
    "$$E(X) = \\int_{0}^{1} 3x^2 \\ dx$$\n",
    "\n",
    "$$E(X) = [x^3]_{0}^{1}$$\n",
    "\n",
    "$$E(X) = 1$$"
   ]
  }
 ],
 "metadata": {
  "kernelspec": {
   "display_name": "Python 3 (ipykernel)",
   "language": "python",
   "name": "python3"
  },
  "language_info": {
   "codemirror_mode": {
    "name": "ipython",
    "version": 3
   },
   "file_extension": ".py",
   "mimetype": "text/x-python",
   "name": "python",
   "nbconvert_exporter": "python",
   "pygments_lexer": "ipython3",
   "version": "3.12.1"
  }
 },
 "nbformat": 4,
 "nbformat_minor": 5
}

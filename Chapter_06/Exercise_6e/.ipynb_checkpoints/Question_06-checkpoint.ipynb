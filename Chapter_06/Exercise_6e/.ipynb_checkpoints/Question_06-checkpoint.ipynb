{
 "cells": [
  {
   "cell_type": "markdown",
   "id": "f061d287-e3b2-4cd8-9551-7cd2f54cb0bf",
   "metadata": {},
   "source": [
    "# Question 6\n",
    "-----"
   ]
  },
  {
   "cell_type": "markdown",
   "id": "ac5168be-b427-4946-a385-2861d1575ad9",
   "metadata": {},
   "source": [
    "$$F(x) = \\frac{1}{8} + \\frac{x}{8}, \\ \\ \\ for \\ \\ -1 \\le x \\le 0$$\n",
    "\n",
    "$$p.d.f. = \\frac{1}{8}, \\ \\ \\ for \\ \\ -1 \\le x \\le 0$$\n",
    "\n",
    "$$F(x) = \\frac{1}{8} + \\frac{3x}{8}, \\ \\ \\ for \\ \\ 0 \\le x \\le 2$$\n",
    "\n",
    "$$p.d.f. = \\frac{3}{8}, \\ \\ \\ for \\ \\ 0 \\le x \\le 2$$\n",
    "\n",
    "$$F(x) = \\frac{5}{8} + \\frac{x}{8}, \\ \\ \\ for \\ \\ 2 \\le x \\le 3$$\n",
    "\n",
    "$$p.d.f. = \\frac{1}{8}, \\ \\ \\ for \\ \\ 2 \\le x \\le 3$$"
   ]
  },
  {
   "cell_type": "code",
   "execution_count": 1,
   "id": "c302d9a7-e96c-498d-afa7-71dff93d1a92",
   "metadata": {},
   "outputs": [
    {
     "data": {
      "image/png": "[encoded data removed]",
      "text/plain": [
       "<Figure size 640x480 with 1 Axes>"
      ]
     },
     "metadata": {},
     "output_type": "display_data"
    }
   ],
   "source": [
    "import matplotlib.pyplot as plt\n",
    "\n",
    "x = [-1, 0]\n",
    "y = [(1/8), (1/8)]\n",
    "\n",
    "x_1 = [0, 2]\n",
    "y_1 = [(3/8), (3/8)]\n",
    "\n",
    "x_2 = [2, 3]\n",
    "y_2 = [(1/8), (1/8)]\n",
    "\n",
    "plt.plot(x, y)\n",
    "plt.plot(x_1, y_1)\n",
    "plt.plot(x_2, y_2)\n",
    "plt.show()    "
   ]
  },
  {
   "cell_type": "markdown",
   "id": "cb4bee2a-49d7-4eed-909a-6986fceba209",
   "metadata": {},
   "source": [
    "-----\n",
    "b)\n",
    "\n",
    "$$E(X) = \\int_{-1}^{0} \\frac{x}{8} \\ dx + \\int_{0}^{2} \\frac{3x}{8} \\ dx + \\int_{2}^{3} \\frac{x}{8} \\ dx$$\n",
    "\n",
    "$$E(X) = [\\frac{x^2}{16}]_{-1}^{0} + [\\frac{3x^2}{16}\\_{0}^{2} + [\\frac{x^2}{16}]_{2}^{3}$$\n",
    "\n",
    "$$E(X) = \\frac{-1}{16} + \\frac{12}{16} + (\\frac{9}{16} - \\frac{4}{16})$$\n",
    "\n",
    "$$E(X) = 1$$\n",
    "\n",
    "$$E(X^2) = \\int_{-1}^{0} \\frac{x^2}{8} \\ dx + \\int_{0}^{2} \\frac{3x^2}{8} \\ dx + \\int_{2}^{3} \\frac{x^2}{8} \\ dx$$\n",
    "\n",
    "$$E(X^2) = [\\frac{x^3}{24}]_{-1}^{0} + [\\frac{x^3}{8}]_{0}^{2} + [\\frac{x^3}{24}]_{2}^{3}$$\n",
    "\n",
    "$$E(X^2) = (\\frac{1}{24}) + 1 + (\\frac{27}{24} - \\frac{8}{24})$$\n",
    "\n",
    "$$E(X^2) = \\frac{44}{24} = \\frac{11}{6}$$\n",
    "\n",
    "$$Var(X) = E(X^2) - (E(X))^2$$\n",
    "\n",
    "$$Var(X) = \\frac{11}{6} - 1^2$$\n",
    "\n",
    "$$Var(X) = \\frac{5}{6}$$\n",
    "\n",
    "-----\n",
    "c)\n",
    "\n",
    "$$P(3 \\le 2X \\le 5) = \\int_{3}^{5} 0.25 \\ dx$$\n",
    "\n",
    "$$P(3 \\le 2X \\le 5) = [0.25x]_{3}^{5}$$\n",
    "\n",
    "$$P(3 \\le 2X \\le 5) = 1.25 - 0.75$$\n",
    "\n",
    "$$P(3 \\le 2X \\le 5) = 0.5$$"
   ]
  }
 ],
 "metadata": {
  "kernelspec": {
   "display_name": "Python 3 (ipykernel)",
   "language": "python",
   "name": "python3"
  },
  "language_info": {
   "codemirror_mode": {
    "name": "ipython",
    "version": 3
   },
   "file_extension": ".py",
   "mimetype": "text/x-python",
   "name": "python",
   "nbconvert_exporter": "python",
   "pygments_lexer": "ipython3",
   "version": "3.12.1"
  }
 },
 "nbformat": 4,
 "nbformat_minor": 5
}

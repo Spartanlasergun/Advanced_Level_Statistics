{
 "cells": [
  {
   "cell_type": "markdown",
   "id": "93dce680-3d2f-455b-ad27-9e75f281aea0",
   "metadata": {},
   "source": [
    "# Question 8\n",
    "-----"
   ]
  },
  {
   "cell_type": "markdown",
   "id": "095bc3f0-a0be-4d61-9e0a-95587d7f8e1c",
   "metadata": {},
   "source": [
    "$$f(x) = kx$$\n",
    "\n",
    "$$\\int_{0}^{0.5} kx \\ dx = 1$$\n",
    "\n",
    "$$[0.5kx^2]_{0}^{0.5} = 1$$\n",
    "\n",
    "$$0.125k = 1$$\n",
    "\n",
    "$$k = 8$$\n",
    "\n",
    "Question omitted due to errors"
   ]
  }
 ],
 "metadata": {
  "kernelspec": {
   "display_name": "Python 3 (ipykernel)",
   "language": "python",
   "name": "python3"
  },
  "language_info": {
   "codemirror_mode": {
    "name": "ipython",
    "version": 3
   },
   "file_extension": ".py",
   "mimetype": "text/x-python",
   "name": "python",
   "nbconvert_exporter": "python",
   "pygments_lexer": "ipython3",
   "version": "3.12.1"
  }
 },
 "nbformat": 4,
 "nbformat_minor": 5
}

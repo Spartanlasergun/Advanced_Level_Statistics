{
 "cells": [
  {
   "cell_type": "markdown",
   "id": "ab6af5c0-de14-4a0f-b23b-d15495bee346",
   "metadata": {},
   "source": [
    "# Question 3\n",
    "-----"
   ]
  },
  {
   "cell_type": "markdown",
   "id": "de9157f9-6b5d-4031-88b9-80bd49b91dbe",
   "metadata": {},
   "source": [
    "$$f(w) = 0.032w^3 - 0.0064w^4$$\n",
    "\n",
    "$$F(w) = 0.008w^4 - 0.00128w^5$$"
   ]
  },
  {
   "cell_type": "code",
   "execution_count": 1,
   "id": "9eadbc98-1b9c-42c5-a5f3-dd2e1680ab84",
   "metadata": {},
   "outputs": [
    {
     "name": "stdout",
     "output_type": "stream",
     "text": [
      "P(2 <= w <= 4) = 0.6502399999999999\n"
     ]
    }
   ],
   "source": [
    "from scipy.integrate import quad\n",
    "\n",
    "# Define the function to integrate\n",
    "def integrand(x):\n",
    "    return (0.032 * x**3) - (0.0064 * x**4)\n",
    "\n",
    "# Set the integration limits\n",
    "lower_limit = 2\n",
    "upper_limit = 4\n",
    "\n",
    "# Perform the integration\n",
    "result, error = quad(integrand, lower_limit, upper_limit)\n",
    "\n",
    "# Print the result\n",
    "print(\"P(2 <= w <= 4) = \" + str(result))"
   ]
  },
  {
   "cell_type": "code",
   "execution_count": 2,
   "id": "3d954b00-2b3d-4389-a38a-27d8f94eb1d4",
   "metadata": {},
   "outputs": [
    {
     "name": "stdout",
     "output_type": "stream",
     "text": [
      "Var(X) = 0.7938730147619069\n"
     ]
    }
   ],
   "source": [
    "def integrand(x):\n",
    "    return (0.032 * x**5) - (0.0064 * x**6)\n",
    "\n",
    "# Set the integration limits\n",
    "lower_limit = 0\n",
    "upper_limit = 5\n",
    "\n",
    "# Perform the integration\n",
    "EX_2, error = quad(integrand, lower_limit, upper_limit)\n",
    "Var = EX_2 - (3.3333**2)\n",
    "print(\"Var(X) = \" + str(Var))"
   ]
  },
  {
   "cell_type": "markdown",
   "id": "b60f7d7b-54e3-4466-a308-dd355eaee08a",
   "metadata": {},
   "source": [
    "$$f(w) = 0.032w^3 - 0.0064w^4$$"
   ]
  },
  {
   "cell_type": "code",
   "execution_count": 3,
   "id": "44d7f010-51e1-46f0-a887-91248c53a195",
   "metadata": {},
   "outputs": [
    {
     "name": "stdout",
     "output_type": "stream",
     "text": [
      "Maximum point / Mode: 3.7499999995135416\n"
     ]
    }
   ],
   "source": [
    "from scipy.optimize import minimize_scalar\n",
    "\n",
    "# Define your function\n",
    "def my_function(x):\n",
    "    return (0.032 * x**3) - (0.0064 * x**4)\n",
    "\n",
    "# Find the maximum point\n",
    "result = minimize_scalar(lambda x: -my_function(x))  # Negate for finding the maximum\n",
    "\n",
    "# Print the result\n",
    "print(\"Maximum point / Mode:\", result.x)"
   ]
  },
  {
   "cell_type": "markdown",
   "id": "12f6ab16-a348-404a-a5cb-6191826d16bd",
   "metadata": {},
   "source": [
    "$$F(w) = 0.008w^4 - 0.00128w^5$$"
   ]
  },
  {
   "cell_type": "code",
   "execution_count": 4,
   "id": "74cfa6a9-a090-40c6-a94d-d9d5ed17e699",
   "metadata": {},
   "outputs": [
    {
     "name": "stdout",
     "output_type": "stream",
     "text": [
      "verified median = 3.4309600000140095\n"
     ]
    }
   ],
   "source": [
    "x = 0\n",
    "fx = 0\n",
    "while fx < 0.5:\n",
    "    fx = (0.008 * x**4) - (0.00128 * x**5)\n",
    "    x = x + 0.00001\n",
    "print(\"verified median = \" + str(x))"
   ]
  },
  {
   "cell_type": "markdown",
   "id": "2d2d35f2-f101-4fa3-be2d-ec966762c695",
   "metadata": {},
   "source": [
    "Distribution peaks to the right, hence it is negatively skewed"
   ]
  }
 ],
 "metadata": {
  "kernelspec": {
   "display_name": "Python 3 (ipykernel)",
   "language": "python",
   "name": "python3"
  },
  "language_info": {
   "codemirror_mode": {
    "name": "ipython",
    "version": 3
   },
   "file_extension": ".py",
   "mimetype": "text/x-python",
   "name": "python",
   "nbconvert_exporter": "python",
   "pygments_lexer": "ipython3",
   "version": "3.12.1"
  }
 },
 "nbformat": 4,
 "nbformat_minor": 5
}

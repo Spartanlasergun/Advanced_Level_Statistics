{
 "cells": [
  {
   "cell_type": "markdown",
   "id": "4a69ef9f-36ef-4ad2-b19f-fecc5c0f882a",
   "metadata": {},
   "source": [
    "# Question 2\n",
    "-----"
   ]
  },
  {
   "cell_type": "markdown",
   "id": "e1a60c34-5a21-4b89-a5bc-9d07ab5d2518",
   "metadata": {},
   "source": [
    "$$f(x) = kx - kx^3$$\n",
    "\n",
    "$$\\int_{0}^{1} kx - kx^3 \\ dx = 1$$\n",
    "\n",
    "$$[0.5kx^2 - 0.25kx^4]_{0}^{1} = 1$$\n",
    "\n",
    "$$0.5k - 0.25k = 1$$\n",
    "\n",
    "$$k = 4$$"
   ]
  },
  {
   "cell_type": "code",
   "execution_count": 7,
   "id": "9a4c35a5-7401-43a0-9133-1a8e74729580",
   "metadata": {},
   "outputs": [
    {
     "name": "stdout",
     "output_type": "stream",
     "text": [
      "E(X) = 0.5333333333333333\n"
     ]
    }
   ],
   "source": [
    "from scipy.integrate import quad\n",
    "\n",
    "# Define the function to integrate\n",
    "def integrand(x):\n",
    "    return (4 * x**2) - (4 * x**4)\n",
    "\n",
    "# Set the integration limits\n",
    "lower_limit = 0\n",
    "upper_limit = 1\n",
    "\n",
    "# Perform the integration\n",
    "EX, error = quad(integrand, lower_limit, upper_limit)\n",
    "\n",
    "# Print the result\n",
    "print(\"E(X) = \"  +str(EX))"
   ]
  },
  {
   "cell_type": "code",
   "execution_count": 8,
   "id": "568dd5bd-0b18-4fc0-8ae5-0d8d0340dbe7",
   "metadata": {},
   "outputs": [
    {
     "name": "stdout",
     "output_type": "stream",
     "text": [
      "Var(X) = 0.048888888888888815\n"
     ]
    }
   ],
   "source": [
    "def integrand(x):\n",
    "    return (4 * x**3) - (4 * x**5)\n",
    "\n",
    "# Set the integration limits\n",
    "lower_limit = 0\n",
    "upper_limit = 1\n",
    "\n",
    "# Perform the integration\n",
    "EX_2, error = quad(integrand, lower_limit, upper_limit)\n",
    "Var = EX_2 - (EX**2)\n",
    "print(\"Var(X) = \" + str(Var))"
   ]
  },
  {
   "cell_type": "markdown",
   "id": "58b0bfea-51c5-44de-b3e6-fd912ced1e31",
   "metadata": {},
   "source": [
    "$$F(x) = 2x^2 - x^4$$"
   ]
  },
  {
   "cell_type": "code",
   "execution_count": 16,
   "id": "08efcf43-ad2c-4132-a8d6-9e769ec0d191",
   "metadata": {},
   "outputs": [
    {
     "name": "stdout",
     "output_type": "stream",
     "text": [
      "median = 0.5412100000001717\n"
     ]
    }
   ],
   "source": [
    "x = 0\n",
    "fx = 0\n",
    "while fx < 0.5:\n",
    "    fx = (2 * x**2) - (x**4)\n",
    "    x = x + 0.00001\n",
    "print(\"median = \" + str(x))"
   ]
  }
 ],
 "metadata": {
  "kernelspec": {
   "display_name": "Python 3 (ipykernel)",
   "language": "python",
   "name": "python3"
  },
  "language_info": {
   "codemirror_mode": {
    "name": "ipython",
    "version": 3
   },
   "file_extension": ".py",
   "mimetype": "text/x-python",
   "name": "python",
   "nbconvert_exporter": "python",
   "pygments_lexer": "ipython3",
   "version": "3.12.1"
  }
 },
 "nbformat": 4,
 "nbformat_minor": 5
}

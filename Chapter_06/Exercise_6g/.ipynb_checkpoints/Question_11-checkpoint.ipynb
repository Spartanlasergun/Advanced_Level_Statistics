{
 "cells": [
  {
   "cell_type": "markdown",
   "id": "ed4d6a60-dc4a-4506-aad6-a8a357e40de2",
   "metadata": {},
   "source": [
    "# Question 11\n",
    "-----"
   ]
  },
  {
   "cell_type": "markdown",
   "id": "e42851c7-26c7-41ab-a870-89899d804907",
   "metadata": {},
   "source": [
    "a) 0"
   ]
  },
  {
   "cell_type": "code",
   "execution_count": 5,
   "id": "72446203-f634-4c04-b756-841bee79aac6",
   "metadata": {},
   "outputs": [
    {
     "name": "stdout",
     "output_type": "stream",
     "text": [
      "P(X > 0.25) = 0.15625000000000003\n"
     ]
    }
   ],
   "source": [
    "from scipy.integrate import quad\n",
    "\n",
    "# Define the function to integrate\n",
    "def integrand(x):\n",
    "    return (1.5 - (6 * x**2))\n",
    "\n",
    "# Set the integration limits\n",
    "lower_limit = 0.25\n",
    "upper_limit = 0.5\n",
    "\n",
    "# Perform the integration\n",
    "result, error = quad(integrand, lower_limit, upper_limit)\n",
    "\n",
    "# Print the result\n",
    "print(\"P(X > 0.25) = \" + str(result))"
   ]
  },
  {
   "cell_type": "markdown",
   "id": "1913ee32-4f85-46ca-ace0-25b0b94954f1",
   "metadata": {},
   "source": [
    "The mean is 0 because the probabilities are evenly distributed below and above the center"
   ]
  },
  {
   "cell_type": "code",
   "execution_count": 6,
   "id": "51683f91-7d06-4380-aaf4-c6aabef7b6fb",
   "metadata": {},
   "outputs": [
    {
     "name": "stdout",
     "output_type": "stream",
     "text": [
      "Var(X) = 0.05\n"
     ]
    }
   ],
   "source": [
    "# Define the function to integrate\n",
    "def integrand(x):\n",
    "    return (1.5 * x**2) - (6 * x**4)\n",
    "\n",
    "# Set the integration limits\n",
    "lower_limit = -0.5\n",
    "upper_limit = 0.5\n",
    "\n",
    "# Perform the integration\n",
    "EX_2, error = quad(integrand, lower_limit, upper_limit)\n",
    "\n",
    "Var = EX_2 - 0\n",
    "print(\"Var(X) = \" + str(Var))"
   ]
  }
 ],
 "metadata": {
  "kernelspec": {
   "display_name": "Python 3 (ipykernel)",
   "language": "python",
   "name": "python3"
  },
  "language_info": {
   "codemirror_mode": {
    "name": "ipython",
    "version": 3
   },
   "file_extension": ".py",
   "mimetype": "text/x-python",
   "name": "python",
   "nbconvert_exporter": "python",
   "pygments_lexer": "ipython3",
   "version": "3.12.1"
  }
 },
 "nbformat": 4,
 "nbformat_minor": 5
}

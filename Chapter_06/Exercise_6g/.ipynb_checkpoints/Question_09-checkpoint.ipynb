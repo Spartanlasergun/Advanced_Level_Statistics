{
 "cells": [
  {
   "cell_type": "markdown",
   "id": "59e8155f-1709-4ea8-8b45-eb3a69ef41ae",
   "metadata": {},
   "source": [
    "# Question 9\n",
    "-----"
   ]
  },
  {
   "cell_type": "markdown",
   "id": "dda5074e-aa9f-4b41-b15f-0cd88e82b497",
   "metadata": {},
   "source": [
    "$$\\int_{0}^{9} 9k - kx \\ dx = 1$$\n",
    "\n",
    "$$[9kx - 0.5kx^2]_{0}^{9} = 1$$\n",
    "\n",
    "$$81k - 40.5k = 1$$\n",
    "\n",
    "$$k = \\frac{1}{40.5} = \\frac{2}{81}$$"
   ]
  },
  {
   "cell_type": "code",
   "execution_count": 3,
   "id": "93424f30-6d76-484b-bb91-5fa4bd182552",
   "metadata": {},
   "outputs": [
    {
     "name": "stdout",
     "output_type": "stream",
     "text": [
      "E(X) = 30.0hours\n"
     ]
    }
   ],
   "source": [
    "from scipy.integrate import quad\n",
    "\n",
    "# Define the function to integrate\n",
    "def integrand(x):\n",
    "    return ((18 * x) / 81) - ((2 * x**2) / 81)\n",
    "\n",
    "# Set the integration limits\n",
    "lower_limit = 0\n",
    "upper_limit = 9\n",
    "\n",
    "# Perform the integration\n",
    "result, error = quad(integrand, lower_limit, upper_limit)\n",
    "\n",
    "EX = result * 10\n",
    "# Print the result\n",
    "print(\"E(X) = \" + str(EX) + \"hours\")"
   ]
  },
  {
   "cell_type": "code",
   "execution_count": 4,
   "id": "3cb110a8-137c-40f9-ac0f-e4a1009bdc0f",
   "metadata": {},
   "outputs": [
    {
     "name": "stdout",
     "output_type": "stream",
     "text": [
      "std = 21.213203435596423\n"
     ]
    }
   ],
   "source": [
    "def integrand(x):\n",
    "    return ((18 * x**2) / 81) - ((2 * x**3) / 81)\n",
    "\n",
    "# Set the integration limits\n",
    "lower_limit = 0\n",
    "upper_limit = 9\n",
    "\n",
    "# Perform the integration\n",
    "EX_2, error = quad(integrand, lower_limit, upper_limit)\n",
    "\n",
    "Var = EX_2 - (3**2)\n",
    "import math\n",
    "std = math.sqrt(Var)\n",
    "hours = std * 10\n",
    "print(\"std = \" + str(hours))"
   ]
  },
  {
   "cell_type": "code",
   "execution_count": 6,
   "id": "c6937a5b-86a3-4cff-9f92-245c82667c50",
   "metadata": {},
   "outputs": [
    {
     "name": "stdout",
     "output_type": "stream",
     "text": [
      "P(X < = 50) = 0.8024691358024693\n"
     ]
    }
   ],
   "source": [
    "def integrand(x):\n",
    "    return (18 / 81) - ((2 * x) / 81)\n",
    "\n",
    "# Set the integration limits\n",
    "lower_limit = 0\n",
    "upper_limit = 5\n",
    "\n",
    "# Perform the integration\n",
    "result, error = quad(integrand, lower_limit, upper_limit)\n",
    "\n",
    "print(\"P(X < = 50) = \" + str(result))"
   ]
  },
  {
   "cell_type": "code",
   "execution_count": 8,
   "id": "c3c53406-ca1c-478f-9b6e-1fc2adcb1620",
   "metadata": {},
   "outputs": [
    {
     "name": "stdout",
     "output_type": "stream",
     "text": [
      "P(X > 50) = 0.03901844231062333\n"
     ]
    }
   ],
   "source": [
    "morethan50 = 1 - result\n",
    "prob = morethan50**2\n",
    "print(\"P(X > 50) = \" + str(prob))"
   ]
  }
 ],
 "metadata": {
  "kernelspec": {
   "display_name": "Python 3 (ipykernel)",
   "language": "python",
   "name": "python3"
  },
  "language_info": {
   "codemirror_mode": {
    "name": "ipython",
    "version": 3
   },
   "file_extension": ".py",
   "mimetype": "text/x-python",
   "name": "python",
   "nbconvert_exporter": "python",
   "pygments_lexer": "ipython3",
   "version": "3.12.1"
  }
 },
 "nbformat": 4,
 "nbformat_minor": 5
}

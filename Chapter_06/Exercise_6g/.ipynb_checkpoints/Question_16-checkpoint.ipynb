{
 "cells": [
  {
   "cell_type": "markdown",
   "id": "daa00be7-005a-4f24-b389-4b9c5d644d90",
   "metadata": {},
   "source": [
    "# Question 16\n",
    "-----"
   ]
  },
  {
   "cell_type": "markdown",
   "id": "646cec5f-b4b8-4c38-8fe8-431dc7635e78",
   "metadata": {},
   "source": [
    "a)\n",
    "\n",
    "$$\\int_{0}^{1} kx \\ dx + \\int_{1}^{2} kx^2 \\ dx = 1$$\n",
    "\n",
    "$$[0.5kx^2]_{0}^{1} + [\\frac{kx^3}{3}]_{1}^{2} = 1$$\n",
    "\n",
    "$$0.5k + (\\frac{8k}{3} - \\frac{k}{3}) = 1$$\n",
    "\n",
    "$$1.5k + 7k = 3$$\n",
    "\n",
    "$$8.5k = 3$$\n",
    "\n",
    "$$k = \\frac{3}{8.5} = \\frac{6}{17}$$\n",
    "\n",
    "-----\n",
    "b)\n",
    "\n",
    "$$F(x) = \\frac{3x^2}{17}, \\ \\ \\ for \\ \\ 0 \\le x \\le 1$$\n",
    "\n",
    "$$F(x) = \\frac{2x^3}{17} + C, \\ \\ \\ for \\ \\ 1 \\le x \\le 2$$\n",
    "\n",
    "lower boundary is given by $x = 1$, $y = \\frac{3}{17}$\n",
    "\n",
    "$$\\frac{3}{17} = \\frac{2}{17} + C$$\n",
    "\n",
    "$$C = \\frac{1}{17}$$\n",
    "\n",
    "$$F(x) = \\frac{2x^3}{17} + \\frac{1}{17}, \\ \\ \\ for \\ \\ 1 \\le x \\le 2$$\n",
    "\n",
    "-----\n",
    "c)\n",
    "\n",
    "$$\\frac{2x^3}{17} + \\frac{1}{17} = 0.5$$\n",
    "\n",
    "$$2x^3 + 1 = 8.5$$\n",
    "\n",
    "$$2x^3 = 7.5$$\n",
    "\n",
    "$$x^3 = 3.75$$\n",
    "\n",
    "$$x = 1.55$$\n",
    "\n",
    "$$median = 1.55$$"
   ]
  },
  {
   "cell_type": "code",
   "execution_count": 4,
   "id": "7b25bd87-465a-47fd-856e-ab127f96297b",
   "metadata": {},
   "outputs": [
    {
     "name": "stdout",
     "output_type": "stream",
     "text": [
      "P(|X - m| < 0.75) = 0.8205882352941173\n"
     ]
    }
   ],
   "source": [
    "from scipy.integrate import quad\n",
    "\n",
    "# Define the function to integrate\n",
    "def integrand(x):\n",
    "    return ((6 * x) / 17)\n",
    "\n",
    "# Set the integration limits\n",
    "lower_limit = abs(0.75 - 1.55)\n",
    "upper_limit = 1.55 + 0.75\n",
    "\n",
    "# Perform the integration\n",
    "result, error = quad(integrand, lower_limit, upper_limit)\n",
    "\n",
    "# Print the result\n",
    "print(\"P(|X - m| < 0.75) = \" + str(result))"
   ]
  }
 ],
 "metadata": {
  "kernelspec": {
   "display_name": "Python 3 (ipykernel)",
   "language": "python",
   "name": "python3"
  },
  "language_info": {
   "codemirror_mode": {
    "name": "ipython",
    "version": 3
   },
   "file_extension": ".py",
   "mimetype": "text/x-python",
   "name": "python",
   "nbconvert_exporter": "python",
   "pygments_lexer": "ipython3",
   "version": "3.12.1"
  }
 },
 "nbformat": 4,
 "nbformat_minor": 5
}

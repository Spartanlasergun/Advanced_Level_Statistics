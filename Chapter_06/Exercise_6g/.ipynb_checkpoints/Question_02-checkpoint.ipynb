{
 "cells": [
  {
   "cell_type": "markdown",
   "id": "b5d1d86d-1464-495d-a182-cd543e05abf3",
   "metadata": {},
   "source": [
    "# Question 2\n",
    "-----"
   ]
  },
  {
   "cell_type": "markdown",
   "id": "47a19b1d-8c9a-46c7-a837-4c80f52acd5f",
   "metadata": {},
   "source": [
    "$$f(x) = \\frac{6}{x^2}$$\n",
    "\n",
    "$$F(x) = 6 \\int_{2}^{t} x^-2 \\ dx$$\n",
    "\n",
    "$$F(x) = 6 * [\\frac{-1}{x}]_{2}^{t}$$\n",
    "\n",
    "$$F(x) = 6 * (-1x^{-1} - (-0.5))$$\n",
    "\n",
    "$$F(x) = \\frac{-6}{x} + 3$$\n",
    "\n",
    "$$\\frac{-6}{x} + 3 = 0.5$$\n",
    "\n",
    "$$-6 + 3x = 0.5x$$\n",
    "\n",
    "$$2.5x = 6$$\n",
    "\n",
    "$$x = 2.4$$\n",
    "\n",
    "-----\n",
    "\n",
    "$$f(x) = Ax(1 - x)^3$$\n",
    "\n",
    "$$f(x) = Ax(1 - 2x + x^2)(1 - x)$$\n",
    "\n",
    "$$f(x) = Ax(1 - x - 2x + 2x^2 + x^2 - x^3$$\n",
    "\n",
    "$$f(x) = Ax(1 -3x + 3x^2 - x^3$$\n",
    "\n",
    "$$f(x) = Ax - 3Ax^2 + 3Ax^3 - Ax^4$$\n",
    "\n",
    "$$\\int_{0}^{1} Ax - 3Ax^2 + 3Ax^3 - Ax^4 \\ dx = 1$$\n",
    "\n",
    "$$[0.5Ax^2 - Ax^3 + 0.75Ax^4 - 0.2Ax^5]_{0}^{1} = 1$$\n",
    "\n",
    "$$0.5A - A + 0.75A - 0.2A = 1$$\n",
    "\n",
    "$$0.05A = 1$$\n",
    "\n",
    "$$A = 20$$\n",
    "\n",
    "-----\n",
    "\n",
    "$$f(x) = 20x - 60x^2 + 60x^3 - 20x^4$$\n",
    "\n",
    "$$E(X) = \\int{0}^{1} 20x^2 - 60x^3 + 60x^4 - 20x^5 \\ dx$$\n",
    "\n",
    "$$E(X) = [\\frac{20x^3}{3} - 15x^4 + 12x^5 - \\frac{20x^6}{6}]_{0}^{1}$$\n",
    "\n",
    "$$E(X) = \\frac{20}{3} - 15 + 12 - \\frac{20}{6}$$\n",
    "\n",
    "$$E(X) = \\frac{1}{3}$$\n",
    "\n",
    "$$E(X^2) = \\int{0}^{1} 20x^3 - 60x^4 + 60x^5 - 20x^6 \\ dx$$\n",
    "\n",
    "$$E(X^2) = [5x^4 - 12x^5 + 10x^6 - \\frac{20x^7}{7}]_{0}^{1}$$\n",
    "\n",
    "$$E(X^2) = 5 - 12 + 10 - (20/7)$$\n",
    "\n",
    "$$E(X^2) = 0.143$$\n",
    "\n",
    "$$Var(X) = 0.143 - (\\frac{1}{3})^2$$\n",
    "\n",
    "$$Var(X) = 0.0319$$\n",
    "\n",
    "$$\\sigma = \\sqrt{0.0319}$$\n",
    "\n",
    "$$\\sigma = 0.1786$$"
   ]
  }
 ],
 "metadata": {
  "kernelspec": {
   "display_name": "Python 3 (ipykernel)",
   "language": "python",
   "name": "python3"
  },
  "language_info": {
   "codemirror_mode": {
    "name": "ipython",
    "version": 3
   },
   "file_extension": ".py",
   "mimetype": "text/x-python",
   "name": "python",
   "nbconvert_exporter": "python",
   "pygments_lexer": "ipython3",
   "version": "3.12.1"
  }
 },
 "nbformat": 4,
 "nbformat_minor": 5
}

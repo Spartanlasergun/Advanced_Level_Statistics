{
 "cells": [
  {
   "cell_type": "markdown",
   "id": "37116fce-d94d-42ca-8949-cbb93a74027b",
   "metadata": {},
   "source": [
    "# Question 8\n",
    "-----"
   ]
  },
  {
   "cell_type": "markdown",
   "id": "c4603eb1-d9bc-4a77-acc5-137f028fd086",
   "metadata": {},
   "source": [
    "a)\n",
    "\n",
    "$$\\int_{0}^{1} cx \\ dx + \\int_{1}^{2} 2c - cx \\ dx = 1$$\n",
    "\n",
    "$$[0.5cx^2]_{0}^{1} + [2cx - 0.5cx^2]_{1}^{2} = 1$$\n",
    "\n",
    "$$0.5c + ((4c - 2c) - (2c - 0.5c)) = 1$$\n",
    "\n",
    "$$0.5c + 2c - 1.5c = 1$$\n",
    "\n",
    "$$c = 1$$"
   ]
  },
  {
   "cell_type": "code",
   "execution_count": 2,
   "id": "90a0a1f1-4ef2-4960-93ec-b7c284952124",
   "metadata": {},
   "outputs": [
    {
     "name": "stdout",
     "output_type": "stream",
     "text": [
      "The result of the integration is: 0.5\n"
     ]
    }
   ],
   "source": [
    "from scipy.integrate import quad\n",
    "\n",
    "# Define the function to integrate\n",
    "def integrand(x):\n",
    "    return x\n",
    "\n",
    "# Set the integration limits\n",
    "lower_limit = 0\n",
    "upper_limit = 1\n",
    "\n",
    "# Perform the integration\n",
    "result, error = quad(integrand, lower_limit, upper_limit)\n",
    "\n",
    "# Print the result\n",
    "print(f\"The result of the integration is: {result}\")"
   ]
  },
  {
   "cell_type": "markdown",
   "id": "42f91973-fab2-41a1-b30a-0b41e182dc49",
   "metadata": {},
   "source": [
    "$$F(x) = \\int_{0}^{1} x \\ dx, \\ \\ \\ for \\ \\ 0 \\le x \\le 1$$\n",
    "\n",
    "$$F(x) = 0.5x^2, \\ \\ \\ for \\ \\ 0 \\le x \\le 1$$\n",
    "\n",
    "$$F(x) = \\int_{1}^{2} 2 - x \\ dx, \\ \\ \\ for \\ \\ 1 \\le x \\le 2$$\n",
    "\n",
    "$$F(x) = 2x - 0.5x^2 + C$$\n",
    "\n",
    "at the boundary, x = 1, y = 0.5\n",
    "\n",
    "$$2 - 0.5 + c = 0.5$$\n",
    "\n",
    "$$c = -1$$\n",
    "\n",
    "$$F(x) = 2x - 0.5x^2 - 1$$"
   ]
  },
  {
   "cell_type": "code",
   "execution_count": 5,
   "id": "ca7a18d3-83ec-4c32-a409-d268e7eccba6",
   "metadata": {},
   "outputs": [
    {
     "name": "stdout",
     "output_type": "stream",
     "text": [
      "P(0.8 <= X < = 1.2) = 0.3999999999999999\n"
     ]
    }
   ],
   "source": [
    "from scipy.integrate import quad\n",
    "\n",
    "# Define the function to integrate\n",
    "def integrand(x):\n",
    "    return x\n",
    "\n",
    "def integrand2(x):\n",
    "    return (2 - x)\n",
    "\n",
    "result, error = quad(integrand, 0.8, 1)\n",
    "\n",
    "result_2, error_2 = quad(integrand, 1, 1.2)\n",
    "\n",
    "prob = result + result_2\n",
    "# Print the result\n",
    "print(\"P(0.8 <= X < = 1.2) = \" + str(prob))"
   ]
  }
 ],
 "metadata": {
  "kernelspec": {
   "display_name": "Python 3 (ipykernel)",
   "language": "python",
   "name": "python3"
  },
  "language_info": {
   "codemirror_mode": {
    "name": "ipython",
    "version": 3
   },
   "file_extension": ".py",
   "mimetype": "text/x-python",
   "name": "python",
   "nbconvert_exporter": "python",
   "pygments_lexer": "ipython3",
   "version": "3.12.1"
  }
 },
 "nbformat": 4,
 "nbformat_minor": 5
}

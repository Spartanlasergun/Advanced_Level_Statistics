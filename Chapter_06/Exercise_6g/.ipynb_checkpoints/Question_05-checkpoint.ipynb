{
 "cells": [
  {
   "cell_type": "markdown",
   "id": "6840e015-9868-4a64-83d0-0089d3ce79db",
   "metadata": {},
   "source": [
    "# Question 5\n",
    "-----"
   ]
  },
  {
   "cell_type": "markdown",
   "id": "eb8e9dce-a49e-4e39-b9ff-b34dc206c73e",
   "metadata": {},
   "source": [
    "Question omitted"
   ]
  }
 ],
 "metadata": {
  "kernelspec": {
   "display_name": "Python 3 (ipykernel)",
   "language": "python",
   "name": "python3"
  },
  "language_info": {
   "codemirror_mode": {
    "name": "ipython",
    "version": 3
   },
   "file_extension": ".py",
   "mimetype": "text/x-python",
   "name": "python",
   "nbconvert_exporter": "python",
   "pygments_lexer": "ipython3",
   "version": "3.12.1"
  }
 },
 "nbformat": 4,
 "nbformat_minor": 5
}

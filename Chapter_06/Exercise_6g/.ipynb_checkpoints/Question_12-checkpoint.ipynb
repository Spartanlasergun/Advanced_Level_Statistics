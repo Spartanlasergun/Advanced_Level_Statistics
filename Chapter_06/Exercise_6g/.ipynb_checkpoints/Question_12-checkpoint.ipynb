{
 "cells": [
  {
   "cell_type": "markdown",
   "id": "3ba590be-4dce-4fd8-9880-85dfb063f162",
   "metadata": {},
   "source": [
    "# Question 12\n",
    "-----"
   ]
  },
  {
   "cell_type": "markdown",
   "id": "fd21a61e-11c7-44ac-8e7b-494cf0a6eb74",
   "metadata": {},
   "source": [
    "$$f(x) = 4k - kx^2$$\n",
    "\n",
    "$$\\int_{0}^{2} 4k - kx^2 = 1$$\n",
    "\n",
    "$$[4kx - \\frac{kx^3}{3}]_{0}^{2} = 1$$\n",
    "\n",
    "$$8k - \\frac{8k}{3} = 1$$\n",
    "\n",
    "$$24k - 8k = 3$$\n",
    "\n",
    "$$16k = 3$$\n",
    "\n",
    "$$k = \\frac{3}{16}$$"
   ]
  },
  {
   "cell_type": "code",
   "execution_count": 3,
   "id": "b0fcbf39-ee35-4d44-956c-a647f09bc850",
   "metadata": {},
   "outputs": [
    {
     "name": "stdout",
     "output_type": "stream",
     "text": [
      "E(X) = 75.0hours\n"
     ]
    }
   ],
   "source": [
    "from scipy.integrate import quad\n",
    "\n",
    "# Define the function to integrate\n",
    "def integrand(x):\n",
    "    return (0.75 * x) - ((3 * x**3) / 16)\n",
    "\n",
    "# Set the integration limits\n",
    "lower_limit = 0\n",
    "upper_limit = 2\n",
    "\n",
    "# Perform the integration\n",
    "EX, error = quad(integrand, lower_limit, upper_limit)\n",
    "\n",
    "mean = EX  * 100\n",
    "# Print the result\n",
    "print(\"E(X) = \" + str(mean) + \"hours\")"
   ]
  },
  {
   "cell_type": "code",
   "execution_count": 4,
   "id": "fa93d509-c301-4e39-9dd6-840ba1b7baff",
   "metadata": {},
   "outputs": [
    {
     "name": "stdout",
     "output_type": "stream",
     "text": [
      "P(X > 100) = 0.31250000000000006\n"
     ]
    }
   ],
   "source": [
    "# Define the function to integrate\n",
    "def integrand(x):\n",
    "    return (0.75) - ((3 * x**2) / 16)\n",
    "\n",
    "# Set the integration limits\n",
    "lower_limit = 1\n",
    "upper_limit = 2\n",
    "\n",
    "# Perform the integration\n",
    "PXG100, error = quad(integrand, lower_limit, upper_limit)\n",
    "\n",
    "print(\"P(X > 100) = \" + str(PXG100))"
   ]
  },
  {
   "cell_type": "markdown",
   "id": "4808a7bd-e38d-4a59-a46b-863e8618d1ce",
   "metadata": {},
   "source": [
    "d) the range of the p.d.f. does not extend beyond 200 hours\n",
    "\n",
    "e) a poisson model may be suitable"
   ]
  }
 ],
 "metadata": {
  "kernelspec": {
   "display_name": "Python 3 (ipykernel)",
   "language": "python",
   "name": "python3"
  },
  "language_info": {
   "codemirror_mode": {
    "name": "ipython",
    "version": 3
   },
   "file_extension": ".py",
   "mimetype": "text/x-python",
   "name": "python",
   "nbconvert_exporter": "python",
   "pygments_lexer": "ipython3",
   "version": "3.12.1"
  }
 },
 "nbformat": 4,
 "nbformat_minor": 5
}

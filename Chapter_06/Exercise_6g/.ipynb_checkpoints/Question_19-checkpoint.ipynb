{
 "cells": [
  {
   "cell_type": "markdown",
   "id": "6c03705a-3e11-4732-9aa1-ec083f4fa300",
   "metadata": {},
   "source": [
    "# Question 19\n",
    "-----"
   ]
  },
  {
   "cell_type": "markdown",
   "id": "17437f20-6510-4258-b7dc-98bd5e4c7f90",
   "metadata": {},
   "source": [
    "| r | 0 | 1 | 2 | 3 | 4 |\n",
    "| - | - | - | - | - | - |\n",
    "| P(R = r) | 0.1 | 0.2 | 0.3 | 0.3 | 0.1 |"
   ]
  },
  {
   "cell_type": "code",
   "execution_count": 1,
   "id": "ab551b9b-8583-4229-8d2e-f727ec3e34df",
   "metadata": {},
   "outputs": [
    {
     "name": "stdout",
     "output_type": "stream",
     "text": [
      "E(R) = 2.1\n"
     ]
    }
   ],
   "source": [
    "EX = (0.2 * 1) + (0.3 * 2) + (0.3 * 3) + (0.1 * 4)\n",
    "print(\"E(R) = \" + str(EX))"
   ]
  },
  {
   "cell_type": "code",
   "execution_count": 2,
   "id": "7ff375e0-946d-4123-95d3-1e9ae93a4b90",
   "metadata": {},
   "outputs": [
    {
     "name": "stdout",
     "output_type": "stream",
     "text": [
      "Var(R) = 1.2899999999999991\n"
     ]
    }
   ],
   "source": [
    "EX_2 = (0.2 * 1**2) + (0.3 * 2**2) + (0.3 * 3**2) + (0.1 * 4**2)\n",
    "Var = EX_2 - (EX**2)\n",
    "print(\"Var(R) = \" + str(Var))"
   ]
  },
  {
   "cell_type": "markdown",
   "id": "595a68a6-1713-4481-b16b-b2d69b4718ed",
   "metadata": {},
   "source": [
    "Rest of question omitted due to potential errors"
   ]
  }
 ],
 "metadata": {
  "kernelspec": {
   "display_name": "Python 3 (ipykernel)",
   "language": "python",
   "name": "python3"
  },
  "language_info": {
   "codemirror_mode": {
    "name": "ipython",
    "version": 3
   },
   "file_extension": ".py",
   "mimetype": "text/x-python",
   "name": "python",
   "nbconvert_exporter": "python",
   "pygments_lexer": "ipython3",
   "version": "3.12.1"
  }
 },
 "nbformat": 4,
 "nbformat_minor": 5
}

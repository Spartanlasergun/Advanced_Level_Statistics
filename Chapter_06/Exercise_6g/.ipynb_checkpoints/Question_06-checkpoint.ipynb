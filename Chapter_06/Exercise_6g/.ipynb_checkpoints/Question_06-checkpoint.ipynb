{
 "cells": [
  {
   "cell_type": "markdown",
   "id": "0459fa10-7d1e-4e42-be45-ffe71be9df1b",
   "metadata": {},
   "source": [
    "# Question 6\n",
    "-----"
   ]
  },
  {
   "cell_type": "markdown",
   "id": "3a522e7a-a6e6-4dbe-9106-f1554f9b0c4d",
   "metadata": {},
   "source": [
    "$$f(x) = ax^2 + bx$$\n",
    "\n",
    "$$\\int_{0}^{2} ax^2 + bx \\ dx = 1$$\n",
    "\n",
    "$$[\\frac{ax^3}{3} + 0.5bx^2]_{0}^{2} = 1$$\n",
    "\n",
    "$$\\frac{8a}{3} + 2b = 1$$\n",
    "\n",
    "$$8a + 6b = 3$$\n",
    "\n",
    "$$\\int_{0}^{2} ax^3 + bx^2 \\ dx = 1.25$$\n",
    "\n",
    "$$[0.25ax^4 + \\frac{bx^3}{3}]_{0}^{2} = 1.25$$\n",
    "\n",
    "$$4a + \\frac{8b}{3} = 1.25$$\n",
    "\n",
    "$$12a + 8b = 3.75$$\n",
    "\n",
    "solving for b,\n",
    "\n",
    "$$8a = 3 - 6b$$\n",
    "\n",
    "$$a = \\frac{3 - 6b}{8}$$\n",
    "\n",
    "$$\\frac{12(3 - 6b)}{8} + 8b = 3.75$$\n",
    "\n",
    "$$12(3 - 6b) + 64b = 30$$\n",
    "\n",
    "$$36 - 72b + 64b = 30$$\n",
    "\n",
    "$$-8b = -6$$\n",
    "\n",
    "$$b = 0.75$$\n",
    "\n",
    "solving for a,\n",
    "\n",
    "$$a = \\frac{3 - 6(0.75)}{8}$$\n",
    "\n",
    "$$a = \\frac{-1.5}{8}$$\n",
    "\n",
    "$$a = -0.1875$$\n",
    "\n",
    "-----\n",
    "b)\n",
    "\n",
    "$$E(X^2) = \\int_{0}^{2} -0.1875x^4 + 0.75x^3 \\ dx$$\n",
    "\n",
    "$$E(X^2) = [-0.0375x^5 + 0.1875x^4]_{0}^{2}$$\n",
    "\n",
    "$$E(X^2) = 1.8$$\n",
    "\n",
    "$$Var(X) = 1.8 - (1.25^2)$$\n",
    "\n",
    "$$Var(X) = 0.2375$$\n",
    "\n",
    "-----\n",
    "c)\n",
    "\n",
    "$$f(x) = -0.1875x^2 + 0.75x$$\n",
    "\n",
    "$$F(x) = -0.0625x^3 + 0.375x^2$$\n",
    "\n",
    "$$0.375x^2 - 0.0625x^3 = 0.5$$\n",
    "\n",
    "Using an exhaustive solution:"
   ]
  },
  {
   "cell_type": "code",
   "execution_count": 12,
   "id": "76aff459-5824-4cb9-9b0e-eaf5c07fa29c",
   "metadata": {},
   "outputs": [
    {
     "name": "stdout",
     "output_type": "stream",
     "text": [
      "1.320000000000001\n"
     ]
    }
   ],
   "source": [
    "x = 0\n",
    "fx = 0\n",
    "while fx < 0.5:\n",
    "    fx = (0.375 * pow(x, 2)) - (0.0625 * pow(x, 3))\n",
    "    x = x + 0.01\n",
    "\n",
    "print(x)"
   ]
  },
  {
   "cell_type": "markdown",
   "id": "27daa108-6929-47fe-a1ad-f79441a2f7d4",
   "metadata": {},
   "source": [
    "Hence, the median occurs at x = 1.32\n",
    "\n",
    "Since $0 \\le x \\le 2$, mode = 2"
   ]
  }
 ],
 "metadata": {
  "kernelspec": {
   "display_name": "Python 3 (ipykernel)",
   "language": "python",
   "name": "python3"
  },
  "language_info": {
   "codemirror_mode": {
    "name": "ipython",
    "version": 3
   },
   "file_extension": ".py",
   "mimetype": "text/x-python",
   "name": "python",
   "nbconvert_exporter": "python",
   "pygments_lexer": "ipython3",
   "version": "3.12.1"
  }
 },
 "nbformat": 4,
 "nbformat_minor": 5
}

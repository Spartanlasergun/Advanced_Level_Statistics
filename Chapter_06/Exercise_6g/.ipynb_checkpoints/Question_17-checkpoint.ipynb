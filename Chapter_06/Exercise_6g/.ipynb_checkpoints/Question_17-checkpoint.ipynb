{
 "cells": [
  {
   "cell_type": "markdown",
   "id": "44170027-4f41-4ab9-a166-ff0f269da413",
   "metadata": {},
   "source": [
    "# Question 17\n",
    "-----"
   ]
  },
  {
   "cell_type": "markdown",
   "id": "25611ca8-d519-4317-af21-d20e750e4b39",
   "metadata": {},
   "source": [
    "$$\\int_{0}^{1} 0.5a \\ dx + \\int_{2}^{4} - 0.75ax^2 + 4.5ax - 5.25a \\ dx = 1$$\n",
    "\n",
    "$$[0.5ax]_{0}^{1} + [-0.25ax^3 + 2.25ax^2 - 5.25ax]_{2}^{4} = 1$$\n",
    "\n",
    "$$0.5a + (-a - (- 3.5)) = 1$$\n",
    "\n",
    "$$3a = 1$$\n",
    "\n",
    "$$a = \\frac{1}{3}$$\n",
    "\n",
    "hence, $\\lambda = \\frac{1}{3}$"
   ]
  },
  {
   "cell_type": "code",
   "execution_count": 1,
   "id": "e1c2341a-4f61-40a4-9e50-f95561a11756",
   "metadata": {},
   "outputs": [
    {
     "data": {
      "image/png": "[encoded data removed]",
      "text/plain": [
       "<Figure size 640x480 with 1 Axes>"
      ]
     },
     "metadata": {},
     "output_type": "display_data"
    }
   ],
   "source": [
    "import matplotlib.pyplot as plt\n",
    "import numpy as np\n",
    "\n",
    "x = [0, 1]\n",
    "y = [(1/6), (1/6)]\n",
    "\n",
    "x_1 = np.arange(2, 4.1, 0.1)\n",
    "y_1 = []\n",
    "for item in x_1:\n",
    "    fx = 0.5 - (((item - 3)**2)/4)\n",
    "    y_1.append(fx)\n",
    "\n",
    "plt.plot(x, y)\n",
    "plt.plot(x_1, y_1)\n",
    "plt.show()"
   ]
  },
  {
   "cell_type": "code",
   "execution_count": 2,
   "id": "60b9beca-ce04-4743-870e-2fa3a64fe72d",
   "metadata": {},
   "outputs": [
    {
     "name": "stdout",
     "output_type": "stream",
     "text": [
      "E(X) = 2.583333333333334\n"
     ]
    }
   ],
   "source": [
    "from scipy.integrate import quad\n",
    "\n",
    "# Define the function to integrate\n",
    "def integrand(x):\n",
    "    return (x/6)\n",
    "\n",
    "# Define the function to integrate\n",
    "def integrand_2(x):\n",
    "    return (0.5 * x) - (x * (((x - 3)**2)/4))\n",
    "\n",
    "# Perform the integration\n",
    "result_1, error = quad(integrand, 0, 1)\n",
    "\n",
    "result_2, error = quad(integrand_2, 2, 4)\n",
    "\n",
    "EX = result_1 + result_2\n",
    "\n",
    "# Print the result\n",
    "print(\"E(X) = \" + str(EX))"
   ]
  },
  {
   "cell_type": "code",
   "execution_count": 3,
   "id": "8a4a5f39-2443-4f9b-bdeb-9be8ce07efa5",
   "metadata": {},
   "outputs": [
    {
     "name": "stdout",
     "output_type": "stream",
     "text": [
      "P(X <= 3.5) = 0.8229166666666667\n"
     ]
    }
   ],
   "source": [
    "# Define the function to integrate\n",
    "def integrand(x):\n",
    "    return (1/6)\n",
    "\n",
    "# Define the function to integrate\n",
    "def integrand_2(x):\n",
    "    return (0.5 * 1) - (1 * (((x - 3)**2)/4))\n",
    "\n",
    "# Perform the integration\n",
    "result_1, error = quad(integrand, 0, 1)\n",
    "\n",
    "result_2, error = quad(integrand_2, 2, 3.5)\n",
    "\n",
    "prob = result_1 + result_2\n",
    "print(\"P(X <= 3.5) = \" + str(prob))"
   ]
  }
 ],
 "metadata": {
  "kernelspec": {
   "display_name": "Python 3 (ipykernel)",
   "language": "python",
   "name": "python3"
  },
  "language_info": {
   "codemirror_mode": {
    "name": "ipython",
    "version": 3
   },
   "file_extension": ".py",
   "mimetype": "text/x-python",
   "name": "python",
   "nbconvert_exporter": "python",
   "pygments_lexer": "ipython3",
   "version": "3.12.1"
  }
 },
 "nbformat": 4,
 "nbformat_minor": 5
}

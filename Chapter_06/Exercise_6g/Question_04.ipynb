{
 "cells": [
  {
   "cell_type": "markdown",
   "id": "9513c8b7-d60c-4b82-a8df-5f6a5724d8de",
   "metadata": {},
   "source": [
    "# Question 4\n",
    "-----"
   ]
  },
  {
   "cell_type": "markdown",
   "id": "1715f9c5-0b0f-4892-a3df-225cebb79a7a",
   "metadata": {},
   "source": [
    "$$f(x) = cx(2 - x)^2$$\n",
    "\n",
    "$$f(x) = cx(4 - 4x + x^2)$$\n",
    "\n",
    "$$f(x) = 4cx - 4cx^2 + cx^3$$\n",
    "\n",
    "$$\\int_{0}^{2} 4cx - 4cx^2 + cx^3 \\ dx = 1$$\n",
    "\n",
    "$$[2cx^2 - \\frac{4cx^3}{3} + 0.25cx^4]_{0}^{2} = 1$$\n",
    "\n",
    "$$8c - 10.6666c + 4c = 1$$\n",
    "\n",
    "$$1.33333c = 1$$\n",
    "\n",
    "$$c = 0.75$$\n",
    "\n",
    "-----\n",
    "\n",
    "$$f(x) = 3x - 3x^2 + 0.75x^3$$\n",
    "\n",
    "$$E(X) = \\int_{0}^{2} 3x^2 - 3x^3 + 0.75x^4 \\ dx$$\n",
    "\n",
    "$$E(X) = [x^3 - 0.75x^4 + 0.15x^5]_{0}^{2}$$\n",
    "\n",
    "$$E(X) = (8 - 12 + 4.8)$$\n",
    "\n",
    "$$E(X) = 0.8$$\n",
    "\n",
    "$$E(X^2) = \\int_{0}^{2} 3x^3 - 3x^4 + 0.75x^5 \\ dx$$\n",
    "\n",
    "$$E(X^2) = [0.75x^4 - 0.6x^5 + 0.125x^6]_{0}^{2}$$\n",
    "\n",
    "$$E(X^2) = (12 - 19.2 + 8)$$\n",
    "\n",
    "$$E(X^2) = 0.8$$\n",
    "\n",
    "$$Var(X) = E(X^2) - (E(X))^2$$\n",
    "\n",
    "$$Var(X) = 0.8 - (0.8^2)$$\n",
    "\n",
    "$$Var(X) = 0.16$$\n",
    "\n",
    "-----\n",
    "\n",
    "$$expected cost = 10 * 0.8 = 8$$"
   ]
  }
 ],
 "metadata": {
  "kernelspec": {
   "display_name": "Python 3 (ipykernel)",
   "language": "python",
   "name": "python3"
  },
  "language_info": {
   "codemirror_mode": {
    "name": "ipython",
    "version": 3
   },
   "file_extension": ".py",
   "mimetype": "text/x-python",
   "name": "python",
   "nbconvert_exporter": "python",
   "pygments_lexer": "ipython3",
   "version": "3.12.1"
  }
 },
 "nbformat": 4,
 "nbformat_minor": 5
}

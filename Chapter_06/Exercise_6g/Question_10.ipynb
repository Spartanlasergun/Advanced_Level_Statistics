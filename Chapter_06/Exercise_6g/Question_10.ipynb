{
 "cells": [
  {
   "cell_type": "markdown",
   "id": "7e180407-e992-4e8a-a191-1dda6a505902",
   "metadata": {},
   "source": [
    "# Question 10\n",
    "-----"
   ]
  },
  {
   "cell_type": "code",
   "execution_count": 3,
   "id": "f22237a0-3f8b-47c7-9f45-58f36b29f841",
   "metadata": {},
   "outputs": [
    {
     "name": "stdout",
     "output_type": "stream",
     "text": [
      "E(X) = 3.8000000000000003\n",
      "Var(X) = 0.3600000000000003\n"
     ]
    }
   ],
   "source": [
    "from scipy.integrate import quad\n",
    "\n",
    "# Define the function to integrate\n",
    "def integrand(x):\n",
    "    return ((12 * x**3)/27) - ((4 * x**4)/27)\n",
    "\n",
    "def integrand_2(x):\n",
    "    return ((12 * x**4)/27) - ((4 * x**5)/27)\n",
    "\n",
    "# Set the integration limits\n",
    "lower_limit = 0\n",
    "upper_limit = 3\n",
    "\n",
    "# Perform the integration\n",
    "EX, error = quad(integrand, lower_limit, upper_limit)\n",
    "EX_2, error = quad(integrand_2, lower_limit, upper_limit)\n",
    "Var = EX_2 - (pow(EX, 2))\n",
    "\n",
    "mean = EX + 2\n",
    "# Print the result\n",
    "print(\"E(X) = \" + str(mean))\n",
    "print(\"Var(X) = \" + str(Var))"
   ]
  },
  {
   "cell_type": "markdown",
   "id": "e256da76-433c-4a94-940b-f4eedeebd6c8",
   "metadata": {},
   "source": [
    "$$f'(x) = \\frac{24t}{27} - \\frac{12t^2}{27}$$\n",
    "\n",
    "$$\\frac{24t}{27} - \\frac{12t^2}{27} = 0$$\n",
    "\n",
    "$$24t - 12t^2 = 0$$\n",
    "\n",
    "$$12t = 24$$\n",
    "\n",
    "$$t = 2$$\n",
    "\n",
    "hence,\n",
    "\n",
    "$$mode = 2 + 2 = 4$$"
   ]
  },
  {
   "cell_type": "code",
   "execution_count": 4,
   "id": "ec5a67e0-fcec-4f8d-8ff3-101ef7338228",
   "metadata": {},
   "outputs": [
    {
     "name": "stdout",
     "output_type": "stream",
     "text": [
      "Proportion = 59.25925925925927%\n"
     ]
    }
   ],
   "source": [
    "def integrand(x):\n",
    "    return ((12 * x**2)/27) - ((4 * x**3)/27)\n",
    "\n",
    "# Set the integration limits\n",
    "lower_limit = 0\n",
    "upper_limit = 2\n",
    "\n",
    "# Perform the integration\n",
    "prob, error = quad(integrand, lower_limit, upper_limit)\n",
    "\n",
    "proportion = prob * 100\n",
    "print(\"Proportion = \" + str(proportion) + \"%\")"
   ]
  },
  {
   "cell_type": "markdown",
   "id": "9a3641b4-1feb-4dc4-a1cb-c48c4dec1826",
   "metadata": {},
   "source": [
    "$$F(x) = \\frac{12x^3}{81} - \\frac{4x^4}{108}$$\n",
    "\n",
    "Using an exhaustive solution:"
   ]
  },
  {
   "cell_type": "code",
   "execution_count": 20,
   "id": "e1f94c95-57c0-48ba-a319-305c8b152592",
   "metadata": {},
   "outputs": [
    {
     "name": "stdout",
     "output_type": "stream",
     "text": [
      "4.0\n"
     ]
    }
   ],
   "source": [
    "x = 0\n",
    "fx = 0\n",
    "while fx < 0.5:\n",
    "    fx = ((12 * (pow(x, 3))) / 81) - ((4 * (pow(x, 4))) / 108)\n",
    "    x = x + 0.1\n",
    "print(x + 2)"
   ]
  },
  {
   "cell_type": "markdown",
   "id": "28ce5dcb-9deb-4daf-b3fe-763227a93f87",
   "metadata": {},
   "source": [
    "Hence, the median is approx = mode"
   ]
  }
 ],
 "metadata": {
  "kernelspec": {
   "display_name": "Python 3 (ipykernel)",
   "language": "python",
   "name": "python3"
  },
  "language_info": {
   "codemirror_mode": {
    "name": "ipython",
    "version": 3
   },
   "file_extension": ".py",
   "mimetype": "text/x-python",
   "name": "python",
   "nbconvert_exporter": "python",
   "pygments_lexer": "ipython3",
   "version": "3.12.1"
  }
 },
 "nbformat": 4,
 "nbformat_minor": 5
}

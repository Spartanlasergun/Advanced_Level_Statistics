{
 "cells": [
  {
   "cell_type": "markdown",
   "id": "c6ff4fdb-02e6-4fcb-8e11-d1a1fa4f6dc0",
   "metadata": {},
   "source": [
    "# Question 7\n",
    "-----"
   ]
  },
  {
   "cell_type": "markdown",
   "id": "4a43288d-7544-4529-a480-96bcde94abb4",
   "metadata": {},
   "source": [
    "a)\n",
    "\n",
    "$$\\int_{0}^{2} cx^2 \\ dx + \\int_{2}^{4} 8c - 2cx \\ dx = 1$$\n",
    "\n",
    "$$[\\frac{cx^3}{3}]_{0}^{2} + [8cx - cx^2]_{2}^{4} = 1$$\n",
    "\n",
    "$$\\frac{8c}{3} + (16c - 12c) = 1$$\n",
    "\n",
    "$$8c + 12c = 3$$\n",
    "\n",
    "$$c = 0.15$$\n",
    "\n",
    "-----\n",
    "b)\n",
    "\n",
    "$$E(X) = \\int_{0}{2} 0.15x^3 \\ dx + \\int_{2}^{4} 1.2x - 0.3x^2 \\ dx$$\n",
    "\n",
    "$$E(X) = [0.0375x^4]_{0}^{2} + [0.6x^2 - 0.1x^3]_{2}^{4}$$\n",
    "\n",
    "$$E(X) = 0.6 + ((9.6 - 6.4) - (2.4 - 0.8))$$\n",
    "\n",
    "$$E(X) = 2.2$$\n",
    "\n",
    "-----\n",
    "c)\n",
    "$$f(x) = 0.15x^2$$\n",
    "\n",
    "$$F(x) = 0.05x^3$$\n",
    "\n",
    "$$0.05x^3 = 0.25$$\n",
    "\n",
    "$$x^3 = 5$$\n",
    "\n",
    "$$x = 1.71$$\n",
    "\n",
    "-----\n",
    "d)\n",
    "\n",
    "$$P(1.71 \\le X \\le 2.2) = \\int_{1.71}^{2} 0.15x^2 \\ dx + \\int_{2}^{2.2} 1.2 - 0.3x \\ dx$$\n",
    "\n",
    "$$P(1.71 \\le X \\le 2.2) = [0.05x^3]_{1.71}^{2} + [1.2x - 0.15x^2]_{2}^{2.2}$$\n",
    "\n",
    "$$P(1.71 \\le X \\le 2.2) = (0.4 - 0.146) + (1.914 - 1.8)$$\n",
    "\n",
    "$$P(1.71 \\le X \\le 2.2) = 0.368$$"
   ]
  }
 ],
 "metadata": {
  "kernelspec": {
   "display_name": "Python 3 (ipykernel)",
   "language": "python",
   "name": "python3"
  },
  "language_info": {
   "codemirror_mode": {
    "name": "ipython",
    "version": 3
   },
   "file_extension": ".py",
   "mimetype": "text/x-python",
   "name": "python",
   "nbconvert_exporter": "python",
   "pygments_lexer": "ipython3",
   "version": "3.12.1"
  }
 },
 "nbformat": 4,
 "nbformat_minor": 5
}

{
 "cells": [
  {
   "cell_type": "markdown",
   "id": "2205ec7c-b8c1-4544-9ef2-83008bbd9daf",
   "metadata": {},
   "source": [
    "# Question 14\n",
    "-----"
   ]
  },
  {
   "cell_type": "code",
   "execution_count": 1,
   "id": "ea417122-204a-41d4-b975-438427385b5a",
   "metadata": {},
   "outputs": [
    {
     "name": "stdout",
     "output_type": "stream",
     "text": [
      "The value of c that satisfies the condition is: 8\n",
      "The result of the integral between 0 and  is: c/8\n"
     ]
    }
   ],
   "source": [
    "from sympy import symbols, integrate, solve, Eq\r\n",
    "\r\n",
    "# Define the variable and constant\r\n",
    "x, c = symbols('x c')\r\n",
    "\r\n",
    "# Define the expression to integrate\r\n",
    "expression = c * (1 - x)**7\r\n",
    "\r\n",
    "# Integrate the expression with respect to x\r\n",
    "result = integrate(expression, (x, 0, 1))\r\n",
    "\r\n",
    "# Solve for c\r\n",
    "c_value = solve(result - 1, c)[0]\r\n",
    "\r\n",
    "# Display the results\r\n",
    "print(f\"The value of c that satisfies the condition is: {c_value}\")\r\n",
    "print(f\"The result of the integral between 0 and  is: {result}\")\r\n"
   ]
  },
  {
   "cell_type": "code",
   "execution_count": 2,
   "id": "b4e69830-6462-4081-a164-9708d08242fd",
   "metadata": {},
   "outputs": [
    {
     "name": "stdout",
     "output_type": "stream",
     "text": [
      "The result of the integration is: 0.11111111111111112\n"
     ]
    }
   ],
   "source": [
    "from scipy.integrate import quad\n",
    "\n",
    "# Define the function to integrate\n",
    "def integrand(x):\n",
    "    return (8 * x) * ((1 - x)**7)\n",
    "\n",
    "# Set the integration limits\n",
    "lower_limit = 0\n",
    "upper_limit = 1\n",
    "\n",
    "# Perform the integration\n",
    "result, error = quad(integrand, lower_limit, upper_limit)\n",
    "\n",
    "# Print the result\n",
    "print(f\"The result of the integration is: {result}\")"
   ]
  },
  {
   "cell_type": "code",
   "execution_count": 12,
   "id": "ec948d76-5a03-470b-a993-69aac1aec601",
   "metadata": {},
   "outputs": [
    {
     "name": "stdout",
     "output_type": "stream",
     "text": [
      "The result of the integration is: 0.9999999999999746\n"
     ]
    }
   ],
   "source": [
    "# Define the function to integrate\n",
    "def integrand(x):\n",
    "    return 8 * ((1 - x)**7)\n",
    "\n",
    "# Set the integration limits\n",
    "lower_limit = 0\n",
    "upper_limit = 0.98\n",
    "\n",
    "# Perform the integration\n",
    "result, error = quad(integrand, lower_limit, upper_limit)\n",
    "\n",
    "# Print the result\n",
    "print(f\"The result of the integration is: {result}\")"
   ]
  }
 ],
 "metadata": {
  "kernelspec": {
   "display_name": "Python 3 (ipykernel)",
   "language": "python",
   "name": "python3"
  },
  "language_info": {
   "codemirror_mode": {
    "name": "ipython",
    "version": 3
   },
   "file_extension": ".py",
   "mimetype": "text/x-python",
   "name": "python",
   "nbconvert_exporter": "python",
   "pygments_lexer": "ipython3",
   "version": "3.12.1"
  }
 },
 "nbformat": 4,
 "nbformat_minor": 5
}

{
 "cells": [
  {
   "cell_type": "markdown",
   "id": "6067c442-2d64-4291-a728-829b54e62afd",
   "metadata": {},
   "source": [
    "# Question 18\n",
    "-----"
   ]
  },
  {
   "cell_type": "markdown",
   "id": "a148f7be-b0fd-4839-8a8a-43e0acdaf674",
   "metadata": {},
   "source": [
    "a)\n",
    "\n",
    "$$[ax + a]_{-1}^{0} + [2ax + a]_{0}^{1} = 1$$\n",
    "\n",
    "$$-a + a + 2a + a = 1$$\n",
    "\n",
    "$$3a = 1$$\n",
    "\n",
    "$$a = \\frac{1}{3}$$\n",
    "\n",
    "-----\n",
    "b)\n",
    "\n",
    "$$f(x) = \\frac{1}{3}, \\ \\ \\ for -1 \\le x \\le 0$$\n",
    "\n",
    "$$f(x) = \\frac{2}{3}, \\ \\ \\ for 0 \\le x \\le 1$$\n",
    "\n",
    "-----\n",
    "c)\n",
    "\n",
    "$$E(X) = \\int_{-1}^{0} \\frac{x}{3} \\ dx + \\int_{0}^{1} \\frac{2x}{3} \\ dx$$\n",
    "\n",
    "$$E(X) = [\\frac{x^2}{6}]_{-1}^{0} + [\\frac{x^2}{3}]_{0}^{1}$$\n",
    "\n",
    "$$E(X) = \\frac{-1}{6} + \\frac{1}{3}$$\n",
    "\n",
    "$$E(X) = \\frac{1}{6}$$\n",
    "\n",
    "-----\n",
    "d)\n",
    "\n",
    "$$E(X^2) = \\int_{-1}^{0} \\frac{x^2}{3} \\ dx + \\int_{0}^{1} \\frac{2x^2}{3} \\ dx$$\n",
    "\n",
    "$$E(X^2) = [\\frac{x^3}{9}]_{-1}^{0} + [\\frac{2x^3}{9}]_{0}^{1}$$\n",
    "\n",
    "$$E(X^2) = \\frac{1}{9} + \\frac{2}{9}$$\n",
    "\n",
    "$$E(X^2) = \\frac{1}{3}$$\n",
    "\n",
    "$$Var(X) = E(X^2) - (E(X))^2$$\n",
    "\n",
    "$$Var(X) = \\frac{1}{3} - \\frac{1}{36}$$\n",
    "\n",
    "$$Var(X) = 0.30556$$\n",
    "\n",
    "$$\\sigma = \\sqrt{0.30556}$$\n",
    "\n",
    "$$\\sigma = 0.553$$\n",
    "\n",
    "-----\n",
    "\n",
    "$$lower \\ limit = | \\frac{1}{6} - \\frac{1}{3} | = \\frac{1}{6}$$\n",
    "\n",
    "$$upper \\ limit = | \\frac{1}{6} + \\frac{1}{3} | = 0.5$$\n",
    "\n",
    "$$P(0.16666 \\le X \\le 0.5) = [\\frac{2x}{3} + \\frac{1}{3}]_{0.16666}^{0.5}$$\n",
    "\n",
    "$$P(0.16666 \\le X \\le 0.5) = \\frac{2}{3} - \\frac{4}{9}$$\n",
    "\n",
    "$$P(0.16666 \\le X \\le 0.5) = \\frac{2}{9}$$"
   ]
  }
 ],
 "metadata": {
  "kernelspec": {
   "display_name": "Python 3 (ipykernel)",
   "language": "python",
   "name": "python3"
  },
  "language_info": {
   "codemirror_mode": {
    "name": "ipython",
    "version": 3
   },
   "file_extension": ".py",
   "mimetype": "text/x-python",
   "name": "python",
   "nbconvert_exporter": "python",
   "pygments_lexer": "ipython3",
   "version": "3.12.1"
  }
 },
 "nbformat": 4,
 "nbformat_minor": 5
}

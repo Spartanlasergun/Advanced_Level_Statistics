{
 "cells": [
  {
   "cell_type": "markdown",
   "id": "9b85e6a1-7716-41ea-913d-63fa2d280263",
   "metadata": {},
   "source": [
    "# Question 1\n",
    "-----"
   ]
  },
  {
   "cell_type": "markdown",
   "id": "bb360930-3f57-43ce-bce2-7e751eead723",
   "metadata": {},
   "source": [
    "$$f(x) = 0.5x$$\n",
    "\n",
    "$$E(X) = \\int_{0}^{2} 0.5x^2 \\ dx$$\n",
    "\n",
    "$$E(X) = [\\frac{0.5x^3}{3}]_{0}^{2}$$\n",
    "\n",
    "$$E(X) = \\frac{4}{3}$$\n",
    "\n",
    "-----\n",
    "\n",
    "$$f(2x + 4) = x + 2$$\n",
    "\n",
    "$$E(2X + 4) = \\int_{0}^{2} x^2 + 2x \\ dx$$\n",
    "\n",
    "$$E(2X + 4) = [\\frac{x^3}{3} + x^2]_{0}^{2}$$\n",
    "\n",
    "$$E(2X + 4) = 6.66666$$"
   ]
  }
 ],
 "metadata": {
  "kernelspec": {
   "display_name": "Python 3 (ipykernel)",
   "language": "python",
   "name": "python3"
  },
  "language_info": {
   "codemirror_mode": {
    "name": "ipython",
    "version": 3
   },
   "file_extension": ".py",
   "mimetype": "text/x-python",
   "name": "python",
   "nbconvert_exporter": "python",
   "pygments_lexer": "ipython3",
   "version": "3.12.1"
  }
 },
 "nbformat": 4,
 "nbformat_minor": 5
}

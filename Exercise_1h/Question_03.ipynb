{
 "cells": [
  {
   "cell_type": "code",
   "execution_count": 1,
   "id": "7713bfd0",
   "metadata": {},
   "outputs": [
    {
     "name": "stdout",
     "output_type": "stream",
     "text": [
      "When the dataset is increased by 'k', the new mean is = mean + k, and the standard deviation remains the same\n"
     ]
    }
   ],
   "source": [
    "print(\"When the dataset is increased by 'k', the new mean is = (mean + k), and the standard deviation remains the same\")"
   ]
  },
  {
   "cell_type": "code",
   "execution_count": 2,
   "id": "0e8f7704",
   "metadata": {},
   "outputs": [
    {
     "name": "stdout",
     "output_type": "stream",
     "text": [
      "When the dataset in multiplied by 'p', the new mean is = (mean * p) and the new standard deviation is = (std * p) \n"
     ]
    }
   ],
   "source": [
    "print(\"When the dataset in multiplied by 'p', the new mean is = (mean * p) and the new standard deviation is = (std * p) \")"
   ]
  },
  {
   "cell_type": "code",
   "execution_count": 3,
   "id": "f9bd316f",
   "metadata": {},
   "outputs": [
    {
     "name": "stdout",
     "output_type": "stream",
     "text": [
      "The mean of Y is given by -> (mean_X * 3) + 5\n",
      "The standard deviation of Y is given by -> (std_X * 3)\n"
     ]
    }
   ],
   "source": [
    "print(\"The mean of Y is given by -> (mean_X * 3) + 5\")\n",
    "print(\"The standard deviation of Y is given by -> (std_X * 3)\")"
   ]
  }
 ],
 "metadata": {
  "kernelspec": {
   "display_name": "Python 3 (ipykernel)",
   "language": "python",
   "name": "python3"
  },
  "language_info": {
   "codemirror_mode": {
    "name": "ipython",
    "version": 3
   },
   "file_extension": ".py",
   "mimetype": "text/x-python",
   "name": "python",
   "nbconvert_exporter": "python",
   "pygments_lexer": "ipython3",
   "version": "3.10.7"
  }
 },
 "nbformat": 4,
 "nbformat_minor": 5
}

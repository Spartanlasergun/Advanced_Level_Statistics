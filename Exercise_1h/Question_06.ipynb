{
 "cells": [
  {
   "cell_type": "code",
   "execution_count": 1,
   "id": "7fa6b5db",
   "metadata": {},
   "outputs": [
    {
     "name": "stdout",
     "output_type": "stream",
     "text": [
      "(a)\n",
      "The mean is = 38.0\n",
      "The standard deviation is = 8.988882021697693\n"
     ]
    }
   ],
   "source": [
    "import statistics\n",
    "\n",
    "data = [27, 31, 35, 47, 50]\n",
    "mean = sum(data) / len(data)\n",
    "std = statistics.pstdev(data)\n",
    "print(\"(a)\")\n",
    "print(\"The mean is = \" + str(mean))\n",
    "print(\"The standard deviation is = \" + str(std))"
   ]
  },
  {
   "cell_type": "code",
   "execution_count": 9,
   "id": "4b7d96f6",
   "metadata": {},
   "outputs": [
    {
     "name": "stdout",
     "output_type": "stream",
     "text": [
      "(b)\n",
      "The scaled value of 31, becomes 34\n",
      "The scaled value of 50, becomes 77\n"
     ]
    }
   ],
   "source": [
    "a = ((20 / 9) * (31)) - 34.6 \n",
    "b = ((20 / 9) * (50)) - 34.6 \n",
    "print(\"(b)\")\n",
    "print(\"The scaled value of 31, becomes \" + str(round(a)))\n",
    "print(\"The scaled value of 50, becomes \" + str(round(b)))"
   ]
  }
 ],
 "metadata": {
  "kernelspec": {
   "display_name": "Python 3 (ipykernel)",
   "language": "python",
   "name": "python3"
  },
  "language_info": {
   "codemirror_mode": {
    "name": "ipython",
    "version": 3
   },
   "file_extension": ".py",
   "mimetype": "text/x-python",
   "name": "python",
   "nbconvert_exporter": "python",
   "pygments_lexer": "ipython3",
   "version": "3.10.7"
  }
 },
 "nbformat": 4,
 "nbformat_minor": 5
}

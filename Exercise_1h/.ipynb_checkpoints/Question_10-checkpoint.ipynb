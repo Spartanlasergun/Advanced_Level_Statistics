{
 "cells": [
  {
   "cell_type": "markdown",
   "id": "e1bd988c",
   "metadata": {},
   "source": [
    "$y = ax + b$\n",
    "\n",
    "=> $80 = 70a + b$\n",
    "\n",
    "and\n",
    "\n",
    "$50 = 45a + b$\n",
    "\n",
    "Given these two equations:\n",
    "$b = 50 - 45a$\n",
    "\n",
    "substituting --> $80 = 70a + 50 - 45a$\n",
    "\n",
    "$25a = 30$\n",
    "\n",
    "$a = 1.2$\n",
    "\n",
    "$\\sigma_x(a) = 15$\n",
    "\n",
    "$\\sigma_x = 15 / 1.2 = 12.5$\n",
    "\n",
    "Therefore the original standard deviation is = 12.5\n",
    "\n",
    "$b = 50 - 45(1.2)$\n",
    "\n",
    "$b = -4$\n",
    "\n",
    "An unchanged mark implies that $ x = ax + b $\n",
    "\n",
    "$ x = 1.2x - 4$\n",
    "\n",
    "$ x / 1.2 = x - 3.333 $\n",
    "\n",
    "$-0.167x = -3.333$\n",
    "\n",
    "$x = 19.96$\n",
    "\n",
    "A mark of 19.96 would be unchanged by the scaling\n",
    "\n",
    "Given a = 1.2, and b = -4\n",
    "\n",
    "$92 = 1.2x - 4$\n",
    "\n",
    "$96 = 1.2x$\n",
    "\n",
    "$x = 80$\n",
    "\n",
    "A scaled mark of 92, was originally 80\n",
    "\n",
    "$2 = 1.2x - 4$\n",
    "\n",
    "$6 = 1.2x$\n",
    "\n",
    "$x = 5$\n",
    "\n",
    "A scaled mark of 2, was orginally 5"
   ]
  }
 ],
 "metadata": {
  "kernelspec": {
   "display_name": "Python 3 (ipykernel)",
   "language": "python",
   "name": "python3"
  },
  "language_info": {
   "codemirror_mode": {
    "name": "ipython",
    "version": 3
   },
   "file_extension": ".py",
   "mimetype": "text/x-python",
   "name": "python",
   "nbconvert_exporter": "python",
   "pygments_lexer": "ipython3",
   "version": "3.10.7"
  }
 },
 "nbformat": 4,
 "nbformat_minor": 5
}

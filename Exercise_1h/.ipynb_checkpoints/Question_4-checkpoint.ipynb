{
 "cells": [
  {
   "cell_type": "code",
   "execution_count": 1,
   "id": "e2a15572",
   "metadata": {},
   "outputs": [
    {
     "name": "stdout",
     "output_type": "stream",
     "text": [
      "a) The datasets are related by the function, f(x) = x + 100\n",
      "This implies that the standard devaition remains the same, .ie std = 2\n"
     ]
    }
   ],
   "source": [
    "print(\"a) The datasets are related by the function, f(x) = x + 100\")\n",
    "print(\"This implies that the standard devaition remains the same, .ie std = 2\")"
   ]
  },
  {
   "cell_type": "code",
   "execution_count": 2,
   "id": "a659cf22",
   "metadata": {},
   "outputs": [
    {
     "name": "stdout",
     "output_type": "stream",
     "text": [
      "b) The datasets are related by the function, f(x) = x * 100\n",
      "Hence the standard devaition is given by, (std * 100) --> which is = 200\n"
     ]
    }
   ],
   "source": [
    "print(\"b) The datasets are related by the function, f(x) = x * 100\")\n",
    "print(\"Hence the standard devaition is given by, (std * 100) --> which is = 200\")"
   ]
  },
  {
   "cell_type": "code",
   "execution_count": 14,
   "id": "e22290b6",
   "metadata": {},
   "outputs": [
    {
     "name": "stdout",
     "output_type": "stream",
     "text": [
      "a) The datasets are related by the function, f(x) = (x + 0.01) + 2\n",
      "Hence the standard devaition is given by, (std * 0.01) --> which is = 2.02\n"
     ]
    }
   ],
   "source": [
    "print(\"a) The datasets are related by the function, f(x) = (x + 0.01) + 2\")\n",
    "print(\"Hence the standard devaition is given by, (std * 0.01) --> which is = 2.02\")"
   ]
  },
  {
   "cell_type": "code",
   "execution_count": 15,
   "id": "b9ed5c0d",
   "metadata": {},
   "outputs": [
    {
     "name": "stdout",
     "output_type": "stream",
     "text": [
      "Given the dataset [1, 2, 3, 4, 5, 6, 7] which has a standard deviation of 2,\n",
      " we can increase the deviation of the datapoints to '6' by multiplying its terms by '3'.\n",
      " This gives the dataset -> [3, 6, 9, 12, 15, 18, 21]. \n",
      "\n",
      " The mean of this new dataset is = 12 \n",
      " To shift the mean (or the center) of this dataset without affecting the standard deviation,\n",
      " we simply subtract seven from each term, which gives the dataset [-4, -1, 2, 5, 8, 11, 14].\n",
      "\n",
      "\n",
      "Hence, the dataset of seven integers that have a mean of 5 and a standard deviation of 6 is \n",
      " [-4, -1, 2, 5, 8, 11, 14]\n"
     ]
    }
   ],
   "source": [
    "print(\"Given the dataset [1, 2, 3, 4, 5, 6, 7] which has a standard deviation of 2,\\n \\\n",
    "we can increase the deviation of the datapoints to '6' by multiplying its terms by '3'.\\n \\\n",
    "This gives the dataset -> [3, 6, 9, 12, 15, 18, 21]. \\n\\n \\\n",
    "The mean of this new dataset is = 12 \\n \\\n",
    "To shift the mean (or the center) of this dataset without affecting the standard deviation,\\n \\\n",
    "we simply subtract seven from each term, which gives the dataset [-4, -1, 2, 5, 8, 11, 14].\\n\\n\")\n",
    "print(\"Hence, the dataset of seven integers that have a mean of 5 and a standard deviation of 6 is \\n \\\n",
    "[-4, -1, 2, 5, 8, 11, 14]\")"
   ]
  }
 ],
 "metadata": {
  "kernelspec": {
   "display_name": "Python 3 (ipykernel)",
   "language": "python",
   "name": "python3"
  },
  "language_info": {
   "codemirror_mode": {
    "name": "ipython",
    "version": 3
   },
   "file_extension": ".py",
   "mimetype": "text/x-python",
   "name": "python",
   "nbconvert_exporter": "python",
   "pygments_lexer": "ipython3",
   "version": "3.10.7"
  }
 },
 "nbformat": 4,
 "nbformat_minor": 5
}

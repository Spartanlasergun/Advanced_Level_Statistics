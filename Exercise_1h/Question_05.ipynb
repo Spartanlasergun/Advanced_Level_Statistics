{
 "cells": [
  {
   "cell_type": "code",
   "execution_count": 4,
   "id": "61a5f198",
   "metadata": {},
   "outputs": [
    {
     "name": "stdout",
     "output_type": "stream",
     "text": [
      "The dataset is defined by the function, y = 4x + 52 \n",
      " To shift the standard deviation to 3, multiply by 3/4, hence a = 3/4 \n",
      " This gives the function y = 3x + 39 \n",
      " The mean is given by b = 39, to shift 'b' to 64, we add 22, \n",
      " This implies that b = 22 \n",
      " Hence, a = 3/4, and b = 22\n"
     ]
    }
   ],
   "source": [
    "print(\"The dataset is defined by the function, y = 4x + 52 \\n \\\n",
    "To shift the standard deviation to 3, multiply by 3/4, hence a = 3/4 \\n \\\n",
    "This gives the function y = 3x + 39 \\n \\\n",
    "The mean is given by b = 39, to shift 'b' to 64, we add 22, \\n \\\n",
    "This implies that b = 22 \\n \\\n",
    "Hence, a = 3/4, and b = 22\")"
   ]
  },
  {
   "cell_type": "code",
   "execution_count": 5,
   "id": "a2d07618",
   "metadata": {},
   "outputs": [
    {
     "name": "stdout",
     "output_type": "stream",
     "text": [
      "The scaled number is = 70.0\n"
     ]
    }
   ],
   "source": [
    "# f(x) = 3/4(x) + 22\n",
    "# f(64) = 3/4(64) + 22\n",
    "scaled_number = ((3 / 4) * 64) + 22\n",
    "print(\"The scaled number is = \" + str(scaled_number))"
   ]
  },
  {
   "cell_type": "code",
   "execution_count": 7,
   "id": "9b9ab25e",
   "metadata": {},
   "outputs": [
    {
     "name": "stdout",
     "output_type": "stream",
     "text": [
      "The orginal datapoint for a scaled value of 79 is = 76\n"
     ]
    }
   ],
   "source": [
    "# 3/4(x) + 22 = 79\n",
    "# 3/4(x) = 57\n",
    "# x = 76\n",
    "print(\"The orginal datapoint for a scaled value of 79 is = 76\")"
   ]
  }
 ],
 "metadata": {
  "kernelspec": {
   "display_name": "Python 3 (ipykernel)",
   "language": "python",
   "name": "python3"
  },
  "language_info": {
   "codemirror_mode": {
    "name": "ipython",
    "version": 3
   },
   "file_extension": ".py",
   "mimetype": "text/x-python",
   "name": "python",
   "nbconvert_exporter": "python",
   "pygments_lexer": "ipython3",
   "version": "3.10.7"
  }
 },
 "nbformat": 4,
 "nbformat_minor": 5
}

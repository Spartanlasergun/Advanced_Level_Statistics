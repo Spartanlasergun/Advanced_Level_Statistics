{
 "cells": [
  {
   "cell_type": "code",
   "execution_count": 1,
   "id": "d90b7418",
   "metadata": {},
   "outputs": [
    {
     "name": "stdout",
     "output_type": "stream",
     "text": [
      "a = 0.8\n",
      "b = -5.0\n"
     ]
    }
   ],
   "source": [
    "# 85a + b = 63\n",
    "# 45a + b = 31 => b = 31 - 45a\n",
    "# Hence, 85a - 45a + 31 = 63\n",
    "# 40a = 32\n",
    "# a = 0.8\n",
    "b = 31 - (45 * 0.8)\n",
    "print(\"a = 0.8\")\n",
    "print(\"b = \" + str(b))"
   ]
  },
  {
   "cell_type": "code",
   "execution_count": 2,
   "id": "32dd13eb",
   "metadata": {},
   "outputs": [
    {
     "name": "stdout",
     "output_type": "stream",
     "text": [
      "The standard deviation of the orginal set \"A\" is = 6.25\n"
     ]
    }
   ],
   "source": [
    "# 0.8x = 5\n",
    "# x = 5 / (0.8)\n",
    "# x = 6.25\n",
    "print(\"The standard deviation of the orginal set \\\"A\\\" is = 6.25\")"
   ]
  }
 ],
 "metadata": {
  "kernelspec": {
   "display_name": "Python 3 (ipykernel)",
   "language": "python",
   "name": "python3"
  },
  "language_info": {
   "codemirror_mode": {
    "name": "ipython",
    "version": 3
   },
   "file_extension": ".py",
   "mimetype": "text/x-python",
   "name": "python",
   "nbconvert_exporter": "python",
   "pygments_lexer": "ipython3",
   "version": "3.10.7"
  }
 },
 "nbformat": 4,
 "nbformat_minor": 5
}

{
 "cells": [
  {
   "cell_type": "markdown",
   "id": "640a70cd-4cc2-4254-a549-37dfd6f4d075",
   "metadata": {},
   "source": [
    "# Question 12\n",
    "-----"
   ]
  },
  {
   "cell_type": "markdown",
   "id": "bc4a8aae-f31e-454f-931a-2d276549133c",
   "metadata": {},
   "source": [
    "Conditions for normal approximation to the binomial:\n",
    "\n",
    "$$np > 5$$\n",
    "\n",
    "$$nq > 5$$"
   ]
  },
  {
   "cell_type": "code",
   "execution_count": 1,
   "id": "9a971399-2361-44b0-b238-1be5623b5240",
   "metadata": {},
   "outputs": [],
   "source": [
    "import math\n",
    "\n",
    "class bino:\n",
    "    def __init__(self, n, p, q):\n",
    "        self.n = n\n",
    "        self.p = p\n",
    "        self.q = q\n",
    "        self.frequencies = []\n",
    "\n",
    "    def prob(self, r):\n",
    "        self.funk = ((math.factorial(self.n)) / (math.factorial(r) * math.factorial(((self.n)-r)))) * pow((self.q), ((self.n)-r)) * pow((self.p), r)\n",
    "        return self.funk\n",
    "\n",
    "    def freq(self, event, r):\n",
    "        event_prob = self.prob(r)\n",
    "        frequency = event_prob * event\n",
    "        frequency = round(frequency, 0)\n",
    "        return frequency"
   ]
  },
  {
   "cell_type": "code",
   "execution_count": 2,
   "id": "b50cb1e6-b514-4951-a2e0-dfa2eb80c1cb",
   "metadata": {},
   "outputs": [
    {
     "name": "stdout",
     "output_type": "stream",
     "text": [
      "P(X < 4) = 0.18526452666676824\n"
     ]
    }
   ],
   "source": [
    "bin_dist = bino(12, 0.42, 0.58)\n",
    "PXE0 = bin_dist.prob(0)\n",
    "PXE1 = bin_dist.prob(1)\n",
    "PXE2 = bin_dist.prob(2)\n",
    "PXE3 = bin_dist.prob(3)\n",
    "PXL4 = PXE0 + PXE1 + PXE2 + PXE3\n",
    "print(\"P(X < 4) = \" + str(PXL4))"
   ]
  },
  {
   "cell_type": "code",
   "execution_count": 3,
   "id": "6f92b813-e0aa-47f3-bc92-379d66d758b2",
   "metadata": {},
   "outputs": [],
   "source": [
    "from scipy.integrate import quad\n",
    "import math\n",
    "\n",
    "class normal:\n",
    "    def __init__(self, u, sigma):\n",
    "        self.u = u\n",
    "        self.sigma = sigma\n",
    "        self.root2pi = math.sqrt((2 * math.pi)) \n",
    "    \n",
    "    def normal_func(self, x):\n",
    "        return (1 / (self.sigma * self.root2pi)) * math.exp((-1 * pow((x - self.u), 2)) / (2 * pow(self.sigma, 2)))\n",
    "\n",
    "    def integrate(self, lower_limit, upper_limit):\n",
    "        result, error = quad(self.normal_func, lower_limit, upper_limit)\n",
    "        \n",
    "        return result\n",
    "\n",
    "    def locate(self, area):\n",
    "        fx = 0\n",
    "        x = -6\n",
    "        while fx < area:\n",
    "            fx = self.integrate(-6, x)\n",
    "            x = x + 0.00001\n",
    "            \n",
    "        return x"
   ]
  },
  {
   "cell_type": "code",
   "execution_count": 4,
   "id": "17d94c4a-3937-4c36-8e5b-66b6edcec546",
   "metadata": {},
   "outputs": [
    {
     "name": "stdout",
     "output_type": "stream",
     "text": [
      "b) 0.18386769622988758\n"
     ]
    }
   ],
   "source": [
    "np = 12 * 0.42\n",
    "npq = 12 * 0.42 * 0.58\n",
    "std = math.sqrt(npq)\n",
    "dist = normal(np, std)\n",
    "b = dist.integrate(-100, 3.5)\n",
    "print(\"b) \" + str(b))"
   ]
  },
  {
   "cell_type": "code",
   "execution_count": 5,
   "id": "a8e19235-7120-4e5d-9c9d-816c7f830219",
   "metadata": {},
   "outputs": [
    {
     "name": "stdout",
     "output_type": "stream",
     "text": [
      "error = 0.753965403961607%\n"
     ]
    }
   ],
   "source": [
    "error = ((PXL4 - b)/PXL4) * 100\n",
    "print(\"error = \" + str(error) + \"%\")"
   ]
  }
 ],
 "metadata": {
  "kernelspec": {
   "display_name": "Python 3 (ipykernel)",
   "language": "python",
   "name": "python3"
  },
  "language_info": {
   "codemirror_mode": {
    "name": "ipython",
    "version": 3
   },
   "file_extension": ".py",
   "mimetype": "text/x-python",
   "name": "python",
   "nbconvert_exporter": "python",
   "pygments_lexer": "ipython3",
   "version": "3.12.1"
  }
 },
 "nbformat": 4,
 "nbformat_minor": 5
}

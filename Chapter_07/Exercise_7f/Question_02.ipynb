{
 "cells": [
  {
   "cell_type": "markdown",
   "id": "65bf1d4b-0060-4fab-ac15-b430b3037ca3",
   "metadata": {},
   "source": [
    "# Question 2\n",
    "-----"
   ]
  },
  {
   "cell_type": "markdown",
   "id": "4aefde35-3edc-4291-9758-37a52129c9cd",
   "metadata": {},
   "source": [
    "a)\n",
    "For a normal approximation the following conditions must be satisfied:\n",
    "\n",
    "$$n * p > 5$$\n",
    "\n",
    "$$n * q > 5$$\n",
    "\n",
    "-----\n",
    "b)\n",
    "\n",
    "$$np = 25 * 0.38 = 9.5$$\n",
    "\n",
    "$$q = 1 - 0.38 = 0.62$$\n",
    "\n",
    "$$nq = 25 * 0.62 = 15.5$$\n",
    "\n",
    "hence, a normal approximation is possible"
   ]
  },
  {
   "cell_type": "code",
   "execution_count": 1,
   "id": "e4cc8b57-3e15-49cd-94b8-b865d07e9c97",
   "metadata": {},
   "outputs": [],
   "source": [
    "from scipy.integrate import quad\n",
    "import math\n",
    "\n",
    "class normal:\n",
    "    def __init__(self, u, sigma):\n",
    "        self.u = u\n",
    "        self.sigma = sigma\n",
    "        self.root2pi = math.sqrt((2 * math.pi)) \n",
    "    \n",
    "    def normal_func(self, x):\n",
    "        return (1 / (self.sigma * self.root2pi)) * math.exp((-1 * pow((x - self.u), 2)) / (2 * pow(self.sigma, 2)))\n",
    "\n",
    "    def integrate(self, lower_limit, upper_limit):\n",
    "        result, error = quad(self.normal_func, lower_limit, upper_limit)\n",
    "        \n",
    "        return result\n",
    "\n",
    "    def locate(self, area):\n",
    "        fx = 0\n",
    "        x = -6\n",
    "        while fx < area:\n",
    "            fx = self.integrate(-6, x)\n",
    "            x = x + 0.00001\n",
    "            \n",
    "        return x"
   ]
  },
  {
   "cell_type": "code",
   "execution_count": 2,
   "id": "8d979cfb-9542-4ace-9110-d6596f6384aa",
   "metadata": {},
   "outputs": [
    {
     "name": "stdout",
     "output_type": "stream",
     "text": [
      "c) 0.019670129923297745\n"
     ]
    }
   ],
   "source": [
    "np = 25 * 0.38\n",
    "npq = 25 * 0.38 * 0.62\n",
    "std = math.sqrt(npq)\n",
    "dist = normal(np, std)\n",
    "prob = dist.integrate(14.5, 19.5)\n",
    "print(\"c) \" + str(prob))"
   ]
  },
  {
   "cell_type": "code",
   "execution_count": 3,
   "id": "05dafdb4-2b80-4d9c-b016-754528a0a22b",
   "metadata": {},
   "outputs": [
    {
     "name": "stdout",
     "output_type": "stream",
     "text": [
      "d) 0.09674004068818412\n"
     ]
    }
   ],
   "source": [
    "d = dist.integrate(11.5, 12.5)\n",
    "print(\"d) \" + str(d))"
   ]
  }
 ],
 "metadata": {
  "kernelspec": {
   "display_name": "Python 3 (ipykernel)",
   "language": "python",
   "name": "python3"
  },
  "language_info": {
   "codemirror_mode": {
    "name": "ipython",
    "version": 3
   },
   "file_extension": ".py",
   "mimetype": "text/x-python",
   "name": "python",
   "nbconvert_exporter": "python",
   "pygments_lexer": "ipython3",
   "version": "3.12.1"
  }
 },
 "nbformat": 4,
 "nbformat_minor": 5
}

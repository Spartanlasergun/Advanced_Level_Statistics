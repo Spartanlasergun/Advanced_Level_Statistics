{
 "cells": [
  {
   "cell_type": "markdown",
   "id": "dc5aa894-312a-4049-bd6f-e868a5734f37",
   "metadata": {},
   "source": [
    "# Question 1\n",
    "-----"
   ]
  },
  {
   "cell_type": "code",
   "execution_count": 1,
   "id": "4844b014-87ab-400f-b592-30c37736bd03",
   "metadata": {},
   "outputs": [],
   "source": [
    "from scipy.integrate import quad\n",
    "import math\n",
    "\n",
    "class normal:\n",
    "    def __init__(self, u, sigma):\n",
    "        self.u = u\n",
    "        self.sigma = sigma\n",
    "        self.root2pi = math.sqrt((2 * math.pi)) \n",
    "    \n",
    "    def normal_func(self, x):\n",
    "        return (1 / (self.sigma * self.root2pi)) * math.exp((-1 * pow((x - self.u), 2)) / (2 * pow(self.sigma, 2)))\n",
    "\n",
    "    def integrate(self, lower_limit, upper_limit):\n",
    "        result, error = quad(self.normal_func, lower_limit, upper_limit)\n",
    "        \n",
    "        return result"
   ]
  },
  {
   "cell_type": "code",
   "execution_count": 2,
   "id": "c0a3569f-a887-4e0a-8521-dffcee05e235",
   "metadata": {},
   "outputs": [
    {
     "name": "stdout",
     "output_type": "stream",
     "text": [
      "a) 0.015059999999999555\n"
     ]
    }
   ],
   "source": [
    "z = normal(0, 1)\n",
    "x = 0\n",
    "fx = 0\n",
    "while fx < 0.506:\n",
    "    fx = z.integrate(-6, x)\n",
    "    x = x + 0.00001\n",
    "print(\"a) \" + str(x))"
   ]
  },
  {
   "cell_type": "code",
   "execution_count": 3,
   "id": "5b8a9500-de62-46de-9927-5197dc5234f7",
   "metadata": {},
   "outputs": [
    {
     "name": "stdout",
     "output_type": "stream",
     "text": [
      "b) 0.7960699999990118\n"
     ]
    }
   ],
   "source": [
    "x = 0\n",
    "fx = 0\n",
    "while fx < 0.787:\n",
    "    fx = z.integrate(-6, x)\n",
    "    x = x + 0.00001\n",
    "print(\"b) \" + str(x))"
   ]
  },
  {
   "cell_type": "code",
   "execution_count": 4,
   "id": "bd6abd10-3a2d-4cf0-bdc5-898f93e70710",
   "metadata": {},
   "outputs": [
    {
     "name": "stdout",
     "output_type": "stream",
     "text": [
      "c) -1.886690000024013\n"
     ]
    }
   ],
   "source": [
    "x = -5\n",
    "fx = 0\n",
    "while fx < 0.0296:\n",
    "    fx = z.integrate(-6, x)\n",
    "    x = x + 0.00001\n",
    "print(\"c) \" + str(x))"
   ]
  },
  {
   "cell_type": "code",
   "execution_count": 5,
   "id": "1223d4d3-94ef-4d47-b9cc-fc070d129586",
   "metadata": {},
   "outputs": [
    {
     "name": "stdout",
     "output_type": "stream",
     "text": [
      "d) -0.45375000002043336\n"
     ]
    }
   ],
   "source": [
    "x = -5\n",
    "fx = 0\n",
    "while fx < 0.325:\n",
    "    fx = z.integrate(-6, x)\n",
    "    x = x + 0.00001\n",
    "print(\"d) \" + str(x))"
   ]
  },
  {
   "cell_type": "code",
   "execution_count": 6,
   "id": "70b625ac-7fc1-465c-8af1-7e85fa7552a0",
   "metadata": {},
   "outputs": [
    {
     "name": "stdout",
     "output_type": "stream",
     "text": [
      "e) -0.5621599999888903\n"
     ]
    }
   ],
   "source": [
    "x = -3\n",
    "fx = 1\n",
    "while fx > 0.713:\n",
    "    fx = z.integrate(x, 6)\n",
    "    x = x + 0.00001\n",
    "print(\"e) \" + str(x))"
   ]
  },
  {
   "cell_type": "code",
   "execution_count": 7,
   "id": "58fa1517-14c7-4d5f-9869-1e426c0e1702",
   "metadata": {},
   "outputs": [
    {
     "name": "stdout",
     "output_type": "stream",
     "text": [
      "g) 0.8416099999876185\n"
     ]
    }
   ],
   "source": [
    "x = -3\n",
    "fx = 1\n",
    "while fx > 0.3:\n",
    "    fx = z.integrate(x, 0)\n",
    "    x = x + 0.00001\n",
    "\n",
    "x = abs(x)\n",
    "print(\"g) \" + str(x))"
   ]
  }
 ],
 "metadata": {
  "kernelspec": {
   "display_name": "Python 3 (ipykernel)",
   "language": "python",
   "name": "python3"
  },
  "language_info": {
   "codemirror_mode": {
    "name": "ipython",
    "version": 3
   },
   "file_extension": ".py",
   "mimetype": "text/x-python",
   "name": "python",
   "nbconvert_exporter": "python",
   "pygments_lexer": "ipython3",
   "version": "3.12.1"
  }
 },
 "nbformat": 4,
 "nbformat_minor": 5
}

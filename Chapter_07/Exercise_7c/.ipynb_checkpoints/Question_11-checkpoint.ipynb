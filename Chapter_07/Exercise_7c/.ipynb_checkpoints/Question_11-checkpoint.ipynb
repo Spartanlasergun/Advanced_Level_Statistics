{
 "cells": [
  {
   "cell_type": "markdown",
   "id": "efb674a0-fb77-40b9-aedd-7c083ff760e4",
   "metadata": {},
   "source": [
    "# Question 11\n",
    "-----"
   ]
  },
  {
   "cell_type": "code",
   "execution_count": 1,
   "id": "6430be75-4d7d-46b1-b89c-3ed08621caf5",
   "metadata": {},
   "outputs": [],
   "source": [
    "from scipy.integrate import quad\n",
    "import math\n",
    "\n",
    "class normal:\n",
    "    def __init__(self, u, sigma):\n",
    "        self.u = u\n",
    "        self.sigma = sigma\n",
    "        self.root2pi = math.sqrt((2 * math.pi)) \n",
    "    \n",
    "    def normal_func(self, x):\n",
    "        return (1 / (self.sigma * self.root2pi)) * math.exp((-1 * pow((x - self.u), 2)) / (2 * pow(self.sigma, 2)))\n",
    "\n",
    "    def integrate(self, lower_limit, upper_limit):\n",
    "        result, error = quad(self.normal_func, lower_limit, upper_limit)\n",
    "        \n",
    "        return result"
   ]
  },
  {
   "cell_type": "code",
   "execution_count": 2,
   "id": "07addebc-aa33-4d48-aba2-0f7e0709c1dc",
   "metadata": {},
   "outputs": [
    {
     "name": "stdout",
     "output_type": "stream",
     "text": [
      "a) 0.054799290712970405\n"
     ]
    }
   ],
   "source": [
    "z = normal(0, 1)\n",
    "transform = (2000 - 2080) / 50\n",
    "a = z.integrate(-6, transform)\n",
    "print(\"a) \" + str(a))"
   ]
  },
  {
   "cell_type": "code",
   "execution_count": 3,
   "id": "0bcbb67c-ab74-4173-b1b8-d5b2d0572273",
   "metadata": {},
   "outputs": [
    {
     "name": "stdout",
     "output_type": "stream",
     "text": [
      "b) 25.83185735930109\n"
     ]
    }
   ],
   "source": [
    "transform_a = (2060 - 2080) / 50\n",
    "transform_b = (2130 - 2080) / 50\n",
    "b = z.integrate(transform_a, transform_b)\n",
    "weeks = b * 52\n",
    "print(\"b) \" + str(weeks))"
   ]
  },
  {
   "cell_type": "code",
   "execution_count": 4,
   "id": "eae6b143-057b-420d-a89a-376855b90955",
   "metadata": {},
   "outputs": [
    {
     "name": "stdout",
     "output_type": "stream",
     "text": [
      "interquartile range = 67.45000000143341\n"
     ]
    }
   ],
   "source": [
    "dist = normal(2080, 50)\n",
    "x = -6\n",
    "fx = 0\n",
    "area = 0.25\n",
    "while fx < area:\n",
    "    fx = dist.integrate(-6, x)\n",
    "    x = x + 0.01\n",
    "lower = x\n",
    "\n",
    "x = 0\n",
    "fx = 0\n",
    "area = 0.75\n",
    "while fx < area:\n",
    "    fx = dist.integrate(-6, x)\n",
    "    x = x + 0.01\n",
    "upper = x\n",
    "intq_range = upper - lower\n",
    "print(\"interquartile range = \" + str(intq_range))"
   ]
  },
  {
   "cell_type": "code",
   "execution_count": 5,
   "id": "d9d18440-2e65-4dc6-a6a2-6675cd02ab58",
   "metadata": {},
   "outputs": [
    {
     "name": "stdout",
     "output_type": "stream",
     "text": [
      "n = 2182.7999999991102\n"
     ]
    }
   ],
   "source": [
    "x = 0\n",
    "fx = 0\n",
    "area = 0.98\n",
    "while fx < area:\n",
    "    fx = dist.integrate(0, x)\n",
    "    x = x + 0.1\n",
    "print(\"n = \" + str(x))"
   ]
  }
 ],
 "metadata": {
  "kernelspec": {
   "display_name": "Python 3 (ipykernel)",
   "language": "python",
   "name": "python3"
  },
  "language_info": {
   "codemirror_mode": {
    "name": "ipython",
    "version": 3
   },
   "file_extension": ".py",
   "mimetype": "text/x-python",
   "name": "python",
   "nbconvert_exporter": "python",
   "pygments_lexer": "ipython3",
   "version": "3.12.1"
  }
 },
 "nbformat": 4,
 "nbformat_minor": 5
}

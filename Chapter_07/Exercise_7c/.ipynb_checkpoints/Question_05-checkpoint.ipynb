{
 "cells": [
  {
   "cell_type": "markdown",
   "id": "ac1fba6c-cbb9-4fea-82da-8c123cdbf303",
   "metadata": {},
   "source": [
    "# Question 5\n",
    "-----"
   ]
  },
  {
   "cell_type": "code",
   "execution_count": 1,
   "id": "967cfdc7-3bd5-4e97-a088-e03c3703a998",
   "metadata": {},
   "outputs": [],
   "source": [
    "from scipy.integrate import quad\n",
    "import math\n",
    "\n",
    "class normal:\n",
    "    def __init__(self, u, sigma):\n",
    "        self.u = u\n",
    "        self.sigma = sigma\n",
    "        self.root2pi = math.sqrt((2 * math.pi)) \n",
    "    \n",
    "    def normal_func(self, x):\n",
    "        return (1 / (self.sigma * self.root2pi)) * math.exp((-1 * pow((x - self.u), 2)) / (2 * pow(self.sigma, 2)))\n",
    "\n",
    "    def integrate(self, lower_limit, upper_limit):\n",
    "        result, error = quad(self.normal_func, lower_limit, upper_limit)\n",
    "        \n",
    "        return result"
   ]
  },
  {
   "cell_type": "code",
   "execution_count": 2,
   "id": "d561b2d5-e4c1-4897-91f1-8cee1875e240",
   "metadata": {},
   "outputs": [
    {
     "name": "stdout",
     "output_type": "stream",
     "text": [
      "a) 1.999090000004629\n"
     ]
    }
   ],
   "source": [
    "z = normal(0, 1)\n",
    "x = 0\n",
    "fx = 0\n",
    "area = 0.9772\n",
    "while fx < area:\n",
    "    fx = z.integrate(-6, x)\n",
    "    x = x + 0.00001\n",
    "print(\"a) \" + str(x))"
   ]
  },
  {
   "cell_type": "code",
   "execution_count": 3,
   "id": "710130bc-40fc-4c42-a42e-4165eec66c1f",
   "metadata": {},
   "outputs": [
    {
     "name": "stdout",
     "output_type": "stream",
     "text": [
      "b) -0.5243900000582263\n"
     ]
    }
   ],
   "source": [
    "x = -6\n",
    "fx = 0\n",
    "area = 0.3\n",
    "while fx < area:\n",
    "    fx = z.integrate(-6, x)\n",
    "    x = x + 0.00001\n",
    "print(\"b) \" + str(x))"
   ]
  },
  {
   "cell_type": "code",
   "execution_count": 4,
   "id": "aa13799b-a4f8-4889-bbc2-0247f4324324",
   "metadata": {},
   "outputs": [
    {
     "name": "stdout",
     "output_type": "stream",
     "text": [
      "c) -1.5431100000596198\n"
     ]
    }
   ],
   "source": [
    "x = -6\n",
    "fx = 0\n",
    "area = 1 - 0.9386\n",
    "while fx < area:\n",
    "    fx = z.integrate(-6, x)\n",
    "    x = x + 0.00001\n",
    "print(\"c) \" + str(x))"
   ]
  },
  {
   "cell_type": "code",
   "execution_count": 5,
   "id": "bd9762f5-2ef7-4c6f-b4ee-387730e763cb",
   "metadata": {},
   "outputs": [
    {
     "name": "stdout",
     "output_type": "stream",
     "text": [
      "d) 0.7339299999992946\n"
     ]
    }
   ],
   "source": [
    "x = 0\n",
    "fx = 0\n",
    "area = 1 - 0.2315\n",
    "while fx < area:\n",
    "    fx = z.integrate(-6, x)\n",
    "    x = x + 0.00001\n",
    "print(\"d) \" + str(x))"
   ]
  }
 ],
 "metadata": {
  "kernelspec": {
   "display_name": "Python 3 (ipykernel)",
   "language": "python",
   "name": "python3"
  },
  "language_info": {
   "codemirror_mode": {
    "name": "ipython",
    "version": 3
   },
   "file_extension": ".py",
   "mimetype": "text/x-python",
   "name": "python",
   "nbconvert_exporter": "python",
   "pygments_lexer": "ipython3",
   "version": "3.12.1"
  }
 },
 "nbformat": 4,
 "nbformat_minor": 5
}

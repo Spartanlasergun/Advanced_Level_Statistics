{
 "cells": [
  {
   "cell_type": "markdown",
   "id": "532eda46-8be7-4834-a43d-f8970616dba6",
   "metadata": {},
   "source": [
    "# Question 8\n",
    "-----"
   ]
  },
  {
   "cell_type": "code",
   "execution_count": 1,
   "id": "15b00567-152c-4156-bf3f-8fbd56bb3e3c",
   "metadata": {},
   "outputs": [
    {
     "name": "stdout",
     "output_type": "stream",
     "text": [
      "mean = 8.0\n",
      "std = 1.157583690279024\n"
     ]
    }
   ],
   "source": [
    "import math\n",
    "\n",
    "dia = [6, 7, 8, 9, 10]\n",
    "freq = [11, 21, 38, 17, 13]\n",
    "EFx = []\n",
    "index = 0\n",
    "for item in freq:\n",
    "    fx = item * dia[index]\n",
    "    EFx.append(fx)\n",
    "    index = index + 1\n",
    "mean = sum(EFx) / sum(freq)\n",
    "EFx_2 = []\n",
    "index = 0\n",
    "for item in freq:\n",
    "    x = dia[index]\n",
    "    fx = item * (x**2)\n",
    "    EFx_2.append(fx)\n",
    "    index = index + 1\n",
    "var = (sum(EFx_2) / sum(freq)) - (mean**2)\n",
    "std = math.sqrt(var)\n",
    "print(\"mean = \" + str(mean))\n",
    "print(\"std = \" + str(std))"
   ]
  },
  {
   "cell_type": "code",
   "execution_count": 2,
   "id": "861ad5bd-d7a4-4ea4-9dd1-31e10b8fbdbd",
   "metadata": {},
   "outputs": [],
   "source": [
    "from scipy.integrate import quad\n",
    "import math\n",
    "\n",
    "class normal:\n",
    "    def __init__(self, u, sigma):\n",
    "        self.u = u\n",
    "        self.sigma = sigma\n",
    "        self.root2pi = math.sqrt((2 * math.pi)) \n",
    "    \n",
    "    def normal_func(self, x):\n",
    "        return (1 / (self.sigma * self.root2pi)) * math.exp((-1 * pow((x - self.u), 2)) / (2 * pow(self.sigma, 2)))\n",
    "\n",
    "    def integrate(self, lower_limit, upper_limit):\n",
    "        result, error = quad(self.normal_func, lower_limit, upper_limit)\n",
    "        \n",
    "        return result"
   ]
  },
  {
   "cell_type": "code",
   "execution_count": 3,
   "id": "699fa0b0-e21a-450e-8757-8009a144c58b",
   "metadata": {},
   "outputs": [
    {
     "name": "stdout",
     "output_type": "stream",
     "text": [
      "6.109999999999831 < X < 9.89000000000017\n"
     ]
    }
   ],
   "source": [
    "dist = normal(mean, std)\n",
    "x = -6\n",
    "fx = 0\n",
    "area = 0.05\n",
    "while fx < area:\n",
    "    fx = dist.integrate(-6, x)\n",
    "    x = x + 0.01\n",
    "lower = x\n",
    "upper = (8 - lower) + 8\n",
    "print(str(lower) + \" < X < \" + str(upper))"
   ]
  }
 ],
 "metadata": {
  "kernelspec": {
   "display_name": "Python 3 (ipykernel)",
   "language": "python",
   "name": "python3"
  },
  "language_info": {
   "codemirror_mode": {
    "name": "ipython",
    "version": 3
   },
   "file_extension": ".py",
   "mimetype": "text/x-python",
   "name": "python",
   "nbconvert_exporter": "python",
   "pygments_lexer": "ipython3",
   "version": "3.12.1"
  }
 },
 "nbformat": 4,
 "nbformat_minor": 5
}

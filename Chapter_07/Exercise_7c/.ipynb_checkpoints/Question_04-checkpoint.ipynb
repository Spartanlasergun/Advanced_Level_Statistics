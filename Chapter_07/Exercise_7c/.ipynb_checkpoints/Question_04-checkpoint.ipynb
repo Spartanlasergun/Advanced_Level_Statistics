{
 "cells": [
  {
   "cell_type": "markdown",
   "id": "54393bae-9eed-4f42-9653-038ac74e5c23",
   "metadata": {},
   "source": [
    "# Question 4\n",
    "-----"
   ]
  },
  {
   "cell_type": "code",
   "execution_count": 1,
   "id": "f65a112e-8cea-4f89-b29a-c5331d1fa959",
   "metadata": {},
   "outputs": [],
   "source": [
    "from scipy.integrate import quad\n",
    "import math\n",
    "\n",
    "class normal:\n",
    "    def __init__(self, u, sigma):\n",
    "        self.u = u\n",
    "        self.sigma = sigma\n",
    "        self.root2pi = math.sqrt((2 * math.pi)) \n",
    "    \n",
    "    def normal_func(self, x):\n",
    "        return (1 / (self.sigma * self.root2pi)) * math.exp((-1 * pow((x - self.u), 2)) / (2 * pow(self.sigma, 2)))\n",
    "\n",
    "    def integrate(self, lower_limit, upper_limit):\n",
    "        result, error = quad(self.normal_func, lower_limit, upper_limit)\n",
    "        \n",
    "        return result"
   ]
  },
  {
   "cell_type": "code",
   "execution_count": 2,
   "id": "16a67050-2441-403d-8a0c-8be5f9acc4e3",
   "metadata": {},
   "outputs": [
    {
     "name": "stdout",
     "output_type": "stream",
     "text": [
      "upper quartile = 0.6744700000575433\n",
      "lower quartile = -0.6744700000575433\n"
     ]
    }
   ],
   "source": [
    "z = normal(0, 1)\n",
    "x = -6\n",
    "fx = 0\n",
    "boundary = 0.25\n",
    "while fx < boundary:\n",
    "    fx = z.integrate(-6, x)\n",
    "    x = x + 0.00001\n",
    "lower_q = x\n",
    "upper_q = abs(x)\n",
    "print(\"upper quartile = \" + str(upper_q))\n",
    "print(\"lower quartile = \" + str(lower_q))"
   ]
  },
  {
   "cell_type": "code",
   "execution_count": 3,
   "id": "9ec36cc5-c6b1-419c-9952-1fd8aba10fe2",
   "metadata": {},
   "outputs": [
    {
     "name": "stdout",
     "output_type": "stream",
     "text": [
      "70th percentile = 0.5244200000002481\n"
     ]
    }
   ],
   "source": [
    "x = 0\n",
    "fx = 0\n",
    "boundary = 0.70\n",
    "while fx < boundary:\n",
    "    fx = z.integrate(-6, x)\n",
    "    x = x + 0.00001\n",
    "print(\"70th percentile = \" + str(x))"
   ]
  }
 ],
 "metadata": {
  "kernelspec": {
   "display_name": "Python 3 (ipykernel)",
   "language": "python",
   "name": "python3"
  },
  "language_info": {
   "codemirror_mode": {
    "name": "ipython",
    "version": 3
   },
   "file_extension": ".py",
   "mimetype": "text/x-python",
   "name": "python",
   "nbconvert_exporter": "python",
   "pygments_lexer": "ipython3",
   "version": "3.12.1"
  }
 },
 "nbformat": 4,
 "nbformat_minor": 5
}

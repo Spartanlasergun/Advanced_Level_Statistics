{
 "cells": [
  {
   "cell_type": "markdown",
   "id": "b0fe2388-e9f6-4231-8d47-3675a68d1424",
   "metadata": {},
   "source": [
    "# Question 7\n",
    "-----"
   ]
  },
  {
   "cell_type": "code",
   "execution_count": 1,
   "id": "89a5f822-701f-41fa-87b7-65eeb184db09",
   "metadata": {},
   "outputs": [],
   "source": [
    "from scipy.integrate import quad\n",
    "import math\n",
    "\n",
    "class normal:\n",
    "    def __init__(self, u, sigma):\n",
    "        self.u = u\n",
    "        self.sigma = sigma\n",
    "        self.root2pi = math.sqrt((2 * math.pi)) \n",
    "    \n",
    "    def normal_func(self, x):\n",
    "        return (1 / (self.sigma * self.root2pi)) * math.exp((-1 * pow((x - self.u), 2)) / (2 * pow(self.sigma, 2)))\n",
    "\n",
    "    def integrate(self, lower_limit, upper_limit):\n",
    "        result, error = quad(self.normal_func, lower_limit, upper_limit)\n",
    "        \n",
    "        return result"
   ]
  },
  {
   "cell_type": "code",
   "execution_count": 2,
   "id": "9ff1b2c0-496e-43bf-aedb-9ace834c08c7",
   "metadata": {},
   "outputs": [
    {
     "name": "stdout",
     "output_type": "stream",
     "text": [
      "a) 0.6246552600051551\n"
     ]
    }
   ],
   "source": [
    "z = normal(0, 1)\n",
    "transform_a = (570 - 600) / 20\n",
    "transform_b = (610 - 600) / 20\n",
    "a = z.integrate(transform_a, transform_b)\n",
    "print(\"a) \" + str(a))"
   ]
  },
  {
   "cell_type": "code",
   "execution_count": 3,
   "id": "5f95e5a0-7d80-42e2-a46b-0ae7642e7e45",
   "metadata": {},
   "outputs": [
    {
     "name": "stdout",
     "output_type": "stream",
     "text": [
      "b) 629.5299999995725\n"
     ]
    }
   ],
   "source": [
    "dist = normal(600, 20)\n",
    "x = 0\n",
    "fx = 0\n",
    "area = 1 - 0.07\n",
    "while fx < area:\n",
    "    fx = dist.integrate(-6, x)\n",
    "    x = x + 0.01\n",
    "print(\"b) \" + str(x))"
   ]
  },
  {
   "cell_type": "code",
   "execution_count": 4,
   "id": "c32499f1-4126-4f91-bdf0-1bbdf84d9383",
   "metadata": {},
   "outputs": [
    {
     "name": "stdout",
     "output_type": "stream",
     "text": [
      "c) 2.9797622484669115\n"
     ]
    }
   ],
   "source": [
    "transform = (545 - 600) / 20\n",
    "prob = z.integrate(-6, transform)\n",
    "lessthan545 = 1000 * prob\n",
    "print(\"c) \" + str(lessthan545))"
   ]
  }
 ],
 "metadata": {
  "kernelspec": {
   "display_name": "Python 3 (ipykernel)",
   "language": "python",
   "name": "python3"
  },
  "language_info": {
   "codemirror_mode": {
    "name": "ipython",
    "version": 3
   },
   "file_extension": ".py",
   "mimetype": "text/x-python",
   "name": "python",
   "nbconvert_exporter": "python",
   "pygments_lexer": "ipython3",
   "version": "3.12.1"
  }
 },
 "nbformat": 4,
 "nbformat_minor": 5
}

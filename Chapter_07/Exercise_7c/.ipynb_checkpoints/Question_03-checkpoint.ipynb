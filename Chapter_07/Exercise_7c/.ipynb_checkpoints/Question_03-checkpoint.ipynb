{
 "cells": [
  {
   "cell_type": "markdown",
   "id": "08883c8f-d656-468f-a5d8-56790ab7d73e",
   "metadata": {},
   "source": [
    "# Question 3\n",
    "-----"
   ]
  },
  {
   "cell_type": "code",
   "execution_count": 1,
   "id": "eb63e1bd-4b29-407a-952d-74595a93cad5",
   "metadata": {},
   "outputs": [],
   "source": [
    "from scipy.integrate import quad\n",
    "import math\n",
    "\n",
    "class normal:\n",
    "    def __init__(self, u, sigma):\n",
    "        self.u = u\n",
    "        self.sigma = sigma\n",
    "        self.root2pi = math.sqrt((2 * math.pi)) \n",
    "    \n",
    "    def normal_func(self, x):\n",
    "        return (1 / (self.sigma * self.root2pi)) * math.exp((-1 * pow((x - self.u), 2)) / (2 * pow(self.sigma, 2)))\n",
    "\n",
    "    def integrate(self, lower_limit, upper_limit):\n",
    "        result, error = quad(self.normal_func, lower_limit, upper_limit)\n",
    "        \n",
    "        return result"
   ]
  },
  {
   "cell_type": "code",
   "execution_count": 2,
   "id": "fab652ca-8a6f-41a3-9acb-c9848678576b",
   "metadata": {},
   "outputs": [
    {
     "name": "stdout",
     "output_type": "stream",
     "text": [
      "a) 0.9099000000005606\n"
     ]
    }
   ],
   "source": [
    "z = normal(0, 1)\n",
    "x = -6\n",
    "fx = 0\n",
    "boundary = 0.5 - (0.6372 / 2)\n",
    "while fx < boundary:\n",
    "    fx = z.integrate(-6, x)\n",
    "    x = x + 0.0001\n",
    "x = abs(x)\n",
    "print(\"a) \" + str(x))"
   ]
  },
  {
   "cell_type": "code",
   "execution_count": 3,
   "id": "993e12be-a096-401c-9f1c-445b2e477b6b",
   "metadata": {},
   "outputs": [
    {
     "name": "stdout",
     "output_type": "stream",
     "text": [
      "b) 1.659400000000478\n"
     ]
    }
   ],
   "source": [
    "x = -6\n",
    "fx = 0\n",
    "boundary = 0.097 / 2\n",
    "while fx < boundary:\n",
    "    fx = z.integrate(-6, x)\n",
    "    x = x + 0.0001\n",
    "x = abs(x)\n",
    "print(\"b) \" + str(x))"
   ]
  },
  {
   "cell_type": "code",
   "execution_count": 4,
   "id": "12b76269-44e0-499b-9e73-dbe1a140e5a3",
   "metadata": {},
   "outputs": [
    {
     "name": "stdout",
     "output_type": "stream",
     "text": [
      "c) 0.6743000000005865\n"
     ]
    }
   ],
   "source": [
    "x = -6\n",
    "fx = 0\n",
    "boundary = 0.5 - (0.5 / 2)\n",
    "while fx < boundary:\n",
    "    fx = z.integrate(-6, x)\n",
    "    x = x + 0.0001\n",
    "x = abs(x)\n",
    "print(\"c) \" + str(x))"
   ]
  },
  {
   "cell_type": "code",
   "execution_count": 5,
   "id": "a408170c-82a4-4b2d-a151-87045b429c0f",
   "metadata": {},
   "outputs": [
    {
     "name": "stdout",
     "output_type": "stream",
     "text": [
      "d) 2.049500000000545\n"
     ]
    }
   ],
   "source": [
    "x = -6\n",
    "fx = 0\n",
    "boundary = 0.0404 / 2\n",
    "while fx < boundary:\n",
    "    fx = z.integrate(-6, x)\n",
    "    x = x + 0.0001\n",
    "x = abs(x)\n",
    "print(\"d) \" + str(x))"
   ]
  }
 ],
 "metadata": {
  "kernelspec": {
   "display_name": "Python 3 (ipykernel)",
   "language": "python",
   "name": "python3"
  },
  "language_info": {
   "codemirror_mode": {
    "name": "ipython",
    "version": 3
   },
   "file_extension": ".py",
   "mimetype": "text/x-python",
   "name": "python",
   "nbconvert_exporter": "python",
   "pygments_lexer": "ipython3",
   "version": "3.12.1"
  }
 },
 "nbformat": 4,
 "nbformat_minor": 5
}

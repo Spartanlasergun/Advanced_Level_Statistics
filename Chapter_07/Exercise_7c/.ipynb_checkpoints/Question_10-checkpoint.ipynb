{
 "cells": [
  {
   "cell_type": "markdown",
   "id": "5ba4320a-0a80-4387-baf8-2a99b35971b4",
   "metadata": {},
   "source": [
    "# Question 10\n",
    "-----"
   ]
  },
  {
   "cell_type": "code",
   "execution_count": 1,
   "id": "08d16f12-6f08-4dd6-872d-148120270ca8",
   "metadata": {},
   "outputs": [],
   "source": [
    "from scipy.integrate import quad\n",
    "import math\n",
    "\n",
    "class normal:\n",
    "    def __init__(self, u, sigma):\n",
    "        self.u = u\n",
    "        self.sigma = sigma\n",
    "        self.root2pi = math.sqrt((2 * math.pi)) \n",
    "    \n",
    "    def normal_func(self, x):\n",
    "        return (1 / (self.sigma * self.root2pi)) * math.exp((-1 * pow((x - self.u), 2)) / (2 * pow(self.sigma, 2)))\n",
    "\n",
    "    def integrate(self, lower_limit, upper_limit):\n",
    "        result, error = quad(self.normal_func, lower_limit, upper_limit)\n",
    "        \n",
    "        return result"
   ]
  },
  {
   "cell_type": "code",
   "execution_count": 2,
   "id": "e902b492-df5c-4101-b80a-c8343385c506",
   "metadata": {},
   "outputs": [
    {
     "name": "stdout",
     "output_type": "stream",
     "text": [
      "a) 0.9331927977445545\n"
     ]
    }
   ],
   "source": [
    "z = normal(0, 1)\n",
    "transform = (105 - 120) / 10\n",
    "a = z.integrate(transform, 6)\n",
    "print(\"a) \" + str(a))"
   ]
  },
  {
   "cell_type": "code",
   "execution_count": 3,
   "id": "3734546c-9fb3-48f9-ba4a-f60c182e746f",
   "metadata": {},
   "outputs": [
    {
     "name": "stdout",
     "output_type": "stream",
     "text": [
      "b) 0.3829249225480263\n"
     ]
    }
   ],
   "source": [
    "transform_a = (115 - 120) / 10\n",
    "transform_b = (125 - 120) / 10\n",
    "b = z.integrate(transform_a, transform_b)\n",
    "print(\"b) \" + str(b))"
   ]
  },
  {
   "cell_type": "code",
   "execution_count": 4,
   "id": "7e92e2d7-b722-4b50-8396-7a8cc5e0a8a9",
   "metadata": {},
   "outputs": [
    {
     "name": "stdout",
     "output_type": "stream",
     "text": [
      "L = 106.61000000001764\n"
     ]
    }
   ],
   "source": [
    "dist = normal(120, 10)\n",
    "x = 0\n",
    "fx = 0\n",
    "area = 0.09\n",
    "while fx < area:\n",
    "    fx = dist.integrate(-6, x)\n",
    "    x = x + 0.01\n",
    "print(\"L = \" + str(x))"
   ]
  },
  {
   "cell_type": "code",
   "execution_count": 5,
   "id": "45bfe56d-2a14-42df-b6ca-78109db47115",
   "metadata": {},
   "outputs": [
    {
     "name": "stdout",
     "output_type": "stream",
     "text": [
      "P(X > 126) = 137.0\n"
     ]
    }
   ],
   "source": [
    "transform = (126 - 120) / 10\n",
    "prob = z.integrate(transform, 6)\n",
    "est = prob * 500\n",
    "est = round(est, 0)\n",
    "print(\"P(X > 126) = \" + str(est))"
   ]
  }
 ],
 "metadata": {
  "kernelspec": {
   "display_name": "Python 3 (ipykernel)",
   "language": "python",
   "name": "python3"
  },
  "language_info": {
   "codemirror_mode": {
    "name": "ipython",
    "version": 3
   },
   "file_extension": ".py",
   "mimetype": "text/x-python",
   "name": "python",
   "nbconvert_exporter": "python",
   "pygments_lexer": "ipython3",
   "version": "3.12.1"
  }
 },
 "nbformat": 4,
 "nbformat_minor": 5
}

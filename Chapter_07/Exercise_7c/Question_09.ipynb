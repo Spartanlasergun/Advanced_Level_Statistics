{
 "cells": [
  {
   "cell_type": "markdown",
   "id": "510ab07e-f9d8-4f5c-9921-c5627619ef49",
   "metadata": {},
   "source": [
    "# Question 9\n",
    "-----"
   ]
  },
  {
   "cell_type": "code",
   "execution_count": 1,
   "id": "5a009a04-44d5-4a71-95da-8576a232249c",
   "metadata": {},
   "outputs": [],
   "source": [
    "from scipy.integrate import quad\n",
    "import math\n",
    "\n",
    "class normal:\n",
    "    def __init__(self, u, sigma):\n",
    "        self.u = u\n",
    "        self.sigma = sigma\n",
    "        self.root2pi = math.sqrt((2 * math.pi)) \n",
    "    \n",
    "    def normal_func(self, x):\n",
    "        return (1 / (self.sigma * self.root2pi)) * math.exp((-1 * pow((x - self.u), 2)) / (2 * pow(self.sigma, 2)))\n",
    "\n",
    "    def integrate(self, lower_limit, upper_limit):\n",
    "        result, error = quad(self.normal_func, lower_limit, upper_limit)\n",
    "        \n",
    "        return result"
   ]
  },
  {
   "cell_type": "code",
   "execution_count": 2,
   "id": "4392e115-7f39-4789-b9d3-fe06de5403bc",
   "metadata": {},
   "outputs": [
    {
     "name": "stdout",
     "output_type": "stream",
     "text": [
      "386.85999999979305 < X < 413.14000000020695\n"
     ]
    }
   ],
   "source": [
    "dist = normal(400, 8)\n",
    "x = -6\n",
    "fx = 0\n",
    "area = 0.05\n",
    "while fx < area:\n",
    "    fx = dist.integrate(-6, x)\n",
    "    x = x + 0.01\n",
    "lower = x\n",
    "upper = (400 - x) + 400\n",
    "print(str(lower) + \" < X < \" + str(upper))"
   ]
  },
  {
   "cell_type": "code",
   "execution_count": 3,
   "id": "694eb9fb-8cf1-4db2-94f6-ab57d8277089",
   "metadata": {},
   "outputs": [
    {
     "name": "stdout",
     "output_type": "stream",
     "text": [
      "394.619999999786 < X < 405.380000000214\n",
      "interquartile range = 10.760000000428022\n"
     ]
    }
   ],
   "source": [
    "x = -6\n",
    "fx = 0\n",
    "area = 0.25\n",
    "while fx < area:\n",
    "    fx = dist.integrate(-6, x)\n",
    "    x = x + 0.01\n",
    "lower = x\n",
    "upper = (400 - x) + 400\n",
    "intqrange = upper - lower\n",
    "print(str(lower) + \" < X < \" + str(upper))\n",
    "print(\"interquartile range = \" + str(intqrange))"
   ]
  }
 ],
 "metadata": {
  "kernelspec": {
   "display_name": "Python 3 (ipykernel)",
   "language": "python",
   "name": "python3"
  },
  "language_info": {
   "codemirror_mode": {
    "name": "ipython",
    "version": 3
   },
   "file_extension": ".py",
   "mimetype": "text/x-python",
   "name": "python",
   "nbconvert_exporter": "python",
   "pygments_lexer": "ipython3",
   "version": "3.12.1"
  }
 },
 "nbformat": 4,
 "nbformat_minor": 5
}

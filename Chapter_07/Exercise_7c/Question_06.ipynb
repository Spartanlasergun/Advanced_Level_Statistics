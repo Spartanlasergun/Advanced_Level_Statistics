{
 "cells": [
  {
   "cell_type": "markdown",
   "id": "d868121a-d953-46a1-af93-79b48dcd299a",
   "metadata": {},
   "source": [
    "# Question 6\n",
    "-----"
   ]
  },
  {
   "cell_type": "code",
   "execution_count": 1,
   "id": "056f4e51-b450-461c-aca7-0a7851ec8052",
   "metadata": {},
   "outputs": [],
   "source": [
    "from scipy.integrate import quad\n",
    "import math\n",
    "\n",
    "class normal:\n",
    "    def __init__(self, u, sigma):\n",
    "        self.u = u\n",
    "        self.sigma = sigma\n",
    "        self.root2pi = math.sqrt((2 * math.pi)) \n",
    "    \n",
    "    def normal_func(self, x):\n",
    "        return (1 / (self.sigma * self.root2pi)) * math.exp((-1 * pow((x - self.u), 2)) / (2 * pow(self.sigma, 2)))\n",
    "\n",
    "    def integrate(self, lower_limit, upper_limit):\n",
    "        result, error = quad(self.normal_func, lower_limit, upper_limit)\n",
    "        \n",
    "        return result"
   ]
  },
  {
   "cell_type": "code",
   "execution_count": 2,
   "id": "6645ba05-9e9f-4b30-b7da-c19c29c6fb40",
   "metadata": {},
   "outputs": [
    {
     "name": "stdout",
     "output_type": "stream",
     "text": [
      "458.9399999997275 < X < 546.539999999648\n"
     ]
    }
   ],
   "source": [
    "bags = normal(500, 20)\n",
    "x = -6\n",
    "fx = 0\n",
    "area = 0.02\n",
    "while fx < area:\n",
    "    fx = bags.integrate(-10, x)\n",
    "    x = x + 0.01\n",
    "lower_boundary = x\n",
    "\n",
    "x = 0\n",
    "fx = 0\n",
    "area = 0.99\n",
    "while fx < area:\n",
    "    fx = bags.integrate(-6, x)\n",
    "    x = x + 0.01\n",
    "upper_boundary = x\n",
    "\n",
    "print(str(lower_boundary) + \" < X < \" + str(upper_boundary))"
   ]
  }
 ],
 "metadata": {
  "kernelspec": {
   "display_name": "Python 3 (ipykernel)",
   "language": "python",
   "name": "python3"
  },
  "language_info": {
   "codemirror_mode": {
    "name": "ipython",
    "version": 3
   },
   "file_extension": ".py",
   "mimetype": "text/x-python",
   "name": "python",
   "nbconvert_exporter": "python",
   "pygments_lexer": "ipython3",
   "version": "3.12.1"
  }
 },
 "nbformat": 4,
 "nbformat_minor": 5
}

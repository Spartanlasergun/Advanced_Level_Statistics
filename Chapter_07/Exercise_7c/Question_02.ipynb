{
 "cells": [
  {
   "cell_type": "markdown",
   "id": "2123d5f8-e032-499d-ac44-09bde6099d26",
   "metadata": {},
   "source": [
    "# Question 2\n",
    "-----"
   ]
  },
  {
   "cell_type": "code",
   "execution_count": 1,
   "id": "80e56015-cff2-4ead-b861-30b62bccc532",
   "metadata": {},
   "outputs": [],
   "source": [
    "from scipy.integrate import quad\n",
    "import math\n",
    "\n",
    "class normal:\n",
    "    def __init__(self, u, sigma):\n",
    "        self.u = u\n",
    "        self.sigma = sigma\n",
    "        self.root2pi = math.sqrt((2 * math.pi)) \n",
    "    \n",
    "    def normal_func(self, x):\n",
    "        return (1 / (self.sigma * self.root2pi)) * math.exp((-1 * pow((x - self.u), 2)) / (2 * pow(self.sigma, 2)))\n",
    "\n",
    "    def integrate(self, lower_limit, upper_limit):\n",
    "        result, error = quad(self.normal_func, lower_limit, upper_limit)\n",
    "        \n",
    "        return result"
   ]
  },
  {
   "cell_type": "code",
   "execution_count": 2,
   "id": "1c32a6ab-a2c3-45ae-a078-eb711c1f726c",
   "metadata": {},
   "outputs": [
    {
     "name": "stdout",
     "output_type": "stream",
     "text": [
      "a) 1.9399999999991582\n"
     ]
    }
   ],
   "source": [
    "z = normal(0, 1)\n",
    "x = -6\n",
    "fx = 0\n",
    "while fx < 0.9738:\n",
    "    fx = z.integrate(-6, x)\n",
    "    x = x + 0.0001\n",
    "print(\"a) \" + str(x))"
   ]
  },
  {
   "cell_type": "code",
   "execution_count": 3,
   "id": "bfb21381-c0a3-4520-8d44-c9601273983b",
   "metadata": {},
   "outputs": [
    {
     "name": "stdout",
     "output_type": "stream",
     "text": [
      "b) -0.6949000000005843\n"
     ]
    }
   ],
   "source": [
    "x = -6\n",
    "fx = 0\n",
    "while fx < 0.2435:\n",
    "    fx = z.integrate(-6, x)\n",
    "    x = x + 0.0001\n",
    "print(\"b) \" + str(x))"
   ]
  },
  {
   "cell_type": "code",
   "execution_count": 4,
   "id": "c1cca0e2-f2a5-4f79-988c-415b99cfb200",
   "metadata": {},
   "outputs": [
    {
     "name": "stdout",
     "output_type": "stream",
     "text": [
      "c) -0.91520000000056\n"
     ]
    }
   ],
   "source": [
    "x = -6\n",
    "fx = 0\n",
    "while fx < 0.18:\n",
    "    fx = z.integrate(-6, x)\n",
    "    x = x + 0.0001\n",
    "print(\"c) \" + str(x))"
   ]
  },
  {
   "cell_type": "code",
   "execution_count": 5,
   "id": "48b56252-9f1e-4eb3-adb1-532f6332b921",
   "metadata": {},
   "outputs": [
    {
     "name": "stdout",
     "output_type": "stream",
     "text": [
      "d) 0.7222999999992923\n"
     ]
    }
   ],
   "source": [
    "x = -6\n",
    "fx = 0\n",
    "boundary = 1 - 0.2351\n",
    "while fx < boundary:\n",
    "    fx = z.integrate(-6, x)\n",
    "    x = x + 0.0001\n",
    "print(\"d) \" + str(x))"
   ]
  }
 ],
 "metadata": {
  "kernelspec": {
   "display_name": "Python 3 (ipykernel)",
   "language": "python",
   "name": "python3"
  },
  "language_info": {
   "codemirror_mode": {
    "name": "ipython",
    "version": 3
   },
   "file_extension": ".py",
   "mimetype": "text/x-python",
   "name": "python",
   "nbconvert_exporter": "python",
   "pygments_lexer": "ipython3",
   "version": "3.12.1"
  }
 },
 "nbformat": 4,
 "nbformat_minor": 5
}

{
 "cells": [
  {
   "cell_type": "markdown",
   "id": "c394db78-9637-4d6e-aee7-7a957719c521",
   "metadata": {},
   "source": [
    "# Question 12\n",
    "-----"
   ]
  },
  {
   "cell_type": "code",
   "execution_count": 1,
   "id": "e601bbfc-91d4-4984-a73d-c31a61550d45",
   "metadata": {},
   "outputs": [],
   "source": [
    "from scipy.integrate import quad\n",
    "import math\n",
    "\n",
    "class normal:\n",
    "    def __init__(self, u, sigma):\n",
    "        self.u = u\n",
    "        self.sigma = sigma\n",
    "        self.root2pi = math.sqrt((2 * math.pi)) \n",
    "    \n",
    "    def normal_func(self, x):\n",
    "        return (1 / (self.sigma * self.root2pi)) * math.exp((-1 * pow((x - self.u), 2)) / (2 * pow(self.sigma, 2)))\n",
    "\n",
    "    def integrate(self, lower_limit, upper_limit):\n",
    "        result, error = quad(self.normal_func, lower_limit, upper_limit)\n",
    "        \n",
    "        return result"
   ]
  },
  {
   "cell_type": "code",
   "execution_count": 2,
   "id": "9c82beae-9c3b-4126-8217-ddcfce8962db",
   "metadata": {},
   "outputs": [
    {
     "name": "stdout",
     "output_type": "stream",
     "text": [
      "a) 37.80661222713135%\n"
     ]
    }
   ],
   "source": [
    "z = normal(0, 1)\n",
    "transform_a = (150 - 160) / 30\n",
    "transform_b = (180 - 160) / 30\n",
    "a = z.integrate(transform_a, transform_b)\n",
    "percent = a * 100\n",
    "print(\"a) \" + str(percent) + \"%\")"
   ]
  },
  {
   "cell_type": "code",
   "execution_count": 3,
   "id": "7c8bc963-83af-4b9a-85b9-21d6f0c7d67f",
   "metadata": {},
   "outputs": [
    {
     "name": "stdout",
     "output_type": "stream",
     "text": [
      "lower = 125.5000000000273\n",
      "upper = 194.52999999996806\n",
      "c) interquartile range = 69.02999999994076\n"
     ]
    }
   ],
   "source": [
    "dist = normal(160, 30)\n",
    "x = 0\n",
    "fx = 0\n",
    "area = 0.5 - (0.75/2)\n",
    "while fx < area:\n",
    "    fx = dist.integrate(0, x)\n",
    "    x = x + 0.01\n",
    "lower = x\n",
    "\n",
    "x = 0\n",
    "fx = 0\n",
    "area = 0.5 + (0.75/2)\n",
    "while fx < area:\n",
    "    fx = dist.integrate(0, x)\n",
    "    x = x + 0.01\n",
    "upper = x\n",
    "\n",
    "intqrange = upper - lower\n",
    "print(\"lower = \" + str(lower))\n",
    "print(\"upper = \" + str(upper))\n",
    "print(\"c) interquartile range = \" + str(intqrange))"
   ]
  },
  {
   "cell_type": "code",
   "execution_count": 4,
   "id": "8f5299d5-4416-4189-aa07-428ad9895786",
   "metadata": {},
   "outputs": [
    {
     "name": "stdout",
     "output_type": "stream",
     "text": [
      "prob = 0.40485225343667497\n"
     ]
    }
   ],
   "source": [
    "P135 = dist.integrate(135, 500)\n",
    "prob = P135**4\n",
    "print(\"prob = \" + str(prob))"
   ]
  }
 ],
 "metadata": {
  "kernelspec": {
   "display_name": "Python 3 (ipykernel)",
   "language": "python",
   "name": "python3"
  },
  "language_info": {
   "codemirror_mode": {
    "name": "ipython",
    "version": 3
   },
   "file_extension": ".py",
   "mimetype": "text/x-python",
   "name": "python",
   "nbconvert_exporter": "python",
   "pygments_lexer": "ipython3",
   "version": "3.12.1"
  }
 },
 "nbformat": 4,
 "nbformat_minor": 5
}

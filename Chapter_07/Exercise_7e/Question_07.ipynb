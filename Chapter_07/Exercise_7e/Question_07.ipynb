{
 "cells": [
  {
   "cell_type": "markdown",
   "id": "180fd7af-c659-49d2-9286-40359a7f13d9",
   "metadata": {},
   "source": [
    "# Question 7\n",
    "-----"
   ]
  },
  {
   "cell_type": "markdown",
   "id": "a159f212-c3a9-4c8c-a992-97636cd7cc72",
   "metadata": {},
   "source": [
    "$$P(45 < X < 67) \\to P(45.6 < X < 66.5)$$"
   ]
  }
 ],
 "metadata": {
  "kernelspec": {
   "display_name": "Python 3 (ipykernel)",
   "language": "python",
   "name": "python3"
  },
  "language_info": {
   "codemirror_mode": {
    "name": "ipython",
    "version": 3
   },
   "file_extension": ".py",
   "mimetype": "text/x-python",
   "name": "python",
   "nbconvert_exporter": "python",
   "pygments_lexer": "ipython3",
   "version": "3.12.1"
  }
 },
 "nbformat": 4,
 "nbformat_minor": 5
}

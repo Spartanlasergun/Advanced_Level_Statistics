{
 "cells": [
  {
   "cell_type": "markdown",
   "id": "0c8b9f7e-15d6-4869-ba58-0f9ec52574b0",
   "metadata": {},
   "source": [
    "# Question 19\n",
    "-----"
   ]
  },
  {
   "cell_type": "markdown",
   "id": "1486f26e-2080-4097-b431-68801b9775c2",
   "metadata": {},
   "source": [
    "$$P(27 \\le X < 29) \\to P(26.5 < X < 28.5)$$"
   ]
  }
 ],
 "metadata": {
  "kernelspec": {
   "display_name": "Python 3 (ipykernel)",
   "language": "python",
   "name": "python3"
  },
  "language_info": {
   "codemirror_mode": {
    "name": "ipython",
    "version": 3
   },
   "file_extension": ".py",
   "mimetype": "text/x-python",
   "name": "python",
   "nbconvert_exporter": "python",
   "pygments_lexer": "ipython3",
   "version": "3.12.1"
  }
 },
 "nbformat": 4,
 "nbformat_minor": 5
}

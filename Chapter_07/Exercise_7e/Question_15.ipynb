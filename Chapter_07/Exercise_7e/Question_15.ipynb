{
 "cells": [
  {
   "cell_type": "markdown",
   "id": "8937367d-bdc1-47c6-add6-48a5431a359f",
   "metadata": {},
   "source": [
    "# Question 15\n",
    "-----"
   ]
  },
  {
   "cell_type": "markdown",
   "id": "e2d35841-53de-4a4e-83d3-6225d745899b",
   "metadata": {},
   "source": [
    "$$P(34 \\le X < 43) \\to P(33.5 < X < 42.5)$$"
   ]
  }
 ],
 "metadata": {
  "kernelspec": {
   "display_name": "Python 3 (ipykernel)",
   "language": "python",
   "name": "python3"
  },
  "language_info": {
   "codemirror_mode": {
    "name": "ipython",
    "version": 3
   },
   "file_extension": ".py",
   "mimetype": "text/x-python",
   "name": "python",
   "nbconvert_exporter": "python",
   "pygments_lexer": "ipython3",
   "version": "3.12.1"
  }
 },
 "nbformat": 4,
 "nbformat_minor": 5
}

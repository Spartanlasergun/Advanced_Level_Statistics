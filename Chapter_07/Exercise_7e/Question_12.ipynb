{
 "cells": [
  {
   "cell_type": "markdown",
   "id": "36f6ee2d-da27-48bc-9ad3-35099c950c7c",
   "metadata": {},
   "source": [
    "# Question 12\n",
    "-----"
   ]
  },
  {
   "cell_type": "markdown",
   "id": "dac567db-de05-4708-8d26-f2794c4d1f5b",
   "metadata": {},
   "source": [
    "$$P(X = 67) \\to P(66.5 < X < 67.5)$$"
   ]
  }
 ],
 "metadata": {
  "kernelspec": {
   "display_name": "Python 3 (ipykernel)",
   "language": "python",
   "name": "python3"
  },
  "language_info": {
   "codemirror_mode": {
    "name": "ipython",
    "version": 3
   },
   "file_extension": ".py",
   "mimetype": "text/x-python",
   "name": "python",
   "nbconvert_exporter": "python",
   "pygments_lexer": "ipython3",
   "version": "3.12.1"
  }
 },
 "nbformat": 4,
 "nbformat_minor": 5
}

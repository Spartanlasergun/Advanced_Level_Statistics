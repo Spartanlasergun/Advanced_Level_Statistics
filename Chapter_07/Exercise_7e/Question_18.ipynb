{
 "cells": [
  {
   "cell_type": "markdown",
   "id": "17e75a49-def3-42e9-822f-e9aacb656064",
   "metadata": {},
   "source": [
    "# Question 18\n",
    "-----"
   ]
  },
  {
   "cell_type": "markdown",
   "id": "2be1c57e-9192-4ba6-9d81-eac6cd4e62b5",
   "metadata": {},
   "source": [
    "$$P(X < 7) \\to P(X < 6.5)$$"
   ]
  }
 ],
 "metadata": {
  "kernelspec": {
   "display_name": "Python 3 (ipykernel)",
   "language": "python",
   "name": "python3"
  },
  "language_info": {
   "codemirror_mode": {
    "name": "ipython",
    "version": 3
   },
   "file_extension": ".py",
   "mimetype": "text/x-python",
   "name": "python",
   "nbconvert_exporter": "python",
   "pygments_lexer": "ipython3",
   "version": "3.12.1"
  }
 },
 "nbformat": 4,
 "nbformat_minor": 5
}

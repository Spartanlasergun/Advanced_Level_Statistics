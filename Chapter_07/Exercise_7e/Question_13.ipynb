{
 "cells": [
  {
   "cell_type": "markdown",
   "id": "cbf89aa7-b246-4ce2-a3ce-c8c6a1504bf8",
   "metadata": {},
   "source": [
    "# Question 13\n",
    "-----"
   ]
  },
  {
   "cell_type": "markdown",
   "id": "6ed04e66-4c50-4003-9f48-03bacd980a2c",
   "metadata": {},
   "source": [
    "$$P(X > 59) \\to P(X > 59.5)$$"
   ]
  }
 ],
 "metadata": {
  "kernelspec": {
   "display_name": "Python 3 (ipykernel)",
   "language": "python",
   "name": "python3"
  },
  "language_info": {
   "codemirror_mode": {
    "name": "ipython",
    "version": 3
   },
   "file_extension": ".py",
   "mimetype": "text/x-python",
   "name": "python",
   "nbconvert_exporter": "python",
   "pygments_lexer": "ipython3",
   "version": "3.12.1"
  }
 },
 "nbformat": 4,
 "nbformat_minor": 5
}

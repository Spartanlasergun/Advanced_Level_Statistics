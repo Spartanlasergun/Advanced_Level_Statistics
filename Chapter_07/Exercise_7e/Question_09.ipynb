{
 "cells": [
  {
   "cell_type": "markdown",
   "id": "fa234489-661f-401b-ade2-104eac513fdc",
   "metadata": {},
   "source": [
    "# Question 9\n",
    "-----"
   ]
  },
  {
   "cell_type": "markdown",
   "id": "901f5b91-653a-4406-bdec-fd97c3f6858c",
   "metadata": {},
   "source": [
    "$$P(X \\le 45) \\to P(X < 45.5)$$"
   ]
  }
 ],
 "metadata": {
  "kernelspec": {
   "display_name": "Python 3 (ipykernel)",
   "language": "python",
   "name": "python3"
  },
  "language_info": {
   "codemirror_mode": {
    "name": "ipython",
    "version": 3
   },
   "file_extension": ".py",
   "mimetype": "text/x-python",
   "name": "python",
   "nbconvert_exporter": "python",
   "pygments_lexer": "ipython3",
   "version": "3.12.1"
  }
 },
 "nbformat": 4,
 "nbformat_minor": 5
}

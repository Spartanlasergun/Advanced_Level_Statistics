{
 "cells": [
  {
   "cell_type": "markdown",
   "id": "8fedee11-714f-498b-a66c-0cb80d5643dc",
   "metadata": {},
   "source": [
    "# Question 20\n",
    "-----"
   ]
  },
  {
   "cell_type": "markdown",
   "id": "4ec7d872-ad83-439b-83cd-064ac0b6ed08",
   "metadata": {},
   "source": [
    "$$P(X = 53) \\to P(52.5 < X < 53.5)$$"
   ]
  }
 ],
 "metadata": {
  "kernelspec": {
   "display_name": "Python 3 (ipykernel)",
   "language": "python",
   "name": "python3"
  },
  "language_info": {
   "codemirror_mode": {
    "name": "ipython",
    "version": 3
   },
   "file_extension": ".py",
   "mimetype": "text/x-python",
   "name": "python",
   "nbconvert_exporter": "python",
   "pygments_lexer": "ipython3",
   "version": "3.12.1"
  }
 },
 "nbformat": 4,
 "nbformat_minor": 5
}

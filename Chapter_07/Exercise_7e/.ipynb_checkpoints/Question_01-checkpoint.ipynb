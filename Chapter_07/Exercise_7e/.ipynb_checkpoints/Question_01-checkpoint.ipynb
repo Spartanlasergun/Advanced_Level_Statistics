{
 "cells": [
  {
   "cell_type": "markdown",
   "id": "c66294ef-13b1-4a76-a54b-ef3b3428dde2",
   "metadata": {},
   "source": [
    "# Question 1\n",
    "-----"
   ]
  },
  {
   "cell_type": "markdown",
   "id": "1842e1bf-b592-4c20-b78e-7d0832a24754",
   "metadata": {},
   "source": [
    "$$P(3 \\le X \\le 9) \\to P(2.5 < X < 9.5)$$"
   ]
  }
 ],
 "metadata": {
  "kernelspec": {
   "display_name": "Python 3 (ipykernel)",
   "language": "python",
   "name": "python3"
  },
  "language_info": {
   "codemirror_mode": {
    "name": "ipython",
    "version": 3
   },
   "file_extension": ".py",
   "mimetype": "text/x-python",
   "name": "python",
   "nbconvert_exporter": "python",
   "pygments_lexer": "ipython3",
   "version": "3.12.1"
  }
 },
 "nbformat": 4,
 "nbformat_minor": 5
}

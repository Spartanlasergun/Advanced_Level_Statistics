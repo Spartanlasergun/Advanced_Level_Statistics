{
 "cells": [
  {
   "cell_type": "markdown",
   "id": "bb1f95c1-4379-420d-b6db-5d7cf0795628",
   "metadata": {},
   "source": [
    "# Question 11\n",
    "-----"
   ]
  },
  {
   "cell_type": "markdown",
   "id": "8a2db427-6bad-42ad-a195-e7af8579b70e",
   "metadata": {},
   "source": [
    "$$P(400 < X \\le 560) \\to P(400.5 < X < 560.5)$$"
   ]
  }
 ],
 "metadata": {
  "kernelspec": {
   "display_name": "Python 3 (ipykernel)",
   "language": "python",
   "name": "python3"
  },
  "language_info": {
   "codemirror_mode": {
    "name": "ipython",
    "version": 3
   },
   "file_extension": ".py",
   "mimetype": "text/x-python",
   "name": "python",
   "nbconvert_exporter": "python",
   "pygments_lexer": "ipython3",
   "version": "3.12.1"
  }
 },
 "nbformat": 4,
 "nbformat_minor": 5
}

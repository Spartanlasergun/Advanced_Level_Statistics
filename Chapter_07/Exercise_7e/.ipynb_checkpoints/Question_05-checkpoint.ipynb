{
 "cells": [
  {
   "cell_type": "markdown",
   "id": "2593d9b9-cd43-4802-bc93-151b4fc773ac",
   "metadata": {},
   "source": [
    "# Question 5\n",
    "-----"
   ]
  },
  {
   "cell_type": "markdown",
   "id": "ef1c6568-83c5-4cbe-9c5a-0a9f18bcac2c",
   "metadata": {},
   "source": [
    "$$P(X > 54) \\to P(X > 54.5)$$"
   ]
  }
 ],
 "metadata": {
  "kernelspec": {
   "display_name": "Python 3 (ipykernel)",
   "language": "python",
   "name": "python3"
  },
  "language_info": {
   "codemirror_mode": {
    "name": "ipython",
    "version": 3
   },
   "file_extension": ".py",
   "mimetype": "text/x-python",
   "name": "python",
   "nbconvert_exporter": "python",
   "pygments_lexer": "ipython3",
   "version": "3.12.1"
  }
 },
 "nbformat": 4,
 "nbformat_minor": 5
}

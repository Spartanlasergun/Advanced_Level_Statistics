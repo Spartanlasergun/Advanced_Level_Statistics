{
 "cells": [
  {
   "cell_type": "markdown",
   "id": "e36a158c-7eaa-4ab9-939d-5ddb9b023043",
   "metadata": {},
   "source": [
    "# Question 17\n",
    "-----"
   ]
  },
  {
   "cell_type": "markdown",
   "id": "e78ae1c9-3571-4bb5-9959-0ec3d86ee953",
   "metadata": {},
   "source": [
    "$$P(X \\ge 509) \\to P(X > 508.5)$$"
   ]
  }
 ],
 "metadata": {
  "kernelspec": {
   "display_name": "Python 3 (ipykernel)",
   "language": "python",
   "name": "python3"
  },
  "language_info": {
   "codemirror_mode": {
    "name": "ipython",
    "version": 3
   },
   "file_extension": ".py",
   "mimetype": "text/x-python",
   "name": "python",
   "nbconvert_exporter": "python",
   "pygments_lexer": "ipython3",
   "version": "3.12.1"
  }
 },
 "nbformat": 4,
 "nbformat_minor": 5
}

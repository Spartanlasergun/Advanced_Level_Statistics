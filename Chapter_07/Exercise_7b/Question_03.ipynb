{
 "cells": [
  {
   "cell_type": "markdown",
   "id": "592e18ef-8f74-400f-b140-c7bbc919a3bc",
   "metadata": {},
   "source": [
    "# Question 3\n",
    "-----"
   ]
  },
  {
   "cell_type": "code",
   "execution_count": 1,
   "id": "64239489-1aab-4557-a0c1-c2dd57172418",
   "metadata": {},
   "outputs": [],
   "source": [
    "from scipy.integrate import quad\n",
    "import math\n",
    "\n",
    "class normal:\n",
    "    def __init__(self, u, sigma):\n",
    "        self.u = u\n",
    "        self.sigma = sigma\n",
    "        self.root2pi = math.sqrt((2 * math.pi)) \n",
    "    \n",
    "    def normal_func(self, x):\n",
    "        return (1 / (self.sigma * self.root2pi)) * math.exp((-1 * pow((x - self.u), 2)) / (2 * pow(self.sigma, 2)))\n",
    "\n",
    "    def integrate(self, lower_limit, upper_limit):\n",
    "        result, error = quad(self.normal_func, lower_limit, upper_limit)\n",
    "        \n",
    "        return result"
   ]
  },
  {
   "cell_type": "code",
   "execution_count": 2,
   "id": "1437a074-2f37-42d7-bc94-e0e9bf8335fc",
   "metadata": {},
   "outputs": [
    {
     "name": "stdout",
     "output_type": "stream",
     "text": [
      "a) 0.054799290712970405\n"
     ]
    }
   ],
   "source": [
    "z = normal(0, 1)\n",
    "transform = (308 - 300) / 5\n",
    "a = z.integrate(transform, 6)\n",
    "print(\"a) \" + str(a))"
   ]
  },
  {
   "cell_type": "code",
   "execution_count": 3,
   "id": "22b214c7-c773-4561-9b92-2a38bd7a2f9d",
   "metadata": {},
   "outputs": [
    {
     "name": "stdout",
     "output_type": "stream",
     "text": [
      "b) 0.14475180641795846\n"
     ]
    }
   ],
   "source": [
    "transform_a = (289 - 300) / 5\n",
    "transform_b = (295 - 300) / 5\n",
    "b = z.integrate(transform_a, transform_b)\n",
    "print(\"b) \" + str(b))"
   ]
  },
  {
   "cell_type": "code",
   "execution_count": 4,
   "id": "3bd5d7b2-c742-4d6e-83b8-6d1c8d164979",
   "metadata": {},
   "outputs": [
    {
     "name": "stdout",
     "output_type": "stream",
     "text": [
      "c) 0.9544997361036417\n"
     ]
    }
   ],
   "source": [
    "transform_a = (290 - 300) / 5\n",
    "transform_b = (310 - 300) / 5\n",
    "c = z.integrate(transform_a, transform_b)\n",
    "print(\"c) \" + str(c))"
   ]
  }
 ],
 "metadata": {
  "kernelspec": {
   "display_name": "Python 3 (ipykernel)",
   "language": "python",
   "name": "python3"
  },
  "language_info": {
   "codemirror_mode": {
    "name": "ipython",
    "version": 3
   },
   "file_extension": ".py",
   "mimetype": "text/x-python",
   "name": "python",
   "nbconvert_exporter": "python",
   "pygments_lexer": "ipython3",
   "version": "3.12.1"
  }
 },
 "nbformat": 4,
 "nbformat_minor": 5
}

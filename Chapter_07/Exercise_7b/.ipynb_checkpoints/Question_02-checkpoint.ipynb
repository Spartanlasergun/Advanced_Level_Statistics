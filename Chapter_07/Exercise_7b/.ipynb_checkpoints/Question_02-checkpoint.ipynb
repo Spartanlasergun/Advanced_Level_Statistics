{
 "cells": [
  {
   "cell_type": "markdown",
   "id": "a98aec45-6188-4c74-ba73-bd40b238265c",
   "metadata": {},
   "source": [
    "# Question 2\n",
    "-----"
   ]
  },
  {
   "cell_type": "code",
   "execution_count": 1,
   "id": "07acd967-5f84-434a-b257-8df91d429017",
   "metadata": {},
   "outputs": [],
   "source": [
    "from scipy.integrate import quad\n",
    "import math\n",
    "\n",
    "class normal:\n",
    "    def __init__(self, u, sigma):\n",
    "        self.u = u\n",
    "        self.sigma = sigma\n",
    "        self.root2pi = math.sqrt((2 * math.pi)) \n",
    "    \n",
    "    def normal_func(self, x):\n",
    "        return (1 / (self.sigma * self.root2pi)) * math.exp((-1 * pow((x - self.u), 2)) / (2 * pow(self.sigma, 2)))\n",
    "\n",
    "    def integrate(self, lower_limit, upper_limit):\n",
    "        result, error = quad(self.normal_func, lower_limit, upper_limit)\n",
    "        \n",
    "        return result"
   ]
  },
  {
   "cell_type": "code",
   "execution_count": 2,
   "id": "12fd4377-ed95-4b73-9cad-dde2ed280891",
   "metadata": {},
   "outputs": [
    {
     "name": "stdout",
     "output_type": "stream",
     "text": [
      "a) 0.7054014827977136\n"
     ]
    }
   ],
   "source": [
    "sigma = math.sqrt(25)\n",
    "z = normal(0, 1)\n",
    "transform = (153 - 150.3) / sigma\n",
    "a = z.integrate(-6, transform)\n",
    "print(\"a) \" + str(a))"
   ]
  },
  {
   "cell_type": "code",
   "execution_count": 3,
   "id": "1b89ba33-0dc5-4d3c-8c8b-6e815aae588c",
   "metadata": {},
   "outputs": [
    {
     "name": "stdout",
     "output_type": "stream",
     "text": [
      "b) 0.06178017572522458\n"
     ]
    }
   ],
   "source": [
    "transform = (158 - 150.3) / sigma\n",
    "b = z.integrate(transform, 6)\n",
    "print(\"b) \" + str(b))"
   ]
  },
  {
   "cell_type": "code",
   "execution_count": 4,
   "id": "a2fb64dc-f539-4882-a17d-7dda5d7fc043",
   "metadata": {},
   "outputs": [
    {
     "name": "stdout",
     "output_type": "stream",
     "text": [
      "c) 0.4621420059422956\n"
     ]
    }
   ],
   "source": [
    "transform_a = (150 - 150.3) / sigma\n",
    "transform_b = (158 - 150.3) / sigma\n",
    "c = z.integrate(transform_a, transform_b)\n",
    "print(\"c) \" + str(c))"
   ]
  },
  {
   "cell_type": "code",
   "execution_count": 5,
   "id": "0e391def-db1c-4a0b-9a10-098f93676905",
   "metadata": {},
   "outputs": [
    {
     "name": "stdout",
     "output_type": "stream",
     "text": [
      "d) 0.045500263896358306\n"
     ]
    }
   ],
   "source": [
    "transform_a = (140.3 - 150.3) / sigma\n",
    "transform_b = (160.3 - 150.3) / sigma\n",
    "d = 1 - (z.integrate(transform_a, transform_b))\n",
    "print(\"d) \" + str(d))"
   ]
  }
 ],
 "metadata": {
  "kernelspec": {
   "display_name": "Python 3 (ipykernel)",
   "language": "python",
   "name": "python3"
  },
  "language_info": {
   "codemirror_mode": {
    "name": "ipython",
    "version": 3
   },
   "file_extension": ".py",
   "mimetype": "text/x-python",
   "name": "python",
   "nbconvert_exporter": "python",
   "pygments_lexer": "ipython3",
   "version": "3.12.1"
  }
 },
 "nbformat": 4,
 "nbformat_minor": 5
}

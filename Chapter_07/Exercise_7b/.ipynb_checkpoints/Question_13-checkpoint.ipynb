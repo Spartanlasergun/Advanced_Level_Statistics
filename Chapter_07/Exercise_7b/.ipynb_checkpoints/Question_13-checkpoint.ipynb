{
 "cells": [
  {
   "cell_type": "markdown",
   "id": "af1a36e6-a036-4cb5-8835-c8354958260b",
   "metadata": {},
   "source": [
    "# Question 13\n",
    "-----"
   ]
  },
  {
   "cell_type": "code",
   "execution_count": 1,
   "id": "71bccc57-3d2a-489b-82af-6ef7d4fa5d19",
   "metadata": {},
   "outputs": [],
   "source": [
    "from scipy.integrate import quad\n",
    "import math\n",
    "\n",
    "class normal:\n",
    "    def __init__(self, u, sigma):\n",
    "        self.u = u\n",
    "        self.sigma = sigma\n",
    "        self.root2pi = math.sqrt((2 * math.pi)) \n",
    "    \n",
    "    def normal_func(self, x):\n",
    "        return (1 / (self.sigma * self.root2pi)) * math.exp((-1 * pow((x - self.u), 2)) / (2 * pow(self.sigma, 2)))\n",
    "\n",
    "    def integrate(self, lower_limit, upper_limit):\n",
    "        result, error = quad(self.normal_func, lower_limit, upper_limit)\n",
    "        \n",
    "        return result"
   ]
  },
  {
   "cell_type": "code",
   "execution_count": 2,
   "id": "fce003a8-f93b-4b99-8af8-6e23f697ca4a",
   "metadata": {},
   "outputs": [
    {
     "name": "stdout",
     "output_type": "stream",
     "text": [
      "P(|Y - 8| < 6.2) = 0.7850246058508261\n"
     ]
    }
   ],
   "source": [
    "z = normal(0, 1)\n",
    "transform_a = (1.8 - 8) / 5\n",
    "transform_b = (14.2 - 8) / 5\n",
    "prob = z.integrate(transform_a, transform_b)\n",
    "print(\"P(|Y - 8| < 6.2) = \" + str(prob))"
   ]
  },
  {
   "cell_type": "code",
   "execution_count": 3,
   "id": "d95fad04-50eb-40a4-bac3-ef515d754cdc",
   "metadata": {},
   "outputs": [],
   "source": [
    "class bino:\n",
    "    def __init__(self, n, p, q):\n",
    "        self.n = n\n",
    "        self.p = p\n",
    "        self.q = q\n",
    "        self.frequencies = []\n",
    "\n",
    "    def prob(self, r):\n",
    "        self.funk = ((math.factorial(self.n)) / (math.factorial(r) * math.factorial(((self.n)-r)))) * pow((self.q), ((self.n)-r)) * pow((self.p), r)\n",
    "        return self.funk"
   ]
  },
  {
   "cell_type": "code",
   "execution_count": 4,
   "id": "68497c98-b0ae-4029-8faa-795919836e14",
   "metadata": {},
   "outputs": [
    {
     "name": "stdout",
     "output_type": "stream",
     "text": [
      "P(X = 2) = 0.3974445514323727\n"
     ]
    }
   ],
   "source": [
    "bin_dist = bino(3, prob, (1 - prob))\n",
    "PXE2 = bin_dist.prob(2)\n",
    "print(\"P(X = 2) = \" + str(PXE2))"
   ]
  }
 ],
 "metadata": {
  "kernelspec": {
   "display_name": "Python 3 (ipykernel)",
   "language": "python",
   "name": "python3"
  },
  "language_info": {
   "codemirror_mode": {
    "name": "ipython",
    "version": 3
   },
   "file_extension": ".py",
   "mimetype": "text/x-python",
   "name": "python",
   "nbconvert_exporter": "python",
   "pygments_lexer": "ipython3",
   "version": "3.12.1"
  }
 },
 "nbformat": 4,
 "nbformat_minor": 5
}

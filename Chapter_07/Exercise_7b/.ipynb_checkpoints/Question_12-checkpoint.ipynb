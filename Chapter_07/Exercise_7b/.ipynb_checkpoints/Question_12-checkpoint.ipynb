{
 "cells": [
  {
   "cell_type": "markdown",
   "id": "4f1913dd-a658-43f6-b914-3327ec4d1f47",
   "metadata": {},
   "source": [
    "# Question 12\n",
    "-----"
   ]
  },
  {
   "cell_type": "code",
   "execution_count": 1,
   "id": "c4cf3fa1-8bfc-4805-ae2b-46665153821c",
   "metadata": {},
   "outputs": [],
   "source": [
    "from scipy.integrate import quad\n",
    "import math\n",
    "\n",
    "class normal:\n",
    "    def __init__(self, u, sigma):\n",
    "        self.u = u\n",
    "        self.sigma = sigma\n",
    "        self.root2pi = math.sqrt((2 * math.pi)) \n",
    "    \n",
    "    def normal_func(self, x):\n",
    "        return (1 / (self.sigma * self.root2pi)) * math.exp((-1 * pow((x - self.u), 2)) / (2 * pow(self.sigma, 2)))\n",
    "\n",
    "    def integrate(self, lower_limit, upper_limit):\n",
    "        result, error = quad(self.normal_func, lower_limit, upper_limit)\n",
    "        \n",
    "        return result"
   ]
  },
  {
   "cell_type": "code",
   "execution_count": 2,
   "id": "dc2c81f0-d144-434f-a77b-ed0e9c48a0b4",
   "metadata": {},
   "outputs": [
    {
     "name": "stdout",
     "output_type": "stream",
     "text": [
      "size 1 = 0.15865525294486943\n",
      "size 2 = 0.774537544799685\n",
      "size 3 = 0.06680720225544556\n"
     ]
    }
   ],
   "source": [
    "z = normal(0, 1)\n",
    "transform_a = (0.9 - 1.5) / 0.6\n",
    "size_1 = z.integrate(-6, transform_a)\n",
    "transform_b = (2.4 - 1.5) / 0.6\n",
    "size_2 = z.integrate(transform_a, transform_b)\n",
    "size_3 = 1 - (size_1 + size_2)\n",
    "print(\"size 1 = \" + str(size_1))\n",
    "print(\"size 2 = \" + str(size_2))\n",
    "print(\"size 3 = \" + str(size_3))"
   ]
  },
  {
   "cell_type": "code",
   "execution_count": 3,
   "id": "7754f338-d59f-4f8f-8b5b-05597156a0a8",
   "metadata": {},
   "outputs": [
    {
     "name": "stdout",
     "output_type": "stream",
     "text": [
      "expected cost = 37.528417974432045\n"
     ]
    }
   ],
   "source": [
    "EX = (size_1 * 0.16) + (size_2 * 0.40) + (size_3 * 0.60)\n",
    "cost = EX * 100\n",
    "print(\"expected cost = \" + str(cost))"
   ]
  }
 ],
 "metadata": {
  "kernelspec": {
   "display_name": "Python 3 (ipykernel)",
   "language": "python",
   "name": "python3"
  },
  "language_info": {
   "codemirror_mode": {
    "name": "ipython",
    "version": 3
   },
   "file_extension": ".py",
   "mimetype": "text/x-python",
   "name": "python",
   "nbconvert_exporter": "python",
   "pygments_lexer": "ipython3",
   "version": "3.12.1"
  }
 },
 "nbformat": 4,
 "nbformat_minor": 5
}

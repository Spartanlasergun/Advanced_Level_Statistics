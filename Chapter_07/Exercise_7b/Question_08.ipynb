{
 "cells": [
  {
   "cell_type": "markdown",
   "id": "1d729862-3540-4510-9ba0-d62fcc9d50ec",
   "metadata": {},
   "source": [
    "# Question 8\n",
    "-----"
   ]
  },
  {
   "cell_type": "code",
   "execution_count": 1,
   "id": "d8603ea5-9be7-4a1b-9d8c-8c86cf1254e7",
   "metadata": {},
   "outputs": [],
   "source": [
    "from scipy.integrate import quad\n",
    "import math\n",
    "\n",
    "class normal:\n",
    "    def __init__(self, u, sigma):\n",
    "        self.u = u\n",
    "        self.sigma = sigma\n",
    "        self.root2pi = math.sqrt((2 * math.pi)) \n",
    "    \n",
    "    def normal_func(self, x):\n",
    "        return (1 / (self.sigma * self.root2pi)) * math.exp((-1 * pow((x - self.u), 2)) / (2 * pow(self.sigma, 2)))\n",
    "\n",
    "    def integrate(self, lower_limit, upper_limit):\n",
    "        result, error = quad(self.normal_func, lower_limit, upper_limit)\n",
    "        \n",
    "        return result"
   ]
  },
  {
   "cell_type": "code",
   "execution_count": 2,
   "id": "59a5d23d-985e-4a13-b5c3-637a39dd989f",
   "metadata": {},
   "outputs": [
    {
     "name": "stdout",
     "output_type": "stream",
     "text": [
      "a) 0.6554217406237366\n"
     ]
    }
   ],
   "source": [
    "z = normal(0, 1)\n",
    "transform = (1010 - 1012) / 5\n",
    "a = z.integrate(transform, 6)\n",
    "print(\"a) \" + str(a))"
   ]
  },
  {
   "cell_type": "code",
   "execution_count": 3,
   "id": "9632bbb9-a4a1-4e23-a830-88d000f4b3b0",
   "metadata": {},
   "outputs": [
    {
     "name": "stdout",
     "output_type": "stream",
     "text": [
      "b) 8.0\n"
     ]
    }
   ],
   "source": [
    "transform = (1000 - 1012) / 5\n",
    "prob = z.integrate(-6, transform)\n",
    "cartons = prob * 1000\n",
    "cartons = round(cartons, 0)\n",
    "print(\"b) \" + str(cartons))"
   ]
  }
 ],
 "metadata": {
  "kernelspec": {
   "display_name": "Python 3 (ipykernel)",
   "language": "python",
   "name": "python3"
  },
  "language_info": {
   "codemirror_mode": {
    "name": "ipython",
    "version": 3
   },
   "file_extension": ".py",
   "mimetype": "text/x-python",
   "name": "python",
   "nbconvert_exporter": "python",
   "pygments_lexer": "ipython3",
   "version": "3.12.1"
  }
 },
 "nbformat": 4,
 "nbformat_minor": 5
}

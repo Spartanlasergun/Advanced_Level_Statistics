{
 "cells": [
  {
   "cell_type": "markdown",
   "id": "e342810d-feb7-433e-b6ac-5a5365461aad",
   "metadata": {},
   "source": [
    "# Question 3\n",
    "-----"
   ]
  },
  {
   "cell_type": "code",
   "execution_count": 1,
   "id": "2306ce6e-e4f3-43e9-b243-9e7a1572620c",
   "metadata": {},
   "outputs": [],
   "source": [
    "from scipy.integrate import quad\n",
    "import math\n",
    "\n",
    "class normal:\n",
    "    def __init__(self, u, sigma):\n",
    "        self.u = u\n",
    "        self.sigma = sigma\n",
    "        self.root2pi = math.sqrt((2 * math.pi)) \n",
    "    \n",
    "    def normal_func(self, x):\n",
    "        return (1 / (self.sigma * self.root2pi)) * math.exp((-1 * pow((x - self.u), 2)) / (2 * pow(self.sigma, 2)))\n",
    "\n",
    "    def integrate(self, lower_limit, upper_limit):\n",
    "        result, error = quad(self.normal_func, lower_limit, upper_limit)\n",
    "        \n",
    "        return result\n",
    "\n",
    "    def locate(self, area):\n",
    "        fx = 0\n",
    "        x = -6\n",
    "        while fx < area:\n",
    "            fx = self.integrate(-6, x)\n",
    "            x = x + 0.00001\n",
    "            \n",
    "        return x"
   ]
  },
  {
   "cell_type": "code",
   "execution_count": 2,
   "id": "4eb88afe-9f74-4ee2-b422-94a9e8a61d08",
   "metadata": {},
   "outputs": [
    {
     "name": "stdout",
     "output_type": "stream",
     "text": [
      "a)(i) 0.8943502263331449\n"
     ]
    }
   ],
   "source": [
    "dist = normal(65, 20)\n",
    "ai = dist.integrate(-100, 90)\n",
    "print(\"a)(i) \" + str(ai))"
   ]
  },
  {
   "cell_type": "code",
   "execution_count": 3,
   "id": "a7f463b9-7ca1-4510-ad83-51a6815bed1f",
   "metadata": {},
   "outputs": [
    {
     "name": "stdout",
     "output_type": "stream",
     "text": [
      "a)(ii) 0.4930565520160685\n"
     ]
    }
   ],
   "source": [
    "aii = dist.integrate(60, 90)\n",
    "print(\"a)(ii) \" + str(aii))"
   ]
  },
  {
   "cell_type": "markdown",
   "id": "d2f2f0c4-1ca4-452b-b8eb-83baaa7b5a43",
   "metadata": {},
   "source": [
    "b) the mean time of the distribution is greater than 60 minutes"
   ]
  },
  {
   "cell_type": "code",
   "execution_count": 4,
   "id": "36c58356-c069-4a75-97e6-5c53f054d1fd",
   "metadata": {},
   "outputs": [
    {
     "name": "stdout",
     "output_type": "stream",
     "text": [
      "2.0833333333333335\n"
     ]
    }
   ],
   "source": [
    "dev = 3 * 20\n",
    "span = 65 + dev\n",
    "hrs = span / 60\n",
    "print(hrs)"
   ]
  },
  {
   "cell_type": "markdown",
   "id": "b7ec3852-c7bc-4359-9190-85e7b04b37df",
   "metadata": {},
   "source": [
    "Taking 3 standard deviations from the mean as an approximate whole, the latest time of entry would be 2.08333 hrs before 9p.m.\n",
    "\n",
    "Hence, the latest time if entry is 6:55p.m."
   ]
  }
 ],
 "metadata": {
  "kernelspec": {
   "display_name": "Python 3 (ipykernel)",
   "language": "python",
   "name": "python3"
  },
  "language_info": {
   "codemirror_mode": {
    "name": "ipython",
    "version": 3
   },
   "file_extension": ".py",
   "mimetype": "text/x-python",
   "name": "python",
   "nbconvert_exporter": "python",
   "pygments_lexer": "ipython3",
   "version": "3.12.1"
  }
 },
 "nbformat": 4,
 "nbformat_minor": 5
}

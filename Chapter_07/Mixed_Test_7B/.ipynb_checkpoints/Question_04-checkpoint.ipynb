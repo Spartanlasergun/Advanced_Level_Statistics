{
 "cells": [
  {
   "cell_type": "markdown",
   "id": "7b97c42c-ba0b-4973-8b0c-3b6c42b4f51b",
   "metadata": {},
   "source": [
    "# Question 4\n",
    "-----"
   ]
  },
  {
   "cell_type": "markdown",
   "id": "d56e4638-017f-4827-b3c7-9fe8423a92d2",
   "metadata": {},
   "source": [
    "a)\n",
    "$$\\lambda = 7.5$$\n",
    "\n",
    "b)\n",
    "the raisins must be randomly distributed"
   ]
  },
  {
   "cell_type": "code",
   "execution_count": 1,
   "id": "d96c94d7-dc13-4f40-9fd9-93fb13a6bc2c",
   "metadata": {},
   "outputs": [],
   "source": [
    "import math\n",
    "\n",
    "class poisson:\n",
    "    def __init__(self, lamb):\n",
    "        self.lamb = lamb\n",
    "\n",
    "    def prob(self, x):\n",
    "        pois = math.exp(-self.lamb) * (pow(self.lamb, x) / math.factorial(x))\n",
    "        return pois\n",
    "\n",
    "    def freq(self, event, sample):\n",
    "        freq = self.prob(event) * sample \n",
    "        freq = round(freq, 0)\n",
    "        return freq"
   ]
  },
  {
   "cell_type": "code",
   "execution_count": 2,
   "id": "30f8c707-a18f-4dd6-8119-41e23ee5cc7b",
   "metadata": {},
   "outputs": [
    {
     "name": "stdout",
     "output_type": "stream",
     "text": [
      "a) 0.3380328808585168\n"
     ]
    }
   ],
   "source": [
    "dist = poisson(7.5)\n",
    "PXE0 = dist.prob(0)\n",
    "PXE1 = dist.prob(1)\n",
    "PXE2 = dist.prob(2)\n",
    "PXE3 = dist.prob(3)\n",
    "PXE4 = dist.prob(4)\n",
    "PXE5 = dist.prob(5)\n",
    "PXE6 = dist.prob(6)\n",
    "PXE7 = dist.prob(7)\n",
    "PXE8 = dist.prob(8)\n",
    "PXG8 = 1 - (PXE0 + PXE1 + PXE2 + PXE3 + PXE4 + PXE5 + PXE6 + PXE7 + PXE8)\n",
    "print(\"a) \" + str(PXG8))"
   ]
  },
  {
   "cell_type": "code",
   "execution_count": 3,
   "id": "16b2d2d7-4db9-4e54-a1c5-6fa0356fec45",
   "metadata": {},
   "outputs": [],
   "source": [
    "import math\n",
    "\n",
    "class bino:\n",
    "    def __init__(self, n, p, q):\n",
    "        self.n = n\n",
    "        self.p = p\n",
    "        self.q = q\n",
    "        self.frequencies = []\n",
    "\n",
    "    def prob(self, r):\n",
    "        self.funk = ((math.factorial(self.n)) / (math.factorial(r) * math.factorial(((self.n)-r)))) * pow((self.q), ((self.n)-r)) * pow((self.p), r)\n",
    "        return self.funk\n",
    "\n",
    "    def freq(self, event, r):\n",
    "        event_prob = self.prob(r)\n",
    "        frequency = event_prob * event\n",
    "        frequency = round(frequency, 0)\n",
    "        return frequency"
   ]
  },
  {
   "cell_type": "code",
   "execution_count": 4,
   "id": "51d68fa3-db12-4055-ab42-35f3b8d7af16",
   "metadata": {},
   "outputs": [
    {
     "name": "stdout",
     "output_type": "stream",
     "text": [
      "b) 0.901336648124659\n"
     ]
    }
   ],
   "source": [
    "n = 10\n",
    "p = PXG8\n",
    "q = 1 - p\n",
    "bin_dist = bino(n, p, q)\n",
    "PXE0 = bin_dist.prob(0)\n",
    "PXE1 = bin_dist.prob(1)\n",
    "PXGE2 = 1 - (PXE0 + PXE1)\n",
    "print(\"b) \" + str(PXGE2))"
   ]
  },
  {
   "cell_type": "code",
   "execution_count": 5,
   "id": "da1315a4-e1e9-45db-9e04-12f3ba26d048",
   "metadata": {},
   "outputs": [],
   "source": [
    "from scipy.integrate import quad\n",
    "import math\n",
    "\n",
    "class normal:\n",
    "    def __init__(self, u, sigma):\n",
    "        self.u = u\n",
    "        self.sigma = sigma\n",
    "        self.root2pi = math.sqrt((2 * math.pi)) \n",
    "    \n",
    "    def normal_func(self, x):\n",
    "        return (1 / (self.sigma * self.root2pi)) * math.exp((-1 * pow((x - self.u), 2)) / (2 * pow(self.sigma, 2)))\n",
    "\n",
    "    def integrate(self, lower_limit, upper_limit):\n",
    "        result, error = quad(self.normal_func, lower_limit, upper_limit)\n",
    "        \n",
    "        return result\n",
    "\n",
    "    def locate(self, area):\n",
    "        fx = 0\n",
    "        x = -6\n",
    "        while fx < area:\n",
    "            fx = self.integrate(-6, x)\n",
    "            x = x + 0.00001\n",
    "            \n",
    "        return x"
   ]
  },
  {
   "cell_type": "code",
   "execution_count": 6,
   "id": "a60e195e-7e8b-40d3-932b-214831aca0ff",
   "metadata": {},
   "outputs": [
    {
     "name": "stdout",
     "output_type": "stream",
     "text": [
      "e) 0.26268639318685116\n"
     ]
    }
   ],
   "source": [
    "std = math.sqrt(75)\n",
    "dist = normal(75, std)\n",
    "e = dist.integrate(80.5, 500)\n",
    "print(\"e) \" + str(e))"
   ]
  }
 ],
 "metadata": {
  "kernelspec": {
   "display_name": "Python 3 (ipykernel)",
   "language": "python",
   "name": "python3"
  },
  "language_info": {
   "codemirror_mode": {
    "name": "ipython",
    "version": 3
   },
   "file_extension": ".py",
   "mimetype": "text/x-python",
   "name": "python",
   "nbconvert_exporter": "python",
   "pygments_lexer": "ipython3",
   "version": "3.12.1"
  }
 },
 "nbformat": 4,
 "nbformat_minor": 5
}

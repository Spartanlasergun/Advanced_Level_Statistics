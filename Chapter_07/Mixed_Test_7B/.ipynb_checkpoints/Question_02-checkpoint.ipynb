{
 "cells": [
  {
   "cell_type": "markdown",
   "id": "a128785e-918e-445b-a5af-430a69e4b6d5",
   "metadata": {},
   "source": [
    "# Question 2\n",
    "-----"
   ]
  },
  {
   "cell_type": "code",
   "execution_count": 1,
   "id": "95e3575d-c3ba-45e4-b4aa-3467135d42d4",
   "metadata": {},
   "outputs": [],
   "source": [
    "from scipy.integrate import quad\n",
    "import math\n",
    "\n",
    "class normal:\n",
    "    def __init__(self, u, sigma):\n",
    "        self.u = u\n",
    "        self.sigma = sigma\n",
    "        self.root2pi = math.sqrt((2 * math.pi)) \n",
    "    \n",
    "    def normal_func(self, x):\n",
    "        return (1 / (self.sigma * self.root2pi)) * math.exp((-1 * pow((x - self.u), 2)) / (2 * pow(self.sigma, 2)))\n",
    "\n",
    "    def integrate(self, lower_limit, upper_limit):\n",
    "        result, error = quad(self.normal_func, lower_limit, upper_limit)\n",
    "        \n",
    "        return result\n",
    "\n",
    "    def locate(self, area):\n",
    "        fx = 0\n",
    "        x = -6\n",
    "        while fx < area:\n",
    "            fx = self.integrate(-6, x)\n",
    "            x = x + 0.00001\n",
    "            \n",
    "        return x"
   ]
  },
  {
   "cell_type": "code",
   "execution_count": 2,
   "id": "5c288664-4c71-44d0-9379-607942187133",
   "metadata": {},
   "outputs": [
    {
     "name": "stdout",
     "output_type": "stream",
     "text": [
      "a) 0.10564977366685485\n"
     ]
    }
   ],
   "source": [
    "dist = normal(810, 8)\n",
    "a = dist.integrate(0, 800)\n",
    "print(\"a) \" + str(a))"
   ]
  },
  {
   "cell_type": "code",
   "execution_count": 3,
   "id": "bb590ce1-cc23-4afa-bc5e-8bf28c52099c",
   "metadata": {},
   "outputs": [
    {
     "name": "stdout",
     "output_type": "stream",
     "text": [
      "b) 0.8639538645678824\n"
     ]
    }
   ],
   "source": [
    "b = dist.integrate(795, 820)\n",
    "print(\"b) \" + str(b))"
   ]
  },
  {
   "cell_type": "code",
   "execution_count": 4,
   "id": "78fca9b5-e385-4914-ab77-b6aef07ae376",
   "metadata": {},
   "outputs": [
    {
     "name": "stdout",
     "output_type": "stream",
     "text": [
      "c) 815.6796000004988\n"
     ]
    }
   ],
   "source": [
    "z = normal(0, 1)\n",
    "loc = z.locate(0.025)\n",
    "mean = 800 - (loc * 8) \n",
    "print(\"c) \" + str(mean))"
   ]
  }
 ],
 "metadata": {
  "kernelspec": {
   "display_name": "Python 3 (ipykernel)",
   "language": "python",
   "name": "python3"
  },
  "language_info": {
   "codemirror_mode": {
    "name": "ipython",
    "version": 3
   },
   "file_extension": ".py",
   "mimetype": "text/x-python",
   "name": "python",
   "nbconvert_exporter": "python",
   "pygments_lexer": "ipython3",
   "version": "3.12.1"
  }
 },
 "nbformat": 4,
 "nbformat_minor": 5
}

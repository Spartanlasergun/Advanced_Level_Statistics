{
 "cells": [
  {
   "cell_type": "markdown",
   "id": "24d69e4d-f63b-43b8-9cd3-27a30b975a04",
   "metadata": {},
   "source": [
    "# Question 5\n",
    "-----"
   ]
  },
  {
   "cell_type": "code",
   "execution_count": 1,
   "id": "aff89df9-e71e-4025-9ef4-ff01648f92f3",
   "metadata": {},
   "outputs": [],
   "source": [
    "from scipy.integrate import quad\n",
    "import math\n",
    "\n",
    "class normal:\n",
    "    def __init__(self, u, sigma):\n",
    "        self.u = u\n",
    "        self.sigma = sigma\n",
    "        self.root2pi = math.sqrt((2 * math.pi)) \n",
    "    \n",
    "    def normal_func(self, x):\n",
    "        return (1 / (self.sigma * self.root2pi)) * math.exp((-1 * pow((x - self.u), 2)) / (2 * pow(self.sigma, 2)))\n",
    "\n",
    "    def integrate(self, lower_limit, upper_limit):\n",
    "        result, error = quad(self.normal_func, lower_limit, upper_limit)\n",
    "        \n",
    "        return result"
   ]
  },
  {
   "cell_type": "code",
   "execution_count": 2,
   "id": "cb846b22-2dac-4567-b9e8-168ab86b732b",
   "metadata": {},
   "outputs": [
    {
     "name": "stdout",
     "output_type": "stream",
     "text": [
      "a) 0.17022520653828713\n"
     ]
    }
   ],
   "source": [
    "z = normal(0, 1)\n",
    "a = z.integrate(0.829, 1.834)\n",
    "print(\"a) \" + str(a))"
   ]
  },
  {
   "cell_type": "code",
   "execution_count": 3,
   "id": "5ba6265e-6c81-46cb-9da8-eae1c8f9d6e3",
   "metadata": {},
   "outputs": [
    {
     "name": "stdout",
     "output_type": "stream",
     "text": [
      "b) 0.5480651046188976\n"
     ]
    }
   ],
   "source": [
    "b = z.integrate(-2.56, 0.134)\n",
    "print(\"b) \" + str(b))"
   ]
  },
  {
   "cell_type": "code",
   "execution_count": 4,
   "id": "545f0096-5d6a-4aa4-81ac-a3d6eb29935e",
   "metadata": {},
   "outputs": [
    {
     "name": "stdout",
     "output_type": "stream",
     "text": [
      "c) 0.36380646751025414\n"
     ]
    }
   ],
   "source": [
    "c = z.integrate(-1.762, -0.246)\n",
    "print(\"c) \" + str(c))"
   ]
  },
  {
   "cell_type": "code",
   "execution_count": 5,
   "id": "5da88ef4-f2ce-4bbb-a3e9-c345f5f71cbd",
   "metadata": {},
   "outputs": [
    {
     "name": "stdout",
     "output_type": "stream",
     "text": [
      "d) 0.4581848623864051\n"
     ]
    }
   ],
   "source": [
    "d = z.integrate(0, 1.73)\n",
    "print(\"d) \" + str(d))"
   ]
  },
  {
   "cell_type": "code",
   "execution_count": 6,
   "id": "d5546889-755b-45a2-9875-69f527aca252",
   "metadata": {},
   "outputs": [
    {
     "name": "stdout",
     "output_type": "stream",
     "text": [
      "e) 0.47981778459429564\n"
     ]
    }
   ],
   "source": [
    "e = z.integrate(-2.05, 0)\n",
    "print(\"e) \" + str(e))"
   ]
  },
  {
   "cell_type": "code",
   "execution_count": 7,
   "id": "6e4e01a8-2078-49e7-bbfc-c8562b3969da",
   "metadata": {},
   "outputs": [
    {
     "name": "stdout",
     "output_type": "stream",
     "text": [
      "f) 0.9624744671301247\n"
     ]
    }
   ],
   "source": [
    "f = z.integrate(-2.08, 2.08)\n",
    "print(\"f) \" + str(f))"
   ]
  },
  {
   "cell_type": "code",
   "execution_count": 8,
   "id": "2ac42606-e674-490d-8f5a-14d953b7f563",
   "metadata": {},
   "outputs": [
    {
     "name": "stdout",
     "output_type": "stream",
     "text": [
      "g) 0.03373685897580432\n"
     ]
    }
   ],
   "source": [
    "g = z.integrate(1.764, 2.567)\n",
    "print(\"g) \" + str(g))"
   ]
  },
  {
   "cell_type": "code",
   "execution_count": 9,
   "id": "c5bc15bd-acc3-4590-ad00-74410c09bfe0",
   "metadata": {},
   "outputs": [
    {
     "name": "stdout",
     "output_type": "stream",
     "text": [
      "h) 0.9082647957083995\n"
     ]
    }
   ],
   "source": [
    "h = z.integrate(-1.65, 1.725)\n",
    "print(\"h) \" + str(h))"
   ]
  },
  {
   "cell_type": "code",
   "execution_count": 10,
   "id": "8422b271-c205-4a85-bf08-bca9c31adf3e",
   "metadata": {},
   "outputs": [
    {
     "name": "stdout",
     "output_type": "stream",
     "text": [
      "i) 0.2728974777808748\n"
     ]
    }
   ],
   "source": [
    "i = z.integrate(-0.98, -0.16)\n",
    "print(\"i) \" + str(i))"
   ]
  },
  {
   "cell_type": "code",
   "execution_count": 11,
   "id": "032bd5b6-7c88-4d5b-8c86-59c3d9fc3fad",
   "metadata": {},
   "outputs": [
    {
     "name": "stdout",
     "output_type": "stream",
     "text": [
      "j) 0.030628850605998625\n"
     ]
    }
   ],
   "source": [
    "j = 1 - (z.integrate(-1.97, 2.5))\n",
    "print(\"j) \" + str(j))"
   ]
  },
  {
   "cell_type": "code",
   "execution_count": 12,
   "id": "ec3bc2ec-31fa-4e0f-8671-82cb95a3f5e5",
   "metadata": {},
   "outputs": [
    {
     "name": "stdout",
     "output_type": "stream",
     "text": [
      "k) 0.9249240393029664\n"
     ]
    }
   ],
   "source": [
    "k = z.integrate(-1.78, 1.78)\n",
    "print(\"k) \" + str(k))"
   ]
  },
  {
   "cell_type": "code",
   "execution_count": 13,
   "id": "81058722-4176-4030-a664-db6c87951e63",
   "metadata": {},
   "outputs": [
    {
     "name": "stdout",
     "output_type": "stream",
     "text": [
      "l) 0.4508492217445559\n"
     ]
    }
   ],
   "source": [
    "l = 1 - (z.integrate(-0.754, 0.754))\n",
    "print(\"l) \" + str(l))"
   ]
  },
  {
   "cell_type": "code",
   "execution_count": 14,
   "id": "6fe615c9-139b-49a5-949a-c1fb391e6074",
   "metadata": {},
   "outputs": [
    {
     "name": "stdout",
     "output_type": "stream",
     "text": [
      "m) 0.9000301889217575\n"
     ]
    }
   ],
   "source": [
    "m = z.integrate(-1.645, 1.645)\n",
    "print(\"m) \" + str(m))"
   ]
  },
  {
   "cell_type": "code",
   "execution_count": 15,
   "id": "153f4963-b896-4853-8b6f-14ba24c6a298",
   "metadata": {},
   "outputs": [
    {
     "name": "stdout",
     "output_type": "stream",
     "text": [
      "n) 0.020018550681735525\n"
     ]
    }
   ],
   "source": [
    "n = 1 - (z.integrate(-2.326, 2.326))\n",
    "print(\"n) \" + str(n))"
   ]
  }
 ],
 "metadata": {
  "kernelspec": {
   "display_name": "Python 3 (ipykernel)",
   "language": "python",
   "name": "python3"
  },
  "language_info": {
   "codemirror_mode": {
    "name": "ipython",
    "version": 3
   },
   "file_extension": ".py",
   "mimetype": "text/x-python",
   "name": "python",
   "nbconvert_exporter": "python",
   "pygments_lexer": "ipython3",
   "version": "3.12.1"
  }
 },
 "nbformat": 4,
 "nbformat_minor": 5
}

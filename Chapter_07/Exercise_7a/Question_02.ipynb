{
 "cells": [
  {
   "cell_type": "markdown",
   "id": "8df40e6e-4689-4541-88dd-a5d8a3aeb69a",
   "metadata": {},
   "source": [
    "# Question 2\n",
    "-----"
   ]
  },
  {
   "cell_type": "code",
   "execution_count": 1,
   "id": "7006008d-41e0-4c3f-a788-0529ed9568c4",
   "metadata": {},
   "outputs": [],
   "source": [
    "from scipy.integrate import quad\n",
    "import math\n",
    "\n",
    "class normal:\n",
    "    def __init__(self, u, sigma):\n",
    "        self.u = u\n",
    "        self.sigma = sigma\n",
    "        self.root2pi = math.sqrt((2 * math.pi)) \n",
    "    \n",
    "    def normal_func(self, x):\n",
    "        return (1 / (self.sigma * self.root2pi)) * math.exp((-1 * pow((x - self.u), 2)) / (2 * pow(self.sigma, 2)))\n",
    "\n",
    "    def integrate(self, lower_limit, upper_limit):\n",
    "        result, error = quad(self.normal_func, lower_limit, upper_limit)\n",
    "        \n",
    "        return result"
   ]
  },
  {
   "cell_type": "code",
   "execution_count": 2,
   "id": "58d2b00c-6c0e-4ab4-ac1b-8ace3e89cfa2",
   "metadata": {},
   "outputs": [
    {
     "name": "stdout",
     "output_type": "stream",
     "text": [
      "a) 0.03593031812633818\n"
     ]
    }
   ],
   "source": [
    "z = normal(0, 1)\n",
    "a = z.integrate(1.8, 6)\n",
    "print(\"a) \" + str(a))"
   ]
  },
  {
   "cell_type": "code",
   "execution_count": 3,
   "id": "9649f14c-cd15-4634-91fe-2044db180895",
   "metadata": {},
   "outputs": [
    {
     "name": "stdout",
     "output_type": "stream",
     "text": [
      "b) 0.257846109819277\n"
     ]
    }
   ],
   "source": [
    "b = z.integrate(-6, -0.65)\n",
    "print(\"b) \" + str(b))"
   ]
  },
  {
   "cell_type": "code",
   "execution_count": 4,
   "id": "1ae08626-e236-4b42-9de6-d6610aca91c8",
   "metadata": {},
   "outputs": [
    {
     "name": "stdout",
     "output_type": "stream",
     "text": [
      "c) 0.9930531482247882\n"
     ]
    }
   ],
   "source": [
    "c = z.integrate(-2.46, 6)\n",
    "print(\"c) \" + str(c))"
   ]
  },
  {
   "cell_type": "code",
   "execution_count": 5,
   "id": "583592e3-0d9a-49bb-8ec1-71baf9395e88",
   "metadata": {},
   "outputs": [
    {
     "name": "stdout",
     "output_type": "stream",
     "text": [
      "d) 0.9130850370663274\n"
     ]
    }
   ],
   "source": [
    "d = z.integrate(-6, 1.36)\n",
    "print(\"d) \" + str(d))"
   ]
  },
  {
   "cell_type": "code",
   "execution_count": 6,
   "id": "c7e1e37f-417c-4e1d-be82-f4bf498ed6d4",
   "metadata": {},
   "outputs": [
    {
     "name": "stdout",
     "output_type": "stream",
     "text": [
      "e) 0.0049400147711830015\n"
     ]
    }
   ],
   "source": [
    "e = z.integrate(2.58, 6)\n",
    "print(\"e) \" + str(e))"
   ]
  },
  {
   "cell_type": "code",
   "execution_count": 7,
   "id": "2b180357-c33f-4b8d-9dc4-8ad7209e872e",
   "metadata": {},
   "outputs": [
    {
     "name": "stdout",
     "output_type": "stream",
     "text": [
      "f) 0.991105956383076\n"
     ]
    }
   ],
   "source": [
    "f = z.integrate(-2.37, 6)\n",
    "print(\"f) \" + str(f))"
   ]
  },
  {
   "cell_type": "code",
   "execution_count": 8,
   "id": "e3c122e5-d8b1-49d7-82cd-f3f8ef149981",
   "metadata": {},
   "outputs": [
    {
     "name": "stdout",
     "output_type": "stream",
     "text": [
      "g) 0.9685572360326596\n"
     ]
    }
   ],
   "source": [
    "g = z.integrate(-6, 1.86)\n",
    "print(\"g) \" + str(g))"
   ]
  },
  {
   "cell_type": "code",
   "execution_count": 9,
   "id": "aad6e012-d77b-4ede-ade0-d784adeec102",
   "metadata": {},
   "outputs": [
    {
     "name": "stdout",
     "output_type": "stream",
     "text": [
      "h) 0.2342260142261074\n"
     ]
    }
   ],
   "source": [
    "h = z.integrate(-6, -0.725)\n",
    "print(\"h) \" + str(h))"
   ]
  },
  {
   "cell_type": "code",
   "execution_count": 10,
   "id": "ab2e0869-dbc6-42a7-aa98-c0bb58f3da52",
   "metadata": {},
   "outputs": [
    {
     "name": "stdout",
     "output_type": "stream",
     "text": [
      "i) 0.031231132128123493\n"
     ]
    }
   ],
   "source": [
    "i = z.integrate(1.863, 6)\n",
    "print(\"i) \" + str(i))"
   ]
  },
  {
   "cell_type": "code",
   "execution_count": 11,
   "id": "3b9a93ee-f17f-431c-b061-ab6b381d081e",
   "metadata": {},
   "outputs": [
    {
     "name": "stdout",
     "output_type": "stream",
     "text": [
      "j) 0.9484492505233232\n"
     ]
    }
   ],
   "source": [
    "j = z.integrate(-6, 1.63)\n",
    "print(\"j) \" + str(j))"
   ]
  },
  {
   "cell_type": "code",
   "execution_count": 12,
   "id": "712157fd-fbab-45a3-9e5d-18c7c7a263c0",
   "metadata": {},
   "outputs": [
    {
     "name": "stdout",
     "output_type": "stream",
     "text": [
      "k) 0.9803484789711907\n"
     ]
    }
   ],
   "source": [
    "k = z.integrate(-2.061, 6)\n",
    "print(\"k) \" + str(k))"
   ]
  },
  {
   "cell_type": "code",
   "execution_count": 13,
   "id": "6972df36-877c-43c0-b7c8-893b0ce5e161",
   "metadata": {},
   "outputs": [
    {
     "name": "stdout",
     "output_type": "stream",
     "text": [
      "l) 0.002020136503358357\n"
     ]
    }
   ],
   "source": [
    "l = z.integrate(-6, -2.875)\n",
    "print(\"l) \" + str(l))"
   ]
  }
 ],
 "metadata": {
  "kernelspec": {
   "display_name": "Python 3 (ipykernel)",
   "language": "python",
   "name": "python3"
  },
  "language_info": {
   "codemirror_mode": {
    "name": "ipython",
    "version": 3
   },
   "file_extension": ".py",
   "mimetype": "text/x-python",
   "name": "python",
   "nbconvert_exporter": "python",
   "pygments_lexer": "ipython3",
   "version": "3.12.1"
  }
 },
 "nbformat": 4,
 "nbformat_minor": 5
}

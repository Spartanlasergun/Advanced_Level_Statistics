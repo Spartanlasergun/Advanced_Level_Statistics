{
 "cells": [
  {
   "cell_type": "markdown",
   "id": "54967de4-828e-438e-8d36-05df9223faa9",
   "metadata": {},
   "source": [
    "# Question 9\n",
    "-----"
   ]
  },
  {
   "cell_type": "code",
   "execution_count": null,
   "id": "8663c992-d9bd-431c-bb64-613e8c1fb277",
   "metadata": {},
   "outputs": [],
   "source": []
  },
  {
   "cell_type": "markdown",
   "id": "6a7417d6-6f9c-4e38-98c3-36b020ca3e55",
   "metadata": {},
   "source": [
    "$$P(Z < a) = 0.8 + \\frac{1 - P(|Z| < a)}{2}$$\n",
    "\n",
    "$$P(Z < a) = 0.8 + \\frac{0.2}{2}$$\n",
    "\n",
    "$$P(Z < a) = 0.9$$\n",
    "\n",
    "-----\n",
    "\n",
    "$$P(Z > a) = \\frac{1 - P(|Z| < a)}{2}$$\n",
    "\n",
    "$$P(Z > a) = \\frac{1 - 0.8}{2}$$\n",
    "\n",
    "$$P(Z > a) = 0.1$$"
   ]
  }
 ],
 "metadata": {
  "kernelspec": {
   "display_name": "Python 3 (ipykernel)",
   "language": "python",
   "name": "python3"
  },
  "language_info": {
   "codemirror_mode": {
    "name": "ipython",
    "version": 3
   },
   "file_extension": ".py",
   "mimetype": "text/x-python",
   "name": "python",
   "nbconvert_exporter": "python",
   "pygments_lexer": "ipython3",
   "version": "3.12.1"
  }
 },
 "nbformat": 4,
 "nbformat_minor": 5
}

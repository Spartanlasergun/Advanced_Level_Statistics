{
 "cells": [
  {
   "cell_type": "markdown",
   "id": "d880a64d-3607-4353-907e-401cbc2c5b69",
   "metadata": {},
   "source": [
    "# Question 8\n",
    "-----"
   ]
  },
  {
   "cell_type": "markdown",
   "id": "45de88fd-0ad2-49d4-9041-23d9f79a3c8f",
   "metadata": {},
   "source": [
    "$$\\phi(b) = 1 - P(Z > b)$$\n",
    "\n",
    "$$\\phi(b) = 1 - 0.45$$\n",
    "\n",
    "$$\\phi(b) = 0.55$$\n",
    "\n",
    "-----\n",
    "\n",
    "$$P(b < Z < a) = P(Z > b) - (1 - P(Z < a))$$\n",
    "\n",
    "$$P(b < Z < a) = 0.45 - (1 - 0.7)$$\n",
    "\n",
    "$$P(b < Z < a) = 0.45 - 0.3$$\n",
    "\n",
    "$$P(b < Z < a) = 0.15$$"
   ]
  }
 ],
 "metadata": {
  "kernelspec": {
   "display_name": "Python 3 (ipykernel)",
   "language": "python",
   "name": "python3"
  },
  "language_info": {
   "codemirror_mode": {
    "name": "ipython",
    "version": 3
   },
   "file_extension": ".py",
   "mimetype": "text/x-python",
   "name": "python",
   "nbconvert_exporter": "python",
   "pygments_lexer": "ipython3",
   "version": "3.12.1"
  }
 },
 "nbformat": 4,
 "nbformat_minor": 5
}

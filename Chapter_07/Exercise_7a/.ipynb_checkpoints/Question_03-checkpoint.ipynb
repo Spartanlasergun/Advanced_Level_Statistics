{
 "cells": [
  {
   "cell_type": "markdown",
   "id": "545e4ed0-2f0b-4fad-ac3f-1c0f1e393e56",
   "metadata": {},
   "source": [
    "# Question 3\n",
    "-----"
   ]
  },
  {
   "cell_type": "code",
   "execution_count": 1,
   "id": "79bd08e3-59f6-499f-9466-36c095005ae7",
   "metadata": {},
   "outputs": [],
   "source": [
    "from scipy.integrate import quad\n",
    "import math\n",
    "\n",
    "class normal:\n",
    "    def __init__(self, u, sigma):\n",
    "        self.u = u\n",
    "        self.sigma = sigma\n",
    "        self.root2pi = math.sqrt((2 * math.pi)) \n",
    "    \n",
    "    def normal_func(self, x):\n",
    "        return (1 / (self.sigma * self.root2pi)) * math.exp((-1 * pow((x - self.u), 2)) / (2 * pow(self.sigma, 2)))\n",
    "\n",
    "    def integrate(self, lower_limit, upper_limit):\n",
    "        result, error = quad(self.normal_func, lower_limit, upper_limit)\n",
    "        \n",
    "        return result"
   ]
  },
  {
   "cell_type": "code",
   "execution_count": 2,
   "id": "89b319e0-7ed0-4e0b-8eae-794064a8da54",
   "metadata": {},
   "outputs": [
    {
     "name": "stdout",
     "output_type": "stream",
     "text": [
      "a) 0.049984904552533765\n"
     ]
    }
   ],
   "source": [
    "z = normal(0, 1)\n",
    "a = z.integrate(1.645, 6)\n",
    "print(\"a) \" + str(a))"
   ]
  },
  {
   "cell_type": "code",
   "execution_count": 3,
   "id": "6d8f9905-3ff6-47a8-bd83-7f4edd11050e",
   "metadata": {},
   "outputs": [
    {
     "name": "stdout",
     "output_type": "stream",
     "text": [
      "b) 0.049984904552533765\n"
     ]
    }
   ],
   "source": [
    "b = z.integrate(-6, -1.645)\n",
    "print(\"b) \" + str(b))"
   ]
  },
  {
   "cell_type": "code",
   "execution_count": 4,
   "id": "ac4f5365-c66b-4ff9-9a15-9c17e69e9bea",
   "metadata": {},
   "outputs": [
    {
     "name": "stdout",
     "output_type": "stream",
     "text": [
      "c) 0.0999213221267952\n"
     ]
    }
   ],
   "source": [
    "c = z.integrate(1.282, 6)\n",
    "print(\"c) \" + str(c))"
   ]
  },
  {
   "cell_type": "code",
   "execution_count": 5,
   "id": "a6fe1c2c-14a5-4c05-849a-5c11d7560816",
   "metadata": {},
   "outputs": [
    {
     "name": "stdout",
     "output_type": "stream",
     "text": [
      "d) 0.024997894161632797\n"
     ]
    }
   ],
   "source": [
    "d = z.integrate(1.96, 6)\n",
    "print(\"d) \" + str(d))"
   ]
  },
  {
   "cell_type": "code",
   "execution_count": 6,
   "id": "98b68e88-3e13-466a-a7f6-57411a741129",
   "metadata": {},
   "outputs": [
    {
     "name": "stdout",
     "output_type": "stream",
     "text": [
      "e) 0.005012003345173698\n"
     ]
    }
   ],
   "source": [
    "e = z.integrate(2.575, 6)\n",
    "print(\"e) \" + str(e))"
   ]
  },
  {
   "cell_type": "code",
   "execution_count": 7,
   "id": "d6d616f6-8916-465d-bcfd-396874ba6e99",
   "metadata": {},
   "outputs": [
    {
     "name": "stdout",
     "output_type": "stream",
     "text": [
      "f) 0.010009274354280017\n"
     ]
    }
   ],
   "source": [
    "f = z.integrate(2.326, 6)\n",
    "print(\"f) \" + str(f))"
   ]
  },
  {
   "cell_type": "code",
   "execution_count": 8,
   "id": "c1549e54-4367-46c2-a80d-e8a5860c75e7",
   "metadata": {},
   "outputs": [
    {
     "name": "stdout",
     "output_type": "stream",
     "text": [
      "g) 0.002492510353817273\n"
     ]
    }
   ],
   "source": [
    "g = z.integrate(2.808, 6)\n",
    "print(\"g) \" + str(g))"
   ]
  },
  {
   "cell_type": "code",
   "execution_count": 9,
   "id": "f3b5499f-9204-475e-b3dc-261906a4c7e1",
   "metadata": {},
   "outputs": [
    {
     "name": "stdout",
     "output_type": "stream",
     "text": [
      "h) 0.975002103865192\n"
     ]
    }
   ],
   "source": [
    "h = z.integrate(-6, 1.96)\n",
    "print(\"h) \" + str(h))"
   ]
  }
 ],
 "metadata": {
  "kernelspec": {
   "display_name": "Python 3 (ipykernel)",
   "language": "python",
   "name": "python3"
  },
  "language_info": {
   "codemirror_mode": {
    "name": "ipython",
    "version": 3
   },
   "file_extension": ".py",
   "mimetype": "text/x-python",
   "name": "python",
   "nbconvert_exporter": "python",
   "pygments_lexer": "ipython3",
   "version": "3.12.1"
  }
 },
 "nbformat": 4,
 "nbformat_minor": 5
}

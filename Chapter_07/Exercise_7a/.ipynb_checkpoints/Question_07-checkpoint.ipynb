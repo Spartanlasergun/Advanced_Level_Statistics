{
 "cells": [
  {
   "cell_type": "markdown",
   "id": "c4291f4f-8e03-475c-8ff4-0bd48b6e3fba",
   "metadata": {},
   "source": [
    "# Question 7\n",
    "-----"
   ]
  },
  {
   "cell_type": "markdown",
   "id": "ee2859b2-52c0-4172-af51-a22d9c78a1db",
   "metadata": {},
   "source": [
    "$$P(Z < b) = P(a < Z < b) + P(Z < a)$$\n",
    "\n",
    "$$P(Z < b) = 0.3 + 0.6 = 0.9$$\n",
    "\n",
    "-----\n",
    "\n",
    "$$P(Z > a) = 1 - P(Z < a)$$\n",
    "\n",
    "$$P(Z > a) = 1 - 0.3$$\n",
    "\n",
    "$$P(Z > a) = 0.7$$"
   ]
  }
 ],
 "metadata": {
  "kernelspec": {
   "display_name": "Python 3 (ipykernel)",
   "language": "python",
   "name": "python3"
  },
  "language_info": {
   "codemirror_mode": {
    "name": "ipython",
    "version": 3
   },
   "file_extension": ".py",
   "mimetype": "text/x-python",
   "name": "python",
   "nbconvert_exporter": "python",
   "pygments_lexer": "ipython3",
   "version": "3.12.1"
  }
 },
 "nbformat": 4,
 "nbformat_minor": 5
}

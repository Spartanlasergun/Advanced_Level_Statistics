{
 "cells": [
  {
   "cell_type": "markdown",
   "id": "9c148633-ef2a-4b3c-be1a-317a73244539",
   "metadata": {},
   "source": [
    "# Question 16\n",
    "-----"
   ]
  },
  {
   "cell_type": "code",
   "execution_count": 1,
   "id": "f671eef9-ce3a-4392-b0cb-4fb72baf6375",
   "metadata": {},
   "outputs": [],
   "source": [
    "from scipy.integrate import quad\n",
    "import math\n",
    "\n",
    "class normal:\n",
    "    def __init__(self, u, sigma):\n",
    "        self.u = u\n",
    "        self.sigma = sigma\n",
    "        self.root2pi = math.sqrt((2 * math.pi)) \n",
    "    \n",
    "    def normal_func(self, x):\n",
    "        return (1 / (self.sigma * self.root2pi)) * math.exp((-1 * pow((x - self.u), 2)) / (2 * pow(self.sigma, 2)))\n",
    "\n",
    "    def integrate(self, lower_limit, upper_limit):\n",
    "        result, error = quad(self.normal_func, lower_limit, upper_limit)\n",
    "        \n",
    "        return result\n",
    "\n",
    "    def locate(self, area):\n",
    "        fx = 0\n",
    "        x = -6\n",
    "        while fx < area:\n",
    "            fx = self.integrate(-6, x)\n",
    "            x = x + 0.00001\n",
    "            \n",
    "        return x"
   ]
  },
  {
   "cell_type": "code",
   "execution_count": 2,
   "id": "73465832-03c8-4d12-ad4a-951b106f9206",
   "metadata": {},
   "outputs": [
    {
     "name": "stdout",
     "output_type": "stream",
     "text": [
      "-1.6953800000606174\n",
      "1.2003699999414184\n"
     ]
    }
   ],
   "source": [
    "z = normal(0, 1)\n",
    "a1 = (27/600)\n",
    "loc_1 = z.locate(a1)\n",
    "a2 = 1 - (69/600)\n",
    "loc_2 = z.locate(a2)\n",
    "print(loc_1)\n",
    "print(loc_2)"
   ]
  },
  {
   "cell_type": "markdown",
   "id": "32e45a5c-0c30-4b54-b8c8-aa17787ab081",
   "metadata": {},
   "source": [
    "$$950 + 1.7\\sigma = \\mu$$\n",
    "\n",
    "$$1000 - 1.2\\sigma = \\mu$$\n",
    "\n",
    "$$950 + 1.7\\sigma = 1000 - 1.2\\sigma$$\n",
    "\n",
    "$$2.9\\sigma = 50$$\n",
    "\n",
    "$$\\sigma = 17.24$$\n",
    "\n",
    "$$\\mu = 950 + (1.7 * 17.24)$$\n",
    "\n",
    "$$\\mu = 979.308$$"
   ]
  },
  {
   "cell_type": "code",
   "execution_count": 3,
   "id": "ad8fb50c-6da6-4e4a-bc75-76536e989655",
   "metadata": {},
   "outputs": [
    {
     "name": "stdout",
     "output_type": "stream",
     "text": [
      "rounds within 5m = 132.82704648379553\n"
     ]
    }
   ],
   "source": [
    "dist = normal(979.308, 17.24)\n",
    "prob = dist.integrate(970, 980)\n",
    "rounds = prob * 600\n",
    "print(\"rounds within 5m = \" + str(rounds))"
   ]
  }
 ],
 "metadata": {
  "kernelspec": {
   "display_name": "Python 3 (ipykernel)",
   "language": "python",
   "name": "python3"
  },
  "language_info": {
   "codemirror_mode": {
    "name": "ipython",
    "version": 3
   },
   "file_extension": ".py",
   "mimetype": "text/x-python",
   "name": "python",
   "nbconvert_exporter": "python",
   "pygments_lexer": "ipython3",
   "version": "3.12.1"
  }
 },
 "nbformat": 4,
 "nbformat_minor": 5
}

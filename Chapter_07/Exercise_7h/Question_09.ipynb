{
 "cells": [
  {
   "cell_type": "markdown",
   "id": "d8a76083-25f8-4b4e-b7e9-33fc359ae99d",
   "metadata": {},
   "source": [
    "# Question 9\n",
    "-----"
   ]
  },
  {
   "cell_type": "code",
   "execution_count": 1,
   "id": "f0f9b6db-004b-4189-82c3-0a6d24396753",
   "metadata": {},
   "outputs": [
    {
     "name": "stdout",
     "output_type": "stream",
     "text": [
      "a) 14.25\n"
     ]
    }
   ],
   "source": [
    "profit = (0.15 * 2) + (0.6 * 12) + (0.25 * 27)\n",
    "print(\"a) \" + str(profit))"
   ]
  },
  {
   "cell_type": "code",
   "execution_count": 2,
   "id": "e1f3bd7f-07fa-45ab-ac16-bff1ce413ef9",
   "metadata": {},
   "outputs": [],
   "source": [
    "from scipy.integrate import quad\n",
    "import math\n",
    "\n",
    "class normal:\n",
    "    def __init__(self, u, sigma):\n",
    "        self.u = u\n",
    "        self.sigma = sigma\n",
    "        self.root2pi = math.sqrt((2 * math.pi)) \n",
    "    \n",
    "    def normal_func(self, x):\n",
    "        return (1 / (self.sigma * self.root2pi)) * math.exp((-1 * pow((x - self.u), 2)) / (2 * pow(self.sigma, 2)))\n",
    "\n",
    "    def integrate(self, lower_limit, upper_limit):\n",
    "        result, error = quad(self.normal_func, lower_limit, upper_limit)\n",
    "        \n",
    "        return result\n",
    "\n",
    "    def locate(self, area):\n",
    "        fx = 0\n",
    "        x = -6\n",
    "        while fx < area:\n",
    "            fx = self.integrate(-6, x)\n",
    "            x = x + 0.00001\n",
    "            \n",
    "        return x"
   ]
  },
  {
   "cell_type": "code",
   "execution_count": 3,
   "id": "ae65e2e8-0dfb-489f-8d9c-b9e0ab8400c2",
   "metadata": {},
   "outputs": [
    {
     "name": "stdout",
     "output_type": "stream",
     "text": [
      "b) 736.1000000000988\n"
     ]
    }
   ],
   "source": [
    "dist = normal(628, 160)\n",
    "x = 0\n",
    "area = 0\n",
    "while area < 0.75:\n",
    "    area = dist.integrate(-600, x)\n",
    "    x = x + 0.1\n",
    "print(\"b) \" + str(x))"
   ]
  },
  {
   "cell_type": "code",
   "execution_count": 4,
   "id": "3b16ad5b-7e4c-4079-9856-3e769c91a981",
   "metadata": {},
   "outputs": [
    {
     "name": "stdout",
     "output_type": "stream",
     "text": [
      "c) 462.3000000000366\n"
     ]
    }
   ],
   "source": [
    "x = 0\n",
    "area = 0\n",
    "while area < 0.15:\n",
    "    area = dist.integrate(-600, x)\n",
    "    x = x + 0.1\n",
    "print(\"c) \" + str(x))"
   ]
  }
 ],
 "metadata": {
  "kernelspec": {
   "display_name": "Python 3 (ipykernel)",
   "language": "python",
   "name": "python3"
  },
  "language_info": {
   "codemirror_mode": {
    "name": "ipython",
    "version": 3
   },
   "file_extension": ".py",
   "mimetype": "text/x-python",
   "name": "python",
   "nbconvert_exporter": "python",
   "pygments_lexer": "ipython3",
   "version": "3.12.1"
  }
 },
 "nbformat": 4,
 "nbformat_minor": 5
}

{
 "cells": [
  {
   "cell_type": "markdown",
   "id": "41f31ab9-4107-4002-a94a-417d2d22a721",
   "metadata": {},
   "source": [
    "# Question 4\n",
    "-----"
   ]
  },
  {
   "cell_type": "code",
   "execution_count": 1,
   "id": "3b0ddf5b-a047-4465-8501-ef62dd42e494",
   "metadata": {},
   "outputs": [],
   "source": [
    "from scipy.integrate import quad\n",
    "import math\n",
    "\n",
    "class normal:\n",
    "    def __init__(self, u, sigma):\n",
    "        self.u = u\n",
    "        self.sigma = sigma\n",
    "        self.root2pi = math.sqrt((2 * math.pi)) \n",
    "    \n",
    "    def normal_func(self, x):\n",
    "        return (1 / (self.sigma * self.root2pi)) * math.exp((-1 * pow((x - self.u), 2)) / (2 * pow(self.sigma, 2)))\n",
    "\n",
    "    def integrate(self, lower_limit, upper_limit):\n",
    "        result, error = quad(self.normal_func, lower_limit, upper_limit)\n",
    "        \n",
    "        return result\n",
    "\n",
    "    def locate(self, area):\n",
    "        fx = 0\n",
    "        x = -6\n",
    "        while fx < area:\n",
    "            fx = self.integrate(-6, x)\n",
    "            x = x + 0.00001\n",
    "            \n",
    "        return x"
   ]
  },
  {
   "cell_type": "code",
   "execution_count": 2,
   "id": "8d60c6db-6751-4d47-8bf7-3466af7bc7a2",
   "metadata": {},
   "outputs": [
    {
     "name": "stdout",
     "output_type": "stream",
     "text": [
      "2.053759999947009\n",
      "-2.326330000064751\n"
     ]
    }
   ],
   "source": [
    "z = normal(0, 1)\n",
    "loc_1 = z.locate(0.98)\n",
    "loc_2 = z.locate(0.01)\n",
    "print(loc_1)\n",
    "print(loc_2)"
   ]
  },
  {
   "cell_type": "markdown",
   "id": "fa8835d0-db8e-4eca-a7d3-1723f72fe36d",
   "metadata": {},
   "source": [
    "$$58.37 - 2.05\\sigma = \\mu$$\n",
    "\n",
    "$$2.32\\sigma + 40.85 = \\mu$$\n",
    "\n",
    "$$58.37 - 2.05\\sigma = 2.32\\sigma + 40.85 $$\n",
    "\n",
    "$$4.37\\sigma = 17.52$$\n",
    "\n",
    "$$\\sigma = 4$$\n",
    "\n",
    "$$\\mu = 58.37 - (2.05 * 4)$$\n",
    "\n",
    "$$\\mu = 50.17$$"
   ]
  }
 ],
 "metadata": {
  "kernelspec": {
   "display_name": "Python 3 (ipykernel)",
   "language": "python",
   "name": "python3"
  },
  "language_info": {
   "codemirror_mode": {
    "name": "ipython",
    "version": 3
   },
   "file_extension": ".py",
   "mimetype": "text/x-python",
   "name": "python",
   "nbconvert_exporter": "python",
   "pygments_lexer": "ipython3",
   "version": "3.12.1"
  }
 },
 "nbformat": 4,
 "nbformat_minor": 5
}

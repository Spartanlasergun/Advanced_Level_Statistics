{
 "cells": [
  {
   "cell_type": "markdown",
   "id": "cd223d1c-f22f-474a-878f-0586d534a93f",
   "metadata": {},
   "source": [
    "# Question 15\n",
    "-----"
   ]
  },
  {
   "cell_type": "code",
   "execution_count": 1,
   "id": "cace4f63-a76a-45a4-9911-66ddd54663d8",
   "metadata": {},
   "outputs": [],
   "source": [
    "import math\n",
    "\n",
    "class bino:\n",
    "    def __init__(self, n, p, q):\n",
    "        self.n = n\n",
    "        self.p = p\n",
    "        self.q = q\n",
    "        self.frequencies = []\n",
    "\n",
    "    def prob(self, r):\n",
    "        self.funk = ((math.factorial(self.n)) / (math.factorial(r) * math.factorial(((self.n)-r)))) * pow((self.q), ((self.n)-r)) * pow((self.p), r)\n",
    "        return self.funk\n",
    "\n",
    "    def freq(self, event, r):\n",
    "        event_prob = self.prob(r)\n",
    "        frequency = event_prob * event\n",
    "        frequency = round(frequency, 0)\n",
    "        return frequency"
   ]
  },
  {
   "cell_type": "code",
   "execution_count": 2,
   "id": "0cddc301-a83c-4373-9df3-e1b6f677d633",
   "metadata": {},
   "outputs": [
    {
     "name": "stdout",
     "output_type": "stream",
     "text": [
      "a) 0.31539455999999993\n"
     ]
    }
   ],
   "source": [
    "n = 8\n",
    "p = 0.6\n",
    "q = 1 - p\n",
    "bin_dist = bino(n, p, q)\n",
    "PXE6 = bin_dist.prob(6)\n",
    "PXE7 = bin_dist.prob(7)\n",
    "PXE8 = bin_dist.prob(8)\n",
    "PXGE6 = PXE6 + PXE7 + PXE8\n",
    "print(\"a) \" + str(PXGE6))"
   ]
  },
  {
   "cell_type": "code",
   "execution_count": 3,
   "id": "3951c85e-e623-4a5a-83d4-75824fad9376",
   "metadata": {},
   "outputs": [],
   "source": [
    "from scipy.integrate import quad\n",
    "import math\n",
    "\n",
    "class normal:\n",
    "    def __init__(self, u, sigma):\n",
    "        self.u = u\n",
    "        self.sigma = sigma\n",
    "        self.root2pi = math.sqrt((2 * math.pi)) \n",
    "    \n",
    "    def normal_func(self, x):\n",
    "        return (1 / (self.sigma * self.root2pi)) * math.exp((-1 * pow((x - self.u), 2)) / (2 * pow(self.sigma, 2)))\n",
    "\n",
    "    def integrate(self, lower_limit, upper_limit):\n",
    "        result, error = quad(self.normal_func, lower_limit, upper_limit)\n",
    "        \n",
    "        return result\n",
    "\n",
    "    def locate(self, area):\n",
    "        fx = 0\n",
    "        x = -6\n",
    "        while fx < area:\n",
    "            fx = self.integrate(-6, x)\n",
    "            x = x + 0.00001\n",
    "            \n",
    "        return x"
   ]
  },
  {
   "cell_type": "code",
   "execution_count": 4,
   "id": "0ca17b5c-ecaf-4f28-b595-9047cc7ffcfb",
   "metadata": {},
   "outputs": [
    {
     "name": "stdout",
     "output_type": "stream",
     "text": [
      "b) 0.3067156864775831\n"
     ]
    }
   ],
   "source": [
    "np = 8 * p\n",
    "npq = 8 * p * q\n",
    "std = math.sqrt(npq)\n",
    "dist = normal(np, std)\n",
    "b = dist.integrate(5.5, 100)\n",
    "print(\"b) \" + str(b))"
   ]
  },
  {
   "cell_type": "markdown",
   "id": "3e8e0bcd-5d94-42f3-9a65-04e6df09aaab",
   "metadata": {},
   "source": [
    "worse, as the distribution would be even futher from the requirements for a normal approximation"
   ]
  },
  {
   "cell_type": "code",
   "execution_count": 5,
   "id": "f462357c-3397-4c6c-b34e-853640097961",
   "metadata": {},
   "outputs": [
    {
     "name": "stdout",
     "output_type": "stream",
     "text": [
      "probability = 0.52460193029674\n"
     ]
    }
   ],
   "source": [
    "np = 100 * p\n",
    "npq = 100 * p * q\n",
    "std = math.sqrt(npq)\n",
    "dist = normal(np, std)\n",
    "prob = dist.integrate(59.5, 70.5)\n",
    "print(\"probability = \" + str(prob))"
   ]
  }
 ],
 "metadata": {
  "kernelspec": {
   "display_name": "Python 3 (ipykernel)",
   "language": "python",
   "name": "python3"
  },
  "language_info": {
   "codemirror_mode": {
    "name": "ipython",
    "version": 3
   },
   "file_extension": ".py",
   "mimetype": "text/x-python",
   "name": "python",
   "nbconvert_exporter": "python",
   "pygments_lexer": "ipython3",
   "version": "3.12.1"
  }
 },
 "nbformat": 4,
 "nbformat_minor": 5
}

{
 "cells": [
  {
   "cell_type": "markdown",
   "id": "5101ba4a-5bbf-47f0-8110-ac78f4d692ae",
   "metadata": {},
   "source": [
    "# Question 14\n",
    "-----"
   ]
  },
  {
   "cell_type": "code",
   "execution_count": 1,
   "id": "5f9a644c-fea1-46a3-a774-d9a817907eff",
   "metadata": {},
   "outputs": [],
   "source": [
    "from scipy.integrate import quad\n",
    "import math\n",
    "\n",
    "class normal:\n",
    "    def __init__(self, u, sigma):\n",
    "        self.u = u\n",
    "        self.sigma = sigma\n",
    "        self.root2pi = math.sqrt((2 * math.pi)) \n",
    "    \n",
    "    def normal_func(self, x):\n",
    "        return (1 / (self.sigma * self.root2pi)) * math.exp((-1 * pow((x - self.u), 2)) / (2 * pow(self.sigma, 2)))\n",
    "\n",
    "    def integrate(self, lower_limit, upper_limit):\n",
    "        result, error = quad(self.normal_func, lower_limit, upper_limit)\n",
    "        \n",
    "        return result\n",
    "\n",
    "    def locate(self, area):\n",
    "        fx = 0\n",
    "        x = -6\n",
    "        while fx < area:\n",
    "            fx = self.integrate(-6, x)\n",
    "            x = x + 0.00001\n",
    "            \n",
    "        return x"
   ]
  },
  {
   "cell_type": "code",
   "execution_count": 2,
   "id": "d5e5855c-6126-479d-9f93-5dbd151a811f",
   "metadata": {},
   "outputs": [
    {
     "name": "stdout",
     "output_type": "stream",
     "text": [
      "workers > 32 hours = 104.0\n"
     ]
    }
   ],
   "source": [
    "full_time = normal(40, 4.5)\n",
    "part_time = normal(20, 6.9)\n",
    "FG32 = full_time.integrate(32, 2000)\n",
    "FTworkers = FG32 * 100\n",
    "PG32 = part_time.integrate(32, 2000)\n",
    "PTworkers = PG32 * 200\n",
    "workers = FTworkers + PTworkers\n",
    "workers = round(workers, 0)\n",
    "print(\"workers > 32 hours = \" + str(workers))"
   ]
  },
  {
   "cell_type": "code",
   "execution_count": 3,
   "id": "c547b9e4-109f-4cb6-864b-795e43c2c09c",
   "metadata": {},
   "outputs": [
    {
     "name": "stdout",
     "output_type": "stream",
     "text": [
      "T1 = 33.003579999731365\n"
     ]
    }
   ],
   "source": [
    "z = normal(0, 1)\n",
    "loc = z.locate(0.06)\n",
    "T = (4.5 * loc) + 40\n",
    "print(\"T1 = \" + str(T))"
   ]
  },
  {
   "cell_type": "code",
   "execution_count": 4,
   "id": "597476d2-968a-4c4a-8d7d-d69c148f5a55",
   "metadata": {},
   "outputs": [
    {
     "name": "stdout",
     "output_type": "stream",
     "text": [
      "T2 = 32.97758899962655\n"
     ]
    }
   ],
   "source": [
    "loc = z.locate(0.97)\n",
    "T_2 = (6.9 * loc) + 20\n",
    "print(\"T2 = \" + str(T_2))"
   ]
  },
  {
   "cell_type": "code",
   "execution_count": 5,
   "id": "8a436c6f-e704-48fd-b6d1-f60fe2158643",
   "metadata": {},
   "outputs": [
    {
     "name": "stdout",
     "output_type": "stream",
     "text": [
      "2.1701099999477713\n",
      "0.9701099999402417\n"
     ]
    }
   ],
   "source": [
    "a1 = 1 - 0.015\n",
    "loc_1 = z.locate(a1)\n",
    "a2 = 1 - 0.166\n",
    "loc_2 = z.locate(a2)\n",
    "print(loc_1)\n",
    "print(loc_2)"
   ]
  },
  {
   "cell_type": "markdown",
   "id": "25e662a5-6118-4021-bd32-44851117b5de",
   "metadata": {},
   "source": [
    "$$1434 - 2.17\\sigma = \\mu$$\n",
    "\n",
    "$$1194 - 0.97\\sigma = \\mu$$\n",
    "\n",
    "$$1434 - 2.17\\sigma = 1194 - 0.97\\sigma$$\n",
    "\n",
    "$$1.2\\sigma = 240$$\n",
    "\n",
    "$$\\sigma = 200$$\n",
    "\n",
    "$$\\mu = (1434 - (2.17 * 200))$$\n",
    "\n",
    "$$\\mu = 1000$$"
   ]
  }
 ],
 "metadata": {
  "kernelspec": {
   "display_name": "Python 3 (ipykernel)",
   "language": "python",
   "name": "python3"
  },
  "language_info": {
   "codemirror_mode": {
    "name": "ipython",
    "version": 3
   },
   "file_extension": ".py",
   "mimetype": "text/x-python",
   "name": "python",
   "nbconvert_exporter": "python",
   "pygments_lexer": "ipython3",
   "version": "3.12.1"
  }
 },
 "nbformat": 4,
 "nbformat_minor": 5
}

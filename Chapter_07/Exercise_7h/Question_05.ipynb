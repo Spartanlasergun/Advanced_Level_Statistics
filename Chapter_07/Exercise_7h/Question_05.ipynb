{
 "cells": [
  {
   "cell_type": "markdown",
   "id": "d641ce31-76d7-4403-b5be-31b6cfadca4e",
   "metadata": {},
   "source": [
    "# Question 5\n",
    "-----"
   ]
  },
  {
   "cell_type": "code",
   "execution_count": 1,
   "id": "400a329e-d2b4-4548-b976-76683c8b423b",
   "metadata": {},
   "outputs": [],
   "source": [
    "from scipy.integrate import quad\n",
    "import math\n",
    "\n",
    "class normal:\n",
    "    def __init__(self, u, sigma):\n",
    "        self.u = u\n",
    "        self.sigma = sigma\n",
    "        self.root2pi = math.sqrt((2 * math.pi)) \n",
    "    \n",
    "    def normal_func(self, x):\n",
    "        return (1 / (self.sigma * self.root2pi)) * math.exp((-1 * pow((x - self.u), 2)) / (2 * pow(self.sigma, 2)))\n",
    "\n",
    "    def integrate(self, lower_limit, upper_limit):\n",
    "        result, error = quad(self.normal_func, lower_limit, upper_limit)\n",
    "        \n",
    "        return result\n",
    "\n",
    "    def locate(self, area):\n",
    "        fx = 0\n",
    "        x = -6\n",
    "        while fx < area:\n",
    "            fx = self.integrate(-6, x)\n",
    "            x = x + 0.00001\n",
    "            \n",
    "        return x"
   ]
  },
  {
   "cell_type": "code",
   "execution_count": 2,
   "id": "f8ee525e-c8fd-41b0-9a4f-ba1c5ac39868",
   "metadata": {},
   "outputs": [
    {
     "name": "stdout",
     "output_type": "stream",
     "text": [
      "a) (i) 0.006209665325776122\n"
     ]
    }
   ],
   "source": [
    "dist = normal(7.6, 0.16)\n",
    "a = dist.integrate(8, 200)\n",
    "print(\"a) (i) \" + str(a))"
   ]
  },
  {
   "cell_type": "code",
   "execution_count": 3,
   "id": "46c317a7-fceb-43dc-8939-2bf495221a2b",
   "metadata": {},
   "outputs": [
    {
     "name": "stdout",
     "output_type": "stream",
     "text": [
      "a) (ii) 0.5597637590707571\n"
     ]
    }
   ],
   "source": [
    "b = dist.integrate(7.5, 7.75)\n",
    "print(\"a) (ii) \" + str(b))"
   ]
  },
  {
   "cell_type": "code",
   "execution_count": 4,
   "id": "3cd76fd8-cedc-4e46-aaac-db9a690c828b",
   "metadata": {},
   "outputs": [
    {
     "name": "stdout",
     "output_type": "stream",
     "text": [
      "b) 7.494000000000837 meters\n"
     ]
    }
   ],
   "source": [
    "x = 0\n",
    "area = 0\n",
    "while area < 0.25:\n",
    "    area = dist.integrate(-100, x)\n",
    "    x = x + 0.001\n",
    "print(\"b) \" + str(x) + \" meters\")"
   ]
  },
  {
   "cell_type": "code",
   "execution_count": 5,
   "id": "0cd64a55-0d70-4941-aca5-22bcaa7c5829",
   "metadata": {},
   "outputs": [
    {
     "name": "stdout",
     "output_type": "stream",
     "text": [
      "c) 0.2703433360269546\n"
     ]
    }
   ],
   "source": [
    "z = normal(0, 1)\n",
    "area = 1 - 0.952\n",
    "loc = z.locate(area)\n",
    "sigma = (7.0 - 7.45) / loc\n",
    "print(\"c) \" + str(sigma))"
   ]
  },
  {
   "cell_type": "code",
   "execution_count": 6,
   "id": "f5899752-9757-4039-a370-0be1b4a3bd23",
   "metadata": {},
   "outputs": [
    {
     "name": "stdout",
     "output_type": "stream",
     "text": [
      "Choose Brian\n"
     ]
    }
   ],
   "source": [
    "Alan = dist.integrate(8, 200)\n",
    "dist_B = normal(7.45, sigma)\n",
    "Brian = dist_B.integrate(8, 200)\n",
    "if Alan > Brian:\n",
    "    print(\"Choose Alan\")\n",
    "else:\n",
    "    print(\"Choose Brian\")"
   ]
  }
 ],
 "metadata": {
  "kernelspec": {
   "display_name": "Python 3 (ipykernel)",
   "language": "python",
   "name": "python3"
  },
  "language_info": {
   "codemirror_mode": {
    "name": "ipython",
    "version": 3
   },
   "file_extension": ".py",
   "mimetype": "text/x-python",
   "name": "python",
   "nbconvert_exporter": "python",
   "pygments_lexer": "ipython3",
   "version": "3.12.1"
  }
 },
 "nbformat": 4,
 "nbformat_minor": 5
}

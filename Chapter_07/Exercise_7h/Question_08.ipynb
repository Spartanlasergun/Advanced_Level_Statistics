{
 "cells": [
  {
   "cell_type": "markdown",
   "id": "9e133833-9cf7-4bb9-bcb9-8c1ca66afcb3",
   "metadata": {},
   "source": [
    "# Question 8\n",
    "-----"
   ]
  },
  {
   "cell_type": "code",
   "execution_count": 1,
   "id": "f196270e-0672-4247-8ffd-3a55469aea6b",
   "metadata": {},
   "outputs": [],
   "source": [
    "from scipy.integrate import quad\n",
    "import math\n",
    "\n",
    "class normal:\n",
    "    def __init__(self, u, sigma):\n",
    "        self.u = u\n",
    "        self.sigma = sigma\n",
    "        self.root2pi = math.sqrt((2 * math.pi)) \n",
    "    \n",
    "    def normal_func(self, x):\n",
    "        return (1 / (self.sigma * self.root2pi)) * math.exp((-1 * pow((x - self.u), 2)) / (2 * pow(self.sigma, 2)))\n",
    "\n",
    "    def integrate(self, lower_limit, upper_limit):\n",
    "        result, error = quad(self.normal_func, lower_limit, upper_limit)\n",
    "        \n",
    "        return result\n",
    "\n",
    "    def locate(self, area):\n",
    "        fx = 0\n",
    "        x = -6\n",
    "        while fx < area:\n",
    "            fx = self.integrate(-6, x)\n",
    "            x = x + 0.00001\n",
    "            \n",
    "        return x"
   ]
  },
  {
   "cell_type": "code",
   "execution_count": 2,
   "id": "f48e3bde-8e60-4cb3-8e24-3ce9e6e25a65",
   "metadata": {},
   "outputs": [
    {
     "name": "stdout",
     "output_type": "stream",
     "text": [
      "a)(i) 0.04947146803364821\n"
     ]
    }
   ],
   "source": [
    "dist = normal(98.8, 2)\n",
    "ai = dist.integrate(0, 95.5)\n",
    "print(\"a)(i) \" + str(ai))"
   ]
  },
  {
   "cell_type": "code",
   "execution_count": 3,
   "id": "db4fc0ad-77a7-4e5f-ad94-3793ea2333f9",
   "metadata": {},
   "outputs": [
    {
     "name": "stdout",
     "output_type": "stream",
     "text": [
      "a)(ii) 4.809634401760296e-05\n"
     ]
    }
   ],
   "source": [
    "aii = dist.integrate(0, 91)\n",
    "print(\"a)(ii) \" + str(aii))"
   ]
  },
  {
   "cell_type": "markdown",
   "id": "f12b469b-a656-468d-a2a5-58ad52a54a6b",
   "metadata": {},
   "source": [
    "I, and II are not satisfied"
   ]
  },
  {
   "cell_type": "code",
   "execution_count": 4,
   "id": "fa4fd23f-936f-4004-8ddd-7aedaad870f0",
   "metadata": {},
   "outputs": [
    {
     "name": "stdout",
     "output_type": "stream",
     "text": [
      "b)(i) 105.29975000031175\n"
     ]
    }
   ],
   "source": [
    "z = normal(0, 1)\n",
    "loc = z.locate(0.025)\n",
    "mean = (loc * -5) + 95.5\n",
    "print(\"b)(i) \" + str(mean))"
   ]
  },
  {
   "cell_type": "code",
   "execution_count": null,
   "id": "40d6d9aa-fe9d-44f2-83c5-e6329cf8df3e",
   "metadata": {},
   "outputs": [],
   "source": [
    "loc = z.locate(0.001)\n",
    "mean = (loc * -5) + 91\n",
    "print(\"b)(ii) \" + str(mean))"
   ]
  },
  {
   "cell_type": "markdown",
   "id": "6e787bd2-983b-421d-9ba6-abf7e7b3a3df",
   "metadata": {},
   "source": [
    "smallest satisfactory mean for $\\sigma = 5$, is 106.45"
   ]
  },
  {
   "cell_type": "code",
   "execution_count": null,
   "id": "ce949af0-2583-42f0-aa75-2abf4bb7f08f",
   "metadata": {},
   "outputs": [],
   "source": [
    "loc_1 = z.locate(0.001)\n",
    "loc_2 = z.locate(0.025)\n",
    "print(loc_1)\n",
    "print(loc_2)"
   ]
  },
  {
   "cell_type": "markdown",
   "id": "b810ae66-96f5-4a7f-bc18-ace568798952",
   "metadata": {},
   "source": [
    "$$3.09\\sigma + 91 = \\mu$$\n",
    "\n",
    "$$1.96\\sigma + 95.5 = \\mu$$\n",
    "\n",
    "$$3.09\\sigma + 91 = 1.96\\sigma + 95.5$$\n",
    "\n",
    "$$1.13\\sigma = 4.5$$\n",
    "\n",
    "$$\\sigma = 3.98$$\n",
    "\n",
    "$$\\mu = (3.09 * 3.98) + 91$$\n",
    "\n",
    "$$\\mu = 103.2982$$"
   ]
  },
  {
   "cell_type": "markdown",
   "id": "29759e9b-4408-48dc-adfa-0cca4dccda04",
   "metadata": {},
   "source": [
    "c)(ii) machine is overdispensing, overhaul required"
   ]
  }
 ],
 "metadata": {
  "kernelspec": {
   "display_name": "Python 3 (ipykernel)",
   "language": "python",
   "name": "python3"
  },
  "language_info": {
   "codemirror_mode": {
    "name": "ipython",
    "version": 3
   },
   "file_extension": ".py",
   "mimetype": "text/x-python",
   "name": "python",
   "nbconvert_exporter": "python",
   "pygments_lexer": "ipython3",
   "version": "3.12.1"
  }
 },
 "nbformat": 4,
 "nbformat_minor": 5
}

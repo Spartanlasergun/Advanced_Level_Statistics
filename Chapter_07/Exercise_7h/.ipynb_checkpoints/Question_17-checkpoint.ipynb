{
 "cells": [
  {
   "cell_type": "markdown",
   "id": "3c63a023-680d-4782-9236-1c3581ff79e1",
   "metadata": {},
   "source": [
    "# Question 17\n",
    "-----"
   ]
  },
  {
   "cell_type": "markdown",
   "id": "09146c5f-2606-4f86-a612-c0acc9f5924a",
   "metadata": {},
   "source": [
    "a) the events are random, and the mean and variance are roughly equal"
   ]
  },
  {
   "cell_type": "code",
   "execution_count": 1,
   "id": "c409750f-ad0b-44c8-9582-a4be152e72fb",
   "metadata": {},
   "outputs": [],
   "source": [
    "import math\n",
    "\n",
    "class poisson:\n",
    "    def __init__(self, lamb):\n",
    "        self.lamb = lamb\n",
    "\n",
    "    def prob(self, x):\n",
    "        pois = math.exp(-self.lamb) * (pow(self.lamb, x) / math.factorial(x))\n",
    "        return pois\n",
    "\n",
    "    def freq(self, event, sample):\n",
    "        freq = self.prob(event) * sample \n",
    "        freq = round(freq, 0)\n",
    "        return freq"
   ]
  },
  {
   "cell_type": "code",
   "execution_count": 2,
   "id": "66061624-3a7e-464d-9f50-97fcd7de3cf8",
   "metadata": {},
   "outputs": [
    {
     "name": "stdout",
     "output_type": "stream",
     "text": [
      "b) 0.22367679808441346\n"
     ]
    }
   ],
   "source": [
    "dist = poisson(3.1)\n",
    "PXE3 = dist.prob(3)\n",
    "print(\"b) \" + str(PXE3))"
   ]
  },
  {
   "cell_type": "code",
   "execution_count": 3,
   "id": "d5c00beb-cdcb-4a77-900d-7372d550eb69",
   "metadata": {},
   "outputs": [
    {
     "name": "stdout",
     "output_type": "stream",
     "text": [
      "c) 0.5858869614156225\n"
     ]
    }
   ],
   "source": [
    "mean = 3.1  *2\n",
    "dist = poisson(mean)\n",
    "PXE0 = dist.prob(0)\n",
    "PXE1 = dist.prob(1)\n",
    "PXE2 = dist.prob(2)\n",
    "PXE3 = dist.prob(3)\n",
    "PXE4 = dist.prob(4)\n",
    "PXE5 = dist.prob(5)\n",
    "PXGE6 = 1 - (PXE0 + PXE1 + PXE2 + PXE3 + PXE4 + PXE5)\n",
    "print(\"c) \" + str(PXGE6))"
   ]
  },
  {
   "cell_type": "code",
   "execution_count": 4,
   "id": "dfa7b105-d5ac-4f3c-b9f2-67f893fd2598",
   "metadata": {},
   "outputs": [
    {
     "name": "stdout",
     "output_type": "stream",
     "text": [
      "d) 0.1193780602280255\n"
     ]
    }
   ],
   "source": [
    "mean = 7.9 + 3.1\n",
    "cdist = poisson(mean)\n",
    "PXE10 = cdist.prob(10)\n",
    "print(\"d) \" + str(PXE10))"
   ]
  },
  {
   "cell_type": "code",
   "execution_count": 5,
   "id": "7a7a5716-6d32-4324-ae24-b11a377ad432",
   "metadata": {},
   "outputs": [],
   "source": [
    "from scipy.integrate import quad\n",
    "import math\n",
    "\n",
    "class normal:\n",
    "    def __init__(self, u, sigma):\n",
    "        self.u = u\n",
    "        self.sigma = sigma\n",
    "        self.root2pi = math.sqrt((2 * math.pi)) \n",
    "    \n",
    "    def normal_func(self, x):\n",
    "        return (1 / (self.sigma * self.root2pi)) * math.exp((-1 * pow((x - self.u), 2)) / (2 * pow(self.sigma, 2)))\n",
    "\n",
    "    def integrate(self, lower_limit, upper_limit):\n",
    "        result, error = quad(self.normal_func, lower_limit, upper_limit)\n",
    "        \n",
    "        return result\n",
    "\n",
    "    def locate(self, area):\n",
    "        fx = 0\n",
    "        x = -6\n",
    "        while fx < area:\n",
    "            fx = self.integrate(-6, x)\n",
    "            x = x + 0.00001\n",
    "            \n",
    "        return x"
   ]
  },
  {
   "cell_type": "code",
   "execution_count": 6,
   "id": "635fe1df-cae3-42e8-9d53-57acb341c0ff",
   "metadata": {},
   "outputs": [
    {
     "name": "stdout",
     "output_type": "stream",
     "text": [
      "e) 0.6200805496034725\n"
     ]
    }
   ],
   "source": [
    "mean = (7.9 + 3.1) * 2\n",
    "std = math.sqrt(mean)\n",
    "dist = normal(mean, std)\n",
    "e = dist.integrate(15.5, 24.5) \n",
    "print(\"e) \" + str(e))"
   ]
  }
 ],
 "metadata": {
  "kernelspec": {
   "display_name": "Python 3 (ipykernel)",
   "language": "python",
   "name": "python3"
  },
  "language_info": {
   "codemirror_mode": {
    "name": "ipython",
    "version": 3
   },
   "file_extension": ".py",
   "mimetype": "text/x-python",
   "name": "python",
   "nbconvert_exporter": "python",
   "pygments_lexer": "ipython3",
   "version": "3.12.1"
  }
 },
 "nbformat": 4,
 "nbformat_minor": 5
}

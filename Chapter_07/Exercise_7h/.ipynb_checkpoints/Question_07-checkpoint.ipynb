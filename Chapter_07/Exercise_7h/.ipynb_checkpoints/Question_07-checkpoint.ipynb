{
 "cells": [
  {
   "cell_type": "markdown",
   "id": "61c44f26-2add-4f1f-a7da-e42c524d4ba1",
   "metadata": {},
   "source": [
    "# Question 7\n",
    "-----"
   ]
  },
  {
   "cell_type": "code",
   "execution_count": 1,
   "id": "088b3eaa-2644-4ff2-a667-51a43dd0462c",
   "metadata": {},
   "outputs": [],
   "source": [
    "from scipy.integrate import quad\n",
    "import math\n",
    "\n",
    "class normal:\n",
    "    def __init__(self, u, sigma):\n",
    "        self.u = u\n",
    "        self.sigma = sigma\n",
    "        self.root2pi = math.sqrt((2 * math.pi)) \n",
    "    \n",
    "    def normal_func(self, x):\n",
    "        return (1 / (self.sigma * self.root2pi)) * math.exp((-1 * pow((x - self.u), 2)) / (2 * pow(self.sigma, 2)))\n",
    "\n",
    "    def integrate(self, lower_limit, upper_limit):\n",
    "        result, error = quad(self.normal_func, lower_limit, upper_limit)\n",
    "        \n",
    "        return result\n",
    "\n",
    "    def locate(self, area):\n",
    "        fx = 0\n",
    "        x = -6\n",
    "        while fx < area:\n",
    "            fx = self.integrate(-6, x)\n",
    "            x = x + 0.00001\n",
    "            \n",
    "        return x"
   ]
  },
  {
   "cell_type": "code",
   "execution_count": 2,
   "id": "410516d5-4dae-4d59-aba9-a14e5a06953d",
   "metadata": {},
   "outputs": [
    {
     "name": "stdout",
     "output_type": "stream",
     "text": [
      "a) 1.2419330651552873%\n"
     ]
    }
   ],
   "source": [
    "sigma = math.sqrt(0.0004)\n",
    "thick = normal(5.5, sigma)\n",
    "sigma = math.sqrt(0.0025)\n",
    "dia = normal(8.54, sigma)\n",
    "a = thick.integrate(5.45, 5.55)\n",
    "a = 1 - a\n",
    "percent = a * 100\n",
    "print(\"a) \" + str(percent) + \"%\")"
   ]
  },
  {
   "cell_type": "code",
   "execution_count": 3,
   "id": "a4d778a6-63da-4064-9be8-4fb0a97feeb5",
   "metadata": {},
   "outputs": [
    {
     "name": "stdout",
     "output_type": "stream",
     "text": [
      "b) 53.593031911292584%\n"
     ]
    }
   ],
   "source": [
    "b = dia.integrate(8.45, 8.54)\n",
    "b = 1 - b\n",
    "percent = b * 100\n",
    "print(\"b) \" + str(percent) + \"%\")"
   ]
  },
  {
   "cell_type": "code",
   "execution_count": 4,
   "id": "ececcb90-ea1f-42e9-8e56-36d77616c186",
   "metadata": {},
   "outputs": [
    {
     "name": "stdout",
     "output_type": "stream",
     "text": [
      "c) 54.83496497644788%\n"
     ]
    }
   ],
   "source": [
    "AandB = a + b\n",
    "percent = AandB * 100\n",
    "print(\"c) \" + str(percent) + \"%\")"
   ]
  },
  {
   "cell_type": "code",
   "execution_count": 5,
   "id": "1c7c099a-61eb-4a1a-ae1d-190722b702b0",
   "metadata": {},
   "outputs": [],
   "source": [
    "import math\n",
    "\n",
    "class bino:\n",
    "    def __init__(self, n, p, q):\n",
    "        self.n = n\n",
    "        self.p = p\n",
    "        self.q = q\n",
    "        self.frequencies = []\n",
    "\n",
    "    def prob(self, r):\n",
    "        self.funk = ((math.factorial(self.n)) / (math.factorial(r) * math.factorial(((self.n)-r)))) * pow((self.q), ((self.n)-r)) * pow((self.p), r)\n",
    "        return self.funk\n",
    "\n",
    "    def freq(self, event, r):\n",
    "        event_prob = self.prob(r)\n",
    "        frequency = event_prob * event\n",
    "        frequency = round(frequency, 0)\n",
    "        return frequency"
   ]
  },
  {
   "cell_type": "code",
   "execution_count": 6,
   "id": "7599b9f3-7037-4b81-a68c-309015dd4884",
   "metadata": {},
   "outputs": [
    {
     "name": "stdout",
     "output_type": "stream",
     "text": [
      "P(X = 5) = 0.06183303694850305\n"
     ]
    }
   ],
   "source": [
    "p = 1 - AandB\n",
    "bin_dist = bino(6, p, AandB)\n",
    "PXE5 = bin_dist.prob(5)\n",
    "print(\"P(X = 5) = \" + str(PXE5))"
   ]
  }
 ],
 "metadata": {
  "kernelspec": {
   "display_name": "Python 3 (ipykernel)",
   "language": "python",
   "name": "python3"
  },
  "language_info": {
   "codemirror_mode": {
    "name": "ipython",
    "version": 3
   },
   "file_extension": ".py",
   "mimetype": "text/x-python",
   "name": "python",
   "nbconvert_exporter": "python",
   "pygments_lexer": "ipython3",
   "version": "3.12.1"
  }
 },
 "nbformat": 4,
 "nbformat_minor": 5
}

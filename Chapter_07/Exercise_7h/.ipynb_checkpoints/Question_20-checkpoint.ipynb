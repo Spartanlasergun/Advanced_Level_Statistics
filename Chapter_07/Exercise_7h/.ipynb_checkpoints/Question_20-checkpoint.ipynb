{
 "cells": [
  {
   "cell_type": "markdown",
   "id": "cbe231ba-5930-4f22-902d-b91d2e255142",
   "metadata": {},
   "source": [
    "# Question 20\n",
    "-----"
   ]
  },
  {
   "cell_type": "code",
   "execution_count": 1,
   "id": "a6d21d64-306b-4a4b-80dc-a0566dc6fb69",
   "metadata": {},
   "outputs": [],
   "source": [
    "from scipy.integrate import quad\n",
    "import math\n",
    "\n",
    "class normal:\n",
    "    def __init__(self, u, sigma):\n",
    "        self.u = u\n",
    "        self.sigma = sigma\n",
    "        self.root2pi = math.sqrt((2 * math.pi)) \n",
    "    \n",
    "    def normal_func(self, x):\n",
    "        return (1 / (self.sigma * self.root2pi)) * math.exp((-1 * pow((x - self.u), 2)) / (2 * pow(self.sigma, 2)))\n",
    "\n",
    "    def integrate(self, lower_limit, upper_limit):\n",
    "        result, error = quad(self.normal_func, lower_limit, upper_limit)\n",
    "        \n",
    "        return result\n",
    "\n",
    "    def locate(self, area):\n",
    "        fx = 0\n",
    "        x = -6\n",
    "        while fx < area:\n",
    "            fx = self.integrate(-6, x)\n",
    "            x = x + 0.00001\n",
    "            \n",
    "        return x"
   ]
  },
  {
   "cell_type": "code",
   "execution_count": 2,
   "id": "09d1097f-4886-4d9c-bb5e-07a02356f0e8",
   "metadata": {},
   "outputs": [
    {
     "name": "stdout",
     "output_type": "stream",
     "text": [
      "P(X < 1) = 0.006209665325776135\n"
     ]
    }
   ],
   "source": [
    "dist = normal(2, 0.4)\n",
    "prob = dist.integrate(-10, 1)\n",
    "print(\"P(X < 1) = \" + str(prob))"
   ]
  },
  {
   "cell_type": "code",
   "execution_count": 3,
   "id": "47068f9a-5a06-40a1-a88b-4105c9022b49",
   "metadata": {},
   "outputs": [
    {
     "name": "stdout",
     "output_type": "stream",
     "text": [
      "a) 0.9876192292919058\n"
     ]
    }
   ],
   "source": [
    "G1 = 1 - prob\n",
    "a = G1 * G1\n",
    "print(\"a) \" + str(a))"
   ]
  },
  {
   "cell_type": "code",
   "execution_count": 4,
   "id": "f2e3ce95-d01e-4e3b-91d6-01cd4542189e",
   "metadata": {},
   "outputs": [],
   "source": [
    "import math\n",
    "\n",
    "class bino:\n",
    "    def __init__(self, n, p, q):\n",
    "        self.n = n\n",
    "        self.p = p\n",
    "        self.q = q\n",
    "        self.frequencies = []\n",
    "\n",
    "    def prob(self, r):\n",
    "        self.funk = ((math.factorial(self.n)) / (math.factorial(r) * math.factorial(((self.n)-r)))) * pow((self.q), ((self.n)-r)) * pow((self.p), r)\n",
    "        return self.funk\n",
    "\n",
    "    def freq(self, event, r):\n",
    "        event_prob = self.prob(r)\n",
    "        frequency = event_prob * event\n",
    "        frequency = round(frequency, 0)\n",
    "        return frequency"
   ]
  },
  {
   "cell_type": "code",
   "execution_count": 5,
   "id": "cee63e6e-b5ca-4890-81c5-c8f6623b2e3b",
   "metadata": {},
   "outputs": [
    {
     "name": "stdout",
     "output_type": "stream",
     "text": [
      "P(X <= 3) = 0.6236866434690543\n"
     ]
    }
   ],
   "source": [
    "n = 500\n",
    "p = prob\n",
    "q = G1\n",
    "bin_dist = bino(n, p, q)\n",
    "PXE0 = bin_dist.prob(0)\n",
    "PXE1 = bin_dist.prob(1)\n",
    "PXE2 = bin_dist.prob(2)\n",
    "PXE3 = bin_dist.prob(3)\n",
    "PXLE3 = PXE0 + PXE1 + PXE2 + PXE3\n",
    "print(\"P(X <= 3) = \" + str(PXLE3))"
   ]
  },
  {
   "cell_type": "code",
   "execution_count": 6,
   "id": "9b07981e-c873-43ea-8b4f-20e5b540eeb5",
   "metadata": {},
   "outputs": [
    {
     "name": "stdout",
     "output_type": "stream",
     "text": [
      "c) 0.828125\n"
     ]
    }
   ],
   "source": [
    "n = 10\n",
    "p = dist.integrate(2, 100)\n",
    "q = 1 - p\n",
    "bin_dist = bino(n, p, q)\n",
    "PXE0 = bin_dist.prob(0)\n",
    "PXE1 = bin_dist.prob(1)\n",
    "PXE2 = bin_dist.prob(2)\n",
    "PXE3 = bin_dist.prob(3)\n",
    "PXGE4 = 1 - (PXE0 + PXE1 + PXE2 + PXE3)\n",
    "print(\"c) \" + str(PXGE4))"
   ]
  }
 ],
 "metadata": {
  "kernelspec": {
   "display_name": "Python 3 (ipykernel)",
   "language": "python",
   "name": "python3"
  },
  "language_info": {
   "codemirror_mode": {
    "name": "ipython",
    "version": 3
   },
   "file_extension": ".py",
   "mimetype": "text/x-python",
   "name": "python",
   "nbconvert_exporter": "python",
   "pygments_lexer": "ipython3",
   "version": "3.12.1"
  }
 },
 "nbformat": 4,
 "nbformat_minor": 5
}

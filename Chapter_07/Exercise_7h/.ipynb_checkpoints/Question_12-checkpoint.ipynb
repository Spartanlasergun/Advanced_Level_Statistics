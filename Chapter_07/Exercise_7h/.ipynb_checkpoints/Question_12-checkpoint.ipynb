{
 "cells": [
  {
   "cell_type": "markdown",
   "id": "f07152ac-f5b3-468a-8559-b96e3efdac31",
   "metadata": {},
   "source": [
    "# Question 12\n",
    "-----"
   ]
  },
  {
   "cell_type": "code",
   "execution_count": 1,
   "id": "6e870631-ce67-4298-ab34-a769be5421b3",
   "metadata": {},
   "outputs": [
    {
     "name": "stdout",
     "output_type": "stream",
     "text": [
      "Probability of germination = 0.5714285714285714\n"
     ]
    }
   ],
   "source": [
    "germination = (0.5 * (4/7)) + (0.6 * (2/7)) + (0.8 * (1/7))\n",
    "print(\"Probability of germination = \" + str(germination))"
   ]
  },
  {
   "cell_type": "code",
   "execution_count": 2,
   "id": "7fc70ccd-54b8-417e-8168-e232228c9707",
   "metadata": {},
   "outputs": [],
   "source": [
    "import math\n",
    "\n",
    "class bino:\n",
    "    def __init__(self, n, p, q):\n",
    "        self.n = n\n",
    "        self.p = p\n",
    "        self.q = q\n",
    "        self.frequencies = []\n",
    "\n",
    "    def prob(self, r):\n",
    "        self.funk = ((math.factorial(self.n)) / (math.factorial(r) * math.factorial(((self.n)-r)))) * pow((self.q), ((self.n)-r)) * pow((self.p), r)\n",
    "        return self.funk\n",
    "\n",
    "    def freq(self, event, r):\n",
    "        event_prob = self.prob(r)\n",
    "        frequency = event_prob * event\n",
    "        frequency = round(frequency, 0)\n",
    "        return frequency"
   ]
  },
  {
   "cell_type": "code",
   "execution_count": 3,
   "id": "66ffdbd2-8810-40df-9fb3-46b102f9e9fe",
   "metadata": {},
   "outputs": [
    {
     "name": "stdout",
     "output_type": "stream",
     "text": [
      "P(X = 2) = 0.3598500624739693\n"
     ]
    }
   ],
   "source": [
    "n = 4\n",
    "p = germination\n",
    "q = 1 - p\n",
    "bin_dist = bino(n, p, q)\n",
    "PXE2 = bin_dist.prob(2)\n",
    "print(\"P(X = 2) = \" + str(PXE2))"
   ]
  },
  {
   "cell_type": "code",
   "execution_count": 4,
   "id": "2731fefe-b25d-4988-a689-5df48d9d29f0",
   "metadata": {},
   "outputs": [],
   "source": [
    "from scipy.integrate import quad\n",
    "import math\n",
    "\n",
    "class normal:\n",
    "    def __init__(self, u, sigma):\n",
    "        self.u = u\n",
    "        self.sigma = sigma\n",
    "        self.root2pi = math.sqrt((2 * math.pi)) \n",
    "    \n",
    "    def normal_func(self, x):\n",
    "        return (1 / (self.sigma * self.root2pi)) * math.exp((-1 * pow((x - self.u), 2)) / (2 * pow(self.sigma, 2)))\n",
    "\n",
    "    def integrate(self, lower_limit, upper_limit):\n",
    "        result, error = quad(self.normal_func, lower_limit, upper_limit)\n",
    "        \n",
    "        return result\n",
    "\n",
    "    def locate(self, area):\n",
    "        fx = 0\n",
    "        x = -6\n",
    "        while fx < area:\n",
    "            fx = self.integrate(-6, x)\n",
    "            x = x + 0.00001\n",
    "            \n",
    "        return x"
   ]
  },
  {
   "cell_type": "code",
   "execution_count": 5,
   "id": "1dfc6e33-ca11-48c3-9d98-b33397d9c87b",
   "metadata": {},
   "outputs": [
    {
     "name": "stdout",
     "output_type": "stream",
     "text": [
      "P(X < 90) = 0.7338867975518684\n"
     ]
    }
   ],
   "source": [
    "np = 150 * p\n",
    "npq = 150 * p * q\n",
    "std = math.sqrt(npq)\n",
    "dist = normal(np, std)\n",
    "PXL90 = dist.integrate(-5000, 89.5)\n",
    "print(\"P(X < 90) = \" + str(PXL90))"
   ]
  }
 ],
 "metadata": {
  "kernelspec": {
   "display_name": "Python 3 (ipykernel)",
   "language": "python",
   "name": "python3"
  },
  "language_info": {
   "codemirror_mode": {
    "name": "ipython",
    "version": 3
   },
   "file_extension": ".py",
   "mimetype": "text/x-python",
   "name": "python",
   "nbconvert_exporter": "python",
   "pygments_lexer": "ipython3",
   "version": "3.12.1"
  }
 },
 "nbformat": 4,
 "nbformat_minor": 5
}

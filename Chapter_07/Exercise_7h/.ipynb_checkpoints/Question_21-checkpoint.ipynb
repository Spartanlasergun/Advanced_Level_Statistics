{
 "cells": [
  {
   "cell_type": "markdown",
   "id": "1c6f9239-cf88-428b-b72e-96be56bc0c9a",
   "metadata": {},
   "source": [
    "# Question 21\n",
    "-----"
   ]
  },
  {
   "cell_type": "markdown",
   "id": "04e0ecb4-02c5-4123-be2e-5c7fe9f3c46b",
   "metadata": {},
   "source": [
    "a) for a normal approximation to the binomial:\n",
    "\n",
    "$$np > 5$$\n",
    "\n",
    "$$nq > 5$$\n",
    "\n",
    "$$X \\sim B(np, npq)$$\n",
    "\n",
    "b) for a poisson approximation to the binomial:\n",
    "\n",
    "$$p < 0.1$$\n",
    "\n",
    "$$n > 50$$\n",
    "\n",
    "$$X \\sim Po(np)$$"
   ]
  },
  {
   "cell_type": "code",
   "execution_count": 1,
   "id": "bdf51979-defc-497f-a68f-ed10446e8138",
   "metadata": {},
   "outputs": [],
   "source": [
    "import math\n",
    "\n",
    "class bino:\n",
    "    def __init__(self, n, p, q):\n",
    "        self.n = n\n",
    "        self.p = p\n",
    "        self.q = q\n",
    "        self.frequencies = []\n",
    "\n",
    "    def prob(self, r):\n",
    "        self.funk = ((math.factorial(self.n)) / (math.factorial(r) * math.factorial(((self.n)-r)))) * pow((self.q), ((self.n)-r)) * pow((self.p), r)\n",
    "        return self.funk\n",
    "\n",
    "    def freq(self, event, r):\n",
    "        event_prob = self.prob(r)\n",
    "        frequency = event_prob * event\n",
    "        frequency = round(frequency, 0)\n",
    "        return frequency"
   ]
  },
  {
   "cell_type": "code",
   "execution_count": 2,
   "id": "664d40b6-0f9b-4149-a345-ded8feefa3b4",
   "metadata": {},
   "outputs": [
    {
     "name": "stdout",
     "output_type": "stream",
     "text": [
      "P(A >= 2) = 0.8585905950539047\n"
     ]
    }
   ],
   "source": [
    "n = 8\n",
    "p = 0.37\n",
    "q = 1 - p\n",
    "bin_dist = bino(n, p, q)\n",
    "PXE0 = bin_dist.prob(0)\n",
    "PXE1 = bin_dist.prob(1)\n",
    "PXGE2 = 1 - (PXE0 + PXE1)\n",
    "print(\"P(A >= 2) = \" + str(PXGE2))"
   ]
  },
  {
   "cell_type": "code",
   "execution_count": 3,
   "id": "e5921c91-3edd-436a-8278-dd098705bb7a",
   "metadata": {},
   "outputs": [],
   "source": [
    "from scipy.integrate import quad\n",
    "import math\n",
    "\n",
    "class normal:\n",
    "    def __init__(self, u, sigma):\n",
    "        self.u = u\n",
    "        self.sigma = sigma\n",
    "        self.root2pi = math.sqrt((2 * math.pi)) \n",
    "    \n",
    "    def normal_func(self, x):\n",
    "        return (1 / (self.sigma * self.root2pi)) * math.exp((-1 * pow((x - self.u), 2)) / (2 * pow(self.sigma, 2)))\n",
    "\n",
    "    def integrate(self, lower_limit, upper_limit):\n",
    "        result, error = quad(self.normal_func, lower_limit, upper_limit)\n",
    "        \n",
    "        return result\n",
    "\n",
    "    def locate(self, area):\n",
    "        fx = 0\n",
    "        x = -6\n",
    "        while fx < area:\n",
    "            fx = self.integrate(-6, x)\n",
    "            x = x + 0.00001\n",
    "            \n",
    "        return x"
   ]
  },
  {
   "cell_type": "code",
   "execution_count": 4,
   "id": "a4bb0500-bc47-415e-a613-7496dece93d2",
   "metadata": {},
   "outputs": [
    {
     "name": "stdout",
     "output_type": "stream",
     "text": [
      "c) 0.20242675178871608\n"
     ]
    }
   ],
   "source": [
    "n = 200\n",
    "p = 0.37 + 0.004\n",
    "q = 1 - p\n",
    "np = n * p\n",
    "npq = n * p * q\n",
    "std = math.sqrt(npq)\n",
    "dist = normal(np, std)\n",
    "c = dist.integrate(80.5, 1000)\n",
    "print(\"c) \" + str(c))"
   ]
  },
  {
   "cell_type": "code",
   "execution_count": 5,
   "id": "53eb18db-745f-49c0-81de-52aa951b1cab",
   "metadata": {},
   "outputs": [],
   "source": [
    "import math\n",
    "\n",
    "class poisson:\n",
    "    def __init__(self, lamb):\n",
    "        self.lamb = lamb\n",
    "\n",
    "    def prob(self, x):\n",
    "        pois = math.exp(-self.lamb) * (pow(self.lamb, x) / math.factorial(x))\n",
    "        return pois\n",
    "\n",
    "    def freq(self, event, sample):\n",
    "        freq = self.prob(event) * sample \n",
    "        freq = round(freq, 0)\n",
    "        return freq"
   ]
  },
  {
   "cell_type": "code",
   "execution_count": 6,
   "id": "16d0872b-dc1e-49e6-9a5a-8c28cb6f12d7",
   "metadata": {},
   "outputs": [
    {
     "name": "stdout",
     "output_type": "stream",
     "text": [
      "d) 0.03376896818565567\n"
     ]
    }
   ],
   "source": [
    "mean = 300 * 0.004\n",
    "dist = poisson(mean)\n",
    "PXE0 = dist.prob(0)\n",
    "PXE1 = dist.prob(1)\n",
    "PXE2 = dist.prob(2)\n",
    "PXE3 = dist.prob(3)\n",
    "PXGE4 = 1 - (PXE0 + PXE1 + PXE2 + PXE3)\n",
    "print(\"d) \" + str(PXGE4))"
   ]
  }
 ],
 "metadata": {
  "kernelspec": {
   "display_name": "Python 3 (ipykernel)",
   "language": "python",
   "name": "python3"
  },
  "language_info": {
   "codemirror_mode": {
    "name": "ipython",
    "version": 3
   },
   "file_extension": ".py",
   "mimetype": "text/x-python",
   "name": "python",
   "nbconvert_exporter": "python",
   "pygments_lexer": "ipython3",
   "version": "3.12.1"
  }
 },
 "nbformat": 4,
 "nbformat_minor": 5
}

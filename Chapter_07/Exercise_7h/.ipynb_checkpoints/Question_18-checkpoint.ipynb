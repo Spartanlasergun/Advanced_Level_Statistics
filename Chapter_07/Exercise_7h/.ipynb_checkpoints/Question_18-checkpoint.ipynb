{
 "cells": [
  {
   "cell_type": "markdown",
   "id": "ed8b62aa-5c8c-4714-bb89-4df65bb7990a",
   "metadata": {},
   "source": [
    "# Question 18\n",
    "-----"
   ]
  },
  {
   "cell_type": "code",
   "execution_count": 1,
   "id": "0bfc7615-9315-4216-a75f-b34d62421adb",
   "metadata": {},
   "outputs": [],
   "source": [
    "import math\n",
    "\n",
    "class bino:\n",
    "    def __init__(self, n, p, q):\n",
    "        self.n = n\n",
    "        self.p = p\n",
    "        self.q = q\n",
    "        self.frequencies = []\n",
    "\n",
    "    def prob(self, r):\n",
    "        self.funk = ((math.factorial(self.n)) / (math.factorial(r) * math.factorial(((self.n)-r)))) * pow((self.q), ((self.n)-r)) * pow((self.p), r)\n",
    "        return self.funk\n",
    "\n",
    "    def freq(self, event, r):\n",
    "        event_prob = self.prob(r)\n",
    "        frequency = event_prob * event\n",
    "        frequency = round(frequency, 0)\n",
    "        return frequency"
   ]
  },
  {
   "cell_type": "code",
   "execution_count": 2,
   "id": "b3b407cd-fd4b-4e2a-837c-3cf2627f6cfe",
   "metadata": {},
   "outputs": [
    {
     "name": "stdout",
     "output_type": "stream",
     "text": [
      "P(X >= 8) = 0.9884964426207031\n"
     ]
    }
   ],
   "source": [
    "n = 10\n",
    "p = 0.95\n",
    "q = 1 - p\n",
    "bin_dist = bino(n, p, q)\n",
    "PXE8 = bin_dist.prob(8)\n",
    "PXE9 = bin_dist.prob(9)\n",
    "PXE10 = bin_dist.prob(10)\n",
    "PXGE8 = PXE8 + PXE9 + PXE10\n",
    "print(\"P(X >= 8) = \" + str(PXGE8))"
   ]
  },
  {
   "cell_type": "code",
   "execution_count": 3,
   "id": "3a5e3c47-8604-466e-ac75-8652dd26a010",
   "metadata": {},
   "outputs": [
    {
     "name": "stdout",
     "output_type": "stream",
     "text": [
      "0.9025\n"
     ]
    }
   ],
   "source": [
    "PXE10G8 = (PXGE8 * 0.95 * 0.95) / PXGE8\n",
    "print(PXE10G8)"
   ]
  },
  {
   "cell_type": "code",
   "execution_count": 4,
   "id": "08b6c5ac-f5e3-4ca1-9f9c-46212aaeab30",
   "metadata": {},
   "outputs": [],
   "source": [
    "import math\n",
    "\n",
    "class poisson:\n",
    "    def __init__(self, lamb):\n",
    "        self.lamb = lamb\n",
    "\n",
    "    def prob(self, x):\n",
    "        pois = math.exp(-self.lamb) * (pow(self.lamb, x) / math.factorial(x))\n",
    "        return pois\n",
    "\n",
    "    def freq(self, event, sample):\n",
    "        freq = self.prob(event) * sample \n",
    "        freq = round(freq, 0)\n",
    "        return freq"
   ]
  },
  {
   "cell_type": "code",
   "execution_count": 5,
   "id": "b46efd1f-555d-4dab-a0bd-387e88bb376e",
   "metadata": {},
   "outputs": [
    {
     "name": "stdout",
     "output_type": "stream",
     "text": [
      "b) 0.84717542926913\n"
     ]
    }
   ],
   "source": [
    "mean = 300 * 0.05\n",
    "dist = poisson(mean)\n",
    "PXE10 = dist.prob(10)\n",
    "PXE11 = dist.prob(11)\n",
    "PXE12 = dist.prob(12)\n",
    "PXE13 = dist.prob(13)\n",
    "PXE14 = dist.prob(14)\n",
    "PXE15 = dist.prob(15)\n",
    "PXE16 = dist.prob(16)\n",
    "PXE17 = dist.prob(17)\n",
    "PXE18 = dist.prob(18)\n",
    "PXE19 = dist.prob(19)\n",
    "PXE20 = dist.prob(20)\n",
    "b = PXE10 + PXE11 + PXE12 + PXE13 + PXE14 + PXE15 + PXE16 + PXE17 + PXE18 + PXE19 + PXE20\n",
    "print(\"b) \" + str(b))"
   ]
  },
  {
   "cell_type": "code",
   "execution_count": 6,
   "id": "0ebf2060-2776-47ad-bb27-1f4aa938d988",
   "metadata": {},
   "outputs": [
    {
     "name": "stdout",
     "output_type": "stream",
     "text": [
      "P(X < 3) = 0.7835662832839588\n"
     ]
    }
   ],
   "source": [
    "p = 0.004\n",
    "q = 1 - p\n",
    "dist = bino(400, p, q)\n",
    "PXE0 = dist.prob(0)\n",
    "PXE1 = dist.prob(1)\n",
    "PXE2 = dist.prob(2)\n",
    "PXL3 = PXE0 + PXE1 + PXE2\n",
    "print(\"P(X < 3) = \" + str(PXL3))"
   ]
  }
 ],
 "metadata": {
  "kernelspec": {
   "display_name": "Python 3 (ipykernel)",
   "language": "python",
   "name": "python3"
  },
  "language_info": {
   "codemirror_mode": {
    "name": "ipython",
    "version": 3
   },
   "file_extension": ".py",
   "mimetype": "text/x-python",
   "name": "python",
   "nbconvert_exporter": "python",
   "pygments_lexer": "ipython3",
   "version": "3.12.1"
  }
 },
 "nbformat": 4,
 "nbformat_minor": 5
}

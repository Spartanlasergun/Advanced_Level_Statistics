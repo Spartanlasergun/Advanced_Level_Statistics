{
 "cells": [
  {
   "cell_type": "markdown",
   "id": "4f2ce9ca-9457-4c9b-9b64-8cdd0b75ac66",
   "metadata": {},
   "source": [
    "# Question 11\n",
    "-----"
   ]
  },
  {
   "cell_type": "code",
   "execution_count": 1,
   "id": "c7e81b71-c1de-430e-b146-f6c4e0d4869c",
   "metadata": {},
   "outputs": [],
   "source": [
    "import math\n",
    "\n",
    "class bino:\n",
    "    def __init__(self, n, p, q):\n",
    "        self.n = n\n",
    "        self.p = p\n",
    "        self.q = q\n",
    "        self.frequencies = []\n",
    "\n",
    "    def prob(self, r):\n",
    "        self.funk = ((math.factorial(self.n)) / (math.factorial(r) * math.factorial(((self.n)-r)))) * pow((self.q), ((self.n)-r)) * pow((self.p), r)\n",
    "        return self.funk\n",
    "\n",
    "    def freq(self, event, r):\n",
    "        event_prob = self.prob(r)\n",
    "        frequency = event_prob * event\n",
    "        frequency = round(frequency, 0)\n",
    "        return frequency"
   ]
  },
  {
   "cell_type": "code",
   "execution_count": 2,
   "id": "189dde77-b48c-4c32-bca2-bbf1afb64766",
   "metadata": {},
   "outputs": [
    {
     "name": "stdout",
     "output_type": "stream",
     "text": [
      "a)(i) 0.1968744043407226\n"
     ]
    }
   ],
   "source": [
    "n = 10\n",
    "p = 15/100\n",
    "q = 1 - p\n",
    "bin_dist = bino(n, p, q)\n",
    "ai = bin_dist.prob(0)\n",
    "print(\"a)(i) \" + str(ai))"
   ]
  },
  {
   "cell_type": "code",
   "execution_count": 3,
   "id": "537b5015-9b2c-4237-ba59-4ebae9f13fee",
   "metadata": {},
   "outputs": [
    {
     "name": "stdout",
     "output_type": "stream",
     "text": [
      "a)(ii) 0.820196480367578\n"
     ]
    }
   ],
   "source": [
    "PXE1 = bin_dist.prob(1)\n",
    "PXE2 = bin_dist.prob(2)\n",
    "aii = ai + PXE1 + PXE2\n",
    "print(\"a)(ii) \" + str(aii))"
   ]
  },
  {
   "cell_type": "code",
   "execution_count": 4,
   "id": "92a248e2-e9fa-4b03-90c5-ad2332847ebf",
   "metadata": {},
   "outputs": [
    {
     "name": "stdout",
     "output_type": "stream",
     "text": [
      "n = 18.433128268882708\n"
     ]
    }
   ],
   "source": [
    "n = math.log(0.05)/math.log(0.85)\n",
    "print(\"n = \" + str(n))"
   ]
  },
  {
   "cell_type": "markdown",
   "id": "94a83808-4e11-4744-8ce5-2dedc784d6db",
   "metadata": {},
   "source": [
    "hence, $$n \\ge 19$$ "
   ]
  },
  {
   "cell_type": "code",
   "execution_count": 5,
   "id": "5050d553-115a-4940-a9c1-b19b411b8c88",
   "metadata": {},
   "outputs": [],
   "source": [
    "from scipy.integrate import quad\n",
    "import math\n",
    "\n",
    "class normal:\n",
    "    def __init__(self, u, sigma):\n",
    "        self.u = u\n",
    "        self.sigma = sigma\n",
    "        self.root2pi = math.sqrt((2 * math.pi)) \n",
    "    \n",
    "    def normal_func(self, x):\n",
    "        return (1 / (self.sigma * self.root2pi)) * math.exp((-1 * pow((x - self.u), 2)) / (2 * pow(self.sigma, 2)))\n",
    "\n",
    "    def integrate(self, lower_limit, upper_limit):\n",
    "        result, error = quad(self.normal_func, lower_limit, upper_limit)\n",
    "        \n",
    "        return result\n",
    "\n",
    "    def locate(self, area):\n",
    "        fx = 0\n",
    "        x = -6\n",
    "        while fx < area:\n",
    "            fx = self.integrate(-6, x)\n",
    "            x = x + 0.00001\n",
    "            \n",
    "        return x"
   ]
  },
  {
   "cell_type": "code",
   "execution_count": 6,
   "id": "e0d51715-77f5-4bfc-b6ce-34caf5d7de01",
   "metadata": {},
   "outputs": [
    {
     "name": "stdout",
     "output_type": "stream",
     "text": [
      "c) 0.214145927722447\n"
     ]
    }
   ],
   "source": [
    "np = 50 * p\n",
    "npq = 50 * p * q\n",
    "std = math.sqrt(npq)\n",
    "dist = normal(np, std)\n",
    "c = dist.integrate(-500, 5.5)\n",
    "print(\"c) \" + str(c))"
   ]
  }
 ],
 "metadata": {
  "kernelspec": {
   "display_name": "Python 3 (ipykernel)",
   "language": "python",
   "name": "python3"
  },
  "language_info": {
   "codemirror_mode": {
    "name": "ipython",
    "version": 3
   },
   "file_extension": ".py",
   "mimetype": "text/x-python",
   "name": "python",
   "nbconvert_exporter": "python",
   "pygments_lexer": "ipython3",
   "version": "3.12.1"
  }
 },
 "nbformat": 4,
 "nbformat_minor": 5
}

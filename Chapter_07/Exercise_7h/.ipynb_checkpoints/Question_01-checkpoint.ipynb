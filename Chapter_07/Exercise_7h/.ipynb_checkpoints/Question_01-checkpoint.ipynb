{
 "cells": [
  {
   "cell_type": "markdown",
   "id": "58590f83-ad53-4e8e-9edb-5e94d0ca3784",
   "metadata": {},
   "source": [
    "# Question 1\n",
    "-----"
   ]
  },
  {
   "cell_type": "code",
   "execution_count": 1,
   "id": "29188046-c1c1-47a1-a4e5-a652d1871250",
   "metadata": {},
   "outputs": [],
   "source": [
    "from scipy.integrate import quad\n",
    "import math\n",
    "\n",
    "class normal:\n",
    "    def __init__(self, u, sigma):\n",
    "        self.u = u\n",
    "        self.sigma = sigma\n",
    "        self.root2pi = math.sqrt((2 * math.pi)) \n",
    "    \n",
    "    def normal_func(self, x):\n",
    "        return (1 / (self.sigma * self.root2pi)) * math.exp((-1 * pow((x - self.u), 2)) / (2 * pow(self.sigma, 2)))\n",
    "\n",
    "    def integrate(self, lower_limit, upper_limit):\n",
    "        result, error = quad(self.normal_func, lower_limit, upper_limit)\n",
    "        \n",
    "        return result\n",
    "\n",
    "    def locate(self, area):\n",
    "        fx = 0\n",
    "        x = -6\n",
    "        while fx < area:\n",
    "            fx = self.integrate(-6, x)\n",
    "            x = x + 0.00001\n",
    "            \n",
    "        return x"
   ]
  },
  {
   "cell_type": "code",
   "execution_count": 2,
   "id": "3b57d91e-7d30-416a-952a-75fe6f441787",
   "metadata": {},
   "outputs": [
    {
     "name": "stdout",
     "output_type": "stream",
     "text": [
      "a) 46.48351088971449%\n"
     ]
    }
   ],
   "source": [
    "dist = normal(0.8, 0.2)\n",
    "a = dist.integrate(0.65, 0.9)\n",
    "percent = a * 100\n",
    "print(\"a) \" + str(percent) + \"%\")"
   ]
  },
  {
   "cell_type": "code",
   "execution_count": 3,
   "id": "73be44bc-4b9b-4faa-a511-f9cb2195e9e6",
   "metadata": {},
   "outputs": [
    {
     "name": "stdout",
     "output_type": "stream",
     "text": [
      "b) 0.5318519999883412\n"
     ]
    }
   ],
   "source": [
    "z = normal(0, 1)\n",
    "loc = z.locate(0.09)\n",
    "height = (0.2 * loc) + 0.8\n",
    "print(\"b) \" + str(height))"
   ]
  },
  {
   "cell_type": "code",
   "execution_count": 4,
   "id": "0d0fffb8-da42-4420-86f4-acebef400249",
   "metadata": {},
   "outputs": [
    {
     "name": "stdout",
     "output_type": "stream",
     "text": [
      "c) 1.0036619999880452\n"
     ]
    }
   ],
   "source": [
    "MF = dist.integrate(0.9, 100)\n",
    "fast = MF/2\n",
    "area = 1 - fast\n",
    "loc = z.locate(area)\n",
    "height = (0.2 * loc) + 0.8\n",
    "print(\"c) \" + str(height))"
   ]
  }
 ],
 "metadata": {
  "kernelspec": {
   "display_name": "Python 3 (ipykernel)",
   "language": "python",
   "name": "python3"
  },
  "language_info": {
   "codemirror_mode": {
    "name": "ipython",
    "version": 3
   },
   "file_extension": ".py",
   "mimetype": "text/x-python",
   "name": "python",
   "nbconvert_exporter": "python",
   "pygments_lexer": "ipython3",
   "version": "3.12.1"
  }
 },
 "nbformat": 4,
 "nbformat_minor": 5
}

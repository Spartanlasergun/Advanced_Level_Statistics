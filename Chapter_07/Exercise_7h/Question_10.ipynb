{
 "cells": [
  {
   "cell_type": "markdown",
   "id": "5f81da51-a7e5-4ba5-a280-8fe14db1dc6f",
   "metadata": {},
   "source": [
    "# Question 10\n",
    "-----"
   ]
  },
  {
   "cell_type": "code",
   "execution_count": 1,
   "id": "44c780e1-8a8e-45f3-b62f-aed4938919ff",
   "metadata": {},
   "outputs": [],
   "source": [
    "import math\n",
    "\n",
    "class bino:\n",
    "    def __init__(self, n, p, q):\n",
    "        self.n = n\n",
    "        self.p = p\n",
    "        self.q = q\n",
    "        self.frequencies = []\n",
    "\n",
    "    def prob(self, r):\n",
    "        self.funk = ((math.factorial(self.n)) / (math.factorial(r) * math.factorial(((self.n)-r)))) * pow((self.q), ((self.n)-r)) * pow((self.p), r)\n",
    "        return self.funk\n",
    "\n",
    "    def freq(self, event, r):\n",
    "        event_prob = self.prob(r)\n",
    "        frequency = event_prob * event\n",
    "        frequency = round(frequency, 0)\n",
    "        return frequency"
   ]
  },
  {
   "cell_type": "code",
   "execution_count": 2,
   "id": "b76e19c1-0ef9-4c10-98b1-664d81a76def",
   "metadata": {},
   "outputs": [
    {
     "name": "stdout",
     "output_type": "stream",
     "text": [
      "a)(i) 0.2501388953190402\n"
     ]
    }
   ],
   "source": [
    "bin_dist = bino(14, 0.2, 0.8)\n",
    "PXE3 = bin_dist.prob(3)\n",
    "print(\"a)(i) \" + str(PXE3))"
   ]
  },
  {
   "cell_type": "code",
   "execution_count": 3,
   "id": "86ac79eb-da05-449c-aef6-d250485c6766",
   "metadata": {},
   "outputs": [
    {
     "name": "stdout",
     "output_type": "stream",
     "text": [
      "a)(ii) 0.7582335264358406\n"
     ]
    }
   ],
   "source": [
    "PXE2 = bin_dist.prob(2)\n",
    "PXE3 = bin_dist.prob(3)\n",
    "PXE4 = bin_dist.prob(4)\n",
    "PXE5 = bin_dist.prob(5)\n",
    "prob = PXE2 + PXE3 + PXE4 + PXE5\n",
    "print(\"a)(ii) \" + str(prob))"
   ]
  },
  {
   "cell_type": "code",
   "execution_count": 4,
   "id": "52aad055-0e04-4b1e-9160-b50e731710af",
   "metadata": {},
   "outputs": [
    {
     "name": "stdout",
     "output_type": "stream",
     "text": [
      "a)(iii) 0.002397208739839285\n"
     ]
    }
   ],
   "source": [
    "PXE0 = bin_dist.prob(0)\n",
    "PXE1 = bin_dist.prob(1)\n",
    "PXE6 = bin_dist.prob(6)\n",
    "PXE7 = bin_dist.prob(7)\n",
    "majority = 1 - (PXE0 + PXE1 + PXE2 + PXE3 + PXE4 + PXE5 + PXE6 + PXE7)\n",
    "print(\"a)(iii) \" + str(majority))"
   ]
  },
  {
   "cell_type": "code",
   "execution_count": 5,
   "id": "b7f766dc-c992-4a6e-ab8f-b799082cdb3c",
   "metadata": {},
   "outputs": [],
   "source": [
    "from scipy.integrate import quad\n",
    "import math\n",
    "\n",
    "class normal:\n",
    "    def __init__(self, u, sigma):\n",
    "        self.u = u\n",
    "        self.sigma = sigma\n",
    "        self.root2pi = math.sqrt((2 * math.pi)) \n",
    "    \n",
    "    def normal_func(self, x):\n",
    "        return (1 / (self.sigma * self.root2pi)) * math.exp((-1 * pow((x - self.u), 2)) / (2 * pow(self.sigma, 2)))\n",
    "\n",
    "    def integrate(self, lower_limit, upper_limit):\n",
    "        result, error = quad(self.normal_func, lower_limit, upper_limit)\n",
    "        \n",
    "        return result\n",
    "\n",
    "    def locate(self, area):\n",
    "        fx = 0\n",
    "        x = -6\n",
    "        while fx < area:\n",
    "            fx = self.integrate(-6, x)\n",
    "            x = x + 0.00001\n",
    "            \n",
    "        return x"
   ]
  },
  {
   "cell_type": "code",
   "execution_count": 6,
   "id": "37f155be-6196-405d-ab49-49fa81e31ee4",
   "metadata": {},
   "outputs": [
    {
     "name": "stdout",
     "output_type": "stream",
     "text": [
      "b) 0.043365432413771346\n"
     ]
    }
   ],
   "source": [
    "np = 90 * 0.2\n",
    "npq = 90 * 0.2 * 0.8\n",
    "std = math.sqrt(npq)\n",
    "dist = normal(np, std)\n",
    "b = dist.integrate(24.5, 1000)\n",
    "print(\"b) \" + str(b))"
   ]
  }
 ],
 "metadata": {
  "kernelspec": {
   "display_name": "Python 3 (ipykernel)",
   "language": "python",
   "name": "python3"
  },
  "language_info": {
   "codemirror_mode": {
    "name": "ipython",
    "version": 3
   },
   "file_extension": ".py",
   "mimetype": "text/x-python",
   "name": "python",
   "nbconvert_exporter": "python",
   "pygments_lexer": "ipython3",
   "version": "3.12.1"
  }
 },
 "nbformat": 4,
 "nbformat_minor": 5
}

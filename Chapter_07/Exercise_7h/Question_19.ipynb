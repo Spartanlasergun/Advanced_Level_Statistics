{
 "cells": [
  {
   "cell_type": "markdown",
   "id": "30aab49a-26f9-4846-ae28-329aff3e729c",
   "metadata": {},
   "source": [
    "# Question 19\n",
    "-----"
   ]
  },
  {
   "cell_type": "code",
   "execution_count": 1,
   "id": "4ccab54a-6634-4cc7-9bbc-9b6703b21896",
   "metadata": {},
   "outputs": [],
   "source": [
    "import math\n",
    "\n",
    "class bino:\n",
    "    def __init__(self, n, p, q):\n",
    "        self.n = n\n",
    "        self.p = p\n",
    "        self.q = q\n",
    "        self.frequencies = []\n",
    "\n",
    "    def prob(self, r):\n",
    "        self.funk = ((math.factorial(self.n)) / (math.factorial(r) * math.factorial(((self.n)-r)))) * pow((self.q), ((self.n)-r)) * pow((self.p), r)\n",
    "        return self.funk\n",
    "\n",
    "    def freq(self, event, r):\n",
    "        event_prob = self.prob(r)\n",
    "        frequency = event_prob * event\n",
    "        frequency = round(frequency, 0)\n",
    "        return frequency"
   ]
  },
  {
   "cell_type": "code",
   "execution_count": 2,
   "id": "d788f5f7-391a-4cc1-8e72-88b28be2d114",
   "metadata": {},
   "outputs": [
    {
     "name": "stdout",
     "output_type": "stream",
     "text": [
      "a) 0.6488340192043893\n"
     ]
    }
   ],
   "source": [
    "n = 6\n",
    "p = 1/3\n",
    "q = 1 - p\n",
    "bin_dist = bino(n, p, q)\n",
    "PXE0 = bin_dist.prob(0)\n",
    "PXE1 = bin_dist.prob(1)\n",
    "PXGE2 = 1 - (PXE0 + PXE1)\n",
    "print(\"a) \" + str(PXGE2))"
   ]
  },
  {
   "cell_type": "code",
   "execution_count": 3,
   "id": "c7e05f28-2e72-4eb8-81b4-b3ac858c81fc",
   "metadata": {},
   "outputs": [],
   "source": [
    "from scipy.integrate import quad\n",
    "import math\n",
    "\n",
    "class normal:\n",
    "    def __init__(self, u, sigma):\n",
    "        self.u = u\n",
    "        self.sigma = sigma\n",
    "        self.root2pi = math.sqrt((2 * math.pi)) \n",
    "    \n",
    "    def normal_func(self, x):\n",
    "        return (1 / (self.sigma * self.root2pi)) * math.exp((-1 * pow((x - self.u), 2)) / (2 * pow(self.sigma, 2)))\n",
    "\n",
    "    def integrate(self, lower_limit, upper_limit):\n",
    "        result, error = quad(self.normal_func, lower_limit, upper_limit)\n",
    "        \n",
    "        return result\n",
    "\n",
    "    def locate(self, area):\n",
    "        fx = 0\n",
    "        x = -6\n",
    "        while fx < area:\n",
    "            fx = self.integrate(-6, x)\n",
    "            x = x + 0.00001\n",
    "            \n",
    "        return x"
   ]
  },
  {
   "cell_type": "code",
   "execution_count": 4,
   "id": "031c9771-d0df-4274-a7dc-37bbd3fc2c57",
   "metadata": {},
   "outputs": [
    {
     "name": "stdout",
     "output_type": "stream",
     "text": [
      "b) 0.9650138417899322\n"
     ]
    }
   ],
   "source": [
    "np = 32 * p\n",
    "npq = 32 * p * q\n",
    "std = math.sqrt(npq)\n",
    "dist = normal(np, std)\n",
    "b = dist.integrate(0, 15.5)\n",
    "print(\"b) \" + str(b))"
   ]
  },
  {
   "cell_type": "code",
   "execution_count": 5,
   "id": "d7626bb7-dacb-418d-9c34-612797f65713",
   "metadata": {},
   "outputs": [],
   "source": [
    "import math\n",
    "\n",
    "class poisson:\n",
    "    def __init__(self, lamb):\n",
    "        self.lamb = lamb\n",
    "\n",
    "    def prob(self, x):\n",
    "        pois = math.exp(-self.lamb) * (pow(self.lamb, x) / math.factorial(x))\n",
    "        return pois\n",
    "\n",
    "    def freq(self, event, sample):\n",
    "        freq = self.prob(event) * sample \n",
    "        freq = round(freq, 0)\n",
    "        return freq"
   ]
  },
  {
   "cell_type": "code",
   "execution_count": 6,
   "id": "ba7cf734-b1e7-4f16-94ce-034ca47dada2",
   "metadata": {},
   "outputs": [
    {
     "name": "stdout",
     "output_type": "stream",
     "text": [
      "c) 0.3711630648201266\n"
     ]
    }
   ],
   "source": [
    "mean = 100 * (1/25)\n",
    "dist = poisson(mean)\n",
    "PXE0 = dist.prob(0)\n",
    "PXE1 = dist.prob(1)\n",
    "PXE2 = dist.prob(2)\n",
    "PXE3 = dist.prob(3)\n",
    "PXE4 = dist.prob(4)\n",
    "PXGE5 = 1 - (PXE0 + PXE1 + PXE2 + PXE3 + PXE4)\n",
    "print(\"c) \" + str(PXGE5))"
   ]
  }
 ],
 "metadata": {
  "kernelspec": {
   "display_name": "Python 3 (ipykernel)",
   "language": "python",
   "name": "python3"
  },
  "language_info": {
   "codemirror_mode": {
    "name": "ipython",
    "version": 3
   },
   "file_extension": ".py",
   "mimetype": "text/x-python",
   "name": "python",
   "nbconvert_exporter": "python",
   "pygments_lexer": "ipython3",
   "version": "3.12.1"
  }
 },
 "nbformat": 4,
 "nbformat_minor": 5
}

{
 "cells": [
  {
   "cell_type": "markdown",
   "id": "aaa90d82-9bed-4fd0-95b2-e57195e7f4af",
   "metadata": {},
   "source": [
    "# Question 3\n",
    "-----"
   ]
  },
  {
   "cell_type": "code",
   "execution_count": 1,
   "id": "2c927e06-79d7-40ad-8b44-30363821bc11",
   "metadata": {},
   "outputs": [],
   "source": [
    "from scipy.integrate import quad\n",
    "import math\n",
    "\n",
    "class normal:\n",
    "    def __init__(self, u, sigma):\n",
    "        self.u = u\n",
    "        self.sigma = sigma\n",
    "        self.root2pi = math.sqrt((2 * math.pi)) \n",
    "    \n",
    "    def normal_func(self, x):\n",
    "        return (1 / (self.sigma * self.root2pi)) * math.exp((-1 * pow((x - self.u), 2)) / (2 * pow(self.sigma, 2)))\n",
    "\n",
    "    def integrate(self, lower_limit, upper_limit):\n",
    "        result, error = quad(self.normal_func, lower_limit, upper_limit)\n",
    "        \n",
    "        return result"
   ]
  },
  {
   "cell_type": "code",
   "execution_count": 2,
   "id": "d501471c-0b38-4f38-951c-3e796c9517c3",
   "metadata": {},
   "outputs": [
    {
     "name": "stdout",
     "output_type": "stream",
     "text": [
      "sigma = 8.315514373967682\n"
     ]
    }
   ],
   "source": [
    "z = normal(0, 1)\n",
    "x = -6\n",
    "fx = 0\n",
    "area = 0.8\n",
    "while fx < area:\n",
    "    fx = z.integrate(-6, x)\n",
    "    x = x + 0.0001\n",
    "sigma = (340 - 333) / x\n",
    "print(\"sigma = \" + str(sigma))"
   ]
  },
  {
   "cell_type": "code",
   "execution_count": 3,
   "id": "19679a13-08cf-44ee-b2de-3f83a724f2d6",
   "metadata": {},
   "outputs": [
    {
     "name": "stdout",
     "output_type": "stream",
     "text": [
      "P(X < 330) = 35.913516153556834%\n"
     ]
    }
   ],
   "source": [
    "dist = normal(333, sigma)\n",
    "L330 = dist.integrate(0, 330)\n",
    "percent = 100 * L330\n",
    "print(\"P(X < 330) = \" + str(percent) + \"%\")"
   ]
  }
 ],
 "metadata": {
  "kernelspec": {
   "display_name": "Python 3 (ipykernel)",
   "language": "python",
   "name": "python3"
  },
  "language_info": {
   "codemirror_mode": {
    "name": "ipython",
    "version": 3
   },
   "file_extension": ".py",
   "mimetype": "text/x-python",
   "name": "python",
   "nbconvert_exporter": "python",
   "pygments_lexer": "ipython3",
   "version": "3.12.1"
  }
 },
 "nbformat": 4,
 "nbformat_minor": 5
}

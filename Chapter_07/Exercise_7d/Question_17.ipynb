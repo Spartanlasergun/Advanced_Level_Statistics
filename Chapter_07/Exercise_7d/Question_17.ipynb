{
 "cells": [
  {
   "cell_type": "markdown",
   "id": "909316e5-d94f-403f-9037-3d2129531b00",
   "metadata": {},
   "source": [
    "# Question 17\n",
    "-----"
   ]
  },
  {
   "cell_type": "code",
   "execution_count": 1,
   "id": "39ba7622-d0a6-4f1b-b63d-9b449a3cdef7",
   "metadata": {},
   "outputs": [],
   "source": [
    "from scipy.integrate import quad\n",
    "import math\n",
    "\n",
    "class normal:\n",
    "    def __init__(self, u, sigma):\n",
    "        self.u = u\n",
    "        self.sigma = sigma\n",
    "        self.root2pi = math.sqrt((2 * math.pi)) \n",
    "    \n",
    "    def normal_func(self, x):\n",
    "        return (1 / (self.sigma * self.root2pi)) * math.exp((-1 * pow((x - self.u), 2)) / (2 * pow(self.sigma, 2)))\n",
    "\n",
    "    def integrate(self, lower_limit, upper_limit):\n",
    "        result, error = quad(self.normal_func, lower_limit, upper_limit)\n",
    "        \n",
    "        return result\n",
    "\n",
    "    def locate(self, area):\n",
    "        fx = 0\n",
    "        x = -6\n",
    "        while fx < area:\n",
    "            fx = self.integrate(-6, x)\n",
    "            x = x + 0.00001\n",
    "            \n",
    "        return x"
   ]
  },
  {
   "cell_type": "code",
   "execution_count": 2,
   "id": "94403e19-bbcb-4e48-b8b6-681958290bb2",
   "metadata": {},
   "outputs": [
    {
     "name": "stdout",
     "output_type": "stream",
     "text": [
      "1.2399499999416776\n",
      "-1.6497100000603182\n"
     ]
    }
   ],
   "source": [
    "z = normal(0, 1)\n",
    "loc_1 = z.locate(0.8925)\n",
    "loc_2 = z.locate(0.0495)\n",
    "print(loc_1)\n",
    "print(loc_2)"
   ]
  },
  {
   "cell_type": "markdown",
   "id": "6b24322a-6372-4e71-9cf7-badb670d38de",
   "metadata": {},
   "source": [
    "$$5.205 - 1.24\\sigma = \\mu$$\n",
    "\n",
    "$$1.65\\sigma + 5.195 = \\mu$$\n",
    "\n",
    "$$5.205 - 1.24\\sigma = 1.65\\sigma + 5.195$$\n",
    "\n",
    "$$2.9\\sigma = 0.01$$\n",
    "\n",
    "$$\\sigma = 0.0034$$\n",
    "\n",
    "$$\\mu = (1.65 * 0.0034) + 5.195$$\n",
    "\n",
    "$$\\mu = 5.20061$$"
   ]
  },
  {
   "cell_type": "code",
   "execution_count": 3,
   "id": "5dc943c1-2ccc-4c6d-8927-6b18dc27189d",
   "metadata": {},
   "outputs": [
    {
     "name": "stdout",
     "output_type": "stream",
     "text": [
      "prob = 0.024871310254222588\n"
     ]
    }
   ],
   "source": [
    "dist = normal(5.20061, 0.0034)\n",
    "undersize = dist.integrate(0, 5.195)\n",
    "oversize = dist.integrate(5.205, 10)\n",
    "satisfactory = dist.integrate(5.195, 5.205)\n",
    "prob = undersize * oversize * satisfactory * math.factorial(3)\n",
    "print(\"prob = \" + str(prob))"
   ]
  }
 ],
 "metadata": {
  "kernelspec": {
   "display_name": "Python 3 (ipykernel)",
   "language": "python",
   "name": "python3"
  },
  "language_info": {
   "codemirror_mode": {
    "name": "ipython",
    "version": 3
   },
   "file_extension": ".py",
   "mimetype": "text/x-python",
   "name": "python",
   "nbconvert_exporter": "python",
   "pygments_lexer": "ipython3",
   "version": "3.12.1"
  }
 },
 "nbformat": 4,
 "nbformat_minor": 5
}

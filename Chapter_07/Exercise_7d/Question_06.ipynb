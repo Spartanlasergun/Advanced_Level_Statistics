{
 "cells": [
  {
   "cell_type": "markdown",
   "id": "51b9d4bb-4c38-4ccb-bef9-773a41125d7d",
   "metadata": {},
   "source": [
    "# Question 6\n",
    "-----"
   ]
  },
  {
   "cell_type": "code",
   "execution_count": 1,
   "id": "9349e896-9526-4b66-8812-8feff07fecba",
   "metadata": {},
   "outputs": [],
   "source": [
    "from scipy.integrate import quad\n",
    "import math\n",
    "\n",
    "class normal:\n",
    "    def __init__(self, u, sigma):\n",
    "        self.u = u\n",
    "        self.sigma = sigma\n",
    "        self.root2pi = math.sqrt((2 * math.pi)) \n",
    "    \n",
    "    def normal_func(self, x):\n",
    "        return (1 / (self.sigma * self.root2pi)) * math.exp((-1 * pow((x - self.u), 2)) / (2 * pow(self.sigma, 2)))\n",
    "\n",
    "    def integrate(self, lower_limit, upper_limit):\n",
    "        result, error = quad(self.normal_func, lower_limit, upper_limit)\n",
    "        \n",
    "        return result\n",
    "\n",
    "    def locate(self, area):\n",
    "        fx = 0\n",
    "        x = -6\n",
    "        while fx < area:\n",
    "            fx = self.integrate(-6, x)\n",
    "            x = x + 0.00001\n",
    "            \n",
    "        return x"
   ]
  },
  {
   "cell_type": "code",
   "execution_count": 2,
   "id": "ba478187-9d12-4fa7-877f-1f955d7de8fc",
   "metadata": {},
   "outputs": [
    {
     "name": "stdout",
     "output_type": "stream",
     "text": [
      "-1.9002400000619595\n",
      "2.280139999948492\n"
     ]
    }
   ],
   "source": [
    "z = normal(0, 1)\n",
    "loc_1 = z.locate(0.0287)\n",
    "loc_2 = z.locate((1 - 0.0113))\n",
    "print(loc_1)\n",
    "print(loc_2)"
   ]
  },
  {
   "cell_type": "markdown",
   "id": "19220b62-a3ce-42db-a635-13b99460b455",
   "metadata": {},
   "source": [
    "$$1.9\\sigma + 30 - \\mu = 0$$\n",
    "\n",
    "$$\\mu = 30 + 1.9\\sigma$$\n",
    "\n",
    "$$2.28\\sigma - 80 + \\mu = 0$$\n",
    "\n",
    "$$2.28\\sigma - 80 + 30 + 1.9\\sigma = 0$$\n",
    "\n",
    "$$4.18\\sigma = 50$$\n",
    "\n",
    "$$\\sigma = 131.6$$\n",
    "\n",
    "$$\\sigma = 11.96$$\n",
    "\n",
    "$$\\mu = 30 + (1.9 * 11.96)$$\n",
    "\n",
    "$$\\mu = 52.724$$"
   ]
  }
 ],
 "metadata": {
  "kernelspec": {
   "display_name": "Python 3 (ipykernel)",
   "language": "python",
   "name": "python3"
  },
  "language_info": {
   "codemirror_mode": {
    "name": "ipython",
    "version": 3
   },
   "file_extension": ".py",
   "mimetype": "text/x-python",
   "name": "python",
   "nbconvert_exporter": "python",
   "pygments_lexer": "ipython3",
   "version": "3.12.1"
  }
 },
 "nbformat": 4,
 "nbformat_minor": 5
}

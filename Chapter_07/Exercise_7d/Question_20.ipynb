{
 "cells": [
  {
   "cell_type": "markdown",
   "id": "0e295d1a-7785-4f14-b15a-82e1068652c5",
   "metadata": {},
   "source": [
    "# Question 20\n",
    "-----"
   ]
  },
  {
   "cell_type": "code",
   "execution_count": 1,
   "id": "d659770e-08e4-42e6-b6eb-3e3658ce6e66",
   "metadata": {},
   "outputs": [],
   "source": [
    "from scipy.integrate import quad\n",
    "import math\n",
    "\n",
    "class normal:\n",
    "    def __init__(self, u, sigma):\n",
    "        self.u = u\n",
    "        self.sigma = sigma\n",
    "        self.root2pi = math.sqrt((2 * math.pi)) \n",
    "    \n",
    "    def normal_func(self, x):\n",
    "        return (1 / (self.sigma * self.root2pi)) * math.exp((-1 * pow((x - self.u), 2)) / (2 * pow(self.sigma, 2)))\n",
    "\n",
    "    def integrate(self, lower_limit, upper_limit):\n",
    "        result, error = quad(self.normal_func, lower_limit, upper_limit)\n",
    "        \n",
    "        return result\n",
    "\n",
    "    def locate(self, area):\n",
    "        fx = 0\n",
    "        x = -6\n",
    "        while fx < area:\n",
    "            fx = self.integrate(-6, x)\n",
    "            x = x + 0.00001\n",
    "            \n",
    "        return x"
   ]
  },
  {
   "cell_type": "code",
   "execution_count": 2,
   "id": "f501683f-5229-4678-b194-d8373454364d",
   "metadata": {},
   "outputs": [
    {
     "name": "stdout",
     "output_type": "stream",
     "text": [
      "1.6448699999443304\n",
      "2.053759999947009\n"
     ]
    }
   ],
   "source": [
    "z = normal(0, 1)\n",
    "loc_1 = z.locate(0.95)\n",
    "loc_2 = z.locate(0.98)\n",
    "print(loc_1)\n",
    "print(loc_2)"
   ]
  },
  {
   "cell_type": "markdown",
   "id": "bfa01395-40cb-4777-a21f-27ce9367498c",
   "metadata": {},
   "source": [
    "$$510 - 1.65\\sigma = \\mu$$\n",
    "\n",
    "$$515 - 2.05\\sigma = \\mu$$\n",
    "\n",
    "$$510 - 1.65\\sigma = 515 - 2.05\\sigma$$\n",
    "\n",
    "$$0.4\\sigma = 5$$\n",
    "\n",
    "$$\\sigma = 12.5$$\n",
    "\n",
    "$$\\mu = 510 - (1.65 * 12.5)$$\n",
    "\n",
    "$$\\mu = 489.375$$"
   ]
  }
 ],
 "metadata": {
  "kernelspec": {
   "display_name": "Python 3 (ipykernel)",
   "language": "python",
   "name": "python3"
  },
  "language_info": {
   "codemirror_mode": {
    "name": "ipython",
    "version": 3
   },
   "file_extension": ".py",
   "mimetype": "text/x-python",
   "name": "python",
   "nbconvert_exporter": "python",
   "pygments_lexer": "ipython3",
   "version": "3.12.1"
  }
 },
 "nbformat": 4,
 "nbformat_minor": 5
}

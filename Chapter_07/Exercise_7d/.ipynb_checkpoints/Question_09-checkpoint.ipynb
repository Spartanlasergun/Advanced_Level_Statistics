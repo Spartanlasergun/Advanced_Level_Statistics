{
 "cells": [
  {
   "cell_type": "markdown",
   "id": "38872447-c4a3-4384-a749-d05f0969b6b2",
   "metadata": {},
   "source": [
    "# Question 9\n",
    "-----"
   ]
  },
  {
   "cell_type": "code",
   "execution_count": 1,
   "id": "ea0befdb-d552-4cda-8a0b-fca00ba62a10",
   "metadata": {},
   "outputs": [],
   "source": [
    "from scipy.integrate import quad\n",
    "import math\n",
    "\n",
    "class normal:\n",
    "    def __init__(self, u, sigma):\n",
    "        self.u = u\n",
    "        self.sigma = sigma\n",
    "        self.root2pi = math.sqrt((2 * math.pi)) \n",
    "    \n",
    "    def normal_func(self, x):\n",
    "        return (1 / (self.sigma * self.root2pi)) * math.exp((-1 * pow((x - self.u), 2)) / (2 * pow(self.sigma, 2)))\n",
    "\n",
    "    def integrate(self, lower_limit, upper_limit):\n",
    "        result, error = quad(self.normal_func, lower_limit, upper_limit)\n",
    "        \n",
    "        return result\n",
    "\n",
    "    def locate(self, area):\n",
    "        fx = 0\n",
    "        x = -6\n",
    "        while fx < area:\n",
    "            fx = self.integrate(-6, x)\n",
    "            x = x + 0.00001\n",
    "            \n",
    "        return x"
   ]
  },
  {
   "cell_type": "code",
   "execution_count": 2,
   "id": "7a1dae7e-264a-4f84-9f47-067b87aa5d97",
   "metadata": {},
   "outputs": [
    {
     "name": "stdout",
     "output_type": "stream",
     "text": [
      "-0.8416100000567827\n",
      "1.0364499999403445\n"
     ]
    }
   ],
   "source": [
    "z = normal(0, 1)\n",
    "loc_1 = z.locate(0.2)\n",
    "loc_2 = z.locate(0.85)\n",
    "print(loc_1)\n",
    "print(loc_2)"
   ]
  },
  {
   "cell_type": "markdown",
   "id": "ef69ec6b-3a92-4e76-880d-94dc4a4a42d8",
   "metadata": {},
   "source": [
    "$$0.84\\sigma + 35 = \\mu$$\n",
    "\n",
    "$$45 - 1.04\\sigma = \\mu$$\n",
    "\n",
    "$$0.84\\sigma + 35 = 45 - 1.04\\sigma$$\n",
    "\n",
    "$$1.88\\sigma = 10$$\n",
    "\n",
    "$$\\sigma = 5.32$$\n",
    "\n",
    "$$\\mu = (0.84 * 5.32) + 35$$\n",
    "\n",
    "$$\\mu = 39.5$$"
   ]
  }
 ],
 "metadata": {
  "kernelspec": {
   "display_name": "Python 3 (ipykernel)",
   "language": "python",
   "name": "python3"
  },
  "language_info": {
   "codemirror_mode": {
    "name": "ipython",
    "version": 3
   },
   "file_extension": ".py",
   "mimetype": "text/x-python",
   "name": "python",
   "nbconvert_exporter": "python",
   "pygments_lexer": "ipython3",
   "version": "3.12.1"
  }
 },
 "nbformat": 4,
 "nbformat_minor": 5
}

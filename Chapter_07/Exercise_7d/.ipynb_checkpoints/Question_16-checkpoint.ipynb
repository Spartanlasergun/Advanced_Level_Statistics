{
 "cells": [
  {
   "cell_type": "markdown",
   "id": "2c69bf52-f636-43ae-a4a6-0eac61920177",
   "metadata": {},
   "source": [
    "# Question 16\n",
    "-----"
   ]
  },
  {
   "cell_type": "code",
   "execution_count": 1,
   "id": "c9900780-d0a1-4615-bcc1-eb96d764ca4c",
   "metadata": {},
   "outputs": [],
   "source": [
    "from scipy.integrate import quad\n",
    "import math\n",
    "\n",
    "class normal:\n",
    "    def __init__(self, u, sigma):\n",
    "        self.u = u\n",
    "        self.sigma = sigma\n",
    "        self.root2pi = math.sqrt((2 * math.pi)) \n",
    "    \n",
    "    def normal_func(self, x):\n",
    "        return (1 / (self.sigma * self.root2pi)) * math.exp((-1 * pow((x - self.u), 2)) / (2 * pow(self.sigma, 2)))\n",
    "\n",
    "    def integrate(self, lower_limit, upper_limit):\n",
    "        result, error = quad(self.normal_func, lower_limit, upper_limit)\n",
    "        \n",
    "        return result\n",
    "\n",
    "    def locate(self, area):\n",
    "        fx = 0\n",
    "        x = -6\n",
    "        while fx < area:\n",
    "            fx = self.integrate(-6, x)\n",
    "            x = x + 0.00001\n",
    "            \n",
    "        return x"
   ]
  },
  {
   "cell_type": "code",
   "execution_count": 2,
   "id": "f6ee8aca-8676-41c4-8f23-981ec886ffda",
   "metadata": {},
   "outputs": [
    {
     "name": "stdout",
     "output_type": "stream",
     "text": [
      "a) 0.48751451274126684\n"
     ]
    }
   ],
   "source": [
    "dist = normal(283, 8)\n",
    "prob = dist.integrate(275, 286)\n",
    "print(\"a) \" + str(prob))"
   ]
  },
  {
   "cell_type": "code",
   "execution_count": 3,
   "id": "5ca53d26-8576-4004-af45-a7a942440130",
   "metadata": {},
   "outputs": [
    {
     "name": "stdout",
     "output_type": "stream",
     "text": [
      "-1.2815400000579062\n",
      "1.4395499999429853\n"
     ]
    }
   ],
   "source": [
    "z = normal(0, 1)\n",
    "loc_1 = z.locate(0.1)\n",
    "loc_2 = z.locate(0.925)\n",
    "print(loc_1)\n",
    "print(loc_2)"
   ]
  },
  {
   "cell_type": "markdown",
   "id": "0796bbca-3a59-4294-904c-4c33bb1b7089",
   "metadata": {},
   "source": [
    "$$1.28\\sigma + 274.6 = \\mu$$\n",
    "\n",
    "$$288.2 - 1.43\\sigma = \\mu$$\n",
    "\n",
    "$$1.28\\sigma + 274.6 = 288.2 - 1.43\\sigma$$\n",
    "\n",
    "$$2.71\\sigma = 13.6$$\n",
    "\n",
    "$$\\sigma = 5.02$$\n",
    "\n",
    "$$\\mu = (1.28 * 5.02) + 274.6$$\n",
    "\n",
    "$$\\mu = 281.0256$$"
   ]
  }
 ],
 "metadata": {
  "kernelspec": {
   "display_name": "Python 3 (ipykernel)",
   "language": "python",
   "name": "python3"
  },
  "language_info": {
   "codemirror_mode": {
    "name": "ipython",
    "version": 3
   },
   "file_extension": ".py",
   "mimetype": "text/x-python",
   "name": "python",
   "nbconvert_exporter": "python",
   "pygments_lexer": "ipython3",
   "version": "3.12.1"
  }
 },
 "nbformat": 4,
 "nbformat_minor": 5
}

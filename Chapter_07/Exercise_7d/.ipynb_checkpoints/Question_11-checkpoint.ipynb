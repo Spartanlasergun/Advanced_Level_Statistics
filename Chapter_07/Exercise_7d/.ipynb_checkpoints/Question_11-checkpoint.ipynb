{
 "cells": [
  {
   "cell_type": "markdown",
   "id": "1736fe42-35be-4754-9b03-e0205269e915",
   "metadata": {},
   "source": [
    "# Question 11\n",
    "-----"
   ]
  },
  {
   "cell_type": "code",
   "execution_count": 1,
   "id": "c1155364-30a6-48ac-80ad-911a441e8d69",
   "metadata": {},
   "outputs": [],
   "source": [
    "from scipy.integrate import quad\n",
    "import math\n",
    "\n",
    "class normal:\n",
    "    def __init__(self, u, sigma):\n",
    "        self.u = u\n",
    "        self.sigma = sigma\n",
    "        self.root2pi = math.sqrt((2 * math.pi)) \n",
    "    \n",
    "    def normal_func(self, x):\n",
    "        return (1 / (self.sigma * self.root2pi)) * math.exp((-1 * pow((x - self.u), 2)) / (2 * pow(self.sigma, 2)))\n",
    "\n",
    "    def integrate(self, lower_limit, upper_limit):\n",
    "        result, error = quad(self.normal_func, lower_limit, upper_limit)\n",
    "        \n",
    "        return result\n",
    "\n",
    "    def locate(self, area):\n",
    "        fx = 0\n",
    "        x = -6\n",
    "        while fx < area:\n",
    "            fx = self.integrate(-6, x)\n",
    "            x = x + 0.00001\n",
    "            \n",
    "        return x"
   ]
  },
  {
   "cell_type": "code",
   "execution_count": 2,
   "id": "602df6e0-46c8-470e-8752-99bf8c3c62fa",
   "metadata": {},
   "outputs": [
    {
     "name": "stdout",
     "output_type": "stream",
     "text": [
      "-0.12565000005796295\n",
      "1.2815699999419503\n"
     ]
    }
   ],
   "source": [
    "z = normal(0, 1)\n",
    "loc_1 = z.locate(0.45)\n",
    "loc_2 = z.locate(0.9)\n",
    "print(loc_1)\n",
    "print(loc_2)"
   ]
  },
  {
   "cell_type": "markdown",
   "id": "edbd99b2-4a3f-4bc1-b583-81b7ffb9e718",
   "metadata": {},
   "source": [
    "$$0.13\\sigma + 240 = \\mu$$\n",
    "\n",
    "$$250 - 1.28\\sigma = \\mu$$\n",
    "\n",
    "$$0.13\\sigma + 240 = 250 - 1.28\\sigma$$\n",
    "\n",
    "$$1.41\\sigma = 10$$\n",
    "\n",
    "$$\\sigma = 7.09$$\n",
    "\n",
    "$$\\mu = (0.13 * 7.09) + 240$$\n",
    "\n",
    "$$\\mu = 240.9217$$"
   ]
  },
  {
   "cell_type": "code",
   "execution_count": 3,
   "id": "7803f566-645a-407f-81c0-282573489430",
   "metadata": {},
   "outputs": [
    {
     "name": "stdout",
     "output_type": "stream",
     "text": [
      "P(X < 235) = 0.20179731448734936\n"
     ]
    }
   ],
   "source": [
    "dist = normal(240.9217, 7.09)\n",
    "prob = dist.integrate(0, 235)\n",
    "print(\"P(X < 235) = \" + str(prob))"
   ]
  }
 ],
 "metadata": {
  "kernelspec": {
   "display_name": "Python 3 (ipykernel)",
   "language": "python",
   "name": "python3"
  },
  "language_info": {
   "codemirror_mode": {
    "name": "ipython",
    "version": 3
   },
   "file_extension": ".py",
   "mimetype": "text/x-python",
   "name": "python",
   "nbconvert_exporter": "python",
   "pygments_lexer": "ipython3",
   "version": "3.12.1"
  }
 },
 "nbformat": 4,
 "nbformat_minor": 5
}

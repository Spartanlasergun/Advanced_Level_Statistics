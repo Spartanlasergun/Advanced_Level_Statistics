{
 "cells": [
  {
   "cell_type": "markdown",
   "id": "3d7e6935-d4e4-46ec-97b1-3e6d4d075bda",
   "metadata": {},
   "source": [
    "# Question 21\n",
    "-----"
   ]
  },
  {
   "cell_type": "code",
   "execution_count": 1,
   "id": "596f4563-1d1e-4782-9abb-8e4bd633e9b7",
   "metadata": {},
   "outputs": [],
   "source": [
    "from scipy.integrate import quad\n",
    "import math\n",
    "\n",
    "class normal:\n",
    "    def __init__(self, u, sigma):\n",
    "        self.u = u\n",
    "        self.sigma = sigma\n",
    "        self.root2pi = math.sqrt((2 * math.pi)) \n",
    "    \n",
    "    def normal_func(self, x):\n",
    "        return (1 / (self.sigma * self.root2pi)) * math.exp((-1 * pow((x - self.u), 2)) / (2 * pow(self.sigma, 2)))\n",
    "\n",
    "    def integrate(self, lower_limit, upper_limit):\n",
    "        result, error = quad(self.normal_func, lower_limit, upper_limit)\n",
    "        \n",
    "        return result\n",
    "\n",
    "    def locate(self, area):\n",
    "        fx = 0\n",
    "        x = -6\n",
    "        while fx < area:\n",
    "            fx = self.integrate(-6, x)\n",
    "            x = x + 0.00001\n",
    "        x = round(x, 9)\n",
    "        return x"
   ]
  },
  {
   "cell_type": "code",
   "execution_count": 2,
   "id": "5f8f44af-0fc0-4ec8-a199-2ac0ee9ad52c",
   "metadata": {},
   "outputs": [
    {
     "name": "stdout",
     "output_type": "stream",
     "text": [
      "2e-05\n",
      "1.28157\n"
     ]
    }
   ],
   "source": [
    "z = normal(0, 1)\n",
    "loc_1 = z.locate(0.5)\n",
    "loc_2 = z.locate(0.9)\n",
    "print(loc_1)\n",
    "print(loc_2)"
   ]
  },
  {
   "cell_type": "markdown",
   "id": "9bd29ce8-f7d4-4ec0-b951-104fcaca7842",
   "metadata": {},
   "source": [
    "$$30 - 0.000002\\sigma = \\mu$$\n",
    "\n",
    "$$55 - 1.28\\sigma = \\mu$$\n",
    "\n",
    "$$30 - 0.000002\\sigma = 55 - 1.28\\sigma$$\n",
    "\n",
    "$$1.28\\sigma = 25$$\n",
    "\n",
    "$$\\sigma = 19.53$$\n",
    "\n",
    "$$\\mu = 30$$"
   ]
  },
  {
   "cell_type": "markdown",
   "id": "565294c5-3a3a-4803-9041-6a0878099e6f",
   "metadata": {},
   "source": [
    "b) distribution is not symmetrical about the mean"
   ]
  },
  {
   "cell_type": "code",
   "execution_count": 3,
   "id": "5ac49a1d-b4fd-43ff-a1af-53f2fe5923e3",
   "metadata": {},
   "outputs": [
    {
     "name": "stdout",
     "output_type": "stream",
     "text": [
      "39.97418376337086% of employees\n"
     ]
    }
   ],
   "source": [
    "dist = normal(30, 19.53)\n",
    "prob = dist.integrate(30, 55)\n",
    "expected = prob * 100\n",
    "print(str(expected) + \"% of employees\")"
   ]
  }
 ],
 "metadata": {
  "kernelspec": {
   "display_name": "Python 3 (ipykernel)",
   "language": "python",
   "name": "python3"
  },
  "language_info": {
   "codemirror_mode": {
    "name": "ipython",
    "version": 3
   },
   "file_extension": ".py",
   "mimetype": "text/x-python",
   "name": "python",
   "nbconvert_exporter": "python",
   "pygments_lexer": "ipython3",
   "version": "3.12.1"
  }
 },
 "nbformat": 4,
 "nbformat_minor": 5
}

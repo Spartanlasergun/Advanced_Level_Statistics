{
 "cells": [
  {
   "cell_type": "markdown",
   "id": "1cde5863-2184-4b48-aa8f-b34d3453c64c",
   "metadata": {},
   "source": [
    "# Question 8\n",
    "-----"
   ]
  },
  {
   "cell_type": "code",
   "execution_count": 1,
   "id": "fcf5e23e-410b-444e-8aef-1fffb9e2e017",
   "metadata": {},
   "outputs": [],
   "source": [
    "from scipy.integrate import quad\n",
    "import math\n",
    "\n",
    "class normal:\n",
    "    def __init__(self, u, sigma):\n",
    "        self.u = u\n",
    "        self.sigma = sigma\n",
    "        self.root2pi = math.sqrt((2 * math.pi)) \n",
    "    \n",
    "    def normal_func(self, x):\n",
    "        return (1 / (self.sigma * self.root2pi)) * math.exp((-1 * pow((x - self.u), 2)) / (2 * pow(self.sigma, 2)))\n",
    "\n",
    "    def integrate(self, lower_limit, upper_limit):\n",
    "        result, error = quad(self.normal_func, lower_limit, upper_limit)\n",
    "        \n",
    "        return result\n",
    "\n",
    "    def locate(self, area):\n",
    "        fx = 0\n",
    "        x = -6\n",
    "        while fx < area:\n",
    "            fx = self.integrate(-6, x)\n",
    "            x = x + 0.00001\n",
    "            \n",
    "        return x"
   ]
  },
  {
   "cell_type": "code",
   "execution_count": 2,
   "id": "1371ac87-39e3-415f-bcd8-e4c0365b42ec",
   "metadata": {},
   "outputs": [
    {
     "name": "stdout",
     "output_type": "stream",
     "text": [
      "-2.053730000062965\n",
      "1.6448699999443304\n"
     ]
    }
   ],
   "source": [
    "z = normal(0, 1)\n",
    "loc_1 = z.locate(0.02)\n",
    "loc_2 = z.locate(0.95)\n",
    "print(loc_1)\n",
    "print(loc_2)"
   ]
  },
  {
   "cell_type": "markdown",
   "id": "61a8810c-fcb7-4879-a4b7-7238a51b897b",
   "metadata": {},
   "source": [
    "$$2.05\\sigma + 6.32 = \\mu$$\n",
    "\n",
    "$$7.52 - 1.65\\sigma = \\mu$$\n",
    "\n",
    "$$2.05\\sigma + 6.32 = 7.52 - 1.65\\sigma $$\n",
    "\n",
    "$$3.7\\sigma = 1.2$$\n",
    "\n",
    "$$\\sigma = 3$$\n",
    "\n",
    "$$\\sigma = 0.324$$\n",
    "\n",
    "$$\\mu = (2.05 * 0.324) + 6.32$$\n",
    "\n",
    "$$\\mu = 6.98$$"
   ]
  },
  {
   "cell_type": "code",
   "execution_count": 3,
   "id": "b8a0d468-82e8-4165-919c-32042cc5053e",
   "metadata": {},
   "outputs": [],
   "source": [
    "import math\n",
    "\n",
    "class bino:\n",
    "    def __init__(self, n, p, q):\n",
    "        self.n = n\n",
    "        self.p = p\n",
    "        self.q = q\n",
    "        self.frequencies = []\n",
    "\n",
    "    def prob(self, r):\n",
    "        self.funk = ((math.factorial(self.n)) / (math.factorial(r) * math.factorial(((self.n)-r)))) * pow((self.q), ((self.n)-r)) * pow((self.p), r)\n",
    "        return self.funk\n",
    "\n",
    "    def freq(self, event, r):\n",
    "        event_prob = self.prob(r)\n",
    "        frequency = event_prob * event\n",
    "        frequency = round(frequency, 0)\n",
    "        return frequency"
   ]
  },
  {
   "cell_type": "code",
   "execution_count": 4,
   "id": "d2cf2966-966b-41c0-9899-0ff931ea144d",
   "metadata": {},
   "outputs": [
    {
     "name": "stdout",
     "output_type": "stream",
     "text": [
      "P(X = 3) = 0.010475059441406248\n"
     ]
    }
   ],
   "source": [
    "bin_dist = bino(10, 0.05, 0.95)\n",
    "PXE3 = bin_dist.prob(3)\n",
    "print(\"P(X = 3) = \" + str(PXE3))"
   ]
  }
 ],
 "metadata": {
  "kernelspec": {
   "display_name": "Python 3 (ipykernel)",
   "language": "python",
   "name": "python3"
  },
  "language_info": {
   "codemirror_mode": {
    "name": "ipython",
    "version": 3
   },
   "file_extension": ".py",
   "mimetype": "text/x-python",
   "name": "python",
   "nbconvert_exporter": "python",
   "pygments_lexer": "ipython3",
   "version": "3.12.1"
  }
 },
 "nbformat": 4,
 "nbformat_minor": 5
}

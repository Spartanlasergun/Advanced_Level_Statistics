{
 "cells": [
  {
   "cell_type": "markdown",
   "id": "0492ef5d-ff9b-4ca5-a804-f9c807040450",
   "metadata": {},
   "source": [
    "# Question 15\n",
    "-----"
   ]
  },
  {
   "cell_type": "code",
   "execution_count": 1,
   "id": "63ac3e4f-9a17-404c-b663-bfc776caedd1",
   "metadata": {},
   "outputs": [],
   "source": [
    "from scipy.integrate import quad\n",
    "import math\n",
    "\n",
    "class normal:\n",
    "    def __init__(self, u, sigma):\n",
    "        self.u = u\n",
    "        self.sigma = sigma\n",
    "        self.root2pi = math.sqrt((2 * math.pi)) \n",
    "    \n",
    "    def normal_func(self, x):\n",
    "        return (1 / (self.sigma * self.root2pi)) * math.exp((-1 * pow((x - self.u), 2)) / (2 * pow(self.sigma, 2)))\n",
    "\n",
    "    def integrate(self, lower_limit, upper_limit):\n",
    "        result, error = quad(self.normal_func, lower_limit, upper_limit)\n",
    "        \n",
    "        return result\n",
    "\n",
    "    def locate(self, area):\n",
    "        fx = 0\n",
    "        x = -6\n",
    "        while fx < area:\n",
    "            fx = self.integrate(-6, x)\n",
    "            x = x + 0.00001\n",
    "            \n",
    "        return x"
   ]
  },
  {
   "cell_type": "code",
   "execution_count": 2,
   "id": "21f61321-cbcf-4ee0-ae5b-03bc732d90d7",
   "metadata": {},
   "outputs": [
    {
     "name": "stdout",
     "output_type": "stream",
     "text": [
      "std = 2084.028009251115\n"
     ]
    }
   ],
   "source": [
    "z = normal(0, 1)\n",
    "loc = z.locate(0.075)\n",
    "sigma = (25000 - 22000) / loc\n",
    "sigma = abs(sigma)\n",
    "print(\"std = \" + str(sigma))"
   ]
  },
  {
   "cell_type": "code",
   "execution_count": 3,
   "id": "25a516d4-fb83-4f94-ac25-75a7c8ad9866",
   "metadata": {},
   "outputs": [
    {
     "name": "stdout",
     "output_type": "stream",
     "text": [
      "tyres still going per 1000 = 235.83638845595183\n"
     ]
    }
   ],
   "source": [
    "dist = normal(25000, sigma)\n",
    "prob = dist.integrate(26500, 50000)\n",
    "working = prob * 1000\n",
    "print(\"tyres still going per 1000 = \" + str(working)) "
   ]
  }
 ],
 "metadata": {
  "kernelspec": {
   "display_name": "Python 3 (ipykernel)",
   "language": "python",
   "name": "python3"
  },
  "language_info": {
   "codemirror_mode": {
    "name": "ipython",
    "version": 3
   },
   "file_extension": ".py",
   "mimetype": "text/x-python",
   "name": "python",
   "nbconvert_exporter": "python",
   "pygments_lexer": "ipython3",
   "version": "3.12.1"
  }
 },
 "nbformat": 4,
 "nbformat_minor": 5
}

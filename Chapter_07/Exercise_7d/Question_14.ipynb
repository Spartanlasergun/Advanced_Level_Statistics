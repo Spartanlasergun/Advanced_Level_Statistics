{
 "cells": [
  {
   "cell_type": "markdown",
   "id": "3293d786-443e-4c8d-b2bc-4e2eca64a219",
   "metadata": {},
   "source": [
    "# Question 14\n",
    "-----"
   ]
  },
  {
   "cell_type": "code",
   "execution_count": 1,
   "id": "cdea4ff3-3592-404c-85e4-67fc35b6103b",
   "metadata": {},
   "outputs": [],
   "source": [
    "from scipy.integrate import quad\n",
    "import math\n",
    "\n",
    "class normal:\n",
    "    def __init__(self, u, sigma):\n",
    "        self.u = u\n",
    "        self.sigma = sigma\n",
    "        self.root2pi = math.sqrt((2 * math.pi)) \n",
    "    \n",
    "    def normal_func(self, x):\n",
    "        return (1 / (self.sigma * self.root2pi)) * math.exp((-1 * pow((x - self.u), 2)) / (2 * pow(self.sigma, 2)))\n",
    "\n",
    "    def integrate(self, lower_limit, upper_limit):\n",
    "        result, error = quad(self.normal_func, lower_limit, upper_limit)\n",
    "        \n",
    "        return result\n",
    "\n",
    "    def locate(self, area):\n",
    "        fx = 0\n",
    "        x = -6\n",
    "        while fx < area:\n",
    "            fx = self.integrate(-6, x)\n",
    "            x = x + 0.00001\n",
    "            \n",
    "        return x"
   ]
  },
  {
   "cell_type": "code",
   "execution_count": 2,
   "id": "5cf6faa8-bf33-4126-b176-c9ec4620d3fe",
   "metadata": {},
   "outputs": [
    {
     "name": "stdout",
     "output_type": "stream",
     "text": [
      "-1.7506700000609796\n",
      "1.880809999945876\n"
     ]
    }
   ],
   "source": [
    "z = normal(0, 1)\n",
    "loc_1 = z.locate(0.04)\n",
    "loc_2 = z.locate(0.97)\n",
    "print(loc_1)\n",
    "print(loc_2)"
   ]
  },
  {
   "cell_type": "markdown",
   "id": "afe99dca-1d87-4555-bea2-8909181f5738",
   "metadata": {},
   "source": [
    "$$1.75\\sigma + 53 = \\mu$$\n",
    "\n",
    "$$65 - 1.88\\sigma = \\mu$$\n",
    "\n",
    "$$1.75\\sigma + 53 = 65 - 1.88\\sigma$$\n",
    "\n",
    "$$3.63\\sigma = 12$$\n",
    "\n",
    "$$\\sigma = 3.31$$\n",
    "\n",
    "$$\\mu = (1.75 * 3.31) + 53$$\n",
    "\n",
    "$$\\mu = 58.8$$"
   ]
  },
  {
   "cell_type": "code",
   "execution_count": 3,
   "id": "2bd038a0-ecd3-4ddd-9cfe-ae5d912da3e7",
   "metadata": {},
   "outputs": [
    {
     "name": "stdout",
     "output_type": "stream",
     "text": [
      "interquartile range = 4.469999999999111\n"
     ]
    }
   ],
   "source": [
    "dist = normal(58.8, 3.31)\n",
    "x = 0\n",
    "fx = 0\n",
    "area = 0.25\n",
    "while fx < area:\n",
    "    fx = dist.integrate(0, x)\n",
    "    x = x + 0.01\n",
    "lower = x\n",
    "\n",
    "x = 0\n",
    "fx = 0\n",
    "area = 0.75\n",
    "while fx < area:\n",
    "    fx = dist.integrate(0, x)\n",
    "    x = x + 0.01\n",
    "upper = x\n",
    "\n",
    "intqrange = upper - lower\n",
    "print(\"interquartile range = \" + str(intqrange))"
   ]
  }
 ],
 "metadata": {
  "kernelspec": {
   "display_name": "Python 3 (ipykernel)",
   "language": "python",
   "name": "python3"
  },
  "language_info": {
   "codemirror_mode": {
    "name": "ipython",
    "version": 3
   },
   "file_extension": ".py",
   "mimetype": "text/x-python",
   "name": "python",
   "nbconvert_exporter": "python",
   "pygments_lexer": "ipython3",
   "version": "3.12.1"
  }
 },
 "nbformat": 4,
 "nbformat_minor": 5
}

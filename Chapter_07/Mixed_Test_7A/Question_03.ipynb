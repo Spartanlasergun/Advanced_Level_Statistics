{
 "cells": [
  {
   "cell_type": "markdown",
   "id": "3b946167-8d3a-41fa-b672-79157281b4e1",
   "metadata": {},
   "source": [
    "# Question 3\n",
    "-----"
   ]
  },
  {
   "cell_type": "code",
   "execution_count": 1,
   "id": "7b3f6102-4031-4ffa-b3db-ee93470ae729",
   "metadata": {},
   "outputs": [],
   "source": [
    "import math\n",
    "\n",
    "class bino:\n",
    "    def __init__(self, n, p, q):\n",
    "        self.n = n\n",
    "        self.p = p\n",
    "        self.q = q\n",
    "        self.frequencies = []\n",
    "\n",
    "    def prob(self, r):\n",
    "        self.funk = ((math.factorial(self.n)) / (math.factorial(r) * math.factorial(((self.n)-r)))) * pow((self.q), ((self.n)-r)) * pow((self.p), r)\n",
    "        return self.funk\n",
    "\n",
    "    def freq(self, event, r):\n",
    "        event_prob = self.prob(r)\n",
    "        frequency = event_prob * event\n",
    "        frequency = round(frequency, 0)\n",
    "        return frequency"
   ]
  },
  {
   "cell_type": "code",
   "execution_count": 2,
   "id": "8dc5cfd0-27af-4e34-9591-3f846d5f8934",
   "metadata": {},
   "outputs": [
    {
     "name": "stdout",
     "output_type": "stream",
     "text": [
      "a) 0.14880347999999993\n"
     ]
    }
   ],
   "source": [
    "n = 8\n",
    "p = 0.9\n",
    "q = 1 - p\n",
    "bin_dist = bino(n, p, q)\n",
    "PXE6 = bin_dist.prob(6)\n",
    "print(\"a) \" + str(PXE6))"
   ]
  },
  {
   "cell_type": "code",
   "execution_count": 3,
   "id": "5822987d-5c34-41d0-8bb6-b9fe6d4ac088",
   "metadata": {},
   "outputs": [
    {
     "name": "stdout",
     "output_type": "stream",
     "text": [
      "b) 0.011253134164508904\n"
     ]
    }
   ],
   "source": [
    "n = 20\n",
    "bin_dist = bino(n, p, q)\n",
    "PXE15 = bin_dist.prob(15)\n",
    "PXE16 = bin_dist.prob(16)\n",
    "PXE17 = bin_dist.prob(17)\n",
    "PXE18 = bin_dist.prob(18)\n",
    "PXE19 = bin_dist.prob(19)\n",
    "PXE20 = bin_dist.prob(20)\n",
    "PXL15 = 1 - (PXE15 + PXE16 + PXE17 + PXE18 + PXE19 + PXE20)\n",
    "print(\"b) \" + str(PXL15))"
   ]
  },
  {
   "cell_type": "code",
   "execution_count": 4,
   "id": "086cef60-39d4-469d-beb2-2d96e143d169",
   "metadata": {},
   "outputs": [],
   "source": [
    "from scipy.integrate import quad\n",
    "import math\n",
    "\n",
    "class normal:\n",
    "    def __init__(self, u, sigma):\n",
    "        self.u = u\n",
    "        self.sigma = sigma\n",
    "        self.root2pi = math.sqrt((2 * math.pi)) \n",
    "    \n",
    "    def normal_func(self, x):\n",
    "        return (1 / (self.sigma * self.root2pi)) * math.exp((-1 * pow((x - self.u), 2)) / (2 * pow(self.sigma, 2)))\n",
    "\n",
    "    def integrate(self, lower_limit, upper_limit):\n",
    "        result, error = quad(self.normal_func, lower_limit, upper_limit)\n",
    "        \n",
    "        return result\n",
    "\n",
    "    def locate(self, area):\n",
    "        fx = 0\n",
    "        x = -6\n",
    "        while fx < area:\n",
    "            fx = self.integrate(-6, x)\n",
    "            x = x + 0.00001\n",
    "            \n",
    "        return x"
   ]
  },
  {
   "cell_type": "code",
   "execution_count": 5,
   "id": "0fbe4a68-086c-4aa3-9ab1-7eba6986d571",
   "metadata": {},
   "outputs": [
    {
     "name": "stdout",
     "output_type": "stream",
     "text": [
      "c) 0.8555778168267578\n"
     ]
    }
   ],
   "source": [
    "n = 200\n",
    "np = n * p\n",
    "npq = n * p * q\n",
    "std = math.sqrt(npq)\n",
    "dist = normal(np, std)\n",
    "c = dist.integrate(0, 184.5)\n",
    "print(\"c) \" + str(c))"
   ]
  }
 ],
 "metadata": {
  "kernelspec": {
   "display_name": "Python 3 (ipykernel)",
   "language": "python",
   "name": "python3"
  },
  "language_info": {
   "codemirror_mode": {
    "name": "ipython",
    "version": 3
   },
   "file_extension": ".py",
   "mimetype": "text/x-python",
   "name": "python",
   "nbconvert_exporter": "python",
   "pygments_lexer": "ipython3",
   "version": "3.12.1"
  }
 },
 "nbformat": 4,
 "nbformat_minor": 5
}

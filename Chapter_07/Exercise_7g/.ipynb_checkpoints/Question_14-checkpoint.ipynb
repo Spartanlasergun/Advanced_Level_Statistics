{
 "cells": [
  {
   "cell_type": "markdown",
   "id": "de94324f-f41b-4313-935b-7702cb20e720",
   "metadata": {},
   "source": [
    "# Question 14\n",
    "-----"
   ]
  },
  {
   "cell_type": "markdown",
   "id": "efcfb5ca-d755-44e3-b9da-a61ad5edf06b",
   "metadata": {},
   "source": [
    "a) events must be random, and $\\lambda > 15$"
   ]
  },
  {
   "cell_type": "code",
   "execution_count": 1,
   "id": "fea40d8a-8e1f-4b14-bd55-a7f688c807ff",
   "metadata": {},
   "outputs": [],
   "source": [
    "import math\n",
    "\n",
    "class poisson:\n",
    "    def __init__(self, lamb):\n",
    "        self.lamb = lamb\n",
    "\n",
    "    def prob(self, x):\n",
    "        pois = math.exp(-self.lamb) * (pow(self.lamb, x) / math.factorial(x))\n",
    "        return pois\n",
    "\n",
    "    def freq(self, event, sample):\n",
    "        freq = self.prob(event) * sample \n",
    "        freq = round(freq, 0)\n",
    "        return freq"
   ]
  },
  {
   "cell_type": "code",
   "execution_count": 2,
   "id": "89992b36-d403-4f3f-a085-96cdf0735158",
   "metadata": {},
   "outputs": [
    {
     "name": "stdout",
     "output_type": "stream",
     "text": [
      "P(X > 7) = 0.13337167407000727\n"
     ]
    }
   ],
   "source": [
    "dist = poisson(5)\n",
    "PXE0 = dist.prob(0)\n",
    "PXE1 = dist.prob(1)\n",
    "PXE2 = dist.prob(2)\n",
    "PXE3 = dist.prob(3)\n",
    "PXE4 = dist.prob(4)\n",
    "PXE5 = dist.prob(5)\n",
    "PXE6 = dist.prob(6)\n",
    "PXE7 = dist.prob(7)\n",
    "PXG7 = 1 - (PXE0 + PXE1 + PXE2 + PXE3 + PXE4 + PXE5 + PXE6 + PXE7)\n",
    "print(\"P(X > 7) = \" + str(PXG7))"
   ]
  },
  {
   "cell_type": "code",
   "execution_count": 3,
   "id": "3b53d968-c915-486b-a9e8-a21a139a0391",
   "metadata": {},
   "outputs": [
    {
     "name": "stdout",
     "output_type": "stream",
     "text": [
      "smallest number of kettles = 11\n"
     ]
    }
   ],
   "source": [
    "x = -1\n",
    "prob = 0\n",
    "while prob < 0.99:\n",
    "    x = x + 1\n",
    "    calc = dist.prob(x)\n",
    "    prob = prob + calc\n",
    "print(\"smallest number of kettles = \" + str(x))"
   ]
  },
  {
   "cell_type": "code",
   "execution_count": 4,
   "id": "de2360a3-ec27-49e6-8f1f-eadd09a62483",
   "metadata": {},
   "outputs": [],
   "source": [
    "from scipy.integrate import quad\n",
    "import math\n",
    "\n",
    "class normal:\n",
    "    def __init__(self, u, sigma):\n",
    "        self.u = u\n",
    "        self.sigma = sigma\n",
    "        self.root2pi = math.sqrt((2 * math.pi)) \n",
    "    \n",
    "    def normal_func(self, x):\n",
    "        return (1 / (self.sigma * self.root2pi)) * math.exp((-1 * pow((x - self.u), 2)) / (2 * pow(self.sigma, 2)))\n",
    "\n",
    "    def integrate(self, lower_limit, upper_limit):\n",
    "        result, error = quad(self.normal_func, lower_limit, upper_limit)\n",
    "        \n",
    "        return result\n",
    "\n",
    "    def locate(self, area):\n",
    "        fx = 0\n",
    "        x = -6\n",
    "        while fx < area:\n",
    "            fx = self.integrate(-6, x)\n",
    "            x = x + 0.00001\n",
    "            \n",
    "        return x"
   ]
  },
  {
   "cell_type": "code",
   "execution_count": 5,
   "id": "446e0d0f-21ea-47f1-8909-20d395448cbd",
   "metadata": {},
   "outputs": [
    {
     "name": "stdout",
     "output_type": "stream",
     "text": [
      "d) 0.7119249389847107\n"
     ]
    }
   ],
   "source": [
    "mean = 5 * 4\n",
    "std = math.sqrt(mean)\n",
    "dist = normal(mean, std)\n",
    "d = dist.integrate(17.5, 300)\n",
    "print(\"d) \" + str(d))"
   ]
  }
 ],
 "metadata": {
  "kernelspec": {
   "display_name": "Python 3 (ipykernel)",
   "language": "python",
   "name": "python3"
  },
  "language_info": {
   "codemirror_mode": {
    "name": "ipython",
    "version": 3
   },
   "file_extension": ".py",
   "mimetype": "text/x-python",
   "name": "python",
   "nbconvert_exporter": "python",
   "pygments_lexer": "ipython3",
   "version": "3.12.1"
  }
 },
 "nbformat": 4,
 "nbformat_minor": 5
}

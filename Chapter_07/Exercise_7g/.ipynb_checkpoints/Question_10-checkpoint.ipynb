{
 "cells": [
  {
   "cell_type": "markdown",
   "id": "ab182570-5647-4858-93fd-e8f4e4fbf8ca",
   "metadata": {},
   "source": [
    "# Question 10\n",
    "-----"
   ]
  },
  {
   "cell_type": "code",
   "execution_count": 1,
   "id": "f38e6142-adf3-4450-8028-9cbe53274743",
   "metadata": {},
   "outputs": [],
   "source": [
    "import math\n",
    "\n",
    "class poisson:\n",
    "    def __init__(self, lamb):\n",
    "        self.lamb = lamb\n",
    "\n",
    "    def prob(self, x):\n",
    "        pois = math.exp(-self.lamb) * (pow(self.lamb, x) / math.factorial(x))\n",
    "        return pois\n",
    "\n",
    "    def freq(self, event, sample):\n",
    "        freq = self.prob(event) * sample \n",
    "        freq = round(freq, 0)\n",
    "        return freq"
   ]
  },
  {
   "cell_type": "code",
   "execution_count": 2,
   "id": "d9e568de-70d1-40b8-b7d3-bb07cff8a8aa",
   "metadata": {},
   "outputs": [
    {
     "name": "stdout",
     "output_type": "stream",
     "text": [
      "a) 0.19914827347145578\n"
     ]
    }
   ],
   "source": [
    "dist = poisson(3)\n",
    "PXE0 = dist.prob(0)\n",
    "PXE1 = dist.prob(1)\n",
    "PXL2 = PXE0 + PXE1\n",
    "print(\"a) \" + str(PXL2))"
   ]
  },
  {
   "cell_type": "code",
   "execution_count": 3,
   "id": "c010b4e1-7d79-4696-8eb2-966810a47adb",
   "metadata": {},
   "outputs": [
    {
     "name": "stdout",
     "output_type": "stream",
     "text": [
      "b) 0.18473675547622792\n"
     ]
    }
   ],
   "source": [
    "PXE2 = dist.prob(2)\n",
    "PXE3 = dist.prob(3)\n",
    "PXE4 = dist.prob(4)\n",
    "PXG4 = 1 - (PXE0 + PXE1 + PXE2 + PXE3 + PXE4)\n",
    "print(\"b) \" + str(PXG4))"
   ]
  },
  {
   "cell_type": "code",
   "execution_count": 4,
   "id": "9029f816-5baf-4000-b0b7-221b41703274",
   "metadata": {},
   "outputs": [],
   "source": [
    "from scipy.integrate import quad\n",
    "import math\n",
    "\n",
    "class normal:\n",
    "    def __init__(self, u, sigma):\n",
    "        self.u = u\n",
    "        self.sigma = sigma\n",
    "        self.root2pi = math.sqrt((2 * math.pi)) \n",
    "    \n",
    "    def normal_func(self, x):\n",
    "        return (1 / (self.sigma * self.root2pi)) * math.exp((-1 * pow((x - self.u), 2)) / (2 * pow(self.sigma, 2)))\n",
    "\n",
    "    def integrate(self, lower_limit, upper_limit):\n",
    "        result, error = quad(self.normal_func, lower_limit, upper_limit)\n",
    "        \n",
    "        return result\n",
    "\n",
    "    def locate(self, area):\n",
    "        fx = 0\n",
    "        x = -6\n",
    "        while fx < area:\n",
    "            fx = self.integrate(-6, x)\n",
    "            x = x + 0.00001\n",
    "            \n",
    "        return x"
   ]
  },
  {
   "cell_type": "code",
   "execution_count": 5,
   "id": "07bef727-66ba-48b4-9e1d-ed84a5b26d83",
   "metadata": {},
   "outputs": [
    {
     "name": "stdout",
     "output_type": "stream",
     "text": [
      "c) 0.869705482863191\n"
     ]
    }
   ],
   "source": [
    "mean = 144\n",
    "std = math.sqrt(mean)\n",
    "dist = normal(mean, std)\n",
    "c = dist.integrate(130.5, 600)\n",
    "print(\"c) \" + str(c))"
   ]
  }
 ],
 "metadata": {
  "kernelspec": {
   "display_name": "Python 3 (ipykernel)",
   "language": "python",
   "name": "python3"
  },
  "language_info": {
   "codemirror_mode": {
    "name": "ipython",
    "version": 3
   },
   "file_extension": ".py",
   "mimetype": "text/x-python",
   "name": "python",
   "nbconvert_exporter": "python",
   "pygments_lexer": "ipython3",
   "version": "3.12.1"
  }
 },
 "nbformat": 4,
 "nbformat_minor": 5
}

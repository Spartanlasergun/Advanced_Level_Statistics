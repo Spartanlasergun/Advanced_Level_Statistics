{
 "cells": [
  {
   "cell_type": "markdown",
   "id": "0df037c1-ecea-4b14-90e4-5bfac61a3130",
   "metadata": {},
   "source": [
    "# Question 13\n",
    "-----"
   ]
  },
  {
   "cell_type": "code",
   "execution_count": 1,
   "id": "adaf1a27-11bb-43c0-ab8b-9643ac7a93c4",
   "metadata": {},
   "outputs": [],
   "source": [
    "import math\n",
    "\n",
    "class poisson:\n",
    "    def __init__(self, lamb):\n",
    "        self.lamb = lamb\n",
    "\n",
    "    def prob(self, x):\n",
    "        pois = math.exp(-self.lamb) * (pow(self.lamb, x) / math.factorial(x))\n",
    "        return pois\n",
    "\n",
    "    def freq(self, event, sample):\n",
    "        freq = self.prob(event) * sample \n",
    "        freq = round(freq, 0)\n",
    "        return freq"
   ]
  },
  {
   "cell_type": "code",
   "execution_count": 2,
   "id": "5a49c906-954b-4ca9-87c5-fdd92ccd66f3",
   "metadata": {},
   "outputs": [
    {
     "name": "stdout",
     "output_type": "stream",
     "text": [
      "a) 0.9525774039285098\n"
     ]
    }
   ],
   "source": [
    "dist = poisson(0.8)\n",
    "PXE0 = dist.prob(0)\n",
    "PXE1 = dist.prob(1)\n",
    "PXE2 = dist.prob(2)\n",
    "PXL3 = PXE0 + PXE1 + PXE2\n",
    "print(\"a) \" + str(PXL3))"
   ]
  },
  {
   "cell_type": "code",
   "execution_count": 3,
   "id": "0ca8b584-8262-4ab5-b54b-bd9de9c23bc5",
   "metadata": {},
   "outputs": [
    {
     "name": "stdout",
     "output_type": "stream",
     "text": [
      "P(6 <= X <= 7) = 0.7449667411838129\n"
     ]
    }
   ],
   "source": [
    "dist = poisson(8)\n",
    "PXE6 = dist.prob(6)\n",
    "PXE7 = dist.prob(7)\n",
    "PXE8 = dist.prob(8)\n",
    "PXE9 = dist.prob(9)\n",
    "PXE10 = dist.prob(10)\n",
    "PXE11 = dist.prob(11)\n",
    "PXE12 = dist.prob(12)\n",
    "prob = PXE6 + PXE7 + PXE8 + PXE9 + PXE10 + PXE11 + PXE12\n",
    "print(\"P(6 <= X <= 7) = \" + str(prob))"
   ]
  },
  {
   "cell_type": "code",
   "execution_count": 4,
   "id": "4516f7f8-d9de-4371-a854-5d7d7b77c961",
   "metadata": {},
   "outputs": [],
   "source": [
    "from scipy.integrate import quad\n",
    "import math\n",
    "\n",
    "class normal:\n",
    "    def __init__(self, u, sigma):\n",
    "        self.u = u\n",
    "        self.sigma = sigma\n",
    "        self.root2pi = math.sqrt((2 * math.pi)) \n",
    "    \n",
    "    def normal_func(self, x):\n",
    "        return (1 / (self.sigma * self.root2pi)) * math.exp((-1 * pow((x - self.u), 2)) / (2 * pow(self.sigma, 2)))\n",
    "\n",
    "    def integrate(self, lower_limit, upper_limit):\n",
    "        result, error = quad(self.normal_func, lower_limit, upper_limit)\n",
    "        \n",
    "        return result\n",
    "\n",
    "    def locate(self, area):\n",
    "        fx = 0\n",
    "        x = -6\n",
    "        while fx < area:\n",
    "            fx = self.integrate(-6, x)\n",
    "            x = x + 0.00001\n",
    "            \n",
    "        return x"
   ]
  },
  {
   "cell_type": "code",
   "execution_count": 5,
   "id": "c7c92f9d-f0ab-4b88-8b83-f23d38b39b21",
   "metadata": {},
   "outputs": [
    {
     "name": "stdout",
     "output_type": "stream",
     "text": [
      "c) 0.19225231469013473\n"
     ]
    }
   ],
   "source": [
    "mean = 50 * 0.8\n",
    "std = math.sqrt(mean)\n",
    "dist = normal(mean, std)\n",
    "c = dist.integrate(45.5, 500)\n",
    "print(\"c) \" + str(c))"
   ]
  }
 ],
 "metadata": {
  "kernelspec": {
   "display_name": "Python 3 (ipykernel)",
   "language": "python",
   "name": "python3"
  },
  "language_info": {
   "codemirror_mode": {
    "name": "ipython",
    "version": 3
   },
   "file_extension": ".py",
   "mimetype": "text/x-python",
   "name": "python",
   "nbconvert_exporter": "python",
   "pygments_lexer": "ipython3",
   "version": "3.12.1"
  }
 },
 "nbformat": 4,
 "nbformat_minor": 5
}

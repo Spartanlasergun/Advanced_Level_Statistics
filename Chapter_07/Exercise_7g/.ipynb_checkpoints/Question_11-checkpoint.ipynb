{
 "cells": [
  {
   "cell_type": "markdown",
   "id": "c1fbd9f3-14bc-4647-82c2-81808c5af241",
   "metadata": {},
   "source": [
    "# Question 11\n",
    "-----"
   ]
  },
  {
   "cell_type": "code",
   "execution_count": 1,
   "id": "44496c25-81a8-49f0-a5dd-12c5e144c866",
   "metadata": {},
   "outputs": [],
   "source": [
    "import math\n",
    "\n",
    "class poisson:\n",
    "    def __init__(self, lamb):\n",
    "        self.lamb = lamb\n",
    "\n",
    "    def prob(self, x):\n",
    "        pois = math.exp(-self.lamb) * (pow(self.lamb, x) / math.factorial(x))\n",
    "        return pois\n",
    "\n",
    "    def freq(self, event, sample):\n",
    "        freq = self.prob(event) * sample \n",
    "        freq = round(freq, 0)\n",
    "        return freq"
   ]
  },
  {
   "cell_type": "code",
   "execution_count": 2,
   "id": "188552c0-fa91-4387-9a4d-23771345874e",
   "metadata": {},
   "outputs": [
    {
     "name": "stdout",
     "output_type": "stream",
     "text": [
      "a) 0.9274124463597236\n"
     ]
    }
   ],
   "source": [
    "dist = poisson(0.44)\n",
    "PXE0 = dist.prob(0)\n",
    "PXE1 = dist.prob(1)\n",
    "PXL2 = PXE0 + PXE1\n",
    "print(\"a) \" + str(PXL2))"
   ]
  },
  {
   "cell_type": "code",
   "execution_count": 3,
   "id": "0c71e60a-775d-4a60-977c-65b065bfc6ca",
   "metadata": {},
   "outputs": [
    {
     "name": "stdout",
     "output_type": "stream",
     "text": [
      "b) 0.010244828079428281\n"
     ]
    }
   ],
   "source": [
    "PXE2 = dist.prob(2)\n",
    "PXG2 = 1 - (PXE0 + PXE1 + PXE2)\n",
    "print(\"b) \" + str(PXG2))"
   ]
  },
  {
   "cell_type": "code",
   "execution_count": 4,
   "id": "1a85998f-a41d-4023-af9b-c9e9a0000e3c",
   "metadata": {},
   "outputs": [],
   "source": [
    "from scipy.integrate import quad\n",
    "import math\n",
    "\n",
    "class normal:\n",
    "    def __init__(self, u, sigma):\n",
    "        self.u = u\n",
    "        self.sigma = sigma\n",
    "        self.root2pi = math.sqrt((2 * math.pi)) \n",
    "    \n",
    "    def normal_func(self, x):\n",
    "        return (1 / (self.sigma * self.root2pi)) * math.exp((-1 * pow((x - self.u), 2)) / (2 * pow(self.sigma, 2)))\n",
    "\n",
    "    def integrate(self, lower_limit, upper_limit):\n",
    "        result, error = quad(self.normal_func, lower_limit, upper_limit)\n",
    "        \n",
    "        return result\n",
    "\n",
    "    def locate(self, area):\n",
    "        fx = 0\n",
    "        x = -6\n",
    "        while fx < area:\n",
    "            fx = self.integrate(-6, x)\n",
    "            x = x + 0.00001\n",
    "            \n",
    "        return x"
   ]
  },
  {
   "cell_type": "code",
   "execution_count": 5,
   "id": "132594b8-2ff8-41f8-97ef-e7c9f258394f",
   "metadata": {},
   "outputs": [
    {
     "name": "stdout",
     "output_type": "stream",
     "text": [
      "P(50X < 20) = 0.2970161702995208\n"
     ]
    }
   ],
   "source": [
    "mean = 50 * 0.44\n",
    "std = math.sqrt(mean)\n",
    "dist = normal(mean, std)\n",
    "prob = dist.integrate(-100, 19.5)\n",
    "print(\"P(50X < 20) = \" + str(prob)) "
   ]
  }
 ],
 "metadata": {
  "kernelspec": {
   "display_name": "Python 3 (ipykernel)",
   "language": "python",
   "name": "python3"
  },
  "language_info": {
   "codemirror_mode": {
    "name": "ipython",
    "version": 3
   },
   "file_extension": ".py",
   "mimetype": "text/x-python",
   "name": "python",
   "nbconvert_exporter": "python",
   "pygments_lexer": "ipython3",
   "version": "3.12.1"
  }
 },
 "nbformat": 4,
 "nbformat_minor": 5
}

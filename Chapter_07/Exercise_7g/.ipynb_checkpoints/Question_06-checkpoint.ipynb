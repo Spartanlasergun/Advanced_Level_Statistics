{
 "cells": [
  {
   "cell_type": "markdown",
   "id": "caa996e4-0cd1-4c5f-9e91-cbf6a8f4efd7",
   "metadata": {},
   "source": [
    "# Question 6\n",
    "-----"
   ]
  },
  {
   "cell_type": "code",
   "execution_count": 1,
   "id": "f0770cd7-9668-4d7f-be23-b4eff931361a",
   "metadata": {},
   "outputs": [],
   "source": [
    "from scipy.integrate import quad\n",
    "import math\n",
    "\n",
    "class normal:\n",
    "    def __init__(self, u, sigma):\n",
    "        self.u = u\n",
    "        self.sigma = sigma\n",
    "        self.root2pi = math.sqrt((2 * math.pi)) \n",
    "    \n",
    "    def normal_func(self, x):\n",
    "        return (1 / (self.sigma * self.root2pi)) * math.exp((-1 * pow((x - self.u), 2)) / (2 * pow(self.sigma, 2)))\n",
    "\n",
    "    def integrate(self, lower_limit, upper_limit):\n",
    "        result, error = quad(self.normal_func, lower_limit, upper_limit)\n",
    "        \n",
    "        return result\n",
    "\n",
    "    def locate(self, area):\n",
    "        fx = 0\n",
    "        x = -6\n",
    "        while fx < area:\n",
    "            fx = self.integrate(-6, x)\n",
    "            x = x + 0.00001\n",
    "            \n",
    "        return x"
   ]
  },
  {
   "cell_type": "code",
   "execution_count": 2,
   "id": "ffb1536e-d936-43dd-be60-276d4a306d77",
   "metadata": {},
   "outputs": [
    {
     "name": "stdout",
     "output_type": "stream",
     "text": [
      "P(55.5 < X < 74.5) = 0.6887547644554102\n"
     ]
    }
   ],
   "source": [
    "std = math.sqrt(60)\n",
    "dist = normal(60, std)\n",
    "prob = dist.integrate(55.5, 74.5)\n",
    "print(\"P(55.5 < X < 74.5) = \" + str(prob))"
   ]
  },
  {
   "cell_type": "code",
   "execution_count": 3,
   "id": "fa28ece5-f0fe-4d5f-a1b8-34aff0b7368e",
   "metadata": {},
   "outputs": [
    {
     "name": "stdout",
     "output_type": "stream",
     "text": [
      "P(X < 37.5) = 0.0018378060588706178\n",
      "rejected = 3.6756121177412355\n"
     ]
    }
   ],
   "source": [
    "prob = dist.integrate(-2000, 37.5)\n",
    "print(\"P(X < 37.5) = \" + str(prob))\n",
    "rejected = prob * 2000\n",
    "print(\"rejected = \" + str(rejected))"
   ]
  }
 ],
 "metadata": {
  "kernelspec": {
   "display_name": "Python 3 (ipykernel)",
   "language": "python",
   "name": "python3"
  },
  "language_info": {
   "codemirror_mode": {
    "name": "ipython",
    "version": 3
   },
   "file_extension": ".py",
   "mimetype": "text/x-python",
   "name": "python",
   "nbconvert_exporter": "python",
   "pygments_lexer": "ipython3",
   "version": "3.12.1"
  }
 },
 "nbformat": 4,
 "nbformat_minor": 5
}

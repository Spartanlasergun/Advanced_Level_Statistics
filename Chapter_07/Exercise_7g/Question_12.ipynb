{
 "cells": [
  {
   "cell_type": "markdown",
   "id": "b852e4e6-a3dc-4037-858f-7000de44ef77",
   "metadata": {},
   "source": [
    "# Question 12\n",
    "-----"
   ]
  },
  {
   "cell_type": "markdown",
   "id": "a6b83c72-54c5-4892-ab52-e528557dd00c",
   "metadata": {},
   "source": [
    "a) random distibution of weevils, and $\\lambda > 15$"
   ]
  },
  {
   "cell_type": "code",
   "execution_count": 1,
   "id": "524b7748-b6bc-43ef-afbe-11f910cd3e40",
   "metadata": {},
   "outputs": [],
   "source": [
    "import math\n",
    "\n",
    "class poisson:\n",
    "    def __init__(self, lamb):\n",
    "        self.lamb = lamb\n",
    "\n",
    "    def prob(self, x):\n",
    "        pois = math.exp(-self.lamb) * (pow(self.lamb, x) / math.factorial(x))\n",
    "        return pois\n",
    "\n",
    "    def freq(self, event, sample):\n",
    "        freq = self.prob(event) * sample \n",
    "        freq = round(freq, 0)\n",
    "        return freq"
   ]
  },
  {
   "cell_type": "code",
   "execution_count": 2,
   "id": "b2551100-7821-4414-99ae-6a96caf01b9e",
   "metadata": {},
   "outputs": [
    {
     "name": "stdout",
     "output_type": "stream",
     "text": [
      "a) 0.950212931632136\n"
     ]
    }
   ],
   "source": [
    "dist = poisson(3)\n",
    "PXE0 = dist.prob(0)\n",
    "PXGE1 = 1 - PXE0\n",
    "print(\"a) \" + str(PXGE1))"
   ]
  },
  {
   "cell_type": "code",
   "execution_count": 3,
   "id": "838c45fa-1f9b-43df-9cbb-63925dfcee9f",
   "metadata": {},
   "outputs": [
    {
     "name": "stdout",
     "output_type": "stream",
     "text": [
      "b) 0.10483725588365932\n"
     ]
    }
   ],
   "source": [
    "dist = poisson(12)\n",
    "PXE10 = dist.prob(10)\n",
    "print(\"b) \" + str(PXE10))"
   ]
  },
  {
   "cell_type": "code",
   "execution_count": 4,
   "id": "6f9970b5-c964-4e1c-8f3a-b313429985d5",
   "metadata": {},
   "outputs": [],
   "source": [
    "from scipy.integrate import quad\n",
    "import math\n",
    "\n",
    "class normal:\n",
    "    def __init__(self, u, sigma):\n",
    "        self.u = u\n",
    "        self.sigma = sigma\n",
    "        self.root2pi = math.sqrt((2 * math.pi)) \n",
    "    \n",
    "    def normal_func(self, x):\n",
    "        return (1 / (self.sigma * self.root2pi)) * math.exp((-1 * pow((x - self.u), 2)) / (2 * pow(self.sigma, 2)))\n",
    "\n",
    "    def integrate(self, lower_limit, upper_limit):\n",
    "        result, error = quad(self.normal_func, lower_limit, upper_limit)\n",
    "        \n",
    "        return result\n",
    "\n",
    "    def locate(self, area):\n",
    "        fx = 0\n",
    "        x = -6\n",
    "        while fx < area:\n",
    "            fx = self.integrate(-6, x)\n",
    "            x = x + 0.00001\n",
    "            \n",
    "        return x"
   ]
  },
  {
   "cell_type": "code",
   "execution_count": 5,
   "id": "a2674776-880d-433f-b311-09e9ac2ded4a",
   "metadata": {},
   "outputs": [
    {
     "name": "stdout",
     "output_type": "stream",
     "text": [
      "c) 0.15765122604087278\n"
     ]
    }
   ],
   "source": [
    "mean = 10 * 3\n",
    "std = math.sqrt(mean)\n",
    "dist = normal(mean, std)\n",
    "c = dist.integrate(-100, 24.5)\n",
    "print(\"c) \" + str(c))"
   ]
  }
 ],
 "metadata": {
  "kernelspec": {
   "display_name": "Python 3 (ipykernel)",
   "language": "python",
   "name": "python3"
  },
  "language_info": {
   "codemirror_mode": {
    "name": "ipython",
    "version": 3
   },
   "file_extension": ".py",
   "mimetype": "text/x-python",
   "name": "python",
   "nbconvert_exporter": "python",
   "pygments_lexer": "ipython3",
   "version": "3.12.1"
  }
 },
 "nbformat": 4,
 "nbformat_minor": 5
}

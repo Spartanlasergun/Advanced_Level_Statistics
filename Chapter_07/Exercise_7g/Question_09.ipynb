{
 "cells": [
  {
   "cell_type": "markdown",
   "id": "8436f851-9f38-454a-9c13-6eca8fda252c",
   "metadata": {},
   "source": [
    "# Question 9\n",
    "-----"
   ]
  },
  {
   "cell_type": "code",
   "execution_count": 1,
   "id": "c908b3ae-2049-4671-93d3-becd1f8f83f9",
   "metadata": {},
   "outputs": [],
   "source": [
    "from scipy.integrate import quad\n",
    "import math\n",
    "\n",
    "class normal:\n",
    "    def __init__(self, u, sigma):\n",
    "        self.u = u\n",
    "        self.sigma = sigma\n",
    "        self.root2pi = math.sqrt((2 * math.pi)) \n",
    "    \n",
    "    def normal_func(self, x):\n",
    "        return (1 / (self.sigma * self.root2pi)) * math.exp((-1 * pow((x - self.u), 2)) / (2 * pow(self.sigma, 2)))\n",
    "\n",
    "    def integrate(self, lower_limit, upper_limit):\n",
    "        result, error = quad(self.normal_func, lower_limit, upper_limit)\n",
    "        \n",
    "        return result\n",
    "\n",
    "    def locate(self, area):\n",
    "        fx = 0\n",
    "        x = -6\n",
    "        while fx < area:\n",
    "            fx = self.integrate(-6, x)\n",
    "            x = x + 0.00001\n",
    "            \n",
    "        return x"
   ]
  },
  {
   "cell_type": "code",
   "execution_count": 2,
   "id": "4a982138-359f-4052-a863-8e252626df3e",
   "metadata": {},
   "outputs": [
    {
     "name": "stdout",
     "output_type": "stream",
     "text": [
      "i) 0.9815091034135026\n"
     ]
    }
   ],
   "source": [
    "mean = 200\n",
    "std = math.sqrt(mean)\n",
    "dist = normal(mean, std)\n",
    "a = dist.integrate(170.5, 1000)\n",
    "print(\"i) \" + str(a))"
   ]
  },
  {
   "cell_type": "code",
   "execution_count": 3,
   "id": "7e024334-c5e4-4f42-b1f2-6b83846f082e",
   "metadata": {},
   "outputs": [
    {
     "name": "stdout",
     "output_type": "stream",
     "text": [
      "ii) 0.3486718321124797\n"
     ]
    }
   ],
   "source": [
    "b = dist.integrate(205.5, 1000)\n",
    "print(\"ii) \" + str(b))"
   ]
  },
  {
   "cell_type": "code",
   "execution_count": 4,
   "id": "206e5052-4f68-4b72-a38b-2f5bc40ac406",
   "metadata": {},
   "outputs": [
    {
     "name": "stdout",
     "output_type": "stream",
     "text": [
      "iii) 0.9243175363230861\n"
     ]
    }
   ],
   "source": [
    "c = dist.integrate(179.5, 240.5)\n",
    "print(\"iii) \" + str(c))"
   ]
  },
  {
   "cell_type": "code",
   "execution_count": 5,
   "id": "04f11901-d005-49d4-a3ba-22ea4cd28693",
   "metadata": {},
   "outputs": [
    {
     "name": "stdout",
     "output_type": "stream",
     "text": [
      "b) 0.009440520078049406\n"
     ]
    }
   ],
   "source": [
    "EX = 200 * 0.1\n",
    "std = math.sqrt(EX)\n",
    "dist = normal(EX, std)\n",
    "b = dist.integrate(30.5, 200)\n",
    "print(\"b) \" + str(b))"
   ]
  }
 ],
 "metadata": {
  "kernelspec": {
   "display_name": "Python 3 (ipykernel)",
   "language": "python",
   "name": "python3"
  },
  "language_info": {
   "codemirror_mode": {
    "name": "ipython",
    "version": 3
   },
   "file_extension": ".py",
   "mimetype": "text/x-python",
   "name": "python",
   "nbconvert_exporter": "python",
   "pygments_lexer": "ipython3",
   "version": "3.12.1"
  }
 },
 "nbformat": 4,
 "nbformat_minor": 5
}
